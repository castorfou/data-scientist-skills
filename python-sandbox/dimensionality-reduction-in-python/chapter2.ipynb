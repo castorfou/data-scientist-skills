{
 "cells": [
  {
   "cell_type": "markdown",
   "metadata": {},
   "source": [
    "# The curse of dimensionality\n"
   ]
  },
  {
   "cell_type": "markdown",
   "metadata": {},
   "source": [
    "## Train - test split\n",
    "In this chapter, you will keep working with the ANSUR dataset. Before you can build a model on your dataset, you should first decide on which feature you want to predict. In this case, you're trying to predict gender.\n",
    "\n",
    "You need to extract the column holding this feature from the dataset and then split the data into a training and test set. The training set will be used to train the model and the test set will be used to check its performance on unseen data.\n",
    "\n",
    "ansur_df has been pre-loaded for you."
   ]
  },
  {
   "cell_type": "markdown",
   "metadata": {},
   "source": [
    "### init: 1 dataframe"
   ]
  },
  {
   "cell_type": "code",
   "execution_count": 1,
   "metadata": {
    "ExecuteTime": {
     "end_time": "2019-12-02T10:22:30.769928Z",
     "start_time": "2019-12-02T10:22:27.626881Z"
    }
   },
   "outputs": [
    {
     "name": "stdout",
     "output_type": "stream",
     "text": [
      "{pandas.core.frame.DataFrame: {\"ansur_df.csv\": \"https://file.io/6Ke8D3\"}}\n",
      "{'pandas.core.frame.DataFrame': {'ansur_df.csv': 'https://file.io/6Ke8D3'}}\n",
      "  % Total    % Received % Xferd  Average Speed   Time    Time     Time  Current\n",
      "                                 Dload  Upload   Total   Spent    Left  Speed\n",
      "\n",
      "  0     0    0     0    0     0      0      0 --:--:-- --:--:-- --:--:--     0\n",
      "  0     0    0     0    0     0      0      0 --:--:--  0:00:01 --:--:--     0\n",
      "100 15360    0 15360    0     0   6947      0 --:--:--  0:00:02 --:--:--  6950\n",
      "100  372k    0  372k    0     0   158k      0 --:--:--  0:00:02 --:--:--  159k\n"
     ]
    }
   ],
   "source": [
    "from uploadfromdatacamp import saveFromFileIO\n",
    "\n",
    "#uploadToFileIO(ansur_df)\n",
    "tobedownloaded=\"{pandas.core.frame.DataFrame: {'ansur_df.csv': 'https://file.io/6Ke8D3'}}\"\n",
    "prefix='data_from_datacamp/Chap211_'\n",
    "#saveFromFileIO(tobedownloaded, prefix=prefix, proxy=\"10.225.92.1:80\")"
   ]
  },
  {
   "cell_type": "code",
   "execution_count": 2,
   "metadata": {
    "ExecuteTime": {
     "end_time": "2019-12-02T10:22:49.970447Z",
     "start_time": "2019-12-02T10:22:49.940839Z"
    }
   },
   "outputs": [],
   "source": [
    "import pandas as pd\n",
    "ansur_df=pd.read_csv(prefix+'ansur_df.csv',index_col=0)"
   ]
  },
  {
   "cell_type": "markdown",
   "metadata": {},
   "source": [
    "### code"
   ]
  },
  {
   "cell_type": "markdown",
   "metadata": {},
   "source": [
    "- Import the train_test_split function from sklearn.model_selection.\n",
    "- Assign the 'Gender' column to y.\n",
    "- Remove the 'Gender' column from the dataframe and assign the result to X.\n",
    "- Set the test size to 30% to perform a 70% train and 30% test data split."
   ]
  },
  {
   "cell_type": "code",
   "execution_count": 3,
   "metadata": {
    "ExecuteTime": {
     "end_time": "2019-12-02T10:23:30.922243Z",
     "start_time": "2019-12-02T10:23:29.993226Z"
    }
   },
   "outputs": [
    {
     "name": "stdout",
     "output_type": "stream",
     "text": [
      "300 rows in test set vs. 700 in training set. 91 Features.\n"
     ]
    }
   ],
   "source": [
    "# Import train_test_split()\n",
    "from sklearn.model_selection import train_test_split\n",
    "\n",
    "# Select the Gender column as the feature to be predicted (y)\n",
    "y = ansur_df['Gender']\n",
    "\n",
    "# Remove the Gender column to create the training data\n",
    "X = ansur_df.drop('Gender', axis=1)\n",
    "\n",
    "# Perform a 70% train and 30% test data split\n",
    "X_train, X_test, y_train, y_test = train_test_split(X, y, test_size=0.3)\n",
    "\n",
    "print(\"{} rows in test set vs. {} in training set. {} Features.\".format(X_test.shape[0], X_train.shape[0], X_test.shape[1]))"
   ]
  },
  {
   "cell_type": "markdown",
   "metadata": {},
   "source": [
    "## Fitting and testing the model\n",
    "In the previous exercise, you split the dataset into X_train, X_test, y_train, and y_test. These datasets have been pre-loaded for you. You'll now create a support vector machine classifier model (SVC()) and fit that to the training data. You'll then calculate the accuracy on both the test and training set to detect overfitting."
   ]
  },
  {
   "cell_type": "markdown",
   "metadata": {},
   "source": [
    "### init: 2 dataframes, 2 series"
   ]
  },
  {
   "cell_type": "code",
   "execution_count": 4,
   "metadata": {
    "ExecuteTime": {
     "end_time": "2019-12-02T10:26:03.601952Z",
     "start_time": "2019-12-02T10:25:59.497377Z"
    }
   },
   "outputs": [
    {
     "name": "stdout",
     "output_type": "stream",
     "text": [
      "{pandas.core.frame.DataFrame: {\"X_test.csv\": \"https://file.io/zMPkDH\",  \"X_train.csv\": \"https://file.io/iD4GwV\"}, pandas.core.series.Series: {\"y_test.csv\": \"https://file.io/l7A9yR\",  \"y_train.csv\": \"https://file.io/hv3h75\"}}\n",
      "{'pandas.core.frame.DataFrame': {'X_test.csv': 'https://file.io/zMPkDH', 'X_train.csv': 'https://file.io/iD4GwV'}, 'pandas.core.series.Series': {'y_test.csv': 'https://file.io/l7A9yR', 'y_train.csv': 'https://file.io/hv3h75'}}\n",
      "  % Total    % Received % Xferd  Average Speed   Time    Time     Time  Current\n",
      "                                 Dload  Upload   Total   Spent    Left  Speed\n",
      "\n",
      "  0     0    0     0    0     0      0      0 --:--:-- --:--:-- --:--:--     0\n",
      "  0     0    0     0    0     0      0      0 --:--:--  0:00:01 --:--:--     0\n",
      "100  111k    0  111k    0     0  92541      0 --:--:--  0:00:01 --:--:-- 92616\n",
      "  % Total    % Received % Xferd  Average Speed   Time    Time     Time  Current\n",
      "                                 Dload  Upload   Total   Spent    Left  Speed\n",
      "\n",
      "  0     0    0     0    0     0      0      0 --:--:-- --:--:-- --:--:--     0\n",
      "  0     0    0     0    0     0      0      0 --:--:-- --:--:-- --:--:--     0\n",
      "100  256k    0  256k    0     0   384k      0 --:--:-- --:--:-- --:--:--  384k\n",
      "  % Total    % Received % Xferd  Average Speed   Time    Time     Time  Current\n",
      "                                 Dload  Upload   Total   Spent    Left  Speed\n",
      "\n",
      "  0     0    0     0    0     0      0      0 --:--:-- --:--:-- --:--:--     0\n",
      "  0     0    0     0    0     0      0      0 --:--:-- --:--:-- --:--:--     0\n",
      "100  2967    0  2967    0     0   5232      0 --:--:-- --:--:-- --:--:--  5232\n",
      "  % Total    % Received % Xferd  Average Speed   Time    Time     Time  Current\n",
      "                                 Dload  Upload   Total   Spent    Left  Speed\n",
      "\n",
      "  0     0    0     0    0     0      0      0 --:--:-- --:--:-- --:--:--     0\n",
      "  0     0    0     0    0     0      0      0 --:--:-- --:--:-- --:--:--     0\n",
      "100  6923    0  6923    0     0  10256      0 --:--:-- --:--:-- --:--:-- 10256\n"
     ]
    }
   ],
   "source": [
    "from uploadfromdatacamp import saveFromFileIO\n",
    "\n",
    "#uploadToFileIO(X_train, X_test, y_train,  y_test)\n",
    "tobedownloaded=\"{pandas.core.frame.DataFrame: {'X_test.csv': 'https://file.io/zMPkDH',  'X_train.csv': 'https://file.io/iD4GwV'}, pandas.core.series.Series: {'y_test.csv': 'https://file.io/l7A9yR',  'y_train.csv': 'https://file.io/hv3h75'}}\"\n",
    "prefix='data_from_datacamp/Chap212_'\n",
    "#saveFromFileIO(tobedownloaded, prefix=prefix, proxy=\"10.225.92.1:80\")"
   ]
  },
  {
   "cell_type": "code",
   "execution_count": 5,
   "metadata": {
    "ExecuteTime": {
     "end_time": "2019-12-02T10:27:57.068787Z",
     "start_time": "2019-12-02T10:27:57.028677Z"
    }
   },
   "outputs": [],
   "source": [
    "import pandas as pd\n",
    "X_train=pd.read_csv(prefix+'X_train.csv',index_col=0)\n",
    "X_test=pd.read_csv(prefix+'X_test.csv',index_col=0)\n",
    "y_train=pd.read_csv(prefix+'y_train.csv',index_col=0, header=None,squeeze=True)\n",
    "y_test=pd.read_csv(prefix+'y_test.csv',index_col=0, header=None,squeeze=True)"
   ]
  },
  {
   "cell_type": "markdown",
   "metadata": {},
   "source": [
    "### code"
   ]
  },
  {
   "cell_type": "code",
   "execution_count": 6,
   "metadata": {
    "ExecuteTime": {
     "end_time": "2019-12-02T10:28:20.158106Z",
     "start_time": "2019-12-02T10:28:19.878253Z"
    }
   },
   "outputs": [
    {
     "name": "stdout",
     "output_type": "stream",
     "text": [
      "49.7% accuracy on test set vs. 100.0% on training set\n"
     ]
    }
   ],
   "source": [
    "# Import SVC from sklearn.svm and accuracy_score from sklearn.metrics\n",
    "from sklearn.svm import SVC\n",
    "from sklearn.metrics import accuracy_score\n",
    "\n",
    "# Create an instance of the Support Vector Classification class\n",
    "svc = SVC(gamma='auto')\n",
    "\n",
    "# Fit the model to the training data\n",
    "svc.fit(X_train, y_train)\n",
    "\n",
    "# Calculate accuracy scores on both train and test data\n",
    "accuracy_train = accuracy_score(y_train, svc.predict(X_train))\n",
    "accuracy_test = accuracy_score(y_test, svc.predict(X_test))\n",
    "\n",
    "print(\"{0:.1%} accuracy on test set vs. {1:.1%} on training set\".format(accuracy_test, accuracy_train))"
   ]
  },
  {
   "attachments": {},
   "cell_type": "markdown",
   "metadata": {},
   "source": [
    "## Accuracy after dimensionality reduction\n",
    "You'll reduce the overfit with the help of dimensionality reduction. In this case, you'll apply a rather drastic form of dimensionality reduction by only selecting a single column that has some good information to distinguish between genders. You'll repeat the train-test split, model fit and prediction steps to compare the accuracy on test vs. training data.\n",
    "\n",
    "All relevant packages and y have been pre-loaded."
   ]
  },
  {
   "cell_type": "markdown",
   "metadata": {},
   "source": [
    "### init: 1 dataframe, 1 serie"
   ]
  },
  {
   "cell_type": "code",
   "execution_count": 8,
   "metadata": {
    "ExecuteTime": {
     "end_time": "2019-12-02T10:31:04.387873Z",
     "start_time": "2019-12-02T10:31:02.394138Z"
    }
   },
   "outputs": [
    {
     "name": "stdout",
     "output_type": "stream",
     "text": [
      "{pandas.core.frame.DataFrame: {\"ansur_df.csv\": \"https://file.io/n0HzG8\"}, pandas.core.series.Series: {\"y.csv\": \"https://file.io/7GzVgh\"}}\n",
      "{'pandas.core.frame.DataFrame': {'ansur_df.csv': 'https://file.io/n0HzG8'}, 'pandas.core.series.Series': {'y.csv': 'https://file.io/7GzVgh'}}\n",
      "  % Total    % Received % Xferd  Average Speed   Time    Time     Time  Current\n",
      "                                 Dload  Upload   Total   Spent    Left  Speed\n",
      "\n",
      "  0     0    0     0    0     0      0      0 --:--:-- --:--:-- --:--:--     0\n",
      "  0     0    0     0    0     0      0      0 --:--:--  0:00:01 --:--:--     0\n",
      "100  372k    0  372k    0     0   283k      0 --:--:--  0:00:01 --:--:--  283k\n",
      "  % Total    % Received % Xferd  Average Speed   Time    Time     Time  Current\n",
      "                                 Dload  Upload   Total   Spent    Left  Speed\n",
      "\n",
      "  0     0    0     0    0     0      0      0 --:--:-- --:--:-- --:--:--     0\n",
      "  0     0    0     0    0     0      0      0 --:--:-- --:--:-- --:--:--     0\n",
      "100  9890    0  9890    0     0  35321      0 --:--:-- --:--:-- --:--:-- 35321\n"
     ]
    }
   ],
   "source": [
    "from uploadfromdatacamp import saveFromFileIO\n",
    "\n",
    "#uploadToFileIO(ansur_df,y)\n",
    "tobedownloaded=\"{pandas.core.frame.DataFrame: {'ansur_df.csv': 'https://file.io/n0HzG8'}, pandas.core.series.Series: {'y.csv': 'https://file.io/7GzVgh'}}\"\n",
    "prefix='data_from_datacamp/Chap213_'\n",
    "#saveFromFileIO(tobedownloaded, prefix=prefix, proxy=\"10.225.92.1:80\")"
   ]
  },
  {
   "cell_type": "code",
   "execution_count": 9,
   "metadata": {
    "ExecuteTime": {
     "end_time": "2019-12-02T10:31:37.484653Z",
     "start_time": "2019-12-02T10:31:37.462109Z"
    }
   },
   "outputs": [],
   "source": [
    "import pandas as pd\n",
    "ansur_df=pd.read_csv(prefix+'ansur_df.csv',index_col=0)\n",
    "y=pd.read_csv(prefix+'y.csv',index_col=0, header=None,squeeze=True)\n"
   ]
  },
  {
   "cell_type": "markdown",
   "metadata": {},
   "source": [
    "### code"
   ]
  },
  {
   "cell_type": "code",
   "execution_count": 10,
   "metadata": {
    "ExecuteTime": {
     "end_time": "2019-12-02T10:31:52.081637Z",
     "start_time": "2019-12-02T10:31:52.063086Z"
    }
   },
   "outputs": [
    {
     "name": "stdout",
     "output_type": "stream",
     "text": [
      "95.0% accuracy on test set vs. 93.4% on training set\n"
     ]
    }
   ],
   "source": [
    "# Assign just the 'neckcircumferencebase' column from ansur_df to X\n",
    "X = ansur_df[['neckcircumferencebase']]\n",
    "\n",
    "# Split the data, instantiate a classifier and fit the data\n",
    "X_train, X_test, y_train, y_test = train_test_split(X, y, test_size=0.3)\n",
    "svc = SVC(gamma='scale')\n",
    "svc.fit(X_train, y_train)\n",
    "\n",
    "# Calculate accuracy scores on both train and test data\n",
    "accuracy_train = accuracy_score(y_train, svc.predict(X_train))\n",
    "accuracy_test = accuracy_score(y_test, svc.predict(X_test))\n",
    "\n",
    "print(\"{0:.1%} accuracy on test set vs. {1:.1%} on training set\".format(accuracy_test, accuracy_train))"
   ]
  },
  {
   "attachments": {
    "image.png": {
     "image/png": "[encoded data removed]"
    }
   },
   "cell_type": "markdown",
   "metadata": {},
   "source": [
    "![image.png](attachment:image.png)"
   ]
  },
  {
   "cell_type": "markdown",
   "metadata": {},
   "source": [
    "# Features with missing values or little variance\n"
   ]
  },
  {
   "cell_type": "markdown",
   "metadata": {},
   "source": [
    "## Finding a good variance threshold\n",
    "You'll be working on a slightly modified subsample of the ANSUR dataset with just head measurements pre-loaded as head_df."
   ]
  },
  {
   "cell_type": "markdown",
   "metadata": {},
   "source": [
    "### init:  1 dataframe, plt"
   ]
  },
  {
   "cell_type": "code",
   "execution_count": 11,
   "metadata": {
    "ExecuteTime": {
     "end_time": "2019-12-02T10:33:50.252022Z",
     "start_time": "2019-12-02T10:33:48.277621Z"
    }
   },
   "outputs": [
    {
     "name": "stdout",
     "output_type": "stream",
     "text": [
      "{pandas.core.frame.DataFrame: {\"head_df.csv\": \"https://file.io/HAjSub\"}}\n",
      "{'pandas.core.frame.DataFrame': {'head_df.csv': 'https://file.io/HAjSub'}}\n",
      "  % Total    % Received % Xferd  Average Speed   Time    Time     Time  Current\n",
      "                                 Dload  Upload   Total   Spent    Left  Speed\n",
      "\n",
      "  0     0    0     0    0     0      0      0 --:--:-- --:--:-- --:--:--     0\n",
      "  0     0    0     0    0     0      0      0 --:--:--  0:00:01 --:--:--     0\n",
      "100  255k    0  255k    0     0   153k      0 --:--:--  0:00:01 --:--:--  153k\n"
     ]
    }
   ],
   "source": [
    "from uploadfromdatacamp import saveFromFileIO\n",
    "\n",
    "#uploadToFileIO(head_df)\n",
    "tobedownloaded=\"{pandas.core.frame.DataFrame: {'head_df.csv': 'https://file.io/HAjSub'}}\"\n",
    "prefix='data_from_datacamp/Chap221_'\n",
    "#saveFromFileIO(tobedownloaded, prefix=prefix, proxy=\"10.225.92.1:80\")"
   ]
  },
  {
   "cell_type": "code",
   "execution_count": 12,
   "metadata": {
    "ExecuteTime": {
     "end_time": "2019-12-02T10:34:17.430062Z",
     "start_time": "2019-12-02T10:34:17.416025Z"
    }
   },
   "outputs": [],
   "source": [
    "import pandas as pd\n",
    "head_df=pd.read_csv(prefix+'head_df.csv',index_col=0)"
   ]
  },
  {
   "cell_type": "code",
   "execution_count": 14,
   "metadata": {
    "ExecuteTime": {
     "end_time": "2019-12-02T10:35:05.403216Z",
     "start_time": "2019-12-02T10:35:05.399207Z"
    }
   },
   "outputs": [],
   "source": [
    "import matplotlib.pyplot as plt"
   ]
  },
  {
   "cell_type": "markdown",
   "metadata": {},
   "source": [
    "### code"
   ]
  },
  {
   "cell_type": "markdown",
   "metadata": {},
   "source": [
    "Create a boxplot on head_df.\n"
   ]
  },
  {
   "cell_type": "code",
   "execution_count": 15,
   "metadata": {
    "ExecuteTime": {
     "end_time": "2019-12-02T10:35:07.970707Z",
     "start_time": "2019-12-02T10:35:07.786131Z"
    }
   },
   "outputs": [
    {
     "data": {
      "image/png": "[encoded data removed]",
      "text/plain": [
       "<Figure size 432x288 with 1 Axes>"
      ]
     },
     "metadata": {
      "needs_background": "light"
     },
     "output_type": "display_data"
    }
   ],
   "source": [
    "# Create the boxplot\n",
    "head_df.boxplot()\n",
    "\n",
    "plt.show()"
   ]
  },
  {
   "cell_type": "markdown",
   "metadata": {},
   "source": [
    "Normalize the data by dividing the dataframe with its mean values.\n"
   ]
  },
  {
   "cell_type": "code",
   "execution_count": 17,
   "metadata": {
    "ExecuteTime": {
     "end_time": "2019-12-02T10:35:59.440550Z",
     "start_time": "2019-12-02T10:35:59.225969Z"
    }
   },
   "outputs": [
    {
     "data": {
      "image/png": "[encoded data removed]",
      "text/plain": [
       "<Figure size 432x288 with 1 Axes>"
      ]
     },
     "metadata": {
      "needs_background": "light"
     },
     "output_type": "display_data"
    }
   ],
   "source": [
    "# Normalize the data\n",
    "normalized_df = head_df / head_df.mean()\n",
    "\n",
    "normalized_df.boxplot()\n",
    "plt.show()"
   ]
  },
  {
   "cell_type": "markdown",
   "metadata": {},
   "source": [
    "Print the variances of the normalized data.\n"
   ]
  },
  {
   "cell_type": "code",
   "execution_count": 18,
   "metadata": {
    "ExecuteTime": {
     "end_time": "2019-12-02T10:36:35.909344Z",
     "start_time": "2019-12-02T10:36:35.900322Z"
    }
   },
   "outputs": [
    {
     "name": "stdout",
     "output_type": "stream",
     "text": [
      "headbreadth          1.678952e-03\n",
      "headcircumference    1.029623e-03\n",
      "headlength           1.867872e-03\n",
      "tragiontopofhead     2.639840e-03\n",
      "n_hairs              1.002552e-08\n",
      "measurement_error    3.231707e-27\n",
      "dtype: float64\n"
     ]
    }
   ],
   "source": [
    "# Normalize the data\n",
    "normalized_df = head_df / head_df.mean()\n",
    "\n",
    "# Print the variances of the normalized data\n",
    "print(normalized_df.var())"
   ]
  },
  {
   "attachments": {
    "image.png": {
     "image/png": "[encoded data removed]"
    }
   },
   "cell_type": "markdown",
   "metadata": {},
   "source": [
    "![image.png](attachment:image.png)"
   ]
  },
  {
   "cell_type": "markdown",
   "metadata": {},
   "source": [
    "## Features with low variance\n",
    "In the previous exercise you established that 0.001 is a good threshold to filter out low variance features in head_df after normalization. Now use the VarianceThreshold feature selector to remove these features."
   ]
  },
  {
   "cell_type": "markdown",
   "metadata": {},
   "source": [
    "### code"
   ]
  },
  {
   "cell_type": "code",
   "execution_count": 19,
   "metadata": {
    "ExecuteTime": {
     "end_time": "2019-12-02T10:38:14.479006Z",
     "start_time": "2019-12-02T10:38:14.389973Z"
    }
   },
   "outputs": [
    {
     "name": "stdout",
     "output_type": "stream",
     "text": [
      "Dimensionality reduced from 6 to 4.\n"
     ]
    }
   ],
   "source": [
    "from sklearn.feature_selection import VarianceThreshold\n",
    "\n",
    "# Create a VarianceThreshold feature selector\n",
    "sel = VarianceThreshold(threshold=0.001)\n",
    "\n",
    "# Fit the selector to normalized head_df\n",
    "sel.fit(head_df / head_df.mean())\n",
    "\n",
    "# Create a boolean mask\n",
    "mask = sel.get_support()\n",
    "\n",
    "# Apply the mask to create a reduced dataframe\n",
    "reduced_df = head_df.loc[:, mask]\n",
    "\n",
    "print(\"Dimensionality reduced from {} to {}.\".format(head_df.shape[1], reduced_df.shape[1]))"
   ]
  },
  {
   "cell_type": "code",
   "execution_count": 20,
   "metadata": {
    "ExecuteTime": {
     "end_time": "2019-12-02T10:39:41.452438Z",
     "start_time": "2019-12-02T10:39:41.449966Z"
    }
   },
   "outputs": [],
   "source": [
    "#export\n",
    "#Create a boolean mask from the selector using .get_support().\n",
    "#Create a reduced dataframe by passing the mask to the .loc[] method."
   ]
  },
  {
   "cell_type": "markdown",
   "metadata": {},
   "source": [
    "## Removing features with many missing values\n",
    "You'll apply feature selection on the Boston Public Schools dataset which has been pre-loaded as school_df. Calculate the missing value ratio per feature and then create a mask to remove features with many missing values."
   ]
  },
  {
   "cell_type": "markdown",
   "metadata": {},
   "source": [
    "### init: 1 dataframe"
   ]
  },
  {
   "cell_type": "code",
   "execution_count": 21,
   "metadata": {
    "ExecuteTime": {
     "end_time": "2019-12-02T10:41:14.276703Z",
     "start_time": "2019-12-02T10:41:13.039082Z"
    }
   },
   "outputs": [
    {
     "name": "stdout",
     "output_type": "stream",
     "text": [
      "{pandas.core.frame.DataFrame: {\"school_df.csv\": \"https://file.io/EBVGeJ\"}}\n",
      "{'pandas.core.frame.DataFrame': {'school_df.csv': 'https://file.io/EBVGeJ'}}\n",
      "  % Total    % Received % Xferd  Average Speed   Time    Time     Time  Current\n",
      "                                 Dload  Upload   Total   Spent    Left  Speed\n",
      "\n",
      "  0     0    0     0    0     0      0      0 --:--:-- --:--:-- --:--:--     0\n",
      "  0     0    0     0    0     0      0      0 --:--:-- --:--:-- --:--:--     0\n",
      "100 24759    0 24759    0     0  24202      0 --:--:--  0:00:01 --:--:-- 24226\n"
     ]
    }
   ],
   "source": [
    "from uploadfromdatacamp import saveFromFileIO\n",
    "\n",
    "#uploadToFileIO(school_df)\n",
    "tobedownloaded=\"{pandas.core.frame.DataFrame: {'school_df.csv': 'https://file.io/EBVGeJ'}}\"\n",
    "prefix='data_from_datacamp/Chap223_'\n",
    "#saveFromFileIO(tobedownloaded, prefix=prefix, proxy=\"10.225.92.1:80\")"
   ]
  },
  {
   "cell_type": "code",
   "execution_count": 22,
   "metadata": {
    "ExecuteTime": {
     "end_time": "2019-12-02T10:41:34.433951Z",
     "start_time": "2019-12-02T10:41:34.425899Z"
    }
   },
   "outputs": [],
   "source": [
    "import pandas as pd\n",
    "school_df=pd.read_csv(prefix+'school_df.csv',index_col=0)"
   ]
  },
  {
   "cell_type": "markdown",
   "metadata": {},
   "source": [
    "### code"
   ]
  },
  {
   "cell_type": "markdown",
   "metadata": {},
   "source": [
    "Question\n",
    "- In what range lies highest ratio of missing values for a single feature in the dataset?"
   ]
  },
  {
   "cell_type": "code",
   "execution_count": 24,
   "metadata": {
    "ExecuteTime": {
     "end_time": "2019-12-02T10:43:27.574705Z",
     "start_time": "2019-12-02T10:43:27.566720Z"
    }
   },
   "outputs": [
    {
     "data": {
      "text/plain": [
       "x             0.000000\n",
       "y             0.000000\n",
       "objectid_1    0.000000\n",
       "objectid      0.000000\n",
       "bldg_id       0.000000\n",
       "bldg_name     0.000000\n",
       "address       0.000000\n",
       "city          0.000000\n",
       "zipcode       0.000000\n",
       "csp_sch_id    0.000000\n",
       "sch_id        0.000000\n",
       "sch_name      0.000000\n",
       "sch_label     0.000000\n",
       "sch_type      0.000000\n",
       "shared        0.877863\n",
       "complex       0.984733\n",
       "label         0.000000\n",
       "tlt           0.000000\n",
       "pl            0.000000\n",
       "point_x       0.000000\n",
       "point_y       0.000000\n",
       "dtype: float64"
      ]
     },
     "execution_count": 24,
     "metadata": {},
     "output_type": "execute_result"
    }
   ],
   "source": [
    "school_df.isna().sum()/len(school_df)"
   ]
  },
  {
   "cell_type": "markdown",
   "metadata": {},
   "source": [
    "- Create a boolean mask on whether each feature has less than 50% missing values.\n",
    "- Apply the mask to school_df to select columns without many missing values."
   ]
  },
  {
   "cell_type": "code",
   "execution_count": 25,
   "metadata": {
    "ExecuteTime": {
     "end_time": "2019-12-02T10:44:38.702492Z",
     "start_time": "2019-12-02T10:44:38.696474Z"
    }
   },
   "outputs": [
    {
     "name": "stdout",
     "output_type": "stream",
     "text": [
      "(131, 21)\n",
      "(131, 19)\n"
     ]
    }
   ],
   "source": [
    "# Create a boolean mask on whether each feature less than 50% missing values.\n",
    "mask = school_df.isna().sum() / len(school_df) < 0.5\n",
    "\n",
    "# Create a reduced dataset by applying the mask\n",
    "reduced_df = school_df.loc[:, mask]\n",
    "\n",
    "print(school_df.shape)\n",
    "print(reduced_df.shape)"
   ]
  },
  {
   "cell_type": "markdown",
   "metadata": {},
   "source": [
    "# Pairwise correlation"
   ]
  },
  {
   "cell_type": "markdown",
   "metadata": {},
   "source": [
    "## Inspecting the correlation matrix\n",
    "A sample of the ANSUR body measurements dataset has been pre-loaded as ansur_df. Use the terminal to create a correlation matrix for this dataset.\n",
    "\n",
    "What is the correlation coefficient between wrist and ankle circumference?"
   ]
  },
  {
   "cell_type": "markdown",
   "metadata": {},
   "source": [
    "### init: 1 dataframe"
   ]
  },
  {
   "cell_type": "code",
   "execution_count": 26,
   "metadata": {
    "ExecuteTime": {
     "end_time": "2019-12-02T10:47:01.722294Z",
     "start_time": "2019-12-02T10:47:00.404277Z"
    }
   },
   "outputs": [
    {
     "name": "stdout",
     "output_type": "stream",
     "text": [
      "{pandas.core.frame.DataFrame: {\"ansur_df.csv\": \"https://file.io/9g9uY2\"}}\n",
      "{'pandas.core.frame.DataFrame': {'ansur_df.csv': 'https://file.io/9g9uY2'}}\n",
      "  % Total    % Received % Xferd  Average Speed   Time    Time     Time  Current\n",
      "                                 Dload  Upload   Total   Spent    Left  Speed\n",
      "\n",
      "  0     0    0     0    0     0      0      0 --:--:-- --:--:-- --:--:--     0\n",
      "  0     0    0     0    0     0      0      0 --:--:--  0:00:01 --:--:--     0\n",
      "100  147k    0  147k    0     0   131k      0 --:--:--  0:00:01 --:--:--  131k\n"
     ]
    }
   ],
   "source": [
    "from uploadfromdatacamp import saveFromFileIO\n",
    "\n",
    "#uploadToFileIO(ansur_df)\n",
    "tobedownloaded=\"{pandas.core.frame.DataFrame: {'ansur_df.csv': 'https://file.io/9g9uY2'}}\"\n",
    "prefix='data_from_datacamp/Chap231_'\n",
    "#saveFromFileIO(tobedownloaded, prefix=prefix, proxy=\"10.225.92.1:80\")"
   ]
  },
  {
   "cell_type": "code",
   "execution_count": 27,
   "metadata": {
    "ExecuteTime": {
     "end_time": "2019-12-02T10:47:14.040062Z",
     "start_time": "2019-12-02T10:47:14.027526Z"
    }
   },
   "outputs": [],
   "source": [
    "import pandas as pd\n",
    "ansur_df=pd.read_csv(prefix+'ansur_df.csv',index_col=0)"
   ]
  },
  {
   "cell_type": "markdown",
   "metadata": {},
   "source": [
    "### code"
   ]
  },
  {
   "cell_type": "code",
   "execution_count": 28,
   "metadata": {
    "ExecuteTime": {
     "end_time": "2019-12-02T10:47:38.181988Z",
     "start_time": "2019-12-02T10:47:38.169953Z"
    }
   },
   "outputs": [
    {
     "data": {
      "text/html": [
       "<div>\n",
       "<style scoped>\n",
       "    .dataframe tbody tr th:only-of-type {\n",
       "        vertical-align: middle;\n",
       "    }\n",
       "\n",
       "    .dataframe tbody tr th {\n",
       "        vertical-align: top;\n",
       "    }\n",
       "\n",
       "    .dataframe thead th {\n",
       "        text-align: right;\n",
       "    }\n",
       "</style>\n",
       "<table border=\"1\" class=\"dataframe\">\n",
       "  <thead>\n",
       "    <tr style=\"text-align: right;\">\n",
       "      <th></th>\n",
       "      <th>Elbow rest height</th>\n",
       "      <th>Wrist circumference</th>\n",
       "      <th>Ankle circumference</th>\n",
       "      <th>Buttock height</th>\n",
       "      <th>Crotch height</th>\n",
       "    </tr>\n",
       "  </thead>\n",
       "  <tbody>\n",
       "    <tr>\n",
       "      <td>Elbow rest height</td>\n",
       "      <td>1.000000</td>\n",
       "      <td>0.294753</td>\n",
       "      <td>0.301963</td>\n",
       "      <td>-0.007013</td>\n",
       "      <td>-0.026090</td>\n",
       "    </tr>\n",
       "    <tr>\n",
       "      <td>Wrist circumference</td>\n",
       "      <td>0.294753</td>\n",
       "      <td>1.000000</td>\n",
       "      <td>0.702178</td>\n",
       "      <td>0.576679</td>\n",
       "      <td>0.606582</td>\n",
       "    </tr>\n",
       "    <tr>\n",
       "      <td>Ankle circumference</td>\n",
       "      <td>0.301963</td>\n",
       "      <td>0.702178</td>\n",
       "      <td>1.000000</td>\n",
       "      <td>0.367548</td>\n",
       "      <td>0.386502</td>\n",
       "    </tr>\n",
       "    <tr>\n",
       "      <td>Buttock height</td>\n",
       "      <td>-0.007013</td>\n",
       "      <td>0.576679</td>\n",
       "      <td>0.367548</td>\n",
       "      <td>1.000000</td>\n",
       "      <td>0.929411</td>\n",
       "    </tr>\n",
       "    <tr>\n",
       "      <td>Crotch height</td>\n",
       "      <td>-0.026090</td>\n",
       "      <td>0.606582</td>\n",
       "      <td>0.386502</td>\n",
       "      <td>0.929411</td>\n",
       "      <td>1.000000</td>\n",
       "    </tr>\n",
       "  </tbody>\n",
       "</table>\n",
       "</div>"
      ],
      "text/plain": [
       "                     Elbow rest height  Wrist circumference  \\\n",
       "Elbow rest height             1.000000             0.294753   \n",
       "Wrist circumference           0.294753             1.000000   \n",
       "Ankle circumference           0.301963             0.702178   \n",
       "Buttock height               -0.007013             0.576679   \n",
       "Crotch height                -0.026090             0.606582   \n",
       "\n",
       "                     Ankle circumference  Buttock height  Crotch height  \n",
       "Elbow rest height               0.301963       -0.007013      -0.026090  \n",
       "Wrist circumference             0.702178        0.576679       0.606582  \n",
       "Ankle circumference             1.000000        0.367548       0.386502  \n",
       "Buttock height                  0.367548        1.000000       0.929411  \n",
       "Crotch height                   0.386502        0.929411       1.000000  "
      ]
     },
     "execution_count": 28,
     "metadata": {},
     "output_type": "execute_result"
    }
   ],
   "source": [
    "ansur_df.corr()"
   ]
  },
  {
   "cell_type": "markdown",
   "metadata": {},
   "source": [
    "## Visualizing the correlation matrix\n",
    "Reading the correlation matrix of ansur_df in its raw, numeric format doesn't allow us to get a quick overview. Let's improve this by removing redundant values and visualizing the matrix using seaborn.\n",
    "\n",
    "Seaborn has been pre-loaded as sns, matplotlib.pyplot as plt, NumPy as np and pandas as pd."
   ]
  },
  {
   "cell_type": "markdown",
   "metadata": {},
   "source": [
    "### init: sns, plt, np, pd"
   ]
  },
  {
   "cell_type": "code",
   "execution_count": 31,
   "metadata": {
    "ExecuteTime": {
     "end_time": "2019-12-02T10:53:47.226369Z",
     "start_time": "2019-12-02T10:53:47.222357Z"
    }
   },
   "outputs": [],
   "source": [
    "import seaborn as sns\n",
    "import matplotlib.pyplot as plt\n",
    "import pandas as pd\n",
    "import numpy as np\n",
    "sns.set()"
   ]
  },
  {
   "cell_type": "code",
   "execution_count": 33,
   "metadata": {
    "ExecuteTime": {
     "end_time": "2019-12-02T10:55:53.807148Z",
     "start_time": "2019-12-02T10:55:53.799091Z"
    }
   },
   "outputs": [],
   "source": [
    "cmap = sns.diverging_palette(220, 10, as_cmap=True)\n"
   ]
  },
  {
   "cell_type": "markdown",
   "metadata": {},
   "source": [
    "### code"
   ]
  },
  {
   "cell_type": "code",
   "execution_count": 37,
   "metadata": {
    "ExecuteTime": {
     "end_time": "2019-12-02T10:56:28.686243Z",
     "start_time": "2019-12-02T10:56:28.460816Z"
    }
   },
   "outputs": [
    {
     "data": {
      "image/png": "[encoded data removed]",
      "text/plain": [
       "<Figure size 432x288 with 2 Axes>"
      ]
     },
     "metadata": {},
     "output_type": "display_data"
    }
   ],
   "source": [
    "# Create the correlation matrix\n",
    "corr = ansur_df.corr()\n",
    "\n",
    "# Draw the heatmap\n",
    "sns.heatmap(corr,  cmap=cmap, center=0, linewidths=1, annot=True, fmt=\".2f\")\n",
    "plt.show()"
   ]
  },
  {
   "cell_type": "markdown",
   "metadata": {},
   "source": [
    "Create a boolean mask for the upper triangle of the plot.\n"
   ]
  },
  {
   "cell_type": "code",
   "execution_count": 38,
   "metadata": {
    "ExecuteTime": {
     "end_time": "2019-12-02T10:57:57.368933Z",
     "start_time": "2019-12-02T10:57:57.362916Z"
    }
   },
   "outputs": [],
   "source": [
    "# Create the correlation matrix\n",
    "corr = ansur_df.corr()\n",
    "\n",
    "# Generate a mask for the upper triangle\n",
    "mask = np.triu(np.ones_like(corr, dtype=bool))"
   ]
  },
  {
   "cell_type": "code",
   "execution_count": 39,
   "metadata": {
    "ExecuteTime": {
     "end_time": "2019-12-02T10:58:17.448939Z",
     "start_time": "2019-12-02T10:58:17.243379Z"
    }
   },
   "outputs": [
    {
     "data": {
      "image/png": "[encoded data removed]",
      "text/plain": [
       "<Figure size 432x288 with 2 Axes>"
      ]
     },
     "metadata": {},
     "output_type": "display_data"
    }
   ],
   "source": [
    "# Add the mask to the heatmap\n",
    "sns.heatmap(corr, mask=mask, cmap=cmap, center=0, linewidths=1, annot=True, fmt=\".2f\")\n",
    "plt.show()"
   ]
  },
  {
   "cell_type": "markdown",
   "metadata": {},
   "source": [
    "# Removing highly correlated features\n"
   ]
  },
  {
   "cell_type": "markdown",
   "metadata": {},
   "source": [
    "## Filtering out highly correlated features\n",
    "You're going to automate the removal of highly correlated features in the numeric ANSUR dataset. You'll calculate the correlation matrix and filter out columns that have a correlation coefficient of more than 0.95 or less than -0.95.\n",
    "\n",
    "Since each correlation coefficient occurs twice in the matrix (correlation of A to B equals correlation of B to A) you'll want to ignore half of the correlation matrix so that only one of the two correlated features is removed. Use a mask trick for this purpose."
   ]
  },
  {
   "cell_type": "markdown",
   "metadata": {},
   "source": [
    "### init: 1 dataframe"
   ]
  },
  {
   "cell_type": "code",
   "execution_count": 40,
   "metadata": {
    "ExecuteTime": {
     "end_time": "2019-12-02T11:00:25.518234Z",
     "start_time": "2019-12-02T11:00:22.537069Z"
    }
   },
   "outputs": [
    {
     "name": "stdout",
     "output_type": "stream",
     "text": [
      "{pandas.core.frame.DataFrame: {\"ansur_df.csv\": \"https://file.io/YbS0hM\"}}\n",
      "{'pandas.core.frame.DataFrame': {'ansur_df.csv': 'https://file.io/YbS0hM'}}\n",
      "  % Total    % Received % Xferd  Average Speed   Time    Time     Time  Current\n",
      "                                 Dload  Upload   Total   Spent    Left  Speed\n",
      "\n",
      "  0     0    0     0    0     0      0      0 --:--:-- --:--:-- --:--:--     0\n",
      "  0     0    0     0    0     0      0      0 --:--:--  0:00:01 --:--:--     0\n",
      "  0     0    0     0    0     0      0      0 --:--:--  0:00:02 --:--:--     0\n",
      "100 1305k    0 1305k    0     0   494k      0 --:--:--  0:00:02 --:--:--  494k\n",
      "100 1850k    0 1850k    0     0   664k      0 --:--:--  0:00:02 --:--:--  664k\n"
     ]
    }
   ],
   "source": [
    "from uploadfromdatacamp import saveFromFileIO\n",
    "\n",
    "#uploadToFileIO(ansur_df)\n",
    "tobedownloaded=\"{pandas.core.frame.DataFrame: {'ansur_df.csv': 'https://file.io/YbS0hM'}}\"\n",
    "prefix='data_from_datacamp/Chap241_'\n",
    "#saveFromFileIO(tobedownloaded, prefix=prefix, proxy=\"10.225.92.1:80\")"
   ]
  },
  {
   "cell_type": "code",
   "execution_count": 41,
   "metadata": {
    "ExecuteTime": {
     "end_time": "2019-12-02T11:00:34.881850Z",
     "start_time": "2019-12-02T11:00:34.825716Z"
    }
   },
   "outputs": [],
   "source": [
    "import pandas as pd\n",
    "ansur_df=pd.read_csv(prefix+'ansur_df.csv',index_col=0)"
   ]
  },
  {
   "cell_type": "markdown",
   "metadata": {},
   "source": [
    "### code"
   ]
  },
  {
   "cell_type": "markdown",
   "metadata": {},
   "source": [
    "- Calculate the correlation matrix of ansur_df and take the absolute value of this matrix.\n",
    "- Create a boolean mask with True values in the upper right triangle and apply it to the correlation matrix.\n",
    "- Set the correlation coefficient threshold to 0.95.\n",
    "- Drop all the columns listed in to_drop from the dataframe."
   ]
  },
  {
   "cell_type": "code",
   "execution_count": 42,
   "metadata": {
    "ExecuteTime": {
     "end_time": "2019-12-02T11:00:51.214103Z",
     "start_time": "2019-12-02T11:00:51.072667Z"
    }
   },
   "outputs": [
    {
     "name": "stdout",
     "output_type": "stream",
     "text": [
      "The reduced dataframe has 88 columns.\n"
     ]
    }
   ],
   "source": [
    "# Calculate the correlation matrix and take the absolute value\n",
    "corr_matrix = ansur_df.corr().abs()\n",
    "\n",
    "# Create a True/False mask and apply it\n",
    "mask = np.triu(np.ones_like(corr_matrix, dtype=bool))\n",
    "tri_df = corr_matrix.mask(mask)\n",
    "\n",
    "# List column names of highly correlated features (r > 0.95)\n",
    "to_drop = [c for c in tri_df.columns if any(tri_df[c] >  0.95)]\n",
    "\n",
    "# Drop the features in the to_drop list\n",
    "reduced_df = ansur_df.drop(to_drop, axis=1)\n",
    "\n",
    "print(\"The reduced dataframe has {} columns.\".format(reduced_df.shape[1]))"
   ]
  },
  {
   "cell_type": "markdown",
   "metadata": {},
   "source": [
    "## Nuclear energy and pool drownings\n",
    "The dataset that has been pre-loaded for you as weird_df contains actual data provided by the US Centers for Disease Control & Prevention and Department of Energy.\n",
    "\n",
    "Let's see if we can find a pattern.\n",
    "\n",
    "Seaborn has been pre-loaded as sns and matplotlib.pyplot as plt."
   ]
  },
  {
   "cell_type": "markdown",
   "metadata": {},
   "source": [
    "### init: 1 dataframe, sns, plt"
   ]
  },
  {
   "cell_type": "code",
   "execution_count": 43,
   "metadata": {
    "ExecuteTime": {
     "end_time": "2019-12-02T11:02:41.472442Z",
     "start_time": "2019-12-02T11:02:40.725037Z"
    }
   },
   "outputs": [
    {
     "name": "stdout",
     "output_type": "stream",
     "text": [
      "{pandas.core.frame.DataFrame: {\"weird_df.csv\": \"https://file.io/nhkUfH\"}}\n",
      "{'pandas.core.frame.DataFrame': {'weird_df.csv': 'https://file.io/nhkUfH'}}\n",
      "  % Total    % Received % Xferd  Average Speed   Time    Time     Time  Current\n",
      "                                 Dload  Upload   Total   Spent    Left  Speed\n",
      "\n",
      "  0     0    0     0    0     0      0      0 --:--:-- --:--:-- --:--:--     0\n",
      "100   164    0   164    0     0    307      0 --:--:-- --:--:-- --:--:--   307\n",
      "100   164    0   164    0     0    307      0 --:--:-- --:--:-- --:--:--   307\n"
     ]
    }
   ],
   "source": [
    "from uploadfromdatacamp import saveFromFileIO\n",
    "\n",
    "#uploadToFileIO(weird_df)\n",
    "tobedownloaded=\"{pandas.core.frame.DataFrame: {'weird_df.csv': 'https://file.io/nhkUfH'}}\"\n",
    "prefix='data_from_datacamp/Chap242_'\n",
    "#saveFromFileIO(tobedownloaded, prefix=prefix, proxy=\"10.225.92.1:80\")"
   ]
  },
  {
   "cell_type": "code",
   "execution_count": 44,
   "metadata": {
    "ExecuteTime": {
     "end_time": "2019-12-02T11:02:56.715664Z",
     "start_time": "2019-12-02T11:02:56.710110Z"
    }
   },
   "outputs": [],
   "source": [
    "import pandas as pd\n",
    "weird_df=pd.read_csv(prefix+'weird_df.csv',index_col=0)"
   ]
  },
  {
   "cell_type": "code",
   "execution_count": 47,
   "metadata": {
    "ExecuteTime": {
     "end_time": "2019-12-02T11:03:40.062706Z",
     "start_time": "2019-12-02T11:03:40.059196Z"
    }
   },
   "outputs": [],
   "source": [
    "import seaborn as sns\n",
    "import matplotlib.pyplot as plt\n",
    "sns.set()"
   ]
  },
  {
   "cell_type": "markdown",
   "metadata": {},
   "source": [
    "### code"
   ]
  },
  {
   "cell_type": "code",
   "execution_count": 46,
   "metadata": {
    "ExecuteTime": {
     "end_time": "2019-12-02T11:03:29.258765Z",
     "start_time": "2019-12-02T11:03:29.253248Z"
    }
   },
   "outputs": [
    {
     "name": "stdout",
     "output_type": "stream",
     "text": [
      "   pool_drownings  nuclear_energy\n",
      "0             421           728.3\n",
      "1             465           753.9\n",
      "2             494           768.8\n",
      "3             538           780.1\n",
      "4             430           763.7\n"
     ]
    }
   ],
   "source": [
    "# Print the first five lines of weird_df\n",
    "print(weird_df.head(5))"
   ]
  },
  {
   "cell_type": "code",
   "execution_count": 48,
   "metadata": {
    "ExecuteTime": {
     "end_time": "2019-12-02T11:04:05.602293Z",
     "start_time": "2019-12-02T11:04:05.355797Z"
    }
   },
   "outputs": [
    {
     "data": {
      "image/png": "[encoded data removed]",
      "text/plain": [
       "<Figure size 432x288 with 1 Axes>"
      ]
     },
     "metadata": {},
     "output_type": "display_data"
    }
   ],
   "source": [
    "# Put nuclear energy production on the x-axis and the number of pool drownings on the y-axis\n",
    "sns.scatterplot(x='nuclear_energy', y='pool_drownings', data=weird_df)\n",
    "plt.show()"
   ]
  },
  {
   "cell_type": "code",
   "execution_count": 49,
   "metadata": {
    "ExecuteTime": {
     "end_time": "2019-12-02T11:04:26.173524Z",
     "start_time": "2019-12-02T11:04:26.167545Z"
    }
   },
   "outputs": [
    {
     "name": "stdout",
     "output_type": "stream",
     "text": [
      "                pool_drownings  nuclear_energy\n",
      "pool_drownings        1.000000        0.901179\n",
      "nuclear_energy        0.901179        1.000000\n"
     ]
    }
   ],
   "source": [
    "# Print out the correlation matrix of weird_df\n",
    "print(weird_df.corr())"
   ]
  },
  {
   "cell_type": "code",
   "execution_count": null,
   "metadata": {},
   "outputs": [],
   "source": []
  }
 ],
 "metadata": {
  "kernelspec": {
   "display_name": "Python 3",
   "language": "python",
   "name": "python3"
  },
  "language_info": {
   "codemirror_mode": {
    "name": "ipython",
    "version": 3
   },
   "file_extension": ".py",
   "mimetype": "text/x-python",
   "name": "python",
   "nbconvert_exporter": "python",
   "pygments_lexer": "ipython3",
   "version": "3.7.4"
  },
  "toc": {
   "base_numbering": 1,
   "nav_menu": {},
   "number_sections": true,
   "sideBar": true,
   "skip_h1_title": false,
   "title_cell": "Table of Contents",
   "title_sidebar": "Contents",
   "toc_cell": false,
   "toc_position": {},
   "toc_section_display": true,
   "toc_window_display": true
  },
  "varInspector": {
   "cols": {
    "lenName": 16,
    "lenType": 16,
    "lenVar": 40
   },
   "kernels_config": {
    "python": {
     "delete_cmd_postfix": "",
     "delete_cmd_prefix": "del ",
     "library": "var_list.py",
     "varRefreshCmd": "print(var_dic_list())"
    },
    "r": {
     "delete_cmd_postfix": ") ",
     "delete_cmd_prefix": "rm(",
     "library": "var_list.r",
     "varRefreshCmd": "cat(var_dic_list()) "
    }
   },
   "position": {
    "height": "654px",
    "left": "1550px",
    "right": "20px",
    "top": "120px",
    "width": "350px"
   },
   "types_to_exclude": [
    "module",
    "function",
    "builtin_function_or_method",
    "instance",
    "_Feature"
   ],
   "window_display": true
  }
 },
 "nbformat": 4,
 "nbformat_minor": 2
}
