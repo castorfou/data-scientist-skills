{
 "cells": [
  {
   "cell_type": "markdown",
   "metadata": {},
   "source": [
    "# Replace scalar values using .replace()\n"
   ]
  },
  {
   "attachments": {},
   "cell_type": "markdown",
   "metadata": {},
   "source": [
    "## Replacing scalar values I\n",
    "In this exercise, we will replace a list of values in our dataset by using the .replace() method with another list of desired values.\n",
    "\n",
    "We will apply the functions in the poker_hands DataFrame. Remember that in the poker_hands DataFrame, each row of columns R1 to R5 represents the rank of each card from a player's poker hand spanning from 1 (Ace) to 13 (King). The Class feature classifies each hand as a category, and the Explanation feature briefly explains each hand.\n",
    "\n",
    "The poker_hands DataFrame is already loaded for you, and you can explore the features Class and Explanation.\n",
    "\n",
    "Remember you can always explore the dataset and see how it changes in the IPython Shell, and refer to the slides in the Slides tab."
   ]
  },
  {
   "cell_type": "markdown",
   "metadata": {},
   "source": [
    "### init"
   ]
  },
  {
   "cell_type": "code",
   "execution_count": 1,
   "metadata": {
    "ExecuteTime": {
     "end_time": "2020-06-16T07:01:32.763759Z",
     "start_time": "2020-06-16T07:01:30.393492Z"
    }
   },
   "outputs": [
    {
     "name": "stdout",
     "output_type": "stream",
     "text": [
      "Téléchargements à lancer\n",
      "{'pandas.core.frame.DataFrame': {'poker_hands.csv': 'https://file.io/F0BFtS9v'}}\n",
      "  % Total    % Received % Xferd  Average Speed   Time    Time     Time  Current\n",
      "                                 Dload  Upload   Total   Spent    Left  Speed\n",
      "100  776k    0  776k    0     0   560k      0 --:--:--  0:00:01 --:--:--  560k\n",
      "\n"
     ]
    }
   ],
   "source": [
    "###################\n",
    "##### Dataframe\n",
    "###################\n",
    "\n",
    "#upload and download\n",
    "\n",
    "from downloadfromFileIO import saveFromFileIO\n",
    "\"\"\" à executer sur datacamp: (apres copie du code uploadfromdatacamp.py)\n",
    "uploadToFileIO(poker_hands)\n",
    "\"\"\"\n",
    "\n",
    "tobedownloaded=\"\"\"\n",
    "{pandas.core.frame.DataFrame: {'poker_hands.csv': 'https://file.io/F0BFtS9v'}}\n",
    "\"\"\"\n",
    "prefixToc='1.1'\n",
    "prefix = saveFromFileIO(tobedownloaded, prefixToc=prefixToc, proxy=\"\")\n",
    "\n",
    "#initialisation\n",
    "\n",
    "import pandas as pd\n",
    "poker_hands = pd.read_csv(prefix+'poker_hands.csv',index_col=0)"
   ]
  },
  {
   "cell_type": "markdown",
   "metadata": {},
   "source": [
    "### code"
   ]
  },
  {
   "cell_type": "code",
   "execution_count": 2,
   "metadata": {
    "ExecuteTime": {
     "end_time": "2020-06-16T07:04:12.611954Z",
     "start_time": "2020-06-16T07:04:12.598922Z"
    }
   },
   "outputs": [
    {
     "name": "stdout",
     "output_type": "stream",
     "text": [
      "       Class      Explanation\n",
      "0          9      Royal flush\n",
      "1          9      Royal flush\n",
      "2          9      Royal flush\n",
      "3          9      Royal flush\n",
      "4          9      Royal flush\n",
      "...      ...              ...\n",
      "25005      0  Nothing in hand\n",
      "25006     -2         One pair\n",
      "25007     -2         One pair\n",
      "25008     -2         One pair\n",
      "25009     -2         One pair\n",
      "\n",
      "[25010 rows x 2 columns]\n"
     ]
    }
   ],
   "source": [
    "# Replace Class 1 to -2 \n",
    "poker_hands['Class'].replace(1, -2, inplace=True)\n",
    "# Replace Class 2 to -3\n",
    "poker_hands['Class'].replace(2, -3, inplace=True)\n",
    "\n",
    "print(poker_hands[['Class', 'Explanation']])"
   ]
  },
  {
   "cell_type": "markdown",
   "metadata": {},
   "source": [
    "## Replace scalar values II\n",
    "As discussed in the video, in a pandas DataFrame, it is possible to replace values in a very intuitive way: we locate the position (row and column) in the Dataframe and assign in the new value you want to replace with. In a more pandas-ian way, the .replace() function is available that performs the same task.\n",
    "\n",
    "You will be using the names DataFrame which includes, among others, the most popular names in the US by year, gender and ethnicity.\n",
    "\n",
    "Your task is to replace all the babies that are classified as FEMALE to GIRL using the following methods:\n",
    "\n",
    "intuitive scalar replacement\n",
    "using the .replace() function"
   ]
  },
  {
   "cell_type": "markdown",
   "metadata": {},
   "source": [
    "### init"
   ]
  },
  {
   "cell_type": "code",
   "execution_count": 3,
   "metadata": {
    "ExecuteTime": {
     "end_time": "2020-06-16T07:05:32.269117Z",
     "start_time": "2020-06-16T07:05:30.896904Z"
    }
   },
   "outputs": [
    {
     "name": "stdout",
     "output_type": "stream",
     "text": [
      "Téléchargements à lancer\n",
      "{'pandas.core.frame.DataFrame': {'names.csv': 'https://file.io/8vpXqFV8'}}\n",
      "  % Total    % Received % Xferd  Average Speed   Time    Time     Time  Current\n",
      "                                 Dload  Upload   Total   Spent    Left  Speed\n",
      "100  506k    0  506k    0     0   430k      0 --:--:--  0:00:01 --:--:--  429k\n",
      "\n"
     ]
    }
   ],
   "source": [
    "###################\n",
    "##### Dataframe\n",
    "###################\n",
    "\n",
    "#upload and download\n",
    "\n",
    "from downloadfromFileIO import saveFromFileIO\n",
    "\"\"\" à executer sur datacamp: (apres copie du code uploadfromdatacamp.py)\n",
    "uploadToFileIO(names)\n",
    "\"\"\"\n",
    "\n",
    "tobedownloaded=\"\"\"\n",
    "{pandas.core.frame.DataFrame: {'names.csv': 'https://file.io/8vpXqFV8'}}\n",
    "\"\"\"\n",
    "prefixToc='1.2'\n",
    "prefix = saveFromFileIO(tobedownloaded, prefixToc=prefixToc, proxy=\"\")\n",
    "\n",
    "#initialisation\n",
    "\n",
    "import pandas as pd\n",
    "names = pd.read_csv(prefix+'names.csv',index_col=0)"
   ]
  },
  {
   "cell_type": "code",
   "execution_count": 6,
   "metadata": {
    "ExecuteTime": {
     "end_time": "2020-06-16T07:07:25.826387Z",
     "start_time": "2020-06-16T07:07:25.823344Z"
    }
   },
   "outputs": [],
   "source": [
    "import time as time"
   ]
  },
  {
   "cell_type": "markdown",
   "metadata": {},
   "source": [
    "### code"
   ]
  },
  {
   "cell_type": "code",
   "execution_count": 8,
   "metadata": {
    "ExecuteTime": {
     "end_time": "2020-06-16T07:08:03.974322Z",
     "start_time": "2020-06-16T07:08:03.964317Z"
    }
   },
   "outputs": [
    {
     "name": "stdout",
     "output_type": "stream",
     "text": [
      "Time using .loc[]: 0.0060138702392578125 sec\n"
     ]
    },
    {
     "name": "stderr",
     "output_type": "stream",
     "text": [
      "C:\\Users\\F279814\\AppData\\Local\\Continuum\\anaconda3\\envs\\datacamp\\lib\\site-packages\\pandas\\core\\indexing.py:205: SettingWithCopyWarning: \n",
      "A value is trying to be set on a copy of a slice from a DataFrame\n",
      "\n",
      "See the caveats in the documentation: http://pandas.pydata.org/pandas-docs/stable/user_guide/indexing.html#returning-a-view-versus-a-copy\n",
      "  self._setitem_with_indexer(indexer, value)\n"
     ]
    }
   ],
   "source": [
    "start_time = time.time()\n",
    "\n",
    "# Replace all the entries that has 'FEMALE' as a gender with 'GIRL'\n",
    "names['Gender'].loc[names.Gender == 'FEMALE'] = 'GIRL'\n",
    "\n",
    "print(\"Time using .loc[]: {} sec\".format(time.time() - start_time))"
   ]
  },
  {
   "cell_type": "code",
   "execution_count": 10,
   "metadata": {
    "ExecuteTime": {
     "end_time": "2020-06-16T07:08:54.449102Z",
     "start_time": "2020-06-16T07:08:54.444237Z"
    }
   },
   "outputs": [
    {
     "name": "stdout",
     "output_type": "stream",
     "text": [
      "Time using .replace(): 0.0 sec\n"
     ]
    }
   ],
   "source": [
    "start_time = time.time()\n",
    "\n",
    "# Replace all the entries that has 'FEMALE' as a gender with 'GIRL'\n",
    "names['Gender'].replace('FEMALE', 'GIRL', inplace=True)\n",
    "\n",
    "print(\"Time using .replace(): {} sec\".format(time.time() - start_time))"
   ]
  },
  {
   "cell_type": "markdown",
   "metadata": {},
   "source": [
    "# Replace values using lists\n"
   ]
  },
  {
   "cell_type": "markdown",
   "metadata": {},
   "source": [
    "## Replace multiple values I\n",
    "In this exercise, you will apply the .replace() function for the task of replacing multiple values with one or more values. You will again use the names dataset which contains, among others, the most popular names in the US by year, gender and Ethnicity.\n",
    "\n",
    "Thus you want to replace all ethnicities classified as black or white non-hispanics to non-hispanic. Remember, the ethnicities are stated in the dataset as follows: ['BLACK NON HISP', 'BLACK NON HISPANIC', 'WHITE NON HISP' , 'WHITE NON HISPANIC'] and should be replaced to 'NON HISPANIC'"
   ]
  },
  {
   "cell_type": "markdown",
   "metadata": {},
   "source": [
    "### code"
   ]
  },
  {
   "cell_type": "code",
   "execution_count": 15,
   "metadata": {
    "ExecuteTime": {
     "end_time": "2020-06-16T07:16:33.144687Z",
     "start_time": "2020-06-16T07:16:33.132638Z"
    }
   },
   "outputs": [
    {
     "name": "stdout",
     "output_type": "stream",
     "text": [
      "Time using .loc[]: sec\n"
     ]
    }
   ],
   "source": [
    "start_time = time.time()\n",
    "\n",
    "# Replace all non-Hispanic ethnicities with 'NON HISPANIC'\n",
    "names['Ethnicity'].loc[(names['Ethnicity'] == 'WHITE NON HISPANIC') | \n",
    "                      (names['Ethnicity'] == 'BLACK NON HISPANIC') | \n",
    "                      (names['Ethnicity'] == 'WHITE NON HISP') | \n",
    "                      (names['Ethnicity'] == 'BLACK NON HISP')] = 'NON HISPANIC'\n",
    "\n",
    "print(\"Time using .loc[]: sec\".format(time.time() - start_time))"
   ]
  },
  {
   "cell_type": "code",
   "execution_count": 16,
   "metadata": {
    "ExecuteTime": {
     "end_time": "2020-06-16T07:17:24.783392Z",
     "start_time": "2020-06-16T07:17:24.776874Z"
    }
   },
   "outputs": [
    {
     "name": "stdout",
     "output_type": "stream",
     "text": [
      "Time using .replace(): 0.0020058155059814453 sec\n"
     ]
    }
   ],
   "source": [
    "start_time = time.time()\n",
    "\n",
    "# Replace all non-Hispanic ethnicities with 'NON HISPANIC'\n",
    "names['Ethnicity'].replace(['WHITE NON HISPANIC', 'BLACK NON HISPANIC', 'WHITE NON HISP', 'BLACK NON HISP'], 'NON HISPANIC', inplace=True)\n",
    "\n",
    "print(\"Time using .replace(): {} sec\".format(time.time() - start_time))"
   ]
  },
  {
   "cell_type": "markdown",
   "metadata": {},
   "source": [
    "## Replace multiple values II\n",
    "As discussed in the video, instead of using the .replace() function multiple times to replace multiple values, you can use lists to map the elements you want to replace one to one with those you want to replace them with.\n",
    "\n",
    "As you have seen in our popular names dataset, there are two names for the same ethnicity. We want to standardize the naming of each ethnicity by replacing\n",
    "\n",
    "- 'ASIAN AND PACI' to 'ASIAN AND PACIFIC ISLANDER'\n",
    "- 'BLACK NON HISP' to 'BLACK NON HISPANIC'\n",
    "- 'WHITE NON HISP' to 'WHITE NON HISPANIC'\n",
    "\n",
    "In the DataFrame names, you are going to replace all the values on the left by the values on the right."
   ]
  },
  {
   "cell_type": "markdown",
   "metadata": {},
   "source": [
    "### code"
   ]
  },
  {
   "cell_type": "code",
   "execution_count": 17,
   "metadata": {
    "ExecuteTime": {
     "end_time": "2020-06-16T07:18:44.917315Z",
     "start_time": "2020-06-16T07:18:44.910795Z"
    }
   },
   "outputs": [
    {
     "name": "stdout",
     "output_type": "stream",
     "text": [
      "Time using .replace(): 0.0015034675598144531 sec\n"
     ]
    }
   ],
   "source": [
    "start_time = time.time()\n",
    "\n",
    "# Replace ethnicities as instructed\n",
    "names['Ethnicity'].replace(['ASIAN AND PACI','BLACK NON HISP', 'WHITE NON HISP'], ['ASIAN AND PACIFIC ISLANDER', 'BLACK NON HISPANIC', 'WHITE NON HISPANIC'], inplace=True)\n",
    "\n",
    "print(\"Time using .replace(): {} sec\".format(time.time() - start_time))"
   ]
  },
  {
   "cell_type": "markdown",
   "metadata": {},
   "source": [
    "# Replace values using dictionaries\n"
   ]
  },
  {
   "cell_type": "markdown",
   "metadata": {},
   "source": [
    "## Replace single values I\n",
    "In this exercise, we will apply the following replacing technique of replacing multiple values using dictionaries on a different dataset.\n",
    "\n",
    "We will apply the functions in the data DataFrame. Each row represents the rank of 5 cards from a playing card deck, spanning from 1 (Ace) to 13 (King) (features R1, R2, R3, R4, R5). The feature 'Class' classifies each row to a category (from 0 to 9) and the feature 'Explanation' gives a brief explanation of what each class represents.\n",
    "\n",
    "The purpose of this exercise is to categorize the two types of flush in the game ('Royal flush' and 'Straight flush') under the 'Flush' name."
   ]
  },
  {
   "cell_type": "markdown",
   "metadata": {},
   "source": [
    "### init"
   ]
  },
  {
   "cell_type": "code",
   "execution_count": 18,
   "metadata": {
    "ExecuteTime": {
     "end_time": "2020-06-16T07:22:57.039010Z",
     "start_time": "2020-06-16T07:22:55.392326Z"
    }
   },
   "outputs": [
    {
     "name": "stdout",
     "output_type": "stream",
     "text": [
      "Téléchargements à lancer\n",
      "{'pandas.core.frame.DataFrame': {'poker_hands.csv': 'https://file.io/MwTKzkiE'}}\n",
      "  % Total    % Received % Xferd  Average Speed   Time    Time     Time  Current\n",
      "                                 Dload  Upload   Total   Spent    Left  Speed\n",
      "100  776k    0  776k    0     0   544k      0 --:--:--  0:00:01 --:--:--  544k\n",
      "\n"
     ]
    }
   ],
   "source": [
    "###################\n",
    "##### Dataframe\n",
    "###################\n",
    "\n",
    "#upload and download\n",
    "\n",
    "from downloadfromFileIO import saveFromFileIO\n",
    "\"\"\" à executer sur datacamp: (apres copie du code uploadfromdatacamp.py)\n",
    "uploadToFileIO(poker_hands)\n",
    "\"\"\"\n",
    "\n",
    "tobedownloaded=\"\"\"\n",
    "{pandas.core.frame.DataFrame: {'poker_hands.csv': 'https://file.io/MwTKzkiE'}}\n",
    "\"\"\"\n",
    "prefixToc='3.1'\n",
    "prefix = saveFromFileIO(tobedownloaded, prefixToc=prefixToc, proxy=\"\")\n",
    "\n",
    "#initialisation\n",
    "\n",
    "import pandas as pd\n",
    "poker_hands = pd.read_csv(prefix+'poker_hands.csv',index_col=0)"
   ]
  },
  {
   "cell_type": "markdown",
   "metadata": {},
   "source": [
    "### code"
   ]
  },
  {
   "cell_type": "code",
   "execution_count": 19,
   "metadata": {
    "ExecuteTime": {
     "end_time": "2020-06-16T07:23:49.671552Z",
     "start_time": "2020-06-16T07:23:49.653502Z"
    }
   },
   "outputs": [
    {
     "name": "stdout",
     "output_type": "stream",
     "text": [
      "0    Flush\n",
      "1    Flush\n",
      "2    Flush\n",
      "3    Flush\n",
      "4    Flush\n",
      "Name: Explanation, dtype: object\n"
     ]
    }
   ],
   "source": [
    "# Replace Royal flush or Straight flush to Flush\n",
    "poker_hands.replace({'Royal flush':'Flush', 'Straight flush':'Flush'}, inplace=True)\n",
    "print(poker_hands['Explanation'].head())"
   ]
  },
  {
   "cell_type": "markdown",
   "metadata": {},
   "source": [
    "## Replace single values II\n",
    "For this exercise, we will be using the names DataFrame. In this dataset, the column 'Rank' shows the ranking of each name by year. For this exercise, you will use dictionaries to replace the first ranked name of every year as 'FIRST', the second name as 'SECOND' and the third name as 'THIRD'.\n",
    "\n",
    "You will use dictionaries to replace one single value per key.\n",
    "\n",
    "You can already see the first 5 names of the data, which correspond to the 5 most popular names for all the females belonging to the 'ASIAN AND PACIFIC ISLANDER' ethnicity in 2011."
   ]
  },
  {
   "cell_type": "markdown",
   "metadata": {},
   "source": [
    "### code"
   ]
  },
  {
   "cell_type": "code",
   "execution_count": 21,
   "metadata": {
    "ExecuteTime": {
     "end_time": "2020-06-16T07:25:10.104705Z",
     "start_time": "2020-06-16T07:25:10.094677Z"
    }
   },
   "outputs": [
    {
     "name": "stdout",
     "output_type": "stream",
     "text": [
      "   Year of Birth Gender                   Ethnicity Child's First Name  Count  \\\n",
      "0           2011   GIRL  ASIAN AND PACIFIC ISLANDER             SOPHIA    119   \n",
      "1           2011   GIRL  ASIAN AND PACIFIC ISLANDER              CHLOE    106   \n",
      "2           2011   GIRL  ASIAN AND PACIFIC ISLANDER              EMILY     93   \n",
      "3           2011   GIRL  ASIAN AND PACIFIC ISLANDER             OLIVIA     89   \n",
      "4           2011   GIRL  ASIAN AND PACIFIC ISLANDER               EMMA     75   \n",
      "\n",
      "     Rank  \n",
      "0   FIRST  \n",
      "1  SECOND  \n",
      "2   THIRD  \n",
      "3       4  \n",
      "4       5  \n"
     ]
    }
   ],
   "source": [
    "# Replace the number rank by a string\n",
    "names['Rank'].replace({1:'FIRST', 2:'SECOND', 3:'THIRD'}, inplace=True)\n",
    "print(names.head())"
   ]
  },
  {
   "cell_type": "markdown",
   "metadata": {},
   "source": [
    "## Replace multiple values III\n",
    "As you saw in the video, you can use dictionaries to replace multiple values with just one value, even from multiple columns. To show the usefulness of replacing with dictionaries, you will use the names dataset one more time.\n",
    "\n",
    "In this dataset, the column 'Rank' shows which rank each name reached every year. You will change the rank of the first three ranked names of every year to 'MEDAL' and those from 4th and 5th place to 'ALMOST MEDAL'.\n",
    "\n",
    "You can already see the first 5 names of the data, which correspond to the 5 most popular names for all the females belonging to the 'ASIAN AND PACIFIC ISLANDER' ethnicity in 2011."
   ]
  },
  {
   "cell_type": "markdown",
   "metadata": {},
   "source": [
    "### code"
   ]
  },
  {
   "cell_type": "code",
   "execution_count": 23,
   "metadata": {
    "ExecuteTime": {
     "end_time": "2020-06-16T07:27:42.265133Z",
     "start_time": "2020-06-16T07:27:42.252180Z"
    }
   },
   "outputs": [
    {
     "name": "stdout",
     "output_type": "stream",
     "text": [
      "   Year of Birth Gender                   Ethnicity Child's First Name  Count  \\\n",
      "0           2011   GIRL  ASIAN AND PACIFIC ISLANDER             SOPHIA    119   \n",
      "1           2011   GIRL  ASIAN AND PACIFIC ISLANDER              CHLOE    106   \n",
      "2           2011   GIRL  ASIAN AND PACIFIC ISLANDER              EMILY     93   \n",
      "3           2011   GIRL  ASIAN AND PACIFIC ISLANDER             OLIVIA     89   \n",
      "4           2011   GIRL  ASIAN AND PACIFIC ISLANDER               EMMA     75   \n",
      "\n",
      "           Rank  \n",
      "0         MEDAL  \n",
      "1         MEDAL  \n",
      "2         MEDAL  \n",
      "3  ALMOST MEDAL  \n",
      "4  ALMOST MEDAL  \n"
     ]
    }
   ],
   "source": [
    "# Replace the rank of the first three ranked names to 'MEDAL'\n",
    "names.replace({'Rank': {'FIRST':'MEDAL', 'SECOND':'MEDAL', 'THIRD':'MEDAL'}}, inplace=True)\n",
    "\n",
    "# Replace the rank of the 4th and 5th ranked names to 'ALMOST MEDAL'\n",
    "names.replace({'Rank': {4:'ALMOST MEDAL', 5:'ALMOST MEDAL'}}, inplace=True)\n",
    "print(names.head())"
   ]
  },
  {
   "cell_type": "code",
   "execution_count": null,
   "metadata": {},
   "outputs": [],
   "source": []
  }
 ],
 "metadata": {
  "kernelspec": {
   "display_name": "Python [conda env:datacamp] *",
   "language": "python",
   "name": "conda-env-datacamp-py"
  },
  "language_info": {
   "codemirror_mode": {
    "name": "ipython",
    "version": 3
   },
   "file_extension": ".py",
   "mimetype": "text/x-python",
   "name": "python",
   "nbconvert_exporter": "python",
   "pygments_lexer": "ipython3",
   "version": "3.7.5"
  },
  "toc": {
   "base_numbering": 1,
   "nav_menu": {},
   "number_sections": true,
   "sideBar": true,
   "skip_h1_title": false,
   "title_cell": "Table of Contents",
   "title_sidebar": "Contents",
   "toc_cell": false,
   "toc_position": {},
   "toc_section_display": true,
   "toc_window_display": true
  },
  "varInspector": {
   "cols": {
    "lenName": 16,
    "lenType": 16,
    "lenVar": 40
   },
   "kernels_config": {
    "python": {
     "delete_cmd_postfix": "",
     "delete_cmd_prefix": "del ",
     "library": "var_list.py",
     "varRefreshCmd": "print(var_dic_list())"
    },
    "r": {
     "delete_cmd_postfix": ") ",
     "delete_cmd_prefix": "rm(",
     "library": "var_list.r",
     "varRefreshCmd": "cat(var_dic_list()) "
    }
   },
   "types_to_exclude": [
    "module",
    "function",
    "builtin_function_or_method",
    "instance",
    "_Feature"
   ],
   "window_display": false
  }
 },
 "nbformat": 4,
 "nbformat_minor": 4
}
