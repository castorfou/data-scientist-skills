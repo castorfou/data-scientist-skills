{
 "cells": [
  {
   "cell_type": "markdown",
   "metadata": {},
   "source": [
    "# Intro to pandas DataFrame iteration\n"
   ]
  },
  {
   "cell_type": "markdown",
   "metadata": {},
   "source": [
    "## Iterating with .iterrows()\n",
    "In the video, we discussed that .iterrows() returns each DataFrame row as a tuple of (index, pandas Series) pairs. But, what does this mean? Let's explore with a few coding exercises.\n",
    "\n",
    "A pandas DataFrame has been loaded into your session called pit_df. This DataFrame contains the stats for the Major League Baseball team named the Pittsburgh Pirates (abbreviated as 'PIT') from the year 2008 to the year 2012. It has been printed into your console for convenience."
   ]
  },
  {
   "cell_type": "markdown",
   "metadata": {},
   "source": [
    "### init"
   ]
  },
  {
   "cell_type": "code",
   "execution_count": 1,
   "metadata": {
    "ExecuteTime": {
     "end_time": "2020-04-10T07:56:05.226528Z",
     "start_time": "2020-04-10T07:55:58.664134Z"
    }
   },
   "outputs": [
    {
     "name": "stdout",
     "output_type": "stream",
     "text": [
      "Téléchargements à lancer\n",
      "{'pandas.core.frame.DataFrame': {'pit_df.csv': 'https://file.io/PEQmvZ'}}\n",
      "  % Total    % Received % Xferd  Average Speed   Time    Time     Time  Current\n",
      "                                 Dload  Upload   Total   Spent    Left  Speed\n",
      "100   192    0   192    0     0    212      0 --:--:-- --:--:-- --:--:--   212\n",
      "\n"
     ]
    }
   ],
   "source": [
    "###################\n",
    "##### Dataframe\n",
    "###################\n",
    "\n",
    "#upload and download\n",
    "\n",
    "from downloadfromFileIO import saveFromFileIO\n",
    "\"\"\" à executer sur datacamp: (apres copie du code uploadfromdatacamp.py)\n",
    "uploadToFileIO(pit_df)\n",
    "\"\"\"\n",
    "\n",
    "tobedownloaded=\"\"\"\n",
    "{pandas.core.frame.DataFrame: {'pit_df.csv': 'https://file.io/PEQmvZ'}}\n",
    "\"\"\"\n",
    "prefixToc='1.1'\n",
    "prefix = saveFromFileIO(tobedownloaded, prefixToc=prefixToc)\n",
    "\n",
    "#initialisation\n",
    "\n",
    "import pandas as pd\n",
    "pit_df = pd.read_csv(prefix+'pit_df.csv',index_col=0)\n"
   ]
  },
  {
   "cell_type": "markdown",
   "metadata": {},
   "source": [
    "### code"
   ]
  },
  {
   "cell_type": "code",
   "execution_count": 2,
   "metadata": {
    "ExecuteTime": {
     "end_time": "2020-04-10T07:56:40.071901Z",
     "start_time": "2020-04-10T07:56:40.058890Z"
    },
    "scrolled": true
   },
   "outputs": [
    {
     "name": "stdout",
     "output_type": "stream",
     "text": [
      "Team         PIT\n",
      "League        NL\n",
      "Year        2012\n",
      "RS           651\n",
      "RA           674\n",
      "W             79\n",
      "G            162\n",
      "Playoffs       0\n",
      "Name: 0, dtype: object\n",
      "Team         PIT\n",
      "League        NL\n",
      "Year        2011\n",
      "RS           610\n",
      "RA           712\n",
      "W             72\n",
      "G            162\n",
      "Playoffs       0\n",
      "Name: 1, dtype: object\n",
      "Team         PIT\n",
      "League        NL\n",
      "Year        2010\n",
      "RS           587\n",
      "RA           866\n",
      "W             57\n",
      "G            162\n",
      "Playoffs       0\n",
      "Name: 2, dtype: object\n",
      "Team         PIT\n",
      "League        NL\n",
      "Year        2009\n",
      "RS           636\n",
      "RA           768\n",
      "W             62\n",
      "G            161\n",
      "Playoffs       0\n",
      "Name: 3, dtype: object\n",
      "Team         PIT\n",
      "League        NL\n",
      "Year        2008\n",
      "RS           735\n",
      "RA           884\n",
      "W             67\n",
      "G            162\n",
      "Playoffs       0\n",
      "Name: 4, dtype: object\n"
     ]
    }
   ],
   "source": [
    "# Iterate over pit_df and print each row\n",
    "for i,row in pit_df.iterrows():\n",
    "    print(row)"
   ]
  },
  {
   "cell_type": "code",
   "execution_count": 3,
   "metadata": {
    "ExecuteTime": {
     "end_time": "2020-04-10T07:58:07.053313Z",
     "start_time": "2020-04-10T07:58:07.042493Z"
    },
    "scrolled": true
   },
   "outputs": [
    {
     "name": "stdout",
     "output_type": "stream",
     "text": [
      "0\n",
      "Team         PIT\n",
      "League        NL\n",
      "Year        2012\n",
      "RS           651\n",
      "RA           674\n",
      "W             79\n",
      "G            162\n",
      "Playoffs       0\n",
      "Name: 0, dtype: object\n",
      "<class 'pandas.core.series.Series'>\n",
      "1\n",
      "Team         PIT\n",
      "League        NL\n",
      "Year        2011\n",
      "RS           610\n",
      "RA           712\n",
      "W             72\n",
      "G            162\n",
      "Playoffs       0\n",
      "Name: 1, dtype: object\n",
      "<class 'pandas.core.series.Series'>\n",
      "2\n",
      "Team         PIT\n",
      "League        NL\n",
      "Year        2010\n",
      "RS           587\n",
      "RA           866\n",
      "W             57\n",
      "G            162\n",
      "Playoffs       0\n",
      "Name: 2, dtype: object\n",
      "<class 'pandas.core.series.Series'>\n",
      "3\n",
      "Team         PIT\n",
      "League        NL\n",
      "Year        2009\n",
      "RS           636\n",
      "RA           768\n",
      "W             62\n",
      "G            161\n",
      "Playoffs       0\n",
      "Name: 3, dtype: object\n",
      "<class 'pandas.core.series.Series'>\n",
      "4\n",
      "Team         PIT\n",
      "League        NL\n",
      "Year        2008\n",
      "RS           735\n",
      "RA           884\n",
      "W             67\n",
      "G            162\n",
      "Playoffs       0\n",
      "Name: 4, dtype: object\n",
      "<class 'pandas.core.series.Series'>\n"
     ]
    }
   ],
   "source": [
    "# Iterate over pit_df and print each index variable and then each row\n",
    "for i,row in pit_df.iterrows():\n",
    "    print(i)\n",
    "    print(row)\n",
    "    print(type(row))"
   ]
  },
  {
   "cell_type": "code",
   "execution_count": 4,
   "metadata": {
    "ExecuteTime": {
     "end_time": "2020-04-10T07:58:42.985910Z",
     "start_time": "2020-04-10T07:58:42.975634Z"
    },
    "scrolled": true
   },
   "outputs": [
    {
     "name": "stdout",
     "output_type": "stream",
     "text": [
      "(0, Team         PIT\n",
      "League        NL\n",
      "Year        2012\n",
      "RS           651\n",
      "RA           674\n",
      "W             79\n",
      "G            162\n",
      "Playoffs       0\n",
      "Name: 0, dtype: object)\n",
      "(1, Team         PIT\n",
      "League        NL\n",
      "Year        2011\n",
      "RS           610\n",
      "RA           712\n",
      "W             72\n",
      "G            162\n",
      "Playoffs       0\n",
      "Name: 1, dtype: object)\n",
      "(2, Team         PIT\n",
      "League        NL\n",
      "Year        2010\n",
      "RS           587\n",
      "RA           866\n",
      "W             57\n",
      "G            162\n",
      "Playoffs       0\n",
      "Name: 2, dtype: object)\n",
      "(3, Team         PIT\n",
      "League        NL\n",
      "Year        2009\n",
      "RS           636\n",
      "RA           768\n",
      "W             62\n",
      "G            161\n",
      "Playoffs       0\n",
      "Name: 3, dtype: object)\n",
      "(4, Team         PIT\n",
      "League        NL\n",
      "Year        2008\n",
      "RS           735\n",
      "RA           884\n",
      "W             67\n",
      "G            162\n",
      "Playoffs       0\n",
      "Name: 4, dtype: object)\n"
     ]
    }
   ],
   "source": [
    "# Use one variable instead of two to store the result of .iterrows()\n",
    "for row_tuple in pit_df.iterrows():\n",
    "    print(row_tuple)"
   ]
  },
  {
   "cell_type": "code",
   "execution_count": 6,
   "metadata": {
    "ExecuteTime": {
     "end_time": "2020-04-10T07:59:46.344913Z",
     "start_time": "2020-04-10T07:59:46.335020Z"
    },
    "scrolled": true
   },
   "outputs": [
    {
     "name": "stdout",
     "output_type": "stream",
     "text": [
      "(0, Team         PIT\n",
      "League        NL\n",
      "Year        2012\n",
      "RS           651\n",
      "RA           674\n",
      "W             79\n",
      "G            162\n",
      "Playoffs       0\n",
      "Name: 0, dtype: object)\n",
      "<class 'tuple'>\n",
      "(1, Team         PIT\n",
      "League        NL\n",
      "Year        2011\n",
      "RS           610\n",
      "RA           712\n",
      "W             72\n",
      "G            162\n",
      "Playoffs       0\n",
      "Name: 1, dtype: object)\n",
      "<class 'tuple'>\n",
      "(2, Team         PIT\n",
      "League        NL\n",
      "Year        2010\n",
      "RS           587\n",
      "RA           866\n",
      "W             57\n",
      "G            162\n",
      "Playoffs       0\n",
      "Name: 2, dtype: object)\n",
      "<class 'tuple'>\n",
      "(3, Team         PIT\n",
      "League        NL\n",
      "Year        2009\n",
      "RS           636\n",
      "RA           768\n",
      "W             62\n",
      "G            161\n",
      "Playoffs       0\n",
      "Name: 3, dtype: object)\n",
      "<class 'tuple'>\n",
      "(4, Team         PIT\n",
      "League        NL\n",
      "Year        2008\n",
      "RS           735\n",
      "RA           884\n",
      "W             67\n",
      "G            162\n",
      "Playoffs       0\n",
      "Name: 4, dtype: object)\n",
      "<class 'tuple'>\n"
     ]
    }
   ],
   "source": [
    "# Print the row and type of each row\n",
    "for row_tuple in pit_df.iterrows():\n",
    "    print(row_tuple)\n",
    "    print(type(row_tuple))"
   ]
  },
  {
   "cell_type": "markdown",
   "metadata": {},
   "source": [
    "## Run differentials with .iterrows()\n",
    "You've been hired by the San Francisco Giants as an analyst—congrats! The team's owner wants you to calculate a metric called the run differential for each season from the year 2008 to 2012. This metric is calculated by subtracting the total number of runs a team allowed in a season from the team's total number of runs scored in a season. 'RS' means runs scored and 'RA' means runs allowed.\n",
    "\n",
    "The below function calculates this metric:\n",
    "```\n",
    "def calc_run_diff(runs_scored, runs_allowed):\n",
    "\n",
    "    run_diff = runs_scored - runs_allowed\n",
    "\n",
    "    return run_diff\n",
    "```\n",
    "A DataFrame has been loaded into your session as giants_df and printed into the console. Let's practice using .iterrows() to add a run differential column to this DataFrame."
   ]
  },
  {
   "cell_type": "markdown",
   "metadata": {},
   "source": [
    "### init"
   ]
  },
  {
   "cell_type": "code",
   "execution_count": 7,
   "metadata": {
    "ExecuteTime": {
     "end_time": "2020-04-10T08:02:05.154759Z",
     "start_time": "2020-04-10T08:02:01.997579Z"
    }
   },
   "outputs": [
    {
     "name": "stdout",
     "output_type": "stream",
     "text": [
      "Téléchargements à lancer\n",
      "{'pandas.core.frame.DataFrame': {'giants_df.csv': 'https://file.io/N3kBks'}}\n",
      "  % Total    % Received % Xferd  Average Speed   Time    Time     Time  Current\n",
      "                                 Dload  Upload   Total   Spent    Left  Speed\n",
      "100   192    0   192    0     0    322      0 --:--:-- --:--:-- --:--:--   322\n",
      "\n"
     ]
    }
   ],
   "source": [
    "###################\n",
    "##### Dataframe\n",
    "###################\n",
    "\n",
    "#upload and download\n",
    "\n",
    "from downloadfromFileIO import saveFromFileIO\n",
    "\"\"\" à executer sur datacamp: (apres copie du code uploadfromdatacamp.py)\n",
    "uploadToFileIO(giants_df)\n",
    "\"\"\"\n",
    "\n",
    "tobedownloaded=\"\"\"\n",
    "{pandas.core.frame.DataFrame: {'giants_df.csv': 'https://file.io/N3kBks'}}\n",
    "\"\"\"\n",
    "prefixToc='1.2'\n",
    "prefix = saveFromFileIO(tobedownloaded, prefixToc=prefixToc)\n",
    "\n",
    "#initialisation\n",
    "\n",
    "import pandas as pd\n",
    "giants_df = pd.read_csv(prefix+'giants_df.csv',index_col=0)\n"
   ]
  },
  {
   "cell_type": "code",
   "execution_count": 12,
   "metadata": {
    "ExecuteTime": {
     "end_time": "2020-04-10T08:05:03.246752Z",
     "start_time": "2020-04-10T08:05:03.243653Z"
    }
   },
   "outputs": [],
   "source": [
    "def calc_run_diff(runs_scored, runs_allowed):\n",
    "\n",
    "    run_diff = runs_scored - runs_allowed\n",
    "\n",
    "    return run_diff"
   ]
  },
  {
   "cell_type": "markdown",
   "metadata": {},
   "source": [
    "### code"
   ]
  },
  {
   "cell_type": "code",
   "execution_count": 9,
   "metadata": {
    "ExecuteTime": {
     "end_time": "2020-04-10T08:02:50.916412Z",
     "start_time": "2020-04-10T08:02:50.911803Z"
    }
   },
   "outputs": [],
   "source": [
    "# Create an empty list to store run differentials\n",
    "run_diffs = []"
   ]
  },
  {
   "cell_type": "code",
   "execution_count": 14,
   "metadata": {
    "ExecuteTime": {
     "end_time": "2020-04-10T08:05:54.773954Z",
     "start_time": "2020-04-10T08:05:54.761271Z"
    }
   },
   "outputs": [
    {
     "name": "stdout",
     "output_type": "stream",
     "text": [
      "  Team League  Year   RS   RA   W    G  Playoffs   RD\n",
      "0  SFG     NL  2012  718  649  94  162         1   69\n",
      "1  SFG     NL  2011  570  578  86  162         0   -8\n",
      "2  SFG     NL  2010  697  583  92  162         1  114\n",
      "3  SFG     NL  2009  657  611  88  162         0   46\n",
      "4  SFG     NL  2008  640  759  72  162         0 -119\n"
     ]
    }
   ],
   "source": [
    "# Write a for loop and collect runs allowed and runs scored for each row\n",
    "for i,row in giants_df.iterrows():\n",
    "    runs_scored = row['RS']\n",
    "    runs_allowed = row['RA']\n",
    "    \n",
    "    # Use the provided function to calculate run_diff for each row\n",
    "    run_diff = calc_run_diff(runs_scored, runs_allowed)\n",
    "    \n",
    "    # Append each run differential to the output list\n",
    "    run_diffs.append(run_diff)\n",
    "\n",
    "giants_df['RD'] = run_diffs\n",
    "print(giants_df)"
   ]
  },
  {
   "cell_type": "markdown",
   "metadata": {},
   "source": [
    "# Another iterator method: .itertuples()\n"
   ]
  },
  {
   "cell_type": "markdown",
   "metadata": {},
   "source": [
    "## Iterating with .itertuples()\n",
    "Remember, .itertuples() returns each DataFrame row as a special data type called a namedtuple. You can look up an attribute within a namedtuple with a special syntax. Let's practice working with namedtuples.\n",
    "\n",
    "A pandas DataFrame has been loaded into your session called rangers_df. This DataFrame contains the stats ('Team', 'League', 'Year', 'RS', 'RA', 'W', 'G', and 'Playoffs') for the Major League baseball team named the Texas Rangers (abbreviated as 'TEX')."
   ]
  },
  {
   "cell_type": "markdown",
   "metadata": {},
   "source": [
    "### init"
   ]
  },
  {
   "cell_type": "code",
   "execution_count": 15,
   "metadata": {
    "ExecuteTime": {
     "end_time": "2020-04-10T08:13:36.796567Z",
     "start_time": "2020-04-10T08:13:33.279746Z"
    }
   },
   "outputs": [
    {
     "name": "stdout",
     "output_type": "stream",
     "text": [
      "Téléchargements à lancer\n",
      "{'pandas.core.frame.DataFrame': {'rangers_df.csv': 'https://file.io/6ihmVR'}}\n",
      "  % Total    % Received % Xferd  Average Speed   Time    Time     Time  Current\n",
      "                                 Dload  Upload   Total   Spent    Left  Speed\n",
      "100  1211    0  1211    0     0   1242      0 --:--:-- --:--:-- --:--:--  1242\n",
      "\n"
     ]
    }
   ],
   "source": [
    "###################\n",
    "##### Dataframe\n",
    "###################\n",
    "\n",
    "#upload and download\n",
    "\n",
    "from downloadfromFileIO import saveFromFileIO\n",
    "\"\"\" à executer sur datacamp: (apres copie du code uploadfromdatacamp.py)\n",
    "uploadToFileIO(rangers_df)\n",
    "\"\"\"\n",
    "\n",
    "tobedownloaded=\"\"\"\n",
    " {pandas.core.frame.DataFrame: {'rangers_df.csv': 'https://file.io/6ihmVR'}}\n",
    "\"\"\"\n",
    "prefixToc='2.1'\n",
    "prefix = saveFromFileIO(tobedownloaded, prefixToc=prefixToc)\n",
    "\n",
    "#initialisation\n",
    "\n",
    "import pandas as pd\n",
    "rangers_df = pd.read_csv(prefix+'rangers_df.csv',index_col=0)\n"
   ]
  },
  {
   "cell_type": "markdown",
   "metadata": {},
   "source": [
    "### code"
   ]
  },
  {
   "cell_type": "code",
   "execution_count": 16,
   "metadata": {
    "ExecuteTime": {
     "end_time": "2020-04-10T08:14:07.313641Z",
     "start_time": "2020-04-10T08:14:07.308236Z"
    },
    "scrolled": true
   },
   "outputs": [
    {
     "name": "stdout",
     "output_type": "stream",
     "text": [
      "Pandas(Index=0, Team='TEX', League='AL', Year=2012, RS=808, RA=707, W=93, G=162, Playoffs=1)\n",
      "Pandas(Index=1, Team='TEX', League='AL', Year=2011, RS=855, RA=677, W=96, G=162, Playoffs=1)\n",
      "Pandas(Index=2, Team='TEX', League='AL', Year=2010, RS=787, RA=687, W=90, G=162, Playoffs=1)\n",
      "Pandas(Index=3, Team='TEX', League='AL', Year=2009, RS=784, RA=740, W=87, G=162, Playoffs=0)\n",
      "Pandas(Index=4, Team='TEX', League='AL', Year=2008, RS=901, RA=967, W=79, G=162, Playoffs=0)\n",
      "Pandas(Index=5, Team='TEX', League='AL', Year=2007, RS=816, RA=844, W=75, G=162, Playoffs=0)\n",
      "Pandas(Index=6, Team='TEX', League='AL', Year=2006, RS=835, RA=784, W=80, G=162, Playoffs=0)\n",
      "Pandas(Index=7, Team='TEX', League='AL', Year=2005, RS=865, RA=858, W=79, G=162, Playoffs=0)\n",
      "Pandas(Index=8, Team='TEX', League='AL', Year=2004, RS=860, RA=794, W=89, G=162, Playoffs=0)\n",
      "Pandas(Index=9, Team='TEX', League='AL', Year=2003, RS=826, RA=969, W=71, G=162, Playoffs=0)\n",
      "Pandas(Index=10, Team='TEX', League='AL', Year=2002, RS=843, RA=882, W=72, G=162, Playoffs=0)\n",
      "Pandas(Index=11, Team='TEX', League='AL', Year=2001, RS=890, RA=968, W=73, G=162, Playoffs=0)\n",
      "Pandas(Index=12, Team='TEX', League='AL', Year=2000, RS=848, RA=974, W=71, G=162, Playoffs=0)\n",
      "Pandas(Index=13, Team='TEX', League='AL', Year=1999, RS=945, RA=859, W=95, G=162, Playoffs=1)\n",
      "Pandas(Index=14, Team='TEX', League='AL', Year=1998, RS=940, RA=871, W=88, G=162, Playoffs=1)\n",
      "Pandas(Index=15, Team='TEX', League='AL', Year=1997, RS=807, RA=823, W=77, G=162, Playoffs=0)\n",
      "Pandas(Index=16, Team='TEX', League='AL', Year=1996, RS=928, RA=799, W=90, G=163, Playoffs=1)\n",
      "Pandas(Index=17, Team='TEX', League='AL', Year=1993, RS=835, RA=751, W=86, G=162, Playoffs=0)\n",
      "Pandas(Index=18, Team='TEX', League='AL', Year=1992, RS=682, RA=753, W=77, G=162, Playoffs=0)\n",
      "Pandas(Index=19, Team='TEX', League='AL', Year=1991, RS=829, RA=814, W=85, G=162, Playoffs=0)\n",
      "Pandas(Index=20, Team='TEX', League='AL', Year=1990, RS=676, RA=696, W=83, G=162, Playoffs=0)\n",
      "Pandas(Index=21, Team='TEX', League='AL', Year=1989, RS=695, RA=714, W=83, G=162, Playoffs=0)\n",
      "Pandas(Index=22, Team='TEX', League='AL', Year=1988, RS=637, RA=735, W=70, G=161, Playoffs=0)\n",
      "Pandas(Index=23, Team='TEX', League='AL', Year=1987, RS=823, RA=849, W=75, G=162, Playoffs=0)\n",
      "Pandas(Index=24, Team='TEX', League='AL', Year=1986, RS=771, RA=743, W=87, G=162, Playoffs=0)\n",
      "Pandas(Index=25, Team='TEX', League='AL', Year=1985, RS=617, RA=785, W=62, G=161, Playoffs=0)\n",
      "Pandas(Index=26, Team='TEX', League='AL', Year=1984, RS=656, RA=714, W=69, G=161, Playoffs=0)\n",
      "Pandas(Index=27, Team='TEX', League='AL', Year=1983, RS=639, RA=609, W=77, G=163, Playoffs=0)\n",
      "Pandas(Index=28, Team='TEX', League='AL', Year=1982, RS=590, RA=749, W=64, G=162, Playoffs=0)\n",
      "Pandas(Index=29, Team='TEX', League='AL', Year=1980, RS=756, RA=752, W=76, G=163, Playoffs=0)\n",
      "Pandas(Index=30, Team='TEX', League='AL', Year=1979, RS=750, RA=698, W=83, G=162, Playoffs=0)\n",
      "Pandas(Index=31, Team='TEX', League='AL', Year=1978, RS=692, RA=632, W=87, G=162, Playoffs=0)\n",
      "Pandas(Index=32, Team='TEX', League='AL', Year=1977, RS=767, RA=657, W=94, G=162, Playoffs=0)\n",
      "Pandas(Index=33, Team='TEX', League='AL', Year=1976, RS=616, RA=652, W=76, G=162, Playoffs=0)\n",
      "Pandas(Index=34, Team='TEX', League='AL', Year=1975, RS=714, RA=733, W=79, G=162, Playoffs=0)\n",
      "Pandas(Index=35, Team='TEX', League='AL', Year=1974, RS=690, RA=698, W=83, G=161, Playoffs=0)\n",
      "Pandas(Index=36, Team='TEX', League='AL', Year=1973, RS=619, RA=844, W=57, G=162, Playoffs=0)\n"
     ]
    }
   ],
   "source": [
    "# Loop over the DataFrame and print each row\n",
    "for row in rangers_df.itertuples():\n",
    "  print(row)"
   ]
  },
  {
   "cell_type": "code",
   "execution_count": 19,
   "metadata": {
    "ExecuteTime": {
     "end_time": "2020-04-10T08:16:16.189800Z",
     "start_time": "2020-04-10T08:16:16.178484Z"
    },
    "scrolled": true
   },
   "outputs": [
    {
     "name": "stdout",
     "output_type": "stream",
     "text": [
      "0 2012 93\n",
      "1 2011 96\n",
      "2 2010 90\n",
      "3 2009 87\n",
      "4 2008 79\n",
      "5 2007 75\n",
      "6 2006 80\n",
      "7 2005 79\n",
      "8 2004 89\n",
      "9 2003 71\n",
      "10 2002 72\n",
      "11 2001 73\n",
      "12 2000 71\n",
      "13 1999 95\n",
      "14 1998 88\n",
      "15 1997 77\n",
      "16 1996 90\n",
      "17 1993 86\n",
      "18 1992 77\n",
      "19 1991 85\n",
      "20 1990 83\n",
      "21 1989 83\n",
      "22 1988 70\n",
      "23 1987 75\n",
      "24 1986 87\n",
      "25 1985 62\n",
      "26 1984 69\n",
      "27 1983 77\n",
      "28 1982 64\n",
      "29 1980 76\n",
      "30 1979 83\n",
      "31 1978 87\n",
      "32 1977 94\n",
      "33 1976 76\n",
      "34 1975 79\n",
      "35 1974 83\n",
      "36 1973 57\n"
     ]
    }
   ],
   "source": [
    "# Loop over the DataFrame and print each row's Index, Year and Wins (W)\n",
    "for row in rangers_df.itertuples():\n",
    "  i = row.Index\n",
    "  year = row.Year\n",
    "  wins = row.W\n",
    "  print(i, year, wins)"
   ]
  },
  {
   "cell_type": "code",
   "execution_count": 20,
   "metadata": {
    "ExecuteTime": {
     "end_time": "2020-04-10T08:16:16.717529Z",
     "start_time": "2020-04-10T08:16:16.702610Z"
    }
   },
   "outputs": [
    {
     "name": "stdout",
     "output_type": "stream",
     "text": [
      "0 2012 93\n",
      "1 2011 96\n",
      "2 2010 90\n",
      "13 1999 95\n",
      "14 1998 88\n",
      "16 1996 90\n"
     ]
    }
   ],
   "source": [
    "# Loop over the DataFrame and print each row's Index, Year and Wins (W)\n",
    "for row in rangers_df.itertuples():\n",
    "  i = row.Index\n",
    "  year = row.Year\n",
    "  wins = row.W\n",
    "    \n",
    "  # Check if rangers made Playoffs (1 means yes; 0 means no)\n",
    "  if row.Playoffs == 1:\n",
    "    print(i, year, wins)"
   ]
  },
  {
   "cell_type": "markdown",
   "metadata": {},
   "source": [
    "## Run differentials with .itertuples()\n",
    "The New York Yankees have made a trade with the San Francisco Giants for your analyst contract— you're a hot commodity! Your new boss has seen your work with the Giants and now wants you to do something similar with the Yankees data. He'd like you to calculate run differentials for the Yankees from the year 1962 to the year 2012 and find which season they had the best run differential.\n",
    "\n",
    "You've remembered the function you used when working with the Giants and quickly write it down:\n",
    "```\n",
    "def calc_run_diff(runs_scored, runs_allowed):\n",
    "\n",
    "    run_diff = runs_scored - runs_allowed\n",
    "\n",
    "    return run_diff\n",
    "```\n",
    "\n",
    "Let's use .itertuples() to loop over the yankees_df DataFrame (which has been loaded into your session) and calculate run differentials."
   ]
  },
  {
   "cell_type": "markdown",
   "metadata": {},
   "source": [
    "### init"
   ]
  },
  {
   "cell_type": "code",
   "execution_count": 21,
   "metadata": {
    "ExecuteTime": {
     "end_time": "2020-04-10T08:17:37.781536Z",
     "start_time": "2020-04-10T08:17:34.255076Z"
    }
   },
   "outputs": [
    {
     "name": "stdout",
     "output_type": "stream",
     "text": [
      "Téléchargements à lancer\n",
      "{'pandas.core.frame.DataFrame': {'yankees_df.csv': 'https://file.io/iaesii'}}\n",
      "  % Total    % Received % Xferd  Average Speed   Time    Time     Time  Current\n",
      "                                 Dload  Upload   Total   Spent    Left  Speed\n",
      "100  1540    0  1540    0     0   1529      0 --:--:--  0:00:01 --:--:--  1529\n",
      "\n"
     ]
    }
   ],
   "source": [
    "###################\n",
    "##### Dataframe\n",
    "###################\n",
    "\n",
    "#upload and download\n",
    "\n",
    "from downloadfromFileIO import saveFromFileIO\n",
    "\"\"\" à executer sur datacamp: (apres copie du code uploadfromdatacamp.py)\n",
    "uploadToFileIO(yankees_df)\n",
    "\"\"\"\n",
    "\n",
    "tobedownloaded=\"\"\"\n",
    "{pandas.core.frame.DataFrame: {'yankees_df.csv': 'https://file.io/iaesii'}}\n",
    "\"\"\"\n",
    "prefixToc='2.2'\n",
    "prefix = saveFromFileIO(tobedownloaded, prefixToc=prefixToc)\n",
    "\n",
    "#initialisation\n",
    "\n",
    "import pandas as pd\n",
    "yankees_df = pd.read_csv(prefix+'yankees_df.csv',index_col=0)\n"
   ]
  },
  {
   "cell_type": "code",
   "execution_count": 24,
   "metadata": {
    "ExecuteTime": {
     "end_time": "2020-04-10T08:18:38.223554Z",
     "start_time": "2020-04-10T08:18:38.220637Z"
    }
   },
   "outputs": [],
   "source": [
    "def calc_run_diff(runs_scored, runs_allowed):\n",
    "\n",
    "    run_diff = runs_scored - runs_allowed\n",
    "\n",
    "    return run_diff"
   ]
  },
  {
   "cell_type": "markdown",
   "metadata": {},
   "source": [
    "### code"
   ]
  },
  {
   "cell_type": "code",
   "execution_count": 25,
   "metadata": {
    "ExecuteTime": {
     "end_time": "2020-04-10T08:19:09.315359Z",
     "start_time": "2020-04-10T08:19:09.309500Z"
    }
   },
   "outputs": [],
   "source": [
    "run_diffs = []\n",
    "\n",
    "# Loop over the DataFrame and calculate each row's run differential\n",
    "for row in yankees_df.itertuples():\n",
    "    \n",
    "    runs_scored = row.RS\n",
    "    runs_allowed = row.RA\n",
    "    run_diff = calc_run_diff(runs_scored, runs_allowed)\n",
    "    \n",
    "    run_diffs.append(run_diff)"
   ]
  },
  {
   "cell_type": "code",
   "execution_count": 26,
   "metadata": {
    "ExecuteTime": {
     "end_time": "2020-04-10T08:19:31.701015Z",
     "start_time": "2020-04-10T08:19:31.683481Z"
    }
   },
   "outputs": [
    {
     "name": "stdout",
     "output_type": "stream",
     "text": [
      "   Team League  Year   RS   RA    W    G  Playoffs   RD\n",
      "0   NYY     AL  2012  804  668   95  162         1  136\n",
      "1   NYY     AL  2011  867  657   97  162         1  210\n",
      "2   NYY     AL  2010  859  693   95  162         1  166\n",
      "3   NYY     AL  2009  915  753  103  162         1  162\n",
      "4   NYY     AL  2008  789  727   89  162         0   62\n",
      "5   NYY     AL  2007  968  777   94  162         1  191\n",
      "6   NYY     AL  2006  930  767   97  162         1  163\n",
      "7   NYY     AL  2005  886  789   95  162         1   97\n",
      "8   NYY     AL  2004  897  808  101  162         1   89\n",
      "9   NYY     AL  2003  877  716  101  163         1  161\n",
      "10  NYY     AL  2002  897  697  103  161         1  200\n",
      "11  NYY     AL  2001  804  713   95  161         1   91\n",
      "12  NYY     AL  2000  871  814   87  161         1   57\n",
      "13  NYY     AL  1999  900  731   98  162         1  169\n",
      "14  NYY     AL  1998  965  656  114  162         1  309\n",
      "15  NYY     AL  1997  891  688   96  162         1  203\n",
      "16  NYY     AL  1996  871  787   92  162         1   84\n",
      "17  NYY     AL  1993  821  761   88  162         0   60\n",
      "18  NYY     AL  1992  733  746   76  162         0  -13\n",
      "19  NYY     AL  1991  674  777   71  162         0 -103\n",
      "20  NYY     AL  1990  603  749   67  162         0 -146\n",
      "21  NYY     AL  1989  698  792   74  161         0  -94\n",
      "22  NYY     AL  1988  772  748   85  161         0   24\n",
      "23  NYY     AL  1987  788  758   89  162         0   30\n",
      "24  NYY     AL  1986  797  738   90  162         0   59\n",
      "25  NYY     AL  1985  839  660   97  161         0  179\n",
      "26  NYY     AL  1984  758  679   87  162         0   79\n",
      "27  NYY     AL  1983  770  703   91  162         0   67\n",
      "28  NYY     AL  1982  709  716   79  162         0   -7\n",
      "29  NYY     AL  1980  820  662  103  162         1  158\n",
      "30  NYY     AL  1979  734  672   89  160         0   62\n",
      "31  NYY     AL  1978  735  582  100  163         1  153\n",
      "32  NYY     AL  1977  831  651  100  162         1  180\n",
      "33  NYY     AL  1976  730  575   97  159         1  155\n",
      "34  NYY     AL  1975  681  588   83  160         0   93\n",
      "35  NYY     AL  1974  671  623   89  162         0   48\n",
      "36  NYY     AL  1973  641  610   80  162         0   31\n",
      "37  NYY     AL  1971  648  641   81  162         0    7\n",
      "38  NYY     AL  1970  680  612   93  163         0   68\n",
      "39  NYY     AL  1969  562  587   80  162         0  -25\n",
      "40  NYY     AL  1968  536  531   83  164         0    5\n",
      "41  NYY     AL  1967  522  621   72  163         0  -99\n",
      "42  NYY     AL  1966  611  612   70  160         0   -1\n",
      "43  NYY     AL  1965  611  604   77  162         0    7\n",
      "44  NYY     AL  1964  730  577   99  164         1  153\n",
      "45  NYY     AL  1963  714  547  104  161         1  167\n",
      "46  NYY     AL  1962  817  680   96  162         1  137\n"
     ]
    }
   ],
   "source": [
    "# Append new column\n",
    "yankees_df['RD'] = run_diffs\n",
    "print(yankees_df)"
   ]
  },
  {
   "cell_type": "markdown",
   "metadata": {},
   "source": [
    "Question\n",
    "\n",
    "In what year within your DataFrame did the New York Yankees have the highest run differential?\n",
    "You'll need to rerun the code that creates the 'RD' column if you'd like to analyze the DataFrame with code rather than looking at the console output."
   ]
  },
  {
   "cell_type": "code",
   "execution_count": 29,
   "metadata": {
    "ExecuteTime": {
     "end_time": "2020-04-10T08:21:21.978743Z",
     "start_time": "2020-04-10T08:21:21.966915Z"
    }
   },
   "outputs": [
    {
     "data": {
      "text/html": [
       "<div>\n",
       "<style scoped>\n",
       "    .dataframe tbody tr th:only-of-type {\n",
       "        vertical-align: middle;\n",
       "    }\n",
       "\n",
       "    .dataframe tbody tr th {\n",
       "        vertical-align: top;\n",
       "    }\n",
       "\n",
       "    .dataframe thead th {\n",
       "        text-align: right;\n",
       "    }\n",
       "</style>\n",
       "<table border=\"1\" class=\"dataframe\">\n",
       "  <thead>\n",
       "    <tr style=\"text-align: right;\">\n",
       "      <th></th>\n",
       "      <th>Year</th>\n",
       "      <th>RD</th>\n",
       "    </tr>\n",
       "  </thead>\n",
       "  <tbody>\n",
       "    <tr>\n",
       "      <th>14</th>\n",
       "      <td>1998</td>\n",
       "      <td>309</td>\n",
       "    </tr>\n",
       "    <tr>\n",
       "      <th>1</th>\n",
       "      <td>2011</td>\n",
       "      <td>210</td>\n",
       "    </tr>\n",
       "    <tr>\n",
       "      <th>15</th>\n",
       "      <td>1997</td>\n",
       "      <td>203</td>\n",
       "    </tr>\n",
       "    <tr>\n",
       "      <th>10</th>\n",
       "      <td>2002</td>\n",
       "      <td>200</td>\n",
       "    </tr>\n",
       "    <tr>\n",
       "      <th>5</th>\n",
       "      <td>2007</td>\n",
       "      <td>191</td>\n",
       "    </tr>\n",
       "  </tbody>\n",
       "</table>\n",
       "</div>"
      ],
      "text/plain": [
       "    Year   RD\n",
       "14  1998  309\n",
       "1   2011  210\n",
       "15  1997  203\n",
       "10  2002  200\n",
       "5   2007  191"
      ]
     },
     "execution_count": 29,
     "metadata": {},
     "output_type": "execute_result"
    }
   ],
   "source": [
    "yankees_df[['Year', 'RD']].sort_values(by='RD', ascending=False).head()"
   ]
  },
  {
   "cell_type": "markdown",
   "metadata": {},
   "source": [
    "# pandas alternative to looping\n"
   ]
  },
  {
   "attachments": {
    "image.png": {
     "image/png": "[encoded data removed]"
    }
   },
   "cell_type": "markdown",
   "metadata": {},
   "source": [
    "![image.png](attachment:image.png)"
   ]
  },
  {
   "cell_type": "markdown",
   "metadata": {},
   "source": [
    "## Analyzing baseball stats with .apply()\n",
    "The Tampa Bay Rays want you to analyze their data.\n",
    "\n",
    "They'd like the following metrics:\n",
    "\n",
    "The sum of each column in the data\n",
    "The total amount of runs scored in a year ('RS' + 'RA' for each year)\n",
    "The 'Playoffs' column in text format rather than using 1's and 0's\n",
    "The below function can be used to convert the 'Playoffs' column to text:\n",
    "```\n",
    "def text_playoffs(num_playoffs): \n",
    "    if num_playoffs == 1:\n",
    "        return 'Yes'\n",
    "    else:\n",
    "        return 'No' \n",
    "```\n",
    "Use .apply() to get these metrics. A DataFrame (rays_df) has been loaded and printed to the console. This DataFrame is indexed on the 'Year' column."
   ]
  },
  {
   "cell_type": "markdown",
   "metadata": {},
   "source": [
    "### init"
   ]
  },
  {
   "cell_type": "code",
   "execution_count": 30,
   "metadata": {
    "ExecuteTime": {
     "end_time": "2020-04-10T08:28:41.511731Z",
     "start_time": "2020-04-10T08:28:40.656665Z"
    }
   },
   "outputs": [
    {
     "name": "stdout",
     "output_type": "stream",
     "text": [
      "Téléchargements à lancer\n",
      "{'pandas.core.frame.DataFrame': {'rays_df.csv': 'https://file.io/ULWo8Q'}}\n",
      "  % Total    % Received % Xferd  Average Speed   Time    Time     Time  Current\n",
      "                                 Dload  Upload   Total   Spent    Left  Speed\n",
      "100   108    0   108    0     0    187      0 --:--:-- --:--:-- --:--:--   187\n",
      "\n"
     ]
    }
   ],
   "source": [
    "###################\n",
    "##### Dataframe\n",
    "###################\n",
    "\n",
    "#upload and download\n",
    "\n",
    "from downloadfromFileIO import saveFromFileIO\n",
    "\"\"\" à executer sur datacamp: (apres copie du code uploadfromdatacamp.py)\n",
    "uploadToFileIO(rays_df)\n",
    "\"\"\"\n",
    "\n",
    "tobedownloaded=\"\"\"\n",
    "{pandas.core.frame.DataFrame: {'rays_df.csv': 'https://file.io/ULWo8Q'}}\n",
    "\"\"\"\n",
    "prefixToc='3.1'\n",
    "prefix = saveFromFileIO(tobedownloaded, prefixToc=prefixToc)\n",
    "\n",
    "#initialisation\n",
    "\n",
    "import pandas as pd\n",
    "rays_df = pd.read_csv(prefix+'rays_df.csv',index_col=0)\n"
   ]
  },
  {
   "cell_type": "code",
   "execution_count": 31,
   "metadata": {
    "ExecuteTime": {
     "end_time": "2020-04-10T08:28:50.036299Z",
     "start_time": "2020-04-10T08:28:50.030659Z"
    }
   },
   "outputs": [],
   "source": [
    "def text_playoffs(num_playoffs): \n",
    "    if num_playoffs == 1:\n",
    "        return 'Yes'\n",
    "    else:\n",
    "        return 'No' "
   ]
  },
  {
   "cell_type": "markdown",
   "metadata": {},
   "source": [
    "### code"
   ]
  },
  {
   "cell_type": "code",
   "execution_count": 32,
   "metadata": {
    "ExecuteTime": {
     "end_time": "2020-04-10T08:29:41.969381Z",
     "start_time": "2020-04-10T08:29:41.951655Z"
    }
   },
   "outputs": [
    {
     "name": "stdout",
     "output_type": "stream",
     "text": [
      "RS          3783\n",
      "RA          3265\n",
      "W            458\n",
      "Playoffs       3\n",
      "dtype: int64\n"
     ]
    }
   ],
   "source": [
    "# Gather sum of all columns\n",
    "stat_totals = rays_df.apply(sum, axis=0)\n",
    "print(stat_totals)"
   ]
  },
  {
   "cell_type": "code",
   "execution_count": 33,
   "metadata": {
    "ExecuteTime": {
     "end_time": "2020-04-10T08:30:29.630489Z",
     "start_time": "2020-04-10T08:30:29.621467Z"
    }
   },
   "outputs": [
    {
     "name": "stdout",
     "output_type": "stream",
     "text": [
      "2012    1274\n",
      "2011    1321\n",
      "2010    1451\n",
      "2009    1557\n",
      "2008    1445\n",
      "dtype: int64\n"
     ]
    }
   ],
   "source": [
    "# Gather total runs scored in all games per year\n",
    "total_runs_scored = rays_df[['RS', 'RA']].apply(sum, axis=1)\n",
    "print(total_runs_scored)"
   ]
  },
  {
   "cell_type": "code",
   "execution_count": 35,
   "metadata": {
    "ExecuteTime": {
     "end_time": "2020-04-10T08:31:24.527876Z",
     "start_time": "2020-04-10T08:31:24.521715Z"
    }
   },
   "outputs": [
    {
     "name": "stdout",
     "output_type": "stream",
     "text": [
      "2012     No\n",
      "2011    Yes\n",
      "2010    Yes\n",
      "2009     No\n",
      "2008    Yes\n",
      "dtype: object\n"
     ]
    }
   ],
   "source": [
    "# Convert numeric playoffs to text\n",
    "textual_playoffs = rays_df.apply(lambda row: text_playoffs(row['Playoffs']), axis=1)\n",
    "print(textual_playoffs)"
   ]
  },
  {
   "cell_type": "markdown",
   "metadata": {},
   "source": [
    "## Settle a debate with .apply()\n",
    "Word has gotten to the Arizona Diamondbacks about your awesome analytics skills. They'd like for you to help settle a debate amongst the managers. One manager claims that the team has made the playoffs every year they have had a win percentage of 0.50 or greater. Another manager says this is not true.\n",
    "\n",
    "Let's use the below function and the .apply() method to see which manager is correct.\n",
    "```\n",
    "def calc_win_perc(wins, games_played):\n",
    "    win_perc = wins / games_played\n",
    "    return np.round(win_perc,2)\n",
    "```\n",
    "A DataFrame named dbacks_df has been loaded into your session."
   ]
  },
  {
   "cell_type": "markdown",
   "metadata": {},
   "source": [
    "### init"
   ]
  },
  {
   "cell_type": "code",
   "execution_count": 36,
   "metadata": {
    "ExecuteTime": {
     "end_time": "2020-04-10T08:32:50.399356Z",
     "start_time": "2020-04-10T08:32:49.210795Z"
    }
   },
   "outputs": [
    {
     "name": "stdout",
     "output_type": "stream",
     "text": [
      "Téléchargements à lancer\n",
      "{'pandas.core.frame.DataFrame': {'dbacks_df.csv': 'https://file.io/bjqHbg'}}\n",
      "  % Total    % Received % Xferd  Average Speed   Time    Time     Time  Current\n",
      "                                 Dload  Upload   Total   Spent    Left  Speed\n",
      "100   508    0   508    0     0    878      0 --:--:-- --:--:-- --:--:--   877\n",
      "\n"
     ]
    }
   ],
   "source": [
    "###################\n",
    "##### Dataframe\n",
    "###################\n",
    "\n",
    "#upload and download\n",
    "\n",
    "from downloadfromFileIO import saveFromFileIO\n",
    "\"\"\" à executer sur datacamp: (apres copie du code uploadfromdatacamp.py)\n",
    "uploadToFileIO(dbacks_df)\n",
    "\"\"\"\n",
    "\n",
    "tobedownloaded=\"\"\"\n",
    " {pandas.core.frame.DataFrame: {'dbacks_df.csv': 'https://file.io/bjqHbg'}}\n",
    "\"\"\"\n",
    "prefixToc='3.2'\n",
    "prefix = saveFromFileIO(tobedownloaded, prefixToc=prefixToc)\n",
    "\n",
    "#initialisation\n",
    "\n",
    "import pandas as pd\n",
    "dbacks_df = pd.read_csv(prefix+'dbacks_df.csv',index_col=0)\n"
   ]
  },
  {
   "cell_type": "code",
   "execution_count": 37,
   "metadata": {
    "ExecuteTime": {
     "end_time": "2020-04-10T08:32:56.584937Z",
     "start_time": "2020-04-10T08:32:56.579959Z"
    }
   },
   "outputs": [],
   "source": [
    "def calc_win_perc(wins, games_played):\n",
    "    win_perc = wins / games_played\n",
    "    return np.round(win_perc,2)"
   ]
  },
  {
   "cell_type": "markdown",
   "metadata": {},
   "source": [
    "### code"
   ]
  },
  {
   "cell_type": "code",
   "execution_count": 38,
   "metadata": {
    "ExecuteTime": {
     "end_time": "2020-04-10T08:33:07.918199Z",
     "start_time": "2020-04-10T08:33:07.910027Z"
    }
   },
   "outputs": [
    {
     "name": "stdout",
     "output_type": "stream",
     "text": [
      "  Team League  Year   RS   RA   W    G  Playoffs\n",
      "0  ARI     NL  2012  734  688  81  162         0\n",
      "1  ARI     NL  2011  731  662  94  162         1\n",
      "2  ARI     NL  2010  713  836  65  162         0\n",
      "3  ARI     NL  2009  720  782  70  162         0\n",
      "4  ARI     NL  2008  720  706  82  162         0\n"
     ]
    }
   ],
   "source": [
    "# Display the first five rows of the DataFrame\n",
    "print(dbacks_df.head())"
   ]
  },
  {
   "cell_type": "code",
   "execution_count": 39,
   "metadata": {
    "ExecuteTime": {
     "end_time": "2020-04-10T08:33:59.352181Z",
     "start_time": "2020-04-10T08:33:59.340181Z"
    }
   },
   "outputs": [
    {
     "name": "stdout",
     "output_type": "stream",
     "text": [
      "0     0.50\n",
      "1     0.58\n",
      "2     0.40\n",
      "3     0.43\n",
      "4     0.51\n",
      "5     0.56\n",
      "6     0.47\n",
      "7     0.48\n",
      "8     0.31\n",
      "9     0.52\n",
      "10    0.60\n",
      "11    0.57\n",
      "12    0.52\n",
      "13    0.62\n",
      "14    0.40\n",
      "dtype: float64 \n",
      "\n"
     ]
    }
   ],
   "source": [
    "# Create a win percentage Series \n",
    "win_percs = dbacks_df.apply(lambda row: calc_win_perc(row['W'], row['G']), axis=1)\n",
    "print(win_percs, '\\n')"
   ]
  },
  {
   "cell_type": "code",
   "execution_count": 40,
   "metadata": {
    "ExecuteTime": {
     "end_time": "2020-04-10T08:34:24.691107Z",
     "start_time": "2020-04-10T08:34:24.678110Z"
    }
   },
   "outputs": [
    {
     "name": "stdout",
     "output_type": "stream",
     "text": [
      "   Team League  Year   RS   RA    W    G  Playoffs    WP\n",
      "0   ARI     NL  2012  734  688   81  162         0  0.50\n",
      "1   ARI     NL  2011  731  662   94  162         1  0.58\n",
      "2   ARI     NL  2010  713  836   65  162         0  0.40\n",
      "3   ARI     NL  2009  720  782   70  162         0  0.43\n",
      "4   ARI     NL  2008  720  706   82  162         0  0.51\n",
      "5   ARI     NL  2007  712  732   90  162         1  0.56\n",
      "6   ARI     NL  2006  773  788   76  162         0  0.47\n",
      "7   ARI     NL  2005  696  856   77  162         0  0.48\n",
      "8   ARI     NL  2004  615  899   51  162         0  0.31\n",
      "9   ARI     NL  2003  717  685   84  162         0  0.52\n",
      "10  ARI     NL  2002  819  674   98  162         1  0.60\n",
      "11  ARI     NL  2001  818  677   92  162         1  0.57\n",
      "12  ARI     NL  2000  792  754   85  162         0  0.52\n",
      "13  ARI     NL  1999  908  676  100  162         1  0.62\n",
      "14  ARI     NL  1998  665  812   65  162         0  0.40 \n",
      "\n",
      "   Team League  Year   RS   RA    W    G  Playoffs    WP\n",
      "0   ARI     NL  2012  734  688   81  162         0  0.50\n",
      "1   ARI     NL  2011  731  662   94  162         1  0.58\n",
      "4   ARI     NL  2008  720  706   82  162         0  0.51\n",
      "5   ARI     NL  2007  712  732   90  162         1  0.56\n",
      "9   ARI     NL  2003  717  685   84  162         0  0.52\n",
      "10  ARI     NL  2002  819  674   98  162         1  0.60\n",
      "11  ARI     NL  2001  818  677   92  162         1  0.57\n",
      "12  ARI     NL  2000  792  754   85  162         0  0.52\n",
      "13  ARI     NL  1999  908  676  100  162         1  0.62\n"
     ]
    }
   ],
   "source": [
    "# Append a new column to dbacks_df\n",
    "dbacks_df['WP'] = win_percs\n",
    "print(dbacks_df, '\\n')\n",
    "\n",
    "# Display dbacks_df where WP is greater than 0.50\n",
    "print(dbacks_df[dbacks_df['WP'] >= 0.50])"
   ]
  },
  {
   "cell_type": "markdown",
   "metadata": {},
   "source": [
    "# Optimal pandas iterating\n"
   ]
  },
  {
   "cell_type": "markdown",
   "metadata": {},
   "source": [
    "## Replacing .iloc with underlying arrays\n",
    "Now that you have a better grasp on a DataFrame's internals let's update one of your previous analyses to leverage a DataFrame's underlying arrays. You'll revisit the win percentage calculations you performed row by row with the .iloc method:\n",
    "```\n",
    "def calc_win_perc(wins, games_played):\n",
    "    win_perc = wins / games_played\n",
    "    return np.round(win_perc,2)\n",
    "\n",
    "win_percs_list = []\n",
    "\n",
    "for i in range(len(baseball_df)):\n",
    "    row = baseball_df.iloc[i]\n",
    "\n",
    "    wins = row['W']\n",
    "    games_played = row['G']\n",
    "\n",
    "    win_perc = calc_win_perc(wins, games_played)\n",
    "\n",
    "    win_percs_list.append(win_perc)\n",
    "\n",
    "baseball_df['WP'] = win_percs_list\n",
    "```\n",
    "Let's update this analysis to use arrays instead of the .iloc method. A DataFrame (baseball_df) has been loaded into your session."
   ]
  },
  {
   "cell_type": "markdown",
   "metadata": {},
   "source": [
    "### init"
   ]
  },
  {
   "cell_type": "code",
   "execution_count": 41,
   "metadata": {
    "ExecuteTime": {
     "end_time": "2020-04-10T08:52:15.195233Z",
     "start_time": "2020-04-10T08:52:14.270722Z"
    }
   },
   "outputs": [
    {
     "name": "stdout",
     "output_type": "stream",
     "text": [
      "Téléchargements à lancer\n",
      "{'pandas.core.frame.DataFrame': {'baseball_df.csv': 'https://file.io/eq14qF'}}\n",
      "  % Total    % Received % Xferd  Average Speed   Time    Time     Time  Current\n",
      "                                 Dload  Upload   Total   Spent    Left  Speed\n",
      "100 40869    0 40869    0     0  60457      0 --:--:-- --:--:-- --:--:-- 60457\n",
      "\n"
     ]
    }
   ],
   "source": [
    "###################\n",
    "##### Dataframe\n",
    "###################\n",
    "\n",
    "#upload and download\n",
    "\n",
    "from downloadfromFileIO import saveFromFileIO\n",
    "\"\"\" à executer sur datacamp: (apres copie du code uploadfromdatacamp.py)\n",
    "uploadToFileIO(baseball_df)\n",
    "\"\"\"\n",
    "\n",
    "tobedownloaded=\"\"\"\n",
    "{pandas.core.frame.DataFrame: {'baseball_df.csv': 'https://file.io/eq14qF'}}\n",
    "\"\"\"\n",
    "prefixToc='4.1'\n",
    "prefix = saveFromFileIO(tobedownloaded, prefixToc=prefixToc)\n",
    "\n",
    "#initialisation\n",
    "\n",
    "import pandas as pd\n",
    "baseball_df = pd.read_csv(prefix+'baseball_df.csv',index_col=0)\n"
   ]
  },
  {
   "cell_type": "code",
   "execution_count": 42,
   "metadata": {
    "ExecuteTime": {
     "end_time": "2020-04-10T08:58:23.936780Z",
     "start_time": "2020-04-10T08:58:23.932312Z"
    }
   },
   "outputs": [],
   "source": [
    "def calc_win_perc(wins, games_played):\n",
    "    win_perc = wins / games_played\n",
    "    return np.round(win_perc,2)"
   ]
  },
  {
   "cell_type": "markdown",
   "metadata": {},
   "source": [
    "### code"
   ]
  },
  {
   "cell_type": "code",
   "execution_count": 44,
   "metadata": {
    "ExecuteTime": {
     "end_time": "2020-04-10T08:58:54.367267Z",
     "start_time": "2020-04-10T08:58:54.363211Z"
    }
   },
   "outputs": [],
   "source": [
    "# Use the W array and G array to calculate win percentages\n",
    "win_percs_np = calc_win_perc(baseball_df['W'].values, baseball_df['G'].values)"
   ]
  },
  {
   "cell_type": "code",
   "execution_count": 45,
   "metadata": {
    "ExecuteTime": {
     "end_time": "2020-04-10T08:59:17.633320Z",
     "start_time": "2020-04-10T08:59:17.625558Z"
    }
   },
   "outputs": [
    {
     "name": "stdout",
     "output_type": "stream",
     "text": [
      "  Team League  Year   RS   RA   W    G  Playoffs    WP\n",
      "0  ARI     NL  2012  734  688  81  162         0  0.50\n",
      "1  ATL     NL  2012  700  600  94  162         1  0.58\n",
      "2  BAL     AL  2012  712  705  93  162         1  0.57\n",
      "3  BOS     AL  2012  734  806  69  162         0  0.43\n",
      "4  CHC     NL  2012  613  759  61  162         0  0.38\n"
     ]
    }
   ],
   "source": [
    "# Append a new column to baseball_df that stores all win percentages\n",
    "baseball_df['WP'] = win_percs_np\n",
    "\n",
    "print(baseball_df.head())"
   ]
  },
  {
   "cell_type": "markdown",
   "metadata": {},
   "source": [
    "Question\n",
    "\n",
    "Use timeit in cell magic mode within your IPython console to compare the runtimes between the old code block using .iloc and the new code you developed using NumPy arrays.\n",
    "\n",
    "Don't include the code that defines the calc_win_perc() function or the print() statements or when timing.\n",
    "\n",
    "You should include eight lines of code when timing the old code block and two lines of code when timing the new code you developed. You may need to press SHIFT+ENTER when using timeit in cell magic mode to get to a new line within your IPython console."
   ]
  },
  {
   "cell_type": "code",
   "execution_count": 46,
   "metadata": {
    "ExecuteTime": {
     "end_time": "2020-04-10T09:00:30.507878Z",
     "start_time": "2020-04-10T09:00:26.878260Z"
    }
   },
   "outputs": [
    {
     "name": "stdout",
     "output_type": "stream",
     "text": [
      "448 µs ± 9.17 µs per loop (mean ± std. dev. of 7 runs, 1000 loops each)\n"
     ]
    }
   ],
   "source": [
    "%%timeit\n",
    "win_percs_np = calc_win_perc(baseball_df['W'].values, baseball_df['G'].values)\n",
    "baseball_df['WP'] = win_percs_np\n"
   ]
  },
  {
   "cell_type": "code",
   "execution_count": 47,
   "metadata": {
    "ExecuteTime": {
     "end_time": "2020-04-10T09:00:54.241867Z",
     "start_time": "2020-04-10T09:00:50.509804Z"
    }
   },
   "outputs": [
    {
     "name": "stdout",
     "output_type": "stream",
     "text": [
      "472 ms ± 5.53 ms per loop (mean ± std. dev. of 7 runs, 1 loop each)\n"
     ]
    }
   ],
   "source": [
    "%%timeit\n",
    "win_percs_list = []\n",
    "\n",
    "for i in range(len(baseball_df)):\n",
    "    row = baseball_df.iloc[i]\n",
    "\n",
    "    wins = row['W']\n",
    "    games_played = row['G']\n",
    "\n",
    "    win_perc = calc_win_perc(wins, games_played)\n",
    "\n",
    "    win_percs_list.append(win_perc)\n",
    "\n",
    "baseball_df['WP'] = win_percs_list"
   ]
  },
  {
   "cell_type": "markdown",
   "metadata": {},
   "source": [
    "## Bringing it all together: Predict win percentage\n",
    "A pandas DataFrame (baseball_df) has been loaded into your session. For convenience, a dictionary describing each column within baseball_df has been printed into your console. You can reference these descriptions throughout the exercise.\n",
    "\n",
    "You'd like to attempt to predict a team's win percentage for a given season by using the team's total runs scored in a season ('RS') and total runs allowed in a season ('RA') with the following function:\n",
    "```\n",
    "def predict_win_perc(RS, RA):\n",
    "    prediction = RS ** 2 / (RS ** 2 + RA ** 2)\n",
    "    return np.round(prediction, 2)\n",
    "    \n",
    "```\n",
    "\n",
    "\n",
    "Let's compare the approaches you've learned to calculate a predicted win percentage for each season (or row) in your DataFrame."
   ]
  },
  {
   "cell_type": "markdown",
   "metadata": {},
   "source": [
    "### init"
   ]
  },
  {
   "cell_type": "code",
   "execution_count": 48,
   "metadata": {
    "ExecuteTime": {
     "end_time": "2020-04-10T09:01:45.992019Z",
     "start_time": "2020-04-10T09:01:45.987627Z"
    }
   },
   "outputs": [],
   "source": [
    "def predict_win_perc(RS, RA):\n",
    "    prediction = RS ** 2 / (RS ** 2 + RA ** 2)\n",
    "    return np.round(prediction, 2)"
   ]
  },
  {
   "cell_type": "markdown",
   "metadata": {},
   "source": [
    "### code"
   ]
  },
  {
   "cell_type": "code",
   "execution_count": 49,
   "metadata": {
    "ExecuteTime": {
     "end_time": "2020-04-10T09:02:41.637119Z",
     "start_time": "2020-04-10T09:02:41.613239Z"
    }
   },
   "outputs": [],
   "source": [
    "win_perc_preds_loop = []\n",
    "\n",
    "# Use a loop and .itertuples() to collect each row's predicted win percentage\n",
    "for row in baseball_df.itertuples():\n",
    "    runs_scored = row.RS\n",
    "    runs_allowed = row.RA\n",
    "    win_perc_pred = predict_win_perc(runs_scored, runs_allowed)\n",
    "    win_perc_preds_loop.append(win_perc_pred)"
   ]
  },
  {
   "cell_type": "code",
   "execution_count": 50,
   "metadata": {
    "ExecuteTime": {
     "end_time": "2020-04-10T09:03:09.371780Z",
     "start_time": "2020-04-10T09:03:09.309002Z"
    }
   },
   "outputs": [],
   "source": [
    "# Apply predict_win_perc to each row of the DataFrame\n",
    "win_perc_preds_apply = baseball_df.apply(lambda row: predict_win_perc(row['RS'], row['RA']), axis=1)"
   ]
  },
  {
   "cell_type": "code",
   "execution_count": 51,
   "metadata": {
    "ExecuteTime": {
     "end_time": "2020-04-10T09:03:35.147370Z",
     "start_time": "2020-04-10T09:03:35.137489Z"
    }
   },
   "outputs": [
    {
     "name": "stdout",
     "output_type": "stream",
     "text": [
      "  Team League  Year   RS   RA   W    G  Playoffs    WP  WP_preds\n",
      "0  ARI     NL  2012  734  688  81  162         0  0.50      0.53\n",
      "1  ATL     NL  2012  700  600  94  162         1  0.58      0.58\n",
      "2  BAL     AL  2012  712  705  93  162         1  0.57      0.50\n",
      "3  BOS     AL  2012  734  806  69  162         0  0.43      0.45\n",
      "4  CHC     NL  2012  613  759  61  162         0  0.38      0.39\n"
     ]
    }
   ],
   "source": [
    "# Calculate the win percentage predictions using NumPy arrays\n",
    "win_perc_preds_np = predict_win_perc(baseball_df['RS'].values, baseball_df['RA'].values)\n",
    "baseball_df['WP_preds'] = win_perc_preds_np\n",
    "print(baseball_df.head())"
   ]
  },
  {
   "cell_type": "markdown",
   "metadata": {},
   "source": [
    "Question\n",
    "\n",
    "Compare runtimes within your IPython console between all three approaches used to calculate the predicted win percentages.\n",
    "\n",
    "Use %%timeit (cell magic mode) to time the six lines of code (not including comment lines) for the .itertuples() approach. You may need to press SHIFT+ENTER after entering %%timeit to get to a new line within your IPython console.\n",
    "\n",
    "Use %timeit (line magic mode) to time the .apply() approach and the NumPy array approach separately. Each has only one line of code (not including comment lines).\n",
    "\n",
    "What is the order of approaches from fastest to slowest?"
   ]
  },
  {
   "cell_type": "code",
   "execution_count": 52,
   "metadata": {
    "ExecuteTime": {
     "end_time": "2020-04-10T09:04:15.585960Z",
     "start_time": "2020-04-10T09:04:13.037777Z"
    }
   },
   "outputs": [
    {
     "name": "stdout",
     "output_type": "stream",
     "text": [
      "32 ms ± 1.16 ms per loop (mean ± std. dev. of 7 runs, 10 loops each)\n"
     ]
    }
   ],
   "source": [
    "%%timeit\n",
    "win_perc_preds_loop = []\n",
    "\n",
    "# Use a loop and .itertuples() to collect each row's predicted win percentage\n",
    "for row in baseball_df.itertuples():\n",
    "    runs_scored = row.RS\n",
    "    runs_allowed = row.RA\n",
    "    win_perc_pred = predict_win_perc(runs_scored, runs_allowed)\n",
    "    win_perc_preds_loop.append(win_perc_pred)"
   ]
  },
  {
   "cell_type": "code",
   "execution_count": 53,
   "metadata": {
    "ExecuteTime": {
     "end_time": "2020-04-10T09:04:36.698326Z",
     "start_time": "2020-04-10T09:04:30.097078Z"
    }
   },
   "outputs": [
    {
     "name": "stdout",
     "output_type": "stream",
     "text": [
      "81.6 ms ± 1.84 ms per loop (mean ± std. dev. of 7 runs, 10 loops each)\n"
     ]
    }
   ],
   "source": [
    "%%timeit\n",
    "win_perc_preds_apply = baseball_df.apply(lambda row: predict_win_perc(row['RS'], row['RA']), axis=1)"
   ]
  },
  {
   "cell_type": "code",
   "execution_count": 54,
   "metadata": {
    "ExecuteTime": {
     "end_time": "2020-04-10T09:05:04.252728Z",
     "start_time": "2020-04-10T09:04:48.878537Z"
    }
   },
   "outputs": [
    {
     "name": "stdout",
     "output_type": "stream",
     "text": [
      "191 µs ± 4.33 µs per loop (mean ± std. dev. of 7 runs, 10000 loops each)\n"
     ]
    }
   ],
   "source": [
    "%%timeit\n",
    "win_perc_preds_np = predict_win_perc(baseball_df['RS'].values, baseball_df['RA'].values)\n"
   ]
  },
  {
   "attachments": {
    "image.png": {
     "image/png": "[encoded data removed]"
    }
   },
   "cell_type": "markdown",
   "metadata": {},
   "source": [
    "![image.png](attachment:image.png)"
   ]
  },
  {
   "cell_type": "code",
   "execution_count": null,
   "metadata": {},
   "outputs": [],
   "source": []
  }
 ],
 "metadata": {
  "kernelspec": {
   "display_name": "Python [conda env:datacamp] *",
   "language": "python",
   "name": "conda-env-datacamp-py"
  },
  "language_info": {
   "codemirror_mode": {
    "name": "ipython",
    "version": 3
   },
   "file_extension": ".py",
   "mimetype": "text/x-python",
   "name": "python",
   "nbconvert_exporter": "python",
   "pygments_lexer": "ipython3",
   "version": "3.7.5"
  },
  "toc": {
   "base_numbering": 1,
   "nav_menu": {},
   "number_sections": true,
   "sideBar": true,
   "skip_h1_title": false,
   "title_cell": "Table of Contents",
   "title_sidebar": "Contents",
   "toc_cell": false,
   "toc_position": {},
   "toc_section_display": true,
   "toc_window_display": true
  },
  "varInspector": {
   "cols": {
    "lenName": 16,
    "lenType": 16,
    "lenVar": 40
   },
   "kernels_config": {
    "python": {
     "delete_cmd_postfix": "",
     "delete_cmd_prefix": "del ",
     "library": "var_list.py",
     "varRefreshCmd": "print(var_dic_list())"
    },
    "r": {
     "delete_cmd_postfix": ") ",
     "delete_cmd_prefix": "rm(",
     "library": "var_list.r",
     "varRefreshCmd": "cat(var_dic_list()) "
    }
   },
   "types_to_exclude": [
    "module",
    "function",
    "builtin_function_or_method",
    "instance",
    "_Feature"
   ],
   "window_display": false
  }
 },
 "nbformat": 4,
 "nbformat_minor": 4
}
