{
 "cells": [
  {
   "cell_type": "markdown",
   "metadata": {},
   "source": [
    "# Refresh data from OneDrive\n",
    "Data is stored in <br>\n",
    "`D:\\DOMF\\Sharepoint\\MFP Michelin\\guigui perso - Documents\\Zoé` <br>\n",
    "1st step is to copy to <br> \n",
    "`D:\\git\\datacamp-itp\\data-scientist-skills\\python-sandbox\\zoe\\data`"
   ]
  },
  {
   "cell_type": "code",
   "execution_count": 1,
   "metadata": {},
   "outputs": [],
   "source": [
    "%reload_ext autoreload\n",
    "%autoreload 2"
   ]
  },
  {
   "cell_type": "code",
   "execution_count": 2,
   "metadata": {},
   "outputs": [
    {
     "name": "stdout",
     "output_type": "stream",
     "text": [
      "Before copying file:\n",
      "['kilométrage.xlsx']\n",
      "After copying file:\n",
      "['kilométrage.xlsx']\n",
      "Destination path: D:\\git\\datacamp-itp\\data-scientist-skills\\python-sandbox\\zoe\\data/kilométrage.xlsx\n",
      "2019-10-08 08:06:07.483966\n"
     ]
    }
   ],
   "source": [
    "filename=\"kilométrage.xlsx\"\n",
    "\n",
    "# importing os module  \n",
    "import os \n",
    "  \n",
    "# importing shutil module  \n",
    "import shutil \n",
    "  \n",
    "# path \n",
    "path = 'D:\\DOMF\\Sharepoint\\MFP Michelin\\guigui perso - Documents\\Zoé'\n",
    "  \n",
    "# List files and directories \n",
    "# in '/home/User/Documents' \n",
    "print(\"Before copying file:\") \n",
    "print(os.listdir(path)) \n",
    "  \n",
    "  \n",
    "# Source path \n",
    "source = path+\"/\"+filename\n",
    "  \n",
    "# Destination path \n",
    "destination = \"D:\\git\\datacamp-itp\\data-scientist-skills\\python-sandbox\\zoe\\data/\"+filename\n",
    "  \n",
    "# Copy the content of \n",
    "# source to destination \n",
    "dest = shutil.copyfile(source, destination) \n",
    "  \n",
    "# List files and directories \n",
    "# in \"/home / User / Documents\" \n",
    "print(\"After copying file:\") \n",
    "print(os.listdir(path)) \n",
    "  \n",
    "# Print path of newly  \n",
    "# created file \n",
    "print(\"Destination path:\", dest) \n",
    "\n",
    "import datetime\n",
    "print(datetime.datetime.now())       "
   ]
  },
  {
   "cell_type": "markdown",
   "metadata": {},
   "source": [
    "Data should now be in \n",
    "[data](data/)"
   ]
  },
  {
   "cell_type": "markdown",
   "metadata": {},
   "source": [
    "Load kilometrage in dataframe"
   ]
  },
  {
   "cell_type": "code",
   "execution_count": 3,
   "metadata": {},
   "outputs": [
    {
     "name": "stdout",
     "output_type": "stream",
     "text": [
      "        date  kms\n",
      "0 2019-09-27    0\n",
      "1 2019-09-28   33\n",
      "2 2019-09-29   38\n",
      "3 2019-10-01   92\n",
      "4 2019-10-02  133\n",
      "5 2019-10-03  162\n",
      "6 2019-10-04  192\n",
      "7 2019-10-05  240\n",
      "8 2019-10-06  240\n",
      "9 2019-10-07  243\n"
     ]
    }
   ],
   "source": [
    "import pandas as pd\n",
    "import numpy as np\n",
    "filename='data/kilométrage.xlsx'\n",
    "data=pd.read_excel(filename, names=[\"date\", \"kms\"])\n",
    "print(data.head(10))"
   ]
  },
  {
   "cell_type": "markdown",
   "metadata": {},
   "source": [
    "Turn date column as a datetime index"
   ]
  },
  {
   "cell_type": "code",
   "execution_count": 4,
   "metadata": {},
   "outputs": [],
   "source": [
    "data['datetime']=pd.to_datetime(data['date'])\n",
    "data=data.set_index('datetime')\n",
    "data.drop(['date'], axis=1, inplace=True)"
   ]
  },
  {
   "cell_type": "markdown",
   "metadata": {},
   "source": [
    "Créer un range de data entre le 1er jour et aujourd'hui <br>\n",
    "Remplir les vides avec un pad/ffill (on duplique la derniere valeur connue)"
   ]
  },
  {
   "cell_type": "code",
   "execution_count": 5,
   "metadata": {},
   "outputs": [],
   "source": [
    "to_date_rng = pd.date_range(start='09/27/2019', end = pd.datetime.today(), freq='D')\n",
    "#print(to_date_rng)\n",
    "#print(data.reindex(to_date_rng, method='pad'))\n",
    "data=data.reindex(to_date_rng, method='pad')"
   ]
  },
  {
   "cell_type": "markdown",
   "metadata": {},
   "source": [
    "Display various info about our data"
   ]
  },
  {
   "cell_type": "code",
   "execution_count": 6,
   "metadata": {},
   "outputs": [
    {
     "name": "stdout",
     "output_type": "stream",
     "text": [
      "            kms\n",
      "2019-09-27    0\n",
      "2019-09-28   33\n",
      "2019-09-29   38\n",
      "2019-09-30   38\n",
      "2019-10-01   92\n",
      "<class 'pandas.core.frame.DataFrame'>\n",
      "DatetimeIndex: 12 entries, 2019-09-27 to 2019-10-08\n",
      "Freq: D\n",
      "Data columns (total 1 columns):\n",
      "kms    12 non-null int64\n",
      "dtypes: int64(1)\n",
      "memory usage: 192.0 bytes\n"
     ]
    }
   ],
   "source": [
    "print(data.head())\n",
    "data.info()"
   ]
  },
  {
   "cell_type": "markdown",
   "metadata": {},
   "source": [
    "Plot curve : on visualise les kms effectivement faits"
   ]
  },
  {
   "cell_type": "code",
   "execution_count": 7,
   "metadata": {},
   "outputs": [
    {
     "name": "stderr",
     "output_type": "stream",
     "text": [
      "C:\\Bib\\envs\\zoe\\lib\\site-packages\\pandas\\plotting\\_matplotlib\\converter.py:103: FutureWarning: Using an implicitly registered datetime converter for a matplotlib plotting method. The converter was registered by pandas on import. Future versions of pandas will require you to explicitly register matplotlib converters.\n",
      "\n",
      "To register the converters:\n",
      "\t>>> from pandas.plotting import register_matplotlib_converters\n",
      "\t>>> register_matplotlib_converters()\n",
      "  warnings.warn(msg, FutureWarning)\n"
     ]
    },
    {
     "data": {
      "image/png": "[encoded data removed]",
      "text/plain": [
       "<Figure size 432x288 with 1 Axes>"
      ]
     },
     "metadata": {
      "needs_background": "light"
     },
     "output_type": "display_data"
    }
   ],
   "source": [
    "%matplotlib inline\n",
    "import matplotlib.pyplot as plt\n",
    "plt.plot(data)\n",
    "plt.xlabel('Date')\n",
    "plt.ylabel('# de km')\n",
    "\n",
    "date_enX=data.index[::1] # tous les 1 jours\n",
    "labels_date=date_enX.strftime('%b %d') # mois et jour\n",
    "plt.xticks(date_enX,labels_date,rotation=60)\n",
    "\n",
    "plt.title('Kilomètres en Zoé à date')\n",
    "\n",
    "plt.show()"
   ]
  },
  {
   "cell_type": "markdown",
   "metadata": {},
   "source": [
    "Create a datetime range for 37 months, and a dataset on 37 months"
   ]
  },
  {
   "cell_type": "code",
   "execution_count": 8,
   "metadata": {},
   "outputs": [
    {
     "name": "stdout",
     "output_type": "stream",
     "text": [
      "             kms\n",
      "2019-09-27   0.0\n",
      "2019-09-28  33.0\n",
      "2019-09-29  38.0\n",
      "2019-09-30  38.0\n",
      "2019-10-01  92.0\n",
      "...          ...\n",
      "2022-09-23   NaN\n",
      "2022-09-24   NaN\n",
      "2022-09-25   NaN\n",
      "2022-09-26   NaN\n",
      "2022-09-27   NaN\n",
      "\n",
      "[1097 rows x 1 columns]\n"
     ]
    },
    {
     "data": {
      "image/png": "[encoded data removed]",
      "text/plain": [
       "<Figure size 432x288 with 1 Axes>"
      ]
     },
     "metadata": {
      "needs_background": "light"
     },
     "output_type": "display_data"
    }
   ],
   "source": [
    "date_rng = pd.date_range(start='09/27/2019', end='09/27/2022', freq='D')\n",
    "full_data=data.reindex(date_rng)\n",
    "print(full_data)\n",
    "plt.plot(full_data)\n",
    "plt.show()"
   ]
  },
  {
   "cell_type": "markdown",
   "metadata": {},
   "source": [
    "# Plot data with linear projection\n",
    "Plot a line between 1st day and today, with a linear projection to last day of lease."
   ]
  },
  {
   "cell_type": "code",
   "execution_count": 9,
   "metadata": {},
   "outputs": [
    {
     "data": {
      "image/png": "[encoded data removed]",
      "text/plain": [
       "<Figure size 432x288 with 1 Axes>"
      ]
     },
     "metadata": {
      "needs_background": "light"
     },
     "output_type": "display_data"
    }
   ],
   "source": [
    "from datetime import date\n",
    "\n",
    "data_line=data.iloc[[0,-1]] #on garde le 1er point et le dernier point\n",
    "\n",
    "def get_data_for_linear_projection(intermediate_point):\n",
    "    d0 = date(2019, 9, 27) #date origine du lease\n",
    "    d1 = date(2022, 9, 27) #date fin du lease\n",
    "    d2 = intermediate_point.index[-1].date() #date du 2e point\n",
    "    delta = d1 - d0 #nbre de jours du contrat\n",
    "    delta2 = d2 - d0 #nbre de jours à date\n",
    "    d = pd.DataFrame(0.0, index=np.arange(delta.days+1), columns=['kms'])\n",
    "    pente = intermediate_point.kms[-1]/delta2.days\n",
    "    for i in range(delta.days+1):\n",
    "        kms=i*pente\n",
    "        d['kms'][i]=kms\n",
    "    return d\n",
    "\n",
    "data_line=get_data_for_linear_projection(data_line)\n",
    "data_line=data_line.set_index(date_rng)\n",
    "\n",
    "plt.plot([data_line.index[0], data_line.index[-1]], [0,data_line.kms[-1]],color='green', marker='o', linestyle='dashed', linewidth=1, markersize=12, label='linear projection')\n",
    "plt.plot(full_data, color='blue', label='actual kms')\n",
    "plt.plot([data_line.index[0], data_line.index[-1]], [22500,22500],color='red',linewidth=2, label='kms limit')\n",
    "plt.ylim(-1000,max(22500,data_line.kms[-1])+1000)\n",
    "\n",
    "plt.xlabel('Date')\n",
    "plt.ylabel('# de km')\n",
    "plt.legend(loc='lower right')\n",
    "plt.title('Kilomètres en Zoé')\n",
    "\n",
    "date_enX=data_line.index[::90] # tous les 90 jours\n",
    "labels_date=date_enX.strftime('%b %d %y') # mois et jour\n",
    "plt.xticks(date_enX,labels_date,rotation=60)\n",
    "\n",
    "plt.show()\n",
    "\n"
   ]
  },
  {
   "cell_type": "markdown",
   "metadata": {},
   "source": [
    "## Interpretation of linear projection\n",
    "Projected kms\n",
    "if > limit, estimation of extra kms and at which date"
   ]
  },
  {
   "cell_type": "code",
   "execution_count": 10,
   "metadata": {},
   "outputs": [
    {
     "name": "stdout",
     "output_type": "stream",
     "text": [
      "Projection linéaire sur 37 mois : 28296.7 kms.\n",
      "   Dépassement de 5796.7 kms commencé le 15-Feb-2022.\n"
     ]
    }
   ],
   "source": [
    "print(\"Projection linéaire sur 37 mois : %3.1f kms.\"%data_line.kms[-1])\n",
    "if (data_line.kms[-1] > 22500):\n",
    "    print(\"   Dépassement de %3.1f kms commencé le %s.\" % ((data_line.kms[-1]-22500), data_line[data_line.kms > 22500].index[0].strftime(\"%d-%b-%Y\")))\n",
    "\n",
    "#trouver à quel date on est à 22500"
   ]
  },
  {
   "cell_type": "markdown",
   "metadata": {},
   "source": [
    "# Gradient descent to calculate linear regression"
   ]
  },
  {
   "cell_type": "markdown",
   "metadata": {},
   "source": [
    "Plot data of actual kms"
   ]
  },
  {
   "cell_type": "code",
   "execution_count": 11,
   "metadata": {},
   "outputs": [
    {
     "data": {
      "image/png": "[encoded data removed]",
      "text/plain": [
       "<Figure size 432x288 with 1 Axes>"
      ]
     },
     "metadata": {
      "needs_background": "light"
     },
     "output_type": "display_data"
    }
   ],
   "source": [
    "%matplotlib inline\n",
    "import matplotlib.pyplot as plt\n",
    "plt.plot(data)\n",
    "plt.xlabel('Date')\n",
    "plt.ylabel('# de km')\n",
    "\n",
    "date_enX=data.index[::1] # tous les 1 jours\n",
    "labels_date=date_enX.strftime('%b %d') # mois et jour\n",
    "plt.xticks(date_enX,labels_date,rotation=60)\n",
    "\n",
    "plt.title('Kilomètres en Zoé à date')\n",
    "\n",
    "plt.show()"
   ]
  },
  {
   "cell_type": "markdown",
   "metadata": {},
   "source": [
    "Essayer de faire une animation de type SGD vu dans http://localhost:8889/notebooks/lesson2-sgd.ipynb (fastai lesson 2)"
   ]
  },
  {
   "cell_type": "code",
   "execution_count": 12,
   "metadata": {},
   "outputs": [
    {
     "data": {
      "image/png": "[encoded data removed]",
      "text/plain": [
       "<Figure size 432x288 with 1 Axes>"
      ]
     },
     "metadata": {
      "needs_background": "light"
     },
     "output_type": "display_data"
    }
   ],
   "source": [
    "x=(data.index-pd.Timestamp('2019-09-27')).days\n",
    "y=data.kms.values\n",
    "plt.scatter(x, y,  c='orange')\n",
    "\n",
    "m=len(x)\n",
    "\n",
    "X=np.array([np.ones(m),x])\n",
    "X=np.transpose(X)\n",
    "theta=np.zeros((2,1))\n",
    "\n",
    "# Some gradient descent settings\n",
    "iterations = 1500;\n",
    "alpha = 0.01;"
   ]
  },
  {
   "cell_type": "markdown",
   "metadata": {},
   "source": [
    "## Fonction de coût"
   ]
  },
  {
   "cell_type": "code",
   "execution_count": 13,
   "metadata": {},
   "outputs": [
    {
     "name": "stdout",
     "output_type": "stream",
     "text": [
      "Cout:  [[0.]\n",
      " [0.]] 14505.958333333334\n",
      "Cout:  [-1  2] 12520.041666666666\n"
     ]
    }
   ],
   "source": [
    "def computeCost(X,y,theta):\n",
    "    m=len(y)\n",
    "    theta=theta.reshape(2,1)\n",
    "    y=y.reshape(m,1)\n",
    "    J=0;\n",
    "    squareError=np.square(X@theta-y)\n",
    "    J=np.sum(squareError)/(2*m)\n",
    "    return(J)\n",
    "theta=np.zeros((2,1))    \n",
    "print(\"Cout: \",theta,computeCost(X,y,theta))\n",
    "theta=np.array([-1,2])\n",
    "print(\"Cout: \",theta,computeCost(X,y,theta))"
   ]
  },
  {
   "cell_type": "markdown",
   "metadata": {},
   "source": [
    "## Descente de gradient"
   ]
  },
  {
   "cell_type": "code",
   "execution_count": 14,
   "metadata": {},
   "outputs": [
    {
     "name": "stdout",
     "output_type": "stream",
     "text": [
      "[[ 3.2]\n",
      " [25.1]] [[5121.48490885]\n",
      " [2181.64813822]\n",
      " [1002.164689  ]\n",
      " ...\n",
      " [ 160.99916667]\n",
      " [ 160.99916667]\n",
      " [ 160.99916667]]\n"
     ]
    }
   ],
   "source": [
    "from IPython.core.debugger import set_trace\n",
    "\n",
    "def gradientDescent(X,y,theta,alpha,num_iters):\n",
    "    m=len(y)\n",
    "    theta=theta.reshape(2,1)\n",
    "    y=y.reshape(m,1)\n",
    "    J_history=np.zeros((num_iters,1))\n",
    "    for i in range(num_iters):\n",
    "        newtheta0=theta[0]-alpha*np.sum( (X@theta-y) * X[:,0] ) / m\n",
    "        newtheta1=theta[1]-alpha*np.sum( (X@theta-y) * X[:,1] ) / m\n",
    "        theta=np.array([newtheta0, newtheta1]).reshape(2,1)\n",
    "        J_history[i]=computeCost(X,y,theta)\n",
    "    return theta, J_history\n",
    "\n",
    "theta=np.array([-1,2])\n",
    "alpha=0.001\n",
    "theta, J_history = gradientDescent(X,y,theta,alpha,iterations)\n",
    "print(theta, J_history)"
   ]
  },
  {
   "cell_type": "markdown",
   "metadata": {},
   "source": [
    "## Vitesse de convergence SGD"
   ]
  },
  {
   "cell_type": "code",
   "execution_count": 15,
   "metadata": {},
   "outputs": [
    {
     "data": {
      "text/plain": [
       "[<matplotlib.lines.Line2D at 0x1849fbecdc8>]"
      ]
     },
     "execution_count": 15,
     "metadata": {},
     "output_type": "execute_result"
    },
    {
     "data": {
      "image/png": "[encoded data removed]",
      "text/plain": [
       "<Figure size 432x288 with 1 Axes>"
      ]
     },
     "metadata": {
      "needs_background": "light"
     },
     "output_type": "display_data"
    }
   ],
   "source": [
    "plt.plot(J_history[:100])"
   ]
  },
  {
   "cell_type": "markdown",
   "metadata": {},
   "source": [
    "## On visualise la regression linéaire"
   ]
  },
  {
   "cell_type": "code",
   "execution_count": 16,
   "metadata": {},
   "outputs": [
    {
     "data": {
      "text/plain": [
       "Text(0.5, 1.0, 'Prédiction régression: 27537.9 kms sur 37 mois')"
      ]
     },
     "execution_count": 16,
     "metadata": {},
     "output_type": "execute_result"
    },
    {
     "data": {
      "image/png": "[encoded data removed]",
      "text/plain": [
       "<Figure size 432x288 with 1 Axes>"
      ]
     },
     "metadata": {
      "needs_background": "light"
     },
     "output_type": "display_data"
    }
   ],
   "source": [
    "#on caclule les 2 points\n",
    "x_line=[0,x[-1]]\n",
    "y_line=[theta[0],theta[0]+theta[1]*x[-1]]\n",
    "prediction_km=theta[0]+theta[1]*len(data_line)\n",
    "Title='Prédiction régression: '+np.format_float_positional(prediction_km[0],precision=1)+' kms sur 37 mois'\n",
    "\n",
    "plt.scatter(x, y,  c='orange', label='actual kms')\n",
    "plt.plot(x_line, y_line, c='blue', label='SGD prediction')\n",
    "plt.legend(loc='lower right')\n",
    "plt.title(Title)\n"
   ]
  },
  {
   "cell_type": "markdown",
   "metadata": {},
   "source": [
    "On conserve projection linéaire et régression linéaire."
   ]
  },
  {
   "cell_type": "code",
   "execution_count": 17,
   "metadata": {},
   "outputs": [
    {
     "name": "stdout",
     "output_type": "stream",
     "text": [
      "27537.899999999998\n",
      "28296.727272727272\n",
      "              Projection  Regression\n",
      "date                                \n",
      "2019-10-08  28296.727273     27537.9\n",
      "<class 'pandas.core.frame.DataFrame'>\n",
      "DatetimeIndex: 1 entries, 2019-10-08 to 2019-10-08\n",
      "Data columns (total 2 columns):\n",
      "Projection    1 non-null float64\n",
      "Regression    1 non-null float64\n",
      "dtypes: float64(2)\n",
      "memory usage: 24.0 bytes\n",
      "None\n"
     ]
    }
   ],
   "source": [
    "print(prediction_km[0])\n",
    "print(data_line.kms[-1])\n",
    "\n",
    "df_stockage_projection=pd.DataFrame([[data_line.kms[-1],prediction_km[0]]],columns=['Projection','Regression'])\n",
    "df_stockage_projection['date']=pd.to_datetime('today').replace(hour=0, minute=0, second=0, microsecond=0)\n",
    "df_stockage_projection=df_stockage_projection.set_index('date')\n",
    "print(df_stockage_projection.head())\n",
    "print(df_stockage_projection.info())"
   ]
  },
  {
   "cell_type": "markdown",
   "metadata": {},
   "source": [
    "On recharge l'historique des projections linéaire et régressions linéaire.<br>\n",
    "On ajoute les nouvelles valeurs."
   ]
  },
  {
   "cell_type": "code",
   "execution_count": 18,
   "metadata": {},
   "outputs": [
    {
     "name": "stdout",
     "output_type": "stream",
     "text": [
      "<class 'pandas.core.frame.DataFrame'>\n",
      "DatetimeIndex: 6 entries, 2019-10-02 to 2019-10-08\n",
      "Data columns (total 2 columns):\n",
      "Projection    6 non-null float64\n",
      "Regression    6 non-null float64\n",
      "dtypes: float64(2)\n",
      "memory usage: 144.0 bytes\n",
      "None\n"
     ]
    },
    {
     "data": {
      "text/html": [
       "<div>\n",
       "<style scoped>\n",
       "    .dataframe tbody tr th:only-of-type {\n",
       "        vertical-align: middle;\n",
       "    }\n",
       "\n",
       "    .dataframe tbody tr th {\n",
       "        vertical-align: top;\n",
       "    }\n",
       "\n",
       "    .dataframe thead th {\n",
       "        text-align: right;\n",
       "    }\n",
       "</style>\n",
       "<table border=\"1\" class=\"dataframe\">\n",
       "  <thead>\n",
       "    <tr style=\"text-align: right;\">\n",
       "      <th></th>\n",
       "      <th>Projection</th>\n",
       "      <th>Regression</th>\n",
       "    </tr>\n",
       "    <tr>\n",
       "      <th>date</th>\n",
       "      <th></th>\n",
       "      <th></th>\n",
       "    </tr>\n",
       "  </thead>\n",
       "  <tbody>\n",
       "    <tr>\n",
       "      <td>2019-10-02</td>\n",
       "      <td>29153.600000</td>\n",
       "      <td>21744.379310</td>\n",
       "    </tr>\n",
       "    <tr>\n",
       "      <td>2019-10-03</td>\n",
       "      <td>29592.000000</td>\n",
       "      <td>23873.171429</td>\n",
       "    </tr>\n",
       "    <tr>\n",
       "      <td>2019-10-04</td>\n",
       "      <td>30061.714286</td>\n",
       "      <td>25380.924528</td>\n",
       "    </tr>\n",
       "    <tr>\n",
       "      <td>2019-10-05</td>\n",
       "      <td>32880.000000</td>\n",
       "      <td>27006.627451</td>\n",
       "    </tr>\n",
       "    <tr>\n",
       "      <td>2019-10-07</td>\n",
       "      <td>26632.800000</td>\n",
       "      <td>27359.545455</td>\n",
       "    </tr>\n",
       "    <tr>\n",
       "      <td>2019-10-08</td>\n",
       "      <td>28296.727273</td>\n",
       "      <td>27537.900000</td>\n",
       "    </tr>\n",
       "  </tbody>\n",
       "</table>\n",
       "</div>"
      ],
      "text/plain": [
       "              Projection    Regression\n",
       "date                                  \n",
       "2019-10-02  29153.600000  21744.379310\n",
       "2019-10-03  29592.000000  23873.171429\n",
       "2019-10-04  30061.714286  25380.924528\n",
       "2019-10-05  32880.000000  27006.627451\n",
       "2019-10-07  26632.800000  27359.545455\n",
       "2019-10-08  28296.727273  27537.900000"
      ]
     },
     "execution_count": 18,
     "metadata": {},
     "output_type": "execute_result"
    }
   ],
   "source": [
    "df_historique=pd.read_csv('data/historique_predictions.csv',index_col=0)\n",
    "df_historique=df_historique.append(df_stockage_projection)\n",
    "df_historique.index = pd.to_datetime(df_historique.index)\n",
    "print(df_historique.info())\n",
    "df_historique.to_csv('data/historique_predictions.csv') \n",
    "df_historique"
   ]
  },
  {
   "cell_type": "markdown",
   "metadata": {},
   "source": [
    "## On trace les valeurs de projection linéaire et régression, ainsi que la limite."
   ]
  },
  {
   "cell_type": "code",
   "execution_count": 19,
   "metadata": {},
   "outputs": [
    {
     "data": {
      "image/png": "[encoded data removed]",
      "text/plain": [
       "<Figure size 432x288 with 1 Axes>"
      ]
     },
     "metadata": {
      "needs_background": "light"
     },
     "output_type": "display_data"
    }
   ],
   "source": [
    "plt.plot(df_historique.index, df_historique.Projection, label='Projection', color='blue')\n",
    "plt.plot(df_historique.index, df_historique.Regression, label='Regression', color='green')\n",
    "plt.plot(df_historique.index, 22500*np.ones(len(df_historique.Regression)),color='red',linewidth=2, label='kms limit')\n",
    "\n",
    "date_enX=df_historique.index[::1] # tous les 1 jours\n",
    "labels_date=date_enX.strftime('%b %d') # mois et jour\n",
    "plt.xticks(date_enX,labels_date,rotation=60)\n",
    "\n",
    "plt.legend(loc='lower right')\n",
    "plt.title('Evolution des prédictions consommation à 37 mois')\n",
    "plt.show()"
   ]
  },
  {
   "cell_type": "code",
   "execution_count": null,
   "metadata": {},
   "outputs": [],
   "source": []
  }
 ],
 "metadata": {
  "celltoolbar": "Aucun(e)",
  "kernelspec": {
   "display_name": "Python 3",
   "language": "python",
   "name": "python3"
  },
  "language_info": {
   "codemirror_mode": {
    "name": "ipython",
    "version": 3
   },
   "file_extension": ".py",
   "mimetype": "text/x-python",
   "name": "python",
   "nbconvert_exporter": "python",
   "pygments_lexer": "ipython3",
   "version": "3.7.4"
  }
 },
 "nbformat": 4,
 "nbformat_minor": 4
}
