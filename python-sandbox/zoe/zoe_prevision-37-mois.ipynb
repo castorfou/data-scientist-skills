{
 "cells": [
  {
   "cell_type": "markdown",
   "metadata": {},
   "source": [
    "# Refresh data from OneDrive\n",
    "Data is stored in <br>\n",
    "`D:\\DOMF\\Sharepoint\\MFP Michelin\\guigui perso - Documents\\Zoé` <br>\n",
    "1st step is to copy to <br> \n",
    "`D:\\git\\datacamp-itp\\data-scientist-skills\\python-sandbox\\zoe\\data`"
   ]
  },
  {
   "cell_type": "code",
   "execution_count": 24,
   "metadata": {},
   "outputs": [],
   "source": [
    "%reload_ext autoreload\n",
    "%autoreload 2"
   ]
  },
  {
   "cell_type": "markdown",
   "metadata": {},
   "source": [
    "On copie le fichier kilometrage de onedrive dans le rep de travail."
   ]
  },
  {
   "cell_type": "code",
   "execution_count": 25,
   "metadata": {},
   "outputs": [
    {
     "name": "stdout",
     "output_type": "stream",
     "text": [
      "Before copying file:\n",
      "['kilométrage.xlsx']\n",
      "After copying file:\n",
      "['kilométrage.xlsx']\n",
      "Destination path: D:\\git\\datacamp-itp\\data-scientist-skills\\python-sandbox\\zoe\\data/kilométrage.xlsx\n",
      "2019-10-24 08:08:24.172484\n"
     ]
    }
   ],
   "source": [
    "filename=\"kilométrage.xlsx\"\n",
    "\n",
    "# importing os module  \n",
    "import os \n",
    "  \n",
    "# importing shutil module  \n",
    "import shutil \n",
    "  \n",
    "# path \n",
    "path = 'D:\\DOMF\\Sharepoint\\MFP Michelin\\guigui perso - Documents\\Zoé'\n",
    "  \n",
    "# List files and directories \n",
    "# in '/home/User/Documents' \n",
    "print(\"Before copying file:\") \n",
    "print(os.listdir(path)) \n",
    "  \n",
    "  \n",
    "# Source path \n",
    "source = path+\"/\"+filename\n",
    "  \n",
    "# Destination path \n",
    "destination = \"D:\\git\\datacamp-itp\\data-scientist-skills\\python-sandbox\\zoe\\data/\"+filename\n",
    "  \n",
    "# Copy the content of \n",
    "# source to destination \n",
    "dest = shutil.copyfile(source, destination) \n",
    "  \n",
    "# List files and directories \n",
    "# in \"/home / User / Documents\" \n",
    "print(\"After copying file:\") \n",
    "print(os.listdir(path)) \n",
    "  \n",
    "# Print path of newly  \n",
    "# created file \n",
    "print(\"Destination path:\", dest) \n",
    "\n",
    "import datetime\n",
    "print(datetime.datetime.now())       "
   ]
  },
  {
   "cell_type": "markdown",
   "metadata": {},
   "source": [
    "Data should now be in \n",
    "[data](data/)"
   ]
  },
  {
   "cell_type": "markdown",
   "metadata": {},
   "source": [
    "Load kilometrage in dataframe, avec la colonne de date en index"
   ]
  },
  {
   "cell_type": "code",
   "execution_count": 26,
   "metadata": {},
   "outputs": [
    {
     "data": {
      "text/html": [
       "<div>\n",
       "<style scoped>\n",
       "    .dataframe tbody tr th:only-of-type {\n",
       "        vertical-align: middle;\n",
       "    }\n",
       "\n",
       "    .dataframe tbody tr th {\n",
       "        vertical-align: top;\n",
       "    }\n",
       "\n",
       "    .dataframe thead th {\n",
       "        text-align: right;\n",
       "    }\n",
       "</style>\n",
       "<table border=\"1\" class=\"dataframe\">\n",
       "  <thead>\n",
       "    <tr style=\"text-align: right;\">\n",
       "      <th></th>\n",
       "      <th>kms</th>\n",
       "    </tr>\n",
       "    <tr>\n",
       "      <th>date</th>\n",
       "      <th></th>\n",
       "    </tr>\n",
       "  </thead>\n",
       "  <tbody>\n",
       "    <tr>\n",
       "      <td>2019-09-27</td>\n",
       "      <td>0</td>\n",
       "    </tr>\n",
       "    <tr>\n",
       "      <td>2019-09-28</td>\n",
       "      <td>33</td>\n",
       "    </tr>\n",
       "    <tr>\n",
       "      <td>2019-09-29</td>\n",
       "      <td>38</td>\n",
       "    </tr>\n",
       "    <tr>\n",
       "      <td>2019-10-01</td>\n",
       "      <td>92</td>\n",
       "    </tr>\n",
       "    <tr>\n",
       "      <td>2019-10-02</td>\n",
       "      <td>133</td>\n",
       "    </tr>\n",
       "  </tbody>\n",
       "</table>\n",
       "</div>"
      ],
      "text/plain": [
       "            kms\n",
       "date           \n",
       "2019-09-27    0\n",
       "2019-09-28   33\n",
       "2019-09-29   38\n",
       "2019-10-01   92\n",
       "2019-10-02  133"
      ]
     },
     "execution_count": 26,
     "metadata": {},
     "output_type": "execute_result"
    }
   ],
   "source": [
    "import pandas as pd\n",
    "import numpy as np\n",
    "filename='data/kilométrage.xlsx'\n",
    "data=pd.read_excel(filename, names=[\"date\", \"kms\"],parse_dates=True, index_col=0)\n",
    "data.head()"
   ]
  },
  {
   "cell_type": "markdown",
   "metadata": {},
   "source": [
    "Créer un range de data entre le 1er jour et aujourd'hui <br>\n",
    "En faire un index (sans compléter les valeurs)"
   ]
  },
  {
   "cell_type": "code",
   "execution_count": 27,
   "metadata": {},
   "outputs": [],
   "source": [
    "to_date_rng = pd.date_range(start='09/27/2019', end = pd.datetime.today(), freq='D')\n",
    "#print(to_date_rng)\n",
    "#print(data.reindex(to_date_rng, method='pad'))\n",
    "data=data.reindex(to_date_rng)"
   ]
  },
  {
   "cell_type": "markdown",
   "metadata": {},
   "source": [
    "Plot curve : on visualise les kms effectivement faits, en rouge les données manquantes extrapolées linéairement"
   ]
  },
  {
   "cell_type": "raw",
   "metadata": {},
   "source": [
    "Pour une question de piquets et intervalles, on doit \"etendre\" la détection des valeurs manquantes aux bornes inf et sup.\n",
    "False, False, True, False --> False, True, True, True"
   ]
  },
  {
   "cell_type": "code",
   "execution_count": 28,
   "metadata": {},
   "outputs": [
    {
     "name": "stdout",
     "output_type": "stream",
     "text": [
      "              kms\n",
      "index            \n",
      "2019-09-27  False\n",
      "2019-09-28  False\n",
      "2019-09-29   True\n",
      "2019-09-30   True\n",
      "2019-10-01   True\n"
     ]
    }
   ],
   "source": [
    "def extend_missing(missing):\n",
    "    missing_array=missing.values\n",
    "    new_missing=missing_array.copy()\n",
    "    for i in range(len(missing_array)-1):\n",
    "        if ((~missing_array[i]) & (missing_array[i+1])):\n",
    "            new_missing[i]=True\n",
    "        if ((missing_array[i]) & (~missing_array[i+1])):\n",
    "            new_missing[i+1]=True\n",
    "    df_new_missing=pd.DataFrame(new_missing)\n",
    "    df_new_missing['index']=missing.index\n",
    "    df_new_missing.set_index('index', inplace=True)\n",
    "    df_new_missing.columns=missing.columns\n",
    "    return df_new_missing\n",
    "\n",
    "missing_values = data.isna()\n",
    "print(extend_missing(missing_values).head())"
   ]
  },
  {
   "cell_type": "markdown",
   "metadata": {},
   "source": [
    "On affiche les kms parcourus et en rouge une droite reliant les valeurs connues"
   ]
  },
  {
   "cell_type": "code",
   "execution_count": 29,
   "metadata": {},
   "outputs": [
    {
     "data": {
      "image/png": "[encoded data removed]",
      "text/plain": [
       "<Figure size 1080x720 with 1 Axes>"
      ]
     },
     "metadata": {
      "needs_background": "light"
     },
     "output_type": "display_data"
    }
   ],
   "source": [
    "%matplotlib inline\n",
    "import matplotlib.pyplot as plt\n",
    "#The converter was registered by pandas on import. Future versions of pandas will require you to explicitly register matplotlib converters\n",
    "#To register the converters:\n",
    "from pandas.plotting import register_matplotlib_converters\n",
    "register_matplotlib_converters()\n",
    "\n",
    "# Create a function we'll use to interpolate and plot\n",
    "def interpolate_and_plot(data, interpolation, title='No title'):\n",
    "\n",
    "    # Create a boolean mask for missing values\n",
    "    missing_values = data.isna()\n",
    "    # Extend this mask with extend_missing\n",
    "    new_missing=extend_missing(missing_values)\n",
    "\n",
    "    # Interpolate the missing values\n",
    "    data_interp = data.interpolate(interpolation)\n",
    "\n",
    "    # Plot the results\n",
    "    fig, ax = plt.subplots(figsize=(15, 10))\n",
    "    \n",
    "    #en noir les valeurs connues\n",
    "    data_interp[~missing_values].plot(color='k', alpha=.6, ax=ax, legend=False)\n",
    "    \n",
    "    plt.xlabel('Date')\n",
    "    date_enX=data.index[::1] # tous les 1 jours\n",
    "    labels_date=date_enX.strftime('%b %d') # mois et jour\n",
    "\n",
    "    plt.ylabel(list(data.columns)[0])\n",
    "    plt.title(title)\n",
    "    \n",
    "    # Now plot the interpolated values on top in red\n",
    "    data_interp[new_missing].plot(ax=ax, color='r', lw=3, legend=False)\n",
    "\n",
    "    plt.xticks(date_enX,labels_date,rotation=60)\n",
    "    plt.show()\n",
    "\n",
    "# Interpolate linearly\n",
    "interpolation_type = 'linear'\n",
    "interpolate_and_plot(data, interpolation_type, title='Kilomètres en Zoé à date')\n",
    "\n",
    "# Interpolate the missing values\n",
    "data_interp = data.interpolate(interpolation_type)\n"
   ]
  },
  {
   "cell_type": "markdown",
   "metadata": {},
   "source": [
    "Create a datetime range for 37 months, and a dataset on 37 months"
   ]
  },
  {
   "cell_type": "code",
   "execution_count": 30,
   "metadata": {},
   "outputs": [
    {
     "name": "stdout",
     "output_type": "stream",
     "text": [
      "             kms\n",
      "2019-09-27   0.0\n",
      "2019-09-28  33.0\n",
      "2019-09-29  38.0\n",
      "2019-09-30  65.0\n",
      "2019-10-01  92.0\n",
      "...          ...\n",
      "2022-09-23   NaN\n",
      "2022-09-24   NaN\n",
      "2022-09-25   NaN\n",
      "2022-09-26   NaN\n",
      "2022-09-27   NaN\n",
      "\n",
      "[1097 rows x 1 columns]\n"
     ]
    },
    {
     "data": {
      "image/png": "[encoded data removed]",
      "text/plain": [
       "<Figure size 432x288 with 1 Axes>"
      ]
     },
     "metadata": {
      "needs_background": "light"
     },
     "output_type": "display_data"
    }
   ],
   "source": [
    "date_rng = pd.date_range(start='09/27/2019', end='09/27/2022', freq='D')\n",
    "full_data=data_interp.reindex(date_rng)\n",
    "print(full_data)\n",
    "plt.plot(full_data)\n",
    "plt.show()"
   ]
  },
  {
   "cell_type": "markdown",
   "metadata": {},
   "source": [
    "# Plot data with linear projection\n",
    "Plot a line between 1st day and today, with a linear projection to last day of lease."
   ]
  },
  {
   "cell_type": "code",
   "execution_count": 31,
   "metadata": {},
   "outputs": [
    {
     "data": {
      "image/png": "[encoded data removed]",
      "text/plain": [
       "<Figure size 432x288 with 1 Axes>"
      ]
     },
     "metadata": {
      "needs_background": "light"
     },
     "output_type": "display_data"
    }
   ],
   "source": [
    "from datetime import date\n",
    "\n",
    "data_line=data_interp.iloc[[0,-1]] #on garde le 1er point et le dernier point\n",
    "\n",
    "def get_data_for_linear_projection(intermediate_point):\n",
    "    d0 = date(2019, 9, 27) #date origine du lease\n",
    "    d1 = date(2022, 9, 27) #date fin du lease\n",
    "    d2 = intermediate_point.index[-1].date() #date du 2e point\n",
    "    delta = d1 - d0 #nbre de jours du contrat\n",
    "    delta2 = d2 - d0 #nbre de jours à date\n",
    "    d = pd.DataFrame(0.0, index=np.arange(delta.days+1), columns=['kms'])\n",
    "    pente = intermediate_point.kms[-1]/delta2.days\n",
    "    for i in range(delta.days+1):\n",
    "        kms=i*pente\n",
    "        d['kms'][i]=kms\n",
    "    return d\n",
    "\n",
    "data_line=get_data_for_linear_projection(data_line)\n",
    "data_line=data_line.set_index(date_rng)\n",
    "\n",
    "plt.plot([data_line.index[0], data_line.index[-1]], [0,data_line.kms[-1]],color='green', marker='o', linestyle='dashed', linewidth=1, markersize=12, label='linear projection')\n",
    "plt.plot(full_data, color='blue', label='actual kms')\n",
    "plt.plot([data_line.index[0], data_line.index[-1]], [22500,22500],color='red',linewidth=2, label='kms limit')\n",
    "plt.ylim(-1000,max(22500,data_line.kms[-1])+1000)\n",
    "\n",
    "plt.xlabel('Date')\n",
    "plt.ylabel('# de km')\n",
    "plt.legend(loc='lower right')\n",
    "plt.title('Kilomètres en Zoé')\n",
    "\n",
    "date_enX=data_line.index[::90] # tous les 90 jours\n",
    "labels_date=date_enX.strftime('%b %d %y') # mois et jour\n",
    "plt.xticks(date_enX,labels_date,rotation=60)\n",
    "\n",
    "plt.show()\n",
    "\n"
   ]
  },
  {
   "cell_type": "markdown",
   "metadata": {},
   "source": [
    "## Interpretation of linear projection\n",
    "Projected kms\n",
    "if > limit, estimation of extra kms and at which date"
   ]
  },
  {
   "cell_type": "code",
   "execution_count": 32,
   "metadata": {},
   "outputs": [
    {
     "name": "stdout",
     "output_type": "stream",
     "text": [
      "Projection linéaire sur 37 mois : 30931.6 kms.\n",
      "   Dépassement de 8431.6 kms commencé le 03-Dec-2021.\n"
     ]
    }
   ],
   "source": [
    "print(\"Projection linéaire sur 37 mois : %3.1f kms.\"%data_line.kms[-1])\n",
    "if (data_line.kms[-1] > 22500):\n",
    "    print(\"   Dépassement de %3.1f kms commencé le %s.\" % ((data_line.kms[-1]-22500), data_line[data_line.kms > 22500].index[0].strftime(\"%d-%b-%Y\")))\n",
    "\n",
    "#trouver à quel date on est à 22500"
   ]
  },
  {
   "cell_type": "markdown",
   "metadata": {},
   "source": [
    "# Gradient descent to calculate linear regression"
   ]
  },
  {
   "cell_type": "markdown",
   "metadata": {},
   "source": [
    "Essayer de faire une animation de type SGD vu dans http://localhost:8889/notebooks/lesson2-sgd.ipynb (fastai lesson 2)"
   ]
  },
  {
   "cell_type": "code",
   "execution_count": 33,
   "metadata": {},
   "outputs": [
    {
     "data": {
      "image/png": "[encoded data removed]",
      "text/plain": [
       "<Figure size 432x288 with 1 Axes>"
      ]
     },
     "metadata": {
      "needs_background": "light"
     },
     "output_type": "display_data"
    }
   ],
   "source": [
    "x=(data_interp.index-pd.Timestamp('2019-09-27')).days\n",
    "y=data_interp.kms.values\n",
    "plt.scatter(x, y,  c='orange')\n",
    "\n",
    "m=len(x)\n",
    "\n",
    "X=np.array([np.ones(m),x])\n",
    "X=np.transpose(X)\n",
    "theta=np.zeros((2,1))\n",
    "\n",
    "# Some gradient descent settings\n",
    "iterations = 1500;\n",
    "alpha = 0.01;"
   ]
  },
  {
   "cell_type": "markdown",
   "metadata": {},
   "source": [
    "## Fonction de coût"
   ]
  },
  {
   "cell_type": "code",
   "execution_count": 34,
   "metadata": {},
   "outputs": [
    {
     "name": "stdout",
     "output_type": "stream",
     "text": [
      "Cout:  [[0.]\n",
      " [0.]] 94286.33928571429\n",
      "Cout:  [-1  2] 81470.80357142857\n"
     ]
    }
   ],
   "source": [
    "def computeCost(X,y,theta):\n",
    "    m=len(y)\n",
    "    theta=theta.reshape(2,1)\n",
    "    y=y.reshape(m,1)\n",
    "    J=0;\n",
    "    squareError=np.square(X@theta-y)\n",
    "    J=np.sum(squareError)/(2*m)\n",
    "    return(J)\n",
    "theta=np.zeros((2,1))    \n",
    "print(\"Cout: \",theta,computeCost(X,y,theta))\n",
    "theta=np.array([-1,2])\n",
    "print(\"Cout: \",theta,computeCost(X,y,theta))"
   ]
  },
  {
   "cell_type": "markdown",
   "metadata": {},
   "source": [
    "## Descente de gradient"
   ]
  },
  {
   "cell_type": "code",
   "execution_count": 35,
   "metadata": {},
   "outputs": [
    {
     "name": "stdout",
     "output_type": "stream",
     "text": [
      "[[ 0.87234457]\n",
      " [27.27665172]] [[19833.33287673]\n",
      " [ 5014.04167209]\n",
      " [ 1400.11908975]\n",
      " ...\n",
      " [  151.89396443]\n",
      " [  151.89396443]\n",
      " [  151.89396443]]\n"
     ]
    }
   ],
   "source": [
    "from IPython.core.debugger import set_trace\n",
    "\n",
    "def gradientDescent(X,y,theta,alpha,num_iters):\n",
    "    m=len(y)\n",
    "    theta=theta.reshape(2,1)\n",
    "    y=y.reshape(m,1)\n",
    "    J_history=np.zeros((num_iters,1))\n",
    "    for i in range(num_iters):\n",
    "        newtheta0=theta[0]-alpha*np.sum( (X@theta-y) * X[:,0] ) / m\n",
    "        newtheta1=theta[1]-alpha*np.sum( (X@theta-y) * X[:,1] ) / m\n",
    "        theta=np.array([newtheta0, newtheta1]).reshape(2,1)\n",
    "        J_history[i]=computeCost(X,y,theta)\n",
    "    return theta, J_history\n",
    "\n",
    "theta=np.array([-1,2])\n",
    "alpha=0.0001\n",
    "theta, J_history = gradientDescent(X,y,theta,alpha,iterations)\n",
    "print(theta, J_history)"
   ]
  },
  {
   "cell_type": "markdown",
   "metadata": {},
   "source": [
    "## Vitesse de convergence SGD"
   ]
  },
  {
   "cell_type": "code",
   "execution_count": 36,
   "metadata": {},
   "outputs": [
    {
     "data": {
      "text/plain": [
       "[<matplotlib.lines.Line2D at 0x252a1c32848>]"
      ]
     },
     "execution_count": 36,
     "metadata": {},
     "output_type": "execute_result"
    },
    {
     "data": {
      "image/png": "[encoded data removed]",
      "text/plain": [
       "<Figure size 432x288 with 1 Axes>"
      ]
     },
     "metadata": {
      "needs_background": "light"
     },
     "output_type": "display_data"
    }
   ],
   "source": [
    "plt.plot(J_history[:100])"
   ]
  },
  {
   "cell_type": "markdown",
   "metadata": {},
   "source": [
    "## On visualise la regression linéaire"
   ]
  },
  {
   "cell_type": "code",
   "execution_count": 37,
   "metadata": {},
   "outputs": [
    {
     "data": {
      "text/plain": [
       "Text(0.5, 1.0, 'Prédiction régression: 29923.4 kms sur 37 mois')"
      ]
     },
     "execution_count": 37,
     "metadata": {},
     "output_type": "execute_result"
    },
    {
     "data": {
      "image/png": "[encoded data removed]",
      "text/plain": [
       "<Figure size 432x288 with 1 Axes>"
      ]
     },
     "metadata": {
      "needs_background": "light"
     },
     "output_type": "display_data"
    }
   ],
   "source": [
    "#on caclule les 2 points\n",
    "x_line=[0,x[-1]]\n",
    "y_line=[theta[0],theta[0]+theta[1]*x[-1]]\n",
    "prediction_km=theta[0]+theta[1]*len(data_line)\n",
    "Title='Prédiction régression: '+np.format_float_positional(prediction_km[0],precision=1)+' kms sur 37 mois'\n",
    "\n",
    "plt.scatter(x, y,  c='orange', label='actual kms')\n",
    "plt.plot(x_line, y_line, c='blue', label='SGD prediction')\n",
    "plt.legend(loc='lower right')\n",
    "plt.title(Title)\n"
   ]
  },
  {
   "cell_type": "markdown",
   "metadata": {},
   "source": [
    "On conserve projection linéaire et régression linéaire."
   ]
  },
  {
   "cell_type": "code",
   "execution_count": 38,
   "metadata": {},
   "outputs": [
    {
     "name": "stdout",
     "output_type": "stream",
     "text": [
      "29923.359286688756\n",
      "30931.555555555555\n",
      "              Projection    Regression\n",
      "date                                  \n",
      "2019-10-24  30931.555556  29923.359287\n"
     ]
    }
   ],
   "source": [
    "#on met les projections et regression dans un dataframe df_stockage_projection\n",
    "print(prediction_km[0])\n",
    "print(data_line.kms[-1])\n",
    "\n",
    "df_stockage_projection=pd.DataFrame([[data_line.kms[-1],prediction_km[0]]],columns=['Projection','Regression'])\n",
    "df_stockage_projection['date']=pd.to_datetime('today').replace(hour=0, minute=0, second=0, microsecond=0)\n",
    "df_stockage_projection=df_stockage_projection.set_index('date')\n",
    "print(df_stockage_projection.head())\n"
   ]
  },
  {
   "cell_type": "markdown",
   "metadata": {},
   "source": [
    "On recharge l'historique des projections linéaire et régressions linéaire.<br>\n",
    "On ajoute les dernières valeurs. (on ecrase les précédentes au besoin)"
   ]
  },
  {
   "cell_type": "code",
   "execution_count": 39,
   "metadata": {},
   "outputs": [
    {
     "data": {
      "text/html": [
       "<div>\n",
       "<style scoped>\n",
       "    .dataframe tbody tr th:only-of-type {\n",
       "        vertical-align: middle;\n",
       "    }\n",
       "\n",
       "    .dataframe tbody tr th {\n",
       "        vertical-align: top;\n",
       "    }\n",
       "\n",
       "    .dataframe thead th {\n",
       "        text-align: right;\n",
       "    }\n",
       "</style>\n",
       "<table border=\"1\" class=\"dataframe\">\n",
       "  <thead>\n",
       "    <tr style=\"text-align: right;\">\n",
       "      <th></th>\n",
       "      <th>Projection</th>\n",
       "      <th>Regression</th>\n",
       "    </tr>\n",
       "    <tr>\n",
       "      <th>date</th>\n",
       "      <th></th>\n",
       "      <th></th>\n",
       "    </tr>\n",
       "  </thead>\n",
       "  <tbody>\n",
       "    <tr>\n",
       "      <td>2019-10-18</td>\n",
       "      <td>30844.571430</td>\n",
       "      <td>29223.230230</td>\n",
       "    </tr>\n",
       "    <tr>\n",
       "      <td>2019-10-21</td>\n",
       "      <td>29729.000000</td>\n",
       "      <td>29652.466210</td>\n",
       "    </tr>\n",
       "    <tr>\n",
       "      <td>2019-10-22</td>\n",
       "      <td>29986.560000</td>\n",
       "      <td>29683.729120</td>\n",
       "    </tr>\n",
       "    <tr>\n",
       "      <td>2019-10-23</td>\n",
       "      <td>30603.692308</td>\n",
       "      <td>29840.772549</td>\n",
       "    </tr>\n",
       "    <tr>\n",
       "      <td>2019-10-24</td>\n",
       "      <td>30931.555556</td>\n",
       "      <td>29923.359287</td>\n",
       "    </tr>\n",
       "  </tbody>\n",
       "</table>\n",
       "</div>"
      ],
      "text/plain": [
       "              Projection    Regression\n",
       "date                                  \n",
       "2019-10-18  30844.571430  29223.230230\n",
       "2019-10-21  29729.000000  29652.466210\n",
       "2019-10-22  29986.560000  29683.729120\n",
       "2019-10-23  30603.692308  29840.772549\n",
       "2019-10-24  30931.555556  29923.359287"
      ]
     },
     "execution_count": 39,
     "metadata": {},
     "output_type": "execute_result"
    }
   ],
   "source": [
    "df_historique=pd.read_csv('data/historique_predictions.csv',index_col=0,parse_dates=True)\n",
    "df_historique=df_historique.append(df_stockage_projection)\n",
    "df_historique=df_historique.reset_index().drop_duplicates(subset='date',keep='last').set_index('date')\n",
    "df_historique.tail(5)"
   ]
  },
  {
   "cell_type": "code",
   "execution_count": 40,
   "metadata": {},
   "outputs": [],
   "source": [
    "df_historique.to_csv('data/historique_predictions.csv') "
   ]
  },
  {
   "cell_type": "markdown",
   "metadata": {},
   "source": [
    "## On trace les valeurs de projection linéaire et régression, ainsi que la limite."
   ]
  },
  {
   "cell_type": "code",
   "execution_count": 41,
   "metadata": {},
   "outputs": [
    {
     "data": {
      "image/png": "[encoded data removed]",
      "text/plain": [
       "<Figure size 432x288 with 1 Axes>"
      ]
     },
     "metadata": {
      "needs_background": "light"
     },
     "output_type": "display_data"
    }
   ],
   "source": [
    "plt.plot(df_historique.index, df_historique.Projection, label='Projection', color='blue')\n",
    "plt.plot(df_historique.index, df_historique.Regression, label='Regression', color='green')\n",
    "plt.plot(df_historique.index, 22500*np.ones(len(df_historique.Regression)),color='red',linewidth=2, label='kms limit')\n",
    "\n",
    "date_enX=df_historique.index[::1] # tous les 1 jours\n",
    "labels_date=date_enX.strftime('%b %d') # mois et jour\n",
    "plt.xticks(date_enX,labels_date,rotation=60)\n",
    "\n",
    "plt.legend(loc='lower right')\n",
    "plt.title('Evolution des prédictions consommation à 37 mois')\n",
    "plt.show()"
   ]
  },
  {
   "cell_type": "code",
   "execution_count": null,
   "metadata": {},
   "outputs": [],
   "source": []
  }
 ],
 "metadata": {
  "celltoolbar": "Aucun(e)",
  "kernelspec": {
   "display_name": "Python 3",
   "language": "python",
   "name": "python3"
  },
  "language_info": {
   "codemirror_mode": {
    "name": "ipython",
    "version": 3
   },
   "file_extension": ".py",
   "mimetype": "text/x-python",
   "name": "python",
   "nbconvert_exporter": "python",
   "pygments_lexer": "ipython3",
   "version": "3.7.4"
  }
 },
 "nbformat": 4,
 "nbformat_minor": 4
}
