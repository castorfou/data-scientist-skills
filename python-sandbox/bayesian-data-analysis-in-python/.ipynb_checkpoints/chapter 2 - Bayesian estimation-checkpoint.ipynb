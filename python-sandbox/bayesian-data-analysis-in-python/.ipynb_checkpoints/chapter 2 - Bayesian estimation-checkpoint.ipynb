{
 "cells": [
  {
   "cell_type": "markdown",
   "metadata": {},
   "source": [
    "# Under the Bayesian hood\n",
    "\n",
    "```python\n",
    "# Grid approximation\n",
    "from scipy.stats import binom\n",
    "from scipy.stats import uniform\n",
    "num_heads = np.arange(0, 101, 1)\n",
    "head_prob = np.arange(0, 1.01, 0.01)\n",
    "coin = pd.DataFrame([(x, y) for x in num_heads for y in head_prob])\n",
    "coin.columns = [\"num_heads\", \"head_prob\"]\n",
    "coin[\"prior\"] = uniform.pdf(coin[\"head_prob\"])\n",
    "coin[\"likelihood\"] = binom.pmf(coin[\"num_heads\"], 100, coin[\"head_prob\"])\n",
    "coin[\"posterior_prob\"] = coin[\"prior\"] * coin[\"likelihood\"]\n",
    "coin[\"posterior_prob\"] /= coin[\"posterior_prob\"].sum()\n",
    "\n",
    "# Plotting posterior distribution\n",
    "# Q: What's the probability of tossing heads with a coin, if we observed 75 heads in 100 tosses?\n",
    "import seaborn as sns\n",
    "import matplotlib.pyplot as plt\n",
    "heads75 = coin.loc[coin[\"num_heads\"] == 75]\n",
    "heads75[\"posterior_prob\"] /= heads75[\"posterior_prob\"].sum()\n",
    "sns.lineplot(heads75[\"head_prob\"], heads75[\"posterior_prob\"])\n",
    "plt.show()\n",
    "\n",
    "```"
   ]
  },
  {
   "cell_type": "markdown",
   "metadata": {},
   "source": [
    "## Towards grid approximation\n",
    "> \n",
    "> Congratulations! You have just been hired as a data analyst at your government's Department of Health. The cabinet is considering the purchase of a brand-new drug against a deadly and contagious virus. There are some doubts, however, regarding how effective the new drug is against the virus. You have been tasked with estimating the drug's efficacy rate, i.e. the percentage of patients cured by the drug.\n",
    "> \n",
    "> An experiment was quickly set up in which 10 sick patients have been treated with the drug. Once you know how many of them are cured, you can use the binomial distribution with a cured patient being a \"success\" and the efficacy rate being the \"probability of success\". While you are waiting for the experiment's results, you decide to prepare the parameter grid.\n",
    "> \n",
    "> `numpy` and `pandas` have been imported for you as `np` and `pd`, respectively."
   ]
  },
  {
   "cell_type": "markdown",
   "metadata": {},
   "source": [
    "[Towards grid approximation | Python](https://campus.datacamp.com/courses/bayesian-data-analysis-in-python/bayesian-estimation?ex=2)\n",
    "\n",
    "> -   Using `np.arange()`, create an array of all possible numbers of patients cured (from 0 to 10) and assign it to `num_patients_cured`.\n",
    "> -   Using `np.arange()`, create an array of all possible values for the efficacy rate (from 0 to 1, by 0.01) and assign it to `efficacy_rate`.\n",
    "> -   Combine `num_patients_cured` and `efficacy_rate` into a DataFrame called `df`, listing all possible combinations of the two.\n",
    "> -   Assign `[\"num_patients_cured\", \"efficacy_rate\"]` to `df`'s columns and print it."
   ]
  },
  {
   "cell_type": "code",
   "execution_count": 1,
   "metadata": {
    "ExecuteTime": {
     "end_time": "2021-04-26T09:08:01.122300Z",
     "start_time": "2021-04-26T09:08:00.955113Z"
    }
   },
   "outputs": [],
   "source": [
    "import numpy as np\n",
    "import pandas as pd"
   ]
  },
  {
   "cell_type": "code",
   "execution_count": 8,
   "metadata": {
    "ExecuteTime": {
     "end_time": "2021-04-26T09:19:53.304154Z",
     "start_time": "2021-04-26T09:19:53.294439Z"
    }
   },
   "outputs": [
    {
     "name": "stdout",
     "output_type": "stream",
     "text": [
      "      num_patients_cured  efficacy_rate\n",
      "0                      0           0.00\n",
      "1                      0           0.01\n",
      "2                      0           0.02\n",
      "3                      0           0.03\n",
      "4                      0           0.04\n",
      "...                  ...            ...\n",
      "1106                  10           0.96\n",
      "1107                  10           0.97\n",
      "1108                  10           0.98\n",
      "1109                  10           0.99\n",
      "1110                  10           1.00\n",
      "\n",
      "[1111 rows x 2 columns]\n"
     ]
    }
   ],
   "source": [
    "# Create cured patients array from 0 to 10\n",
    "num_patients_cured = np.arange(0, 11, 1)\n",
    "\n",
    "# Create efficacy rate array from 0 to 1 by 0.01\n",
    "efficacy_rate = np.arange(0, 1.01, 0.01)\n",
    "\n",
    "# Combine the two arrays in one DataFrame\n",
    "df = pd.DataFrame([(x, y) for x in num_patients_cured for y in efficacy_rate])\n",
    "\n",
    "# Name the columns\n",
    "df.columns = [\"num_patients_cured\", \"efficacy_rate\"]\n",
    "\n",
    "# Print df\n",
    "print(df)"
   ]
  },
  {
   "cell_type": "markdown",
   "metadata": {},
   "source": [
    "## Grid approximation without prior knowledge\n",
    "> \n",
    "> According to the experiment's outcomes, out of 10 sick patients treated with the drug, 9 have been cured. What can you say about the drug's efficacy rate based on such a small sample? Assume you have no prior knowledge whatsoever regarding how good the drug is.\n",
    "> \n",
    "> A DataFrame `df` with all possible combinations of the number of patients cured and the efficacy rate which you created in the previous exercise is available in the workspace.\n",
    "> \n",
    "> `uniform` and `binom` have been imported for you from `scipy.stats`. Also, `pandas` and `seaborn` are imported as `pd` and `sns`, respectively."
   ]
  },
  {
   "cell_type": "markdown",
   "metadata": {},
   "source": [
    "### init"
   ]
  },
  {
   "cell_type": "code",
   "execution_count": 9,
   "metadata": {
    "ExecuteTime": {
     "end_time": "2021-04-26T09:20:02.800797Z",
     "start_time": "2021-04-26T09:20:02.789252Z"
    }
   },
   "outputs": [
    {
     "name": "stdout",
     "output_type": "stream",
     "text": [
      "Téléchargements déjà effectués - SKIP\n"
     ]
    }
   ],
   "source": [
    "###################\n",
    "##### Dataframe\n",
    "###################\n",
    "\n",
    "#upload and download\n",
    "\n",
    "from downloadfromFileIO import saveFromFileIO\n",
    "\"\"\" à executer sur datacamp: (apres copie du code uploadfromdatacamp.py)\n",
    "uploadToFileIO(df)\n",
    "\"\"\"\n",
    "\n",
    "tobedownloaded=\"\"\"\n",
    "{pandas.core.frame.DataFrame: {'df.csv': 'https://file.io/P830G2BHHb6o'}}\n",
    "\"\"\"\n",
    "prefixToc='1.2'\n",
    "prefix = saveFromFileIO(tobedownloaded, prefixToc=prefixToc)\n",
    "\n",
    "#initialisation\n",
    "\n",
    "import pandas as pd\n",
    "df = pd.read_csv(prefix+'df.csv',index_col=0)"
   ]
  },
  {
   "cell_type": "code",
   "execution_count": 19,
   "metadata": {
    "ExecuteTime": {
     "end_time": "2021-04-26T09:29:06.748316Z",
     "start_time": "2021-04-26T09:29:06.741776Z"
    }
   },
   "outputs": [],
   "source": [
    "import numpy as np\n",
    "import pandas as pd\n",
    "from scipy.stats import binom\n",
    "from scipy.stats import uniform\n",
    "import seaborn as sns\n",
    "import matplotlib.pyplot as plt"
   ]
  },
  {
   "cell_type": "markdown",
   "metadata": {},
   "source": [
    "### code"
   ]
  },
  {
   "cell_type": "markdown",
   "metadata": {},
   "source": [
    "[Grid approximation without prior knowledge | Python](https://campus.datacamp.com/courses/bayesian-data-analysis-in-python/bayesian-estimation?ex=3)\n",
    "\n",
    "> -   Calculate a uniform `prior` for `efficacy_rate` using `uniform.pdf()` and assign it as a new column to `df`.\n",
    "> -   Calculate the binomial `likelihood` using `binom.pmf()` by passing the number of \"successes\", the total number of observations, and the \"probability of success\", and assign the result as a new column to `df`."
   ]
  },
  {
   "cell_type": "code",
   "execution_count": 12,
   "metadata": {
    "ExecuteTime": {
     "end_time": "2021-04-26T09:23:46.734354Z",
     "start_time": "2021-04-26T09:23:46.727178Z"
    }
   },
   "outputs": [],
   "source": [
    "# Calculate the prior efficacy rate and the likelihood\n",
    "df[\"prior\"] = uniform.pdf(df['efficacy_rate'])\n",
    "df[\"likelihood\"] = binom.pmf(df['num_patients_cured'], 10, df['efficacy_rate'])"
   ]
  },
  {
   "cell_type": "markdown",
   "metadata": {},
   "source": [
    "[Grid approximation without prior knowledge | Python](https://campus.datacamp.com/courses/bayesian-data-analysis-in-python/bayesian-estimation?ex=3)\n",
    "\n",
    "> Calculate the posterior probability for efficacy rate, assign it to a new column called `posterior_prob` in `df`, and scale it so that it sums up to 1."
   ]
  },
  {
   "cell_type": "code",
   "execution_count": 13,
   "metadata": {
    "ExecuteTime": {
     "end_time": "2021-04-26T09:25:01.013203Z",
     "start_time": "2021-04-26T09:25:01.008987Z"
    }
   },
   "outputs": [],
   "source": [
    "# Calculate the posterior efficacy rate and scale it to sum up to one\n",
    "df[\"posterior_prob\"] = df['prior']*df['likelihood']\n",
    "df[\"posterior_prob\"] /= df['posterior_prob'].sum()"
   ]
  },
  {
   "cell_type": "markdown",
   "metadata": {},
   "source": [
    "[Grid approximation without prior knowledge | Python](https://campus.datacamp.com/courses/bayesian-data-analysis-in-python/bayesian-estimation?ex=3)\n",
    "\n",
    "> Filter `df` to keep only rows where the number of patients cured is 9, assign the result to `df_9_of_10_cured`, and scale the `posterior_prob` so that it sums up to 1."
   ]
  },
  {
   "cell_type": "code",
   "execution_count": 15,
   "metadata": {
    "ExecuteTime": {
     "end_time": "2021-04-26T09:26:28.921509Z",
     "start_time": "2021-04-26T09:26:28.914854Z"
    }
   },
   "outputs": [
    {
     "name": "stderr",
     "output_type": "stream",
     "text": [
      "/home/explore/miniconda3/envs/datacamp/lib/python3.7/site-packages/ipykernel_launcher.py:3: SettingWithCopyWarning: \n",
      "A value is trying to be set on a copy of a slice from a DataFrame.\n",
      "Try using .loc[row_indexer,col_indexer] = value instead\n",
      "\n",
      "See the caveats in the documentation: https://pandas.pydata.org/pandas-docs/stable/user_guide/indexing.html#returning-a-view-versus-a-copy\n",
      "  This is separate from the ipykernel package so we can avoid doing imports until\n"
     ]
    }
   ],
   "source": [
    "# Compute the posterior probability of observing 9 cured patients\n",
    "df_9_of_10_cured = df.loc[df.num_patients_cured == 9]\n",
    "df_9_of_10_cured[\"posterior_prob\"] /= df_9_of_10_cured[\"posterior_prob\"].sum()"
   ]
  },
  {
   "cell_type": "markdown",
   "metadata": {},
   "source": [
    "[Grid approximation without prior knowledge | Python](https://campus.datacamp.com/courses/bayesian-data-analysis-in-python/bayesian-estimation?ex=3)\n",
    "\n",
    "> Plot the drug's posterior efficacy rate having seen 9 out of 10 patients cured."
   ]
  },
  {
   "cell_type": "code",
   "execution_count": 21,
   "metadata": {
    "ExecuteTime": {
     "end_time": "2021-04-26T09:29:28.200869Z",
     "start_time": "2021-04-26T09:29:28.105951Z"
    }
   },
   "outputs": [
    {
     "name": "stderr",
     "output_type": "stream",
     "text": [
      "/home/explore/miniconda3/envs/datacamp/lib/python3.7/site-packages/seaborn/_decorators.py:43: FutureWarning: Pass the following variables as keyword args: x, y. From version 0.12, the only valid positional argument will be `data`, and passing other arguments without an explicit keyword will result in an error or misinterpretation.\n",
      "  FutureWarning\n"
     ]
    },
    {
     "data": {
      "image/png": "[encoded data removed]",
      "text/plain": [
       "<Figure size 432x288 with 1 Axes>"
      ]
     },
     "metadata": {
      "needs_background": "light"
     },
     "output_type": "display_data"
    }
   ],
   "source": [
    "# Plot the drug's posterior efficacy rate\n",
    "sns.lineplot(df_9_of_10_cured['efficacy_rate'], df_9_of_10_cured['posterior_prob'])\n",
    "plt.show()"
   ]
  },
  {
   "cell_type": "markdown",
   "metadata": {},
   "source": [
    "## Updating posterior belief\n",
    "> \n",
    "> Well done on estimating the posterior distribution of the efficacy rate in the previous exercise! Unfortunately, due to a small data sample, this distribution is quite wide, indicating much uncertainty regarding the drug's quality. Luckily, testing of the drug continues, and a group of another 12 sick patients have been treated, 10 of whom were cured. We need to update our posterior distribution with these new data!\n",
    "> \n",
    "> This is easy to do with the Bayesian approach. We simply need to run the grid approximation similarly as before, but with a different prior. We can use all our knowledge about the efficacy rate (embodied by the posterior distribution from the previous exercise) as a new prior! Then, we recompute the likelihood for the new data, and get the new posterior!\n",
    "> \n",
    "> The DataFrame you created in the previous exercise, `df`, is available in the workspace and `binom` has been imported for you from `scipy.stats`."
   ]
  },
  {
   "cell_type": "markdown",
   "metadata": {
    "heading_collapsed": true
   },
   "source": [
    "### init"
   ]
  },
  {
   "cell_type": "code",
   "execution_count": 22,
   "metadata": {
    "ExecuteTime": {
     "end_time": "2021-04-26T09:33:03.728597Z",
     "start_time": "2021-04-26T09:33:02.941757Z"
    },
    "hidden": true
   },
   "outputs": [
    {
     "name": "stdout",
     "output_type": "stream",
     "text": [
      "Téléchargements à lancer\n",
      "{'pandas.core.frame.DataFrame': {'df.csv': 'https://file.io/4dUNY2vK5hDx'}}\n",
      "  % Total    % Received % Xferd  Average Speed   Time    Time     Time  Current\n",
      "                                 Dload  Upload   Total   Spent    Left  Speed\n",
      "100 65089    0 65089    0     0  86554      0 --:--:-- --:--:-- --:--:-- 86439\n",
      "\n"
     ]
    }
   ],
   "source": [
    "###################\n",
    "##### Dataframe\n",
    "###################\n",
    "\n",
    "#upload and download\n",
    "\n",
    "from downloadfromFileIO import saveFromFileIO\n",
    "\"\"\" à executer sur datacamp: (apres copie du code uploadfromdatacamp.py)\n",
    "uploadToFileIO(df)\n",
    "\"\"\"\n",
    "\n",
    "tobedownloaded=\"\"\"\n",
    "{pandas.core.frame.DataFrame: {'df.csv': 'https://file.io/4dUNY2vK5hDx'}}\n",
    "\"\"\"\n",
    "prefixToc='1.3'\n",
    "prefix = saveFromFileIO(tobedownloaded, prefixToc=prefixToc)\n",
    "\n",
    "#initialisation\n",
    "\n",
    "import pandas as pd\n",
    "df = pd.read_csv(prefix+'df.csv',index_col=0)"
   ]
  },
  {
   "cell_type": "code",
   "execution_count": 23,
   "metadata": {
    "ExecuteTime": {
     "end_time": "2021-04-26T09:33:21.457958Z",
     "start_time": "2021-04-26T09:33:21.451492Z"
    },
    "hidden": true
   },
   "outputs": [],
   "source": [
    "from scipy.stats import binom"
   ]
  },
  {
   "cell_type": "markdown",
   "metadata": {},
   "source": [
    "### code"
   ]
  },
  {
   "cell_type": "markdown",
   "metadata": {},
   "source": [
    "[Updating posterior belief | Python](https://campus.datacamp.com/courses/bayesian-data-analysis-in-python/bayesian-estimation?ex=4)\n",
    "\n",
    "> -   Assign `posterior_prob` from `df` to a new column called `new_prior`.\n",
    "> -   Calculate the `new_likelihood` using `binom.pmf()` based on the new data and assign it as a new column to `df`."
   ]
  },
  {
   "cell_type": "code",
   "execution_count": 28,
   "metadata": {
    "ExecuteTime": {
     "end_time": "2021-04-26T09:36:37.120328Z",
     "start_time": "2021-04-26T09:36:37.114729Z"
    }
   },
   "outputs": [],
   "source": [
    "# Assign old posterior to new prior and calculate likelihood\n",
    "df[\"new_prior\"] = df['posterior_prob']\n",
    "df[\"new_likelihood\"] = binom.pmf(df[\"num_patients_cured\"], 12, df[\"efficacy_rate\"])"
   ]
  },
  {
   "cell_type": "markdown",
   "metadata": {},
   "source": [
    "[Updating posterior belief | Python](https://campus.datacamp.com/courses/bayesian-data-analysis-in-python/bayesian-estimation?ex=4)\n",
    "\n",
    "> Calculate the `new_posterior_prob` using `new_prior` and `new_likelihood`, assign it as a new column to `df`, and scale it by its sum."
   ]
  },
  {
   "cell_type": "code",
   "execution_count": 30,
   "metadata": {
    "ExecuteTime": {
     "end_time": "2021-04-26T09:37:59.847390Z",
     "start_time": "2021-04-26T09:37:59.840796Z"
    }
   },
   "outputs": [],
   "source": [
    "# Calculate new posterior and scale it\n",
    "df[\"new_posterior_prob\"] = df['new_prior'] * df['new_likelihood']\n",
    "df[\"new_posterior_prob\"] /= df[\"new_posterior_prob\"].sum()\n"
   ]
  },
  {
   "cell_type": "markdown",
   "metadata": {},
   "source": [
    "[Updating posterior belief | Python](https://campus.datacamp.com/courses/bayesian-data-analysis-in-python/bayesian-estimation?ex=4)\n",
    "\n",
    "> Filter `df` to keep only rows with 10 cured patients, assign the result to `df_10_of_12_cured`, and scale the `new_posterior_prob` so that it sums up to 1."
   ]
  },
  {
   "cell_type": "code",
   "execution_count": 31,
   "metadata": {
    "ExecuteTime": {
     "end_time": "2021-04-26T09:39:15.483615Z",
     "start_time": "2021-04-26T09:39:15.466740Z"
    }
   },
   "outputs": [
    {
     "name": "stderr",
     "output_type": "stream",
     "text": [
      "/home/explore/miniconda3/envs/datacamp/lib/python3.7/site-packages/ipykernel_launcher.py:3: SettingWithCopyWarning: \n",
      "A value is trying to be set on a copy of a slice from a DataFrame.\n",
      "Try using .loc[row_indexer,col_indexer] = value instead\n",
      "\n",
      "See the caveats in the documentation: https://pandas.pydata.org/pandas-docs/stable/user_guide/indexing.html#returning-a-view-versus-a-copy\n",
      "  This is separate from the ipykernel package so we can avoid doing imports until\n"
     ]
    }
   ],
   "source": [
    "# Compute the posterior probability of observing 10 cured patients\n",
    "df_10_of_12_cured = df.loc[df.num_patients_cured == 10]\n",
    "df_10_of_12_cured[\"new_posterior_prob\"] /= df_10_of_12_cured[\"new_posterior_prob\"].sum()"
   ]
  },
  {
   "cell_type": "markdown",
   "metadata": {},
   "source": [
    "[Updating posterior belief | Python](https://campus.datacamp.com/courses/bayesian-data-analysis-in-python/bayesian-estimation?ex=4)\n",
    "\n",
    "> #### Question\n",
    "> \n",
    "> We have two posterior distributions for the efficacy rate now:\n",
    "> \n",
    "> 1.  The one from the previous exercise (without prior knowledge, after seeing 9 out of 10 patients cured) which you have used as a new prior in this exercise.\n",
    "> 2.  The updated one you have just calculated (after seeing another 10 out of 12 patients cured).\n",
    "> \n",
    "> You can plot them on top of each other using the following code chunk:\n",
    "> \n",
    ">     sns.lineplot(df_10_of_12_cured[\"efficacy_rate\"], \n",
    ">                  df_10_of_12_cured[\"new_posterior_prob\"], \n",
    ">                  label=\"new posterior\")\n",
    ">     sns.lineplot(df_9_of_10_cured[\"efficacy_rate\"], \n",
    ">                  df_9_of_10_cured[\"posterior_prob\"], \n",
    ">                  label=\"old posterior = new prior\")\n",
    ">     plt.show()\n",
    ">     \n",
    "> \n",
    "> Based on the plot, which of the following statements is **false**?"
   ]
  },
  {
   "cell_type": "code",
   "execution_count": 32,
   "metadata": {
    "ExecuteTime": {
     "end_time": "2021-04-26T09:40:00.391358Z",
     "start_time": "2021-04-26T09:40:00.259874Z"
    }
   },
   "outputs": [
    {
     "name": "stderr",
     "output_type": "stream",
     "text": [
      "/home/explore/miniconda3/envs/datacamp/lib/python3.7/site-packages/seaborn/_decorators.py:43: FutureWarning: Pass the following variables as keyword args: x, y. From version 0.12, the only valid positional argument will be `data`, and passing other arguments without an explicit keyword will result in an error or misinterpretation.\n",
      "  FutureWarning\n",
      "/home/explore/miniconda3/envs/datacamp/lib/python3.7/site-packages/seaborn/_decorators.py:43: FutureWarning: Pass the following variables as keyword args: x, y. From version 0.12, the only valid positional argument will be `data`, and passing other arguments without an explicit keyword will result in an error or misinterpretation.\n",
      "  FutureWarning\n"
     ]
    },
    {
     "data": {
      "image/png": "[encoded data removed]",
      "text/plain": [
       "<Figure size 432x288 with 1 Axes>"
      ]
     },
     "metadata": {
      "needs_background": "light"
     },
     "output_type": "display_data"
    }
   ],
   "source": [
    "sns.lineplot(df_10_of_12_cured[\"efficacy_rate\"], \n",
    "             df_10_of_12_cured[\"new_posterior_prob\"], \n",
    "             label=\"new posterior\")\n",
    "sns.lineplot(df_9_of_10_cured[\"efficacy_rate\"], \n",
    "             df_9_of_10_cured[\"posterior_prob\"], \n",
    "             label=\"old posterior = new prior\")\n",
    "plt.show()"
   ]
  },
  {
   "cell_type": "markdown",
   "metadata": {},
   "source": [
    "# Prior belief"
   ]
  },
  {
   "cell_type": "markdown",
   "metadata": {},
   "source": [
    "## Simulating posterior draws\n",
    "> \n",
    "> You have just decided to use a Beta(5, 2) prior for the efficacy rate. You are also using the binomial distribution to model the data (curing a sick patient is a \"success\", remember?). Since the beta distribution is a conjugate prior for the binomial likelihood, you can simply simulate the posterior!\n",
    "> \n",
    "> You know that if the prior is $$Beta(a,b)$$\n",
    "> \n",
    "> , then the posterior is $$Beta(x, y)$$, with:\n",
    "> \n",
    "> $$x = NumberOfSuccesses + a$$,\n",
    "> \n",
    "> $$y=NumberOfObservations-NumberOfSuccess+b$$.\n",
    "> \n",
    "> Can you simulate the posterior distribution? Recall that altogether you have data on 22 patients, 19 of whom have been cured. `numpy` and `seaborn` have been imported for you as `np` and `sns`, respectively."
   ]
  },
  {
   "cell_type": "code",
   "execution_count": 33,
   "metadata": {
    "ExecuteTime": {
     "end_time": "2021-04-26T09:51:10.074810Z",
     "start_time": "2021-04-26T09:51:10.072935Z"
    }
   },
   "outputs": [],
   "source": [
    "import seaborn as sns\n",
    "import numpy as np\n",
    "import matplotlib.pyplot as plt"
   ]
  },
  {
   "cell_type": "markdown",
   "metadata": {},
   "source": [
    "[Simulating posterior draws | Python](https://campus.datacamp.com/courses/bayesian-data-analysis-in-python/bayesian-estimation?ex=8)\n",
    "\n",
    "> -   Assign the numbers of patients treated and cured to `num_patients_treated` and `num_patients_cured`, respectively.\n",
    "> -   Use the appropriate `numpy` function to sample from the posterior distribution and assign the result to `posterior_draws`.\n",
    "> -   Plot the posterior distribution using the appropriate `seaborn` function."
   ]
  },
  {
   "cell_type": "code",
   "execution_count": 34,
   "metadata": {
    "ExecuteTime": {
     "end_time": "2021-04-26T09:54:49.919798Z",
     "start_time": "2021-04-26T09:54:49.798123Z"
    }
   },
   "outputs": [
    {
     "data": {
      "image/png": "[encoded data removed]",
      "text/plain": [
       "<Figure size 432x288 with 1 Axes>"
      ]
     },
     "metadata": {
      "needs_background": "light"
     },
     "output_type": "display_data"
    }
   ],
   "source": [
    "# Define the number of patients treated and cured\n",
    "num_patients_treated = 22\n",
    "num_patients_cured = 19\n",
    "\n",
    "# Simulate 10000 draws from the posterior distribution\n",
    "posterior_draws = np.random.beta(19 + 5, 22 - 19 + 2, 10000)\n",
    "\n",
    "# Plot the posterior distribution\n",
    "sns.kdeplot(posterior_draws, shade=True)\n",
    "plt.show()"
   ]
  },
  {
   "cell_type": "markdown",
   "metadata": {},
   "source": [
    "# Reporting Bayesian results\n",
    "\n",
    "```python\n",
    "# Bayesian point estimates\n",
    "posterior_mean = np.mean(posterior_draws)\n",
    "posterior_median = np.median(posterior_draws)\n",
    "posterior_p75 = np.percentile(posterior_draws, 75)\n",
    "\n",
    "# Highest Posterior Density (HPD)\n",
    "import pymc3 as pm\n",
    "hpd = pm.hpd(posterior_draws, hdi_prob=0.9)\n",
    "print(hpd)\n",
    "```"
   ]
  },
  {
   "cell_type": "markdown",
   "metadata": {},
   "source": [
    "## Point estimates\n",
    "> \n",
    "> You continue working at your government's Department of Health. You have been tasked with filling the following memo with numbers, before it is sent to the secretary.\n",
    "> \n",
    "> > Based on the experiments carried out by ourselves and neighboring countries, should we distribute the drug, we can expect \\_\\_\\_ infected people to be cured. There is a 50% probability the number of cured infections will amount to at least \\_\\_\\_, and with 90% probability it will not be less than \\_\\_\\_.\n",
    "> \n",
    "> The array of posterior draws of the drug's efficacy rate you have estimated before is available to you as `drug_efficacy_posterior_draws`.\n",
    "> \n",
    "> Calculate the three numbers needed to fill in the memo, knowing there are 100,000 infections at the moment. `numpy` has been imported for you as `np`."
   ]
  },
  {
   "cell_type": "markdown",
   "metadata": {},
   "source": [
    "### init"
   ]
  },
  {
   "cell_type": "code",
   "execution_count": 2,
   "metadata": {
    "ExecuteTime": {
     "end_time": "2021-04-26T11:14:54.673547Z",
     "start_time": "2021-04-26T11:14:54.546418Z"
    }
   },
   "outputs": [
    {
     "name": "stdout",
     "output_type": "stream",
     "text": [
      "Téléchargements déjà effectués - SKIP\n"
     ]
    }
   ],
   "source": [
    "###################\n",
    "##### numpy ndarray float\n",
    "###################\n",
    "\n",
    "#upload and download\n",
    "\n",
    "from downloadfromFileIO import saveFromFileIO\n",
    "\"\"\" à executer sur datacamp: (apres copie du code uploadfromdatacamp.py)\n",
    "uploadToFileIO(drug_efficacy_posterior_draws)\n",
    "\"\"\"\n",
    "\n",
    "tobedownloaded=\"\"\"\n",
    "{numpy.ndarray: {'drug_efficacy_posterior_draws.csv': 'https://file.io/cCvkzC0Q3jE3'}}\n",
    "\"\"\"\n",
    "prefixToc='3.1'\n",
    "prefix = saveFromFileIO(tobedownloaded, prefixToc=prefixToc)\n",
    "\n",
    "#initialisation\n",
    "\n",
    "from downloadfromFileIO import loadNDArrayFromCsv\n",
    "drug_efficacy_posterior_draws = loadNDArrayFromCsv(prefix+'drug_efficacy_posterior_draws.csv')"
   ]
  },
  {
   "cell_type": "code",
   "execution_count": 37,
   "metadata": {
    "ExecuteTime": {
     "end_time": "2021-04-26T10:03:11.638448Z",
     "start_time": "2021-04-26T10:03:11.636319Z"
    }
   },
   "outputs": [],
   "source": [
    "import numpy as np"
   ]
  },
  {
   "cell_type": "markdown",
   "metadata": {},
   "source": [
    "### code"
   ]
  },
  {
   "cell_type": "markdown",
   "metadata": {},
   "source": [
    "[Point estimates | Python](https://campus.datacamp.com/courses/bayesian-data-analysis-in-python/bayesian-estimation?ex=10)\n",
    "\n",
    "> Calculate the expected number of cured infections by multiplying the drug's expected efficacy rate (`drug_efficacy_posterior_draws`) by the number of infected people (100,000) and assign the result to `cured_expected`."
   ]
  },
  {
   "cell_type": "code",
   "execution_count": 39,
   "metadata": {
    "ExecuteTime": {
     "end_time": "2021-04-26T10:04:35.662789Z",
     "start_time": "2021-04-26T10:04:35.660752Z"
    }
   },
   "outputs": [],
   "source": [
    "# Calculate the expected number of people cured\n",
    "cured_expected = np.mean(drug_efficacy_posterior_draws) * 100000"
   ]
  },
  {
   "cell_type": "markdown",
   "metadata": {},
   "source": [
    "[Point estimates | Python](https://campus.datacamp.com/courses/bayesian-data-analysis-in-python/bayesian-estimation?ex=10)\n",
    "\n",
    "> Calculate the minimum number of infections that will be cured with 50% probability and assign it to `min_cured_50_perc`."
   ]
  },
  {
   "cell_type": "code",
   "execution_count": 43,
   "metadata": {
    "ExecuteTime": {
     "end_time": "2021-04-26T10:59:42.677709Z",
     "start_time": "2021-04-26T10:59:42.673087Z"
    }
   },
   "outputs": [],
   "source": [
    "# Calculate the minimum number of people cured with 50% probability\n",
    "min_cured_50_perc = np.percentile(drug_efficacy_posterior_draws, 50)*100000"
   ]
  },
  {
   "cell_type": "markdown",
   "metadata": {},
   "source": [
    "[Point estimates | Python](https://campus.datacamp.com/courses/bayesian-data-analysis-in-python/bayesian-estimation?ex=10)\n",
    "\n",
    "> Calculate the minimum number of infections that will be cured with 90% probability and assign it to `min_cured_90_perc`."
   ]
  },
  {
   "cell_type": "code",
   "execution_count": 45,
   "metadata": {
    "ExecuteTime": {
     "end_time": "2021-04-26T11:00:56.717383Z",
     "start_time": "2021-04-26T11:00:56.708539Z"
    }
   },
   "outputs": [
    {
     "name": "stdout",
     "output_type": "stream",
     "text": [
      "Based on the experiments carried out by ourselves and neighboring countries, \n",
      "should we distribute the drug, we can expect 82777 infected people to be cured. \n",
      "There is a 50% probability the number of cured infections \n",
      "will amount to at least 83484, and with 90% probability \n",
      "it will not be less than 73485.\n"
     ]
    }
   ],
   "source": [
    "# Calculate the minimum number of people cured with 90% probability\n",
    "min_cured_90_perc = np.percentile(drug_efficacy_posterior_draws, 10)*100000\n",
    "\n",
    "# Print the filled-in memo\n",
    "print(f\"Based on the experiments carried out by ourselves and neighboring countries, \\nshould we distribute the drug, we can expect {int(cured_expected)} infected people to be cured. \\nThere is a 50% probability the number of cured infections \\nwill amount to at least {int(min_cured_50_perc)}, and with 90% probability \\nit will not be less than {int(min_cured_90_perc)}.\")"
   ]
  },
  {
   "cell_type": "markdown",
   "metadata": {},
   "source": [
    "## Highest Posterior Density credible intervals\n",
    "> \n",
    "> You know that reporting bare point estimates is not enough. It would be great to provide a measure of uncertainty in the drug's efficacy rate estimate, and you have all the means to do so. You decide to add the following to the memo.\n",
    "> \n",
    "> > The experimental results indicate that with a 90% probability the new drug's efficacy rate is between \\_\\_\\_ and \\_\\_\\_, and with a 95% probability it is between \\_\\_\\_ and \\_\\_\\_.\n",
    "> \n",
    "> You will need to calculate two credible intervals: one of 90% and another of 95% probability. The `drug_efficacy_posterior_draws` array is still available in your workspace."
   ]
  },
  {
   "cell_type": "markdown",
   "metadata": {},
   "source": [
    "[Highest Posterior Density credible intervals | Python](https://campus.datacamp.com/courses/bayesian-data-analysis-in-python/bayesian-estimation?ex=11)\n",
    "\n",
    "> -   Import the `pymc3` package as `pm`.\n",
    "> -   Calculate the Highest Posterior Density credible interval of 90% and assign it to `ci_90`.\n",
    "> -   Calculate the Highest Posterior Density credible interval of 95% and assign it to `ci_95`."
   ]
  },
  {
   "cell_type": "code",
   "execution_count": 4,
   "metadata": {
    "ExecuteTime": {
     "end_time": "2021-04-26T11:15:26.408881Z",
     "start_time": "2021-04-26T11:15:26.401554Z"
    }
   },
   "outputs": [],
   "source": [
    "import numpy as np"
   ]
  },
  {
   "cell_type": "code",
   "execution_count": 5,
   "metadata": {
    "ExecuteTime": {
     "end_time": "2021-04-26T11:15:26.834043Z",
     "start_time": "2021-04-26T11:15:26.825266Z"
    }
   },
   "outputs": [
    {
     "name": "stdout",
     "output_type": "stream",
     "text": [
      "The experimental results indicate that with a 90% probability \n",
      "the new drug's efficacy rate is between 0.7200000286102295 and 0.9399999976158142, \n",
      "and with a 95% probability it is between 0.699999988079071 and 0.949999988079071.\n"
     ]
    }
   ],
   "source": [
    "# Import pymc3 as pm\n",
    "import pymc3 as pm\n",
    "\n",
    "# Calculate HPD credible interval of 90%\n",
    "ci_90 = pm.hpd(drug_efficacy_posterior_draws, hdi_prob=0.9)\n",
    "\n",
    "# Calculate HPD credible interval of 95%\n",
    "ci_95 = pm.hpd(drug_efficacy_posterior_draws, hdi_prob=0.95)\n",
    "\n",
    "# Print the memo\n",
    "print(f\"The experimental results indicate that with a 90% probability \\nthe new drug's efficacy rate is between {np.round(ci_90[0], 2)} and {np.round(ci_90[1], 2)}, \\nand with a 95% probability it is between {np.round(ci_95[0], 2)} and {np.round(ci_95[1], 2)}.\")"
   ]
  },
  {
   "cell_type": "code",
   "execution_count": null,
   "metadata": {},
   "outputs": [],
   "source": []
  }
 ],
 "metadata": {
  "kernelspec": {
   "display_name": "Python [conda env:datacamp] *",
   "language": "python",
   "name": "conda-env-datacamp-py"
  },
  "language_info": {
   "codemirror_mode": {
    "name": "ipython",
    "version": 3
   },
   "file_extension": ".py",
   "mimetype": "text/x-python",
   "name": "python",
   "nbconvert_exporter": "python",
   "pygments_lexer": "ipython3",
   "version": "3.7.9"
  },
  "toc": {
   "base_numbering": 1,
   "nav_menu": {},
   "number_sections": true,
   "sideBar": true,
   "skip_h1_title": false,
   "title_cell": "Table of Contents",
   "title_sidebar": "Contents",
   "toc_cell": false,
   "toc_position": {},
   "toc_section_display": true,
   "toc_window_display": true
  }
 },
 "nbformat": 4,
 "nbformat_minor": 4
}
