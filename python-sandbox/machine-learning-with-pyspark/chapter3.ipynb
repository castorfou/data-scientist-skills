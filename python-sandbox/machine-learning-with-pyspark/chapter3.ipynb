{
 "cells": [
  {
   "cell_type": "markdown",
   "metadata": {},
   "source": [
    "# One-Hot Encoding\n"
   ]
  },
  {
   "cell_type": "markdown",
   "metadata": {},
   "source": [
    "## Encoding flight origin\n",
    "The org column in the flights data is a categorical variable giving the airport from which a flight departs.\n",
    "\n",
    "- ORD — O'Hare International Airport (Chicago)\n",
    "- SFO — San Francisco International Airport\n",
    "- JFK — John F Kennedy International Airport (New York)\n",
    "- LGA — La Guardia Airport (New York)\n",
    "- SMF — Sacramento\n",
    "- SJC — San Jose\n",
    "- TUS — Tucson International Airport\n",
    "- OGG — Kahului (Hawaii)\n",
    "\n",
    "Obviously this is only a small subset of airports. Nevertheless, since this is a categorical variable, it needs to be one-hot encoded before it can be used in a regression model.\n",
    "\n",
    "The data are in a variable called flights. You have already used a string indexer to create a column of indexed values corresponding to the strings in org.\n",
    "\n",
    "Note:: You might find it useful to revise the slides from the lessons in the Slides panel next to the IPython Shell."
   ]
  },
  {
   "cell_type": "markdown",
   "metadata": {},
   "source": [
    "### init"
   ]
  },
  {
   "cell_type": "code",
   "execution_count": 1,
   "metadata": {
    "ExecuteTime": {
     "end_time": "2020-02-18T07:10:35.946875Z",
     "start_time": "2020-02-18T07:10:25.181943Z"
    }
   },
   "outputs": [
    {
     "name": "stdout",
     "output_type": "stream",
     "text": [
      "2.4.5\n"
     ]
    }
   ],
   "source": [
    "import findspark\n",
    "findspark.init()\n",
    "\n",
    "import numpy as np\n",
    "import pandas as pd\n",
    "import pyspark\n",
    "pyspark.__version__\n",
    "# Import the PySpark module\n",
    "from pyspark.sql import SparkSession\n",
    "# Create SparkSession object\n",
    "spark = SparkSession.builder \\\n",
    "                    .master('local[*]') \\\n",
    "                    .appName('test') \\\n",
    "                    .getOrCreate()\n",
    "\n",
    "# What version of Spark?\n",
    "print(spark.version)"
   ]
  },
  {
   "cell_type": "code",
   "execution_count": 6,
   "metadata": {
    "ExecuteTime": {
     "end_time": "2020-02-18T07:27:07.261471Z",
     "start_time": "2020-02-18T07:27:06.223205Z"
    }
   },
   "outputs": [
    {
     "name": "stdout",
     "output_type": "stream",
     "text": [
      "Téléchargements déjà effectués - SKIP\n",
      "The data contain 50000 records.\n",
      "+---+---+---+-------+------+---+----+------+--------+-----+-------+\n",
      "|mon|dom|dow|carrier|flight|org|mile|depart|duration|delay|org_idx|\n",
      "+---+---+---+-------+------+---+----+------+--------+-----+-------+\n",
      "| 11| 20|  6|     US|    19|JFK|2153|  9.48|     351| null|    2.0|\n",
      "|  0| 22|  2|     UA|  1107|ORD| 316| 16.33|      82| 30.0|    0.0|\n",
      "|  2| 20|  4|     UA|   226|SFO| 337|  6.17|      82| -8.0|    1.0|\n",
      "|  9| 13|  1|     AA|   419|ORD|1236| 10.33|     195| -5.0|    0.0|\n",
      "|  4|  2|  5|     AA|   325|ORD| 258|  8.92|      65| null|    0.0|\n",
      "+---+---+---+-------+------+---+----+------+--------+-----+-------+\n",
      "only showing top 5 rows\n",
      "\n"
     ]
    },
    {
     "data": {
      "text/plain": [
       "[('mon', 'int'),\n",
       " ('dom', 'int'),\n",
       " ('dow', 'int'),\n",
       " ('carrier', 'string'),\n",
       " ('flight', 'int'),\n",
       " ('org', 'string'),\n",
       " ('mile', 'int'),\n",
       " ('depart', 'double'),\n",
       " ('duration', 'int'),\n",
       " ('delay', 'int'),\n",
       " ('org_idx', 'double')]"
      ]
     },
     "execution_count": 6,
     "metadata": {},
     "output_type": "execute_result"
    }
   ],
   "source": [
    "#upload and download\n",
    "\n",
    "from downloadfromFileIO import saveFromFileIO\n",
    "\"\"\" à executer sur datacamp: (apres copie du code uploadfromdatacamp.py)\n",
    "df_flights = flights.toPandas()\n",
    "uploadToFileIO(df_flights)\n",
    "\"\"\"\n",
    "\n",
    "tobedownloaded=\"\"\"\n",
    "{pandas.core.frame.DataFrame: {'df_flights.csv': 'https://file.io/zm7yeJ'}}\n",
    "\"\"\"\n",
    "prefixToc = '1.1'\n",
    "prefix = saveFromFileIO(tobedownloaded, prefixToc=prefixToc, proxy=\"10.225.92.1:80\")\n",
    "\n",
    "\n",
    "# Read data from CSV file\n",
    "flights = spark.read.csv(prefix+'df_flights.csv',\n",
    "                         sep=',',\n",
    "                         header=True,\n",
    "                         inferSchema=True,\n",
    "                         nullValue='NA')\n",
    "\n",
    "flights=flights.drop('_c0')\n",
    "# Get number of records\n",
    "print(\"The data contain %d records.\" % flights.count())\n",
    "\n",
    "# View the first five records\n",
    "flights.show(5)\n",
    "\n",
    "flights = flights.withColumn(\"delay\", flights.delay.cast('integer'))\n",
    "\n",
    "# Check column data types\n",
    "flights.dtypes"
   ]
  },
  {
   "cell_type": "markdown",
   "metadata": {},
   "source": [
    "### code"
   ]
  },
  {
   "cell_type": "code",
   "execution_count": 8,
   "metadata": {
    "ExecuteTime": {
     "end_time": "2020-02-18T07:29:52.947599Z",
     "start_time": "2020-02-18T07:29:51.230496Z"
    }
   },
   "outputs": [
    {
     "name": "stdout",
     "output_type": "stream",
     "text": [
      "+---+-------+-------------+\n",
      "|org|org_idx|    org_dummy|\n",
      "+---+-------+-------------+\n",
      "|ORD|    0.0|(7,[0],[1.0])|\n",
      "|SFO|    1.0|(7,[1],[1.0])|\n",
      "|JFK|    2.0|(7,[2],[1.0])|\n",
      "|LGA|    3.0|(7,[3],[1.0])|\n",
      "|SJC|    4.0|(7,[4],[1.0])|\n",
      "|SMF|    5.0|(7,[5],[1.0])|\n",
      "|TUS|    6.0|(7,[6],[1.0])|\n",
      "|OGG|    7.0|    (7,[],[])|\n",
      "+---+-------+-------------+\n",
      "\n"
     ]
    }
   ],
   "source": [
    "# Import the one hot encoder class\n",
    "from pyspark.ml.feature import OneHotEncoderEstimator\n",
    "\n",
    "# Create an instance of the one hot encoder\n",
    "onehot = OneHotEncoderEstimator(inputCols=['org_idx'], outputCols=['org_dummy'])\n",
    "\n",
    "# Apply the one hot encoder to the flights data\n",
    "onehot = onehot.fit(flights)\n",
    "flights_onehot = onehot.transform(flights)\n",
    "\n",
    "# Check the results\n",
    "flights_onehot.select('org', 'org_idx', 'org_dummy').distinct().sort('org_idx').show()"
   ]
  },
  {
   "cell_type": "markdown",
   "metadata": {},
   "source": [
    "## Encoding shirt sizes\n",
    "You have data for a consignment of t-shirts. The data includes the size of the shirt, which is given as either S, M, L or XL.\n",
    "\n",
    "Here are the counts for the different sizes:\n",
    "\n",
    "+----+-----+\n",
    "|size|count|\n",
    "+----+-----+\n",
    "|   S|    8|\n",
    "|   M|   15|\n",
    "|   L|   20|\n",
    "|  XL|    7|\n",
    "+----+-----+\n",
    "The sizes are first converted to an index using StringIndexer and then one-hot encoded using OneHotEncoderEstimator.\n",
    "\n",
    "Which of the following is not true:"
   ]
  },
  {
   "cell_type": "markdown",
   "metadata": {},
   "source": [
    "# Regression"
   ]
  },
  {
   "cell_type": "markdown",
   "metadata": {},
   "source": [
    "## Flight duration model: Just distance\n",
    "In this exercise you'll build a regression model to predict flight duration (the duration column).\n",
    "\n",
    "For the moment you'll keep the model simple, including only the distance of the flight (the km column) as a predictor.\n",
    "\n",
    "The data are in flights. The first few records are displayed in the terminal. These data have also been split into training and testing sets and are available as flights_train and flights_test."
   ]
  },
  {
   "cell_type": "markdown",
   "metadata": {},
   "source": [
    "### init"
   ]
  },
  {
   "cell_type": "code",
   "execution_count": 11,
   "metadata": {
    "ExecuteTime": {
     "end_time": "2020-02-18T08:16:47.359770Z",
     "start_time": "2020-02-18T08:16:46.446387Z"
    }
   },
   "outputs": [
    {
     "name": "stdout",
     "output_type": "stream",
     "text": [
      "Téléchargements déjà effectués - SKIP\n",
      "The data contain 5000 records.\n",
      "+---+---+---+-------+------+---+------+--------+-----+------+-------+-------------+--------+\n",
      "|mon|dom|dow|carrier|flight|org|depart|duration|delay|    km|org_idx|    org_dummy|features|\n",
      "+---+---+---+-------+------+---+------+--------+-----+------+-------+-------------+--------+\n",
      "| 11| 20|  6|     US|    19|JFK|  9.48|     351| null|3465.0|    2.0|(7,[2],[1.0])|[3465.0]|\n",
      "|  0| 22|  2|     UA|  1107|ORD| 16.33|      82| 30.0| 509.0|    0.0|(7,[0],[1.0])| [509.0]|\n",
      "|  2| 20|  4|     UA|   226|SFO|  6.17|      82| -8.0| 542.0|    1.0|(7,[1],[1.0])| [542.0]|\n",
      "|  9| 13|  1|     AA|   419|ORD| 10.33|     195| -5.0|1989.0|    0.0|(7,[0],[1.0])|[1989.0]|\n",
      "|  4|  2|  5|     AA|   325|ORD|  8.92|      65| null| 415.0|    0.0|(7,[0],[1.0])| [415.0]|\n",
      "+---+---+---+-------+------+---+------+--------+-----+------+-------+-------------+--------+\n",
      "only showing top 5 rows\n",
      "\n",
      "+---+---+---+-------+------+---+------+--------+-----+------+-------+-------------+--------+\n",
      "|mon|dom|dow|carrier|flight|org|depart|duration|delay|    km|org_idx|    org_dummy|features|\n",
      "+---+---+---+-------+------+---+------+--------+-----+------+-------+-------------+--------+\n",
      "| 11| 20|  6|     US|    19|JFK|  9.48|     351| null|3465.0|    2.0|(7,[2],[1.0])|[3465.0]|\n",
      "|  0| 22|  2|     UA|  1107|ORD| 16.33|      82| 30.0| 509.0|    0.0|(7,[0],[1.0])| [509.0]|\n",
      "|  2| 20|  4|     UA|   226|SFO|  6.17|      82| -8.0| 542.0|    1.0|(7,[1],[1.0])| [542.0]|\n",
      "|  9| 13|  1|     AA|   419|ORD| 10.33|     195| -5.0|1989.0|    0.0|(7,[0],[1.0])|[1989.0]|\n",
      "|  4|  2|  5|     AA|   325|ORD|  8.92|      65| null| 415.0|    0.0|(7,[0],[1.0])| [415.0]|\n",
      "+---+---+---+-------+------+---+------+--------+-----+------+-------+-------------+--------+\n",
      "only showing top 5 rows\n",
      "\n",
      "+---+---+---+-------+------+---+------+--------+-----+------+-------+-------------+--------+\n",
      "|mon|dom|dow|carrier|flight|org|depart|duration|delay|    km|org_idx|    org_dummy|features|\n",
      "+---+---+---+-------+------+---+------+--------+-----+------+-------+-------------+--------+\n",
      "| 11| 20|  6|     US|    19|JFK|  9.48|     351| null|3465.0|    2.0|(7,[2],[1.0])|[3465.0]|\n",
      "|  0| 22|  2|     UA|  1107|ORD| 16.33|      82| 30.0| 509.0|    0.0|(7,[0],[1.0])| [509.0]|\n",
      "|  2| 20|  4|     UA|   226|SFO|  6.17|      82| -8.0| 542.0|    1.0|(7,[1],[1.0])| [542.0]|\n",
      "|  9| 13|  1|     AA|   419|ORD| 10.33|     195| -5.0|1989.0|    0.0|(7,[0],[1.0])|[1989.0]|\n",
      "|  4|  2|  5|     AA|   325|ORD|  8.92|      65| null| 415.0|    0.0|(7,[0],[1.0])| [415.0]|\n",
      "+---+---+---+-------+------+---+------+--------+-----+------+-------+-------------+--------+\n",
      "only showing top 5 rows\n",
      "\n"
     ]
    },
    {
     "data": {
      "text/plain": [
       "[('mon', 'int'),\n",
       " ('dom', 'int'),\n",
       " ('dow', 'int'),\n",
       " ('carrier', 'string'),\n",
       " ('flight', 'int'),\n",
       " ('org', 'string'),\n",
       " ('depart', 'double'),\n",
       " ('duration', 'int'),\n",
       " ('delay', 'int'),\n",
       " ('km', 'double'),\n",
       " ('org_idx', 'double'),\n",
       " ('org_dummy', 'string'),\n",
       " ('features', 'string')]"
      ]
     },
     "execution_count": 11,
     "metadata": {},
     "output_type": "execute_result"
    }
   ],
   "source": [
    "#upload and download\n",
    "\n",
    "from downloadfromFileIO import saveFromFileIO\n",
    "\"\"\" à executer sur datacamp: (apres copie du code uploadfromdatacamp.py)\n",
    "df_flights = flights.toPandas()\n",
    "df_flights_train = flights_train.toPandas()\n",
    "df_flights_test = flights_test.toPandas()\n",
    "uploadToFileIO(df_flights, df_flights_train, df_flights_test)\n",
    "\"\"\"\n",
    "\n",
    "tobedownloaded=\"\"\"\n",
    "{pandas.core.frame.DataFrame: {'df_flights.csv': 'https://file.io/EVQEya',\n",
    "  'df_flights_test.csv': 'https://file.io/k8CBKx',\n",
    "  'df_flights_train.csv': 'https://file.io/qNQAx6'}}\n",
    "\"\"\"\n",
    "prefixToc = '2.1'\n",
    "prefix = saveFromFileIO(tobedownloaded, prefixToc=prefixToc, proxy=\"10.225.92.1:80\")\n",
    "\n",
    "\n",
    "# Read data from CSV file\n",
    "flights = spark.read.csv(prefix+'df_flights.csv',\n",
    "                         sep=',',\n",
    "                         header=True,\n",
    "                         inferSchema=True,\n",
    "                         nullValue='NA')\n",
    "flights_train = spark.read.csv(prefix+'df_flights_train.csv',\n",
    "                         sep=',',\n",
    "                         header=True,\n",
    "                         inferSchema=True,\n",
    "                         nullValue='NA')\n",
    "flights_test = spark.read.csv(prefix+'df_flights_test.csv',\n",
    "                         sep=',',\n",
    "                         header=True,\n",
    "                         inferSchema=True,\n",
    "                         nullValue='NA')\n",
    "\n",
    "flights=flights.drop('_c0')\n",
    "flights_train=flights.drop('_c0')\n",
    "flights_test=flights.drop('_c0')\n",
    "# Get number of records\n",
    "print(\"The data contain %d records.\" % flights.count())\n",
    "\n",
    "# View the first five records\n",
    "flights.show(5)\n",
    "flights_train.show(5)\n",
    "flights_test.show(5)\n",
    "\n",
    "\n",
    "flights = flights.withColumn(\"delay\", flights.delay.cast('integer'))\n",
    "flights_train = flights_train.withColumn(\"delay\", flights_train.delay.cast('integer'))\n",
    "flights_test = flights_test.withColumn(\"delay\", flights_test.delay.cast('integer'))\n",
    "\n",
    "# Check column data types\n",
    "flights.dtypes"
   ]
  },
  {
   "cell_type": "code",
   "execution_count": 26,
   "metadata": {
    "ExecuteTime": {
     "end_time": "2020-02-18T08:35:08.631047Z",
     "start_time": "2020-02-18T08:35:08.146680Z"
    }
   },
   "outputs": [],
   "source": [
    "from pyspark.ml.feature import StringIndexer, OneHotEncoder, VectorAssembler\n",
    "\n",
    "def turnToVector(dataset):\n",
    "    # Repeat the process for the other categorical feature\n",
    "    dataset_indexed = StringIndexer(inputCol='org', outputCol='org_idx2').fit(dataset).transform(dataset)\n",
    "    dataset_indexed = dataset_indexed.drop('org_dummy', 'features')\n",
    "    # Create a OneHotEncoder\n",
    "    dataset_indexed = OneHotEncoder(inputCol='org_idx2', outputCol='org_dummy').transform(dataset_indexed)\n",
    "    dataset = dataset_indexed.drop('org_idx2')\n",
    "    # Create an assembler object\n",
    "    assembler = VectorAssembler(inputCols=[\n",
    "        'km'\n",
    "    ], outputCol='features')\n",
    "    # Consolidate predictor columns\n",
    "    dataset = assembler.transform(dataset)\n",
    "    return dataset\n",
    "\n",
    "flights=turnToVector(flights)\n",
    "flights_train=turnToVector(flights_train)\n",
    "flights_test=turnToVector(flights_test)"
   ]
  },
  {
   "cell_type": "markdown",
   "metadata": {},
   "source": [
    "### code"
   ]
  },
  {
   "cell_type": "code",
   "execution_count": 31,
   "metadata": {
    "ExecuteTime": {
     "end_time": "2020-02-18T08:42:30.751742Z",
     "start_time": "2020-02-18T08:42:30.099934Z"
    }
   },
   "outputs": [
    {
     "name": "stdout",
     "output_type": "stream",
     "text": [
      "+--------+------------------+\n",
      "|duration|prediction        |\n",
      "+--------+------------------+\n",
      "|351     |306.10649257697014|\n",
      "|82      |82.73496223315972 |\n",
      "|82      |85.22862275458927 |\n",
      "|195     |194.57185834575765|\n",
      "|65      |75.63180802060282 |\n",
      "+--------+------------------+\n",
      "only showing top 5 rows\n",
      "\n"
     ]
    },
    {
     "data": {
      "text/plain": [
       "16.902282759734597"
      ]
     },
     "execution_count": 31,
     "metadata": {},
     "output_type": "execute_result"
    }
   ],
   "source": [
    "from pyspark.ml.regression import LinearRegression\n",
    "from pyspark.ml.evaluation import RegressionEvaluator\n",
    "\n",
    "# Create a regression object and train on training data\n",
    "regression = LinearRegression(labelCol='duration').fit(flights_train)\n",
    "\n",
    "# Create predictions for the testing data and take a look at the predictions\n",
    "predictions = regression.transform(flights_test)\n",
    "predictions.select('duration', 'prediction').show(5, False)\n",
    "\n",
    "# Calculate the RMSE\n",
    "RegressionEvaluator(labelCol='duration').evaluate(predictions)"
   ]
  },
  {
   "cell_type": "markdown",
   "metadata": {},
   "source": [
    "## Interpreting the coefficients\n",
    "The linear regression model for flight duration as a function of distance takes the form\n",
    "\n",
    "duration=α+β×distance\n",
    "where\n",
    "\n",
    "- α — intercept (component of duration which does not depend on distance) and\n",
    "- β — coefficient (rate at which duration increases as a function of distance; also called the slope).\n",
    "\n",
    "By looking at the coefficients of your model you will be able to infer\n",
    "\n",
    "- how much of the average flight duration is actually spent on the ground and\n",
    "- what the average speed is during a flight.\n",
    "\n",
    "The linear regression model is available as regression."
   ]
  },
  {
   "cell_type": "markdown",
   "metadata": {},
   "source": [
    "### code"
   ]
  },
  {
   "cell_type": "code",
   "execution_count": 33,
   "metadata": {
    "ExecuteTime": {
     "end_time": "2020-02-18T08:50:59.691040Z",
     "start_time": "2020-02-18T08:50:59.672081Z"
    }
   },
   "outputs": [
    {
     "name": "stdout",
     "output_type": "stream",
     "text": [
      "44.2721378268676\n",
      "[0.07556547034634994]\n",
      "0.07556547034634994\n",
      "794.0134525067267\n"
     ]
    }
   ],
   "source": [
    "# Intercept (average minutes on ground)\n",
    "inter = regression.intercept\n",
    "print(inter)\n",
    "\n",
    "# Coefficients\n",
    "coefs = regression.coefficients\n",
    "print(coefs)\n",
    "\n",
    "# Average minutes per km\n",
    "minutes_per_km = regression.coefficients[0]\n",
    "print(minutes_per_km)\n",
    "\n",
    "# Average speed in km per hour\n",
    "avg_speed = 60 / minutes_per_km\n",
    "print(avg_speed)"
   ]
  },
  {
   "cell_type": "markdown",
   "metadata": {},
   "source": [
    "## Flight duration model: Adding origin airport\n",
    "Some airports are busier than others. Some airports are bigger than others too. Flights departing from large or busy airports are likely to spend more time taxiing or waiting for their takeoff slot. So it stands to reason that the duration of a flight might depend not only on the distance being covered but also the airport from which the flight departs.\n",
    "\n",
    "You are going to make the regression model a little more sophisticated by including the departure airport as a predictor.\n",
    "\n",
    "These data have been split into training and testing sets and are available as flights_train and flights_test. The origin airport, stored in the org column, has been indexed into org_idx, which in turn has been one-hot encoded into org_dummy. The first few records are displayed in the terminal.\n"
   ]
  },
  {
   "cell_type": "code",
   "execution_count": 34,
   "metadata": {
    "ExecuteTime": {
     "end_time": "2020-02-18T08:52:12.754144Z",
     "start_time": "2020-02-18T08:52:12.582894Z"
    }
   },
   "outputs": [
    {
     "name": "stdout",
     "output_type": "stream",
     "text": [
      "+---+---+---+-------+------+---+------+--------+-----+------+-------+-------------+--------+\n",
      "|mon|dom|dow|carrier|flight|org|depart|duration|delay|    km|org_idx|    org_dummy|features|\n",
      "+---+---+---+-------+------+---+------+--------+-----+------+-------+-------------+--------+\n",
      "| 11| 20|  6|     US|    19|JFK|  9.48|     351| null|3465.0|    2.0|(7,[2],[1.0])|[3465.0]|\n",
      "|  0| 22|  2|     UA|  1107|ORD| 16.33|      82|   30| 509.0|    0.0|(7,[0],[1.0])| [509.0]|\n",
      "|  2| 20|  4|     UA|   226|SFO|  6.17|      82|   -8| 542.0|    1.0|(7,[1],[1.0])| [542.0]|\n",
      "|  9| 13|  1|     AA|   419|ORD| 10.33|     195|   -5|1989.0|    0.0|(7,[0],[1.0])|[1989.0]|\n",
      "|  4|  2|  5|     AA|   325|ORD|  8.92|      65| null| 415.0|    0.0|(7,[0],[1.0])| [415.0]|\n",
      "|  5|  2|  1|     UA|   704|SFO|  7.98|     102|    2| 885.0|    1.0|(7,[1],[1.0])| [885.0]|\n",
      "|  7|  2|  6|     AA|   380|ORD| 10.83|     135|   54|1180.0|    0.0|(7,[0],[1.0])|[1180.0]|\n",
      "|  1| 16|  6|     UA|  1477|ORD|   8.0|     232|   -7|2317.0|    0.0|(7,[0],[1.0])|[2317.0]|\n",
      "|  1| 22|  5|     UA|   620|SJC|  7.98|     250|  -13|2943.0|    5.0|(7,[5],[1.0])|[2943.0]|\n",
      "| 11|  8|  1|     OO|  5590|SFO|  7.77|      60|   88| 254.0|    1.0|(7,[1],[1.0])| [254.0]|\n",
      "|  4| 26|  1|     AA|  1144|SFO| 13.25|     210|  -10|2356.0|    1.0|(7,[1],[1.0])|[2356.0]|\n",
      "|  4| 25|  0|     AA|   321|ORD| 13.75|     160|   31|1574.0|    0.0|(7,[0],[1.0])|[1574.0]|\n",
      "|  8| 30|  2|     UA|   646|ORD| 13.28|     151|   16|1157.0|    0.0|(7,[0],[1.0])|[1157.0]|\n",
      "|  3| 16|  3|     UA|   107|ORD|   9.0|     264|    3|2808.0|    0.0|(7,[0],[1.0])|[2808.0]|\n",
      "|  0|  3|  4|     AA|  1559|LGA| 17.08|     190|   32|1765.0|    3.0|(7,[3],[1.0])|[1765.0]|\n",
      "|  5|  9|  1|     UA|   770|SFO|  12.7|     158|   20|1556.0|    1.0|(7,[1],[1.0])|[1556.0]|\n",
      "|  3| 10|  4|     B6|   937|ORD| 17.58|     265|  155|2792.0|    0.0|(7,[0],[1.0])|[2792.0]|\n",
      "| 11| 15|  1|     AA|  2303|ORD|  6.75|     160|   23|1291.0|    0.0|(7,[0],[1.0])|[1291.0]|\n",
      "|  8| 18|  4|     UA|   802|SJC|  6.33|     160|   17|1526.0|    5.0|(7,[5],[1.0])|[1526.0]|\n",
      "|  2| 14|  5|     B6|    71|JFK|  6.17|     166|    0|1519.0|    2.0|(7,[2],[1.0])|[1519.0]|\n",
      "+---+---+---+-------+------+---+------+--------+-----+------+-------+-------------+--------+\n",
      "only showing top 20 rows\n",
      "\n"
     ]
    }
   ],
   "source": [
    "flights.show(\n",
    ")"
   ]
  },
  {
   "cell_type": "markdown",
   "metadata": {},
   "source": [
    "### init"
   ]
  },
  {
   "cell_type": "code",
   "execution_count": 51,
   "metadata": {
    "ExecuteTime": {
     "end_time": "2020-02-18T08:59:34.060272Z",
     "start_time": "2020-02-18T08:59:32.984426Z"
    }
   },
   "outputs": [
    {
     "name": "stdout",
     "output_type": "stream",
     "text": [
      "Téléchargements déjà effectués - SKIP\n",
      "The data contain 50000 records.\n",
      "+---+---+---+-------+------+---+------+--------+-----+------+-------+-------------+--------------------+\n",
      "|mon|dom|dow|carrier|flight|org|depart|duration|delay|    km|org_idx|    org_dummy|            features|\n",
      "+---+---+---+-------+------+---+------+--------+-----+------+-------+-------------+--------------------+\n",
      "| 11| 20|  6|     US|    19|JFK|  9.48|     351| null|3465.0|    2.0|(7,[2],[1.0])|(8,[0,3],[3465.0,...|\n",
      "|  0| 22|  2|     UA|  1107|ORD| 16.33|      82| 30.0| 509.0|    0.0|(7,[0],[1.0])|(8,[0,1],[509.0,1...|\n",
      "|  2| 20|  4|     UA|   226|SFO|  6.17|      82| -8.0| 542.0|    1.0|(7,[1],[1.0])|(8,[0,2],[542.0,1...|\n",
      "|  9| 13|  1|     AA|   419|ORD| 10.33|     195| -5.0|1989.0|    0.0|(7,[0],[1.0])|(8,[0,1],[1989.0,...|\n",
      "|  4|  2|  5|     AA|   325|ORD|  8.92|      65| null| 415.0|    0.0|(7,[0],[1.0])|(8,[0,1],[415.0,1...|\n",
      "+---+---+---+-------+------+---+------+--------+-----+------+-------+-------------+--------------------+\n",
      "only showing top 5 rows\n",
      "\n",
      "+---+---+---+-------+------+---+------+--------+-----+------+-------+-------------+--------------------+\n",
      "|mon|dom|dow|carrier|flight|org|depart|duration|delay|    km|org_idx|    org_dummy|            features|\n",
      "+---+---+---+-------+------+---+------+--------+-----+------+-------+-------------+--------------------+\n",
      "| 11| 20|  6|     US|    19|JFK|  9.48|     351| null|3465.0|    2.0|(7,[2],[1.0])|(8,[0,3],[3465.0,...|\n",
      "|  0| 22|  2|     UA|  1107|ORD| 16.33|      82| 30.0| 509.0|    0.0|(7,[0],[1.0])|(8,[0,1],[509.0,1...|\n",
      "|  2| 20|  4|     UA|   226|SFO|  6.17|      82| -8.0| 542.0|    1.0|(7,[1],[1.0])|(8,[0,2],[542.0,1...|\n",
      "|  9| 13|  1|     AA|   419|ORD| 10.33|     195| -5.0|1989.0|    0.0|(7,[0],[1.0])|(8,[0,1],[1989.0,...|\n",
      "|  4|  2|  5|     AA|   325|ORD|  8.92|      65| null| 415.0|    0.0|(7,[0],[1.0])|(8,[0,1],[415.0,1...|\n",
      "+---+---+---+-------+------+---+------+--------+-----+------+-------+-------------+--------------------+\n",
      "only showing top 5 rows\n",
      "\n",
      "+---+---+---+-------+------+---+------+--------+-----+------+-------+-------------+--------------------+\n",
      "|mon|dom|dow|carrier|flight|org|depart|duration|delay|    km|org_idx|    org_dummy|            features|\n",
      "+---+---+---+-------+------+---+------+--------+-----+------+-------+-------------+--------------------+\n",
      "| 11| 20|  6|     US|    19|JFK|  9.48|     351| null|3465.0|    2.0|(7,[2],[1.0])|(8,[0,3],[3465.0,...|\n",
      "|  0| 22|  2|     UA|  1107|ORD| 16.33|      82| 30.0| 509.0|    0.0|(7,[0],[1.0])|(8,[0,1],[509.0,1...|\n",
      "|  2| 20|  4|     UA|   226|SFO|  6.17|      82| -8.0| 542.0|    1.0|(7,[1],[1.0])|(8,[0,2],[542.0,1...|\n",
      "|  9| 13|  1|     AA|   419|ORD| 10.33|     195| -5.0|1989.0|    0.0|(7,[0],[1.0])|(8,[0,1],[1989.0,...|\n",
      "|  4|  2|  5|     AA|   325|ORD|  8.92|      65| null| 415.0|    0.0|(7,[0],[1.0])|(8,[0,1],[415.0,1...|\n",
      "+---+---+---+-------+------+---+------+--------+-----+------+-------+-------------+--------------------+\n",
      "only showing top 5 rows\n",
      "\n"
     ]
    },
    {
     "data": {
      "text/plain": [
       "[('mon', 'int'),\n",
       " ('dom', 'int'),\n",
       " ('dow', 'int'),\n",
       " ('carrier', 'string'),\n",
       " ('flight', 'int'),\n",
       " ('org', 'string'),\n",
       " ('depart', 'double'),\n",
       " ('duration', 'int'),\n",
       " ('delay', 'int'),\n",
       " ('km', 'double'),\n",
       " ('org_idx', 'double'),\n",
       " ('org_dummy', 'string'),\n",
       " ('features', 'string')]"
      ]
     },
     "execution_count": 51,
     "metadata": {},
     "output_type": "execute_result"
    }
   ],
   "source": [
    "#upload and download\n",
    "\n",
    "from downloadfromFileIO import saveFromFileIO\n",
    "\"\"\" à executer sur datacamp: (apres copie du code uploadfromdatacamp.py)\n",
    "df_flights = flights.toPandas()\n",
    "df_flights_train = flights_train.toPandas()\n",
    "df_flights_test = flights_test.toPandas()\n",
    "uploadToFileIO(df_flights, df_flights_train, df_flights_test)\n",
    "\"\"\"\n",
    "\n",
    "tobedownloaded=\"\"\"\n",
    "{pandas.core.frame.DataFrame: {'df_flights.csv': 'https://file.io/CEJm6A',\n",
    "  'df_flights_test.csv': 'https://file.io/Fw6X72',\n",
    "  'df_flights_train.csv': 'https://file.io/tSbDDp'}}\n",
    "\"\"\"\n",
    "prefixToc = '2.3'\n",
    "prefix = saveFromFileIO(tobedownloaded, prefixToc=prefixToc, proxy=\"10.225.92.1:80\")\n",
    "\n",
    "\n",
    "# Read data from CSV file\n",
    "flights = spark.read.csv(prefix+'df_flights.csv',\n",
    "                         sep=',',\n",
    "                         header=True,\n",
    "                         inferSchema=True,\n",
    "                         nullValue='NA')\n",
    "flights_train = spark.read.csv(prefix+'df_flights_train.csv',\n",
    "                         sep=',',\n",
    "                         header=True,\n",
    "                         inferSchema=True,\n",
    "                         nullValue='NA')\n",
    "flights_test = spark.read.csv(prefix+'df_flights_test.csv',\n",
    "                         sep=',',\n",
    "                         header=True,\n",
    "                         inferSchema=True,\n",
    "                         nullValue='NA')\n",
    "\n",
    "flights=flights.drop('_c0')\n",
    "flights_train=flights.drop('_c0')\n",
    "flights_test=flights.drop('_c0')\n",
    "# Get number of records\n",
    "print(\"The data contain %d records.\" % flights.count())\n",
    "\n",
    "# View the first five records\n",
    "flights.show(5)\n",
    "flights_train.show(5)\n",
    "flights_test.show(5)\n",
    "\n",
    "\n",
    "flights = flights.withColumn(\"delay\", flights.delay.cast('integer'))\n",
    "flights_train = flights_train.withColumn(\"delay\", flights_train.delay.cast('integer'))\n",
    "flights_test = flights_test.withColumn(\"delay\", flights_test.delay.cast('integer'))\n",
    "\n",
    "# Check column data types\n",
    "flights.dtypes"
   ]
  },
  {
   "cell_type": "code",
   "execution_count": 67,
   "metadata": {
    "ExecuteTime": {
     "end_time": "2020-02-18T09:12:21.627683Z",
     "start_time": "2020-02-18T09:12:20.923702Z"
    }
   },
   "outputs": [],
   "source": [
    "from pyspark.ml.feature import StringIndexer, OneHotEncoder, VectorAssembler\n",
    "\n",
    "def turnOrgKMToVector(dataset):\n",
    "    # Repeat the process for the other categorical feature\n",
    "    dataset_indexed = StringIndexer(inputCol='org', outputCol='org_idx2').fit(dataset).transform(dataset)\n",
    "    dataset_indexed = dataset_indexed.drop('org_dummy', 'features')\n",
    "    # Create a OneHotEncoder\n",
    "    dataset_indexed = OneHotEncoder(inputCol='org_idx2', outputCol='org_dummy').transform(dataset_indexed)\n",
    "    dataset = dataset_indexed.drop('org_idx2')\n",
    "    # Create an assembler object\n",
    "    assembler = VectorAssembler(inputCols=['km','org_dummy'], outputCol='features')\n",
    "    dataset = assembler.transform(dataset)\n",
    "    return dataset\n",
    "\n",
    "# Create an assembler object\n",
    "flights=turnOrgKMToVector(flights)\n",
    "flights_train=turnOrgKMToVector(flights_train)\n",
    "flights_test=turnOrgKMToVector(flights_test)"
   ]
  },
  {
   "cell_type": "code",
   "execution_count": 68,
   "metadata": {
    "ExecuteTime": {
     "end_time": "2020-02-18T09:12:22.642170Z",
     "start_time": "2020-02-18T09:12:22.635460Z"
    }
   },
   "outputs": [
    {
     "data": {
      "text/plain": [
       "[('mon', 'int'),\n",
       " ('dom', 'int'),\n",
       " ('dow', 'int'),\n",
       " ('carrier', 'string'),\n",
       " ('flight', 'int'),\n",
       " ('org', 'string'),\n",
       " ('depart', 'double'),\n",
       " ('duration', 'int'),\n",
       " ('delay', 'int'),\n",
       " ('km', 'double'),\n",
       " ('org_idx', 'double'),\n",
       " ('org_dummy', 'vector'),\n",
       " ('features', 'vector')]"
      ]
     },
     "execution_count": 68,
     "metadata": {},
     "output_type": "execute_result"
    }
   ],
   "source": [
    "flights.dtypes"
   ]
  },
  {
   "cell_type": "code",
   "execution_count": 70,
   "metadata": {
    "ExecuteTime": {
     "end_time": "2020-02-18T09:12:32.452628Z",
     "start_time": "2020-02-18T09:12:32.347801Z"
    }
   },
   "outputs": [
    {
     "name": "stdout",
     "output_type": "stream",
     "text": [
      "+---+---+---+-------+------+---+------+--------+-----+------+-------+-------------+--------------------+\n",
      "|mon|dom|dow|carrier|flight|org|depart|duration|delay|    km|org_idx|    org_dummy|            features|\n",
      "+---+---+---+-------+------+---+------+--------+-----+------+-------+-------------+--------------------+\n",
      "| 11| 20|  6|     US|    19|JFK|  9.48|     351| null|3465.0|    2.0|(7,[2],[1.0])|(8,[0,3],[3465.0,...|\n",
      "|  0| 22|  2|     UA|  1107|ORD| 16.33|      82|   30| 509.0|    0.0|(7,[0],[1.0])|(8,[0,1],[509.0,1...|\n",
      "|  2| 20|  4|     UA|   226|SFO|  6.17|      82|   -8| 542.0|    1.0|(7,[1],[1.0])|(8,[0,2],[542.0,1...|\n",
      "|  9| 13|  1|     AA|   419|ORD| 10.33|     195|   -5|1989.0|    0.0|(7,[0],[1.0])|(8,[0,1],[1989.0,...|\n",
      "|  4|  2|  5|     AA|   325|ORD|  8.92|      65| null| 415.0|    0.0|(7,[0],[1.0])|(8,[0,1],[415.0,1...|\n",
      "|  5|  2|  1|     UA|   704|SFO|  7.98|     102|    2| 885.0|    1.0|(7,[1],[1.0])|(8,[0,2],[885.0,1...|\n",
      "|  7|  2|  6|     AA|   380|ORD| 10.83|     135|   54|1180.0|    0.0|(7,[0],[1.0])|(8,[0,1],[1180.0,...|\n",
      "|  1| 16|  6|     UA|  1477|ORD|   8.0|     232|   -7|2317.0|    0.0|(7,[0],[1.0])|(8,[0,1],[2317.0,...|\n",
      "|  1| 22|  5|     UA|   620|SJC|  7.98|     250|  -13|2943.0|    4.0|(7,[4],[1.0])|(8,[0,5],[2943.0,...|\n",
      "| 11|  8|  1|     OO|  5590|SFO|  7.77|      60|   88| 254.0|    1.0|(7,[1],[1.0])|(8,[0,2],[254.0,1...|\n",
      "|  4| 26|  1|     AA|  1144|SFO| 13.25|     210|  -10|2356.0|    1.0|(7,[1],[1.0])|(8,[0,2],[2356.0,...|\n",
      "|  4| 25|  0|     AA|   321|ORD| 13.75|     160|   31|1574.0|    0.0|(7,[0],[1.0])|(8,[0,1],[1574.0,...|\n",
      "|  8| 30|  2|     UA|   646|ORD| 13.28|     151|   16|1157.0|    0.0|(7,[0],[1.0])|(8,[0,1],[1157.0,...|\n",
      "|  3| 16|  3|     UA|   107|ORD|   9.0|     264|    3|2808.0|    0.0|(7,[0],[1.0])|(8,[0,1],[2808.0,...|\n",
      "|  0|  3|  4|     AA|  1559|LGA| 17.08|     190|   32|1765.0|    3.0|(7,[3],[1.0])|(8,[0,4],[1765.0,...|\n",
      "|  5|  9|  1|     UA|   770|SFO|  12.7|     158|   20|1556.0|    1.0|(7,[1],[1.0])|(8,[0,2],[1556.0,...|\n",
      "|  3| 10|  4|     B6|   937|ORD| 17.58|     265|  155|2792.0|    0.0|(7,[0],[1.0])|(8,[0,1],[2792.0,...|\n",
      "| 11| 15|  1|     AA|  2303|ORD|  6.75|     160|   23|1291.0|    0.0|(7,[0],[1.0])|(8,[0,1],[1291.0,...|\n",
      "|  8| 18|  4|     UA|   802|SJC|  6.33|     160|   17|1526.0|    4.0|(7,[4],[1.0])|(8,[0,5],[1526.0,...|\n",
      "|  2| 14|  5|     B6|    71|JFK|  6.17|     166|    0|1519.0|    2.0|(7,[2],[1.0])|(8,[0,3],[1519.0,...|\n",
      "+---+---+---+-------+------+---+------+--------+-----+------+-------+-------------+--------------------+\n",
      "only showing top 20 rows\n",
      "\n"
     ]
    }
   ],
   "source": [
    "flights.show()"
   ]
  },
  {
   "cell_type": "markdown",
   "metadata": {},
   "source": [
    "### code"
   ]
  },
  {
   "cell_type": "code",
   "execution_count": 72,
   "metadata": {
    "ExecuteTime": {
     "end_time": "2020-02-18T09:16:07.857400Z",
     "start_time": "2020-02-18T09:16:06.409036Z"
    }
   },
   "outputs": [
    {
     "data": {
      "text/plain": [
       "11.21944622452595"
      ]
     },
     "execution_count": 72,
     "metadata": {},
     "output_type": "execute_result"
    }
   ],
   "source": [
    "from pyspark.ml.regression import LinearRegression\n",
    "from pyspark.ml.evaluation import RegressionEvaluator\n",
    "\n",
    "# Create a regression object and train on training data\n",
    "regression = LinearRegression(labelCol='duration').fit(flights_train)\n",
    "\n",
    "# Create predictions for the testing data\n",
    "predictions = regression.transform(flights_test)\n",
    "\n",
    "# Calculate the RMSE on testing data\n",
    "RegressionEvaluator(labelCol='duration').evaluate(predictions)"
   ]
  },
  {
   "cell_type": "markdown",
   "metadata": {},
   "source": [
    "## Interpreting coefficients\n",
    "Remember that origin airport, org, has eight possible values (ORD, SFO, JFK, LGA, SMF, SJC, TUS and OGG) which have been one-hot encoded to seven dummy variables in org_dummy.\n",
    "\n",
    "The values for km and org_dummy have been assembled into features, which has eight columns with sparse representation. Column indices in features are as follows:\n",
    "\n",
    "- 0 — km\n",
    "- 1 — ORD\n",
    "- 2 — SFO\n",
    "- 3 — JFK\n",
    "- 4 — LGA\n",
    "- 5 — SMF\n",
    "- 6 — SJC and\n",
    "- 7 — TUS.\n",
    "\n",
    "Note that OGG does not appear in this list because it is the reference level for the origin airport category.\n",
    "\n",
    "In this exercise you'll be using the intercept and coefficients attributes to interpret the model.\n",
    "\n",
    "The coefficients attribute is a list, where the first element indicates how flight duration changes with flight distance."
   ]
  },
  {
   "cell_type": "markdown",
   "metadata": {},
   "source": [
    "### code"
   ]
  },
  {
   "cell_type": "code",
   "execution_count": 74,
   "metadata": {
    "ExecuteTime": {
     "end_time": "2020-02-18T09:19:32.193952Z",
     "start_time": "2020-02-18T09:19:32.167602Z"
    }
   },
   "outputs": [
    {
     "name": "stdout",
     "output_type": "stream",
     "text": [
      "807.4988664780973\n",
      "15.80534727457103\n",
      "68.46505505231659\n",
      "62.56759800083867\n"
     ]
    }
   ],
   "source": [
    "# Average speed in km per hour\n",
    "avg_speed_hour = 60 / regression.coefficients[0]\n",
    "print(avg_speed_hour)\n",
    "\n",
    "# Average minutes on ground at OGG\n",
    "inter = regression.intercept\n",
    "print(inter)\n",
    "\n",
    "# Average minutes on ground at JFK\n",
    "avg_ground_jfk = inter + regression.coefficients[3]\n",
    "print(avg_ground_jfk)\n",
    "\n",
    "# Average minutes on ground at LGA\n",
    "avg_ground_lga = inter + regression.coefficients[4]\n",
    "print(avg_ground_lga)"
   ]
  },
  {
   "cell_type": "markdown",
   "metadata": {},
   "source": [
    "# Bucketing & Engineering\n"
   ]
  },
  {
   "attachments": {},
   "cell_type": "markdown",
   "metadata": {},
   "source": [
    "## Bucketing departure time\n",
    "Time of day data are a challenge with regression models. They are also a great candidate for bucketing.\n",
    "\n",
    "In this lesson you will convert the flight departure times from numeric values between 0 (corresponding to 00:00) and 24 (corresponding to 24:00) to binned values. You'll then take those binned values and one-hot encode them.\n"
   ]
  },
  {
   "cell_type": "markdown",
   "metadata": {},
   "source": [
    "### init"
   ]
  },
  {
   "cell_type": "code",
   "execution_count": 75,
   "metadata": {
    "ExecuteTime": {
     "end_time": "2020-02-18T09:27:37.302764Z",
     "start_time": "2020-02-18T09:27:36.833187Z"
    }
   },
   "outputs": [
    {
     "name": "stdout",
     "output_type": "stream",
     "text": [
      "The data contain 50000 records.\n",
      "+---+---+---+-------+------+---+----+------+--------+-----+\n",
      "|mon|dom|dow|carrier|flight|org|mile|depart|duration|delay|\n",
      "+---+---+---+-------+------+---+----+------+--------+-----+\n",
      "| 11| 20|  6|     US|    19|JFK|2153|  9.48|     351| null|\n",
      "|  0| 22|  2|     UA|  1107|ORD| 316| 16.33|      82|   30|\n",
      "|  2| 20|  4|     UA|   226|SFO| 337|  6.17|      82|   -8|\n",
      "|  9| 13|  1|     AA|   419|ORD|1236| 10.33|     195|   -5|\n",
      "|  4|  2|  5|     AA|   325|ORD| 258|  8.92|      65| null|\n",
      "+---+---+---+-------+------+---+----+------+--------+-----+\n",
      "only showing top 5 rows\n",
      "\n"
     ]
    },
    {
     "data": {
      "text/plain": [
       "[('mon', 'int'),\n",
       " ('dom', 'int'),\n",
       " ('dow', 'int'),\n",
       " ('carrier', 'string'),\n",
       " ('flight', 'int'),\n",
       " ('org', 'string'),\n",
       " ('mile', 'int'),\n",
       " ('depart', 'double'),\n",
       " ('duration', 'int'),\n",
       " ('delay', 'int')]"
      ]
     },
     "execution_count": 75,
     "metadata": {},
     "output_type": "execute_result"
    }
   ],
   "source": [
    "prefix = 'data_from_datacamp/chapter1-Exercise3.1_'\n",
    "# Read data from CSV file\n",
    "flights = spark.read.csv(prefix+'flights.csv',\n",
    "                         sep=',',\n",
    "                         header=True,\n",
    "                         inferSchema=True,\n",
    "                         nullValue='NA')\n",
    "\n",
    "# Get number of records\n",
    "print(\"The data contain %d records.\" % flights.count())\n",
    "\n",
    "# View the first five records\n",
    "flights.show(5)\n",
    "\n",
    "# Check column data types\n",
    "flights.dtypes"
   ]
  },
  {
   "cell_type": "markdown",
   "metadata": {},
   "source": [
    "### code"
   ]
  },
  {
   "cell_type": "code",
   "execution_count": 78,
   "metadata": {
    "ExecuteTime": {
     "end_time": "2020-02-18T09:34:47.556742Z",
     "start_time": "2020-02-18T09:34:47.366323Z"
    }
   },
   "outputs": [
    {
     "name": "stdout",
     "output_type": "stream",
     "text": [
      "+------+-------------+\n",
      "|depart|depart_bucket|\n",
      "+------+-------------+\n",
      "|  9.48|          3.0|\n",
      "| 16.33|          5.0|\n",
      "|  6.17|          2.0|\n",
      "| 10.33|          3.0|\n",
      "|  8.92|          2.0|\n",
      "+------+-------------+\n",
      "only showing top 5 rows\n",
      "\n",
      "+------+-------------+-------------+\n",
      "|depart|depart_bucket| depart_dummy|\n",
      "+------+-------------+-------------+\n",
      "|  9.48|          3.0|(7,[3],[1.0])|\n",
      "| 16.33|          5.0|(7,[5],[1.0])|\n",
      "|  6.17|          2.0|(7,[2],[1.0])|\n",
      "| 10.33|          3.0|(7,[3],[1.0])|\n",
      "|  8.92|          2.0|(7,[2],[1.0])|\n",
      "+------+-------------+-------------+\n",
      "only showing top 5 rows\n",
      "\n"
     ]
    }
   ],
   "source": [
    "from pyspark.ml.feature import Bucketizer, OneHotEncoderEstimator\n",
    "\n",
    "# Create buckets at 3 hour intervals through the day\n",
    "buckets = Bucketizer(splits=[0,3,6,9,12,15,18,21,24], inputCol='depart', outputCol='depart_bucket')\n",
    "\n",
    "# Bucket the departure times\n",
    "bucketed = buckets.transform(flights)\n",
    "bucketed.select('depart', 'depart_bucket').show(5)\n",
    "\n",
    "# Create a one-hot encoder\n",
    "onehot = OneHotEncoderEstimator(inputCols=['depart_bucket'], outputCols=['depart_dummy'])\n",
    "\n",
    "# One-hot encode the bucketed departure times\n",
    "flights_onehot = onehot.fit(bucketed).transform(bucketed)\n",
    "flights_onehot.select('depart', 'depart_bucket', 'depart_dummy').show(5)"
   ]
  },
  {
   "attachments": {
    "image.png": {
     "image/png": "[encoded data removed]"
    }
   },
   "cell_type": "markdown",
   "metadata": {},
   "source": [
    "## Flight duration model: Adding departure time\n",
    "In the previous exercise the departure time was bucketed and converted to dummy variables. Now you're going to include those dummy variables in a regression model for flight duration.\n",
    "\n",
    "The data are in flights. The km, org_dummy and depart_dummy columns have been assembled into features, where km is index 0, org_dummy runs from index 1 to 7 and depart_dummy from index 8 to 14.\n",
    "\n",
    "The data have been split into training and testing sets and a linear regression model, regression, has been built on the training data. Predictions have been made on the testing data and are available as predictions.\n",
    "![image.png](attachment:image.png)"
   ]
  },
  {
   "cell_type": "markdown",
   "metadata": {},
   "source": [
    "### init"
   ]
  },
  {
   "cell_type": "code",
   "execution_count": 85,
   "metadata": {
    "ExecuteTime": {
     "end_time": "2020-02-18T09:48:53.109179Z",
     "start_time": "2020-02-18T09:48:51.996725Z"
    }
   },
   "outputs": [
    {
     "name": "stdout",
     "output_type": "stream",
     "text": [
      "Téléchargements déjà effectués - SKIP\n",
      "The data predictions contain 10075 records.\n",
      "The data flights_train contain 39925 records.\n",
      "The data flights_test contain 10075 records.\n",
      "+---+---+---+-------+------+---+------+--------+-----+------+-------+-------------+-------------+-------------+--------------------+------------------+\n",
      "|mon|dom|dow|carrier|flight|org|depart|duration|delay|    km|org_idx|    org_dummy|depart_bucket| depart_dummy|            features|        prediction|\n",
      "+---+---+---+-------+------+---+------+--------+-----+------+-------+-------------+-------------+-------------+--------------------+------------------+\n",
      "|  0|  1|  2|     AA|    59|JFK|   7.0|     385|-16.0|4162.0|    2.0|(7,[2],[1.0])|          2.0|(7,[2],[1.0])|(15,[0,3,10],[416...|376.00910524773906|\n",
      "|  0|  1|  2|     AA|   154|ORD| 17.25|     135| 49.0|1395.0|    0.0|(7,[0],[1.0])|          5.0|(7,[5],[1.0])|(15,[0,1,13],[139...|150.23944305794492|\n",
      "|  0|  1|  2|     AA|   502|SJC| 17.58|     200| 66.0|2375.0|    4.0|(7,[4],[1.0])|          5.0|(7,[5],[1.0])|(15,[0,5,13],[237...|213.56864633437573|\n",
      "|  0|  1|  2|     AA|   860|ORD| 21.92|      64| 62.0| 378.0|    0.0|(7,[0],[1.0])|          7.0|    (7,[],[])|(15,[0,1],[378.0,...| 65.64395966132075|\n",
      "|  0|  1|  2|     AA|  1472|SFO| 13.67|     259|  7.0|2971.0|    1.0|(7,[1],[1.0])|          4.0|(7,[4],[1.0])|(15,[0,2,12],[297...|256.36076322772226|\n",
      "+---+---+---+-------+------+---+------+--------+-----+------+-------+-------------+-------------+-------------+--------------------+------------------+\n",
      "only showing top 5 rows\n",
      "\n",
      "+---+---+---+-------+------+---+------+--------+-----+------+-------+-------------+-------------+-------------+--------------------+\n",
      "|mon|dom|dow|carrier|flight|org|depart|duration|delay|    km|org_idx|    org_dummy|depart_bucket| depart_dummy|            features|\n",
      "+---+---+---+-------+------+---+------+--------+-----+------+-------+-------------+-------------+-------------+--------------------+\n",
      "|  0|  1|  2|     AA|     3|JFK|  12.0|     370| 11.0|3983.0|    2.0|(7,[2],[1.0])|          4.0|(7,[4],[1.0])|(15,[0,3,12],[398...|\n",
      "|  0|  1|  2|     AA|    73|ORD|  9.08|     560| 39.0|6828.0|    0.0|(7,[0],[1.0])|          3.0|(7,[3],[1.0])|(15,[0,1,11],[682...|\n",
      "|  0|  1|  2|     AA|   150|SFO| 23.42|     325| 22.0|4352.0|    1.0|(7,[1],[1.0])|          7.0|    (7,[],[])|(15,[0,2],[4352.0...|\n",
      "|  0|  1|  2|     AA|   181|JFK|  17.0|     379|-10.0|3983.0|    2.0|(7,[2],[1.0])|          5.0|(7,[5],[1.0])|(15,[0,3,13],[398...|\n",
      "|  0|  1|  2|     AA|   254|OGG| 15.33|     310|173.0|4001.0|    7.0|    (7,[],[])|          5.0|(7,[5],[1.0])|(15,[0,13],[4001....|\n",
      "+---+---+---+-------+------+---+------+--------+-----+------+-------+-------------+-------------+-------------+--------------------+\n",
      "only showing top 5 rows\n",
      "\n",
      "+---+---+---+-------+------+---+------+--------+-----+------+-------+-------------+-------------+-------------+--------------------+\n",
      "|mon|dom|dow|carrier|flight|org|depart|duration|delay|    km|org_idx|    org_dummy|depart_bucket| depart_dummy|            features|\n",
      "+---+---+---+-------+------+---+------+--------+-----+------+-------+-------------+-------------+-------------+--------------------+\n",
      "|  0|  1|  2|     AA|    59|JFK|   7.0|     385|-16.0|4162.0|    2.0|(7,[2],[1.0])|          2.0|(7,[2],[1.0])|(15,[0,3,10],[416...|\n",
      "|  0|  1|  2|     AA|   154|ORD| 17.25|     135| 49.0|1395.0|    0.0|(7,[0],[1.0])|          5.0|(7,[5],[1.0])|(15,[0,1,13],[139...|\n",
      "|  0|  1|  2|     AA|   502|SJC| 17.58|     200| 66.0|2375.0|    4.0|(7,[4],[1.0])|          5.0|(7,[5],[1.0])|(15,[0,5,13],[237...|\n",
      "|  0|  1|  2|     AA|   860|ORD| 21.92|      64| 62.0| 378.0|    0.0|(7,[0],[1.0])|          7.0|    (7,[],[])|(15,[0,1],[378.0,...|\n",
      "|  0|  1|  2|     AA|  1472|SFO| 13.67|     259|  7.0|2971.0|    1.0|(7,[1],[1.0])|          4.0|(7,[4],[1.0])|(15,[0,2,12],[297...|\n",
      "+---+---+---+-------+------+---+------+--------+-----+------+-------+-------------+-------------+-------------+--------------------+\n",
      "only showing top 5 rows\n",
      "\n"
     ]
    },
    {
     "data": {
      "text/plain": [
       "[('mon', 'int'),\n",
       " ('dom', 'int'),\n",
       " ('dow', 'int'),\n",
       " ('carrier', 'string'),\n",
       " ('flight', 'int'),\n",
       " ('org', 'string'),\n",
       " ('depart', 'double'),\n",
       " ('duration', 'int'),\n",
       " ('delay', 'int'),\n",
       " ('km', 'double'),\n",
       " ('org_idx', 'double'),\n",
       " ('org_dummy', 'string'),\n",
       " ('depart_bucket', 'double'),\n",
       " ('depart_dummy', 'string'),\n",
       " ('features', 'string'),\n",
       " ('prediction', 'double')]"
      ]
     },
     "execution_count": 85,
     "metadata": {},
     "output_type": "execute_result"
    }
   ],
   "source": [
    "#upload and download\n",
    "\n",
    "from downloadfromFileIO import saveFromFileIO\n",
    "\"\"\" à executer sur datacamp: (apres copie du code uploadfromdatacamp.py)\n",
    "df_predictions = predictions.toPandas()\n",
    "df_flights_train = flights_train.toPandas()\n",
    "df_flights_test = flights_test.toPandas()\n",
    "uploadToFileIO(df_predictions, df_flights_train, df_flights_test)\n",
    "\"\"\"\n",
    "\n",
    "tobedownloaded=\"\"\"\n",
    "{pandas.core.frame.DataFrame: {'df_flights_test.csv': 'https://file.io/7hLGqq',\n",
    "  'df_flights_train.csv': 'https://file.io/ICJOgb',\n",
    "  'df_predictions.csv': 'https://file.io/JqLtv5'}}\n",
    "\"\"\"\n",
    "prefixToc = '3.2'\n",
    "prefix = saveFromFileIO(tobedownloaded, prefixToc=prefixToc, proxy=\"10.225.92.1:80\")\n",
    "\n",
    "\n",
    "# Read data from CSV file\n",
    "predictions = spark.read.csv(prefix+'df_predictions.csv',\n",
    "                         sep=',',\n",
    "                         header=True,\n",
    "                         inferSchema=True,\n",
    "                         nullValue='NA')\n",
    "flights_train = spark.read.csv(prefix+'df_flights_train.csv',\n",
    "                         sep=',',\n",
    "                         header=True,\n",
    "                         inferSchema=True,\n",
    "                         nullValue='NA')\n",
    "flights_test = spark.read.csv(prefix+'df_flights_test.csv',\n",
    "                         sep=',',\n",
    "                         header=True,\n",
    "                         inferSchema=True,\n",
    "                         nullValue='NA')\n",
    "\n",
    "predictions=predictions.drop('_c0')\n",
    "flights_train=flights_train.drop('_c0')\n",
    "flights_test=flights_test.drop('_c0')\n",
    "# Get number of records\n",
    "print(\"The data predictions contain %d records.\" % predictions.count())\n",
    "print(\"The data flights_train contain %d records.\" % flights_train.count())\n",
    "print(\"The data flights_test contain %d records.\" % flights_test.count())\n",
    "\n",
    "# View the first five records\n",
    "predictions.show(5)\n",
    "flights_train.show(5)\n",
    "flights_test.show(5)\n",
    "\n",
    "\n",
    "predictions = predictions.withColumn(\"delay\", predictions.delay.cast('integer'))\n",
    "flights_train = flights_train.withColumn(\"delay\", flights_train.delay.cast('integer'))\n",
    "flights_test = flights_test.withColumn(\"delay\", flights_test.delay.cast('integer'))\n",
    "\n",
    "# Check column data types\n",
    "predictions.dtypes"
   ]
  },
  {
   "cell_type": "code",
   "execution_count": 93,
   "metadata": {
    "ExecuteTime": {
     "end_time": "2020-02-18T09:57:33.436786Z",
     "start_time": "2020-02-18T09:57:32.660370Z"
    }
   },
   "outputs": [],
   "source": [
    "def transformToVector(dataset):\n",
    "    # Create a one-hot encoder\n",
    "    dataset = dataset.drop('depart_dummy', 'org_dummy', 'features')\n",
    "\n",
    "    # Create instances of one hot encoders\n",
    "    onehot_depart = OneHotEncoderEstimator(inputCols=['depart_bucket'], outputCols=['depart_dummy'])\n",
    "    onehot_org = OneHotEncoderEstimator(inputCols=['org_idx'], outputCols=['org_dummy'])\n",
    "\n",
    "    # One-hot encode the bucketed departure times\n",
    "    dataset = onehot_depart.fit(dataset).transform(dataset)\n",
    "    # One-hot encode the org\n",
    "    dataset = onehot_org.fit(dataset).transform(dataset)\n",
    "    \n",
    "    assembler = VectorAssembler(inputCols=['km','org_dummy', 'depart_dummy'], outputCol='features')\n",
    "    dataset = assembler.transform(dataset)\n",
    "    return dataset\n",
    "\n",
    "predictions = transformToVector(predictions)\n",
    "flights_train = transformToVector(flights_train)\n",
    "flights_test = transformToVector(flights_test)"
   ]
  },
  {
   "cell_type": "code",
   "execution_count": 94,
   "metadata": {
    "ExecuteTime": {
     "end_time": "2020-02-18T09:57:35.863772Z",
     "start_time": "2020-02-18T09:57:35.764188Z"
    }
   },
   "outputs": [
    {
     "name": "stdout",
     "output_type": "stream",
     "text": [
      "+---+---+---+-------+------+---+------+--------+-----+------+-------+-------------+------------------+-------------+-------------+--------------------+\n",
      "|mon|dom|dow|carrier|flight|org|depart|duration|delay|    km|org_idx|depart_bucket|        prediction| depart_dummy|    org_dummy|            features|\n",
      "+---+---+---+-------+------+---+------+--------+-----+------+-------+-------------+------------------+-------------+-------------+--------------------+\n",
      "|  0|  1|  2|     AA|    59|JFK|   7.0|     385|  -16|4162.0|    2.0|          2.0|376.00910524773906|(7,[2],[1.0])|(7,[2],[1.0])|(15,[0,3,10],[416...|\n",
      "|  0|  1|  2|     AA|   154|ORD| 17.25|     135|   49|1395.0|    0.0|          5.0|150.23944305794492|(7,[5],[1.0])|(7,[0],[1.0])|(15,[0,1,13],[139...|\n",
      "+---+---+---+-------+------+---+------+--------+-----+------+-------+-------------+------------------+-------------+-------------+--------------------+\n",
      "only showing top 2 rows\n",
      "\n"
     ]
    }
   ],
   "source": [
    "predictions.show(2)\n",
    "\n"
   ]
  },
  {
   "cell_type": "code",
   "execution_count": 95,
   "metadata": {
    "ExecuteTime": {
     "end_time": "2020-02-18T09:59:05.593054Z",
     "start_time": "2020-02-18T09:59:04.453016Z"
    }
   },
   "outputs": [],
   "source": [
    "from pyspark.ml.regression import LinearRegression\n",
    "from pyspark.ml.evaluation import RegressionEvaluator\n",
    "\n",
    "# Create a regression object and train on training data\n",
    "regression = LinearRegression(labelCol='duration').fit(flights_train)\n",
    "\n",
    "# Create predictions for the testing data\n",
    "predictions2 = regression.transform(flights_test)"
   ]
  },
  {
   "cell_type": "code",
   "execution_count": 96,
   "metadata": {
    "ExecuteTime": {
     "end_time": "2020-02-18T09:59:14.311566Z",
     "start_time": "2020-02-18T09:59:14.197257Z"
    }
   },
   "outputs": [
    {
     "name": "stdout",
     "output_type": "stream",
     "text": [
      "+---+---+---+-------+------+---+------+--------+-----+------+-------+-------------+-------------+-------------+--------------------+------------------+\n",
      "|mon|dom|dow|carrier|flight|org|depart|duration|delay|    km|org_idx|depart_bucket| depart_dummy|    org_dummy|            features|        prediction|\n",
      "+---+---+---+-------+------+---+------+--------+-----+------+-------+-------------+-------------+-------------+--------------------+------------------+\n",
      "|  0|  1|  2|     AA|    59|JFK|   7.0|     385|  -16|4162.0|    2.0|          2.0|(7,[2],[1.0])|(7,[2],[1.0])|(15,[0,3,10],[416...|376.00910524773906|\n",
      "|  0|  1|  2|     AA|   154|ORD| 17.25|     135|   49|1395.0|    0.0|          5.0|(7,[5],[1.0])|(7,[0],[1.0])|(15,[0,1,13],[139...|150.23944305794492|\n",
      "+---+---+---+-------+------+---+------+--------+-----+------+-------+-------------+-------------+-------------+--------------------+------------------+\n",
      "only showing top 2 rows\n",
      "\n"
     ]
    }
   ],
   "source": [
    "predictions2.show(2)"
   ]
  },
  {
   "cell_type": "markdown",
   "metadata": {},
   "source": [
    "### code"
   ]
  },
  {
   "cell_type": "code",
   "execution_count": 97,
   "metadata": {
    "ExecuteTime": {
     "end_time": "2020-02-18T10:02:44.006862Z",
     "start_time": "2020-02-18T10:02:43.856530Z"
    }
   },
   "outputs": [
    {
     "name": "stdout",
     "output_type": "stream",
     "text": [
      "10.475615792093903\n",
      "-4.125122945654926\n",
      "47.580713975630594\n"
     ]
    }
   ],
   "source": [
    "# Find the RMSE on testing data\n",
    "from pyspark.ml.evaluation import RegressionEvaluator\n",
    "RegressionEvaluator(labelCol='duration').evaluate(predictions)\n",
    "\n",
    "# Average minutes on ground at OGG for flights departing between 21:00 and 24:00\n",
    "avg_eve_ogg = regression.intercept\n",
    "print(avg_eve_ogg)\n",
    "\n",
    "# Average minutes on ground at OGG for flights departing between 00:00 and 03:00\n",
    "avg_night_ogg = regression.intercept + regression.coefficients[8]\n",
    "print(avg_night_ogg)\n",
    "\n",
    "# Average minutes on ground at JFK for flights departing between 00:00 and 03:00\n",
    "avg_night_jfk = regression.intercept + regression.coefficients[3] + regression.coefficients[8]\n",
    "print(avg_night_jfk)"
   ]
  },
  {
   "cell_type": "markdown",
   "metadata": {},
   "source": [
    "# Regularization"
   ]
  },
  {
   "cell_type": "markdown",
   "metadata": {},
   "source": [
    "## Flight duration model: More features!\n",
    "Let's add more features to our model. This will not necessarily result in a better model. Adding some features might improve the model. Adding other features might make it worse.\n",
    "\n",
    "More features will always make the model more complicated and difficult to interpret.\n",
    "\n",
    "These are the features you'll include in the next model:\n",
    "\n",
    "- km\n",
    "- org (origin airport, one-hot encoded, 8 levels)\n",
    "- depart (departure time, binned in 3 hour intervals, one-hot encoded, 8 levels)\n",
    "- dow (departure day of week, one-hot encoded, 7 levels) and\n",
    "- mon (departure month, one-hot encoded, 12 levels).\n",
    "\n",
    "These have been assembled into the features column, which is a sparse representation of 32 columns (remember one-hot encoding produces a number of columns which is one fewer than the number of levels).\n",
    "\n",
    "The data are available as flights, randomly split into flights_train and flights_test. The object predictions is also available."
   ]
  },
  {
   "cell_type": "markdown",
   "metadata": {},
   "source": [
    "### init"
   ]
  },
  {
   "cell_type": "code",
   "execution_count": 98,
   "metadata": {
    "ExecuteTime": {
     "end_time": "2020-02-18T10:15:13.146521Z",
     "start_time": "2020-02-18T10:15:07.241694Z"
    }
   },
   "outputs": [
    {
     "name": "stdout",
     "output_type": "stream",
     "text": [
      "Téléchargements à lancer\n",
      "{'pandas.core.frame.DataFrame': {'df_flights_test.csv': 'https://file.io/z8Wz1a', 'df_flights_train.csv': 'https://file.io/USXK5j', 'df_predictions.csv': 'https://file.io/XzrTZy'}}\n",
      "  % Total    % Received % Xferd  Average Speed   Time    Time     Time  Current\n",
      "                                 Dload  Upload   Total   Spent    Left  Speed\n",
      "100 31131    0 31131    0     0  22188      0 --:--:--  0:00:01 --:--:-- 22188\n",
      "\n",
      "  % Total    % Received % Xferd  Average Speed   Time    Time     Time  Current\n",
      "                                 Dload  Upload   Total   Spent    Left  Speed\n",
      "100  124k    0  124k    0     0  44861      0 --:--:--  0:00:02 --:--:-- 44861\n",
      "\n",
      "  % Total    % Received % Xferd  Average Speed   Time    Time     Time  Current\n",
      "                                 Dload  Upload   Total   Spent    Left  Speed\n",
      "100 25860    0 25860    0     0  83419      0 --:--:-- --:--:-- --:--:-- 83689\n",
      "\n",
      "The data predictions contain 195 records.\n",
      "The data flights_train contain 805 records.\n",
      "The data flights_test contain 195 records.\n",
      "+---+---+---+-------+------+---+------+--------+-----+------+-------+-------------+-------------+-------------+--------------------+------------------+\n",
      "|mon|dom|dow|carrier|flight|org|depart|duration|delay|    km|org_idx|    org_dummy|depart_bucket| depart_dummy|            features|        prediction|\n",
      "+---+---+---+-------+------+---+------+--------+-----+------+-------+-------------+-------------+-------------+--------------------+------------------+\n",
      "|  0|  1|  2|     B6|   145|JFK| 20.58|     204| 79.0|1728.0|    2.0|(7,[2],[1.0])|          6.0|(7,[6],[1.0])|(15,[0,3,14],[172...| 199.5479580951859|\n",
      "|  0|  2|  3|     AA|  2079|ORD|  8.33|     265|-16.0|2773.0|    0.0|(7,[0],[1.0])|          2.0|(7,[2],[1.0])|(15,[0,1,10],[277...|247.99699028755816|\n",
      "|  0|  5|  6|     WN|  3142|SJC| 18.67|      80|105.0| 621.0|    4.0|(7,[4],[1.0])|          6.0|(7,[6],[1.0])|(15,[0,5,14],[621...| 82.92996656317925|\n",
      "|  0|  7|  1|     UA|   687|LGA|  16.0|     158|135.0|1180.0|    3.0|(7,[3],[1.0])|          5.0|(7,[5],[1.0])|(15,[0,4,13],[118...| 152.7674307270655|\n",
      "|  0|  8|  2|     OO|  5449|SMF| 17.17|      45|259.0| 138.0|    5.0|(7,[5],[1.0])|          5.0|(7,[5],[1.0])|(15,[0,6,13],[138...| 44.67181909560464|\n",
      "+---+---+---+-------+------+---+------+--------+-----+------+-------+-------------+-------------+-------------+--------------------+------------------+\n",
      "only showing top 5 rows\n",
      "\n",
      "+---+---+---+-------+------+---+------+--------+-----+------+-------+-------------+-------------+-------------+-------------+--------------+--------------------+\n",
      "|mon|dom|dow|carrier|flight|org|depart|duration|delay|    km|org_idx|    org_dummy|depart_bucket| depart_dummy|    dow_dummy|     mon_dummy|            features|\n",
      "+---+---+---+-------+------+---+------+--------+-----+------+-------+-------------+-------------+-------------+-------------+--------------+--------------------+\n",
      "|  0|  1|  2|     AA|  2328|ORD| 11.08|     105| 18.0| 985.0|    0.0|(7,[0],[1.0])|          3.0|(7,[3],[1.0])|(6,[2],[1.0])|(11,[0],[1.0])|(32,[0,1,11,17,21...|\n",
      "|  0|  2|  3|     AA|  1442|ORD| 16.58|     105| 82.0| 985.0|    0.0|(7,[0],[1.0])|          5.0|(7,[5],[1.0])|(6,[3],[1.0])|(11,[0],[1.0])|(32,[0,1,13,18,21...|\n",
      "|  0|  2|  3|     AA|  1513|ORD| 18.75|     160| 58.0|1429.0|    0.0|(7,[0],[1.0])|          6.0|(7,[6],[1.0])|(6,[3],[1.0])|(11,[0],[1.0])|(32,[0,1,14,18,21...|\n",
      "|  0|  2|  3|     UA|   139|ORD|  10.0|     280| 21.0|2971.0|    0.0|(7,[0],[1.0])|          3.0|(7,[3],[1.0])|(6,[3],[1.0])|(11,[0],[1.0])|(32,[0,1,11,18,21...|\n",
      "|  0|  2|  3|     WN|   343|SJC| 21.42|     105|  2.0| 916.0|    5.0|(7,[5],[1.0])|          7.0|    (7,[],[])|(6,[3],[1.0])|(11,[0],[1.0])|(32,[0,6,18,21],[...|\n",
      "+---+---+---+-------+------+---+------+--------+-----+------+-------+-------------+-------------+-------------+-------------+--------------+--------------------+\n",
      "only showing top 5 rows\n",
      "\n",
      "+---+---+---+-------+------+---+------+--------+-----+------+-------+-------------+-------------+-------------+-------------+--------------+--------------------+\n",
      "|mon|dom|dow|carrier|flight|org|depart|duration|delay|    km|org_idx|    org_dummy|depart_bucket| depart_dummy|    dow_dummy|     mon_dummy|            features|\n",
      "+---+---+---+-------+------+---+------+--------+-----+------+-------+-------------+-------------+-------------+-------------+--------------+--------------------+\n",
      "|  0|  1|  2|     B6|   145|JFK| 20.58|     204| 79.0|1728.0|    2.0|(7,[2],[1.0])|          6.0|(7,[6],[1.0])|(6,[2],[1.0])|(11,[0],[1.0])|(32,[0,3,14,17,21...|\n",
      "|  0|  2|  3|     AA|  2079|ORD|  8.33|     265|-16.0|2773.0|    0.0|(7,[0],[1.0])|          2.0|(7,[2],[1.0])|(6,[3],[1.0])|(11,[0],[1.0])|(32,[0,1,10,18,21...|\n",
      "|  0|  5|  6|     WN|  3142|SJC| 18.67|      80|105.0| 621.0|    5.0|(7,[5],[1.0])|          6.0|(7,[6],[1.0])|    (6,[],[])|(11,[0],[1.0])|(32,[0,6,14,21],[...|\n",
      "|  0|  7|  1|     UA|   687|LGA|  16.0|     158|135.0|1180.0|    3.0|(7,[3],[1.0])|          5.0|(7,[5],[1.0])|(6,[1],[1.0])|(11,[0],[1.0])|(32,[0,4,13,16,21...|\n",
      "|  0|  8|  2|     OO|  5449|SMF| 17.17|      45|259.0| 138.0|    4.0|(7,[4],[1.0])|          5.0|(7,[5],[1.0])|(6,[2],[1.0])|(11,[0],[1.0])|(32,[0,5,13,17,21...|\n",
      "+---+---+---+-------+------+---+------+--------+-----+------+-------+-------------+-------------+-------------+-------------+--------------+--------------------+\n",
      "only showing top 5 rows\n",
      "\n"
     ]
    },
    {
     "data": {
      "text/plain": [
       "[('mon', 'int'),\n",
       " ('dom', 'int'),\n",
       " ('dow', 'int'),\n",
       " ('carrier', 'string'),\n",
       " ('flight', 'int'),\n",
       " ('org', 'string'),\n",
       " ('depart', 'double'),\n",
       " ('duration', 'int'),\n",
       " ('delay', 'int'),\n",
       " ('km', 'double'),\n",
       " ('org_idx', 'double'),\n",
       " ('org_dummy', 'string'),\n",
       " ('depart_bucket', 'double'),\n",
       " ('depart_dummy', 'string'),\n",
       " ('features', 'string'),\n",
       " ('prediction', 'double')]"
      ]
     },
     "execution_count": 98,
     "metadata": {},
     "output_type": "execute_result"
    }
   ],
   "source": [
    "#upload and download\n",
    "\n",
    "from downloadfromFileIO import saveFromFileIO\n",
    "\"\"\" à executer sur datacamp: (apres copie du code uploadfromdatacamp.py)\n",
    "df_predictions = predictions.toPandas()\n",
    "df_flights_train = flights_train.toPandas()\n",
    "df_flights_test = flights_test.toPandas()\n",
    "uploadToFileIO(df_predictions, df_flights_train, df_flights_test)\n",
    "\"\"\"\n",
    "\n",
    "tobedownloaded=\"\"\"\n",
    "{pandas.core.frame.DataFrame: {'df_flights_test.csv': 'https://file.io/z8Wz1a',\n",
    "  'df_flights_train.csv': 'https://file.io/USXK5j',\n",
    "  'df_predictions.csv': 'https://file.io/XzrTZy'}}\n",
    "\"\"\"\n",
    "prefixToc = '4.1'\n",
    "prefix = saveFromFileIO(tobedownloaded, prefixToc=prefixToc, proxy=\"10.225.92.1:80\")\n",
    "\n",
    "\n",
    "# Read data from CSV file\n",
    "predictions = spark.read.csv(prefix+'df_predictions.csv',\n",
    "                         sep=',',\n",
    "                         header=True,\n",
    "                         inferSchema=True,\n",
    "                         nullValue='NA')\n",
    "flights_train = spark.read.csv(prefix+'df_flights_train.csv',\n",
    "                         sep=',',\n",
    "                         header=True,\n",
    "                         inferSchema=True,\n",
    "                         nullValue='NA')\n",
    "flights_test = spark.read.csv(prefix+'df_flights_test.csv',\n",
    "                         sep=',',\n",
    "                         header=True,\n",
    "                         inferSchema=True,\n",
    "                         nullValue='NA')\n",
    "\n",
    "predictions=predictions.drop('_c0')\n",
    "flights_train=flights_train.drop('_c0')\n",
    "flights_test=flights_test.drop('_c0')\n",
    "# Get number of records\n",
    "print(\"The data predictions contain %d records.\" % predictions.count())\n",
    "print(\"The data flights_train contain %d records.\" % flights_train.count())\n",
    "print(\"The data flights_test contain %d records.\" % flights_test.count())\n",
    "\n",
    "# View the first five records\n",
    "predictions.show(5)\n",
    "flights_train.show(5)\n",
    "flights_test.show(5)\n",
    "\n",
    "\n",
    "predictions = predictions.withColumn(\"delay\", predictions.delay.cast('integer'))\n",
    "flights_train = flights_train.withColumn(\"delay\", flights_train.delay.cast('integer'))\n",
    "flights_test = flights_test.withColumn(\"delay\", flights_test.delay.cast('integer'))\n",
    "\n",
    "# Check column data types\n",
    "predictions.dtypes"
   ]
  },
  {
   "cell_type": "code",
   "execution_count": 104,
   "metadata": {
    "ExecuteTime": {
     "end_time": "2020-02-18T10:20:59.325621Z",
     "start_time": "2020-02-18T10:20:58.327968Z"
    }
   },
   "outputs": [],
   "source": [
    "def transformToVector(dataset):\n",
    "    # Create a one-hot encoder\n",
    "    dataset = dataset.drop('depart_dummy', 'org_dummy', 'features', 'dow_dummy', 'mon_dummy')\n",
    "\n",
    "    # Create instances of one hot encoders\n",
    "    onehot_depart = OneHotEncoderEstimator(inputCols=['depart_bucket'], outputCols=['depart_dummy'])\n",
    "    onehot_org = OneHotEncoderEstimator(inputCols=['org_idx'], outputCols=['org_dummy'])\n",
    "    onehot_dow = OneHotEncoderEstimator(inputCols=['dow'], outputCols=['dow_dummy'])\n",
    "    onehot_mon = OneHotEncoderEstimator(inputCols=['mon'], outputCols=['mon_dummy'])\n",
    "\n",
    "    # One-hot encode the bucketed departure times\n",
    "    dataset = onehot_depart.fit(dataset).transform(dataset)\n",
    "    # One-hot encode the org\n",
    "    dataset = onehot_org.fit(dataset).transform(dataset)\n",
    "    dataset = onehot_dow.fit(dataset).transform(dataset)\n",
    "    dataset = onehot_mon.fit(dataset).transform(dataset)\n",
    "    \n",
    "    assembler = VectorAssembler(inputCols=['km','org_dummy', 'depart_dummy', 'dow_dummy', 'mon_dummy'], outputCol='features')\n",
    "    dataset = assembler.transform(dataset)\n",
    "    dataset = dataset.drop('dow_dummy', 'mon_dummy')\n",
    "    return dataset\n",
    "\n",
    "predictions = transformToVector(predictions)\n",
    "flights_train = transformToVector(flights_train)\n",
    "flights_test = transformToVector(flights_test)"
   ]
  },
  {
   "cell_type": "code",
   "execution_count": 106,
   "metadata": {
    "ExecuteTime": {
     "end_time": "2020-02-18T10:24:14.914785Z",
     "start_time": "2020-02-18T10:24:14.826159Z"
    }
   },
   "outputs": [
    {
     "name": "stdout",
     "output_type": "stream",
     "text": [
      "+--------------------------------------------+--------+\n",
      "|features                                    |duration|\n",
      "+--------------------------------------------+--------+\n",
      "|(32,[0,3,14,17,21],[1728.0,1.0,1.0,1.0,1.0])|204     |\n",
      "|(32,[0,1,10,18,21],[2773.0,1.0,1.0,1.0,1.0])|265     |\n",
      "|(32,[0,6,14,21],[621.0,1.0,1.0,1.0])        |80      |\n",
      "|(32,[0,4,13,16,21],[1180.0,1.0,1.0,1.0,1.0])|158     |\n",
      "|(32,[0,5,13,17,21],[138.0,1.0,1.0,1.0,1.0]) |45      |\n",
      "+--------------------------------------------+--------+\n",
      "only showing top 5 rows\n",
      "\n"
     ]
    }
   ],
   "source": [
    "flights_test.select('features','duration').show(5, False)"
   ]
  },
  {
   "cell_type": "markdown",
   "metadata": {},
   "source": [
    "### code"
   ]
  },
  {
   "cell_type": "code",
   "execution_count": 107,
   "metadata": {
    "ExecuteTime": {
     "end_time": "2020-02-18T10:26:13.752405Z",
     "start_time": "2020-02-18T10:26:13.223559Z"
    }
   },
   "outputs": [
    {
     "name": "stdout",
     "output_type": "stream",
     "text": [
      "The test RMSE is 9.932871937636765\n",
      "[0.07466666934355301,8.078881563529334,1.9653119764127,30.90058109033576,25.975255321620892,-4.673220904608639,-0.5071146737729627,-19.35458238364859,-20.553418861596572,-1.5250162109404266,2.902212223024328,6.9230292833642215,4.830665365251793,7.567402763210368,6.7482370748914215,0.5888385584814597,0.9652580580230514,-0.5645623742771357,-0.6200119406154614,-1.2240717932722625,-1.3845856065896651,-4.574194011951068,-6.482639010679108,-3.8632479519852603,-3.7540130731837587,-8.8096609834927,-6.500070642930037,-5.396616986276698,-5.1580203920599885,-9.682260059912322,-5.6441219946379695,-5.467775936528763]\n"
     ]
    }
   ],
   "source": [
    "from pyspark.ml.regression import LinearRegression\n",
    "from pyspark.ml.evaluation import RegressionEvaluator\n",
    "\n",
    "# Fit linear regression model to training data\n",
    "regression = LinearRegression(labelCol='duration').fit(flights_train)\n",
    "\n",
    "# Make predictions on testing data\n",
    "predictions = regression.transform(flights_test)\n",
    "\n",
    "# Calculate the RMSE on testing data\n",
    "rmse = RegressionEvaluator(labelCol='duration').evaluate(predictions)\n",
    "print(\"The test RMSE is\", rmse)\n",
    "\n",
    "# Look at the model coefficients\n",
    "coeffs = regression.coefficients\n",
    "print(coeffs)"
   ]
  },
  {
   "cell_type": "markdown",
   "metadata": {},
   "source": [
    "## Flight duration model: Regularisation!\n",
    "In the previous exercise you added more predictors to the flight duration model. The model performed well on testing data, but with so many coefficients it was difficult to interpret.\n",
    "\n",
    "In this exercise you'll use Lasso regression (regularized with a L1 penalty) to create a more parsimonious model. Many of the coefficients in the resulting model will be set to zero. This means that only a subset of the predictors actually contribute to the model. Despite the simpler model, it still produces a good RMSE on the testing data.\n",
    "\n",
    "You'll use a specific value for the regularization strength. Later you'll learn how to find the best value using cross validation.\n",
    "\n",
    "The data (same as previous exercise) are available as flights, randomly split into flights_train and flights_test."
   ]
  },
  {
   "cell_type": "markdown",
   "metadata": {},
   "source": [
    "### code"
   ]
  },
  {
   "cell_type": "code",
   "execution_count": 110,
   "metadata": {
    "ExecuteTime": {
     "end_time": "2020-02-18T10:30:27.501552Z",
     "start_time": "2020-02-18T10:30:27.019339Z"
    }
   },
   "outputs": [
    {
     "name": "stdout",
     "output_type": "stream",
     "text": [
      "The test RMSE is 10.984343771570359\n",
      "[0.07389402740392768,2.291440243753814,-0.8760381259475464,23.86049085966021,17.50514370588225,-6.393301619531375,-1.491688863088528,-18.580714413668534,0.0,0.0,-0.2458206429833692,0.0,0.0,0.14127986333000958,0.0,0.0,0.0,0.0,0.0,0.0,0.0,0.0,0.0,0.0,0.0,-1.1202706248270329,0.0,0.0,0.0,0.0,0.0,0.0]\n",
      "Number of ceofficients equal to 0: 21\n"
     ]
    }
   ],
   "source": [
    "from pyspark.ml.regression import LinearRegression\n",
    "from pyspark.ml.evaluation import RegressionEvaluator\n",
    "\n",
    "# Fit Lasso model (α = 1) to training data\n",
    "regression = LinearRegression(labelCol='duration', regParam=1, elasticNetParam=1).fit(flights_train)\n",
    "\n",
    "# Calculate the RMSE on testing data\n",
    "rmse = RegressionEvaluator(labelCol='duration').evaluate(regression.transform(flights_test))\n",
    "print(\"The test RMSE is\", rmse)\n",
    "\n",
    "# Look at the model coefficients\n",
    "coeffs = regression.coefficients\n",
    "print(coeffs)\n",
    "\n",
    "# Number of zero coefficients\n",
    "zero_coeff = sum([beta==0 for beta in regression.coefficients])\n",
    "print(\"Number of ceofficients equal to 0:\", zero_coeff)"
   ]
  },
  {
   "cell_type": "code",
   "execution_count": null,
   "metadata": {},
   "outputs": [],
   "source": []
  }
 ],
 "metadata": {
  "kernelspec": {
   "display_name": "Python 3",
   "language": "python",
   "name": "python3"
  },
  "language_info": {
   "codemirror_mode": {
    "name": "ipython",
    "version": 3
   },
   "file_extension": ".py",
   "mimetype": "text/x-python",
   "name": "python",
   "nbconvert_exporter": "python",
   "pygments_lexer": "ipython3",
   "version": "3.6.10"
  },
  "toc": {
   "base_numbering": 1,
   "nav_menu": {},
   "number_sections": true,
   "sideBar": true,
   "skip_h1_title": false,
   "title_cell": "Table of Contents",
   "title_sidebar": "Contents",
   "toc_cell": false,
   "toc_position": {},
   "toc_section_display": true,
   "toc_window_display": true
  }
 },
 "nbformat": 4,
 "nbformat_minor": 4
}
