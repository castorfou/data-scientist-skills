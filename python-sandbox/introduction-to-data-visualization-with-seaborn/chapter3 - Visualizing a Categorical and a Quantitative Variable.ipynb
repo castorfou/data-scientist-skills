{
 "cells": [
  {
   "cell_type": "markdown",
   "metadata": {},
   "source": [
    "# Count plots and bar plots\n",
    "\n",
    "```python\n",
    "# countplot() vs. catplot()\n",
    "import matplotlib.pyplot as plt\n",
    "import seaborn as sns\n",
    "sns.catplot(x=\"how_masculine\",data=masculinity_data,kind=\"count\")\n",
    "plt.show()\n",
    "\n",
    "# Changing the order\n",
    "import matplotlib.pyplot as plt\n",
    "import seaborn as sns\n",
    "category_order = [\"No answer\",\"Not at all\",\"Not very\",\"Somewhat\",\"Very\"]\n",
    "sns.catplot(x=\"how_masculine\",data=masculinity_data,kind=\"count\",order=category_order)\n",
    "plt.show()\n",
    "\n",
    "# Bar plots\n",
    "import matplotlib.pyplot as plt\n",
    "import seaborn as sns\n",
    "sns.catplot(x=\"day\",y=\"total_bill\",data=tips,kind=\"bar\")\n",
    "plt.show()\n",
    "\n",
    "# Turning off confidence intervals\n",
    "import matplotlib.pyplot as plt\n",
    "import seaborn as sns\n",
    "sns.catplot(x=\"day\",y=\"total_bill\",data=tips,kind=\"bar\",ci=None)\n",
    "plt.show()\n",
    "\n",
    "# Changing the orientation\n",
    "import matplotlib.pyplot as plt\n",
    "import seaborn as sns\n",
    "sns.catplot(x=\"total_bill\",y=\"day\",data=tips,kind=\"bar\")\n",
    "plt.show()\n",
    "```"
   ]
  },
  {
   "cell_type": "markdown",
   "metadata": {},
   "source": [
    "[Count plots | Python](https://campus.datacamp.com/courses/introduction-to-data-visualization-with-seaborn/visualizing-a-categorical-and-a-quantitative-variable?ex=2)\n",
    "\n",
    "> ## Count plots\n",
    "> \n",
    "> In this exercise, we'll return to exploring our dataset that contains the responses to a survey sent out to young people. We might suspect that young people spend a lot of time on the internet, but how much do they report using the internet each day? Let's use a count plot to break down the number of survey responses in each category and then explore whether it changes based on age.\n",
    "> \n",
    "> As a reminder, to create a count plot, we'll use the `catplot()` function and specify the name of the categorical variable to count (`x=____`), the Pandas DataFrame to use (`data=____`), and the type of plot (`kind=\"count\"`).\n",
    "> \n",
    "> Seaborn has been imported as `sns` and `matplotlib.pyplot` has been imported as `plt`."
   ]
  },
  {
   "cell_type": "markdown",
   "metadata": {},
   "source": [
    "### init"
   ]
  },
  {
   "cell_type": "code",
   "execution_count": 1,
   "metadata": {
    "ExecuteTime": {
     "end_time": "2021-01-19T10:18:14.165008Z",
     "start_time": "2021-01-19T10:18:13.153908Z"
    }
   },
   "outputs": [
    {
     "name": "stdout",
     "output_type": "stream",
     "text": [
      "Téléchargements à lancer\n",
      "{'pandas.core.frame.DataFrame': {'survey_data.csv': 'https://file.io/nDmTzJiXCJrb'}}\n",
      "  % Total    % Received % Xferd  Average Speed   Time    Time     Time  Current\n",
      "                                 Dload  Upload   Total   Spent    Left  Speed\n",
      "100 92462    0 92462    0     0   125k      0 --:--:-- --:--:-- --:--:--  125k\n",
      "\n"
     ]
    }
   ],
   "source": [
    "###################\n",
    "##### Dataframe\n",
    "###################\n",
    "\n",
    "#upload and download\n",
    "\n",
    "from downloadfromFileIO import saveFromFileIO\n",
    "\"\"\" à executer sur datacamp: (apres copie du code uploadfromdatacamp.py)\n",
    "uploadToFileIO(survey_data)\n",
    "\"\"\"\n",
    "\n",
    "tobedownloaded=\"\"\"\n",
    "{pandas.core.frame.DataFrame: {'survey_data.csv': 'https://file.io/nDmTzJiXCJrb'}}\n",
    "\"\"\"\n",
    "prefixToc='1.1'\n",
    "prefix = saveFromFileIO(tobedownloaded, prefixToc=prefixToc, proxy=\"\")\n",
    "\n",
    "#initialisation\n",
    "\n",
    "import pandas as pd\n",
    "survey_data = pd.read_csv(prefix+'survey_data.csv',index_col=0)"
   ]
  },
  {
   "cell_type": "code",
   "execution_count": 3,
   "metadata": {
    "ExecuteTime": {
     "end_time": "2021-01-19T10:19:39.300536Z",
     "start_time": "2021-01-19T10:19:39.009980Z"
    }
   },
   "outputs": [],
   "source": [
    "import matplotlib.pyplot as plt\n",
    "import seaborn as sns"
   ]
  },
  {
   "cell_type": "markdown",
   "metadata": {},
   "source": [
    "### code"
   ]
  },
  {
   "cell_type": "markdown",
   "metadata": {},
   "source": [
    "> Use `sns.catplot()` to create a count plot using the `survey_data` DataFrame with `\"Internet usage\"` on the x-axis."
   ]
  },
  {
   "cell_type": "code",
   "execution_count": 6,
   "metadata": {
    "ExecuteTime": {
     "end_time": "2021-01-19T10:19:54.157031Z",
     "start_time": "2021-01-19T10:19:54.000955Z"
    }
   },
   "outputs": [
    {
     "data": {
      "image/png": "[encoded data removed]",
      "text/plain": [
       "<Figure size 360x360 with 1 Axes>"
      ]
     },
     "metadata": {
      "needs_background": "light"
     },
     "output_type": "display_data"
    }
   ],
   "source": [
    "# Create count plot of internet usage\n",
    "sns.catplot(x='Internet usage', data=survey_data, kind='count')\n",
    "\n",
    "\n",
    "# Show plot\n",
    "plt.show()"
   ]
  },
  {
   "cell_type": "markdown",
   "metadata": {},
   "source": [
    "> Make the bars horizontal instead of vertical."
   ]
  },
  {
   "cell_type": "code",
   "execution_count": 7,
   "metadata": {
    "ExecuteTime": {
     "end_time": "2021-01-19T10:20:29.797218Z",
     "start_time": "2021-01-19T10:20:29.656251Z"
    }
   },
   "outputs": [
    {
     "data": {
      "image/png": "[encoded data removed]",
      "text/plain": [
       "<Figure size 360x360 with 1 Axes>"
      ]
     },
     "metadata": {
      "needs_background": "light"
     },
     "output_type": "display_data"
    }
   ],
   "source": [
    "# Change the orientation of the plot\n",
    "sns.catplot(y=\"Internet usage\", data=survey_data,\n",
    "            kind=\"count\")\n",
    "\n",
    "# Show plot\n",
    "plt.show()"
   ]
  },
  {
   "cell_type": "markdown",
   "metadata": {},
   "source": [
    "> Create column subplots based on `\"Age Category\"`, which separates respondents into those that are younger than 21 vs. 21 and older."
   ]
  },
  {
   "cell_type": "code",
   "execution_count": 8,
   "metadata": {
    "ExecuteTime": {
     "end_time": "2021-01-19T10:21:05.929491Z",
     "start_time": "2021-01-19T10:21:05.737035Z"
    }
   },
   "outputs": [
    {
     "data": {
      "image/png": "[encoded data removed]",
      "text/plain": [
       "<Figure size 720x360 with 2 Axes>"
      ]
     },
     "metadata": {
      "needs_background": "light"
     },
     "output_type": "display_data"
    }
   ],
   "source": [
    "# Create column subplots based on age category\n",
    "sns.catplot(y=\"Internet usage\", data=survey_data,\n",
    "            kind=\"count\", col='Age Category')\n",
    "\n",
    "# Show plot\n",
    "plt.show()"
   ]
  },
  {
   "cell_type": "markdown",
   "metadata": {},
   "source": [
    "[Bar plots with percentages | Python](https://campus.datacamp.com/courses/introduction-to-data-visualization-with-seaborn/visualizing-a-categorical-and-a-quantitative-variable?ex=3)\n",
    "\n",
    "> ## Bar plots with percentages\n",
    "> \n",
    "> Let's continue exploring the responses to a survey sent out to young people. The variable `\"Interested in Math\"` is `True` if the person reported being interested or very interested in mathematics, and `False` otherwise. What percentage of young people report being interested in math, and does this vary based on gender? Let's use a bar plot to find out.\n",
    "> \n",
    "> As a reminder, we'll create a bar plot using the `catplot()` function, providing the name of categorical variable to put on the x-axis (`x=____`), the name of the quantitative variable to summarize on the y-axis (`y=____`), the Pandas DataFrame to use (`data=____`), and the type of categorical plot (`kind=\"bar\"`).\n",
    "> \n",
    "> Seaborn has been imported as `sns` and `matplotlib.pyplot` has been imported as `plt`."
   ]
  },
  {
   "cell_type": "markdown",
   "metadata": {},
   "source": [
    "> Use the `survey_data` DataFrame and `sns.catplot()` to create a bar plot with `\"Gender\"` on the x-axis and `\"Interested in Math\"` on the y-axis."
   ]
  },
  {
   "cell_type": "markdown",
   "metadata": {},
   "source": [
    "### init"
   ]
  },
  {
   "cell_type": "code",
   "execution_count": 12,
   "metadata": {
    "ExecuteTime": {
     "end_time": "2021-01-19T10:25:11.033704Z",
     "start_time": "2021-01-19T10:25:10.192477Z"
    }
   },
   "outputs": [
    {
     "name": "stdout",
     "output_type": "stream",
     "text": [
      "Téléchargements à lancer\n",
      "{'pandas.core.frame.DataFrame': {'survey_data.csv': 'https://file.io/UYhAQAlhIpb5'}}\n",
      "  % Total    % Received % Xferd  Average Speed   Time    Time     Time  Current\n",
      "                                 Dload  Upload   Total   Spent    Left  Speed\n",
      "100 88693    0 88693    0     0   108k      0 --:--:-- --:--:-- --:--:--  108k\n",
      "\n"
     ]
    }
   ],
   "source": [
    "###################\n",
    "##### Dataframe\n",
    "###################\n",
    "\n",
    "#upload and download\n",
    "\n",
    "from downloadfromFileIO import saveFromFileIO\n",
    "\"\"\" à executer sur datacamp: (apres copie du code uploadfromdatacamp.py)\n",
    "uploadToFileIO(survey_data)\n",
    "\"\"\"\n",
    "\n",
    "tobedownloaded=\"\"\"\n",
    "{pandas.core.frame.DataFrame: {'survey_data.csv': 'https://file.io/UYhAQAlhIpb5'}}\n",
    "\"\"\"\n",
    "prefixToc='1.2'\n",
    "prefix = saveFromFileIO(tobedownloaded, prefixToc=prefixToc, proxy=\"\")\n",
    "\n",
    "#initialisation\n",
    "\n",
    "import pandas as pd\n",
    "survey_data = pd.read_csv(prefix+'survey_data.csv',index_col=0)"
   ]
  },
  {
   "cell_type": "markdown",
   "metadata": {},
   "source": [
    "### code"
   ]
  },
  {
   "cell_type": "code",
   "execution_count": 13,
   "metadata": {
    "ExecuteTime": {
     "end_time": "2021-01-19T10:25:12.269466Z",
     "start_time": "2021-01-19T10:25:12.091672Z"
    }
   },
   "outputs": [
    {
     "data": {
      "image/png": "[encoded data removed]",
      "text/plain": [
       "<Figure size 360x360 with 1 Axes>"
      ]
     },
     "metadata": {
      "needs_background": "light"
     },
     "output_type": "display_data"
    }
   ],
   "source": [
    "# Create a bar plot of interest in math, separated by gender\n",
    "sns.catplot(x='Gender', y='Interested in Math', data=survey_data, kind='bar')\n",
    "\n",
    "\n",
    "# Show plot\n",
    "plt.show()"
   ]
  },
  {
   "cell_type": "markdown",
   "metadata": {},
   "source": [
    "[Customizing bar plots | Python](https://campus.datacamp.com/courses/introduction-to-data-visualization-with-seaborn/visualizing-a-categorical-and-a-quantitative-variable?ex=4)\n",
    "\n",
    "> ## Customizing bar plots\n",
    "> \n",
    "> In this exercise, we'll explore data from students in secondary school. The `\"study_time\"` variable records each student's reported weekly study time as one of the following categories: `\"<2 hours\"`, `\"2 to 5 hours\"`, `\"5 to 10 hours\"`, or `\">10 hours\"`. Do students who report higher amounts of studying tend to get better final grades? Let's compare the average final grade among students in each category using a bar plot.\n",
    "> \n",
    "> Seaborn has been imported as `sns` and `matplotlib.pyplot` has been imported as `plt`."
   ]
  },
  {
   "cell_type": "markdown",
   "metadata": {},
   "source": [
    "> Use `sns.catplot()` to create a bar plot with `\"study_time\"` on the x-axis and final grade (`\"G3\"`) on the y-axis, using the `student_data` DataFrame."
   ]
  },
  {
   "cell_type": "markdown",
   "metadata": {},
   "source": [
    "### init"
   ]
  },
  {
   "cell_type": "code",
   "execution_count": 14,
   "metadata": {
    "ExecuteTime": {
     "end_time": "2021-01-19T10:27:03.073387Z",
     "start_time": "2021-01-19T10:27:02.433752Z"
    }
   },
   "outputs": [
    {
     "name": "stdout",
     "output_type": "stream",
     "text": [
      "Téléchargements à lancer\n",
      "{'pandas.core.frame.DataFrame': {'student_data.csv': 'https://file.io/mIpoKJn7nXmT'}}\n",
      "  % Total    % Received % Xferd  Average Speed   Time    Time     Time  Current\n",
      "                                 Dload  Upload   Total   Spent    Left  Speed\n",
      "100 37489    0 37489    0     0  63648      0 --:--:-- --:--:-- --:--:-- 63540\n",
      "\n"
     ]
    }
   ],
   "source": [
    "###################\n",
    "##### Dataframe\n",
    "###################\n",
    "\n",
    "#upload and download\n",
    "\n",
    "from downloadfromFileIO import saveFromFileIO\n",
    "\"\"\" à executer sur datacamp: (apres copie du code uploadfromdatacamp.py)\n",
    "uploadToFileIO(student_data)\n",
    "\"\"\"\n",
    "\n",
    "tobedownloaded=\"\"\"\n",
    "{pandas.core.frame.DataFrame: {'student_data.csv': 'https://file.io/mIpoKJn7nXmT'}}\n",
    "\"\"\"\n",
    "prefixToc='1.3'\n",
    "prefix = saveFromFileIO(tobedownloaded, prefixToc=prefixToc, proxy=\"\")\n",
    "\n",
    "#initialisation\n",
    "\n",
    "import pandas as pd\n",
    "student_data = pd.read_csv(prefix+'student_data.csv',index_col=0)"
   ]
  },
  {
   "cell_type": "markdown",
   "metadata": {},
   "source": [
    "### code"
   ]
  },
  {
   "cell_type": "code",
   "execution_count": 15,
   "metadata": {
    "ExecuteTime": {
     "end_time": "2021-01-19T10:27:18.892966Z",
     "start_time": "2021-01-19T10:27:18.689488Z"
    }
   },
   "outputs": [
    {
     "data": {
      "image/png": "[encoded data removed]",
      "text/plain": [
       "<Figure size 360x360 with 1 Axes>"
      ]
     },
     "metadata": {
      "needs_background": "light"
     },
     "output_type": "display_data"
    }
   ],
   "source": [
    "# Create bar plot of average final grade in each study category\n",
    "sns.catplot(x='study_time', y='G3', data=student_data, kind='bar')\n",
    "\n",
    "\n",
    "\n",
    "# Show plot\n",
    "plt.show()"
   ]
  },
  {
   "cell_type": "markdown",
   "metadata": {},
   "source": [
    "> Using the `order` parameter, rearrange the categories so that they are in order from lowest study time to highest."
   ]
  },
  {
   "cell_type": "code",
   "execution_count": 16,
   "metadata": {
    "ExecuteTime": {
     "end_time": "2021-01-19T10:28:30.179740Z",
     "start_time": "2021-01-19T10:28:29.986975Z"
    }
   },
   "outputs": [
    {
     "data": {
      "image/png": "[encoded data removed]",
      "text/plain": [
       "<Figure size 360x360 with 1 Axes>"
      ]
     },
     "metadata": {
      "needs_background": "light"
     },
     "output_type": "display_data"
    }
   ],
   "source": [
    "# Rearrange the categories\n",
    "sns.catplot(x=\"study_time\", y=\"G3\",\n",
    "            data=student_data,\n",
    "            kind=\"bar\", order=['<2 hours', '2 to 5 hours', '5 to 10 hours', '>10 hours'])\n",
    "\n",
    "# Show plot\n",
    "plt.show()"
   ]
  },
  {
   "cell_type": "markdown",
   "metadata": {},
   "source": [
    "> Update the plot so that it no longer displays confidence intervals."
   ]
  },
  {
   "cell_type": "code",
   "execution_count": 18,
   "metadata": {
    "ExecuteTime": {
     "end_time": "2021-01-19T10:28:59.461318Z",
     "start_time": "2021-01-19T10:28:59.331084Z"
    }
   },
   "outputs": [
    {
     "data": {
      "image/png": "[encoded data removed]",
      "text/plain": [
       "<Figure size 360x360 with 1 Axes>"
      ]
     },
     "metadata": {
      "needs_background": "light"
     },
     "output_type": "display_data"
    }
   ],
   "source": [
    "# Turn off the confidence intervals\n",
    "sns.catplot(x=\"study_time\", y=\"G3\",\n",
    "            data=student_data,\n",
    "            kind=\"bar\",\n",
    "            order=[\"<2 hours\", \n",
    "                   \"2 to 5 hours\", \n",
    "                   \"5 to 10 hours\", \n",
    "                   \">10 hours\"], ci=None)\n",
    "\n",
    "# Show plot\n",
    "plt.show()"
   ]
  },
  {
   "cell_type": "markdown",
   "metadata": {},
   "source": [
    "# Box plots\n",
    "\n",
    "```python\n",
    "# How to create a box plot\n",
    "import matplotlib.pyplot as plt\n",
    "import seaborn as sns\n",
    "g = sns.catplot(x=\"time\",y=\"total_bill\",data=tips,kind=\"box\")\n",
    "plt.show()\n",
    "\n",
    "# Change the order of categories\n",
    "import matplotlib.pyplot as plt\n",
    "import seaborn as sns\n",
    "g = sns.catplot(x=\"time\",y=\"total_bill\",data=tips,kind=\"box\",order=[\"Dinner\",\"Lunch\"])\n",
    "plt.show()\n",
    "\n",
    "# Omitting the outliers using `sym`\n",
    "import matplotlib.pyplot as plt\n",
    "import seaborn as sns\n",
    "g = sns.catplot(x=\"time\",y=\"total_bill\",data=tips,kind=\"box\",sym=\"\")\n",
    "plt.show()\n",
    "\n",
    "# Changing the whiskers using `whis`\n",
    "import matplotlib.pyplot as plt\n",
    "import seaborn as sns\n",
    "g = sns.catplot(x=\"time\",y=\"total_bill\",data=tips,kind=\"box\",whis=[0, 100])\n",
    "plt.show()\n",
    "```"
   ]
  },
  {
   "cell_type": "markdown",
   "metadata": {},
   "source": [
    "[Create and interpret a box plot | Python](https://campus.datacamp.com/courses/introduction-to-data-visualization-with-seaborn/visualizing-a-categorical-and-a-quantitative-variable?ex=6)\n",
    "\n",
    "> ## Create and interpret a box plot\n",
    "> \n",
    "> Let's continue using the `student_data` dataset. In an earlier exercise, we explored the relationship between studying and final grade by using a bar plot to compare the average final grade (`\"G3\"`) among students in different categories of `\"study_time\"`.\n",
    "> \n",
    "> In this exercise, we'll try using a box plot look at this relationship instead. As a reminder, to create a box plot you'll need to use the `catplot()` function and specify the name of the categorical variable to put on the x-axis (`x=____`), the name of the quantitative variable to summarize on the y-axis (`y=____`), the Pandas DataFrame to use (`data=____`), and the type of plot (`kind=\"box\"`).\n",
    "> \n",
    "> We have already imported `matplotlib.pyplot` as `plt` and `seaborn` as `sns`."
   ]
  },
  {
   "cell_type": "markdown",
   "metadata": {},
   "source": [
    "> Use `sns.catplot()` and the `student_data` DataFrame to create a box plot with `\"study_time\"` on the x-axis and `\"G3\"` on the y-axis. Set the ordering of the categories to `study_time_order`."
   ]
  },
  {
   "cell_type": "code",
   "execution_count": 20,
   "metadata": {
    "ExecuteTime": {
     "end_time": "2021-01-19T10:34:59.418527Z",
     "start_time": "2021-01-19T10:34:59.254974Z"
    }
   },
   "outputs": [
    {
     "data": {
      "image/png": "[encoded data removed]",
      "text/plain": [
       "<Figure size 360x360 with 1 Axes>"
      ]
     },
     "metadata": {
      "needs_background": "light"
     },
     "output_type": "display_data"
    }
   ],
   "source": [
    "# Specify the category ordering\n",
    "study_time_order = [\"<2 hours\", \"2 to 5 hours\", \n",
    "                    \"5 to 10 hours\", \">10 hours\"]\n",
    "\n",
    "# Create a box plot and set the order of the categories\n",
    "\n",
    "sns.catplot(x='study_time', y='G3', data=student_data, kind='box', order=study_time_order)\n",
    "\n",
    "\n",
    "\n",
    "# Show plot\n",
    "plt.show()"
   ]
  },
  {
   "cell_type": "markdown",
   "metadata": {},
   "source": [
    "[Omitting outliers | Python](https://campus.datacamp.com/courses/introduction-to-data-visualization-with-seaborn/visualizing-a-categorical-and-a-quantitative-variable?ex=7)\n",
    "\n",
    "> ## Omitting outliers\n",
    "> \n",
    "> Now let's use the `student_data` dataset to compare the distribution of final grades (`\"G3\"`) between students who have internet access at home and those who don't. To do this, we'll use the `\"internet\"` variable, which is a binary (yes/no) indicator of whether the student has internet access at home.\n",
    "> \n",
    "> Since internet may be less accessible in rural areas, we'll add subgroups based on where the student lives. For this, we can use the `\"location\"` variable, which is an indicator of whether a student lives in an urban (\"Urban\") or rural (\"Rural\") location.\n",
    "> \n",
    "> Seaborn has already been imported as `sns` and `matplotlib.pyplot` has been imported as `plt`. As a reminder, you can omit outliers in box plots by setting the `sym` parameter equal to an empty string (`\"\"`)."
   ]
  },
  {
   "cell_type": "markdown",
   "metadata": {},
   "source": [
    "> -   Use `sns.catplot()` to create a box plot with the `student_data` DataFrame, putting `\"internet\"` on the x-axis and `\"G3\"` on the y-axis.\n",
    "> -   Add subgroups so each box plot is colored based on `\"location\"`.\n",
    "> -   Do not display the outliers."
   ]
  },
  {
   "cell_type": "code",
   "execution_count": 24,
   "metadata": {
    "ExecuteTime": {
     "end_time": "2021-01-19T10:39:14.302685Z",
     "start_time": "2021-01-19T10:39:14.084761Z"
    }
   },
   "outputs": [
    {
     "data": {
      "image/png": "[encoded data removed]",
      "text/plain": [
       "<Figure size 720x360 with 2 Axes>"
      ]
     },
     "metadata": {
      "needs_background": "light"
     },
     "output_type": "display_data"
    }
   ],
   "source": [
    "# Create a box plot with subgroups and omit the outliers\n",
    "\n",
    "sns.catplot(x='internet', y='G3', data=student_data, kind='box', col='location', hue='location', sym='')\n",
    "\n",
    "\n",
    "\n",
    "\n",
    "# Show plot\n",
    "plt.show()"
   ]
  },
  {
   "cell_type": "markdown",
   "metadata": {},
   "source": [
    "[Adjusting the whiskers | Python](https://campus.datacamp.com/courses/introduction-to-data-visualization-with-seaborn/visualizing-a-categorical-and-a-quantitative-variable?ex=8)\n",
    "\n",
    "> ## Adjusting the whiskers\n",
    "> \n",
    "> In the lesson we saw that there are multiple ways to define the whiskers in a box plot. In this set of exercises, we'll continue to use the `student_data` dataset to compare the distribution of final grades (`\"G3\"`) between students who are in a romantic relationship and those that are not. We'll use the `\"romantic\"` variable, which is a yes/no indicator of whether the student is in a romantic relationship.\n",
    "> \n",
    "> Let's create a box plot to look at this relationship and try different ways to define the whiskers.\n",
    "> \n",
    "> We've already imported Seaborn as `sns` and `matplotlib.pyplot` as `plt`."
   ]
  },
  {
   "cell_type": "markdown",
   "metadata": {},
   "source": [
    "> Adjust the code to make the box plot whiskers to extend to 0.5 \\* IQR. Recall: the IQR is the interquartile range."
   ]
  },
  {
   "cell_type": "code",
   "execution_count": 25,
   "metadata": {
    "ExecuteTime": {
     "end_time": "2021-01-19T10:40:17.548382Z",
     "start_time": "2021-01-19T10:40:17.398695Z"
    }
   },
   "outputs": [
    {
     "data": {
      "image/png": "[encoded data removed]",
      "text/plain": [
       "<Figure size 360x360 with 1 Axes>"
      ]
     },
     "metadata": {
      "needs_background": "light"
     },
     "output_type": "display_data"
    }
   ],
   "source": [
    "# Set the whiskers to 0.5 * IQR\n",
    "sns.catplot(x=\"romantic\", y=\"G3\",\n",
    "            data=student_data,\n",
    "            kind=\"box\", whis=0.5)\n",
    "\n",
    "# Show plot\n",
    "plt.show()"
   ]
  },
  {
   "cell_type": "markdown",
   "metadata": {},
   "source": [
    "> Change the code to set the whiskers to extend to the 5th and 95th percentiles."
   ]
  },
  {
   "cell_type": "code",
   "execution_count": 26,
   "metadata": {
    "ExecuteTime": {
     "end_time": "2021-01-19T10:41:18.296141Z",
     "start_time": "2021-01-19T10:41:18.172920Z"
    }
   },
   "outputs": [
    {
     "data": {
      "image/png": "[encoded data removed]",
      "text/plain": [
       "<Figure size 360x360 with 1 Axes>"
      ]
     },
     "metadata": {
      "needs_background": "light"
     },
     "output_type": "display_data"
    }
   ],
   "source": [
    "# Extend the whiskers to the 5th and 95th percentile\n",
    "sns.catplot(x=\"romantic\", y=\"G3\",\n",
    "            data=student_data,\n",
    "            kind=\"box\",\n",
    "            whis=[5,95])\n",
    "\n",
    "# Show plot\n",
    "plt.show()"
   ]
  },
  {
   "cell_type": "markdown",
   "metadata": {},
   "source": [
    "> Change the code to set the whiskers to extend to the min and max values."
   ]
  },
  {
   "cell_type": "code",
   "execution_count": 27,
   "metadata": {
    "ExecuteTime": {
     "end_time": "2021-01-19T10:41:48.262124Z",
     "start_time": "2021-01-19T10:41:48.136914Z"
    }
   },
   "outputs": [
    {
     "data": {
      "image/png": "[encoded data removed]",
      "text/plain": [
       "<Figure size 360x360 with 1 Axes>"
      ]
     },
     "metadata": {
      "needs_background": "light"
     },
     "output_type": "display_data"
    }
   ],
   "source": [
    "# Set the whiskers at the min and max values\n",
    "sns.catplot(x=\"romantic\", y=\"G3\",\n",
    "            data=student_data,\n",
    "            kind=\"box\",\n",
    "            whis=[0, 100])\n",
    "\n",
    "# Show plot\n",
    "plt.show()"
   ]
  },
  {
   "cell_type": "markdown",
   "metadata": {},
   "source": [
    "# Point plots\n",
    "\n",
    "```python\n",
    "# Creating a point plot\n",
    "import matplotlib.pyplot as plt\n",
    "import seaborn as sns\n",
    "sns.catplot(x=\"age\",y=\"masculinity_important\",data=masculinity_data,hue=\"feel_masculine\",kind=\"point\")\n",
    "plt.show()\n",
    "\n",
    "# Disconnecting the points\n",
    "import matplotlib.pyplot as plt\n",
    "import seaborn as sns\n",
    "sns.catplot(x=\"age\",y=\"masculinity_important\",data=masculinity_data,hue=\"feel_masculine\",kind=\"point\",join=False)\n",
    "plt.show()\n",
    "\n",
    "# Displaying the median\n",
    "import matplotlib.pyplot as plt\n",
    "import seaborn as sns\n",
    "from numpy import median\n",
    "sns.catplot(x=\"smoker\",y=\"total_bill\",data=tips,kind=\"point\",estimator=median)\n",
    "plt.show()\n",
    "\n",
    "# Customizing the confidence intervals\n",
    "import matplotlib.pyplot as plt\n",
    "import seaborn as sns\n",
    "sns.catplot(x=\"smoker\",y=\"total_bill\",data=tips,kind=\"point\",capsize=0.2)\n",
    "plt.show()\n",
    "\n",
    "# Turning off confidence intervals\n",
    "import matplotlib.pyplot as plt\n",
    "import seaborn as sns\n",
    "sns.catplot(x=\"smoker\",y=\"total_bill\",data=tips,kind=\"point\",ci=None)\n",
    "plt.show()\n",
    "```"
   ]
  },
  {
   "cell_type": "markdown",
   "metadata": {},
   "source": [
    "[Customizing point plots | Python](https://campus.datacamp.com/courses/introduction-to-data-visualization-with-seaborn/visualizing-a-categorical-and-a-quantitative-variable?ex=10)\n",
    "\n",
    "> ## Customizing point plots\n",
    "> \n",
    "> Let's continue to look at data from students in secondary school, this time using a point plot to answer the question: does the quality of the student's family relationship influence the number of absences the student has in school? Here, we'll use the `\"famrel\"` variable, which describes the quality of a student's family relationship from 1 (very bad) to 5 (very good).\n",
    "> \n",
    "> As a reminder, to create a point plot, use the `catplot()` function and specify the name of the categorical variable to put on the x-axis (`x=____`), the name of the quantitative variable to summarize on the y-axis (`y=____`), the Pandas DataFrame to use (`data=____`), and the type of categorical plot (`kind=\"point\"`).\n",
    "> \n",
    "> We've already imported Seaborn as `sns` and `matplotlib.pyplot` as `plt`."
   ]
  },
  {
   "cell_type": "markdown",
   "metadata": {},
   "source": [
    "> Use `sns.catplot()` and the `student_data` DataFrame to create a point plot with `\"famrel\"` on the x-axis and number of absences (`\"absences\"`) on the y-axis."
   ]
  },
  {
   "cell_type": "code",
   "execution_count": 28,
   "metadata": {
    "ExecuteTime": {
     "end_time": "2021-01-19T10:49:18.593661Z",
     "start_time": "2021-01-19T10:49:18.361806Z"
    }
   },
   "outputs": [
    {
     "data": {
      "image/png": "[encoded data removed]",
      "text/plain": [
       "<Figure size 360x360 with 1 Axes>"
      ]
     },
     "metadata": {
      "needs_background": "light"
     },
     "output_type": "display_data"
    }
   ],
   "source": [
    "# Create a point plot of family relationship vs. absences\n",
    "\n",
    "sns.catplot(x='famrel', y='absences', data=student_data, kind='point')\n",
    "\n",
    "            \n",
    "# Show plot\n",
    "plt.show()"
   ]
  },
  {
   "cell_type": "markdown",
   "metadata": {},
   "source": [
    "> Add \"caps\" to the end of the confidence intervals with size `0.2`."
   ]
  },
  {
   "cell_type": "code",
   "execution_count": 30,
   "metadata": {
    "ExecuteTime": {
     "end_time": "2021-01-19T10:50:07.860032Z",
     "start_time": "2021-01-19T10:50:07.630206Z"
    }
   },
   "outputs": [
    {
     "data": {
      "image/png": "[encoded data removed]",
      "text/plain": [
       "<Figure size 360x360 with 1 Axes>"
      ]
     },
     "metadata": {
      "needs_background": "light"
     },
     "output_type": "display_data"
    }
   ],
   "source": [
    "# Add caps to the confidence interval\n",
    "sns.catplot(x=\"famrel\", y=\"absences\",\n",
    "\t\t\tdata=student_data,\n",
    "            kind=\"point\", capsize=0.2)\n",
    "        \n",
    "# Show plot\n",
    "plt.show()"
   ]
  },
  {
   "cell_type": "markdown",
   "metadata": {},
   "source": [
    "> Remove the lines joining the points in each category."
   ]
  },
  {
   "cell_type": "code",
   "execution_count": 31,
   "metadata": {
    "ExecuteTime": {
     "end_time": "2021-01-19T10:50:38.899728Z",
     "start_time": "2021-01-19T10:50:38.674611Z"
    }
   },
   "outputs": [
    {
     "data": {
      "image/png": "[encoded data removed]",
      "text/plain": [
       "<Figure size 360x360 with 1 Axes>"
      ]
     },
     "metadata": {
      "needs_background": "light"
     },
     "output_type": "display_data"
    }
   ],
   "source": [
    "# Remove the lines joining the points\n",
    "sns.catplot(x=\"famrel\", y=\"absences\",\n",
    "\t\t\tdata=student_data,\n",
    "            kind=\"point\",\n",
    "            capsize=0.2, join=False)\n",
    "            \n",
    "# Show plot\n",
    "plt.show()"
   ]
  },
  {
   "cell_type": "markdown",
   "metadata": {},
   "source": [
    "[Point plots with subgroups | Python](https://campus.datacamp.com/courses/introduction-to-data-visualization-with-seaborn/visualizing-a-categorical-and-a-quantitative-variable?ex=11)\n",
    "\n",
    "> ## Point plots with subgroups\n",
    "> \n",
    "> Let's continue exploring the dataset of students in secondary school. This time, we'll ask the question: is being in a romantic relationship associated with higher or lower school attendance? And does this association differ by which school the students attend? Let's find out using a point plot.\n",
    "> \n",
    "> We've already imported Seaborn as `sns` and `matplotlib.pyplot` as `plt`."
   ]
  },
  {
   "cell_type": "markdown",
   "metadata": {},
   "source": [
    "> Use `sns.catplot()` and the `student_data` DataFrame to create a point plot with relationship status (`\"romantic\"`) on the x-axis and number of absences (`\"absences\"`) on the y-axis. Create subgroups based on the school that they attend (`\"school\"`)"
   ]
  },
  {
   "cell_type": "code",
   "execution_count": 34,
   "metadata": {
    "ExecuteTime": {
     "end_time": "2021-01-19T10:54:29.577373Z",
     "start_time": "2021-01-19T10:54:29.319516Z"
    }
   },
   "outputs": [
    {
     "data": {
      "image/png": "[encoded data removed]",
      "text/plain": [
       "<Figure size 410.875x360 with 1 Axes>"
      ]
     },
     "metadata": {
      "needs_background": "light"
     },
     "output_type": "display_data"
    }
   ],
   "source": [
    "# Create a point plot with subgroups\n",
    "\n",
    "sns.catplot(x='romantic', y='absences', data=student_data, kind='point', hue='school')\n",
    "\n",
    "\n",
    "# Show plot\n",
    "plt.show()"
   ]
  },
  {
   "cell_type": "markdown",
   "metadata": {},
   "source": [
    "> Turn off the confidence intervals for the plot."
   ]
  },
  {
   "cell_type": "code",
   "execution_count": 35,
   "metadata": {
    "ExecuteTime": {
     "end_time": "2021-01-19T10:55:03.288356Z",
     "start_time": "2021-01-19T10:55:03.090625Z"
    }
   },
   "outputs": [
    {
     "data": {
      "image/png": "[encoded data removed]",
      "text/plain": [
       "<Figure size 410.875x360 with 1 Axes>"
      ]
     },
     "metadata": {
      "needs_background": "light"
     },
     "output_type": "display_data"
    }
   ],
   "source": [
    "# Turn off the confidence intervals for this plot\n",
    "sns.catplot(x=\"romantic\", y=\"absences\",\n",
    "\t\t\tdata=student_data,\n",
    "            kind=\"point\",\n",
    "            hue=\"school\", ci=None)\n",
    "\n",
    "# Show plot\n",
    "plt.show()"
   ]
  },
  {
   "cell_type": "markdown",
   "metadata": {},
   "source": [
    "> Since there may be outliers of students with many absences, import the `median` function from `numpy` and display the median number of absences instead of the average."
   ]
  },
  {
   "cell_type": "code",
   "execution_count": 36,
   "metadata": {
    "ExecuteTime": {
     "end_time": "2021-01-19T10:56:01.358732Z",
     "start_time": "2021-01-19T10:56:01.141252Z"
    },
    "scrolled": true
   },
   "outputs": [
    {
     "data": {
      "image/png": "[encoded data removed]",
      "text/plain": [
       "<Figure size 410.875x360 with 1 Axes>"
      ]
     },
     "metadata": {
      "needs_background": "light"
     },
     "output_type": "display_data"
    }
   ],
   "source": [
    "# Import median function from numpy\n",
    "from numpy import median\n",
    "\n",
    "# Plot the median number of absences instead of the mean\n",
    "sns.catplot(x=\"romantic\", y=\"absences\",\n",
    "\t\t\tdata=student_data,\n",
    "            kind=\"point\",\n",
    "            hue=\"school\",\n",
    "            ci=None, estimator=median)\n",
    "\n",
    "# Show plot\n",
    "plt.show()"
   ]
  },
  {
   "cell_type": "markdown",
   "metadata": {},
   "source": []
  }
 ],
 "metadata": {
  "kernelspec": {
   "display_name": "Python [conda env:datacamp] *",
   "language": "python",
   "name": "conda-env-datacamp-py"
  },
  "language_info": {
   "codemirror_mode": {
    "name": "ipython",
    "version": 3
   },
   "file_extension": ".py",
   "mimetype": "text/x-python",
   "name": "python",
   "nbconvert_exporter": "python",
   "pygments_lexer": "ipython3",
   "version": "3.7.9"
  },
  "toc": {
   "base_numbering": 1,
   "nav_menu": {},
   "number_sections": true,
   "sideBar": true,
   "skip_h1_title": false,
   "title_cell": "Table of Contents",
   "title_sidebar": "Contents",
   "toc_cell": false,
   "toc_position": {},
   "toc_section_display": true,
   "toc_window_display": true
  }
 },
 "nbformat": 4,
 "nbformat_minor": 4
}
