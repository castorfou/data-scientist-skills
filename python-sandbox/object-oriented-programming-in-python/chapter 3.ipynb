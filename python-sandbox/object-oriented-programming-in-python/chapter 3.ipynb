{
 "cells": [
  {
   "cell_type": "markdown",
   "metadata": {},
   "source": [
    "# Working with a DataSet to Create DataFrames\n"
   ]
  },
  {
   "cell_type": "markdown",
   "metadata": {},
   "source": [
    "## Return Statement II: The Return of the DataShell\n",
    "Let's now go back to the class DataShell that we were working with earlier, and refactor it such that it uses the return statement instead of the print() function.\n",
    "\n",
    "Notice that since we are now using the return statement, we need to include our calls to object methods within the print() function."
   ]
  },
  {
   "cell_type": "markdown",
   "metadata": {},
   "source": [
    "### code"
   ]
  },
  {
   "cell_type": "code",
   "execution_count": 2,
   "metadata": {
    "ExecuteTime": {
     "end_time": "2020-04-14T09:17:27.624881Z",
     "start_time": "2020-04-14T09:17:27.619706Z"
    }
   },
   "outputs": [],
   "source": [
    "integer_list = [1, 2, 3, 4, 5, 6, 7, 8, 9, 10]"
   ]
  },
  {
   "cell_type": "code",
   "execution_count": 3,
   "metadata": {
    "ExecuteTime": {
     "end_time": "2020-04-14T09:17:28.100089Z",
     "start_time": "2020-04-14T09:17:28.092413Z"
    }
   },
   "outputs": [
    {
     "name": "stdout",
     "output_type": "stream",
     "text": [
      "[1, 2, 3, 4, 5, 6, 7, 8, 9, 10]\n",
      "5.5\n"
     ]
    }
   ],
   "source": [
    "# Create class: DataShell\n",
    "class DataShell:\n",
    "  \n",
    "\t# Initialize class with self and dataList as arguments\n",
    "    def __init__(self, dataList):\n",
    "      \t# Set data as instance variable, and assign it the value of dataList\n",
    "        self.data = dataList\n",
    "        \n",
    "\t# Define method that returns data: show\n",
    "    def show(self):\n",
    "        return self.data\n",
    "        \n",
    "    # Define method that prints average of data: avg \n",
    "    def avg(self):\n",
    "        # Declare avg and assign it the average of data\n",
    "        avg = sum(self.data)/float(len(self.data))\n",
    "        # Return avg\n",
    "        return avg\n",
    "        \n",
    "# Instantiate DataShell taking integer_list as argument: my_data_shell\n",
    "my_data_shell = DataShell(integer_list)\n",
    "\n",
    "# Print output of your object's show method\n",
    "print(my_data_shell.show())\n",
    "\n",
    "# Print output of your object's avg method\n",
    "print(my_data_shell.avg())"
   ]
  },
  {
   "cell_type": "markdown",
   "metadata": {},
   "source": [
    "## Return Statement III: A More Powerful DataShell\n",
    "In this exercise our DataShell class will evolve from simply consuming lists to consuming CSV files so that we can do more sophisticated things.\n",
    "\n",
    "For this, we will employ the return statement once again. Additionally, we will leverage some neat functionality from both the numpy and pandas packages."
   ]
  },
  {
   "cell_type": "markdown",
   "metadata": {},
   "source": [
    "### code"
   ]
  },
  {
   "cell_type": "code",
   "execution_count": 4,
   "metadata": {
    "ExecuteTime": {
     "end_time": "2020-04-14T09:19:30.697965Z",
     "start_time": "2020-04-14T09:19:30.688016Z"
    }
   },
   "outputs": [],
   "source": [
    "us_life_expectancy = 'https://assets.datacamp.com/production/repositories/2097/datasets/5dd3a8250688a4f08306206fa1d40f63b66bc8a9/us_life_expectancy.csv'"
   ]
  },
  {
   "cell_type": "code",
   "execution_count": 5,
   "metadata": {
    "ExecuteTime": {
     "end_time": "2020-04-14T09:19:50.399078Z",
     "start_time": "2020-04-14T09:19:48.147291Z"
    }
   },
   "outputs": [
    {
     "name": "stdout",
     "output_type": "stream",
     "text": [
      "           country code  year  life_expectancy\n",
      "0    United States  USA  1880        39.410000\n",
      "1    United States  USA  1890        45.209999\n",
      "2    United States  USA  1901        49.299999\n",
      "3    United States  USA  1902        50.500000\n",
      "4    United States  USA  1903        50.599998\n",
      "..             ...  ...   ...              ...\n",
      "112  United States  USA  2011        78.681999\n",
      "113  United States  USA  2012        78.820999\n",
      "114  United States  USA  2013        78.959999\n",
      "115  United States  USA  2014        79.099998\n",
      "116  United States  USA  2015        79.244003\n",
      "\n",
      "[117 rows x 4 columns]\n"
     ]
    }
   ],
   "source": [
    "# Load numpy as np and pandas as pd\n",
    "import numpy as np\n",
    "import pandas as pd\n",
    "\n",
    "# Create class: DataShell\n",
    "class DataShell:\n",
    "  \n",
    "    # Initialize class with self and inputFile\n",
    "    def __init__(self, inputFile):\n",
    "        self.file = inputFile\n",
    "        \n",
    "    # Define generate_csv method, with self argument\n",
    "    def generate_csv(self):\n",
    "        self.data_as_csv = pd.read_csv(self.file)\n",
    "        return self.data_as_csv\n",
    "\n",
    "# Instantiate DataShell with us_life_expectancy as input argument\n",
    "data_shell = DataShell(us_life_expectancy)\n",
    "\n",
    "# Call data_shell's generate_csv method, assign it to df\n",
    "df = data_shell.generate_csv()\n",
    "\n",
    "# Print df\n",
    "print(df)"
   ]
  },
  {
   "cell_type": "markdown",
   "metadata": {},
   "source": [
    "# Renaming Columns and the Five-Figure Summary\n"
   ]
  },
  {
   "cell_type": "markdown",
   "metadata": {},
   "source": [
    "## Data as Attributes\n",
    "In the previous coding exercise you wrote a method within your DataShell class that returns a Pandas Dataframe.\n",
    "\n",
    "In this one, we will cook the data into our class, as an instance variable. This is so that we can do fancy things later, such as renaming columns, as well as getting descriptive statistics.\n",
    "\n",
    "The object us_life_expectancy is loaded and available in your workspace."
   ]
  },
  {
   "cell_type": "markdown",
   "metadata": {},
   "source": [
    "### code"
   ]
  },
  {
   "cell_type": "code",
   "execution_count": 6,
   "metadata": {
    "ExecuteTime": {
     "end_time": "2020-04-14T09:25:18.363589Z",
     "start_time": "2020-04-14T09:25:18.356672Z"
    }
   },
   "outputs": [],
   "source": [
    "us_life_expectancy = 'https://assets.datacamp.com/production/repositories/2097/datasets/5dd3a8250688a4f08306206fa1d40f63b66bc8a9/us_life_expectancy.csv'"
   ]
  },
  {
   "cell_type": "code",
   "execution_count": 7,
   "metadata": {
    "ExecuteTime": {
     "end_time": "2020-04-14T09:26:20.505436Z",
     "start_time": "2020-04-14T09:26:20.337246Z"
    }
   },
   "outputs": [
    {
     "name": "stdout",
     "output_type": "stream",
     "text": [
      "           country code  year  life_expectancy\n",
      "0    United States  USA  1880        39.410000\n",
      "1    United States  USA  1890        45.209999\n",
      "2    United States  USA  1901        49.299999\n",
      "3    United States  USA  1902        50.500000\n",
      "4    United States  USA  1903        50.599998\n",
      "..             ...  ...   ...              ...\n",
      "112  United States  USA  2011        78.681999\n",
      "113  United States  USA  2012        78.820999\n",
      "114  United States  USA  2013        78.959999\n",
      "115  United States  USA  2014        79.099998\n",
      "116  United States  USA  2015        79.244003\n",
      "\n",
      "[117 rows x 4 columns]\n"
     ]
    }
   ],
   "source": [
    "# Import numpy as np, pandas as pd\n",
    "import numpy as np\n",
    "import pandas as pd\n",
    "\n",
    "# Create class: DataShell\n",
    "class DataShell:\n",
    "  \n",
    "    # Define initialization method\n",
    "    def __init__(self, filepath):\n",
    "        # Set filepath as instance variable  \n",
    "        self.filepath = filepath\n",
    "        # Set data_as_csv as instance variable\n",
    "        self.data_as_csv = pd.read_csv(filepath)\n",
    "\n",
    "# Instantiate DataShell as us_data_shell\n",
    "us_data_shell = DataShell(us_life_expectancy)\n",
    "\n",
    "# Print your object's data_as_csv attribute\n",
    "print(us_data_shell.data_as_csv)"
   ]
  },
  {
   "cell_type": "markdown",
   "metadata": {},
   "source": [
    "## Renaming Columns\n",
    "Methods can be especially useful to manipulate their object's data. In this exercise, we will create a method inside of our DataShell class, so that we can rename our data columns.\n",
    "\n",
    "numpy and pandas are already imported in your workspace as np and pd, respectively."
   ]
  },
  {
   "cell_type": "code",
   "execution_count": 8,
   "metadata": {
    "ExecuteTime": {
     "end_time": "2020-04-14T09:28:04.827135Z",
     "start_time": "2020-04-14T09:28:04.644803Z"
    }
   },
   "outputs": [
    {
     "name": "stdout",
     "output_type": "stream",
     "text": [
      "country             object\n",
      "code                object\n",
      "year                 int64\n",
      "life_expectancy    float64\n",
      "dtype: object\n",
      "country             object\n",
      "country_code        object\n",
      "year                 int64\n",
      "life_expectancy    float64\n",
      "dtype: object\n"
     ]
    }
   ],
   "source": [
    "# Create class DataShell\n",
    "class DataShell:\n",
    "  \n",
    "    # Define initialization method\n",
    "    def __init__(self, filepath):\n",
    "        self.filepath = filepath\n",
    "        self.data_as_csv = pd.read_csv(filepath)\n",
    "    \n",
    "    # Define method rename_column, with arguments self, column_name, and new_column_name\n",
    "    def rename_column(self, column_name, new_column_name):\n",
    "        self.data_as_csv.columns = self.data_as_csv.columns.str.replace(column_name, new_column_name)\n",
    "\n",
    "# Instantiate DataShell as us_data_shell with argument us_life_expectancy\n",
    "us_data_shell = DataShell(us_life_expectancy)\n",
    "\n",
    "# Print the datatype of your object's data_as_csv attribute\n",
    "print(us_data_shell.data_as_csv.dtypes)\n",
    "\n",
    "# Rename your objects column 'code' to 'country_code'\n",
    "us_data_shell.rename_column('code', 'country_code')\n",
    "\n",
    "# Again, print the datatype of your object's data_as_csv attribute\n",
    "print(us_data_shell.data_as_csv.dtypes)"
   ]
  },
  {
   "cell_type": "markdown",
   "metadata": {},
   "source": [
    "## Self-Describing DataShells\n",
    "In this exercise you will add functionality to your DataShell class such that it returns information about itself.\n",
    "\n",
    "numpy and pandas are already imported in your workspace as np and pd, respectively."
   ]
  },
  {
   "cell_type": "markdown",
   "metadata": {},
   "source": [
    "### code"
   ]
  },
  {
   "cell_type": "code",
   "execution_count": 9,
   "metadata": {
    "ExecuteTime": {
     "end_time": "2020-04-14T09:33:56.208285Z",
     "start_time": "2020-04-14T09:33:56.030469Z"
    }
   },
   "outputs": [
    {
     "name": "stdout",
     "output_type": "stream",
     "text": [
      "              year  life_expectancy\n",
      "count   117.000000       117.000000\n",
      "mean   1956.752137        66.556684\n",
      "std      34.398252         9.551079\n",
      "min    1880.000000        39.410000\n",
      "25%    1928.000000        58.500000\n",
      "50%    1957.000000        69.599998\n",
      "75%    1986.000000        74.772003\n",
      "max    2015.000000        79.244003\n"
     ]
    }
   ],
   "source": [
    "# Create class DataShell\n",
    "class DataShell:\n",
    "\n",
    "    # Define initialization method\n",
    "    def __init__(self, filepath):\n",
    "        self.filepath = filepath\n",
    "        self.data_as_csv = pd.read_csv(filepath)\n",
    "\n",
    "    # Define method rename_column, with arguments self, column_name, and new_column_name\n",
    "    def rename_column(self, column_name, new_column_name):\n",
    "        self.data_as_csv.columns = self.data_as_csv.columns.str.replace(column_name, new_column_name)\n",
    "        \n",
    "    # Define get_stats method, with argument self\n",
    "    def get_stats(self):\n",
    "        # Return a description data_as_csv\n",
    "        return self.data_as_csv.describe()\n",
    "    \n",
    "# Instantiate DataShell as us_data_shell\n",
    "us_data_shell = DataShell(us_life_expectancy)\n",
    "\n",
    "# Print the output of your objects get_stats method\n",
    "print(us_data_shell.get_stats())"
   ]
  },
  {
   "cell_type": "markdown",
   "metadata": {},
   "source": [
    "# OOP Best Practices\n"
   ]
  },
  {
   "cell_type": "code",
   "execution_count": null,
   "metadata": {},
   "outputs": [],
   "source": []
  }
 ],
 "metadata": {
  "kernelspec": {
   "display_name": "Python [conda env:datacamp] *",
   "language": "python",
   "name": "conda-env-datacamp-py"
  },
  "language_info": {
   "codemirror_mode": {
    "name": "ipython",
    "version": 3
   },
   "file_extension": ".py",
   "mimetype": "text/x-python",
   "name": "python",
   "nbconvert_exporter": "python",
   "pygments_lexer": "ipython3",
   "version": "3.7.5"
  },
  "toc": {
   "base_numbering": 1,
   "nav_menu": {},
   "number_sections": true,
   "sideBar": true,
   "skip_h1_title": false,
   "title_cell": "Table of Contents",
   "title_sidebar": "Contents",
   "toc_cell": false,
   "toc_position": {},
   "toc_section_display": true,
   "toc_window_display": true
  },
  "varInspector": {
   "cols": {
    "lenName": 16,
    "lenType": 16,
    "lenVar": 40
   },
   "kernels_config": {
    "python": {
     "delete_cmd_postfix": "",
     "delete_cmd_prefix": "del ",
     "library": "var_list.py",
     "varRefreshCmd": "print(var_dic_list())"
    },
    "r": {
     "delete_cmd_postfix": ") ",
     "delete_cmd_prefix": "rm(",
     "library": "var_list.r",
     "varRefreshCmd": "cat(var_dic_list()) "
    }
   },
   "types_to_exclude": [
    "module",
    "function",
    "builtin_function_or_method",
    "instance",
    "_Feature"
   ],
   "window_display": false
  }
 },
 "nbformat": 4,
 "nbformat_minor": 4
}
