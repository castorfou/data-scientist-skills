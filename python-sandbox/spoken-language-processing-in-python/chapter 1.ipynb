{
 "cells": [
  {
   "cell_type": "markdown",
   "metadata": {},
   "source": [
    "# Introduction to audio data in Python\n"
   ]
  },
  {
   "cell_type": "markdown",
   "metadata": {},
   "source": [
    "## Importing an audio file with Python\n",
    "You've seen how there are different kinds of audio files and how streaming music and spoken language have different sampling rates. But now we want to start working with these files.\n",
    "\n",
    "To begin, we're going to import the good_morning.wav audio file using Python's in-built wave library. Then we'll see what it looks like in byte form using the built-in readframes() method.\n",
    "\n",
    "You can listen to good_morning.wav here.\n",
    "\n",
    "Remember, good_morning.wav is only a few seconds long but at 48 kHz, that means it contains 48,000 pieces of information per second."
   ]
  },
  {
   "cell_type": "markdown",
   "metadata": {},
   "source": [
    "### init"
   ]
  },
  {
   "cell_type": "code",
   "execution_count": 1,
   "metadata": {
    "ExecuteTime": {
     "end_time": "2020-05-05T06:56:20.805875Z",
     "start_time": "2020-05-05T06:56:16.731089Z"
    }
   },
   "outputs": [
    {
     "name": "stdout",
     "output_type": "stream",
     "text": [
      "Téléchargements à lancer\n",
      "{'numpy.ndarray': {'good_morning.wav': 'https://file.io/bE49PYiU'}}\n",
      "  % Total    % Received % Xferd  Average Speed   Time    Time     Time  Current\n",
      "                                 Dload  Upload   Total   Spent    Left  Speed\n",
      "100  488k    0  488k    0     0   214k      0 --:--:--  0:00:02 --:--:--  214k\n",
      "\n"
     ]
    }
   ],
   "source": [
    "###################\n",
    "##### file\n",
    "###################\n",
    "\n",
    "#upload and download\n",
    "\n",
    "from downloadfromFileIO import saveFromFileIO\n",
    "\"\"\" à executer sur datacamp: (apres copie du code uploadfromdatacamp.py)\n",
    "uploadToFileIO_pushto_fileio('good_morning.wav')\n",
    "\"\"\"\n",
    "\n",
    "tobedownloaded=\"\"\"\n",
    "{numpy.ndarray: {'good_morning.wav': 'https://file.io/bE49PYiU'}}\n",
    "\"\"\"\n",
    "prefixToc = '1.1'\n",
    "prefix = saveFromFileIO(tobedownloaded, prefixToc=prefixToc, proxy=\"\")\n"
   ]
  },
  {
   "cell_type": "markdown",
   "metadata": {},
   "source": [
    "### code"
   ]
  },
  {
   "cell_type": "code",
   "execution_count": 2,
   "metadata": {
    "ExecuteTime": {
     "end_time": "2020-05-05T06:57:07.213714Z",
     "start_time": "2020-05-05T06:57:07.176369Z"
    }
   },
   "outputs": [
    {
     "name": "stdout",
     "output_type": "stream",
     "text": [
      "b'\\xfd\\xff\\xfb\\xff\\xf8\\xff\\xf8\\xff\\xf7\\xff'\n"
     ]
    }
   ],
   "source": [
    "import wave\n",
    "\n",
    "# Create audio file wave object\n",
    "good_morning = wave.open(prefix+'good_morning.wav', 'r')\n",
    "\n",
    "# Read all frames from wave object \n",
    "signal_gm = good_morning.readframes(-1)\n",
    "\n",
    "# View first 10\n",
    "print(signal_gm[:10])"
   ]
  },
  {
   "cell_type": "markdown",
   "metadata": {},
   "source": [
    "# Converting sound wave bytes to integers\n"
   ]
  },
  {
   "cell_type": "markdown",
   "metadata": {},
   "source": [
    "## Bytes to integers\n",
    "You've seen how to import and read an audio file using Python's wave module and the readframes() method. But doing that results in an array of bytes.\n",
    "\n",
    "To convert the bytes into something more useful, we'll use NumPy's frombuffer() method.\n",
    "\n",
    "Passing frombuffer() our sound waves bytes and indicating a dtype of 'int16', we can convert our bytes to integers. Integers are much easier to work with than bytes.\n",
    "\n",
    "The Python wave library has already been imported along with the good_morning.wav audio file."
   ]
  },
  {
   "cell_type": "markdown",
   "metadata": {},
   "source": [
    "### code"
   ]
  },
  {
   "cell_type": "code",
   "execution_count": 3,
   "metadata": {
    "ExecuteTime": {
     "end_time": "2020-05-05T07:05:11.188153Z",
     "start_time": "2020-05-05T07:05:11.183140Z"
    }
   },
   "outputs": [
    {
     "name": "stdout",
     "output_type": "stream",
     "text": [
      "[ -3  -5  -8  -8  -9 -13  -8 -10  -9 -11]\n"
     ]
    }
   ],
   "source": [
    "import numpy as np\n",
    "\n",
    "# Open good morning sound wave and read frames as bytes\n",
    "good_morning = wave.open(prefix+'good_morning.wav', 'r')\n",
    "signal_gm = good_morning.readframes(-1)\n",
    "\n",
    "# Convert good morning audio bytes to integers\n",
    "soundwave_gm = np.frombuffer(signal_gm, dtype='int16')\n",
    "\n",
    "# View the first 10 sound wave values\n",
    "print(soundwave_gm[:10])"
   ]
  },
  {
   "cell_type": "markdown",
   "metadata": {},
   "source": [
    "## Finding the time stamps\n",
    "We know the frequency of our sound wave is 48 kHz, but what if we didn't? We could find it by dividing the length of our sound wave array by the duration of our sound wave. However, Python's wave module has a better way. Calling getframerate() on a wave object returns the frame rate of that wave object.\n",
    "\n",
    "We can then use NumPy's linspace() method to find the time stamp of each integer in our sound wave array. This will help us visualize our sound wave in the future.\n",
    "\n",
    "The linspace() method takes start, stop and num parameters and returns num evenly spaced values between start and stop.\n",
    "\n",
    "In our case, start will be zero, stop will be the length of our sound wave array over the frame rate (or the duration of our audio file) and num will be the length of our sound wave array."
   ]
  },
  {
   "cell_type": "markdown",
   "metadata": {},
   "source": [
    "### code"
   ]
  },
  {
   "cell_type": "code",
   "execution_count": 4,
   "metadata": {
    "ExecuteTime": {
     "end_time": "2020-05-05T07:08:30.546233Z",
     "start_time": "2020-05-05T07:08:30.536242Z"
    }
   },
   "outputs": [
    {
     "name": "stdout",
     "output_type": "stream",
     "text": [
      "[0.00000000e+00 2.08334167e-05 4.16668333e-05 6.25002500e-05\n",
      " 8.33336667e-05 1.04167083e-04 1.25000500e-04 1.45833917e-04\n",
      " 1.66667333e-04 1.87500750e-04]\n"
     ]
    }
   ],
   "source": [
    "# Read in sound wave and convert from bytes to integers\n",
    "good_morning = wave.open(prefix+'good_morning.wav', 'r')\n",
    "signal_gm = good_morning.readframes(-1)\n",
    "soundwave_gm = np.frombuffer(signal_gm, dtype='int16')\n",
    "\n",
    "# Get the sound wave frame rate\n",
    "framerate_gm = good_morning.getframerate()\n",
    "\n",
    "# Find the sound wave timestamps\n",
    "time_gm = np.linspace(start=0,\n",
    "                      stop=len(soundwave_gm)/framerate_gm,\n",
    "\t\t\t\t\t  num=len(soundwave_gm))\n",
    "\n",
    "# Print the first 10 timestamps\n",
    "print(time_gm[:10])"
   ]
  },
  {
   "cell_type": "code",
   "execution_count": 7,
   "metadata": {
    "ExecuteTime": {
     "end_time": "2020-05-05T07:10:33.456149Z",
     "start_time": "2020-05-05T07:10:33.447161Z"
    }
   },
   "outputs": [
    {
     "name": "stdout",
     "output_type": "stream",
     "text": [
      "Frequence d'enregistrement du petit duc : 44100\n"
     ]
    }
   ],
   "source": [
    "petit_duc = wave.open('petit-duc.wav', 'r')\n",
    "signal_pd = petit_duc.readframes(-1)\n",
    "soundwave_pd = np.frombuffer(signal_pd, dtype='int16')\n",
    "framerate_pd = petit_duc.getframerate()\n",
    "print('Frequence d\\'enregistrement du petit duc : '+str(framerate_pd))"
   ]
  },
  {
   "cell_type": "markdown",
   "metadata": {},
   "source": [
    "# Visualizing sound waves\n"
   ]
  },
  {
   "cell_type": "markdown",
   "metadata": {},
   "source": [
    "## Processing audio data with Python\n",
    "You've seen how a sound waves can be turned into numbers but what does all that conversion look like?\n",
    "\n",
    "And how about another similar sound wave? One slightly different?\n",
    "\n",
    "In this exercise, we're going to use MatPlotLib to plot the sound wave of good_morning against good_afternoon.\n",
    "\n",
    "To have the good_morning and good_afternoon sound waves on the same plot and distinguishable from each other, we'll use MatPlotLib's alpha parameter.\n",
    "\n",
    "You can listen to the good_morning audio here and good_afternoon audio here."
   ]
  },
  {
   "cell_type": "markdown",
   "metadata": {},
   "source": [
    "### init"
   ]
  },
  {
   "cell_type": "code",
   "execution_count": 10,
   "metadata": {
    "ExecuteTime": {
     "end_time": "2020-05-05T07:19:44.859763Z",
     "start_time": "2020-05-05T07:19:44.824822Z"
    }
   },
   "outputs": [
    {
     "name": "stdout",
     "output_type": "stream",
     "text": [
      "Téléchargements déjà effectués - SKIP\n"
     ]
    }
   ],
   "source": [
    "###################\n",
    "##### file\n",
    "###################\n",
    "\n",
    "#upload and download\n",
    "\n",
    "from downloadfromFileIO import saveFromFileIO\n",
    "\"\"\" à executer sur datacamp: (apres copie du code uploadfromdatacamp.py)\n",
    "uploadToFileIO_pushto_fileio('good-afternoon.wav')\n",
    "\"\"\"\n",
    "\n",
    "tobedownloaded=\"\"\"\n",
    "{numpy.ndarray: {'good-afternoon.wav': 'https://file.io/A1j6pvtC'}}\n",
    "\"\"\"\n",
    "prefixToc = '3.1'\n",
    "prefix = saveFromFileIO(tobedownloaded, prefixToc=prefixToc, proxy=\"\")\n",
    "\n",
    "\n",
    "from downloadfromFileIO import getPrefixfromTOC\n",
    "prefix_afternoon = getPrefixfromTOC('3.1')\n",
    "prefix_morning = getPrefixfromTOC('1.1')\n"
   ]
  },
  {
   "cell_type": "code",
   "execution_count": 15,
   "metadata": {
    "ExecuteTime": {
     "end_time": "2020-05-05T07:24:01.942546Z",
     "start_time": "2020-05-05T07:24:01.738560Z"
    }
   },
   "outputs": [],
   "source": [
    "# Open good morning sound wave and read frames as bytes\n",
    "good_morning = wave.open(prefix_morning+'good_morning.wav', 'r')\n",
    "signal_gm = good_morning.readframes(-1)\n",
    "# Convert good morning audio bytes to integers\n",
    "soundwave_gm = np.frombuffer(signal_gm, dtype='int16')\n",
    "# Get the sound wave frame rate\n",
    "framerate_gm = good_morning.getframerate()\n",
    "# Find the sound wave timestamps\n",
    "time_gm = np.linspace(start=0,\n",
    "                      stop=len(soundwave_gm)/framerate_gm,\n",
    "\t\t\t\t\t  num=len(soundwave_gm))\n",
    "\n",
    "# Open sound wave and read frames as bytes\n",
    "good_afternoon = wave.open(prefix_afternoon+'good-afternoon.wav', 'r')\n",
    "signal_ga = good_afternoon.readframes(-1)\n",
    "# Convert audio bytes to integers\n",
    "soundwave_ga = np.frombuffer(signal_ga, dtype='int16')\n",
    "# Get the sound wave frame rate\n",
    "framerate_ga = good_afternoon.getframerate()\n",
    "# Find the sound wave timestamps\n",
    "time_ga = np.linspace(start=0,\n",
    "                      stop=len(soundwave_ga)/framerate_ga,\n",
    "\t\t\t\t\t  num=len(soundwave_ga))\n",
    "\n",
    "import matplotlib.pyplot as plt"
   ]
  },
  {
   "cell_type": "markdown",
   "metadata": {},
   "source": [
    "### code"
   ]
  },
  {
   "cell_type": "code",
   "execution_count": 16,
   "metadata": {
    "ExecuteTime": {
     "end_time": "2020-05-05T07:24:03.193649Z",
     "start_time": "2020-05-05T07:24:02.485304Z"
    }
   },
   "outputs": [
    {
     "name": "stderr",
     "output_type": "stream",
     "text": [
      "C:\\Users\\F279814\\AppData\\Local\\Continuum\\anaconda3\\envs\\datacamp\\lib\\site-packages\\IPython\\core\\pylabtools.py:132: UserWarning: Creating legend with loc=\"best\" can be slow with large amounts of data.\n",
      "  fig.canvas.print_figure(bytes_io, **kw)\n"
     ]
    },
    {
     "data": {
      "image/png": "[encoded data removed]",
      "text/plain": [
       "<Figure size 432x288 with 1 Axes>"
      ]
     },
     "metadata": {
      "needs_background": "light"
     },
     "output_type": "display_data"
    }
   ],
   "source": [
    "# Setup the title and axis titles\n",
    "plt.title('Good Afternoon vs. Good Morning')\n",
    "plt.ylabel('Amplitude')\n",
    "plt.xlabel('Time (seconds)')\n",
    "\n",
    "# Add the Good Afternoon data to the plot\n",
    "plt.plot(time_ga, soundwave_ga, label='Good Afternoon')\n",
    "\n",
    "# Add the Good Morning data to the plot\n",
    "plt.plot(time_gm, soundwave_gm, label='Good Morning',\n",
    "   # Set the alpha variable to 0.5\n",
    "   alpha=0.5)\n",
    "\n",
    "plt.legend()\n",
    "plt.show()"
   ]
  },
  {
   "cell_type": "markdown",
   "metadata": {},
   "source": [
    "### visu petit duc"
   ]
  },
  {
   "cell_type": "code",
   "execution_count": 17,
   "metadata": {
    "ExecuteTime": {
     "end_time": "2020-05-05T07:26:07.356184Z",
     "start_time": "2020-05-05T07:26:07.334108Z"
    }
   },
   "outputs": [],
   "source": [
    "# Open sound wave and read frames as bytes\n",
    "petit_duc = wave.open('petit-duc.wav', 'r')\n",
    "signal_pd = petit_duc.readframes(-1)\n",
    "# Convert audio bytes to integers\n",
    "soundwave_pd = np.frombuffer(signal_pd, dtype='int16')\n",
    "# Get the sound wave frame rate\n",
    "framerate_pd = petit_duc.getframerate()\n",
    "# Find the sound wave timestamps\n",
    "time_pd = np.linspace(start=0,\n",
    "                      stop=len(soundwave_pd)/framerate_pd,\n",
    "\t\t\t\t\t  num=len(soundwave_pd))\n"
   ]
  },
  {
   "cell_type": "code",
   "execution_count": 18,
   "metadata": {
    "ExecuteTime": {
     "end_time": "2020-05-05T07:26:41.862001Z",
     "start_time": "2020-05-05T07:26:35.867552Z"
    }
   },
   "outputs": [
    {
     "name": "stderr",
     "output_type": "stream",
     "text": [
      "C:\\Users\\F279814\\AppData\\Local\\Continuum\\anaconda3\\envs\\datacamp\\lib\\site-packages\\IPython\\core\\pylabtools.py:132: UserWarning: Creating legend with loc=\"best\" can be slow with large amounts of data.\n",
      "  fig.canvas.print_figure(bytes_io, **kw)\n"
     ]
    },
    {
     "data": {
      "image/png": "[encoded data removed]",
      "text/plain": [
       "<Figure size 432x288 with 1 Axes>"
      ]
     },
     "metadata": {
      "needs_background": "light"
     },
     "output_type": "display_data"
    }
   ],
   "source": [
    "# Setup the title and axis titles\n",
    "plt.title('Petit Duc')\n",
    "plt.ylabel('Amplitude')\n",
    "plt.xlabel('Time (seconds)')\n",
    "\n",
    "# Add the Good Afternoon data to the plot\n",
    "plt.plot(time_pd, soundwave_pd, label='Petit Duc')\n",
    "\n",
    "\n",
    "plt.legend()\n",
    "plt.show()"
   ]
  },
  {
   "cell_type": "code",
   "execution_count": 19,
   "metadata": {
    "ExecuteTime": {
     "end_time": "2020-05-05T07:46:12.888497Z",
     "start_time": "2020-05-05T07:46:12.882451Z"
    }
   },
   "outputs": [
    {
     "data": {
      "text/plain": [
       "array([ 0,  0,  0, ..., -1, -2, -2], dtype=int16)"
      ]
     },
     "execution_count": 19,
     "metadata": {},
     "output_type": "execute_result"
    }
   ],
   "source": [
    "soundwave_pd"
   ]
  },
  {
   "cell_type": "code",
   "execution_count": 20,
   "metadata": {
    "ExecuteTime": {
     "end_time": "2020-05-05T07:46:40.778307Z",
     "start_time": "2020-05-05T07:46:40.774297Z"
    }
   },
   "outputs": [],
   "source": [
    "import pandas as pd\n",
    "pandas_pd = pd.DataFrame(soundwave_pd)"
   ]
  },
  {
   "cell_type": "code",
   "execution_count": 22,
   "metadata": {
    "ExecuteTime": {
     "end_time": "2020-05-05T07:46:57.297531Z",
     "start_time": "2020-05-05T07:46:57.194262Z"
    }
   },
   "outputs": [
    {
     "data": {
      "text/html": [
       "<div>\n",
       "<style scoped>\n",
       "    .dataframe tbody tr th:only-of-type {\n",
       "        vertical-align: middle;\n",
       "    }\n",
       "\n",
       "    .dataframe tbody tr th {\n",
       "        vertical-align: top;\n",
       "    }\n",
       "\n",
       "    .dataframe thead th {\n",
       "        text-align: right;\n",
       "    }\n",
       "</style>\n",
       "<table border=\"1\" class=\"dataframe\">\n",
       "  <thead>\n",
       "    <tr style=\"text-align: right;\">\n",
       "      <th></th>\n",
       "      <th>0</th>\n",
       "    </tr>\n",
       "  </thead>\n",
       "  <tbody>\n",
       "    <tr>\n",
       "      <th>count</th>\n",
       "      <td>2.230272e+06</td>\n",
       "    </tr>\n",
       "    <tr>\n",
       "      <th>mean</th>\n",
       "      <td>1.295178e-02</td>\n",
       "    </tr>\n",
       "    <tr>\n",
       "      <th>std</th>\n",
       "      <td>1.344773e+02</td>\n",
       "    </tr>\n",
       "    <tr>\n",
       "      <th>min</th>\n",
       "      <td>-1.518000e+03</td>\n",
       "    </tr>\n",
       "    <tr>\n",
       "      <th>25%</th>\n",
       "      <td>-2.400000e+01</td>\n",
       "    </tr>\n",
       "    <tr>\n",
       "      <th>50%</th>\n",
       "      <td>0.000000e+00</td>\n",
       "    </tr>\n",
       "    <tr>\n",
       "      <th>75%</th>\n",
       "      <td>2.400000e+01</td>\n",
       "    </tr>\n",
       "    <tr>\n",
       "      <th>max</th>\n",
       "      <td>1.462000e+03</td>\n",
       "    </tr>\n",
       "  </tbody>\n",
       "</table>\n",
       "</div>"
      ],
      "text/plain": [
       "                  0\n",
       "count  2.230272e+06\n",
       "mean   1.295178e-02\n",
       "std    1.344773e+02\n",
       "min   -1.518000e+03\n",
       "25%   -2.400000e+01\n",
       "50%    0.000000e+00\n",
       "75%    2.400000e+01\n",
       "max    1.462000e+03"
      ]
     },
     "execution_count": 22,
     "metadata": {},
     "output_type": "execute_result"
    }
   ],
   "source": [
    "pandas_pd.describe()"
   ]
  },
  {
   "cell_type": "code",
   "execution_count": 33,
   "metadata": {
    "ExecuteTime": {
     "end_time": "2020-05-05T08:03:27.332519Z",
     "start_time": "2020-05-05T08:03:27.316478Z"
    }
   },
   "outputs": [],
   "source": [
    "threeshold = 100\n",
    "soundwave_pd_filtered = soundwave_pd.copy()\n",
    "soundwave_pd_filtered[(soundwave_pd_filtered < threeshold) & (soundwave_pd_filtered > -threeshold)] =0\n"
   ]
  },
  {
   "cell_type": "code",
   "execution_count": 34,
   "metadata": {
    "ExecuteTime": {
     "end_time": "2020-05-05T08:03:34.339764Z",
     "start_time": "2020-05-05T08:03:28.166825Z"
    }
   },
   "outputs": [
    {
     "data": {
      "image/png": "[encoded data removed]",
      "text/plain": [
       "<Figure size 432x288 with 1 Axes>"
      ]
     },
     "metadata": {
      "needs_background": "light"
     },
     "output_type": "display_data"
    }
   ],
   "source": [
    "# Setup the title and axis titles\n",
    "plt.title('Petit Duc')\n",
    "plt.ylabel('Amplitude')\n",
    "plt.xlabel('Time (seconds)')\n",
    "\n",
    "# Add the Good Afternoon data to the plot\n",
    "plt.plot(time_pd, soundwave_pd_filtered, label='Petit Duc')\n",
    "\n",
    "\n",
    "plt.legend()\n",
    "plt.show()"
   ]
  },
  {
   "cell_type": "code",
   "execution_count": 38,
   "metadata": {
    "ExecuteTime": {
     "end_time": "2020-05-05T08:05:05.416163Z",
     "start_time": "2020-05-05T08:05:05.408141Z"
    }
   },
   "outputs": [],
   "source": [
    "from scipy.io.wavfile import write\n",
    "samplerate = 44100; \n",
    "write(\"petit_duc_filtré.wav\", samplerate, soundwave_pd_filtered)"
   ]
  },
  {
   "cell_type": "code",
   "execution_count": 37,
   "metadata": {
    "ExecuteTime": {
     "end_time": "2020-05-05T08:04:35.682389Z",
     "start_time": "2020-05-05T08:04:35.677363Z"
    }
   },
   "outputs": [
    {
     "data": {
      "text/plain": [
       "44100"
      ]
     },
     "execution_count": 37,
     "metadata": {},
     "output_type": "execute_result"
    }
   ],
   "source": [
    "framerate_pd"
   ]
  },
  {
   "cell_type": "code",
   "execution_count": null,
   "metadata": {},
   "outputs": [],
   "source": []
  }
 ],
 "metadata": {
  "kernelspec": {
   "display_name": "Python [conda env:datacamp] *",
   "language": "python",
   "name": "conda-env-datacamp-py"
  },
  "language_info": {
   "codemirror_mode": {
    "name": "ipython",
    "version": 3
   },
   "file_extension": ".py",
   "mimetype": "text/x-python",
   "name": "python",
   "nbconvert_exporter": "python",
   "pygments_lexer": "ipython3",
   "version": "3.7.5"
  },
  "toc": {
   "base_numbering": 1,
   "nav_menu": {},
   "number_sections": true,
   "sideBar": true,
   "skip_h1_title": false,
   "title_cell": "Table of Contents",
   "title_sidebar": "Contents",
   "toc_cell": false,
   "toc_position": {},
   "toc_section_display": true,
   "toc_window_display": true
  },
  "varInspector": {
   "cols": {
    "lenName": 16,
    "lenType": 16,
    "lenVar": 40
   },
   "kernels_config": {
    "python": {
     "delete_cmd_postfix": "",
     "delete_cmd_prefix": "del ",
     "library": "var_list.py",
     "varRefreshCmd": "print(var_dic_list())"
    },
    "r": {
     "delete_cmd_postfix": ") ",
     "delete_cmd_prefix": "rm(",
     "library": "var_list.r",
     "varRefreshCmd": "cat(var_dic_list()) "
    }
   },
   "types_to_exclude": [
    "module",
    "function",
    "builtin_function_or_method",
    "instance",
    "_Feature"
   ],
   "window_display": false
  }
 },
 "nbformat": 4,
 "nbformat_minor": 4
}
