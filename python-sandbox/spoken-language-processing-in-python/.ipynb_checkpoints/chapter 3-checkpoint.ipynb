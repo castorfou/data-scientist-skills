{
 "cells": [
  {
   "cell_type": "markdown",
   "metadata": {},
   "source": [
    "# Introduction to PyDub\n"
   ]
  },
  {
   "cell_type": "markdown",
   "metadata": {},
   "source": [
    "## Import an audio file with PyDub\n",
    "PyDub's AudioSegment class makes it easy to import and manipulate audio files with Python.\n",
    "\n",
    "In this exercise, we'll import an audio file of interest by creating an instance of AudioSegment.\n",
    "\n",
    "To import an audio file, you can use the from_file() function on AudioSegment and pass it your target audio file's pathname as a string. The format parameter gives you an option to specify the format of your audio file, however, this is optional as PyDub will automatically infer it.\n",
    "\n",
    "PyDub works with .wav files without any extra dependencies but for other file types like .mp3, you'll need to install ffmpeg.\n",
    "\n",
    "A sample audio file has been setup as wav_file.wav, you can listen to it here."
   ]
  },
  {
   "cell_type": "markdown",
   "metadata": {},
   "source": [
    "### init"
   ]
  },
  {
   "cell_type": "code",
   "execution_count": 1,
   "metadata": {
    "ExecuteTime": {
     "end_time": "2020-05-14T06:53:54.511995Z",
     "start_time": "2020-05-14T06:53:48.127911Z"
    }
   },
   "outputs": [
    {
     "name": "stdout",
     "output_type": "stream",
     "text": [
      "Téléchargements à lancer\n",
      "{'numpy.ndarray': {'wav_file.wav': 'https://file.io/5IoS8lku'}}\n",
      "  % Total    % Received % Xferd  Average Speed   Time    Time     Time  Current\n",
      "                                 Dload  Upload   Total   Spent    Left  Speed\n",
      "100  615k    0  615k    0     0   302k      0 --:--:--  0:00:02 --:--:--  302k\n",
      "\n"
     ]
    }
   ],
   "source": [
    "###################\n",
    "##### file\n",
    "###################\n",
    "\n",
    "#upload and download\n",
    "\n",
    "from downloadfromFileIO import saveFromFileIO\n",
    "\"\"\" à executer sur datacamp: (apres copie du code uploadfromdatacamp.py)\n",
    "uploadToFileIO_pushto_fileio('wav_file.wav')\n",
    "\"\"\"\n",
    "\n",
    "tobedownloaded=\"\"\"\n",
    "{numpy.ndarray: {'wav_file.wav': 'https://file.io/5IoS8lku'}}\n",
    "\"\"\"\n",
    "prefixToc = '1.1'\n",
    "prefix = saveFromFileIO(tobedownloaded, prefixToc=prefixToc, proxy=\"\")\n"
   ]
  },
  {
   "cell_type": "markdown",
   "metadata": {},
   "source": [
    "### code"
   ]
  },
  {
   "cell_type": "code",
   "execution_count": 2,
   "metadata": {
    "ExecuteTime": {
     "end_time": "2020-05-14T06:54:51.512823Z",
     "start_time": "2020-05-14T06:54:51.494773Z"
    }
   },
   "outputs": [
    {
     "name": "stdout",
     "output_type": "stream",
     "text": [
      "<class 'pydub.audio_segment.AudioSegment'>\n"
     ]
    },
    {
     "name": "stderr",
     "output_type": "stream",
     "text": [
      "C:\\Users\\F279814\\AppData\\Local\\Continuum\\anaconda3\\envs\\datacamp\\lib\\site-packages\\pydub\\utils.py:165: RuntimeWarning: Couldn't find ffmpeg or avconv - defaulting to ffmpeg, but may not work\n",
      "  warn(\"Couldn't find ffmpeg or avconv - defaulting to ffmpeg, but may not work\", RuntimeWarning)\n"
     ]
    }
   ],
   "source": [
    "# Import AudioSegment from Pydub\n",
    "from pydub import AudioSegment\n",
    "\n",
    "# Create an AudioSegment instance\n",
    "wav_file = AudioSegment.from_file(file=prefix+'wav_file.wav', \n",
    "                                  format=\"wav\")\n",
    "\n",
    "# Check the type\n",
    "print(type(wav_file))"
   ]
  },
  {
   "cell_type": "markdown",
   "metadata": {},
   "source": [
    "## Play an audio file with PyDub\n",
    "If you're working with audio files, chances are you want to listen to them.\n",
    "\n",
    "PyDub's playback module provides a function called play() which can be passed an AudioSegment. Running the play() function with an AudioSegment passed in will play the AudioSegment out loud.\n",
    "\n",
    "This can be helpful to check the quality of your audio files and assess any changes you need to make.\n",
    "\n",
    "In this exercise you'll see how simple it is to use the play() function.\n",
    "\n",
    "Remember: to use the play() function, you'll need simpleaudio or pyaudio installed for .wav files and ffmpeg for other kinds of files."
   ]
  },
  {
   "cell_type": "markdown",
   "metadata": {},
   "source": [
    "### code"
   ]
  },
  {
   "cell_type": "code",
   "execution_count": 3,
   "metadata": {
    "ExecuteTime": {
     "end_time": "2020-05-14T06:55:47.011956Z",
     "start_time": "2020-05-14T06:55:43.474587Z"
    }
   },
   "outputs": [
    {
     "name": "stderr",
     "output_type": "stream",
     "text": [
      "C:\\Users\\F279814\\AppData\\Local\\Continuum\\anaconda3\\envs\\datacamp\\lib\\site-packages\\pydub\\utils.py:179: RuntimeWarning: Couldn't find ffplay or avplay - defaulting to ffplay, but may not work\n",
      "  warn(\"Couldn't find ffplay or avplay - defaulting to ffplay, but may not work\", RuntimeWarning)\n"
     ]
    }
   ],
   "source": [
    "# Import AudioSegment and play\n",
    "from pydub import AudioSegment\n",
    "from pydub.playback import play\n",
    "\n",
    "# Create an AudioSegment instance\n",
    "wav_file = AudioSegment.from_file(file=prefix+\"wav_file.wav\", \n",
    "                                  format=\"wav\")\n",
    "\n",
    "# Play the audio file\n",
    "play(wav_file)"
   ]
  },
  {
   "cell_type": "markdown",
   "metadata": {},
   "source": [
    "## Audio parameters with PyDub\n",
    "Every audio file you work with will have a number of characteristics associated with them, such as, channels, frame rate (or sample rate), sample width and more.\n",
    "\n",
    "Knowing these parameters is useful to ensure your audio files are compatible with various API requirements for speech transcription.\n",
    "\n",
    "For example, many APIs recommend a minimum frame rate (wav_file.frame_rate) of 16,000 Hz.\n",
    "\n",
    "When you create an instance of AudioSegment, PyDub automatically infers these parameters from your audio files and saves them as attributes.\n",
    "\n",
    "In this exercise, we'll explore these attributes."
   ]
  },
  {
   "cell_type": "markdown",
   "metadata": {},
   "source": [
    "### code"
   ]
  },
  {
   "cell_type": "code",
   "execution_count": 4,
   "metadata": {
    "ExecuteTime": {
     "end_time": "2020-05-14T06:56:40.060555Z",
     "start_time": "2020-05-14T06:56:40.055542Z"
    }
   },
   "outputs": [
    {
     "name": "stdout",
     "output_type": "stream",
     "text": [
      "48000\n"
     ]
    }
   ],
   "source": [
    "# Import audio file\n",
    "wav_file = AudioSegment.from_file(file=prefix+\"wav_file.wav\")\n",
    "\n",
    "# Find the frame rate\n",
    "print(wav_file.frame_rate)"
   ]
  },
  {
   "cell_type": "code",
   "execution_count": 5,
   "metadata": {
    "ExecuteTime": {
     "end_time": "2020-05-14T06:56:59.552572Z",
     "start_time": "2020-05-14T06:56:59.536928Z"
    }
   },
   "outputs": [
    {
     "name": "stdout",
     "output_type": "stream",
     "text": [
      "2\n"
     ]
    }
   ],
   "source": [
    "# Find the number of channels\n",
    "print(wav_file.channels)"
   ]
  },
  {
   "cell_type": "code",
   "execution_count": 6,
   "metadata": {
    "ExecuteTime": {
     "end_time": "2020-05-14T06:57:11.669419Z",
     "start_time": "2020-05-14T06:57:11.665412Z"
    }
   },
   "outputs": [
    {
     "name": "stdout",
     "output_type": "stream",
     "text": [
      "8484\n"
     ]
    }
   ],
   "source": [
    "# Find the max amplitude\n",
    "print(wav_file.max)"
   ]
  },
  {
   "cell_type": "code",
   "execution_count": 7,
   "metadata": {
    "ExecuteTime": {
     "end_time": "2020-05-14T06:57:23.763487Z",
     "start_time": "2020-05-14T06:57:23.759479Z"
    }
   },
   "outputs": [
    {
     "name": "stdout",
     "output_type": "stream",
     "text": [
      "3284\n"
     ]
    }
   ],
   "source": [
    "# Find the length\n",
    "print(len(wav_file))"
   ]
  },
  {
   "cell_type": "markdown",
   "metadata": {},
   "source": [
    "## Adjusting audio parameters\n",
    "During your exploratory data analysis, you may find some of the parameters of your audio files differ or are incompatible with speech recognition APIs.\n",
    "\n",
    "Don't worry, PyDub has built-in functionality which allows you to change various attributes.\n",
    "\n",
    "For example, you can set the frame rate of your audio file calling set_frame_rate() on your AudioSegment instance and passing it an integer of the desired frame rate measured in Hertz.\n",
    "\n",
    "In this exercise, we'll practice altering some audio attributes.\n"
   ]
  },
  {
   "cell_type": "markdown",
   "metadata": {},
   "source": [
    "### code"
   ]
  },
  {
   "cell_type": "code",
   "execution_count": 9,
   "metadata": {
    "ExecuteTime": {
     "end_time": "2020-05-14T06:59:00.465384Z",
     "start_time": "2020-05-14T06:59:00.458366Z"
    }
   },
   "outputs": [
    {
     "name": "stdout",
     "output_type": "stream",
     "text": [
      "16000\n"
     ]
    }
   ],
   "source": [
    "# Import audio file\n",
    "wav_file = AudioSegment.from_file(file=prefix+\"wav_file.wav\")\n",
    "\n",
    "# Create a new wav file with adjusted frame rate\n",
    "wav_file_16k = wav_file.set_frame_rate(16000)\n",
    "\n",
    "# Check the frame rate of the new wav file\n",
    "print(wav_file_16k.frame_rate)"
   ]
  },
  {
   "cell_type": "code",
   "execution_count": 10,
   "metadata": {
    "ExecuteTime": {
     "end_time": "2020-05-14T06:59:31.722235Z",
     "start_time": "2020-05-14T06:59:31.713211Z"
    }
   },
   "outputs": [
    {
     "name": "stdout",
     "output_type": "stream",
     "text": [
      "1\n"
     ]
    }
   ],
   "source": [
    "# Set number of channels to 1\n",
    "wav_file_1_ch = wav_file.set_channels(1)\n",
    "\n",
    "# Check the number of channels\n",
    "print(wav_file_1_ch.channels)"
   ]
  },
  {
   "cell_type": "code",
   "execution_count": 11,
   "metadata": {
    "ExecuteTime": {
     "end_time": "2020-05-14T07:00:03.947642Z",
     "start_time": "2020-05-14T07:00:03.942651Z"
    }
   },
   "outputs": [
    {
     "name": "stdout",
     "output_type": "stream",
     "text": [
      "Old sample width: 2\n",
      "New sample width: 1\n"
     ]
    }
   ],
   "source": [
    "# Print sample_width\n",
    "print(f\"Old sample width: {wav_file.sample_width}\")\n",
    "\n",
    "# Set sample_width to 1\n",
    "wav_file_sw_1 = wav_file.set_sample_width(1)\n",
    "\n",
    "# Check new sample_width\n",
    "print(f\"New sample width: {wav_file_sw_1.sample_width}\")"
   ]
  },
  {
   "cell_type": "code",
   "execution_count": null,
   "metadata": {},
   "outputs": [],
   "source": []
  }
 ],
 "metadata": {
  "kernelspec": {
   "display_name": "Python [conda env:datacamp] *",
   "language": "python",
   "name": "conda-env-datacamp-py"
  },
  "language_info": {
   "codemirror_mode": {
    "name": "ipython",
    "version": 3
   },
   "file_extension": ".py",
   "mimetype": "text/x-python",
   "name": "python",
   "nbconvert_exporter": "python",
   "pygments_lexer": "ipython3",
   "version": "3.7.5"
  },
  "toc": {
   "base_numbering": 1,
   "nav_menu": {},
   "number_sections": true,
   "sideBar": true,
   "skip_h1_title": false,
   "title_cell": "Table of Contents",
   "title_sidebar": "Contents",
   "toc_cell": false,
   "toc_position": {},
   "toc_section_display": true,
   "toc_window_display": true
  },
  "varInspector": {
   "cols": {
    "lenName": 16,
    "lenType": 16,
    "lenVar": 40
   },
   "kernels_config": {
    "python": {
     "delete_cmd_postfix": "",
     "delete_cmd_prefix": "del ",
     "library": "var_list.py",
     "varRefreshCmd": "print(var_dic_list())"
    },
    "r": {
     "delete_cmd_postfix": ") ",
     "delete_cmd_prefix": "rm(",
     "library": "var_list.r",
     "varRefreshCmd": "cat(var_dic_list()) "
    }
   },
   "types_to_exclude": [
    "module",
    "function",
    "builtin_function_or_method",
    "instance",
    "_Feature"
   ],
   "window_display": false
  }
 },
 "nbformat": 4,
 "nbformat_minor": 4
}
