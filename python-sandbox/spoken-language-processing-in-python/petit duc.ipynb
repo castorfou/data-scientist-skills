{
 "cells": [
  {
   "cell_type": "markdown",
   "metadata": {},
   "source": [
    "# lecture fichier source : petit-duc.mp3\n"
   ]
  },
  {
   "cell_type": "code",
   "execution_count": 1,
   "metadata": {
    "ExecuteTime": {
     "end_time": "2020-05-06T10:55:34.166524Z",
     "start_time": "2020-05-06T10:55:34.063255Z"
    },
    "deletable": false,
    "editable": false,
    "run_control": {
     "frozen": true
    }
   },
   "outputs": [
    {
     "ename": "ModuleNotFoundError",
     "evalue": "No module named 'pygame'",
     "output_type": "error",
     "traceback": [
      "\u001b[1;31m---------------------------------------------------------------------------\u001b[0m",
      "\u001b[1;31mModuleNotFoundError\u001b[0m                       Traceback (most recent call last)",
      "\u001b[1;32m<ipython-input-1-87374c130f3d>\u001b[0m in \u001b[0;36m<module>\u001b[1;34m\u001b[0m\n\u001b[1;32m----> 1\u001b[1;33m \u001b[1;32mfrom\u001b[0m \u001b[0mpygame\u001b[0m \u001b[1;32mimport\u001b[0m \u001b[0mmixer\u001b[0m  \u001b[1;31m# Load the popular external library\u001b[0m\u001b[1;33m\u001b[0m\u001b[1;33m\u001b[0m\u001b[0m\n\u001b[0m\u001b[0;32m      2\u001b[0m \u001b[1;33m\u001b[0m\u001b[0m\n\u001b[0;32m      3\u001b[0m \u001b[0mmixer\u001b[0m\u001b[1;33m.\u001b[0m\u001b[0minit\u001b[0m\u001b[1;33m(\u001b[0m\u001b[1;33m)\u001b[0m\u001b[1;33m\u001b[0m\u001b[1;33m\u001b[0m\u001b[0m\n\u001b[0;32m      4\u001b[0m \u001b[0mmixer\u001b[0m\u001b[1;33m.\u001b[0m\u001b[0mmusic\u001b[0m\u001b[1;33m.\u001b[0m\u001b[0mload\u001b[0m\u001b[1;33m(\u001b[0m\u001b[1;34m'petit-duc.mp3'\u001b[0m\u001b[1;33m)\u001b[0m\u001b[1;33m\u001b[0m\u001b[1;33m\u001b[0m\u001b[0m\n\u001b[0;32m      5\u001b[0m \u001b[0mmixer\u001b[0m\u001b[1;33m.\u001b[0m\u001b[0mmusic\u001b[0m\u001b[1;33m.\u001b[0m\u001b[0mplay\u001b[0m\u001b[1;33m(\u001b[0m\u001b[1;33m)\u001b[0m\u001b[1;33m\u001b[0m\u001b[1;33m\u001b[0m\u001b[0m\n",
      "\u001b[1;31mModuleNotFoundError\u001b[0m: No module named 'pygame'"
     ]
    }
   ],
   "source": [
    "from pygame import mixer  # Load the popular external library\n",
    "\n",
    "mixer.init()\n",
    "mixer.music.load('petit-duc.mp3')\n",
    "mixer.music.play()"
   ]
  },
  {
   "cell_type": "code",
   "execution_count": 2,
   "metadata": {
    "ExecuteTime": {
     "end_time": "2020-05-06T10:56:21.760923Z",
     "start_time": "2020-05-06T10:56:21.574814Z"
    }
   },
   "outputs": [],
   "source": [
    "import os\n",
    "os.startfile('petit-duc.mp3') "
   ]
  },
  {
   "cell_type": "markdown",
   "metadata": {},
   "source": [
    "# transformation en wav : petit-duc.wav"
   ]
  },
  {
   "cell_type": "markdown",
   "metadata": {},
   "source": [
    "https://audio.online-convert.com/fr/convertir-en-wav"
   ]
  },
  {
   "cell_type": "markdown",
   "metadata": {},
   "source": [
    "# visualisations"
   ]
  },
  {
   "cell_type": "markdown",
   "metadata": {},
   "source": [
    "## calcul freq rate"
   ]
  },
  {
   "cell_type": "code",
   "execution_count": 6,
   "metadata": {
    "ExecuteTime": {
     "end_time": "2020-05-06T11:02:09.599121Z",
     "start_time": "2020-05-06T11:02:09.593112Z"
    }
   },
   "outputs": [
    {
     "name": "stdout",
     "output_type": "stream",
     "text": [
      "Freq d'échantillonage : 44100 Hz\n"
     ]
    }
   ],
   "source": [
    "import wave\n",
    "petit_duc = wave.open('petit-duc.wav')\n",
    "print('Freq d\\'échantillonage : {} Hz'.format(petit_duc.getframerate()))"
   ]
  },
  {
   "cell_type": "markdown",
   "metadata": {},
   "source": [
    "## visu sound wave"
   ]
  },
  {
   "cell_type": "code",
   "execution_count": 9,
   "metadata": {
    "ExecuteTime": {
     "end_time": "2020-05-06T11:04:39.080448Z",
     "start_time": "2020-05-06T11:04:38.548212Z"
    }
   },
   "outputs": [
    {
     "data": {
      "image/png": "[encoded data removed]",
      "text/plain": [
       "<Figure size 432x288 with 1 Axes>"
      ]
     },
     "metadata": {
      "needs_background": "light"
     },
     "output_type": "display_data"
    }
   ],
   "source": [
    "import matplotlib.pyplot as plt\n",
    "\n",
    "# Open sound wave and read frames as bytes\n",
    "petit_duc = wave.open('petit-duc.wav', 'r')\n",
    "signal_pd = petit_duc.readframes(-1)\n",
    "# Convert audio bytes to integers\n",
    "soundwave_pd = np.frombuffer(signal_pd, dtype='int16')\n",
    "# Get the sound wave frame rate\n",
    "framerate_pd = petit_duc.getframerate()\n",
    "# Find the sound wave timestamps\n",
    "time_pd = np.linspace(start=0,\n",
    "                      stop=len(soundwave_pd)/framerate_pd,\n",
    "\t\t\t\t\t  num=len(soundwave_pd))\n",
    "\n",
    "\n",
    "# Setup the title and axis titles\n",
    "plt.title('Petit Duc')\n",
    "plt.ylabel('Amplitude')\n",
    "plt.xlabel('Time (seconds)')\n",
    "\n",
    "# Add the Good Afternoon data to the plot\n",
    "plt.plot(time_pd, soundwave_pd, label='Petit Duc')\n",
    "\n",
    "\n",
    "plt.legend(loc='upper right')\n",
    "plt.show()"
   ]
  },
  {
   "cell_type": "markdown",
   "metadata": {},
   "source": [
    "à peu près 1 cri toutes les 5 secondes"
   ]
  },
  {
   "cell_type": "markdown",
   "metadata": {},
   "source": [
    "## passage en mono"
   ]
  },
  {
   "cell_type": "code",
   "execution_count": 51,
   "metadata": {
    "ExecuteTime": {
     "end_time": "2020-05-06T11:27:08.512364Z",
     "start_time": "2020-05-06T11:27:08.097538Z"
    }
   },
   "outputs": [
    {
     "name": "stderr",
     "output_type": "stream",
     "text": [
      "C:\\Users\\F279814\\AppData\\Local\\Continuum\\anaconda3\\envs\\datacamp\\lib\\site-packages\\pydub\\utils.py:165: RuntimeWarning: Couldn't find ffmpeg or avconv - defaulting to ffmpeg, but may not work\n",
      "  warn(\"Couldn't find ffmpeg or avconv - defaulting to ffmpeg, but may not work\", RuntimeWarning)\n"
     ]
    },
    {
     "data": {
      "text/plain": [
       "<_io.BufferedRandom name='petit-duc_mono.wav'>"
      ]
     },
     "execution_count": 51,
     "metadata": {},
     "output_type": "execute_result"
    }
   ],
   "source": [
    "from pydub import AudioSegment\n",
    "sound = AudioSegment.from_wav(\"petit-duc.wav\")\n",
    "sound = sound.set_channels(1)\n",
    "sound.export(\"petit-duc_mono.wav\", format=\"wav\")"
   ]
  },
  {
   "cell_type": "markdown",
   "metadata": {},
   "source": [
    "## analyse spectrale"
   ]
  },
  {
   "cell_type": "markdown",
   "metadata": {},
   "source": [
    "https://www.f-legrand.fr/scidoc/docimg/numerique/tfd/spectreson3/spectreson3.html"
   ]
  },
  {
   "cell_type": "code",
   "execution_count": 53,
   "metadata": {
    "ExecuteTime": {
     "end_time": "2020-05-06T11:28:35.731280Z",
     "start_time": "2020-05-06T11:28:35.087026Z"
    }
   },
   "outputs": [
    {
     "name": "stdout",
     "output_type": "stream",
     "text": [
      "taux d'échantillonage : 44100 Hz\n",
      "durée : 25.29 sec\n"
     ]
    },
    {
     "data": {
      "image/png": "[encoded data removed]",
      "text/plain": [
       "<Figure size 864x288 with 1 Axes>"
      ]
     },
     "metadata": {
      "needs_background": "light"
     },
     "output_type": "display_data"
    }
   ],
   "source": [
    "#Importation des modules :\n",
    "%matplotlib inline\n",
    "\n",
    "import math\n",
    "import numpy as np\n",
    "import matplotlib.pyplot as plt\n",
    "import scipy.io.wavfile as wave\n",
    "from numpy.fft import fft\n",
    "\t\t\t\n",
    "#Lecture du fichier WAV :\n",
    "\n",
    "rate,data = wave.read('petit-duc_mono.wav')\n",
    "n = data.size\n",
    "duree = 1.0*n/rate\n",
    "\t\t\t\n",
    "#Fréquence d'échantillonnage (en Hz) et durée de l'enregistrement :\n",
    "\n",
    "print('taux d\\'échantillonage : {} Hz'.format(rate))\n",
    "\n",
    "print('durée : {:.2f} sec'.format(duree))\n",
    "\n",
    "#Tracé du signal :\n",
    "\n",
    "te = 1.0/rate\n",
    "t = np.zeros(n)\n",
    "for k in range(n):\n",
    "    t[k] = te*k\n",
    "ax = plt.figure(figsize=(12,4))\n",
    "plt.plot(t,data)\n",
    "plt.xlabel(\"t (s)\")\n",
    "plt.ylabel(\"amplitude\") \n",
    "plt.axis([0,duree,data.min(),data.max()])\n",
    "plt.show()"
   ]
  },
  {
   "cell_type": "code",
   "execution_count": 71,
   "metadata": {
    "ExecuteTime": {
     "end_time": "2020-05-06T11:40:41.303958Z",
     "start_time": "2020-05-06T11:40:40.988541Z"
    }
   },
   "outputs": [
    {
     "data": {
      "image/png": "[encoded data removed]",
      "text/plain": [
       "<Figure size 864x288 with 1 Axes>"
      ]
     },
     "metadata": {
      "needs_background": "light"
     },
     "output_type": "display_data"
    }
   ],
   "source": [
    "def tracerSpectre(data,rate,debut,duree):\n",
    "    start = int(debut*rate)\n",
    "    stop = int((debut+duree)*rate)\n",
    "    spectre = np.absolute(fft(data[start:stop]))\n",
    "    spectre = spectre/spectre.max()\n",
    "    n = spectre.size\n",
    "    freq = np.zeros(n)\n",
    "    for k in range(n):\n",
    "        freq[k] = 1.0/n*rate*k\n",
    "    plt.vlines(freq[:round(n/10)],[0],spectre[:round(n/10)],'r')\n",
    "    plt.xlabel('f (Hz)')\n",
    "    plt.ylabel('A')\n",
    "    plt.axis([0,0.5*rate/10,0,1])\n",
    "    plt.grid()\n",
    "    plt.show()\n",
    "    return spectre\n",
    "plt.figure(figsize=(12,4))\n",
    "spectre = tracerSpectre(data,rate,0.0,3)"
   ]
  },
  {
   "cell_type": "markdown",
   "metadata": {},
   "source": [
    "### isoler la frequence maxi"
   ]
  },
  {
   "cell_type": "code",
   "execution_count": 68,
   "metadata": {
    "ExecuteTime": {
     "end_time": "2020-05-06T11:35:03.185051Z",
     "start_time": "2020-05-06T11:35:03.178007Z"
    }
   },
   "outputs": [
    {
     "data": {
      "text/plain": [
       "array([ 1174., 42926.])"
      ]
     },
     "execution_count": 68,
     "metadata": {},
     "output_type": "execute_result"
    }
   ],
   "source": [
    "n = spectre.size\n",
    "k = np.where(spectre == 1.0)[0]\n",
    "1.0/n*rate*k"
   ]
  },
  {
   "cell_type": "code",
   "execution_count": null,
   "metadata": {},
   "outputs": [],
   "source": []
  }
 ],
 "metadata": {
  "kernelspec": {
   "display_name": "Python [conda env:datacamp] *",
   "language": "python",
   "name": "conda-env-datacamp-py"
  },
  "language_info": {
   "codemirror_mode": {
    "name": "ipython",
    "version": 3
   },
   "file_extension": ".py",
   "mimetype": "text/x-python",
   "name": "python",
   "nbconvert_exporter": "python",
   "pygments_lexer": "ipython3",
   "version": "3.7.5"
  },
  "toc": {
   "base_numbering": 1,
   "nav_menu": {},
   "number_sections": true,
   "sideBar": true,
   "skip_h1_title": false,
   "title_cell": "Table of Contents",
   "title_sidebar": "Contents",
   "toc_cell": false,
   "toc_position": {},
   "toc_section_display": true,
   "toc_window_display": true
  },
  "varInspector": {
   "cols": {
    "lenName": 16,
    "lenType": 16,
    "lenVar": 40
   },
   "kernels_config": {
    "python": {
     "delete_cmd_postfix": "",
     "delete_cmd_prefix": "del ",
     "library": "var_list.py",
     "varRefreshCmd": "print(var_dic_list())"
    },
    "r": {
     "delete_cmd_postfix": ") ",
     "delete_cmd_prefix": "rm(",
     "library": "var_list.r",
     "varRefreshCmd": "cat(var_dic_list()) "
    }
   },
   "types_to_exclude": [
    "module",
    "function",
    "builtin_function_or_method",
    "instance",
    "_Feature"
   ],
   "window_display": false
  }
 },
 "nbformat": 4,
 "nbformat_minor": 4
}
