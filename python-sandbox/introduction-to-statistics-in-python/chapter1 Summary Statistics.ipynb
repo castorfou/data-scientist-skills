{
 "cells": [
  {
   "cell_type": "markdown",
   "metadata": {},
   "source": [
    "# Measures of center"
   ]
  },
  {
   "cell_type": "markdown",
   "metadata": {},
   "source": [
    "## Mean and median\n",
    "\n",
    "In this chapter, you'll be working with the [2018 Food Carbon Footprint Index](https://www.nu3.de/blogs/nutrition/food-carbon-footprint-index-2018) from nu3. The `food_consumption` dataset contains information about the kilograms of food consumed per person per year in each country in each food category (`consumption`) as well as information about the carbon footprint of that food category (`co2_emissions`) measured in kilograms of carbon dioxide, or CO², per person per year in each country.\n",
    "\n",
    "In this exercise, you'll compute measures of center to compare food consumption in the US and Belgium using your `pandas` and `numpy` skills.\n",
    "\n",
    "`pandas` is imported as `pd` for you and `food_consumption` is pre-loaded."
   ]
  },
  {
   "cell_type": "markdown",
   "metadata": {},
   "source": [
    "### init"
   ]
  },
  {
   "cell_type": "code",
   "execution_count": 1,
   "metadata": {
    "ExecuteTime": {
     "end_time": "2021-01-05T09:20:06.338094Z",
     "start_time": "2021-01-05T09:20:06.157762Z"
    }
   },
   "outputs": [],
   "source": [
    "import pandas as pd\n"
   ]
  },
  {
   "cell_type": "code",
   "execution_count": 8,
   "metadata": {
    "ExecuteTime": {
     "end_time": "2021-01-05T09:30:07.356534Z",
     "start_time": "2021-01-05T09:30:07.345900Z"
    }
   },
   "outputs": [
    {
     "name": "stdout",
     "output_type": "stream",
     "text": [
      "Téléchargements déjà effectués - SKIP\n"
     ]
    }
   ],
   "source": [
    "###################\n",
    "##### Dataframe\n",
    "###################\n",
    "\n",
    "#upload and download\n",
    "\n",
    "from downloadfromFileIO import saveFromFileIO\n",
    "\"\"\" à executer sur datacamp: (apres copie du code uploadfromdatacamp.py)\n",
    "uploadToFileIO(food_consumption)\n",
    "\"\"\"\n",
    "\n",
    "tobedownloaded=\"\"\"\n",
    "{pandas.core.frame.DataFrame: {'food_consumption.csv': 'https://file.io/ZTSaN4ceMIst'}}\n",
    "\"\"\"\n",
    "prefixToc='1.1'\n",
    "prefix = saveFromFileIO(tobedownloaded, prefixToc=prefixToc, proxy=\"\")\n",
    "\n",
    "#initialisation\n",
    "\n",
    "import pandas as pd\n",
    "food_consumption = pd.read_csv(prefix+'food_consumption.csv',index_col=0)"
   ]
  },
  {
   "cell_type": "markdown",
   "metadata": {},
   "source": [
    "### code"
   ]
  },
  {
   "cell_type": "code",
   "execution_count": 10,
   "metadata": {
    "ExecuteTime": {
     "end_time": "2021-01-05T09:31:27.895717Z",
     "start_time": "2021-01-05T09:31:27.882768Z"
    }
   },
   "outputs": [
    {
     "name": "stdout",
     "output_type": "stream",
     "text": [
      "42.13272727272727\n",
      "12.59\n",
      "44.650000000000006\n",
      "14.58\n"
     ]
    }
   ],
   "source": [
    "# Import numpy with alias np\n",
    "import numpy as np\n",
    "\n",
    "# Filter for Belgium\n",
    "be_consumption = food_consumption[food_consumption.country=='Belgium']\n",
    "\n",
    "# Filter for USA\n",
    "usa_consumption = food_consumption[food_consumption.country=='USA']\n",
    "\n",
    "# Calculate mean and median consumption in Belgium\n",
    "print(np.mean(be_consumption.consumption))\n",
    "print(np.median(be_consumption.consumption))\n",
    "\n",
    "# Calculate mean and median consumption in USA\n",
    "print(np.mean(usa_consumption.consumption))\n",
    "print(np.median(usa_consumption.consumption))\n"
   ]
  },
  {
   "cell_type": "code",
   "execution_count": 11,
   "metadata": {
    "ExecuteTime": {
     "end_time": "2021-01-05T09:31:45.601607Z",
     "start_time": "2021-01-05T09:31:45.594754Z"
    }
   },
   "outputs": [
    {
     "name": "stdout",
     "output_type": "stream",
     "text": [
      "              mean  median\n",
      "country                   \n",
      "Belgium  42.132727   12.59\n",
      "USA      44.650000   14.58\n"
     ]
    }
   ],
   "source": [
    "# Import numpy as np\n",
    "import numpy as np\n",
    "\n",
    "# Subset for Belgium and USA only\n",
    "be_and_usa = food_consumption[(food_consumption.country == 'Belgium') | (food_consumption.country == 'USA')]\n",
    "\n",
    "# Group by country, select consumption column, and compute mean and median\n",
    "print(be_and_usa.groupby('country')['consumption'].agg([np.mean, np.median]))"
   ]
  },
  {
   "cell_type": "markdown",
   "metadata": {},
   "source": [
    "## Mean vs. median\n",
    "\n",
    "In the video, you learned that the mean is the sum of all the data points divided by the total number of data points, and the median is the middle value of the dataset where 50% of the data is less than the median, and 50% of the data is greater than the median. In this exercise, you'll compare these two measures of center.\n",
    "\n",
    "pandas is loaded as pd, numpy is loaded as np, and food_consumption is available."
   ]
  },
  {
   "cell_type": "code",
   "execution_count": 12,
   "metadata": {
    "ExecuteTime": {
     "end_time": "2021-01-05T09:33:33.267638Z",
     "start_time": "2021-01-05T09:33:32.983578Z"
    }
   },
   "outputs": [
    {
     "data": {
      "image/png": "[encoded data removed]",
      "text/plain": [
       "<Figure size 432x288 with 1 Axes>"
      ]
     },
     "metadata": {
      "needs_background": "light"
     },
     "output_type": "display_data"
    }
   ],
   "source": [
    "# Import matplotlib.pyplot with alias plt\n",
    "import matplotlib.pyplot as plt\n",
    "\n",
    "# Subset for food_category equals rice\n",
    "rice_consumption = food_consumption[food_consumption.food_category == 'rice']\n",
    "\n",
    "# Histogram of co2_emission for rice and show plot\n",
    "rice_consumption['co2_emission'].hist()\n",
    "plt.show()"
   ]
  },
  {
   "cell_type": "code",
   "execution_count": 13,
   "metadata": {
    "ExecuteTime": {
     "end_time": "2021-01-05T09:34:00.777264Z",
     "start_time": "2021-01-05T09:34:00.759429Z"
    }
   },
   "outputs": [
    {
     "name": "stdout",
     "output_type": "stream",
     "text": [
      "mean      37.591615\n",
      "median    15.200000\n",
      "Name: co2_emission, dtype: float64\n"
     ]
    }
   ],
   "source": [
    "# Subset for food_category equals rice\n",
    "rice_consumption = food_consumption[food_consumption['food_category'] == 'rice']\n",
    "\n",
    "# Calculate mean and median of co2_emission with .agg()\n",
    "print(rice_consumption['co2_emission'].agg([np.mean, np.median]))"
   ]
  },
  {
   "cell_type": "markdown",
   "metadata": {},
   "source": [
    "# Measures of spread "
   ]
  },
  {
   "cell_type": "markdown",
   "metadata": {},
   "source": [
    "## Quartiles, quantiles, and quintiles\n",
    "\n",
    "Quantiles are a great way of summarizing numerical data since they can be used to measure center and spread, as well as to get a sense of where a data point stands in relation to the rest of the data set. For example, you might want to give a discount to the 10% most active users on a website.\n",
    "\n",
    "In this exercise, you'll calculate quartiles, quintiles, and deciles, which split up a dataset into 4, 5, and 10 pieces, respectively.\n",
    "\n",
    "Both pandas as pd and numpy as np are loaded and `food_consumption` is available."
   ]
  },
  {
   "cell_type": "code",
   "execution_count": 14,
   "metadata": {
    "ExecuteTime": {
     "end_time": "2021-01-05T09:35:41.172697Z",
     "start_time": "2021-01-05T09:35:41.167788Z"
    }
   },
   "outputs": [
    {
     "name": "stdout",
     "output_type": "stream",
     "text": [
      "[   0.        5.21     16.53     62.5975 1712.    ]\n"
     ]
    }
   ],
   "source": [
    "# Calculate the quartiles of co2_emission\n",
    "print(np.quantile(food_consumption['co2_emission'], np.linspace(0,1,5)))"
   ]
  },
  {
   "cell_type": "code",
   "execution_count": 15,
   "metadata": {
    "ExecuteTime": {
     "end_time": "2021-01-05T09:35:46.903259Z",
     "start_time": "2021-01-05T09:35:46.896946Z"
    }
   },
   "outputs": [
    {
     "name": "stdout",
     "output_type": "stream",
     "text": [
      "[   0.       3.54    11.026   25.59    99.978 1712.   ]\n"
     ]
    }
   ],
   "source": [
    "# Calculate the quintiles of co2_emission\n",
    "print(np.quantile(food_consumption['co2_emission'], np.linspace(0,1,6)))"
   ]
  },
  {
   "cell_type": "code",
   "execution_count": 16,
   "metadata": {
    "ExecuteTime": {
     "end_time": "2021-01-05T09:35:52.141304Z",
     "start_time": "2021-01-05T09:35:52.130755Z"
    }
   },
   "outputs": [
    {
     "name": "stdout",
     "output_type": "stream",
     "text": [
      "[0.00000000e+00 9.05555556e-01 4.19111111e+00 8.05333333e+00\n",
      " 1.32000000e+01 2.10944444e+01 3.58666667e+01 7.90622222e+01\n",
      " 1.86115556e+02 1.71200000e+03]\n"
     ]
    }
   ],
   "source": [
    "# Calculate the deciles of co2_emission\n",
    "print(np.quantile(food_consumption['co2_emission'], np.linspace(0,1,10)))"
   ]
  },
  {
   "cell_type": "markdown",
   "metadata": {},
   "source": [
    "## Variance and standard deviation\n",
    "\n",
    "Variance and standard deviation are two of the most common ways to measure the spread of a variable, and you'll practice calculating these in this exercise. Spread is important since it can help inform expectations. For example, if a salesperson sells a mean of 20 products a day, but has a standard deviation of 10 products, there will probably be days where they sell 40 products, but also days where they only sell one or two. Information like this is important, especially when making predictions.\n",
    "\n",
    "Both pandas as pd and numpy as np are loaded, and `food_consumption` is available."
   ]
  },
  {
   "cell_type": "code",
   "execution_count": 17,
   "metadata": {
    "ExecuteTime": {
     "end_time": "2021-01-05T09:36:34.970114Z",
     "start_time": "2021-01-05T09:36:34.778725Z"
    }
   },
   "outputs": [
    {
     "name": "stdout",
     "output_type": "stream",
     "text": [
      "                        var         std\n",
      "food_category                          \n",
      "beef           88748.408132  297.906710\n",
      "dairy          17671.891985  132.935669\n",
      "eggs              21.371819    4.622966\n",
      "fish             921.637349   30.358481\n",
      "lamb_goat      16475.518363  128.356996\n",
      "nuts              35.639652    5.969895\n",
      "pork            3094.963537   55.632396\n",
      "poultry          245.026801   15.653332\n",
      "rice            2281.376243   47.763754\n",
      "soybeans           0.879882    0.938020\n",
      "wheat             71.023937    8.427570\n"
     ]
    },
    {
     "data": {
      "image/png": "[encoded data removed]",
      "text/plain": [
       "<Figure size 432x288 with 1 Axes>"
      ]
     },
     "metadata": {
      "needs_background": "light"
     },
     "output_type": "display_data"
    },
    {
     "data": {
      "image/png": "[encoded data removed]",
      "text/plain": [
       "<Figure size 432x288 with 1 Axes>"
      ]
     },
     "metadata": {
      "needs_background": "light"
     },
     "output_type": "display_data"
    }
   ],
   "source": [
    "# Print variance and sd of co2_emission for each food_category\n",
    "print(food_consumption.groupby('food_category')['co2_emission'].agg([np.var, np.std]))\n",
    "\n",
    "# Import matplotlib.pyplot with alias plt\n",
    "import matplotlib.pyplot as plt\n",
    "\n",
    "# Create histogram of co2_emission for food_category 'beef'\n",
    "food_consumption[food_consumption.food_category == 'beef']['co2_emission'].hist()\n",
    "# Show plot\n",
    "plt.show()\n",
    "\n",
    "# Create histogram of co2_emission for food_category 'eggs'\n",
    "food_consumption[food_consumption.food_category == 'eggs']['co2_emission'].hist()\n",
    "# Show plot\n",
    "plt.show()"
   ]
  },
  {
   "attachments": {
    "image.png": {
     "image/png": "[encoded data removed]"
    }
   },
   "cell_type": "markdown",
   "metadata": {},
   "source": [
    "## Finding outliers using IQR\n",
    "\n",
    "Outliers can have big effects on statistics like mean, as well as statistics that rely on the mean, such as variance and standard deviation. Interquartile range, or IQR, is another way of measuring spread that's less influenced by outliers. IQR is also often used to find outliers. If a value is less than <math xmlns=\"http://www.w3.org/1998/Math/MathML\">\n",
    "  <mtext>Q1</mtext>\n",
    "  <mo>&#x2212;</mo>\n",
    "  <mn>1.5</mn>\n",
    "  <mo>&#xD7;</mo>\n",
    "  <mtext>IQR</mtext>\n",
    "</math>\n",
    "or greater than <math xmlns=\"http://www.w3.org/1998/Math/MathML\">\n",
    "  <mtext>Q3</mtext>\n",
    "  <mo>+</mo>\n",
    "  <mn>1.5</mn>\n",
    "  <mo>&#xD7;</mo>\n",
    "  <mtext>IQR</mtext>\n",
    "</math>\n",
    "\n",
    ", it's considered an outlier. In fact, this is how the lengths of the whiskers in a matplotlib box plot are calculated.\n",
    "\n",
    "![image.png](attachment:image.png)\n",
    "Diagram of a box plot showing median, quartiles, and outliers\n",
    "\n",
    "In this exercise, you'll calculate IQR and use it to find some outliers. pandas as pd and numpy as np are loaded and `food_consumption` is available."
   ]
  },
  {
   "cell_type": "code",
   "execution_count": 18,
   "metadata": {
    "ExecuteTime": {
     "end_time": "2021-01-05T09:38:18.119276Z",
     "start_time": "2021-01-05T09:38:18.106846Z"
    }
   },
   "outputs": [
    {
     "name": "stdout",
     "output_type": "stream",
     "text": [
      "country\n",
      "Albania      1777.85\n",
      "Algeria       707.88\n",
      "Angola        412.99\n",
      "Argentina    2172.40\n",
      "Armenia      1109.93\n",
      "              ...   \n",
      "Uruguay      1634.91\n",
      "Venezuela    1104.10\n",
      "Vietnam       641.51\n",
      "Zambia        225.30\n",
      "Zimbabwe      350.33\n",
      "Name: co2_emission, Length: 130, dtype: float64\n"
     ]
    }
   ],
   "source": [
    "# Calculate total co2_emission per country: emissions_by_country\n",
    "emissions_by_country = food_consumption.groupby('country')['co2_emission'].agg('sum')\n",
    "\n",
    "print(emissions_by_country)"
   ]
  },
  {
   "cell_type": "code",
   "execution_count": 19,
   "metadata": {
    "ExecuteTime": {
     "end_time": "2021-01-05T09:38:25.452424Z",
     "start_time": "2021-01-05T09:38:25.438153Z"
    }
   },
   "outputs": [],
   "source": [
    "# Calculate total co2_emission per country: emissions_by_country\n",
    "emissions_by_country = food_consumption.groupby('country')['co2_emission'].sum()\n",
    "\n",
    "# Compute the first and third quartiles and IQR of emissions_by_country\n",
    "q1 = np.quantile(emissions_by_country, 0.25)\n",
    "q3 = np.quantile(emissions_by_country, 0.75)\n",
    "iqr = q3-q1"
   ]
  },
  {
   "cell_type": "code",
   "execution_count": 20,
   "metadata": {
    "ExecuteTime": {
     "end_time": "2021-01-05T09:38:35.110118Z",
     "start_time": "2021-01-05T09:38:35.107554Z"
    }
   },
   "outputs": [],
   "source": [
    "\n",
    "# Calculate the lower and upper cutoffs for outliers\n",
    "lower = q1-1.5*iqr\n",
    "upper = q3+1.5*iqr"
   ]
  },
  {
   "cell_type": "code",
   "execution_count": 21,
   "metadata": {
    "ExecuteTime": {
     "end_time": "2021-01-05T09:38:41.049846Z",
     "start_time": "2021-01-05T09:38:41.040131Z"
    }
   },
   "outputs": [
    {
     "name": "stdout",
     "output_type": "stream",
     "text": [
      "country\n",
      "Argentina    2172.4\n",
      "Name: co2_emission, dtype: float64\n"
     ]
    }
   ],
   "source": [
    "# Subset emissions_by_country to find outliers\n",
    "outliers = emissions_by_country[(emissions_by_country.values > upper) | (emissions_by_country.values < lower)]\n",
    "print(outliers)"
   ]
  },
  {
   "cell_type": "code",
   "execution_count": null,
   "metadata": {},
   "outputs": [],
   "source": []
  }
 ],
 "metadata": {
  "kernelspec": {
   "display_name": "Python [conda env:datacamp] *",
   "language": "python",
   "name": "conda-env-datacamp-py"
  },
  "language_info": {
   "codemirror_mode": {
    "name": "ipython",
    "version": 3
   },
   "file_extension": ".py",
   "mimetype": "text/x-python",
   "name": "python",
   "nbconvert_exporter": "python",
   "pygments_lexer": "ipython3",
   "version": "3.7.9"
  },
  "toc": {
   "base_numbering": 1,
   "nav_menu": {},
   "number_sections": true,
   "sideBar": true,
   "skip_h1_title": false,
   "title_cell": "Table of Contents",
   "title_sidebar": "Contents",
   "toc_cell": false,
   "toc_position": {
    "height": "calc(100% - 180px)",
    "left": "10px",
    "top": "150px",
    "width": "149.2px"
   },
   "toc_section_display": true,
   "toc_window_display": true
  }
 },
 "nbformat": 4,
 "nbformat_minor": 4
}
