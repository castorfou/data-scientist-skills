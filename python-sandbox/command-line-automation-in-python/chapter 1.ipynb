{
 "cells": [
  {
   "cell_type": "markdown",
   "metadata": {},
   "source": [
    "# Learn the Python interpreter\n"
   ]
  },
  {
   "cell_type": "markdown",
   "metadata": {},
   "source": [
    "## Execute Python commands\n",
    "Your boss has the habit of tapping you on the shoulder and asking you to do random tasks. They always ask which day you can get it done by. You have noticed that you keep saying \"Friday\", but this is catching up to you. Create a random day generator to give your boss an answer. This way your work will be evenly distributed throughout the week. This solution is almost complete: \"from random import choices;days = ['Mo', 'Tu', 'We', 'Th', 'Fr']\"\n",
    "\n",
    "What is the correct syntax for a \"one liner\" using python that will print a random day of the week? Feel free to experiment in the IPython console!\n",
    "\n",
    "Note that in this chapter you'll be learning many nifty IPython commands to perform basic operating system tasks. As a result, most exercises will be Multiple Choice. But don't get too comfortable because towards the end of the chapter and throughout the rest of the course you'll be writing your very own python scripts to automate command line tasks!"
   ]
  },
  {
   "cell_type": "markdown",
   "metadata": {},
   "source": [
    "### code"
   ]
  },
  {
   "cell_type": "code",
   "execution_count": 1,
   "metadata": {
    "ExecuteTime": {
     "end_time": "2020-06-16T10:04:02.924553Z",
     "start_time": "2020-06-16T10:04:02.920540Z"
    }
   },
   "outputs": [],
   "source": [
    "from random import choices;days = ['Mo', 'Tu', 'We', 'Th', 'Fr']"
   ]
  },
  {
   "cell_type": "code",
   "execution_count": 3,
   "metadata": {
    "ExecuteTime": {
     "end_time": "2020-06-16T10:04:55.053737Z",
     "start_time": "2020-06-16T10:04:55.049724Z"
    }
   },
   "outputs": [
    {
     "data": {
      "text/plain": [
       "['We']"
      ]
     },
     "execution_count": 3,
     "metadata": {},
     "output_type": "execute_result"
    }
   ],
   "source": [
    "choices(days)\n"
   ]
  },
  {
   "cell_type": "code",
   "execution_count": 5,
   "metadata": {
    "ExecuteTime": {
     "end_time": "2020-06-16T10:05:35.257018Z",
     "start_time": "2020-06-16T10:05:35.025288Z"
    }
   },
   "outputs": [
    {
     "name": "stdout",
     "output_type": "stream",
     "text": [
      "['Fr']\n"
     ]
    }
   ],
   "source": [
    "!python -c \"from random import choices;days = ['Mo', 'Tu', 'We', 'Th', 'Fr'];print(choices(days))\""
   ]
  },
  {
   "cell_type": "markdown",
   "metadata": {},
   "source": [
    "## Execute IPython shell commands\n",
    "One of your coworkers has mentioned that you can do very powerful shell operations inside of the IPython terminal. You decide to try this out to solve a problem you are currently working on. You use this approach to see if you can determine how many files of a specific type live in a directory by using this along with the built-in len() method. The output of !ls will return a list which you can store as a variable.\n",
    "\n",
    "How many total files with the extension .csv are in the test_dir directory? Make sure you store the results of command to variable and run len() on that variable. You can store a variable from a shell command in IPython like this: var = !ls -h *.png."
   ]
  },
  {
   "cell_type": "markdown",
   "metadata": {},
   "source": [
    "### code"
   ]
  },
  {
   "cell_type": "code",
   "execution_count": 6,
   "metadata": {
    "ExecuteTime": {
     "end_time": "2020-06-16T10:07:03.556574Z",
     "start_time": "2020-06-16T10:07:03.504933Z"
    }
   },
   "outputs": [],
   "source": [
    "var = !ls -h test_dir/*.csv\n",
    "\n",
    "len(var)"
   ]
  },
  {
   "cell_type": "markdown",
   "metadata": {},
   "source": [
    "# Capture IPython Shell output\n"
   ]
  },
  {
   "cell_type": "markdown",
   "metadata": {},
   "source": [
    "## Using Bash Magic command\n",
    "You have an existing bash script that you need to run in a hurry and then capture the output to continue working on it in Python. You remember that you can use %%bash magic syntax to capture the output of a script in IPython. What is the proper way to run this script and capture the output as a Python variable?\n",
    "\n",
    "Select the correct method of running a bash script in IPython. You can try this out in the IPython terminal if you get stuck. You will need to hit shift+enter to return to the next line. After you run the magic command, print the output variable to see the results."
   ]
  },
  {
   "cell_type": "code",
   "execution_count": 9,
   "metadata": {
    "ExecuteTime": {
     "end_time": "2020-06-16T10:14:44.065386Z",
     "start_time": "2020-06-16T10:14:43.850916Z"
    }
   },
   "outputs": [],
   "source": [
    "%%bash --out output\n",
    "ls"
   ]
  },
  {
   "cell_type": "code",
   "execution_count": 10,
   "metadata": {
    "ExecuteTime": {
     "end_time": "2020-06-16T10:14:53.698585Z",
     "start_time": "2020-06-16T10:14:53.693605Z"
    }
   },
   "outputs": [
    {
     "data": {
      "text/plain": [
       "'chapter 1.ipynb\\ndata_from_datacamp\\ndownloadfromFileIO.py\\nexports_py\\nstart_env.bat\\nuploadfromdatacamp.py\\nuploadfromdatacamp_examples.py\\n'"
      ]
     },
     "execution_count": 10,
     "metadata": {},
     "output_type": "execute_result"
    }
   ],
   "source": [
    "output"
   ]
  },
  {
   "cell_type": "markdown",
   "metadata": {},
   "source": [
    "## Using the ! operator in IPython\n",
    "You have a directory full of files you want the size of. You need a technique that will allow you to filter patterns. You want to do this in Python. Use the ! operator to create a command that sums the total size of the files in a directory. The piped command will use this awk snippet awk '{ SUM+=$5} END {print SUM}'. Awk is a tool that is used often on the Unix command line because it understands how to deal with whitespace delimited output from shell commands. The awk command works well at grabbing fields from a string.\n",
    "\n",
    "Make sure you try the commands out in the IPython terminal!"
   ]
  },
  {
   "cell_type": "code",
   "execution_count": 11,
   "metadata": {
    "ExecuteTime": {
     "end_time": "2020-06-16T10:15:48.273104Z",
     "start_time": "2020-06-16T10:15:48.216928Z"
    }
   },
   "outputs": [
    {
     "name": "stderr",
     "output_type": "stream",
     "text": [
      "'ls' n'est pas reconnu en tant que commande interne\n",
      "ou externe, un programme ex‚cutable ou un fichier de commandes.\n"
     ]
    }
   ],
   "source": [
    "!ls -l | awk '{SUM+=$5} END {print SUM}'"
   ]
  },
  {
   "cell_type": "code",
   "execution_count": 12,
   "metadata": {
    "ExecuteTime": {
     "end_time": "2020-06-16T10:16:01.681910Z",
     "start_time": "2020-06-16T10:16:01.458229Z"
    }
   },
   "outputs": [],
   "source": [
    "%%bash --out output\n",
    "ls -l | awk '{SUM+=$5} END {print SUM}'\n"
   ]
  },
  {
   "cell_type": "code",
   "execution_count": 14,
   "metadata": {
    "ExecuteTime": {
     "end_time": "2020-06-16T10:16:10.087059Z",
     "start_time": "2020-06-16T10:16:10.083021Z"
    }
   },
   "outputs": [
    {
     "data": {
      "text/plain": [
       "'30317\\n'"
      ]
     },
     "execution_count": 14,
     "metadata": {},
     "output_type": "execute_result"
    }
   ],
   "source": [
    "output"
   ]
  },
  {
   "cell_type": "markdown",
   "metadata": {},
   "source": [
    "# Automate with SList\n"
   ]
  },
  {
   "cell_type": "markdown",
   "metadata": {},
   "source": [
    "##  Use SList fields to parse shell output\n",
    "A Data Scientist who you highly respect at work mentioned that IPython has a powerful data type called SList that enables a user to perform powerful operations on shell commands. In particular they mention that there were able to easily extract fields from the output of the df command. In this exercise you investigate what you can accomplish with the SList data type. You will start from this command: disk_space = !df -h\n",
    "\n",
    "Using the .fields method on the df variable, select the column that shows total size of the mounted volumes."
   ]
  },
  {
   "cell_type": "code",
   "execution_count": 1,
   "metadata": {
    "ExecuteTime": {
     "end_time": "2020-06-16T14:11:38.615076Z",
     "start_time": "2020-06-16T14:11:38.568735Z"
    }
   },
   "outputs": [],
   "source": [
    "disk_space = !df -hl"
   ]
  },
  {
   "cell_type": "code",
   "execution_count": 2,
   "metadata": {
    "ExecuteTime": {
     "end_time": "2020-06-16T14:11:39.273920Z",
     "start_time": "2020-06-16T14:11:39.264393Z"
    }
   },
   "outputs": [
    {
     "data": {
      "text/plain": [
       "['Filesystem      Size  Used Avail Use% Mounted on',\n",
       " 'rootfs          238G  135G  103G  57% /',\n",
       " 'none            238G  135G  103G  57% /dev',\n",
       " 'none            238G  135G  103G  57% /run',\n",
       " 'none            238G  135G  103G  57% /run/lock',\n",
       " 'none            238G  135G  103G  57% /run/shm',\n",
       " 'none            238G  135G  103G  57% /run/user']"
      ]
     },
     "execution_count": 2,
     "metadata": {},
     "output_type": "execute_result"
    }
   ],
   "source": [
    "disk_space"
   ]
  },
  {
   "cell_type": "code",
   "execution_count": 4,
   "metadata": {
    "ExecuteTime": {
     "end_time": "2020-06-16T14:12:03.545530Z",
     "start_time": "2020-06-16T14:12:03.541348Z"
    }
   },
   "outputs": [
    {
     "data": {
      "text/plain": [
       "['Size', '238G', '238G', '238G', '238G', '238G', '238G']"
      ]
     },
     "execution_count": 4,
     "metadata": {},
     "output_type": "execute_result"
    }
   ],
   "source": [
    "disk_space.fields(1)"
   ]
  },
  {
   "cell_type": "markdown",
   "metadata": {},
   "source": [
    "## Find Python files using SLIST grep\n",
    "A coworker has written a script that has gone haywire. You both have been working in a directory src and this is where you store your python scripts. Your coworker accidentally wrote 250 text files that have similar names to your python files. Help clean up the mess by using the SList .grep() method to filter for files only containing the pattern .py.\n",
    "\n",
    "What are the names of only the Python source code files in the src directory? Remember to store the output of !ls src. The .grep() method will accept a file extension as a pattern."
   ]
  },
  {
   "cell_type": "code",
   "execution_count": null,
   "metadata": {},
   "outputs": [],
   "source": [
    "src=!ls src\n",
    "src.grep('.py')\n",
    "Out[3]: ['apple.py', 'banana.py', 'orange.py']"
   ]
  },
  {
   "cell_type": "markdown",
   "metadata": {},
   "source": [
    "## Using SList to grep\n",
    "You get woken up in the middle of the night by a frantic phone call from a co-worker. There is a rogue process running in production that is generating hundreds of extra backup files. It was discovered when your co-worker tried to restore from backup, but found hundreds of backup files that are corrupt. You need to write a script to isolate the correct backup file.\n",
    "\n",
    "Use the SList object to find all files with the number 2 in them and print out their full path so the backups can be inspected. The reason 2 is so important is this corresponds to the second day of the week Tuesday. This is the last time the backups worked properly."
   ]
  },
  {
   "cell_type": "markdown",
   "metadata": {},
   "source": [
    "### code"
   ]
  },
  {
   "cell_type": "code",
   "execution_count": 5,
   "metadata": {
    "ExecuteTime": {
     "end_time": "2020-06-16T14:17:45.510861Z",
     "start_time": "2020-06-16T14:17:45.501574Z"
    }
   },
   "outputs": [
    {
     "ename": "NameError",
     "evalue": "name 'slist_out' is not defined",
     "output_type": "error",
     "traceback": [
      "\u001b[0;31m---------------------------------------------------------------------------\u001b[0m",
      "\u001b[0;31mNameError\u001b[0m                                 Traceback (most recent call last)",
      "\u001b[0;32m<ipython-input-5-ae002c6307aa>\u001b[0m in \u001b[0;36m<module>\u001b[0;34m\u001b[0m\n\u001b[1;32m      3\u001b[0m \u001b[0;34m\u001b[0m\u001b[0m\n\u001b[1;32m      4\u001b[0m \u001b[0;31m# Find the backups with \"_2\" in them\u001b[0m\u001b[0;34m\u001b[0m\u001b[0;34m\u001b[0m\u001b[0;34m\u001b[0m\u001b[0m\n\u001b[0;32m----> 5\u001b[0;31m \u001b[0mresult\u001b[0m \u001b[0;34m=\u001b[0m \u001b[0mslist_out\u001b[0m\u001b[0;34m.\u001b[0m\u001b[0mgrep\u001b[0m\u001b[0;34m(\u001b[0m\u001b[0;34m'-2'\u001b[0m\u001b[0;34m)\u001b[0m\u001b[0;34m\u001b[0m\u001b[0;34m\u001b[0m\u001b[0m\n\u001b[0m\u001b[1;32m      6\u001b[0m \u001b[0;34m\u001b[0m\u001b[0m\n\u001b[1;32m      7\u001b[0m \u001b[0;31m# Extract the filenames\u001b[0m\u001b[0;34m\u001b[0m\u001b[0;34m\u001b[0m\u001b[0;34m\u001b[0m\u001b[0m\n",
      "\u001b[0;31mNameError\u001b[0m: name 'slist_out' is not defined"
     ]
    }
   ],
   "source": [
    "# Use the results of an SList object\n",
    "root = \"test_dir\"\n",
    "\n",
    "# Find the backups with \"_2\" in them\n",
    "result = slist_out.grep('_2')\n",
    "\n",
    "# Extract the filenames\n",
    "for res in result:\n",
    "\tfilename = res.split()[-1]\n",
    "    \n",
    "\t# Create the full path\n",
    "\tfullpath = os.path.join(root, filename)\n",
    "\tprint(f\"fullpath of backup file: {fullpath}\")"
   ]
  },
  {
   "cell_type": "code",
   "execution_count": null,
   "metadata": {},
   "outputs": [],
   "source": []
  }
 ],
 "metadata": {
  "kernelspec": {
   "display_name": "Python 3",
   "language": "python",
   "name": "python3"
  },
  "language_info": {
   "codemirror_mode": {
    "name": "ipython",
    "version": 3
   },
   "file_extension": ".py",
   "mimetype": "text/x-python",
   "name": "python",
   "nbconvert_exporter": "python",
   "pygments_lexer": "ipython3",
   "version": "3.8.3"
  },
  "toc": {
   "base_numbering": 1,
   "nav_menu": {},
   "number_sections": true,
   "sideBar": true,
   "skip_h1_title": false,
   "title_cell": "Table of Contents",
   "title_sidebar": "Contents",
   "toc_cell": false,
   "toc_position": {},
   "toc_section_display": true,
   "toc_window_display": true
  },
  "varInspector": {
   "cols": {
    "lenName": 16,
    "lenType": 16,
    "lenVar": 40
   },
   "kernels_config": {
    "python": {
     "delete_cmd_postfix": "",
     "delete_cmd_prefix": "del ",
     "library": "var_list.py",
     "varRefreshCmd": "print(var_dic_list())"
    },
    "r": {
     "delete_cmd_postfix": ") ",
     "delete_cmd_prefix": "rm(",
     "library": "var_list.r",
     "varRefreshCmd": "cat(var_dic_list()) "
    }
   },
   "types_to_exclude": [
    "module",
    "function",
    "builtin_function_or_method",
    "instance",
    "_Feature"
   ],
   "window_display": false
  }
 },
 "nbformat": 4,
 "nbformat_minor": 4
}
