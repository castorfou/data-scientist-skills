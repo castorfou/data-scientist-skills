{
 "cells": [
  {
   "cell_type": "markdown",
   "metadata": {},
   "source": [
    "# Using functions for automation\n"
   ]
  },
  {
   "cell_type": "markdown",
   "metadata": {},
   "source": [
    "## Funky clusters\n",
    "You need to write an integration test that verifies that your cloud environment can run KMeans clustering algorithms. One issue you have had in the past is that it gets tedious to keep rewriting code that needs minor changes. You have learned that you can accomplish these small changes by creating a command line tool instead. To prepare your code to become a command line tool, first you must refactor it into functions. Write two functions that make your code ready to be run by a command line tool library.\n",
    "\n",
    "The make_blobs and KMeans modules have been imported for you. These modules are from sklearn a widely used machine learning library."
   ]
  },
  {
   "cell_type": "markdown",
   "metadata": {},
   "source": [
    "### code"
   ]
  },
  {
   "cell_type": "code",
   "execution_count": 1,
   "metadata": {
    "ExecuteTime": {
     "end_time": "2020-06-19T09:13:29.805013Z",
     "start_time": "2020-06-19T09:13:29.620355Z"
    }
   },
   "outputs": [],
   "source": [
    "from sklearn.datasets import make_blobs\n",
    "from sklearn.cluster import KMeans"
   ]
  },
  {
   "cell_type": "code",
   "execution_count": 2,
   "metadata": {
    "ExecuteTime": {
     "end_time": "2020-06-19T09:14:05.000066Z",
     "start_time": "2020-06-19T09:14:04.930338Z"
    }
   },
   "outputs": [
    {
     "name": "stdout",
     "output_type": "stream",
     "text": [
      "[1 1 0 1 1 0 1 0 0 1]\n"
     ]
    }
   ],
   "source": [
    "# create sample blobs from sklearn datasets\n",
    "def blobs():\n",
    "    X, y = make_blobs(n_samples=10, centers=3, n_features=2,random_state=0)\n",
    "    return X,y\n",
    "  \n",
    "# Perform KMeans cluster\n",
    "def cluster(X, random_state=170, num=2):\n",
    "    return KMeans(n_clusters=num, random_state=random_state).fit_predict(X) # Returns cluster assignment\n",
    "\n",
    "#Run everything:  Call both functions. `X` creates the data and `cluster`, clusters the data.\n",
    "def main():\n",
    "    X,_ = blobs()\n",
    "    return cluster(X)\n",
    "\n",
    "print(main()) #print the KMeans cluster assignments"
   ]
  },
  {
   "cell_type": "markdown",
   "metadata": {},
   "source": [
    "## Hello decorator\n",
    "You are working more and more with decorators and you want to ensure that decorators you write remember to use the @wraps functionality to preserve the name of the function and the docstring. One idea you have to verify this is to create an integration test that loops over decorators you create and prints out the names of the decorated functions. Use this approach to verify two decorated function names."
   ]
  },
  {
   "cell_type": "markdown",
   "metadata": {},
   "source": [
    "### init"
   ]
  },
  {
   "cell_type": "code",
   "execution_count": 6,
   "metadata": {
    "ExecuteTime": {
     "end_time": "2020-06-19T09:16:35.411356Z",
     "start_time": "2020-06-19T09:16:35.407762Z"
    }
   },
   "outputs": [],
   "source": [
    "###################\n",
    "##### inspect Function\n",
    "###################\n",
    "\n",
    "\"\"\" à executer sur datacamp: (apres copie du code uploadfromdatacamp.py)\n",
    "import inspect\n",
    "print_func(nothing)\n",
    "\"\"\"\n",
    "\n",
    "from functools import wraps\n",
    "\n",
    "\n",
    "def nothing(f):\n",
    "    @wraps(f)\n",
    "    def wrapper(*args, **kwds):\n",
    "        return f(*args, **kwds)\n",
    "    return wrapper"
   ]
  },
  {
   "cell_type": "markdown",
   "metadata": {},
   "source": [
    "### code"
   ]
  },
  {
   "cell_type": "code",
   "execution_count": 7,
   "metadata": {
    "ExecuteTime": {
     "end_time": "2020-06-19T09:16:36.113901Z",
     "start_time": "2020-06-19T09:16:36.109693Z"
    }
   },
   "outputs": [
    {
     "name": "stdout",
     "output_type": "stream",
     "text": [
      "function name: something\n",
      "function name: another\n"
     ]
    }
   ],
   "source": [
    "# decorate first function\n",
    "@nothing\n",
    "def something():\n",
    "    pass\n",
    "\n",
    "# decorate second function\n",
    "@nothing\n",
    "def another():\n",
    "    pass\n",
    "\n",
    "# Put uncalled function into a list and print name  \n",
    "funcs = [something, another]\n",
    "for func in funcs:\n",
    "    print(f\"function name: {func.__name__}\")"
   ]
  },
  {
   "cell_type": "markdown",
   "metadata": {},
   "source": [
    "## Debugging decorator\n",
    "Your company has an internship program that involves training non-developers how to program in Python. One of the challenges is that it is often difficult to explain how to debug code to the interns. You have an idea to write a debugging decorator that interns can use that will print out both the arguments and the keyword arguments when they are applied to a function. You are confident this will be a very useful skill to teach them because of how much you use decorators to debug code and enhance automation tasks.\n",
    "\n",
    "Write a decorator that will wrap a function and print any *args or **kw arguments out. Remember a decorator must return the the function is wraps. This is the last line of a decorator."
   ]
  },
  {
   "cell_type": "markdown",
   "metadata": {},
   "source": [
    "### code"
   ]
  },
  {
   "cell_type": "code",
   "execution_count": 8,
   "metadata": {
    "ExecuteTime": {
     "end_time": "2020-06-19T09:17:40.273905Z",
     "start_time": "2020-06-19T09:17:40.269141Z"
    }
   },
   "outputs": [
    {
     "name": "stdout",
     "output_type": "stream",
     "text": [
      "function name: mult, args: [(5,)], kwargs: [{'y': 5}]\n",
      "25\n"
     ]
    }
   ],
   "source": [
    "# create decorator\n",
    "def debug(f):\n",
    "\t@wraps(f)\n",
    "\tdef wrap(*args, **kw):\n",
    "\t\tresult = f(*args, **kw)\n",
    "\t\tprint(f\"function name: {f.__name__}, args: [{args}], kwargs: [{kw}]\")\n",
    "\t\treturn result\n",
    "\treturn wrap\n",
    "  \n",
    "# apply decorator\n",
    "@debug\n",
    "def mult(x, y=10):\n",
    "\treturn x*y\n",
    "print(mult(5, y=5))"
   ]
  },
  {
   "cell_type": "markdown",
   "metadata": {},
   "source": [
    "# Understand script input\n"
   ]
  },
  {
   "cell_type": "markdown",
   "metadata": {},
   "source": [
    "## Using python command-line tools\n",
    "There is a command-line executable written in python called findit.py. Use it to find files from the IPython terminal.\n",
    "You can run the findit.py script like this in the IPython prompt (note, you typically would run this in the bash shell):\n",
    "\n",
    "!python3.6 findit.py\n",
    "\n",
    "It takes two arguments using sys.argv to process them. The first argument is the path to search (i.e. /some/path) and the second is an optional argument that finds a file extension (i.e. .pdf). Use this script to search for files with the extension .txt in the test_dir.\n",
    "\n",
    "Which is the name of one of the files it finds?"
   ]
  },
  {
   "cell_type": "markdown",
   "metadata": {},
   "source": [
    "## Backwards day\n",
    "A colleague has written a Python script that reverse all lines in a file and prints them out one by one. This is an integration tool for some NLP (Natural Language Processing) work your department is involved in. You want to call their script, reverseit.py from a python program you are writing so you can use it as well. Use your knowledge of sys.argv and subprocess to write a file, then pass that file to the script that processes it."
   ]
  },
  {
   "cell_type": "markdown",
   "metadata": {},
   "source": [
    "### code"
   ]
  },
  {
   "cell_type": "code",
   "execution_count": 10,
   "metadata": {
    "ExecuteTime": {
     "end_time": "2020-06-19T09:23:19.998883Z",
     "start_time": "2020-06-19T09:23:19.926188Z"
    }
   },
   "outputs": [],
   "source": [
    "import subprocess\n",
    "\n",
    "# Write a file\n",
    "with open(\"input.txt\", \"w\") as input_file:\n",
    "  input_file.write(\"Reverse this string\\n\")\n",
    "  input_file.write(\"Reverse this too!\")\n",
    "\n",
    "# runs python script that reverse strings in a file line by line\n",
    "run_script = subprocess.Popen(\n",
    "    [\"/usr/bin/python3\", 'reverseit.py', 'input.txt'], stdout=subprocess.PIPE)\n",
    "\n",
    "# print out the script output\n",
    "for line in run_script.stdout:\n",
    "  print(line)"
   ]
  },
  {
   "cell_type": "markdown",
   "metadata": {},
   "source": [
    "# Introduction to Click\n"
   ]
  },
  {
   "cell_type": "markdown",
   "metadata": {},
   "source": [
    "## Simple yet true\n",
    "You need to convince your company to both use the click command-line tool and to open their new headquarters in an affordable city. Use this opportunity to create a random city selector and then print the results to stdout using click."
   ]
  },
  {
   "cell_type": "markdown",
   "metadata": {},
   "source": [
    "### code"
   ]
  },
  {
   "cell_type": "code",
   "execution_count": 11,
   "metadata": {
    "ExecuteTime": {
     "end_time": "2020-06-19T09:27:44.821763Z",
     "start_time": "2020-06-19T09:27:44.766089Z"
    }
   },
   "outputs": [
    {
     "name": "stdout",
     "output_type": "stream",
     "text": [
      "My choice is: Austin\n"
     ]
    }
   ],
   "source": [
    "import click\n",
    "import random\n",
    "\n",
    "# Create random values to choose from\n",
    "values = [\"Nashville\", \"Austin\", \"Denver\", \"Cleveland\"]\n",
    "\n",
    "# Select a random choice\n",
    "result = random.choice(values)\n",
    "\n",
    "# Print the random choice using click echo\n",
    "click.echo(f\"My choice is: {result}\")"
   ]
  },
  {
   "cell_type": "markdown",
   "metadata": {},
   "source": [
    "## Running a click application from subprocess\n",
    "You are building many click command line applications and you realize that it would be powerful to automate their execution by not only humans but other scripts. Take an existing script that performs KMeans clustering and execute it with two different options: help and num. Run this inside of subprocess.run and print both outputs to standard out."
   ]
  },
  {
   "cell_type": "markdown",
   "metadata": {},
   "source": [
    "### code"
   ]
  },
  {
   "cell_type": "code",
   "execution_count": 12,
   "metadata": {
    "ExecuteTime": {
     "end_time": "2020-06-19T09:28:59.833637Z",
     "start_time": "2020-06-19T09:28:59.691680Z"
    }
   },
   "outputs": [
    {
     "name": "stdout",
     "output_type": "stream",
     "text": [
      "b''\n",
      "b''\n"
     ]
    }
   ],
   "source": [
    "import subprocess\n",
    "\n",
    "# run help for click tool\n",
    "help_out = subprocess.run([\"/usr/bin/python3.6\", \"./cluster.py\", \"--help\"],\n",
    "                     stdout=subprocess.PIPE)\n",
    "\n",
    "# run cluster\n",
    "cluster2 = subprocess.run([\"/usr/bin/python3.6\", \"./cluster.py\", \"--num\", \"2\"],\n",
    "                     stdout=subprocess.PIPE)\n",
    "\n",
    "# print help\n",
    "print(help_out.stdout)\n",
    "\n",
    "# print cluster output\n",
    "print(cluster2.stdout)"
   ]
  },
  {
   "cell_type": "markdown",
   "metadata": {},
   "source": [
    "# Using click to write command line tools\n"
   ]
  },
  {
   "cell_type": "markdown",
   "metadata": {},
   "source": [
    "## Got a ticket to write\n",
    "You have been reading through the click documentation while you are working on an data science project around housing prices in the United states. One thing you discover is that it incredibly easy to write to files from click. Take a few random words that come to mind and write them out via click. The click module has been imported for you."
   ]
  },
  {
   "cell_type": "markdown",
   "metadata": {},
   "source": [
    "### code"
   ]
  },
  {
   "cell_type": "code",
   "execution_count": 13,
   "metadata": {
    "ExecuteTime": {
     "end_time": "2020-06-19T13:05:42.615111Z",
     "start_time": "2020-06-19T13:05:42.611540Z"
    }
   },
   "outputs": [],
   "source": [
    "import click"
   ]
  },
  {
   "cell_type": "code",
   "execution_count": 14,
   "metadata": {
    "ExecuteTime": {
     "end_time": "2020-06-19T13:06:19.570028Z",
     "start_time": "2020-06-19T13:06:19.563766Z"
    }
   },
   "outputs": [
    {
     "name": "stdout",
     "output_type": "stream",
     "text": [
      "Asset\n",
      "Bubble\n",
      "10\n",
      "Year\n",
      "\n"
     ]
    }
   ],
   "source": [
    "# Setup\n",
    "words = [\"Asset\", \"Bubble\", \"10\", \"Year\"]\n",
    "filename = \"words.txt\"\n",
    "\n",
    "# Write with click.open()\n",
    "with click.open_file(filename, 'w') as f:\n",
    "\n",
    "# Loop over words with a for loop\n",
    "    for word in words:\n",
    "        f.write(f'{word}\\n')\n",
    "\n",
    "# Read it back\n",
    "with open(filename) as output_file:\n",
    "    print(output_file.read())"
   ]
  },
  {
   "cell_type": "markdown",
   "metadata": {},
   "source": [
    "## Invoking command line tests\n",
    "Not only has your department widely adopted click, but you are writing click applications so quickly that you need to ensure you know how to test them as well. The click framework has the ability to test itself using the CliRunner method. Lead by example and extend this click application so it can be tested properly and integrated into your continuous integration system.\n",
    "\n",
    "Remember that click flags like --something need to be passed into functions as something to use them in the function."
   ]
  },
  {
   "cell_type": "markdown",
   "metadata": {},
   "source": [
    "### code"
   ]
  },
  {
   "cell_type": "code",
   "execution_count": 18,
   "metadata": {
    "ExecuteTime": {
     "end_time": "2020-06-19T13:10:22.898079Z",
     "start_time": "2020-06-19T13:10:22.882712Z"
    }
   },
   "outputs": [],
   "source": [
    "from click.testing import CliRunner"
   ]
  },
  {
   "cell_type": "code",
   "execution_count": 19,
   "metadata": {
    "ExecuteTime": {
     "end_time": "2020-06-19T13:10:23.222840Z",
     "start_time": "2020-06-19T13:10:23.212155Z"
    }
   },
   "outputs": [
    {
     "ename": "AssertionError",
     "evalue": "",
     "output_type": "error",
     "traceback": [
      "\u001b[0;31m---------------------------------------------------------------------------\u001b[0m",
      "\u001b[0;31mAssertionError\u001b[0m                            Traceback (most recent call last)",
      "\u001b[0;32m<ipython-input-19-540841870752>\u001b[0m in \u001b[0;36m<module>\u001b[0;34m\u001b[0m\n\u001b[1;32m     11\u001b[0m \u001b[0;31m# Run the click app and assert it runs without error\u001b[0m\u001b[0;34m\u001b[0m\u001b[0;34m\u001b[0m\u001b[0;34m\u001b[0m\u001b[0m\n\u001b[1;32m     12\u001b[0m \u001b[0mresult\u001b[0m \u001b[0;34m=\u001b[0m \u001b[0mrunner\u001b[0m\u001b[0;34m.\u001b[0m\u001b[0minvoke\u001b[0m\u001b[0;34m(\u001b[0m\u001b[0mrun_cluster\u001b[0m\u001b[0;34m,\u001b[0m \u001b[0;34m[\u001b[0m\u001b[0;34m'--num'\u001b[0m\u001b[0;34m,\u001b[0m \u001b[0;34m'2'\u001b[0m\u001b[0;34m]\u001b[0m\u001b[0;34m)\u001b[0m\u001b[0;34m\u001b[0m\u001b[0;34m\u001b[0m\u001b[0m\n\u001b[0;32m---> 13\u001b[0;31m \u001b[0;32massert\u001b[0m \u001b[0mresult\u001b[0m\u001b[0;34m.\u001b[0m\u001b[0mexit_code\u001b[0m \u001b[0;34m==\u001b[0m \u001b[0;36m0\u001b[0m\u001b[0;34m\u001b[0m\u001b[0;34m\u001b[0m\u001b[0m\n\u001b[0m\u001b[1;32m     14\u001b[0m \u001b[0mprint\u001b[0m\u001b[0;34m(\u001b[0m\u001b[0mresult\u001b[0m\u001b[0;34m.\u001b[0m\u001b[0moutput\u001b[0m\u001b[0;34m)\u001b[0m\u001b[0;34m\u001b[0m\u001b[0;34m\u001b[0m\u001b[0m\n",
      "\u001b[0;31mAssertionError\u001b[0m: "
     ]
    }
   ],
   "source": [
    "#define the click command\n",
    "@click.command()\n",
    "@click.option(\"--num\", default=2, help=\"Number of clusters\")\n",
    "def run_cluster(num):\n",
    "    result = main(num)\n",
    "    click.echo(f'Cluster assignments: {result} for total clusters [{num}]')\n",
    "\n",
    "# Create the click test runner\n",
    "runner = CliRunner()\n",
    "\n",
    "# Run the click app and assert it runs without error\n",
    "result = runner.invoke(run_cluster, ['--num', '2'])\n",
    "assert result.exit_code == 0\n",
    "print(result.output)"
   ]
  },
  {
   "cell_type": "code",
   "execution_count": null,
   "metadata": {},
   "outputs": [],
   "source": []
  }
 ],
 "metadata": {
  "kernelspec": {
   "display_name": "Python 3",
   "language": "python",
   "name": "python3"
  },
  "language_info": {
   "codemirror_mode": {
    "name": "ipython",
    "version": 3
   },
   "file_extension": ".py",
   "mimetype": "text/x-python",
   "name": "python",
   "nbconvert_exporter": "python",
   "pygments_lexer": "ipython3",
   "version": "3.8.3"
  },
  "toc": {
   "base_numbering": 1,
   "nav_menu": {},
   "number_sections": true,
   "sideBar": true,
   "skip_h1_title": false,
   "title_cell": "Table of Contents",
   "title_sidebar": "Contents",
   "toc_cell": false,
   "toc_position": {},
   "toc_section_display": true,
   "toc_window_display": true
  },
  "varInspector": {
   "cols": {
    "lenName": 16,
    "lenType": 16,
    "lenVar": 40
   },
   "kernels_config": {
    "python": {
     "delete_cmd_postfix": "",
     "delete_cmd_prefix": "del ",
     "library": "var_list.py",
     "varRefreshCmd": "print(var_dic_list())"
    },
    "r": {
     "delete_cmd_postfix": ") ",
     "delete_cmd_prefix": "rm(",
     "library": "var_list.r",
     "varRefreshCmd": "cat(var_dic_list()) "
    }
   },
   "types_to_exclude": [
    "module",
    "function",
    "builtin_function_or_method",
    "instance",
    "_Feature"
   ],
   "window_display": false
  }
 },
 "nbformat": 4,
 "nbformat_minor": 4
}
