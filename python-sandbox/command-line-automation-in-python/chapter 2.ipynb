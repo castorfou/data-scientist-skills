{
 "cells": [
  {
   "cell_type": "markdown",
   "metadata": {},
   "source": [
    "# Execute shell commands in subprocess\n"
   ]
  },
  {
   "cell_type": "markdown",
   "metadata": {},
   "source": [
    "## Permissions Check\n",
    "As the CTO of your small startup you often have to perform many roles. Some days this means being the data scientists, data engineer, DevOps engineer and machine learning engineer all at once. Recently you setup a large network file system in your cloud deployment that all of the instances that perform machine learning will communicate with. You are a strong believe in IaC (Infrastructure as Code). As a result you want to verify that the when the network filesystem is mounted on a new system that each worker node is able to create files with the correct permissions.\n",
    "\n",
    "Write a script that will check for this by using subprocess.Popen and os.stat. Be sure to use the variables in setup in your script!"
   ]
  },
  {
   "cell_type": "markdown",
   "metadata": {},
   "source": [
    "### code"
   ]
  },
  {
   "cell_type": "code",
   "execution_count": 1,
   "metadata": {
    "ExecuteTime": {
     "end_time": "2020-06-16T16:02:29.713506Z",
     "start_time": "2020-06-16T16:02:29.667979Z"
    }
   },
   "outputs": [
    {
     "name": "stdout",
     "output_type": "stream",
     "text": [
      "File System exported properly: 1000 == 1000\n"
     ]
    }
   ],
   "source": [
    "import subprocess\n",
    "import os\n",
    "\n",
    "#setup\n",
    "file_location = \"/tmp/file.txt\"\n",
    "expected_uid = 1000\n",
    "#touch a file\n",
    "proc = subprocess.run([\"touch\", file_location])\n",
    "\n",
    "#check user permissions\n",
    "stat = os.stat(file_location)\n",
    "if stat.st_uid == expected_uid:\n",
    "  print(f\"File System exported properly: {expected_uid} == {stat.st_uid}\")\n",
    "else:\n",
    "  print(f\"File System NOT exported properly: {expected_uid} != {stat.st_uid}\")"
   ]
  },
  {
   "cell_type": "markdown",
   "metadata": {},
   "source": [
    "## Reading a creepy AI poem\n",
    "As a mad scientists working on AGI (Artificial General Intelligence) in your underground bunker in Siberia, you have come up with a program that appears to show signs of human level intelligence. Your program was trained to write poems and initially showed signs of true brilliance. You read one of the poems and it seemed a bit creepy and repetitive. You need to write a script that inspects some of the output of the computer generated poems it is writing. The Unix command head will read the first few lines. The Unix command wc -w will count the total number of words. The name of the poem is called poem.txt.\n",
    "\n",
    "Use subprocess.Popen to run each of these shell commands print the results. You must pass stdout=subprocess.PIPE into Popen to capture the output of wc."
   ]
  },
  {
   "cell_type": "markdown",
   "metadata": {},
   "source": [
    "### init"
   ]
  },
  {
   "cell_type": "code",
   "execution_count": 6,
   "metadata": {
    "ExecuteTime": {
     "end_time": "2020-06-16T16:11:57.748421Z",
     "start_time": "2020-06-16T16:11:57.041495Z"
    }
   },
   "outputs": [
    {
     "name": "stdout",
     "output_type": "stream",
     "text": [
      "Téléchargements à lancer\n",
      "{'numpy.ndarray': {'poem.txt': 'https://file.io/hIuUKx08'}}\n",
      "  % Total    % Received % Xferd  Average Speed   Time    Time     Time  Current\n",
      "                                 Dload  Upload   Total   Spent    Left  Speed\n",
      "100 44000    0 44000    0     0  69291      0 --:--:-- --:--:-- --:--:-- 69182\n",
      "\n"
     ]
    }
   ],
   "source": [
    "###################\n",
    "##### file\n",
    "###################\n",
    "\n",
    "#upload and download\n",
    "\n",
    "from downloadfromFileIO import saveFromFileIO\n",
    "\"\"\" à executer sur datacamp: (apres copie du code uploadfromdatacamp.py)\n",
    "uploadToFileIO_pushto_fileio('poem.txt')\n",
    "\n",
    "\"\"\"\n",
    "\n",
    "tobedownloaded=\"\"\"\n",
    "{numpy.ndarray: {'poem.txt': 'https://file.io/hIuUKx08'}}\n",
    "\"\"\"\n",
    "prefixToc = '1.2'\n",
    "prefix = saveFromFileIO(tobedownloaded, prefixToc=prefixToc, proxy=\"\")\n"
   ]
  },
  {
   "cell_type": "code",
   "execution_count": 3,
   "metadata": {
    "ExecuteTime": {
     "end_time": "2020-06-16T16:10:46.441801Z",
     "start_time": "2020-06-16T16:10:46.438882Z"
    }
   },
   "outputs": [],
   "source": [
    "from subprocess import (Popen, PIPE)"
   ]
  },
  {
   "cell_type": "markdown",
   "metadata": {},
   "source": [
    "### code"
   ]
  },
  {
   "cell_type": "code",
   "execution_count": 7,
   "metadata": {
    "ExecuteTime": {
     "end_time": "2020-06-16T16:12:01.094447Z",
     "start_time": "2020-06-16T16:12:01.019433Z"
    }
   },
   "outputs": [
    {
     "name": "stdout",
     "output_type": "stream",
     "text": [
      "b'All work and no play makes Jack a dull boy.\\n'\n",
      "b'All work and no play makes Jack a dull boy.\\n'\n",
      "b'All work and no play makes Jack a dull boy.\\n'\n",
      "b'All work and no play makes Jack a dull boy.\\n'\n",
      "b'All work and no play makes Jack a dull boy.\\n'\n",
      "b'All work and no play makes Jack a dull boy.\\n'\n",
      "b'All work and no play makes Jack a dull boy.\\n'\n",
      "b'All work and no play makes Jack a dull boy.\\n'\n",
      "b'All work and no play makes Jack a dull boy.\\n'\n",
      "b'All work and no play makes Jack a dull boy.\\n'\n",
      "b'10000 data_from_datacamp/chapter 2-Exercise1.2_poem.txt\\n'\n"
     ]
    }
   ],
   "source": [
    "import subprocess\n",
    "\n",
    "# Execute Unix command `head` safely as items in a list\n",
    "with subprocess.Popen([\"head\", prefix+\"poem.txt\"], stdout=PIPE) as head:\n",
    "  \n",
    "  # Print each line of list returned by `stdout.readlines()`\n",
    "  for line in head.stdout.readlines():\n",
    "    print(line)\n",
    "    \n",
    "# Execute Unix command `wc -w` safely as items in a list\n",
    "with subprocess.Popen(['wc', '-w', prefix+\"poem.txt\"], stdout=PIPE) as word_count:\n",
    "  \n",
    "  # Print the string output of standard out of `wc -w`\n",
    "  print(word_count.stdout.read())"
   ]
  },
  {
   "cell_type": "markdown",
   "metadata": {},
   "source": [
    "## Running processes script\n",
    "The year is 2040 and you share a Unix terminal with a mixture of AI and human co-workers. Recently your AI boss has been shorter than usual in your telepathic exchanges. You notice your daily meal biscuit quality has been downgraded to \"sufficient\" from \"good\". You are concerned your AI boss may recommend a transfer to the social media news content moderation team. One day your AI boss asks you to monitor CPU usage. They suspect someone is using CPU processing power to run other code instead of writing unit tests for the code the AI bots produce.\n",
    "\n",
    "Write a script using subprocess.run and ps aux that discards all CPU output with the string 'python' in it. This will hide your secret Python scripts from the AI."
   ]
  },
  {
   "cell_type": "markdown",
   "metadata": {},
   "source": [
    "### code"
   ]
  },
  {
   "cell_type": "code",
   "execution_count": 16,
   "metadata": {
    "ExecuteTime": {
     "end_time": "2020-06-16T16:17:44.173909Z",
     "start_time": "2020-06-16T16:17:44.124797Z"
    }
   },
   "outputs": [
    {
     "name": "stdout",
     "output_type": "stream",
     "text": [
      "b'USER       PID %CPU %MEM    VSZ   RSS TTY      STAT START   TIME COMMAND\\n'\n",
      "b'root         1  0.0  0.0  10588   628 ?        Ss   16:10   0:00 /init\\n'\n",
      "b'guillau+     2  0.0  0.0  28380  3780 tty1     Ss   16:10   0:00 -bash\\n'\n",
      "b'guillau+   284  0.0  0.0  28508  3816 tty2     Ss   18:05   0:00 -bash\\n'\n",
      "b'guillau+   575  0.0  0.0 1126544 1904 ?        R    18:17   0:00 ps aux\\n'\n"
     ]
    }
   ],
   "source": [
    "import subprocess\n",
    "\n",
    "# Use subprocess to run the `ps aux` command that lists running processes\n",
    "with subprocess.Popen(['ps', 'aux'], stdout=subprocess.PIPE) as proc:\n",
    "    process_output = proc.stdout.readlines()\n",
    "    \n",
    "# Look through each line in the output and skip it if it contains \"python\"\n",
    "for line in process_output:\n",
    "    if b'python' in line:\n",
    "        continue\n",
    "    print(line)"
   ]
  },
  {
   "cell_type": "markdown",
   "metadata": {},
   "source": [
    "# Capture output of shell commands\n"
   ]
  },
  {
   "cell_type": "markdown",
   "metadata": {},
   "source": [
    "## Using subprocess Popen\n",
    "A coworker is proficient in Bash tells you that most data engineering tasks should be done in the shell. You mention a scripting language like Python can build robust production systems that have high quality. The code is often easier in practice to write and maintain, even if you are directly calling shell commands. You demonstrate how this works using a small Python script that you write that finds all of the Python packages installed.\n",
    "\n",
    "Use Python, subprocess.Popen(), and the bash command pip list --format=json command, to find all of the installed packages. The pip tool is a common method of installing Python packages. The result will be a byte string, a Python3 construct. The Popen command will use PIPE to send the JSON output to stdout."
   ]
  },
  {
   "cell_type": "markdown",
   "metadata": {},
   "source": [
    "### code"
   ]
  },
  {
   "cell_type": "code",
   "execution_count": 20,
   "metadata": {
    "ExecuteTime": {
     "end_time": "2020-06-17T09:15:08.390866Z",
     "start_time": "2020-06-17T09:15:07.630222Z"
    }
   },
   "outputs": [
    {
     "name": "stdout",
     "output_type": "stream",
     "text": [
      "[{'name': 'alembic', 'version': '1.4.2'},\n",
      " {'name': 'appdirs', 'version': '1.4.3'},\n",
      " {'name': 'argh', 'version': '0.26.2'},\n",
      " {'name': 'asn1crypto', 'version': '1.3.0'},\n",
      " {'name': 'astropy', 'version': '4.0.1.post1'},\n",
      " {'name': 'attrs', 'version': '19.3.0'},\n",
      " {'name': 'backcall', 'version': '0.1.0'},\n",
      " {'name': 'bleach', 'version': '3.1.5'},\n",
      " {'name': 'bokeh', 'version': '2.0.2'},\n",
      " {'name': 'brotlipy', 'version': '0.7.0'},\n",
      " {'name': 'certifi', 'version': '2020.4.5.2'},\n",
      " {'name': 'cffi', 'version': '1.14.0'},\n",
      " {'name': 'chardet', 'version': '3.0.4'},\n",
      " {'name': 'click', 'version': '7.1.2'},\n",
      " {'name': 'cloudpickle', 'version': '1.4.1'},\n",
      " {'name': 'configparser', 'version': '5.0.0'},\n",
      " {'name': 'confuse', 'version': '1.1.0'},\n",
      " {'name': 'cryptography', 'version': '2.9.2'},\n",
      " {'name': 'cycler', 'version': '0.10.0'},\n",
      " {'name': 'databricks-cli', 'version': '0.9.1'},\n",
      " {'name': 'decorator', 'version': '4.4.2'},\n",
      " {'name': 'defusedxml', 'version': '0.6.0'},\n",
      " {'name': 'docker', 'version': '4.2.0'},\n",
      " {'name': 'docker-pycreds', 'version': '0.4.0'},\n",
      " {'name': 'entrypoints', 'version': '0.3'},\n",
      " {'name': 'fire', 'version': '0.2.1'},\n",
      " {'name': 'Flask', 'version': '1.1.2'},\n",
      " {'name': 'future', 'version': '0.18.2'},\n",
      " {'name': 'gitdb', 'version': '4.0.5'},\n",
      " {'name': 'gitdb2', 'version': '2.0.6'},\n",
      " {'name': 'GitPython', 'version': '3.1.3'},\n",
      " {'name': 'gorilla', 'version': '0.3.0'},\n",
      " {'name': 'gql', 'version': '0.2.0'},\n",
      " {'name': 'graphql-core', 'version': '1.1'},\n",
      " {'name': 'graphviz', 'version': '0.13.2'},\n",
      " {'name': 'gunicorn', 'version': '20.0.4'},\n",
      " {'name': 'htmlmin', 'version': '0.1.12'},\n",
      " {'name': 'hyperopt', 'version': '0.2.4'},\n",
      " {'name': 'idna', 'version': '2.9'},\n",
      " {'name': 'ImageHash', 'version': '4.1.0'},\n",
      " {'name': 'importlib-metadata', 'version': '1.6.0'},\n",
      " {'name': 'ipykernel', 'version': '5.3.0'},\n",
      " {'name': 'ipython', 'version': '7.15.0'},\n",
      " {'name': 'ipython-genutils', 'version': '0.2.0'},\n",
      " {'name': 'ipywidgets', 'version': '7.5.1'},\n",
      " {'name': 'itsdangerous', 'version': '1.1.0'},\n",
      " {'name': 'jedi', 'version': '0.17.0'},\n",
      " {'name': 'Jinja2', 'version': '2.11.2'},\n",
      " {'name': 'joblib', 'version': '0.15.1'},\n",
      " {'name': 'jsonschema', 'version': '3.2.0'},\n",
      " {'name': 'jupyter', 'version': '1.0.0'},\n",
      " {'name': 'jupyter-client', 'version': '6.1.3'},\n",
      " {'name': 'jupyter-console', 'version': '6.0.0'},\n",
      " {'name': 'jupyter-contrib-core', 'version': '0.3.3'},\n",
      " {'name': 'jupyter-contrib-nbextensions', 'version': '0.5.1'},\n",
      " {'name': 'jupyter-core', 'version': '4.6.3'},\n",
      " {'name': 'jupyter-highlight-selected-word', 'version': '0.2.0'},\n",
      " {'name': 'jupyter-latex-envs', 'version': '1.4.6'},\n",
      " {'name': 'jupyter-nbextensions-configurator', 'version': '0.4.1'},\n",
      " {'name': 'kiwisolver', 'version': '1.2.0'},\n",
      " {'name': 'llvmlite', 'version': '0.32.1'},\n",
      " {'name': 'lxml', 'version': '4.5.1'},\n",
      " {'name': 'Mako', 'version': '1.1.0'},\n",
      " {'name': 'MarkupSafe', 'version': '1.1.1'},\n",
      " {'name': 'matplotlib', 'version': '3.2.1'},\n",
      " {'name': 'missingno', 'version': '0.4.2'},\n",
      " {'name': 'mistune', 'version': '0.8.4'},\n",
      " {'name': 'nbconvert', 'version': '5.6.1'},\n",
      " {'name': 'nbformat', 'version': '5.0.6'},\n",
      " {'name': 'networkx', 'version': '2.4'},\n",
      " {'name': 'notebook', 'version': '6.0.3'},\n",
      " {'name': 'numba', 'version': '0.49.1'},\n",
      " {'name': 'numpy', 'version': '1.18.4'},\n",
      " {'name': 'nvidia-ml-py3', 'version': '7.352.0'},\n",
      " {'name': 'olefile', 'version': '0.46'},\n",
      " {'name': 'packaging', 'version': '20.4'},\n",
      " {'name': 'pandas', 'version': '1.0.4'},\n",
      " {'name': 'pandas-profiling', 'version': '2.8.0'},\n",
      " {'name': 'pandocfilters', 'version': '1.4.2'},\n",
      " {'name': 'parso', 'version': '0.7.0'},\n",
      " {'name': 'pathtools', 'version': '0.1.2'},\n",
      " {'name': 'patsy', 'version': '0.5.1'},\n",
      " {'name': 'pexpect', 'version': '4.8.0'},\n",
      " {'name': 'phik', 'version': '0.10.0'},\n",
      " {'name': 'pickleshare', 'version': '0.7.5'},\n",
      " {'name': 'Pillow', 'version': '7.1.2'},\n",
      " {'name': 'pip', 'version': '20.1.1'},\n",
      " {'name': 'prometheus-client', 'version': '0.8.0'},\n",
      " {'name': 'prometheus-flask-exporter', 'version': '0.13.0'},\n",
      " {'name': 'promise', 'version': '2.3'},\n",
      " {'name': 'prompt-toolkit', 'version': '3.0.5'},\n",
      " {'name': 'protobuf', 'version': '3.12.1'},\n",
      " {'name': 'psutil', 'version': '5.6.7'},\n",
      " {'name': 'ptyprocess', 'version': '0.6.0'},\n",
      " {'name': 'pycparser', 'version': '2.20'},\n",
      " {'name': 'pyfiglet', 'version': '0.8.post1'},\n",
      " {'name': 'Pygments', 'version': '2.6.1'},\n",
      " {'name': 'pymongo', 'version': '3.10.1'},\n",
      " {'name': 'pyodbc', 'version': '4.0.0-unsupported'},\n",
      " {'name': 'pyOpenSSL', 'version': '19.1.0'},\n",
      " {'name': 'pyparsing', 'version': '2.4.7'},\n",
      " {'name': 'pyrsistent', 'version': '0.16.0'},\n",
      " {'name': 'PySocks', 'version': '1.7.1'},\n",
      " {'name': 'python-dateutil', 'version': '2.8.1'},\n",
      " {'name': 'python-editor', 'version': '1.0.4'},\n",
      " {'name': 'pytz', 'version': '2020.1'},\n",
      " {'name': 'PyWavelets', 'version': '1.1.1'},\n",
      " {'name': 'PyYAML', 'version': '5.3.1'},\n",
      " {'name': 'pyzmq', 'version': '19.0.1'},\n",
      " {'name': 'qtconsole', 'version': '4.6.0'},\n",
      " {'name': 'querystring-parser', 'version': '1.2.4'},\n",
      " {'name': 'requests', 'version': '2.23.0'},\n",
      " {'name': 'scikit-learn', 'version': '0.23.1'},\n",
      " {'name': 'scipy', 'version': '1.4.1'},\n",
      " {'name': 'seaborn', 'version': '0.10.1'},\n",
      " {'name': 'Send2Trash', 'version': '1.5.0'},\n",
      " {'name': 'sentry-sdk', 'version': '0.14.1'},\n",
      " {'name': 'setuptools', 'version': '47.1.1.post20200529'},\n",
      " {'name': 'shortuuid', 'version': '0.5.0'},\n",
      " {'name': 'simhash', 'version': '1.9.0'},\n",
      " {'name': 'simplejson', 'version': '3.17.0'},\n",
      " {'name': 'six', 'version': '1.15.0'},\n",
      " {'name': 'smmap', 'version': '3.0.4'},\n",
      " {'name': 'smmap2', 'version': '2.0.5'},\n",
      " {'name': 'SQLAlchemy', 'version': '1.3.13'},\n",
      " {'name': 'sqlparse', 'version': '0.3.1'},\n",
      " {'name': 'statsmodels', 'version': '0.11.1'},\n",
      " {'name': 'subprocess32', 'version': '3.5.4'},\n",
      " {'name': 'tabulate', 'version': '0.8.7'},\n",
      " {'name': 'tangled-up-in-unicode', 'version': '0.0.6'},\n",
      " {'name': 'termcolor', 'version': '1.1.0'},\n",
      " {'name': 'terminado', 'version': '0.8.3'},\n",
      " {'name': 'testpath', 'version': '0.4.4'},\n",
      " {'name': 'threadpoolctl', 'version': '2.1.0'},\n",
      " {'name': 'tornado', 'version': '6.0.4'},\n",
      " {'name': 'tqdm', 'version': '4.46.0'},\n",
      " {'name': 'traitlets', 'version': '4.3.3'},\n",
      " {'name': 'typing-extensions', 'version': '3.7.4.2'},\n",
      " {'name': 'urllib3', 'version': '1.25.9'},\n",
      " {'name': 'visions', 'version': '0.4.4'},\n",
      " {'name': 'wandb', 'version': '0.8.21'},\n",
      " {'name': 'watchdog', 'version': '0.9.0'},\n",
      " {'name': 'wcwidth', 'version': '0.2.2'},\n",
      " {'name': 'webencodings', 'version': '0.5.1'},\n",
      " {'name': 'websocket-client', 'version': '0.57.0'},\n",
      " {'name': 'Werkzeug', 'version': '1.0.1'},\n",
      " {'name': 'wheel', 'version': '0.34.2'},\n",
      " {'name': 'widgetsnbextension', 'version': '3.5.1'},\n",
      " {'name': 'wordcloud', 'version': '1.6.0'},\n",
      " {'name': 'xlrd', 'version': '1.2.0'},\n",
      " {'name': 'zipp', 'version': '3.1.0'}]\n"
     ]
    }
   ],
   "source": [
    "from subprocess import Popen, PIPE\n",
    "import json\n",
    "import pprint\n",
    "\n",
    "# Use the with context manager to run subprocess.Popen()\n",
    "with Popen([\"pip\",\"list\",\"--format=json\"], stdout=PIPE) as proc:\n",
    "  # Pipe the output of subprocess.Popen() to stdout\n",
    "  result = proc.stdout.readlines()\n",
    "  \n",
    "# Convert the JSON payload to a Python dictionary\n",
    "# JSON is a datastructure similar to a Python dictionary\n",
    "converted_result = json.loads(result[0])\n",
    "\n",
    "# Display the result in the IPython terminal\n",
    "pprint.pprint(converted_result)"
   ]
  },
  {
   "cell_type": "markdown",
   "metadata": {},
   "source": [
    "## Waiting for processes\n",
    "In the real-world code is messy. There are edge cases that have to be handled, and things don't always go as planned. Dealing with data increases the complexity of the mess.\n",
    "\n",
    "In this example you will be using the subprocess module to launch a \"misbehaving\" process that will run for six seconds. This will be simulated by using linux sleep command. The sleep command will suspend execution of a shell for a period of time. You will use the subprocess.communicate() method to wait for the command to finish running for up to five seconds. The process will then timeout and it will return an Exception: i.e. error detected during execution, which will be caught and the process will be cleaned up by proc.kill(). Popen, PIPE, and TimeoutExpired have all been imported for you."
   ]
  },
  {
   "cell_type": "markdown",
   "metadata": {},
   "source": [
    "### code"
   ]
  },
  {
   "cell_type": "code",
   "execution_count": 24,
   "metadata": {
    "ExecuteTime": {
     "end_time": "2020-06-17T09:21:49.390536Z",
     "start_time": "2020-06-17T09:21:49.387394Z"
    }
   },
   "outputs": [],
   "source": [
    "from subprocess import (Popen, PIPE, TimeoutExpired)"
   ]
  },
  {
   "cell_type": "code",
   "execution_count": 29,
   "metadata": {
    "ExecuteTime": {
     "end_time": "2020-06-17T09:27:13.914563Z",
     "start_time": "2020-06-17T09:27:08.874583Z"
    }
   },
   "outputs": [
    {
     "name": "stdout",
     "output_type": "stream",
     "text": [
      "Process timed out with output: b'', error: b''\n"
     ]
    }
   ],
   "source": [
    "# Start a long running process using subprocess.Popen()\n",
    "proc = Popen([\"sleep\", \"6\"], stderr=PIPE, stdout=PIPE)\n",
    "\n",
    "# Use subprocess.communicate() to create a timeout \n",
    "try:\n",
    "    output, error = proc.communicate(timeout=5)\n",
    "    \n",
    "except TimeoutExpired:\n",
    "\n",
    "\t# Cleanup the process if it takes longer than the timeout\n",
    "    proc.kill()\n",
    "    \n",
    "    # Read standard out and standard error streams and print\n",
    "    output, error = proc.communicate()\n",
    "    print(f\"Process timed out with output: {output}, error: {error}\")"
   ]
  },
  {
   "cell_type": "markdown",
   "metadata": {},
   "source": [
    "## Detecting duplicate files with subprocess\n",
    "Imagine you are a new data scientist at a startup, and you have been tasked with doing machine learning on Terabytes of data. The CEO has mentioned they have a small budget to train your model. You notice many duplicate files when manually inspecting. If you can identify the duplicate files before you begin training, this potentially saves 50% of the cost of training.\n",
    "\n",
    "In this exercise, you will find duplicate files by using the subprocess.Popen() module and capturing the output of the md5sum command. The md5sum utility is a shell command that finds the unique hash of each file. There is a list of files available via the files variable that you can iterate over. Popen and PIPE have already been imported for you from the subprocess module. ['file_8.csv'...]"
   ]
  },
  {
   "cell_type": "markdown",
   "metadata": {},
   "source": [
    "### init"
   ]
  },
  {
   "cell_type": "code",
   "execution_count": 31,
   "metadata": {
    "ExecuteTime": {
     "end_time": "2020-06-17T09:29:50.495994Z",
     "start_time": "2020-06-17T09:29:50.492770Z"
    },
    "code_folding": [
     0
    ]
   },
   "outputs": [],
   "source": [
    "files=['test_dir/file_0.csv',\n",
    " 'test_dir/file_2.csv',\n",
    " 'test_dir/file_3.csv',\n",
    " 'test_dir/file_9.csv',\n",
    " 'test_dir/file_7.csv',\n",
    " 'test_dir/file_4.csv',\n",
    " 'test_dir/file_8.csv',\n",
    " 'test_dir/file_5.csv',\n",
    " 'test_dir/file_6.csv',\n",
    " 'test_dir/file_1.csv']\n"
   ]
  },
  {
   "cell_type": "markdown",
   "metadata": {},
   "source": [
    "### code"
   ]
  },
  {
   "cell_type": "code",
   "execution_count": 32,
   "metadata": {
    "ExecuteTime": {
     "end_time": "2020-06-17T09:33:55.413512Z",
     "start_time": "2020-06-17T09:33:55.096051Z"
    }
   },
   "outputs": [
    {
     "name": "stdout",
     "output_type": "stream",
     "text": [
      "Found Duplicates: ['test_dir/file_2.csv', 'test_dir/file_3.csv', 'test_dir/file_9.csv', 'test_dir/file_7.csv', 'test_dir/file_4.csv', 'test_dir/file_8.csv', 'test_dir/file_5.csv', 'test_dir/file_6.csv', 'test_dir/file_1.csv']\n"
     ]
    }
   ],
   "source": [
    "checksums = {}\n",
    "duplicates = []\n",
    "\n",
    "# Iterate over the list of files filenames\n",
    "for filename in files:\n",
    "  \t# Use Popen to call the md5sum utility\n",
    "    with Popen(['md5sum', filename], stdout=PIPE) as proc:\n",
    "        checksum, _ = proc.stdout.read().split()\n",
    "        \n",
    "        # Append duplicate to a list if the checksum is found\n",
    "        if checksum in checksums:\n",
    "            duplicates.append(filename)\n",
    "        checksums[checksum] = filename\n",
    "\n",
    "print(f\"Found Duplicates: {duplicates}\")"
   ]
  },
  {
   "cell_type": "markdown",
   "metadata": {},
   "source": [
    "# Sending input to processes\n"
   ]
  },
  {
   "cell_type": "markdown",
   "metadata": {},
   "source": [
    "## Counting files in a directory tree\n",
    "After the last bad experience with corrupt backups at your company, you decide to rewrite the backup script from scratch in Python. One of the improvements you want to make is to audit the number of files in a subdirectory and count them. You will then ensure the exact same number of files exists in a directory tree before and after the backup. This will create a validation step that was missing in the last script.\n",
    "\n",
    "Use subprocess.run to pipe the output of the find command to wc -l to print the numbers of files in the directory tree."
   ]
  },
  {
   "cell_type": "markdown",
   "metadata": {},
   "source": [
    "### code"
   ]
  },
  {
   "cell_type": "code",
   "execution_count": 33,
   "metadata": {
    "ExecuteTime": {
     "end_time": "2020-06-17T09:42:14.166415Z",
     "start_time": "2020-06-17T09:42:14.090758Z"
    }
   },
   "outputs": [
    {
     "name": "stdout",
     "output_type": "stream",
     "text": [
      "28\n"
     ]
    }
   ],
   "source": [
    "import subprocess\n",
    "\n",
    "# runs find command to search for files\n",
    "find = subprocess.Popen(\n",
    "    [\"find\", \".\", \"-type\", \"f\", \"-print\"], stdout=PIPE)\n",
    "\n",
    "# runs wc and counts the number of lines\n",
    "word_count = subprocess.Popen(\n",
    "    [\"wc\", \"-l\"], stdin=find.stdout, stdout=PIPE)\n",
    "\n",
    "# print the decoded and formatted output\n",
    "output = word_count.stdout.read()\n",
    "print(output.decode('utf-8').strip())"
   ]
  },
  {
   "cell_type": "markdown",
   "metadata": {},
   "source": [
    "## Running a health check\n",
    "The data science team at your company has been working closely with the DevOps team to ensure the production machine learning systems are reliable, elastic and fault-tolerant. Recently, there was an outage of a critical system that cost the company hundreds of thousands of dollars in lost revenue when a machine learning model began throwing exceptions instead of offering recommendations to shoppers. One solution that can be implemented is to run periodic health checks on production systems to ensure they have the correct environment. The DevOps team has written several bash scripts that your team will need to invoke from Python and run periodically.\n",
    "\n",
    "Send the output of an echo 'python3' command to a healthcheck.sh script."
   ]
  },
  {
   "cell_type": "markdown",
   "metadata": {},
   "source": [
    "### init"
   ]
  },
  {
   "cell_type": "code",
   "execution_count": 34,
   "metadata": {
    "ExecuteTime": {
     "end_time": "2020-06-17T09:48:39.253784Z",
     "start_time": "2020-06-17T09:48:36.071317Z"
    }
   },
   "outputs": [
    {
     "name": "stdout",
     "output_type": "stream",
     "text": [
      "Téléchargements à lancer\n",
      "{'numpy.ndarray': {'healthcheck.sh': 'https://file.io/ycp4puf8'}}\n",
      "  % Total    % Received % Xferd  Average Speed   Time    Time     Time  Current\n",
      "                                 Dload  Upload   Total   Spent    Left  Speed\n",
      "100   113    0   113    0     0     37      0 --:--:--  0:00:03 --:--:--    37\n",
      "\n"
     ]
    }
   ],
   "source": [
    "###################\n",
    "##### file\n",
    "###################\n",
    "\n",
    "#upload and download\n",
    "\n",
    "from downloadfromFileIO import saveFromFileIO\n",
    "\"\"\" à executer sur datacamp: (apres copie du code uploadfromdatacamp.py)\n",
    "uploadToFileIO_pushto_fileio('healthcheck.sh')\n",
    "\"\"\"\n",
    "\n",
    "tobedownloaded=\"\"\"\n",
    "{numpy.ndarray: {'healthcheck.sh': 'https://file.io/ycp4puf8'}}\n",
    "\"\"\"\n",
    "prefixToc = '3.2'\n",
    "prefix = saveFromFileIO(tobedownloaded, prefixToc=prefixToc, proxy=\"\")\n"
   ]
  },
  {
   "cell_type": "markdown",
   "metadata": {},
   "source": [
    "### code"
   ]
  },
  {
   "cell_type": "code",
   "execution_count": 37,
   "metadata": {
    "ExecuteTime": {
     "end_time": "2020-06-17T09:50:06.579836Z",
     "start_time": "2020-06-17T09:50:06.495495Z"
    }
   },
   "outputs": [
    {
     "name": "stdout",
     "output_type": "stream",
     "text": [
      "...Health Check Output...\n",
      "\n",
      " Enter executable to check: \n",
      "Location: /home/guillaume/anaconda3/envs/d075/bin/python\n",
      "\n"
     ]
    }
   ],
   "source": [
    "import subprocess\n",
    "\n",
    "# equivalent to 'echo \"python3\"'\n",
    "echo = subprocess.Popen(\n",
    "    ['echo', 'python'], stdout=PIPE)\n",
    "\n",
    "# equivalent to: echo \"python3\" | ./healthcheck.sh\n",
    "path = subprocess.Popen(\n",
    "    [prefix+'healthcheck.sh'], stdin=echo.stdout, stdout=PIPE)\n",
    "\n",
    "full_path = path.stdout.read().decode(\"utf-8\")\n",
    "print(f\"...Health Check Output...\\n\\n {full_path}\")\n",
    "\n",
    "# The assertion will fail if python3 executable path is not found\n",
    "assert \"python\" in full_path"
   ]
  },
  {
   "cell_type": "markdown",
   "metadata": {},
   "source": [
    "# Passing arguments safely to shell commands\n"
   ]
  },
  {
   "cell_type": "markdown",
   "metadata": {},
   "source": [
    "## Safely find directories\n",
    "At the film studio you work at there is a need to create a tool for animators to search incredibly large file systems as quickly as possible and find all of the directories in them. You benchmarked both regular python code and python code that uses the Unix find command to see which performed better at searches. You have determined for this particular problem that the Unix find performs the best. One concern you have though is ensuring that the command safely processes user input. In the past tools have been released that accidentally deleted large sections of the file server because a user accidentally put the wrong string into a tool.\n",
    "\n",
    "Write a tool that safely processes user input and searches a file system for all directories using find and subprocess.Popen."
   ]
  },
  {
   "cell_type": "markdown",
   "metadata": {},
   "source": [
    "### code"
   ]
  },
  {
   "cell_type": "code",
   "execution_count": 39,
   "metadata": {
    "ExecuteTime": {
     "end_time": "2020-06-17T10:01:01.669434Z",
     "start_time": "2020-06-17T10:01:01.622649Z"
    }
   },
   "outputs": [
    {
     "name": "stdout",
     "output_type": "stream",
     "text": [
      "Enter a path to search for directories: \n",
      "\n",
      "directory to process: .\n",
      "Found Directory: .\n",
      "Found Directory: ./.ipynb_checkpoints\n",
      "Found Directory: ./data_from_datacamp\n",
      "Found Directory: ./exports_py\n",
      "Found Directory: ./test_dir\n",
      "Found Directory: ./__pycache__\n"
     ]
    }
   ],
   "source": [
    "import subprocess\n",
    "\n",
    "#Accepts user input\n",
    "print(\"Enter a path to search for directories: \\n\")\n",
    "user_input = \".\"\n",
    "print(f\"directory to process: {user_input}\")\n",
    "\n",
    "#Pass safe user input into subprocess\n",
    "with subprocess.Popen([\"find\", user_input, \"-type\", \"d\"], stdout=subprocess.PIPE) as find:\n",
    "    result = find.stdout.readlines()\n",
    "    \n",
    "    #Process each line and decode it and strip it\n",
    "    for line in result:\n",
    "        formatted_line = line.decode(\"utf-8\").strip()\n",
    "        print(f\"Found Directory: {formatted_line}\")"
   ]
  },
  {
   "cell_type": "markdown",
   "metadata": {},
   "source": [
    "## Directory summarizer\n",
    "Your high performance laptop with solid state drives and a GPU capable of doing deep learning was a great investment. One issue you have though is that your hard drive keeps filling up with machine learning data. You need to write a script that will calculate the total disk usage from an arbitrary amount of directories you pass in. After you finish this script locally you plan on using it on your work file system as well. Eventually you then turn it into a sophisticated tool that manages disk storage in Python or you would just use the Unix du command alone. You are very concerned about accepting user input that could permanently delete user data or cause a security hole.\n",
    "\n",
    "Use shlex and subprocess to get the total storage of a list of directories."
   ]
  },
  {
   "cell_type": "markdown",
   "metadata": {},
   "source": [
    "### code"
   ]
  },
  {
   "cell_type": "code",
   "execution_count": 40,
   "metadata": {
    "ExecuteTime": {
     "end_time": "2020-06-17T10:04:08.455869Z",
     "start_time": "2020-06-17T10:04:08.452653Z"
    }
   },
   "outputs": [],
   "source": [
    "import shlex"
   ]
  },
  {
   "cell_type": "code",
   "execution_count": 42,
   "metadata": {
    "ExecuteTime": {
     "end_time": "2020-06-17T10:05:16.134401Z",
     "start_time": "2020-06-17T10:05:16.090752Z"
    }
   },
   "outputs": [
    {
     "name": "stdout",
     "output_type": "stream",
     "text": [
      "Enter a list of directories to calculate storage total: \n",
      "\n",
      "raw_user_input: pluto mars jupiter |  sanitized_user_input: ['pluto', 'mars', 'jupiter']\n",
      "cmd: ['du', '-sh', '--total', 'pluto', 'mars', 'jupiter']\n",
      "0\tpluto\n",
      "0\tmars\n",
      "0\tjupiter\n",
      "0\ttotal\n",
      "\n"
     ]
    }
   ],
   "source": [
    "print(\"Enter a list of directories to calculate storage total: \\n\")\n",
    "user_input = \"pluto mars jupiter\"\n",
    "\n",
    "# Sanitize the user input\n",
    "sanitized_user_input = shlex.split(user_input)\n",
    "print(f\"raw_user_input: {user_input} |  sanitized_user_input: {sanitized_user_input}\")\n",
    "\n",
    "# Safely Extend the command with sanitized input\n",
    "cmd = [\"du\", \"-sh\", \"--total\"]\n",
    "cmd.extend(sanitized_user_input)\n",
    "print(f\"cmd: {cmd}\")\n",
    "\n",
    "# Print the totals out\n",
    "disk_total = subprocess.run(cmd, stdout=PIPE)\n",
    "print(disk_total.stdout.decode(\"utf-8\"))"
   ]
  },
  {
   "cell_type": "code",
   "execution_count": null,
   "metadata": {},
   "outputs": [],
   "source": []
  }
 ],
 "metadata": {
  "kernelspec": {
   "display_name": "Python 3",
   "language": "python",
   "name": "python3"
  },
  "language_info": {
   "codemirror_mode": {
    "name": "ipython",
    "version": 3
   },
   "file_extension": ".py",
   "mimetype": "text/x-python",
   "name": "python",
   "nbconvert_exporter": "python",
   "pygments_lexer": "ipython3",
   "version": "3.8.3"
  },
  "toc": {
   "base_numbering": 1,
   "nav_menu": {},
   "number_sections": true,
   "sideBar": true,
   "skip_h1_title": false,
   "title_cell": "Table of Contents",
   "title_sidebar": "Contents",
   "toc_cell": false,
   "toc_position": {},
   "toc_section_display": true,
   "toc_window_display": true
  },
  "varInspector": {
   "cols": {
    "lenName": 16,
    "lenType": 16,
    "lenVar": 40
   },
   "kernels_config": {
    "python": {
     "delete_cmd_postfix": "",
     "delete_cmd_prefix": "del ",
     "library": "var_list.py",
     "varRefreshCmd": "print(var_dic_list())"
    },
    "r": {
     "delete_cmd_postfix": ") ",
     "delete_cmd_prefix": "rm(",
     "library": "var_list.r",
     "varRefreshCmd": "cat(var_dic_list()) "
    }
   },
   "types_to_exclude": [
    "module",
    "function",
    "builtin_function_or_method",
    "instance",
    "_Feature"
   ],
   "window_display": false
  }
 },
 "nbformat": 4,
 "nbformat_minor": 4
}
