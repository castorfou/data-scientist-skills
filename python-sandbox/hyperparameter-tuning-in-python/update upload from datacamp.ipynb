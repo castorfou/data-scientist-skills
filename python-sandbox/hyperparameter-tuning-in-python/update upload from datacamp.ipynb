{
 "cells": [
  {
   "cell_type": "code",
   "execution_count": 1,
   "metadata": {
    "ExecuteTime": {
     "end_time": "2019-12-17T09:07:13.104644Z",
     "start_time": "2019-12-17T09:07:13.099631Z"
    }
   },
   "outputs": [],
   "source": [
    "array = np.asarray([ [1,2,3], [4,5,6], [7,8,9] ])"
   ]
  },
  {
   "cell_type": "code",
   "execution_count": 2,
   "metadata": {
    "ExecuteTime": {
     "end_time": "2019-12-17T09:07:21.852593Z",
     "start_time": "2019-12-17T09:07:21.839521Z"
    }
   },
   "outputs": [
    {
     "data": {
      "text/plain": [
       "numpy.ndarray"
      ]
     },
     "execution_count": 2,
     "metadata": {},
     "output_type": "execute_result"
    }
   ],
   "source": [
    "type(array)"
   ]
  },
  {
   "cell_type": "code",
   "execution_count": 3,
   "metadata": {
    "ExecuteTime": {
     "end_time": "2019-12-17T09:27:40.608611Z",
     "start_time": "2019-12-17T09:27:40.599585Z"
    }
   },
   "outputs": [],
   "source": [
    "def uploadToFileIO_saveas_filename(variable,filename):\n",
    "    if ( type(variable) == type(pd.Series()) or type(variable) == type(pd.DataFrame()) ):\n",
    "        variable.to_csv(filename)\n",
    "    if (type(variable) == type(np.asarray([ [1,2,3], [4,5,6], [7,8,9] ]))):\n",
    "        #np.savetxt(filename, variable, fmt='%5s',delimiter=\",\")\n",
    "        variable.tofile(filename,format='%5s',sep=\",\")\n",
    "    if (type(variable) == type(str()) or type(variable) == type(list())):\n",
    "        with open(filename, 'w') as f:\n",
    "            f.write(json.dumps(variable))\n"
   ]
  },
  {
   "cell_type": "code",
   "execution_count": 4,
   "metadata": {
    "ExecuteTime": {
     "end_time": "2019-12-17T09:27:58.139359Z",
     "start_time": "2019-12-17T09:27:58.135639Z"
    }
   },
   "outputs": [],
   "source": [
    "array3D = np.asarray([[ [1,2,3], [4,5,6], [7,8,9] ]])"
   ]
  },
  {
   "cell_type": "code",
   "execution_count": 5,
   "metadata": {
    "ExecuteTime": {
     "end_time": "2019-12-17T09:28:05.484721Z",
     "start_time": "2019-12-17T09:28:05.479708Z"
    }
   },
   "outputs": [
    {
     "data": {
      "text/plain": [
       "(1, 3, 3)"
      ]
     },
     "execution_count": 5,
     "metadata": {},
     "output_type": "execute_result"
    }
   ],
   "source": [
    "array3D.shape\n"
   ]
  },
  {
   "cell_type": "code",
   "execution_count": 7,
   "metadata": {
    "ExecuteTime": {
     "end_time": "2019-12-17T09:29:07.602356Z",
     "start_time": "2019-12-17T09:29:07.599348Z"
    }
   },
   "outputs": [],
   "source": [
    "array2D=array3D.reshape((1,9\n",
    "                ))"
   ]
  },
  {
   "cell_type": "code",
   "execution_count": 8,
   "metadata": {
    "ExecuteTime": {
     "end_time": "2019-12-17T09:29:24.248444Z",
     "start_time": "2019-12-17T09:29:24.244451Z"
    }
   },
   "outputs": [
    {
     "data": {
      "text/plain": [
       "array([[[1, 2, 3],\n",
       "        [4, 5, 6],\n",
       "        [7, 8, 9]]])"
      ]
     },
     "execution_count": 8,
     "metadata": {},
     "output_type": "execute_result"
    }
   ],
   "source": [
    "array2D.reshape((1,3,3\n",
    "                ))"
   ]
  },
  {
   "cell_type": "code",
   "execution_count": null,
   "metadata": {},
   "outputs": [],
   "source": []
  }
 ],
 "metadata": {
  "kernelspec": {
   "display_name": "Python 3",
   "language": "python",
   "name": "python3"
  },
  "language_info": {
   "codemirror_mode": {
    "name": "ipython",
    "version": 3
   },
   "file_extension": ".py",
   "mimetype": "text/x-python",
   "name": "python",
   "nbconvert_exporter": "python",
   "pygments_lexer": "ipython3",
   "version": "3.7.4"
  },
  "toc": {
   "base_numbering": 1,
   "nav_menu": {},
   "number_sections": true,
   "sideBar": true,
   "skip_h1_title": false,
   "title_cell": "Table of Contents",
   "title_sidebar": "Contents",
   "toc_cell": false,
   "toc_position": {},
   "toc_section_display": true,
   "toc_window_display": false
  },
  "varInspector": {
   "cols": {
    "lenName": 16,
    "lenType": 16,
    "lenVar": 40
   },
   "kernels_config": {
    "python": {
     "delete_cmd_postfix": "",
     "delete_cmd_prefix": "del ",
     "library": "var_list.py",
     "varRefreshCmd": "print(var_dic_list())"
    },
    "r": {
     "delete_cmd_postfix": ") ",
     "delete_cmd_prefix": "rm(",
     "library": "var_list.r",
     "varRefreshCmd": "cat(var_dic_list()) "
    }
   },
   "types_to_exclude": [
    "module",
    "function",
    "builtin_function_or_method",
    "instance",
    "_Feature"
   ],
   "window_display": false
  }
 },
 "nbformat": 4,
 "nbformat_minor": 2
}
