{
 "cells": [
  {
   "cell_type": "markdown",
   "metadata": {},
   "source": [
    "# Two-output models\n"
   ]
  },
  {
   "cell_type": "markdown",
   "metadata": {},
   "source": [
    "## Simple two-output model\n",
    "In this exercise, you will use the tournament data to build one model that makes two predictions: the scores of both teams in a given game. Your inputs will be the seed difference of the two teams, as well as the predicted score difference from the model you built in chapter 3.\n",
    "\n",
    "The output from your model will be the predicted score for team 1 as well as team 2. This is called \"multiple target regression\": one model making more than one prediction."
   ]
  },
  {
   "cell_type": "markdown",
   "metadata": {},
   "source": [
    "### code"
   ]
  },
  {
   "cell_type": "code",
   "execution_count": 3,
   "metadata": {
    "ExecuteTime": {
     "end_time": "2020-02-10T07:38:58.488577Z",
     "start_time": "2020-02-10T07:38:58.485688Z"
    }
   },
   "outputs": [],
   "source": [
    "from keras.layers import Input, Concatenate, Dense\n",
    "from keras.models import Model\n"
   ]
  },
  {
   "cell_type": "code",
   "execution_count": 4,
   "metadata": {
    "ExecuteTime": {
     "end_time": "2020-02-10T07:38:59.880730Z",
     "start_time": "2020-02-10T07:38:59.827323Z"
    }
   },
   "outputs": [
    {
     "name": "stdout",
     "output_type": "stream",
     "text": [
      "WARNING:tensorflow:From C:\\Users\\F279814\\AppData\\Local\\Continuum\\anaconda3\\envs\\datacamp\\lib\\site-packages\\keras\\optimizers.py:790: The name tf.train.Optimizer is deprecated. Please use tf.compat.v1.train.Optimizer instead.\n",
      "\n"
     ]
    }
   ],
   "source": [
    "# Define the input\n",
    "input_tensor = Input(shape=(2,))\n",
    "\n",
    "# Define the output\n",
    "output_tensor = Dense(2)(input_tensor)\n",
    "\n",
    "# Create a model\n",
    "model = Model(input_tensor, output_tensor)\n",
    "\n",
    "# Compile the model\n",
    "model.compile(optimizer='adam', loss='mean_absolute_error')"
   ]
  },
  {
   "cell_type": "markdown",
   "metadata": {},
   "source": [
    "## Fit a model with two outputs\n",
    "Now that you've defined your 2-output model, fit it to the tournament data. I've split the data into games_tourney_train and games_tourney_test, so use the training set to fit for now.\n",
    "\n",
    "This model will use the pre-tournament seeds, as well as your pre-tournament predictions from the regular season model you built previously in this course.\n",
    "\n",
    "As a reminder, this model will predict the scores of both teams."
   ]
  },
  {
   "cell_type": "markdown",
   "metadata": {},
   "source": [
    "### init"
   ]
  },
  {
   "cell_type": "code",
   "execution_count": 5,
   "metadata": {
    "ExecuteTime": {
     "end_time": "2020-02-10T07:41:22.276285Z",
     "start_time": "2020-02-10T07:41:20.532247Z"
    }
   },
   "outputs": [
    {
     "name": "stdout",
     "output_type": "stream",
     "text": [
      "Téléchargements à lancer\n",
      "\n",
      "{pandas.core.frame.DataFrame: {\"games_tourney_test.csv\": \"https://file.io/olmpTs\",\n",
      "  \"games_tourney_train.csv\": \"https://file.io/3gzcMP\"}}\n",
      "\n",
      "{'pandas.core.frame.DataFrame': {'games_tourney_test.csv': 'https://file.io/olmpTs', 'games_tourney_train.csv': 'https://file.io/3gzcMP'}}\n",
      "  % Total    % Received % Xferd  Average Speed   Time    Time     Time  Current\n",
      "                                 Dload  Upload   Total   Spent    Left  Speed\n",
      "\n",
      "  0     0    0     0    0     0      0      0 --:--:-- --:--:-- --:--:--     0\n",
      "  0     0    0     0    0     0      0      0 --:--:-- --:--:-- --:--:--     0\n",
      "100 43425    0 43425    0     0  59979      0 --:--:-- --:--:-- --:--:-- 59979\n",
      "  % Total    % Received % Xferd  Average Speed   Time    Time     Time  Current\n",
      "                                 Dload  Upload   Total   Spent    Left  Speed\n",
      "\n",
      "  0     0    0     0    0     0      0      0 --:--:-- --:--:-- --:--:--     0\n",
      "100  179k    0  179k    0     0   305k      0 --:--:-- --:--:-- --:--:--  305k\n"
     ]
    }
   ],
   "source": [
    "###################\n",
    "##### Dataframe\n",
    "###################\n",
    "\n",
    "#upload and download\n",
    "\n",
    "from downloadfromFileIO import saveFromFileIO\n",
    "\"\"\" à executer sur datacamp: (apres copie du code uploadfromdatacamp.py)\n",
    "uploadToFileIO(games_tourney_train, games_tourney_test)\n",
    "\"\"\"\n",
    "\n",
    "tobedownloaded=\"\"\"\n",
    "{pandas.core.frame.DataFrame: {'games_tourney_test.csv': 'https://file.io/olmpTs',\n",
    "  'games_tourney_train.csv': 'https://file.io/3gzcMP'}}\n",
    "\"\"\"\n",
    "prefix='data_from_datacamp/Chap4-Exercise1.2_'\n",
    "saveFromFileIO(tobedownloaded, prefix=prefix, proxy=\"10.225.92.1:80\")\n",
    "\n",
    "#initialisation\n",
    "\n",
    "import pandas as pd\n",
    "games_tourney_test = pd.read_csv(prefix+'games_tourney_test.csv',index_col=0)\n",
    "games_tourney_train = pd.read_csv(prefix+'games_tourney_train.csv',index_col=0)\n",
    "\n"
   ]
  },
  {
   "cell_type": "markdown",
   "metadata": {},
   "source": [
    "### code"
   ]
  },
  {
   "cell_type": "code",
   "execution_count": 6,
   "metadata": {
    "ExecuteTime": {
     "end_time": "2020-02-10T07:42:43.214552Z",
     "start_time": "2020-02-10T07:42:42.596225Z"
    }
   },
   "outputs": [
    {
     "name": "stdout",
     "output_type": "stream",
     "text": [
      "WARNING:tensorflow:From C:\\Users\\F279814\\AppData\\Local\\Continuum\\anaconda3\\envs\\datacamp\\lib\\site-packages\\keras\\backend\\tensorflow_backend.py:986: The name tf.assign_add is deprecated. Please use tf.compat.v1.assign_add instead.\n",
      "\n",
      "WARNING:tensorflow:From C:\\Users\\F279814\\AppData\\Local\\Continuum\\anaconda3\\envs\\datacamp\\lib\\site-packages\\keras\\backend\\tensorflow_backend.py:973: The name tf.assign is deprecated. Please use tf.compat.v1.assign instead.\n",
      "\n",
      "WARNING:tensorflow:From C:\\Users\\F279814\\AppData\\Local\\Continuum\\anaconda3\\envs\\datacamp\\lib\\site-packages\\keras\\backend\\tensorflow_backend.py:2741: The name tf.Session is deprecated. Please use tf.compat.v1.Session instead.\n",
      "\n",
      "Epoch 1/100\n",
      "WARNING:tensorflow:From C:\\Users\\F279814\\AppData\\Local\\Continuum\\anaconda3\\envs\\datacamp\\lib\\site-packages\\keras\\backend\\tensorflow_backend.py:174: The name tf.get_default_session is deprecated. Please use tf.compat.v1.get_default_session instead.\n",
      "\n",
      "WARNING:tensorflow:From C:\\Users\\F279814\\AppData\\Local\\Continuum\\anaconda3\\envs\\datacamp\\lib\\site-packages\\keras\\backend\\tensorflow_backend.py:181: The name tf.ConfigProto is deprecated. Please use tf.compat.v1.ConfigProto instead.\n",
      "\n",
      "WARNING:tensorflow:From C:\\Users\\F279814\\AppData\\Local\\Continuum\\anaconda3\\envs\\datacamp\\lib\\site-packages\\keras\\backend\\tensorflow_backend.py:190: The name tf.global_variables is deprecated. Please use tf.compat.v1.global_variables instead.\n",
      "\n",
      "WARNING:tensorflow:From C:\\Users\\F279814\\AppData\\Local\\Continuum\\anaconda3\\envs\\datacamp\\lib\\site-packages\\keras\\backend\\tensorflow_backend.py:199: The name tf.is_variable_initialized is deprecated. Please use tf.compat.v1.is_variable_initialized instead.\n",
      "\n",
      "WARNING:tensorflow:From C:\\Users\\F279814\\AppData\\Local\\Continuum\\anaconda3\\envs\\datacamp\\lib\\site-packages\\keras\\backend\\tensorflow_backend.py:206: The name tf.variables_initializer is deprecated. Please use tf.compat.v1.variables_initializer instead.\n",
      "\n",
      "3430/3430 [==============================] - 0s 35us/step - loss: 71.6213\n",
      "Epoch 2/100\n",
      "3430/3430 [==============================] - 0s 1us/step - loss: 71.6203\n",
      "Epoch 3/100\n",
      "3430/3430 [==============================] - 0s 1us/step - loss: 71.6193\n",
      "Epoch 4/100\n",
      "3430/3430 [==============================] - 0s 1us/step - loss: 71.6184\n",
      "Epoch 5/100\n",
      "3430/3430 [==============================] - 0s 1us/step - loss: 71.6174\n",
      "Epoch 6/100\n",
      "3430/3430 [==============================] - 0s 1us/step - loss: 71.6164\n",
      "Epoch 7/100\n",
      "3430/3430 [==============================] - 0s 1us/step - loss: 71.6154\n",
      "Epoch 8/100\n",
      "3430/3430 [==============================] - 0s 1us/step - loss: 71.6144\n",
      "Epoch 9/100\n",
      "3430/3430 [==============================] - 0s 1us/step - loss: 71.6134\n",
      "Epoch 10/100\n",
      "3430/3430 [==============================] - 0s 1us/step - loss: 71.6124\n",
      "Epoch 11/100\n",
      "3430/3430 [==============================] - 0s 1us/step - loss: 71.6114\n",
      "Epoch 12/100\n",
      "3430/3430 [==============================] - 0s 1us/step - loss: 71.6104\n",
      "Epoch 13/100\n",
      "3430/3430 [==============================] - 0s 1us/step - loss: 71.6094\n",
      "Epoch 14/100\n",
      "3430/3430 [==============================] - 0s 1us/step - loss: 71.6083\n",
      "Epoch 15/100\n",
      "3430/3430 [==============================] - 0s 1us/step - loss: 71.6074\n",
      "Epoch 16/100\n",
      "3430/3430 [==============================] - 0s 1us/step - loss: 71.6064\n",
      "Epoch 17/100\n",
      "3430/3430 [==============================] - 0s 1us/step - loss: 71.6054\n",
      "Epoch 18/100\n",
      "3430/3430 [==============================] - 0s 1us/step - loss: 71.6044\n",
      "Epoch 19/100\n",
      "3430/3430 [==============================] - 0s 1us/step - loss: 71.6034\n",
      "Epoch 20/100\n",
      "3430/3430 [==============================] - 0s 1us/step - loss: 71.6024\n",
      "Epoch 21/100\n",
      "3430/3430 [==============================] - 0s 1us/step - loss: 71.6014\n",
      "Epoch 22/100\n",
      "3430/3430 [==============================] - 0s 1us/step - loss: 71.6004\n",
      "Epoch 23/100\n",
      "3430/3430 [==============================] - 0s 1us/step - loss: 71.5994\n",
      "Epoch 24/100\n",
      "3430/3430 [==============================] - 0s 0us/step - loss: 71.5984\n",
      "Epoch 25/100\n",
      "3430/3430 [==============================] - 0s 1us/step - loss: 71.5974\n",
      "Epoch 26/100\n",
      "3430/3430 [==============================] - 0s 1us/step - loss: 71.5964\n",
      "Epoch 27/100\n",
      "3430/3430 [==============================] - 0s 1us/step - loss: 71.5954\n",
      "Epoch 28/100\n",
      "3430/3430 [==============================] - 0s 1us/step - loss: 71.5943\n",
      "Epoch 29/100\n",
      "3430/3430 [==============================] - 0s 1us/step - loss: 71.5934\n",
      "Epoch 30/100\n",
      "3430/3430 [==============================] - 0s 1us/step - loss: 71.5924\n",
      "Epoch 31/100\n",
      "3430/3430 [==============================] - 0s 1us/step - loss: 71.5914\n",
      "Epoch 32/100\n",
      "3430/3430 [==============================] - 0s 1us/step - loss: 71.5904\n",
      "Epoch 33/100\n",
      "3430/3430 [==============================] - 0s 1us/step - loss: 71.5894\n",
      "Epoch 34/100\n",
      "3430/3430 [==============================] - 0s 1us/step - loss: 71.5884\n",
      "Epoch 35/100\n",
      "3430/3430 [==============================] - 0s 0us/step - loss: 71.5874\n",
      "Epoch 36/100\n",
      "3430/3430 [==============================] - 0s 1us/step - loss: 71.5864\n",
      "Epoch 37/100\n",
      "3430/3430 [==============================] - 0s 1us/step - loss: 71.5854\n",
      "Epoch 38/100\n",
      "3430/3430 [==============================] - 0s 1us/step - loss: 71.5844\n",
      "Epoch 39/100\n",
      "3430/3430 [==============================] - 0s 1us/step - loss: 71.5834\n",
      "Epoch 40/100\n",
      "3430/3430 [==============================] - 0s 1us/step - loss: 71.5824\n",
      "Epoch 41/100\n",
      "3430/3430 [==============================] - 0s 1us/step - loss: 71.5813\n",
      "Epoch 42/100\n",
      "3430/3430 [==============================] - 0s 1us/step - loss: 71.5804\n",
      "Epoch 43/100\n",
      "3430/3430 [==============================] - 0s 1us/step - loss: 71.5794\n",
      "Epoch 44/100\n",
      "3430/3430 [==============================] - 0s 1us/step - loss: 71.5784\n",
      "Epoch 45/100\n",
      "3430/3430 [==============================] - 0s 1us/step - loss: 71.5774\n",
      "Epoch 46/100\n",
      "3430/3430 [==============================] - 0s 1us/step - loss: 71.5764\n",
      "Epoch 47/100\n",
      "3430/3430 [==============================] - 0s 1us/step - loss: 71.5754\n",
      "Epoch 48/100\n",
      "3430/3430 [==============================] - 0s 1us/step - loss: 71.5744\n",
      "Epoch 49/100\n",
      "3430/3430 [==============================] - 0s 1us/step - loss: 71.5733\n",
      "Epoch 50/100\n",
      "3430/3430 [==============================] - 0s 1us/step - loss: 71.5724\n",
      "Epoch 51/100\n",
      "3430/3430 [==============================] - 0s 1us/step - loss: 71.5714\n",
      "Epoch 52/100\n",
      "3430/3430 [==============================] - 0s 1us/step - loss: 71.5704\n",
      "Epoch 53/100\n",
      "3430/3430 [==============================] - 0s 1us/step - loss: 71.5694\n",
      "Epoch 54/100\n",
      "3430/3430 [==============================] - 0s 1us/step - loss: 71.5684\n",
      "Epoch 55/100\n",
      "3430/3430 [==============================] - 0s 1us/step - loss: 71.5674\n",
      "Epoch 56/100\n",
      "3430/3430 [==============================] - 0s 1us/step - loss: 71.5664\n",
      "Epoch 57/100\n",
      "3430/3430 [==============================] - 0s 1us/step - loss: 71.5654\n",
      "Epoch 58/100\n",
      "3430/3430 [==============================] - 0s 1us/step - loss: 71.5644\n",
      "Epoch 59/100\n",
      "3430/3430 [==============================] - 0s 1us/step - loss: 71.5634\n",
      "Epoch 60/100\n",
      "3430/3430 [==============================] - 0s 1us/step - loss: 71.5623\n",
      "Epoch 61/100\n",
      "3430/3430 [==============================] - 0s 1us/step - loss: 71.5614\n",
      "Epoch 62/100\n",
      "3430/3430 [==============================] - 0s 1us/step - loss: 71.5603\n",
      "Epoch 63/100\n",
      "3430/3430 [==============================] - 0s 1us/step - loss: 71.5594\n",
      "Epoch 64/100\n",
      "3430/3430 [==============================] - 0s 1us/step - loss: 71.5583\n",
      "Epoch 65/100\n",
      "3430/3430 [==============================] - 0s 1us/step - loss: 71.5574\n",
      "Epoch 66/100\n",
      "3430/3430 [==============================] - 0s 1us/step - loss: 71.5564\n",
      "Epoch 67/100\n",
      "3430/3430 [==============================] - 0s 1us/step - loss: 71.5554\n",
      "Epoch 68/100\n",
      "3430/3430 [==============================] - 0s 1us/step - loss: 71.5543\n",
      "Epoch 69/100\n",
      "3430/3430 [==============================] - 0s 1us/step - loss: 71.5534\n",
      "Epoch 70/100\n",
      "3430/3430 [==============================] - 0s 0us/step - loss: 71.5524\n",
      "Epoch 71/100\n",
      "3430/3430 [==============================] - 0s 1us/step - loss: 71.5514\n",
      "Epoch 72/100\n",
      "3430/3430 [==============================] - 0s 1us/step - loss: 71.5504\n",
      "Epoch 73/100\n",
      "3430/3430 [==============================] - 0s 1us/step - loss: 71.5494\n",
      "Epoch 74/100\n",
      "3430/3430 [==============================] - 0s 1us/step - loss: 71.5483\n"
     ]
    },
    {
     "name": "stdout",
     "output_type": "stream",
     "text": [
      "Epoch 75/100\n",
      "3430/3430 [==============================] - 0s 0us/step - loss: 71.5474\n",
      "Epoch 76/100\n",
      "3430/3430 [==============================] - 0s 1us/step - loss: 71.5464\n",
      "Epoch 77/100\n",
      "3430/3430 [==============================] - 0s 1us/step - loss: 71.5453\n",
      "Epoch 78/100\n",
      "3430/3430 [==============================] - 0s 1us/step - loss: 71.5443\n",
      "Epoch 79/100\n",
      "3430/3430 [==============================] - 0s 1us/step - loss: 71.5434\n",
      "Epoch 80/100\n",
      "3430/3430 [==============================] - 0s 1us/step - loss: 71.5423\n",
      "Epoch 81/100\n",
      "3430/3430 [==============================] - 0s 1us/step - loss: 71.5414\n",
      "Epoch 82/100\n",
      "3430/3430 [==============================] - 0s 1us/step - loss: 71.5404\n",
      "Epoch 83/100\n",
      "3430/3430 [==============================] - 0s 1us/step - loss: 71.5394\n",
      "Epoch 84/100\n",
      "3430/3430 [==============================] - 0s 1us/step - loss: 71.5383\n",
      "Epoch 85/100\n",
      "3430/3430 [==============================] - 0s 1us/step - loss: 71.5373\n",
      "Epoch 86/100\n",
      "3430/3430 [==============================] - 0s 1us/step - loss: 71.5363\n",
      "Epoch 87/100\n",
      "3430/3430 [==============================] - 0s 1us/step - loss: 71.5353\n",
      "Epoch 88/100\n",
      "3430/3430 [==============================] - 0s 1us/step - loss: 71.5343\n",
      "Epoch 89/100\n",
      "3430/3430 [==============================] - 0s 1us/step - loss: 71.5333\n",
      "Epoch 90/100\n",
      "3430/3430 [==============================] - 0s 1us/step - loss: 71.5323\n",
      "Epoch 91/100\n",
      "3430/3430 [==============================] - 0s 1us/step - loss: 71.5313\n",
      "Epoch 92/100\n",
      "3430/3430 [==============================] - 0s 1us/step - loss: 71.5303\n",
      "Epoch 93/100\n",
      "3430/3430 [==============================] - 0s 1us/step - loss: 71.5293\n",
      "Epoch 94/100\n",
      "3430/3430 [==============================] - 0s 1us/step - loss: 71.5283\n",
      "Epoch 95/100\n",
      "3430/3430 [==============================] - 0s 1us/step - loss: 71.5273\n",
      "Epoch 96/100\n",
      "3430/3430 [==============================] - 0s 1us/step - loss: 71.5263\n",
      "Epoch 97/100\n",
      "3430/3430 [==============================] - 0s 1us/step - loss: 71.5253\n",
      "Epoch 98/100\n",
      "3430/3430 [==============================] - 0s 1us/step - loss: 71.5244\n",
      "Epoch 99/100\n",
      "3430/3430 [==============================] - 0s 1us/step - loss: 71.5233\n",
      "Epoch 100/100\n",
      "3430/3430 [==============================] - 0s 1us/step - loss: 71.5223\n"
     ]
    },
    {
     "data": {
      "text/plain": [
       "<keras.callbacks.History at 0x152928eb588>"
      ]
     },
     "execution_count": 6,
     "metadata": {},
     "output_type": "execute_result"
    }
   ],
   "source": [
    "# Fit the model\n",
    "model.fit(games_tourney_train[['seed_diff', 'pred']],\n",
    "  \t\t  games_tourney_train[['score_1', 'score_2']],\n",
    "  \t\t  verbose=True,\n",
    "  \t\t  epochs=100,\n",
    "  \t\t  batch_size=16384)"
   ]
  },
  {
   "cell_type": "markdown",
   "metadata": {},
   "source": [
    "## Inspect the model (I)\n",
    "Now that you've fit your model, let's take a look at it. You can use the .get_weights() method to inspect your model's weights.\n",
    "\n",
    "The input layer will have 4 weights: 2 for each input times 2 for each output.\n",
    "\n",
    "The output layer will have 2 weights, one for each output."
   ]
  },
  {
   "cell_type": "markdown",
   "metadata": {},
   "source": [
    "### code"
   ]
  },
  {
   "cell_type": "code",
   "execution_count": 7,
   "metadata": {
    "ExecuteTime": {
     "end_time": "2020-02-10T07:43:52.180800Z",
     "start_time": "2020-02-10T07:43:52.165492Z"
    }
   },
   "outputs": [
    {
     "name": "stdout",
     "output_type": "stream",
     "text": [
      "[array([[ 0.84995717, -0.46896636],\n",
      "       [-0.95621955, -0.67644256]], dtype=float32), array([0.09994087, 0.09994087], dtype=float32)]\n",
      "season        1.998074e+03\n",
      "team_1        5.556771e+03\n",
      "team_2        5.556771e+03\n",
      "home          0.000000e+00\n",
      "seed_diff     0.000000e+00\n",
      "score_diff    0.000000e+00\n",
      "score_1       7.162128e+01\n",
      "score_2       7.162128e+01\n",
      "won           5.000000e-01\n",
      "pred         -1.624447e-14\n",
      "dtype: float64\n"
     ]
    }
   ],
   "source": [
    "# Print the model's weights\n",
    "print(model.get_weights())\n",
    "\n",
    "# Print the column means of the training data\n",
    "print(games_tourney_train.mean())"
   ]
  },
  {
   "cell_type": "markdown",
   "metadata": {},
   "source": [
    "## Evaluate the model\n",
    "Now that you've fit your model and inspected it's weights to make sure it makes sense, evaluate it on the tournament test set to see how well it performs on new data."
   ]
  },
  {
   "cell_type": "markdown",
   "metadata": {},
   "source": [
    "### code"
   ]
  },
  {
   "cell_type": "code",
   "execution_count": 8,
   "metadata": {
    "ExecuteTime": {
     "end_time": "2020-02-10T07:45:34.774047Z",
     "start_time": "2020-02-10T07:45:34.742667Z"
    }
   },
   "outputs": [
    {
     "name": "stdout",
     "output_type": "stream",
     "text": [
      "68.9411046421943\n"
     ]
    }
   ],
   "source": [
    "# Evaluate the model on the tournament test data\n",
    "print(model.evaluate(games_tourney_test[['seed_diff', 'pred']],\n",
    "  \t\t  games_tourney_test[['score_1', 'score_2']], verbose=False))"
   ]
  },
  {
   "cell_type": "markdown",
   "metadata": {},
   "source": [
    "# Single model for classification and regression\n"
   ]
  },
  {
   "cell_type": "markdown",
   "metadata": {},
   "source": [
    "## Classification and regression in one model\n",
    "Now you will create a different kind of 2-output model. This time, you will predict the score difference, instead of both team's scores and then you will predict the probability that team 1 won the game. This is a pretty cool model: it is going to do both classification and regression!\n",
    "\n",
    "In this model, turn off the bias, or intercept for each layer. Your inputs (seed difference and predicted score difference) have a mean of very close to zero, and your outputs both have means that are close to zero, so your model shouldn't need the bias term to fit the data well."
   ]
  },
  {
   "cell_type": "markdown",
   "metadata": {},
   "source": [
    "### code"
   ]
  },
  {
   "cell_type": "code",
   "execution_count": 9,
   "metadata": {
    "ExecuteTime": {
     "end_time": "2020-02-10T07:56:09.590802Z",
     "start_time": "2020-02-10T07:56:09.562659Z"
    }
   },
   "outputs": [],
   "source": [
    "# Create an input layer with 2 columns\n",
    "input_tensor = Input(shape=(2,))\n",
    "\n",
    "# Create the first output\n",
    "output_tensor_1 = Dense(1, activation='linear', use_bias=False)(input_tensor)\n",
    "\n",
    "# Create the second output (use the first output as input here)\n",
    "output_tensor_2 = Dense(1, activation='sigmoid', use_bias=False)(output_tensor_1)\n",
    "\n",
    "# Create a model with 2 outputs\n",
    "model = Model(input_tensor, [output_tensor_1, output_tensor_2])"
   ]
  },
  {
   "cell_type": "markdown",
   "metadata": {},
   "source": [
    "## Compile and fit the model\n",
    "Now that you have a model with 2 outputs, compile it with 2 loss functions: mean absolute error (MAE) for 'score_diff' and binary cross-entropy (also known as logloss) for 'won'. Then fit the model with 'seed_diff' and 'pred' as inputs. For outputs, predict 'score_diff' and 'won'.\n",
    "\n",
    "This model can use the scores of the games to make sure that close games (small score diff) have lower win probabilities than blowouts (large score diff).\n",
    "\n",
    "The regression problem is easier than the classification problem because MAE punishes the model less for a loss due to random chance. For example, if score_diff is -1 and won is 0, that means team_1 had some bad luck and lost by a single free throw. The data for the easy problem helps the model find a solution to the hard problem."
   ]
  },
  {
   "cell_type": "markdown",
   "metadata": {},
   "source": [
    "### code"
   ]
  },
  {
   "cell_type": "code",
   "execution_count": 14,
   "metadata": {
    "ExecuteTime": {
     "end_time": "2020-02-10T08:03:05.276003Z",
     "start_time": "2020-02-10T08:03:04.703162Z"
    }
   },
   "outputs": [
    {
     "name": "stdout",
     "output_type": "stream",
     "text": [
      "Epoch 1/10\n",
      "3430/3430 [==============================] - 0s 70us/step - loss: 12.2411 - dense_4_loss: 10.5424 - dense_5_loss: 1.6987\n",
      "Epoch 2/10\n",
      "3430/3430 [==============================] - 0s 1us/step - loss: 12.2190 - dense_4_loss: 10.5197 - dense_5_loss: 1.6993\n",
      "Epoch 3/10\n",
      "3430/3430 [==============================] - 0s 1us/step - loss: 12.1968 - dense_4_loss: 10.5024 - dense_5_loss: 1.6943\n",
      "Epoch 4/10\n",
      "3430/3430 [==============================] - 0s 1us/step - loss: 12.1745 - dense_4_loss: 10.4868 - dense_5_loss: 1.6877\n",
      "Epoch 5/10\n",
      "3430/3430 [==============================] - 0s 1us/step - loss: 12.1523 - dense_4_loss: 10.4702 - dense_5_loss: 1.6821\n",
      "Epoch 6/10\n",
      "3430/3430 [==============================] - 0s 1us/step - loss: 12.1300 - dense_4_loss: 10.4521 - dense_5_loss: 1.6779\n",
      "Epoch 7/10\n",
      "3430/3430 [==============================] - 0s 1us/step - loss: 12.1077 - dense_4_loss: 10.4323 - dense_5_loss: 1.6754\n",
      "Epoch 8/10\n",
      "3430/3430 [==============================] - 0s 1us/step - loss: 12.0853 - dense_4_loss: 10.4107 - dense_5_loss: 1.6746\n",
      "Epoch 9/10\n",
      "3430/3430 [==============================] - 0s 1us/step - loss: 12.0627 - dense_4_loss: 10.3873 - dense_5_loss: 1.6754\n",
      "Epoch 10/10\n",
      "3430/3430 [==============================] - 0s 1us/step - loss: 12.0400 - dense_4_loss: 10.3624 - dense_5_loss: 1.6776\n"
     ]
    },
    {
     "data": {
      "text/plain": [
       "<keras.callbacks.History at 0x15298029288>"
      ]
     },
     "execution_count": 14,
     "metadata": {},
     "output_type": "execute_result"
    }
   ],
   "source": [
    "# Import the Adam optimizer\n",
    "from keras.optimizers import Adam\n",
    "\n",
    "# Compile the model with 2 losses and the Adam optimzer with a higher learning rate\n",
    "model.compile(loss=['mean_absolute_error', 'binary_crossentropy'], optimizer=Adam(lr=0.01))\n",
    "\n",
    "# Fit the model to the tournament training data, with 2 inputs and 2 outputs\n",
    "model.fit(games_tourney_train[['seed_diff', 'pred']],\n",
    "          [games_tourney_train[['score_diff']], games_tourney_train[['won']]],\n",
    "          epochs=10,\n",
    "          verbose=True,\n",
    "          batch_size=16384)"
   ]
  },
  {
   "cell_type": "markdown",
   "metadata": {},
   "source": [
    "## Inspect the model (II)\n",
    "Now you should take a look at the weights for this model. In particular, note the last weight of the model. This weight converts the predicted score difference to a predicted win probability. If you multiply the predicted score difference by the last weight of the model and then apply the sigmoid function, you get the win probability of the game."
   ]
  },
  {
   "cell_type": "markdown",
   "metadata": {},
   "source": [
    "### code"
   ]
  },
  {
   "cell_type": "code",
   "execution_count": 16,
   "metadata": {
    "ExecuteTime": {
     "end_time": "2020-02-10T08:04:12.040041Z",
     "start_time": "2020-02-10T08:04:12.032020Z"
    }
   },
   "outputs": [
    {
     "name": "stdout",
     "output_type": "stream",
     "text": [
      "[array([[0.3627698 ],\n",
      "       [0.03007342]], dtype=float32), array([[-0.6954728]], dtype=float32)]\n",
      "season        1.998074e+03\n",
      "team_1        5.556771e+03\n",
      "team_2        5.556771e+03\n",
      "home          0.000000e+00\n",
      "seed_diff     0.000000e+00\n",
      "score_diff    0.000000e+00\n",
      "score_1       7.162128e+01\n",
      "score_2       7.162128e+01\n",
      "won           5.000000e-01\n",
      "pred         -1.624447e-14\n",
      "dtype: float64\n"
     ]
    }
   ],
   "source": [
    "# Print the model weights\n",
    "print(model.get_weights())\n",
    "\n",
    "# Print the training data means\n",
    "print(games_tourney_train.mean())"
   ]
  },
  {
   "cell_type": "code",
   "execution_count": 17,
   "metadata": {
    "ExecuteTime": {
     "end_time": "2020-02-10T08:05:12.244659Z",
     "start_time": "2020-02-10T08:05:12.239599Z"
    }
   },
   "outputs": [
    {
     "name": "stdout",
     "output_type": "stream",
     "text": [
      "0.5349429451582145\n",
      "0.8021838885585818\n"
     ]
    }
   ],
   "source": [
    "# Import the sigmoid function from scipy\n",
    "from scipy.special import expit as sigmoid\n",
    "\n",
    "# Weight from the model\n",
    "weight = 0.14\n",
    "\n",
    "# Print the approximate win probability predicted close game\n",
    "print(sigmoid(1 * weight))\n",
    "\n",
    "# Print the approximate win probability predicted blowout game\n",
    "print(sigmoid(10 * weight))"
   ]
  },
  {
   "attachments": {
    "image.png": {
     "image/png": "[encoded data removed]"
    }
   },
   "cell_type": "markdown",
   "metadata": {},
   "source": [
    "![image.png](attachment:image.png)"
   ]
  },
  {
   "cell_type": "markdown",
   "metadata": {},
   "source": [
    "## Evaluate on new data with two metrics\n",
    "Now that you've fit your model and inspected its weights to make sure they make sense, evaluate your model on the tournament test set to see how well it does on new data.\n",
    "\n",
    "Note that in this case, Keras will return 3 numbers: the first number will be the sum of both the loss functions, and then the next 2 numbers will be the loss functions you used when defining the model.\n",
    "\n",
    "Ready to take your deep learning to the next level? Check out \"Convolutional Neural Networks for Image Processing\"."
   ]
  },
  {
   "cell_type": "markdown",
   "metadata": {},
   "source": [
    "### code"
   ]
  },
  {
   "cell_type": "code",
   "execution_count": 18,
   "metadata": {
    "ExecuteTime": {
     "end_time": "2020-02-10T08:09:18.180426Z",
     "start_time": "2020-02-10T08:09:18.081929Z"
    }
   },
   "outputs": [
    {
     "name": "stdout",
     "output_type": "stream",
     "text": [
      "[11.585010272353443, 9.993942241763595, 1.5910679742471496]\n"
     ]
    }
   ],
   "source": [
    "# Evaluate the model on new data\n",
    "print(model.evaluate(games_tourney_test[['seed_diff', 'pred']],\n",
    "          [games_tourney_test[['score_diff']], games_tourney_test[['won']]], verbose=False))"
   ]
  },
  {
   "cell_type": "code",
   "execution_count": null,
   "metadata": {},
   "outputs": [],
   "source": []
  }
 ],
 "metadata": {
  "kernelspec": {
   "display_name": "Python [conda env:datacamp] *",
   "language": "python",
   "name": "conda-env-datacamp-py"
  },
  "language_info": {
   "codemirror_mode": {
    "name": "ipython",
    "version": 3
   },
   "file_extension": ".py",
   "mimetype": "text/x-python",
   "name": "python",
   "nbconvert_exporter": "python",
   "pygments_lexer": "ipython3",
   "version": "3.7.5"
  },
  "toc": {
   "base_numbering": 1,
   "nav_menu": {},
   "number_sections": true,
   "sideBar": true,
   "skip_h1_title": false,
   "title_cell": "Table of Contents",
   "title_sidebar": "Contents",
   "toc_cell": false,
   "toc_position": {},
   "toc_section_display": true,
   "toc_window_display": true
  },
  "varInspector": {
   "cols": {
    "lenName": 16,
    "lenType": 16,
    "lenVar": 40
   },
   "kernels_config": {
    "python": {
     "delete_cmd_postfix": "",
     "delete_cmd_prefix": "del ",
     "library": "var_list.py",
     "varRefreshCmd": "print(var_dic_list())"
    },
    "r": {
     "delete_cmd_postfix": ") ",
     "delete_cmd_prefix": "rm(",
     "library": "var_list.r",
     "varRefreshCmd": "cat(var_dic_list()) "
    }
   },
   "types_to_exclude": [
    "module",
    "function",
    "builtin_function_or_method",
    "instance",
    "_Feature"
   ],
   "window_display": false
  }
 },
 "nbformat": 4,
 "nbformat_minor": 4
}
