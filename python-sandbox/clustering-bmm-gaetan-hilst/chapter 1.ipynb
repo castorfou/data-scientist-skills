{
 "cells": [
  {
   "cell_type": "code",
   "execution_count": 63,
   "metadata": {
    "ExecuteTime": {
     "end_time": "2020-02-05T16:13:07.952076Z",
     "start_time": "2020-02-05T16:13:07.914867Z"
    }
   },
   "outputs": [
    {
     "data": {
      "text/html": [
       "<div>\n",
       "<style scoped>\n",
       "    .dataframe tbody tr th:only-of-type {\n",
       "        vertical-align: middle;\n",
       "    }\n",
       "\n",
       "    .dataframe tbody tr th {\n",
       "        vertical-align: top;\n",
       "    }\n",
       "\n",
       "    .dataframe thead th {\n",
       "        text-align: right;\n",
       "    }\n",
       "</style>\n",
       "<table border=\"1\" class=\"dataframe\">\n",
       "  <thead>\n",
       "    <tr style=\"text-align: right;\">\n",
       "      <th></th>\n",
       "      <th>FAMILLE</th>\n",
       "      <th>FILIERE</th>\n",
       "      <th>POSTE</th>\n",
       "      <th>FILIERE PMU</th>\n",
       "      <th>Cond TH</th>\n",
       "      <th>Masse V</th>\n",
       "      <th>Chaleur M</th>\n",
       "      <th>K (Pa.s)</th>\n",
       "      <th>n</th>\n",
       "      <th>Alpha</th>\n",
       "      <th>T alpha (K)</th>\n",
       "    </tr>\n",
       "  </thead>\n",
       "  <tbody>\n",
       "    <tr>\n",
       "      <th>0</th>\n",
       "      <td>1700</td>\n",
       "      <td>PL</td>\n",
       "      <td>GI</td>\n",
       "      <td>Mixes_GI</td>\n",
       "      <td>0.220</td>\n",
       "      <td>1119</td>\n",
       "      <td>1599</td>\n",
       "      <td>232830.000000</td>\n",
       "      <td>0.184805</td>\n",
       "      <td>1218.810000</td>\n",
       "      <td>330</td>\n",
       "    </tr>\n",
       "    <tr>\n",
       "      <th>1</th>\n",
       "      <td>12219</td>\n",
       "      <td>PL</td>\n",
       "      <td>KM</td>\n",
       "      <td>Mixes_KMSC_PL</td>\n",
       "      <td>0.253</td>\n",
       "      <td>1096</td>\n",
       "      <td>1472</td>\n",
       "      <td>190213.000000</td>\n",
       "      <td>0.170976</td>\n",
       "      <td>775.992000</td>\n",
       "      <td>330</td>\n",
       "    </tr>\n",
       "    <tr>\n",
       "      <th>2</th>\n",
       "      <td>15365</td>\n",
       "      <td>PL</td>\n",
       "      <td>PS</td>\n",
       "      <td>Mixes_Internal</td>\n",
       "      <td>0.231</td>\n",
       "      <td>1062</td>\n",
       "      <td>1520</td>\n",
       "      <td>197370.235368</td>\n",
       "      <td>0.162797</td>\n",
       "      <td>1153.704386</td>\n",
       "      <td>330</td>\n",
       "    </tr>\n",
       "    <tr>\n",
       "      <th>3</th>\n",
       "      <td>16269</td>\n",
       "      <td>PL</td>\n",
       "      <td>BT</td>\n",
       "      <td>Mixes_Internal</td>\n",
       "      <td>0.240</td>\n",
       "      <td>1091</td>\n",
       "      <td>1500</td>\n",
       "      <td>231399.514903</td>\n",
       "      <td>0.172000</td>\n",
       "      <td>1061.235435</td>\n",
       "      <td>330</td>\n",
       "    </tr>\n",
       "    <tr>\n",
       "      <th>4</th>\n",
       "      <td>16712</td>\n",
       "      <td>PL</td>\n",
       "      <td>KM</td>\n",
       "      <td>Mixes_KMSC_PL</td>\n",
       "      <td>0.258</td>\n",
       "      <td>1097</td>\n",
       "      <td>1477</td>\n",
       "      <td>320671.282949</td>\n",
       "      <td>0.187219</td>\n",
       "      <td>2043.111236</td>\n",
       "      <td>330</td>\n",
       "    </tr>\n",
       "    <tr>\n",
       "      <th>...</th>\n",
       "      <td>...</td>\n",
       "      <td>...</td>\n",
       "      <td>...</td>\n",
       "      <td>...</td>\n",
       "      <td>...</td>\n",
       "      <td>...</td>\n",
       "      <td>...</td>\n",
       "      <td>...</td>\n",
       "      <td>...</td>\n",
       "      <td>...</td>\n",
       "      <td>...</td>\n",
       "    </tr>\n",
       "    <tr>\n",
       "      <th>64</th>\n",
       "      <td>26043</td>\n",
       "      <td>TO</td>\n",
       "      <td>KM</td>\n",
       "      <td>Mixes_KMSC_TC</td>\n",
       "      <td>0.254</td>\n",
       "      <td>1201</td>\n",
       "      <td>1511</td>\n",
       "      <td>200224.000000</td>\n",
       "      <td>0.148500</td>\n",
       "      <td>517.278000</td>\n",
       "      <td>330</td>\n",
       "    </tr>\n",
       "    <tr>\n",
       "      <th>65</th>\n",
       "      <td>39762</td>\n",
       "      <td>TO</td>\n",
       "      <td>KM</td>\n",
       "      <td>Mixes_KMSC_TC</td>\n",
       "      <td>0.254</td>\n",
       "      <td>1162</td>\n",
       "      <td>1551</td>\n",
       "      <td>334000.000000</td>\n",
       "      <td>0.196000</td>\n",
       "      <td>1457.000000</td>\n",
       "      <td>330</td>\n",
       "    </tr>\n",
       "    <tr>\n",
       "      <th>66</th>\n",
       "      <td>89244</td>\n",
       "      <td>PL</td>\n",
       "      <td>KM</td>\n",
       "      <td>Mixes_KMSC_PL</td>\n",
       "      <td>0.228</td>\n",
       "      <td>1150</td>\n",
       "      <td>1540</td>\n",
       "      <td>306594.000000</td>\n",
       "      <td>0.179913</td>\n",
       "      <td>1038.590000</td>\n",
       "      <td>330</td>\n",
       "    </tr>\n",
       "    <tr>\n",
       "      <th>67</th>\n",
       "      <td>93335</td>\n",
       "      <td>PL</td>\n",
       "      <td>KM</td>\n",
       "      <td>Mixes_KMSC_PL</td>\n",
       "      <td>0.232</td>\n",
       "      <td>1186</td>\n",
       "      <td>1548</td>\n",
       "      <td>273713.213317</td>\n",
       "      <td>0.128641</td>\n",
       "      <td>1237.014630</td>\n",
       "      <td>330</td>\n",
       "    </tr>\n",
       "    <tr>\n",
       "      <th>68</th>\n",
       "      <td>93349</td>\n",
       "      <td>PL</td>\n",
       "      <td>KM</td>\n",
       "      <td>Mixes_KMSC_PL</td>\n",
       "      <td>0.224</td>\n",
       "      <td>1137</td>\n",
       "      <td>1548</td>\n",
       "      <td>505326.303361</td>\n",
       "      <td>0.080555</td>\n",
       "      <td>2461.494318</td>\n",
       "      <td>330</td>\n",
       "    </tr>\n",
       "  </tbody>\n",
       "</table>\n",
       "<p>69 rows × 11 columns</p>\n",
       "</div>"
      ],
      "text/plain": [
       "    FAMILLE FILIERE POSTE     FILIERE PMU  Cond TH  Masse V  Chaleur M  \\\n",
       "0      1700      PL    GI        Mixes_GI    0.220     1119       1599   \n",
       "1     12219      PL    KM   Mixes_KMSC_PL    0.253     1096       1472   \n",
       "2     15365      PL    PS  Mixes_Internal    0.231     1062       1520   \n",
       "3     16269      PL    BT  Mixes_Internal    0.240     1091       1500   \n",
       "4     16712      PL    KM   Mixes_KMSC_PL    0.258     1097       1477   \n",
       "..      ...     ...   ...             ...      ...      ...        ...   \n",
       "64    26043      TO    KM   Mixes_KMSC_TC    0.254     1201       1511   \n",
       "65    39762      TO    KM   Mixes_KMSC_TC    0.254     1162       1551   \n",
       "66    89244      PL    KM   Mixes_KMSC_PL    0.228     1150       1540   \n",
       "67    93335      PL    KM   Mixes_KMSC_PL    0.232     1186       1548   \n",
       "68    93349      PL    KM   Mixes_KMSC_PL    0.224     1137       1548   \n",
       "\n",
       "         K (Pa.s)         n        Alpha  T alpha (K)  \n",
       "0   232830.000000  0.184805  1218.810000          330  \n",
       "1   190213.000000  0.170976   775.992000          330  \n",
       "2   197370.235368  0.162797  1153.704386          330  \n",
       "3   231399.514903  0.172000  1061.235435          330  \n",
       "4   320671.282949  0.187219  2043.111236          330  \n",
       "..            ...       ...          ...          ...  \n",
       "64  200224.000000  0.148500   517.278000          330  \n",
       "65  334000.000000  0.196000  1457.000000          330  \n",
       "66  306594.000000  0.179913  1038.590000          330  \n",
       "67  273713.213317  0.128641  1237.014630          330  \n",
       "68  505326.303361  0.080555  2461.494318          330  \n",
       "\n",
       "[69 rows x 11 columns]"
      ]
     },
     "execution_count": 63,
     "metadata": {},
     "output_type": "execute_result"
    }
   ],
   "source": [
    "#chargement du dataset\n",
    "import pandas as pd\n",
    "\n",
    "dataset = pd.read_excel('Clustering BMM.xlsx')\n",
    "\n",
    "colonnes_violettes = ['Cond TH', 'Masse V', 'Chaleur M', 'K (Pa.s)','n','Alpha','T alpha (K)']\n",
    "dataset\n"
   ]
  },
  {
   "cell_type": "markdown",
   "metadata": {},
   "source": [
    "# Unsupervised learning"
   ]
  },
  {
   "cell_type": "markdown",
   "metadata": {},
   "source": [
    "## k-means clustering with scikit-learn"
   ]
  },
  {
   "cell_type": "code",
   "execution_count": 64,
   "metadata": {
    "ExecuteTime": {
     "end_time": "2020-02-05T16:13:07.987173Z",
     "start_time": "2020-02-05T16:13:07.954116Z"
    }
   },
   "outputs": [
    {
     "data": {
      "text/plain": [
       "KMeans(algorithm='auto', copy_x=True, init='k-means++', max_iter=300,\n",
       "       n_clusters=3, n_init=10, n_jobs=None, precompute_distances='auto',\n",
       "       random_state=None, tol=0.0001, verbose=0)"
      ]
     },
     "execution_count": 64,
     "metadata": {},
     "output_type": "execute_result"
    }
   ],
   "source": [
    "from sklearn.cluster import KMeans\n",
    "model = KMeans(n_clusters=3)\n",
    "model.fit(dataset[colonnes_violettes])"
   ]
  },
  {
   "cell_type": "code",
   "execution_count": 65,
   "metadata": {
    "ExecuteTime": {
     "end_time": "2020-02-05T16:13:07.998203Z",
     "start_time": "2020-02-05T16:13:07.990218Z"
    }
   },
   "outputs": [],
   "source": [
    "dataset['labels'] = model.predict(dataset[colonnes_violettes])\n"
   ]
  },
  {
   "cell_type": "markdown",
   "metadata": {},
   "source": [
    "## Scatter plots"
   ]
  },
  {
   "cell_type": "code",
   "execution_count": 66,
   "metadata": {
    "ExecuteTime": {
     "end_time": "2020-02-05T16:13:08.144189Z",
     "start_time": "2020-02-05T16:13:08.001212Z"
    }
   },
   "outputs": [
    {
     "data": {
      "image/png": "[encoded data removed]",
      "text/plain": [
       "<Figure size 432x288 with 1 Axes>"
      ]
     },
     "metadata": {
      "needs_background": "light"
     },
     "output_type": "display_data"
    }
   ],
   "source": [
    "import matplotlib.pyplot as plt\n",
    "xs = dataset[colonnes_violettes[0]]\n",
    "ys = dataset[colonnes_violettes[3]]\n",
    "plt.scatter(xs, ys, c=dataset['labels'], alpha=0.5)\n",
    "centroids = model.cluster_centers_\n",
    "centroids_x = centroids[:,0]\n",
    "centroids_y = centroids[:,1]\n",
    "\n",
    "plt.scatter(centroids_x, centroids_y, marker='D', s=50)\n",
    "plt.show()\n"
   ]
  },
  {
   "cell_type": "code",
   "execution_count": 67,
   "metadata": {
    "ExecuteTime": {
     "end_time": "2020-02-05T16:13:08.151173Z",
     "start_time": "2020-02-05T16:13:08.146161Z"
    }
   },
   "outputs": [
    {
     "data": {
      "text/plain": [
       "array([[2.59113636e-01, 1.14563636e+03, 1.49029545e+03, 2.02926371e+05,\n",
       "        1.70542978e-01, 7.82581561e+02, 3.30000000e+02],\n",
       "       [2.67285714e-01, 1.12257143e+03, 1.47671429e+03, 5.04890017e+05,\n",
       "        1.46876071e-01, 1.88229169e+03, 3.30000000e+02],\n",
       "       [2.73777778e-01, 1.15277778e+03, 1.49188889e+03, 3.32753385e+05,\n",
       "        1.72400666e-01, 1.32671495e+03, 3.30000000e+02]])"
      ]
     },
     "execution_count": 67,
     "metadata": {},
     "output_type": "execute_result"
    }
   ],
   "source": [
    "centroids"
   ]
  },
  {
   "cell_type": "markdown",
   "metadata": {},
   "source": [
    "## Cross tabulation with pandas"
   ]
  },
  {
   "cell_type": "code",
   "execution_count": 68,
   "metadata": {
    "ExecuteTime": {
     "end_time": "2020-02-05T16:13:08.184208Z",
     "start_time": "2020-02-05T16:13:08.153215Z"
    }
   },
   "outputs": [
    {
     "name": "stdout",
     "output_type": "stream",
     "text": [
      "labels    0  1  2\n",
      "FILIERE          \n",
      "2R        3  0  0\n",
      "AG        3  0  3\n",
      "GC        3  0  1\n",
      "PL       17  6  8\n",
      "TO       18  1  6\n"
     ]
    }
   ],
   "source": [
    "ct = pd.crosstab(dataset['FILIERE'], dataset['labels'])\n",
    "print(ct)"
   ]
  },
  {
   "cell_type": "code",
   "execution_count": 69,
   "metadata": {
    "ExecuteTime": {
     "end_time": "2020-02-05T16:13:08.207269Z",
     "start_time": "2020-02-05T16:13:08.186215Z"
    }
   },
   "outputs": [
    {
     "name": "stdout",
     "output_type": "stream",
     "text": [
      "labels   0  1   2\n",
      "POSTE            \n",
      "BJ       1  0   0\n",
      "BT       3  0   0\n",
      "CJK      1  0   0\n",
      "FE       2  0   0\n",
      "GI       1  0   0\n",
      "GSK      1  0   0\n",
      "KM      18  6  17\n",
      "NC       1  0   0\n",
      "NS       6  0   0\n",
      "NSF      1  0   0\n",
      "PS       2  0   0\n",
      "PT       1  1   1\n",
      "RIC      1  0   0\n",
      "RT/HT    1  0   0\n",
      "SC/KM1   4  0   0\n"
     ]
    }
   ],
   "source": [
    "ct = pd.crosstab(dataset['POSTE'], dataset['labels'])\n",
    "print(ct)"
   ]
  },
  {
   "cell_type": "code",
   "execution_count": 70,
   "metadata": {
    "ExecuteTime": {
     "end_time": "2020-02-05T16:13:08.231334Z",
     "start_time": "2020-02-05T16:13:08.211281Z"
    }
   },
   "outputs": [
    {
     "name": "stdout",
     "output_type": "stream",
     "text": [
      "labels                      0  1  2\n",
      "FILIERE PMU                        \n",
      "Mixes_FE_PT_CJK             5  1  1\n",
      "Mixes_GI                    1  0  0\n",
      "Mixes_Internal              7  0  0\n",
      "Mixes_KMSC_2R_AG_AV_GC      5  0  3\n",
      "Mixes_KMSC_PL               6  6  8\n",
      "Mixes_KMSC_TC              12  0  6\n",
      "Mixes_MetallicCalendering   7  0  0\n",
      "Mixes_TextileCalendering    1  0  0\n"
     ]
    }
   ],
   "source": [
    "ct = pd.crosstab(dataset['FILIERE PMU'], dataset['labels'])\n",
    "print(ct)"
   ]
  },
  {
   "cell_type": "markdown",
   "metadata": {},
   "source": [
    "## Measuring cluster quality - cluster 4 semble etre une bonne valeur"
   ]
  },
  {
   "cell_type": "code",
   "execution_count": 71,
   "metadata": {
    "ExecuteTime": {
     "end_time": "2020-02-05T16:13:08.825634Z",
     "start_time": "2020-02-05T16:13:08.233339Z"
    }
   },
   "outputs": [
    {
     "data": {
      "image/png": "[encoded data removed]",
      "text/plain": [
       "<Figure size 432x288 with 1 Axes>"
      ]
     },
     "metadata": {
      "needs_background": "light"
     },
     "output_type": "display_data"
    }
   ],
   "source": [
    "from sklearn.cluster import KMeans\n",
    "\n",
    "inertia=[]\n",
    "ks= range(1,15)\n",
    "for k in ks:\n",
    "    model = KMeans(n_clusters=k)\n",
    "    model.fit(dataset[colonnes_violettes])\n",
    "    inertia.append(model.inertia_)\n",
    "\n",
    "plt.plot(ks, inertia, '-o')\n",
    "plt.xlabel('number of clusers, k')\n",
    "plt.ylabel('inertia')\n",
    "plt.xticks(ks)\n",
    "plt.show()"
   ]
  },
  {
   "cell_type": "markdown",
   "metadata": {},
   "source": [
    "# Transforming features for better clusterings"
   ]
  },
  {
   "cell_type": "code",
   "execution_count": 72,
   "metadata": {
    "ExecuteTime": {
     "end_time": "2020-02-05T16:13:09.408557Z",
     "start_time": "2020-02-05T16:13:08.827973Z"
    }
   },
   "outputs": [
    {
     "data": {
      "image/png": "[encoded data removed]",
      "text/plain": [
       "<Figure size 432x288 with 1 Axes>"
      ]
     },
     "metadata": {
      "needs_background": "light"
     },
     "output_type": "display_data"
    }
   ],
   "source": [
    "from sklearn.preprocessing import StandardScaler\n",
    "scaler = StandardScaler()\n",
    "scaler.fit(dataset[colonnes_violettes])\n",
    "dataset_scaled = scaler.transform(dataset[colonnes_violettes])\n",
    "\n",
    "inertia=[]\n",
    "ks= range(1,15)\n",
    "for k in ks:\n",
    "    model = KMeans(n_clusters=k)\n",
    "    model.fit(dataset_scaled)\n",
    "    inertia.append(model.inertia_)\n",
    "\n",
    "plt.plot(ks, inertia, '-o')\n",
    "plt.xlabel('number of clusers, k')\n",
    "plt.ylabel('inertia')\n",
    "plt.xticks(ks)\n",
    "plt.show()"
   ]
  },
  {
   "cell_type": "code",
   "execution_count": 73,
   "metadata": {
    "ExecuteTime": {
     "end_time": "2020-02-05T16:13:09.454830Z",
     "start_time": "2020-02-05T16:13:09.410966Z"
    }
   },
   "outputs": [],
   "source": [
    "kmeans = KMeans(n_clusters=6)\n",
    "from sklearn.pipeline import make_pipeline\n",
    "pipeline = make_pipeline(scaler, kmeans)\n",
    "pipeline.fit(dataset[colonnes_violettes])\n",
    "labels = pipeline.predict(dataset[colonnes_violettes])\n"
   ]
  },
  {
   "cell_type": "code",
   "execution_count": 74,
   "metadata": {
    "ExecuteTime": {
     "end_time": "2020-02-05T16:13:09.461849Z",
     "start_time": "2020-02-05T16:13:09.456836Z"
    }
   },
   "outputs": [
    {
     "data": {
      "text/plain": [
       "array([4, 0, 4, 4, 2, 1, 3, 0, 0, 3, 3, 1, 3, 4, 2, 4, 2, 0, 5, 0, 0, 3,\n",
       "       0, 4, 1, 0, 5, 4, 3, 0, 0, 4, 1, 3, 3, 4, 0, 5, 5, 5, 1, 1, 1, 5,\n",
       "       2, 0, 1, 1, 1, 1, 3, 2, 3, 5, 4, 2, 1, 1, 1, 2, 3, 1, 1, 3, 1, 1,\n",
       "       4, 1, 2])"
      ]
     },
     "execution_count": 74,
     "metadata": {},
     "output_type": "execute_result"
    }
   ],
   "source": [
    "labels"
   ]
  },
  {
   "cell_type": "code",
   "execution_count": 75,
   "metadata": {
    "ExecuteTime": {
     "end_time": "2020-02-05T16:13:09.469874Z",
     "start_time": "2020-02-05T16:13:09.463855Z"
    }
   },
   "outputs": [
    {
     "data": {
      "text/plain": [
       "140.70612505083844"
      ]
     },
     "execution_count": 75,
     "metadata": {},
     "output_type": "execute_result"
    }
   ],
   "source": [
    "kmeans.inertia_"
   ]
  },
  {
   "cell_type": "code",
   "execution_count": 76,
   "metadata": {
    "ExecuteTime": {
     "end_time": "2020-02-05T16:13:09.535102Z",
     "start_time": "2020-02-05T16:13:09.471877Z"
    }
   },
   "outputs": [
    {
     "name": "stdout",
     "output_type": "stream",
     "text": [
      "filiere  2R  AG  GC  PL  TO\n",
      "labels                     \n",
      "0         0   3   1   5   3\n",
      "1         3   0   2   2  12\n",
      "2         0   0   0   8   0\n",
      "3         0   0   0   4   8\n",
      "4         0   0   0  10   1\n",
      "5         0   3   1   2   1\n",
      "poste   BJ  BT  CJK  FE  GI  GSK  KM  NC  NS  NSF  PS  PT  RIC  RT/HT  SC/KM1\n",
      "labels                                                                       \n",
      "0        0   0    1   2   0    1   4   0   1    0   1   1    1      0       0\n",
      "1        0   0    0   0   0    0  17   0   1    0   0   0    0      0       1\n",
      "2        0   0    0   0   0    0   8   0   0    0   0   0    0      0       0\n",
      "3        1   0    0   0   0    0   4   1   4    1   0   0    0      1       0\n",
      "4        0   3    0   0   1    0   3   0   0    0   1   0    0      0       3\n",
      "5        0   0    0   0   0    0   5   0   0    0   0   2    0      0       0\n",
      "filiere_pmu  Mixes_FE_PT_CJK  Mixes_GI  Mixes_Internal  \\\n",
      "labels                                                   \n",
      "0                          5         0               1   \n",
      "1                          0         0               0   \n",
      "2                          0         0               0   \n",
      "3                          0         0               2   \n",
      "4                          0         1               4   \n",
      "5                          2         0               0   \n",
      "\n",
      "filiere_pmu  Mixes_KMSC_2R_AG_AV_GC  Mixes_KMSC_PL  Mixes_KMSC_TC  \\\n",
      "labels                                                              \n",
      "0                                 0              4              1   \n",
      "1                                 5              1             12   \n",
      "2                                 0              8              0   \n",
      "3                                 0              0              4   \n",
      "4                                 0              5              1   \n",
      "5                                 3              2              0   \n",
      "\n",
      "filiere_pmu  Mixes_MetallicCalendering  Mixes_TextileCalendering  \n",
      "labels                                                            \n",
      "0                                    1                         0  \n",
      "1                                    1                         0  \n",
      "2                                    0                         0  \n",
      "3                                    5                         1  \n",
      "4                                    0                         0  \n",
      "5                                    0                         0  \n"
     ]
    },
    {
     "data": {
      "text/html": [
       "<div>\n",
       "<style scoped>\n",
       "    .dataframe tbody tr th:only-of-type {\n",
       "        vertical-align: middle;\n",
       "    }\n",
       "\n",
       "    .dataframe tbody tr th {\n",
       "        vertical-align: top;\n",
       "    }\n",
       "\n",
       "    .dataframe thead th {\n",
       "        text-align: right;\n",
       "    }\n",
       "</style>\n",
       "<table border=\"1\" class=\"dataframe\">\n",
       "  <thead>\n",
       "    <tr style=\"text-align: right;\">\n",
       "      <th>filiere_pmu</th>\n",
       "      <th>Mixes_FE_PT_CJK</th>\n",
       "      <th>Mixes_GI</th>\n",
       "      <th>Mixes_Internal</th>\n",
       "      <th>Mixes_KMSC_2R_AG_AV_GC</th>\n",
       "      <th>Mixes_KMSC_PL</th>\n",
       "      <th>Mixes_KMSC_TC</th>\n",
       "      <th>Mixes_MetallicCalendering</th>\n",
       "      <th>Mixes_TextileCalendering</th>\n",
       "    </tr>\n",
       "    <tr>\n",
       "      <th>labels</th>\n",
       "      <th></th>\n",
       "      <th></th>\n",
       "      <th></th>\n",
       "      <th></th>\n",
       "      <th></th>\n",
       "      <th></th>\n",
       "      <th></th>\n",
       "      <th></th>\n",
       "    </tr>\n",
       "  </thead>\n",
       "  <tbody>\n",
       "    <tr>\n",
       "      <th>0</th>\n",
       "      <td>5</td>\n",
       "      <td>0</td>\n",
       "      <td>1</td>\n",
       "      <td>0</td>\n",
       "      <td>4</td>\n",
       "      <td>1</td>\n",
       "      <td>1</td>\n",
       "      <td>0</td>\n",
       "    </tr>\n",
       "    <tr>\n",
       "      <th>1</th>\n",
       "      <td>0</td>\n",
       "      <td>0</td>\n",
       "      <td>0</td>\n",
       "      <td>5</td>\n",
       "      <td>1</td>\n",
       "      <td>12</td>\n",
       "      <td>1</td>\n",
       "      <td>0</td>\n",
       "    </tr>\n",
       "    <tr>\n",
       "      <th>2</th>\n",
       "      <td>0</td>\n",
       "      <td>0</td>\n",
       "      <td>0</td>\n",
       "      <td>0</td>\n",
       "      <td>8</td>\n",
       "      <td>0</td>\n",
       "      <td>0</td>\n",
       "      <td>0</td>\n",
       "    </tr>\n",
       "    <tr>\n",
       "      <th>3</th>\n",
       "      <td>0</td>\n",
       "      <td>0</td>\n",
       "      <td>2</td>\n",
       "      <td>0</td>\n",
       "      <td>0</td>\n",
       "      <td>4</td>\n",
       "      <td>5</td>\n",
       "      <td>1</td>\n",
       "    </tr>\n",
       "    <tr>\n",
       "      <th>4</th>\n",
       "      <td>0</td>\n",
       "      <td>1</td>\n",
       "      <td>4</td>\n",
       "      <td>0</td>\n",
       "      <td>5</td>\n",
       "      <td>1</td>\n",
       "      <td>0</td>\n",
       "      <td>0</td>\n",
       "    </tr>\n",
       "    <tr>\n",
       "      <th>5</th>\n",
       "      <td>2</td>\n",
       "      <td>0</td>\n",
       "      <td>0</td>\n",
       "      <td>3</td>\n",
       "      <td>2</td>\n",
       "      <td>0</td>\n",
       "      <td>0</td>\n",
       "      <td>0</td>\n",
       "    </tr>\n",
       "  </tbody>\n",
       "</table>\n",
       "</div>"
      ],
      "text/plain": [
       "filiere_pmu  Mixes_FE_PT_CJK  Mixes_GI  Mixes_Internal  \\\n",
       "labels                                                   \n",
       "0                          5         0               1   \n",
       "1                          0         0               0   \n",
       "2                          0         0               0   \n",
       "3                          0         0               2   \n",
       "4                          0         1               4   \n",
       "5                          2         0               0   \n",
       "\n",
       "filiere_pmu  Mixes_KMSC_2R_AG_AV_GC  Mixes_KMSC_PL  Mixes_KMSC_TC  \\\n",
       "labels                                                              \n",
       "0                                 0              4              1   \n",
       "1                                 5              1             12   \n",
       "2                                 0              8              0   \n",
       "3                                 0              0              4   \n",
       "4                                 0              5              1   \n",
       "5                                 3              2              0   \n",
       "\n",
       "filiere_pmu  Mixes_MetallicCalendering  Mixes_TextileCalendering  \n",
       "labels                                                            \n",
       "0                                    1                         0  \n",
       "1                                    1                         0  \n",
       "2                                    0                         0  \n",
       "3                                    5                         1  \n",
       "4                                    0                         0  \n",
       "5                                    0                         0  "
      ]
     },
     "execution_count": 76,
     "metadata": {},
     "output_type": "execute_result"
    }
   ],
   "source": [
    "df = pd.DataFrame({'labels': labels, 'filiere': dataset['FILIERE'], 'poste': dataset['POSTE'], 'filiere_pmu': dataset['FILIERE PMU']})\n",
    "ct_filiere = pd.crosstab(df['labels'], df['filiere'])\n",
    "print(ct_filiere)\n",
    "ct_poste = pd.crosstab(df['labels'], df['poste'])\n",
    "print(ct_poste)\n",
    "ct_filiere_pmu = pd.crosstab(df['labels'], df['filiere_pmu'])\n",
    "print(ct_filiere_pmu)\n",
    "ct_filiere_pmu"
   ]
  },
  {
   "cell_type": "markdown",
   "metadata": {},
   "source": []
  }
 ],
 "metadata": {
  "kernelspec": {
   "display_name": "Python [conda env:datacamp] *",
   "language": "python",
   "name": "conda-env-datacamp-py"
  },
  "language_info": {
   "codemirror_mode": {
    "name": "ipython",
    "version": 3
   },
   "file_extension": ".py",
   "mimetype": "text/x-python",
   "name": "python",
   "nbconvert_exporter": "python",
   "pygments_lexer": "ipython3",
   "version": "3.7.5"
  },
  "toc": {
   "base_numbering": 1,
   "nav_menu": {},
   "number_sections": true,
   "sideBar": true,
   "skip_h1_title": false,
   "title_cell": "Table of Contents",
   "title_sidebar": "Contents",
   "toc_cell": false,
   "toc_position": {},
   "toc_section_display": true,
   "toc_window_display": true
  },
  "varInspector": {
   "cols": {
    "lenName": 16,
    "lenType": 16,
    "lenVar": 40
   },
   "kernels_config": {
    "python": {
     "delete_cmd_postfix": "",
     "delete_cmd_prefix": "del ",
     "library": "var_list.py",
     "varRefreshCmd": "print(var_dic_list())"
    },
    "r": {
     "delete_cmd_postfix": ") ",
     "delete_cmd_prefix": "rm(",
     "library": "var_list.r",
     "varRefreshCmd": "cat(var_dic_list()) "
    }
   },
   "types_to_exclude": [
    "module",
    "function",
    "builtin_function_or_method",
    "instance",
    "_Feature"
   ],
   "window_display": false
  }
 },
 "nbformat": 4,
 "nbformat_minor": 2
}
