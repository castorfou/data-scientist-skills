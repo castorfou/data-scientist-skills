{
 "cells": [
  {
   "cell_type": "markdown",
   "metadata": {},
   "source": [
    "# Forget Matplotlib! You Should Be Using Plotly"
   ]
  },
  {
   "cell_type": "markdown",
   "metadata": {},
   "source": [
    "The following examples are used to demonstrate why I prefer Plotly to Matplotlib. First, we plot some simple lines, then extend that to bubbles. Next, we show Plotly's interactivity (although all its plots here are interactive - by default). Finally, Plotly's animations are demonstrated."
   ]
  },
  {
   "cell_type": "code",
   "execution_count": 1,
   "metadata": {
    "ExecuteTime": {
     "end_time": "2020-05-28T08:58:35.411050Z",
     "start_time": "2020-05-28T08:58:35.407524Z"
    }
   },
   "outputs": [],
   "source": [
    "x = [i for i in range(-10, 10)]\n",
    "y = [2*i**3 + 3*i + 3 for i in x]\n",
    "z = [i**2 + 2 for i in x]"
   ]
  },
  {
   "cell_type": "markdown",
   "metadata": {},
   "source": [
    "## Matplotlib - Line"
   ]
  },
  {
   "cell_type": "code",
   "execution_count": 6,
   "metadata": {
    "ExecuteTime": {
     "end_time": "2020-05-28T08:59:02.976912Z",
     "start_time": "2020-05-28T08:59:02.846530Z"
    }
   },
   "outputs": [
    {
     "data": {
      "image/png": "[encoded data removed]",
      "text/plain": [
       "<Figure size 432x288 with 1 Axes>"
      ]
     },
     "metadata": {
      "needs_background": "light"
     },
     "output_type": "display_data"
    }
   ],
   "source": [
    "import matplotlib.pyplot as plt\n",
    "\n",
    "plt.plot(x, y);"
   ]
  },
  {
   "cell_type": "markdown",
   "metadata": {},
   "source": [
    "## Plotly - Line"
   ]
  },
  {
   "cell_type": "code",
   "execution_count": 7,
   "metadata": {
    "ExecuteTime": {
     "end_time": "2020-05-28T08:59:14.491077Z",
     "start_time": "2020-05-28T08:59:14.377782Z"
    }
   },
   "outputs": [
    {
     "ename": "ModuleNotFoundError",
     "evalue": "No module named 'plotly'",
     "output_type": "error",
     "traceback": [
      "\u001b[1;31m---------------------------------------------------------------------------\u001b[0m",
      "\u001b[1;31mModuleNotFoundError\u001b[0m                       Traceback (most recent call last)",
      "\u001b[1;32m<ipython-input-7-c773d3daa7b0>\u001b[0m in \u001b[0;36m<module>\u001b[1;34m\u001b[0m\n\u001b[1;32m----> 1\u001b[1;33m \u001b[1;32mimport\u001b[0m \u001b[0mplotly\u001b[0m\u001b[1;33m.\u001b[0m\u001b[0mgraph_objects\u001b[0m \u001b[1;32mas\u001b[0m \u001b[0mgo\u001b[0m\u001b[1;33m\u001b[0m\u001b[1;33m\u001b[0m\u001b[0m\n\u001b[0m\u001b[0;32m      2\u001b[0m \u001b[1;33m\u001b[0m\u001b[0m\n\u001b[0;32m      3\u001b[0m \u001b[0mfig\u001b[0m \u001b[1;33m=\u001b[0m \u001b[0mgo\u001b[0m\u001b[1;33m.\u001b[0m\u001b[0mFigure\u001b[0m\u001b[1;33m(\u001b[0m\u001b[0mdata\u001b[0m\u001b[1;33m=\u001b[0m\u001b[1;33m[\u001b[0m\u001b[0mgo\u001b[0m\u001b[1;33m.\u001b[0m\u001b[0mScatter\u001b[0m\u001b[1;33m(\u001b[0m\u001b[0mx\u001b[0m\u001b[1;33m=\u001b[0m\u001b[0mx\u001b[0m\u001b[1;33m,\u001b[0m \u001b[0my\u001b[0m\u001b[1;33m=\u001b[0m\u001b[0my\u001b[0m\u001b[1;33m)\u001b[0m\u001b[1;33m]\u001b[0m\u001b[1;33m)\u001b[0m\u001b[1;33m\u001b[0m\u001b[1;33m\u001b[0m\u001b[0m\n\u001b[0;32m      4\u001b[0m \u001b[0mfig\u001b[0m\u001b[1;33m.\u001b[0m\u001b[0mshow\u001b[0m\u001b[1;33m(\u001b[0m\u001b[1;33m)\u001b[0m\u001b[1;33m\u001b[0m\u001b[1;33m\u001b[0m\u001b[0m\n",
      "\u001b[1;31mModuleNotFoundError\u001b[0m: No module named 'plotly'"
     ]
    }
   ],
   "source": [
    "import plotly.graph_objects as go\n",
    "\n",
    "fig = go.Figure(data=[go.Scatter(x=x, y=y)])\n",
    "fig.show()"
   ]
  },
  {
   "cell_type": "markdown",
   "metadata": {},
   "source": [
    "## Matplotlib - Bubble Plot"
   ]
  },
  {
   "cell_type": "code",
   "execution_count": 4,
   "metadata": {},
   "outputs": [
    {
     "data": {
      "image/png": "[encoded data removed]",
      "text/plain": [
       "<Figure size 432x288 with 1 Axes>"
      ]
     },
     "metadata": {
      "needs_background": "light"
     },
     "output_type": "display_data"
    }
   ],
   "source": [
    "plt.scatter(x, y, s=z, alpha=0.5)\n",
    "plt.show()"
   ]
  },
  {
   "cell_type": "markdown",
   "metadata": {},
   "source": [
    "## Plotly - Bubble Plot"
   ]
  },
  {
   "cell_type": "code",
   "execution_count": 5,
   "metadata": {},
   "outputs": [
    {
     "data": {
      "application/vnd.plotly.v1+json": {
       "config": {
        "plotlyServerURL": "https://plot.ly"
       },
       "data": [
        {
         "marker": {
          "size": [
           102,
           83,
           66,
           51,
           38,
           27,
           18,
           11,
           6,
           3,
           2,
           3,
           6,
           11,
           18,
           27,
           38,
           51,
           66,
           83
          ]
         },
         "mode": "markers",
         "type": "scatter",
         "x": [
          -10,
          -9,
          -8,
          -7,
          -6,
          -5,
          -4,
          -3,
          -2,
          -1,
          0,
          1,
          2,
          3,
          4,
          5,
          6,
          7,
          8,
          9
         ],
         "y": [
          -2027,
          -1482,
          -1045,
          -704,
          -447,
          -262,
          -137,
          -60,
          -19,
          -2,
          3,
          8,
          25,
          66,
          143,
          268,
          453,
          710,
          1051,
          1488
         ]
        }
       ],
       "layout": {
        "template": {
         "data": {
          "bar": [
           {
            "error_x": {
             "color": "#2a3f5f"
            },
            "error_y": {
             "color": "#2a3f5f"
            },
            "marker": {
             "line": {
              "color": "#E5ECF6",
              "width": 0.5
             }
            },
            "type": "bar"
           }
          ],
          "barpolar": [
           {
            "marker": {
             "line": {
              "color": "#E5ECF6",
              "width": 0.5
             }
            },
            "type": "barpolar"
           }
          ],
          "carpet": [
           {
            "aaxis": {
             "endlinecolor": "#2a3f5f",
             "gridcolor": "white",
             "linecolor": "white",
             "minorgridcolor": "white",
             "startlinecolor": "#2a3f5f"
            },
            "baxis": {
             "endlinecolor": "#2a3f5f",
             "gridcolor": "white",
             "linecolor": "white",
             "minorgridcolor": "white",
             "startlinecolor": "#2a3f5f"
            },
            "type": "carpet"
           }
          ],
          "choropleth": [
           {
            "colorbar": {
             "outlinewidth": 0,
             "ticks": ""
            },
            "type": "choropleth"
           }
          ],
          "contour": [
           {
            "colorbar": {
             "outlinewidth": 0,
             "ticks": ""
            },
            "colorscale": [
             [
              0,
              "#0d0887"
             ],
             [
              0.1111111111111111,
              "#46039f"
             ],
             [
              0.2222222222222222,
              "#7201a8"
             ],
             [
              0.3333333333333333,
              "#9c179e"
             ],
             [
              0.4444444444444444,
              "#bd3786"
             ],
             [
              0.5555555555555556,
              "#d8576b"
             ],
             [
              0.6666666666666666,
              "#ed7953"
             ],
             [
              0.7777777777777778,
              "#fb9f3a"
             ],
             [
              0.8888888888888888,
              "#fdca26"
             ],
             [
              1,
              "#f0f921"
             ]
            ],
            "type": "contour"
           }
          ],
          "contourcarpet": [
           {
            "colorbar": {
             "outlinewidth": 0,
             "ticks": ""
            },
            "type": "contourcarpet"
           }
          ],
          "heatmap": [
           {
            "colorbar": {
             "outlinewidth": 0,
             "ticks": ""
            },
            "colorscale": [
             [
              0,
              "#0d0887"
             ],
             [
              0.1111111111111111,
              "#46039f"
             ],
             [
              0.2222222222222222,
              "#7201a8"
             ],
             [
              0.3333333333333333,
              "#9c179e"
             ],
             [
              0.4444444444444444,
              "#bd3786"
             ],
             [
              0.5555555555555556,
              "#d8576b"
             ],
             [
              0.6666666666666666,
              "#ed7953"
             ],
             [
              0.7777777777777778,
              "#fb9f3a"
             ],
             [
              0.8888888888888888,
              "#fdca26"
             ],
             [
              1,
              "#f0f921"
             ]
            ],
            "type": "heatmap"
           }
          ],
          "heatmapgl": [
           {
            "colorbar": {
             "outlinewidth": 0,
             "ticks": ""
            },
            "colorscale": [
             [
              0,
              "#0d0887"
             ],
             [
              0.1111111111111111,
              "#46039f"
             ],
             [
              0.2222222222222222,
              "#7201a8"
             ],
             [
              0.3333333333333333,
              "#9c179e"
             ],
             [
              0.4444444444444444,
              "#bd3786"
             ],
             [
              0.5555555555555556,
              "#d8576b"
             ],
             [
              0.6666666666666666,
              "#ed7953"
             ],
             [
              0.7777777777777778,
              "#fb9f3a"
             ],
             [
              0.8888888888888888,
              "#fdca26"
             ],
             [
              1,
              "#f0f921"
             ]
            ],
            "type": "heatmapgl"
           }
          ],
          "histogram": [
           {
            "marker": {
             "colorbar": {
              "outlinewidth": 0,
              "ticks": ""
             }
            },
            "type": "histogram"
           }
          ],
          "histogram2d": [
           {
            "colorbar": {
             "outlinewidth": 0,
             "ticks": ""
            },
            "colorscale": [
             [
              0,
              "#0d0887"
             ],
             [
              0.1111111111111111,
              "#46039f"
             ],
             [
              0.2222222222222222,
              "#7201a8"
             ],
             [
              0.3333333333333333,
              "#9c179e"
             ],
             [
              0.4444444444444444,
              "#bd3786"
             ],
             [
              0.5555555555555556,
              "#d8576b"
             ],
             [
              0.6666666666666666,
              "#ed7953"
             ],
             [
              0.7777777777777778,
              "#fb9f3a"
             ],
             [
              0.8888888888888888,
              "#fdca26"
             ],
             [
              1,
              "#f0f921"
             ]
            ],
            "type": "histogram2d"
           }
          ],
          "histogram2dcontour": [
           {
            "colorbar": {
             "outlinewidth": 0,
             "ticks": ""
            },
            "colorscale": [
             [
              0,
              "#0d0887"
             ],
             [
              0.1111111111111111,
              "#46039f"
             ],
             [
              0.2222222222222222,
              "#7201a8"
             ],
             [
              0.3333333333333333,
              "#9c179e"
             ],
             [
              0.4444444444444444,
              "#bd3786"
             ],
             [
              0.5555555555555556,
              "#d8576b"
             ],
             [
              0.6666666666666666,
              "#ed7953"
             ],
             [
              0.7777777777777778,
              "#fb9f3a"
             ],
             [
              0.8888888888888888,
              "#fdca26"
             ],
             [
              1,
              "#f0f921"
             ]
            ],
            "type": "histogram2dcontour"
           }
          ],
          "mesh3d": [
           {
            "colorbar": {
             "outlinewidth": 0,
             "ticks": ""
            },
            "type": "mesh3d"
           }
          ],
          "parcoords": [
           {
            "line": {
             "colorbar": {
              "outlinewidth": 0,
              "ticks": ""
             }
            },
            "type": "parcoords"
           }
          ],
          "pie": [
           {
            "automargin": true,
            "type": "pie"
           }
          ],
          "scatter": [
           {
            "marker": {
             "colorbar": {
              "outlinewidth": 0,
              "ticks": ""
             }
            },
            "type": "scatter"
           }
          ],
          "scatter3d": [
           {
            "line": {
             "colorbar": {
              "outlinewidth": 0,
              "ticks": ""
             }
            },
            "marker": {
             "colorbar": {
              "outlinewidth": 0,
              "ticks": ""
             }
            },
            "type": "scatter3d"
           }
          ],
          "scattercarpet": [
           {
            "marker": {
             "colorbar": {
              "outlinewidth": 0,
              "ticks": ""
             }
            },
            "type": "scattercarpet"
           }
          ],
          "scattergeo": [
           {
            "marker": {
             "colorbar": {
              "outlinewidth": 0,
              "ticks": ""
             }
            },
            "type": "scattergeo"
           }
          ],
          "scattergl": [
           {
            "marker": {
             "colorbar": {
              "outlinewidth": 0,
              "ticks": ""
             }
            },
            "type": "scattergl"
           }
          ],
          "scattermapbox": [
           {
            "marker": {
             "colorbar": {
              "outlinewidth": 0,
              "ticks": ""
             }
            },
            "type": "scattermapbox"
           }
          ],
          "scatterpolar": [
           {
            "marker": {
             "colorbar": {
              "outlinewidth": 0,
              "ticks": ""
             }
            },
            "type": "scatterpolar"
           }
          ],
          "scatterpolargl": [
           {
            "marker": {
             "colorbar": {
              "outlinewidth": 0,
              "ticks": ""
             }
            },
            "type": "scatterpolargl"
           }
          ],
          "scatterternary": [
           {
            "marker": {
             "colorbar": {
              "outlinewidth": 0,
              "ticks": ""
             }
            },
            "type": "scatterternary"
           }
          ],
          "surface": [
           {
            "colorbar": {
             "outlinewidth": 0,
             "ticks": ""
            },
            "colorscale": [
             [
              0,
              "#0d0887"
             ],
             [
              0.1111111111111111,
              "#46039f"
             ],
             [
              0.2222222222222222,
              "#7201a8"
             ],
             [
              0.3333333333333333,
              "#9c179e"
             ],
             [
              0.4444444444444444,
              "#bd3786"
             ],
             [
              0.5555555555555556,
              "#d8576b"
             ],
             [
              0.6666666666666666,
              "#ed7953"
             ],
             [
              0.7777777777777778,
              "#fb9f3a"
             ],
             [
              0.8888888888888888,
              "#fdca26"
             ],
             [
              1,
              "#f0f921"
             ]
            ],
            "type": "surface"
           }
          ],
          "table": [
           {
            "cells": {
             "fill": {
              "color": "#EBF0F8"
             },
             "line": {
              "color": "white"
             }
            },
            "header": {
             "fill": {
              "color": "#C8D4E3"
             },
             "line": {
              "color": "white"
             }
            },
            "type": "table"
           }
          ]
         },
         "layout": {
          "annotationdefaults": {
           "arrowcolor": "#2a3f5f",
           "arrowhead": 0,
           "arrowwidth": 1
          },
          "coloraxis": {
           "colorbar": {
            "outlinewidth": 0,
            "ticks": ""
           }
          },
          "colorscale": {
           "diverging": [
            [
             0,
             "#8e0152"
            ],
            [
             0.1,
             "#c51b7d"
            ],
            [
             0.2,
             "#de77ae"
            ],
            [
             0.3,
             "#f1b6da"
            ],
            [
             0.4,
             "#fde0ef"
            ],
            [
             0.5,
             "#f7f7f7"
            ],
            [
             0.6,
             "#e6f5d0"
            ],
            [
             0.7,
             "#b8e186"
            ],
            [
             0.8,
             "#7fbc41"
            ],
            [
             0.9,
             "#4d9221"
            ],
            [
             1,
             "#276419"
            ]
           ],
           "sequential": [
            [
             0,
             "#0d0887"
            ],
            [
             0.1111111111111111,
             "#46039f"
            ],
            [
             0.2222222222222222,
             "#7201a8"
            ],
            [
             0.3333333333333333,
             "#9c179e"
            ],
            [
             0.4444444444444444,
             "#bd3786"
            ],
            [
             0.5555555555555556,
             "#d8576b"
            ],
            [
             0.6666666666666666,
             "#ed7953"
            ],
            [
             0.7777777777777778,
             "#fb9f3a"
            ],
            [
             0.8888888888888888,
             "#fdca26"
            ],
            [
             1,
             "#f0f921"
            ]
           ],
           "sequentialminus": [
            [
             0,
             "#0d0887"
            ],
            [
             0.1111111111111111,
             "#46039f"
            ],
            [
             0.2222222222222222,
             "#7201a8"
            ],
            [
             0.3333333333333333,
             "#9c179e"
            ],
            [
             0.4444444444444444,
             "#bd3786"
            ],
            [
             0.5555555555555556,
             "#d8576b"
            ],
            [
             0.6666666666666666,
             "#ed7953"
            ],
            [
             0.7777777777777778,
             "#fb9f3a"
            ],
            [
             0.8888888888888888,
             "#fdca26"
            ],
            [
             1,
             "#f0f921"
            ]
           ]
          },
          "colorway": [
           "#636efa",
           "#EF553B",
           "#00cc96",
           "#ab63fa",
           "#FFA15A",
           "#19d3f3",
           "#FF6692",
           "#B6E880",
           "#FF97FF",
           "#FECB52"
          ],
          "font": {
           "color": "#2a3f5f"
          },
          "geo": {
           "bgcolor": "white",
           "lakecolor": "white",
           "landcolor": "#E5ECF6",
           "showlakes": true,
           "showland": true,
           "subunitcolor": "white"
          },
          "hoverlabel": {
           "align": "left"
          },
          "hovermode": "closest",
          "mapbox": {
           "style": "light"
          },
          "paper_bgcolor": "white",
          "plot_bgcolor": "#E5ECF6",
          "polar": {
           "angularaxis": {
            "gridcolor": "white",
            "linecolor": "white",
            "ticks": ""
           },
           "bgcolor": "#E5ECF6",
           "radialaxis": {
            "gridcolor": "white",
            "linecolor": "white",
            "ticks": ""
           }
          },
          "scene": {
           "xaxis": {
            "backgroundcolor": "#E5ECF6",
            "gridcolor": "white",
            "gridwidth": 2,
            "linecolor": "white",
            "showbackground": true,
            "ticks": "",
            "zerolinecolor": "white"
           },
           "yaxis": {
            "backgroundcolor": "#E5ECF6",
            "gridcolor": "white",
            "gridwidth": 2,
            "linecolor": "white",
            "showbackground": true,
            "ticks": "",
            "zerolinecolor": "white"
           },
           "zaxis": {
            "backgroundcolor": "#E5ECF6",
            "gridcolor": "white",
            "gridwidth": 2,
            "linecolor": "white",
            "showbackground": true,
            "ticks": "",
            "zerolinecolor": "white"
           }
          },
          "shapedefaults": {
           "line": {
            "color": "#2a3f5f"
           }
          },
          "ternary": {
           "aaxis": {
            "gridcolor": "white",
            "linecolor": "white",
            "ticks": ""
           },
           "baxis": {
            "gridcolor": "white",
            "linecolor": "white",
            "ticks": ""
           },
           "bgcolor": "#E5ECF6",
           "caxis": {
            "gridcolor": "white",
            "linecolor": "white",
            "ticks": ""
           }
          },
          "title": {
           "x": 0.05
          },
          "xaxis": {
           "automargin": true,
           "gridcolor": "white",
           "linecolor": "white",
           "ticks": "",
           "title": {
            "standoff": 15
           },
           "zerolinecolor": "white",
           "zerolinewidth": 2
          },
          "yaxis": {
           "automargin": true,
           "gridcolor": "white",
           "linecolor": "white",
           "ticks": "",
           "title": {
            "standoff": 15
           },
           "zerolinecolor": "white",
           "zerolinewidth": 2
          }
         }
        }
       }
      },
      "text/html": [
       "<div>\n",
       "        \n",
       "        \n",
       "            <div id=\"da740ea9-4a40-46fd-90bf-67faf027bf32\" class=\"plotly-graph-div\" style=\"height:525px; width:100%;\"></div>\n",
       "            <script type=\"text/javascript\">\n",
       "                require([\"plotly\"], function(Plotly) {\n",
       "                    window.PLOTLYENV=window.PLOTLYENV || {};\n",
       "                    \n",
       "                if (document.getElementById(\"da740ea9-4a40-46fd-90bf-67faf027bf32\")) {\n",
       "                    Plotly.newPlot(\n",
       "                        'da740ea9-4a40-46fd-90bf-67faf027bf32',\n",
       "                        [{\"marker\": {\"size\": [102, 83, 66, 51, 38, 27, 18, 11, 6, 3, 2, 3, 6, 11, 18, 27, 38, 51, 66, 83]}, \"mode\": \"markers\", \"type\": \"scatter\", \"x\": [-10, -9, -8, -7, -6, -5, -4, -3, -2, -1, 0, 1, 2, 3, 4, 5, 6, 7, 8, 9], \"y\": [-2027, -1482, -1045, -704, -447, -262, -137, -60, -19, -2, 3, 8, 25, 66, 143, 268, 453, 710, 1051, 1488]}],\n",
       "                        {\"template\": {\"data\": {\"bar\": [{\"error_x\": {\"color\": \"#2a3f5f\"}, \"error_y\": {\"color\": \"#2a3f5f\"}, \"marker\": {\"line\": {\"color\": \"#E5ECF6\", \"width\": 0.5}}, \"type\": \"bar\"}], \"barpolar\": [{\"marker\": {\"line\": {\"color\": \"#E5ECF6\", \"width\": 0.5}}, \"type\": \"barpolar\"}], \"carpet\": [{\"aaxis\": {\"endlinecolor\": \"#2a3f5f\", \"gridcolor\": \"white\", \"linecolor\": \"white\", \"minorgridcolor\": \"white\", \"startlinecolor\": \"#2a3f5f\"}, \"baxis\": {\"endlinecolor\": \"#2a3f5f\", \"gridcolor\": \"white\", \"linecolor\": \"white\", \"minorgridcolor\": \"white\", \"startlinecolor\": \"#2a3f5f\"}, \"type\": \"carpet\"}], \"choropleth\": [{\"colorbar\": {\"outlinewidth\": 0, \"ticks\": \"\"}, \"type\": \"choropleth\"}], \"contour\": [{\"colorbar\": {\"outlinewidth\": 0, \"ticks\": \"\"}, \"colorscale\": [[0.0, \"#0d0887\"], [0.1111111111111111, \"#46039f\"], [0.2222222222222222, \"#7201a8\"], [0.3333333333333333, \"#9c179e\"], [0.4444444444444444, \"#bd3786\"], [0.5555555555555556, \"#d8576b\"], [0.6666666666666666, \"#ed7953\"], [0.7777777777777778, \"#fb9f3a\"], [0.8888888888888888, \"#fdca26\"], [1.0, \"#f0f921\"]], \"type\": \"contour\"}], \"contourcarpet\": [{\"colorbar\": {\"outlinewidth\": 0, \"ticks\": \"\"}, \"type\": \"contourcarpet\"}], \"heatmap\": [{\"colorbar\": {\"outlinewidth\": 0, \"ticks\": \"\"}, \"colorscale\": [[0.0, \"#0d0887\"], [0.1111111111111111, \"#46039f\"], [0.2222222222222222, \"#7201a8\"], [0.3333333333333333, \"#9c179e\"], [0.4444444444444444, \"#bd3786\"], [0.5555555555555556, \"#d8576b\"], [0.6666666666666666, \"#ed7953\"], [0.7777777777777778, \"#fb9f3a\"], [0.8888888888888888, \"#fdca26\"], [1.0, \"#f0f921\"]], \"type\": \"heatmap\"}], \"heatmapgl\": [{\"colorbar\": {\"outlinewidth\": 0, \"ticks\": \"\"}, \"colorscale\": [[0.0, \"#0d0887\"], [0.1111111111111111, \"#46039f\"], [0.2222222222222222, \"#7201a8\"], [0.3333333333333333, \"#9c179e\"], [0.4444444444444444, \"#bd3786\"], [0.5555555555555556, \"#d8576b\"], [0.6666666666666666, \"#ed7953\"], [0.7777777777777778, \"#fb9f3a\"], [0.8888888888888888, \"#fdca26\"], [1.0, \"#f0f921\"]], \"type\": \"heatmapgl\"}], \"histogram\": [{\"marker\": {\"colorbar\": {\"outlinewidth\": 0, \"ticks\": \"\"}}, \"type\": \"histogram\"}], \"histogram2d\": [{\"colorbar\": {\"outlinewidth\": 0, \"ticks\": \"\"}, \"colorscale\": [[0.0, \"#0d0887\"], [0.1111111111111111, \"#46039f\"], [0.2222222222222222, \"#7201a8\"], [0.3333333333333333, \"#9c179e\"], [0.4444444444444444, \"#bd3786\"], [0.5555555555555556, \"#d8576b\"], [0.6666666666666666, \"#ed7953\"], [0.7777777777777778, \"#fb9f3a\"], [0.8888888888888888, \"#fdca26\"], [1.0, \"#f0f921\"]], \"type\": \"histogram2d\"}], \"histogram2dcontour\": [{\"colorbar\": {\"outlinewidth\": 0, \"ticks\": \"\"}, \"colorscale\": [[0.0, \"#0d0887\"], [0.1111111111111111, \"#46039f\"], [0.2222222222222222, \"#7201a8\"], [0.3333333333333333, \"#9c179e\"], [0.4444444444444444, \"#bd3786\"], [0.5555555555555556, \"#d8576b\"], [0.6666666666666666, \"#ed7953\"], [0.7777777777777778, \"#fb9f3a\"], [0.8888888888888888, \"#fdca26\"], [1.0, \"#f0f921\"]], \"type\": \"histogram2dcontour\"}], \"mesh3d\": [{\"colorbar\": {\"outlinewidth\": 0, \"ticks\": \"\"}, \"type\": \"mesh3d\"}], \"parcoords\": [{\"line\": {\"colorbar\": {\"outlinewidth\": 0, \"ticks\": \"\"}}, \"type\": \"parcoords\"}], \"pie\": [{\"automargin\": true, \"type\": \"pie\"}], \"scatter\": [{\"marker\": {\"colorbar\": {\"outlinewidth\": 0, \"ticks\": \"\"}}, \"type\": \"scatter\"}], \"scatter3d\": [{\"line\": {\"colorbar\": {\"outlinewidth\": 0, \"ticks\": \"\"}}, \"marker\": {\"colorbar\": {\"outlinewidth\": 0, \"ticks\": \"\"}}, \"type\": \"scatter3d\"}], \"scattercarpet\": [{\"marker\": {\"colorbar\": {\"outlinewidth\": 0, \"ticks\": \"\"}}, \"type\": \"scattercarpet\"}], \"scattergeo\": [{\"marker\": {\"colorbar\": {\"outlinewidth\": 0, \"ticks\": \"\"}}, \"type\": \"scattergeo\"}], \"scattergl\": [{\"marker\": {\"colorbar\": {\"outlinewidth\": 0, \"ticks\": \"\"}}, \"type\": \"scattergl\"}], \"scattermapbox\": [{\"marker\": {\"colorbar\": {\"outlinewidth\": 0, \"ticks\": \"\"}}, \"type\": \"scattermapbox\"}], \"scatterpolar\": [{\"marker\": {\"colorbar\": {\"outlinewidth\": 0, \"ticks\": \"\"}}, \"type\": \"scatterpolar\"}], \"scatterpolargl\": [{\"marker\": {\"colorbar\": {\"outlinewidth\": 0, \"ticks\": \"\"}}, \"type\": \"scatterpolargl\"}], \"scatterternary\": [{\"marker\": {\"colorbar\": {\"outlinewidth\": 0, \"ticks\": \"\"}}, \"type\": \"scatterternary\"}], \"surface\": [{\"colorbar\": {\"outlinewidth\": 0, \"ticks\": \"\"}, \"colorscale\": [[0.0, \"#0d0887\"], [0.1111111111111111, \"#46039f\"], [0.2222222222222222, \"#7201a8\"], [0.3333333333333333, \"#9c179e\"], [0.4444444444444444, \"#bd3786\"], [0.5555555555555556, \"#d8576b\"], [0.6666666666666666, \"#ed7953\"], [0.7777777777777778, \"#fb9f3a\"], [0.8888888888888888, \"#fdca26\"], [1.0, \"#f0f921\"]], \"type\": \"surface\"}], \"table\": [{\"cells\": {\"fill\": {\"color\": \"#EBF0F8\"}, \"line\": {\"color\": \"white\"}}, \"header\": {\"fill\": {\"color\": \"#C8D4E3\"}, \"line\": {\"color\": \"white\"}}, \"type\": \"table\"}]}, \"layout\": {\"annotationdefaults\": {\"arrowcolor\": \"#2a3f5f\", \"arrowhead\": 0, \"arrowwidth\": 1}, \"coloraxis\": {\"colorbar\": {\"outlinewidth\": 0, \"ticks\": \"\"}}, \"colorscale\": {\"diverging\": [[0, \"#8e0152\"], [0.1, \"#c51b7d\"], [0.2, \"#de77ae\"], [0.3, \"#f1b6da\"], [0.4, \"#fde0ef\"], [0.5, \"#f7f7f7\"], [0.6, \"#e6f5d0\"], [0.7, \"#b8e186\"], [0.8, \"#7fbc41\"], [0.9, \"#4d9221\"], [1, \"#276419\"]], \"sequential\": [[0.0, \"#0d0887\"], [0.1111111111111111, \"#46039f\"], [0.2222222222222222, \"#7201a8\"], [0.3333333333333333, \"#9c179e\"], [0.4444444444444444, \"#bd3786\"], [0.5555555555555556, \"#d8576b\"], [0.6666666666666666, \"#ed7953\"], [0.7777777777777778, \"#fb9f3a\"], [0.8888888888888888, \"#fdca26\"], [1.0, \"#f0f921\"]], \"sequentialminus\": [[0.0, \"#0d0887\"], [0.1111111111111111, \"#46039f\"], [0.2222222222222222, \"#7201a8\"], [0.3333333333333333, \"#9c179e\"], [0.4444444444444444, \"#bd3786\"], [0.5555555555555556, \"#d8576b\"], [0.6666666666666666, \"#ed7953\"], [0.7777777777777778, \"#fb9f3a\"], [0.8888888888888888, \"#fdca26\"], [1.0, \"#f0f921\"]]}, \"colorway\": [\"#636efa\", \"#EF553B\", \"#00cc96\", \"#ab63fa\", \"#FFA15A\", \"#19d3f3\", \"#FF6692\", \"#B6E880\", \"#FF97FF\", \"#FECB52\"], \"font\": {\"color\": \"#2a3f5f\"}, \"geo\": {\"bgcolor\": \"white\", \"lakecolor\": \"white\", \"landcolor\": \"#E5ECF6\", \"showlakes\": true, \"showland\": true, \"subunitcolor\": \"white\"}, \"hoverlabel\": {\"align\": \"left\"}, \"hovermode\": \"closest\", \"mapbox\": {\"style\": \"light\"}, \"paper_bgcolor\": \"white\", \"plot_bgcolor\": \"#E5ECF6\", \"polar\": {\"angularaxis\": {\"gridcolor\": \"white\", \"linecolor\": \"white\", \"ticks\": \"\"}, \"bgcolor\": \"#E5ECF6\", \"radialaxis\": {\"gridcolor\": \"white\", \"linecolor\": \"white\", \"ticks\": \"\"}}, \"scene\": {\"xaxis\": {\"backgroundcolor\": \"#E5ECF6\", \"gridcolor\": \"white\", \"gridwidth\": 2, \"linecolor\": \"white\", \"showbackground\": true, \"ticks\": \"\", \"zerolinecolor\": \"white\"}, \"yaxis\": {\"backgroundcolor\": \"#E5ECF6\", \"gridcolor\": \"white\", \"gridwidth\": 2, \"linecolor\": \"white\", \"showbackground\": true, \"ticks\": \"\", \"zerolinecolor\": \"white\"}, \"zaxis\": {\"backgroundcolor\": \"#E5ECF6\", \"gridcolor\": \"white\", \"gridwidth\": 2, \"linecolor\": \"white\", \"showbackground\": true, \"ticks\": \"\", \"zerolinecolor\": \"white\"}}, \"shapedefaults\": {\"line\": {\"color\": \"#2a3f5f\"}}, \"ternary\": {\"aaxis\": {\"gridcolor\": \"white\", \"linecolor\": \"white\", \"ticks\": \"\"}, \"baxis\": {\"gridcolor\": \"white\", \"linecolor\": \"white\", \"ticks\": \"\"}, \"bgcolor\": \"#E5ECF6\", \"caxis\": {\"gridcolor\": \"white\", \"linecolor\": \"white\", \"ticks\": \"\"}}, \"title\": {\"x\": 0.05}, \"xaxis\": {\"automargin\": true, \"gridcolor\": \"white\", \"linecolor\": \"white\", \"ticks\": \"\", \"title\": {\"standoff\": 15}, \"zerolinecolor\": \"white\", \"zerolinewidth\": 2}, \"yaxis\": {\"automargin\": true, \"gridcolor\": \"white\", \"linecolor\": \"white\", \"ticks\": \"\", \"title\": {\"standoff\": 15}, \"zerolinecolor\": \"white\", \"zerolinewidth\": 2}}}},\n",
       "                        {\"responsive\": true}\n",
       "                    ).then(function(){\n",
       "                            \n",
       "var gd = document.getElementById('da740ea9-4a40-46fd-90bf-67faf027bf32');\n",
       "var x = new MutationObserver(function (mutations, observer) {{\n",
       "        var display = window.getComputedStyle(gd).display;\n",
       "        if (!display || display === 'none') {{\n",
       "            console.log([gd, 'removed!']);\n",
       "            Plotly.purge(gd);\n",
       "            observer.disconnect();\n",
       "        }}\n",
       "}});\n",
       "\n",
       "// Listen for the removal of the full notebook cells\n",
       "var notebookContainer = gd.closest('#notebook-container');\n",
       "if (notebookContainer) {{\n",
       "    x.observe(notebookContainer, {childList: true});\n",
       "}}\n",
       "\n",
       "// Listen for the clearing of the current output cell\n",
       "var outputEl = gd.closest('.output');\n",
       "if (outputEl) {{\n",
       "    x.observe(outputEl, {childList: true});\n",
       "}}\n",
       "\n",
       "                        })\n",
       "                };\n",
       "                });\n",
       "            </script>\n",
       "        </div>"
      ]
     },
     "metadata": {},
     "output_type": "display_data"
    }
   ],
   "source": [
    "fig = go.Figure(data=go.Scatter(x=x, y=y, mode='markers', marker_size=z))\n",
    "fig.show()"
   ]
  },
  {
   "cell_type": "markdown",
   "metadata": {},
   "source": [
    "## Plotly - Interactivity"
   ]
  },
  {
   "cell_type": "code",
   "execution_count": 6,
   "metadata": {},
   "outputs": [
    {
     "data": {
      "application/vnd.plotly.v1+json": {
       "config": {
        "plotlyServerURL": "https://plot.ly"
       },
       "data": [
        {
         "type": "scatter",
         "x": [
          -10,
          -9.9,
          -9.8,
          -9.7,
          -9.6,
          -9.5,
          -9.4,
          -9.3,
          -9.2,
          -9.1,
          -9,
          -8.9,
          -8.8,
          -8.7,
          -8.6,
          -8.5,
          -8.4,
          -8.3,
          -8.2,
          -8.1,
          -8,
          -7.9,
          -7.8,
          -7.7,
          -7.6,
          -7.5,
          -7.4,
          -7.3,
          -7.2,
          -7.1,
          -7,
          -6.9,
          -6.8,
          -6.7,
          -6.6,
          -6.5,
          -6.4,
          -6.3,
          -6.2,
          -6.1,
          -6,
          -5.9,
          -5.8,
          -5.7,
          -5.6,
          -5.5,
          -5.4,
          -5.3,
          -5.2,
          -5.1,
          -5,
          -4.9,
          -4.8,
          -4.7,
          -4.6,
          -4.5,
          -4.4,
          -4.3,
          -4.2,
          -4.1,
          -4,
          -3.9,
          -3.8,
          -3.7,
          -3.6,
          -3.5,
          -3.4,
          -3.3,
          -3.2,
          -3.1,
          -3,
          -2.9,
          -2.8,
          -2.7,
          -2.6,
          -2.5,
          -2.4,
          -2.3,
          -2.2,
          -2.1,
          -2,
          -1.9,
          -1.8,
          -1.7,
          -1.6,
          -1.5,
          -1.4,
          -1.3,
          -1.2,
          -1.1,
          -1,
          -0.9,
          -0.8,
          -0.7,
          -0.6,
          -0.5,
          -0.4,
          -0.3,
          -0.2,
          -0.1,
          0,
          0.1,
          0.2,
          0.3,
          0.4,
          0.5,
          0.6,
          0.7,
          0.8,
          0.9,
          1,
          1.1,
          1.2,
          1.3,
          1.4,
          1.5,
          1.6,
          1.7,
          1.8,
          1.9,
          2,
          2.1,
          2.2,
          2.3,
          2.4,
          2.5,
          2.6,
          2.7,
          2.8,
          2.9,
          3,
          3.1,
          3.2,
          3.3,
          3.4,
          3.5,
          3.6,
          3.7,
          3.8,
          3.9,
          4,
          4.1,
          4.2,
          4.3,
          4.4,
          4.5,
          4.6,
          4.7,
          4.8,
          4.9,
          5,
          5.1,
          5.2,
          5.3,
          5.4,
          5.5,
          5.6,
          5.7,
          5.8,
          5.9,
          6,
          6.1,
          6.2,
          6.3,
          6.4,
          6.5,
          6.6,
          6.7,
          6.8,
          6.9,
          7,
          7.1,
          7.2,
          7.3,
          7.4,
          7.5,
          7.6,
          7.7,
          7.8,
          7.9,
          8,
          8.1,
          8.2,
          8.3,
          8.4,
          8.5,
          8.6,
          8.7,
          8.8,
          8.9,
          9,
          9.1,
          9.2,
          9.3,
          9.4,
          9.5,
          9.6,
          9.7,
          9.8,
          9.9
         ],
         "y": [
          100,
          98.01,
          96.04000000000002,
          94.08999999999999,
          92.16,
          90.25,
          88.36000000000001,
          86.49000000000001,
          84.63999999999999,
          82.80999999999999,
          81,
          79.21000000000001,
          77.44000000000001,
          75.68999999999998,
          73.96,
          72.25,
          70.56,
          68.89000000000001,
          67.24,
          65.61,
          64,
          62.410000000000004,
          60.839999999999996,
          59.290000000000006,
          57.76,
          56.25,
          54.760000000000005,
          53.29,
          51.84,
          50.41,
          49,
          47.61000000000001,
          46.239999999999995,
          44.89,
          43.559999999999995,
          42.25,
          40.96000000000001,
          39.69,
          38.440000000000005,
          37.209999999999994,
          36,
          34.81,
          33.64,
          32.49,
          31.359999999999996,
          30.25,
          29.160000000000004,
          28.09,
          27.040000000000003,
          26.009999999999998,
          25,
          24.010000000000005,
          23.04,
          22.090000000000003,
          21.159999999999997,
          20.25,
          19.360000000000003,
          18.49,
          17.64,
          16.81,
          16,
          15.209999999999999,
          14.44,
          13.690000000000001,
          12.96,
          12.25,
          11.559999999999999,
          10.889999999999999,
          10.240000000000002,
          9.610000000000001,
          9,
          8.41,
          7.839999999999999,
          7.290000000000001,
          6.760000000000001,
          6.25,
          5.76,
          5.289999999999999,
          4.840000000000001,
          4.41,
          4,
          3.61,
          3.24,
          2.8899999999999997,
          2.5600000000000005,
          2.25,
          1.9599999999999997,
          1.6900000000000002,
          1.44,
          1.2100000000000002,
          1,
          0.81,
          0.6400000000000001,
          0.48999999999999994,
          0.36,
          0.25,
          0.16000000000000003,
          0.09,
          0.04000000000000001,
          0.010000000000000002,
          0,
          0.010000000000000002,
          0.04000000000000001,
          0.09,
          0.16000000000000003,
          0.25,
          0.36,
          0.48999999999999994,
          0.6400000000000001,
          0.81,
          1,
          1.2100000000000002,
          1.44,
          1.6900000000000002,
          1.9599999999999997,
          2.25,
          2.5600000000000005,
          2.8899999999999997,
          3.24,
          3.61,
          4,
          4.41,
          4.840000000000001,
          5.289999999999999,
          5.76,
          6.25,
          6.760000000000001,
          7.290000000000001,
          7.839999999999999,
          8.41,
          9,
          9.610000000000001,
          10.240000000000002,
          10.889999999999999,
          11.559999999999999,
          12.25,
          12.96,
          13.690000000000001,
          14.44,
          15.209999999999999,
          16,
          16.81,
          17.64,
          18.49,
          19.360000000000003,
          20.25,
          21.159999999999997,
          22.090000000000003,
          23.04,
          24.010000000000005,
          25,
          26.009999999999998,
          27.040000000000003,
          28.09,
          29.160000000000004,
          30.25,
          31.359999999999996,
          32.49,
          33.64,
          34.81,
          36,
          37.209999999999994,
          38.440000000000005,
          39.69,
          40.96000000000001,
          42.25,
          43.559999999999995,
          44.89,
          46.239999999999995,
          47.61000000000001,
          49,
          50.41,
          51.84,
          53.29,
          54.760000000000005,
          56.25,
          57.76,
          59.290000000000006,
          60.839999999999996,
          62.410000000000004,
          64,
          65.61,
          67.24,
          68.89000000000001,
          70.56,
          72.25,
          73.96,
          75.68999999999998,
          77.44000000000001,
          79.21000000000001,
          81,
          82.80999999999999,
          84.63999999999999,
          86.49000000000001,
          88.36000000000001,
          90.25,
          92.16,
          94.08999999999999,
          96.04000000000002,
          98.01
         ]
        },
        {
         "type": "scatter",
         "x": [
          -10,
          -9.9,
          -9.8,
          -9.7,
          -9.6,
          -9.5,
          -9.4,
          -9.3,
          -9.2,
          -9.1,
          -9,
          -8.9,
          -8.8,
          -8.7,
          -8.6,
          -8.5,
          -8.4,
          -8.3,
          -8.2,
          -8.1,
          -8,
          -7.9,
          -7.8,
          -7.7,
          -7.6,
          -7.5,
          -7.4,
          -7.3,
          -7.2,
          -7.1,
          -7,
          -6.9,
          -6.8,
          -6.7,
          -6.6,
          -6.5,
          -6.4,
          -6.3,
          -6.2,
          -6.1,
          -6,
          -5.9,
          -5.8,
          -5.7,
          -5.6,
          -5.5,
          -5.4,
          -5.3,
          -5.2,
          -5.1,
          -5,
          -4.9,
          -4.8,
          -4.7,
          -4.6,
          -4.5,
          -4.4,
          -4.3,
          -4.2,
          -4.1,
          -4,
          -3.9,
          -3.8,
          -3.7,
          -3.6,
          -3.5,
          -3.4,
          -3.3,
          -3.2,
          -3.1,
          -3,
          -2.9,
          -2.8,
          -2.7,
          -2.6,
          -2.5,
          -2.4,
          -2.3,
          -2.2,
          -2.1,
          -2,
          -1.9,
          -1.8,
          -1.7,
          -1.6,
          -1.5,
          -1.4,
          -1.3,
          -1.2,
          -1.1,
          -1,
          -0.9,
          -0.8,
          -0.7,
          -0.6,
          -0.5,
          -0.4,
          -0.3,
          -0.2,
          -0.1,
          0,
          0.1,
          0.2,
          0.3,
          0.4,
          0.5,
          0.6,
          0.7,
          0.8,
          0.9,
          1,
          1.1,
          1.2,
          1.3,
          1.4,
          1.5,
          1.6,
          1.7,
          1.8,
          1.9,
          2,
          2.1,
          2.2,
          2.3,
          2.4,
          2.5,
          2.6,
          2.7,
          2.8,
          2.9,
          3,
          3.1,
          3.2,
          3.3,
          3.4,
          3.5,
          3.6,
          3.7,
          3.8,
          3.9,
          4,
          4.1,
          4.2,
          4.3,
          4.4,
          4.5,
          4.6,
          4.7,
          4.8,
          4.9,
          5,
          5.1,
          5.2,
          5.3,
          5.4,
          5.5,
          5.6,
          5.7,
          5.8,
          5.9,
          6,
          6.1,
          6.2,
          6.3,
          6.4,
          6.5,
          6.6,
          6.7,
          6.8,
          6.9,
          7,
          7.1,
          7.2,
          7.3,
          7.4,
          7.5,
          7.6,
          7.7,
          7.8,
          7.9,
          8,
          8.1,
          8.2,
          8.3,
          8.4,
          8.5,
          8.6,
          8.7,
          8.8,
          8.9,
          9,
          9.1,
          9.2,
          9.3,
          9.4,
          9.5,
          9.6,
          9.7,
          9.8,
          9.9
         ],
         "y": [
          -1000,
          -970.2990000000001,
          -941.1920000000002,
          -912.6729999999998,
          -884.7359999999999,
          -857.375,
          -830.5840000000001,
          -804.3570000000002,
          -778.6879999999999,
          -753.5709999999999,
          -729,
          -704.969,
          -681.4720000000002,
          -658.5029999999998,
          -636.0559999999999,
          -614.125,
          -592.7040000000001,
          -571.7870000000001,
          -551.3679999999998,
          -531.4409999999999,
          -512,
          -493.03900000000004,
          -474.55199999999996,
          -456.533,
          -438.97599999999994,
          -421.875,
          -405.22400000000005,
          -389.017,
          -373.24800000000005,
          -357.91099999999994,
          -343,
          -328.50900000000007,
          -314.43199999999996,
          -300.76300000000003,
          -287.496,
          -274.625,
          -262.14400000000006,
          -250.04699999999997,
          -238.32800000000003,
          -226.98099999999997,
          -216,
          -205.37900000000005,
          -195.112,
          -185.193,
          -175.61599999999996,
          -166.375,
          -157.46400000000003,
          -148.87699999999998,
          -140.608,
          -132.65099999999998,
          -125,
          -117.64900000000003,
          -110.59199999999998,
          -103.82300000000001,
          -97.33599999999998,
          -91.125,
          -85.18400000000003,
          -79.50699999999999,
          -74.08800000000001,
          -68.92099999999998,
          -64,
          -59.318999999999996,
          -54.87199999999999,
          -50.653000000000006,
          -46.656000000000006,
          -42.875,
          -39.303999999999995,
          -35.937,
          -32.76800000000001,
          -29.791000000000004,
          -27,
          -24.389,
          -21.951999999999995,
          -19.683000000000003,
          -17.576,
          -15.625,
          -13.823999999999998,
          -12.166999999999998,
          -10.648000000000003,
          -9.261000000000001,
          -8,
          -6.858999999999999,
          -5.832000000000001,
          -4.912999999999999,
          -4.096000000000001,
          -3.375,
          -2.7439999999999993,
          -2.197,
          -1.7279999999999998,
          -1.3310000000000004,
          -1,
          -0.7290000000000001,
          -0.5120000000000001,
          -0.3429999999999999,
          -0.21599999999999997,
          -0.125,
          -0.06400000000000002,
          -0.026999999999999996,
          -0.008000000000000002,
          -0.0010000000000000002,
          0,
          0.0010000000000000002,
          0.008000000000000002,
          0.026999999999999996,
          0.06400000000000002,
          0.125,
          0.21599999999999997,
          0.3429999999999999,
          0.5120000000000001,
          0.7290000000000001,
          1,
          1.3310000000000004,
          1.7279999999999998,
          2.197,
          2.7439999999999993,
          3.375,
          4.096000000000001,
          4.912999999999999,
          5.832000000000001,
          6.858999999999999,
          8,
          9.261000000000001,
          10.648000000000003,
          12.166999999999998,
          13.823999999999998,
          15.625,
          17.576,
          19.683000000000003,
          21.951999999999995,
          24.389,
          27,
          29.791000000000004,
          32.76800000000001,
          35.937,
          39.303999999999995,
          42.875,
          46.656000000000006,
          50.653000000000006,
          54.87199999999999,
          59.318999999999996,
          64,
          68.92099999999998,
          74.08800000000001,
          79.50699999999999,
          85.18400000000003,
          91.125,
          97.33599999999998,
          103.82300000000001,
          110.59199999999998,
          117.64900000000003,
          125,
          132.65099999999998,
          140.608,
          148.87699999999998,
          157.46400000000003,
          166.375,
          175.61599999999996,
          185.193,
          195.112,
          205.37900000000005,
          216,
          226.98099999999997,
          238.32800000000003,
          250.04699999999997,
          262.14400000000006,
          274.625,
          287.496,
          300.76300000000003,
          314.43199999999996,
          328.50900000000007,
          343,
          357.91099999999994,
          373.24800000000005,
          389.017,
          405.22400000000005,
          421.875,
          438.97599999999994,
          456.533,
          474.55199999999996,
          493.03900000000004,
          512,
          531.4409999999999,
          551.3679999999998,
          571.7870000000001,
          592.7040000000001,
          614.125,
          636.0559999999999,
          658.5029999999998,
          681.4720000000002,
          704.969,
          729,
          753.5709999999999,
          778.6879999999999,
          804.3570000000002,
          830.5840000000001,
          857.375,
          884.7359999999999,
          912.6729999999998,
          941.1920000000002,
          970.2990000000001
         ]
        },
        {
         "type": "scatter",
         "x": [
          -10,
          -9.9,
          -9.8,
          -9.7,
          -9.6,
          -9.5,
          -9.4,
          -9.3,
          -9.2,
          -9.1,
          -9,
          -8.9,
          -8.8,
          -8.7,
          -8.6,
          -8.5,
          -8.4,
          -8.3,
          -8.2,
          -8.1,
          -8,
          -7.9,
          -7.8,
          -7.7,
          -7.6,
          -7.5,
          -7.4,
          -7.3,
          -7.2,
          -7.1,
          -7,
          -6.9,
          -6.8,
          -6.7,
          -6.6,
          -6.5,
          -6.4,
          -6.3,
          -6.2,
          -6.1,
          -6,
          -5.9,
          -5.8,
          -5.7,
          -5.6,
          -5.5,
          -5.4,
          -5.3,
          -5.2,
          -5.1,
          -5,
          -4.9,
          -4.8,
          -4.7,
          -4.6,
          -4.5,
          -4.4,
          -4.3,
          -4.2,
          -4.1,
          -4,
          -3.9,
          -3.8,
          -3.7,
          -3.6,
          -3.5,
          -3.4,
          -3.3,
          -3.2,
          -3.1,
          -3,
          -2.9,
          -2.8,
          -2.7,
          -2.6,
          -2.5,
          -2.4,
          -2.3,
          -2.2,
          -2.1,
          -2,
          -1.9,
          -1.8,
          -1.7,
          -1.6,
          -1.5,
          -1.4,
          -1.3,
          -1.2,
          -1.1,
          -1,
          -0.9,
          -0.8,
          -0.7,
          -0.6,
          -0.5,
          -0.4,
          -0.3,
          -0.2,
          -0.1,
          0,
          0.1,
          0.2,
          0.3,
          0.4,
          0.5,
          0.6,
          0.7,
          0.8,
          0.9,
          1,
          1.1,
          1.2,
          1.3,
          1.4,
          1.5,
          1.6,
          1.7,
          1.8,
          1.9,
          2,
          2.1,
          2.2,
          2.3,
          2.4,
          2.5,
          2.6,
          2.7,
          2.8,
          2.9,
          3,
          3.1,
          3.2,
          3.3,
          3.4,
          3.5,
          3.6,
          3.7,
          3.8,
          3.9,
          4,
          4.1,
          4.2,
          4.3,
          4.4,
          4.5,
          4.6,
          4.7,
          4.8,
          4.9,
          5,
          5.1,
          5.2,
          5.3,
          5.4,
          5.5,
          5.6,
          5.7,
          5.8,
          5.9,
          6,
          6.1,
          6.2,
          6.3,
          6.4,
          6.5,
          6.6,
          6.7,
          6.8,
          6.9,
          7,
          7.1,
          7.2,
          7.3,
          7.4,
          7.5,
          7.6,
          7.7,
          7.8,
          7.9,
          8,
          8.1,
          8.2,
          8.3,
          8.4,
          8.5,
          8.6,
          8.7,
          8.8,
          8.9,
          9,
          9.1,
          9.2,
          9.3,
          9.4,
          9.5,
          9.6,
          9.7,
          9.8,
          9.9
         ],
         "y": [
          10000,
          9605.960100000002,
          9223.681600000004,
          8852.928099999997,
          8493.4656,
          8145.0625,
          7807.489600000001,
          7480.5201000000025,
          7163.929599999998,
          6857.4960999999985,
          6561,
          6274.224100000001,
          5996.953600000002,
          5728.976099999998,
          5470.0815999999995,
          5220.0625,
          4978.713600000001,
          4745.832100000001,
          4521.217599999998,
          4304.672099999999,
          4096,
          3895.008100000001,
          3701.5055999999995,
          3515.3041000000003,
          3336.2175999999995,
          3164.0625,
          2998.6576000000005,
          2839.8241,
          2687.3856,
          2541.1680999999994,
          2401,
          2266.7121000000006,
          2138.1375999999996,
          2015.1121000000003,
          1897.4735999999996,
          1785.0625,
          1677.7216000000003,
          1575.2960999999998,
          1477.6336000000001,
          1384.5840999999996,
          1296,
          1211.7361000000003,
          1131.6496,
          1055.6001,
          983.4495999999998,
          915.0625,
          850.3056000000003,
          789.0480999999999,
          731.1616000000001,
          676.5200999999998,
          625,
          576.4801000000002,
          530.8416,
          487.96810000000005,
          447.74559999999985,
          410.0625,
          374.8096000000001,
          341.88009999999997,
          311.16960000000006,
          282.5760999999999,
          256,
          231.34409999999997,
          208.51359999999997,
          187.41610000000003,
          167.9616,
          150.0625,
          133.63359999999997,
          118.59209999999997,
          104.85760000000002,
          92.35210000000001,
          81,
          70.7281,
          61.46559999999999,
          53.144100000000016,
          45.69760000000001,
          39.0625,
          33.1776,
          27.98409999999999,
          23.425600000000006,
          19.448100000000004,
          16,
          13.032099999999998,
          10.4976,
          8.352099999999998,
          6.553600000000001,
          5.0625,
          3.8415999999999992,
          2.8561000000000005,
          2.0736,
          1.4641000000000004,
          1,
          0.6561,
          0.4096000000000001,
          0.24009999999999995,
          0.1296,
          0.0625,
          0.025600000000000005,
          0.0081,
          0.0016000000000000003,
          0.00010000000000000002,
          0,
          0.00010000000000000002,
          0.0016000000000000003,
          0.0081,
          0.025600000000000005,
          0.0625,
          0.1296,
          0.24009999999999995,
          0.4096000000000001,
          0.6561,
          1,
          1.4641000000000004,
          2.0736,
          2.8561000000000005,
          3.8415999999999992,
          5.0625,
          6.553600000000001,
          8.352099999999998,
          10.4976,
          13.032099999999998,
          16,
          19.448100000000004,
          23.425600000000006,
          27.98409999999999,
          33.1776,
          39.0625,
          45.69760000000001,
          53.144100000000016,
          61.46559999999999,
          70.7281,
          81,
          92.35210000000001,
          104.85760000000002,
          118.59209999999997,
          133.63359999999997,
          150.0625,
          167.9616,
          187.41610000000003,
          208.51359999999997,
          231.34409999999997,
          256,
          282.5760999999999,
          311.16960000000006,
          341.88009999999997,
          374.8096000000001,
          410.0625,
          447.74559999999985,
          487.96810000000005,
          530.8416,
          576.4801000000002,
          625,
          676.5200999999998,
          731.1616000000001,
          789.0480999999999,
          850.3056000000003,
          915.0625,
          983.4495999999998,
          1055.6001,
          1131.6496,
          1211.7361000000003,
          1296,
          1384.5840999999996,
          1477.6336000000001,
          1575.2960999999998,
          1677.7216000000003,
          1785.0625,
          1897.4735999999996,
          2015.1121000000003,
          2138.1375999999996,
          2266.7121000000006,
          2401,
          2541.1680999999994,
          2687.3856,
          2839.8241,
          2998.6576000000005,
          3164.0625,
          3336.2175999999995,
          3515.3041000000003,
          3701.5055999999995,
          3895.008100000001,
          4096,
          4304.672099999999,
          4521.217599999998,
          4745.832100000001,
          4978.713600000001,
          5220.0625,
          5470.0815999999995,
          5728.976099999998,
          5996.953600000002,
          6274.224100000001,
          6561,
          6857.4960999999985,
          7163.929599999998,
          7480.5201000000025,
          7807.489600000001,
          8145.0625,
          8493.4656,
          8852.928099999997,
          9223.681600000004,
          9605.960100000002
         ]
        }
       ],
       "layout": {
        "template": {
         "data": {
          "bar": [
           {
            "error_x": {
             "color": "#2a3f5f"
            },
            "error_y": {
             "color": "#2a3f5f"
            },
            "marker": {
             "line": {
              "color": "#E5ECF6",
              "width": 0.5
             }
            },
            "type": "bar"
           }
          ],
          "barpolar": [
           {
            "marker": {
             "line": {
              "color": "#E5ECF6",
              "width": 0.5
             }
            },
            "type": "barpolar"
           }
          ],
          "carpet": [
           {
            "aaxis": {
             "endlinecolor": "#2a3f5f",
             "gridcolor": "white",
             "linecolor": "white",
             "minorgridcolor": "white",
             "startlinecolor": "#2a3f5f"
            },
            "baxis": {
             "endlinecolor": "#2a3f5f",
             "gridcolor": "white",
             "linecolor": "white",
             "minorgridcolor": "white",
             "startlinecolor": "#2a3f5f"
            },
            "type": "carpet"
           }
          ],
          "choropleth": [
           {
            "colorbar": {
             "outlinewidth": 0,
             "ticks": ""
            },
            "type": "choropleth"
           }
          ],
          "contour": [
           {
            "colorbar": {
             "outlinewidth": 0,
             "ticks": ""
            },
            "colorscale": [
             [
              0,
              "#0d0887"
             ],
             [
              0.1111111111111111,
              "#46039f"
             ],
             [
              0.2222222222222222,
              "#7201a8"
             ],
             [
              0.3333333333333333,
              "#9c179e"
             ],
             [
              0.4444444444444444,
              "#bd3786"
             ],
             [
              0.5555555555555556,
              "#d8576b"
             ],
             [
              0.6666666666666666,
              "#ed7953"
             ],
             [
              0.7777777777777778,
              "#fb9f3a"
             ],
             [
              0.8888888888888888,
              "#fdca26"
             ],
             [
              1,
              "#f0f921"
             ]
            ],
            "type": "contour"
           }
          ],
          "contourcarpet": [
           {
            "colorbar": {
             "outlinewidth": 0,
             "ticks": ""
            },
            "type": "contourcarpet"
           }
          ],
          "heatmap": [
           {
            "colorbar": {
             "outlinewidth": 0,
             "ticks": ""
            },
            "colorscale": [
             [
              0,
              "#0d0887"
             ],
             [
              0.1111111111111111,
              "#46039f"
             ],
             [
              0.2222222222222222,
              "#7201a8"
             ],
             [
              0.3333333333333333,
              "#9c179e"
             ],
             [
              0.4444444444444444,
              "#bd3786"
             ],
             [
              0.5555555555555556,
              "#d8576b"
             ],
             [
              0.6666666666666666,
              "#ed7953"
             ],
             [
              0.7777777777777778,
              "#fb9f3a"
             ],
             [
              0.8888888888888888,
              "#fdca26"
             ],
             [
              1,
              "#f0f921"
             ]
            ],
            "type": "heatmap"
           }
          ],
          "heatmapgl": [
           {
            "colorbar": {
             "outlinewidth": 0,
             "ticks": ""
            },
            "colorscale": [
             [
              0,
              "#0d0887"
             ],
             [
              0.1111111111111111,
              "#46039f"
             ],
             [
              0.2222222222222222,
              "#7201a8"
             ],
             [
              0.3333333333333333,
              "#9c179e"
             ],
             [
              0.4444444444444444,
              "#bd3786"
             ],
             [
              0.5555555555555556,
              "#d8576b"
             ],
             [
              0.6666666666666666,
              "#ed7953"
             ],
             [
              0.7777777777777778,
              "#fb9f3a"
             ],
             [
              0.8888888888888888,
              "#fdca26"
             ],
             [
              1,
              "#f0f921"
             ]
            ],
            "type": "heatmapgl"
           }
          ],
          "histogram": [
           {
            "marker": {
             "colorbar": {
              "outlinewidth": 0,
              "ticks": ""
             }
            },
            "type": "histogram"
           }
          ],
          "histogram2d": [
           {
            "colorbar": {
             "outlinewidth": 0,
             "ticks": ""
            },
            "colorscale": [
             [
              0,
              "#0d0887"
             ],
             [
              0.1111111111111111,
              "#46039f"
             ],
             [
              0.2222222222222222,
              "#7201a8"
             ],
             [
              0.3333333333333333,
              "#9c179e"
             ],
             [
              0.4444444444444444,
              "#bd3786"
             ],
             [
              0.5555555555555556,
              "#d8576b"
             ],
             [
              0.6666666666666666,
              "#ed7953"
             ],
             [
              0.7777777777777778,
              "#fb9f3a"
             ],
             [
              0.8888888888888888,
              "#fdca26"
             ],
             [
              1,
              "#f0f921"
             ]
            ],
            "type": "histogram2d"
           }
          ],
          "histogram2dcontour": [
           {
            "colorbar": {
             "outlinewidth": 0,
             "ticks": ""
            },
            "colorscale": [
             [
              0,
              "#0d0887"
             ],
             [
              0.1111111111111111,
              "#46039f"
             ],
             [
              0.2222222222222222,
              "#7201a8"
             ],
             [
              0.3333333333333333,
              "#9c179e"
             ],
             [
              0.4444444444444444,
              "#bd3786"
             ],
             [
              0.5555555555555556,
              "#d8576b"
             ],
             [
              0.6666666666666666,
              "#ed7953"
             ],
             [
              0.7777777777777778,
              "#fb9f3a"
             ],
             [
              0.8888888888888888,
              "#fdca26"
             ],
             [
              1,
              "#f0f921"
             ]
            ],
            "type": "histogram2dcontour"
           }
          ],
          "mesh3d": [
           {
            "colorbar": {
             "outlinewidth": 0,
             "ticks": ""
            },
            "type": "mesh3d"
           }
          ],
          "parcoords": [
           {
            "line": {
             "colorbar": {
              "outlinewidth": 0,
              "ticks": ""
             }
            },
            "type": "parcoords"
           }
          ],
          "pie": [
           {
            "automargin": true,
            "type": "pie"
           }
          ],
          "scatter": [
           {
            "marker": {
             "colorbar": {
              "outlinewidth": 0,
              "ticks": ""
             }
            },
            "type": "scatter"
           }
          ],
          "scatter3d": [
           {
            "line": {
             "colorbar": {
              "outlinewidth": 0,
              "ticks": ""
             }
            },
            "marker": {
             "colorbar": {
              "outlinewidth": 0,
              "ticks": ""
             }
            },
            "type": "scatter3d"
           }
          ],
          "scattercarpet": [
           {
            "marker": {
             "colorbar": {
              "outlinewidth": 0,
              "ticks": ""
             }
            },
            "type": "scattercarpet"
           }
          ],
          "scattergeo": [
           {
            "marker": {
             "colorbar": {
              "outlinewidth": 0,
              "ticks": ""
             }
            },
            "type": "scattergeo"
           }
          ],
          "scattergl": [
           {
            "marker": {
             "colorbar": {
              "outlinewidth": 0,
              "ticks": ""
             }
            },
            "type": "scattergl"
           }
          ],
          "scattermapbox": [
           {
            "marker": {
             "colorbar": {
              "outlinewidth": 0,
              "ticks": ""
             }
            },
            "type": "scattermapbox"
           }
          ],
          "scatterpolar": [
           {
            "marker": {
             "colorbar": {
              "outlinewidth": 0,
              "ticks": ""
             }
            },
            "type": "scatterpolar"
           }
          ],
          "scatterpolargl": [
           {
            "marker": {
             "colorbar": {
              "outlinewidth": 0,
              "ticks": ""
             }
            },
            "type": "scatterpolargl"
           }
          ],
          "scatterternary": [
           {
            "marker": {
             "colorbar": {
              "outlinewidth": 0,
              "ticks": ""
             }
            },
            "type": "scatterternary"
           }
          ],
          "surface": [
           {
            "colorbar": {
             "outlinewidth": 0,
             "ticks": ""
            },
            "colorscale": [
             [
              0,
              "#0d0887"
             ],
             [
              0.1111111111111111,
              "#46039f"
             ],
             [
              0.2222222222222222,
              "#7201a8"
             ],
             [
              0.3333333333333333,
              "#9c179e"
             ],
             [
              0.4444444444444444,
              "#bd3786"
             ],
             [
              0.5555555555555556,
              "#d8576b"
             ],
             [
              0.6666666666666666,
              "#ed7953"
             ],
             [
              0.7777777777777778,
              "#fb9f3a"
             ],
             [
              0.8888888888888888,
              "#fdca26"
             ],
             [
              1,
              "#f0f921"
             ]
            ],
            "type": "surface"
           }
          ],
          "table": [
           {
            "cells": {
             "fill": {
              "color": "#EBF0F8"
             },
             "line": {
              "color": "white"
             }
            },
            "header": {
             "fill": {
              "color": "#C8D4E3"
             },
             "line": {
              "color": "white"
             }
            },
            "type": "table"
           }
          ]
         },
         "layout": {
          "annotationdefaults": {
           "arrowcolor": "#2a3f5f",
           "arrowhead": 0,
           "arrowwidth": 1
          },
          "coloraxis": {
           "colorbar": {
            "outlinewidth": 0,
            "ticks": ""
           }
          },
          "colorscale": {
           "diverging": [
            [
             0,
             "#8e0152"
            ],
            [
             0.1,
             "#c51b7d"
            ],
            [
             0.2,
             "#de77ae"
            ],
            [
             0.3,
             "#f1b6da"
            ],
            [
             0.4,
             "#fde0ef"
            ],
            [
             0.5,
             "#f7f7f7"
            ],
            [
             0.6,
             "#e6f5d0"
            ],
            [
             0.7,
             "#b8e186"
            ],
            [
             0.8,
             "#7fbc41"
            ],
            [
             0.9,
             "#4d9221"
            ],
            [
             1,
             "#276419"
            ]
           ],
           "sequential": [
            [
             0,
             "#0d0887"
            ],
            [
             0.1111111111111111,
             "#46039f"
            ],
            [
             0.2222222222222222,
             "#7201a8"
            ],
            [
             0.3333333333333333,
             "#9c179e"
            ],
            [
             0.4444444444444444,
             "#bd3786"
            ],
            [
             0.5555555555555556,
             "#d8576b"
            ],
            [
             0.6666666666666666,
             "#ed7953"
            ],
            [
             0.7777777777777778,
             "#fb9f3a"
            ],
            [
             0.8888888888888888,
             "#fdca26"
            ],
            [
             1,
             "#f0f921"
            ]
           ],
           "sequentialminus": [
            [
             0,
             "#0d0887"
            ],
            [
             0.1111111111111111,
             "#46039f"
            ],
            [
             0.2222222222222222,
             "#7201a8"
            ],
            [
             0.3333333333333333,
             "#9c179e"
            ],
            [
             0.4444444444444444,
             "#bd3786"
            ],
            [
             0.5555555555555556,
             "#d8576b"
            ],
            [
             0.6666666666666666,
             "#ed7953"
            ],
            [
             0.7777777777777778,
             "#fb9f3a"
            ],
            [
             0.8888888888888888,
             "#fdca26"
            ],
            [
             1,
             "#f0f921"
            ]
           ]
          },
          "colorway": [
           "#636efa",
           "#EF553B",
           "#00cc96",
           "#ab63fa",
           "#FFA15A",
           "#19d3f3",
           "#FF6692",
           "#B6E880",
           "#FF97FF",
           "#FECB52"
          ],
          "font": {
           "color": "#2a3f5f"
          },
          "geo": {
           "bgcolor": "white",
           "lakecolor": "white",
           "landcolor": "#E5ECF6",
           "showlakes": true,
           "showland": true,
           "subunitcolor": "white"
          },
          "hoverlabel": {
           "align": "left"
          },
          "hovermode": "closest",
          "mapbox": {
           "style": "light"
          },
          "paper_bgcolor": "white",
          "plot_bgcolor": "#E5ECF6",
          "polar": {
           "angularaxis": {
            "gridcolor": "white",
            "linecolor": "white",
            "ticks": ""
           },
           "bgcolor": "#E5ECF6",
           "radialaxis": {
            "gridcolor": "white",
            "linecolor": "white",
            "ticks": ""
           }
          },
          "scene": {
           "xaxis": {
            "backgroundcolor": "#E5ECF6",
            "gridcolor": "white",
            "gridwidth": 2,
            "linecolor": "white",
            "showbackground": true,
            "ticks": "",
            "zerolinecolor": "white"
           },
           "yaxis": {
            "backgroundcolor": "#E5ECF6",
            "gridcolor": "white",
            "gridwidth": 2,
            "linecolor": "white",
            "showbackground": true,
            "ticks": "",
            "zerolinecolor": "white"
           },
           "zaxis": {
            "backgroundcolor": "#E5ECF6",
            "gridcolor": "white",
            "gridwidth": 2,
            "linecolor": "white",
            "showbackground": true,
            "ticks": "",
            "zerolinecolor": "white"
           }
          },
          "shapedefaults": {
           "line": {
            "color": "#2a3f5f"
           }
          },
          "ternary": {
           "aaxis": {
            "gridcolor": "white",
            "linecolor": "white",
            "ticks": ""
           },
           "baxis": {
            "gridcolor": "white",
            "linecolor": "white",
            "ticks": ""
           },
           "bgcolor": "#E5ECF6",
           "caxis": {
            "gridcolor": "white",
            "linecolor": "white",
            "ticks": ""
           }
          },
          "title": {
           "x": 0.05
          },
          "xaxis": {
           "automargin": true,
           "gridcolor": "white",
           "linecolor": "white",
           "ticks": "",
           "title": {
            "standoff": 15
           },
           "zerolinecolor": "white",
           "zerolinewidth": 2
          },
          "yaxis": {
           "automargin": true,
           "gridcolor": "white",
           "linecolor": "white",
           "ticks": "",
           "title": {
            "standoff": 15
           },
           "zerolinecolor": "white",
           "zerolinewidth": 2
          }
         }
        }
       }
      },
      "text/html": [
       "<div>\n",
       "        \n",
       "        \n",
       "            <div id=\"e2a964ba-169f-4077-9ebc-e65c137da15b\" class=\"plotly-graph-div\" style=\"height:525px; width:100%;\"></div>\n",
       "            <script type=\"text/javascript\">\n",
       "                require([\"plotly\"], function(Plotly) {\n",
       "                    window.PLOTLYENV=window.PLOTLYENV || {};\n",
       "                    \n",
       "                if (document.getElementById(\"e2a964ba-169f-4077-9ebc-e65c137da15b\")) {\n",
       "                    Plotly.newPlot(\n",
       "                        'e2a964ba-169f-4077-9ebc-e65c137da15b',\n",
       "                        [{\"type\": \"scatter\", \"x\": [-10.0, -9.9, -9.8, -9.7, -9.6, -9.5, -9.4, -9.3, -9.2, -9.1, -9.0, -8.9, -8.8, -8.7, -8.6, -8.5, -8.4, -8.3, -8.2, -8.1, -8.0, -7.9, -7.8, -7.7, -7.6, -7.5, -7.4, -7.3, -7.2, -7.1, -7.0, -6.9, -6.8, -6.7, -6.6, -6.5, -6.4, -6.3, -6.2, -6.1, -6.0, -5.9, -5.8, -5.7, -5.6, -5.5, -5.4, -5.3, -5.2, -5.1, -5.0, -4.9, -4.8, -4.7, -4.6, -4.5, -4.4, -4.3, -4.2, -4.1, -4.0, -3.9, -3.8, -3.7, -3.6, -3.5, -3.4, -3.3, -3.2, -3.1, -3.0, -2.9, -2.8, -2.7, -2.6, -2.5, -2.4, -2.3, -2.2, -2.1, -2.0, -1.9, -1.8, -1.7, -1.6, -1.5, -1.4, -1.3, -1.2, -1.1, -1.0, -0.9, -0.8, -0.7, -0.6, -0.5, -0.4, -0.3, -0.2, -0.1, 0.0, 0.1, 0.2, 0.3, 0.4, 0.5, 0.6, 0.7, 0.8, 0.9, 1.0, 1.1, 1.2, 1.3, 1.4, 1.5, 1.6, 1.7, 1.8, 1.9, 2.0, 2.1, 2.2, 2.3, 2.4, 2.5, 2.6, 2.7, 2.8, 2.9, 3.0, 3.1, 3.2, 3.3, 3.4, 3.5, 3.6, 3.7, 3.8, 3.9, 4.0, 4.1, 4.2, 4.3, 4.4, 4.5, 4.6, 4.7, 4.8, 4.9, 5.0, 5.1, 5.2, 5.3, 5.4, 5.5, 5.6, 5.7, 5.8, 5.9, 6.0, 6.1, 6.2, 6.3, 6.4, 6.5, 6.6, 6.7, 6.8, 6.9, 7.0, 7.1, 7.2, 7.3, 7.4, 7.5, 7.6, 7.7, 7.8, 7.9, 8.0, 8.1, 8.2, 8.3, 8.4, 8.5, 8.6, 8.7, 8.8, 8.9, 9.0, 9.1, 9.2, 9.3, 9.4, 9.5, 9.6, 9.7, 9.8, 9.9], \"y\": [100.0, 98.01, 96.04000000000002, 94.08999999999999, 92.16, 90.25, 88.36000000000001, 86.49000000000001, 84.63999999999999, 82.80999999999999, 81.0, 79.21000000000001, 77.44000000000001, 75.68999999999998, 73.96, 72.25, 70.56, 68.89000000000001, 67.24, 65.61, 64.0, 62.410000000000004, 60.839999999999996, 59.290000000000006, 57.76, 56.25, 54.760000000000005, 53.29, 51.84, 50.41, 49.0, 47.61000000000001, 46.239999999999995, 44.89, 43.559999999999995, 42.25, 40.96000000000001, 39.69, 38.440000000000005, 37.209999999999994, 36.0, 34.81, 33.64, 32.49, 31.359999999999996, 30.25, 29.160000000000004, 28.09, 27.040000000000003, 26.009999999999998, 25.0, 24.010000000000005, 23.04, 22.090000000000003, 21.159999999999997, 20.25, 19.360000000000003, 18.49, 17.64, 16.81, 16.0, 15.209999999999999, 14.44, 13.690000000000001, 12.96, 12.25, 11.559999999999999, 10.889999999999999, 10.240000000000002, 9.610000000000001, 9.0, 8.41, 7.839999999999999, 7.290000000000001, 6.760000000000001, 6.25, 5.76, 5.289999999999999, 4.840000000000001, 4.41, 4.0, 3.61, 3.24, 2.8899999999999997, 2.5600000000000005, 2.25, 1.9599999999999997, 1.6900000000000002, 1.44, 1.2100000000000002, 1.0, 0.81, 0.6400000000000001, 0.48999999999999994, 0.36, 0.25, 0.16000000000000003, 0.09, 0.04000000000000001, 0.010000000000000002, 0.0, 0.010000000000000002, 0.04000000000000001, 0.09, 0.16000000000000003, 0.25, 0.36, 0.48999999999999994, 0.6400000000000001, 0.81, 1.0, 1.2100000000000002, 1.44, 1.6900000000000002, 1.9599999999999997, 2.25, 2.5600000000000005, 2.8899999999999997, 3.24, 3.61, 4.0, 4.41, 4.840000000000001, 5.289999999999999, 5.76, 6.25, 6.760000000000001, 7.290000000000001, 7.839999999999999, 8.41, 9.0, 9.610000000000001, 10.240000000000002, 10.889999999999999, 11.559999999999999, 12.25, 12.96, 13.690000000000001, 14.44, 15.209999999999999, 16.0, 16.81, 17.64, 18.49, 19.360000000000003, 20.25, 21.159999999999997, 22.090000000000003, 23.04, 24.010000000000005, 25.0, 26.009999999999998, 27.040000000000003, 28.09, 29.160000000000004, 30.25, 31.359999999999996, 32.49, 33.64, 34.81, 36.0, 37.209999999999994, 38.440000000000005, 39.69, 40.96000000000001, 42.25, 43.559999999999995, 44.89, 46.239999999999995, 47.61000000000001, 49.0, 50.41, 51.84, 53.29, 54.760000000000005, 56.25, 57.76, 59.290000000000006, 60.839999999999996, 62.410000000000004, 64.0, 65.61, 67.24, 68.89000000000001, 70.56, 72.25, 73.96, 75.68999999999998, 77.44000000000001, 79.21000000000001, 81.0, 82.80999999999999, 84.63999999999999, 86.49000000000001, 88.36000000000001, 90.25, 92.16, 94.08999999999999, 96.04000000000002, 98.01]}, {\"type\": \"scatter\", \"x\": [-10.0, -9.9, -9.8, -9.7, -9.6, -9.5, -9.4, -9.3, -9.2, -9.1, -9.0, -8.9, -8.8, -8.7, -8.6, -8.5, -8.4, -8.3, -8.2, -8.1, -8.0, -7.9, -7.8, -7.7, -7.6, -7.5, -7.4, -7.3, -7.2, -7.1, -7.0, -6.9, -6.8, -6.7, -6.6, -6.5, -6.4, -6.3, -6.2, -6.1, -6.0, -5.9, -5.8, -5.7, -5.6, -5.5, -5.4, -5.3, -5.2, -5.1, -5.0, -4.9, -4.8, -4.7, -4.6, -4.5, -4.4, -4.3, -4.2, -4.1, -4.0, -3.9, -3.8, -3.7, -3.6, -3.5, -3.4, -3.3, -3.2, -3.1, -3.0, -2.9, -2.8, -2.7, -2.6, -2.5, -2.4, -2.3, -2.2, -2.1, -2.0, -1.9, -1.8, -1.7, -1.6, -1.5, -1.4, -1.3, -1.2, -1.1, -1.0, -0.9, -0.8, -0.7, -0.6, -0.5, -0.4, -0.3, -0.2, -0.1, 0.0, 0.1, 0.2, 0.3, 0.4, 0.5, 0.6, 0.7, 0.8, 0.9, 1.0, 1.1, 1.2, 1.3, 1.4, 1.5, 1.6, 1.7, 1.8, 1.9, 2.0, 2.1, 2.2, 2.3, 2.4, 2.5, 2.6, 2.7, 2.8, 2.9, 3.0, 3.1, 3.2, 3.3, 3.4, 3.5, 3.6, 3.7, 3.8, 3.9, 4.0, 4.1, 4.2, 4.3, 4.4, 4.5, 4.6, 4.7, 4.8, 4.9, 5.0, 5.1, 5.2, 5.3, 5.4, 5.5, 5.6, 5.7, 5.8, 5.9, 6.0, 6.1, 6.2, 6.3, 6.4, 6.5, 6.6, 6.7, 6.8, 6.9, 7.0, 7.1, 7.2, 7.3, 7.4, 7.5, 7.6, 7.7, 7.8, 7.9, 8.0, 8.1, 8.2, 8.3, 8.4, 8.5, 8.6, 8.7, 8.8, 8.9, 9.0, 9.1, 9.2, 9.3, 9.4, 9.5, 9.6, 9.7, 9.8, 9.9], \"y\": [-1000.0, -970.2990000000001, -941.1920000000002, -912.6729999999998, -884.7359999999999, -857.375, -830.5840000000001, -804.3570000000002, -778.6879999999999, -753.5709999999999, -729.0, -704.969, -681.4720000000002, -658.5029999999998, -636.0559999999999, -614.125, -592.7040000000001, -571.7870000000001, -551.3679999999998, -531.4409999999999, -512.0, -493.03900000000004, -474.55199999999996, -456.533, -438.97599999999994, -421.875, -405.22400000000005, -389.017, -373.24800000000005, -357.91099999999994, -343.0, -328.50900000000007, -314.43199999999996, -300.76300000000003, -287.496, -274.625, -262.14400000000006, -250.04699999999997, -238.32800000000003, -226.98099999999997, -216.0, -205.37900000000005, -195.112, -185.193, -175.61599999999996, -166.375, -157.46400000000003, -148.87699999999998, -140.608, -132.65099999999998, -125.0, -117.64900000000003, -110.59199999999998, -103.82300000000001, -97.33599999999998, -91.125, -85.18400000000003, -79.50699999999999, -74.08800000000001, -68.92099999999998, -64.0, -59.318999999999996, -54.87199999999999, -50.653000000000006, -46.656000000000006, -42.875, -39.303999999999995, -35.937, -32.76800000000001, -29.791000000000004, -27.0, -24.389, -21.951999999999995, -19.683000000000003, -17.576, -15.625, -13.823999999999998, -12.166999999999998, -10.648000000000003, -9.261000000000001, -8.0, -6.858999999999999, -5.832000000000001, -4.912999999999999, -4.096000000000001, -3.375, -2.7439999999999993, -2.197, -1.7279999999999998, -1.3310000000000004, -1.0, -0.7290000000000001, -0.5120000000000001, -0.3429999999999999, -0.21599999999999997, -0.125, -0.06400000000000002, -0.026999999999999996, -0.008000000000000002, -0.0010000000000000002, 0.0, 0.0010000000000000002, 0.008000000000000002, 0.026999999999999996, 0.06400000000000002, 0.125, 0.21599999999999997, 0.3429999999999999, 0.5120000000000001, 0.7290000000000001, 1.0, 1.3310000000000004, 1.7279999999999998, 2.197, 2.7439999999999993, 3.375, 4.096000000000001, 4.912999999999999, 5.832000000000001, 6.858999999999999, 8.0, 9.261000000000001, 10.648000000000003, 12.166999999999998, 13.823999999999998, 15.625, 17.576, 19.683000000000003, 21.951999999999995, 24.389, 27.0, 29.791000000000004, 32.76800000000001, 35.937, 39.303999999999995, 42.875, 46.656000000000006, 50.653000000000006, 54.87199999999999, 59.318999999999996, 64.0, 68.92099999999998, 74.08800000000001, 79.50699999999999, 85.18400000000003, 91.125, 97.33599999999998, 103.82300000000001, 110.59199999999998, 117.64900000000003, 125.0, 132.65099999999998, 140.608, 148.87699999999998, 157.46400000000003, 166.375, 175.61599999999996, 185.193, 195.112, 205.37900000000005, 216.0, 226.98099999999997, 238.32800000000003, 250.04699999999997, 262.14400000000006, 274.625, 287.496, 300.76300000000003, 314.43199999999996, 328.50900000000007, 343.0, 357.91099999999994, 373.24800000000005, 389.017, 405.22400000000005, 421.875, 438.97599999999994, 456.533, 474.55199999999996, 493.03900000000004, 512.0, 531.4409999999999, 551.3679999999998, 571.7870000000001, 592.7040000000001, 614.125, 636.0559999999999, 658.5029999999998, 681.4720000000002, 704.969, 729.0, 753.5709999999999, 778.6879999999999, 804.3570000000002, 830.5840000000001, 857.375, 884.7359999999999, 912.6729999999998, 941.1920000000002, 970.2990000000001]}, {\"type\": \"scatter\", \"x\": [-10.0, -9.9, -9.8, -9.7, -9.6, -9.5, -9.4, -9.3, -9.2, -9.1, -9.0, -8.9, -8.8, -8.7, -8.6, -8.5, -8.4, -8.3, -8.2, -8.1, -8.0, -7.9, -7.8, -7.7, -7.6, -7.5, -7.4, -7.3, -7.2, -7.1, -7.0, -6.9, -6.8, -6.7, -6.6, -6.5, -6.4, -6.3, -6.2, -6.1, -6.0, -5.9, -5.8, -5.7, -5.6, -5.5, -5.4, -5.3, -5.2, -5.1, -5.0, -4.9, -4.8, -4.7, -4.6, -4.5, -4.4, -4.3, -4.2, -4.1, -4.0, -3.9, -3.8, -3.7, -3.6, -3.5, -3.4, -3.3, -3.2, -3.1, -3.0, -2.9, -2.8, -2.7, -2.6, -2.5, -2.4, -2.3, -2.2, -2.1, -2.0, -1.9, -1.8, -1.7, -1.6, -1.5, -1.4, -1.3, -1.2, -1.1, -1.0, -0.9, -0.8, -0.7, -0.6, -0.5, -0.4, -0.3, -0.2, -0.1, 0.0, 0.1, 0.2, 0.3, 0.4, 0.5, 0.6, 0.7, 0.8, 0.9, 1.0, 1.1, 1.2, 1.3, 1.4, 1.5, 1.6, 1.7, 1.8, 1.9, 2.0, 2.1, 2.2, 2.3, 2.4, 2.5, 2.6, 2.7, 2.8, 2.9, 3.0, 3.1, 3.2, 3.3, 3.4, 3.5, 3.6, 3.7, 3.8, 3.9, 4.0, 4.1, 4.2, 4.3, 4.4, 4.5, 4.6, 4.7, 4.8, 4.9, 5.0, 5.1, 5.2, 5.3, 5.4, 5.5, 5.6, 5.7, 5.8, 5.9, 6.0, 6.1, 6.2, 6.3, 6.4, 6.5, 6.6, 6.7, 6.8, 6.9, 7.0, 7.1, 7.2, 7.3, 7.4, 7.5, 7.6, 7.7, 7.8, 7.9, 8.0, 8.1, 8.2, 8.3, 8.4, 8.5, 8.6, 8.7, 8.8, 8.9, 9.0, 9.1, 9.2, 9.3, 9.4, 9.5, 9.6, 9.7, 9.8, 9.9], \"y\": [10000.0, 9605.960100000002, 9223.681600000004, 8852.928099999997, 8493.4656, 8145.0625, 7807.489600000001, 7480.5201000000025, 7163.929599999998, 6857.4960999999985, 6561.0, 6274.224100000001, 5996.953600000002, 5728.976099999998, 5470.0815999999995, 5220.0625, 4978.713600000001, 4745.832100000001, 4521.217599999998, 4304.672099999999, 4096.0, 3895.008100000001, 3701.5055999999995, 3515.3041000000003, 3336.2175999999995, 3164.0625, 2998.6576000000005, 2839.8241, 2687.3856, 2541.1680999999994, 2401.0, 2266.7121000000006, 2138.1375999999996, 2015.1121000000003, 1897.4735999999996, 1785.0625, 1677.7216000000003, 1575.2960999999998, 1477.6336000000001, 1384.5840999999996, 1296.0, 1211.7361000000003, 1131.6496, 1055.6001, 983.4495999999998, 915.0625, 850.3056000000003, 789.0480999999999, 731.1616000000001, 676.5200999999998, 625.0, 576.4801000000002, 530.8416, 487.96810000000005, 447.74559999999985, 410.0625, 374.8096000000001, 341.88009999999997, 311.16960000000006, 282.5760999999999, 256.0, 231.34409999999997, 208.51359999999997, 187.41610000000003, 167.9616, 150.0625, 133.63359999999997, 118.59209999999997, 104.85760000000002, 92.35210000000001, 81.0, 70.7281, 61.46559999999999, 53.144100000000016, 45.69760000000001, 39.0625, 33.1776, 27.98409999999999, 23.425600000000006, 19.448100000000004, 16.0, 13.032099999999998, 10.4976, 8.352099999999998, 6.553600000000001, 5.0625, 3.8415999999999992, 2.8561000000000005, 2.0736, 1.4641000000000004, 1.0, 0.6561, 0.4096000000000001, 0.24009999999999995, 0.1296, 0.0625, 0.025600000000000005, 0.0081, 0.0016000000000000003, 0.00010000000000000002, 0.0, 0.00010000000000000002, 0.0016000000000000003, 0.0081, 0.025600000000000005, 0.0625, 0.1296, 0.24009999999999995, 0.4096000000000001, 0.6561, 1.0, 1.4641000000000004, 2.0736, 2.8561000000000005, 3.8415999999999992, 5.0625, 6.553600000000001, 8.352099999999998, 10.4976, 13.032099999999998, 16.0, 19.448100000000004, 23.425600000000006, 27.98409999999999, 33.1776, 39.0625, 45.69760000000001, 53.144100000000016, 61.46559999999999, 70.7281, 81.0, 92.35210000000001, 104.85760000000002, 118.59209999999997, 133.63359999999997, 150.0625, 167.9616, 187.41610000000003, 208.51359999999997, 231.34409999999997, 256.0, 282.5760999999999, 311.16960000000006, 341.88009999999997, 374.8096000000001, 410.0625, 447.74559999999985, 487.96810000000005, 530.8416, 576.4801000000002, 625.0, 676.5200999999998, 731.1616000000001, 789.0480999999999, 850.3056000000003, 915.0625, 983.4495999999998, 1055.6001, 1131.6496, 1211.7361000000003, 1296.0, 1384.5840999999996, 1477.6336000000001, 1575.2960999999998, 1677.7216000000003, 1785.0625, 1897.4735999999996, 2015.1121000000003, 2138.1375999999996, 2266.7121000000006, 2401.0, 2541.1680999999994, 2687.3856, 2839.8241, 2998.6576000000005, 3164.0625, 3336.2175999999995, 3515.3041000000003, 3701.5055999999995, 3895.008100000001, 4096.0, 4304.672099999999, 4521.217599999998, 4745.832100000001, 4978.713600000001, 5220.0625, 5470.0815999999995, 5728.976099999998, 5996.953600000002, 6274.224100000001, 6561.0, 6857.4960999999985, 7163.929599999998, 7480.5201000000025, 7807.489600000001, 8145.0625, 8493.4656, 8852.928099999997, 9223.681600000004, 9605.960100000002]}],\n",
       "                        {\"template\": {\"data\": {\"bar\": [{\"error_x\": {\"color\": \"#2a3f5f\"}, \"error_y\": {\"color\": \"#2a3f5f\"}, \"marker\": {\"line\": {\"color\": \"#E5ECF6\", \"width\": 0.5}}, \"type\": \"bar\"}], \"barpolar\": [{\"marker\": {\"line\": {\"color\": \"#E5ECF6\", \"width\": 0.5}}, \"type\": \"barpolar\"}], \"carpet\": [{\"aaxis\": {\"endlinecolor\": \"#2a3f5f\", \"gridcolor\": \"white\", \"linecolor\": \"white\", \"minorgridcolor\": \"white\", \"startlinecolor\": \"#2a3f5f\"}, \"baxis\": {\"endlinecolor\": \"#2a3f5f\", \"gridcolor\": \"white\", \"linecolor\": \"white\", \"minorgridcolor\": \"white\", \"startlinecolor\": \"#2a3f5f\"}, \"type\": \"carpet\"}], \"choropleth\": [{\"colorbar\": {\"outlinewidth\": 0, \"ticks\": \"\"}, \"type\": \"choropleth\"}], \"contour\": [{\"colorbar\": {\"outlinewidth\": 0, \"ticks\": \"\"}, \"colorscale\": [[0.0, \"#0d0887\"], [0.1111111111111111, \"#46039f\"], [0.2222222222222222, \"#7201a8\"], [0.3333333333333333, \"#9c179e\"], [0.4444444444444444, \"#bd3786\"], [0.5555555555555556, \"#d8576b\"], [0.6666666666666666, \"#ed7953\"], [0.7777777777777778, \"#fb9f3a\"], [0.8888888888888888, \"#fdca26\"], [1.0, \"#f0f921\"]], \"type\": \"contour\"}], \"contourcarpet\": [{\"colorbar\": {\"outlinewidth\": 0, \"ticks\": \"\"}, \"type\": \"contourcarpet\"}], \"heatmap\": [{\"colorbar\": {\"outlinewidth\": 0, \"ticks\": \"\"}, \"colorscale\": [[0.0, \"#0d0887\"], [0.1111111111111111, \"#46039f\"], [0.2222222222222222, \"#7201a8\"], [0.3333333333333333, \"#9c179e\"], [0.4444444444444444, \"#bd3786\"], [0.5555555555555556, \"#d8576b\"], [0.6666666666666666, \"#ed7953\"], [0.7777777777777778, \"#fb9f3a\"], [0.8888888888888888, \"#fdca26\"], [1.0, \"#f0f921\"]], \"type\": \"heatmap\"}], \"heatmapgl\": [{\"colorbar\": {\"outlinewidth\": 0, \"ticks\": \"\"}, \"colorscale\": [[0.0, \"#0d0887\"], [0.1111111111111111, \"#46039f\"], [0.2222222222222222, \"#7201a8\"], [0.3333333333333333, \"#9c179e\"], [0.4444444444444444, \"#bd3786\"], [0.5555555555555556, \"#d8576b\"], [0.6666666666666666, \"#ed7953\"], [0.7777777777777778, \"#fb9f3a\"], [0.8888888888888888, \"#fdca26\"], [1.0, \"#f0f921\"]], \"type\": \"heatmapgl\"}], \"histogram\": [{\"marker\": {\"colorbar\": {\"outlinewidth\": 0, \"ticks\": \"\"}}, \"type\": \"histogram\"}], \"histogram2d\": [{\"colorbar\": {\"outlinewidth\": 0, \"ticks\": \"\"}, \"colorscale\": [[0.0, \"#0d0887\"], [0.1111111111111111, \"#46039f\"], [0.2222222222222222, \"#7201a8\"], [0.3333333333333333, \"#9c179e\"], [0.4444444444444444, \"#bd3786\"], [0.5555555555555556, \"#d8576b\"], [0.6666666666666666, \"#ed7953\"], [0.7777777777777778, \"#fb9f3a\"], [0.8888888888888888, \"#fdca26\"], [1.0, \"#f0f921\"]], \"type\": \"histogram2d\"}], \"histogram2dcontour\": [{\"colorbar\": {\"outlinewidth\": 0, \"ticks\": \"\"}, \"colorscale\": [[0.0, \"#0d0887\"], [0.1111111111111111, \"#46039f\"], [0.2222222222222222, \"#7201a8\"], [0.3333333333333333, \"#9c179e\"], [0.4444444444444444, \"#bd3786\"], [0.5555555555555556, \"#d8576b\"], [0.6666666666666666, \"#ed7953\"], [0.7777777777777778, \"#fb9f3a\"], [0.8888888888888888, \"#fdca26\"], [1.0, \"#f0f921\"]], \"type\": \"histogram2dcontour\"}], \"mesh3d\": [{\"colorbar\": {\"outlinewidth\": 0, \"ticks\": \"\"}, \"type\": \"mesh3d\"}], \"parcoords\": [{\"line\": {\"colorbar\": {\"outlinewidth\": 0, \"ticks\": \"\"}}, \"type\": \"parcoords\"}], \"pie\": [{\"automargin\": true, \"type\": \"pie\"}], \"scatter\": [{\"marker\": {\"colorbar\": {\"outlinewidth\": 0, \"ticks\": \"\"}}, \"type\": \"scatter\"}], \"scatter3d\": [{\"line\": {\"colorbar\": {\"outlinewidth\": 0, \"ticks\": \"\"}}, \"marker\": {\"colorbar\": {\"outlinewidth\": 0, \"ticks\": \"\"}}, \"type\": \"scatter3d\"}], \"scattercarpet\": [{\"marker\": {\"colorbar\": {\"outlinewidth\": 0, \"ticks\": \"\"}}, \"type\": \"scattercarpet\"}], \"scattergeo\": [{\"marker\": {\"colorbar\": {\"outlinewidth\": 0, \"ticks\": \"\"}}, \"type\": \"scattergeo\"}], \"scattergl\": [{\"marker\": {\"colorbar\": {\"outlinewidth\": 0, \"ticks\": \"\"}}, \"type\": \"scattergl\"}], \"scattermapbox\": [{\"marker\": {\"colorbar\": {\"outlinewidth\": 0, \"ticks\": \"\"}}, \"type\": \"scattermapbox\"}], \"scatterpolar\": [{\"marker\": {\"colorbar\": {\"outlinewidth\": 0, \"ticks\": \"\"}}, \"type\": \"scatterpolar\"}], \"scatterpolargl\": [{\"marker\": {\"colorbar\": {\"outlinewidth\": 0, \"ticks\": \"\"}}, \"type\": \"scatterpolargl\"}], \"scatterternary\": [{\"marker\": {\"colorbar\": {\"outlinewidth\": 0, \"ticks\": \"\"}}, \"type\": \"scatterternary\"}], \"surface\": [{\"colorbar\": {\"outlinewidth\": 0, \"ticks\": \"\"}, \"colorscale\": [[0.0, \"#0d0887\"], [0.1111111111111111, \"#46039f\"], [0.2222222222222222, \"#7201a8\"], [0.3333333333333333, \"#9c179e\"], [0.4444444444444444, \"#bd3786\"], [0.5555555555555556, \"#d8576b\"], [0.6666666666666666, \"#ed7953\"], [0.7777777777777778, \"#fb9f3a\"], [0.8888888888888888, \"#fdca26\"], [1.0, \"#f0f921\"]], \"type\": \"surface\"}], \"table\": [{\"cells\": {\"fill\": {\"color\": \"#EBF0F8\"}, \"line\": {\"color\": \"white\"}}, \"header\": {\"fill\": {\"color\": \"#C8D4E3\"}, \"line\": {\"color\": \"white\"}}, \"type\": \"table\"}]}, \"layout\": {\"annotationdefaults\": {\"arrowcolor\": \"#2a3f5f\", \"arrowhead\": 0, \"arrowwidth\": 1}, \"coloraxis\": {\"colorbar\": {\"outlinewidth\": 0, \"ticks\": \"\"}}, \"colorscale\": {\"diverging\": [[0, \"#8e0152\"], [0.1, \"#c51b7d\"], [0.2, \"#de77ae\"], [0.3, \"#f1b6da\"], [0.4, \"#fde0ef\"], [0.5, \"#f7f7f7\"], [0.6, \"#e6f5d0\"], [0.7, \"#b8e186\"], [0.8, \"#7fbc41\"], [0.9, \"#4d9221\"], [1, \"#276419\"]], \"sequential\": [[0.0, \"#0d0887\"], [0.1111111111111111, \"#46039f\"], [0.2222222222222222, \"#7201a8\"], [0.3333333333333333, \"#9c179e\"], [0.4444444444444444, \"#bd3786\"], [0.5555555555555556, \"#d8576b\"], [0.6666666666666666, \"#ed7953\"], [0.7777777777777778, \"#fb9f3a\"], [0.8888888888888888, \"#fdca26\"], [1.0, \"#f0f921\"]], \"sequentialminus\": [[0.0, \"#0d0887\"], [0.1111111111111111, \"#46039f\"], [0.2222222222222222, \"#7201a8\"], [0.3333333333333333, \"#9c179e\"], [0.4444444444444444, \"#bd3786\"], [0.5555555555555556, \"#d8576b\"], [0.6666666666666666, \"#ed7953\"], [0.7777777777777778, \"#fb9f3a\"], [0.8888888888888888, \"#fdca26\"], [1.0, \"#f0f921\"]]}, \"colorway\": [\"#636efa\", \"#EF553B\", \"#00cc96\", \"#ab63fa\", \"#FFA15A\", \"#19d3f3\", \"#FF6692\", \"#B6E880\", \"#FF97FF\", \"#FECB52\"], \"font\": {\"color\": \"#2a3f5f\"}, \"geo\": {\"bgcolor\": \"white\", \"lakecolor\": \"white\", \"landcolor\": \"#E5ECF6\", \"showlakes\": true, \"showland\": true, \"subunitcolor\": \"white\"}, \"hoverlabel\": {\"align\": \"left\"}, \"hovermode\": \"closest\", \"mapbox\": {\"style\": \"light\"}, \"paper_bgcolor\": \"white\", \"plot_bgcolor\": \"#E5ECF6\", \"polar\": {\"angularaxis\": {\"gridcolor\": \"white\", \"linecolor\": \"white\", \"ticks\": \"\"}, \"bgcolor\": \"#E5ECF6\", \"radialaxis\": {\"gridcolor\": \"white\", \"linecolor\": \"white\", \"ticks\": \"\"}}, \"scene\": {\"xaxis\": {\"backgroundcolor\": \"#E5ECF6\", \"gridcolor\": \"white\", \"gridwidth\": 2, \"linecolor\": \"white\", \"showbackground\": true, \"ticks\": \"\", \"zerolinecolor\": \"white\"}, \"yaxis\": {\"backgroundcolor\": \"#E5ECF6\", \"gridcolor\": \"white\", \"gridwidth\": 2, \"linecolor\": \"white\", \"showbackground\": true, \"ticks\": \"\", \"zerolinecolor\": \"white\"}, \"zaxis\": {\"backgroundcolor\": \"#E5ECF6\", \"gridcolor\": \"white\", \"gridwidth\": 2, \"linecolor\": \"white\", \"showbackground\": true, \"ticks\": \"\", \"zerolinecolor\": \"white\"}}, \"shapedefaults\": {\"line\": {\"color\": \"#2a3f5f\"}}, \"ternary\": {\"aaxis\": {\"gridcolor\": \"white\", \"linecolor\": \"white\", \"ticks\": \"\"}, \"baxis\": {\"gridcolor\": \"white\", \"linecolor\": \"white\", \"ticks\": \"\"}, \"bgcolor\": \"#E5ECF6\", \"caxis\": {\"gridcolor\": \"white\", \"linecolor\": \"white\", \"ticks\": \"\"}}, \"title\": {\"x\": 0.05}, \"xaxis\": {\"automargin\": true, \"gridcolor\": \"white\", \"linecolor\": \"white\", \"ticks\": \"\", \"title\": {\"standoff\": 15}, \"zerolinecolor\": \"white\", \"zerolinewidth\": 2}, \"yaxis\": {\"automargin\": true, \"gridcolor\": \"white\", \"linecolor\": \"white\", \"ticks\": \"\", \"title\": {\"standoff\": 15}, \"zerolinecolor\": \"white\", \"zerolinewidth\": 2}}}},\n",
       "                        {\"responsive\": true}\n",
       "                    ).then(function(){\n",
       "                            \n",
       "var gd = document.getElementById('e2a964ba-169f-4077-9ebc-e65c137da15b');\n",
       "var x = new MutationObserver(function (mutations, observer) {{\n",
       "        var display = window.getComputedStyle(gd).display;\n",
       "        if (!display || display === 'none') {{\n",
       "            console.log([gd, 'removed!']);\n",
       "            Plotly.purge(gd);\n",
       "            observer.disconnect();\n",
       "        }}\n",
       "}});\n",
       "\n",
       "// Listen for the removal of the full notebook cells\n",
       "var notebookContainer = gd.closest('#notebook-container');\n",
       "if (notebookContainer) {{\n",
       "    x.observe(notebookContainer, {childList: true});\n",
       "}}\n",
       "\n",
       "// Listen for the clearing of the current output cell\n",
       "var outputEl = gd.closest('.output');\n",
       "if (outputEl) {{\n",
       "    x.observe(outputEl, {childList: true});\n",
       "}}\n",
       "\n",
       "                        })\n",
       "                };\n",
       "                });\n",
       "            </script>\n",
       "        </div>"
      ]
     },
     "metadata": {},
     "output_type": "display_data"
    }
   ],
   "source": [
    "import plotly.graph_objects as go\n",
    "\n",
    "x = [i/10 for i in range(-100, 100)]\n",
    "y1 = [i**2 for i in x]\n",
    "y2 = [i**3 for i in x]\n",
    "y3 = [i**4 for i in x]\n",
    "\n",
    "fig = go.Figure(data=go.Scatter(x=x, y=y1))\n",
    "fig.add_trace(go.Scatter(x=x, y=y2))\n",
    "fig.add_trace(go.Scatter(x=x, y=y3))\n",
    "\n",
    "fig.show()"
   ]
  },
  {
   "cell_type": "markdown",
   "metadata": {},
   "source": [
    "## Plotly - Animations"
   ]
  },
  {
   "cell_type": "code",
   "execution_count": 7,
   "metadata": {},
   "outputs": [
    {
     "data": {
      "application/vnd.plotly.v1+json": {
       "config": {
        "plotlyServerURL": "https://plot.ly"
       },
       "data": [
        {
         "alignmentgroup": "True",
         "hovertemplate": "continent=%{x}<br>year=1952<br>gdpPercap=%{y}<extra></extra>",
         "ids": [
          "Afghanistan",
          "Bahrain",
          "Bangladesh",
          "Cambodia",
          "China",
          "Hong Kong, China",
          "India",
          "Indonesia",
          "Iran",
          "Iraq",
          "Israel",
          "Japan",
          "Jordan",
          "Korea, Dem. Rep.",
          "Korea, Rep.",
          "Kuwait",
          "Lebanon",
          "Malaysia",
          "Mongolia",
          "Myanmar",
          "Nepal",
          "Oman",
          "Pakistan",
          "Philippines",
          "Saudi Arabia",
          "Singapore",
          "Sri Lanka",
          "Syria",
          "Taiwan",
          "Thailand",
          "Vietnam",
          "West Bank and Gaza",
          "Yemen, Rep."
         ],
         "legendgroup": "Asia",
         "marker": {
          "color": "#636efa"
         },
         "name": "Asia",
         "offsetgroup": "Asia",
         "orientation": "v",
         "showlegend": true,
         "textposition": "auto",
         "type": "bar",
         "x": [
          "Asia",
          "Asia",
          "Asia",
          "Asia",
          "Asia",
          "Asia",
          "Asia",
          "Asia",
          "Asia",
          "Asia",
          "Asia",
          "Asia",
          "Asia",
          "Asia",
          "Asia",
          "Asia",
          "Asia",
          "Asia",
          "Asia",
          "Asia",
          "Asia",
          "Asia",
          "Asia",
          "Asia",
          "Asia",
          "Asia",
          "Asia",
          "Asia",
          "Asia",
          "Asia",
          "Asia",
          "Asia",
          "Asia"
         ],
         "xaxis": "x",
         "y": [
          779.4453145,
          9867.084765000001,
          684.2441716,
          368.46928560000003,
          400.44861099999997,
          3054.421209,
          546.5657493,
          749.6816546,
          3035.326002,
          4129.766056,
          4086.522128,
          3216.956347,
          1546.907807,
          1088.277758,
          1030.592226,
          108382.3529,
          4834.804067,
          1831.132894,
          786.5668575,
          331,
          545.8657228999999,
          1828.230307,
          684.5971437999999,
          1272.880995,
          6459.5548229999995,
          2315.138227,
          1083.53203,
          1643.485354,
          1206.947913,
          757.7974177,
          605.0664917,
          1515.5923289999998,
          781.7175761
         ],
         "yaxis": "y"
        },
        {
         "alignmentgroup": "True",
         "hovertemplate": "continent=%{x}<br>year=1952<br>gdpPercap=%{y}<extra></extra>",
         "ids": [
          "Albania",
          "Austria",
          "Belgium",
          "Bosnia and Herzegovina",
          "Bulgaria",
          "Croatia",
          "Czech Republic",
          "Denmark",
          "Finland",
          "France",
          "Germany",
          "Greece",
          "Hungary",
          "Iceland",
          "Ireland",
          "Italy",
          "Montenegro",
          "Netherlands",
          "Norway",
          "Poland",
          "Portugal",
          "Romania",
          "Serbia",
          "Slovak Republic",
          "Slovenia",
          "Spain",
          "Sweden",
          "Switzerland",
          "Turkey",
          "United Kingdom"
         ],
         "legendgroup": "Europe",
         "marker": {
          "color": "#EF553B"
         },
         "name": "Europe",
         "offsetgroup": "Europe",
         "orientation": "v",
         "showlegend": true,
         "textposition": "auto",
         "type": "bar",
         "x": [
          "Europe",
          "Europe",
          "Europe",
          "Europe",
          "Europe",
          "Europe",
          "Europe",
          "Europe",
          "Europe",
          "Europe",
          "Europe",
          "Europe",
          "Europe",
          "Europe",
          "Europe",
          "Europe",
          "Europe",
          "Europe",
          "Europe",
          "Europe",
          "Europe",
          "Europe",
          "Europe",
          "Europe",
          "Europe",
          "Europe",
          "Europe",
          "Europe",
          "Europe",
          "Europe"
         ],
         "xaxis": "x",
         "y": [
          1601.056136,
          6137.076492,
          8343.105126999999,
          973.5331947999999,
          2444.2866480000002,
          3119.23652,
          6876.14025,
          9692.385245,
          6424.519071,
          7029.809327,
          7144.114393000001,
          3530.690067,
          5263.6738159999995,
          7267.688428,
          5210.280328,
          4931.404154999999,
          2647.585601,
          8941.571858,
          10095.42172,
          4029.3296990000003,
          3068.319867,
          3144.613186,
          3581.4594479999996,
          5074.659104,
          4215.041741,
          3834.0347420000003,
          8527.844662000001,
          14734.23275,
          1969.1009800000002,
          9979.508487000001
         ],
         "yaxis": "y"
        },
        {
         "alignmentgroup": "True",
         "hovertemplate": "continent=%{x}<br>year=1952<br>gdpPercap=%{y}<extra></extra>",
         "ids": [
          "Algeria",
          "Angola",
          "Benin",
          "Botswana",
          "Burkina Faso",
          "Burundi",
          "Cameroon",
          "Central African Republic",
          "Chad",
          "Comoros",
          "Congo, Dem. Rep.",
          "Congo, Rep.",
          "Cote d'Ivoire",
          "Djibouti",
          "Egypt",
          "Equatorial Guinea",
          "Eritrea",
          "Ethiopia",
          "Gabon",
          "Gambia",
          "Ghana",
          "Guinea",
          "Guinea-Bissau",
          "Kenya",
          "Lesotho",
          "Liberia",
          "Libya",
          "Madagascar",
          "Malawi",
          "Mali",
          "Mauritania",
          "Mauritius",
          "Morocco",
          "Mozambique",
          "Namibia",
          "Niger",
          "Nigeria",
          "Reunion",
          "Rwanda",
          "Sao Tome and Principe",
          "Senegal",
          "Sierra Leone",
          "Somalia",
          "South Africa",
          "Sudan",
          "Swaziland",
          "Tanzania",
          "Togo",
          "Tunisia",
          "Uganda",
          "Zambia",
          "Zimbabwe"
         ],
         "legendgroup": "Africa",
         "marker": {
          "color": "#00cc96"
         },
         "name": "Africa",
         "offsetgroup": "Africa",
         "orientation": "v",
         "showlegend": true,
         "textposition": "auto",
         "type": "bar",
         "x": [
          "Africa",
          "Africa",
          "Africa",
          "Africa",
          "Africa",
          "Africa",
          "Africa",
          "Africa",
          "Africa",
          "Africa",
          "Africa",
          "Africa",
          "Africa",
          "Africa",
          "Africa",
          "Africa",
          "Africa",
          "Africa",
          "Africa",
          "Africa",
          "Africa",
          "Africa",
          "Africa",
          "Africa",
          "Africa",
          "Africa",
          "Africa",
          "Africa",
          "Africa",
          "Africa",
          "Africa",
          "Africa",
          "Africa",
          "Africa",
          "Africa",
          "Africa",
          "Africa",
          "Africa",
          "Africa",
          "Africa",
          "Africa",
          "Africa",
          "Africa",
          "Africa",
          "Africa",
          "Africa",
          "Africa",
          "Africa",
          "Africa",
          "Africa",
          "Africa",
          "Africa"
         ],
         "xaxis": "x",
         "y": [
          2449.008185,
          3520.610273,
          1062.7522,
          851.2411407,
          543.2552413,
          339.29645869999996,
          1172.667655,
          1071.310713,
          1178.665927,
          1102.990936,
          780.5423257,
          2125.621418,
          1388.594732,
          2669.529475,
          1418.822445,
          375.6431231,
          328.94055710000004,
          362.1462796,
          4293.476475,
          485.2306591,
          911.2989371,
          510.19649230000005,
          299.850319,
          853.5409189999999,
          298.8462121,
          575.5729961000001,
          2387.54806,
          1443.011715,
          369.1650802,
          452.3369807,
          743.1159097,
          1967.955707,
          1688.20357,
          468.5260381,
          2423.780443,
          761.879376,
          1077.281856,
          2718.885295,
          493.32387520000003,
          879.5835855,
          1450.356983,
          879.7877358,
          1135.749842,
          4725.295531000001,
          1615.991129,
          1148.376626,
          716.6500721,
          859.8086567,
          1468.475631,
          734.753484,
          1147.388831,
          406.8841148
         ],
         "yaxis": "y"
        },
        {
         "alignmentgroup": "True",
         "hovertemplate": "continent=%{x}<br>year=1952<br>gdpPercap=%{y}<extra></extra>",
         "ids": [
          "Argentina",
          "Bolivia",
          "Brazil",
          "Canada",
          "Chile",
          "Colombia",
          "Costa Rica",
          "Cuba",
          "Dominican Republic",
          "Ecuador",
          "El Salvador",
          "Guatemala",
          "Haiti",
          "Honduras",
          "Jamaica",
          "Mexico",
          "Nicaragua",
          "Panama",
          "Paraguay",
          "Peru",
          "Puerto Rico",
          "Trinidad and Tobago",
          "United States",
          "Uruguay",
          "Venezuela"
         ],
         "legendgroup": "Americas",
         "marker": {
          "color": "#ab63fa"
         },
         "name": "Americas",
         "offsetgroup": "Americas",
         "orientation": "v",
         "showlegend": true,
         "textposition": "auto",
         "type": "bar",
         "x": [
          "Americas",
          "Americas",
          "Americas",
          "Americas",
          "Americas",
          "Americas",
          "Americas",
          "Americas",
          "Americas",
          "Americas",
          "Americas",
          "Americas",
          "Americas",
          "Americas",
          "Americas",
          "Americas",
          "Americas",
          "Americas",
          "Americas",
          "Americas",
          "Americas",
          "Americas",
          "Americas",
          "Americas",
          "Americas"
         ],
         "xaxis": "x",
         "y": [
          5911.315053,
          2677.3263469999997,
          2108.944355,
          11367.16112,
          3939.9787890000002,
          2144.115096,
          2627.0094710000003,
          5586.53878,
          1397.7171369999999,
          3522.110717,
          3048.3029,
          2428.2377690000003,
          1840.366939,
          2194.926204,
          2898.5308809999997,
          3478.125529,
          3112.363948,
          2480.380334,
          1952.3087010000002,
          3758.523437,
          3081.959785,
          3023.271928,
          13990.482080000002,
          5716.766744,
          7689.799761
         ],
         "yaxis": "y"
        },
        {
         "alignmentgroup": "True",
         "hovertemplate": "continent=%{x}<br>year=1952<br>gdpPercap=%{y}<extra></extra>",
         "ids": [
          "Australia",
          "New Zealand"
         ],
         "legendgroup": "Oceania",
         "marker": {
          "color": "#FFA15A"
         },
         "name": "Oceania",
         "offsetgroup": "Oceania",
         "orientation": "v",
         "showlegend": true,
         "textposition": "auto",
         "type": "bar",
         "x": [
          "Oceania",
          "Oceania"
         ],
         "xaxis": "x",
         "y": [
          10039.595640000001,
          10556.575659999999
         ],
         "yaxis": "y"
        }
       ],
       "frames": [
        {
         "data": [
          {
           "alignmentgroup": "True",
           "hovertemplate": "continent=%{x}<br>year=1952<br>gdpPercap=%{y}<extra></extra>",
           "ids": [
            "Afghanistan",
            "Bahrain",
            "Bangladesh",
            "Cambodia",
            "China",
            "Hong Kong, China",
            "India",
            "Indonesia",
            "Iran",
            "Iraq",
            "Israel",
            "Japan",
            "Jordan",
            "Korea, Dem. Rep.",
            "Korea, Rep.",
            "Kuwait",
            "Lebanon",
            "Malaysia",
            "Mongolia",
            "Myanmar",
            "Nepal",
            "Oman",
            "Pakistan",
            "Philippines",
            "Saudi Arabia",
            "Singapore",
            "Sri Lanka",
            "Syria",
            "Taiwan",
            "Thailand",
            "Vietnam",
            "West Bank and Gaza",
            "Yemen, Rep."
           ],
           "legendgroup": "Asia",
           "marker": {
            "color": "#636efa"
           },
           "name": "Asia",
           "offsetgroup": "Asia",
           "orientation": "v",
           "showlegend": true,
           "textposition": "auto",
           "type": "bar",
           "x": [
            "Asia",
            "Asia",
            "Asia",
            "Asia",
            "Asia",
            "Asia",
            "Asia",
            "Asia",
            "Asia",
            "Asia",
            "Asia",
            "Asia",
            "Asia",
            "Asia",
            "Asia",
            "Asia",
            "Asia",
            "Asia",
            "Asia",
            "Asia",
            "Asia",
            "Asia",
            "Asia",
            "Asia",
            "Asia",
            "Asia",
            "Asia",
            "Asia",
            "Asia",
            "Asia",
            "Asia",
            "Asia",
            "Asia"
           ],
           "xaxis": "x",
           "y": [
            779.4453145,
            9867.084765000001,
            684.2441716,
            368.46928560000003,
            400.44861099999997,
            3054.421209,
            546.5657493,
            749.6816546,
            3035.326002,
            4129.766056,
            4086.522128,
            3216.956347,
            1546.907807,
            1088.277758,
            1030.592226,
            108382.3529,
            4834.804067,
            1831.132894,
            786.5668575,
            331,
            545.8657228999999,
            1828.230307,
            684.5971437999999,
            1272.880995,
            6459.5548229999995,
            2315.138227,
            1083.53203,
            1643.485354,
            1206.947913,
            757.7974177,
            605.0664917,
            1515.5923289999998,
            781.7175761
           ],
           "yaxis": "y"
          },
          {
           "alignmentgroup": "True",
           "hovertemplate": "continent=%{x}<br>year=1952<br>gdpPercap=%{y}<extra></extra>",
           "ids": [
            "Albania",
            "Austria",
            "Belgium",
            "Bosnia and Herzegovina",
            "Bulgaria",
            "Croatia",
            "Czech Republic",
            "Denmark",
            "Finland",
            "France",
            "Germany",
            "Greece",
            "Hungary",
            "Iceland",
            "Ireland",
            "Italy",
            "Montenegro",
            "Netherlands",
            "Norway",
            "Poland",
            "Portugal",
            "Romania",
            "Serbia",
            "Slovak Republic",
            "Slovenia",
            "Spain",
            "Sweden",
            "Switzerland",
            "Turkey",
            "United Kingdom"
           ],
           "legendgroup": "Europe",
           "marker": {
            "color": "#EF553B"
           },
           "name": "Europe",
           "offsetgroup": "Europe",
           "orientation": "v",
           "showlegend": true,
           "textposition": "auto",
           "type": "bar",
           "x": [
            "Europe",
            "Europe",
            "Europe",
            "Europe",
            "Europe",
            "Europe",
            "Europe",
            "Europe",
            "Europe",
            "Europe",
            "Europe",
            "Europe",
            "Europe",
            "Europe",
            "Europe",
            "Europe",
            "Europe",
            "Europe",
            "Europe",
            "Europe",
            "Europe",
            "Europe",
            "Europe",
            "Europe",
            "Europe",
            "Europe",
            "Europe",
            "Europe",
            "Europe",
            "Europe"
           ],
           "xaxis": "x",
           "y": [
            1601.056136,
            6137.076492,
            8343.105126999999,
            973.5331947999999,
            2444.2866480000002,
            3119.23652,
            6876.14025,
            9692.385245,
            6424.519071,
            7029.809327,
            7144.114393000001,
            3530.690067,
            5263.6738159999995,
            7267.688428,
            5210.280328,
            4931.404154999999,
            2647.585601,
            8941.571858,
            10095.42172,
            4029.3296990000003,
            3068.319867,
            3144.613186,
            3581.4594479999996,
            5074.659104,
            4215.041741,
            3834.0347420000003,
            8527.844662000001,
            14734.23275,
            1969.1009800000002,
            9979.508487000001
           ],
           "yaxis": "y"
          },
          {
           "alignmentgroup": "True",
           "hovertemplate": "continent=%{x}<br>year=1952<br>gdpPercap=%{y}<extra></extra>",
           "ids": [
            "Algeria",
            "Angola",
            "Benin",
            "Botswana",
            "Burkina Faso",
            "Burundi",
            "Cameroon",
            "Central African Republic",
            "Chad",
            "Comoros",
            "Congo, Dem. Rep.",
            "Congo, Rep.",
            "Cote d'Ivoire",
            "Djibouti",
            "Egypt",
            "Equatorial Guinea",
            "Eritrea",
            "Ethiopia",
            "Gabon",
            "Gambia",
            "Ghana",
            "Guinea",
            "Guinea-Bissau",
            "Kenya",
            "Lesotho",
            "Liberia",
            "Libya",
            "Madagascar",
            "Malawi",
            "Mali",
            "Mauritania",
            "Mauritius",
            "Morocco",
            "Mozambique",
            "Namibia",
            "Niger",
            "Nigeria",
            "Reunion",
            "Rwanda",
            "Sao Tome and Principe",
            "Senegal",
            "Sierra Leone",
            "Somalia",
            "South Africa",
            "Sudan",
            "Swaziland",
            "Tanzania",
            "Togo",
            "Tunisia",
            "Uganda",
            "Zambia",
            "Zimbabwe"
           ],
           "legendgroup": "Africa",
           "marker": {
            "color": "#00cc96"
           },
           "name": "Africa",
           "offsetgroup": "Africa",
           "orientation": "v",
           "showlegend": true,
           "textposition": "auto",
           "type": "bar",
           "x": [
            "Africa",
            "Africa",
            "Africa",
            "Africa",
            "Africa",
            "Africa",
            "Africa",
            "Africa",
            "Africa",
            "Africa",
            "Africa",
            "Africa",
            "Africa",
            "Africa",
            "Africa",
            "Africa",
            "Africa",
            "Africa",
            "Africa",
            "Africa",
            "Africa",
            "Africa",
            "Africa",
            "Africa",
            "Africa",
            "Africa",
            "Africa",
            "Africa",
            "Africa",
            "Africa",
            "Africa",
            "Africa",
            "Africa",
            "Africa",
            "Africa",
            "Africa",
            "Africa",
            "Africa",
            "Africa",
            "Africa",
            "Africa",
            "Africa",
            "Africa",
            "Africa",
            "Africa",
            "Africa",
            "Africa",
            "Africa",
            "Africa",
            "Africa",
            "Africa",
            "Africa"
           ],
           "xaxis": "x",
           "y": [
            2449.008185,
            3520.610273,
            1062.7522,
            851.2411407,
            543.2552413,
            339.29645869999996,
            1172.667655,
            1071.310713,
            1178.665927,
            1102.990936,
            780.5423257,
            2125.621418,
            1388.594732,
            2669.529475,
            1418.822445,
            375.6431231,
            328.94055710000004,
            362.1462796,
            4293.476475,
            485.2306591,
            911.2989371,
            510.19649230000005,
            299.850319,
            853.5409189999999,
            298.8462121,
            575.5729961000001,
            2387.54806,
            1443.011715,
            369.1650802,
            452.3369807,
            743.1159097,
            1967.955707,
            1688.20357,
            468.5260381,
            2423.780443,
            761.879376,
            1077.281856,
            2718.885295,
            493.32387520000003,
            879.5835855,
            1450.356983,
            879.7877358,
            1135.749842,
            4725.295531000001,
            1615.991129,
            1148.376626,
            716.6500721,
            859.8086567,
            1468.475631,
            734.753484,
            1147.388831,
            406.8841148
           ],
           "yaxis": "y"
          },
          {
           "alignmentgroup": "True",
           "hovertemplate": "continent=%{x}<br>year=1952<br>gdpPercap=%{y}<extra></extra>",
           "ids": [
            "Argentina",
            "Bolivia",
            "Brazil",
            "Canada",
            "Chile",
            "Colombia",
            "Costa Rica",
            "Cuba",
            "Dominican Republic",
            "Ecuador",
            "El Salvador",
            "Guatemala",
            "Haiti",
            "Honduras",
            "Jamaica",
            "Mexico",
            "Nicaragua",
            "Panama",
            "Paraguay",
            "Peru",
            "Puerto Rico",
            "Trinidad and Tobago",
            "United States",
            "Uruguay",
            "Venezuela"
           ],
           "legendgroup": "Americas",
           "marker": {
            "color": "#ab63fa"
           },
           "name": "Americas",
           "offsetgroup": "Americas",
           "orientation": "v",
           "showlegend": true,
           "textposition": "auto",
           "type": "bar",
           "x": [
            "Americas",
            "Americas",
            "Americas",
            "Americas",
            "Americas",
            "Americas",
            "Americas",
            "Americas",
            "Americas",
            "Americas",
            "Americas",
            "Americas",
            "Americas",
            "Americas",
            "Americas",
            "Americas",
            "Americas",
            "Americas",
            "Americas",
            "Americas",
            "Americas",
            "Americas",
            "Americas",
            "Americas",
            "Americas"
           ],
           "xaxis": "x",
           "y": [
            5911.315053,
            2677.3263469999997,
            2108.944355,
            11367.16112,
            3939.9787890000002,
            2144.115096,
            2627.0094710000003,
            5586.53878,
            1397.7171369999999,
            3522.110717,
            3048.3029,
            2428.2377690000003,
            1840.366939,
            2194.926204,
            2898.5308809999997,
            3478.125529,
            3112.363948,
            2480.380334,
            1952.3087010000002,
            3758.523437,
            3081.959785,
            3023.271928,
            13990.482080000002,
            5716.766744,
            7689.799761
           ],
           "yaxis": "y"
          },
          {
           "alignmentgroup": "True",
           "hovertemplate": "continent=%{x}<br>year=1952<br>gdpPercap=%{y}<extra></extra>",
           "ids": [
            "Australia",
            "New Zealand"
           ],
           "legendgroup": "Oceania",
           "marker": {
            "color": "#FFA15A"
           },
           "name": "Oceania",
           "offsetgroup": "Oceania",
           "orientation": "v",
           "showlegend": true,
           "textposition": "auto",
           "type": "bar",
           "x": [
            "Oceania",
            "Oceania"
           ],
           "xaxis": "x",
           "y": [
            10039.595640000001,
            10556.575659999999
           ],
           "yaxis": "y"
          }
         ],
         "name": "1952"
        },
        {
         "data": [
          {
           "alignmentgroup": "True",
           "hovertemplate": "continent=%{x}<br>year=1957<br>gdpPercap=%{y}<extra></extra>",
           "ids": [
            "Afghanistan",
            "Bahrain",
            "Bangladesh",
            "Cambodia",
            "China",
            "Hong Kong, China",
            "India",
            "Indonesia",
            "Iran",
            "Iraq",
            "Israel",
            "Japan",
            "Jordan",
            "Korea, Dem. Rep.",
            "Korea, Rep.",
            "Kuwait",
            "Lebanon",
            "Malaysia",
            "Mongolia",
            "Myanmar",
            "Nepal",
            "Oman",
            "Pakistan",
            "Philippines",
            "Saudi Arabia",
            "Singapore",
            "Sri Lanka",
            "Syria",
            "Taiwan",
            "Thailand",
            "Vietnam",
            "West Bank and Gaza",
            "Yemen, Rep."
           ],
           "legendgroup": "Asia",
           "marker": {
            "color": "#636efa"
           },
           "name": "Asia",
           "offsetgroup": "Asia",
           "orientation": "v",
           "showlegend": true,
           "textposition": "auto",
           "type": "bar",
           "x": [
            "Asia",
            "Asia",
            "Asia",
            "Asia",
            "Asia",
            "Asia",
            "Asia",
            "Asia",
            "Asia",
            "Asia",
            "Asia",
            "Asia",
            "Asia",
            "Asia",
            "Asia",
            "Asia",
            "Asia",
            "Asia",
            "Asia",
            "Asia",
            "Asia",
            "Asia",
            "Asia",
            "Asia",
            "Asia",
            "Asia",
            "Asia",
            "Asia",
            "Asia",
            "Asia",
            "Asia",
            "Asia",
            "Asia"
           ],
           "xaxis": "x",
           "y": [
            820.8530296,
            11635.79945,
            661.6374577,
            434.0383364,
            575.9870009,
            3629.076457,
            590.061996,
            858.9002707000001,
            3290.257643,
            6229.333562,
            5385.278451,
            4317.694365,
            1886.080591,
            1571.134655,
            1487.593537,
            113523.1329,
            6089.786934000001,
            1810.0669920000003,
            912.6626085,
            350,
            597.9363557999999,
            2242.746551,
            747.0835292,
            1547.9448439999999,
            8157.591248000001,
            2843.104409,
            1072.546602,
            2117.234893,
            1507.86129,
            793.5774147999999,
            676.2854477999999,
            1827.0677420000002,
            804.8304547
           ],
           "yaxis": "y"
          },
          {
           "alignmentgroup": "True",
           "hovertemplate": "continent=%{x}<br>year=1957<br>gdpPercap=%{y}<extra></extra>",
           "ids": [
            "Albania",
            "Austria",
            "Belgium",
            "Bosnia and Herzegovina",
            "Bulgaria",
            "Croatia",
            "Czech Republic",
            "Denmark",
            "Finland",
            "France",
            "Germany",
            "Greece",
            "Hungary",
            "Iceland",
            "Ireland",
            "Italy",
            "Montenegro",
            "Netherlands",
            "Norway",
            "Poland",
            "Portugal",
            "Romania",
            "Serbia",
            "Slovak Republic",
            "Slovenia",
            "Spain",
            "Sweden",
            "Switzerland",
            "Turkey",
            "United Kingdom"
           ],
           "legendgroup": "Europe",
           "marker": {
            "color": "#EF553B"
           },
           "name": "Europe",
           "offsetgroup": "Europe",
           "orientation": "v",
           "showlegend": true,
           "textposition": "auto",
           "type": "bar",
           "x": [
            "Europe",
            "Europe",
            "Europe",
            "Europe",
            "Europe",
            "Europe",
            "Europe",
            "Europe",
            "Europe",
            "Europe",
            "Europe",
            "Europe",
            "Europe",
            "Europe",
            "Europe",
            "Europe",
            "Europe",
            "Europe",
            "Europe",
            "Europe",
            "Europe",
            "Europe",
            "Europe",
            "Europe",
            "Europe",
            "Europe",
            "Europe",
            "Europe",
            "Europe",
            "Europe"
           ],
           "xaxis": "x",
           "y": [
            1942.2842440000002,
            8842.59803,
            9714.960623,
            1353.989176,
            3008.670727,
            4338.231617,
            8256.343918,
            11099.65935,
            7545.415386,
            8662.834898000001,
            10187.82665,
            4916.299889,
            6040.180011,
            9244.001412,
            5599.077872,
            6248.656232,
            3682.259903,
            11276.193440000001,
            11653.97304,
            4734.253019,
            3774.571743,
            3943.370225,
            4981.090891,
            6093.2629799999995,
            5862.276629,
            4564.80241,
            9911.878226,
            17909.48973,
            2218.754257,
            11283.17795
           ],
           "yaxis": "y"
          },
          {
           "alignmentgroup": "True",
           "hovertemplate": "continent=%{x}<br>year=1957<br>gdpPercap=%{y}<extra></extra>",
           "ids": [
            "Algeria",
            "Angola",
            "Benin",
            "Botswana",
            "Burkina Faso",
            "Burundi",
            "Cameroon",
            "Central African Republic",
            "Chad",
            "Comoros",
            "Congo, Dem. Rep.",
            "Congo, Rep.",
            "Cote d'Ivoire",
            "Djibouti",
            "Egypt",
            "Equatorial Guinea",
            "Eritrea",
            "Ethiopia",
            "Gabon",
            "Gambia",
            "Ghana",
            "Guinea",
            "Guinea-Bissau",
            "Kenya",
            "Lesotho",
            "Liberia",
            "Libya",
            "Madagascar",
            "Malawi",
            "Mali",
            "Mauritania",
            "Mauritius",
            "Morocco",
            "Mozambique",
            "Namibia",
            "Niger",
            "Nigeria",
            "Reunion",
            "Rwanda",
            "Sao Tome and Principe",
            "Senegal",
            "Sierra Leone",
            "Somalia",
            "South Africa",
            "Sudan",
            "Swaziland",
            "Tanzania",
            "Togo",
            "Tunisia",
            "Uganda",
            "Zambia",
            "Zimbabwe"
           ],
           "legendgroup": "Africa",
           "marker": {
            "color": "#00cc96"
           },
           "name": "Africa",
           "offsetgroup": "Africa",
           "orientation": "v",
           "showlegend": true,
           "textposition": "auto",
           "type": "bar",
           "x": [
            "Africa",
            "Africa",
            "Africa",
            "Africa",
            "Africa",
            "Africa",
            "Africa",
            "Africa",
            "Africa",
            "Africa",
            "Africa",
            "Africa",
            "Africa",
            "Africa",
            "Africa",
            "Africa",
            "Africa",
            "Africa",
            "Africa",
            "Africa",
            "Africa",
            "Africa",
            "Africa",
            "Africa",
            "Africa",
            "Africa",
            "Africa",
            "Africa",
            "Africa",
            "Africa",
            "Africa",
            "Africa",
            "Africa",
            "Africa",
            "Africa",
            "Africa",
            "Africa",
            "Africa",
            "Africa",
            "Africa",
            "Africa",
            "Africa",
            "Africa",
            "Africa",
            "Africa",
            "Africa",
            "Africa",
            "Africa",
            "Africa",
            "Africa",
            "Africa",
            "Africa"
           ],
           "xaxis": "x",
           "y": [
            3013.976023,
            3827.9404649999997,
            959.6010805,
            918.2325348999999,
            617.1834647999999,
            379.56462810000005,
            1313.048099,
            1190.844328,
            1308.495577,
            1211.1485480000001,
            905.8602302999999,
            2315.056572,
            1500.895925,
            2864.9690760000003,
            1458.915272,
            426.0964081,
            344.16188589999996,
            378.90416319999997,
            4976.198099,
            520.9267111,
            1043.5615369999998,
            576.2670245,
            431.7904566000001,
            944.4383152,
            335.99711510000003,
            620.9699901,
            3448.284395,
            1589.20275,
            416.36980639999996,
            490.3821867,
            846.1202613,
            2034.037981,
            1642.002314,
            495.5868333000001,
            2621.448058,
            835.5234025000001,
            1100.5925630000002,
            2769.451844,
            540.2893982999999,
            860.7369026,
            1567.653006,
            1004.484437,
            1258.1474130000001,
            5487.104219,
            1770.3370739999998,
            1244.708364,
            698.5356073,
            925.9083201999999,
            1395.232468,
            774.3710692000001,
            1311.956766,
            518.7642681
           ],
           "yaxis": "y"
          },
          {
           "alignmentgroup": "True",
           "hovertemplate": "continent=%{x}<br>year=1957<br>gdpPercap=%{y}<extra></extra>",
           "ids": [
            "Argentina",
            "Bolivia",
            "Brazil",
            "Canada",
            "Chile",
            "Colombia",
            "Costa Rica",
            "Cuba",
            "Dominican Republic",
            "Ecuador",
            "El Salvador",
            "Guatemala",
            "Haiti",
            "Honduras",
            "Jamaica",
            "Mexico",
            "Nicaragua",
            "Panama",
            "Paraguay",
            "Peru",
            "Puerto Rico",
            "Trinidad and Tobago",
            "United States",
            "Uruguay",
            "Venezuela"
           ],
           "legendgroup": "Americas",
           "marker": {
            "color": "#ab63fa"
           },
           "name": "Americas",
           "offsetgroup": "Americas",
           "orientation": "v",
           "showlegend": true,
           "textposition": "auto",
           "type": "bar",
           "x": [
            "Americas",
            "Americas",
            "Americas",
            "Americas",
            "Americas",
            "Americas",
            "Americas",
            "Americas",
            "Americas",
            "Americas",
            "Americas",
            "Americas",
            "Americas",
            "Americas",
            "Americas",
            "Americas",
            "Americas",
            "Americas",
            "Americas",
            "Americas",
            "Americas",
            "Americas",
            "Americas",
            "Americas",
            "Americas"
           ],
           "xaxis": "x",
           "y": [
            6856.856212000001,
            2127.686326,
            2487.365989,
            12489.95006,
            4315.6227229999995,
            2323.805581,
            2990.010802,
            6092.174359000001,
            1544.402995,
            3780.5466509999997,
            3421.523218,
            2617.155967,
            1726.887882,
            2220.487682,
            4756.525781,
            4131.546641,
            3457.415947,
            2961.800905,
            2046.1547059999998,
            4245.256697999999,
            3907.1561890000003,
            4100.3934,
            14847.12712,
            6150.772969,
            9802.466526
           ],
           "yaxis": "y"
          },
          {
           "alignmentgroup": "True",
           "hovertemplate": "continent=%{x}<br>year=1957<br>gdpPercap=%{y}<extra></extra>",
           "ids": [
            "Australia",
            "New Zealand"
           ],
           "legendgroup": "Oceania",
           "marker": {
            "color": "#FFA15A"
           },
           "name": "Oceania",
           "offsetgroup": "Oceania",
           "orientation": "v",
           "showlegend": true,
           "textposition": "auto",
           "type": "bar",
           "x": [
            "Oceania",
            "Oceania"
           ],
           "xaxis": "x",
           "y": [
            10949.64959,
            12247.39532
           ],
           "yaxis": "y"
          }
         ],
         "name": "1957"
        },
        {
         "data": [
          {
           "alignmentgroup": "True",
           "hovertemplate": "continent=%{x}<br>year=1962<br>gdpPercap=%{y}<extra></extra>",
           "ids": [
            "Afghanistan",
            "Bahrain",
            "Bangladesh",
            "Cambodia",
            "China",
            "Hong Kong, China",
            "India",
            "Indonesia",
            "Iran",
            "Iraq",
            "Israel",
            "Japan",
            "Jordan",
            "Korea, Dem. Rep.",
            "Korea, Rep.",
            "Kuwait",
            "Lebanon",
            "Malaysia",
            "Mongolia",
            "Myanmar",
            "Nepal",
            "Oman",
            "Pakistan",
            "Philippines",
            "Saudi Arabia",
            "Singapore",
            "Sri Lanka",
            "Syria",
            "Taiwan",
            "Thailand",
            "Vietnam",
            "West Bank and Gaza",
            "Yemen, Rep."
           ],
           "legendgroup": "Asia",
           "marker": {
            "color": "#636efa"
           },
           "name": "Asia",
           "offsetgroup": "Asia",
           "orientation": "v",
           "showlegend": true,
           "textposition": "auto",
           "type": "bar",
           "x": [
            "Asia",
            "Asia",
            "Asia",
            "Asia",
            "Asia",
            "Asia",
            "Asia",
            "Asia",
            "Asia",
            "Asia",
            "Asia",
            "Asia",
            "Asia",
            "Asia",
            "Asia",
            "Asia",
            "Asia",
            "Asia",
            "Asia",
            "Asia",
            "Asia",
            "Asia",
            "Asia",
            "Asia",
            "Asia",
            "Asia",
            "Asia",
            "Asia",
            "Asia",
            "Asia",
            "Asia",
            "Asia",
            "Asia"
           ],
           "xaxis": "x",
           "y": [
            853.1007099999999,
            12753.27514,
            686.3415537999999,
            496.9136476,
            487.6740183,
            4692.648271999999,
            658.3471509,
            849.2897700999999,
            4187.329802,
            8341.737815,
            7105.630706,
            6576.649461,
            2348.009158,
            1621.693598,
            1536.3443869999999,
            95458.11176,
            5714.560611,
            2036.8849440000001,
            1056.353958,
            388,
            652.3968593,
            2924.638113,
            803.3427418,
            1649.5521529999999,
            11626.41975,
            3674.735572,
            1074.4719599999999,
            2193.037133,
            1822.879028,
            1002.1991720000001,
            772.0491602000001,
            2198.9563120000003,
            825.6232006
           ],
           "yaxis": "y"
          },
          {
           "alignmentgroup": "True",
           "hovertemplate": "continent=%{x}<br>year=1962<br>gdpPercap=%{y}<extra></extra>",
           "ids": [
            "Albania",
            "Austria",
            "Belgium",
            "Bosnia and Herzegovina",
            "Bulgaria",
            "Croatia",
            "Czech Republic",
            "Denmark",
            "Finland",
            "France",
            "Germany",
            "Greece",
            "Hungary",
            "Iceland",
            "Ireland",
            "Italy",
            "Montenegro",
            "Netherlands",
            "Norway",
            "Poland",
            "Portugal",
            "Romania",
            "Serbia",
            "Slovak Republic",
            "Slovenia",
            "Spain",
            "Sweden",
            "Switzerland",
            "Turkey",
            "United Kingdom"
           ],
           "legendgroup": "Europe",
           "marker": {
            "color": "#EF553B"
           },
           "name": "Europe",
           "offsetgroup": "Europe",
           "orientation": "v",
           "showlegend": true,
           "textposition": "auto",
           "type": "bar",
           "x": [
            "Europe",
            "Europe",
            "Europe",
            "Europe",
            "Europe",
            "Europe",
            "Europe",
            "Europe",
            "Europe",
            "Europe",
            "Europe",
            "Europe",
            "Europe",
            "Europe",
            "Europe",
            "Europe",
            "Europe",
            "Europe",
            "Europe",
            "Europe",
            "Europe",
            "Europe",
            "Europe",
            "Europe",
            "Europe",
            "Europe",
            "Europe",
            "Europe",
            "Europe",
            "Europe"
           ],
           "xaxis": "x",
           "y": [
            2312.888958,
            10750.721109999999,
            10991.20676,
            1709.683679,
            4254.337839,
            5477.890018,
            10136.86713,
            13583.31351,
            9371.842561,
            10560.48553,
            12902.46291,
            6017.190732999999,
            7550.359877,
            10350.15906,
            6631.597314,
            8243.58234,
            4649.593785,
            12790.849559999999,
            13450.40151,
            5338.752143,
            4727.954889,
            4734.9975859999995,
            6289.629157,
            7481.1075980000005,
            7402.303395,
            5693.843879,
            12329.441920000001,
            20431.0927,
            2322.8699079999997,
            12477.17707
           ],
           "yaxis": "y"
          },
          {
           "alignmentgroup": "True",
           "hovertemplate": "continent=%{x}<br>year=1962<br>gdpPercap=%{y}<extra></extra>",
           "ids": [
            "Algeria",
            "Angola",
            "Benin",
            "Botswana",
            "Burkina Faso",
            "Burundi",
            "Cameroon",
            "Central African Republic",
            "Chad",
            "Comoros",
            "Congo, Dem. Rep.",
            "Congo, Rep.",
            "Cote d'Ivoire",
            "Djibouti",
            "Egypt",
            "Equatorial Guinea",
            "Eritrea",
            "Ethiopia",
            "Gabon",
            "Gambia",
            "Ghana",
            "Guinea",
            "Guinea-Bissau",
            "Kenya",
            "Lesotho",
            "Liberia",
            "Libya",
            "Madagascar",
            "Malawi",
            "Mali",
            "Mauritania",
            "Mauritius",
            "Morocco",
            "Mozambique",
            "Namibia",
            "Niger",
            "Nigeria",
            "Reunion",
            "Rwanda",
            "Sao Tome and Principe",
            "Senegal",
            "Sierra Leone",
            "Somalia",
            "South Africa",
            "Sudan",
            "Swaziland",
            "Tanzania",
            "Togo",
            "Tunisia",
            "Uganda",
            "Zambia",
            "Zimbabwe"
           ],
           "legendgroup": "Africa",
           "marker": {
            "color": "#00cc96"
           },
           "name": "Africa",
           "offsetgroup": "Africa",
           "orientation": "v",
           "showlegend": true,
           "textposition": "auto",
           "type": "bar",
           "x": [
            "Africa",
            "Africa",
            "Africa",
            "Africa",
            "Africa",
            "Africa",
            "Africa",
            "Africa",
            "Africa",
            "Africa",
            "Africa",
            "Africa",
            "Africa",
            "Africa",
            "Africa",
            "Africa",
            "Africa",
            "Africa",
            "Africa",
            "Africa",
            "Africa",
            "Africa",
            "Africa",
            "Africa",
            "Africa",
            "Africa",
            "Africa",
            "Africa",
            "Africa",
            "Africa",
            "Africa",
            "Africa",
            "Africa",
            "Africa",
            "Africa",
            "Africa",
            "Africa",
            "Africa",
            "Africa",
            "Africa",
            "Africa",
            "Africa",
            "Africa",
            "Africa",
            "Africa",
            "Africa",
            "Africa",
            "Africa",
            "Africa",
            "Africa",
            "Africa",
            "Africa"
           ],
           "xaxis": "x",
           "y": [
            2550.81688,
            4269.276742,
            949.4990641,
            983.6539764,
            722.5120206,
            355.2032273,
            1399.607441,
            1193.068753,
            1389.817618,
            1406.648278,
            896.3146335000001,
            2464.783157,
            1728.8694280000002,
            3020.989263,
            1693.335853,
            582.8419713999999,
            380.99584330000005,
            419.4564161,
            6631.4592219999995,
            599.650276,
            1190.0411179999999,
            686.3736739,
            522.0343725,
            896.9663732,
            411.80062660000004,
            634.1951625,
            6757.0308159999995,
            1643.38711,
            427.90108560000004,
            496.17434280000003,
            1055.8960359999999,
            2529.0674870000003,
            1566.353493,
            556.6863539,
            3173.215595,
            997.7661127,
            1150.9274779999998,
            3173.72334,
            597.4730727000001,
            1071.551119,
            1654.988723,
            1116.6398769999998,
            1369.488336,
            5768.729717,
            1959.593767,
            1856.182125,
            722.0038073,
            1067.5348099999999,
            1660.30321,
            767.2717397999999,
            1452.725766,
            527.2721818
           ],
           "yaxis": "y"
          },
          {
           "alignmentgroup": "True",
           "hovertemplate": "continent=%{x}<br>year=1962<br>gdpPercap=%{y}<extra></extra>",
           "ids": [
            "Argentina",
            "Bolivia",
            "Brazil",
            "Canada",
            "Chile",
            "Colombia",
            "Costa Rica",
            "Cuba",
            "Dominican Republic",
            "Ecuador",
            "El Salvador",
            "Guatemala",
            "Haiti",
            "Honduras",
            "Jamaica",
            "Mexico",
            "Nicaragua",
            "Panama",
            "Paraguay",
            "Peru",
            "Puerto Rico",
            "Trinidad and Tobago",
            "United States",
            "Uruguay",
            "Venezuela"
           ],
           "legendgroup": "Americas",
           "marker": {
            "color": "#ab63fa"
           },
           "name": "Americas",
           "offsetgroup": "Americas",
           "orientation": "v",
           "showlegend": true,
           "textposition": "auto",
           "type": "bar",
           "x": [
            "Americas",
            "Americas",
            "Americas",
            "Americas",
            "Americas",
            "Americas",
            "Americas",
            "Americas",
            "Americas",
            "Americas",
            "Americas",
            "Americas",
            "Americas",
            "Americas",
            "Americas",
            "Americas",
            "Americas",
            "Americas",
            "Americas",
            "Americas",
            "Americas",
            "Americas",
            "Americas",
            "Americas",
            "Americas"
           ],
           "xaxis": "x",
           "y": [
            7133.166023000001,
            2180.972546,
            3336.585802,
            13462.48555,
            4519.094331,
            2492.351109,
            3460.937025,
            5180.75591,
            1662.137359,
            4086.114078,
            3776.8036270000002,
            2750.364446,
            1796.589032,
            2291.1568350000002,
            5246.107524,
            4581.609385,
            3634.364406,
            3536.540301,
            2148.027146,
            4957.037982,
            5108.34463,
            4997.5239710000005,
            16173.145859999999,
            5603.357717,
            8422.974165000001
           ],
           "yaxis": "y"
          },
          {
           "alignmentgroup": "True",
           "hovertemplate": "continent=%{x}<br>year=1962<br>gdpPercap=%{y}<extra></extra>",
           "ids": [
            "Australia",
            "New Zealand"
           ],
           "legendgroup": "Oceania",
           "marker": {
            "color": "#FFA15A"
           },
           "name": "Oceania",
           "offsetgroup": "Oceania",
           "orientation": "v",
           "showlegend": true,
           "textposition": "auto",
           "type": "bar",
           "x": [
            "Oceania",
            "Oceania"
           ],
           "xaxis": "x",
           "y": [
            12217.226859999999,
            13175.678
           ],
           "yaxis": "y"
          }
         ],
         "name": "1962"
        },
        {
         "data": [
          {
           "alignmentgroup": "True",
           "hovertemplate": "continent=%{x}<br>year=1967<br>gdpPercap=%{y}<extra></extra>",
           "ids": [
            "Afghanistan",
            "Bahrain",
            "Bangladesh",
            "Cambodia",
            "China",
            "Hong Kong, China",
            "India",
            "Indonesia",
            "Iran",
            "Iraq",
            "Israel",
            "Japan",
            "Jordan",
            "Korea, Dem. Rep.",
            "Korea, Rep.",
            "Kuwait",
            "Lebanon",
            "Malaysia",
            "Mongolia",
            "Myanmar",
            "Nepal",
            "Oman",
            "Pakistan",
            "Philippines",
            "Saudi Arabia",
            "Singapore",
            "Sri Lanka",
            "Syria",
            "Taiwan",
            "Thailand",
            "Vietnam",
            "West Bank and Gaza",
            "Yemen, Rep."
           ],
           "legendgroup": "Asia",
           "marker": {
            "color": "#636efa"
           },
           "name": "Asia",
           "offsetgroup": "Asia",
           "orientation": "v",
           "showlegend": true,
           "textposition": "auto",
           "type": "bar",
           "x": [
            "Asia",
            "Asia",
            "Asia",
            "Asia",
            "Asia",
            "Asia",
            "Asia",
            "Asia",
            "Asia",
            "Asia",
            "Asia",
            "Asia",
            "Asia",
            "Asia",
            "Asia",
            "Asia",
            "Asia",
            "Asia",
            "Asia",
            "Asia",
            "Asia",
            "Asia",
            "Asia",
            "Asia",
            "Asia",
            "Asia",
            "Asia",
            "Asia",
            "Asia",
            "Asia",
            "Asia",
            "Asia",
            "Asia"
           ],
           "xaxis": "x",
           "y": [
            836.1971382,
            14804.6727,
            721.1860862000001,
            523.4323142,
            612.7056934,
            6197.962814,
            700.7706107000001,
            762.4317721,
            5906.731804999999,
            8931.459811,
            8393.741404,
            9847.788606999999,
            2741.796252,
            2143.540609,
            2029.2281420000002,
            80894.88326,
            6006.983042,
            2277.742396,
            1226.04113,
            349,
            676.4422254,
            4720.942687,
            942.4082588,
            1814.12743,
            16903.04886,
            4977.41854,
            1135.514326,
            1881.923632,
            2643.8586809999997,
            1295.46066,
            637.1232887,
            2649.7150070000002,
            862.4421463
           ],
           "yaxis": "y"
          },
          {
           "alignmentgroup": "True",
           "hovertemplate": "continent=%{x}<br>year=1967<br>gdpPercap=%{y}<extra></extra>",
           "ids": [
            "Albania",
            "Austria",
            "Belgium",
            "Bosnia and Herzegovina",
            "Bulgaria",
            "Croatia",
            "Czech Republic",
            "Denmark",
            "Finland",
            "France",
            "Germany",
            "Greece",
            "Hungary",
            "Iceland",
            "Ireland",
            "Italy",
            "Montenegro",
            "Netherlands",
            "Norway",
            "Poland",
            "Portugal",
            "Romania",
            "Serbia",
            "Slovak Republic",
            "Slovenia",
            "Spain",
            "Sweden",
            "Switzerland",
            "Turkey",
            "United Kingdom"
           ],
           "legendgroup": "Europe",
           "marker": {
            "color": "#EF553B"
           },
           "name": "Europe",
           "offsetgroup": "Europe",
           "orientation": "v",
           "showlegend": true,
           "textposition": "auto",
           "type": "bar",
           "x": [
            "Europe",
            "Europe",
            "Europe",
            "Europe",
            "Europe",
            "Europe",
            "Europe",
            "Europe",
            "Europe",
            "Europe",
            "Europe",
            "Europe",
            "Europe",
            "Europe",
            "Europe",
            "Europe",
            "Europe",
            "Europe",
            "Europe",
            "Europe",
            "Europe",
            "Europe",
            "Europe",
            "Europe",
            "Europe",
            "Europe",
            "Europe",
            "Europe",
            "Europe",
            "Europe"
           ],
           "xaxis": "x",
           "y": [
            2760.196931,
            12834.6024,
            13149.04119,
            2172.3524230000003,
            5577.0028,
            6960.297861,
            11399.44489,
            15937.21123,
            10921.63626,
            12999.91766,
            14745.62561,
            8513.097016,
            9326.64467,
            13319.89568,
            7655.568963,
            10022.40131,
            5907.850937,
            15363.25136,
            16361.87647,
            6557.152776,
            6361.517993,
            6470.866545,
            7991.707066,
            8412.902397,
            9405.489397,
            7993.512294,
            15258.29697,
            22966.14432,
            2826.3563870000003,
            14142.85089
           ],
           "yaxis": "y"
          },
          {
           "alignmentgroup": "True",
           "hovertemplate": "continent=%{x}<br>year=1967<br>gdpPercap=%{y}<extra></extra>",
           "ids": [
            "Algeria",
            "Angola",
            "Benin",
            "Botswana",
            "Burkina Faso",
            "Burundi",
            "Cameroon",
            "Central African Republic",
            "Chad",
            "Comoros",
            "Congo, Dem. Rep.",
            "Congo, Rep.",
            "Cote d'Ivoire",
            "Djibouti",
            "Egypt",
            "Equatorial Guinea",
            "Eritrea",
            "Ethiopia",
            "Gabon",
            "Gambia",
            "Ghana",
            "Guinea",
            "Guinea-Bissau",
            "Kenya",
            "Lesotho",
            "Liberia",
            "Libya",
            "Madagascar",
            "Malawi",
            "Mali",
            "Mauritania",
            "Mauritius",
            "Morocco",
            "Mozambique",
            "Namibia",
            "Niger",
            "Nigeria",
            "Reunion",
            "Rwanda",
            "Sao Tome and Principe",
            "Senegal",
            "Sierra Leone",
            "Somalia",
            "South Africa",
            "Sudan",
            "Swaziland",
            "Tanzania",
            "Togo",
            "Tunisia",
            "Uganda",
            "Zambia",
            "Zimbabwe"
           ],
           "legendgroup": "Africa",
           "marker": {
            "color": "#00cc96"
           },
           "name": "Africa",
           "offsetgroup": "Africa",
           "orientation": "v",
           "showlegend": true,
           "textposition": "auto",
           "type": "bar",
           "x": [
            "Africa",
            "Africa",
            "Africa",
            "Africa",
            "Africa",
            "Africa",
            "Africa",
            "Africa",
            "Africa",
            "Africa",
            "Africa",
            "Africa",
            "Africa",
            "Africa",
            "Africa",
            "Africa",
            "Africa",
            "Africa",
            "Africa",
            "Africa",
            "Africa",
            "Africa",
            "Africa",
            "Africa",
            "Africa",
            "Africa",
            "Africa",
            "Africa",
            "Africa",
            "Africa",
            "Africa",
            "Africa",
            "Africa",
            "Africa",
            "Africa",
            "Africa",
            "Africa",
            "Africa",
            "Africa",
            "Africa",
            "Africa",
            "Africa",
            "Africa",
            "Africa",
            "Africa",
            "Africa",
            "Africa",
            "Africa",
            "Africa",
            "Africa",
            "Africa",
            "Africa"
           ],
           "xaxis": "x",
           "y": [
            3246.991771,
            5522.776375,
            1035.831411,
            1214.709294,
            794.8265597,
            412.97751360000007,
            1508.453148,
            1136.056615,
            1196.810565,
            1876.029643,
            861.5932424,
            2677.9396420000003,
            2052.0504730000002,
            3020.0505129999997,
            1814.880728,
            915.5960025,
            468.7949699,
            516.1186438,
            8358.761987,
            734.7829124,
            1125.69716,
            708.7595409,
            715.5806402000001,
            1056.736457,
            498.63902649999994,
            713.6036482999999,
            18772.75169,
            1634.047282,
            495.5147806,
            545.0098873,
            1421.145193,
            2475.387562,
            1711.04477,
            566.6691539,
            3793.694753,
            1054.384891,
            1014.5141039999999,
            4021.1757390000002,
            510.9637142,
            1384.840593,
            1612.404632,
            1206.043465,
            1284.7331800000002,
            7114.477970999999,
            1687.997641,
            2613.1016649999997,
            848.2186575,
            1477.59676,
            1932.3601670000003,
            908.9185217,
            1777.0773179999999,
            569.7950712
           ],
           "yaxis": "y"
          },
          {
           "alignmentgroup": "True",
           "hovertemplate": "continent=%{x}<br>year=1967<br>gdpPercap=%{y}<extra></extra>",
           "ids": [
            "Argentina",
            "Bolivia",
            "Brazil",
            "Canada",
            "Chile",
            "Colombia",
            "Costa Rica",
            "Cuba",
            "Dominican Republic",
            "Ecuador",
            "El Salvador",
            "Guatemala",
            "Haiti",
            "Honduras",
            "Jamaica",
            "Mexico",
            "Nicaragua",
            "Panama",
            "Paraguay",
            "Peru",
            "Puerto Rico",
            "Trinidad and Tobago",
            "United States",
            "Uruguay",
            "Venezuela"
           ],
           "legendgroup": "Americas",
           "marker": {
            "color": "#ab63fa"
           },
           "name": "Americas",
           "offsetgroup": "Americas",
           "orientation": "v",
           "showlegend": true,
           "textposition": "auto",
           "type": "bar",
           "x": [
            "Americas",
            "Americas",
            "Americas",
            "Americas",
            "Americas",
            "Americas",
            "Americas",
            "Americas",
            "Americas",
            "Americas",
            "Americas",
            "Americas",
            "Americas",
            "Americas",
            "Americas",
            "Americas",
            "Americas",
            "Americas",
            "Americas",
            "Americas",
            "Americas",
            "Americas",
            "Americas",
            "Americas",
            "Americas"
           ],
           "xaxis": "x",
           "y": [
            8052.953020999999,
            2586.886053,
            3429.864357,
            16076.58803,
            5106.654313,
            2678.729839,
            4161.727834,
            5690.268015,
            1653.7230029999998,
            4579.074215,
            4358.595393,
            3242.5311469999997,
            1452.057666,
            2538.269358,
            6124.703450999999,
            5754.733883,
            4643.393534000001,
            4421.009084,
            2299.376311,
            5788.09333,
            6929.277714,
            5621.368472,
            19530.365569999998,
            5444.61962,
            9541.474188
           ],
           "yaxis": "y"
          },
          {
           "alignmentgroup": "True",
           "hovertemplate": "continent=%{x}<br>year=1967<br>gdpPercap=%{y}<extra></extra>",
           "ids": [
            "Australia",
            "New Zealand"
           ],
           "legendgroup": "Oceania",
           "marker": {
            "color": "#FFA15A"
           },
           "name": "Oceania",
           "offsetgroup": "Oceania",
           "orientation": "v",
           "showlegend": true,
           "textposition": "auto",
           "type": "bar",
           "x": [
            "Oceania",
            "Oceania"
           ],
           "xaxis": "x",
           "y": [
            14526.12465,
            14463.918930000002
           ],
           "yaxis": "y"
          }
         ],
         "name": "1967"
        },
        {
         "data": [
          {
           "alignmentgroup": "True",
           "hovertemplate": "continent=%{x}<br>year=1972<br>gdpPercap=%{y}<extra></extra>",
           "ids": [
            "Afghanistan",
            "Bahrain",
            "Bangladesh",
            "Cambodia",
            "China",
            "Hong Kong, China",
            "India",
            "Indonesia",
            "Iran",
            "Iraq",
            "Israel",
            "Japan",
            "Jordan",
            "Korea, Dem. Rep.",
            "Korea, Rep.",
            "Kuwait",
            "Lebanon",
            "Malaysia",
            "Mongolia",
            "Myanmar",
            "Nepal",
            "Oman",
            "Pakistan",
            "Philippines",
            "Saudi Arabia",
            "Singapore",
            "Sri Lanka",
            "Syria",
            "Taiwan",
            "Thailand",
            "Vietnam",
            "West Bank and Gaza",
            "Yemen, Rep."
           ],
           "legendgroup": "Asia",
           "marker": {
            "color": "#636efa"
           },
           "name": "Asia",
           "offsetgroup": "Asia",
           "orientation": "v",
           "showlegend": true,
           "textposition": "auto",
           "type": "bar",
           "x": [
            "Asia",
            "Asia",
            "Asia",
            "Asia",
            "Asia",
            "Asia",
            "Asia",
            "Asia",
            "Asia",
            "Asia",
            "Asia",
            "Asia",
            "Asia",
            "Asia",
            "Asia",
            "Asia",
            "Asia",
            "Asia",
            "Asia",
            "Asia",
            "Asia",
            "Asia",
            "Asia",
            "Asia",
            "Asia",
            "Asia",
            "Asia",
            "Asia",
            "Asia",
            "Asia",
            "Asia",
            "Asia",
            "Asia"
           ],
           "xaxis": "x",
           "y": [
            739.9811057999999,
            18268.65839,
            630.2336265,
            421.6240257,
            676.9000921,
            8315.928145,
            724.032527,
            1111.107907,
            9613.818607,
            9576.037596,
            12786.93223,
            14778.78636,
            2110.856309,
            3701.6215030000003,
            3030.87665,
            109347.867,
            7486.384341,
            2849.09478,
            1421.741975,
            357,
            674.7881296,
            10618.03855,
            1049.938981,
            1989.3740699999998,
            24837.42865,
            8597.756202,
            1213.39553,
            2571.423014,
            4062.523897,
            1524.3589359999999,
            699.5016441,
            3133.4092769999997,
            1265.047031
           ],
           "yaxis": "y"
          },
          {
           "alignmentgroup": "True",
           "hovertemplate": "continent=%{x}<br>year=1972<br>gdpPercap=%{y}<extra></extra>",
           "ids": [
            "Albania",
            "Austria",
            "Belgium",
            "Bosnia and Herzegovina",
            "Bulgaria",
            "Croatia",
            "Czech Republic",
            "Denmark",
            "Finland",
            "France",
            "Germany",
            "Greece",
            "Hungary",
            "Iceland",
            "Ireland",
            "Italy",
            "Montenegro",
            "Netherlands",
            "Norway",
            "Poland",
            "Portugal",
            "Romania",
            "Serbia",
            "Slovak Republic",
            "Slovenia",
            "Spain",
            "Sweden",
            "Switzerland",
            "Turkey",
            "United Kingdom"
           ],
           "legendgroup": "Europe",
           "marker": {
            "color": "#EF553B"
           },
           "name": "Europe",
           "offsetgroup": "Europe",
           "orientation": "v",
           "showlegend": true,
           "textposition": "auto",
           "type": "bar",
           "x": [
            "Europe",
            "Europe",
            "Europe",
            "Europe",
            "Europe",
            "Europe",
            "Europe",
            "Europe",
            "Europe",
            "Europe",
            "Europe",
            "Europe",
            "Europe",
            "Europe",
            "Europe",
            "Europe",
            "Europe",
            "Europe",
            "Europe",
            "Europe",
            "Europe",
            "Europe",
            "Europe",
            "Europe",
            "Europe",
            "Europe",
            "Europe",
            "Europe",
            "Europe",
            "Europe"
           ],
           "xaxis": "x",
           "y": [
            3313.422188,
            16661.6256,
            16672.14356,
            2860.16975,
            6597.494398,
            9164.090127,
            13108.4536,
            18866.20721,
            14358.8759,
            16107.19171,
            18016.180269999997,
            12724.82957,
            10168.65611,
            15798.063619999999,
            9530.772895999999,
            12269.27378,
            7778.414017,
            18794.74567,
            18965.05551,
            8006.506993000001,
            9022.247417,
            8011.414401999999,
            10522.067490000001,
            9674.167626,
            12383.4862,
            10638.75131,
            17832.02464,
            27195.113039999997,
            3450.69638,
            15895.116409999999
           ],
           "yaxis": "y"
          },
          {
           "alignmentgroup": "True",
           "hovertemplate": "continent=%{x}<br>year=1972<br>gdpPercap=%{y}<extra></extra>",
           "ids": [
            "Algeria",
            "Angola",
            "Benin",
            "Botswana",
            "Burkina Faso",
            "Burundi",
            "Cameroon",
            "Central African Republic",
            "Chad",
            "Comoros",
            "Congo, Dem. Rep.",
            "Congo, Rep.",
            "Cote d'Ivoire",
            "Djibouti",
            "Egypt",
            "Equatorial Guinea",
            "Eritrea",
            "Ethiopia",
            "Gabon",
            "Gambia",
            "Ghana",
            "Guinea",
            "Guinea-Bissau",
            "Kenya",
            "Lesotho",
            "Liberia",
            "Libya",
            "Madagascar",
            "Malawi",
            "Mali",
            "Mauritania",
            "Mauritius",
            "Morocco",
            "Mozambique",
            "Namibia",
            "Niger",
            "Nigeria",
            "Reunion",
            "Rwanda",
            "Sao Tome and Principe",
            "Senegal",
            "Sierra Leone",
            "Somalia",
            "South Africa",
            "Sudan",
            "Swaziland",
            "Tanzania",
            "Togo",
            "Tunisia",
            "Uganda",
            "Zambia",
            "Zimbabwe"
           ],
           "legendgroup": "Africa",
           "marker": {
            "color": "#00cc96"
           },
           "name": "Africa",
           "offsetgroup": "Africa",
           "orientation": "v",
           "showlegend": true,
           "textposition": "auto",
           "type": "bar",
           "x": [
            "Africa",
            "Africa",
            "Africa",
            "Africa",
            "Africa",
            "Africa",
            "Africa",
            "Africa",
            "Africa",
            "Africa",
            "Africa",
            "Africa",
            "Africa",
            "Africa",
            "Africa",
            "Africa",
            "Africa",
            "Africa",
            "Africa",
            "Africa",
            "Africa",
            "Africa",
            "Africa",
            "Africa",
            "Africa",
            "Africa",
            "Africa",
            "Africa",
            "Africa",
            "Africa",
            "Africa",
            "Africa",
            "Africa",
            "Africa",
            "Africa",
            "Africa",
            "Africa",
            "Africa",
            "Africa",
            "Africa",
            "Africa",
            "Africa",
            "Africa",
            "Africa",
            "Africa",
            "Africa",
            "Africa",
            "Africa",
            "Africa",
            "Africa",
            "Africa",
            "Africa"
           ],
           "xaxis": "x",
           "y": [
            4182.663766,
            5473.288004999999,
            1085.796879,
            2263.6111140000003,
            854.7359763000001,
            464.0995039,
            1684.1465280000002,
            1070.013275,
            1104.103987,
            1937.577675,
            904.8960685000001,
            3213.152683,
            2378.201111,
            3694.2123520000005,
            2024.0081469999998,
            672.4122571,
            514.3242081999999,
            566.2439442000001,
            11401.948409999999,
            756.0868363,
            1178.223708,
            741.6662307,
            820.2245876000001,
            1222.359968,
            496.58159220000005,
            803.0054535,
            21011.497209999998,
            1748.562982,
            584.6219709,
            581.3688761,
            1586.851781,
            2575.4841579999998,
            1930.194975,
            724.9178037,
            3746.080948,
            954.2092363,
            1698.3888379999999,
            5047.658563,
            590.5806637999999,
            1532.985254,
            1597.712056,
            1353.759762,
            1254.576127,
            7765.962636,
            1659.652775,
            3364.836625,
            915.9850592,
            1649.660188,
            2753.2859940000003,
            950.735869,
            1773.498265,
            799.3621757999999
           ],
           "yaxis": "y"
          },
          {
           "alignmentgroup": "True",
           "hovertemplate": "continent=%{x}<br>year=1972<br>gdpPercap=%{y}<extra></extra>",
           "ids": [
            "Argentina",
            "Bolivia",
            "Brazil",
            "Canada",
            "Chile",
            "Colombia",
            "Costa Rica",
            "Cuba",
            "Dominican Republic",
            "Ecuador",
            "El Salvador",
            "Guatemala",
            "Haiti",
            "Honduras",
            "Jamaica",
            "Mexico",
            "Nicaragua",
            "Panama",
            "Paraguay",
            "Peru",
            "Puerto Rico",
            "Trinidad and Tobago",
            "United States",
            "Uruguay",
            "Venezuela"
           ],
           "legendgroup": "Americas",
           "marker": {
            "color": "#ab63fa"
           },
           "name": "Americas",
           "offsetgroup": "Americas",
           "orientation": "v",
           "showlegend": true,
           "textposition": "auto",
           "type": "bar",
           "x": [
            "Americas",
            "Americas",
            "Americas",
            "Americas",
            "Americas",
            "Americas",
            "Americas",
            "Americas",
            "Americas",
            "Americas",
            "Americas",
            "Americas",
            "Americas",
            "Americas",
            "Americas",
            "Americas",
            "Americas",
            "Americas",
            "Americas",
            "Americas",
            "Americas",
            "Americas",
            "Americas",
            "Americas",
            "Americas"
           ],
           "xaxis": "x",
           "y": [
            9443.038526,
            2980.331339,
            4985.711467,
            18970.57086,
            5494.024437,
            3264.660041,
            5118.146939,
            5305.445256,
            2189.874499,
            5280.99471,
            4520.246008,
            4031.4082710000002,
            1654.456946,
            2529.842345,
            7433.889293000001,
            6809.406690000001,
            4688.593267,
            5364.2496630000005,
            2523.337977,
            5937.827283,
            9123.041742,
            6619.551418999999,
            21806.03594,
            5703.408898,
            10505.25966
           ],
           "yaxis": "y"
          },
          {
           "alignmentgroup": "True",
           "hovertemplate": "continent=%{x}<br>year=1972<br>gdpPercap=%{y}<extra></extra>",
           "ids": [
            "Australia",
            "New Zealand"
           ],
           "legendgroup": "Oceania",
           "marker": {
            "color": "#FFA15A"
           },
           "name": "Oceania",
           "offsetgroup": "Oceania",
           "orientation": "v",
           "showlegend": true,
           "textposition": "auto",
           "type": "bar",
           "x": [
            "Oceania",
            "Oceania"
           ],
           "xaxis": "x",
           "y": [
            16788.62948,
            16046.03728
           ],
           "yaxis": "y"
          }
         ],
         "name": "1972"
        },
        {
         "data": [
          {
           "alignmentgroup": "True",
           "hovertemplate": "continent=%{x}<br>year=1977<br>gdpPercap=%{y}<extra></extra>",
           "ids": [
            "Afghanistan",
            "Bahrain",
            "Bangladesh",
            "Cambodia",
            "China",
            "Hong Kong, China",
            "India",
            "Indonesia",
            "Iran",
            "Iraq",
            "Israel",
            "Japan",
            "Jordan",
            "Korea, Dem. Rep.",
            "Korea, Rep.",
            "Kuwait",
            "Lebanon",
            "Malaysia",
            "Mongolia",
            "Myanmar",
            "Nepal",
            "Oman",
            "Pakistan",
            "Philippines",
            "Saudi Arabia",
            "Singapore",
            "Sri Lanka",
            "Syria",
            "Taiwan",
            "Thailand",
            "Vietnam",
            "West Bank and Gaza",
            "Yemen, Rep."
           ],
           "legendgroup": "Asia",
           "marker": {
            "color": "#636efa"
           },
           "name": "Asia",
           "offsetgroup": "Asia",
           "orientation": "v",
           "showlegend": true,
           "textposition": "auto",
           "type": "bar",
           "x": [
            "Asia",
            "Asia",
            "Asia",
            "Asia",
            "Asia",
            "Asia",
            "Asia",
            "Asia",
            "Asia",
            "Asia",
            "Asia",
            "Asia",
            "Asia",
            "Asia",
            "Asia",
            "Asia",
            "Asia",
            "Asia",
            "Asia",
            "Asia",
            "Asia",
            "Asia",
            "Asia",
            "Asia",
            "Asia",
            "Asia",
            "Asia",
            "Asia",
            "Asia",
            "Asia",
            "Asia",
            "Asia",
            "Asia"
           ],
           "xaxis": "x",
           "y": [
            786.11336,
            19340.10196,
            659.8772322000001,
            524.9721831999999,
            741.2374699,
            11186.14125,
            813.3373230000001,
            1382.702056,
            11888.59508,
            14688.235069999999,
            13306.619209999999,
            16610.37701,
            2852.351568,
            4106.301249,
            4657.22102,
            59265.477139999995,
            8659.696836,
            3827.9215710000003,
            1647.511665,
            371,
            694.1124398,
            11848.343920000001,
            1175.921193,
            2373.204287,
            34167.7626,
            11210.08948,
            1348.775651,
            3195.484582,
            5596.519826,
            1961.2246350000003,
            713.5371196000001,
            3682.8314939999996,
            1829.765177
           ],
           "yaxis": "y"
          },
          {
           "alignmentgroup": "True",
           "hovertemplate": "continent=%{x}<br>year=1977<br>gdpPercap=%{y}<extra></extra>",
           "ids": [
            "Albania",
            "Austria",
            "Belgium",
            "Bosnia and Herzegovina",
            "Bulgaria",
            "Croatia",
            "Czech Republic",
            "Denmark",
            "Finland",
            "France",
            "Germany",
            "Greece",
            "Hungary",
            "Iceland",
            "Ireland",
            "Italy",
            "Montenegro",
            "Netherlands",
            "Norway",
            "Poland",
            "Portugal",
            "Romania",
            "Serbia",
            "Slovak Republic",
            "Slovenia",
            "Spain",
            "Sweden",
            "Switzerland",
            "Turkey",
            "United Kingdom"
           ],
           "legendgroup": "Europe",
           "marker": {
            "color": "#EF553B"
           },
           "name": "Europe",
           "offsetgroup": "Europe",
           "orientation": "v",
           "showlegend": true,
           "textposition": "auto",
           "type": "bar",
           "x": [
            "Europe",
            "Europe",
            "Europe",
            "Europe",
            "Europe",
            "Europe",
            "Europe",
            "Europe",
            "Europe",
            "Europe",
            "Europe",
            "Europe",
            "Europe",
            "Europe",
            "Europe",
            "Europe",
            "Europe",
            "Europe",
            "Europe",
            "Europe",
            "Europe",
            "Europe",
            "Europe",
            "Europe",
            "Europe",
            "Europe",
            "Europe",
            "Europe",
            "Europe",
            "Europe"
           ],
           "xaxis": "x",
           "y": [
            3533.0039100000004,
            19749.4223,
            19117.97448,
            3528.481305,
            7612.240438,
            11305.38517,
            14800.160619999999,
            20422.9015,
            15605.422830000001,
            18292.635140000002,
            20512.92123,
            14195.524280000001,
            11674.837370000001,
            19654.96247,
            11150.98113,
            14255.98475,
            9595.929904999999,
            21209.0592,
            23311.34939,
            9508.141454,
            10172.48572,
            9356.39724,
            12980.66956,
            10922.664040000001,
            15277.030169999998,
            13236.92117,
            18855.72521,
            26982.29052,
            4269.122326,
            17428.74846
           ],
           "yaxis": "y"
          },
          {
           "alignmentgroup": "True",
           "hovertemplate": "continent=%{x}<br>year=1977<br>gdpPercap=%{y}<extra></extra>",
           "ids": [
            "Algeria",
            "Angola",
            "Benin",
            "Botswana",
            "Burkina Faso",
            "Burundi",
            "Cameroon",
            "Central African Republic",
            "Chad",
            "Comoros",
            "Congo, Dem. Rep.",
            "Congo, Rep.",
            "Cote d'Ivoire",
            "Djibouti",
            "Egypt",
            "Equatorial Guinea",
            "Eritrea",
            "Ethiopia",
            "Gabon",
            "Gambia",
            "Ghana",
            "Guinea",
            "Guinea-Bissau",
            "Kenya",
            "Lesotho",
            "Liberia",
            "Libya",
            "Madagascar",
            "Malawi",
            "Mali",
            "Mauritania",
            "Mauritius",
            "Morocco",
            "Mozambique",
            "Namibia",
            "Niger",
            "Nigeria",
            "Reunion",
            "Rwanda",
            "Sao Tome and Principe",
            "Senegal",
            "Sierra Leone",
            "Somalia",
            "South Africa",
            "Sudan",
            "Swaziland",
            "Tanzania",
            "Togo",
            "Tunisia",
            "Uganda",
            "Zambia",
            "Zimbabwe"
           ],
           "legendgroup": "Africa",
           "marker": {
            "color": "#00cc96"
           },
           "name": "Africa",
           "offsetgroup": "Africa",
           "orientation": "v",
           "showlegend": true,
           "textposition": "auto",
           "type": "bar",
           "x": [
            "Africa",
            "Africa",
            "Africa",
            "Africa",
            "Africa",
            "Africa",
            "Africa",
            "Africa",
            "Africa",
            "Africa",
            "Africa",
            "Africa",
            "Africa",
            "Africa",
            "Africa",
            "Africa",
            "Africa",
            "Africa",
            "Africa",
            "Africa",
            "Africa",
            "Africa",
            "Africa",
            "Africa",
            "Africa",
            "Africa",
            "Africa",
            "Africa",
            "Africa",
            "Africa",
            "Africa",
            "Africa",
            "Africa",
            "Africa",
            "Africa",
            "Africa",
            "Africa",
            "Africa",
            "Africa",
            "Africa",
            "Africa",
            "Africa",
            "Africa",
            "Africa",
            "Africa",
            "Africa",
            "Africa",
            "Africa",
            "Africa",
            "Africa",
            "Africa",
            "Africa"
           ],
           "xaxis": "x",
           "y": [
            4910.4167560000005,
            3008.647355,
            1029.161251,
            3214.857818,
            743.3870368,
            556.1032651,
            1783.432873,
            1109.374338,
            1133.98495,
            1172.603047,
            795.757282,
            3259.178978,
            2517.736547,
            3081.7610219999997,
            2785.493582,
            958.5668124,
            505.7538077,
            556.8083834,
            21745.57328,
            884.7552507000001,
            993.2239571,
            874.6858642999999,
            764.7259627999999,
            1267.613204,
            745.3695408,
            640.3224382999999,
            21951.21176,
            1544.228586,
            663.2236766,
            686.3952693,
            1497.492223,
            3710.9829630000004,
            2370.619976,
            502.31973339999996,
            3876.4859579999998,
            808.8970727999999,
            1981.9518059999998,
            4319.804067,
            670.0806011,
            1737.561657,
            1561.769116,
            1348.285159,
            1450.9925130000001,
            8028.651439,
            2202.9884230000002,
            3781.410618,
            962.4922932,
            1532.776998,
            3120.876811,
            843.7331372000001,
            1588.688299,
            685.5876821
           ],
           "yaxis": "y"
          },
          {
           "alignmentgroup": "True",
           "hovertemplate": "continent=%{x}<br>year=1977<br>gdpPercap=%{y}<extra></extra>",
           "ids": [
            "Argentina",
            "Bolivia",
            "Brazil",
            "Canada",
            "Chile",
            "Colombia",
            "Costa Rica",
            "Cuba",
            "Dominican Republic",
            "Ecuador",
            "El Salvador",
            "Guatemala",
            "Haiti",
            "Honduras",
            "Jamaica",
            "Mexico",
            "Nicaragua",
            "Panama",
            "Paraguay",
            "Peru",
            "Puerto Rico",
            "Trinidad and Tobago",
            "United States",
            "Uruguay",
            "Venezuela"
           ],
           "legendgroup": "Americas",
           "marker": {
            "color": "#ab63fa"
           },
           "name": "Americas",
           "offsetgroup": "Americas",
           "orientation": "v",
           "showlegend": true,
           "textposition": "auto",
           "type": "bar",
           "x": [
            "Americas",
            "Americas",
            "Americas",
            "Americas",
            "Americas",
            "Americas",
            "Americas",
            "Americas",
            "Americas",
            "Americas",
            "Americas",
            "Americas",
            "Americas",
            "Americas",
            "Americas",
            "Americas",
            "Americas",
            "Americas",
            "Americas",
            "Americas",
            "Americas",
            "Americas",
            "Americas",
            "Americas",
            "Americas"
           ],
           "xaxis": "x",
           "y": [
            10079.026740000001,
            3548.097832,
            6660.118654,
            22090.88306,
            4756.763836,
            3815.80787,
            5926.876967,
            6380.494965999999,
            2681.9889,
            6679.62326,
            5138.922374,
            4879.992748,
            1874.2989309999998,
            3203.208066,
            6650.195573,
            7674.929108,
            5486.371089,
            5351.912144,
            3248.373311,
            6281.290854999999,
            9770.524921,
            7899.554209000001,
            24072.63213,
            6504.339663000001,
            13143.95095
           ],
           "yaxis": "y"
          },
          {
           "alignmentgroup": "True",
           "hovertemplate": "continent=%{x}<br>year=1977<br>gdpPercap=%{y}<extra></extra>",
           "ids": [
            "Australia",
            "New Zealand"
           ],
           "legendgroup": "Oceania",
           "marker": {
            "color": "#FFA15A"
           },
           "name": "Oceania",
           "offsetgroup": "Oceania",
           "orientation": "v",
           "showlegend": true,
           "textposition": "auto",
           "type": "bar",
           "x": [
            "Oceania",
            "Oceania"
           ],
           "xaxis": "x",
           "y": [
            18334.197509999998,
            16233.7177
           ],
           "yaxis": "y"
          }
         ],
         "name": "1977"
        },
        {
         "data": [
          {
           "alignmentgroup": "True",
           "hovertemplate": "continent=%{x}<br>year=1982<br>gdpPercap=%{y}<extra></extra>",
           "ids": [
            "Afghanistan",
            "Bahrain",
            "Bangladesh",
            "Cambodia",
            "China",
            "Hong Kong, China",
            "India",
            "Indonesia",
            "Iran",
            "Iraq",
            "Israel",
            "Japan",
            "Jordan",
            "Korea, Dem. Rep.",
            "Korea, Rep.",
            "Kuwait",
            "Lebanon",
            "Malaysia",
            "Mongolia",
            "Myanmar",
            "Nepal",
            "Oman",
            "Pakistan",
            "Philippines",
            "Saudi Arabia",
            "Singapore",
            "Sri Lanka",
            "Syria",
            "Taiwan",
            "Thailand",
            "Vietnam",
            "West Bank and Gaza",
            "Yemen, Rep."
           ],
           "legendgroup": "Asia",
           "marker": {
            "color": "#636efa"
           },
           "name": "Asia",
           "offsetgroup": "Asia",
           "orientation": "v",
           "showlegend": true,
           "textposition": "auto",
           "type": "bar",
           "x": [
            "Asia",
            "Asia",
            "Asia",
            "Asia",
            "Asia",
            "Asia",
            "Asia",
            "Asia",
            "Asia",
            "Asia",
            "Asia",
            "Asia",
            "Asia",
            "Asia",
            "Asia",
            "Asia",
            "Asia",
            "Asia",
            "Asia",
            "Asia",
            "Asia",
            "Asia",
            "Asia",
            "Asia",
            "Asia",
            "Asia",
            "Asia",
            "Asia",
            "Asia",
            "Asia",
            "Asia",
            "Asia",
            "Asia"
           ],
           "xaxis": "x",
           "y": [
            978.0114388000001,
            19211.14731,
            676.9818656,
            624.4754784,
            962.4213804999999,
            14560.530509999999,
            855.7235377000001,
            1516.872988,
            7608.334602,
            14517.90711,
            15367.0292,
            19384.10571,
            4161.415959,
            4106.525293,
            5622.942464,
            31354.03573,
            7640.519520999999,
            4920.355951,
            2000.603139,
            424,
            718.3730947,
            12954.791009999999,
            1443.429832,
            2603.273765,
            33693.17525,
            15169.161119999999,
            1648.0797890000001,
            3761.8377149999997,
            7426.354773999999,
            2393.219781,
            707.2357863,
            4336.032082,
            1977.5570100000002
           ],
           "yaxis": "y"
          },
          {
           "alignmentgroup": "True",
           "hovertemplate": "continent=%{x}<br>year=1982<br>gdpPercap=%{y}<extra></extra>",
           "ids": [
            "Albania",
            "Austria",
            "Belgium",
            "Bosnia and Herzegovina",
            "Bulgaria",
            "Croatia",
            "Czech Republic",
            "Denmark",
            "Finland",
            "France",
            "Germany",
            "Greece",
            "Hungary",
            "Iceland",
            "Ireland",
            "Italy",
            "Montenegro",
            "Netherlands",
            "Norway",
            "Poland",
            "Portugal",
            "Romania",
            "Serbia",
            "Slovak Republic",
            "Slovenia",
            "Spain",
            "Sweden",
            "Switzerland",
            "Turkey",
            "United Kingdom"
           ],
           "legendgroup": "Europe",
           "marker": {
            "color": "#EF553B"
           },
           "name": "Europe",
           "offsetgroup": "Europe",
           "orientation": "v",
           "showlegend": true,
           "textposition": "auto",
           "type": "bar",
           "x": [
            "Europe",
            "Europe",
            "Europe",
            "Europe",
            "Europe",
            "Europe",
            "Europe",
            "Europe",
            "Europe",
            "Europe",
            "Europe",
            "Europe",
            "Europe",
            "Europe",
            "Europe",
            "Europe",
            "Europe",
            "Europe",
            "Europe",
            "Europe",
            "Europe",
            "Europe",
            "Europe",
            "Europe",
            "Europe",
            "Europe",
            "Europe",
            "Europe",
            "Europe",
            "Europe"
           ],
           "xaxis": "x",
           "y": [
            3630.880722,
            21597.083619999998,
            20979.84589,
            4126.613157,
            8224.191647,
            13221.82184,
            15377.22855,
            21688.04048,
            18533.15761,
            20293.89746,
            22031.532740000002,
            15268.420890000001,
            12545.99066,
            23269.6075,
            12618.321409999999,
            16537.4835,
            11222.58762,
            21399.46046,
            26298.635309999998,
            8451.531004,
            11753.84291,
            9605.314053,
            15181.0927,
            11348.54585,
            17866.72175,
            13926.169969999999,
            20667.38125,
            28397.715119999997,
            4241.356344,
            18232.42452
           ],
           "yaxis": "y"
          },
          {
           "alignmentgroup": "True",
           "hovertemplate": "continent=%{x}<br>year=1982<br>gdpPercap=%{y}<extra></extra>",
           "ids": [
            "Algeria",
            "Angola",
            "Benin",
            "Botswana",
            "Burkina Faso",
            "Burundi",
            "Cameroon",
            "Central African Republic",
            "Chad",
            "Comoros",
            "Congo, Dem. Rep.",
            "Congo, Rep.",
            "Cote d'Ivoire",
            "Djibouti",
            "Egypt",
            "Equatorial Guinea",
            "Eritrea",
            "Ethiopia",
            "Gabon",
            "Gambia",
            "Ghana",
            "Guinea",
            "Guinea-Bissau",
            "Kenya",
            "Lesotho",
            "Liberia",
            "Libya",
            "Madagascar",
            "Malawi",
            "Mali",
            "Mauritania",
            "Mauritius",
            "Morocco",
            "Mozambique",
            "Namibia",
            "Niger",
            "Nigeria",
            "Reunion",
            "Rwanda",
            "Sao Tome and Principe",
            "Senegal",
            "Sierra Leone",
            "Somalia",
            "South Africa",
            "Sudan",
            "Swaziland",
            "Tanzania",
            "Togo",
            "Tunisia",
            "Uganda",
            "Zambia",
            "Zimbabwe"
           ],
           "legendgroup": "Africa",
           "marker": {
            "color": "#00cc96"
           },
           "name": "Africa",
           "offsetgroup": "Africa",
           "orientation": "v",
           "showlegend": true,
           "textposition": "auto",
           "type": "bar",
           "x": [
            "Africa",
            "Africa",
            "Africa",
            "Africa",
            "Africa",
            "Africa",
            "Africa",
            "Africa",
            "Africa",
            "Africa",
            "Africa",
            "Africa",
            "Africa",
            "Africa",
            "Africa",
            "Africa",
            "Africa",
            "Africa",
            "Africa",
            "Africa",
            "Africa",
            "Africa",
            "Africa",
            "Africa",
            "Africa",
            "Africa",
            "Africa",
            "Africa",
            "Africa",
            "Africa",
            "Africa",
            "Africa",
            "Africa",
            "Africa",
            "Africa",
            "Africa",
            "Africa",
            "Africa",
            "Africa",
            "Africa",
            "Africa",
            "Africa",
            "Africa",
            "Africa",
            "Africa",
            "Africa",
            "Africa",
            "Africa",
            "Africa",
            "Africa",
            "Africa",
            "Africa"
           ],
           "xaxis": "x",
           "y": [
            5745.160213,
            2756.953672,
            1277.897616,
            4551.14215,
            807.1985855,
            559.6032309999999,
            2367.983282,
            956.7529906999999,
            797.9081006,
            1267.100083,
            673.7478181,
            4879.507522,
            2602.710169,
            2879.4680670000002,
            3503.729636,
            927.8253427000001,
            524.8758493,
            577.8607471,
            15113.36194,
            835.8096107999999,
            876.032569,
            857.2503577,
            838.1239671,
            1348.225791,
            797.2631074,
            572.1995694,
            17364.275380000003,
            1302.878658,
            632.8039209,
            618.0140640999999,
            1481.150189,
            3688.037739,
            2702.620356,
            462.2114149,
            4191.100511,
            909.7221354000001,
            1576.97375,
            5267.219353,
            881.5706467,
            1890.2181170000001,
            1518.479984,
            1465.010784,
            1176.807031,
            8568.266228,
            1895.544073,
            3895.384018,
            874.2426069,
            1344.577953,
            3560.2331740000004,
            682.2662267999999,
            1408.678565,
            788.8550411
           ],
           "yaxis": "y"
          },
          {
           "alignmentgroup": "True",
           "hovertemplate": "continent=%{x}<br>year=1982<br>gdpPercap=%{y}<extra></extra>",
           "ids": [
            "Argentina",
            "Bolivia",
            "Brazil",
            "Canada",
            "Chile",
            "Colombia",
            "Costa Rica",
            "Cuba",
            "Dominican Republic",
            "Ecuador",
            "El Salvador",
            "Guatemala",
            "Haiti",
            "Honduras",
            "Jamaica",
            "Mexico",
            "Nicaragua",
            "Panama",
            "Paraguay",
            "Peru",
            "Puerto Rico",
            "Trinidad and Tobago",
            "United States",
            "Uruguay",
            "Venezuela"
           ],
           "legendgroup": "Americas",
           "marker": {
            "color": "#ab63fa"
           },
           "name": "Americas",
           "offsetgroup": "Americas",
           "orientation": "v",
           "showlegend": true,
           "textposition": "auto",
           "type": "bar",
           "x": [
            "Americas",
            "Americas",
            "Americas",
            "Americas",
            "Americas",
            "Americas",
            "Americas",
            "Americas",
            "Americas",
            "Americas",
            "Americas",
            "Americas",
            "Americas",
            "Americas",
            "Americas",
            "Americas",
            "Americas",
            "Americas",
            "Americas",
            "Americas",
            "Americas",
            "Americas",
            "Americas",
            "Americas",
            "Americas"
           ],
           "xaxis": "x",
           "y": [
            8997.897412,
            3156.510452,
            7030.835878,
            22898.79214,
            5095.665738000001,
            4397.575659,
            5262.734751,
            7316.9181069999995,
            2861.092386,
            7213.7912670000005,
            4098.344175,
            4820.49479,
            2011.1595489999997,
            3121.7607940000003,
            6068.05135,
            9611.147541,
            3470.3381560000003,
            7009.601598,
            4258.5036039999995,
            6434.501797,
            10330.98915,
            9119.528607,
            25009.55914,
            6920.223051000001,
            11152.410109999999
           ],
           "yaxis": "y"
          },
          {
           "alignmentgroup": "True",
           "hovertemplate": "continent=%{x}<br>year=1982<br>gdpPercap=%{y}<extra></extra>",
           "ids": [
            "Australia",
            "New Zealand"
           ],
           "legendgroup": "Oceania",
           "marker": {
            "color": "#FFA15A"
           },
           "name": "Oceania",
           "offsetgroup": "Oceania",
           "orientation": "v",
           "showlegend": true,
           "textposition": "auto",
           "type": "bar",
           "x": [
            "Oceania",
            "Oceania"
           ],
           "xaxis": "x",
           "y": [
            19477.009280000002,
            17632.4104
           ],
           "yaxis": "y"
          }
         ],
         "name": "1982"
        },
        {
         "data": [
          {
           "alignmentgroup": "True",
           "hovertemplate": "continent=%{x}<br>year=1987<br>gdpPercap=%{y}<extra></extra>",
           "ids": [
            "Afghanistan",
            "Bahrain",
            "Bangladesh",
            "Cambodia",
            "China",
            "Hong Kong, China",
            "India",
            "Indonesia",
            "Iran",
            "Iraq",
            "Israel",
            "Japan",
            "Jordan",
            "Korea, Dem. Rep.",
            "Korea, Rep.",
            "Kuwait",
            "Lebanon",
            "Malaysia",
            "Mongolia",
            "Myanmar",
            "Nepal",
            "Oman",
            "Pakistan",
            "Philippines",
            "Saudi Arabia",
            "Singapore",
            "Sri Lanka",
            "Syria",
            "Taiwan",
            "Thailand",
            "Vietnam",
            "West Bank and Gaza",
            "Yemen, Rep."
           ],
           "legendgroup": "Asia",
           "marker": {
            "color": "#636efa"
           },
           "name": "Asia",
           "offsetgroup": "Asia",
           "orientation": "v",
           "showlegend": true,
           "textposition": "auto",
           "type": "bar",
           "x": [
            "Asia",
            "Asia",
            "Asia",
            "Asia",
            "Asia",
            "Asia",
            "Asia",
            "Asia",
            "Asia",
            "Asia",
            "Asia",
            "Asia",
            "Asia",
            "Asia",
            "Asia",
            "Asia",
            "Asia",
            "Asia",
            "Asia",
            "Asia",
            "Asia",
            "Asia",
            "Asia",
            "Asia",
            "Asia",
            "Asia",
            "Asia",
            "Asia",
            "Asia",
            "Asia",
            "Asia",
            "Asia",
            "Asia"
           ],
           "xaxis": "x",
           "y": [
            852.3959447999999,
            18524.02406,
            751.9794035,
            683.8955732000001,
            1378.904018,
            20038.472690000002,
            976.5126756000001,
            1748.356961,
            6642.881371,
            11643.57268,
            17122.47986,
            22375.941890000002,
            4448.679912,
            4106.4923149999995,
            8533.088805,
            28118.42998,
            5377.091329,
            5249.802653,
            2338.008304,
            385,
            775.6324501,
            18115.223130000002,
            1704.686583,
            2189.634995,
            21198.26136,
            18861.53081,
            1876.766827,
            3116.774285,
            11054.56175,
            2982.653773,
            820.7994449,
            5107.197384,
            1971.741538
           ],
           "yaxis": "y"
          },
          {
           "alignmentgroup": "True",
           "hovertemplate": "continent=%{x}<br>year=1987<br>gdpPercap=%{y}<extra></extra>",
           "ids": [
            "Albania",
            "Austria",
            "Belgium",
            "Bosnia and Herzegovina",
            "Bulgaria",
            "Croatia",
            "Czech Republic",
            "Denmark",
            "Finland",
            "France",
            "Germany",
            "Greece",
            "Hungary",
            "Iceland",
            "Ireland",
            "Italy",
            "Montenegro",
            "Netherlands",
            "Norway",
            "Poland",
            "Portugal",
            "Romania",
            "Serbia",
            "Slovak Republic",
            "Slovenia",
            "Spain",
            "Sweden",
            "Switzerland",
            "Turkey",
            "United Kingdom"
           ],
           "legendgroup": "Europe",
           "marker": {
            "color": "#EF553B"
           },
           "name": "Europe",
           "offsetgroup": "Europe",
           "orientation": "v",
           "showlegend": true,
           "textposition": "auto",
           "type": "bar",
           "x": [
            "Europe",
            "Europe",
            "Europe",
            "Europe",
            "Europe",
            "Europe",
            "Europe",
            "Europe",
            "Europe",
            "Europe",
            "Europe",
            "Europe",
            "Europe",
            "Europe",
            "Europe",
            "Europe",
            "Europe",
            "Europe",
            "Europe",
            "Europe",
            "Europe",
            "Europe",
            "Europe",
            "Europe",
            "Europe",
            "Europe",
            "Europe",
            "Europe",
            "Europe",
            "Europe"
           ],
           "xaxis": "x",
           "y": [
            3738.9327350000003,
            23687.82607,
            22525.56308,
            4314.114757,
            8239.854824,
            13822.58394,
            16310.4434,
            25116.17581,
            21141.01223,
            22066.44214,
            24639.18566,
            16120.528390000001,
            12986.47998,
            26923.206280000002,
            13872.86652,
            19207.234819999998,
            11732.51017,
            23651.32361,
            31540.9748,
            9082.351172,
            13039.30876,
            9696.273295,
            15870.878509999999,
            12037.26758,
            18678.53492,
            15764.98313,
            23586.92927,
            30281.704589999998,
            5089.043686,
            21664.787669999998
           ],
           "yaxis": "y"
          },
          {
           "alignmentgroup": "True",
           "hovertemplate": "continent=%{x}<br>year=1987<br>gdpPercap=%{y}<extra></extra>",
           "ids": [
            "Algeria",
            "Angola",
            "Benin",
            "Botswana",
            "Burkina Faso",
            "Burundi",
            "Cameroon",
            "Central African Republic",
            "Chad",
            "Comoros",
            "Congo, Dem. Rep.",
            "Congo, Rep.",
            "Cote d'Ivoire",
            "Djibouti",
            "Egypt",
            "Equatorial Guinea",
            "Eritrea",
            "Ethiopia",
            "Gabon",
            "Gambia",
            "Ghana",
            "Guinea",
            "Guinea-Bissau",
            "Kenya",
            "Lesotho",
            "Liberia",
            "Libya",
            "Madagascar",
            "Malawi",
            "Mali",
            "Mauritania",
            "Mauritius",
            "Morocco",
            "Mozambique",
            "Namibia",
            "Niger",
            "Nigeria",
            "Reunion",
            "Rwanda",
            "Sao Tome and Principe",
            "Senegal",
            "Sierra Leone",
            "Somalia",
            "South Africa",
            "Sudan",
            "Swaziland",
            "Tanzania",
            "Togo",
            "Tunisia",
            "Uganda",
            "Zambia",
            "Zimbabwe"
           ],
           "legendgroup": "Africa",
           "marker": {
            "color": "#00cc96"
           },
           "name": "Africa",
           "offsetgroup": "Africa",
           "orientation": "v",
           "showlegend": true,
           "textposition": "auto",
           "type": "bar",
           "x": [
            "Africa",
            "Africa",
            "Africa",
            "Africa",
            "Africa",
            "Africa",
            "Africa",
            "Africa",
            "Africa",
            "Africa",
            "Africa",
            "Africa",
            "Africa",
            "Africa",
            "Africa",
            "Africa",
            "Africa",
            "Africa",
            "Africa",
            "Africa",
            "Africa",
            "Africa",
            "Africa",
            "Africa",
            "Africa",
            "Africa",
            "Africa",
            "Africa",
            "Africa",
            "Africa",
            "Africa",
            "Africa",
            "Africa",
            "Africa",
            "Africa",
            "Africa",
            "Africa",
            "Africa",
            "Africa",
            "Africa",
            "Africa",
            "Africa",
            "Africa",
            "Africa",
            "Africa",
            "Africa",
            "Africa",
            "Africa",
            "Africa",
            "Africa",
            "Africa",
            "Africa"
           ],
           "xaxis": "x",
           "y": [
            5681.358539,
            2430.208311,
            1225.85601,
            6205.88385,
            912.0631417000001,
            621.8188188999999,
            2602.664206,
            844.8763504000001,
            952.3861289999999,
            1315.980812,
            672.774812,
            4201.194936999999,
            2156.9560690000003,
            2880.102568,
            3885.4607100000003,
            966.8968149,
            521.1341333,
            573.7413142000001,
            11864.408440000001,
            611.6588611000001,
            847.0061135,
            805.5724717999999,
            736.4153921,
            1361.936856,
            773.9932140999999,
            506.1138573,
            11770.5898,
            1155.4419480000001,
            635.5173633999999,
            684.1715576,
            1421.603576,
            4783.586903,
            2755.046991,
            389.87618460000004,
            3693.7313369999997,
            668.3000228,
            1385.029563,
            5303.377488,
            847.991217,
            1516.525457,
            1441.72072,
            1294.4477880000002,
            1093.244963,
            7825.823398,
            1507.819159,
            3984.8398119999997,
            831.8220794,
            1202.201361,
            3810.419296,
            617.7244065,
            1213.315116,
            706.1573059
           ],
           "yaxis": "y"
          },
          {
           "alignmentgroup": "True",
           "hovertemplate": "continent=%{x}<br>year=1987<br>gdpPercap=%{y}<extra></extra>",
           "ids": [
            "Argentina",
            "Bolivia",
            "Brazil",
            "Canada",
            "Chile",
            "Colombia",
            "Costa Rica",
            "Cuba",
            "Dominican Republic",
            "Ecuador",
            "El Salvador",
            "Guatemala",
            "Haiti",
            "Honduras",
            "Jamaica",
            "Mexico",
            "Nicaragua",
            "Panama",
            "Paraguay",
            "Peru",
            "Puerto Rico",
            "Trinidad and Tobago",
            "United States",
            "Uruguay",
            "Venezuela"
           ],
           "legendgroup": "Americas",
           "marker": {
            "color": "#ab63fa"
           },
           "name": "Americas",
           "offsetgroup": "Americas",
           "orientation": "v",
           "showlegend": true,
           "textposition": "auto",
           "type": "bar",
           "x": [
            "Americas",
            "Americas",
            "Americas",
            "Americas",
            "Americas",
            "Americas",
            "Americas",
            "Americas",
            "Americas",
            "Americas",
            "Americas",
            "Americas",
            "Americas",
            "Americas",
            "Americas",
            "Americas",
            "Americas",
            "Americas",
            "Americas",
            "Americas",
            "Americas",
            "Americas",
            "Americas",
            "Americas",
            "Americas"
           ],
           "xaxis": "x",
           "y": [
            9139.671389,
            2753.6914899999997,
            7807.095818000001,
            26626.515030000002,
            5547.063754,
            4903.2191,
            5629.915318,
            7532.924762999999,
            2899.842175,
            6481.776993,
            4140.442097,
            4246.485974,
            1823.015995,
            3023.0966989999997,
            6351.237495,
            8688.156003,
            2955.984375,
            7034.779161,
            3998.875695,
            6360.9434439999995,
            12281.34191,
            7388.597823,
            29884.350410000003,
            7452.398969,
            9883.584648
           ],
           "yaxis": "y"
          },
          {
           "alignmentgroup": "True",
           "hovertemplate": "continent=%{x}<br>year=1987<br>gdpPercap=%{y}<extra></extra>",
           "ids": [
            "Australia",
            "New Zealand"
           ],
           "legendgroup": "Oceania",
           "marker": {
            "color": "#FFA15A"
           },
           "name": "Oceania",
           "offsetgroup": "Oceania",
           "orientation": "v",
           "showlegend": true,
           "textposition": "auto",
           "type": "bar",
           "x": [
            "Oceania",
            "Oceania"
           ],
           "xaxis": "x",
           "y": [
            21888.889030000002,
            19007.19129
           ],
           "yaxis": "y"
          }
         ],
         "name": "1987"
        },
        {
         "data": [
          {
           "alignmentgroup": "True",
           "hovertemplate": "continent=%{x}<br>year=1992<br>gdpPercap=%{y}<extra></extra>",
           "ids": [
            "Afghanistan",
            "Bahrain",
            "Bangladesh",
            "Cambodia",
            "China",
            "Hong Kong, China",
            "India",
            "Indonesia",
            "Iran",
            "Iraq",
            "Israel",
            "Japan",
            "Jordan",
            "Korea, Dem. Rep.",
            "Korea, Rep.",
            "Kuwait",
            "Lebanon",
            "Malaysia",
            "Mongolia",
            "Myanmar",
            "Nepal",
            "Oman",
            "Pakistan",
            "Philippines",
            "Saudi Arabia",
            "Singapore",
            "Sri Lanka",
            "Syria",
            "Taiwan",
            "Thailand",
            "Vietnam",
            "West Bank and Gaza",
            "Yemen, Rep."
           ],
           "legendgroup": "Asia",
           "marker": {
            "color": "#636efa"
           },
           "name": "Asia",
           "offsetgroup": "Asia",
           "orientation": "v",
           "showlegend": true,
           "textposition": "auto",
           "type": "bar",
           "x": [
            "Asia",
            "Asia",
            "Asia",
            "Asia",
            "Asia",
            "Asia",
            "Asia",
            "Asia",
            "Asia",
            "Asia",
            "Asia",
            "Asia",
            "Asia",
            "Asia",
            "Asia",
            "Asia",
            "Asia",
            "Asia",
            "Asia",
            "Asia",
            "Asia",
            "Asia",
            "Asia",
            "Asia",
            "Asia",
            "Asia",
            "Asia",
            "Asia",
            "Asia",
            "Asia",
            "Asia",
            "Asia",
            "Asia"
           ],
           "xaxis": "x",
           "y": [
            649.3413952000001,
            19035.579169999997,
            837.8101642999999,
            682.3031755,
            1655.784158,
            24757.60301,
            1164.406809,
            2383.140898,
            7235.653187999999,
            3745.6406869999996,
            18051.52254,
            26824.895109999998,
            3431.5936469999997,
            3726.063507,
            12104.27872,
            34932.91959,
            6890.806854,
            7277.912802,
            1785.402016,
            347,
            897.7403604,
            18616.70691,
            1971.8294640000001,
            2279.3240170000004,
            24841.617769999997,
            24769.8912,
            2153.7392219999997,
            3340.542768,
            15215.6579,
            4616.8965450000005,
            989.0231487,
            6017.654756,
            1879.496673
           ],
           "yaxis": "y"
          },
          {
           "alignmentgroup": "True",
           "hovertemplate": "continent=%{x}<br>year=1992<br>gdpPercap=%{y}<extra></extra>",
           "ids": [
            "Albania",
            "Austria",
            "Belgium",
            "Bosnia and Herzegovina",
            "Bulgaria",
            "Croatia",
            "Czech Republic",
            "Denmark",
            "Finland",
            "France",
            "Germany",
            "Greece",
            "Hungary",
            "Iceland",
            "Ireland",
            "Italy",
            "Montenegro",
            "Netherlands",
            "Norway",
            "Poland",
            "Portugal",
            "Romania",
            "Serbia",
            "Slovak Republic",
            "Slovenia",
            "Spain",
            "Sweden",
            "Switzerland",
            "Turkey",
            "United Kingdom"
           ],
           "legendgroup": "Europe",
           "marker": {
            "color": "#EF553B"
           },
           "name": "Europe",
           "offsetgroup": "Europe",
           "orientation": "v",
           "showlegend": true,
           "textposition": "auto",
           "type": "bar",
           "x": [
            "Europe",
            "Europe",
            "Europe",
            "Europe",
            "Europe",
            "Europe",
            "Europe",
            "Europe",
            "Europe",
            "Europe",
            "Europe",
            "Europe",
            "Europe",
            "Europe",
            "Europe",
            "Europe",
            "Europe",
            "Europe",
            "Europe",
            "Europe",
            "Europe",
            "Europe",
            "Europe",
            "Europe",
            "Europe",
            "Europe",
            "Europe",
            "Europe",
            "Europe",
            "Europe"
           ],
           "xaxis": "x",
           "y": [
            2497.4379010000002,
            27042.01868,
            25575.57069,
            2546.781445,
            6302.6234380000005,
            8447.794873,
            14297.021219999999,
            26406.73985,
            20647.16499,
            24703.79615,
            26505.30317,
            17541.49634,
            10535.62855,
            25144.39201,
            17558.81555,
            22013.64486,
            7003.339037000001,
            26790.94961,
            33965.66115,
            7738.881247,
            16207.266630000002,
            6598.409903,
            9325.068238,
            9498.467723,
            14214.71681,
            18603.06452,
            23880.01683,
            31871.5303,
            5678.348271,
            22705.09254
           ],
           "yaxis": "y"
          },
          {
           "alignmentgroup": "True",
           "hovertemplate": "continent=%{x}<br>year=1992<br>gdpPercap=%{y}<extra></extra>",
           "ids": [
            "Algeria",
            "Angola",
            "Benin",
            "Botswana",
            "Burkina Faso",
            "Burundi",
            "Cameroon",
            "Central African Republic",
            "Chad",
            "Comoros",
            "Congo, Dem. Rep.",
            "Congo, Rep.",
            "Cote d'Ivoire",
            "Djibouti",
            "Egypt",
            "Equatorial Guinea",
            "Eritrea",
            "Ethiopia",
            "Gabon",
            "Gambia",
            "Ghana",
            "Guinea",
            "Guinea-Bissau",
            "Kenya",
            "Lesotho",
            "Liberia",
            "Libya",
            "Madagascar",
            "Malawi",
            "Mali",
            "Mauritania",
            "Mauritius",
            "Morocco",
            "Mozambique",
            "Namibia",
            "Niger",
            "Nigeria",
            "Reunion",
            "Rwanda",
            "Sao Tome and Principe",
            "Senegal",
            "Sierra Leone",
            "Somalia",
            "South Africa",
            "Sudan",
            "Swaziland",
            "Tanzania",
            "Togo",
            "Tunisia",
            "Uganda",
            "Zambia",
            "Zimbabwe"
           ],
           "legendgroup": "Africa",
           "marker": {
            "color": "#00cc96"
           },
           "name": "Africa",
           "offsetgroup": "Africa",
           "orientation": "v",
           "showlegend": true,
           "textposition": "auto",
           "type": "bar",
           "x": [
            "Africa",
            "Africa",
            "Africa",
            "Africa",
            "Africa",
            "Africa",
            "Africa",
            "Africa",
            "Africa",
            "Africa",
            "Africa",
            "Africa",
            "Africa",
            "Africa",
            "Africa",
            "Africa",
            "Africa",
            "Africa",
            "Africa",
            "Africa",
            "Africa",
            "Africa",
            "Africa",
            "Africa",
            "Africa",
            "Africa",
            "Africa",
            "Africa",
            "Africa",
            "Africa",
            "Africa",
            "Africa",
            "Africa",
            "Africa",
            "Africa",
            "Africa",
            "Africa",
            "Africa",
            "Africa",
            "Africa",
            "Africa",
            "Africa",
            "Africa",
            "Africa",
            "Africa",
            "Africa",
            "Africa",
            "Africa",
            "Africa",
            "Africa",
            "Africa",
            "Africa"
           ],
           "xaxis": "x",
           "y": [
            5023.216647,
            2627.8456850000002,
            1191.207681,
            7954.111645,
            931.7527731,
            631.6998778,
            1793.1632780000002,
            747.9055252,
            1058.0643,
            1246.90737,
            457.7191807,
            4016.239529,
            1648.073791,
            2377.1561920000004,
            3794.755195,
            1132.055034,
            582.8585102000001,
            421.3534653,
            13522.157519999999,
            665.6244126,
            925.0601539999999,
            794.3484384,
            745.5398706,
            1341.9217210000002,
            977.4862724999999,
            636.6229191000001,
            9640.138501000001,
            1040.6761900000001,
            563.2000145,
            739.014375,
            1361.369784,
            6058.2538460000005,
            2948.047252,
            410.89682389999996,
            3804.537999,
            581.182725,
            1619.848217,
            6101.2558229999995,
            737.0685949,
            1428.777814,
            1367.899369,
            1068.696278,
            926.9602964,
            7225.0692579999995,
            1492.197043,
            3553.0224,
            825.682454,
            1034.298904,
            4332.720164,
            644.1707968999999,
            1210.884633,
            693.4207856
           ],
           "yaxis": "y"
          },
          {
           "alignmentgroup": "True",
           "hovertemplate": "continent=%{x}<br>year=1992<br>gdpPercap=%{y}<extra></extra>",
           "ids": [
            "Argentina",
            "Bolivia",
            "Brazil",
            "Canada",
            "Chile",
            "Colombia",
            "Costa Rica",
            "Cuba",
            "Dominican Republic",
            "Ecuador",
            "El Salvador",
            "Guatemala",
            "Haiti",
            "Honduras",
            "Jamaica",
            "Mexico",
            "Nicaragua",
            "Panama",
            "Paraguay",
            "Peru",
            "Puerto Rico",
            "Trinidad and Tobago",
            "United States",
            "Uruguay",
            "Venezuela"
           ],
           "legendgroup": "Americas",
           "marker": {
            "color": "#ab63fa"
           },
           "name": "Americas",
           "offsetgroup": "Americas",
           "orientation": "v",
           "showlegend": true,
           "textposition": "auto",
           "type": "bar",
           "x": [
            "Americas",
            "Americas",
            "Americas",
            "Americas",
            "Americas",
            "Americas",
            "Americas",
            "Americas",
            "Americas",
            "Americas",
            "Americas",
            "Americas",
            "Americas",
            "Americas",
            "Americas",
            "Americas",
            "Americas",
            "Americas",
            "Americas",
            "Americas",
            "Americas",
            "Americas",
            "Americas",
            "Americas",
            "Americas"
           ],
           "xaxis": "x",
           "y": [
            9308.41871,
            2961.699694,
            6950.283020999999,
            26342.88426,
            7596.125964,
            5444.648617,
            6160.416317,
            5592.843963,
            3044.214214,
            7103.702595000001,
            4444.2317,
            4439.4508399999995,
            1456.309517,
            3081.694603,
            7404.923685,
            9472.384295,
            2170.151724,
            6618.74305,
            4196.411078,
            4446.380924,
            14641.587109999999,
            7370.990932,
            32003.93224,
            8137.004775,
            10733.926309999999
           ],
           "yaxis": "y"
          },
          {
           "alignmentgroup": "True",
           "hovertemplate": "continent=%{x}<br>year=1992<br>gdpPercap=%{y}<extra></extra>",
           "ids": [
            "Australia",
            "New Zealand"
           ],
           "legendgroup": "Oceania",
           "marker": {
            "color": "#FFA15A"
           },
           "name": "Oceania",
           "offsetgroup": "Oceania",
           "orientation": "v",
           "showlegend": true,
           "textposition": "auto",
           "type": "bar",
           "x": [
            "Oceania",
            "Oceania"
           ],
           "xaxis": "x",
           "y": [
            23424.76683,
            18363.324940000002
           ],
           "yaxis": "y"
          }
         ],
         "name": "1992"
        },
        {
         "data": [
          {
           "alignmentgroup": "True",
           "hovertemplate": "continent=%{x}<br>year=1997<br>gdpPercap=%{y}<extra></extra>",
           "ids": [
            "Afghanistan",
            "Bahrain",
            "Bangladesh",
            "Cambodia",
            "China",
            "Hong Kong, China",
            "India",
            "Indonesia",
            "Iran",
            "Iraq",
            "Israel",
            "Japan",
            "Jordan",
            "Korea, Dem. Rep.",
            "Korea, Rep.",
            "Kuwait",
            "Lebanon",
            "Malaysia",
            "Mongolia",
            "Myanmar",
            "Nepal",
            "Oman",
            "Pakistan",
            "Philippines",
            "Saudi Arabia",
            "Singapore",
            "Sri Lanka",
            "Syria",
            "Taiwan",
            "Thailand",
            "Vietnam",
            "West Bank and Gaza",
            "Yemen, Rep."
           ],
           "legendgroup": "Asia",
           "marker": {
            "color": "#636efa"
           },
           "name": "Asia",
           "offsetgroup": "Asia",
           "orientation": "v",
           "showlegend": true,
           "textposition": "auto",
           "type": "bar",
           "x": [
            "Asia",
            "Asia",
            "Asia",
            "Asia",
            "Asia",
            "Asia",
            "Asia",
            "Asia",
            "Asia",
            "Asia",
            "Asia",
            "Asia",
            "Asia",
            "Asia",
            "Asia",
            "Asia",
            "Asia",
            "Asia",
            "Asia",
            "Asia",
            "Asia",
            "Asia",
            "Asia",
            "Asia",
            "Asia",
            "Asia",
            "Asia",
            "Asia",
            "Asia",
            "Asia",
            "Asia",
            "Asia",
            "Asia"
           ],
           "xaxis": "x",
           "y": [
            635.341351,
            20292.01679,
            972.7700352,
            734.28517,
            2289.234136,
            28377.632189999997,
            1458.817442,
            3119.335603,
            8263.590301,
            3076.239795,
            20896.60924,
            28816.58499,
            3645.379572,
            1690.756814,
            15993.52796,
            40300.61996,
            8754.96385,
            10132.90964,
            1902.2521,
            415,
            1010.892138,
            19702.055809999998,
            2049.3505210000003,
            2536.534925,
            20586.69019,
            33519.4766,
            2664.477257,
            4014.238972,
            20206.82098,
            5852.625497,
            1385.896769,
            7110.667619,
            2117.484526
           ],
           "yaxis": "y"
          },
          {
           "alignmentgroup": "True",
           "hovertemplate": "continent=%{x}<br>year=1997<br>gdpPercap=%{y}<extra></extra>",
           "ids": [
            "Albania",
            "Austria",
            "Belgium",
            "Bosnia and Herzegovina",
            "Bulgaria",
            "Croatia",
            "Czech Republic",
            "Denmark",
            "Finland",
            "France",
            "Germany",
            "Greece",
            "Hungary",
            "Iceland",
            "Ireland",
            "Italy",
            "Montenegro",
            "Netherlands",
            "Norway",
            "Poland",
            "Portugal",
            "Romania",
            "Serbia",
            "Slovak Republic",
            "Slovenia",
            "Spain",
            "Sweden",
            "Switzerland",
            "Turkey",
            "United Kingdom"
           ],
           "legendgroup": "Europe",
           "marker": {
            "color": "#EF553B"
           },
           "name": "Europe",
           "offsetgroup": "Europe",
           "orientation": "v",
           "showlegend": true,
           "textposition": "auto",
           "type": "bar",
           "x": [
            "Europe",
            "Europe",
            "Europe",
            "Europe",
            "Europe",
            "Europe",
            "Europe",
            "Europe",
            "Europe",
            "Europe",
            "Europe",
            "Europe",
            "Europe",
            "Europe",
            "Europe",
            "Europe",
            "Europe",
            "Europe",
            "Europe",
            "Europe",
            "Europe",
            "Europe",
            "Europe",
            "Europe",
            "Europe",
            "Europe",
            "Europe",
            "Europe",
            "Europe",
            "Europe"
           ],
           "xaxis": "x",
           "y": [
            3193.054604,
            29095.920660000003,
            27561.196630000002,
            4766.355904,
            5970.38876,
            9875.604515,
            16048.51424,
            29804.34567,
            23723.9502,
            25889.78487,
            27788.88416,
            18747.69814,
            11712.7768,
            28061.099660000003,
            24521.94713,
            24675.02446,
            6465.613349,
            30246.13063,
            41283.16433,
            10159.58368,
            17641.03156,
            7346.547556999999,
            7914.320304000001,
            12126.23065,
            17161.10735,
            20445.29896,
            25266.59499,
            32135.323010000004,
            6601.429915,
            26074.53136
           ],
           "yaxis": "y"
          },
          {
           "alignmentgroup": "True",
           "hovertemplate": "continent=%{x}<br>year=1997<br>gdpPercap=%{y}<extra></extra>",
           "ids": [
            "Algeria",
            "Angola",
            "Benin",
            "Botswana",
            "Burkina Faso",
            "Burundi",
            "Cameroon",
            "Central African Republic",
            "Chad",
            "Comoros",
            "Congo, Dem. Rep.",
            "Congo, Rep.",
            "Cote d'Ivoire",
            "Djibouti",
            "Egypt",
            "Equatorial Guinea",
            "Eritrea",
            "Ethiopia",
            "Gabon",
            "Gambia",
            "Ghana",
            "Guinea",
            "Guinea-Bissau",
            "Kenya",
            "Lesotho",
            "Liberia",
            "Libya",
            "Madagascar",
            "Malawi",
            "Mali",
            "Mauritania",
            "Mauritius",
            "Morocco",
            "Mozambique",
            "Namibia",
            "Niger",
            "Nigeria",
            "Reunion",
            "Rwanda",
            "Sao Tome and Principe",
            "Senegal",
            "Sierra Leone",
            "Somalia",
            "South Africa",
            "Sudan",
            "Swaziland",
            "Tanzania",
            "Togo",
            "Tunisia",
            "Uganda",
            "Zambia",
            "Zimbabwe"
           ],
           "legendgroup": "Africa",
           "marker": {
            "color": "#00cc96"
           },
           "name": "Africa",
           "offsetgroup": "Africa",
           "orientation": "v",
           "showlegend": true,
           "textposition": "auto",
           "type": "bar",
           "x": [
            "Africa",
            "Africa",
            "Africa",
            "Africa",
            "Africa",
            "Africa",
            "Africa",
            "Africa",
            "Africa",
            "Africa",
            "Africa",
            "Africa",
            "Africa",
            "Africa",
            "Africa",
            "Africa",
            "Africa",
            "Africa",
            "Africa",
            "Africa",
            "Africa",
            "Africa",
            "Africa",
            "Africa",
            "Africa",
            "Africa",
            "Africa",
            "Africa",
            "Africa",
            "Africa",
            "Africa",
            "Africa",
            "Africa",
            "Africa",
            "Africa",
            "Africa",
            "Africa",
            "Africa",
            "Africa",
            "Africa",
            "Africa",
            "Africa",
            "Africa",
            "Africa",
            "Africa",
            "Africa",
            "Africa",
            "Africa",
            "Africa",
            "Africa",
            "Africa",
            "Africa"
           ],
           "xaxis": "x",
           "y": [
            4797.295051,
            2277.140884,
            1232.975292,
            8647.142313,
            946.2949617999999,
            463.1151478,
            1694.337469,
            740.5063317,
            1004.9613529999999,
            1173.618235,
            312.188423,
            3484.1643759999997,
            1786.265407,
            1895.016984,
            4173.181797,
            2814.480755,
            913.4707900000001,
            515.8894013,
            14722.841880000002,
            653.7301704,
            1005.2458119999999,
            869.4497667999999,
            796.6644681,
            1360.4850210000002,
            1186.147994,
            609.1739508,
            9467.446056,
            986.2958956,
            692.2758102999999,
            790.2579846,
            1483.1361359999999,
            7425.705295000001,
            2982.101858,
            472.34607710000006,
            3899.52426,
            580.3052092,
            1624.941275,
            6071.941411,
            589.9445051,
            1339.076036,
            1392.368347,
            574.6481576,
            930.5964284,
            7479.188244,
            1632.2107640000002,
            3876.7684600000002,
            789.1862231,
            982.2869242999999,
            4876.798614,
            816.559081,
            1071.353818,
            792.4499602999999
           ],
           "yaxis": "y"
          },
          {
           "alignmentgroup": "True",
           "hovertemplate": "continent=%{x}<br>year=1997<br>gdpPercap=%{y}<extra></extra>",
           "ids": [
            "Argentina",
            "Bolivia",
            "Brazil",
            "Canada",
            "Chile",
            "Colombia",
            "Costa Rica",
            "Cuba",
            "Dominican Republic",
            "Ecuador",
            "El Salvador",
            "Guatemala",
            "Haiti",
            "Honduras",
            "Jamaica",
            "Mexico",
            "Nicaragua",
            "Panama",
            "Paraguay",
            "Peru",
            "Puerto Rico",
            "Trinidad and Tobago",
            "United States",
            "Uruguay",
            "Venezuela"
           ],
           "legendgroup": "Americas",
           "marker": {
            "color": "#ab63fa"
           },
           "name": "Americas",
           "offsetgroup": "Americas",
           "orientation": "v",
           "showlegend": true,
           "textposition": "auto",
           "type": "bar",
           "x": [
            "Americas",
            "Americas",
            "Americas",
            "Americas",
            "Americas",
            "Americas",
            "Americas",
            "Americas",
            "Americas",
            "Americas",
            "Americas",
            "Americas",
            "Americas",
            "Americas",
            "Americas",
            "Americas",
            "Americas",
            "Americas",
            "Americas",
            "Americas",
            "Americas",
            "Americas",
            "Americas",
            "Americas",
            "Americas"
           ],
           "xaxis": "x",
           "y": [
            10967.28195,
            3326.143191,
            7957.980823999999,
            28954.92589,
            10118.053179999999,
            6117.3617460000005,
            6677.045314,
            5431.990415,
            3614.101285,
            7429.455876999999,
            5154.825496,
            4684.313807,
            1341.7269310000001,
            3160.454906,
            7121.924704000001,
            9767.29753,
            2253.023004,
            7113.692252,
            4247.400261,
            5838.347657,
            16999.4333,
            8792.573126000001,
            35767.43303,
            9230.240708,
            10165.49518
           ],
           "yaxis": "y"
          },
          {
           "alignmentgroup": "True",
           "hovertemplate": "continent=%{x}<br>year=1997<br>gdpPercap=%{y}<extra></extra>",
           "ids": [
            "Australia",
            "New Zealand"
           ],
           "legendgroup": "Oceania",
           "marker": {
            "color": "#FFA15A"
           },
           "name": "Oceania",
           "offsetgroup": "Oceania",
           "orientation": "v",
           "showlegend": true,
           "textposition": "auto",
           "type": "bar",
           "x": [
            "Oceania",
            "Oceania"
           ],
           "xaxis": "x",
           "y": [
            26997.936569999998,
            21050.41377
           ],
           "yaxis": "y"
          }
         ],
         "name": "1997"
        },
        {
         "data": [
          {
           "alignmentgroup": "True",
           "hovertemplate": "continent=%{x}<br>year=2002<br>gdpPercap=%{y}<extra></extra>",
           "ids": [
            "Afghanistan",
            "Bahrain",
            "Bangladesh",
            "Cambodia",
            "China",
            "Hong Kong, China",
            "India",
            "Indonesia",
            "Iran",
            "Iraq",
            "Israel",
            "Japan",
            "Jordan",
            "Korea, Dem. Rep.",
            "Korea, Rep.",
            "Kuwait",
            "Lebanon",
            "Malaysia",
            "Mongolia",
            "Myanmar",
            "Nepal",
            "Oman",
            "Pakistan",
            "Philippines",
            "Saudi Arabia",
            "Singapore",
            "Sri Lanka",
            "Syria",
            "Taiwan",
            "Thailand",
            "Vietnam",
            "West Bank and Gaza",
            "Yemen, Rep."
           ],
           "legendgroup": "Asia",
           "marker": {
            "color": "#636efa"
           },
           "name": "Asia",
           "offsetgroup": "Asia",
           "orientation": "v",
           "showlegend": true,
           "textposition": "auto",
           "type": "bar",
           "x": [
            "Asia",
            "Asia",
            "Asia",
            "Asia",
            "Asia",
            "Asia",
            "Asia",
            "Asia",
            "Asia",
            "Asia",
            "Asia",
            "Asia",
            "Asia",
            "Asia",
            "Asia",
            "Asia",
            "Asia",
            "Asia",
            "Asia",
            "Asia",
            "Asia",
            "Asia",
            "Asia",
            "Asia",
            "Asia",
            "Asia",
            "Asia",
            "Asia",
            "Asia",
            "Asia",
            "Asia",
            "Asia",
            "Asia"
           ],
           "xaxis": "x",
           "y": [
            726.7340548,
            23403.559269999998,
            1136.3904300000002,
            896.2260152999999,
            3119.280896,
            30209.015160000003,
            1746.769454,
            2873.91287,
            9240.761975,
            4390.717312,
            21905.59514,
            28604.5919,
            3844.9171939999997,
            1646.758151,
            19233.98818,
            35110.10566,
            9313.93883,
            10206.97794,
            2140.7393230000002,
            611,
            1057.206311,
            19774.83687,
            2092.712441,
            2650.921068,
            19014.54118,
            36023.1054,
            3015.3788329999998,
            4090.9253310000004,
            23235.42329,
            5913.187529,
            1764.456677,
            4515.487575,
            2234.820827
           ],
           "yaxis": "y"
          },
          {
           "alignmentgroup": "True",
           "hovertemplate": "continent=%{x}<br>year=2002<br>gdpPercap=%{y}<extra></extra>",
           "ids": [
            "Albania",
            "Austria",
            "Belgium",
            "Bosnia and Herzegovina",
            "Bulgaria",
            "Croatia",
            "Czech Republic",
            "Denmark",
            "Finland",
            "France",
            "Germany",
            "Greece",
            "Hungary",
            "Iceland",
            "Ireland",
            "Italy",
            "Montenegro",
            "Netherlands",
            "Norway",
            "Poland",
            "Portugal",
            "Romania",
            "Serbia",
            "Slovak Republic",
            "Slovenia",
            "Spain",
            "Sweden",
            "Switzerland",
            "Turkey",
            "United Kingdom"
           ],
           "legendgroup": "Europe",
           "marker": {
            "color": "#EF553B"
           },
           "name": "Europe",
           "offsetgroup": "Europe",
           "orientation": "v",
           "showlegend": true,
           "textposition": "auto",
           "type": "bar",
           "x": [
            "Europe",
            "Europe",
            "Europe",
            "Europe",
            "Europe",
            "Europe",
            "Europe",
            "Europe",
            "Europe",
            "Europe",
            "Europe",
            "Europe",
            "Europe",
            "Europe",
            "Europe",
            "Europe",
            "Europe",
            "Europe",
            "Europe",
            "Europe",
            "Europe",
            "Europe",
            "Europe",
            "Europe",
            "Europe",
            "Europe",
            "Europe",
            "Europe",
            "Europe",
            "Europe"
           ],
           "xaxis": "x",
           "y": [
            4604.211737,
            32417.607689999997,
            30485.88375,
            6018.975239,
            7696.777725,
            11628.38895,
            17596.210219999997,
            32166.500060000002,
            28204.59057,
            28926.032339999998,
            30035.80198,
            22514.2548,
            14843.93556,
            31163.201960000002,
            34077.04939,
            27968.098169999997,
            6557.194282,
            33724.75778,
            44683.97525,
            12002.23908,
            19970.90787,
            7885.360081,
            7236.075251,
            13638.778369999998,
            20660.01936,
            24835.47166,
            29341.630930000003,
            34480.95771,
            6508.085718,
            29478.99919
           ],
           "yaxis": "y"
          },
          {
           "alignmentgroup": "True",
           "hovertemplate": "continent=%{x}<br>year=2002<br>gdpPercap=%{y}<extra></extra>",
           "ids": [
            "Algeria",
            "Angola",
            "Benin",
            "Botswana",
            "Burkina Faso",
            "Burundi",
            "Cameroon",
            "Central African Republic",
            "Chad",
            "Comoros",
            "Congo, Dem. Rep.",
            "Congo, Rep.",
            "Cote d'Ivoire",
            "Djibouti",
            "Egypt",
            "Equatorial Guinea",
            "Eritrea",
            "Ethiopia",
            "Gabon",
            "Gambia",
            "Ghana",
            "Guinea",
            "Guinea-Bissau",
            "Kenya",
            "Lesotho",
            "Liberia",
            "Libya",
            "Madagascar",
            "Malawi",
            "Mali",
            "Mauritania",
            "Mauritius",
            "Morocco",
            "Mozambique",
            "Namibia",
            "Niger",
            "Nigeria",
            "Reunion",
            "Rwanda",
            "Sao Tome and Principe",
            "Senegal",
            "Sierra Leone",
            "Somalia",
            "South Africa",
            "Sudan",
            "Swaziland",
            "Tanzania",
            "Togo",
            "Tunisia",
            "Uganda",
            "Zambia",
            "Zimbabwe"
           ],
           "legendgroup": "Africa",
           "marker": {
            "color": "#00cc96"
           },
           "name": "Africa",
           "offsetgroup": "Africa",
           "orientation": "v",
           "showlegend": true,
           "textposition": "auto",
           "type": "bar",
           "x": [
            "Africa",
            "Africa",
            "Africa",
            "Africa",
            "Africa",
            "Africa",
            "Africa",
            "Africa",
            "Africa",
            "Africa",
            "Africa",
            "Africa",
            "Africa",
            "Africa",
            "Africa",
            "Africa",
            "Africa",
            "Africa",
            "Africa",
            "Africa",
            "Africa",
            "Africa",
            "Africa",
            "Africa",
            "Africa",
            "Africa",
            "Africa",
            "Africa",
            "Africa",
            "Africa",
            "Africa",
            "Africa",
            "Africa",
            "Africa",
            "Africa",
            "Africa",
            "Africa",
            "Africa",
            "Africa",
            "Africa",
            "Africa",
            "Africa",
            "Africa",
            "Africa",
            "Africa",
            "Africa",
            "Africa",
            "Africa",
            "Africa",
            "Africa",
            "Africa",
            "Africa"
           ],
           "xaxis": "x",
           "y": [
            5288.040382,
            2773.287312,
            1372.877931,
            11003.60508,
            1037.645221,
            446.4035126,
            1934.0114489999999,
            738.6906068,
            1156.18186,
            1075.811558,
            241.16587650000002,
            3484.06197,
            1648.800823,
            1908.2608670000002,
            4754.604414,
            7703.4959,
            765.3500015,
            530.0535319,
            12521.71392,
            660.5855997,
            1111.9845779999998,
            945.5835837000001,
            575.7047176,
            1287.514732,
            1275.184575,
            531.4823679,
            9534.677467,
            894.6370822,
            665.4231186000001,
            951.4097517999999,
            1579.0195429999999,
            9021.815894,
            3258.495584,
            633.6179466,
            4072.3247509999997,
            601.0745012,
            1615.2863949999999,
            6316.1652,
            785.6537647999999,
            1353.09239,
            1519.635262,
            699.4897129999999,
            882.0818218000001,
            7710.946444,
            1993.398314,
            4128.116943,
            899.0742111,
            886.2205765000001,
            5722.895654999999,
            927.7210018,
            1071.6139380000002,
            672.0386227000001
           ],
           "yaxis": "y"
          },
          {
           "alignmentgroup": "True",
           "hovertemplate": "continent=%{x}<br>year=2002<br>gdpPercap=%{y}<extra></extra>",
           "ids": [
            "Argentina",
            "Bolivia",
            "Brazil",
            "Canada",
            "Chile",
            "Colombia",
            "Costa Rica",
            "Cuba",
            "Dominican Republic",
            "Ecuador",
            "El Salvador",
            "Guatemala",
            "Haiti",
            "Honduras",
            "Jamaica",
            "Mexico",
            "Nicaragua",
            "Panama",
            "Paraguay",
            "Peru",
            "Puerto Rico",
            "Trinidad and Tobago",
            "United States",
            "Uruguay",
            "Venezuela"
           ],
           "legendgroup": "Americas",
           "marker": {
            "color": "#ab63fa"
           },
           "name": "Americas",
           "offsetgroup": "Americas",
           "orientation": "v",
           "showlegend": true,
           "textposition": "auto",
           "type": "bar",
           "x": [
            "Americas",
            "Americas",
            "Americas",
            "Americas",
            "Americas",
            "Americas",
            "Americas",
            "Americas",
            "Americas",
            "Americas",
            "Americas",
            "Americas",
            "Americas",
            "Americas",
            "Americas",
            "Americas",
            "Americas",
            "Americas",
            "Americas",
            "Americas",
            "Americas",
            "Americas",
            "Americas",
            "Americas",
            "Americas"
           ],
           "xaxis": "x",
           "y": [
            8797.640716,
            3413.26269,
            8131.212843000001,
            33328.96507,
            10778.78385,
            5755.259962,
            7723.447195000001,
            6340.646683,
            4563.808154,
            5773.0445119999995,
            5351.568665999999,
            4858.347495,
            1270.364932,
            3099.72866,
            6994.774861,
            10742.44053,
            2474.548819,
            7356.031934000001,
            3783.674243,
            5909.020073,
            18855.606180000002,
            11460.60023,
            39097.09955,
            7727.002004000001,
            8605.047831
           ],
           "yaxis": "y"
          },
          {
           "alignmentgroup": "True",
           "hovertemplate": "continent=%{x}<br>year=2002<br>gdpPercap=%{y}<extra></extra>",
           "ids": [
            "Australia",
            "New Zealand"
           ],
           "legendgroup": "Oceania",
           "marker": {
            "color": "#FFA15A"
           },
           "name": "Oceania",
           "offsetgroup": "Oceania",
           "orientation": "v",
           "showlegend": true,
           "textposition": "auto",
           "type": "bar",
           "x": [
            "Oceania",
            "Oceania"
           ],
           "xaxis": "x",
           "y": [
            30687.75473,
            23189.80135
           ],
           "yaxis": "y"
          }
         ],
         "name": "2002"
        },
        {
         "data": [
          {
           "alignmentgroup": "True",
           "hovertemplate": "continent=%{x}<br>year=2007<br>gdpPercap=%{y}<extra></extra>",
           "ids": [
            "Afghanistan",
            "Bahrain",
            "Bangladesh",
            "Cambodia",
            "China",
            "Hong Kong, China",
            "India",
            "Indonesia",
            "Iran",
            "Iraq",
            "Israel",
            "Japan",
            "Jordan",
            "Korea, Dem. Rep.",
            "Korea, Rep.",
            "Kuwait",
            "Lebanon",
            "Malaysia",
            "Mongolia",
            "Myanmar",
            "Nepal",
            "Oman",
            "Pakistan",
            "Philippines",
            "Saudi Arabia",
            "Singapore",
            "Sri Lanka",
            "Syria",
            "Taiwan",
            "Thailand",
            "Vietnam",
            "West Bank and Gaza",
            "Yemen, Rep."
           ],
           "legendgroup": "Asia",
           "marker": {
            "color": "#636efa"
           },
           "name": "Asia",
           "offsetgroup": "Asia",
           "orientation": "v",
           "showlegend": true,
           "textposition": "auto",
           "type": "bar",
           "x": [
            "Asia",
            "Asia",
            "Asia",
            "Asia",
            "Asia",
            "Asia",
            "Asia",
            "Asia",
            "Asia",
            "Asia",
            "Asia",
            "Asia",
            "Asia",
            "Asia",
            "Asia",
            "Asia",
            "Asia",
            "Asia",
            "Asia",
            "Asia",
            "Asia",
            "Asia",
            "Asia",
            "Asia",
            "Asia",
            "Asia",
            "Asia",
            "Asia",
            "Asia",
            "Asia",
            "Asia",
            "Asia",
            "Asia"
           ],
           "xaxis": "x",
           "y": [
            974.5803384,
            29796.048339999998,
            1391.253792,
            1713.7786859999999,
            4959.1148539999995,
            39724.97867,
            2452.210407,
            3540.6515640000002,
            11605.71449,
            4471.061906,
            25523.2771,
            31656.06806,
            4519.461171,
            1593.06548,
            23348.139730000003,
            47306.98978,
            10461.05868,
            12451.6558,
            3095.7722710000003,
            944,
            1091.359778,
            22316.19287,
            2605.94758,
            3190.481016,
            21654.83194,
            47143.179639999995,
            3970.0954070000003,
            4184.548089,
            28718.27684,
            7458.3963269999995,
            2441.576404,
            3025.349798,
            2280.769906
           ],
           "yaxis": "y"
          },
          {
           "alignmentgroup": "True",
           "hovertemplate": "continent=%{x}<br>year=2007<br>gdpPercap=%{y}<extra></extra>",
           "ids": [
            "Albania",
            "Austria",
            "Belgium",
            "Bosnia and Herzegovina",
            "Bulgaria",
            "Croatia",
            "Czech Republic",
            "Denmark",
            "Finland",
            "France",
            "Germany",
            "Greece",
            "Hungary",
            "Iceland",
            "Ireland",
            "Italy",
            "Montenegro",
            "Netherlands",
            "Norway",
            "Poland",
            "Portugal",
            "Romania",
            "Serbia",
            "Slovak Republic",
            "Slovenia",
            "Spain",
            "Sweden",
            "Switzerland",
            "Turkey",
            "United Kingdom"
           ],
           "legendgroup": "Europe",
           "marker": {
            "color": "#EF553B"
           },
           "name": "Europe",
           "offsetgroup": "Europe",
           "orientation": "v",
           "showlegend": true,
           "textposition": "auto",
           "type": "bar",
           "x": [
            "Europe",
            "Europe",
            "Europe",
            "Europe",
            "Europe",
            "Europe",
            "Europe",
            "Europe",
            "Europe",
            "Europe",
            "Europe",
            "Europe",
            "Europe",
            "Europe",
            "Europe",
            "Europe",
            "Europe",
            "Europe",
            "Europe",
            "Europe",
            "Europe",
            "Europe",
            "Europe",
            "Europe",
            "Europe",
            "Europe",
            "Europe",
            "Europe",
            "Europe",
            "Europe"
           ],
           "xaxis": "x",
           "y": [
            5937.029525999999,
            36126.4927,
            33692.60508,
            7446.298803,
            10680.79282,
            14619.222719999998,
            22833.30851,
            35278.41874,
            33207.0844,
            30470.0167,
            32170.37442,
            27538.41188,
            18008.94444,
            36180.789189999996,
            40675.99635,
            28569.7197,
            9253.896111,
            36797.93332,
            49357.19017,
            15389.924680000002,
            20509.64777,
            10808.47561,
            9786.534714,
            18678.31435,
            25768.25759,
            28821.0637,
            33859.74835,
            37506.419069999996,
            8458.276384,
            33203.26128
           ],
           "yaxis": "y"
          },
          {
           "alignmentgroup": "True",
           "hovertemplate": "continent=%{x}<br>year=2007<br>gdpPercap=%{y}<extra></extra>",
           "ids": [
            "Algeria",
            "Angola",
            "Benin",
            "Botswana",
            "Burkina Faso",
            "Burundi",
            "Cameroon",
            "Central African Republic",
            "Chad",
            "Comoros",
            "Congo, Dem. Rep.",
            "Congo, Rep.",
            "Cote d'Ivoire",
            "Djibouti",
            "Egypt",
            "Equatorial Guinea",
            "Eritrea",
            "Ethiopia",
            "Gabon",
            "Gambia",
            "Ghana",
            "Guinea",
            "Guinea-Bissau",
            "Kenya",
            "Lesotho",
            "Liberia",
            "Libya",
            "Madagascar",
            "Malawi",
            "Mali",
            "Mauritania",
            "Mauritius",
            "Morocco",
            "Mozambique",
            "Namibia",
            "Niger",
            "Nigeria",
            "Reunion",
            "Rwanda",
            "Sao Tome and Principe",
            "Senegal",
            "Sierra Leone",
            "Somalia",
            "South Africa",
            "Sudan",
            "Swaziland",
            "Tanzania",
            "Togo",
            "Tunisia",
            "Uganda",
            "Zambia",
            "Zimbabwe"
           ],
           "legendgroup": "Africa",
           "marker": {
            "color": "#00cc96"
           },
           "name": "Africa",
           "offsetgroup": "Africa",
           "orientation": "v",
           "showlegend": true,
           "textposition": "auto",
           "type": "bar",
           "x": [
            "Africa",
            "Africa",
            "Africa",
            "Africa",
            "Africa",
            "Africa",
            "Africa",
            "Africa",
            "Africa",
            "Africa",
            "Africa",
            "Africa",
            "Africa",
            "Africa",
            "Africa",
            "Africa",
            "Africa",
            "Africa",
            "Africa",
            "Africa",
            "Africa",
            "Africa",
            "Africa",
            "Africa",
            "Africa",
            "Africa",
            "Africa",
            "Africa",
            "Africa",
            "Africa",
            "Africa",
            "Africa",
            "Africa",
            "Africa",
            "Africa",
            "Africa",
            "Africa",
            "Africa",
            "Africa",
            "Africa",
            "Africa",
            "Africa",
            "Africa",
            "Africa",
            "Africa",
            "Africa",
            "Africa",
            "Africa",
            "Africa",
            "Africa",
            "Africa",
            "Africa"
           ],
           "xaxis": "x",
           "y": [
            6223.367465,
            4797.231267,
            1441.284873,
            12569.851770000001,
            1217.032994,
            430.07069160000003,
            2042.0952399999999,
            706.016537,
            1704.0637239999999,
            986.1478792000001,
            277.55185869999997,
            3632.557798,
            1544.750112,
            2082.4815670000003,
            5581.180998,
            12154.08975,
            641.3695236000001,
            690.8055759,
            13206.48452,
            752.7497265,
            1327.60891,
            942.6542111,
            579.2317429999999,
            1463.249282,
            1569.331442,
            414.5073415,
            12057.49928,
            1044.770126,
            759.3499101,
            1042.581557,
            1803.1514960000002,
            10956.99112,
            3820.17523,
            823.6856205,
            4811.060429,
            619.6768923999999,
            2013.9773050000001,
            7670.122558,
            863.0884639000001,
            1598.435089,
            1712.4721359999999,
            862.5407561000001,
            926.1410683,
            9269.657808,
            2602.394995,
            4513.480643,
            1107.482182,
            882.9699437999999,
            7092.923025,
            1056.3801210000001,
            1271.211593,
            469.70929810000007
           ],
           "yaxis": "y"
          },
          {
           "alignmentgroup": "True",
           "hovertemplate": "continent=%{x}<br>year=2007<br>gdpPercap=%{y}<extra></extra>",
           "ids": [
            "Argentina",
            "Bolivia",
            "Brazil",
            "Canada",
            "Chile",
            "Colombia",
            "Costa Rica",
            "Cuba",
            "Dominican Republic",
            "Ecuador",
            "El Salvador",
            "Guatemala",
            "Haiti",
            "Honduras",
            "Jamaica",
            "Mexico",
            "Nicaragua",
            "Panama",
            "Paraguay",
            "Peru",
            "Puerto Rico",
            "Trinidad and Tobago",
            "United States",
            "Uruguay",
            "Venezuela"
           ],
           "legendgroup": "Americas",
           "marker": {
            "color": "#ab63fa"
           },
           "name": "Americas",
           "offsetgroup": "Americas",
           "orientation": "v",
           "showlegend": true,
           "textposition": "auto",
           "type": "bar",
           "x": [
            "Americas",
            "Americas",
            "Americas",
            "Americas",
            "Americas",
            "Americas",
            "Americas",
            "Americas",
            "Americas",
            "Americas",
            "Americas",
            "Americas",
            "Americas",
            "Americas",
            "Americas",
            "Americas",
            "Americas",
            "Americas",
            "Americas",
            "Americas",
            "Americas",
            "Americas",
            "Americas",
            "Americas",
            "Americas"
           ],
           "xaxis": "x",
           "y": [
            12779.379640000001,
            3822.1370840000004,
            9065.800825,
            36319.235010000004,
            13171.63885,
            7006.580419,
            9645.06142,
            8948.102923,
            6025.374752000001,
            6873.262326000001,
            5728.353514,
            5186.050003,
            1201.637154,
            3548.3308460000003,
            7320.880262000001,
            11977.57496,
            2749.320965,
            9809.185636,
            4172.838464,
            7408.905561,
            19328.70901,
            18008.50924,
            42951.65309,
            10611.46299,
            11415.805690000001
           ],
           "yaxis": "y"
          },
          {
           "alignmentgroup": "True",
           "hovertemplate": "continent=%{x}<br>year=2007<br>gdpPercap=%{y}<extra></extra>",
           "ids": [
            "Australia",
            "New Zealand"
           ],
           "legendgroup": "Oceania",
           "marker": {
            "color": "#FFA15A"
           },
           "name": "Oceania",
           "offsetgroup": "Oceania",
           "orientation": "v",
           "showlegend": true,
           "textposition": "auto",
           "type": "bar",
           "x": [
            "Oceania",
            "Oceania"
           ],
           "xaxis": "x",
           "y": [
            34435.367439999995,
            25185.00911
           ],
           "yaxis": "y"
          }
         ],
         "name": "2007"
        }
       ],
       "layout": {
        "barmode": "relative",
        "legend": {
         "title": {
          "text": "continent"
         },
         "tracegroupgap": 0
        },
        "margin": {
         "t": 60
        },
        "sliders": [
         {
          "active": 0,
          "currentvalue": {
           "prefix": "year="
          },
          "len": 0.9,
          "pad": {
           "b": 10,
           "t": 60
          },
          "steps": [
           {
            "args": [
             [
              "1952"
             ],
             {
              "frame": {
               "duration": 0,
               "redraw": true
              },
              "fromcurrent": true,
              "mode": "immediate",
              "transition": {
               "duration": 0,
               "easing": "linear"
              }
             }
            ],
            "label": "1952",
            "method": "animate"
           },
           {
            "args": [
             [
              "1957"
             ],
             {
              "frame": {
               "duration": 0,
               "redraw": true
              },
              "fromcurrent": true,
              "mode": "immediate",
              "transition": {
               "duration": 0,
               "easing": "linear"
              }
             }
            ],
            "label": "1957",
            "method": "animate"
           },
           {
            "args": [
             [
              "1962"
             ],
             {
              "frame": {
               "duration": 0,
               "redraw": true
              },
              "fromcurrent": true,
              "mode": "immediate",
              "transition": {
               "duration": 0,
               "easing": "linear"
              }
             }
            ],
            "label": "1962",
            "method": "animate"
           },
           {
            "args": [
             [
              "1967"
             ],
             {
              "frame": {
               "duration": 0,
               "redraw": true
              },
              "fromcurrent": true,
              "mode": "immediate",
              "transition": {
               "duration": 0,
               "easing": "linear"
              }
             }
            ],
            "label": "1967",
            "method": "animate"
           },
           {
            "args": [
             [
              "1972"
             ],
             {
              "frame": {
               "duration": 0,
               "redraw": true
              },
              "fromcurrent": true,
              "mode": "immediate",
              "transition": {
               "duration": 0,
               "easing": "linear"
              }
             }
            ],
            "label": "1972",
            "method": "animate"
           },
           {
            "args": [
             [
              "1977"
             ],
             {
              "frame": {
               "duration": 0,
               "redraw": true
              },
              "fromcurrent": true,
              "mode": "immediate",
              "transition": {
               "duration": 0,
               "easing": "linear"
              }
             }
            ],
            "label": "1977",
            "method": "animate"
           },
           {
            "args": [
             [
              "1982"
             ],
             {
              "frame": {
               "duration": 0,
               "redraw": true
              },
              "fromcurrent": true,
              "mode": "immediate",
              "transition": {
               "duration": 0,
               "easing": "linear"
              }
             }
            ],
            "label": "1982",
            "method": "animate"
           },
           {
            "args": [
             [
              "1987"
             ],
             {
              "frame": {
               "duration": 0,
               "redraw": true
              },
              "fromcurrent": true,
              "mode": "immediate",
              "transition": {
               "duration": 0,
               "easing": "linear"
              }
             }
            ],
            "label": "1987",
            "method": "animate"
           },
           {
            "args": [
             [
              "1992"
             ],
             {
              "frame": {
               "duration": 0,
               "redraw": true
              },
              "fromcurrent": true,
              "mode": "immediate",
              "transition": {
               "duration": 0,
               "easing": "linear"
              }
             }
            ],
            "label": "1992",
            "method": "animate"
           },
           {
            "args": [
             [
              "1997"
             ],
             {
              "frame": {
               "duration": 0,
               "redraw": true
              },
              "fromcurrent": true,
              "mode": "immediate",
              "transition": {
               "duration": 0,
               "easing": "linear"
              }
             }
            ],
            "label": "1997",
            "method": "animate"
           },
           {
            "args": [
             [
              "2002"
             ],
             {
              "frame": {
               "duration": 0,
               "redraw": true
              },
              "fromcurrent": true,
              "mode": "immediate",
              "transition": {
               "duration": 0,
               "easing": "linear"
              }
             }
            ],
            "label": "2002",
            "method": "animate"
           },
           {
            "args": [
             [
              "2007"
             ],
             {
              "frame": {
               "duration": 0,
               "redraw": true
              },
              "fromcurrent": true,
              "mode": "immediate",
              "transition": {
               "duration": 0,
               "easing": "linear"
              }
             }
            ],
            "label": "2007",
            "method": "animate"
           }
          ],
          "x": 0.1,
          "xanchor": "left",
          "y": 0,
          "yanchor": "top"
         }
        ],
        "template": {
         "data": {
          "bar": [
           {
            "error_x": {
             "color": "#2a3f5f"
            },
            "error_y": {
             "color": "#2a3f5f"
            },
            "marker": {
             "line": {
              "color": "#E5ECF6",
              "width": 0.5
             }
            },
            "type": "bar"
           }
          ],
          "barpolar": [
           {
            "marker": {
             "line": {
              "color": "#E5ECF6",
              "width": 0.5
             }
            },
            "type": "barpolar"
           }
          ],
          "carpet": [
           {
            "aaxis": {
             "endlinecolor": "#2a3f5f",
             "gridcolor": "white",
             "linecolor": "white",
             "minorgridcolor": "white",
             "startlinecolor": "#2a3f5f"
            },
            "baxis": {
             "endlinecolor": "#2a3f5f",
             "gridcolor": "white",
             "linecolor": "white",
             "minorgridcolor": "white",
             "startlinecolor": "#2a3f5f"
            },
            "type": "carpet"
           }
          ],
          "choropleth": [
           {
            "colorbar": {
             "outlinewidth": 0,
             "ticks": ""
            },
            "type": "choropleth"
           }
          ],
          "contour": [
           {
            "colorbar": {
             "outlinewidth": 0,
             "ticks": ""
            },
            "colorscale": [
             [
              0,
              "#0d0887"
             ],
             [
              0.1111111111111111,
              "#46039f"
             ],
             [
              0.2222222222222222,
              "#7201a8"
             ],
             [
              0.3333333333333333,
              "#9c179e"
             ],
             [
              0.4444444444444444,
              "#bd3786"
             ],
             [
              0.5555555555555556,
              "#d8576b"
             ],
             [
              0.6666666666666666,
              "#ed7953"
             ],
             [
              0.7777777777777778,
              "#fb9f3a"
             ],
             [
              0.8888888888888888,
              "#fdca26"
             ],
             [
              1,
              "#f0f921"
             ]
            ],
            "type": "contour"
           }
          ],
          "contourcarpet": [
           {
            "colorbar": {
             "outlinewidth": 0,
             "ticks": ""
            },
            "type": "contourcarpet"
           }
          ],
          "heatmap": [
           {
            "colorbar": {
             "outlinewidth": 0,
             "ticks": ""
            },
            "colorscale": [
             [
              0,
              "#0d0887"
             ],
             [
              0.1111111111111111,
              "#46039f"
             ],
             [
              0.2222222222222222,
              "#7201a8"
             ],
             [
              0.3333333333333333,
              "#9c179e"
             ],
             [
              0.4444444444444444,
              "#bd3786"
             ],
             [
              0.5555555555555556,
              "#d8576b"
             ],
             [
              0.6666666666666666,
              "#ed7953"
             ],
             [
              0.7777777777777778,
              "#fb9f3a"
             ],
             [
              0.8888888888888888,
              "#fdca26"
             ],
             [
              1,
              "#f0f921"
             ]
            ],
            "type": "heatmap"
           }
          ],
          "heatmapgl": [
           {
            "colorbar": {
             "outlinewidth": 0,
             "ticks": ""
            },
            "colorscale": [
             [
              0,
              "#0d0887"
             ],
             [
              0.1111111111111111,
              "#46039f"
             ],
             [
              0.2222222222222222,
              "#7201a8"
             ],
             [
              0.3333333333333333,
              "#9c179e"
             ],
             [
              0.4444444444444444,
              "#bd3786"
             ],
             [
              0.5555555555555556,
              "#d8576b"
             ],
             [
              0.6666666666666666,
              "#ed7953"
             ],
             [
              0.7777777777777778,
              "#fb9f3a"
             ],
             [
              0.8888888888888888,
              "#fdca26"
             ],
             [
              1,
              "#f0f921"
             ]
            ],
            "type": "heatmapgl"
           }
          ],
          "histogram": [
           {
            "marker": {
             "colorbar": {
              "outlinewidth": 0,
              "ticks": ""
             }
            },
            "type": "histogram"
           }
          ],
          "histogram2d": [
           {
            "colorbar": {
             "outlinewidth": 0,
             "ticks": ""
            },
            "colorscale": [
             [
              0,
              "#0d0887"
             ],
             [
              0.1111111111111111,
              "#46039f"
             ],
             [
              0.2222222222222222,
              "#7201a8"
             ],
             [
              0.3333333333333333,
              "#9c179e"
             ],
             [
              0.4444444444444444,
              "#bd3786"
             ],
             [
              0.5555555555555556,
              "#d8576b"
             ],
             [
              0.6666666666666666,
              "#ed7953"
             ],
             [
              0.7777777777777778,
              "#fb9f3a"
             ],
             [
              0.8888888888888888,
              "#fdca26"
             ],
             [
              1,
              "#f0f921"
             ]
            ],
            "type": "histogram2d"
           }
          ],
          "histogram2dcontour": [
           {
            "colorbar": {
             "outlinewidth": 0,
             "ticks": ""
            },
            "colorscale": [
             [
              0,
              "#0d0887"
             ],
             [
              0.1111111111111111,
              "#46039f"
             ],
             [
              0.2222222222222222,
              "#7201a8"
             ],
             [
              0.3333333333333333,
              "#9c179e"
             ],
             [
              0.4444444444444444,
              "#bd3786"
             ],
             [
              0.5555555555555556,
              "#d8576b"
             ],
             [
              0.6666666666666666,
              "#ed7953"
             ],
             [
              0.7777777777777778,
              "#fb9f3a"
             ],
             [
              0.8888888888888888,
              "#fdca26"
             ],
             [
              1,
              "#f0f921"
             ]
            ],
            "type": "histogram2dcontour"
           }
          ],
          "mesh3d": [
           {
            "colorbar": {
             "outlinewidth": 0,
             "ticks": ""
            },
            "type": "mesh3d"
           }
          ],
          "parcoords": [
           {
            "line": {
             "colorbar": {
              "outlinewidth": 0,
              "ticks": ""
             }
            },
            "type": "parcoords"
           }
          ],
          "pie": [
           {
            "automargin": true,
            "type": "pie"
           }
          ],
          "scatter": [
           {
            "marker": {
             "colorbar": {
              "outlinewidth": 0,
              "ticks": ""
             }
            },
            "type": "scatter"
           }
          ],
          "scatter3d": [
           {
            "line": {
             "colorbar": {
              "outlinewidth": 0,
              "ticks": ""
             }
            },
            "marker": {
             "colorbar": {
              "outlinewidth": 0,
              "ticks": ""
             }
            },
            "type": "scatter3d"
           }
          ],
          "scattercarpet": [
           {
            "marker": {
             "colorbar": {
              "outlinewidth": 0,
              "ticks": ""
             }
            },
            "type": "scattercarpet"
           }
          ],
          "scattergeo": [
           {
            "marker": {
             "colorbar": {
              "outlinewidth": 0,
              "ticks": ""
             }
            },
            "type": "scattergeo"
           }
          ],
          "scattergl": [
           {
            "marker": {
             "colorbar": {
              "outlinewidth": 0,
              "ticks": ""
             }
            },
            "type": "scattergl"
           }
          ],
          "scattermapbox": [
           {
            "marker": {
             "colorbar": {
              "outlinewidth": 0,
              "ticks": ""
             }
            },
            "type": "scattermapbox"
           }
          ],
          "scatterpolar": [
           {
            "marker": {
             "colorbar": {
              "outlinewidth": 0,
              "ticks": ""
             }
            },
            "type": "scatterpolar"
           }
          ],
          "scatterpolargl": [
           {
            "marker": {
             "colorbar": {
              "outlinewidth": 0,
              "ticks": ""
             }
            },
            "type": "scatterpolargl"
           }
          ],
          "scatterternary": [
           {
            "marker": {
             "colorbar": {
              "outlinewidth": 0,
              "ticks": ""
             }
            },
            "type": "scatterternary"
           }
          ],
          "surface": [
           {
            "colorbar": {
             "outlinewidth": 0,
             "ticks": ""
            },
            "colorscale": [
             [
              0,
              "#0d0887"
             ],
             [
              0.1111111111111111,
              "#46039f"
             ],
             [
              0.2222222222222222,
              "#7201a8"
             ],
             [
              0.3333333333333333,
              "#9c179e"
             ],
             [
              0.4444444444444444,
              "#bd3786"
             ],
             [
              0.5555555555555556,
              "#d8576b"
             ],
             [
              0.6666666666666666,
              "#ed7953"
             ],
             [
              0.7777777777777778,
              "#fb9f3a"
             ],
             [
              0.8888888888888888,
              "#fdca26"
             ],
             [
              1,
              "#f0f921"
             ]
            ],
            "type": "surface"
           }
          ],
          "table": [
           {
            "cells": {
             "fill": {
              "color": "#EBF0F8"
             },
             "line": {
              "color": "white"
             }
            },
            "header": {
             "fill": {
              "color": "#C8D4E3"
             },
             "line": {
              "color": "white"
             }
            },
            "type": "table"
           }
          ]
         },
         "layout": {
          "annotationdefaults": {
           "arrowcolor": "#2a3f5f",
           "arrowhead": 0,
           "arrowwidth": 1
          },
          "coloraxis": {
           "colorbar": {
            "outlinewidth": 0,
            "ticks": ""
           }
          },
          "colorscale": {
           "diverging": [
            [
             0,
             "#8e0152"
            ],
            [
             0.1,
             "#c51b7d"
            ],
            [
             0.2,
             "#de77ae"
            ],
            [
             0.3,
             "#f1b6da"
            ],
            [
             0.4,
             "#fde0ef"
            ],
            [
             0.5,
             "#f7f7f7"
            ],
            [
             0.6,
             "#e6f5d0"
            ],
            [
             0.7,
             "#b8e186"
            ],
            [
             0.8,
             "#7fbc41"
            ],
            [
             0.9,
             "#4d9221"
            ],
            [
             1,
             "#276419"
            ]
           ],
           "sequential": [
            [
             0,
             "#0d0887"
            ],
            [
             0.1111111111111111,
             "#46039f"
            ],
            [
             0.2222222222222222,
             "#7201a8"
            ],
            [
             0.3333333333333333,
             "#9c179e"
            ],
            [
             0.4444444444444444,
             "#bd3786"
            ],
            [
             0.5555555555555556,
             "#d8576b"
            ],
            [
             0.6666666666666666,
             "#ed7953"
            ],
            [
             0.7777777777777778,
             "#fb9f3a"
            ],
            [
             0.8888888888888888,
             "#fdca26"
            ],
            [
             1,
             "#f0f921"
            ]
           ],
           "sequentialminus": [
            [
             0,
             "#0d0887"
            ],
            [
             0.1111111111111111,
             "#46039f"
            ],
            [
             0.2222222222222222,
             "#7201a8"
            ],
            [
             0.3333333333333333,
             "#9c179e"
            ],
            [
             0.4444444444444444,
             "#bd3786"
            ],
            [
             0.5555555555555556,
             "#d8576b"
            ],
            [
             0.6666666666666666,
             "#ed7953"
            ],
            [
             0.7777777777777778,
             "#fb9f3a"
            ],
            [
             0.8888888888888888,
             "#fdca26"
            ],
            [
             1,
             "#f0f921"
            ]
           ]
          },
          "colorway": [
           "#636efa",
           "#EF553B",
           "#00cc96",
           "#ab63fa",
           "#FFA15A",
           "#19d3f3",
           "#FF6692",
           "#B6E880",
           "#FF97FF",
           "#FECB52"
          ],
          "font": {
           "color": "#2a3f5f"
          },
          "geo": {
           "bgcolor": "white",
           "lakecolor": "white",
           "landcolor": "#E5ECF6",
           "showlakes": true,
           "showland": true,
           "subunitcolor": "white"
          },
          "hoverlabel": {
           "align": "left"
          },
          "hovermode": "closest",
          "mapbox": {
           "style": "light"
          },
          "paper_bgcolor": "white",
          "plot_bgcolor": "#E5ECF6",
          "polar": {
           "angularaxis": {
            "gridcolor": "white",
            "linecolor": "white",
            "ticks": ""
           },
           "bgcolor": "#E5ECF6",
           "radialaxis": {
            "gridcolor": "white",
            "linecolor": "white",
            "ticks": ""
           }
          },
          "scene": {
           "xaxis": {
            "backgroundcolor": "#E5ECF6",
            "gridcolor": "white",
            "gridwidth": 2,
            "linecolor": "white",
            "showbackground": true,
            "ticks": "",
            "zerolinecolor": "white"
           },
           "yaxis": {
            "backgroundcolor": "#E5ECF6",
            "gridcolor": "white",
            "gridwidth": 2,
            "linecolor": "white",
            "showbackground": true,
            "ticks": "",
            "zerolinecolor": "white"
           },
           "zaxis": {
            "backgroundcolor": "#E5ECF6",
            "gridcolor": "white",
            "gridwidth": 2,
            "linecolor": "white",
            "showbackground": true,
            "ticks": "",
            "zerolinecolor": "white"
           }
          },
          "shapedefaults": {
           "line": {
            "color": "#2a3f5f"
           }
          },
          "ternary": {
           "aaxis": {
            "gridcolor": "white",
            "linecolor": "white",
            "ticks": ""
           },
           "baxis": {
            "gridcolor": "white",
            "linecolor": "white",
            "ticks": ""
           },
           "bgcolor": "#E5ECF6",
           "caxis": {
            "gridcolor": "white",
            "linecolor": "white",
            "ticks": ""
           }
          },
          "title": {
           "x": 0.05
          },
          "xaxis": {
           "automargin": true,
           "gridcolor": "white",
           "linecolor": "white",
           "ticks": "",
           "title": {
            "standoff": 15
           },
           "zerolinecolor": "white",
           "zerolinewidth": 2
          },
          "yaxis": {
           "automargin": true,
           "gridcolor": "white",
           "linecolor": "white",
           "ticks": "",
           "title": {
            "standoff": 15
           },
           "zerolinecolor": "white",
           "zerolinewidth": 2
          }
         }
        },
        "updatemenus": [
         {
          "buttons": [
           {
            "args": [
             null,
             {
              "frame": {
               "duration": 500,
               "redraw": true
              },
              "fromcurrent": true,
              "mode": "immediate",
              "transition": {
               "duration": 500,
               "easing": "linear"
              }
             }
            ],
            "label": "&#9654;",
            "method": "animate"
           },
           {
            "args": [
             [
              null
             ],
             {
              "frame": {
               "duration": 0,
               "redraw": true
              },
              "fromcurrent": true,
              "mode": "immediate",
              "transition": {
               "duration": 0,
               "easing": "linear"
              }
             }
            ],
            "label": "&#9724;",
            "method": "animate"
           }
          ],
          "direction": "left",
          "pad": {
           "r": 10,
           "t": 70
          },
          "showactive": false,
          "type": "buttons",
          "x": 0.1,
          "xanchor": "right",
          "y": 0,
          "yanchor": "top"
         }
        ],
        "xaxis": {
         "anchor": "y",
         "categoryarray": [
          "Asia",
          "Europe",
          "Africa",
          "Americas",
          "Oceania"
         ],
         "categoryorder": "array",
         "domain": [
          0,
          1
         ],
         "title": {
          "text": "continent"
         }
        },
        "yaxis": {
         "anchor": "x",
         "domain": [
          0,
          1
         ],
         "range": [
          0,
          1000000
         ],
         "title": {
          "text": "gdpPercap"
         }
        }
       }
      },
      "text/html": [
       "<div>\n",
       "        \n",
       "        \n",
       "            <div id=\"80bcc6e3-0462-43ed-b8d1-eb377721bcae\" class=\"plotly-graph-div\" style=\"height:525px; width:100%;\"></div>\n",
       "            <script type=\"text/javascript\">\n",
       "                require([\"plotly\"], function(Plotly) {\n",
       "                    window.PLOTLYENV=window.PLOTLYENV || {};\n",
       "                    \n",
       "                if (document.getElementById(\"80bcc6e3-0462-43ed-b8d1-eb377721bcae\")) {\n",
       "                    Plotly.newPlot(\n",
       "                        '80bcc6e3-0462-43ed-b8d1-eb377721bcae',\n",
       "                        [{\"alignmentgroup\": \"True\", \"hovertemplate\": \"continent=%{x}<br>year=1952<br>gdpPercap=%{y}<extra></extra>\", \"ids\": [\"Afghanistan\", \"Bahrain\", \"Bangladesh\", \"Cambodia\", \"China\", \"Hong Kong, China\", \"India\", \"Indonesia\", \"Iran\", \"Iraq\", \"Israel\", \"Japan\", \"Jordan\", \"Korea, Dem. Rep.\", \"Korea, Rep.\", \"Kuwait\", \"Lebanon\", \"Malaysia\", \"Mongolia\", \"Myanmar\", \"Nepal\", \"Oman\", \"Pakistan\", \"Philippines\", \"Saudi Arabia\", \"Singapore\", \"Sri Lanka\", \"Syria\", \"Taiwan\", \"Thailand\", \"Vietnam\", \"West Bank and Gaza\", \"Yemen, Rep.\"], \"legendgroup\": \"Asia\", \"marker\": {\"color\": \"#636efa\"}, \"name\": \"Asia\", \"offsetgroup\": \"Asia\", \"orientation\": \"v\", \"showlegend\": true, \"textposition\": \"auto\", \"type\": \"bar\", \"x\": [\"Asia\", \"Asia\", \"Asia\", \"Asia\", \"Asia\", \"Asia\", \"Asia\", \"Asia\", \"Asia\", \"Asia\", \"Asia\", \"Asia\", \"Asia\", \"Asia\", \"Asia\", \"Asia\", \"Asia\", \"Asia\", \"Asia\", \"Asia\", \"Asia\", \"Asia\", \"Asia\", \"Asia\", \"Asia\", \"Asia\", \"Asia\", \"Asia\", \"Asia\", \"Asia\", \"Asia\", \"Asia\", \"Asia\"], \"xaxis\": \"x\", \"y\": [779.4453145, 9867.084765000001, 684.2441716, 368.46928560000003, 400.44861099999997, 3054.421209, 546.5657493, 749.6816546, 3035.326002, 4129.766056, 4086.522128, 3216.956347, 1546.907807, 1088.277758, 1030.592226, 108382.3529, 4834.804067, 1831.132894, 786.5668575, 331.0, 545.8657228999999, 1828.230307, 684.5971437999999, 1272.880995, 6459.5548229999995, 2315.138227, 1083.53203, 1643.485354, 1206.947913, 757.7974177, 605.0664917, 1515.5923289999998, 781.7175761], \"yaxis\": \"y\"}, {\"alignmentgroup\": \"True\", \"hovertemplate\": \"continent=%{x}<br>year=1952<br>gdpPercap=%{y}<extra></extra>\", \"ids\": [\"Albania\", \"Austria\", \"Belgium\", \"Bosnia and Herzegovina\", \"Bulgaria\", \"Croatia\", \"Czech Republic\", \"Denmark\", \"Finland\", \"France\", \"Germany\", \"Greece\", \"Hungary\", \"Iceland\", \"Ireland\", \"Italy\", \"Montenegro\", \"Netherlands\", \"Norway\", \"Poland\", \"Portugal\", \"Romania\", \"Serbia\", \"Slovak Republic\", \"Slovenia\", \"Spain\", \"Sweden\", \"Switzerland\", \"Turkey\", \"United Kingdom\"], \"legendgroup\": \"Europe\", \"marker\": {\"color\": \"#EF553B\"}, \"name\": \"Europe\", \"offsetgroup\": \"Europe\", \"orientation\": \"v\", \"showlegend\": true, \"textposition\": \"auto\", \"type\": \"bar\", \"x\": [\"Europe\", \"Europe\", \"Europe\", \"Europe\", \"Europe\", \"Europe\", \"Europe\", \"Europe\", \"Europe\", \"Europe\", \"Europe\", \"Europe\", \"Europe\", \"Europe\", \"Europe\", \"Europe\", \"Europe\", \"Europe\", \"Europe\", \"Europe\", \"Europe\", \"Europe\", \"Europe\", \"Europe\", \"Europe\", \"Europe\", \"Europe\", \"Europe\", \"Europe\", \"Europe\"], \"xaxis\": \"x\", \"y\": [1601.056136, 6137.076492, 8343.105126999999, 973.5331947999999, 2444.2866480000002, 3119.23652, 6876.14025, 9692.385245, 6424.519071, 7029.809327, 7144.114393000001, 3530.690067, 5263.6738159999995, 7267.688428, 5210.280328, 4931.404154999999, 2647.585601, 8941.571858, 10095.42172, 4029.3296990000003, 3068.319867, 3144.613186, 3581.4594479999996, 5074.659104, 4215.041741, 3834.0347420000003, 8527.844662000001, 14734.23275, 1969.1009800000002, 9979.508487000001], \"yaxis\": \"y\"}, {\"alignmentgroup\": \"True\", \"hovertemplate\": \"continent=%{x}<br>year=1952<br>gdpPercap=%{y}<extra></extra>\", \"ids\": [\"Algeria\", \"Angola\", \"Benin\", \"Botswana\", \"Burkina Faso\", \"Burundi\", \"Cameroon\", \"Central African Republic\", \"Chad\", \"Comoros\", \"Congo, Dem. Rep.\", \"Congo, Rep.\", \"Cote d'Ivoire\", \"Djibouti\", \"Egypt\", \"Equatorial Guinea\", \"Eritrea\", \"Ethiopia\", \"Gabon\", \"Gambia\", \"Ghana\", \"Guinea\", \"Guinea-Bissau\", \"Kenya\", \"Lesotho\", \"Liberia\", \"Libya\", \"Madagascar\", \"Malawi\", \"Mali\", \"Mauritania\", \"Mauritius\", \"Morocco\", \"Mozambique\", \"Namibia\", \"Niger\", \"Nigeria\", \"Reunion\", \"Rwanda\", \"Sao Tome and Principe\", \"Senegal\", \"Sierra Leone\", \"Somalia\", \"South Africa\", \"Sudan\", \"Swaziland\", \"Tanzania\", \"Togo\", \"Tunisia\", \"Uganda\", \"Zambia\", \"Zimbabwe\"], \"legendgroup\": \"Africa\", \"marker\": {\"color\": \"#00cc96\"}, \"name\": \"Africa\", \"offsetgroup\": \"Africa\", \"orientation\": \"v\", \"showlegend\": true, \"textposition\": \"auto\", \"type\": \"bar\", \"x\": [\"Africa\", \"Africa\", \"Africa\", \"Africa\", \"Africa\", \"Africa\", \"Africa\", \"Africa\", \"Africa\", \"Africa\", \"Africa\", \"Africa\", \"Africa\", \"Africa\", \"Africa\", \"Africa\", \"Africa\", \"Africa\", \"Africa\", \"Africa\", \"Africa\", \"Africa\", \"Africa\", \"Africa\", \"Africa\", \"Africa\", \"Africa\", \"Africa\", \"Africa\", \"Africa\", \"Africa\", \"Africa\", \"Africa\", \"Africa\", \"Africa\", \"Africa\", \"Africa\", \"Africa\", \"Africa\", \"Africa\", \"Africa\", \"Africa\", \"Africa\", \"Africa\", \"Africa\", \"Africa\", \"Africa\", \"Africa\", \"Africa\", \"Africa\", \"Africa\", \"Africa\"], \"xaxis\": \"x\", \"y\": [2449.008185, 3520.610273, 1062.7522, 851.2411407, 543.2552413, 339.29645869999996, 1172.667655, 1071.310713, 1178.665927, 1102.990936, 780.5423257, 2125.621418, 1388.594732, 2669.529475, 1418.822445, 375.6431231, 328.94055710000004, 362.1462796, 4293.476475, 485.2306591, 911.2989371, 510.19649230000005, 299.850319, 853.5409189999999, 298.8462121, 575.5729961000001, 2387.54806, 1443.011715, 369.1650802, 452.3369807, 743.1159097, 1967.955707, 1688.20357, 468.5260381, 2423.780443, 761.879376, 1077.281856, 2718.885295, 493.32387520000003, 879.5835855, 1450.356983, 879.7877358, 1135.749842, 4725.295531000001, 1615.991129, 1148.376626, 716.6500721, 859.8086567, 1468.475631, 734.753484, 1147.388831, 406.8841148], \"yaxis\": \"y\"}, {\"alignmentgroup\": \"True\", \"hovertemplate\": \"continent=%{x}<br>year=1952<br>gdpPercap=%{y}<extra></extra>\", \"ids\": [\"Argentina\", \"Bolivia\", \"Brazil\", \"Canada\", \"Chile\", \"Colombia\", \"Costa Rica\", \"Cuba\", \"Dominican Republic\", \"Ecuador\", \"El Salvador\", \"Guatemala\", \"Haiti\", \"Honduras\", \"Jamaica\", \"Mexico\", \"Nicaragua\", \"Panama\", \"Paraguay\", \"Peru\", \"Puerto Rico\", \"Trinidad and Tobago\", \"United States\", \"Uruguay\", \"Venezuela\"], \"legendgroup\": \"Americas\", \"marker\": {\"color\": \"#ab63fa\"}, \"name\": \"Americas\", \"offsetgroup\": \"Americas\", \"orientation\": \"v\", \"showlegend\": true, \"textposition\": \"auto\", \"type\": \"bar\", \"x\": [\"Americas\", \"Americas\", \"Americas\", \"Americas\", \"Americas\", \"Americas\", \"Americas\", \"Americas\", \"Americas\", \"Americas\", \"Americas\", \"Americas\", \"Americas\", \"Americas\", \"Americas\", \"Americas\", \"Americas\", \"Americas\", \"Americas\", \"Americas\", \"Americas\", \"Americas\", \"Americas\", \"Americas\", \"Americas\"], \"xaxis\": \"x\", \"y\": [5911.315053, 2677.3263469999997, 2108.944355, 11367.16112, 3939.9787890000002, 2144.115096, 2627.0094710000003, 5586.53878, 1397.7171369999999, 3522.110717, 3048.3029, 2428.2377690000003, 1840.366939, 2194.926204, 2898.5308809999997, 3478.125529, 3112.363948, 2480.380334, 1952.3087010000002, 3758.523437, 3081.959785, 3023.271928, 13990.482080000002, 5716.766744, 7689.799761], \"yaxis\": \"y\"}, {\"alignmentgroup\": \"True\", \"hovertemplate\": \"continent=%{x}<br>year=1952<br>gdpPercap=%{y}<extra></extra>\", \"ids\": [\"Australia\", \"New Zealand\"], \"legendgroup\": \"Oceania\", \"marker\": {\"color\": \"#FFA15A\"}, \"name\": \"Oceania\", \"offsetgroup\": \"Oceania\", \"orientation\": \"v\", \"showlegend\": true, \"textposition\": \"auto\", \"type\": \"bar\", \"x\": [\"Oceania\", \"Oceania\"], \"xaxis\": \"x\", \"y\": [10039.595640000001, 10556.575659999999], \"yaxis\": \"y\"}],\n",
       "                        {\"barmode\": \"relative\", \"legend\": {\"title\": {\"text\": \"continent\"}, \"tracegroupgap\": 0}, \"margin\": {\"t\": 60}, \"sliders\": [{\"active\": 0, \"currentvalue\": {\"prefix\": \"year=\"}, \"len\": 0.9, \"pad\": {\"b\": 10, \"t\": 60}, \"steps\": [{\"args\": [[\"1952\"], {\"frame\": {\"duration\": 0, \"redraw\": true}, \"fromcurrent\": true, \"mode\": \"immediate\", \"transition\": {\"duration\": 0, \"easing\": \"linear\"}}], \"label\": \"1952\", \"method\": \"animate\"}, {\"args\": [[\"1957\"], {\"frame\": {\"duration\": 0, \"redraw\": true}, \"fromcurrent\": true, \"mode\": \"immediate\", \"transition\": {\"duration\": 0, \"easing\": \"linear\"}}], \"label\": \"1957\", \"method\": \"animate\"}, {\"args\": [[\"1962\"], {\"frame\": {\"duration\": 0, \"redraw\": true}, \"fromcurrent\": true, \"mode\": \"immediate\", \"transition\": {\"duration\": 0, \"easing\": \"linear\"}}], \"label\": \"1962\", \"method\": \"animate\"}, {\"args\": [[\"1967\"], {\"frame\": {\"duration\": 0, \"redraw\": true}, \"fromcurrent\": true, \"mode\": \"immediate\", \"transition\": {\"duration\": 0, \"easing\": \"linear\"}}], \"label\": \"1967\", \"method\": \"animate\"}, {\"args\": [[\"1972\"], {\"frame\": {\"duration\": 0, \"redraw\": true}, \"fromcurrent\": true, \"mode\": \"immediate\", \"transition\": {\"duration\": 0, \"easing\": \"linear\"}}], \"label\": \"1972\", \"method\": \"animate\"}, {\"args\": [[\"1977\"], {\"frame\": {\"duration\": 0, \"redraw\": true}, \"fromcurrent\": true, \"mode\": \"immediate\", \"transition\": {\"duration\": 0, \"easing\": \"linear\"}}], \"label\": \"1977\", \"method\": \"animate\"}, {\"args\": [[\"1982\"], {\"frame\": {\"duration\": 0, \"redraw\": true}, \"fromcurrent\": true, \"mode\": \"immediate\", \"transition\": {\"duration\": 0, \"easing\": \"linear\"}}], \"label\": \"1982\", \"method\": \"animate\"}, {\"args\": [[\"1987\"], {\"frame\": {\"duration\": 0, \"redraw\": true}, \"fromcurrent\": true, \"mode\": \"immediate\", \"transition\": {\"duration\": 0, \"easing\": \"linear\"}}], \"label\": \"1987\", \"method\": \"animate\"}, {\"args\": [[\"1992\"], {\"frame\": {\"duration\": 0, \"redraw\": true}, \"fromcurrent\": true, \"mode\": \"immediate\", \"transition\": {\"duration\": 0, \"easing\": \"linear\"}}], \"label\": \"1992\", \"method\": \"animate\"}, {\"args\": [[\"1997\"], {\"frame\": {\"duration\": 0, \"redraw\": true}, \"fromcurrent\": true, \"mode\": \"immediate\", \"transition\": {\"duration\": 0, \"easing\": \"linear\"}}], \"label\": \"1997\", \"method\": \"animate\"}, {\"args\": [[\"2002\"], {\"frame\": {\"duration\": 0, \"redraw\": true}, \"fromcurrent\": true, \"mode\": \"immediate\", \"transition\": {\"duration\": 0, \"easing\": \"linear\"}}], \"label\": \"2002\", \"method\": \"animate\"}, {\"args\": [[\"2007\"], {\"frame\": {\"duration\": 0, \"redraw\": true}, \"fromcurrent\": true, \"mode\": \"immediate\", \"transition\": {\"duration\": 0, \"easing\": \"linear\"}}], \"label\": \"2007\", \"method\": \"animate\"}], \"x\": 0.1, \"xanchor\": \"left\", \"y\": 0, \"yanchor\": \"top\"}], \"template\": {\"data\": {\"bar\": [{\"error_x\": {\"color\": \"#2a3f5f\"}, \"error_y\": {\"color\": \"#2a3f5f\"}, \"marker\": {\"line\": {\"color\": \"#E5ECF6\", \"width\": 0.5}}, \"type\": \"bar\"}], \"barpolar\": [{\"marker\": {\"line\": {\"color\": \"#E5ECF6\", \"width\": 0.5}}, \"type\": \"barpolar\"}], \"carpet\": [{\"aaxis\": {\"endlinecolor\": \"#2a3f5f\", \"gridcolor\": \"white\", \"linecolor\": \"white\", \"minorgridcolor\": \"white\", \"startlinecolor\": \"#2a3f5f\"}, \"baxis\": {\"endlinecolor\": \"#2a3f5f\", \"gridcolor\": \"white\", \"linecolor\": \"white\", \"minorgridcolor\": \"white\", \"startlinecolor\": \"#2a3f5f\"}, \"type\": \"carpet\"}], \"choropleth\": [{\"colorbar\": {\"outlinewidth\": 0, \"ticks\": \"\"}, \"type\": \"choropleth\"}], \"contour\": [{\"colorbar\": {\"outlinewidth\": 0, \"ticks\": \"\"}, \"colorscale\": [[0.0, \"#0d0887\"], [0.1111111111111111, \"#46039f\"], [0.2222222222222222, \"#7201a8\"], [0.3333333333333333, \"#9c179e\"], [0.4444444444444444, \"#bd3786\"], [0.5555555555555556, \"#d8576b\"], [0.6666666666666666, \"#ed7953\"], [0.7777777777777778, \"#fb9f3a\"], [0.8888888888888888, \"#fdca26\"], [1.0, \"#f0f921\"]], \"type\": \"contour\"}], \"contourcarpet\": [{\"colorbar\": {\"outlinewidth\": 0, \"ticks\": \"\"}, \"type\": \"contourcarpet\"}], \"heatmap\": [{\"colorbar\": {\"outlinewidth\": 0, \"ticks\": \"\"}, \"colorscale\": [[0.0, \"#0d0887\"], [0.1111111111111111, \"#46039f\"], [0.2222222222222222, \"#7201a8\"], [0.3333333333333333, \"#9c179e\"], [0.4444444444444444, \"#bd3786\"], [0.5555555555555556, \"#d8576b\"], [0.6666666666666666, \"#ed7953\"], [0.7777777777777778, \"#fb9f3a\"], [0.8888888888888888, \"#fdca26\"], [1.0, \"#f0f921\"]], \"type\": \"heatmap\"}], \"heatmapgl\": [{\"colorbar\": {\"outlinewidth\": 0, \"ticks\": \"\"}, \"colorscale\": [[0.0, \"#0d0887\"], [0.1111111111111111, \"#46039f\"], [0.2222222222222222, \"#7201a8\"], [0.3333333333333333, \"#9c179e\"], [0.4444444444444444, \"#bd3786\"], [0.5555555555555556, \"#d8576b\"], [0.6666666666666666, \"#ed7953\"], [0.7777777777777778, \"#fb9f3a\"], [0.8888888888888888, \"#fdca26\"], [1.0, \"#f0f921\"]], \"type\": \"heatmapgl\"}], \"histogram\": [{\"marker\": {\"colorbar\": {\"outlinewidth\": 0, \"ticks\": \"\"}}, \"type\": \"histogram\"}], \"histogram2d\": [{\"colorbar\": {\"outlinewidth\": 0, \"ticks\": \"\"}, \"colorscale\": [[0.0, \"#0d0887\"], [0.1111111111111111, \"#46039f\"], [0.2222222222222222, \"#7201a8\"], [0.3333333333333333, \"#9c179e\"], [0.4444444444444444, \"#bd3786\"], [0.5555555555555556, \"#d8576b\"], [0.6666666666666666, \"#ed7953\"], [0.7777777777777778, \"#fb9f3a\"], [0.8888888888888888, \"#fdca26\"], [1.0, \"#f0f921\"]], \"type\": \"histogram2d\"}], \"histogram2dcontour\": [{\"colorbar\": {\"outlinewidth\": 0, \"ticks\": \"\"}, \"colorscale\": [[0.0, \"#0d0887\"], [0.1111111111111111, \"#46039f\"], [0.2222222222222222, \"#7201a8\"], [0.3333333333333333, \"#9c179e\"], [0.4444444444444444, \"#bd3786\"], [0.5555555555555556, \"#d8576b\"], [0.6666666666666666, \"#ed7953\"], [0.7777777777777778, \"#fb9f3a\"], [0.8888888888888888, \"#fdca26\"], [1.0, \"#f0f921\"]], \"type\": \"histogram2dcontour\"}], \"mesh3d\": [{\"colorbar\": {\"outlinewidth\": 0, \"ticks\": \"\"}, \"type\": \"mesh3d\"}], \"parcoords\": [{\"line\": {\"colorbar\": {\"outlinewidth\": 0, \"ticks\": \"\"}}, \"type\": \"parcoords\"}], \"pie\": [{\"automargin\": true, \"type\": \"pie\"}], \"scatter\": [{\"marker\": {\"colorbar\": {\"outlinewidth\": 0, \"ticks\": \"\"}}, \"type\": \"scatter\"}], \"scatter3d\": [{\"line\": {\"colorbar\": {\"outlinewidth\": 0, \"ticks\": \"\"}}, \"marker\": {\"colorbar\": {\"outlinewidth\": 0, \"ticks\": \"\"}}, \"type\": \"scatter3d\"}], \"scattercarpet\": [{\"marker\": {\"colorbar\": {\"outlinewidth\": 0, \"ticks\": \"\"}}, \"type\": \"scattercarpet\"}], \"scattergeo\": [{\"marker\": {\"colorbar\": {\"outlinewidth\": 0, \"ticks\": \"\"}}, \"type\": \"scattergeo\"}], \"scattergl\": [{\"marker\": {\"colorbar\": {\"outlinewidth\": 0, \"ticks\": \"\"}}, \"type\": \"scattergl\"}], \"scattermapbox\": [{\"marker\": {\"colorbar\": {\"outlinewidth\": 0, \"ticks\": \"\"}}, \"type\": \"scattermapbox\"}], \"scatterpolar\": [{\"marker\": {\"colorbar\": {\"outlinewidth\": 0, \"ticks\": \"\"}}, \"type\": \"scatterpolar\"}], \"scatterpolargl\": [{\"marker\": {\"colorbar\": {\"outlinewidth\": 0, \"ticks\": \"\"}}, \"type\": \"scatterpolargl\"}], \"scatterternary\": [{\"marker\": {\"colorbar\": {\"outlinewidth\": 0, \"ticks\": \"\"}}, \"type\": \"scatterternary\"}], \"surface\": [{\"colorbar\": {\"outlinewidth\": 0, \"ticks\": \"\"}, \"colorscale\": [[0.0, \"#0d0887\"], [0.1111111111111111, \"#46039f\"], [0.2222222222222222, \"#7201a8\"], [0.3333333333333333, \"#9c179e\"], [0.4444444444444444, \"#bd3786\"], [0.5555555555555556, \"#d8576b\"], [0.6666666666666666, \"#ed7953\"], [0.7777777777777778, \"#fb9f3a\"], [0.8888888888888888, \"#fdca26\"], [1.0, \"#f0f921\"]], \"type\": \"surface\"}], \"table\": [{\"cells\": {\"fill\": {\"color\": \"#EBF0F8\"}, \"line\": {\"color\": \"white\"}}, \"header\": {\"fill\": {\"color\": \"#C8D4E3\"}, \"line\": {\"color\": \"white\"}}, \"type\": \"table\"}]}, \"layout\": {\"annotationdefaults\": {\"arrowcolor\": \"#2a3f5f\", \"arrowhead\": 0, \"arrowwidth\": 1}, \"coloraxis\": {\"colorbar\": {\"outlinewidth\": 0, \"ticks\": \"\"}}, \"colorscale\": {\"diverging\": [[0, \"#8e0152\"], [0.1, \"#c51b7d\"], [0.2, \"#de77ae\"], [0.3, \"#f1b6da\"], [0.4, \"#fde0ef\"], [0.5, \"#f7f7f7\"], [0.6, \"#e6f5d0\"], [0.7, \"#b8e186\"], [0.8, \"#7fbc41\"], [0.9, \"#4d9221\"], [1, \"#276419\"]], \"sequential\": [[0.0, \"#0d0887\"], [0.1111111111111111, \"#46039f\"], [0.2222222222222222, \"#7201a8\"], [0.3333333333333333, \"#9c179e\"], [0.4444444444444444, \"#bd3786\"], [0.5555555555555556, \"#d8576b\"], [0.6666666666666666, \"#ed7953\"], [0.7777777777777778, \"#fb9f3a\"], [0.8888888888888888, \"#fdca26\"], [1.0, \"#f0f921\"]], \"sequentialminus\": [[0.0, \"#0d0887\"], [0.1111111111111111, \"#46039f\"], [0.2222222222222222, \"#7201a8\"], [0.3333333333333333, \"#9c179e\"], [0.4444444444444444, \"#bd3786\"], [0.5555555555555556, \"#d8576b\"], [0.6666666666666666, \"#ed7953\"], [0.7777777777777778, \"#fb9f3a\"], [0.8888888888888888, \"#fdca26\"], [1.0, \"#f0f921\"]]}, \"colorway\": [\"#636efa\", \"#EF553B\", \"#00cc96\", \"#ab63fa\", \"#FFA15A\", \"#19d3f3\", \"#FF6692\", \"#B6E880\", \"#FF97FF\", \"#FECB52\"], \"font\": {\"color\": \"#2a3f5f\"}, \"geo\": {\"bgcolor\": \"white\", \"lakecolor\": \"white\", \"landcolor\": \"#E5ECF6\", \"showlakes\": true, \"showland\": true, \"subunitcolor\": \"white\"}, \"hoverlabel\": {\"align\": \"left\"}, \"hovermode\": \"closest\", \"mapbox\": {\"style\": \"light\"}, \"paper_bgcolor\": \"white\", \"plot_bgcolor\": \"#E5ECF6\", \"polar\": {\"angularaxis\": {\"gridcolor\": \"white\", \"linecolor\": \"white\", \"ticks\": \"\"}, \"bgcolor\": \"#E5ECF6\", \"radialaxis\": {\"gridcolor\": \"white\", \"linecolor\": \"white\", \"ticks\": \"\"}}, \"scene\": {\"xaxis\": {\"backgroundcolor\": \"#E5ECF6\", \"gridcolor\": \"white\", \"gridwidth\": 2, \"linecolor\": \"white\", \"showbackground\": true, \"ticks\": \"\", \"zerolinecolor\": \"white\"}, \"yaxis\": {\"backgroundcolor\": \"#E5ECF6\", \"gridcolor\": \"white\", \"gridwidth\": 2, \"linecolor\": \"white\", \"showbackground\": true, \"ticks\": \"\", \"zerolinecolor\": \"white\"}, \"zaxis\": {\"backgroundcolor\": \"#E5ECF6\", \"gridcolor\": \"white\", \"gridwidth\": 2, \"linecolor\": \"white\", \"showbackground\": true, \"ticks\": \"\", \"zerolinecolor\": \"white\"}}, \"shapedefaults\": {\"line\": {\"color\": \"#2a3f5f\"}}, \"ternary\": {\"aaxis\": {\"gridcolor\": \"white\", \"linecolor\": \"white\", \"ticks\": \"\"}, \"baxis\": {\"gridcolor\": \"white\", \"linecolor\": \"white\", \"ticks\": \"\"}, \"bgcolor\": \"#E5ECF6\", \"caxis\": {\"gridcolor\": \"white\", \"linecolor\": \"white\", \"ticks\": \"\"}}, \"title\": {\"x\": 0.05}, \"xaxis\": {\"automargin\": true, \"gridcolor\": \"white\", \"linecolor\": \"white\", \"ticks\": \"\", \"title\": {\"standoff\": 15}, \"zerolinecolor\": \"white\", \"zerolinewidth\": 2}, \"yaxis\": {\"automargin\": true, \"gridcolor\": \"white\", \"linecolor\": \"white\", \"ticks\": \"\", \"title\": {\"standoff\": 15}, \"zerolinecolor\": \"white\", \"zerolinewidth\": 2}}}, \"updatemenus\": [{\"buttons\": [{\"args\": [null, {\"frame\": {\"duration\": 500, \"redraw\": true}, \"fromcurrent\": true, \"mode\": \"immediate\", \"transition\": {\"duration\": 500, \"easing\": \"linear\"}}], \"label\": \"&#9654;\", \"method\": \"animate\"}, {\"args\": [[null], {\"frame\": {\"duration\": 0, \"redraw\": true}, \"fromcurrent\": true, \"mode\": \"immediate\", \"transition\": {\"duration\": 0, \"easing\": \"linear\"}}], \"label\": \"&#9724;\", \"method\": \"animate\"}], \"direction\": \"left\", \"pad\": {\"r\": 10, \"t\": 70}, \"showactive\": false, \"type\": \"buttons\", \"x\": 0.1, \"xanchor\": \"right\", \"y\": 0, \"yanchor\": \"top\"}], \"xaxis\": {\"anchor\": \"y\", \"categoryarray\": [\"Asia\", \"Europe\", \"Africa\", \"Americas\", \"Oceania\"], \"categoryorder\": \"array\", \"domain\": [0.0, 1.0], \"title\": {\"text\": \"continent\"}}, \"yaxis\": {\"anchor\": \"x\", \"domain\": [0.0, 1.0], \"range\": [0, 1000000], \"title\": {\"text\": \"gdpPercap\"}}},\n",
       "                        {\"responsive\": true}\n",
       "                    ).then(function(){\n",
       "                            Plotly.addFrames('80bcc6e3-0462-43ed-b8d1-eb377721bcae', [{\"data\": [{\"alignmentgroup\": \"True\", \"hovertemplate\": \"continent=%{x}<br>year=1952<br>gdpPercap=%{y}<extra></extra>\", \"ids\": [\"Afghanistan\", \"Bahrain\", \"Bangladesh\", \"Cambodia\", \"China\", \"Hong Kong, China\", \"India\", \"Indonesia\", \"Iran\", \"Iraq\", \"Israel\", \"Japan\", \"Jordan\", \"Korea, Dem. Rep.\", \"Korea, Rep.\", \"Kuwait\", \"Lebanon\", \"Malaysia\", \"Mongolia\", \"Myanmar\", \"Nepal\", \"Oman\", \"Pakistan\", \"Philippines\", \"Saudi Arabia\", \"Singapore\", \"Sri Lanka\", \"Syria\", \"Taiwan\", \"Thailand\", \"Vietnam\", \"West Bank and Gaza\", \"Yemen, Rep.\"], \"legendgroup\": \"Asia\", \"marker\": {\"color\": \"#636efa\"}, \"name\": \"Asia\", \"offsetgroup\": \"Asia\", \"orientation\": \"v\", \"showlegend\": true, \"textposition\": \"auto\", \"x\": [\"Asia\", \"Asia\", \"Asia\", \"Asia\", \"Asia\", \"Asia\", \"Asia\", \"Asia\", \"Asia\", \"Asia\", \"Asia\", \"Asia\", \"Asia\", \"Asia\", \"Asia\", \"Asia\", \"Asia\", \"Asia\", \"Asia\", \"Asia\", \"Asia\", \"Asia\", \"Asia\", \"Asia\", \"Asia\", \"Asia\", \"Asia\", \"Asia\", \"Asia\", \"Asia\", \"Asia\", \"Asia\", \"Asia\"], \"xaxis\": \"x\", \"y\": [779.4453145, 9867.084765000001, 684.2441716, 368.46928560000003, 400.44861099999997, 3054.421209, 546.5657493, 749.6816546, 3035.326002, 4129.766056, 4086.522128, 3216.956347, 1546.907807, 1088.277758, 1030.592226, 108382.3529, 4834.804067, 1831.132894, 786.5668575, 331.0, 545.8657228999999, 1828.230307, 684.5971437999999, 1272.880995, 6459.5548229999995, 2315.138227, 1083.53203, 1643.485354, 1206.947913, 757.7974177, 605.0664917, 1515.5923289999998, 781.7175761], \"yaxis\": \"y\", \"type\": \"bar\"}, {\"alignmentgroup\": \"True\", \"hovertemplate\": \"continent=%{x}<br>year=1952<br>gdpPercap=%{y}<extra></extra>\", \"ids\": [\"Albania\", \"Austria\", \"Belgium\", \"Bosnia and Herzegovina\", \"Bulgaria\", \"Croatia\", \"Czech Republic\", \"Denmark\", \"Finland\", \"France\", \"Germany\", \"Greece\", \"Hungary\", \"Iceland\", \"Ireland\", \"Italy\", \"Montenegro\", \"Netherlands\", \"Norway\", \"Poland\", \"Portugal\", \"Romania\", \"Serbia\", \"Slovak Republic\", \"Slovenia\", \"Spain\", \"Sweden\", \"Switzerland\", \"Turkey\", \"United Kingdom\"], \"legendgroup\": \"Europe\", \"marker\": {\"color\": \"#EF553B\"}, \"name\": \"Europe\", \"offsetgroup\": \"Europe\", \"orientation\": \"v\", \"showlegend\": true, \"textposition\": \"auto\", \"x\": [\"Europe\", \"Europe\", \"Europe\", \"Europe\", \"Europe\", \"Europe\", \"Europe\", \"Europe\", \"Europe\", \"Europe\", \"Europe\", \"Europe\", \"Europe\", \"Europe\", \"Europe\", \"Europe\", \"Europe\", \"Europe\", \"Europe\", \"Europe\", \"Europe\", \"Europe\", \"Europe\", \"Europe\", \"Europe\", \"Europe\", \"Europe\", \"Europe\", \"Europe\", \"Europe\"], \"xaxis\": \"x\", \"y\": [1601.056136, 6137.076492, 8343.105126999999, 973.5331947999999, 2444.2866480000002, 3119.23652, 6876.14025, 9692.385245, 6424.519071, 7029.809327, 7144.114393000001, 3530.690067, 5263.6738159999995, 7267.688428, 5210.280328, 4931.404154999999, 2647.585601, 8941.571858, 10095.42172, 4029.3296990000003, 3068.319867, 3144.613186, 3581.4594479999996, 5074.659104, 4215.041741, 3834.0347420000003, 8527.844662000001, 14734.23275, 1969.1009800000002, 9979.508487000001], \"yaxis\": \"y\", \"type\": \"bar\"}, {\"alignmentgroup\": \"True\", \"hovertemplate\": \"continent=%{x}<br>year=1952<br>gdpPercap=%{y}<extra></extra>\", \"ids\": [\"Algeria\", \"Angola\", \"Benin\", \"Botswana\", \"Burkina Faso\", \"Burundi\", \"Cameroon\", \"Central African Republic\", \"Chad\", \"Comoros\", \"Congo, Dem. Rep.\", \"Congo, Rep.\", \"Cote d'Ivoire\", \"Djibouti\", \"Egypt\", \"Equatorial Guinea\", \"Eritrea\", \"Ethiopia\", \"Gabon\", \"Gambia\", \"Ghana\", \"Guinea\", \"Guinea-Bissau\", \"Kenya\", \"Lesotho\", \"Liberia\", \"Libya\", \"Madagascar\", \"Malawi\", \"Mali\", \"Mauritania\", \"Mauritius\", \"Morocco\", \"Mozambique\", \"Namibia\", \"Niger\", \"Nigeria\", \"Reunion\", \"Rwanda\", \"Sao Tome and Principe\", \"Senegal\", \"Sierra Leone\", \"Somalia\", \"South Africa\", \"Sudan\", \"Swaziland\", \"Tanzania\", \"Togo\", \"Tunisia\", \"Uganda\", \"Zambia\", \"Zimbabwe\"], \"legendgroup\": \"Africa\", \"marker\": {\"color\": \"#00cc96\"}, \"name\": \"Africa\", \"offsetgroup\": \"Africa\", \"orientation\": \"v\", \"showlegend\": true, \"textposition\": \"auto\", \"x\": [\"Africa\", \"Africa\", \"Africa\", \"Africa\", \"Africa\", \"Africa\", \"Africa\", \"Africa\", \"Africa\", \"Africa\", \"Africa\", \"Africa\", \"Africa\", \"Africa\", \"Africa\", \"Africa\", \"Africa\", \"Africa\", \"Africa\", \"Africa\", \"Africa\", \"Africa\", \"Africa\", \"Africa\", \"Africa\", \"Africa\", \"Africa\", \"Africa\", \"Africa\", \"Africa\", \"Africa\", \"Africa\", \"Africa\", \"Africa\", \"Africa\", \"Africa\", \"Africa\", \"Africa\", \"Africa\", \"Africa\", \"Africa\", \"Africa\", \"Africa\", \"Africa\", \"Africa\", \"Africa\", \"Africa\", \"Africa\", \"Africa\", \"Africa\", \"Africa\", \"Africa\"], \"xaxis\": \"x\", \"y\": [2449.008185, 3520.610273, 1062.7522, 851.2411407, 543.2552413, 339.29645869999996, 1172.667655, 1071.310713, 1178.665927, 1102.990936, 780.5423257, 2125.621418, 1388.594732, 2669.529475, 1418.822445, 375.6431231, 328.94055710000004, 362.1462796, 4293.476475, 485.2306591, 911.2989371, 510.19649230000005, 299.850319, 853.5409189999999, 298.8462121, 575.5729961000001, 2387.54806, 1443.011715, 369.1650802, 452.3369807, 743.1159097, 1967.955707, 1688.20357, 468.5260381, 2423.780443, 761.879376, 1077.281856, 2718.885295, 493.32387520000003, 879.5835855, 1450.356983, 879.7877358, 1135.749842, 4725.295531000001, 1615.991129, 1148.376626, 716.6500721, 859.8086567, 1468.475631, 734.753484, 1147.388831, 406.8841148], \"yaxis\": \"y\", \"type\": \"bar\"}, {\"alignmentgroup\": \"True\", \"hovertemplate\": \"continent=%{x}<br>year=1952<br>gdpPercap=%{y}<extra></extra>\", \"ids\": [\"Argentina\", \"Bolivia\", \"Brazil\", \"Canada\", \"Chile\", \"Colombia\", \"Costa Rica\", \"Cuba\", \"Dominican Republic\", \"Ecuador\", \"El Salvador\", \"Guatemala\", \"Haiti\", \"Honduras\", \"Jamaica\", \"Mexico\", \"Nicaragua\", \"Panama\", \"Paraguay\", \"Peru\", \"Puerto Rico\", \"Trinidad and Tobago\", \"United States\", \"Uruguay\", \"Venezuela\"], \"legendgroup\": \"Americas\", \"marker\": {\"color\": \"#ab63fa\"}, \"name\": \"Americas\", \"offsetgroup\": \"Americas\", \"orientation\": \"v\", \"showlegend\": true, \"textposition\": \"auto\", \"x\": [\"Americas\", \"Americas\", \"Americas\", \"Americas\", \"Americas\", \"Americas\", \"Americas\", \"Americas\", \"Americas\", \"Americas\", \"Americas\", \"Americas\", \"Americas\", \"Americas\", \"Americas\", \"Americas\", \"Americas\", \"Americas\", \"Americas\", \"Americas\", \"Americas\", \"Americas\", \"Americas\", \"Americas\", \"Americas\"], \"xaxis\": \"x\", \"y\": [5911.315053, 2677.3263469999997, 2108.944355, 11367.16112, 3939.9787890000002, 2144.115096, 2627.0094710000003, 5586.53878, 1397.7171369999999, 3522.110717, 3048.3029, 2428.2377690000003, 1840.366939, 2194.926204, 2898.5308809999997, 3478.125529, 3112.363948, 2480.380334, 1952.3087010000002, 3758.523437, 3081.959785, 3023.271928, 13990.482080000002, 5716.766744, 7689.799761], \"yaxis\": \"y\", \"type\": \"bar\"}, {\"alignmentgroup\": \"True\", \"hovertemplate\": \"continent=%{x}<br>year=1952<br>gdpPercap=%{y}<extra></extra>\", \"ids\": [\"Australia\", \"New Zealand\"], \"legendgroup\": \"Oceania\", \"marker\": {\"color\": \"#FFA15A\"}, \"name\": \"Oceania\", \"offsetgroup\": \"Oceania\", \"orientation\": \"v\", \"showlegend\": true, \"textposition\": \"auto\", \"x\": [\"Oceania\", \"Oceania\"], \"xaxis\": \"x\", \"y\": [10039.595640000001, 10556.575659999999], \"yaxis\": \"y\", \"type\": \"bar\"}], \"name\": \"1952\"}, {\"data\": [{\"alignmentgroup\": \"True\", \"hovertemplate\": \"continent=%{x}<br>year=1957<br>gdpPercap=%{y}<extra></extra>\", \"ids\": [\"Afghanistan\", \"Bahrain\", \"Bangladesh\", \"Cambodia\", \"China\", \"Hong Kong, China\", \"India\", \"Indonesia\", \"Iran\", \"Iraq\", \"Israel\", \"Japan\", \"Jordan\", \"Korea, Dem. Rep.\", \"Korea, Rep.\", \"Kuwait\", \"Lebanon\", \"Malaysia\", \"Mongolia\", \"Myanmar\", \"Nepal\", \"Oman\", \"Pakistan\", \"Philippines\", \"Saudi Arabia\", \"Singapore\", \"Sri Lanka\", \"Syria\", \"Taiwan\", \"Thailand\", \"Vietnam\", \"West Bank and Gaza\", \"Yemen, Rep.\"], \"legendgroup\": \"Asia\", \"marker\": {\"color\": \"#636efa\"}, \"name\": \"Asia\", \"offsetgroup\": \"Asia\", \"orientation\": \"v\", \"showlegend\": true, \"textposition\": \"auto\", \"x\": [\"Asia\", \"Asia\", \"Asia\", \"Asia\", \"Asia\", \"Asia\", \"Asia\", \"Asia\", \"Asia\", \"Asia\", \"Asia\", \"Asia\", \"Asia\", \"Asia\", \"Asia\", \"Asia\", \"Asia\", \"Asia\", \"Asia\", \"Asia\", \"Asia\", \"Asia\", \"Asia\", \"Asia\", \"Asia\", \"Asia\", \"Asia\", \"Asia\", \"Asia\", \"Asia\", \"Asia\", \"Asia\", \"Asia\"], \"xaxis\": \"x\", \"y\": [820.8530296, 11635.79945, 661.6374577, 434.0383364, 575.9870009, 3629.076457, 590.061996, 858.9002707000001, 3290.257643, 6229.333562, 5385.278451, 4317.694365, 1886.080591, 1571.134655, 1487.593537, 113523.1329, 6089.786934000001, 1810.0669920000003, 912.6626085, 350.0, 597.9363557999999, 2242.746551, 747.0835292, 1547.9448439999999, 8157.591248000001, 2843.104409, 1072.546602, 2117.234893, 1507.86129, 793.5774147999999, 676.2854477999999, 1827.0677420000002, 804.8304547], \"yaxis\": \"y\", \"type\": \"bar\"}, {\"alignmentgroup\": \"True\", \"hovertemplate\": \"continent=%{x}<br>year=1957<br>gdpPercap=%{y}<extra></extra>\", \"ids\": [\"Albania\", \"Austria\", \"Belgium\", \"Bosnia and Herzegovina\", \"Bulgaria\", \"Croatia\", \"Czech Republic\", \"Denmark\", \"Finland\", \"France\", \"Germany\", \"Greece\", \"Hungary\", \"Iceland\", \"Ireland\", \"Italy\", \"Montenegro\", \"Netherlands\", \"Norway\", \"Poland\", \"Portugal\", \"Romania\", \"Serbia\", \"Slovak Republic\", \"Slovenia\", \"Spain\", \"Sweden\", \"Switzerland\", \"Turkey\", \"United Kingdom\"], \"legendgroup\": \"Europe\", \"marker\": {\"color\": \"#EF553B\"}, \"name\": \"Europe\", \"offsetgroup\": \"Europe\", \"orientation\": \"v\", \"showlegend\": true, \"textposition\": \"auto\", \"x\": [\"Europe\", \"Europe\", \"Europe\", \"Europe\", \"Europe\", \"Europe\", \"Europe\", \"Europe\", \"Europe\", \"Europe\", \"Europe\", \"Europe\", \"Europe\", \"Europe\", \"Europe\", \"Europe\", \"Europe\", \"Europe\", \"Europe\", \"Europe\", \"Europe\", \"Europe\", \"Europe\", \"Europe\", \"Europe\", \"Europe\", \"Europe\", \"Europe\", \"Europe\", \"Europe\"], \"xaxis\": \"x\", \"y\": [1942.2842440000002, 8842.59803, 9714.960623, 1353.989176, 3008.670727, 4338.231617, 8256.343918, 11099.65935, 7545.415386, 8662.834898000001, 10187.82665, 4916.299889, 6040.180011, 9244.001412, 5599.077872, 6248.656232, 3682.259903, 11276.193440000001, 11653.97304, 4734.253019, 3774.571743, 3943.370225, 4981.090891, 6093.2629799999995, 5862.276629, 4564.80241, 9911.878226, 17909.48973, 2218.754257, 11283.17795], \"yaxis\": \"y\", \"type\": \"bar\"}, {\"alignmentgroup\": \"True\", \"hovertemplate\": \"continent=%{x}<br>year=1957<br>gdpPercap=%{y}<extra></extra>\", \"ids\": [\"Algeria\", \"Angola\", \"Benin\", \"Botswana\", \"Burkina Faso\", \"Burundi\", \"Cameroon\", \"Central African Republic\", \"Chad\", \"Comoros\", \"Congo, Dem. Rep.\", \"Congo, Rep.\", \"Cote d'Ivoire\", \"Djibouti\", \"Egypt\", \"Equatorial Guinea\", \"Eritrea\", \"Ethiopia\", \"Gabon\", \"Gambia\", \"Ghana\", \"Guinea\", \"Guinea-Bissau\", \"Kenya\", \"Lesotho\", \"Liberia\", \"Libya\", \"Madagascar\", \"Malawi\", \"Mali\", \"Mauritania\", \"Mauritius\", \"Morocco\", \"Mozambique\", \"Namibia\", \"Niger\", \"Nigeria\", \"Reunion\", \"Rwanda\", \"Sao Tome and Principe\", \"Senegal\", \"Sierra Leone\", \"Somalia\", \"South Africa\", \"Sudan\", \"Swaziland\", \"Tanzania\", \"Togo\", \"Tunisia\", \"Uganda\", \"Zambia\", \"Zimbabwe\"], \"legendgroup\": \"Africa\", \"marker\": {\"color\": \"#00cc96\"}, \"name\": \"Africa\", \"offsetgroup\": \"Africa\", \"orientation\": \"v\", \"showlegend\": true, \"textposition\": \"auto\", \"x\": [\"Africa\", \"Africa\", \"Africa\", \"Africa\", \"Africa\", \"Africa\", \"Africa\", \"Africa\", \"Africa\", \"Africa\", \"Africa\", \"Africa\", \"Africa\", \"Africa\", \"Africa\", \"Africa\", \"Africa\", \"Africa\", \"Africa\", \"Africa\", \"Africa\", \"Africa\", \"Africa\", \"Africa\", \"Africa\", \"Africa\", \"Africa\", \"Africa\", \"Africa\", \"Africa\", \"Africa\", \"Africa\", \"Africa\", \"Africa\", \"Africa\", \"Africa\", \"Africa\", \"Africa\", \"Africa\", \"Africa\", \"Africa\", \"Africa\", \"Africa\", \"Africa\", \"Africa\", \"Africa\", \"Africa\", \"Africa\", \"Africa\", \"Africa\", \"Africa\", \"Africa\"], \"xaxis\": \"x\", \"y\": [3013.976023, 3827.9404649999997, 959.6010805, 918.2325348999999, 617.1834647999999, 379.56462810000005, 1313.048099, 1190.844328, 1308.495577, 1211.1485480000001, 905.8602302999999, 2315.056572, 1500.895925, 2864.9690760000003, 1458.915272, 426.0964081, 344.16188589999996, 378.90416319999997, 4976.198099, 520.9267111, 1043.5615369999998, 576.2670245, 431.7904566000001, 944.4383152, 335.99711510000003, 620.9699901, 3448.284395, 1589.20275, 416.36980639999996, 490.3821867, 846.1202613, 2034.037981, 1642.002314, 495.5868333000001, 2621.448058, 835.5234025000001, 1100.5925630000002, 2769.451844, 540.2893982999999, 860.7369026, 1567.653006, 1004.484437, 1258.1474130000001, 5487.104219, 1770.3370739999998, 1244.708364, 698.5356073, 925.9083201999999, 1395.232468, 774.3710692000001, 1311.956766, 518.7642681], \"yaxis\": \"y\", \"type\": \"bar\"}, {\"alignmentgroup\": \"True\", \"hovertemplate\": \"continent=%{x}<br>year=1957<br>gdpPercap=%{y}<extra></extra>\", \"ids\": [\"Argentina\", \"Bolivia\", \"Brazil\", \"Canada\", \"Chile\", \"Colombia\", \"Costa Rica\", \"Cuba\", \"Dominican Republic\", \"Ecuador\", \"El Salvador\", \"Guatemala\", \"Haiti\", \"Honduras\", \"Jamaica\", \"Mexico\", \"Nicaragua\", \"Panama\", \"Paraguay\", \"Peru\", \"Puerto Rico\", \"Trinidad and Tobago\", \"United States\", \"Uruguay\", \"Venezuela\"], \"legendgroup\": \"Americas\", \"marker\": {\"color\": \"#ab63fa\"}, \"name\": \"Americas\", \"offsetgroup\": \"Americas\", \"orientation\": \"v\", \"showlegend\": true, \"textposition\": \"auto\", \"x\": [\"Americas\", \"Americas\", \"Americas\", \"Americas\", \"Americas\", \"Americas\", \"Americas\", \"Americas\", \"Americas\", \"Americas\", \"Americas\", \"Americas\", \"Americas\", \"Americas\", \"Americas\", \"Americas\", \"Americas\", \"Americas\", \"Americas\", \"Americas\", \"Americas\", \"Americas\", \"Americas\", \"Americas\", \"Americas\"], \"xaxis\": \"x\", \"y\": [6856.856212000001, 2127.686326, 2487.365989, 12489.95006, 4315.6227229999995, 2323.805581, 2990.010802, 6092.174359000001, 1544.402995, 3780.5466509999997, 3421.523218, 2617.155967, 1726.887882, 2220.487682, 4756.525781, 4131.546641, 3457.415947, 2961.800905, 2046.1547059999998, 4245.256697999999, 3907.1561890000003, 4100.3934, 14847.12712, 6150.772969, 9802.466526], \"yaxis\": \"y\", \"type\": \"bar\"}, {\"alignmentgroup\": \"True\", \"hovertemplate\": \"continent=%{x}<br>year=1957<br>gdpPercap=%{y}<extra></extra>\", \"ids\": [\"Australia\", \"New Zealand\"], \"legendgroup\": \"Oceania\", \"marker\": {\"color\": \"#FFA15A\"}, \"name\": \"Oceania\", \"offsetgroup\": \"Oceania\", \"orientation\": \"v\", \"showlegend\": true, \"textposition\": \"auto\", \"x\": [\"Oceania\", \"Oceania\"], \"xaxis\": \"x\", \"y\": [10949.64959, 12247.39532], \"yaxis\": \"y\", \"type\": \"bar\"}], \"name\": \"1957\"}, {\"data\": [{\"alignmentgroup\": \"True\", \"hovertemplate\": \"continent=%{x}<br>year=1962<br>gdpPercap=%{y}<extra></extra>\", \"ids\": [\"Afghanistan\", \"Bahrain\", \"Bangladesh\", \"Cambodia\", \"China\", \"Hong Kong, China\", \"India\", \"Indonesia\", \"Iran\", \"Iraq\", \"Israel\", \"Japan\", \"Jordan\", \"Korea, Dem. Rep.\", \"Korea, Rep.\", \"Kuwait\", \"Lebanon\", \"Malaysia\", \"Mongolia\", \"Myanmar\", \"Nepal\", \"Oman\", \"Pakistan\", \"Philippines\", \"Saudi Arabia\", \"Singapore\", \"Sri Lanka\", \"Syria\", \"Taiwan\", \"Thailand\", \"Vietnam\", \"West Bank and Gaza\", \"Yemen, Rep.\"], \"legendgroup\": \"Asia\", \"marker\": {\"color\": \"#636efa\"}, \"name\": \"Asia\", \"offsetgroup\": \"Asia\", \"orientation\": \"v\", \"showlegend\": true, \"textposition\": \"auto\", \"x\": [\"Asia\", \"Asia\", \"Asia\", \"Asia\", \"Asia\", \"Asia\", \"Asia\", \"Asia\", \"Asia\", \"Asia\", \"Asia\", \"Asia\", \"Asia\", \"Asia\", \"Asia\", \"Asia\", \"Asia\", \"Asia\", \"Asia\", \"Asia\", \"Asia\", \"Asia\", \"Asia\", \"Asia\", \"Asia\", \"Asia\", \"Asia\", \"Asia\", \"Asia\", \"Asia\", \"Asia\", \"Asia\", \"Asia\"], \"xaxis\": \"x\", \"y\": [853.1007099999999, 12753.27514, 686.3415537999999, 496.9136476, 487.6740183, 4692.648271999999, 658.3471509, 849.2897700999999, 4187.329802, 8341.737815, 7105.630706, 6576.649461, 2348.009158, 1621.693598, 1536.3443869999999, 95458.11176, 5714.560611, 2036.8849440000001, 1056.353958, 388.0, 652.3968593, 2924.638113, 803.3427418, 1649.5521529999999, 11626.41975, 3674.735572, 1074.4719599999999, 2193.037133, 1822.879028, 1002.1991720000001, 772.0491602000001, 2198.9563120000003, 825.6232006], \"yaxis\": \"y\", \"type\": \"bar\"}, {\"alignmentgroup\": \"True\", \"hovertemplate\": \"continent=%{x}<br>year=1962<br>gdpPercap=%{y}<extra></extra>\", \"ids\": [\"Albania\", \"Austria\", \"Belgium\", \"Bosnia and Herzegovina\", \"Bulgaria\", \"Croatia\", \"Czech Republic\", \"Denmark\", \"Finland\", \"France\", \"Germany\", \"Greece\", \"Hungary\", \"Iceland\", \"Ireland\", \"Italy\", \"Montenegro\", \"Netherlands\", \"Norway\", \"Poland\", \"Portugal\", \"Romania\", \"Serbia\", \"Slovak Republic\", \"Slovenia\", \"Spain\", \"Sweden\", \"Switzerland\", \"Turkey\", \"United Kingdom\"], \"legendgroup\": \"Europe\", \"marker\": {\"color\": \"#EF553B\"}, \"name\": \"Europe\", \"offsetgroup\": \"Europe\", \"orientation\": \"v\", \"showlegend\": true, \"textposition\": \"auto\", \"x\": [\"Europe\", \"Europe\", \"Europe\", \"Europe\", \"Europe\", \"Europe\", \"Europe\", \"Europe\", \"Europe\", \"Europe\", \"Europe\", \"Europe\", \"Europe\", \"Europe\", \"Europe\", \"Europe\", \"Europe\", \"Europe\", \"Europe\", \"Europe\", \"Europe\", \"Europe\", \"Europe\", \"Europe\", \"Europe\", \"Europe\", \"Europe\", \"Europe\", \"Europe\", \"Europe\"], \"xaxis\": \"x\", \"y\": [2312.888958, 10750.721109999999, 10991.20676, 1709.683679, 4254.337839, 5477.890018, 10136.86713, 13583.31351, 9371.842561, 10560.48553, 12902.46291, 6017.190732999999, 7550.359877, 10350.15906, 6631.597314, 8243.58234, 4649.593785, 12790.849559999999, 13450.40151, 5338.752143, 4727.954889, 4734.9975859999995, 6289.629157, 7481.1075980000005, 7402.303395, 5693.843879, 12329.441920000001, 20431.0927, 2322.8699079999997, 12477.17707], \"yaxis\": \"y\", \"type\": \"bar\"}, {\"alignmentgroup\": \"True\", \"hovertemplate\": \"continent=%{x}<br>year=1962<br>gdpPercap=%{y}<extra></extra>\", \"ids\": [\"Algeria\", \"Angola\", \"Benin\", \"Botswana\", \"Burkina Faso\", \"Burundi\", \"Cameroon\", \"Central African Republic\", \"Chad\", \"Comoros\", \"Congo, Dem. Rep.\", \"Congo, Rep.\", \"Cote d'Ivoire\", \"Djibouti\", \"Egypt\", \"Equatorial Guinea\", \"Eritrea\", \"Ethiopia\", \"Gabon\", \"Gambia\", \"Ghana\", \"Guinea\", \"Guinea-Bissau\", \"Kenya\", \"Lesotho\", \"Liberia\", \"Libya\", \"Madagascar\", \"Malawi\", \"Mali\", \"Mauritania\", \"Mauritius\", \"Morocco\", \"Mozambique\", \"Namibia\", \"Niger\", \"Nigeria\", \"Reunion\", \"Rwanda\", \"Sao Tome and Principe\", \"Senegal\", \"Sierra Leone\", \"Somalia\", \"South Africa\", \"Sudan\", \"Swaziland\", \"Tanzania\", \"Togo\", \"Tunisia\", \"Uganda\", \"Zambia\", \"Zimbabwe\"], \"legendgroup\": \"Africa\", \"marker\": {\"color\": \"#00cc96\"}, \"name\": \"Africa\", \"offsetgroup\": \"Africa\", \"orientation\": \"v\", \"showlegend\": true, \"textposition\": \"auto\", \"x\": [\"Africa\", \"Africa\", \"Africa\", \"Africa\", \"Africa\", \"Africa\", \"Africa\", \"Africa\", \"Africa\", \"Africa\", \"Africa\", \"Africa\", \"Africa\", \"Africa\", \"Africa\", \"Africa\", \"Africa\", \"Africa\", \"Africa\", \"Africa\", \"Africa\", \"Africa\", \"Africa\", \"Africa\", \"Africa\", \"Africa\", \"Africa\", \"Africa\", \"Africa\", \"Africa\", \"Africa\", \"Africa\", \"Africa\", \"Africa\", \"Africa\", \"Africa\", \"Africa\", \"Africa\", \"Africa\", \"Africa\", \"Africa\", \"Africa\", \"Africa\", \"Africa\", \"Africa\", \"Africa\", \"Africa\", \"Africa\", \"Africa\", \"Africa\", \"Africa\", \"Africa\"], \"xaxis\": \"x\", \"y\": [2550.81688, 4269.276742, 949.4990641, 983.6539764, 722.5120206, 355.2032273, 1399.607441, 1193.068753, 1389.817618, 1406.648278, 896.3146335000001, 2464.783157, 1728.8694280000002, 3020.989263, 1693.335853, 582.8419713999999, 380.99584330000005, 419.4564161, 6631.4592219999995, 599.650276, 1190.0411179999999, 686.3736739, 522.0343725, 896.9663732, 411.80062660000004, 634.1951625, 6757.0308159999995, 1643.38711, 427.90108560000004, 496.17434280000003, 1055.8960359999999, 2529.0674870000003, 1566.353493, 556.6863539, 3173.215595, 997.7661127, 1150.9274779999998, 3173.72334, 597.4730727000001, 1071.551119, 1654.988723, 1116.6398769999998, 1369.488336, 5768.729717, 1959.593767, 1856.182125, 722.0038073, 1067.5348099999999, 1660.30321, 767.2717397999999, 1452.725766, 527.2721818], \"yaxis\": \"y\", \"type\": \"bar\"}, {\"alignmentgroup\": \"True\", \"hovertemplate\": \"continent=%{x}<br>year=1962<br>gdpPercap=%{y}<extra></extra>\", \"ids\": [\"Argentina\", \"Bolivia\", \"Brazil\", \"Canada\", \"Chile\", \"Colombia\", \"Costa Rica\", \"Cuba\", \"Dominican Republic\", \"Ecuador\", \"El Salvador\", \"Guatemala\", \"Haiti\", \"Honduras\", \"Jamaica\", \"Mexico\", \"Nicaragua\", \"Panama\", \"Paraguay\", \"Peru\", \"Puerto Rico\", \"Trinidad and Tobago\", \"United States\", \"Uruguay\", \"Venezuela\"], \"legendgroup\": \"Americas\", \"marker\": {\"color\": \"#ab63fa\"}, \"name\": \"Americas\", \"offsetgroup\": \"Americas\", \"orientation\": \"v\", \"showlegend\": true, \"textposition\": \"auto\", \"x\": [\"Americas\", \"Americas\", \"Americas\", \"Americas\", \"Americas\", \"Americas\", \"Americas\", \"Americas\", \"Americas\", \"Americas\", \"Americas\", \"Americas\", \"Americas\", \"Americas\", \"Americas\", \"Americas\", \"Americas\", \"Americas\", \"Americas\", \"Americas\", \"Americas\", \"Americas\", \"Americas\", \"Americas\", \"Americas\"], \"xaxis\": \"x\", \"y\": [7133.166023000001, 2180.972546, 3336.585802, 13462.48555, 4519.094331, 2492.351109, 3460.937025, 5180.75591, 1662.137359, 4086.114078, 3776.8036270000002, 2750.364446, 1796.589032, 2291.1568350000002, 5246.107524, 4581.609385, 3634.364406, 3536.540301, 2148.027146, 4957.037982, 5108.34463, 4997.5239710000005, 16173.145859999999, 5603.357717, 8422.974165000001], \"yaxis\": \"y\", \"type\": \"bar\"}, {\"alignmentgroup\": \"True\", \"hovertemplate\": \"continent=%{x}<br>year=1962<br>gdpPercap=%{y}<extra></extra>\", \"ids\": [\"Australia\", \"New Zealand\"], \"legendgroup\": \"Oceania\", \"marker\": {\"color\": \"#FFA15A\"}, \"name\": \"Oceania\", \"offsetgroup\": \"Oceania\", \"orientation\": \"v\", \"showlegend\": true, \"textposition\": \"auto\", \"x\": [\"Oceania\", \"Oceania\"], \"xaxis\": \"x\", \"y\": [12217.226859999999, 13175.678], \"yaxis\": \"y\", \"type\": \"bar\"}], \"name\": \"1962\"}, {\"data\": [{\"alignmentgroup\": \"True\", \"hovertemplate\": \"continent=%{x}<br>year=1967<br>gdpPercap=%{y}<extra></extra>\", \"ids\": [\"Afghanistan\", \"Bahrain\", \"Bangladesh\", \"Cambodia\", \"China\", \"Hong Kong, China\", \"India\", \"Indonesia\", \"Iran\", \"Iraq\", \"Israel\", \"Japan\", \"Jordan\", \"Korea, Dem. Rep.\", \"Korea, Rep.\", \"Kuwait\", \"Lebanon\", \"Malaysia\", \"Mongolia\", \"Myanmar\", \"Nepal\", \"Oman\", \"Pakistan\", \"Philippines\", \"Saudi Arabia\", \"Singapore\", \"Sri Lanka\", \"Syria\", \"Taiwan\", \"Thailand\", \"Vietnam\", \"West Bank and Gaza\", \"Yemen, Rep.\"], \"legendgroup\": \"Asia\", \"marker\": {\"color\": \"#636efa\"}, \"name\": \"Asia\", \"offsetgroup\": \"Asia\", \"orientation\": \"v\", \"showlegend\": true, \"textposition\": \"auto\", \"x\": [\"Asia\", \"Asia\", \"Asia\", \"Asia\", \"Asia\", \"Asia\", \"Asia\", \"Asia\", \"Asia\", \"Asia\", \"Asia\", \"Asia\", \"Asia\", \"Asia\", \"Asia\", \"Asia\", \"Asia\", \"Asia\", \"Asia\", \"Asia\", \"Asia\", \"Asia\", \"Asia\", \"Asia\", \"Asia\", \"Asia\", \"Asia\", \"Asia\", \"Asia\", \"Asia\", \"Asia\", \"Asia\", \"Asia\"], \"xaxis\": \"x\", \"y\": [836.1971382, 14804.6727, 721.1860862000001, 523.4323142, 612.7056934, 6197.962814, 700.7706107000001, 762.4317721, 5906.731804999999, 8931.459811, 8393.741404, 9847.788606999999, 2741.796252, 2143.540609, 2029.2281420000002, 80894.88326, 6006.983042, 2277.742396, 1226.04113, 349.0, 676.4422254, 4720.942687, 942.4082588, 1814.12743, 16903.04886, 4977.41854, 1135.514326, 1881.923632, 2643.8586809999997, 1295.46066, 637.1232887, 2649.7150070000002, 862.4421463], \"yaxis\": \"y\", \"type\": \"bar\"}, {\"alignmentgroup\": \"True\", \"hovertemplate\": \"continent=%{x}<br>year=1967<br>gdpPercap=%{y}<extra></extra>\", \"ids\": [\"Albania\", \"Austria\", \"Belgium\", \"Bosnia and Herzegovina\", \"Bulgaria\", \"Croatia\", \"Czech Republic\", \"Denmark\", \"Finland\", \"France\", \"Germany\", \"Greece\", \"Hungary\", \"Iceland\", \"Ireland\", \"Italy\", \"Montenegro\", \"Netherlands\", \"Norway\", \"Poland\", \"Portugal\", \"Romania\", \"Serbia\", \"Slovak Republic\", \"Slovenia\", \"Spain\", \"Sweden\", \"Switzerland\", \"Turkey\", \"United Kingdom\"], \"legendgroup\": \"Europe\", \"marker\": {\"color\": \"#EF553B\"}, \"name\": \"Europe\", \"offsetgroup\": \"Europe\", \"orientation\": \"v\", \"showlegend\": true, \"textposition\": \"auto\", \"x\": [\"Europe\", \"Europe\", \"Europe\", \"Europe\", \"Europe\", \"Europe\", \"Europe\", \"Europe\", \"Europe\", \"Europe\", \"Europe\", \"Europe\", \"Europe\", \"Europe\", \"Europe\", \"Europe\", \"Europe\", \"Europe\", \"Europe\", \"Europe\", \"Europe\", \"Europe\", \"Europe\", \"Europe\", \"Europe\", \"Europe\", \"Europe\", \"Europe\", \"Europe\", \"Europe\"], \"xaxis\": \"x\", \"y\": [2760.196931, 12834.6024, 13149.04119, 2172.3524230000003, 5577.0028, 6960.297861, 11399.44489, 15937.21123, 10921.63626, 12999.91766, 14745.62561, 8513.097016, 9326.64467, 13319.89568, 7655.568963, 10022.40131, 5907.850937, 15363.25136, 16361.87647, 6557.152776, 6361.517993, 6470.866545, 7991.707066, 8412.902397, 9405.489397, 7993.512294, 15258.29697, 22966.14432, 2826.3563870000003, 14142.85089], \"yaxis\": \"y\", \"type\": \"bar\"}, {\"alignmentgroup\": \"True\", \"hovertemplate\": \"continent=%{x}<br>year=1967<br>gdpPercap=%{y}<extra></extra>\", \"ids\": [\"Algeria\", \"Angola\", \"Benin\", \"Botswana\", \"Burkina Faso\", \"Burundi\", \"Cameroon\", \"Central African Republic\", \"Chad\", \"Comoros\", \"Congo, Dem. Rep.\", \"Congo, Rep.\", \"Cote d'Ivoire\", \"Djibouti\", \"Egypt\", \"Equatorial Guinea\", \"Eritrea\", \"Ethiopia\", \"Gabon\", \"Gambia\", \"Ghana\", \"Guinea\", \"Guinea-Bissau\", \"Kenya\", \"Lesotho\", \"Liberia\", \"Libya\", \"Madagascar\", \"Malawi\", \"Mali\", \"Mauritania\", \"Mauritius\", \"Morocco\", \"Mozambique\", \"Namibia\", \"Niger\", \"Nigeria\", \"Reunion\", \"Rwanda\", \"Sao Tome and Principe\", \"Senegal\", \"Sierra Leone\", \"Somalia\", \"South Africa\", \"Sudan\", \"Swaziland\", \"Tanzania\", \"Togo\", \"Tunisia\", \"Uganda\", \"Zambia\", \"Zimbabwe\"], \"legendgroup\": \"Africa\", \"marker\": {\"color\": \"#00cc96\"}, \"name\": \"Africa\", \"offsetgroup\": \"Africa\", \"orientation\": \"v\", \"showlegend\": true, \"textposition\": \"auto\", \"x\": [\"Africa\", \"Africa\", \"Africa\", \"Africa\", \"Africa\", \"Africa\", \"Africa\", \"Africa\", \"Africa\", \"Africa\", \"Africa\", \"Africa\", \"Africa\", \"Africa\", \"Africa\", \"Africa\", \"Africa\", \"Africa\", \"Africa\", \"Africa\", \"Africa\", \"Africa\", \"Africa\", \"Africa\", \"Africa\", \"Africa\", \"Africa\", \"Africa\", \"Africa\", \"Africa\", \"Africa\", \"Africa\", \"Africa\", \"Africa\", \"Africa\", \"Africa\", \"Africa\", \"Africa\", \"Africa\", \"Africa\", \"Africa\", \"Africa\", \"Africa\", \"Africa\", \"Africa\", \"Africa\", \"Africa\", \"Africa\", \"Africa\", \"Africa\", \"Africa\", \"Africa\"], \"xaxis\": \"x\", \"y\": [3246.991771, 5522.776375, 1035.831411, 1214.709294, 794.8265597, 412.97751360000007, 1508.453148, 1136.056615, 1196.810565, 1876.029643, 861.5932424, 2677.9396420000003, 2052.0504730000002, 3020.0505129999997, 1814.880728, 915.5960025, 468.7949699, 516.1186438, 8358.761987, 734.7829124, 1125.69716, 708.7595409, 715.5806402000001, 1056.736457, 498.63902649999994, 713.6036482999999, 18772.75169, 1634.047282, 495.5147806, 545.0098873, 1421.145193, 2475.387562, 1711.04477, 566.6691539, 3793.694753, 1054.384891, 1014.5141039999999, 4021.1757390000002, 510.9637142, 1384.840593, 1612.404632, 1206.043465, 1284.7331800000002, 7114.477970999999, 1687.997641, 2613.1016649999997, 848.2186575, 1477.59676, 1932.3601670000003, 908.9185217, 1777.0773179999999, 569.7950712], \"yaxis\": \"y\", \"type\": \"bar\"}, {\"alignmentgroup\": \"True\", \"hovertemplate\": \"continent=%{x}<br>year=1967<br>gdpPercap=%{y}<extra></extra>\", \"ids\": [\"Argentina\", \"Bolivia\", \"Brazil\", \"Canada\", \"Chile\", \"Colombia\", \"Costa Rica\", \"Cuba\", \"Dominican Republic\", \"Ecuador\", \"El Salvador\", \"Guatemala\", \"Haiti\", \"Honduras\", \"Jamaica\", \"Mexico\", \"Nicaragua\", \"Panama\", \"Paraguay\", \"Peru\", \"Puerto Rico\", \"Trinidad and Tobago\", \"United States\", \"Uruguay\", \"Venezuela\"], \"legendgroup\": \"Americas\", \"marker\": {\"color\": \"#ab63fa\"}, \"name\": \"Americas\", \"offsetgroup\": \"Americas\", \"orientation\": \"v\", \"showlegend\": true, \"textposition\": \"auto\", \"x\": [\"Americas\", \"Americas\", \"Americas\", \"Americas\", \"Americas\", \"Americas\", \"Americas\", \"Americas\", \"Americas\", \"Americas\", \"Americas\", \"Americas\", \"Americas\", \"Americas\", \"Americas\", \"Americas\", \"Americas\", \"Americas\", \"Americas\", \"Americas\", \"Americas\", \"Americas\", \"Americas\", \"Americas\", \"Americas\"], \"xaxis\": \"x\", \"y\": [8052.953020999999, 2586.886053, 3429.864357, 16076.58803, 5106.654313, 2678.729839, 4161.727834, 5690.268015, 1653.7230029999998, 4579.074215, 4358.595393, 3242.5311469999997, 1452.057666, 2538.269358, 6124.703450999999, 5754.733883, 4643.393534000001, 4421.009084, 2299.376311, 5788.09333, 6929.277714, 5621.368472, 19530.365569999998, 5444.61962, 9541.474188], \"yaxis\": \"y\", \"type\": \"bar\"}, {\"alignmentgroup\": \"True\", \"hovertemplate\": \"continent=%{x}<br>year=1967<br>gdpPercap=%{y}<extra></extra>\", \"ids\": [\"Australia\", \"New Zealand\"], \"legendgroup\": \"Oceania\", \"marker\": {\"color\": \"#FFA15A\"}, \"name\": \"Oceania\", \"offsetgroup\": \"Oceania\", \"orientation\": \"v\", \"showlegend\": true, \"textposition\": \"auto\", \"x\": [\"Oceania\", \"Oceania\"], \"xaxis\": \"x\", \"y\": [14526.12465, 14463.918930000002], \"yaxis\": \"y\", \"type\": \"bar\"}], \"name\": \"1967\"}, {\"data\": [{\"alignmentgroup\": \"True\", \"hovertemplate\": \"continent=%{x}<br>year=1972<br>gdpPercap=%{y}<extra></extra>\", \"ids\": [\"Afghanistan\", \"Bahrain\", \"Bangladesh\", \"Cambodia\", \"China\", \"Hong Kong, China\", \"India\", \"Indonesia\", \"Iran\", \"Iraq\", \"Israel\", \"Japan\", \"Jordan\", \"Korea, Dem. Rep.\", \"Korea, Rep.\", \"Kuwait\", \"Lebanon\", \"Malaysia\", \"Mongolia\", \"Myanmar\", \"Nepal\", \"Oman\", \"Pakistan\", \"Philippines\", \"Saudi Arabia\", \"Singapore\", \"Sri Lanka\", \"Syria\", \"Taiwan\", \"Thailand\", \"Vietnam\", \"West Bank and Gaza\", \"Yemen, Rep.\"], \"legendgroup\": \"Asia\", \"marker\": {\"color\": \"#636efa\"}, \"name\": \"Asia\", \"offsetgroup\": \"Asia\", \"orientation\": \"v\", \"showlegend\": true, \"textposition\": \"auto\", \"x\": [\"Asia\", \"Asia\", \"Asia\", \"Asia\", \"Asia\", \"Asia\", \"Asia\", \"Asia\", \"Asia\", \"Asia\", \"Asia\", \"Asia\", \"Asia\", \"Asia\", \"Asia\", \"Asia\", \"Asia\", \"Asia\", \"Asia\", \"Asia\", \"Asia\", \"Asia\", \"Asia\", \"Asia\", \"Asia\", \"Asia\", \"Asia\", \"Asia\", \"Asia\", \"Asia\", \"Asia\", \"Asia\", \"Asia\"], \"xaxis\": \"x\", \"y\": [739.9811057999999, 18268.65839, 630.2336265, 421.6240257, 676.9000921, 8315.928145, 724.032527, 1111.107907, 9613.818607, 9576.037596, 12786.93223, 14778.78636, 2110.856309, 3701.6215030000003, 3030.87665, 109347.867, 7486.384341, 2849.09478, 1421.741975, 357.0, 674.7881296, 10618.03855, 1049.938981, 1989.3740699999998, 24837.42865, 8597.756202, 1213.39553, 2571.423014, 4062.523897, 1524.3589359999999, 699.5016441, 3133.4092769999997, 1265.047031], \"yaxis\": \"y\", \"type\": \"bar\"}, {\"alignmentgroup\": \"True\", \"hovertemplate\": \"continent=%{x}<br>year=1972<br>gdpPercap=%{y}<extra></extra>\", \"ids\": [\"Albania\", \"Austria\", \"Belgium\", \"Bosnia and Herzegovina\", \"Bulgaria\", \"Croatia\", \"Czech Republic\", \"Denmark\", \"Finland\", \"France\", \"Germany\", \"Greece\", \"Hungary\", \"Iceland\", \"Ireland\", \"Italy\", \"Montenegro\", \"Netherlands\", \"Norway\", \"Poland\", \"Portugal\", \"Romania\", \"Serbia\", \"Slovak Republic\", \"Slovenia\", \"Spain\", \"Sweden\", \"Switzerland\", \"Turkey\", \"United Kingdom\"], \"legendgroup\": \"Europe\", \"marker\": {\"color\": \"#EF553B\"}, \"name\": \"Europe\", \"offsetgroup\": \"Europe\", \"orientation\": \"v\", \"showlegend\": true, \"textposition\": \"auto\", \"x\": [\"Europe\", \"Europe\", \"Europe\", \"Europe\", \"Europe\", \"Europe\", \"Europe\", \"Europe\", \"Europe\", \"Europe\", \"Europe\", \"Europe\", \"Europe\", \"Europe\", \"Europe\", \"Europe\", \"Europe\", \"Europe\", \"Europe\", \"Europe\", \"Europe\", \"Europe\", \"Europe\", \"Europe\", \"Europe\", \"Europe\", \"Europe\", \"Europe\", \"Europe\", \"Europe\"], \"xaxis\": \"x\", \"y\": [3313.422188, 16661.6256, 16672.14356, 2860.16975, 6597.494398, 9164.090127, 13108.4536, 18866.20721, 14358.8759, 16107.19171, 18016.180269999997, 12724.82957, 10168.65611, 15798.063619999999, 9530.772895999999, 12269.27378, 7778.414017, 18794.74567, 18965.05551, 8006.506993000001, 9022.247417, 8011.414401999999, 10522.067490000001, 9674.167626, 12383.4862, 10638.75131, 17832.02464, 27195.113039999997, 3450.69638, 15895.116409999999], \"yaxis\": \"y\", \"type\": \"bar\"}, {\"alignmentgroup\": \"True\", \"hovertemplate\": \"continent=%{x}<br>year=1972<br>gdpPercap=%{y}<extra></extra>\", \"ids\": [\"Algeria\", \"Angola\", \"Benin\", \"Botswana\", \"Burkina Faso\", \"Burundi\", \"Cameroon\", \"Central African Republic\", \"Chad\", \"Comoros\", \"Congo, Dem. Rep.\", \"Congo, Rep.\", \"Cote d'Ivoire\", \"Djibouti\", \"Egypt\", \"Equatorial Guinea\", \"Eritrea\", \"Ethiopia\", \"Gabon\", \"Gambia\", \"Ghana\", \"Guinea\", \"Guinea-Bissau\", \"Kenya\", \"Lesotho\", \"Liberia\", \"Libya\", \"Madagascar\", \"Malawi\", \"Mali\", \"Mauritania\", \"Mauritius\", \"Morocco\", \"Mozambique\", \"Namibia\", \"Niger\", \"Nigeria\", \"Reunion\", \"Rwanda\", \"Sao Tome and Principe\", \"Senegal\", \"Sierra Leone\", \"Somalia\", \"South Africa\", \"Sudan\", \"Swaziland\", \"Tanzania\", \"Togo\", \"Tunisia\", \"Uganda\", \"Zambia\", \"Zimbabwe\"], \"legendgroup\": \"Africa\", \"marker\": {\"color\": \"#00cc96\"}, \"name\": \"Africa\", \"offsetgroup\": \"Africa\", \"orientation\": \"v\", \"showlegend\": true, \"textposition\": \"auto\", \"x\": [\"Africa\", \"Africa\", \"Africa\", \"Africa\", \"Africa\", \"Africa\", \"Africa\", \"Africa\", \"Africa\", \"Africa\", \"Africa\", \"Africa\", \"Africa\", \"Africa\", \"Africa\", \"Africa\", \"Africa\", \"Africa\", \"Africa\", \"Africa\", \"Africa\", \"Africa\", \"Africa\", \"Africa\", \"Africa\", \"Africa\", \"Africa\", \"Africa\", \"Africa\", \"Africa\", \"Africa\", \"Africa\", \"Africa\", \"Africa\", \"Africa\", \"Africa\", \"Africa\", \"Africa\", \"Africa\", \"Africa\", \"Africa\", \"Africa\", \"Africa\", \"Africa\", \"Africa\", \"Africa\", \"Africa\", \"Africa\", \"Africa\", \"Africa\", \"Africa\", \"Africa\"], \"xaxis\": \"x\", \"y\": [4182.663766, 5473.288004999999, 1085.796879, 2263.6111140000003, 854.7359763000001, 464.0995039, 1684.1465280000002, 1070.013275, 1104.103987, 1937.577675, 904.8960685000001, 3213.152683, 2378.201111, 3694.2123520000005, 2024.0081469999998, 672.4122571, 514.3242081999999, 566.2439442000001, 11401.948409999999, 756.0868363, 1178.223708, 741.6662307, 820.2245876000001, 1222.359968, 496.58159220000005, 803.0054535, 21011.497209999998, 1748.562982, 584.6219709, 581.3688761, 1586.851781, 2575.4841579999998, 1930.194975, 724.9178037, 3746.080948, 954.2092363, 1698.3888379999999, 5047.658563, 590.5806637999999, 1532.985254, 1597.712056, 1353.759762, 1254.576127, 7765.962636, 1659.652775, 3364.836625, 915.9850592, 1649.660188, 2753.2859940000003, 950.735869, 1773.498265, 799.3621757999999], \"yaxis\": \"y\", \"type\": \"bar\"}, {\"alignmentgroup\": \"True\", \"hovertemplate\": \"continent=%{x}<br>year=1972<br>gdpPercap=%{y}<extra></extra>\", \"ids\": [\"Argentina\", \"Bolivia\", \"Brazil\", \"Canada\", \"Chile\", \"Colombia\", \"Costa Rica\", \"Cuba\", \"Dominican Republic\", \"Ecuador\", \"El Salvador\", \"Guatemala\", \"Haiti\", \"Honduras\", \"Jamaica\", \"Mexico\", \"Nicaragua\", \"Panama\", \"Paraguay\", \"Peru\", \"Puerto Rico\", \"Trinidad and Tobago\", \"United States\", \"Uruguay\", \"Venezuela\"], \"legendgroup\": \"Americas\", \"marker\": {\"color\": \"#ab63fa\"}, \"name\": \"Americas\", \"offsetgroup\": \"Americas\", \"orientation\": \"v\", \"showlegend\": true, \"textposition\": \"auto\", \"x\": [\"Americas\", \"Americas\", \"Americas\", \"Americas\", \"Americas\", \"Americas\", \"Americas\", \"Americas\", \"Americas\", \"Americas\", \"Americas\", \"Americas\", \"Americas\", \"Americas\", \"Americas\", \"Americas\", \"Americas\", \"Americas\", \"Americas\", \"Americas\", \"Americas\", \"Americas\", \"Americas\", \"Americas\", \"Americas\"], \"xaxis\": \"x\", \"y\": [9443.038526, 2980.331339, 4985.711467, 18970.57086, 5494.024437, 3264.660041, 5118.146939, 5305.445256, 2189.874499, 5280.99471, 4520.246008, 4031.4082710000002, 1654.456946, 2529.842345, 7433.889293000001, 6809.406690000001, 4688.593267, 5364.2496630000005, 2523.337977, 5937.827283, 9123.041742, 6619.551418999999, 21806.03594, 5703.408898, 10505.25966], \"yaxis\": \"y\", \"type\": \"bar\"}, {\"alignmentgroup\": \"True\", \"hovertemplate\": \"continent=%{x}<br>year=1972<br>gdpPercap=%{y}<extra></extra>\", \"ids\": [\"Australia\", \"New Zealand\"], \"legendgroup\": \"Oceania\", \"marker\": {\"color\": \"#FFA15A\"}, \"name\": \"Oceania\", \"offsetgroup\": \"Oceania\", \"orientation\": \"v\", \"showlegend\": true, \"textposition\": \"auto\", \"x\": [\"Oceania\", \"Oceania\"], \"xaxis\": \"x\", \"y\": [16788.62948, 16046.03728], \"yaxis\": \"y\", \"type\": \"bar\"}], \"name\": \"1972\"}, {\"data\": [{\"alignmentgroup\": \"True\", \"hovertemplate\": \"continent=%{x}<br>year=1977<br>gdpPercap=%{y}<extra></extra>\", \"ids\": [\"Afghanistan\", \"Bahrain\", \"Bangladesh\", \"Cambodia\", \"China\", \"Hong Kong, China\", \"India\", \"Indonesia\", \"Iran\", \"Iraq\", \"Israel\", \"Japan\", \"Jordan\", \"Korea, Dem. Rep.\", \"Korea, Rep.\", \"Kuwait\", \"Lebanon\", \"Malaysia\", \"Mongolia\", \"Myanmar\", \"Nepal\", \"Oman\", \"Pakistan\", \"Philippines\", \"Saudi Arabia\", \"Singapore\", \"Sri Lanka\", \"Syria\", \"Taiwan\", \"Thailand\", \"Vietnam\", \"West Bank and Gaza\", \"Yemen, Rep.\"], \"legendgroup\": \"Asia\", \"marker\": {\"color\": \"#636efa\"}, \"name\": \"Asia\", \"offsetgroup\": \"Asia\", \"orientation\": \"v\", \"showlegend\": true, \"textposition\": \"auto\", \"x\": [\"Asia\", \"Asia\", \"Asia\", \"Asia\", \"Asia\", \"Asia\", \"Asia\", \"Asia\", \"Asia\", \"Asia\", \"Asia\", \"Asia\", \"Asia\", \"Asia\", \"Asia\", \"Asia\", \"Asia\", \"Asia\", \"Asia\", \"Asia\", \"Asia\", \"Asia\", \"Asia\", \"Asia\", \"Asia\", \"Asia\", \"Asia\", \"Asia\", \"Asia\", \"Asia\", \"Asia\", \"Asia\", \"Asia\"], \"xaxis\": \"x\", \"y\": [786.11336, 19340.10196, 659.8772322000001, 524.9721831999999, 741.2374699, 11186.14125, 813.3373230000001, 1382.702056, 11888.59508, 14688.235069999999, 13306.619209999999, 16610.37701, 2852.351568, 4106.301249, 4657.22102, 59265.477139999995, 8659.696836, 3827.9215710000003, 1647.511665, 371.0, 694.1124398, 11848.343920000001, 1175.921193, 2373.204287, 34167.7626, 11210.08948, 1348.775651, 3195.484582, 5596.519826, 1961.2246350000003, 713.5371196000001, 3682.8314939999996, 1829.765177], \"yaxis\": \"y\", \"type\": \"bar\"}, {\"alignmentgroup\": \"True\", \"hovertemplate\": \"continent=%{x}<br>year=1977<br>gdpPercap=%{y}<extra></extra>\", \"ids\": [\"Albania\", \"Austria\", \"Belgium\", \"Bosnia and Herzegovina\", \"Bulgaria\", \"Croatia\", \"Czech Republic\", \"Denmark\", \"Finland\", \"France\", \"Germany\", \"Greece\", \"Hungary\", \"Iceland\", \"Ireland\", \"Italy\", \"Montenegro\", \"Netherlands\", \"Norway\", \"Poland\", \"Portugal\", \"Romania\", \"Serbia\", \"Slovak Republic\", \"Slovenia\", \"Spain\", \"Sweden\", \"Switzerland\", \"Turkey\", \"United Kingdom\"], \"legendgroup\": \"Europe\", \"marker\": {\"color\": \"#EF553B\"}, \"name\": \"Europe\", \"offsetgroup\": \"Europe\", \"orientation\": \"v\", \"showlegend\": true, \"textposition\": \"auto\", \"x\": [\"Europe\", \"Europe\", \"Europe\", \"Europe\", \"Europe\", \"Europe\", \"Europe\", \"Europe\", \"Europe\", \"Europe\", \"Europe\", \"Europe\", \"Europe\", \"Europe\", \"Europe\", \"Europe\", \"Europe\", \"Europe\", \"Europe\", \"Europe\", \"Europe\", \"Europe\", \"Europe\", \"Europe\", \"Europe\", \"Europe\", \"Europe\", \"Europe\", \"Europe\", \"Europe\"], \"xaxis\": \"x\", \"y\": [3533.0039100000004, 19749.4223, 19117.97448, 3528.481305, 7612.240438, 11305.38517, 14800.160619999999, 20422.9015, 15605.422830000001, 18292.635140000002, 20512.92123, 14195.524280000001, 11674.837370000001, 19654.96247, 11150.98113, 14255.98475, 9595.929904999999, 21209.0592, 23311.34939, 9508.141454, 10172.48572, 9356.39724, 12980.66956, 10922.664040000001, 15277.030169999998, 13236.92117, 18855.72521, 26982.29052, 4269.122326, 17428.74846], \"yaxis\": \"y\", \"type\": \"bar\"}, {\"alignmentgroup\": \"True\", \"hovertemplate\": \"continent=%{x}<br>year=1977<br>gdpPercap=%{y}<extra></extra>\", \"ids\": [\"Algeria\", \"Angola\", \"Benin\", \"Botswana\", \"Burkina Faso\", \"Burundi\", \"Cameroon\", \"Central African Republic\", \"Chad\", \"Comoros\", \"Congo, Dem. Rep.\", \"Congo, Rep.\", \"Cote d'Ivoire\", \"Djibouti\", \"Egypt\", \"Equatorial Guinea\", \"Eritrea\", \"Ethiopia\", \"Gabon\", \"Gambia\", \"Ghana\", \"Guinea\", \"Guinea-Bissau\", \"Kenya\", \"Lesotho\", \"Liberia\", \"Libya\", \"Madagascar\", \"Malawi\", \"Mali\", \"Mauritania\", \"Mauritius\", \"Morocco\", \"Mozambique\", \"Namibia\", \"Niger\", \"Nigeria\", \"Reunion\", \"Rwanda\", \"Sao Tome and Principe\", \"Senegal\", \"Sierra Leone\", \"Somalia\", \"South Africa\", \"Sudan\", \"Swaziland\", \"Tanzania\", \"Togo\", \"Tunisia\", \"Uganda\", \"Zambia\", \"Zimbabwe\"], \"legendgroup\": \"Africa\", \"marker\": {\"color\": \"#00cc96\"}, \"name\": \"Africa\", \"offsetgroup\": \"Africa\", \"orientation\": \"v\", \"showlegend\": true, \"textposition\": \"auto\", \"x\": [\"Africa\", \"Africa\", \"Africa\", \"Africa\", \"Africa\", \"Africa\", \"Africa\", \"Africa\", \"Africa\", \"Africa\", \"Africa\", \"Africa\", \"Africa\", \"Africa\", \"Africa\", \"Africa\", \"Africa\", \"Africa\", \"Africa\", \"Africa\", \"Africa\", \"Africa\", \"Africa\", \"Africa\", \"Africa\", \"Africa\", \"Africa\", \"Africa\", \"Africa\", \"Africa\", \"Africa\", \"Africa\", \"Africa\", \"Africa\", \"Africa\", \"Africa\", \"Africa\", \"Africa\", \"Africa\", \"Africa\", \"Africa\", \"Africa\", \"Africa\", \"Africa\", \"Africa\", \"Africa\", \"Africa\", \"Africa\", \"Africa\", \"Africa\", \"Africa\", \"Africa\"], \"xaxis\": \"x\", \"y\": [4910.4167560000005, 3008.647355, 1029.161251, 3214.857818, 743.3870368, 556.1032651, 1783.432873, 1109.374338, 1133.98495, 1172.603047, 795.757282, 3259.178978, 2517.736547, 3081.7610219999997, 2785.493582, 958.5668124, 505.7538077, 556.8083834, 21745.57328, 884.7552507000001, 993.2239571, 874.6858642999999, 764.7259627999999, 1267.613204, 745.3695408, 640.3224382999999, 21951.21176, 1544.228586, 663.2236766, 686.3952693, 1497.492223, 3710.9829630000004, 2370.619976, 502.31973339999996, 3876.4859579999998, 808.8970727999999, 1981.9518059999998, 4319.804067, 670.0806011, 1737.561657, 1561.769116, 1348.285159, 1450.9925130000001, 8028.651439, 2202.9884230000002, 3781.410618, 962.4922932, 1532.776998, 3120.876811, 843.7331372000001, 1588.688299, 685.5876821], \"yaxis\": \"y\", \"type\": \"bar\"}, {\"alignmentgroup\": \"True\", \"hovertemplate\": \"continent=%{x}<br>year=1977<br>gdpPercap=%{y}<extra></extra>\", \"ids\": [\"Argentina\", \"Bolivia\", \"Brazil\", \"Canada\", \"Chile\", \"Colombia\", \"Costa Rica\", \"Cuba\", \"Dominican Republic\", \"Ecuador\", \"El Salvador\", \"Guatemala\", \"Haiti\", \"Honduras\", \"Jamaica\", \"Mexico\", \"Nicaragua\", \"Panama\", \"Paraguay\", \"Peru\", \"Puerto Rico\", \"Trinidad and Tobago\", \"United States\", \"Uruguay\", \"Venezuela\"], \"legendgroup\": \"Americas\", \"marker\": {\"color\": \"#ab63fa\"}, \"name\": \"Americas\", \"offsetgroup\": \"Americas\", \"orientation\": \"v\", \"showlegend\": true, \"textposition\": \"auto\", \"x\": [\"Americas\", \"Americas\", \"Americas\", \"Americas\", \"Americas\", \"Americas\", \"Americas\", \"Americas\", \"Americas\", \"Americas\", \"Americas\", \"Americas\", \"Americas\", \"Americas\", \"Americas\", \"Americas\", \"Americas\", \"Americas\", \"Americas\", \"Americas\", \"Americas\", \"Americas\", \"Americas\", \"Americas\", \"Americas\"], \"xaxis\": \"x\", \"y\": [10079.026740000001, 3548.097832, 6660.118654, 22090.88306, 4756.763836, 3815.80787, 5926.876967, 6380.494965999999, 2681.9889, 6679.62326, 5138.922374, 4879.992748, 1874.2989309999998, 3203.208066, 6650.195573, 7674.929108, 5486.371089, 5351.912144, 3248.373311, 6281.290854999999, 9770.524921, 7899.554209000001, 24072.63213, 6504.339663000001, 13143.95095], \"yaxis\": \"y\", \"type\": \"bar\"}, {\"alignmentgroup\": \"True\", \"hovertemplate\": \"continent=%{x}<br>year=1977<br>gdpPercap=%{y}<extra></extra>\", \"ids\": [\"Australia\", \"New Zealand\"], \"legendgroup\": \"Oceania\", \"marker\": {\"color\": \"#FFA15A\"}, \"name\": \"Oceania\", \"offsetgroup\": \"Oceania\", \"orientation\": \"v\", \"showlegend\": true, \"textposition\": \"auto\", \"x\": [\"Oceania\", \"Oceania\"], \"xaxis\": \"x\", \"y\": [18334.197509999998, 16233.7177], \"yaxis\": \"y\", \"type\": \"bar\"}], \"name\": \"1977\"}, {\"data\": [{\"alignmentgroup\": \"True\", \"hovertemplate\": \"continent=%{x}<br>year=1982<br>gdpPercap=%{y}<extra></extra>\", \"ids\": [\"Afghanistan\", \"Bahrain\", \"Bangladesh\", \"Cambodia\", \"China\", \"Hong Kong, China\", \"India\", \"Indonesia\", \"Iran\", \"Iraq\", \"Israel\", \"Japan\", \"Jordan\", \"Korea, Dem. Rep.\", \"Korea, Rep.\", \"Kuwait\", \"Lebanon\", \"Malaysia\", \"Mongolia\", \"Myanmar\", \"Nepal\", \"Oman\", \"Pakistan\", \"Philippines\", \"Saudi Arabia\", \"Singapore\", \"Sri Lanka\", \"Syria\", \"Taiwan\", \"Thailand\", \"Vietnam\", \"West Bank and Gaza\", \"Yemen, Rep.\"], \"legendgroup\": \"Asia\", \"marker\": {\"color\": \"#636efa\"}, \"name\": \"Asia\", \"offsetgroup\": \"Asia\", \"orientation\": \"v\", \"showlegend\": true, \"textposition\": \"auto\", \"x\": [\"Asia\", \"Asia\", \"Asia\", \"Asia\", \"Asia\", \"Asia\", \"Asia\", \"Asia\", \"Asia\", \"Asia\", \"Asia\", \"Asia\", \"Asia\", \"Asia\", \"Asia\", \"Asia\", \"Asia\", \"Asia\", \"Asia\", \"Asia\", \"Asia\", \"Asia\", \"Asia\", \"Asia\", \"Asia\", \"Asia\", \"Asia\", \"Asia\", \"Asia\", \"Asia\", \"Asia\", \"Asia\", \"Asia\"], \"xaxis\": \"x\", \"y\": [978.0114388000001, 19211.14731, 676.9818656, 624.4754784, 962.4213804999999, 14560.530509999999, 855.7235377000001, 1516.872988, 7608.334602, 14517.90711, 15367.0292, 19384.10571, 4161.415959, 4106.525293, 5622.942464, 31354.03573, 7640.519520999999, 4920.355951, 2000.603139, 424.0, 718.3730947, 12954.791009999999, 1443.429832, 2603.273765, 33693.17525, 15169.161119999999, 1648.0797890000001, 3761.8377149999997, 7426.354773999999, 2393.219781, 707.2357863, 4336.032082, 1977.5570100000002], \"yaxis\": \"y\", \"type\": \"bar\"}, {\"alignmentgroup\": \"True\", \"hovertemplate\": \"continent=%{x}<br>year=1982<br>gdpPercap=%{y}<extra></extra>\", \"ids\": [\"Albania\", \"Austria\", \"Belgium\", \"Bosnia and Herzegovina\", \"Bulgaria\", \"Croatia\", \"Czech Republic\", \"Denmark\", \"Finland\", \"France\", \"Germany\", \"Greece\", \"Hungary\", \"Iceland\", \"Ireland\", \"Italy\", \"Montenegro\", \"Netherlands\", \"Norway\", \"Poland\", \"Portugal\", \"Romania\", \"Serbia\", \"Slovak Republic\", \"Slovenia\", \"Spain\", \"Sweden\", \"Switzerland\", \"Turkey\", \"United Kingdom\"], \"legendgroup\": \"Europe\", \"marker\": {\"color\": \"#EF553B\"}, \"name\": \"Europe\", \"offsetgroup\": \"Europe\", \"orientation\": \"v\", \"showlegend\": true, \"textposition\": \"auto\", \"x\": [\"Europe\", \"Europe\", \"Europe\", \"Europe\", \"Europe\", \"Europe\", \"Europe\", \"Europe\", \"Europe\", \"Europe\", \"Europe\", \"Europe\", \"Europe\", \"Europe\", \"Europe\", \"Europe\", \"Europe\", \"Europe\", \"Europe\", \"Europe\", \"Europe\", \"Europe\", \"Europe\", \"Europe\", \"Europe\", \"Europe\", \"Europe\", \"Europe\", \"Europe\", \"Europe\"], \"xaxis\": \"x\", \"y\": [3630.880722, 21597.083619999998, 20979.84589, 4126.613157, 8224.191647, 13221.82184, 15377.22855, 21688.04048, 18533.15761, 20293.89746, 22031.532740000002, 15268.420890000001, 12545.99066, 23269.6075, 12618.321409999999, 16537.4835, 11222.58762, 21399.46046, 26298.635309999998, 8451.531004, 11753.84291, 9605.314053, 15181.0927, 11348.54585, 17866.72175, 13926.169969999999, 20667.38125, 28397.715119999997, 4241.356344, 18232.42452], \"yaxis\": \"y\", \"type\": \"bar\"}, {\"alignmentgroup\": \"True\", \"hovertemplate\": \"continent=%{x}<br>year=1982<br>gdpPercap=%{y}<extra></extra>\", \"ids\": [\"Algeria\", \"Angola\", \"Benin\", \"Botswana\", \"Burkina Faso\", \"Burundi\", \"Cameroon\", \"Central African Republic\", \"Chad\", \"Comoros\", \"Congo, Dem. Rep.\", \"Congo, Rep.\", \"Cote d'Ivoire\", \"Djibouti\", \"Egypt\", \"Equatorial Guinea\", \"Eritrea\", \"Ethiopia\", \"Gabon\", \"Gambia\", \"Ghana\", \"Guinea\", \"Guinea-Bissau\", \"Kenya\", \"Lesotho\", \"Liberia\", \"Libya\", \"Madagascar\", \"Malawi\", \"Mali\", \"Mauritania\", \"Mauritius\", \"Morocco\", \"Mozambique\", \"Namibia\", \"Niger\", \"Nigeria\", \"Reunion\", \"Rwanda\", \"Sao Tome and Principe\", \"Senegal\", \"Sierra Leone\", \"Somalia\", \"South Africa\", \"Sudan\", \"Swaziland\", \"Tanzania\", \"Togo\", \"Tunisia\", \"Uganda\", \"Zambia\", \"Zimbabwe\"], \"legendgroup\": \"Africa\", \"marker\": {\"color\": \"#00cc96\"}, \"name\": \"Africa\", \"offsetgroup\": \"Africa\", \"orientation\": \"v\", \"showlegend\": true, \"textposition\": \"auto\", \"x\": [\"Africa\", \"Africa\", \"Africa\", \"Africa\", \"Africa\", \"Africa\", \"Africa\", \"Africa\", \"Africa\", \"Africa\", \"Africa\", \"Africa\", \"Africa\", \"Africa\", \"Africa\", \"Africa\", \"Africa\", \"Africa\", \"Africa\", \"Africa\", \"Africa\", \"Africa\", \"Africa\", \"Africa\", \"Africa\", \"Africa\", \"Africa\", \"Africa\", \"Africa\", \"Africa\", \"Africa\", \"Africa\", \"Africa\", \"Africa\", \"Africa\", \"Africa\", \"Africa\", \"Africa\", \"Africa\", \"Africa\", \"Africa\", \"Africa\", \"Africa\", \"Africa\", \"Africa\", \"Africa\", \"Africa\", \"Africa\", \"Africa\", \"Africa\", \"Africa\", \"Africa\"], \"xaxis\": \"x\", \"y\": [5745.160213, 2756.953672, 1277.897616, 4551.14215, 807.1985855, 559.6032309999999, 2367.983282, 956.7529906999999, 797.9081006, 1267.100083, 673.7478181, 4879.507522, 2602.710169, 2879.4680670000002, 3503.729636, 927.8253427000001, 524.8758493, 577.8607471, 15113.36194, 835.8096107999999, 876.032569, 857.2503577, 838.1239671, 1348.225791, 797.2631074, 572.1995694, 17364.275380000003, 1302.878658, 632.8039209, 618.0140640999999, 1481.150189, 3688.037739, 2702.620356, 462.2114149, 4191.100511, 909.7221354000001, 1576.97375, 5267.219353, 881.5706467, 1890.2181170000001, 1518.479984, 1465.010784, 1176.807031, 8568.266228, 1895.544073, 3895.384018, 874.2426069, 1344.577953, 3560.2331740000004, 682.2662267999999, 1408.678565, 788.8550411], \"yaxis\": \"y\", \"type\": \"bar\"}, {\"alignmentgroup\": \"True\", \"hovertemplate\": \"continent=%{x}<br>year=1982<br>gdpPercap=%{y}<extra></extra>\", \"ids\": [\"Argentina\", \"Bolivia\", \"Brazil\", \"Canada\", \"Chile\", \"Colombia\", \"Costa Rica\", \"Cuba\", \"Dominican Republic\", \"Ecuador\", \"El Salvador\", \"Guatemala\", \"Haiti\", \"Honduras\", \"Jamaica\", \"Mexico\", \"Nicaragua\", \"Panama\", \"Paraguay\", \"Peru\", \"Puerto Rico\", \"Trinidad and Tobago\", \"United States\", \"Uruguay\", \"Venezuela\"], \"legendgroup\": \"Americas\", \"marker\": {\"color\": \"#ab63fa\"}, \"name\": \"Americas\", \"offsetgroup\": \"Americas\", \"orientation\": \"v\", \"showlegend\": true, \"textposition\": \"auto\", \"x\": [\"Americas\", \"Americas\", \"Americas\", \"Americas\", \"Americas\", \"Americas\", \"Americas\", \"Americas\", \"Americas\", \"Americas\", \"Americas\", \"Americas\", \"Americas\", \"Americas\", \"Americas\", \"Americas\", \"Americas\", \"Americas\", \"Americas\", \"Americas\", \"Americas\", \"Americas\", \"Americas\", \"Americas\", \"Americas\"], \"xaxis\": \"x\", \"y\": [8997.897412, 3156.510452, 7030.835878, 22898.79214, 5095.665738000001, 4397.575659, 5262.734751, 7316.9181069999995, 2861.092386, 7213.7912670000005, 4098.344175, 4820.49479, 2011.1595489999997, 3121.7607940000003, 6068.05135, 9611.147541, 3470.3381560000003, 7009.601598, 4258.5036039999995, 6434.501797, 10330.98915, 9119.528607, 25009.55914, 6920.223051000001, 11152.410109999999], \"yaxis\": \"y\", \"type\": \"bar\"}, {\"alignmentgroup\": \"True\", \"hovertemplate\": \"continent=%{x}<br>year=1982<br>gdpPercap=%{y}<extra></extra>\", \"ids\": [\"Australia\", \"New Zealand\"], \"legendgroup\": \"Oceania\", \"marker\": {\"color\": \"#FFA15A\"}, \"name\": \"Oceania\", \"offsetgroup\": \"Oceania\", \"orientation\": \"v\", \"showlegend\": true, \"textposition\": \"auto\", \"x\": [\"Oceania\", \"Oceania\"], \"xaxis\": \"x\", \"y\": [19477.009280000002, 17632.4104], \"yaxis\": \"y\", \"type\": \"bar\"}], \"name\": \"1982\"}, {\"data\": [{\"alignmentgroup\": \"True\", \"hovertemplate\": \"continent=%{x}<br>year=1987<br>gdpPercap=%{y}<extra></extra>\", \"ids\": [\"Afghanistan\", \"Bahrain\", \"Bangladesh\", \"Cambodia\", \"China\", \"Hong Kong, China\", \"India\", \"Indonesia\", \"Iran\", \"Iraq\", \"Israel\", \"Japan\", \"Jordan\", \"Korea, Dem. Rep.\", \"Korea, Rep.\", \"Kuwait\", \"Lebanon\", \"Malaysia\", \"Mongolia\", \"Myanmar\", \"Nepal\", \"Oman\", \"Pakistan\", \"Philippines\", \"Saudi Arabia\", \"Singapore\", \"Sri Lanka\", \"Syria\", \"Taiwan\", \"Thailand\", \"Vietnam\", \"West Bank and Gaza\", \"Yemen, Rep.\"], \"legendgroup\": \"Asia\", \"marker\": {\"color\": \"#636efa\"}, \"name\": \"Asia\", \"offsetgroup\": \"Asia\", \"orientation\": \"v\", \"showlegend\": true, \"textposition\": \"auto\", \"x\": [\"Asia\", \"Asia\", \"Asia\", \"Asia\", \"Asia\", \"Asia\", \"Asia\", \"Asia\", \"Asia\", \"Asia\", \"Asia\", \"Asia\", \"Asia\", \"Asia\", \"Asia\", \"Asia\", \"Asia\", \"Asia\", \"Asia\", \"Asia\", \"Asia\", \"Asia\", \"Asia\", \"Asia\", \"Asia\", \"Asia\", \"Asia\", \"Asia\", \"Asia\", \"Asia\", \"Asia\", \"Asia\", \"Asia\"], \"xaxis\": \"x\", \"y\": [852.3959447999999, 18524.02406, 751.9794035, 683.8955732000001, 1378.904018, 20038.472690000002, 976.5126756000001, 1748.356961, 6642.881371, 11643.57268, 17122.47986, 22375.941890000002, 4448.679912, 4106.4923149999995, 8533.088805, 28118.42998, 5377.091329, 5249.802653, 2338.008304, 385.0, 775.6324501, 18115.223130000002, 1704.686583, 2189.634995, 21198.26136, 18861.53081, 1876.766827, 3116.774285, 11054.56175, 2982.653773, 820.7994449, 5107.197384, 1971.741538], \"yaxis\": \"y\", \"type\": \"bar\"}, {\"alignmentgroup\": \"True\", \"hovertemplate\": \"continent=%{x}<br>year=1987<br>gdpPercap=%{y}<extra></extra>\", \"ids\": [\"Albania\", \"Austria\", \"Belgium\", \"Bosnia and Herzegovina\", \"Bulgaria\", \"Croatia\", \"Czech Republic\", \"Denmark\", \"Finland\", \"France\", \"Germany\", \"Greece\", \"Hungary\", \"Iceland\", \"Ireland\", \"Italy\", \"Montenegro\", \"Netherlands\", \"Norway\", \"Poland\", \"Portugal\", \"Romania\", \"Serbia\", \"Slovak Republic\", \"Slovenia\", \"Spain\", \"Sweden\", \"Switzerland\", \"Turkey\", \"United Kingdom\"], \"legendgroup\": \"Europe\", \"marker\": {\"color\": \"#EF553B\"}, \"name\": \"Europe\", \"offsetgroup\": \"Europe\", \"orientation\": \"v\", \"showlegend\": true, \"textposition\": \"auto\", \"x\": [\"Europe\", \"Europe\", \"Europe\", \"Europe\", \"Europe\", \"Europe\", \"Europe\", \"Europe\", \"Europe\", \"Europe\", \"Europe\", \"Europe\", \"Europe\", \"Europe\", \"Europe\", \"Europe\", \"Europe\", \"Europe\", \"Europe\", \"Europe\", \"Europe\", \"Europe\", \"Europe\", \"Europe\", \"Europe\", \"Europe\", \"Europe\", \"Europe\", \"Europe\", \"Europe\"], \"xaxis\": \"x\", \"y\": [3738.9327350000003, 23687.82607, 22525.56308, 4314.114757, 8239.854824, 13822.58394, 16310.4434, 25116.17581, 21141.01223, 22066.44214, 24639.18566, 16120.528390000001, 12986.47998, 26923.206280000002, 13872.86652, 19207.234819999998, 11732.51017, 23651.32361, 31540.9748, 9082.351172, 13039.30876, 9696.273295, 15870.878509999999, 12037.26758, 18678.53492, 15764.98313, 23586.92927, 30281.704589999998, 5089.043686, 21664.787669999998], \"yaxis\": \"y\", \"type\": \"bar\"}, {\"alignmentgroup\": \"True\", \"hovertemplate\": \"continent=%{x}<br>year=1987<br>gdpPercap=%{y}<extra></extra>\", \"ids\": [\"Algeria\", \"Angola\", \"Benin\", \"Botswana\", \"Burkina Faso\", \"Burundi\", \"Cameroon\", \"Central African Republic\", \"Chad\", \"Comoros\", \"Congo, Dem. Rep.\", \"Congo, Rep.\", \"Cote d'Ivoire\", \"Djibouti\", \"Egypt\", \"Equatorial Guinea\", \"Eritrea\", \"Ethiopia\", \"Gabon\", \"Gambia\", \"Ghana\", \"Guinea\", \"Guinea-Bissau\", \"Kenya\", \"Lesotho\", \"Liberia\", \"Libya\", \"Madagascar\", \"Malawi\", \"Mali\", \"Mauritania\", \"Mauritius\", \"Morocco\", \"Mozambique\", \"Namibia\", \"Niger\", \"Nigeria\", \"Reunion\", \"Rwanda\", \"Sao Tome and Principe\", \"Senegal\", \"Sierra Leone\", \"Somalia\", \"South Africa\", \"Sudan\", \"Swaziland\", \"Tanzania\", \"Togo\", \"Tunisia\", \"Uganda\", \"Zambia\", \"Zimbabwe\"], \"legendgroup\": \"Africa\", \"marker\": {\"color\": \"#00cc96\"}, \"name\": \"Africa\", \"offsetgroup\": \"Africa\", \"orientation\": \"v\", \"showlegend\": true, \"textposition\": \"auto\", \"x\": [\"Africa\", \"Africa\", \"Africa\", \"Africa\", \"Africa\", \"Africa\", \"Africa\", \"Africa\", \"Africa\", \"Africa\", \"Africa\", \"Africa\", \"Africa\", \"Africa\", \"Africa\", \"Africa\", \"Africa\", \"Africa\", \"Africa\", \"Africa\", \"Africa\", \"Africa\", \"Africa\", \"Africa\", \"Africa\", \"Africa\", \"Africa\", \"Africa\", \"Africa\", \"Africa\", \"Africa\", \"Africa\", \"Africa\", \"Africa\", \"Africa\", \"Africa\", \"Africa\", \"Africa\", \"Africa\", \"Africa\", \"Africa\", \"Africa\", \"Africa\", \"Africa\", \"Africa\", \"Africa\", \"Africa\", \"Africa\", \"Africa\", \"Africa\", \"Africa\", \"Africa\"], \"xaxis\": \"x\", \"y\": [5681.358539, 2430.208311, 1225.85601, 6205.88385, 912.0631417000001, 621.8188188999999, 2602.664206, 844.8763504000001, 952.3861289999999, 1315.980812, 672.774812, 4201.194936999999, 2156.9560690000003, 2880.102568, 3885.4607100000003, 966.8968149, 521.1341333, 573.7413142000001, 11864.408440000001, 611.6588611000001, 847.0061135, 805.5724717999999, 736.4153921, 1361.936856, 773.9932140999999, 506.1138573, 11770.5898, 1155.4419480000001, 635.5173633999999, 684.1715576, 1421.603576, 4783.586903, 2755.046991, 389.87618460000004, 3693.7313369999997, 668.3000228, 1385.029563, 5303.377488, 847.991217, 1516.525457, 1441.72072, 1294.4477880000002, 1093.244963, 7825.823398, 1507.819159, 3984.8398119999997, 831.8220794, 1202.201361, 3810.419296, 617.7244065, 1213.315116, 706.1573059], \"yaxis\": \"y\", \"type\": \"bar\"}, {\"alignmentgroup\": \"True\", \"hovertemplate\": \"continent=%{x}<br>year=1987<br>gdpPercap=%{y}<extra></extra>\", \"ids\": [\"Argentina\", \"Bolivia\", \"Brazil\", \"Canada\", \"Chile\", \"Colombia\", \"Costa Rica\", \"Cuba\", \"Dominican Republic\", \"Ecuador\", \"El Salvador\", \"Guatemala\", \"Haiti\", \"Honduras\", \"Jamaica\", \"Mexico\", \"Nicaragua\", \"Panama\", \"Paraguay\", \"Peru\", \"Puerto Rico\", \"Trinidad and Tobago\", \"United States\", \"Uruguay\", \"Venezuela\"], \"legendgroup\": \"Americas\", \"marker\": {\"color\": \"#ab63fa\"}, \"name\": \"Americas\", \"offsetgroup\": \"Americas\", \"orientation\": \"v\", \"showlegend\": true, \"textposition\": \"auto\", \"x\": [\"Americas\", \"Americas\", \"Americas\", \"Americas\", \"Americas\", \"Americas\", \"Americas\", \"Americas\", \"Americas\", \"Americas\", \"Americas\", \"Americas\", \"Americas\", \"Americas\", \"Americas\", \"Americas\", \"Americas\", \"Americas\", \"Americas\", \"Americas\", \"Americas\", \"Americas\", \"Americas\", \"Americas\", \"Americas\"], \"xaxis\": \"x\", \"y\": [9139.671389, 2753.6914899999997, 7807.095818000001, 26626.515030000002, 5547.063754, 4903.2191, 5629.915318, 7532.924762999999, 2899.842175, 6481.776993, 4140.442097, 4246.485974, 1823.015995, 3023.0966989999997, 6351.237495, 8688.156003, 2955.984375, 7034.779161, 3998.875695, 6360.9434439999995, 12281.34191, 7388.597823, 29884.350410000003, 7452.398969, 9883.584648], \"yaxis\": \"y\", \"type\": \"bar\"}, {\"alignmentgroup\": \"True\", \"hovertemplate\": \"continent=%{x}<br>year=1987<br>gdpPercap=%{y}<extra></extra>\", \"ids\": [\"Australia\", \"New Zealand\"], \"legendgroup\": \"Oceania\", \"marker\": {\"color\": \"#FFA15A\"}, \"name\": \"Oceania\", \"offsetgroup\": \"Oceania\", \"orientation\": \"v\", \"showlegend\": true, \"textposition\": \"auto\", \"x\": [\"Oceania\", \"Oceania\"], \"xaxis\": \"x\", \"y\": [21888.889030000002, 19007.19129], \"yaxis\": \"y\", \"type\": \"bar\"}], \"name\": \"1987\"}, {\"data\": [{\"alignmentgroup\": \"True\", \"hovertemplate\": \"continent=%{x}<br>year=1992<br>gdpPercap=%{y}<extra></extra>\", \"ids\": [\"Afghanistan\", \"Bahrain\", \"Bangladesh\", \"Cambodia\", \"China\", \"Hong Kong, China\", \"India\", \"Indonesia\", \"Iran\", \"Iraq\", \"Israel\", \"Japan\", \"Jordan\", \"Korea, Dem. Rep.\", \"Korea, Rep.\", \"Kuwait\", \"Lebanon\", \"Malaysia\", \"Mongolia\", \"Myanmar\", \"Nepal\", \"Oman\", \"Pakistan\", \"Philippines\", \"Saudi Arabia\", \"Singapore\", \"Sri Lanka\", \"Syria\", \"Taiwan\", \"Thailand\", \"Vietnam\", \"West Bank and Gaza\", \"Yemen, Rep.\"], \"legendgroup\": \"Asia\", \"marker\": {\"color\": \"#636efa\"}, \"name\": \"Asia\", \"offsetgroup\": \"Asia\", \"orientation\": \"v\", \"showlegend\": true, \"textposition\": \"auto\", \"x\": [\"Asia\", \"Asia\", \"Asia\", \"Asia\", \"Asia\", \"Asia\", \"Asia\", \"Asia\", \"Asia\", \"Asia\", \"Asia\", \"Asia\", \"Asia\", \"Asia\", \"Asia\", \"Asia\", \"Asia\", \"Asia\", \"Asia\", \"Asia\", \"Asia\", \"Asia\", \"Asia\", \"Asia\", \"Asia\", \"Asia\", \"Asia\", \"Asia\", \"Asia\", \"Asia\", \"Asia\", \"Asia\", \"Asia\"], \"xaxis\": \"x\", \"y\": [649.3413952000001, 19035.579169999997, 837.8101642999999, 682.3031755, 1655.784158, 24757.60301, 1164.406809, 2383.140898, 7235.653187999999, 3745.6406869999996, 18051.52254, 26824.895109999998, 3431.5936469999997, 3726.063507, 12104.27872, 34932.91959, 6890.806854, 7277.912802, 1785.402016, 347.0, 897.7403604, 18616.70691, 1971.8294640000001, 2279.3240170000004, 24841.617769999997, 24769.8912, 2153.7392219999997, 3340.542768, 15215.6579, 4616.8965450000005, 989.0231487, 6017.654756, 1879.496673], \"yaxis\": \"y\", \"type\": \"bar\"}, {\"alignmentgroup\": \"True\", \"hovertemplate\": \"continent=%{x}<br>year=1992<br>gdpPercap=%{y}<extra></extra>\", \"ids\": [\"Albania\", \"Austria\", \"Belgium\", \"Bosnia and Herzegovina\", \"Bulgaria\", \"Croatia\", \"Czech Republic\", \"Denmark\", \"Finland\", \"France\", \"Germany\", \"Greece\", \"Hungary\", \"Iceland\", \"Ireland\", \"Italy\", \"Montenegro\", \"Netherlands\", \"Norway\", \"Poland\", \"Portugal\", \"Romania\", \"Serbia\", \"Slovak Republic\", \"Slovenia\", \"Spain\", \"Sweden\", \"Switzerland\", \"Turkey\", \"United Kingdom\"], \"legendgroup\": \"Europe\", \"marker\": {\"color\": \"#EF553B\"}, \"name\": \"Europe\", \"offsetgroup\": \"Europe\", \"orientation\": \"v\", \"showlegend\": true, \"textposition\": \"auto\", \"x\": [\"Europe\", \"Europe\", \"Europe\", \"Europe\", \"Europe\", \"Europe\", \"Europe\", \"Europe\", \"Europe\", \"Europe\", \"Europe\", \"Europe\", \"Europe\", \"Europe\", \"Europe\", \"Europe\", \"Europe\", \"Europe\", \"Europe\", \"Europe\", \"Europe\", \"Europe\", \"Europe\", \"Europe\", \"Europe\", \"Europe\", \"Europe\", \"Europe\", \"Europe\", \"Europe\"], \"xaxis\": \"x\", \"y\": [2497.4379010000002, 27042.01868, 25575.57069, 2546.781445, 6302.6234380000005, 8447.794873, 14297.021219999999, 26406.73985, 20647.16499, 24703.79615, 26505.30317, 17541.49634, 10535.62855, 25144.39201, 17558.81555, 22013.64486, 7003.339037000001, 26790.94961, 33965.66115, 7738.881247, 16207.266630000002, 6598.409903, 9325.068238, 9498.467723, 14214.71681, 18603.06452, 23880.01683, 31871.5303, 5678.348271, 22705.09254], \"yaxis\": \"y\", \"type\": \"bar\"}, {\"alignmentgroup\": \"True\", \"hovertemplate\": \"continent=%{x}<br>year=1992<br>gdpPercap=%{y}<extra></extra>\", \"ids\": [\"Algeria\", \"Angola\", \"Benin\", \"Botswana\", \"Burkina Faso\", \"Burundi\", \"Cameroon\", \"Central African Republic\", \"Chad\", \"Comoros\", \"Congo, Dem. Rep.\", \"Congo, Rep.\", \"Cote d'Ivoire\", \"Djibouti\", \"Egypt\", \"Equatorial Guinea\", \"Eritrea\", \"Ethiopia\", \"Gabon\", \"Gambia\", \"Ghana\", \"Guinea\", \"Guinea-Bissau\", \"Kenya\", \"Lesotho\", \"Liberia\", \"Libya\", \"Madagascar\", \"Malawi\", \"Mali\", \"Mauritania\", \"Mauritius\", \"Morocco\", \"Mozambique\", \"Namibia\", \"Niger\", \"Nigeria\", \"Reunion\", \"Rwanda\", \"Sao Tome and Principe\", \"Senegal\", \"Sierra Leone\", \"Somalia\", \"South Africa\", \"Sudan\", \"Swaziland\", \"Tanzania\", \"Togo\", \"Tunisia\", \"Uganda\", \"Zambia\", \"Zimbabwe\"], \"legendgroup\": \"Africa\", \"marker\": {\"color\": \"#00cc96\"}, \"name\": \"Africa\", \"offsetgroup\": \"Africa\", \"orientation\": \"v\", \"showlegend\": true, \"textposition\": \"auto\", \"x\": [\"Africa\", \"Africa\", \"Africa\", \"Africa\", \"Africa\", \"Africa\", \"Africa\", \"Africa\", \"Africa\", \"Africa\", \"Africa\", \"Africa\", \"Africa\", \"Africa\", \"Africa\", \"Africa\", \"Africa\", \"Africa\", \"Africa\", \"Africa\", \"Africa\", \"Africa\", \"Africa\", \"Africa\", \"Africa\", \"Africa\", \"Africa\", \"Africa\", \"Africa\", \"Africa\", \"Africa\", \"Africa\", \"Africa\", \"Africa\", \"Africa\", \"Africa\", \"Africa\", \"Africa\", \"Africa\", \"Africa\", \"Africa\", \"Africa\", \"Africa\", \"Africa\", \"Africa\", \"Africa\", \"Africa\", \"Africa\", \"Africa\", \"Africa\", \"Africa\", \"Africa\"], \"xaxis\": \"x\", \"y\": [5023.216647, 2627.8456850000002, 1191.207681, 7954.111645, 931.7527731, 631.6998778, 1793.1632780000002, 747.9055252, 1058.0643, 1246.90737, 457.7191807, 4016.239529, 1648.073791, 2377.1561920000004, 3794.755195, 1132.055034, 582.8585102000001, 421.3534653, 13522.157519999999, 665.6244126, 925.0601539999999, 794.3484384, 745.5398706, 1341.9217210000002, 977.4862724999999, 636.6229191000001, 9640.138501000001, 1040.6761900000001, 563.2000145, 739.014375, 1361.369784, 6058.2538460000005, 2948.047252, 410.89682389999996, 3804.537999, 581.182725, 1619.848217, 6101.2558229999995, 737.0685949, 1428.777814, 1367.899369, 1068.696278, 926.9602964, 7225.0692579999995, 1492.197043, 3553.0224, 825.682454, 1034.298904, 4332.720164, 644.1707968999999, 1210.884633, 693.4207856], \"yaxis\": \"y\", \"type\": \"bar\"}, {\"alignmentgroup\": \"True\", \"hovertemplate\": \"continent=%{x}<br>year=1992<br>gdpPercap=%{y}<extra></extra>\", \"ids\": [\"Argentina\", \"Bolivia\", \"Brazil\", \"Canada\", \"Chile\", \"Colombia\", \"Costa Rica\", \"Cuba\", \"Dominican Republic\", \"Ecuador\", \"El Salvador\", \"Guatemala\", \"Haiti\", \"Honduras\", \"Jamaica\", \"Mexico\", \"Nicaragua\", \"Panama\", \"Paraguay\", \"Peru\", \"Puerto Rico\", \"Trinidad and Tobago\", \"United States\", \"Uruguay\", \"Venezuela\"], \"legendgroup\": \"Americas\", \"marker\": {\"color\": \"#ab63fa\"}, \"name\": \"Americas\", \"offsetgroup\": \"Americas\", \"orientation\": \"v\", \"showlegend\": true, \"textposition\": \"auto\", \"x\": [\"Americas\", \"Americas\", \"Americas\", \"Americas\", \"Americas\", \"Americas\", \"Americas\", \"Americas\", \"Americas\", \"Americas\", \"Americas\", \"Americas\", \"Americas\", \"Americas\", \"Americas\", \"Americas\", \"Americas\", \"Americas\", \"Americas\", \"Americas\", \"Americas\", \"Americas\", \"Americas\", \"Americas\", \"Americas\"], \"xaxis\": \"x\", \"y\": [9308.41871, 2961.699694, 6950.283020999999, 26342.88426, 7596.125964, 5444.648617, 6160.416317, 5592.843963, 3044.214214, 7103.702595000001, 4444.2317, 4439.4508399999995, 1456.309517, 3081.694603, 7404.923685, 9472.384295, 2170.151724, 6618.74305, 4196.411078, 4446.380924, 14641.587109999999, 7370.990932, 32003.93224, 8137.004775, 10733.926309999999], \"yaxis\": \"y\", \"type\": \"bar\"}, {\"alignmentgroup\": \"True\", \"hovertemplate\": \"continent=%{x}<br>year=1992<br>gdpPercap=%{y}<extra></extra>\", \"ids\": [\"Australia\", \"New Zealand\"], \"legendgroup\": \"Oceania\", \"marker\": {\"color\": \"#FFA15A\"}, \"name\": \"Oceania\", \"offsetgroup\": \"Oceania\", \"orientation\": \"v\", \"showlegend\": true, \"textposition\": \"auto\", \"x\": [\"Oceania\", \"Oceania\"], \"xaxis\": \"x\", \"y\": [23424.76683, 18363.324940000002], \"yaxis\": \"y\", \"type\": \"bar\"}], \"name\": \"1992\"}, {\"data\": [{\"alignmentgroup\": \"True\", \"hovertemplate\": \"continent=%{x}<br>year=1997<br>gdpPercap=%{y}<extra></extra>\", \"ids\": [\"Afghanistan\", \"Bahrain\", \"Bangladesh\", \"Cambodia\", \"China\", \"Hong Kong, China\", \"India\", \"Indonesia\", \"Iran\", \"Iraq\", \"Israel\", \"Japan\", \"Jordan\", \"Korea, Dem. Rep.\", \"Korea, Rep.\", \"Kuwait\", \"Lebanon\", \"Malaysia\", \"Mongolia\", \"Myanmar\", \"Nepal\", \"Oman\", \"Pakistan\", \"Philippines\", \"Saudi Arabia\", \"Singapore\", \"Sri Lanka\", \"Syria\", \"Taiwan\", \"Thailand\", \"Vietnam\", \"West Bank and Gaza\", \"Yemen, Rep.\"], \"legendgroup\": \"Asia\", \"marker\": {\"color\": \"#636efa\"}, \"name\": \"Asia\", \"offsetgroup\": \"Asia\", \"orientation\": \"v\", \"showlegend\": true, \"textposition\": \"auto\", \"x\": [\"Asia\", \"Asia\", \"Asia\", \"Asia\", \"Asia\", \"Asia\", \"Asia\", \"Asia\", \"Asia\", \"Asia\", \"Asia\", \"Asia\", \"Asia\", \"Asia\", \"Asia\", \"Asia\", \"Asia\", \"Asia\", \"Asia\", \"Asia\", \"Asia\", \"Asia\", \"Asia\", \"Asia\", \"Asia\", \"Asia\", \"Asia\", \"Asia\", \"Asia\", \"Asia\", \"Asia\", \"Asia\", \"Asia\"], \"xaxis\": \"x\", \"y\": [635.341351, 20292.01679, 972.7700352, 734.28517, 2289.234136, 28377.632189999997, 1458.817442, 3119.335603, 8263.590301, 3076.239795, 20896.60924, 28816.58499, 3645.379572, 1690.756814, 15993.52796, 40300.61996, 8754.96385, 10132.90964, 1902.2521, 415.0, 1010.892138, 19702.055809999998, 2049.3505210000003, 2536.534925, 20586.69019, 33519.4766, 2664.477257, 4014.238972, 20206.82098, 5852.625497, 1385.896769, 7110.667619, 2117.484526], \"yaxis\": \"y\", \"type\": \"bar\"}, {\"alignmentgroup\": \"True\", \"hovertemplate\": \"continent=%{x}<br>year=1997<br>gdpPercap=%{y}<extra></extra>\", \"ids\": [\"Albania\", \"Austria\", \"Belgium\", \"Bosnia and Herzegovina\", \"Bulgaria\", \"Croatia\", \"Czech Republic\", \"Denmark\", \"Finland\", \"France\", \"Germany\", \"Greece\", \"Hungary\", \"Iceland\", \"Ireland\", \"Italy\", \"Montenegro\", \"Netherlands\", \"Norway\", \"Poland\", \"Portugal\", \"Romania\", \"Serbia\", \"Slovak Republic\", \"Slovenia\", \"Spain\", \"Sweden\", \"Switzerland\", \"Turkey\", \"United Kingdom\"], \"legendgroup\": \"Europe\", \"marker\": {\"color\": \"#EF553B\"}, \"name\": \"Europe\", \"offsetgroup\": \"Europe\", \"orientation\": \"v\", \"showlegend\": true, \"textposition\": \"auto\", \"x\": [\"Europe\", \"Europe\", \"Europe\", \"Europe\", \"Europe\", \"Europe\", \"Europe\", \"Europe\", \"Europe\", \"Europe\", \"Europe\", \"Europe\", \"Europe\", \"Europe\", \"Europe\", \"Europe\", \"Europe\", \"Europe\", \"Europe\", \"Europe\", \"Europe\", \"Europe\", \"Europe\", \"Europe\", \"Europe\", \"Europe\", \"Europe\", \"Europe\", \"Europe\", \"Europe\"], \"xaxis\": \"x\", \"y\": [3193.054604, 29095.920660000003, 27561.196630000002, 4766.355904, 5970.38876, 9875.604515, 16048.51424, 29804.34567, 23723.9502, 25889.78487, 27788.88416, 18747.69814, 11712.7768, 28061.099660000003, 24521.94713, 24675.02446, 6465.613349, 30246.13063, 41283.16433, 10159.58368, 17641.03156, 7346.547556999999, 7914.320304000001, 12126.23065, 17161.10735, 20445.29896, 25266.59499, 32135.323010000004, 6601.429915, 26074.53136], \"yaxis\": \"y\", \"type\": \"bar\"}, {\"alignmentgroup\": \"True\", \"hovertemplate\": \"continent=%{x}<br>year=1997<br>gdpPercap=%{y}<extra></extra>\", \"ids\": [\"Algeria\", \"Angola\", \"Benin\", \"Botswana\", \"Burkina Faso\", \"Burundi\", \"Cameroon\", \"Central African Republic\", \"Chad\", \"Comoros\", \"Congo, Dem. Rep.\", \"Congo, Rep.\", \"Cote d'Ivoire\", \"Djibouti\", \"Egypt\", \"Equatorial Guinea\", \"Eritrea\", \"Ethiopia\", \"Gabon\", \"Gambia\", \"Ghana\", \"Guinea\", \"Guinea-Bissau\", \"Kenya\", \"Lesotho\", \"Liberia\", \"Libya\", \"Madagascar\", \"Malawi\", \"Mali\", \"Mauritania\", \"Mauritius\", \"Morocco\", \"Mozambique\", \"Namibia\", \"Niger\", \"Nigeria\", \"Reunion\", \"Rwanda\", \"Sao Tome and Principe\", \"Senegal\", \"Sierra Leone\", \"Somalia\", \"South Africa\", \"Sudan\", \"Swaziland\", \"Tanzania\", \"Togo\", \"Tunisia\", \"Uganda\", \"Zambia\", \"Zimbabwe\"], \"legendgroup\": \"Africa\", \"marker\": {\"color\": \"#00cc96\"}, \"name\": \"Africa\", \"offsetgroup\": \"Africa\", \"orientation\": \"v\", \"showlegend\": true, \"textposition\": \"auto\", \"x\": [\"Africa\", \"Africa\", \"Africa\", \"Africa\", \"Africa\", \"Africa\", \"Africa\", \"Africa\", \"Africa\", \"Africa\", \"Africa\", \"Africa\", \"Africa\", \"Africa\", \"Africa\", \"Africa\", \"Africa\", \"Africa\", \"Africa\", \"Africa\", \"Africa\", \"Africa\", \"Africa\", \"Africa\", \"Africa\", \"Africa\", \"Africa\", \"Africa\", \"Africa\", \"Africa\", \"Africa\", \"Africa\", \"Africa\", \"Africa\", \"Africa\", \"Africa\", \"Africa\", \"Africa\", \"Africa\", \"Africa\", \"Africa\", \"Africa\", \"Africa\", \"Africa\", \"Africa\", \"Africa\", \"Africa\", \"Africa\", \"Africa\", \"Africa\", \"Africa\", \"Africa\"], \"xaxis\": \"x\", \"y\": [4797.295051, 2277.140884, 1232.975292, 8647.142313, 946.2949617999999, 463.1151478, 1694.337469, 740.5063317, 1004.9613529999999, 1173.618235, 312.188423, 3484.1643759999997, 1786.265407, 1895.016984, 4173.181797, 2814.480755, 913.4707900000001, 515.8894013, 14722.841880000002, 653.7301704, 1005.2458119999999, 869.4497667999999, 796.6644681, 1360.4850210000002, 1186.147994, 609.1739508, 9467.446056, 986.2958956, 692.2758102999999, 790.2579846, 1483.1361359999999, 7425.705295000001, 2982.101858, 472.34607710000006, 3899.52426, 580.3052092, 1624.941275, 6071.941411, 589.9445051, 1339.076036, 1392.368347, 574.6481576, 930.5964284, 7479.188244, 1632.2107640000002, 3876.7684600000002, 789.1862231, 982.2869242999999, 4876.798614, 816.559081, 1071.353818, 792.4499602999999], \"yaxis\": \"y\", \"type\": \"bar\"}, {\"alignmentgroup\": \"True\", \"hovertemplate\": \"continent=%{x}<br>year=1997<br>gdpPercap=%{y}<extra></extra>\", \"ids\": [\"Argentina\", \"Bolivia\", \"Brazil\", \"Canada\", \"Chile\", \"Colombia\", \"Costa Rica\", \"Cuba\", \"Dominican Republic\", \"Ecuador\", \"El Salvador\", \"Guatemala\", \"Haiti\", \"Honduras\", \"Jamaica\", \"Mexico\", \"Nicaragua\", \"Panama\", \"Paraguay\", \"Peru\", \"Puerto Rico\", \"Trinidad and Tobago\", \"United States\", \"Uruguay\", \"Venezuela\"], \"legendgroup\": \"Americas\", \"marker\": {\"color\": \"#ab63fa\"}, \"name\": \"Americas\", \"offsetgroup\": \"Americas\", \"orientation\": \"v\", \"showlegend\": true, \"textposition\": \"auto\", \"x\": [\"Americas\", \"Americas\", \"Americas\", \"Americas\", \"Americas\", \"Americas\", \"Americas\", \"Americas\", \"Americas\", \"Americas\", \"Americas\", \"Americas\", \"Americas\", \"Americas\", \"Americas\", \"Americas\", \"Americas\", \"Americas\", \"Americas\", \"Americas\", \"Americas\", \"Americas\", \"Americas\", \"Americas\", \"Americas\"], \"xaxis\": \"x\", \"y\": [10967.28195, 3326.143191, 7957.980823999999, 28954.92589, 10118.053179999999, 6117.3617460000005, 6677.045314, 5431.990415, 3614.101285, 7429.455876999999, 5154.825496, 4684.313807, 1341.7269310000001, 3160.454906, 7121.924704000001, 9767.29753, 2253.023004, 7113.692252, 4247.400261, 5838.347657, 16999.4333, 8792.573126000001, 35767.43303, 9230.240708, 10165.49518], \"yaxis\": \"y\", \"type\": \"bar\"}, {\"alignmentgroup\": \"True\", \"hovertemplate\": \"continent=%{x}<br>year=1997<br>gdpPercap=%{y}<extra></extra>\", \"ids\": [\"Australia\", \"New Zealand\"], \"legendgroup\": \"Oceania\", \"marker\": {\"color\": \"#FFA15A\"}, \"name\": \"Oceania\", \"offsetgroup\": \"Oceania\", \"orientation\": \"v\", \"showlegend\": true, \"textposition\": \"auto\", \"x\": [\"Oceania\", \"Oceania\"], \"xaxis\": \"x\", \"y\": [26997.936569999998, 21050.41377], \"yaxis\": \"y\", \"type\": \"bar\"}], \"name\": \"1997\"}, {\"data\": [{\"alignmentgroup\": \"True\", \"hovertemplate\": \"continent=%{x}<br>year=2002<br>gdpPercap=%{y}<extra></extra>\", \"ids\": [\"Afghanistan\", \"Bahrain\", \"Bangladesh\", \"Cambodia\", \"China\", \"Hong Kong, China\", \"India\", \"Indonesia\", \"Iran\", \"Iraq\", \"Israel\", \"Japan\", \"Jordan\", \"Korea, Dem. Rep.\", \"Korea, Rep.\", \"Kuwait\", \"Lebanon\", \"Malaysia\", \"Mongolia\", \"Myanmar\", \"Nepal\", \"Oman\", \"Pakistan\", \"Philippines\", \"Saudi Arabia\", \"Singapore\", \"Sri Lanka\", \"Syria\", \"Taiwan\", \"Thailand\", \"Vietnam\", \"West Bank and Gaza\", \"Yemen, Rep.\"], \"legendgroup\": \"Asia\", \"marker\": {\"color\": \"#636efa\"}, \"name\": \"Asia\", \"offsetgroup\": \"Asia\", \"orientation\": \"v\", \"showlegend\": true, \"textposition\": \"auto\", \"x\": [\"Asia\", \"Asia\", \"Asia\", \"Asia\", \"Asia\", \"Asia\", \"Asia\", \"Asia\", \"Asia\", \"Asia\", \"Asia\", \"Asia\", \"Asia\", \"Asia\", \"Asia\", \"Asia\", \"Asia\", \"Asia\", \"Asia\", \"Asia\", \"Asia\", \"Asia\", \"Asia\", \"Asia\", \"Asia\", \"Asia\", \"Asia\", \"Asia\", \"Asia\", \"Asia\", \"Asia\", \"Asia\", \"Asia\"], \"xaxis\": \"x\", \"y\": [726.7340548, 23403.559269999998, 1136.3904300000002, 896.2260152999999, 3119.280896, 30209.015160000003, 1746.769454, 2873.91287, 9240.761975, 4390.717312, 21905.59514, 28604.5919, 3844.9171939999997, 1646.758151, 19233.98818, 35110.10566, 9313.93883, 10206.97794, 2140.7393230000002, 611.0, 1057.206311, 19774.83687, 2092.712441, 2650.921068, 19014.54118, 36023.1054, 3015.3788329999998, 4090.9253310000004, 23235.42329, 5913.187529, 1764.456677, 4515.487575, 2234.820827], \"yaxis\": \"y\", \"type\": \"bar\"}, {\"alignmentgroup\": \"True\", \"hovertemplate\": \"continent=%{x}<br>year=2002<br>gdpPercap=%{y}<extra></extra>\", \"ids\": [\"Albania\", \"Austria\", \"Belgium\", \"Bosnia and Herzegovina\", \"Bulgaria\", \"Croatia\", \"Czech Republic\", \"Denmark\", \"Finland\", \"France\", \"Germany\", \"Greece\", \"Hungary\", \"Iceland\", \"Ireland\", \"Italy\", \"Montenegro\", \"Netherlands\", \"Norway\", \"Poland\", \"Portugal\", \"Romania\", \"Serbia\", \"Slovak Republic\", \"Slovenia\", \"Spain\", \"Sweden\", \"Switzerland\", \"Turkey\", \"United Kingdom\"], \"legendgroup\": \"Europe\", \"marker\": {\"color\": \"#EF553B\"}, \"name\": \"Europe\", \"offsetgroup\": \"Europe\", \"orientation\": \"v\", \"showlegend\": true, \"textposition\": \"auto\", \"x\": [\"Europe\", \"Europe\", \"Europe\", \"Europe\", \"Europe\", \"Europe\", \"Europe\", \"Europe\", \"Europe\", \"Europe\", \"Europe\", \"Europe\", \"Europe\", \"Europe\", \"Europe\", \"Europe\", \"Europe\", \"Europe\", \"Europe\", \"Europe\", \"Europe\", \"Europe\", \"Europe\", \"Europe\", \"Europe\", \"Europe\", \"Europe\", \"Europe\", \"Europe\", \"Europe\"], \"xaxis\": \"x\", \"y\": [4604.211737, 32417.607689999997, 30485.88375, 6018.975239, 7696.777725, 11628.38895, 17596.210219999997, 32166.500060000002, 28204.59057, 28926.032339999998, 30035.80198, 22514.2548, 14843.93556, 31163.201960000002, 34077.04939, 27968.098169999997, 6557.194282, 33724.75778, 44683.97525, 12002.23908, 19970.90787, 7885.360081, 7236.075251, 13638.778369999998, 20660.01936, 24835.47166, 29341.630930000003, 34480.95771, 6508.085718, 29478.99919], \"yaxis\": \"y\", \"type\": \"bar\"}, {\"alignmentgroup\": \"True\", \"hovertemplate\": \"continent=%{x}<br>year=2002<br>gdpPercap=%{y}<extra></extra>\", \"ids\": [\"Algeria\", \"Angola\", \"Benin\", \"Botswana\", \"Burkina Faso\", \"Burundi\", \"Cameroon\", \"Central African Republic\", \"Chad\", \"Comoros\", \"Congo, Dem. Rep.\", \"Congo, Rep.\", \"Cote d'Ivoire\", \"Djibouti\", \"Egypt\", \"Equatorial Guinea\", \"Eritrea\", \"Ethiopia\", \"Gabon\", \"Gambia\", \"Ghana\", \"Guinea\", \"Guinea-Bissau\", \"Kenya\", \"Lesotho\", \"Liberia\", \"Libya\", \"Madagascar\", \"Malawi\", \"Mali\", \"Mauritania\", \"Mauritius\", \"Morocco\", \"Mozambique\", \"Namibia\", \"Niger\", \"Nigeria\", \"Reunion\", \"Rwanda\", \"Sao Tome and Principe\", \"Senegal\", \"Sierra Leone\", \"Somalia\", \"South Africa\", \"Sudan\", \"Swaziland\", \"Tanzania\", \"Togo\", \"Tunisia\", \"Uganda\", \"Zambia\", \"Zimbabwe\"], \"legendgroup\": \"Africa\", \"marker\": {\"color\": \"#00cc96\"}, \"name\": \"Africa\", \"offsetgroup\": \"Africa\", \"orientation\": \"v\", \"showlegend\": true, \"textposition\": \"auto\", \"x\": [\"Africa\", \"Africa\", \"Africa\", \"Africa\", \"Africa\", \"Africa\", \"Africa\", \"Africa\", \"Africa\", \"Africa\", \"Africa\", \"Africa\", \"Africa\", \"Africa\", \"Africa\", \"Africa\", \"Africa\", \"Africa\", \"Africa\", \"Africa\", \"Africa\", \"Africa\", \"Africa\", \"Africa\", \"Africa\", \"Africa\", \"Africa\", \"Africa\", \"Africa\", \"Africa\", \"Africa\", \"Africa\", \"Africa\", \"Africa\", \"Africa\", \"Africa\", \"Africa\", \"Africa\", \"Africa\", \"Africa\", \"Africa\", \"Africa\", \"Africa\", \"Africa\", \"Africa\", \"Africa\", \"Africa\", \"Africa\", \"Africa\", \"Africa\", \"Africa\", \"Africa\"], \"xaxis\": \"x\", \"y\": [5288.040382, 2773.287312, 1372.877931, 11003.60508, 1037.645221, 446.4035126, 1934.0114489999999, 738.6906068, 1156.18186, 1075.811558, 241.16587650000002, 3484.06197, 1648.800823, 1908.2608670000002, 4754.604414, 7703.4959, 765.3500015, 530.0535319, 12521.71392, 660.5855997, 1111.9845779999998, 945.5835837000001, 575.7047176, 1287.514732, 1275.184575, 531.4823679, 9534.677467, 894.6370822, 665.4231186000001, 951.4097517999999, 1579.0195429999999, 9021.815894, 3258.495584, 633.6179466, 4072.3247509999997, 601.0745012, 1615.2863949999999, 6316.1652, 785.6537647999999, 1353.09239, 1519.635262, 699.4897129999999, 882.0818218000001, 7710.946444, 1993.398314, 4128.116943, 899.0742111, 886.2205765000001, 5722.895654999999, 927.7210018, 1071.6139380000002, 672.0386227000001], \"yaxis\": \"y\", \"type\": \"bar\"}, {\"alignmentgroup\": \"True\", \"hovertemplate\": \"continent=%{x}<br>year=2002<br>gdpPercap=%{y}<extra></extra>\", \"ids\": [\"Argentina\", \"Bolivia\", \"Brazil\", \"Canada\", \"Chile\", \"Colombia\", \"Costa Rica\", \"Cuba\", \"Dominican Republic\", \"Ecuador\", \"El Salvador\", \"Guatemala\", \"Haiti\", \"Honduras\", \"Jamaica\", \"Mexico\", \"Nicaragua\", \"Panama\", \"Paraguay\", \"Peru\", \"Puerto Rico\", \"Trinidad and Tobago\", \"United States\", \"Uruguay\", \"Venezuela\"], \"legendgroup\": \"Americas\", \"marker\": {\"color\": \"#ab63fa\"}, \"name\": \"Americas\", \"offsetgroup\": \"Americas\", \"orientation\": \"v\", \"showlegend\": true, \"textposition\": \"auto\", \"x\": [\"Americas\", \"Americas\", \"Americas\", \"Americas\", \"Americas\", \"Americas\", \"Americas\", \"Americas\", \"Americas\", \"Americas\", \"Americas\", \"Americas\", \"Americas\", \"Americas\", \"Americas\", \"Americas\", \"Americas\", \"Americas\", \"Americas\", \"Americas\", \"Americas\", \"Americas\", \"Americas\", \"Americas\", \"Americas\"], \"xaxis\": \"x\", \"y\": [8797.640716, 3413.26269, 8131.212843000001, 33328.96507, 10778.78385, 5755.259962, 7723.447195000001, 6340.646683, 4563.808154, 5773.0445119999995, 5351.568665999999, 4858.347495, 1270.364932, 3099.72866, 6994.774861, 10742.44053, 2474.548819, 7356.031934000001, 3783.674243, 5909.020073, 18855.606180000002, 11460.60023, 39097.09955, 7727.002004000001, 8605.047831], \"yaxis\": \"y\", \"type\": \"bar\"}, {\"alignmentgroup\": \"True\", \"hovertemplate\": \"continent=%{x}<br>year=2002<br>gdpPercap=%{y}<extra></extra>\", \"ids\": [\"Australia\", \"New Zealand\"], \"legendgroup\": \"Oceania\", \"marker\": {\"color\": \"#FFA15A\"}, \"name\": \"Oceania\", \"offsetgroup\": \"Oceania\", \"orientation\": \"v\", \"showlegend\": true, \"textposition\": \"auto\", \"x\": [\"Oceania\", \"Oceania\"], \"xaxis\": \"x\", \"y\": [30687.75473, 23189.80135], \"yaxis\": \"y\", \"type\": \"bar\"}], \"name\": \"2002\"}, {\"data\": [{\"alignmentgroup\": \"True\", \"hovertemplate\": \"continent=%{x}<br>year=2007<br>gdpPercap=%{y}<extra></extra>\", \"ids\": [\"Afghanistan\", \"Bahrain\", \"Bangladesh\", \"Cambodia\", \"China\", \"Hong Kong, China\", \"India\", \"Indonesia\", \"Iran\", \"Iraq\", \"Israel\", \"Japan\", \"Jordan\", \"Korea, Dem. Rep.\", \"Korea, Rep.\", \"Kuwait\", \"Lebanon\", \"Malaysia\", \"Mongolia\", \"Myanmar\", \"Nepal\", \"Oman\", \"Pakistan\", \"Philippines\", \"Saudi Arabia\", \"Singapore\", \"Sri Lanka\", \"Syria\", \"Taiwan\", \"Thailand\", \"Vietnam\", \"West Bank and Gaza\", \"Yemen, Rep.\"], \"legendgroup\": \"Asia\", \"marker\": {\"color\": \"#636efa\"}, \"name\": \"Asia\", \"offsetgroup\": \"Asia\", \"orientation\": \"v\", \"showlegend\": true, \"textposition\": \"auto\", \"x\": [\"Asia\", \"Asia\", \"Asia\", \"Asia\", \"Asia\", \"Asia\", \"Asia\", \"Asia\", \"Asia\", \"Asia\", \"Asia\", \"Asia\", \"Asia\", \"Asia\", \"Asia\", \"Asia\", \"Asia\", \"Asia\", \"Asia\", \"Asia\", \"Asia\", \"Asia\", \"Asia\", \"Asia\", \"Asia\", \"Asia\", \"Asia\", \"Asia\", \"Asia\", \"Asia\", \"Asia\", \"Asia\", \"Asia\"], \"xaxis\": \"x\", \"y\": [974.5803384, 29796.048339999998, 1391.253792, 1713.7786859999999, 4959.1148539999995, 39724.97867, 2452.210407, 3540.6515640000002, 11605.71449, 4471.061906, 25523.2771, 31656.06806, 4519.461171, 1593.06548, 23348.139730000003, 47306.98978, 10461.05868, 12451.6558, 3095.7722710000003, 944.0, 1091.359778, 22316.19287, 2605.94758, 3190.481016, 21654.83194, 47143.179639999995, 3970.0954070000003, 4184.548089, 28718.27684, 7458.3963269999995, 2441.576404, 3025.349798, 2280.769906], \"yaxis\": \"y\", \"type\": \"bar\"}, {\"alignmentgroup\": \"True\", \"hovertemplate\": \"continent=%{x}<br>year=2007<br>gdpPercap=%{y}<extra></extra>\", \"ids\": [\"Albania\", \"Austria\", \"Belgium\", \"Bosnia and Herzegovina\", \"Bulgaria\", \"Croatia\", \"Czech Republic\", \"Denmark\", \"Finland\", \"France\", \"Germany\", \"Greece\", \"Hungary\", \"Iceland\", \"Ireland\", \"Italy\", \"Montenegro\", \"Netherlands\", \"Norway\", \"Poland\", \"Portugal\", \"Romania\", \"Serbia\", \"Slovak Republic\", \"Slovenia\", \"Spain\", \"Sweden\", \"Switzerland\", \"Turkey\", \"United Kingdom\"], \"legendgroup\": \"Europe\", \"marker\": {\"color\": \"#EF553B\"}, \"name\": \"Europe\", \"offsetgroup\": \"Europe\", \"orientation\": \"v\", \"showlegend\": true, \"textposition\": \"auto\", \"x\": [\"Europe\", \"Europe\", \"Europe\", \"Europe\", \"Europe\", \"Europe\", \"Europe\", \"Europe\", \"Europe\", \"Europe\", \"Europe\", \"Europe\", \"Europe\", \"Europe\", \"Europe\", \"Europe\", \"Europe\", \"Europe\", \"Europe\", \"Europe\", \"Europe\", \"Europe\", \"Europe\", \"Europe\", \"Europe\", \"Europe\", \"Europe\", \"Europe\", \"Europe\", \"Europe\"], \"xaxis\": \"x\", \"y\": [5937.029525999999, 36126.4927, 33692.60508, 7446.298803, 10680.79282, 14619.222719999998, 22833.30851, 35278.41874, 33207.0844, 30470.0167, 32170.37442, 27538.41188, 18008.94444, 36180.789189999996, 40675.99635, 28569.7197, 9253.896111, 36797.93332, 49357.19017, 15389.924680000002, 20509.64777, 10808.47561, 9786.534714, 18678.31435, 25768.25759, 28821.0637, 33859.74835, 37506.419069999996, 8458.276384, 33203.26128], \"yaxis\": \"y\", \"type\": \"bar\"}, {\"alignmentgroup\": \"True\", \"hovertemplate\": \"continent=%{x}<br>year=2007<br>gdpPercap=%{y}<extra></extra>\", \"ids\": [\"Algeria\", \"Angola\", \"Benin\", \"Botswana\", \"Burkina Faso\", \"Burundi\", \"Cameroon\", \"Central African Republic\", \"Chad\", \"Comoros\", \"Congo, Dem. Rep.\", \"Congo, Rep.\", \"Cote d'Ivoire\", \"Djibouti\", \"Egypt\", \"Equatorial Guinea\", \"Eritrea\", \"Ethiopia\", \"Gabon\", \"Gambia\", \"Ghana\", \"Guinea\", \"Guinea-Bissau\", \"Kenya\", \"Lesotho\", \"Liberia\", \"Libya\", \"Madagascar\", \"Malawi\", \"Mali\", \"Mauritania\", \"Mauritius\", \"Morocco\", \"Mozambique\", \"Namibia\", \"Niger\", \"Nigeria\", \"Reunion\", \"Rwanda\", \"Sao Tome and Principe\", \"Senegal\", \"Sierra Leone\", \"Somalia\", \"South Africa\", \"Sudan\", \"Swaziland\", \"Tanzania\", \"Togo\", \"Tunisia\", \"Uganda\", \"Zambia\", \"Zimbabwe\"], \"legendgroup\": \"Africa\", \"marker\": {\"color\": \"#00cc96\"}, \"name\": \"Africa\", \"offsetgroup\": \"Africa\", \"orientation\": \"v\", \"showlegend\": true, \"textposition\": \"auto\", \"x\": [\"Africa\", \"Africa\", \"Africa\", \"Africa\", \"Africa\", \"Africa\", \"Africa\", \"Africa\", \"Africa\", \"Africa\", \"Africa\", \"Africa\", \"Africa\", \"Africa\", \"Africa\", \"Africa\", \"Africa\", \"Africa\", \"Africa\", \"Africa\", \"Africa\", \"Africa\", \"Africa\", \"Africa\", \"Africa\", \"Africa\", \"Africa\", \"Africa\", \"Africa\", \"Africa\", \"Africa\", \"Africa\", \"Africa\", \"Africa\", \"Africa\", \"Africa\", \"Africa\", \"Africa\", \"Africa\", \"Africa\", \"Africa\", \"Africa\", \"Africa\", \"Africa\", \"Africa\", \"Africa\", \"Africa\", \"Africa\", \"Africa\", \"Africa\", \"Africa\", \"Africa\"], \"xaxis\": \"x\", \"y\": [6223.367465, 4797.231267, 1441.284873, 12569.851770000001, 1217.032994, 430.07069160000003, 2042.0952399999999, 706.016537, 1704.0637239999999, 986.1478792000001, 277.55185869999997, 3632.557798, 1544.750112, 2082.4815670000003, 5581.180998, 12154.08975, 641.3695236000001, 690.8055759, 13206.48452, 752.7497265, 1327.60891, 942.6542111, 579.2317429999999, 1463.249282, 1569.331442, 414.5073415, 12057.49928, 1044.770126, 759.3499101, 1042.581557, 1803.1514960000002, 10956.99112, 3820.17523, 823.6856205, 4811.060429, 619.6768923999999, 2013.9773050000001, 7670.122558, 863.0884639000001, 1598.435089, 1712.4721359999999, 862.5407561000001, 926.1410683, 9269.657808, 2602.394995, 4513.480643, 1107.482182, 882.9699437999999, 7092.923025, 1056.3801210000001, 1271.211593, 469.70929810000007], \"yaxis\": \"y\", \"type\": \"bar\"}, {\"alignmentgroup\": \"True\", \"hovertemplate\": \"continent=%{x}<br>year=2007<br>gdpPercap=%{y}<extra></extra>\", \"ids\": [\"Argentina\", \"Bolivia\", \"Brazil\", \"Canada\", \"Chile\", \"Colombia\", \"Costa Rica\", \"Cuba\", \"Dominican Republic\", \"Ecuador\", \"El Salvador\", \"Guatemala\", \"Haiti\", \"Honduras\", \"Jamaica\", \"Mexico\", \"Nicaragua\", \"Panama\", \"Paraguay\", \"Peru\", \"Puerto Rico\", \"Trinidad and Tobago\", \"United States\", \"Uruguay\", \"Venezuela\"], \"legendgroup\": \"Americas\", \"marker\": {\"color\": \"#ab63fa\"}, \"name\": \"Americas\", \"offsetgroup\": \"Americas\", \"orientation\": \"v\", \"showlegend\": true, \"textposition\": \"auto\", \"x\": [\"Americas\", \"Americas\", \"Americas\", \"Americas\", \"Americas\", \"Americas\", \"Americas\", \"Americas\", \"Americas\", \"Americas\", \"Americas\", \"Americas\", \"Americas\", \"Americas\", \"Americas\", \"Americas\", \"Americas\", \"Americas\", \"Americas\", \"Americas\", \"Americas\", \"Americas\", \"Americas\", \"Americas\", \"Americas\"], \"xaxis\": \"x\", \"y\": [12779.379640000001, 3822.1370840000004, 9065.800825, 36319.235010000004, 13171.63885, 7006.580419, 9645.06142, 8948.102923, 6025.374752000001, 6873.262326000001, 5728.353514, 5186.050003, 1201.637154, 3548.3308460000003, 7320.880262000001, 11977.57496, 2749.320965, 9809.185636, 4172.838464, 7408.905561, 19328.70901, 18008.50924, 42951.65309, 10611.46299, 11415.805690000001], \"yaxis\": \"y\", \"type\": \"bar\"}, {\"alignmentgroup\": \"True\", \"hovertemplate\": \"continent=%{x}<br>year=2007<br>gdpPercap=%{y}<extra></extra>\", \"ids\": [\"Australia\", \"New Zealand\"], \"legendgroup\": \"Oceania\", \"marker\": {\"color\": \"#FFA15A\"}, \"name\": \"Oceania\", \"offsetgroup\": \"Oceania\", \"orientation\": \"v\", \"showlegend\": true, \"textposition\": \"auto\", \"x\": [\"Oceania\", \"Oceania\"], \"xaxis\": \"x\", \"y\": [34435.367439999995, 25185.00911], \"yaxis\": \"y\", \"type\": \"bar\"}], \"name\": \"2007\"}]);\n",
       "                        }).then(function(){\n",
       "                            \n",
       "var gd = document.getElementById('80bcc6e3-0462-43ed-b8d1-eb377721bcae');\n",
       "var x = new MutationObserver(function (mutations, observer) {{\n",
       "        var display = window.getComputedStyle(gd).display;\n",
       "        if (!display || display === 'none') {{\n",
       "            console.log([gd, 'removed!']);\n",
       "            Plotly.purge(gd);\n",
       "            observer.disconnect();\n",
       "        }}\n",
       "}});\n",
       "\n",
       "// Listen for the removal of the full notebook cells\n",
       "var notebookContainer = gd.closest('#notebook-container');\n",
       "if (notebookContainer) {{\n",
       "    x.observe(notebookContainer, {childList: true});\n",
       "}}\n",
       "\n",
       "// Listen for the clearing of the current output cell\n",
       "var outputEl = gd.closest('.output');\n",
       "if (outputEl) {{\n",
       "    x.observe(outputEl, {childList: true});\n",
       "}}\n",
       "\n",
       "                        })\n",
       "                };\n",
       "                });\n",
       "            </script>\n",
       "        </div>"
      ]
     },
     "metadata": {},
     "output_type": "display_data"
    }
   ],
   "source": [
    "import plotly.express as px\n",
    "\n",
    "df = px.data.gapminder()\n",
    "\n",
    "fig = px.bar(df,\n",
    "             x='continent',\n",
    "             y='gdpPercap',\n",
    "             color='continent',\n",
    "             animation_frame='year',\n",
    "             animation_group='country',\n",
    "             range_y=[0, 1000000])\n",
    "fig.show()"
   ]
  }
 ],
 "metadata": {
  "kernelspec": {
   "display_name": "Python 3",
   "language": "python",
   "name": "python3"
  },
  "language_info": {
   "codemirror_mode": {
    "name": "ipython",
    "version": 3
   },
   "file_extension": ".py",
   "mimetype": "text/x-python",
   "name": "python",
   "nbconvert_exporter": "python",
   "pygments_lexer": "ipython3",
   "version": "3.7.5"
  },
  "toc": {
   "base_numbering": 1,
   "nav_menu": {},
   "number_sections": true,
   "sideBar": true,
   "skip_h1_title": false,
   "title_cell": "Table of Contents",
   "title_sidebar": "Contents",
   "toc_cell": false,
   "toc_position": {},
   "toc_section_display": true,
   "toc_window_display": true
  },
  "varInspector": {
   "cols": {
    "lenName": 16,
    "lenType": 16,
    "lenVar": 40
   },
   "kernels_config": {
    "python": {
     "delete_cmd_postfix": "",
     "delete_cmd_prefix": "del ",
     "library": "var_list.py",
     "varRefreshCmd": "print(var_dic_list())"
    },
    "r": {
     "delete_cmd_postfix": ") ",
     "delete_cmd_prefix": "rm(",
     "library": "var_list.r",
     "varRefreshCmd": "cat(var_dic_list()) "
    }
   },
   "types_to_exclude": [
    "module",
    "function",
    "builtin_function_or_method",
    "instance",
    "_Feature"
   ],
   "window_display": false
  }
 },
 "nbformat": 4,
 "nbformat_minor": 4
}
