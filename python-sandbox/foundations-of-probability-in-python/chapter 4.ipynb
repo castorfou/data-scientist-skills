{
 "cells": [
  {
   "cell_type": "markdown",
   "metadata": {},
   "source": [
    "# From sample mean to population mean\n"
   ]
  },
  {
   "cell_type": "markdown",
   "metadata": {},
   "source": [
    "## Generating a sample\n",
    "A hospital's planning department is investigating different treatments for newborns. As a data scientist you are hired to simulate the sex of 250 newborn children, and you are told that on average 50.50% are males."
   ]
  },
  {
   "cell_type": "markdown",
   "metadata": {},
   "source": [
    "### code"
   ]
  },
  {
   "cell_type": "code",
   "execution_count": 1,
   "metadata": {
    "ExecuteTime": {
     "end_time": "2020-05-04T08:30:58.131758Z",
     "start_time": "2020-05-04T08:30:57.688498Z"
    }
   },
   "outputs": [
    {
     "name": "stdout",
     "output_type": "stream",
     "text": [
      "[1 0 0 0 1 1 1 0 0 0 1 0 0 1 1 1 1 0 1 1 0 1 1 1 1 0 1 0 0 1 0 1 1 0 0 0 1\n",
      " 1 0 1 1 1 1 0 1 0 1 0 0 1 0 0 0 0 0 0 1 1 1 1 1 1 0 1 1 0 1 0 1 0 0 1 1 0\n",
      " 0 0 0 1 1 1 0 0 1 1 1 1 0 0 0 1 1 0 0 0 0 1 0 1 1 1 1 0 1 0 0 1 1 0 1 1 1\n",
      " 1 0 0 0 0 0 1 0 0 0 0 1 1 1 1 0 0 1 0 1 1 1 1 0 1 0 0 1 0 0 1 1 1 1 1 0 1\n",
      " 1 1 0 1 1 1 0 1 0 0 1 0 1 0 0 0 1 0 1 1 1 0 0 1 0 1 0 1 0 1 0 1 1 1 0 0 1\n",
      " 0 0 0 0 1 1 0 0 0 1 1 0 0 0 0 0 1 1 0 0 1 1 0 1 1 0 0 0 1 0 1 1 0 0 0 0 0\n",
      " 1 1 1 1 0 1 0 0 0 1 0 1 1 0 1 1 0 1 0 0 0 1 1 0 1 0 0 0]\n"
     ]
    }
   ],
   "source": [
    "# Import the binom object\n",
    "from scipy.stats import binom\n",
    "\n",
    "# Generate a sample of 250 newborn children\n",
    "sample = binom.rvs(n=1, p=0.505, size=250, random_state=42)\n",
    "\n",
    "# Show the sample values\n",
    "print(sample)"
   ]
  },
  {
   "cell_type": "markdown",
   "metadata": {},
   "source": [
    "## Calculating the sample mean\n",
    "Now you can calculate the sample mean for this generated sample by taking some elements from the sample.\n",
    "\n",
    "Using the sample variable you just created, you'll calculate the sample means of the first 10, 50, and 250 samples.\n",
    "\n",
    "The binom object and describe() method from scipy.stats have been imported for your convenience."
   ]
  },
  {
   "cell_type": "markdown",
   "metadata": {},
   "source": [
    "### code"
   ]
  },
  {
   "cell_type": "code",
   "execution_count": 2,
   "metadata": {
    "ExecuteTime": {
     "end_time": "2020-05-04T08:32:02.625109Z",
     "start_time": "2020-05-04T08:32:02.622101Z"
    }
   },
   "outputs": [],
   "source": [
    "from scipy.stats import describe"
   ]
  },
  {
   "cell_type": "code",
   "execution_count": 3,
   "metadata": {
    "ExecuteTime": {
     "end_time": "2020-05-04T08:32:08.108252Z",
     "start_time": "2020-05-04T08:32:08.103241Z"
    }
   },
   "outputs": [
    {
     "name": "stdout",
     "output_type": "stream",
     "text": [
      "0.4\n"
     ]
    }
   ],
   "source": [
    "# Print the sample mean of the first 10 samples\n",
    "print(describe(sample[0:10]).mean)"
   ]
  },
  {
   "cell_type": "code",
   "execution_count": 4,
   "metadata": {
    "ExecuteTime": {
     "end_time": "2020-05-04T08:32:23.527094Z",
     "start_time": "2020-05-04T08:32:23.522553Z"
    }
   },
   "outputs": [
    {
     "name": "stdout",
     "output_type": "stream",
     "text": [
      "0.56\n"
     ]
    }
   ],
   "source": [
    "# Print the sample mean of the first 50 samples\n",
    "print(describe(sample[0:50]).mean)"
   ]
  },
  {
   "cell_type": "code",
   "execution_count": 5,
   "metadata": {
    "ExecuteTime": {
     "end_time": "2020-05-04T08:32:44.284556Z",
     "start_time": "2020-05-04T08:32:44.278542Z"
    }
   },
   "outputs": [
    {
     "name": "stdout",
     "output_type": "stream",
     "text": [
      "0.504\n"
     ]
    }
   ],
   "source": [
    "# Print the sample mean of the first 250 samples\n",
    "print(describe(sample[0:250]).mean)"
   ]
  },
  {
   "cell_type": "markdown",
   "metadata": {},
   "source": [
    "## Plotting the sample mean\n",
    "Now let's plot the sample mean, so you can see more clearly how it evolves as more data becomes available.\n",
    "\n",
    "For this exercise we'll again use the sample you generated earlier, which is available in the sample variable. The binom object and describe() function have already been imported for you from scipy.stats, and matplotlib.pyplot is available as plt."
   ]
  },
  {
   "cell_type": "markdown",
   "metadata": {},
   "source": [
    "### code"
   ]
  },
  {
   "cell_type": "code",
   "execution_count": 9,
   "metadata": {
    "ExecuteTime": {
     "end_time": "2020-05-04T08:35:46.917866Z",
     "start_time": "2020-05-04T08:35:46.695734Z"
    }
   },
   "outputs": [],
   "source": [
    "import matplotlib.pyplot as plt"
   ]
  },
  {
   "cell_type": "code",
   "execution_count": 10,
   "metadata": {
    "ExecuteTime": {
     "end_time": "2020-05-04T08:35:47.852656Z",
     "start_time": "2020-05-04T08:35:47.708773Z"
    }
   },
   "outputs": [],
   "source": [
    "# Calculate sample mean and store it on averages array\n",
    "averages = []\n",
    "for i in range(2, 251):\n",
    "    averages.append(describe(sample[0:i]).mean)"
   ]
  },
  {
   "cell_type": "code",
   "execution_count": 15,
   "metadata": {
    "ExecuteTime": {
     "end_time": "2020-05-04T08:37:16.391350Z",
     "start_time": "2020-05-04T08:37:16.252981Z"
    }
   },
   "outputs": [
    {
     "data": {
      "image/png": "[encoded data removed]",
      "text/plain": [
       "<Figure size 432x288 with 1 Axes>"
      ]
     },
     "metadata": {
      "needs_background": "light"
     },
     "output_type": "display_data"
    }
   ],
   "source": [
    "# Add population mean line and sample mean plot\n",
    "plt.axhline(binom.mean(n=1, p=0.505), color='red')\n",
    "plt.plot(averages, '-')\n",
    "\n",
    "# Add legend\n",
    "plt.legend((\"Population mean\",\"Sample mean\"), loc='upper right')\n",
    "plt.show()"
   ]
  },
  {
   "cell_type": "markdown",
   "metadata": {},
   "source": [
    "# Adding random variables\n"
   ]
  },
  {
   "cell_type": "markdown",
   "metadata": {},
   "source": [
    "## Sample means\n",
    "An important result in probability and statistics is that the shape of the distribution of the means of random variables tends to a normal distribution, which happens when you add random variables with any distribution with the same expected value and variance.\n",
    "\n",
    "For your convenience, we've loaded binom and describe() from the scipy.stats library and imported matplotlib.pyplot as plt and numpy as np. We generated a simulated population with size 1,000 that follows a binomial distribution for 10 fair coin flips and is available in the population variable."
   ]
  },
  {
   "cell_type": "markdown",
   "metadata": {},
   "source": [
    "### code"
   ]
  },
  {
   "cell_type": "code",
   "execution_count": 2,
   "metadata": {
    "ExecuteTime": {
     "end_time": "2020-05-04T13:13:37.665112Z",
     "start_time": "2020-05-04T13:13:37.660097Z"
    }
   },
   "outputs": [],
   "source": [
    "from scipy.stats import binom, describe\n",
    "import matplotlib.pyplot as plt\n",
    "import numpy as np\n",
    "population = binom.rvs(n=10, p=0.5, size=1000)"
   ]
  },
  {
   "cell_type": "code",
   "execution_count": 5,
   "metadata": {
    "ExecuteTime": {
     "end_time": "2020-05-04T13:15:37.805212Z",
     "start_time": "2020-05-04T13:15:37.062795Z"
    }
   },
   "outputs": [],
   "source": [
    "# Create list for sample means\n",
    "sample_means = []\n",
    "for _ in range(1500):\n",
    "\t# Take 20 values from the population\n",
    "    sample = np.random.choice(population, 20)\n",
    "    # Calculate the sample mean\n",
    "    sample_means.append(describe(sample).mean)"
   ]
  },
  {
   "cell_type": "code",
   "execution_count": 6,
   "metadata": {
    "ExecuteTime": {
     "end_time": "2020-05-04T13:15:59.092946Z",
     "start_time": "2020-05-04T13:15:58.922559Z"
    }
   },
   "outputs": [
    {
     "data": {
      "image/png": "[encoded data removed]",
      "text/plain": [
       "<Figure size 432x288 with 1 Axes>"
      ]
     },
     "metadata": {
      "needs_background": "light"
     },
     "output_type": "display_data"
    }
   ],
   "source": [
    "\n",
    "# Plot the histogram\n",
    "plt.hist(sample_means)\n",
    "plt.xlabel(\"Sample mean values\")\n",
    "plt.ylabel(\"Frequency\")\n",
    "plt.show()"
   ]
  },
  {
   "cell_type": "markdown",
   "metadata": {},
   "source": [
    "## Sample means follow a normal distribution\n",
    "In the previous exercise, we generated a population that followed a binomial distribution, chose 20 random samples from the population, and calculated the sample mean. Now we're going to test some other probability distributions to see the shape of the sample means.\n",
    "\n",
    "From the scipy.stats library, we've loaded the poisson and geom objects and the describe() function. We've also imported matplotlib.pyplot as plt and numpy as np.\n",
    "\n",
    "As you'll see, the shape of the distribution of the means is the same even though the samples are generated from different distributions."
   ]
  },
  {
   "cell_type": "markdown",
   "metadata": {},
   "source": [
    "### code"
   ]
  },
  {
   "cell_type": "code",
   "execution_count": 7,
   "metadata": {
    "ExecuteTime": {
     "end_time": "2020-05-04T13:17:15.849783Z",
     "start_time": "2020-05-04T13:17:15.845756Z"
    }
   },
   "outputs": [],
   "source": [
    "from scipy.stats import geom\n"
   ]
  },
  {
   "cell_type": "code",
   "execution_count": 8,
   "metadata": {
    "ExecuteTime": {
     "end_time": "2020-05-04T13:17:36.846114Z",
     "start_time": "2020-05-04T13:17:35.319745Z"
    }
   },
   "outputs": [
    {
     "data": {
      "image/png": "[encoded data removed]",
      "text/plain": [
       "<Figure size 432x288 with 1 Axes>"
      ]
     },
     "metadata": {
      "needs_background": "light"
     },
     "output_type": "display_data"
    }
   ],
   "source": [
    "# Generate the population\n",
    "population = geom.rvs(p=0.5, size=1000)\n",
    "\n",
    "# Create list for sample means\n",
    "sample_means = []\n",
    "for _ in range(3000):\n",
    "\t# Take 20 values from the population\n",
    "    sample = np.random.choice(population, 20)\n",
    "    # Calculate the sample mean\n",
    "    sample_means.append(describe(sample).mean)\n",
    "\n",
    "# Plot the histogram\n",
    "plt.hist(sample_means)\n",
    "plt.show()"
   ]
  },
  {
   "cell_type": "code",
   "execution_count": 9,
   "metadata": {
    "ExecuteTime": {
     "end_time": "2020-05-04T13:18:12.168785Z",
     "start_time": "2020-05-04T13:18:12.165774Z"
    }
   },
   "outputs": [],
   "source": [
    "from scipy.stats import poisson"
   ]
  },
  {
   "cell_type": "code",
   "execution_count": 10,
   "metadata": {
    "ExecuteTime": {
     "end_time": "2020-05-04T13:18:32.843872Z",
     "start_time": "2020-05-04T13:18:31.988089Z"
    }
   },
   "outputs": [
    {
     "data": {
      "image/png": "[encoded data removed]",
      "text/plain": [
       "<Figure size 432x288 with 1 Axes>"
      ]
     },
     "metadata": {
      "needs_background": "light"
     },
     "output_type": "display_data"
    }
   ],
   "source": [
    "# Generate the population\n",
    "population = poisson.rvs(mu=2, size=1000)\n",
    "\n",
    "# Create list for sample means\n",
    "sample_means = []\n",
    "for _ in range(1500):\n",
    "\t# Take 20 values from the population\n",
    "    sample = np.random.choice(population, 20)\n",
    "    # Calculate the sample mean\n",
    "    sample_means.append(describe(sample).mean)\n",
    "\n",
    "# Plot the histogram\n",
    "plt.hist(sample_means)\n",
    "plt.show()"
   ]
  },
  {
   "cell_type": "markdown",
   "metadata": {},
   "source": [
    "## Adding dice rolls\n",
    "To illustrate the central limit theorem, we are going to work with dice rolls. We'll generate the samples and then add them to plot the outcome.\n",
    "\n",
    "You're provided with a function named roll_dice() that will generate the sample dice rolls. numpy is already imported as np for your convenience: you have to use np.add(sample1, sample2) to add samples. Also, matplotlib.pyplot is imported as plt so you can plot the histograms."
   ]
  },
  {
   "cell_type": "markdown",
   "metadata": {},
   "source": [
    "### init"
   ]
  },
  {
   "cell_type": "code",
   "execution_count": 13,
   "metadata": {
    "ExecuteTime": {
     "end_time": "2020-05-04T13:21:48.293093Z",
     "start_time": "2020-05-04T13:21:48.287076Z"
    }
   },
   "outputs": [],
   "source": [
    "###################\n",
    "##### inspect Function\n",
    "###################\n",
    "\n",
    "\"\"\" à executer sur datacamp: (apres copie du code uploadfromdatacamp.py)\n",
    "import inspect\n",
    "print_func(roll_dice)\n",
    "\"\"\"\n",
    "import random\n",
    "\n",
    "def roll_dice(num_rolls):\n",
    "    \"\"\"Generate dice roll simulations\n",
    "\n",
    "    Parameters\n",
    "    ----------\n",
    "    num_rolls : int\n",
    "        The number of dice rolls to simulate\n",
    "\n",
    "    Returns\n",
    "    -------\n",
    "    list\n",
    "        a list with num_rolls simulations of dice rolls\n",
    "    \"\"\"\n",
    "    \n",
    "    sample = []\n",
    "    for i in range(num_rolls):\n",
    "        sample.append(random.randint(1,6))\n",
    "    return(sample)"
   ]
  },
  {
   "cell_type": "markdown",
   "metadata": {},
   "source": [
    "### code"
   ]
  },
  {
   "cell_type": "code",
   "execution_count": 14,
   "metadata": {
    "ExecuteTime": {
     "end_time": "2020-05-04T13:21:49.192677Z",
     "start_time": "2020-05-04T13:21:49.061757Z"
    }
   },
   "outputs": [
    {
     "data": {
      "image/png": "[encoded data removed]",
      "text/plain": [
       "<Figure size 432x288 with 1 Axes>"
      ]
     },
     "metadata": {
      "needs_background": "light"
     },
     "output_type": "display_data"
    }
   ],
   "source": [
    "# Configure random generator\n",
    "np.random.seed(42)\n",
    "\n",
    "# Generate the sample\n",
    "sample1 = roll_dice(2000)\n",
    "\n",
    "# Plot the sample\n",
    "plt.hist(sample1, bins=range(1, 8), width=0.9)\n",
    "plt.show()  "
   ]
  },
  {
   "cell_type": "code",
   "execution_count": 15,
   "metadata": {
    "ExecuteTime": {
     "end_time": "2020-05-04T13:22:35.845109Z",
     "start_time": "2020-05-04T13:22:35.703793Z"
    }
   },
   "outputs": [
    {
     "data": {
      "image/png": "[encoded data removed]",
      "text/plain": [
       "<Figure size 432x288 with 1 Axes>"
      ]
     },
     "metadata": {
      "needs_background": "light"
     },
     "output_type": "display_data"
    }
   ],
   "source": [
    "# Configure random generator\n",
    "np.random.seed(42)\n",
    "\n",
    "# Generate two samples of 2000 dice rolls\n",
    "sample1 = roll_dice(2000)\n",
    "sample2 = roll_dice(2000)\n",
    "\n",
    "# Add the first two samples\n",
    "sum_of_1_and_2 = np.add(sample1, sample2)\n",
    "\n",
    "# Plot the sum\n",
    "plt.hist(sum_of_1_and_2, bins=range(2, 14), width=0.9)\n",
    "plt.show()"
   ]
  },
  {
   "cell_type": "code",
   "execution_count": 16,
   "metadata": {
    "ExecuteTime": {
     "end_time": "2020-05-04T13:23:25.837045Z",
     "start_time": "2020-05-04T13:23:25.685047Z"
    }
   },
   "outputs": [
    {
     "data": {
      "image/png": "[encoded data removed]",
      "text/plain": [
       "<Figure size 432x288 with 1 Axes>"
      ]
     },
     "metadata": {
      "needs_background": "light"
     },
     "output_type": "display_data"
    }
   ],
   "source": [
    "# Configure random generator\n",
    "np.random.seed(42)\n",
    "\n",
    "# Generate the samples\n",
    "sample1 = roll_dice(2000)\n",
    "sample2 = roll_dice(2000)\n",
    "sample3 = roll_dice(2000)\n",
    "\n",
    "# Add the first two samples\n",
    "sum_of_1_and_2 = np.add(sample1, sample2)\n",
    "\n",
    "# Add the first two with the third sample\n",
    "sum_of_3_samples = np.add(sum_of_1_and_2, sample3)\n",
    "\n",
    "# Plot the result\n",
    "plt.hist(sum_of_3_samples, bins=range(3, 20), width=0.9)\n",
    "plt.show() "
   ]
  },
  {
   "cell_type": "markdown",
   "metadata": {},
   "source": [
    "# Linear regression\n"
   ]
  },
  {
   "cell_type": "markdown",
   "metadata": {},
   "source": [
    "## Fitting a model\n",
    "A university has provided you with data that shows a relationship between the hours of study and the scores that the students get on a given test.\n",
    "\n",
    "You have access to the data through the variables hours_of_study and scores. Use a linear model to learn from the data."
   ]
  },
  {
   "cell_type": "markdown",
   "metadata": {},
   "source": [
    "### code"
   ]
  },
  {
   "cell_type": "code",
   "execution_count": 17,
   "metadata": {
    "ExecuteTime": {
     "end_time": "2020-05-04T13:29:13.818541Z",
     "start_time": "2020-05-04T13:29:13.812524Z"
    }
   },
   "outputs": [],
   "source": [
    "hours_of_study = [4, 8, 8, 12, 8, 9, 6, 11, 13, 13, 19, 16, 17, 17, 21, 21, 23, 27, 30, 24]\n",
    "scores = [52, 54, 61, 63, 63, 60, 61, 70, 75, 77, 76, 79, 81, 83, 85, 86, 88, 90, 95, 93]"
   ]
  },
  {
   "cell_type": "code",
   "execution_count": 18,
   "metadata": {
    "ExecuteTime": {
     "end_time": "2020-05-04T13:30:33.073745Z",
     "start_time": "2020-05-04T13:30:33.067729Z"
    }
   },
   "outputs": [
    {
     "name": "stdout",
     "output_type": "stream",
     "text": [
      "slope: 1.715259850957089\n",
      "intercept: 48.27076128780868\n"
     ]
    }
   ],
   "source": [
    "# Import the linregress() function\n",
    "from scipy.stats import linregress\n",
    "\n",
    "# Get the model parameters\n",
    "slope, intercept, r_value, p_value, std_err = linregress(hours_of_study, scores)\n",
    "\n",
    "# Print the linear model parameters\n",
    "print('slope:', slope)\n",
    "print('intercept:', intercept)"
   ]
  },
  {
   "cell_type": "markdown",
   "metadata": {},
   "source": [
    "## Predicting test scores\n",
    "With the relationship between the hours of study and the scores that students got on a given test, you already got the parameters of a linear model, slope and intercept. With those parameters, let's predict the test score for a student who studies for 10 hours.\n",
    "\n",
    "For this exercise, the linregress() function has been imported for you from scipy.stats."
   ]
  },
  {
   "cell_type": "markdown",
   "metadata": {},
   "source": [
    "### code"
   ]
  },
  {
   "cell_type": "code",
   "execution_count": 19,
   "metadata": {
    "ExecuteTime": {
     "end_time": "2020-05-04T13:31:32.814352Z",
     "start_time": "2020-05-04T13:31:32.810303Z"
    }
   },
   "outputs": [
    {
     "name": "stdout",
     "output_type": "stream",
     "text": [
      "score: 65.42335979737958\n"
     ]
    }
   ],
   "source": [
    "# Get the predicted test score for given hours of study\n",
    "score = slope*10 + intercept\n",
    "print('score:', score)"
   ]
  },
  {
   "cell_type": "code",
   "execution_count": 20,
   "metadata": {
    "ExecuteTime": {
     "end_time": "2020-05-04T13:31:57.183734Z",
     "start_time": "2020-05-04T13:31:57.179722Z"
    }
   },
   "outputs": [
    {
     "name": "stdout",
     "output_type": "stream",
     "text": [
      "score: 63.708099946422486\n"
     ]
    }
   ],
   "source": [
    "# Get the predicted test score for given hours of study\n",
    "score = slope*9 + intercept\n",
    "print('score:', score)"
   ]
  },
  {
   "cell_type": "code",
   "execution_count": 21,
   "metadata": {
    "ExecuteTime": {
     "end_time": "2020-05-04T13:32:10.450041Z",
     "start_time": "2020-05-04T13:32:10.446029Z"
    }
   },
   "outputs": [
    {
     "name": "stdout",
     "output_type": "stream",
     "text": [
      "score: 68.85387949929375\n"
     ]
    }
   ],
   "source": [
    "# Get the predicted test score for given hours of study\n",
    "score = slope*12 + intercept\n",
    "print('score:', score)"
   ]
  },
  {
   "cell_type": "markdown",
   "metadata": {},
   "source": [
    "## Studying residuals\n",
    "To implement a linear model you must study the residuals, which are the distances between the predicted outcomes and the data.\n",
    "\n",
    "Three conditions must be met:\n",
    "\n",
    "- The mean should be 0.\n",
    "- The variance must be constant.\n",
    "- The distribution must be normal.\n",
    "\n",
    "We will work with data of test scores for two schools, A and B, on the same subject. model_A and model_B were fitted with hours_of_study_A and test_scores_A and hours_of_study_B and test_scores_B, respectively.\n",
    "\n",
    "matplotlib.pyplot has been imported as plt, numpy as np and LinearRegression from sklearn.linear_model."
   ]
  },
  {
   "cell_type": "markdown",
   "metadata": {},
   "source": [
    "### init"
   ]
  },
  {
   "cell_type": "code",
   "execution_count": 36,
   "metadata": {
    "ExecuteTime": {
     "end_time": "2020-05-04T13:48:24.971781Z",
     "start_time": "2020-05-04T13:48:24.950725Z"
    }
   },
   "outputs": [
    {
     "data": {
      "text/plain": [
       "LinearRegression(copy_X=True, fit_intercept=True, n_jobs=None, normalize=False)"
      ]
     },
     "execution_count": 36,
     "metadata": {},
     "output_type": "execute_result"
    }
   ],
   "source": [
    "from sklearn.linear_model import LinearRegression\n",
    "hours_of_study_A = np.array([[ 4],       [ 9],       [ 7],       [12],       [ 3],       [ 9],       [ 6],       [11],       [13],       [13],       [19],       [16],       [17],       [17],       [13],       [21],       [23],       [27],       [30],       [24]])\n",
    "hours_of_study_values_A = np.array([[ 1. ],       [ 1.5],       [ 2. ],       [ 2.5],       [ 3. ],       [ 3.5],       [ 4. ],       [ 4.5],       [ 5. ],       [ 5.5],       [ 6. ],       [ 6.5],       [ 7. ],       [ 7.5],       [ 8. ],       [ 8.5],       [ 9. ],       [ 9.5],       [10. ],       [10.5],       [11. ],       [11.5],       [12. ],       [12.5],       [13. ],       [13.5],       [14. ],       [14.5],       [15. ],       [15.5],       [16. ],       [16.5],       [17. ],       [17.5],       [18. ],       [18.5],       [19. ],       [19.5],       [20. ],       [20.5],       [21. ],       [21.5],       [22. ],       [22.5],       [23. ],       [23.5],       [24. ],       [24.5],       [25. ],       [25.5],       [26. ],       [26.5],       [27. ],       [27.5],       [28. ],       [28.5],       [29. ],       [29.5],       [30. ],       [30.5]])\n",
    "hours_of_study_values_B = hours_of_study_values_A\n",
    "hours_of_study_B = np.array([[ 4],       [ 9],       [ 7],       [12],       [ 3],       [ 9],       [ 6],       [11],       [13],       [13],       [19],       [16],       [17],       [17],       [13],       [21],       [23],       [27],       [30],       [24],       [17],       [17],       [19],       [19],       [19],       [19]])\n",
    "\n",
    "test_scores_B = [58, 70, 60, 65, 57, 63, 63, 73, 65, 77, 58, 62, 62, 90, 85, 95, 97, 95, 65, 65, 70, 75, 65, 75, 85, 93]\n",
    "test_scores_A = [52, 56, 59, 60, 61, 62, 63, 73, 75, 77, 76, 79, 81, 83, 85, 87, 89, 89, 89, 93]\n",
    "model_A = LinearRegression()\n",
    "model_A.fit(hours_of_study_A, test_scores_A)\n",
    "model_B = LinearRegression()\n",
    "model_B.fit(hours_of_study_B, test_scores_B)"
   ]
  },
  {
   "cell_type": "markdown",
   "metadata": {},
   "source": [
    "### code"
   ]
  },
  {
   "cell_type": "code",
   "execution_count": 40,
   "metadata": {
    "ExecuteTime": {
     "end_time": "2020-05-04T13:49:05.695279Z",
     "start_time": "2020-05-04T13:49:05.569155Z"
    }
   },
   "outputs": [
    {
     "data": {
      "image/png": "[encoded data removed]",
      "text/plain": [
       "<Figure size 432x288 with 1 Axes>"
      ]
     },
     "metadata": {
      "needs_background": "light"
     },
     "output_type": "display_data"
    }
   ],
   "source": [
    "# Scatterplot of hours of study and test scores\n",
    "plt.scatter(hours_of_study_A, test_scores_A)\n",
    "\n",
    "# Plot of hours_of_study_values_A and predicted values\n",
    "plt.plot(hours_of_study_values_A, model_A.predict(hours_of_study_values_A))\n",
    "plt.title(\"Model A\", fontsize=25)\n",
    "plt.show()"
   ]
  },
  {
   "cell_type": "code",
   "execution_count": 38,
   "metadata": {
    "ExecuteTime": {
     "end_time": "2020-05-04T13:48:30.209330Z",
     "start_time": "2020-05-04T13:48:30.084322Z"
    }
   },
   "outputs": [
    {
     "data": {
      "image/png": "[encoded data removed]",
      "text/plain": [
       "<Figure size 432x288 with 1 Axes>"
      ]
     },
     "metadata": {
      "needs_background": "light"
     },
     "output_type": "display_data"
    }
   ],
   "source": [
    "# Calculate the residuals\n",
    "residuals_A = model_A.predict(hours_of_study_A) - test_scores_A\n",
    "\n",
    "# Make a scatterplot of residuals of model_A\n",
    "plt.scatter(hours_of_study_A, residuals_A)\n",
    "\n",
    "# Add reference line and title and show plot\n",
    "plt.hlines(0, 0, 30, colors='r', linestyles='--')\n",
    "plt.title(\"Residuals plot of Model A\", fontsize=25)\n",
    "plt.show()"
   ]
  },
  {
   "cell_type": "code",
   "execution_count": 41,
   "metadata": {
    "ExecuteTime": {
     "end_time": "2020-05-04T13:49:48.824683Z",
     "start_time": "2020-05-04T13:49:48.684707Z"
    }
   },
   "outputs": [
    {
     "data": {
      "image/png": "[encoded data removed]",
      "text/plain": [
       "<Figure size 432x288 with 1 Axes>"
      ]
     },
     "metadata": {
      "needs_background": "light"
     },
     "output_type": "display_data"
    }
   ],
   "source": [
    "# Scatterplot of hours of study and test scores\n",
    "plt.scatter(hours_of_study_B, test_scores_B)\n",
    "\n",
    "# Plot of hours_of_study_values_B and predicted values\n",
    "plt.plot(hours_of_study_values_B, model_B.predict(hours_of_study_values_B))\n",
    "plt.title(\"Model B\", fontsize=25)\n",
    "plt.show()"
   ]
  },
  {
   "cell_type": "code",
   "execution_count": 42,
   "metadata": {
    "ExecuteTime": {
     "end_time": "2020-05-04T13:50:27.329893Z",
     "start_time": "2020-05-04T13:50:27.193487Z"
    }
   },
   "outputs": [
    {
     "data": {
      "image/png": "[encoded data removed]",
      "text/plain": [
       "<Figure size 432x288 with 1 Axes>"
      ]
     },
     "metadata": {
      "needs_background": "light"
     },
     "output_type": "display_data"
    }
   ],
   "source": [
    "# Calculate the residuals\n",
    "residuals_B = model_B.predict(hours_of_study_B) - test_scores_B\n",
    "\n",
    "# Make a scatterplot of residuals of model_B\n",
    "plt.scatter(hours_of_study_B, residuals_B)\n",
    "\n",
    "# Add reference line and title and show plot\n",
    "plt.hlines(0, 0, 30, colors='r', linestyles='--')\n",
    "plt.title(\"Residuals plot of Model B\", fontsize=25)\n",
    "plt.show()"
   ]
  },
  {
   "cell_type": "markdown",
   "metadata": {},
   "source": [
    "# Logistic regression\n"
   ]
  },
  {
   "cell_type": "markdown",
   "metadata": {},
   "source": [
    "## Fitting a logistic model\n",
    "The university studying the relationship between hours of study and outcomes on a given test has provided you with a data set containing the number of hours the students studied and whether they failed or passed the test, and asked you to fit a model to predict future performance.\n",
    "\n",
    "The data is provided in the variables hours_of_study and outcomes. Use this data to fit a LogisticRegression model. numpy has been imported as np for your convenience."
   ]
  },
  {
   "cell_type": "markdown",
   "metadata": {},
   "source": [
    "### code"
   ]
  },
  {
   "cell_type": "code",
   "execution_count": 43,
   "metadata": {
    "ExecuteTime": {
     "end_time": "2020-05-04T13:58:51.037148Z",
     "start_time": "2020-05-04T13:58:51.031093Z"
    }
   },
   "outputs": [],
   "source": [
    "outcomes= [False, False, False, False, False, False, False, True, True, True, True, True, True, True, True, True, True, True, True, True]\n",
    "hours_of_study = np.array([[ 4],       [ 8],       [ 8],       [12],       [ 8],       [ 9],       [ 6],       [11],       [13],       [13],       [19],       [16],       [17],       [17],       [21],       [21],       [23],       [27],       [30],       [24]])"
   ]
  },
  {
   "cell_type": "code",
   "execution_count": 44,
   "metadata": {
    "ExecuteTime": {
     "end_time": "2020-05-04T13:59:14.111789Z",
     "start_time": "2020-05-04T13:59:14.099756Z"
    }
   },
   "outputs": [
    {
     "name": "stdout",
     "output_type": "stream",
     "text": [
      "1.2509820718463502 -14.133330643419832\n"
     ]
    }
   ],
   "source": [
    "# Import LogisticRegression\n",
    "from sklearn.linear_model import LogisticRegression\n",
    "\n",
    "# sklearn logistic model\n",
    "model = LogisticRegression(C=1e9)\n",
    "model.fit(hours_of_study, outcomes)\n",
    "\n",
    "# Get parameters\n",
    "beta1 = model.coef_[0][0]\n",
    "beta0 = model.intercept_[0]\n",
    "\n",
    "# Print parameters\n",
    "print(beta1, beta0)"
   ]
  },
  {
   "cell_type": "markdown",
   "metadata": {},
   "source": [
    "## Predicting if students will pass\n",
    "In the previous exercise you calculated the parameters of the logistic regression model that fits the data of hours of study and test outcomes.\n",
    "\n",
    "With those parameters you can predict the performance of students based on their hours of study. Use model.predict() to get the outcomes based on the logistic regression.\n",
    "\n",
    "For your convenience, LogisticRegression has been imported from sklearn.linear_model and numpy has been imported as np."
   ]
  },
  {
   "cell_type": "markdown",
   "metadata": {},
   "source": [
    "### code"
   ]
  },
  {
   "cell_type": "code",
   "execution_count": 45,
   "metadata": {
    "ExecuteTime": {
     "end_time": "2020-05-04T14:00:21.964949Z",
     "start_time": "2020-05-04T14:00:21.955053Z"
    }
   },
   "outputs": [
    {
     "name": "stdout",
     "output_type": "stream",
     "text": [
      "[False False  True  True  True]\n",
      "Probability of passing test  [0.40793034]\n"
     ]
    }
   ],
   "source": [
    "# Specify values to predict\n",
    "hours_of_study_test = [[10], [11], [12], [13], [14]]\n",
    "\n",
    "# Pass values to predict\n",
    "predicted_outcomes = model.predict(hours_of_study_test)\n",
    "print(predicted_outcomes)\n",
    "\n",
    "# Set value in array\n",
    "value = np.asarray(11).reshape(-1,1)\n",
    "# Probability of passing the test with 11 hours of study\n",
    "print(\"Probability of passing test \", model.predict_proba(value)[:,1])"
   ]
  },
  {
   "cell_type": "markdown",
   "metadata": {},
   "source": [
    "## Passing two tests\n",
    "Put yourself in the shoes of one of the university students. You have two tests coming up in different subjects, and you're running out of time to study. You want to know how much time you have to study each subject to maximize the probability of passing both tests. Fortunately, there's data that you can use.\n",
    "\n",
    "For subject A, you already fitted a logistic model in model_A, and for subject B you fitted a model in model_B. As well as preloading LogisticRegression from sklearn.linear_model and numpy as np, expit(), the inverse of the logistic function, has been imported for you from scipy.special."
   ]
  },
  {
   "cell_type": "markdown",
   "metadata": {},
   "source": [
    "### init"
   ]
  },
  {
   "cell_type": "code",
   "execution_count": 6,
   "metadata": {
    "ExecuteTime": {
     "end_time": "2020-05-05T06:34:34.908873Z",
     "start_time": "2020-05-05T06:34:34.885818Z"
    }
   },
   "outputs": [
    {
     "data": {
      "text/plain": [
       "LogisticRegression(C=1.0, class_weight=None, dual=False, fit_intercept=True,\n",
       "                   intercept_scaling=1, l1_ratio=None, max_iter=100,\n",
       "                   multi_class='auto', n_jobs=None, penalty='l2',\n",
       "                   random_state=None, solver='lbfgs', tol=0.0001, verbose=0,\n",
       "                   warm_start=False)"
      ]
     },
     "execution_count": 6,
     "metadata": {},
     "output_type": "execute_result"
    }
   ],
   "source": [
    "from scipy.special import expit\n",
    "import numpy as np\n",
    "\n",
    "scores_subject_A = [60, 65, 59, 70, 61, 68, 63, 73, 75, 77, 86, 79, 81, 83, 85, 87, 89, 89, 89, 93]\n",
    "hours_of_study_subject_A=np.array([[ 8],       [ 9],       [ 7],       [12],       [ 6],       [11],       [ 7],       [11],       [13],       [13],       [19],       [16],       [17],       [17],       [16],       [17],       [18],       [16],       [20],       [19]])\n",
    "scores_subject_B=[60, 65, 59, 70, 61, 68, 63, 73, 75, 77, 86, 79, 81, 83, 85, 87, 89, 89, 89, 93]\n",
    "hours_of_study_subject_B=np.array([[ 4],       [ 5],       [ 4],       [ 6],       [ 3],       [ 6],       [ 4],       [ 6],       [ 7],       [ 7],       [10],       [ 8],       [ 9],       [ 9],       [ 8],       [ 9],       [ 9],       [ 8],       [10],       [10]])\n",
    "outcome_A=[False, True, False, True, False, True, False, True, True, True, True, True, True, True, True, True, True, True, True, True] \n",
    "outcome_B=[False, True, False, True, False, True, False, True, True, True, True, True, True, True, True, True, True, True, True, True] \n",
    "# Import LogisticRegression\n",
    "from sklearn.linear_model import LogisticRegression\n",
    "\n",
    "\n",
    "# sklearn logistic model\n",
    "model_A = LogisticRegression()\n",
    "model_A.fit(hours_of_study_subject_A, outcome_A)\n",
    "model_B = LogisticRegression()\n",
    "model_B.fit(hours_of_study_subject_B, outcome_B)\n"
   ]
  },
  {
   "cell_type": "markdown",
   "metadata": {},
   "source": [
    "### code"
   ]
  },
  {
   "cell_type": "code",
   "execution_count": 7,
   "metadata": {
    "ExecuteTime": {
     "end_time": "2020-05-05T06:34:37.845920Z",
     "start_time": "2020-05-05T06:34:37.830010Z"
    }
   },
   "outputs": [
    {
     "name": "stdout",
     "output_type": "stream",
     "text": [
      "[False False False  True  True]\n",
      "[False False  True  True]\n"
     ]
    }
   ],
   "source": [
    "# Specify values to predict\n",
    "hours_of_study_test_A = [[6], [7], [8], [9], [10]]\n",
    "\n",
    "# Pass values to predict\n",
    "predicted_outcomes_A = model_A.predict(hours_of_study_test_A)\n",
    "print(predicted_outcomes_A)\n",
    "\n",
    "# Specify values to predict\n",
    "hours_of_study_test_B = [[3], [4], [5], [6]]\n",
    "\n",
    "# Pass values to predict\n",
    "predicted_outcomes_B = model_B.predict(hours_of_study_test_B)\n",
    "print(predicted_outcomes_B)"
   ]
  },
  {
   "cell_type": "code",
   "execution_count": 8,
   "metadata": {
    "ExecuteTime": {
     "end_time": "2020-05-05T06:35:34.427034Z",
     "start_time": "2020-05-05T06:35:34.419014Z"
    }
   },
   "outputs": [
    {
     "name": "stdout",
     "output_type": "stream",
     "text": [
      "The probability of passing test A with 8.6 hours of study is  [0.46756382]\n",
      "The probability of passing test B with 4.7 hours of study is  [0.50035596]\n"
     ]
    }
   ],
   "source": [
    "#Get the probability of passing for test A with 8.6 hours of study and test B with 4.7 hours of study.\n",
    "\n",
    "# Set value in array\n",
    "value_A = np.asarray(8.6).reshape(-1,1)\n",
    "# Probability of passing test A with 8.6 hours of study\n",
    "print(\"The probability of passing test A with 8.6 hours of study is \", model_A.predict_proba(value_A)[:,1])\n",
    "\n",
    "# Set value in array\n",
    "value_B = np.asarray(4.7).reshape(-1,1)\n",
    "# Probability of passing test B with 4.7 hours of study\n",
    "print(\"The probability of passing test B with 4.7 hours of study is \", model_B.predict_proba(value_B)[:,1])"
   ]
  },
  {
   "cell_type": "code",
   "execution_count": 9,
   "metadata": {
    "ExecuteTime": {
     "end_time": "2020-05-05T06:36:20.103511Z",
     "start_time": "2020-05-05T06:36:20.097495Z"
    }
   },
   "outputs": [
    {
     "name": "stdout",
     "output_type": "stream",
     "text": [
      "Minimum hours of study for test A are  [[8.70781168]]\n",
      "Minimum hours of study for test B are  [[4.69905394]]\n"
     ]
    }
   ],
   "source": [
    "# Calculate the hours you need to study to have 0.5 probability of passing the test using the formula -intercept/slope\n",
    "# Print the hours required to have 0.5 probability on model_A\n",
    "print(\"Minimum hours of study for test A are \", -model_A.intercept_/model_A.coef_)\n",
    "\n",
    "# Print the hours required to have 0.5 probability on model_B\n",
    "print(\"Minimum hours of study for test B are \", -model_B.intercept_/model_B.coef_)"
   ]
  },
  {
   "cell_type": "code",
   "execution_count": 11,
   "metadata": {
    "ExecuteTime": {
     "end_time": "2020-05-05T06:39:34.255265Z",
     "start_time": "2020-05-05T06:39:34.239605Z"
    }
   },
   "outputs": [
    {
     "name": "stdout",
     "output_type": "stream",
     "text": [
      "Study 9 hours for the first and 5 hours for the second test and you will pass both tests with 0.36 probability.\n"
     ]
    }
   ],
   "source": [
    "# Calculate the joint probability of passing test A and test B.\n",
    "study_hours_A=np.array([ 0. ,  0.5,  1. ,  1.5,  2. ,  2.5,  3. ,  3.5,  4. ,  4.5,  5. ,        5.5,  6. ,  6.5,  7. ,  7.5,  8. ,  8.5,  9. ,  9.5, 10. , 10.5,       11. , 11.5, 12. , 12.5, 13. , 13.5])\n",
    "study_hours_B=np.array([14. , 13.5, 13. , 12.5, 12. , 11.5, 11. , 10.5, 10. ,  9.5,  9. ,        8.5,  8. ,  7.5,  7. ,  6.5,  6. ,  5.5,  5. ,  4.5,  4. ,  3.5,        3. ,  2.5,  2. ,  1.5,  1. ,  0.5])\n",
    "\n",
    "# Probability calculation for each value of study_hours\n",
    "prob_passing_A = model_A.predict_proba(study_hours_A.reshape(-1,1))[:,1]\n",
    "prob_passing_B = model_B.predict_proba(study_hours_B.reshape(-1,1))[:,1]\n",
    "\n",
    "# Calculate the probability of passing both tests\n",
    "prob_passing_A_and_B = prob_passing_A * prob_passing_B\n",
    "\n",
    "# Maximum probability value\n",
    "max_prob = max(prob_passing_A_and_B)\n",
    "\n",
    "# Position where we get the maximum value\n",
    "max_position = np.where(prob_passing_A_and_B == max_prob)[0][0]\n",
    "\n",
    "# Study hours for each test\n",
    "print(\"Study {:1.0f} hours for the first and {:1.0f} hours for the second test and you will pass both tests with {:01.2f} probability.\".format(study_hours_A[max_position], study_hours_B[max_position], max_prob))"
   ]
  },
  {
   "cell_type": "code",
   "execution_count": null,
   "metadata": {},
   "outputs": [],
   "source": []
  }
 ],
 "metadata": {
  "kernelspec": {
   "display_name": "Python [conda env:datacamp] *",
   "language": "python",
   "name": "conda-env-datacamp-py"
  },
  "language_info": {
   "codemirror_mode": {
    "name": "ipython",
    "version": 3
   },
   "file_extension": ".py",
   "mimetype": "text/x-python",
   "name": "python",
   "nbconvert_exporter": "python",
   "pygments_lexer": "ipython3",
   "version": "3.7.5"
  },
  "toc": {
   "base_numbering": 1,
   "nav_menu": {},
   "number_sections": true,
   "sideBar": true,
   "skip_h1_title": false,
   "title_cell": "Table of Contents",
   "title_sidebar": "Contents",
   "toc_cell": false,
   "toc_position": {},
   "toc_section_display": true,
   "toc_window_display": true
  },
  "varInspector": {
   "cols": {
    "lenName": 16,
    "lenType": 16,
    "lenVar": 40
   },
   "kernels_config": {
    "python": {
     "delete_cmd_postfix": "",
     "delete_cmd_prefix": "del ",
     "library": "var_list.py",
     "varRefreshCmd": "print(var_dic_list())"
    },
    "r": {
     "delete_cmd_postfix": ") ",
     "delete_cmd_prefix": "rm(",
     "library": "var_list.r",
     "varRefreshCmd": "cat(var_dic_list()) "
    }
   },
   "types_to_exclude": [
    "module",
    "function",
    "builtin_function_or_method",
    "instance",
    "_Feature"
   ],
   "window_display": false
  }
 },
 "nbformat": 4,
 "nbformat_minor": 4
}
