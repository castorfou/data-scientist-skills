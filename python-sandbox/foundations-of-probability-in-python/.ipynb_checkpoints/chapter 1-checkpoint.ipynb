{
 "cells": [
  {
   "cell_type": "markdown",
   "metadata": {},
   "source": [
    "# Let’s flip a coin in python"
   ]
  },
  {
   "cell_type": "markdown",
   "metadata": {},
   "source": [
    "## Flipping coins\n",
    "This exercise requires the bernoulli object from the scipy.stats library to simulate the two possible outcomes from a coin flip, 1 (\"heads\") or 0 (\"tails\"), and the numpy library (loaded as np) to set the random generator seed.\n",
    "\n",
    "You'll use the bernoulli.rvs() function to simulate coin flips using the size argument.\n",
    "\n",
    "You will set the random seed so you can reproduce the results for the random experiment in each exercise.\n",
    "\n",
    "From each experiment, you will get the values of each coin flip. You can add the coin flips to get the number of heads after flipping 10 coins using the sum() function."
   ]
  },
  {
   "cell_type": "markdown",
   "metadata": {},
   "source": [
    "### code"
   ]
  },
  {
   "cell_type": "code",
   "execution_count": 1,
   "metadata": {
    "ExecuteTime": {
     "end_time": "2020-04-29T13:58:53.917425Z",
     "start_time": "2020-04-29T13:58:53.914417Z"
    }
   },
   "outputs": [],
   "source": [
    "import numpy as np"
   ]
  },
  {
   "cell_type": "code",
   "execution_count": 2,
   "metadata": {
    "ExecuteTime": {
     "end_time": "2020-04-29T13:59:14.408208Z",
     "start_time": "2020-04-29T13:59:14.404215Z"
    }
   },
   "outputs": [
    {
     "name": "stdout",
     "output_type": "stream",
     "text": [
      "[0]\n"
     ]
    }
   ],
   "source": [
    "# Import the bernoulli object from scipy.stats\n",
    "from scipy.stats import bernoulli\n",
    "\n",
    "# Set the random seed to reproduce the results\n",
    "np.random.seed(42)\n",
    "\n",
    "# Simulate one coin flip with 35% chance of getting heads\n",
    "coin_flip = bernoulli.rvs(p=0.35, size=1)\n",
    "print(coin_flip)"
   ]
  },
  {
   "cell_type": "code",
   "execution_count": 3,
   "metadata": {
    "ExecuteTime": {
     "end_time": "2020-04-29T13:59:38.899298Z",
     "start_time": "2020-04-29T13:59:38.895287Z"
    }
   },
   "outputs": [
    {
     "name": "stdout",
     "output_type": "stream",
     "text": [
      "4\n"
     ]
    }
   ],
   "source": [
    "# Simulate ten coin flips and get the number of heads\n",
    "ten_coin_flips = bernoulli.rvs(p=0.35, size=10)\n",
    "coin_flips_sum = sum(ten_coin_flips)\n",
    "print(coin_flips_sum)"
   ]
  },
  {
   "cell_type": "code",
   "execution_count": 5,
   "metadata": {
    "ExecuteTime": {
     "end_time": "2020-04-29T14:00:20.117725Z",
     "start_time": "2020-04-29T14:00:20.111707Z"
    }
   },
   "outputs": [
    {
     "name": "stdout",
     "output_type": "stream",
     "text": [
      "1\n"
     ]
    }
   ],
   "source": [
    "# Simulate ten coin flips and get the number of heads\n",
    "five_coin_flips = bernoulli.rvs(p=0.5, size=5)\n",
    "coin_flips_sum = sum(five_coin_flips)\n",
    "print(coin_flips_sum)"
   ]
  },
  {
   "cell_type": "markdown",
   "metadata": {},
   "source": [
    "## Using binom to flip even more coins\n",
    "Previously, you simulated 10 coin flips with a 35% chance of getting heads using bernoulli.rvs().\n",
    "\n",
    "This exercise loads the binom object from scipy.stats so you can use binom.rvs() to simulate 20 trials of 10 coin flips with a 35% chance of getting heads on each coin flip."
   ]
  },
  {
   "cell_type": "markdown",
   "metadata": {},
   "source": [
    "### code"
   ]
  },
  {
   "cell_type": "code",
   "execution_count": 6,
   "metadata": {
    "ExecuteTime": {
     "end_time": "2020-04-29T14:01:26.324807Z",
     "start_time": "2020-04-29T14:01:26.321795Z"
    }
   },
   "outputs": [],
   "source": [
    "from scipy.stats import binom\n"
   ]
  },
  {
   "cell_type": "code",
   "execution_count": 8,
   "metadata": {
    "ExecuteTime": {
     "end_time": "2020-04-29T14:01:59.154037Z",
     "start_time": "2020-04-29T14:01:59.150025Z"
    }
   },
   "outputs": [
    {
     "name": "stdout",
     "output_type": "stream",
     "text": [
      "[3 6 4 4 2 2 1 5 4 4 1 6 5 2 2 2 3 4 3 3]\n"
     ]
    }
   ],
   "source": [
    "# Set the random seed to reproduce the results\n",
    "np.random.seed(42)\n",
    "\n",
    "# Simulate 20 trials of 10 coin flips \n",
    "draws = binom.rvs(n=10, p=0.35, size=20)\n",
    "print(draws)"
   ]
  },
  {
   "cell_type": "markdown",
   "metadata": {},
   "source": [
    "# Probability mass and distribution functions\n"
   ]
  },
  {
   "cell_type": "markdown",
   "metadata": {},
   "source": [
    "## Predicting the probability of defects\n",
    "Any situation with exactly two possible outcomes can be modeled with binomial random variables. For example, you could model if someone likes or dislikes a product, or if they voted or not.\n",
    "\n",
    "Let's model whether or not a component from a supplier comes with a defect. From the thousands of components that we got from a supplier, we are going to take a sample of 50, selected randomly. The agreed and accepted defect rate is 2%.\n",
    "\n",
    "We import the binom object from scipy.stats.\n",
    "\n",
    "Recall that:\n",
    "\n",
    "- binom.pmf() calculates the probability of having exactly k heads out of n coin flips.\n",
    "- binom.cdf() calculates the probability of having k heads or less out of n coin flips.\n",
    "- binom.sf() calculates the probability of having more than k heads out of n coin flips.\n"
   ]
  },
  {
   "cell_type": "markdown",
   "metadata": {},
   "source": [
    "### code"
   ]
  },
  {
   "cell_type": "code",
   "execution_count": 9,
   "metadata": {
    "ExecuteTime": {
     "end_time": "2020-04-29T14:24:04.174733Z",
     "start_time": "2020-04-29T14:24:04.170718Z"
    }
   },
   "outputs": [],
   "source": [
    "from scipy.stats import binom"
   ]
  },
  {
   "cell_type": "markdown",
   "metadata": {},
   "source": [
    "Let's answer a simple question before we start calculating probabilities:\n",
    "\n",
    "What is the probability of getting more than 20 heads from a fair coin after 30 coin flips?"
   ]
  },
  {
   "cell_type": "code",
   "execution_count": 10,
   "metadata": {
    "ExecuteTime": {
     "end_time": "2020-04-29T14:25:22.776819Z",
     "start_time": "2020-04-29T14:25:22.761155Z"
    }
   },
   "outputs": [
    {
     "data": {
      "text/plain": [
       "0.02138697262853384"
      ]
     },
     "execution_count": 10,
     "metadata": {},
     "output_type": "execute_result"
    }
   ],
   "source": [
    "binom.sf(k=20, p=0.5, n=30)"
   ]
  },
  {
   "cell_type": "markdown",
   "metadata": {},
   "source": [
    "Let's get started with our model for defective components.\n",
    "\n",
    "First, calculate the probability of getting exactly 1 defective component."
   ]
  },
  {
   "cell_type": "code",
   "execution_count": 12,
   "metadata": {
    "ExecuteTime": {
     "end_time": "2020-04-29T14:26:47.917719Z",
     "start_time": "2020-04-29T14:26:47.913706Z"
    }
   },
   "outputs": [
    {
     "name": "stdout",
     "output_type": "stream",
     "text": [
      "0.37160171437461204\n"
     ]
    }
   ],
   "source": [
    "# Probability of getting exactly 1 defective component\n",
    "prob_one_defect = binom.pmf(k=1, n=50, p=0.02)\n",
    "print(prob_one_defect)"
   ]
  },
  {
   "cell_type": "markdown",
   "metadata": {},
   "source": [
    "Next, calculate the probability of not getting any defective components.\n",
    "\n"
   ]
  },
  {
   "cell_type": "code",
   "execution_count": 13,
   "metadata": {
    "ExecuteTime": {
     "end_time": "2020-04-29T14:27:21.357275Z",
     "start_time": "2020-04-29T14:27:21.352251Z"
    }
   },
   "outputs": [
    {
     "name": "stdout",
     "output_type": "stream",
     "text": [
      "0.3641696800871171\n"
     ]
    }
   ],
   "source": [
    "# Probability of not getting any defective components\n",
    "prob_no_defects = binom.pmf(k=0, n=50, p=0.02)\n",
    "print(prob_no_defects)"
   ]
  },
  {
   "cell_type": "markdown",
   "metadata": {},
   "source": [
    "Now calculate the probability of getting 2 or fewer defective components out of 50.\n",
    "\n"
   ]
  },
  {
   "cell_type": "code",
   "execution_count": 14,
   "metadata": {
    "ExecuteTime": {
     "end_time": "2020-04-29T14:28:07.818966Z",
     "start_time": "2020-04-29T14:28:07.812950Z"
    }
   },
   "outputs": [
    {
     "name": "stdout",
     "output_type": "stream",
     "text": [
      "0.9215722516490308\n"
     ]
    }
   ],
   "source": [
    "# Probability of getting 2 or less defective components\n",
    "prob_two_or_less_defects = binom.cdf(k=2, n=50, p=0.02)\n",
    "print(prob_two_or_less_defects)"
   ]
  },
  {
   "cell_type": "markdown",
   "metadata": {},
   "source": [
    "## Predicting employment status\n",
    "Consider a survey about employment that contains the question \"Are you employed?\" It is known that 65% of respondents will answer \"yes.\" Eight survey responses have been collected.\n",
    "\n",
    "We load the binom object from scipy.stats with the following code: from scipy.stats import binom\n",
    "\n",
    "Answer the following questions using pmf(), cdf(), and sf()."
   ]
  },
  {
   "cell_type": "markdown",
   "metadata": {},
   "source": [
    "### code"
   ]
  },
  {
   "cell_type": "markdown",
   "metadata": {},
   "source": [
    "Calculate the probability of getting exactly 5 yes responses."
   ]
  },
  {
   "cell_type": "code",
   "execution_count": 15,
   "metadata": {
    "ExecuteTime": {
     "end_time": "2020-04-29T14:29:38.506814Z",
     "start_time": "2020-04-29T14:29:38.502803Z"
    }
   },
   "outputs": [
    {
     "name": "stdout",
     "output_type": "stream",
     "text": [
      "0.27858577906250004\n"
     ]
    }
   ],
   "source": [
    "# Calculate the probability of getting exactly 5 yes responses\n",
    "prob_five_yes = binom.pmf(k=5, n=8, p=0.65)\n",
    "print(prob_five_yes)"
   ]
  },
  {
   "cell_type": "markdown",
   "metadata": {},
   "source": [
    "Calculate the probability of getting 3 or fewer no responses."
   ]
  },
  {
   "cell_type": "code",
   "execution_count": 18,
   "metadata": {
    "ExecuteTime": {
     "end_time": "2020-04-29T14:31:56.935862Z",
     "start_time": "2020-04-29T14:31:56.920180Z"
    }
   },
   "outputs": [
    {
     "name": "stdout",
     "output_type": "stream",
     "text": [
      "0.8939090951171875\n"
     ]
    }
   ],
   "source": [
    "# Calculate the probability of getting 3 or less no responses\n",
    "prob_three_or_less_no = 1-binom.cdf(k=3, n=8, p=0.65)\n",
    "print(prob_three_or_less_no)"
   ]
  },
  {
   "cell_type": "markdown",
   "metadata": {},
   "source": [
    "Calculate the probability of getting more than 3 yes responses."
   ]
  },
  {
   "cell_type": "code",
   "execution_count": 19,
   "metadata": {
    "ExecuteTime": {
     "end_time": "2020-04-29T14:32:29.082966Z",
     "start_time": "2020-04-29T14:32:29.078955Z"
    }
   },
   "outputs": [
    {
     "name": "stdout",
     "output_type": "stream",
     "text": [
      "0.8939090951171875\n"
     ]
    }
   ],
   "source": [
    "# Calculate the probability of getting more than 3 yes responses\n",
    "prob_more_than_three_yes = binom.sf(k=3, n=8, p=0.65)\n",
    "print(prob_more_than_three_yes)"
   ]
  },
  {
   "cell_type": "markdown",
   "metadata": {},
   "source": [
    "## Predicting burglary conviction rate\n",
    "There are many situations that can be modeled with only two outcomes: success or failure. This exercise presents a situation that can be modeled with a binomial distribution and gives you the opportunity to calculate probabilities using binom.pmf(), binom.cdf(), and binom.sf().\n",
    "\n",
    "The binom object from scipy.stats has been loaded for your convenience.\n",
    "\n",
    "Imagine that in your town there are many crimes, including burglaries, but only 20% of them get solved. Last week, there were 9 burglaries. Answer the following questions."
   ]
  },
  {
   "cell_type": "markdown",
   "metadata": {},
   "source": [
    "### code"
   ]
  },
  {
   "cell_type": "markdown",
   "metadata": {},
   "source": [
    "What is the probability of solving exactly 4 of the 9 total burglaries?\n",
    "\n"
   ]
  },
  {
   "cell_type": "code",
   "execution_count": 20,
   "metadata": {
    "ExecuteTime": {
     "end_time": "2020-04-29T14:33:36.414366Z",
     "start_time": "2020-04-29T14:33:36.398732Z"
    }
   },
   "outputs": [
    {
     "name": "stdout",
     "output_type": "stream",
     "text": [
      "0.06606028799999998\n"
     ]
    }
   ],
   "source": [
    "# What is the probability of solving 4 burglaries?\n",
    "four_solved = binom.pmf(k=4, n=9, p=0.2)\n",
    "print(four_solved)"
   ]
  },
  {
   "cell_type": "markdown",
   "metadata": {},
   "source": [
    "What is the probability of solving more than 3 of the 9 burglaries?"
   ]
  },
  {
   "cell_type": "code",
   "execution_count": 21,
   "metadata": {
    "ExecuteTime": {
     "end_time": "2020-04-29T14:34:09.468260Z",
     "start_time": "2020-04-29T14:34:09.463247Z"
    }
   },
   "outputs": [
    {
     "name": "stdout",
     "output_type": "stream",
     "text": [
      "0.08564172800000006\n"
     ]
    }
   ],
   "source": [
    "# What is the probability of solving more than 3 burglaries?\n",
    "more_than_three_solved = binom.sf(k=3, n=9, p=0.2)\n",
    "print(more_than_three_solved)"
   ]
  },
  {
   "cell_type": "markdown",
   "metadata": {
    "ExecuteTime": {
     "end_time": "2020-04-29T14:34:20.046904Z",
     "start_time": "2020-04-29T14:34:20.041794Z"
    }
   },
   "source": [
    "What is the probability of solving exactly 2 or 3 of the 9 burglaries?"
   ]
  },
  {
   "cell_type": "code",
   "execution_count": 23,
   "metadata": {
    "ExecuteTime": {
     "end_time": "2020-04-29T14:34:57.937631Z",
     "start_time": "2020-04-29T14:34:57.931616Z"
    }
   },
   "outputs": [
    {
     "name": "stdout",
     "output_type": "stream",
     "text": [
      "0.47815065599999973\n"
     ]
    }
   ],
   "source": [
    "# What is the probability of solving 2 or 3 burglaries?\n",
    "two_or_three_solved = binom.pmf(k=2, n=9, p=0.2) + binom.pmf(k=3, n=9, p=0.2)\n",
    "print(two_or_three_solved)"
   ]
  },
  {
   "cell_type": "markdown",
   "metadata": {},
   "source": [
    "What is the probability of solving 1 or fewer or more than 7 of the 9 burglaries?"
   ]
  },
  {
   "cell_type": "code",
   "execution_count": 24,
   "metadata": {
    "ExecuteTime": {
     "end_time": "2020-04-29T14:35:55.192187Z",
     "start_time": "2020-04-29T14:35:55.186173Z"
    }
   },
   "outputs": [
    {
     "name": "stdout",
     "output_type": "stream",
     "text": [
      "0.43622655999999993\n"
     ]
    }
   ],
   "source": [
    "# What is the probability of solving 1 or fewer or more than 7 burglaries?\n",
    "tail_probabilities = binom.cdf(k=1, n=9, p=0.2) + binom.sf(k=7, n=9, p=0.2)\n",
    "print(tail_probabilities)"
   ]
  },
  {
   "cell_type": "markdown",
   "metadata": {},
   "source": [
    "# Expected value, mean, and variance\n"
   ]
  },
  {
   "cell_type": "markdown",
   "metadata": {},
   "source": [
    "## Calculating the sample mean\n",
    "Simulation involves generating samples and then measuring. In this exercise, we'll generate some samples and calculate the sample mean with the describe() method. See what you observe about the sample mean as the number of samples increases.\n",
    "\n",
    "We've preloaded the binom object and the describe() method from scipy.stats for you, so you can calculate some values."
   ]
  },
  {
   "cell_type": "markdown",
   "metadata": {},
   "source": [
    "### code"
   ]
  },
  {
   "cell_type": "markdown",
   "metadata": {},
   "source": [
    "Generate a sample of 100 fair coin flips using .rvs() and calculate the sample mean using describe()."
   ]
  },
  {
   "cell_type": "code",
   "execution_count": 26,
   "metadata": {
    "ExecuteTime": {
     "end_time": "2020-04-29T14:43:53.797428Z",
     "start_time": "2020-04-29T14:43:53.794456Z"
    }
   },
   "outputs": [],
   "source": [
    "from scipy.stats import describe"
   ]
  },
  {
   "cell_type": "code",
   "execution_count": 29,
   "metadata": {
    "ExecuteTime": {
     "end_time": "2020-04-29T14:44:28.526480Z",
     "start_time": "2020-04-29T14:44:28.504136Z"
    }
   },
   "outputs": [
    {
     "name": "stdout",
     "output_type": "stream",
     "text": [
      "0.45\n"
     ]
    }
   ],
   "source": [
    "# Sample mean from a generated sample of 100 fair coin flips\n",
    "sample_of_100_flips = binom.rvs(n=1, p=0.5, size=100)\n",
    "sample_mean_100_flips = describe(sample_of_100_flips).mean\n",
    "print(sample_mean_100_flips)"
   ]
  },
  {
   "cell_type": "markdown",
   "metadata": {},
   "source": [
    "Generate a sample of 1,000 fair coin flips and calculate the sample mean.\n",
    "\n"
   ]
  },
  {
   "cell_type": "code",
   "execution_count": 30,
   "metadata": {
    "ExecuteTime": {
     "end_time": "2020-04-29T14:45:21.459075Z",
     "start_time": "2020-04-29T14:45:21.453053Z"
    }
   },
   "outputs": [
    {
     "name": "stdout",
     "output_type": "stream",
     "text": [
      "0.517\n"
     ]
    }
   ],
   "source": [
    "# Sample mean from a generated sample of 1,000 fair coin flips\n",
    "sample_mean_1000_flips = describe(binom.rvs(n=1, p=0.5, size=1000)).mean\n",
    "print(sample_mean_1000_flips)"
   ]
  },
  {
   "cell_type": "markdown",
   "metadata": {},
   "source": [
    "Generate a sample of 2,000 fair coin flips and calculate the sample mean."
   ]
  },
  {
   "cell_type": "code",
   "execution_count": 31,
   "metadata": {
    "ExecuteTime": {
     "end_time": "2020-04-29T14:45:57.643474Z",
     "start_time": "2020-04-29T14:45:57.636414Z"
    }
   },
   "outputs": [
    {
     "name": "stdout",
     "output_type": "stream",
     "text": [
      "0.496\n"
     ]
    }
   ],
   "source": [
    "# Sample mean from a generated sample of 2,000 fair coin flips\n",
    "sample_mean_2000_flips = describe(binom.rvs(n=1, p=0.5, size=2000)).mean\n",
    "print(sample_mean_2000_flips)"
   ]
  },
  {
   "cell_type": "markdown",
   "metadata": {},
   "source": [
    "## Checking the result\n",
    "Now try generating some samples and calculating the expected value and variance yourself, then using the method provided by binom to check if the sample values match the theoretical values.\n",
    "\n",
    "The binom object and describe() method from scipy.stats are already loaded, so you can make the calculations."
   ]
  },
  {
   "cell_type": "markdown",
   "metadata": {},
   "source": [
    "### code"
   ]
  },
  {
   "cell_type": "code",
   "execution_count": 32,
   "metadata": {
    "ExecuteTime": {
     "end_time": "2020-04-29T14:48:10.326370Z",
     "start_time": "2020-04-29T14:48:10.314344Z"
    }
   },
   "outputs": [
    {
     "name": "stdout",
     "output_type": "stream",
     "text": [
      "2.982 2.0847183591795897 3.0 2.0999999999999996 (array(3.), array(2.1))\n"
     ]
    }
   ],
   "source": [
    "sample = binom.rvs(n=10, p=0.3, size=2000)\n",
    "\n",
    "# Calculate the sample mean and variance from the sample variable\n",
    "sample_describe = describe(sample)\n",
    "\n",
    "# Calculate the sample mean using the values of n and p\n",
    "mean = 10*0.3\n",
    "\n",
    "# Calculate the sample variance using the value of 1-p\n",
    "variance = mean*(1-0.3)\n",
    "\n",
    "# Calculate the sample mean and variance for 10 coin flips with p=0.3\n",
    "binom_stats = binom.stats(n=10, p=0.3)\n",
    "\n",
    "print(sample_describe.mean, sample_describe.variance, mean, variance, binom_stats)"
   ]
  },
  {
   "cell_type": "markdown",
   "metadata": {},
   "source": [
    "## Calculating the mean and variance of a sample\n",
    "Now that you're familiar with working with coin flips using the binom object and calculating the mean and variance, let's try simulating a larger number of coin flips and calculating the sample mean and variance. Comparing this with the theoretical mean and variance will allow you to check if your simulated data follows the distribution you want.\n",
    "\n",
    "We've preloaded the binom object and the describe() method from scipy.stats for you, as well as creating an empty list called averages to store the mean of the sample variable and a variable called variances to store the variance of the sample variable."
   ]
  },
  {
   "cell_type": "markdown",
   "metadata": {},
   "source": [
    "### code"
   ]
  },
  {
   "cell_type": "code",
   "execution_count": 37,
   "metadata": {
    "ExecuteTime": {
     "end_time": "2020-04-29T14:51:00.698774Z",
     "start_time": "2020-04-29T14:51:00.694725Z"
    }
   },
   "outputs": [],
   "source": [
    "averages = []\n",
    "variances = []"
   ]
  },
  {
   "cell_type": "code",
   "execution_count": 38,
   "metadata": {
    "ExecuteTime": {
     "end_time": "2020-04-29T14:51:02.509718Z",
     "start_time": "2020-04-29T14:51:01.032468Z"
    }
   },
   "outputs": [],
   "source": [
    "for i in range(0, 1500):\n",
    "    # 10 trials of 10 coin flips with 25% probability of heads\n",
    "    sample = binom.rvs(n=10, p=0.25, size=10)\n",
    "    # Mean and variance of the values in the sample variable\n",
    "    averages.append(describe(sample).mean)\n",
    "    variances.append(describe(sample).variance)"
   ]
  },
  {
   "cell_type": "code",
   "execution_count": 39,
   "metadata": {
    "ExecuteTime": {
     "end_time": "2020-04-29T14:51:44.636998Z",
     "start_time": "2020-04-29T14:51:44.630022Z"
    }
   },
   "outputs": [
    {
     "name": "stdout",
     "output_type": "stream",
     "text": [
      "Mean 2.5038666666666667\n",
      "Variance 1.881911111111111\n"
     ]
    }
   ],
   "source": [
    "# Calculate the mean of the averages variable\n",
    "print(\"Mean {}\".format(describe(averages).mean))\n",
    "\n",
    "# Calculate the mean of the variances variable\n",
    "print(\"Variance {}\".format(describe(variances).mean))"
   ]
  },
  {
   "cell_type": "code",
   "execution_count": 40,
   "metadata": {
    "ExecuteTime": {
     "end_time": "2020-04-29T14:52:09.640501Z",
     "start_time": "2020-04-29T14:52:09.635495Z"
    }
   },
   "outputs": [
    {
     "name": "stdout",
     "output_type": "stream",
     "text": [
      "(array(2.5), array(1.875))\n"
     ]
    }
   ],
   "source": [
    "# Calculate the mean and variance\n",
    "print(binom.stats(n=10, p=0.25))"
   ]
  },
  {
   "cell_type": "code",
   "execution_count": null,
   "metadata": {},
   "outputs": [],
   "source": []
  }
 ],
 "metadata": {
  "kernelspec": {
   "display_name": "Python [conda env:datacamp] *",
   "language": "python",
   "name": "conda-env-datacamp-py"
  },
  "language_info": {
   "codemirror_mode": {
    "name": "ipython",
    "version": 3
   },
   "file_extension": ".py",
   "mimetype": "text/x-python",
   "name": "python",
   "nbconvert_exporter": "python",
   "pygments_lexer": "ipython3",
   "version": "3.7.5"
  },
  "toc": {
   "base_numbering": 1,
   "nav_menu": {},
   "number_sections": true,
   "sideBar": true,
   "skip_h1_title": false,
   "title_cell": "Table of Contents",
   "title_sidebar": "Contents",
   "toc_cell": false,
   "toc_position": {},
   "toc_section_display": true,
   "toc_window_display": true
  },
  "varInspector": {
   "cols": {
    "lenName": 16,
    "lenType": 16,
    "lenVar": 40
   },
   "kernels_config": {
    "python": {
     "delete_cmd_postfix": "",
     "delete_cmd_prefix": "del ",
     "library": "var_list.py",
     "varRefreshCmd": "print(var_dic_list())"
    },
    "r": {
     "delete_cmd_postfix": ") ",
     "delete_cmd_prefix": "rm(",
     "library": "var_list.r",
     "varRefreshCmd": "cat(var_dic_list()) "
    }
   },
   "types_to_exclude": [
    "module",
    "function",
    "builtin_function_or_method",
    "instance",
    "_Feature"
   ],
   "window_display": false
  }
 },
 "nbformat": 4,
 "nbformat_minor": 4
}
