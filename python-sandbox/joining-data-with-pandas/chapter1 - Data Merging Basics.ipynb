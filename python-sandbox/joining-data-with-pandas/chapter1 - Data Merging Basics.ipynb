{
 "cells": [
  {
   "cell_type": "markdown",
   "metadata": {},
   "source": [
    "# Inner join\n",
    "\n",
    "```python\n",
    "# Inner join\n",
    "wards_census = wards.merge(census, on='ward')\n",
    "\n",
    "# Suffixes\n",
    "wards_census = wards.merge(census, on='ward', suffixes=('_ward','_cen'))\n",
    "\n",
    "```"
   ]
  },
  {
   "cell_type": "markdown",
   "metadata": {},
   "source": [
    "[What column to merge on? | Python](https://campus.datacamp.com/courses/joining-data-with-pandas/data-merging-basics?ex=2)\n",
    "\n",
    "> ## What column to merge on?\n",
    "> \n",
    "> Chicago provides a list of taxicab owners and vehicles licensed to operate within the city, for public safety. Your goal is to merge two tables together. One table is called `taxi_owners`, with info about the taxi cab company owners, and one is called `taxi_veh`, with info about each taxi cab vehicle. Both the `taxi_owners` and `taxi_veh` tables have been loaded for you and you can explore them in the console.\n",
    "> \n",
    "> Choose the column you would use to merge the two tables on using the `.merge()` method."
   ]
  },
  {
   "cell_type": "markdown",
   "metadata": {},
   "source": [
    "### init"
   ]
  },
  {
   "cell_type": "code",
   "execution_count": 1,
   "metadata": {
    "ExecuteTime": {
     "end_time": "2021-01-11T07:55:03.976859Z",
     "start_time": "2021-01-11T07:55:02.064031Z"
    }
   },
   "outputs": [
    {
     "name": "stdout",
     "output_type": "stream",
     "text": [
      "Téléchargements à lancer\n",
      "{'pandas.core.frame.DataFrame': {'taxi_owners.csv': 'https://file.io/nDPC0sh7v6RH', 'taxi_veh.csv': 'https://file.io/gSFDEk5aK2Bt'}}\n",
      "  % Total    % Received % Xferd  Average Speed   Time    Time     Time  Current\n",
      "                                 Dload  Upload   Total   Spent    Left  Speed\n",
      "100  205k    0  205k    0     0   251k      0 --:--:-- --:--:-- --:--:--  251k\n",
      "\n",
      "  % Total    % Received % Xferd  Average Speed   Time    Time     Time  Current\n",
      "                                 Dload  Upload   Total   Spent    Left  Speed\n",
      "100  181k    0  181k    0     0   230k      0 --:--:-- --:--:-- --:--:--  230k\n",
      "\n"
     ]
    }
   ],
   "source": [
    "###################\n",
    "##### Dataframe\n",
    "###################\n",
    "\n",
    "#upload and download\n",
    "\n",
    "from downloadfromFileIO import saveFromFileIO\n",
    "\"\"\" à executer sur datacamp: (apres copie du code uploadfromdatacamp.py)\n",
    "uploadToFileIO(taxi_owners, taxi_veh)\n",
    "\n",
    "\"\"\"\n",
    "\n",
    "tobedownloaded=\"\"\"\n",
    "{pandas.core.frame.DataFrame: {'taxi_owners.csv': 'https://file.io/nDPC0sh7v6RH',\n",
    "  'taxi_veh.csv': 'https://file.io/gSFDEk5aK2Bt'}}\n",
    "\"\"\"\n",
    "prefixToc='1.1'\n",
    "prefix = saveFromFileIO(tobedownloaded, prefixToc=prefixToc, proxy=\"\")\n",
    "\n",
    "#initialisation\n",
    "\n",
    "import pandas as pd\n",
    "taxi_owners = pd.read_csv(prefix+'taxi_owners.csv',index_col=0)\n",
    "taxi_veh = pd.read_csv(prefix+'taxi_veh.csv',index_col=0)"
   ]
  },
  {
   "cell_type": "markdown",
   "metadata": {},
   "source": [
    "### code"
   ]
  },
  {
   "cell_type": "code",
   "execution_count": 2,
   "metadata": {
    "ExecuteTime": {
     "end_time": "2021-01-11T07:55:25.743225Z",
     "start_time": "2021-01-11T07:55:25.728307Z"
    }
   },
   "outputs": [
    {
     "data": {
      "text/html": [
       "<div>\n",
       "<style scoped>\n",
       "    .dataframe tbody tr th:only-of-type {\n",
       "        vertical-align: middle;\n",
       "    }\n",
       "\n",
       "    .dataframe tbody tr th {\n",
       "        vertical-align: top;\n",
       "    }\n",
       "\n",
       "    .dataframe thead th {\n",
       "        text-align: right;\n",
       "    }\n",
       "</style>\n",
       "<table border=\"1\" class=\"dataframe\">\n",
       "  <thead>\n",
       "    <tr style=\"text-align: right;\">\n",
       "      <th></th>\n",
       "      <th>rid</th>\n",
       "      <th>vid</th>\n",
       "      <th>owner</th>\n",
       "      <th>address</th>\n",
       "      <th>zip</th>\n",
       "    </tr>\n",
       "  </thead>\n",
       "  <tbody>\n",
       "    <tr>\n",
       "      <th>0</th>\n",
       "      <td>T6285</td>\n",
       "      <td>6285</td>\n",
       "      <td>AGEAN TAXI LLC</td>\n",
       "      <td>4536 N. ELSTON AVE.</td>\n",
       "      <td>60630</td>\n",
       "    </tr>\n",
       "    <tr>\n",
       "      <th>1</th>\n",
       "      <td>T4862</td>\n",
       "      <td>4862</td>\n",
       "      <td>MANGIB CORP.</td>\n",
       "      <td>5717 N. WASHTENAW AVE.</td>\n",
       "      <td>60659</td>\n",
       "    </tr>\n",
       "    <tr>\n",
       "      <th>2</th>\n",
       "      <td>T1495</td>\n",
       "      <td>1495</td>\n",
       "      <td>FUNRIDE, INC.</td>\n",
       "      <td>3351 W. ADDISON ST.</td>\n",
       "      <td>60618</td>\n",
       "    </tr>\n",
       "    <tr>\n",
       "      <th>3</th>\n",
       "      <td>T4231</td>\n",
       "      <td>4231</td>\n",
       "      <td>ALQUSH CORP.</td>\n",
       "      <td>6611 N. CAMPBELL AVE.</td>\n",
       "      <td>60645</td>\n",
       "    </tr>\n",
       "    <tr>\n",
       "      <th>4</th>\n",
       "      <td>T5971</td>\n",
       "      <td>5971</td>\n",
       "      <td>EUNIFFORD INC.</td>\n",
       "      <td>3351 W. ADDISON ST.</td>\n",
       "      <td>60618</td>\n",
       "    </tr>\n",
       "  </tbody>\n",
       "</table>\n",
       "</div>"
      ],
      "text/plain": [
       "     rid   vid           owner                 address    zip\n",
       "0  T6285  6285  AGEAN TAXI LLC     4536 N. ELSTON AVE.  60630\n",
       "1  T4862  4862    MANGIB CORP.  5717 N. WASHTENAW AVE.  60659\n",
       "2  T1495  1495   FUNRIDE, INC.     3351 W. ADDISON ST.  60618\n",
       "3  T4231  4231    ALQUSH CORP.   6611 N. CAMPBELL AVE.  60645\n",
       "4  T5971  5971  EUNIFFORD INC.     3351 W. ADDISON ST.  60618"
      ]
     },
     "execution_count": 2,
     "metadata": {},
     "output_type": "execute_result"
    }
   ],
   "source": [
    "taxi_owners.head()"
   ]
  },
  {
   "cell_type": "code",
   "execution_count": 3,
   "metadata": {
    "ExecuteTime": {
     "end_time": "2021-01-11T07:55:33.514043Z",
     "start_time": "2021-01-11T07:55:33.487759Z"
    }
   },
   "outputs": [
    {
     "data": {
      "text/html": [
       "<div>\n",
       "<style scoped>\n",
       "    .dataframe tbody tr th:only-of-type {\n",
       "        vertical-align: middle;\n",
       "    }\n",
       "\n",
       "    .dataframe tbody tr th {\n",
       "        vertical-align: top;\n",
       "    }\n",
       "\n",
       "    .dataframe thead th {\n",
       "        text-align: right;\n",
       "    }\n",
       "</style>\n",
       "<table border=\"1\" class=\"dataframe\">\n",
       "  <thead>\n",
       "    <tr style=\"text-align: right;\">\n",
       "      <th></th>\n",
       "      <th>vid</th>\n",
       "      <th>make</th>\n",
       "      <th>model</th>\n",
       "      <th>year</th>\n",
       "      <th>fuel_type</th>\n",
       "      <th>owner</th>\n",
       "    </tr>\n",
       "  </thead>\n",
       "  <tbody>\n",
       "    <tr>\n",
       "      <th>0</th>\n",
       "      <td>2767</td>\n",
       "      <td>TOYOTA</td>\n",
       "      <td>CAMRY</td>\n",
       "      <td>2013</td>\n",
       "      <td>HYBRID</td>\n",
       "      <td>SEYED M. BADRI</td>\n",
       "    </tr>\n",
       "    <tr>\n",
       "      <th>1</th>\n",
       "      <td>1411</td>\n",
       "      <td>TOYOTA</td>\n",
       "      <td>RAV4</td>\n",
       "      <td>2017</td>\n",
       "      <td>HYBRID</td>\n",
       "      <td>DESZY CORP.</td>\n",
       "    </tr>\n",
       "    <tr>\n",
       "      <th>2</th>\n",
       "      <td>6500</td>\n",
       "      <td>NISSAN</td>\n",
       "      <td>SENTRA</td>\n",
       "      <td>2019</td>\n",
       "      <td>GASOLINE</td>\n",
       "      <td>AGAPH CAB CORP</td>\n",
       "    </tr>\n",
       "    <tr>\n",
       "      <th>3</th>\n",
       "      <td>2746</td>\n",
       "      <td>TOYOTA</td>\n",
       "      <td>CAMRY</td>\n",
       "      <td>2013</td>\n",
       "      <td>HYBRID</td>\n",
       "      <td>MIDWEST CAB CO, INC</td>\n",
       "    </tr>\n",
       "    <tr>\n",
       "      <th>4</th>\n",
       "      <td>5922</td>\n",
       "      <td>TOYOTA</td>\n",
       "      <td>CAMRY</td>\n",
       "      <td>2013</td>\n",
       "      <td>HYBRID</td>\n",
       "      <td>SUMETTI CAB CO</td>\n",
       "    </tr>\n",
       "  </tbody>\n",
       "</table>\n",
       "</div>"
      ],
      "text/plain": [
       "    vid    make   model  year fuel_type                owner\n",
       "0  2767  TOYOTA   CAMRY  2013    HYBRID       SEYED M. BADRI\n",
       "1  1411  TOYOTA    RAV4  2017    HYBRID          DESZY CORP.\n",
       "2  6500  NISSAN  SENTRA  2019  GASOLINE       AGAPH CAB CORP\n",
       "3  2746  TOYOTA   CAMRY  2013    HYBRID  MIDWEST CAB CO, INC\n",
       "4  5922  TOYOTA   CAMRY  2013    HYBRID       SUMETTI CAB CO"
      ]
     },
     "execution_count": 3,
     "metadata": {},
     "output_type": "execute_result"
    }
   ],
   "source": [
    "taxi_veh.head()"
   ]
  },
  {
   "attachments": {
    "image.png": {
     "image/png": "[encoded data removed]"
    }
   },
   "cell_type": "markdown",
   "metadata": {},
   "source": [
    "![image.png](attachment:image.png)"
   ]
  },
  {
   "cell_type": "markdown",
   "metadata": {},
   "source": [
    "[Your first inner join | Python](https://campus.datacamp.com/courses/joining-data-with-pandas/data-merging-basics?ex=3)\n",
    "\n",
    "> ## Your first inner join\n",
    "> \n",
    "> You have been tasked with figuring out what the most popular types of fuel used in Chicago taxis are. To complete the analysis, you need to merge the `taxi_owners` and `taxi_veh` tables together on the `vid` column. You can then use the merged table along with the `.value_counts()` method to find the most common `fuel_type`.\n",
    "> \n",
    "> Since you'll be working with `pandas` throughout the course, the package will be preloaded for you as `pd` in each exercise in this course. Also the `taxi_owners` and `taxi_veh` DataFrames are loaded for you."
   ]
  },
  {
   "cell_type": "markdown",
   "metadata": {},
   "source": [
    "> Merge `taxi_owners` with `taxi_veh` on the column `vid`, and save the result to `taxi_own_veh`."
   ]
  },
  {
   "cell_type": "code",
   "execution_count": 4,
   "metadata": {
    "ExecuteTime": {
     "end_time": "2021-01-11T07:57:09.242237Z",
     "start_time": "2021-01-11T07:57:09.227133Z"
    }
   },
   "outputs": [
    {
     "name": "stdout",
     "output_type": "stream",
     "text": [
      "Index(['rid', 'vid', 'owner_x', 'address', 'zip', 'make', 'model', 'year',\n",
      "       'fuel_type', 'owner_y'],\n",
      "      dtype='object')\n"
     ]
    }
   ],
   "source": [
    "# Merge the taxi_owners and taxi_veh tables\n",
    "taxi_own_veh = taxi_owners.merge(taxi_veh, on='vid')\n",
    "\n",
    "# Print the column names of the taxi_own_veh\n",
    "print(taxi_own_veh.columns)"
   ]
  },
  {
   "cell_type": "markdown",
   "metadata": {},
   "source": [
    "> Set the left and right table suffixes for overlapping columns of the merge to `_own` and `_veh`, respectively."
   ]
  },
  {
   "cell_type": "code",
   "execution_count": 5,
   "metadata": {
    "ExecuteTime": {
     "end_time": "2021-01-11T07:58:01.312786Z",
     "start_time": "2021-01-11T07:58:01.289591Z"
    }
   },
   "outputs": [
    {
     "name": "stdout",
     "output_type": "stream",
     "text": [
      "Index(['rid', 'vid', 'owner_own', 'address', 'zip', 'make', 'model', 'year',\n",
      "       'fuel_type', 'owner_veh'],\n",
      "      dtype='object')\n"
     ]
    }
   ],
   "source": [
    "# Merge the taxi_owners and taxi_veh tables setting a suffix\n",
    "taxi_own_veh = taxi_owners.merge(taxi_veh, on='vid', suffixes=('_own', '_veh'))\n",
    "\n",
    "# Print the column names of taxi_own_veh\n",
    "print(taxi_own_veh.columns)"
   ]
  },
  {
   "cell_type": "markdown",
   "metadata": {},
   "source": [
    "> Select the `fuel_type` column from `taxi_own_veh` and print the `value_counts()` to find the most popular `fuel_type`s used."
   ]
  },
  {
   "cell_type": "code",
   "execution_count": 6,
   "metadata": {
    "ExecuteTime": {
     "end_time": "2021-01-11T07:58:38.124443Z",
     "start_time": "2021-01-11T07:58:38.117646Z"
    }
   },
   "outputs": [
    {
     "name": "stdout",
     "output_type": "stream",
     "text": [
      "HYBRID                    2792\n",
      "GASOLINE                   611\n",
      "FLEX FUEL                   89\n",
      "COMPRESSED NATURAL GAS      27\n",
      "Name: fuel_type, dtype: int64\n"
     ]
    }
   ],
   "source": [
    "# Print the value_counts to find the most popular fuel_type\n",
    "print(taxi_own_veh['fuel_type'].value_counts())"
   ]
  },
  {
   "cell_type": "markdown",
   "metadata": {},
   "source": [
    "[Inner joins and number of rows returned | Python](https://campus.datacamp.com/courses/joining-data-with-pandas/data-merging-basics?ex=4)\n",
    "\n",
    "> ## Inner joins and number of rows returned\n",
    "> \n",
    "> All of the merges you have studied to this point are called inner joins. It is necessary to understand that inner joins only return the rows with matching values in both tables. You will explore this further by reviewing the merge between the `wards` and `census` tables, then comparing it to merges of copies of these tables that are slightly altered, named `wards_altered`, and `census_altered`. The first row of the `wards` column has been changed in the altered tables. You will examine how this affects the merge between them. The tables have been loaded for you.\n",
    "> \n",
    "> For this exercise, it is important to know that the `wards` and `census` tables start with **50** rows."
   ]
  },
  {
   "cell_type": "markdown",
   "metadata": {},
   "source": [
    "### init"
   ]
  },
  {
   "cell_type": "code",
   "execution_count": 8,
   "metadata": {
    "ExecuteTime": {
     "end_time": "2021-01-11T08:01:29.164652Z",
     "start_time": "2021-01-11T08:01:26.931039Z"
    }
   },
   "outputs": [
    {
     "name": "stdout",
     "output_type": "stream",
     "text": [
      "Téléchargements à lancer\n",
      "{'pandas.core.frame.DataFrame': {'census.csv': 'https://file.io/MNcWvm4b8V08', 'census_altered.csv': 'https://file.io/WimrG580PZbN', 'wards.csv': 'https://file.io/0fPooC2LLxdX', 'wards_altered.csv': 'https://file.io/k6xBpFHTE66Z'}}\n",
      "  % Total    % Received % Xferd  Average Speed   Time    Time     Time  Current\n",
      "                                 Dload  Upload   Total   Spent    Left  Speed\n",
      "100  2896    0  2896    0     0   5125      0 --:--:-- --:--:-- --:--:--  5116\n",
      "\n",
      "  % Total    % Received % Xferd  Average Speed   Time    Time     Time  Current\n",
      "                                 Dload  Upload   Total   Spent    Left  Speed\n",
      "100  2895    0  2895    0     0   5778      0 --:--:-- --:--:-- --:--:--  5778\n",
      "\n",
      "  % Total    % Received % Xferd  Average Speed   Time    Time     Time  Current\n",
      "                                 Dload  Upload   Total   Spent    Left  Speed\n",
      "100  2799    0  2799    0     0   5052      0 --:--:-- --:--:-- --:--:--  5043\n",
      "\n",
      "  % Total    % Received % Xferd  Average Speed   Time    Time     Time  Current\n",
      "                                 Dload  Upload   Total   Spent    Left  Speed\n",
      "100  2800    0  2800    0     0   5577      0 --:--:-- --:--:-- --:--:--  5577\n",
      "\n"
     ]
    }
   ],
   "source": [
    "###################\n",
    "##### Dataframe\n",
    "###################\n",
    "\n",
    "#upload and download\n",
    "\n",
    "from downloadfromFileIO import saveFromFileIO\n",
    "\"\"\" à executer sur datacamp: (apres copie du code uploadfromdatacamp.py)\n",
    "uploadToFileIO(wards, census, wards_altered, census_altered)\n",
    "\n",
    "\"\"\"\n",
    "\n",
    "tobedownloaded=\"\"\"\n",
    "{pandas.core.frame.DataFrame: {'census.csv': 'https://file.io/MNcWvm4b8V08',\n",
    "  'census_altered.csv': 'https://file.io/WimrG580PZbN',\n",
    "  'wards.csv': 'https://file.io/0fPooC2LLxdX',\n",
    "  'wards_altered.csv': 'https://file.io/k6xBpFHTE66Z'}}\n",
    "\"\"\"\n",
    "prefixToc='1.3'\n",
    "prefix = saveFromFileIO(tobedownloaded, prefixToc=prefixToc, proxy=\"\")\n",
    "\n",
    "#initialisation\n",
    "\n",
    "import pandas as pd\n",
    "census = pd.read_csv(prefix+'census.csv',index_col=0)\n",
    "census_altered = pd.read_csv(prefix+'census_altered.csv',index_col=0)\n",
    "wards = pd.read_csv(prefix+'wards.csv',index_col=0)\n",
    "wards_altered = pd.read_csv(prefix+'wards_altered.csv',index_col=0)"
   ]
  },
  {
   "cell_type": "markdown",
   "metadata": {},
   "source": [
    "### code"
   ]
  },
  {
   "cell_type": "markdown",
   "metadata": {},
   "source": [
    "> Merge `wards` and `census` on the `ward` column and save the result to `wards_census`."
   ]
  },
  {
   "cell_type": "code",
   "execution_count": 12,
   "metadata": {
    "ExecuteTime": {
     "end_time": "2021-01-11T08:02:29.932054Z",
     "start_time": "2021-01-11T08:02:29.914107Z"
    }
   },
   "outputs": [
    {
     "name": "stdout",
     "output_type": "stream",
     "text": [
      "wards_census table shape: (50, 9)\n"
     ]
    }
   ],
   "source": [
    "# Merge the wards and census tables on the ward column\n",
    "wards_census = wards.merge(census, on='ward')\n",
    "\n",
    "# Print the shape of wards_census\n",
    "print('wards_census table shape:', wards_census.shape)"
   ]
  },
  {
   "cell_type": "markdown",
   "metadata": {},
   "source": [
    "> Merge the `wards_altered` and `census` tables on the `ward` column, and notice the difference in returned rows."
   ]
  },
  {
   "cell_type": "code",
   "execution_count": 14,
   "metadata": {
    "ExecuteTime": {
     "end_time": "2021-01-11T08:03:29.770789Z",
     "start_time": "2021-01-11T08:03:29.761626Z"
    }
   },
   "outputs": [
    {
     "name": "stdout",
     "output_type": "stream",
     "text": [
      "   ward\n",
      "0    61\n",
      "1     2\n",
      "2     3\n",
      "3     4\n",
      "4     5\n",
      "wards_altered_census table shape: (49, 9)\n"
     ]
    }
   ],
   "source": [
    "# Print the first few rows of the wards_altered table to view the change \n",
    "print(wards_altered[['ward']].head())\n",
    "\n",
    "# Merge the wards_altered and census tables on the ward column\n",
    "wards_altered_census = wards_altered.merge(census, on='ward')\n",
    "\n",
    "# Print the shape of wards_altered_census\n",
    "print('wards_altered_census table shape:', wards_altered_census.shape)"
   ]
  },
  {
   "cell_type": "markdown",
   "metadata": {},
   "source": [
    "> Merge the `wards` and `census_altered` tables on the `ward` column, and notice the difference in returned rows."
   ]
  },
  {
   "cell_type": "code",
   "execution_count": 15,
   "metadata": {
    "ExecuteTime": {
     "end_time": "2021-01-11T08:04:00.168585Z",
     "start_time": "2021-01-11T08:04:00.139863Z"
    }
   },
   "outputs": [
    {
     "name": "stdout",
     "output_type": "stream",
     "text": [
      "   ward\n",
      "0   NaN\n",
      "1   2.0\n",
      "2   3.0\n",
      "3   4.0\n",
      "4   5.0\n",
      "wards_census_altered table shape: (49, 9)\n"
     ]
    }
   ],
   "source": [
    "# Print the first few rows of the census_altered table to view the change \n",
    "print(census_altered[['ward']].head())\n",
    "\n",
    "# Merge the wards and census_altered tables on the ward column\n",
    "wards_census_altered = wards.merge(census_altered, on='ward')\n",
    "\n",
    "# Print the shape of wards_census_altered\n",
    "print('wards_census_altered table shape:', wards_census_altered.shape)"
   ]
  },
  {
   "cell_type": "markdown",
   "metadata": {},
   "source": [
    "# One-to-many relationships\n",
    "\n",
    "```python\n",
    "\n",
    "# One-to-many example\n",
    "ward_licenses = wards.merge(licenses, on='ward', suffixes=('_ward','_lic'))\n",
    "```"
   ]
  },
  {
   "cell_type": "markdown",
   "metadata": {},
   "source": [
    "[One-to-many merge | Python](https://campus.datacamp.com/courses/joining-data-with-pandas/data-merging-basics?ex=7)\n",
    "\n",
    "> ## One-to-many merge\n",
    "> \n",
    "> A business may have one or multiple owners. In this exercise, you will continue to gain experience with one-to-many merges by merging a table of business owners, called `biz_owners`, to the `licenses` table. Recall from the video lesson, with a one-to-many relationship, a row in the left table may be repeated if it is related to multiple rows in the right table. In this lesson, you will explore this further by finding out what is the most common business owner title. (i.e., secretary, CEO, or vice president)\n",
    "> \n",
    "> The `licenses` and `biz_owners` DataFrames are loaded for you."
   ]
  },
  {
   "cell_type": "markdown",
   "metadata": {},
   "source": [
    "### init"
   ]
  },
  {
   "cell_type": "code",
   "execution_count": 16,
   "metadata": {
    "ExecuteTime": {
     "end_time": "2021-01-11T08:10:41.927433Z",
     "start_time": "2021-01-11T08:10:39.723276Z"
    }
   },
   "outputs": [
    {
     "name": "stdout",
     "output_type": "stream",
     "text": [
      "Téléchargements à lancer\n",
      "{'pandas.core.frame.DataFrame': {'biz_owners.csv': 'https://file.io/LEm54U1fbCXr', 'licenses.csv': 'https://file.io/zGbz7rxHM3y8'}}\n",
      "  % Total    % Received % Xferd  Average Speed   Time    Time     Time  Current\n",
      "                                 Dload  Upload   Total   Spent    Left  Speed\n",
      "100  765k    0  765k    0     0   685k      0 --:--:--  0:00:01 --:--:--  685k\n",
      "\n",
      "  % Total    % Received % Xferd  Average Speed   Time    Time     Time  Current\n",
      "                                 Dload  Upload   Total   Spent    Left  Speed\n",
      "100  633k    0  633k    0     0   636k      0 --:--:-- --:--:-- --:--:--  636k\n",
      "\n"
     ]
    }
   ],
   "source": [
    "###################\n",
    "##### Dataframe\n",
    "###################\n",
    "\n",
    "#upload and download\n",
    "\n",
    "from downloadfromFileIO import saveFromFileIO\n",
    "\"\"\" à executer sur datacamp: (apres copie du code uploadfromdatacamp.py)\n",
    "uploadToFileIO(licenses, biz_owners)\n",
    "\n",
    "\"\"\"\n",
    "\n",
    "tobedownloaded=\"\"\"\n",
    "{pandas.core.frame.DataFrame: {'biz_owners.csv': 'https://file.io/LEm54U1fbCXr',\n",
    "  'licenses.csv': 'https://file.io/zGbz7rxHM3y8'}}\n",
    "\"\"\"\n",
    "prefixToc='2.1'\n",
    "prefix = saveFromFileIO(tobedownloaded, prefixToc=prefixToc, proxy=\"\")\n",
    "\n",
    "#initialisation\n",
    "\n",
    "import pandas as pd\n",
    "licenses = pd.read_csv(prefix+'licenses.csv',index_col=0)\n",
    "biz_owners = pd.read_csv(prefix+'biz_owners.csv',index_col=0)\n"
   ]
  },
  {
   "cell_type": "markdown",
   "metadata": {},
   "source": [
    "### code"
   ]
  },
  {
   "cell_type": "markdown",
   "metadata": {},
   "source": [
    "> -   Starting with the `licenses` table on the left, merge it to the `biz_owners` table on the column `account`, and save the results to a variable named `licenses_owners`.\n",
    "> -   Group `licenses_owners` by `title` and count the number of accounts for each title. Save the result as `counted_df`\n",
    "> -   Sort `counted_df` by the number of **accounts** in **descending order**, and save this as a variable named `sorted_df`.\n",
    "> -   Use the `.head()` method to print the first few rows of the `sorted_df`."
   ]
  },
  {
   "cell_type": "code",
   "execution_count": 24,
   "metadata": {
    "ExecuteTime": {
     "end_time": "2021-01-11T08:13:44.550098Z",
     "start_time": "2021-01-11T08:13:44.526173Z"
    }
   },
   "outputs": [
    {
     "name": "stdout",
     "output_type": "stream",
     "text": [
      "                 account\n",
      "title                   \n",
      "PRESIDENT           6259\n",
      "SECRETARY           5205\n",
      "SOLE PROPRIETOR     1658\n",
      "OTHER               1200\n",
      "VICE PRESIDENT       970\n"
     ]
    }
   ],
   "source": [
    "# Merge the licenses and biz_owners table on account\n",
    "licenses_owners = licenses.merge(biz_owners, on='account')\n",
    "\n",
    "# Group the results by title then count the number of accounts\n",
    "counted_df = licenses_owners.groupby('title').agg({'account':'count'})\n",
    "\n",
    "# Sort the counted_df in desending order\n",
    "sorted_df = counted_df.sort_values(by='account', ascending=False)\n",
    "\n",
    "# Use .head() method to print the first few rows of sorted_df\n",
    "print(sorted_df.head())"
   ]
  },
  {
   "cell_type": "markdown",
   "metadata": {},
   "source": [
    "# Merging multiple DataFrames\n",
    "\n",
    "```python\n",
    "# Single merge\n",
    "grants.merge(licenses, on=['address','zip'])\n",
    "\n",
    "# Merging multiple tables\n",
    "grants_licenses_ward = grants.merge(licenses, on=['address','zip']) \\\n",
    ".merge(wards, on='ward', suffixes=('_bus','_ward'))\n",
    "\n",
    "\n",
    "# Plot Results\n",
    "import matplotlib.pyplot as plt\n",
    "grant_licenses_ward.groupby('ward').agg('sum').plot(kind='bar', y='grant')\n",
    "\n",
    "\n",
    "```"
   ]
  },
  {
   "attachments": {
    "image.png": {
     "image/png": "[encoded data removed]"
    }
   },
   "cell_type": "markdown",
   "metadata": {},
   "source": [
    "[Total riders in a month | Python](https://campus.datacamp.com/courses/joining-data-with-pandas/data-merging-basics?ex=9)\n",
    "\n",
    "> ## Total riders in a month\n",
    "> \n",
    "> Your goal is to find the total number of rides provided to passengers passing through the Wilson station (`station_name == 'Wilson'`) when riding Chicago's public transportation system on weekdays (`day_type == 'Weekday'`) in July (`month == 7`). Luckily, Chicago provides this detailed data, but it is in three different tables. You will work on merging these tables together to answer the question. This data is different from the business related data you have seen so far, but all the information you need to answer the question is below.\n",
    "> \n",
    "> The `cal`, `ridership`, and `stations` DataFrames have been loaded for you. The relationship between the tables can be seen in the diagram below.\n",
    "\n",
    "![image.png](attachment:image.png)"
   ]
  },
  {
   "cell_type": "markdown",
   "metadata": {},
   "source": [
    "### init"
   ]
  },
  {
   "cell_type": "code",
   "execution_count": 25,
   "metadata": {
    "ExecuteTime": {
     "end_time": "2021-01-11T08:23:07.581750Z",
     "start_time": "2021-01-11T08:23:05.780045Z"
    }
   },
   "outputs": [
    {
     "name": "stdout",
     "output_type": "stream",
     "text": [
      "Téléchargements à lancer\n",
      "{'pandas.core.frame.DataFrame': {'cal.csv': 'https://file.io/sV2qWKB5lia4', 'ridership.csv': 'https://file.io/SuyVFyM9NFKI', 'stations.csv': 'https://file.io/yprmeqdfQzjm'}}\n",
      "  % Total    % Received % Xferd  Average Speed   Time    Time     Time  Current\n",
      "                                 Dload  Upload   Total   Spent    Left  Speed\n",
      "100  8387    0  8387    0     0  15735      0 --:--:-- --:--:-- --:--:-- 15705\n",
      "\n",
      "  % Total    % Received % Xferd  Average Speed   Time    Time     Time  Current\n",
      "                                 Dload  Upload   Total   Spent    Left  Speed\n",
      "100 84120    0 84120    0     0   119k      0 --:--:-- --:--:-- --:--:--  119k\n",
      "\n",
      "  % Total    % Received % Xferd  Average Speed   Time    Time     Time  Current\n",
      "                                 Dload  Upload   Total   Spent    Left  Speed\n",
      "100  6970    0  6970    0     0  13912      0 --:--:-- --:--:-- --:--:-- 13884\n",
      "\n"
     ]
    }
   ],
   "source": [
    "###################\n",
    "##### Dataframe\n",
    "###################\n",
    "\n",
    "#upload and download\n",
    "\n",
    "from downloadfromFileIO import saveFromFileIO\n",
    "\"\"\" à executer sur datacamp: (apres copie du code uploadfromdatacamp.py)\n",
    "uploadToFileIO(cal, ridership, stations)\n",
    "\n",
    "\"\"\"\n",
    "\n",
    "tobedownloaded=\"\"\"\n",
    "{pandas.core.frame.DataFrame: {'cal.csv': 'https://file.io/sV2qWKB5lia4',\n",
    "  'ridership.csv': 'https://file.io/SuyVFyM9NFKI',\n",
    "  'stations.csv': 'https://file.io/yprmeqdfQzjm'}}\n",
    "\"\"\"\n",
    "prefixToc='3.1'\n",
    "prefix = saveFromFileIO(tobedownloaded, prefixToc=prefixToc, proxy=\"\")\n",
    "\n",
    "#initialisation\n",
    "\n",
    "import pandas as pd\n",
    "cal = pd.read_csv(prefix+'cal.csv',index_col=0)\n",
    "ridership = pd.read_csv(prefix+'ridership.csv',index_col=0)\n",
    "stations = pd.read_csv(prefix+'stations.csv',index_col=0)\n"
   ]
  },
  {
   "cell_type": "markdown",
   "metadata": {},
   "source": [
    "### code"
   ]
  },
  {
   "cell_type": "markdown",
   "metadata": {},
   "source": [
    "> Merge the `ridership` and `cal` tables together, starting with the `ridership` table on the left and save the result to the variable `ridership_cal`. If you code takes too long to run, your merge conditions might be incorrect."
   ]
  },
  {
   "cell_type": "code",
   "execution_count": 27,
   "metadata": {
    "ExecuteTime": {
     "end_time": "2021-01-11T08:24:34.444522Z",
     "start_time": "2021-01-11T08:24:34.437191Z"
    }
   },
   "outputs": [],
   "source": [
    "# Merge the ridership and cal tables\n",
    "ridership_cal = ridership.merge(cal, on=['year', 'month', 'day'])"
   ]
  },
  {
   "cell_type": "markdown",
   "metadata": {},
   "source": [
    "> Extend the previous merge to three tables by also merging the `stations` table."
   ]
  },
  {
   "cell_type": "code",
   "execution_count": 28,
   "metadata": {
    "ExecuteTime": {
     "end_time": "2021-01-11T08:25:33.309504Z",
     "start_time": "2021-01-11T08:25:33.300774Z"
    }
   },
   "outputs": [],
   "source": [
    "# Merge the ridership, cal, and stations tables\n",
    "ridership_cal_stations = ridership.merge(cal, on=['year','month','day']) \\\n",
    "            \t\t\t\t.merge(stations, on='station_id')"
   ]
  },
  {
   "cell_type": "markdown",
   "metadata": {},
   "source": [
    "> Create a variable called `filter_criteria` to select the appropriate rows from the merged table so that you can sum the `rides` column."
   ]
  },
  {
   "cell_type": "code",
   "execution_count": 29,
   "metadata": {
    "ExecuteTime": {
     "end_time": "2021-01-11T08:26:27.452825Z",
     "start_time": "2021-01-11T08:26:27.438685Z"
    }
   },
   "outputs": [
    {
     "name": "stdout",
     "output_type": "stream",
     "text": [
      "140005\n"
     ]
    }
   ],
   "source": [
    "# Create a filter to filter ridership_cal_stations\n",
    "filter_criteria = ((ridership_cal_stations['month'] == 7) \n",
    "                   & (ridership_cal_stations['day_type'] == 'Weekday') \n",
    "                   & (ridership_cal_stations['station_name'] == 'Wilson'))\n",
    "\n",
    "# Use .loc and the filter to select for rides\n",
    "print(ridership_cal_stations.loc[filter_criteria, 'rides'].sum())"
   ]
  },
  {
   "cell_type": "markdown",
   "metadata": {},
   "source": [
    "[Three table merge | Python](https://campus.datacamp.com/courses/joining-data-with-pandas/data-merging-basics?ex=10)\n",
    "\n",
    "> ## Three table merge\n",
    "> \n",
    "> To solidify the concept of a three DataFrame merge, practice another exercise. A reasonable extension of our review of Chicago business data would include looking at demographics information about the neighborhoods where the businesses are. A table with the median income by zip code has been provided to you. You will merge the `licenses` and `wards` tables with this new income-by-zip-code table called `zip_demo`.\n",
    "> \n",
    "> The `licenses`, `wards`, and `zip_demo` DataFrames have been loaded for you."
   ]
  },
  {
   "cell_type": "markdown",
   "metadata": {},
   "source": [
    "### init"
   ]
  },
  {
   "cell_type": "code",
   "execution_count": 30,
   "metadata": {
    "ExecuteTime": {
     "end_time": "2021-01-11T08:28:00.191895Z",
     "start_time": "2021-01-11T08:27:57.957719Z"
    }
   },
   "outputs": [
    {
     "name": "stdout",
     "output_type": "stream",
     "text": [
      "Téléchargements à lancer\n",
      "{'pandas.core.frame.DataFrame': {'licenses.csv': 'https://file.io/8q3gAmjcxR0V', 'wards.csv': 'https://file.io/oluS0ogCIIqt', 'zip_demo.csv': 'https://file.io/3hhCAF6Zhjni'}}\n",
      "  % Total    % Received % Xferd  Average Speed   Time    Time     Time  Current\n",
      "                                 Dload  Upload   Total   Spent    Left  Speed\n",
      "100  633k    0  633k    0     0   539k      0 --:--:--  0:00:01 --:--:--  539k\n",
      "\n",
      "  % Total    % Received % Xferd  Average Speed   Time    Time     Time  Current\n",
      "                                 Dload  Upload   Total   Spent    Left  Speed\n",
      "100  2799    0  2799    0     0   5643      0 --:--:-- --:--:-- --:--:--  5643\n",
      "\n",
      "  % Total    % Received % Xferd  Average Speed   Time    Time     Time  Current\n",
      "                                 Dload  Upload   Total   Spent    Left  Speed\n",
      "100  1004    0  1004    0     0   2091      0 --:--:-- --:--:-- --:--:--  2087\n",
      "\n"
     ]
    }
   ],
   "source": [
    "###################\n",
    "##### Dataframe\n",
    "###################\n",
    "\n",
    "#upload and download\n",
    "\n",
    "from downloadfromFileIO import saveFromFileIO\n",
    "\"\"\" à executer sur datacamp: (apres copie du code uploadfromdatacamp.py)\n",
    "uploadToFileIO(licenses, wards,  zip_demo)\n",
    "\n",
    "\"\"\"\n",
    "\n",
    "tobedownloaded=\"\"\"\n",
    "{pandas.core.frame.DataFrame: {'licenses.csv': 'https://file.io/8q3gAmjcxR0V',\n",
    "  'wards.csv': 'https://file.io/oluS0ogCIIqt',\n",
    "  'zip_demo.csv': 'https://file.io/3hhCAF6Zhjni'}}\n",
    "\"\"\"\n",
    "prefixToc='3.2'\n",
    "prefix = saveFromFileIO(tobedownloaded, prefixToc=prefixToc, proxy=\"\")\n",
    "\n",
    "#initialisation\n",
    "\n",
    "import pandas as pd\n",
    "licenses = pd.read_csv(prefix+'licenses.csv',index_col=0)\n",
    "wards = pd.read_csv(prefix+'wards.csv',index_col=0)\n",
    "zip_demo = pd.read_csv(prefix+'zip_demo.csv',index_col=0)\n"
   ]
  },
  {
   "cell_type": "markdown",
   "metadata": {},
   "source": [
    "### code"
   ]
  },
  {
   "cell_type": "markdown",
   "metadata": {},
   "source": [
    "> -   Starting with the `licenses` table, merge to it the `zip_demo` table on the `zip` column. Then merge the resulting table to the `wards` table on the `ward` column. Save result of the three merged tables to a variable named `licenses_zip_ward`.\n",
    "> -   Group the results of the three merged tables by the column `alderman` and find the median `income`."
   ]
  },
  {
   "cell_type": "code",
   "execution_count": 31,
   "metadata": {
    "ExecuteTime": {
     "end_time": "2021-01-11T08:29:19.819561Z",
     "start_time": "2021-01-11T08:29:19.803489Z"
    }
   },
   "outputs": [
    {
     "name": "stdout",
     "output_type": "stream",
     "text": [
      "                           income\n",
      "alderman                         \n",
      "Ameya Pawar                 66246\n",
      "Anthony A. Beale            38206\n",
      "Anthony V. Napolitano       82226\n",
      "Ariel E. Reyboras           41307\n",
      "Brendan Reilly             110215\n",
      "Brian Hopkins               87143\n",
      "Carlos Ramirez-Rosa         66246\n",
      "Carrie M. Austin            38206\n",
      "Chris Taliaferro            55566\n",
      "Daniel \"Danny\" Solis        41226\n",
      "David H. Moore              33304\n",
      "Deborah Mell                66246\n",
      "Debra L. Silverstein        50554\n",
      "Derrick G. Curtis           65770\n",
      "Edward M. Burke             42335\n",
      "Emma M. Mitts               36283\n",
      "George Cardenas             33959\n",
      "Gilbert Villegas            41307\n",
      "Gregory I. Mitchell         24941\n",
      "Harry Osterman              45442\n",
      "Howard B. Brookins, Jr.     33304\n",
      "James Cappleman             79565\n",
      "Jason C. Ervin              41226\n",
      "Joe Moore                   39163\n",
      "John S. Arena               70122\n",
      "Leslie A. Hairston          28024\n",
      "Margaret Laurino            70122\n",
      "Marty Quinn                 67045\n",
      "Matthew J. O'Shea           59488\n",
      "Michael R. Zalewski         42335\n",
      "Michael Scott, Jr.          31445\n",
      "Michelle A. Harris          32558\n",
      "Michelle Smith             100116\n",
      "Milagros \"Milly\" Santiago   41307\n",
      "Nicholas Sposato            62223\n",
      "Pat Dowell                  46340\n",
      "Patrick Daley Thompson      41226\n",
      "Patrick J. O'Connor         50554\n",
      "Proco \"Joe\" Moreno          87143\n",
      "Raymond A. Lopez            33959\n",
      "Ricardo Munoz               31445\n",
      "Roberto Maldonado           68223\n",
      "Roderick T. Sawyer          32558\n",
      "Scott Waguespack            68223\n",
      "Susan Sadlowski Garza       38417\n",
      "Tom Tunney                  88708\n",
      "Toni L. Foulkes             27573\n",
      "Walter Burnett, Jr.         87143\n",
      "William D. Burns           107811\n",
      "Willie B. Cochran           28024\n"
     ]
    }
   ],
   "source": [
    "# Merge licenses and zip_demo, on zip; and merge the wards on ward\n",
    "licenses_zip_ward = licenses.merge(zip_demo, on='zip') \\\n",
    "            \t\t\t.merge(wards, on='ward')\n",
    "\n",
    "# Print the results by alderman and show median income\n",
    "print(licenses_zip_ward.groupby('alderman').agg({'income':'median'}))"
   ]
  },
  {
   "cell_type": "markdown",
   "metadata": {},
   "source": [
    "[One-to-many merge with multiple tables | Python](https://campus.datacamp.com/courses/joining-data-with-pandas/data-merging-basics?ex=11)\n",
    "\n",
    "> ## One-to-many merge with multiple tables\n",
    "> \n",
    "> In this exercise, assume that you are looking to start a business in the city of Chicago. Your perfect idea is to start a company that uses goats to mow the lawn for other businesses. However, you have to choose a location in the city to put your goat farm. You need a location with a great deal of space and relatively few businesses and people around to avoid complaints about the smell. You will need to merge three tables to help you choose your location. The `land_use` table has info on the percentage of vacant land by city ward. The `census` table has population by ward, and the `licenses` table lists businesses by ward.\n",
    "> \n",
    "> The `land_use`, `census`, and `licenses` tables have been loaded for you."
   ]
  },
  {
   "cell_type": "markdown",
   "metadata": {},
   "source": [
    "### init"
   ]
  },
  {
   "cell_type": "code",
   "execution_count": 32,
   "metadata": {
    "ExecuteTime": {
     "end_time": "2021-01-11T08:30:50.391539Z",
     "start_time": "2021-01-11T08:30:47.962365Z"
    }
   },
   "outputs": [
    {
     "name": "stdout",
     "output_type": "stream",
     "text": [
      "Téléchargements à lancer\n",
      "{'pandas.core.frame.DataFrame': {'census.csv': 'https://file.io/94iW6DJQrR3B', 'land_use.csv': 'https://file.io/RlvHsPOXd7tS', 'licenses.csv': 'https://file.io/EG6LkrLrNrNW'}}\n",
      "  % Total    % Received % Xferd  Average Speed   Time    Time     Time  Current\n",
      "                                 Dload  Upload   Total   Spent    Left  Speed\n",
      "100  2896    0  2896    0     0   5862      0 --:--:-- --:--:-- --:--:--  5850\n",
      "\n",
      "  % Total    % Received % Xferd  Average Speed   Time    Time     Time  Current\n",
      "                                 Dload  Upload   Total   Spent    Left  Speed\n",
      "100   954    0   954    0     0   1198      0 --:--:-- --:--:-- --:--:--  1198\n",
      "\n",
      "  % Total    % Received % Xferd  Average Speed   Time    Time     Time  Current\n",
      "                                 Dload  Upload   Total   Spent    Left  Speed\n",
      "100  633k    0  633k    0     0   620k      0 --:--:--  0:00:01 --:--:--  620k\n",
      "\n"
     ]
    }
   ],
   "source": [
    "###################\n",
    "##### Dataframe\n",
    "###################\n",
    "\n",
    "#upload and download\n",
    "\n",
    "from downloadfromFileIO import saveFromFileIO\n",
    "\"\"\" à executer sur datacamp: (apres copie du code uploadfromdatacamp.py)\n",
    "uploadToFileIO(land_use, census,  licenses)\n",
    "\n",
    "\"\"\"\n",
    "\n",
    "tobedownloaded=\"\"\"\n",
    "{pandas.core.frame.DataFrame: {'census.csv': 'https://file.io/94iW6DJQrR3B',\n",
    "  'land_use.csv': 'https://file.io/RlvHsPOXd7tS',\n",
    "  'licenses.csv': 'https://file.io/EG6LkrLrNrNW'}}\n",
    "\"\"\"\n",
    "prefixToc='3.3'\n",
    "prefix = saveFromFileIO(tobedownloaded, prefixToc=prefixToc, proxy=\"\")\n",
    "\n",
    "#initialisation\n",
    "\n",
    "import pandas as pd\n",
    "licenses = pd.read_csv(prefix+'licenses.csv',index_col=0)\n",
    "census = pd.read_csv(prefix+'census.csv',index_col=0)\n",
    "land_use = pd.read_csv(prefix+'land_use.csv',index_col=0)\n"
   ]
  },
  {
   "cell_type": "markdown",
   "metadata": {},
   "source": [
    "### code"
   ]
  },
  {
   "cell_type": "markdown",
   "metadata": {},
   "source": [
    "> Merge `land_use` and `census` on the `ward` column. Merge the result of this with `licenses` on the `ward` column, using the suffix `_cen` for the left table and `_lic` for the right table. Save this to the variable `land_cen_lic`."
   ]
  },
  {
   "cell_type": "code",
   "execution_count": 34,
   "metadata": {
    "ExecuteTime": {
     "end_time": "2021-01-11T08:32:11.686770Z",
     "start_time": "2021-01-11T08:32:11.665516Z"
    }
   },
   "outputs": [],
   "source": [
    "# Merge land_use and census and merge result with licenses including suffixes\n",
    "land_cen_lic = land_use.merge(census, on='ward').merge(licenses, on='ward', suffixes=['_cen', '_lic'])"
   ]
  },
  {
   "cell_type": "markdown",
   "metadata": {},
   "source": [
    "> Group `land_cen_lic` by `ward`, `pop_2010` (the population in 2010), and `vacant`, then count the number of `accounts`. Save the results to `pop_vac_lic`."
   ]
  },
  {
   "cell_type": "code",
   "execution_count": 35,
   "metadata": {
    "ExecuteTime": {
     "end_time": "2021-01-11T08:33:06.513186Z",
     "start_time": "2021-01-11T08:33:06.507436Z"
    }
   },
   "outputs": [],
   "source": [
    "# Group by ward, pop_2010, and vacant, then count the # of accounts\n",
    "pop_vac_lic = land_cen_lic.groupby(['ward', 'pop_2010', 'vacant'], \n",
    "                                   as_index=False).agg({'account':'count'})"
   ]
  },
  {
   "cell_type": "markdown",
   "metadata": {},
   "source": [
    "> Sort `pop_vac_lic` by `vacant`, `account`, and`pop_2010` in descending, ascending, and ascending order respectively. Save it as `sorted_pop_vac_lic`."
   ]
  },
  {
   "cell_type": "code",
   "execution_count": 36,
   "metadata": {
    "ExecuteTime": {
     "end_time": "2021-01-11T08:34:29.344460Z",
     "start_time": "2021-01-11T08:34:29.331851Z"
    }
   },
   "outputs": [
    {
     "name": "stdout",
     "output_type": "stream",
     "text": [
      "    ward  pop_2010  vacant  account\n",
      "6      7     51581      19       80\n",
      "19    20     52372      15      123\n",
      "9     10     51535      14      130\n",
      "23    24     54909      13       98\n",
      "15    16     51954      13      156\n"
     ]
    }
   ],
   "source": [
    "# Sort pop_vac_lic and print the results\n",
    "sorted_pop_vac_lic = pop_vac_lic.sort_values(['vacant', 'account', 'pop_2010'], \n",
    "                                             ascending=[False, True, True])\n",
    "\n",
    "# Print the top few rows of sorted_pop_vac_lic\n",
    "print(sorted_pop_vac_lic.head())"
   ]
  },
  {
   "cell_type": "code",
   "execution_count": null,
   "metadata": {},
   "outputs": [],
   "source": []
  }
 ],
 "metadata": {
  "kernelspec": {
   "display_name": "Python [conda env:datacamp] *",
   "language": "python",
   "name": "conda-env-datacamp-py"
  },
  "language_info": {
   "codemirror_mode": {
    "name": "ipython",
    "version": 3
   },
   "file_extension": ".py",
   "mimetype": "text/x-python",
   "name": "python",
   "nbconvert_exporter": "python",
   "pygments_lexer": "ipython3",
   "version": "3.7.9"
  },
  "toc": {
   "base_numbering": 1,
   "nav_menu": {},
   "number_sections": true,
   "sideBar": true,
   "skip_h1_title": false,
   "title_cell": "Table of Contents",
   "title_sidebar": "Contents",
   "toc_cell": false,
   "toc_position": {},
   "toc_section_display": true,
   "toc_window_display": true
  }
 },
 "nbformat": 4,
 "nbformat_minor": 4
}
