{
 "cells": [
  {
   "cell_type": "markdown",
   "metadata": {},
   "source": [
    "# Using merge_ordered()\n",
    "\n",
    "```python\n",
    "# Merging stock data\n",
    "import pandas as pd\n",
    "pd.merge_ordered(appl, mcd, on='date', suffixes=('_aapl','_mcd'))\n",
    "\n",
    "# Forward fill example\n",
    "pd.merge_ordered(appl, mcd, on='date',\n",
    "suffixes=('_aapl','_mcd'),\n",
    "fill_method='ffill')\n",
    "```"
   ]
  },
  {
   "cell_type": "markdown",
   "metadata": {},
   "source": [
    "[Correlation between GDP and S&P500 | Python](https://campus.datacamp.com/courses/joining-data-with-pandas/merging-ordered-and-time-series-data?ex=2)\n",
    "\n",
    "> ## Correlation between GDP and S&P500\n",
    "> \n",
    "> In this exercise, you want to analyze stock returns from the S&P 500. You believe there may be a relationship between the returns of the S&P 500 and the GDP of the US. Merge the different datasets together to compute the correlation.\n",
    "> \n",
    "> Two tables have been provided for you, named `sp500`, and `gdp`. As always, `pandas` has been imported for you as `pd`."
   ]
  },
  {
   "cell_type": "markdown",
   "metadata": {},
   "source": [
    "### init"
   ]
  },
  {
   "cell_type": "code",
   "execution_count": 2,
   "metadata": {
    "ExecuteTime": {
     "end_time": "2021-01-11T12:22:43.632710Z",
     "start_time": "2021-01-11T12:22:42.304524Z"
    }
   },
   "outputs": [
    {
     "name": "stdout",
     "output_type": "stream",
     "text": [
      "Téléchargements à lancer\n",
      "{'pandas.core.frame.DataFrame': {'gdp.csv': 'https://file.io/Bfx8nVUxfhy4', 'sp500.csv': 'https://file.io/hPtlfycRbLmY'}}\n",
      "  % Total    % Received % Xferd  Average Speed   Time    Time     Time  Current\n",
      "                                 Dload  Upload   Total   Spent    Left  Speed\n",
      "100   311    0   311    0     0    611      0 --:--:-- --:--:-- --:--:--   611\n",
      "\n",
      "  % Total    % Received % Xferd  Average Speed   Time    Time     Time  Current\n",
      "                                 Dload  Upload   Total   Spent    Left  Speed\n",
      "100   141    0   141    0     0    271      0 --:--:-- --:--:-- --:--:--   270\n",
      "\n"
     ]
    }
   ],
   "source": [
    "###################\n",
    "##### Dataframe\n",
    "###################\n",
    "\n",
    "#upload and download\n",
    "\n",
    "from downloadfromFileIO import saveFromFileIO\n",
    "\"\"\" à executer sur datacamp: (apres copie du code uploadfromdatacamp.py)\n",
    "uploadToFileIO(sp500, gdp)\n",
    "\n",
    "\"\"\"\n",
    "\n",
    "tobedownloaded=\"\"\"\n",
    "{pandas.core.frame.DataFrame: {'gdp.csv': 'https://file.io/Bfx8nVUxfhy4',\n",
    "  'sp500.csv': 'https://file.io/hPtlfycRbLmY'}}\n",
    "\"\"\"\n",
    "prefixToc='1.1'\n",
    "prefix = saveFromFileIO(tobedownloaded, prefixToc=prefixToc, proxy=\"\")\n",
    "\n",
    "#initialisation\n",
    "\n",
    "import pandas as pd\n",
    "sp500 = pd.read_csv(prefix+'sp500.csv',index_col=0)\n",
    "gdp = pd.read_csv(prefix+'gdp.csv',index_col=0)\n"
   ]
  },
  {
   "cell_type": "markdown",
   "metadata": {},
   "source": [
    "### code"
   ]
  },
  {
   "cell_type": "markdown",
   "metadata": {},
   "source": [
    "> -   Use `merge_ordered()` to merge `gdp` and `sp500` using a left join on `year` and `date`. Save the results as `gdp_sp500`.\n",
    "> -   Print `gdp_sp500` and look at the returns for the year 2018."
   ]
  },
  {
   "cell_type": "code",
   "execution_count": 3,
   "metadata": {
    "ExecuteTime": {
     "end_time": "2021-01-11T12:24:03.490019Z",
     "start_time": "2021-01-11T12:24:03.462969Z"
    }
   },
   "outputs": [
    {
     "name": "stdout",
     "output_type": "stream",
     "text": [
      "  country code  year           gdp    date  returns\n",
      "0          USA  2010  1.499210e+13  2010.0    12.78\n",
      "1          USA  2011  1.554260e+13  2011.0     0.00\n",
      "2          USA  2012  1.619700e+13  2012.0    13.41\n",
      "3          USA  2012  1.619700e+13  2012.0    13.41\n",
      "4          USA  2013  1.678480e+13  2013.0    29.60\n",
      "5          USA  2014  1.752170e+13  2014.0    11.39\n",
      "6          USA  2015  1.821930e+13  2015.0    -0.73\n",
      "7          USA  2016  1.870720e+13  2016.0     9.54\n",
      "8          USA  2017  1.948540e+13  2017.0    19.42\n",
      "9          USA  2018  2.049410e+13     NaN      NaN\n"
     ]
    }
   ],
   "source": [
    "# Use merge_ordered() to merge gdp and sp500 on year and date\n",
    "gdp_sp500 = pd.merge_ordered(gdp, sp500, left_on='year', right_on='date', \n",
    "                             how='left')\n",
    "\n",
    "# Print gdp_sp500\n",
    "print(gdp_sp500)"
   ]
  },
  {
   "cell_type": "markdown",
   "metadata": {},
   "source": [
    "> Use `merge_ordered()`, again similar to before, to merge `gdp` and `sp500` use the function's ability to interpolate missing data to forward fill the missing value for returns, assigning this table to the variable `gdp_sp500`."
   ]
  },
  {
   "cell_type": "code",
   "execution_count": 4,
   "metadata": {
    "ExecuteTime": {
     "end_time": "2021-01-11T12:24:59.040851Z",
     "start_time": "2021-01-11T12:24:59.016443Z"
    }
   },
   "outputs": [
    {
     "name": "stdout",
     "output_type": "stream",
     "text": [
      "  country code  year           gdp  date  returns\n",
      "0          USA  2010  1.499210e+13  2010    12.78\n",
      "1          USA  2011  1.554260e+13  2011     0.00\n",
      "2          USA  2012  1.619700e+13  2012    13.41\n",
      "3          USA  2012  1.619700e+13  2012    13.41\n",
      "4          USA  2013  1.678480e+13  2013    29.60\n",
      "5          USA  2014  1.752170e+13  2014    11.39\n",
      "6          USA  2015  1.821930e+13  2015    -0.73\n",
      "7          USA  2016  1.870720e+13  2016     9.54\n",
      "8          USA  2017  1.948540e+13  2017    19.42\n",
      "9          USA  2018  2.049410e+13  2017    19.42\n"
     ]
    }
   ],
   "source": [
    "# Use merge_ordered() to merge gdp and sp500, interpolate missing value\n",
    "gdp_sp500 = pd.merge_ordered(gdp, sp500, left_on='year', right_on='date', \n",
    "                             how='left', fill_method='ffill')\n",
    "\n",
    "\n",
    "# Print gdp_sp500\n",
    "print (gdp_sp500)"
   ]
  },
  {
   "cell_type": "markdown",
   "metadata": {},
   "source": [
    "> -   Subset the `gdp_sp500` table, select the `gdp` and `returns` columns, and save as `gdp_returns`.\n",
    "> -   Print the correlation matrix of the `gdp_returns` table."
   ]
  },
  {
   "cell_type": "code",
   "execution_count": 5,
   "metadata": {
    "ExecuteTime": {
     "end_time": "2021-01-11T12:26:06.215811Z",
     "start_time": "2021-01-11T12:26:06.211221Z"
    }
   },
   "outputs": [
    {
     "name": "stdout",
     "output_type": "stream",
     "text": [
      "              gdp   returns\n",
      "gdp      1.000000  0.212173\n",
      "returns  0.212173  1.000000\n"
     ]
    }
   ],
   "source": [
    "# Subset the gdp and returns columns\n",
    "gdp_returns = gdp_sp500[['gdp', 'returns']]\n",
    "\n",
    "# Print gdp_returns correlation\n",
    "print (gdp_returns.corr())"
   ]
  },
  {
   "cell_type": "markdown",
   "metadata": {},
   "source": [
    "[Phillips curve using merge_ordered() | Python](https://campus.datacamp.com/courses/joining-data-with-pandas/merging-ordered-and-time-series-data?ex=3)\n",
    "\n",
    "> ## Phillips curve using merge\\_ordered()\n",
    "> \n",
    "> There is an economic theory developed by A. W. Phillips which states that inflation and unemployment have an inverse relationship. The theory claims that with economic growth comes inflation, which in turn should lead to more jobs and less unemployment.\n",
    "> \n",
    "> You will take two tables of data from the U.S. Bureau of Labor Statistics, containing unemployment and inflation data over different periods, and create a Phillips curve. The tables have different frequencies. One table has a data entry every six months, while the other has a data entry every month. You will need to use the entries where you have data within both tables.\n",
    "> \n",
    "> The tables `unemployment` and `inflation` have been loaded for you."
   ]
  },
  {
   "cell_type": "markdown",
   "metadata": {},
   "source": [
    "### init"
   ]
  },
  {
   "cell_type": "code",
   "execution_count": 6,
   "metadata": {
    "ExecuteTime": {
     "end_time": "2021-01-11T12:28:08.375941Z",
     "start_time": "2021-01-11T12:28:07.298996Z"
    }
   },
   "outputs": [
    {
     "name": "stdout",
     "output_type": "stream",
     "text": [
      "Téléchargements à lancer\n",
      "{'pandas.core.frame.DataFrame': {'inflation.csv': 'https://file.io/UfmEixpiOglS', 'unemployment.csv': 'https://file.io/eEWiPOYRsd62'}}\n",
      "  % Total    % Received % Xferd  Average Speed   Time    Time     Time  Current\n",
      "                                 Dload  Upload   Total   Spent    Left  Speed\n",
      "100  3865    0  3865    0     0   7839      0 --:--:-- --:--:-- --:--:--  7839\n",
      "\n",
      "  % Total    % Received % Xferd  Average Speed   Time    Time     Time  Current\n",
      "                                 Dload  Upload   Total   Spent    Left  Speed\n",
      "100   266    0   266    0     0    524      0 --:--:-- --:--:-- --:--:--   523\n",
      "\n"
     ]
    }
   ],
   "source": [
    "###################\n",
    "##### Dataframe\n",
    "###################\n",
    "\n",
    "#upload and download\n",
    "\n",
    "from downloadfromFileIO import saveFromFileIO\n",
    "\"\"\" à executer sur datacamp: (apres copie du code uploadfromdatacamp.py)\n",
    "uploadToFileIO(unemployment , inflation)\n",
    "\n",
    "\"\"\"\n",
    "\n",
    "tobedownloaded=\"\"\"\n",
    "{pandas.core.frame.DataFrame: {'inflation.csv': 'https://file.io/UfmEixpiOglS',\n",
    "  'unemployment.csv': 'https://file.io/eEWiPOYRsd62'}}\n",
    "\"\"\"\n",
    "prefixToc='1.2'\n",
    "prefix = saveFromFileIO(tobedownloaded, prefixToc=prefixToc, proxy=\"\")\n",
    "\n",
    "#initialisation\n",
    "\n",
    "import pandas as pd\n",
    "unemployment = pd.read_csv(prefix+'unemployment.csv',index_col=0)\n",
    "inflation = pd.read_csv(prefix+'inflation.csv',index_col=0)\n"
   ]
  },
  {
   "cell_type": "markdown",
   "metadata": {},
   "source": [
    "### code"
   ]
  },
  {
   "cell_type": "markdown",
   "metadata": {},
   "source": [
    "> -   Use `merge_ordered()` to merge the `inflation` and `unemployment` tables on `date` with an inner join, and save the results as `inflation_unemploy`.\n",
    "> -   Print the `inflation_unemploy` variable.\n",
    "> -   Using `inflation_unemploy`, create a scatter plot with `unemployment_rate` on the horizontal axis and `cpi` (inflation) on the vertical axis."
   ]
  },
  {
   "cell_type": "code",
   "execution_count": 8,
   "metadata": {
    "ExecuteTime": {
     "end_time": "2021-01-11T12:29:43.360980Z",
     "start_time": "2021-01-11T12:29:43.353982Z"
    }
   },
   "outputs": [],
   "source": [
    "import matplotlib.pyplot as plt"
   ]
  },
  {
   "cell_type": "code",
   "execution_count": 12,
   "metadata": {
    "ExecuteTime": {
     "end_time": "2021-01-11T12:30:56.937247Z",
     "start_time": "2021-01-11T12:30:56.763465Z"
    }
   },
   "outputs": [
    {
     "name": "stdout",
     "output_type": "stream",
     "text": [
      "         date      cpi     seriesid                  data_type  \\\n",
      "0  2014-01-01  235.288  CUSR0000SA0  SEASONALLY ADJUSTED INDEX   \n",
      "1  2014-06-01  237.231  CUSR0000SA0  SEASONALLY ADJUSTED INDEX   \n",
      "2  2015-01-01  234.718  CUSR0000SA0  SEASONALLY ADJUSTED INDEX   \n",
      "3  2015-06-01  237.684  CUSR0000SA0  SEASONALLY ADJUSTED INDEX   \n",
      "4  2016-01-01  237.833  CUSR0000SA0  SEASONALLY ADJUSTED INDEX   \n",
      "5  2016-06-01  240.167  CUSR0000SA0  SEASONALLY ADJUSTED INDEX   \n",
      "6  2017-01-01  243.780  CUSR0000SA0  SEASONALLY ADJUSTED INDEX   \n",
      "7  2017-06-01  244.182  CUSR0000SA0  SEASONALLY ADJUSTED INDEX   \n",
      "8  2018-01-01  248.884  CUSR0000SA0  SEASONALLY ADJUSTED INDEX   \n",
      "9  2018-06-01  251.134  CUSR0000SA0  SEASONALLY ADJUSTED INDEX   \n",
      "\n",
      "   unemployment_rate  \n",
      "0                6.7  \n",
      "1                6.1  \n",
      "2                5.6  \n",
      "3                5.3  \n",
      "4                5.0  \n",
      "5                4.9  \n",
      "6                4.7  \n",
      "7                4.3  \n",
      "8                4.1  \n",
      "9                4.0  \n"
     ]
    },
    {
     "data": {
      "image/png": "[encoded data removed]",
      "text/plain": [
       "<Figure size 432x288 with 1 Axes>"
      ]
     },
     "metadata": {
      "needs_background": "light"
     },
     "output_type": "display_data"
    }
   ],
   "source": [
    "# Use merge_ordered() to merge inflation, unemployment with inner join\n",
    "inflation_unemploy = pd.merge_ordered(inflation, unemployment, on='date', how='inner')\n",
    "# Print inflation_unemploy \n",
    "print(inflation_unemploy)\n",
    "\n",
    "# Plot a scatter plot of unemployment_rate vs cpi of inflation_unemploy\n",
    "inflation_unemploy.plot('unemployment_rate', 'cpi', kind='scatter')\n",
    "plt.show()"
   ]
  },
  {
   "cell_type": "markdown",
   "metadata": {},
   "source": [
    "[merge_ordered() caution, multiple columns | Python](https://campus.datacamp.com/courses/joining-data-with-pandas/merging-ordered-and-time-series-data?ex=4)\n",
    "\n",
    "> ## merge\\_ordered() caution, multiple columns\n",
    "> \n",
    "> When using `merge_ordered()` to merge on multiple columns, the order is important when you combine it with the forward fill feature. The function sorts the merge on columns in the order provided. In this exercise, we will merge GDP and population data from the World Bank for the Australia and Sweden, reversing the order of the merge on columns. The frequency of the series are different, the GDP values are quarterly, and the population is yearly. Use the forward fill feature to fill in the missing data. Depending on the order provided, the fill forward will use unintended data to fill in the missing values.\n",
    "> \n",
    "> The tables `gdp` and `pop` have been loaded."
   ]
  },
  {
   "cell_type": "markdown",
   "metadata": {},
   "source": [
    "### init"
   ]
  },
  {
   "cell_type": "code",
   "execution_count": 13,
   "metadata": {
    "ExecuteTime": {
     "end_time": "2021-01-11T12:32:27.979316Z",
     "start_time": "2021-01-11T12:32:26.875885Z"
    }
   },
   "outputs": [
    {
     "name": "stdout",
     "output_type": "stream",
     "text": [
      "Téléchargements à lancer\n",
      "{'pandas.core.frame.DataFrame': {'gdp.csv': 'https://file.io/gAF89IhHSZ7Q', 'pop.csv': 'https://file.io/P8NL46hLB7kH'}}\n",
      "  % Total    % Received % Xferd  Average Speed   Time    Time     Time  Current\n",
      "                                 Dload  Upload   Total   Spent    Left  Speed\n",
      "100  1587    0  1587    0     0   3206      0 --:--:-- --:--:-- --:--:--  3199\n",
      "\n",
      "  % Total    % Received % Xferd  Average Speed   Time    Time     Time  Current\n",
      "                                 Dload  Upload   Total   Spent    Left  Speed\n",
      "100   366    0   366    0     0    693      0 --:--:-- --:--:-- --:--:--   693\n",
      "\n"
     ]
    }
   ],
   "source": [
    "###################\n",
    "##### Dataframe\n",
    "###################\n",
    "\n",
    "#upload and download\n",
    "\n",
    "from downloadfromFileIO import saveFromFileIO\n",
    "\"\"\" à executer sur datacamp: (apres copie du code uploadfromdatacamp.py)\n",
    "uploadToFileIO(pop, gdp)\n",
    "\n",
    "\"\"\"\n",
    "\n",
    "tobedownloaded=\"\"\"\n",
    "{pandas.core.frame.DataFrame: {'gdp.csv': 'https://file.io/gAF89IhHSZ7Q',\n",
    "  'pop.csv': 'https://file.io/P8NL46hLB7kH'}}\n",
    "\"\"\"\n",
    "prefixToc='1.3'\n",
    "prefix = saveFromFileIO(tobedownloaded, prefixToc=prefixToc, proxy=\"\")\n",
    "\n",
    "#initialisation\n",
    "\n",
    "import pandas as pd\n",
    "pop = pd.read_csv(prefix+'pop.csv',index_col=0)\n",
    "gdp = pd.read_csv(prefix+'gdp.csv',index_col=0)\n"
   ]
  },
  {
   "cell_type": "markdown",
   "metadata": {},
   "source": [
    "### code"
   ]
  },
  {
   "cell_type": "markdown",
   "metadata": {},
   "source": [
    "> Use `merge_ordered()` on `gdp` and `pop`, merging on columns `date` and `country` with the fill feature, save to `ctry_date`."
   ]
  },
  {
   "cell_type": "code",
   "execution_count": 16,
   "metadata": {
    "ExecuteTime": {
     "end_time": "2021-01-11T12:34:06.053379Z",
     "start_time": "2021-01-11T12:34:06.031575Z"
    }
   },
   "outputs": [
    {
     "name": "stdout",
     "output_type": "stream",
     "text": [
      "          date    country           gdp  series_code_x       pop series_code_y\n",
      "0   1990-01-01  Australia  158051.13240  NYGDPMKTPSAKD  17065100   SP.POP.TOTL\n",
      "1   1990-01-01     Sweden   79837.84599  NYGDPMKTPSAKD   8558835   SP.POP.TOTL\n",
      "2   1990-04-01  Australia  158263.58160  NYGDPMKTPSAKD   8558835   SP.POP.TOTL\n",
      "3   1990-04-01     Sweden   80582.28597  NYGDPMKTPSAKD   8558835   SP.POP.TOTL\n",
      "4   1990-07-01  Australia  157329.27900  NYGDPMKTPSAKD   8558835   SP.POP.TOTL\n",
      "5   1990-07-01     Sweden   79974.36017  NYGDPMKTPSAKD   8558835   SP.POP.TOTL\n",
      "6   1990-09-01  Australia  158240.67810  NYGDPMKTPSAKD   8558835   SP.POP.TOTL\n",
      "7   1990-09-01     Sweden   80106.49738  NYGDPMKTPSAKD   8558835   SP.POP.TOTL\n",
      "8   1991-01-01  Australia  156195.95350  NYGDPMKTPSAKD  17284000   SP.POP.TOTL\n",
      "9   1991-01-01     Sweden   79524.24192  NYGDPMKTPSAKD   8617375   SP.POP.TOTL\n",
      "10  1991-04-01  Australia  155989.03270  NYGDPMKTPSAKD   8617375   SP.POP.TOTL\n",
      "11  1991-04-01     Sweden   79073.05901  NYGDPMKTPSAKD   8617375   SP.POP.TOTL\n",
      "12  1991-07-01  Australia  156635.85760  NYGDPMKTPSAKD   8617375   SP.POP.TOTL\n",
      "13  1991-07-01     Sweden   79084.77036  NYGDPMKTPSAKD   8617375   SP.POP.TOTL\n",
      "14  1991-09-01  Australia  156744.05660  NYGDPMKTPSAKD   8617375   SP.POP.TOTL\n",
      "15  1991-09-01     Sweden   79740.60625  NYGDPMKTPSAKD   8617375   SP.POP.TOTL\n",
      "16  1992-01-01  Australia  157916.08110  NYGDPMKTPSAKD  17495000   SP.POP.TOTL\n",
      "17  1992-01-01     Sweden   79390.92175  NYGDPMKTPSAKD   8668067   SP.POP.TOTL\n",
      "18  1992-04-01  Australia  159047.82710  NYGDPMKTPSAKD   8668067   SP.POP.TOTL\n",
      "19  1992-04-01     Sweden   79060.28298  NYGDPMKTPSAKD   8668067   SP.POP.TOTL\n",
      "20  1992-07-01  Australia  160658.17600  NYGDPMKTPSAKD   8668067   SP.POP.TOTL\n",
      "21  1992-07-01     Sweden   78904.60477  NYGDPMKTPSAKD   8668067   SP.POP.TOTL\n",
      "22  1992-09-01  Australia  163960.22070  NYGDPMKTPSAKD   8668067   SP.POP.TOTL\n",
      "23  1992-09-01     Sweden   76996.83684  NYGDPMKTPSAKD   8668067   SP.POP.TOTL\n",
      "24  1993-01-01  Australia  165097.49510  NYGDPMKTPSAKD  17667000   SP.POP.TOTL\n",
      "25  1993-01-01     Sweden   75783.58777  NYGDPMKTPSAKD   8718561   SP.POP.TOTL\n",
      "26  1993-04-01  Australia  166027.05900  NYGDPMKTPSAKD   8718561   SP.POP.TOTL\n",
      "27  1993-04-01     Sweden   76708.54823  NYGDPMKTPSAKD   8718561   SP.POP.TOTL\n",
      "28  1993-07-01  Australia  166203.17860  NYGDPMKTPSAKD   8718561   SP.POP.TOTL\n",
      "29  1993-07-01     Sweden   77662.01816  NYGDPMKTPSAKD   8718561   SP.POP.TOTL\n",
      "30  1993-09-01  Australia  169279.34790  NYGDPMKTPSAKD   8718561   SP.POP.TOTL\n",
      "31  1993-09-01     Sweden   77703.30364  NYGDPMKTPSAKD   8718561   SP.POP.TOTL\n"
     ]
    }
   ],
   "source": [
    "# Merge gdp and pop on date and country with fill and notice rows 2 and 3\n",
    "ctry_date = pd.merge_ordered(gdp, pop, on=['date', 'country'], \n",
    "                             fill_method='ffill')\n",
    "\n",
    "# Print ctry_date\n",
    "print(ctry_date)"
   ]
  },
  {
   "cell_type": "markdown",
   "metadata": {},
   "source": [
    "> -   Perform the same merge of `gdp` and `pop`, but join on `country` and `date` (**reverse of step 1**) with the fill feature, saving this as `date_ctry`."
   ]
  },
  {
   "cell_type": "code",
   "execution_count": 17,
   "metadata": {
    "ExecuteTime": {
     "end_time": "2021-01-11T12:35:01.884683Z",
     "start_time": "2021-01-11T12:35:01.876050Z"
    }
   },
   "outputs": [
    {
     "name": "stdout",
     "output_type": "stream",
     "text": [
      "          date    country           gdp  series_code_x       pop series_code_y\n",
      "0   1990-01-01  Australia  158051.13240  NYGDPMKTPSAKD  17065100   SP.POP.TOTL\n",
      "1   1990-04-01  Australia  158263.58160  NYGDPMKTPSAKD  17065100   SP.POP.TOTL\n",
      "2   1990-07-01  Australia  157329.27900  NYGDPMKTPSAKD  17065100   SP.POP.TOTL\n",
      "3   1990-09-01  Australia  158240.67810  NYGDPMKTPSAKD  17065100   SP.POP.TOTL\n",
      "4   1991-01-01  Australia  156195.95350  NYGDPMKTPSAKD  17284000   SP.POP.TOTL\n",
      "5   1991-04-01  Australia  155989.03270  NYGDPMKTPSAKD  17284000   SP.POP.TOTL\n",
      "6   1991-07-01  Australia  156635.85760  NYGDPMKTPSAKD  17284000   SP.POP.TOTL\n",
      "7   1991-09-01  Australia  156744.05660  NYGDPMKTPSAKD  17284000   SP.POP.TOTL\n",
      "8   1992-01-01  Australia  157916.08110  NYGDPMKTPSAKD  17495000   SP.POP.TOTL\n",
      "9   1992-04-01  Australia  159047.82710  NYGDPMKTPSAKD  17495000   SP.POP.TOTL\n",
      "10  1992-07-01  Australia  160658.17600  NYGDPMKTPSAKD  17495000   SP.POP.TOTL\n",
      "11  1992-09-01  Australia  163960.22070  NYGDPMKTPSAKD  17495000   SP.POP.TOTL\n",
      "12  1993-01-01  Australia  165097.49510  NYGDPMKTPSAKD  17667000   SP.POP.TOTL\n",
      "13  1993-04-01  Australia  166027.05900  NYGDPMKTPSAKD  17667000   SP.POP.TOTL\n",
      "14  1993-07-01  Australia  166203.17860  NYGDPMKTPSAKD  17667000   SP.POP.TOTL\n",
      "15  1993-09-01  Australia  169279.34790  NYGDPMKTPSAKD  17667000   SP.POP.TOTL\n",
      "16  1990-01-01     Sweden   79837.84599  NYGDPMKTPSAKD   8558835   SP.POP.TOTL\n",
      "17  1990-04-01     Sweden   80582.28597  NYGDPMKTPSAKD   8558835   SP.POP.TOTL\n",
      "18  1990-07-01     Sweden   79974.36017  NYGDPMKTPSAKD   8558835   SP.POP.TOTL\n",
      "19  1990-09-01     Sweden   80106.49738  NYGDPMKTPSAKD   8558835   SP.POP.TOTL\n",
      "20  1991-01-01     Sweden   79524.24192  NYGDPMKTPSAKD   8617375   SP.POP.TOTL\n",
      "21  1991-04-01     Sweden   79073.05901  NYGDPMKTPSAKD   8617375   SP.POP.TOTL\n",
      "22  1991-07-01     Sweden   79084.77036  NYGDPMKTPSAKD   8617375   SP.POP.TOTL\n",
      "23  1991-09-01     Sweden   79740.60625  NYGDPMKTPSAKD   8617375   SP.POP.TOTL\n",
      "24  1992-01-01     Sweden   79390.92175  NYGDPMKTPSAKD   8668067   SP.POP.TOTL\n",
      "25  1992-04-01     Sweden   79060.28298  NYGDPMKTPSAKD   8668067   SP.POP.TOTL\n",
      "26  1992-07-01     Sweden   78904.60477  NYGDPMKTPSAKD   8668067   SP.POP.TOTL\n",
      "27  1992-09-01     Sweden   76996.83684  NYGDPMKTPSAKD   8668067   SP.POP.TOTL\n",
      "28  1993-01-01     Sweden   75783.58777  NYGDPMKTPSAKD   8718561   SP.POP.TOTL\n",
      "29  1993-04-01     Sweden   76708.54823  NYGDPMKTPSAKD   8718561   SP.POP.TOTL\n",
      "30  1993-07-01     Sweden   77662.01816  NYGDPMKTPSAKD   8718561   SP.POP.TOTL\n",
      "31  1993-09-01     Sweden   77703.30364  NYGDPMKTPSAKD   8718561   SP.POP.TOTL\n"
     ]
    }
   ],
   "source": [
    "# Merge gdp and pop on country and date with fill\n",
    "date_ctry = pd.merge_ordered(gdp, pop, on=['country', 'date'], \n",
    "                             fill_method='ffill')\n",
    "\n",
    "# Print date_ctry\n",
    "print(date_ctry)"
   ]
  },
  {
   "cell_type": "markdown",
   "metadata": {},
   "source": [
    "# Using merge_asof()\n",
    "\n",
    "```python\n",
    "\n",
    "# merge_asof() example\n",
    "pd.merge_asof(visa, ibm, on='date_time',\n",
    "suffixes=('_visa','_ibm'))\n",
    "\n",
    "# merge_asof() example with direction\n",
    "pd.merge_asof(visa, ibm, on=['date_time'],\n",
    "suffixes=('_visa','_ibm'),\n",
    "direction='forward')\n",
    "```"
   ]
  },
  {
   "cell_type": "markdown",
   "metadata": {},
   "source": [
    "[Using merge_asof() to study stocks | Python](https://campus.datacamp.com/courses/joining-data-with-pandas/merging-ordered-and-time-series-data?ex=6)\n",
    "\n",
    "> ## Using merge\\_asof() to study stocks\n",
    "> \n",
    "> You have a feed of stock market prices that you record. You attempt to track the price every five minutes. Still, due to some network latency, the prices you record are roughly every 5 minutes. You pull your price logs for three banks, _JP Morgan_ (JPM), _Wells Fargo_ (WFC), and _Bank Of America_ (BAC). You want to know how the price change of the two other banks compare to JP Morgan. Therefore, you will need to merge these three logs into one table. Afterward, you will use the `pandas` `.diff()` method to compute the price change over time. Finally, plot the price changes so you can review your analysis.\n",
    "> \n",
    "> The three log files have been loaded for you as tables named `jpm`, `wells`, and `bac`."
   ]
  },
  {
   "cell_type": "markdown",
   "metadata": {},
   "source": [
    "### init"
   ]
  },
  {
   "cell_type": "code",
   "execution_count": 31,
   "metadata": {
    "ExecuteTime": {
     "end_time": "2021-01-11T12:48:13.799794Z",
     "start_time": "2021-01-11T12:48:13.789042Z"
    }
   },
   "outputs": [
    {
     "name": "stdout",
     "output_type": "stream",
     "text": [
      "Téléchargements déjà effectués - SKIP\n"
     ]
    }
   ],
   "source": [
    "###################\n",
    "##### Dataframe\n",
    "###################\n",
    "\n",
    "#upload and download\n",
    "\n",
    "from downloadfromFileIO import saveFromFileIO\n",
    "\"\"\" à executer sur datacamp: (apres copie du code uploadfromdatacamp.py)\n",
    "uploadToFileIO(jpm, wells,  bac)\n",
    "\n",
    "\"\"\"\n",
    "\n",
    "tobedownloaded=\"\"\"\n",
    "{pandas.core.frame.DataFrame: {'bac.csv': 'https://file.io/S9rn7O6fmqHa',\n",
    "  'jpm.csv': 'https://file.io/g7xqrvUdPhtq',\n",
    "  'wells.csv': 'https://file.io/EJo9kryypz23'}}\n",
    "\"\"\"\n",
    "prefixToc='2.1'\n",
    "prefix = saveFromFileIO(tobedownloaded, prefixToc=prefixToc, proxy=\"\")\n",
    "\n",
    "#initialisation\n",
    "\n",
    "import pandas as pd\n",
    "jpm = pd.read_csv(prefix+'jpm.csv',index_col=0, parse_dates=['date_time'] )\n",
    "wells = pd.read_csv(prefix+'wells.csv',index_col=0, parse_dates=['date_time'])\n",
    "bac = pd.read_csv(prefix+'bac.csv',index_col=0, parse_dates=['date_time'])\n"
   ]
  },
  {
   "cell_type": "markdown",
   "metadata": {},
   "source": [
    "### code"
   ]
  },
  {
   "cell_type": "markdown",
   "metadata": {},
   "source": [
    "> -   Use `merge_asof()` to merge `jpm` (left table) and `wells` together on the `date_time` column, where the rows with the **_nearest_** times are matched, and with `suffixes=('', '_wells')`. Save to `jpm_wells`.\n",
    "> -   Use `merge_asof()` to merge `jpm_wells` (left table) and `bac` together on the `date_time` column, where the rows with the closest times are matched, and with `suffixes=('_jpm', '_bac')`. Save to `jpm_wells_bac`.\n",
    "> -   Using `price_diffs`, create a line plot of the close price of JPM, WFC, and BAC only."
   ]
  },
  {
   "cell_type": "code",
   "execution_count": 34,
   "metadata": {
    "ExecuteTime": {
     "end_time": "2021-01-11T12:49:09.969940Z",
     "start_time": "2021-01-11T12:49:09.846020Z"
    }
   },
   "outputs": [
    {
     "data": {
      "image/png": "[encoded data removed]",
      "text/plain": [
       "<Figure size 432x288 with 1 Axes>"
      ]
     },
     "metadata": {
      "needs_background": "light"
     },
     "output_type": "display_data"
    }
   ],
   "source": [
    "# Use merge_asof() to merge jpm and wells\n",
    "jpm_wells = pd.merge_asof(jpm, wells, on=['date_time'], direction='nearest', suffixes=('', '_wells'))\n",
    "\n",
    "\n",
    "# Use merge_asof() to merge jpm_wells and bac\n",
    "jpm_wells_bac = pd.merge_asof(jpm_wells, bac, on='date_time', direction='nearest', suffixes=('_jpm', '_bac'))\n",
    "\n",
    "\n",
    "# Compute price diff\n",
    "price_diffs = jpm_wells_bac.diff()\n",
    "\n",
    "# Plot the price diff of the close of jpm, wells and bac only\n",
    "price_diffs.plot(y=['close_jpm', 'close_wells', 'close_bac'])\n",
    "plt.show()"
   ]
  },
  {
   "cell_type": "markdown",
   "metadata": {},
   "source": [
    "[Using merge_asof() to create dataset | Python](https://campus.datacamp.com/courses/joining-data-with-pandas/merging-ordered-and-time-series-data?ex=7)\n",
    "\n",
    "> ## Using merge\\_asof() to create dataset\n",
    "> \n",
    "> The `merge_asof()` function can be used to create datasets where you have a table of start and stop dates, and you want to use them to create a flag in another table. You have been given `gdp`, which is a table of quarterly GDP values of the US during the 1980s. Additionally, the table `recession` has been given to you. It holds the starting date of every US recession since 1980, and the date when the recession was declared to be over. Use `merge_asof()` to merge the tables and create a status flag if a quarter was during a recession. Finally, to check your work, plot the data in a bar chart.\n",
    "> \n",
    "> The tables `gdp` and `recession` have been loaded for you."
   ]
  },
  {
   "cell_type": "markdown",
   "metadata": {},
   "source": [
    "### init"
   ]
  },
  {
   "cell_type": "code",
   "execution_count": 41,
   "metadata": {
    "ExecuteTime": {
     "end_time": "2021-01-11T12:52:08.165863Z",
     "start_time": "2021-01-11T12:52:08.156510Z"
    }
   },
   "outputs": [
    {
     "name": "stdout",
     "output_type": "stream",
     "text": [
      "Téléchargements déjà effectués - SKIP\n"
     ]
    }
   ],
   "source": [
    "###################\n",
    "##### Dataframe\n",
    "###################\n",
    "\n",
    "#upload and download\n",
    "\n",
    "from downloadfromFileIO import saveFromFileIO\n",
    "\"\"\" à executer sur datacamp: (apres copie du code uploadfromdatacamp.py)\n",
    "uploadToFileIO(gdp, recession)\n",
    "\n",
    "\"\"\"\n",
    "\n",
    "tobedownloaded=\"\"\"\n",
    "{pandas.core.frame.DataFrame: {'gdp.csv': 'https://file.io/sBR5EckCGj3q',\n",
    "  'recession.csv': 'https://file.io/S2MPJr6fkRHQ'}}\n",
    "\"\"\"\n",
    "prefixToc='2.2'\n",
    "prefix = saveFromFileIO(tobedownloaded, prefixToc=prefixToc, proxy=\"\")\n",
    "\n",
    "#initialisation\n",
    "\n",
    "import pandas as pd\n",
    "gdp = pd.read_csv(prefix+'gdp.csv',index_col=0 , parse_dates=['date'])\n",
    "recession = pd.read_csv(prefix+'recession.csv',index_col=0, parse_dates=['date'])\n",
    "\n"
   ]
  },
  {
   "cell_type": "markdown",
   "metadata": {},
   "source": [
    "### code"
   ]
  },
  {
   "cell_type": "markdown",
   "metadata": {},
   "source": [
    "> -   Using `merge_asof()`, merge `gdp` and `recession` on `date`, with `gdp` as the left table. Save to the variable `gdp_recession`.\n",
    "> -   Create a `list` using a list comprehension and a conditional expression, named `is_recession`, where for each row if the `gdp_recession['econ_status']` value is equal to 'recession' then enter `'r'` else `'g'`.\n",
    "> -   Using `gdp_recession`, plot a bar chart of `gdp` versus `date`, setting the `color` argument equal to `is_recession`."
   ]
  },
  {
   "cell_type": "code",
   "execution_count": 42,
   "metadata": {
    "ExecuteTime": {
     "end_time": "2021-01-11T12:53:06.791566Z",
     "start_time": "2021-01-11T12:53:06.591677Z"
    }
   },
   "outputs": [
    {
     "data": {
      "image/png": "[encoded data removed]",
      "text/plain": [
       "<Figure size 432x288 with 1 Axes>"
      ]
     },
     "metadata": {
      "needs_background": "light"
     },
     "output_type": "display_data"
    }
   ],
   "source": [
    "# Merge gdp and recession on date using merge_asof()\n",
    "gdp_recession = pd.merge_asof(gdp, recession, on='date')\n",
    "\n",
    "# Create a list based on the row value of gdp_recession['econ_status']\n",
    "is_recession = ['r' if s=='recession' else 'g' for s in gdp_recession['econ_status']]\n",
    "\n",
    "# Plot a bar chart of gdp_recession\n",
    "gdp_recession.plot(kind='bar', y='gdp', x='date', color=is_recession, rot=90)\n",
    "plt.show()"
   ]
  },
  {
   "cell_type": "markdown",
   "metadata": {},
   "source": [
    "# Selecting data with .query()\n",
    "\n",
    "```python\n",
    "\n",
    "# Querying on a single condition\n",
    "stocks.query('nike >= 90')\n",
    "\n",
    "# Querying on a multiple conditions, \"and\", \"or\"\n",
    "stocks.query('nike > 90 and disney < 140')\n",
    "stocks.query('nike > 96 or disney < 98')\n",
    "\n",
    "# Using .query() to select text\n",
    "stocks_long.query('stock==\"disney\" or (stock==\"nike\" and close < 90)')\n",
    "```"
   ]
  },
  {
   "cell_type": "markdown",
   "metadata": {},
   "source": [
    "[Explore financials with .query() | Python](https://campus.datacamp.com/courses/joining-data-with-pandas/merging-ordered-and-time-series-data?ex=10)\n",
    "\n",
    "> ## Explore financials with .query()\n",
    "> \n",
    "> You have been given a table of financial data from some popular social network companies called `social_fin`. All of the values are in thousands of US dollars.\n",
    "> \n",
    "> Use the `.query()` method and the console to explore `social_fin` and select the **True** statement."
   ]
  },
  {
   "cell_type": "markdown",
   "metadata": {},
   "source": [
    "### init"
   ]
  },
  {
   "cell_type": "code",
   "execution_count": 44,
   "metadata": {
    "ExecuteTime": {
     "end_time": "2021-01-11T12:59:40.851286Z",
     "start_time": "2021-01-11T12:59:40.834363Z"
    }
   },
   "outputs": [
    {
     "name": "stdout",
     "output_type": "stream",
     "text": [
      "Téléchargements déjà effectués - SKIP\n"
     ]
    }
   ],
   "source": [
    "###################\n",
    "##### Dataframe\n",
    "###################\n",
    "\n",
    "#upload and download\n",
    "\n",
    "from downloadfromFileIO import saveFromFileIO\n",
    "\"\"\" à executer sur datacamp: (apres copie du code uploadfromdatacamp.py)\n",
    "uploadToFileIO(social_fin)\n",
    "\n",
    "\"\"\"\n",
    "\n",
    "tobedownloaded=\"\"\"\n",
    "{pandas.core.frame.DataFrame: {'social_fin.csv': 'https://file.io/W78FXdD6OsmK'}}\n",
    "\"\"\"\n",
    "prefixToc='3.1'\n",
    "prefix = saveFromFileIO(tobedownloaded, prefixToc=prefixToc, proxy=\"\")\n",
    "\n",
    "#initialisation\n",
    "\n",
    "import pandas as pd\n",
    "social_fin = pd.read_csv(prefix+'social_fin.csv',index_col=0 )\n",
    "\n"
   ]
  },
  {
   "cell_type": "markdown",
   "metadata": {},
   "source": [
    "### code"
   ]
  },
  {
   "cell_type": "code",
   "execution_count": 45,
   "metadata": {
    "ExecuteTime": {
     "end_time": "2021-01-11T12:59:57.986810Z",
     "start_time": "2021-01-11T12:59:57.980057Z"
    }
   },
   "outputs": [
    {
     "data": {
      "text/html": [
       "<div>\n",
       "<style scoped>\n",
       "    .dataframe tbody tr th:only-of-type {\n",
       "        vertical-align: middle;\n",
       "    }\n",
       "\n",
       "    .dataframe tbody tr th {\n",
       "        vertical-align: top;\n",
       "    }\n",
       "\n",
       "    .dataframe thead th {\n",
       "        text-align: right;\n",
       "    }\n",
       "</style>\n",
       "<table border=\"1\" class=\"dataframe\">\n",
       "  <thead>\n",
       "    <tr style=\"text-align: right;\">\n",
       "      <th></th>\n",
       "      <th>financial</th>\n",
       "      <th>company</th>\n",
       "      <th>year</th>\n",
       "      <th>value</th>\n",
       "    </tr>\n",
       "  </thead>\n",
       "  <tbody>\n",
       "    <tr>\n",
       "      <th>0</th>\n",
       "      <td>total_revenue</td>\n",
       "      <td>twitter</td>\n",
       "      <td>2019</td>\n",
       "      <td>3459329</td>\n",
       "    </tr>\n",
       "    <tr>\n",
       "      <th>1</th>\n",
       "      <td>cost_of_revenue</td>\n",
       "      <td>twitter</td>\n",
       "      <td>2019</td>\n",
       "      <td>1137041</td>\n",
       "    </tr>\n",
       "    <tr>\n",
       "      <th>2</th>\n",
       "      <td>gross_profit</td>\n",
       "      <td>twitter</td>\n",
       "      <td>2019</td>\n",
       "      <td>2322288</td>\n",
       "    </tr>\n",
       "    <tr>\n",
       "      <th>3</th>\n",
       "      <td>operating_expenses</td>\n",
       "      <td>twitter</td>\n",
       "      <td>2019</td>\n",
       "      <td>1955915</td>\n",
       "    </tr>\n",
       "    <tr>\n",
       "      <th>4</th>\n",
       "      <td>net_income</td>\n",
       "      <td>twitter</td>\n",
       "      <td>2019</td>\n",
       "      <td>1465659</td>\n",
       "    </tr>\n",
       "  </tbody>\n",
       "</table>\n",
       "</div>"
      ],
      "text/plain": [
       "            financial  company  year    value\n",
       "0       total_revenue  twitter  2019  3459329\n",
       "1     cost_of_revenue  twitter  2019  1137041\n",
       "2        gross_profit  twitter  2019  2322288\n",
       "3  operating_expenses  twitter  2019  1955915\n",
       "4          net_income  twitter  2019  1465659"
      ]
     },
     "execution_count": 45,
     "metadata": {},
     "output_type": "execute_result"
    }
   ],
   "source": [
    "social_fin.head()"
   ]
  },
  {
   "cell_type": "code",
   "execution_count": 48,
   "metadata": {
    "ExecuteTime": {
     "end_time": "2021-01-11T13:00:55.465867Z",
     "start_time": "2021-01-11T13:00:55.455612Z"
    }
   },
   "outputs": [
    {
     "data": {
      "text/plain": [
       "net_income            12\n",
       "cost_of_revenue       12\n",
       "total_revenue         12\n",
       "operating_expenses    12\n",
       "gross_profit          12\n",
       "Name: financial, dtype: int64"
      ]
     },
     "execution_count": 48,
     "metadata": {},
     "output_type": "execute_result"
    }
   ],
   "source": [
    "social_fin['financial'].value_counts()"
   ]
  },
  {
   "cell_type": "code",
   "execution_count": 49,
   "metadata": {
    "ExecuteTime": {
     "end_time": "2021-01-11T13:01:06.511611Z",
     "start_time": "2021-01-11T13:01:06.507239Z"
    }
   },
   "outputs": [
    {
     "data": {
      "text/plain": [
       "facebook    20\n",
       "twitter     20\n",
       "snap        20\n",
       "Name: company, dtype: int64"
      ]
     },
     "execution_count": 49,
     "metadata": {},
     "output_type": "execute_result"
    }
   ],
   "source": [
    "social_fin['company'].value_counts()"
   ]
  },
  {
   "cell_type": "code",
   "execution_count": 50,
   "metadata": {
    "ExecuteTime": {
     "end_time": "2021-01-11T13:01:48.554089Z",
     "start_time": "2021-01-11T13:01:48.545439Z"
    }
   },
   "outputs": [
    {
     "data": {
      "text/html": [
       "<div>\n",
       "<style scoped>\n",
       "    .dataframe tbody tr th:only-of-type {\n",
       "        vertical-align: middle;\n",
       "    }\n",
       "\n",
       "    .dataframe tbody tr th {\n",
       "        vertical-align: top;\n",
       "    }\n",
       "\n",
       "    .dataframe thead th {\n",
       "        text-align: right;\n",
       "    }\n",
       "</style>\n",
       "<table border=\"1\" class=\"dataframe\">\n",
       "  <thead>\n",
       "    <tr style=\"text-align: right;\">\n",
       "      <th></th>\n",
       "      <th>financial</th>\n",
       "      <th>company</th>\n",
       "      <th>year</th>\n",
       "      <th>value</th>\n",
       "    </tr>\n",
       "  </thead>\n",
       "  <tbody>\n",
       "    <tr>\n",
       "      <th>5</th>\n",
       "      <td>total_revenue</td>\n",
       "      <td>facebook</td>\n",
       "      <td>2019</td>\n",
       "      <td>70697000</td>\n",
       "    </tr>\n",
       "    <tr>\n",
       "      <th>7</th>\n",
       "      <td>gross_profit</td>\n",
       "      <td>facebook</td>\n",
       "      <td>2019</td>\n",
       "      <td>57927000</td>\n",
       "    </tr>\n",
       "    <tr>\n",
       "      <th>20</th>\n",
       "      <td>total_revenue</td>\n",
       "      <td>facebook</td>\n",
       "      <td>2018</td>\n",
       "      <td>55838000</td>\n",
       "    </tr>\n",
       "  </tbody>\n",
       "</table>\n",
       "</div>"
      ],
      "text/plain": [
       "        financial   company  year     value\n",
       "5   total_revenue  facebook  2019  70697000\n",
       "7    gross_profit  facebook  2019  57927000\n",
       "20  total_revenue  facebook  2018  55838000"
      ]
     },
     "execution_count": 50,
     "metadata": {},
     "output_type": "execute_result"
    }
   ],
   "source": [
    "social_fin.query('value>50000000')"
   ]
  },
  {
   "cell_type": "code",
   "execution_count": 53,
   "metadata": {
    "ExecuteTime": {
     "end_time": "2021-01-11T13:03:16.338216Z",
     "start_time": "2021-01-11T13:03:16.320774Z"
    }
   },
   "outputs": [
    {
     "data": {
      "text/html": [
       "<div>\n",
       "<style scoped>\n",
       "    .dataframe tbody tr th:only-of-type {\n",
       "        vertical-align: middle;\n",
       "    }\n",
       "\n",
       "    .dataframe tbody tr th {\n",
       "        vertical-align: top;\n",
       "    }\n",
       "\n",
       "    .dataframe thead th {\n",
       "        text-align: right;\n",
       "    }\n",
       "</style>\n",
       "<table border=\"1\" class=\"dataframe\">\n",
       "  <thead>\n",
       "    <tr style=\"text-align: right;\">\n",
       "      <th></th>\n",
       "      <th>financial</th>\n",
       "      <th>company</th>\n",
       "      <th>year</th>\n",
       "      <th>value</th>\n",
       "    </tr>\n",
       "  </thead>\n",
       "  <tbody>\n",
       "    <tr>\n",
       "      <th>5</th>\n",
       "      <td>total_revenue</td>\n",
       "      <td>facebook</td>\n",
       "      <td>2019</td>\n",
       "      <td>70697000</td>\n",
       "    </tr>\n",
       "    <tr>\n",
       "      <th>20</th>\n",
       "      <td>total_revenue</td>\n",
       "      <td>facebook</td>\n",
       "      <td>2018</td>\n",
       "      <td>55838000</td>\n",
       "    </tr>\n",
       "    <tr>\n",
       "      <th>35</th>\n",
       "      <td>total_revenue</td>\n",
       "      <td>facebook</td>\n",
       "      <td>2017</td>\n",
       "      <td>40653000</td>\n",
       "    </tr>\n",
       "    <tr>\n",
       "      <th>50</th>\n",
       "      <td>total_revenue</td>\n",
       "      <td>facebook</td>\n",
       "      <td>2016</td>\n",
       "      <td>27638000</td>\n",
       "    </tr>\n",
       "  </tbody>\n",
       "</table>\n",
       "</div>"
      ],
      "text/plain": [
       "        financial   company  year     value\n",
       "5   total_revenue  facebook  2019  70697000\n",
       "20  total_revenue  facebook  2018  55838000\n",
       "35  total_revenue  facebook  2017  40653000\n",
       "50  total_revenue  facebook  2016  27638000"
      ]
     },
     "execution_count": 53,
     "metadata": {},
     "output_type": "execute_result"
    }
   ],
   "source": [
    "social_fin.query(\"financial=='total_revenue' and company=='facebook'\")"
   ]
  },
  {
   "cell_type": "code",
   "execution_count": 54,
   "metadata": {
    "ExecuteTime": {
     "end_time": "2021-01-11T13:03:56.045003Z",
     "start_time": "2021-01-11T13:03:56.038013Z"
    }
   },
   "outputs": [
    {
     "data": {
      "text/html": [
       "<div>\n",
       "<style scoped>\n",
       "    .dataframe tbody tr th:only-of-type {\n",
       "        vertical-align: middle;\n",
       "    }\n",
       "\n",
       "    .dataframe tbody tr th {\n",
       "        vertical-align: top;\n",
       "    }\n",
       "\n",
       "    .dataframe thead th {\n",
       "        text-align: right;\n",
       "    }\n",
       "</style>\n",
       "<table border=\"1\" class=\"dataframe\">\n",
       "  <thead>\n",
       "    <tr style=\"text-align: right;\">\n",
       "      <th></th>\n",
       "      <th>financial</th>\n",
       "      <th>company</th>\n",
       "      <th>year</th>\n",
       "      <th>value</th>\n",
       "    </tr>\n",
       "  </thead>\n",
       "  <tbody>\n",
       "    <tr>\n",
       "      <th>14</th>\n",
       "      <td>net_income</td>\n",
       "      <td>snap</td>\n",
       "      <td>2019</td>\n",
       "      <td>-1033660</td>\n",
       "    </tr>\n",
       "    <tr>\n",
       "      <th>29</th>\n",
       "      <td>net_income</td>\n",
       "      <td>snap</td>\n",
       "      <td>2018</td>\n",
       "      <td>-1255911</td>\n",
       "    </tr>\n",
       "    <tr>\n",
       "      <th>34</th>\n",
       "      <td>net_income</td>\n",
       "      <td>twitter</td>\n",
       "      <td>2017</td>\n",
       "      <td>-108063</td>\n",
       "    </tr>\n",
       "    <tr>\n",
       "      <th>44</th>\n",
       "      <td>net_income</td>\n",
       "      <td>snap</td>\n",
       "      <td>2017</td>\n",
       "      <td>-3445066</td>\n",
       "    </tr>\n",
       "    <tr>\n",
       "      <th>49</th>\n",
       "      <td>net_income</td>\n",
       "      <td>twitter</td>\n",
       "      <td>2016</td>\n",
       "      <td>-456873</td>\n",
       "    </tr>\n",
       "    <tr>\n",
       "      <th>59</th>\n",
       "      <td>net_income</td>\n",
       "      <td>snap</td>\n",
       "      <td>2016</td>\n",
       "      <td>-514643</td>\n",
       "    </tr>\n",
       "  </tbody>\n",
       "</table>\n",
       "</div>"
      ],
      "text/plain": [
       "     financial  company  year    value\n",
       "14  net_income     snap  2019 -1033660\n",
       "29  net_income     snap  2018 -1255911\n",
       "34  net_income  twitter  2017  -108063\n",
       "44  net_income     snap  2017 -3445066\n",
       "49  net_income  twitter  2016  -456873\n",
       "59  net_income     snap  2016  -514643"
      ]
     },
     "execution_count": 54,
     "metadata": {},
     "output_type": "execute_result"
    }
   ],
   "source": [
    "social_fin.query('financial==\"net_income\" and value<0')"
   ]
  },
  {
   "cell_type": "code",
   "execution_count": 55,
   "metadata": {
    "ExecuteTime": {
     "end_time": "2021-01-11T13:04:30.257723Z",
     "start_time": "2021-01-11T13:04:30.248974Z"
    }
   },
   "outputs": [
    {
     "data": {
      "text/html": [
       "<div>\n",
       "<style scoped>\n",
       "    .dataframe tbody tr th:only-of-type {\n",
       "        vertical-align: middle;\n",
       "    }\n",
       "\n",
       "    .dataframe tbody tr th {\n",
       "        vertical-align: top;\n",
       "    }\n",
       "\n",
       "    .dataframe thead th {\n",
       "        text-align: right;\n",
       "    }\n",
       "</style>\n",
       "<table border=\"1\" class=\"dataframe\">\n",
       "  <thead>\n",
       "    <tr style=\"text-align: right;\">\n",
       "      <th></th>\n",
       "      <th>financial</th>\n",
       "      <th>company</th>\n",
       "      <th>year</th>\n",
       "      <th>value</th>\n",
       "    </tr>\n",
       "  </thead>\n",
       "  <tbody>\n",
       "    <tr>\n",
       "      <th>2</th>\n",
       "      <td>gross_profit</td>\n",
       "      <td>twitter</td>\n",
       "      <td>2019</td>\n",
       "      <td>2322288</td>\n",
       "    </tr>\n",
       "    <tr>\n",
       "      <th>7</th>\n",
       "      <td>gross_profit</td>\n",
       "      <td>facebook</td>\n",
       "      <td>2019</td>\n",
       "      <td>57927000</td>\n",
       "    </tr>\n",
       "    <tr>\n",
       "      <th>12</th>\n",
       "      <td>gross_profit</td>\n",
       "      <td>snap</td>\n",
       "      <td>2019</td>\n",
       "      <td>819696</td>\n",
       "    </tr>\n",
       "    <tr>\n",
       "      <th>17</th>\n",
       "      <td>gross_profit</td>\n",
       "      <td>twitter</td>\n",
       "      <td>2018</td>\n",
       "      <td>2077362</td>\n",
       "    </tr>\n",
       "    <tr>\n",
       "      <th>22</th>\n",
       "      <td>gross_profit</td>\n",
       "      <td>facebook</td>\n",
       "      <td>2018</td>\n",
       "      <td>46483000</td>\n",
       "    </tr>\n",
       "    <tr>\n",
       "      <th>27</th>\n",
       "      <td>gross_profit</td>\n",
       "      <td>snap</td>\n",
       "      <td>2018</td>\n",
       "      <td>381581</td>\n",
       "    </tr>\n",
       "    <tr>\n",
       "      <th>32</th>\n",
       "      <td>gross_profit</td>\n",
       "      <td>twitter</td>\n",
       "      <td>2017</td>\n",
       "      <td>1582057</td>\n",
       "    </tr>\n",
       "    <tr>\n",
       "      <th>37</th>\n",
       "      <td>gross_profit</td>\n",
       "      <td>facebook</td>\n",
       "      <td>2017</td>\n",
       "      <td>35199000</td>\n",
       "    </tr>\n",
       "    <tr>\n",
       "      <th>42</th>\n",
       "      <td>gross_profit</td>\n",
       "      <td>snap</td>\n",
       "      <td>2017</td>\n",
       "      <td>107487</td>\n",
       "    </tr>\n",
       "    <tr>\n",
       "      <th>47</th>\n",
       "      <td>gross_profit</td>\n",
       "      <td>twitter</td>\n",
       "      <td>2016</td>\n",
       "      <td>1597379</td>\n",
       "    </tr>\n",
       "    <tr>\n",
       "      <th>52</th>\n",
       "      <td>gross_profit</td>\n",
       "      <td>facebook</td>\n",
       "      <td>2016</td>\n",
       "      <td>23849000</td>\n",
       "    </tr>\n",
       "  </tbody>\n",
       "</table>\n",
       "</div>"
      ],
      "text/plain": [
       "       financial   company  year     value\n",
       "2   gross_profit   twitter  2019   2322288\n",
       "7   gross_profit  facebook  2019  57927000\n",
       "12  gross_profit      snap  2019    819696\n",
       "17  gross_profit   twitter  2018   2077362\n",
       "22  gross_profit  facebook  2018  46483000\n",
       "27  gross_profit      snap  2018    381581\n",
       "32  gross_profit   twitter  2017   1582057\n",
       "37  gross_profit  facebook  2017  35199000\n",
       "42  gross_profit      snap  2017    107487\n",
       "47  gross_profit   twitter  2016   1597379\n",
       "52  gross_profit  facebook  2016  23849000"
      ]
     },
     "execution_count": 55,
     "metadata": {},
     "output_type": "execute_result"
    }
   ],
   "source": [
    "social_fin.query('financial==\"gross_profit\" and value>100')"
   ]
  },
  {
   "cell_type": "markdown",
   "metadata": {},
   "source": [
    "[Subsetting rows with .query() | Python](https://campus.datacamp.com/courses/joining-data-with-pandas/merging-ordered-and-time-series-data?ex=11)\n",
    "\n",
    "> ## Subsetting rows with .query()\n",
    "> \n",
    "> In this exercise, you will revisit GDP and population data for Australia and Sweden from the World Bank and expand on it using the `.query()` method. You'll merge the two tables and compute the GDP per capita. Afterwards, you'll use the `.query()` method to sub-select the rows and create a plot. Recall that you will need to merge on multiple columns in the proper order.\n",
    "> \n",
    "> The tables `gdp` and `pop` have been loaded for you."
   ]
  },
  {
   "cell_type": "markdown",
   "metadata": {},
   "source": [
    "### init"
   ]
  },
  {
   "cell_type": "code",
   "execution_count": 56,
   "metadata": {
    "ExecuteTime": {
     "end_time": "2021-01-11T13:05:47.459368Z",
     "start_time": "2021-01-11T13:05:46.163432Z"
    }
   },
   "outputs": [
    {
     "name": "stdout",
     "output_type": "stream",
     "text": [
      "Téléchargements à lancer\n",
      "{'pandas.core.frame.DataFrame': {'gdp.csv': 'https://file.io/lGrAJ8rwnMnu', 'pop.csv': 'https://file.io/K5yN475ErT2z'}}\n",
      "  % Total    % Received % Xferd  Average Speed   Time    Time     Time  Current\n",
      "                                 Dload  Upload   Total   Spent    Left  Speed\n",
      "100  1587    0  1587    0     0   2135      0 --:--:-- --:--:-- --:--:--  2135\n",
      "\n",
      "  % Total    % Received % Xferd  Average Speed   Time    Time     Time  Current\n",
      "                                 Dload  Upload   Total   Spent    Left  Speed\n",
      "100   366    0   366    0     0    764      0 --:--:-- --:--:-- --:--:--   762\n",
      "\n"
     ]
    }
   ],
   "source": [
    "###################\n",
    "##### Dataframe\n",
    "###################\n",
    "\n",
    "#upload and download\n",
    "\n",
    "from downloadfromFileIO import saveFromFileIO\n",
    "\"\"\" à executer sur datacamp: (apres copie du code uploadfromdatacamp.py)\n",
    "uploadToFileIO(gdp, pop)\n",
    "\n",
    "\"\"\"\n",
    "\n",
    "tobedownloaded=\"\"\"\n",
    "{pandas.core.frame.DataFrame: {'gdp.csv': 'https://file.io/lGrAJ8rwnMnu',\n",
    "  'pop.csv': 'https://file.io/K5yN475ErT2z'}}\n",
    "\"\"\"\n",
    "prefixToc='3.2'\n",
    "prefix = saveFromFileIO(tobedownloaded, prefixToc=prefixToc, proxy=\"\")\n",
    "\n",
    "#initialisation\n",
    "\n",
    "import pandas as pd\n",
    "gdp = pd.read_csv(prefix+'gdp.csv',index_col=0 )\n",
    "pop = pd.read_csv(prefix+'pop.csv',index_col=0 )\n",
    "\n"
   ]
  },
  {
   "cell_type": "markdown",
   "metadata": {},
   "source": [
    "### code"
   ]
  },
  {
   "cell_type": "markdown",
   "metadata": {},
   "source": [
    "> Use `merge_ordered()` on `gdp` and `pop` on columns `country` and `date` with the fill feature, save to `gdp_pop` and print."
   ]
  },
  {
   "cell_type": "code",
   "execution_count": 57,
   "metadata": {
    "ExecuteTime": {
     "end_time": "2021-01-11T13:07:38.033423Z",
     "start_time": "2021-01-11T13:07:38.024212Z"
    }
   },
   "outputs": [],
   "source": [
    "# Merge gdp and pop on date and country with fill\n",
    "gdp_pop = pd.merge_ordered(gdp, pop, on=['country', 'date'], fill_method='ffill')"
   ]
  },
  {
   "cell_type": "code",
   "execution_count": 59,
   "metadata": {
    "ExecuteTime": {
     "end_time": "2021-01-11T13:07:50.706015Z",
     "start_time": "2021-01-11T13:07:50.694576Z"
    }
   },
   "outputs": [
    {
     "data": {
      "text/html": [
       "<div>\n",
       "<style scoped>\n",
       "    .dataframe tbody tr th:only-of-type {\n",
       "        vertical-align: middle;\n",
       "    }\n",
       "\n",
       "    .dataframe tbody tr th {\n",
       "        vertical-align: top;\n",
       "    }\n",
       "\n",
       "    .dataframe thead th {\n",
       "        text-align: right;\n",
       "    }\n",
       "</style>\n",
       "<table border=\"1\" class=\"dataframe\">\n",
       "  <thead>\n",
       "    <tr style=\"text-align: right;\">\n",
       "      <th></th>\n",
       "      <th>date</th>\n",
       "      <th>country</th>\n",
       "      <th>gdp</th>\n",
       "      <th>series_code_x</th>\n",
       "      <th>pop</th>\n",
       "      <th>series_code_y</th>\n",
       "    </tr>\n",
       "  </thead>\n",
       "  <tbody>\n",
       "    <tr>\n",
       "      <th>0</th>\n",
       "      <td>1990-01-01</td>\n",
       "      <td>Australia</td>\n",
       "      <td>158051.1324</td>\n",
       "      <td>NYGDPMKTPSAKD</td>\n",
       "      <td>17065100</td>\n",
       "      <td>SP.POP.TOTL</td>\n",
       "    </tr>\n",
       "    <tr>\n",
       "      <th>1</th>\n",
       "      <td>1990-04-01</td>\n",
       "      <td>Australia</td>\n",
       "      <td>158263.5816</td>\n",
       "      <td>NYGDPMKTPSAKD</td>\n",
       "      <td>17065100</td>\n",
       "      <td>SP.POP.TOTL</td>\n",
       "    </tr>\n",
       "    <tr>\n",
       "      <th>2</th>\n",
       "      <td>1990-07-01</td>\n",
       "      <td>Australia</td>\n",
       "      <td>157329.2790</td>\n",
       "      <td>NYGDPMKTPSAKD</td>\n",
       "      <td>17065100</td>\n",
       "      <td>SP.POP.TOTL</td>\n",
       "    </tr>\n",
       "    <tr>\n",
       "      <th>3</th>\n",
       "      <td>1990-09-01</td>\n",
       "      <td>Australia</td>\n",
       "      <td>158240.6781</td>\n",
       "      <td>NYGDPMKTPSAKD</td>\n",
       "      <td>17065100</td>\n",
       "      <td>SP.POP.TOTL</td>\n",
       "    </tr>\n",
       "    <tr>\n",
       "      <th>4</th>\n",
       "      <td>1991-01-01</td>\n",
       "      <td>Australia</td>\n",
       "      <td>156195.9535</td>\n",
       "      <td>NYGDPMKTPSAKD</td>\n",
       "      <td>17284000</td>\n",
       "      <td>SP.POP.TOTL</td>\n",
       "    </tr>\n",
       "  </tbody>\n",
       "</table>\n",
       "</div>"
      ],
      "text/plain": [
       "         date    country          gdp  series_code_x       pop series_code_y\n",
       "0  1990-01-01  Australia  158051.1324  NYGDPMKTPSAKD  17065100   SP.POP.TOTL\n",
       "1  1990-04-01  Australia  158263.5816  NYGDPMKTPSAKD  17065100   SP.POP.TOTL\n",
       "2  1990-07-01  Australia  157329.2790  NYGDPMKTPSAKD  17065100   SP.POP.TOTL\n",
       "3  1990-09-01  Australia  158240.6781  NYGDPMKTPSAKD  17065100   SP.POP.TOTL\n",
       "4  1991-01-01  Australia  156195.9535  NYGDPMKTPSAKD  17284000   SP.POP.TOTL"
      ]
     },
     "execution_count": 59,
     "metadata": {},
     "output_type": "execute_result"
    }
   ],
   "source": [
    "gdp_pop.head()"
   ]
  },
  {
   "cell_type": "markdown",
   "metadata": {},
   "source": [
    "> -   Add a column named `gdp_per_capita` to `gdp_pop` that divides `gdp` by `pop`."
   ]
  },
  {
   "cell_type": "code",
   "execution_count": 60,
   "metadata": {
    "ExecuteTime": {
     "end_time": "2021-01-11T13:08:56.167196Z",
     "start_time": "2021-01-11T13:08:56.161585Z"
    }
   },
   "outputs": [],
   "source": [
    "# Add a column named gdp_per_capita to gdp_pop that divides the gdp by pop\n",
    "gdp_pop['gdp_per_capita']=gdp_pop['gdp']/gdp_pop['pop']"
   ]
  },
  {
   "cell_type": "code",
   "execution_count": 61,
   "metadata": {
    "ExecuteTime": {
     "end_time": "2021-01-11T13:09:21.375450Z",
     "start_time": "2021-01-11T13:09:21.367032Z"
    }
   },
   "outputs": [],
   "source": [
    "# Pivot table of gdp_per_capita, where index is date and columns is country\n",
    "gdp_pivot = gdp_pop.pivot_table('gdp_per_capita', 'date', 'country')"
   ]
  },
  {
   "cell_type": "code",
   "execution_count": 62,
   "metadata": {
    "ExecuteTime": {
     "end_time": "2021-01-11T13:09:24.956127Z",
     "start_time": "2021-01-11T13:09:24.938899Z"
    }
   },
   "outputs": [
    {
     "data": {
      "text/html": [
       "<div>\n",
       "<style scoped>\n",
       "    .dataframe tbody tr th:only-of-type {\n",
       "        vertical-align: middle;\n",
       "    }\n",
       "\n",
       "    .dataframe tbody tr th {\n",
       "        vertical-align: top;\n",
       "    }\n",
       "\n",
       "    .dataframe thead th {\n",
       "        text-align: right;\n",
       "    }\n",
       "</style>\n",
       "<table border=\"1\" class=\"dataframe\">\n",
       "  <thead>\n",
       "    <tr style=\"text-align: right;\">\n",
       "      <th>country</th>\n",
       "      <th>Australia</th>\n",
       "      <th>Sweden</th>\n",
       "    </tr>\n",
       "    <tr>\n",
       "      <th>date</th>\n",
       "      <th></th>\n",
       "      <th></th>\n",
       "    </tr>\n",
       "  </thead>\n",
       "  <tbody>\n",
       "    <tr>\n",
       "      <th>1990-01-01</th>\n",
       "      <td>0.009262</td>\n",
       "      <td>0.009328</td>\n",
       "    </tr>\n",
       "    <tr>\n",
       "      <th>1990-04-01</th>\n",
       "      <td>0.009274</td>\n",
       "      <td>0.009415</td>\n",
       "    </tr>\n",
       "    <tr>\n",
       "      <th>1990-07-01</th>\n",
       "      <td>0.009219</td>\n",
       "      <td>0.009344</td>\n",
       "    </tr>\n",
       "    <tr>\n",
       "      <th>1990-09-01</th>\n",
       "      <td>0.009273</td>\n",
       "      <td>0.009360</td>\n",
       "    </tr>\n",
       "    <tr>\n",
       "      <th>1991-01-01</th>\n",
       "      <td>0.009037</td>\n",
       "      <td>0.009228</td>\n",
       "    </tr>\n",
       "    <tr>\n",
       "      <th>1991-04-01</th>\n",
       "      <td>0.009025</td>\n",
       "      <td>0.009176</td>\n",
       "    </tr>\n",
       "    <tr>\n",
       "      <th>1991-07-01</th>\n",
       "      <td>0.009062</td>\n",
       "      <td>0.009177</td>\n",
       "    </tr>\n",
       "    <tr>\n",
       "      <th>1991-09-01</th>\n",
       "      <td>0.009069</td>\n",
       "      <td>0.009253</td>\n",
       "    </tr>\n",
       "    <tr>\n",
       "      <th>1992-01-01</th>\n",
       "      <td>0.009026</td>\n",
       "      <td>0.009159</td>\n",
       "    </tr>\n",
       "    <tr>\n",
       "      <th>1992-04-01</th>\n",
       "      <td>0.009091</td>\n",
       "      <td>0.009121</td>\n",
       "    </tr>\n",
       "    <tr>\n",
       "      <th>1992-07-01</th>\n",
       "      <td>0.009183</td>\n",
       "      <td>0.009103</td>\n",
       "    </tr>\n",
       "    <tr>\n",
       "      <th>1992-09-01</th>\n",
       "      <td>0.009372</td>\n",
       "      <td>0.008883</td>\n",
       "    </tr>\n",
       "    <tr>\n",
       "      <th>1993-01-01</th>\n",
       "      <td>0.009345</td>\n",
       "      <td>0.008692</td>\n",
       "    </tr>\n",
       "    <tr>\n",
       "      <th>1993-04-01</th>\n",
       "      <td>0.009398</td>\n",
       "      <td>0.008798</td>\n",
       "    </tr>\n",
       "    <tr>\n",
       "      <th>1993-07-01</th>\n",
       "      <td>0.009408</td>\n",
       "      <td>0.008908</td>\n",
       "    </tr>\n",
       "    <tr>\n",
       "      <th>1993-09-01</th>\n",
       "      <td>0.009582</td>\n",
       "      <td>0.008912</td>\n",
       "    </tr>\n",
       "  </tbody>\n",
       "</table>\n",
       "</div>"
      ],
      "text/plain": [
       "country     Australia    Sweden\n",
       "date                           \n",
       "1990-01-01   0.009262  0.009328\n",
       "1990-04-01   0.009274  0.009415\n",
       "1990-07-01   0.009219  0.009344\n",
       "1990-09-01   0.009273  0.009360\n",
       "1991-01-01   0.009037  0.009228\n",
       "1991-04-01   0.009025  0.009176\n",
       "1991-07-01   0.009062  0.009177\n",
       "1991-09-01   0.009069  0.009253\n",
       "1992-01-01   0.009026  0.009159\n",
       "1992-04-01   0.009091  0.009121\n",
       "1992-07-01   0.009183  0.009103\n",
       "1992-09-01   0.009372  0.008883\n",
       "1993-01-01   0.009345  0.008692\n",
       "1993-04-01   0.009398  0.008798\n",
       "1993-07-01   0.009408  0.008908\n",
       "1993-09-01   0.009582  0.008912"
      ]
     },
     "execution_count": 62,
     "metadata": {},
     "output_type": "execute_result"
    }
   ],
   "source": [
    "gdp_pivot"
   ]
  },
  {
   "cell_type": "markdown",
   "metadata": {},
   "source": [
    "> Use `.query()` to select rows from `gdp_pivot` where `date` is greater than equal to `1991-01-01\"`. Save as `recent_gdp_pop`."
   ]
  },
  {
   "cell_type": "code",
   "execution_count": 63,
   "metadata": {
    "ExecuteTime": {
     "end_time": "2021-01-11T13:10:13.284341Z",
     "start_time": "2021-01-11T13:10:13.174488Z"
    }
   },
   "outputs": [
    {
     "data": {
      "image/png": "[encoded data removed]",
      "text/plain": [
       "<Figure size 432x288 with 1 Axes>"
      ]
     },
     "metadata": {
      "needs_background": "light"
     },
     "output_type": "display_data"
    }
   ],
   "source": [
    "# Select dates equal to or greater than 1991-01-01\n",
    "recent_gdp_pop = gdp_pivot.query('date >= \"1991-01-01\"')\n",
    "\n",
    "# Plot recent_gdp_pop\n",
    "recent_gdp_pop.plot(rot=90)\n",
    "plt.show()"
   ]
  },
  {
   "cell_type": "markdown",
   "metadata": {},
   "source": [
    "# Reshaping data with .melt()\n",
    "\n",
    "```python\n",
    "\n",
    "# Example of .melt()\n",
    "social_fin_tall = social_fin.melt(id_vars=['financial','company'])\n",
    "\n",
    "# Melting with value_vars\n",
    "social_fin_tall = social_fin.melt(id_vars=['financial','company'],\n",
    "value_vars=['2018','2017'])\n",
    "\n",
    "# Melting with column names\n",
    "social_fin_tall = social_fin.melt(id_vars=['financial','company'],\n",
    "value_vars=['2018','2017'],\n",
    "var_name=['year'], value_name='dollars')\n",
    "```"
   ]
  },
  {
   "cell_type": "markdown",
   "metadata": {},
   "source": [
    "[Select the right .melt() arguments | Python](https://campus.datacamp.com/courses/joining-data-with-pandas/merging-ordered-and-time-series-data?ex=13)\n",
    "\n",
    "> ## Select the right .melt() arguments\n",
    "> \n",
    "> You are given a table named `inflation`. Chose the option to get the _**same**_ output as the table below.\n",
    "> \n",
    ">        country    indicator  year  annual\n",
    ">     0   Brazil  Inflation %  2017    3.45\n",
    ">     1   Canada  Inflation %  2017    1.60\n",
    ">     2   France  Inflation %  2017    1.03\n",
    ">     3    India  Inflation %  2017    2.49\n",
    ">     4   Brazil  Inflation %  2018    3.66\n",
    ">     5   Canada  Inflation %  2018    2.27\n",
    ">     6   France  Inflation %  2018    1.85\n",
    ">     7    India  Inflation %  2018    4.86\n",
    ">     8   Brazil  Inflation %  2019    3.73\n",
    ">     9   Canada  Inflation %  2019    1.95\n",
    ">     10  France  Inflation %  2019    1.11\n",
    ">     11   India  Inflation %  2019    7.66"
   ]
  },
  {
   "cell_type": "markdown",
   "metadata": {},
   "source": [
    "### init"
   ]
  },
  {
   "cell_type": "code",
   "execution_count": 64,
   "metadata": {
    "ExecuteTime": {
     "end_time": "2021-01-11T13:17:27.553354Z",
     "start_time": "2021-01-11T13:17:27.001912Z"
    }
   },
   "outputs": [
    {
     "name": "stdout",
     "output_type": "stream",
     "text": [
      "Téléchargements à lancer\n",
      "{'pandas.core.frame.DataFrame': {'inflation.csv': 'https://file.io/GBzey5m7NitK'}}\n",
      "  % Total    % Received % Xferd  Average Speed   Time    Time     Time  Current\n",
      "                                 Dload  Upload   Total   Spent    Left  Speed\n",
      "100   176    0   176    0     0    352      0 --:--:-- --:--:-- --:--:--   352\n",
      "\n"
     ]
    }
   ],
   "source": [
    "###################\n",
    "##### Dataframe\n",
    "###################\n",
    "\n",
    "#upload and download\n",
    "\n",
    "from downloadfromFileIO import saveFromFileIO\n",
    "\"\"\" à executer sur datacamp: (apres copie du code uploadfromdatacamp.py)\n",
    "uploadToFileIO(inflation)\n",
    "\n",
    "\"\"\"\n",
    "\n",
    "tobedownloaded=\"\"\"\n",
    "{pandas.core.frame.DataFrame: {'inflation.csv': 'https://file.io/GBzey5m7NitK'}}\n",
    "\"\"\"\n",
    "prefixToc='4.1'\n",
    "prefix = saveFromFileIO(tobedownloaded, prefixToc=prefixToc, proxy=\"\")\n",
    "\n",
    "#initialisation\n",
    "\n",
    "import pandas as pd\n",
    "inflation = pd.read_csv(prefix+'inflation.csv',index_col=0 )\n",
    "\n"
   ]
  },
  {
   "cell_type": "markdown",
   "metadata": {},
   "source": [
    "### code"
   ]
  },
  {
   "cell_type": "code",
   "execution_count": 65,
   "metadata": {
    "ExecuteTime": {
     "end_time": "2021-01-11T13:17:40.678203Z",
     "start_time": "2021-01-11T13:17:40.667499Z"
    }
   },
   "outputs": [
    {
     "data": {
      "text/html": [
       "<div>\n",
       "<style scoped>\n",
       "    .dataframe tbody tr th:only-of-type {\n",
       "        vertical-align: middle;\n",
       "    }\n",
       "\n",
       "    .dataframe tbody tr th {\n",
       "        vertical-align: top;\n",
       "    }\n",
       "\n",
       "    .dataframe thead th {\n",
       "        text-align: right;\n",
       "    }\n",
       "</style>\n",
       "<table border=\"1\" class=\"dataframe\">\n",
       "  <thead>\n",
       "    <tr style=\"text-align: right;\">\n",
       "      <th></th>\n",
       "      <th>country</th>\n",
       "      <th>indicator</th>\n",
       "      <th>2017</th>\n",
       "      <th>2018</th>\n",
       "      <th>2019</th>\n",
       "    </tr>\n",
       "  </thead>\n",
       "  <tbody>\n",
       "    <tr>\n",
       "      <th>0</th>\n",
       "      <td>Brazil</td>\n",
       "      <td>Inflation %</td>\n",
       "      <td>3.45</td>\n",
       "      <td>3.66</td>\n",
       "      <td>3.73</td>\n",
       "    </tr>\n",
       "    <tr>\n",
       "      <th>1</th>\n",
       "      <td>Canada</td>\n",
       "      <td>Inflation %</td>\n",
       "      <td>1.60</td>\n",
       "      <td>2.27</td>\n",
       "      <td>1.95</td>\n",
       "    </tr>\n",
       "    <tr>\n",
       "      <th>2</th>\n",
       "      <td>France</td>\n",
       "      <td>Inflation %</td>\n",
       "      <td>1.03</td>\n",
       "      <td>1.85</td>\n",
       "      <td>1.11</td>\n",
       "    </tr>\n",
       "    <tr>\n",
       "      <th>3</th>\n",
       "      <td>India</td>\n",
       "      <td>Inflation %</td>\n",
       "      <td>2.49</td>\n",
       "      <td>4.86</td>\n",
       "      <td>7.66</td>\n",
       "    </tr>\n",
       "  </tbody>\n",
       "</table>\n",
       "</div>"
      ],
      "text/plain": [
       "  country    indicator  2017  2018  2019\n",
       "0  Brazil  Inflation %  3.45  3.66  3.73\n",
       "1  Canada  Inflation %  1.60  2.27  1.95\n",
       "2  France  Inflation %  1.03  1.85  1.11\n",
       "3   India  Inflation %  2.49  4.86  7.66"
      ]
     },
     "execution_count": 65,
     "metadata": {},
     "output_type": "execute_result"
    }
   ],
   "source": [
    "inflation.head()"
   ]
  },
  {
   "cell_type": "code",
   "execution_count": 67,
   "metadata": {
    "ExecuteTime": {
     "end_time": "2021-01-11T13:18:46.510815Z",
     "start_time": "2021-01-11T13:18:46.500771Z"
    }
   },
   "outputs": [
    {
     "data": {
      "text/html": [
       "<div>\n",
       "<style scoped>\n",
       "    .dataframe tbody tr th:only-of-type {\n",
       "        vertical-align: middle;\n",
       "    }\n",
       "\n",
       "    .dataframe tbody tr th {\n",
       "        vertical-align: top;\n",
       "    }\n",
       "\n",
       "    .dataframe thead th {\n",
       "        text-align: right;\n",
       "    }\n",
       "</style>\n",
       "<table border=\"1\" class=\"dataframe\">\n",
       "  <thead>\n",
       "    <tr style=\"text-align: right;\">\n",
       "      <th></th>\n",
       "      <th>country</th>\n",
       "      <th>indicator</th>\n",
       "      <th>year</th>\n",
       "      <th>annual</th>\n",
       "    </tr>\n",
       "  </thead>\n",
       "  <tbody>\n",
       "    <tr>\n",
       "      <th>0</th>\n",
       "      <td>Brazil</td>\n",
       "      <td>Inflation %</td>\n",
       "      <td>2017</td>\n",
       "      <td>3.45</td>\n",
       "    </tr>\n",
       "    <tr>\n",
       "      <th>1</th>\n",
       "      <td>Canada</td>\n",
       "      <td>Inflation %</td>\n",
       "      <td>2017</td>\n",
       "      <td>1.60</td>\n",
       "    </tr>\n",
       "    <tr>\n",
       "      <th>2</th>\n",
       "      <td>France</td>\n",
       "      <td>Inflation %</td>\n",
       "      <td>2017</td>\n",
       "      <td>1.03</td>\n",
       "    </tr>\n",
       "    <tr>\n",
       "      <th>3</th>\n",
       "      <td>India</td>\n",
       "      <td>Inflation %</td>\n",
       "      <td>2017</td>\n",
       "      <td>2.49</td>\n",
       "    </tr>\n",
       "    <tr>\n",
       "      <th>4</th>\n",
       "      <td>Brazil</td>\n",
       "      <td>Inflation %</td>\n",
       "      <td>2018</td>\n",
       "      <td>3.66</td>\n",
       "    </tr>\n",
       "    <tr>\n",
       "      <th>5</th>\n",
       "      <td>Canada</td>\n",
       "      <td>Inflation %</td>\n",
       "      <td>2018</td>\n",
       "      <td>2.27</td>\n",
       "    </tr>\n",
       "    <tr>\n",
       "      <th>6</th>\n",
       "      <td>France</td>\n",
       "      <td>Inflation %</td>\n",
       "      <td>2018</td>\n",
       "      <td>1.85</td>\n",
       "    </tr>\n",
       "    <tr>\n",
       "      <th>7</th>\n",
       "      <td>India</td>\n",
       "      <td>Inflation %</td>\n",
       "      <td>2018</td>\n",
       "      <td>4.86</td>\n",
       "    </tr>\n",
       "    <tr>\n",
       "      <th>8</th>\n",
       "      <td>Brazil</td>\n",
       "      <td>Inflation %</td>\n",
       "      <td>2019</td>\n",
       "      <td>3.73</td>\n",
       "    </tr>\n",
       "    <tr>\n",
       "      <th>9</th>\n",
       "      <td>Canada</td>\n",
       "      <td>Inflation %</td>\n",
       "      <td>2019</td>\n",
       "      <td>1.95</td>\n",
       "    </tr>\n",
       "    <tr>\n",
       "      <th>10</th>\n",
       "      <td>France</td>\n",
       "      <td>Inflation %</td>\n",
       "      <td>2019</td>\n",
       "      <td>1.11</td>\n",
       "    </tr>\n",
       "    <tr>\n",
       "      <th>11</th>\n",
       "      <td>India</td>\n",
       "      <td>Inflation %</td>\n",
       "      <td>2019</td>\n",
       "      <td>7.66</td>\n",
       "    </tr>\n",
       "  </tbody>\n",
       "</table>\n",
       "</div>"
      ],
      "text/plain": [
       "   country    indicator  year  annual\n",
       "0   Brazil  Inflation %  2017    3.45\n",
       "1   Canada  Inflation %  2017    1.60\n",
       "2   France  Inflation %  2017    1.03\n",
       "3    India  Inflation %  2017    2.49\n",
       "4   Brazil  Inflation %  2018    3.66\n",
       "5   Canada  Inflation %  2018    2.27\n",
       "6   France  Inflation %  2018    1.85\n",
       "7    India  Inflation %  2018    4.86\n",
       "8   Brazil  Inflation %  2019    3.73\n",
       "9   Canada  Inflation %  2019    1.95\n",
       "10  France  Inflation %  2019    1.11\n",
       "11   India  Inflation %  2019    7.66"
      ]
     },
     "execution_count": 67,
     "metadata": {},
     "output_type": "execute_result"
    }
   ],
   "source": [
    "inflation.melt(id_vars=['country', 'indicator'], var_name='year', value_name='annual')"
   ]
  },
  {
   "cell_type": "markdown",
   "metadata": {},
   "source": [
    "[Using .melt() to reshape government data | Python](https://campus.datacamp.com/courses/joining-data-with-pandas/merging-ordered-and-time-series-data?ex=14)\n",
    "\n",
    "> ## Using .melt() to reshape government data\n",
    "> \n",
    "> The US Bureau of Labor Statistics (BLS) often provides data series in an easy-to-read format - it has a separate column for each month, and each year is a different row. Unfortunately, this wide format makes it difficult to plot this information over time. In this exercise, you will reshape a table of US unemployment rate data from the BLS into a form you can plot using `.melt()`. You will need to add a date column to the table and sort by it to plot the data correctly.\n",
    "> \n",
    "> The unemployment rate data has been loaded for you in a table called `ur_wide`. You are encouraged to view the table in the console before beginning the exercise."
   ]
  },
  {
   "cell_type": "markdown",
   "metadata": {},
   "source": [
    "### init"
   ]
  },
  {
   "cell_type": "code",
   "execution_count": 68,
   "metadata": {
    "ExecuteTime": {
     "end_time": "2021-01-11T13:19:54.963714Z",
     "start_time": "2021-01-11T13:19:54.444801Z"
    }
   },
   "outputs": [
    {
     "name": "stdout",
     "output_type": "stream",
     "text": [
      "Téléchargements à lancer\n",
      "{'pandas.core.frame.DataFrame': {'ur_wide.csv': 'https://file.io/eJ4XYT6MrSTa'}}\n",
      "  % Total    % Received % Xferd  Average Speed   Time    Time     Time  Current\n",
      "                                 Dload  Upload   Total   Spent    Left  Speed\n",
      "100   633    0   633    0     0   1297      0 --:--:-- --:--:-- --:--:--  1297\n",
      "\n"
     ]
    }
   ],
   "source": [
    "###################\n",
    "##### Dataframe\n",
    "###################\n",
    "\n",
    "#upload and download\n",
    "\n",
    "from downloadfromFileIO import saveFromFileIO\n",
    "\"\"\" à executer sur datacamp: (apres copie du code uploadfromdatacamp.py)\n",
    "uploadToFileIO(ur_wide)\n",
    "\n",
    "\"\"\"\n",
    "\n",
    "tobedownloaded=\"\"\"\n",
    "{pandas.core.frame.DataFrame: {'ur_wide.csv': 'https://file.io/eJ4XYT6MrSTa'}}\n",
    "\"\"\"\n",
    "prefixToc='4.2'\n",
    "prefix = saveFromFileIO(tobedownloaded, prefixToc=prefixToc, proxy=\"\")\n",
    "\n",
    "#initialisation\n",
    "\n",
    "import pandas as pd\n",
    "ur_wide = pd.read_csv(prefix+'ur_wide.csv',index_col=0 )\n",
    "\n"
   ]
  },
  {
   "cell_type": "markdown",
   "metadata": {},
   "source": [
    "### code"
   ]
  },
  {
   "cell_type": "markdown",
   "metadata": {},
   "source": [
    "> -   Use `.melt()` to unpivot all of the columns of `ur_wide` except `year` and ensure that the columns with the months and values are named `month` and `unempl_rate`, respectively. Save the result as `ur_tall`.\n",
    "> -   Add a column to `ur_tall` named `date` which combines the `year` and `month` columns as _year_\\-_month_ format into a larger string, and converts it to a date data type.\n",
    "> -   Sort `ur_tall` by date and save as `ur_sorted`.\n",
    "> -   Using `ur_sorted`, plot `unempl_rate` on the y-axis and `date` on the x-axis."
   ]
  },
  {
   "cell_type": "code",
   "execution_count": 69,
   "metadata": {
    "ExecuteTime": {
     "end_time": "2021-01-11T13:20:39.139239Z",
     "start_time": "2021-01-11T13:20:39.114017Z"
    }
   },
   "outputs": [
    {
     "data": {
      "text/html": [
       "<div>\n",
       "<style scoped>\n",
       "    .dataframe tbody tr th:only-of-type {\n",
       "        vertical-align: middle;\n",
       "    }\n",
       "\n",
       "    .dataframe tbody tr th {\n",
       "        vertical-align: top;\n",
       "    }\n",
       "\n",
       "    .dataframe thead th {\n",
       "        text-align: right;\n",
       "    }\n",
       "</style>\n",
       "<table border=\"1\" class=\"dataframe\">\n",
       "  <thead>\n",
       "    <tr style=\"text-align: right;\">\n",
       "      <th></th>\n",
       "      <th>year</th>\n",
       "      <th>jan</th>\n",
       "      <th>feb</th>\n",
       "      <th>mar</th>\n",
       "      <th>apr</th>\n",
       "      <th>may</th>\n",
       "      <th>jun</th>\n",
       "      <th>jul</th>\n",
       "      <th>aug</th>\n",
       "      <th>sep</th>\n",
       "      <th>oct</th>\n",
       "      <th>nov</th>\n",
       "      <th>dec</th>\n",
       "    </tr>\n",
       "  </thead>\n",
       "  <tbody>\n",
       "    <tr>\n",
       "      <th>0</th>\n",
       "      <td>2010</td>\n",
       "      <td>9.8</td>\n",
       "      <td>9.8</td>\n",
       "      <td>9.9</td>\n",
       "      <td>9.9</td>\n",
       "      <td>9.6</td>\n",
       "      <td>9.4</td>\n",
       "      <td>9.4</td>\n",
       "      <td>9.5</td>\n",
       "      <td>9.5</td>\n",
       "      <td>9.4</td>\n",
       "      <td>9.8</td>\n",
       "      <td>9.3</td>\n",
       "    </tr>\n",
       "    <tr>\n",
       "      <th>1</th>\n",
       "      <td>2011</td>\n",
       "      <td>9.1</td>\n",
       "      <td>9.0</td>\n",
       "      <td>9.0</td>\n",
       "      <td>9.1</td>\n",
       "      <td>9.0</td>\n",
       "      <td>9.1</td>\n",
       "      <td>9.0</td>\n",
       "      <td>9.0</td>\n",
       "      <td>9.0</td>\n",
       "      <td>8.8</td>\n",
       "      <td>8.6</td>\n",
       "      <td>8.5</td>\n",
       "    </tr>\n",
       "    <tr>\n",
       "      <th>2</th>\n",
       "      <td>2012</td>\n",
       "      <td>8.3</td>\n",
       "      <td>8.3</td>\n",
       "      <td>8.2</td>\n",
       "      <td>8.2</td>\n",
       "      <td>8.2</td>\n",
       "      <td>8.2</td>\n",
       "      <td>8.2</td>\n",
       "      <td>8.1</td>\n",
       "      <td>7.8</td>\n",
       "      <td>7.8</td>\n",
       "      <td>7.7</td>\n",
       "      <td>7.9</td>\n",
       "    </tr>\n",
       "    <tr>\n",
       "      <th>3</th>\n",
       "      <td>2013</td>\n",
       "      <td>8.0</td>\n",
       "      <td>7.7</td>\n",
       "      <td>7.5</td>\n",
       "      <td>7.6</td>\n",
       "      <td>7.5</td>\n",
       "      <td>7.5</td>\n",
       "      <td>7.3</td>\n",
       "      <td>7.2</td>\n",
       "      <td>7.2</td>\n",
       "      <td>7.2</td>\n",
       "      <td>6.9</td>\n",
       "      <td>6.7</td>\n",
       "    </tr>\n",
       "    <tr>\n",
       "      <th>4</th>\n",
       "      <td>2014</td>\n",
       "      <td>6.6</td>\n",
       "      <td>6.7</td>\n",
       "      <td>6.7</td>\n",
       "      <td>6.2</td>\n",
       "      <td>6.3</td>\n",
       "      <td>6.1</td>\n",
       "      <td>6.2</td>\n",
       "      <td>6.1</td>\n",
       "      <td>5.9</td>\n",
       "      <td>5.7</td>\n",
       "      <td>5.8</td>\n",
       "      <td>5.6</td>\n",
       "    </tr>\n",
       "  </tbody>\n",
       "</table>\n",
       "</div>"
      ],
      "text/plain": [
       "   year  jan  feb  mar  apr  may  jun  jul  aug  sep  oct  nov  dec\n",
       "0  2010  9.8  9.8  9.9  9.9  9.6  9.4  9.4  9.5  9.5  9.4  9.8  9.3\n",
       "1  2011  9.1  9.0  9.0  9.1  9.0  9.1  9.0  9.0  9.0  8.8  8.6  8.5\n",
       "2  2012  8.3  8.3  8.2  8.2  8.2  8.2  8.2  8.1  7.8  7.8  7.7  7.9\n",
       "3  2013  8.0  7.7  7.5  7.6  7.5  7.5  7.3  7.2  7.2  7.2  6.9  6.7\n",
       "4  2014  6.6  6.7  6.7  6.2  6.3  6.1  6.2  6.1  5.9  5.7  5.8  5.6"
      ]
     },
     "execution_count": 69,
     "metadata": {},
     "output_type": "execute_result"
    }
   ],
   "source": [
    "ur_wide.head()"
   ]
  },
  {
   "cell_type": "code",
   "execution_count": 78,
   "metadata": {
    "ExecuteTime": {
     "end_time": "2021-01-11T13:26:35.076976Z",
     "start_time": "2021-01-11T13:26:35.074522Z"
    }
   },
   "outputs": [],
   "source": [
    "ur_wide['year']=ur_wide['year'].astype(str)"
   ]
  },
  {
   "cell_type": "code",
   "execution_count": 79,
   "metadata": {
    "ExecuteTime": {
     "end_time": "2021-01-11T13:26:36.850229Z",
     "start_time": "2021-01-11T13:26:36.661157Z"
    }
   },
   "outputs": [
    {
     "data": {
      "image/png": "[encoded data removed]",
      "text/plain": [
       "<Figure size 432x288 with 1 Axes>"
      ]
     },
     "metadata": {
      "needs_background": "light"
     },
     "output_type": "display_data"
    }
   ],
   "source": [
    "# unpivot everything besides the year column\n",
    "ur_tall = ur_wide.melt(id_vars='year', var_name='month', value_name='unempl_rate')\n",
    "\n",
    "\n",
    "# Create a date column using the month and year columns of ur_tall\n",
    "ur_tall['date'] = pd.to_datetime(ur_tall['year'] + '-' + ur_tall['month'])\n",
    "\n",
    "# Sort ur_tall by date in ascending order\n",
    "ur_sorted = ur_tall.sort_values('date')\n",
    "\n",
    "# Plot the unempl_rate by date\n",
    "ur_sorted.plot('date', 'unempl_rate')\n",
    "plt.show()"
   ]
  },
  {
   "cell_type": "markdown",
   "metadata": {},
   "source": [
    "[Using .melt() for stocks vs bond performance | Python](https://campus.datacamp.com/courses/joining-data-with-pandas/merging-ordered-and-time-series-data?ex=15)\n",
    "\n",
    "> ## Using .melt() for stocks vs bond performance\n",
    "> \n",
    "> It is widespread knowledge that the price of bonds is inversely related to the price of stocks. In this last exercise, you'll review many of the topics in this chapter to confirm this. You have been given a table of percent change of the US 10-year treasury bond price. It is in a wide format where there is a separate column for each year. You will need to use the `.melt()` method to reshape this table.\n",
    "> \n",
    "> Additionally, you will use the `.query()` method to filter out unneeded data. You will merge this table with a table of the percent change of the Dow Jones Industrial stock index price. Finally, you will plot data.\n",
    "> \n",
    "> The tables `ten_yr` and `dji` have been loaded for you."
   ]
  },
  {
   "cell_type": "markdown",
   "metadata": {},
   "source": [
    "### init"
   ]
  },
  {
   "cell_type": "code",
   "execution_count": 80,
   "metadata": {
    "ExecuteTime": {
     "end_time": "2021-01-11T13:28:03.946725Z",
     "start_time": "2021-01-11T13:28:02.829946Z"
    }
   },
   "outputs": [
    {
     "name": "stdout",
     "output_type": "stream",
     "text": [
      "Téléchargements à lancer\n",
      "{'pandas.core.frame.DataFrame': {'dji.csv': 'https://file.io/fYWYa9G2Avs4', 'ten_yr.csv': 'https://file.io/EKjGXdz6LUw3'}}\n",
      "  % Total    % Received % Xferd  Average Speed   Time    Time     Time  Current\n",
      "                                 Dload  Upload   Total   Spent    Left  Speed\n",
      "100  4585    0  4585    0     0   8001      0 --:--:-- --:--:-- --:--:--  7987\n",
      "\n",
      "  % Total    % Received % Xferd  Average Speed   Time    Time     Time  Current\n",
      "                                 Dload  Upload   Total   Spent    Left  Speed\n",
      "100  2476    0  2476    0     0   5179      0 --:--:-- --:--:-- --:--:--  5179\n",
      "\n"
     ]
    }
   ],
   "source": [
    "###################\n",
    "##### Dataframe\n",
    "###################\n",
    "\n",
    "#upload and download\n",
    "\n",
    "from downloadfromFileIO import saveFromFileIO\n",
    "\"\"\" à executer sur datacamp: (apres copie du code uploadfromdatacamp.py)\n",
    "uploadToFileIO(ten_yr , dji)\n",
    "\n",
    "\"\"\"\n",
    "\n",
    "tobedownloaded=\"\"\"\n",
    "{pandas.core.frame.DataFrame: {'dji.csv': 'https://file.io/fYWYa9G2Avs4',\n",
    "  'ten_yr.csv': 'https://file.io/EKjGXdz6LUw3'}}\n",
    "  \"\"\"\n",
    "prefixToc='4.3'\n",
    "prefix = saveFromFileIO(tobedownloaded, prefixToc=prefixToc, proxy=\"\")\n",
    "\n",
    "#initialisation\n",
    "\n",
    "import pandas as pd\n",
    "ten_yr = pd.read_csv(prefix+'ten_yr.csv',index_col=0 )\n",
    "dji = pd.read_csv(prefix+'dji.csv',index_col=0 )\n",
    "\n"
   ]
  },
  {
   "cell_type": "markdown",
   "metadata": {},
   "source": [
    "### code"
   ]
  },
  {
   "cell_type": "markdown",
   "metadata": {},
   "source": [
    "> -   Use `.melt()` on `ten_yr` to unpivot everything except the `metric` column, setting `var_name='date'` and `value_name='close'`. Save the result to `bond_perc`.\n",
    "> -   Using the `.query()` method, select only those rows were `metric` equals 'close', and save to `bond_perc_close`.\n",
    "> -   Use `merge_ordered()` to merge `dji` (left table) and `bond_perc_close` on `date` with an inner join, and set `suffixes` equal to `('_dow', '_bond')`. Save the result to `dow_bond`.\n",
    "> -   Using `dow_bond`, plot only the Dow and bond values."
   ]
  },
  {
   "cell_type": "code",
   "execution_count": 81,
   "metadata": {
    "ExecuteTime": {
     "end_time": "2021-01-11T13:28:53.897962Z",
     "start_time": "2021-01-11T13:28:53.881224Z"
    }
   },
   "outputs": [
    {
     "data": {
      "text/html": [
       "<div>\n",
       "<style scoped>\n",
       "    .dataframe tbody tr th:only-of-type {\n",
       "        vertical-align: middle;\n",
       "    }\n",
       "\n",
       "    .dataframe tbody tr th {\n",
       "        vertical-align: top;\n",
       "    }\n",
       "\n",
       "    .dataframe thead th {\n",
       "        text-align: right;\n",
       "    }\n",
       "</style>\n",
       "<table border=\"1\" class=\"dataframe\">\n",
       "  <thead>\n",
       "    <tr style=\"text-align: right;\">\n",
       "      <th></th>\n",
       "      <th>metric</th>\n",
       "      <th>2007-02-01</th>\n",
       "      <th>2007-03-01</th>\n",
       "      <th>2007-04-01</th>\n",
       "      <th>2007-05-01</th>\n",
       "      <th>2007-06-01</th>\n",
       "      <th>2007-07-01</th>\n",
       "      <th>2007-08-01</th>\n",
       "      <th>2007-09-01</th>\n",
       "      <th>2007-10-01</th>\n",
       "      <th>...</th>\n",
       "      <th>2009-03-01</th>\n",
       "      <th>2009-04-01</th>\n",
       "      <th>2009-05-01</th>\n",
       "      <th>2009-06-01</th>\n",
       "      <th>2009-07-01</th>\n",
       "      <th>2009-08-01</th>\n",
       "      <th>2009-09-01</th>\n",
       "      <th>2009-10-01</th>\n",
       "      <th>2009-11-01</th>\n",
       "      <th>2009-12-01</th>\n",
       "    </tr>\n",
       "  </thead>\n",
       "  <tbody>\n",
       "    <tr>\n",
       "      <th>0</th>\n",
       "      <td>open</td>\n",
       "      <td>0.033491</td>\n",
       "      <td>-0.060449</td>\n",
       "      <td>0.025426</td>\n",
       "      <td>-0.004312</td>\n",
       "      <td>0.060632</td>\n",
       "      <td>0.027154</td>\n",
       "      <td>-0.059233</td>\n",
       "      <td>-0.046271</td>\n",
       "      <td>0.014400</td>\n",
       "      <td>...</td>\n",
       "      <td>0.045888</td>\n",
       "      <td>-0.102599</td>\n",
       "      <td>0.191049</td>\n",
       "      <td>0.106726</td>\n",
       "      <td>0.023966</td>\n",
       "      <td>-0.006687</td>\n",
       "      <td>-0.046564</td>\n",
       "      <td>-0.032068</td>\n",
       "      <td>0.034347</td>\n",
       "      <td>-0.050544</td>\n",
       "    </tr>\n",
       "    <tr>\n",
       "      <th>1</th>\n",
       "      <td>high</td>\n",
       "      <td>-0.007338</td>\n",
       "      <td>-0.040657</td>\n",
       "      <td>0.022046</td>\n",
       "      <td>0.030576</td>\n",
       "      <td>0.080268</td>\n",
       "      <td>-0.021633</td>\n",
       "      <td>-0.059796</td>\n",
       "      <td>-0.038446</td>\n",
       "      <td>0.003615</td>\n",
       "      <td>...</td>\n",
       "      <td>-0.004257</td>\n",
       "      <td>0.041105</td>\n",
       "      <td>0.186987</td>\n",
       "      <td>0.068121</td>\n",
       "      <td>-0.061784</td>\n",
       "      <td>0.031864</td>\n",
       "      <td>-0.090324</td>\n",
       "      <td>0.012447</td>\n",
       "      <td>-0.004191</td>\n",
       "      <td>0.099327</td>\n",
       "    </tr>\n",
       "    <tr>\n",
       "      <th>2</th>\n",
       "      <td>low</td>\n",
       "      <td>-0.016147</td>\n",
       "      <td>-0.007984</td>\n",
       "      <td>0.031075</td>\n",
       "      <td>-0.002168</td>\n",
       "      <td>0.059105</td>\n",
       "      <td>-0.027288</td>\n",
       "      <td>-0.051677</td>\n",
       "      <td>-0.043372</td>\n",
       "      <td>0.002558</td>\n",
       "      <td>...</td>\n",
       "      <td>-0.062405</td>\n",
       "      <td>0.068994</td>\n",
       "      <td>0.168185</td>\n",
       "      <td>0.123172</td>\n",
       "      <td>-0.055266</td>\n",
       "      <td>0.039510</td>\n",
       "      <td>-0.035946</td>\n",
       "      <td>-0.050733</td>\n",
       "      <td>0.030264</td>\n",
       "      <td>0.007188</td>\n",
       "    </tr>\n",
       "    <tr>\n",
       "      <th>3</th>\n",
       "      <td>close</td>\n",
       "      <td>-0.057190</td>\n",
       "      <td>0.021538</td>\n",
       "      <td>-0.003873</td>\n",
       "      <td>0.056156</td>\n",
       "      <td>0.029243</td>\n",
       "      <td>-0.052056</td>\n",
       "      <td>-0.049046</td>\n",
       "      <td>0.009257</td>\n",
       "      <td>-0.022712</td>\n",
       "      <td>...</td>\n",
       "      <td>-0.117067</td>\n",
       "      <td>0.163501</td>\n",
       "      <td>0.109155</td>\n",
       "      <td>0.016739</td>\n",
       "      <td>-0.006245</td>\n",
       "      <td>-0.028563</td>\n",
       "      <td>-0.027639</td>\n",
       "      <td>0.025703</td>\n",
       "      <td>-0.056309</td>\n",
       "      <td>0.200562</td>\n",
       "    </tr>\n",
       "  </tbody>\n",
       "</table>\n",
       "<p>4 rows × 36 columns</p>\n",
       "</div>"
      ],
      "text/plain": [
       "  metric  2007-02-01  2007-03-01  2007-04-01  2007-05-01  2007-06-01  \\\n",
       "0   open    0.033491   -0.060449    0.025426   -0.004312    0.060632   \n",
       "1   high   -0.007338   -0.040657    0.022046    0.030576    0.080268   \n",
       "2    low   -0.016147   -0.007984    0.031075   -0.002168    0.059105   \n",
       "3  close   -0.057190    0.021538   -0.003873    0.056156    0.029243   \n",
       "\n",
       "   2007-07-01  2007-08-01  2007-09-01  2007-10-01  ...  2009-03-01  \\\n",
       "0    0.027154   -0.059233   -0.046271    0.014400  ...    0.045888   \n",
       "1   -0.021633   -0.059796   -0.038446    0.003615  ...   -0.004257   \n",
       "2   -0.027288   -0.051677   -0.043372    0.002558  ...   -0.062405   \n",
       "3   -0.052056   -0.049046    0.009257   -0.022712  ...   -0.117067   \n",
       "\n",
       "   2009-04-01  2009-05-01  2009-06-01  2009-07-01  2009-08-01  2009-09-01  \\\n",
       "0   -0.102599    0.191049    0.106726    0.023966   -0.006687   -0.046564   \n",
       "1    0.041105    0.186987    0.068121   -0.061784    0.031864   -0.090324   \n",
       "2    0.068994    0.168185    0.123172   -0.055266    0.039510   -0.035946   \n",
       "3    0.163501    0.109155    0.016739   -0.006245   -0.028563   -0.027639   \n",
       "\n",
       "   2009-10-01  2009-11-01  2009-12-01  \n",
       "0   -0.032068    0.034347   -0.050544  \n",
       "1    0.012447   -0.004191    0.099327  \n",
       "2   -0.050733    0.030264    0.007188  \n",
       "3    0.025703   -0.056309    0.200562  \n",
       "\n",
       "[4 rows x 36 columns]"
      ]
     },
     "execution_count": 81,
     "metadata": {},
     "output_type": "execute_result"
    }
   ],
   "source": [
    "ten_yr.head()"
   ]
  },
  {
   "cell_type": "code",
   "execution_count": 89,
   "metadata": {
    "ExecuteTime": {
     "end_time": "2021-01-11T13:33:17.456959Z",
     "start_time": "2021-01-11T13:33:17.348762Z"
    }
   },
   "outputs": [
    {
     "data": {
      "image/png": "[encoded data removed]",
      "text/plain": [
       "<Figure size 432x288 with 1 Axes>"
      ]
     },
     "metadata": {
      "needs_background": "light"
     },
     "output_type": "display_data"
    }
   ],
   "source": [
    "# Use melt on ten_yr, unpivot everything besides the metric column\n",
    "bond_perc = ten_yr.melt(id_vars='metric', var_name='date', value_name='close')\n",
    "\n",
    "# Use query on bond_perc to select only the rows where metric=close\n",
    "bond_perc_close = bond_perc.query(\" metric == 'close'\")\n",
    "\n",
    "# Merge (ordered) dji and bond_perc_close on date with an inner join\n",
    "dow_bond = pd.merge_ordered(dji, bond_perc_close, on='date', how='inner', suffixes=('_dow', '_bond'))\n",
    "\n",
    "\n",
    "# Plot only the close_dow and close_bond columns\n",
    "dow_bond.plot(y=['close_dow', 'close_bond'], x='date', rot=90)\n",
    "plt.show()"
   ]
  },
  {
   "cell_type": "code",
   "execution_count": null,
   "metadata": {},
   "outputs": [],
   "source": []
  }
 ],
 "metadata": {
  "kernelspec": {
   "display_name": "Python [conda env:datacamp] *",
   "language": "python",
   "name": "conda-env-datacamp-py"
  },
  "language_info": {
   "codemirror_mode": {
    "name": "ipython",
    "version": 3
   },
   "file_extension": ".py",
   "mimetype": "text/x-python",
   "name": "python",
   "nbconvert_exporter": "python",
   "pygments_lexer": "ipython3",
   "version": "3.7.9"
  },
  "toc": {
   "base_numbering": 1,
   "nav_menu": {},
   "number_sections": true,
   "sideBar": true,
   "skip_h1_title": false,
   "title_cell": "Table of Contents",
   "title_sidebar": "Contents",
   "toc_cell": false,
   "toc_position": {},
   "toc_section_display": true,
   "toc_window_display": true
  }
 },
 "nbformat": 4,
 "nbformat_minor": 4
}
