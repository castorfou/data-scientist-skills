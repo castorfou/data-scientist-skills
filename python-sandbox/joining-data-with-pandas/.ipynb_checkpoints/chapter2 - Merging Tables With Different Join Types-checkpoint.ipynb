{
 "cells": [
  {
   "cell_type": "markdown",
   "metadata": {},
   "source": [
    "# Left join\n",
    "\n",
    "```python\n",
    "\n",
    "# Merge with left join\n",
    "movies_taglines = movies.merge(taglines, on='id', how='left')\n",
    "\n",
    "```"
   ]
  },
  {
   "cell_type": "markdown",
   "metadata": {},
   "source": [
    "[Counting missing rows with left join | Python](https://campus.datacamp.com/courses/joining-data-with-pandas/merging-tables-with-different-join-types?ex=2)\n",
    "\n",
    "> ## Counting missing rows with left join\n",
    "> \n",
    "> The Movie Database is supported by volunteers going out into the world, collecting data, and entering it into the database. This includes financial data, such as movie budget and revenue. If you wanted to know which movies are still missing data, you could use a left join to identify them. Practice using a left join by merging the `movies` table and the `financials` table.\n",
    "> \n",
    "> The `movies` and `financials` tables have been loaded for you."
   ]
  },
  {
   "cell_type": "markdown",
   "metadata": {
    "heading_collapsed": true
   },
   "source": [
    "### init"
   ]
  },
  {
   "cell_type": "code",
   "execution_count": 1,
   "metadata": {
    "ExecuteTime": {
     "end_time": "2021-01-11T08:47:03.004532Z",
     "start_time": "2021-01-11T08:47:00.773976Z"
    },
    "hidden": true
   },
   "outputs": [
    {
     "name": "stdout",
     "output_type": "stream",
     "text": [
      "Téléchargements à lancer\n",
      "{'pandas.core.frame.DataFrame': {'financials.csv': 'https://file.io/URfUB8YN5BW1', 'movies.csv': 'https://file.io/Crz2lkLMMkM6'}}\n",
      "  % Total    % Received % Xferd  Average Speed   Time    Time     Time  Current\n",
      "                                 Dload  Upload   Total   Spent    Left  Speed\n",
      "100 97409    0 97409    0     0   101k      0 --:--:-- --:--:-- --:--:--  100k\n",
      "\n",
      "  % Total    % Received % Xferd  Average Speed   Time    Time     Time  Current\n",
      "                                 Dload  Upload   Total   Spent    Left  Speed\n",
      "100  233k    0  233k    0     0   241k      0 --:--:-- --:--:-- --:--:--  241k\n",
      "\n"
     ]
    }
   ],
   "source": [
    "###################\n",
    "##### Dataframe\n",
    "###################\n",
    "\n",
    "#upload and download\n",
    "\n",
    "from downloadfromFileIO import saveFromFileIO\n",
    "\"\"\" à executer sur datacamp: (apres copie du code uploadfromdatacamp.py)\n",
    "uploadToFileIO(movies , financials)\n",
    "\n",
    "\"\"\"\n",
    "\n",
    "tobedownloaded=\"\"\"\n",
    "{pandas.core.frame.DataFrame: {'financials.csv': 'https://file.io/URfUB8YN5BW1',\n",
    "  'movies.csv': 'https://file.io/Crz2lkLMMkM6'}}\n",
    "\"\"\"\n",
    "prefixToc='1.1'\n",
    "prefix = saveFromFileIO(tobedownloaded, prefixToc=prefixToc, proxy=\"\")\n",
    "\n",
    "#initialisation\n",
    "\n",
    "import pandas as pd\n",
    "movies = pd.read_csv(prefix+'movies.csv',index_col=0)\n",
    "financials = pd.read_csv(prefix+'financials.csv',index_col=0)\n"
   ]
  },
  {
   "cell_type": "markdown",
   "metadata": {},
   "source": [
    "### code"
   ]
  },
  {
   "cell_type": "markdown",
   "metadata": {},
   "source": [
    "> What column is likely the best column to merge the two tables on?"
   ]
  },
  {
   "cell_type": "code",
   "execution_count": 2,
   "metadata": {
    "ExecuteTime": {
     "end_time": "2021-01-11T08:48:00.660108Z",
     "start_time": "2021-01-11T08:48:00.627227Z"
    }
   },
   "outputs": [
    {
     "data": {
      "text/html": [
       "<div>\n",
       "<style scoped>\n",
       "    .dataframe tbody tr th:only-of-type {\n",
       "        vertical-align: middle;\n",
       "    }\n",
       "\n",
       "    .dataframe tbody tr th {\n",
       "        vertical-align: top;\n",
       "    }\n",
       "\n",
       "    .dataframe thead th {\n",
       "        text-align: right;\n",
       "    }\n",
       "</style>\n",
       "<table border=\"1\" class=\"dataframe\">\n",
       "  <thead>\n",
       "    <tr style=\"text-align: right;\">\n",
       "      <th></th>\n",
       "      <th>id</th>\n",
       "      <th>title</th>\n",
       "      <th>popularity</th>\n",
       "      <th>release_date</th>\n",
       "    </tr>\n",
       "  </thead>\n",
       "  <tbody>\n",
       "    <tr>\n",
       "      <th>0</th>\n",
       "      <td>257</td>\n",
       "      <td>Oliver Twist</td>\n",
       "      <td>20.415572</td>\n",
       "      <td>2005-09-23</td>\n",
       "    </tr>\n",
       "    <tr>\n",
       "      <th>1</th>\n",
       "      <td>14290</td>\n",
       "      <td>Better Luck Tomorrow</td>\n",
       "      <td>3.877036</td>\n",
       "      <td>2002-01-12</td>\n",
       "    </tr>\n",
       "    <tr>\n",
       "      <th>2</th>\n",
       "      <td>38365</td>\n",
       "      <td>Grown Ups</td>\n",
       "      <td>38.864027</td>\n",
       "      <td>2010-06-24</td>\n",
       "    </tr>\n",
       "    <tr>\n",
       "      <th>3</th>\n",
       "      <td>9672</td>\n",
       "      <td>Infamous</td>\n",
       "      <td>3.680896</td>\n",
       "      <td>2006-11-16</td>\n",
       "    </tr>\n",
       "    <tr>\n",
       "      <th>4</th>\n",
       "      <td>12819</td>\n",
       "      <td>Alpha and Omega</td>\n",
       "      <td>12.300789</td>\n",
       "      <td>2010-09-17</td>\n",
       "    </tr>\n",
       "  </tbody>\n",
       "</table>\n",
       "</div>"
      ],
      "text/plain": [
       "      id                 title  popularity release_date\n",
       "0    257          Oliver Twist   20.415572   2005-09-23\n",
       "1  14290  Better Luck Tomorrow    3.877036   2002-01-12\n",
       "2  38365             Grown Ups   38.864027   2010-06-24\n",
       "3   9672              Infamous    3.680896   2006-11-16\n",
       "4  12819       Alpha and Omega   12.300789   2010-09-17"
      ]
     },
     "execution_count": 2,
     "metadata": {},
     "output_type": "execute_result"
    }
   ],
   "source": [
    "movies.head()"
   ]
  },
  {
   "cell_type": "code",
   "execution_count": 3,
   "metadata": {
    "ExecuteTime": {
     "end_time": "2021-01-11T08:48:11.178178Z",
     "start_time": "2021-01-11T08:48:11.173034Z"
    }
   },
   "outputs": [
    {
     "data": {
      "text/html": [
       "<div>\n",
       "<style scoped>\n",
       "    .dataframe tbody tr th:only-of-type {\n",
       "        vertical-align: middle;\n",
       "    }\n",
       "\n",
       "    .dataframe tbody tr th {\n",
       "        vertical-align: top;\n",
       "    }\n",
       "\n",
       "    .dataframe thead th {\n",
       "        text-align: right;\n",
       "    }\n",
       "</style>\n",
       "<table border=\"1\" class=\"dataframe\">\n",
       "  <thead>\n",
       "    <tr style=\"text-align: right;\">\n",
       "      <th></th>\n",
       "      <th>id</th>\n",
       "      <th>budget</th>\n",
       "      <th>revenue</th>\n",
       "    </tr>\n",
       "  </thead>\n",
       "  <tbody>\n",
       "    <tr>\n",
       "      <th>0</th>\n",
       "      <td>19995</td>\n",
       "      <td>237000000</td>\n",
       "      <td>2.787965e+09</td>\n",
       "    </tr>\n",
       "    <tr>\n",
       "      <th>1</th>\n",
       "      <td>285</td>\n",
       "      <td>300000000</td>\n",
       "      <td>9.610000e+08</td>\n",
       "    </tr>\n",
       "    <tr>\n",
       "      <th>2</th>\n",
       "      <td>206647</td>\n",
       "      <td>245000000</td>\n",
       "      <td>8.806746e+08</td>\n",
       "    </tr>\n",
       "    <tr>\n",
       "      <th>3</th>\n",
       "      <td>49026</td>\n",
       "      <td>250000000</td>\n",
       "      <td>1.084939e+09</td>\n",
       "    </tr>\n",
       "    <tr>\n",
       "      <th>4</th>\n",
       "      <td>49529</td>\n",
       "      <td>260000000</td>\n",
       "      <td>2.841391e+08</td>\n",
       "    </tr>\n",
       "  </tbody>\n",
       "</table>\n",
       "</div>"
      ],
      "text/plain": [
       "       id     budget       revenue\n",
       "0   19995  237000000  2.787965e+09\n",
       "1     285  300000000  9.610000e+08\n",
       "2  206647  245000000  8.806746e+08\n",
       "3   49026  250000000  1.084939e+09\n",
       "4   49529  260000000  2.841391e+08"
      ]
     },
     "execution_count": 3,
     "metadata": {},
     "output_type": "execute_result"
    }
   ],
   "source": [
    "financials.head()"
   ]
  },
  {
   "cell_type": "markdown",
   "metadata": {},
   "source": [
    "> -   Merge the `movies` table, as the left table, with the `financials` table using a left join, and save the result to `movies_financials`."
   ]
  },
  {
   "cell_type": "code",
   "execution_count": 4,
   "metadata": {
    "ExecuteTime": {
     "end_time": "2021-01-11T08:48:57.506553Z",
     "start_time": "2021-01-11T08:48:57.501401Z"
    }
   },
   "outputs": [],
   "source": [
    "# Merge movies and financials with a left join\n",
    "movies_financials = movies.merge(financials, on='id', how='left')"
   ]
  },
  {
   "cell_type": "markdown",
   "metadata": {},
   "source": [
    "> Count the number of rows in `movies_financials` with a null value in the `budget` column."
   ]
  },
  {
   "cell_type": "code",
   "execution_count": 5,
   "metadata": {
    "ExecuteTime": {
     "end_time": "2021-01-11T08:49:36.410385Z",
     "start_time": "2021-01-11T08:49:36.407212Z"
    }
   },
   "outputs": [
    {
     "name": "stdout",
     "output_type": "stream",
     "text": [
      "1574\n"
     ]
    }
   ],
   "source": [
    "# Count the number of rows in the budget column that are missing\n",
    "number_of_missing_fin = movies_financials['budget'].isna().sum()\n",
    "\n",
    "# Print the number of movies missing financials\n",
    "print(number_of_missing_fin)"
   ]
  },
  {
   "cell_type": "markdown",
   "metadata": {},
   "source": [
    "[Enriching a dataset | Python](https://campus.datacamp.com/courses/joining-data-with-pandas/merging-tables-with-different-join-types?ex=3)\n",
    "\n",
    "> ## Enriching a dataset\n",
    "> \n",
    "> Setting `how='left'` with the `.merge()`method is a useful technique for enriching or enhancing a dataset with additional information from a different table. In this exercise, you will start off with a sample of movie data from the movie series _Toy Story_. Your goal is to enrich this data by adding the marketing tag line for each movie. You will compare the results of a left join versus an inner join.\n",
    "> \n",
    "> The `toy_story` DataFrame contains the _Toy Story_ movies. The `toy_story` and `taglines` DataFrames have been loaded for you."
   ]
  },
  {
   "cell_type": "markdown",
   "metadata": {
    "heading_collapsed": true
   },
   "source": [
    "### init"
   ]
  },
  {
   "cell_type": "code",
   "execution_count": 6,
   "metadata": {
    "ExecuteTime": {
     "end_time": "2021-01-11T08:51:20.712219Z",
     "start_time": "2021-01-11T08:51:19.117708Z"
    },
    "hidden": true
   },
   "outputs": [
    {
     "name": "stdout",
     "output_type": "stream",
     "text": [
      "Téléchargements à lancer\n",
      "{'pandas.core.frame.DataFrame': {'taglines.csv': 'https://file.io/QRJBFlQh4D8V', 'toy_story.csv': 'https://file.io/GlOCxyv3kref'}}\n",
      "  % Total    % Received % Xferd  Average Speed   Time    Time     Time  Current\n",
      "                                 Dload  Upload   Total   Spent    Left  Speed\n",
      "100  207k    0  207k    0     0   209k      0 --:--:-- --:--:-- --:--:--  209k\n",
      "\n",
      "  % Total    % Received % Xferd  Average Speed   Time    Time     Time  Current\n",
      "                                 Dload  Upload   Total   Spent    Left  Speed\n",
      "100   159    0   159    0     0    306      0 --:--:-- --:--:-- --:--:--   306\n",
      "\n"
     ]
    }
   ],
   "source": [
    "###################\n",
    "##### Dataframe\n",
    "###################\n",
    "\n",
    "#upload and download\n",
    "\n",
    "from downloadfromFileIO import saveFromFileIO\n",
    "\"\"\" à executer sur datacamp: (apres copie du code uploadfromdatacamp.py)\n",
    "uploadToFileIO(toy_story , taglines)\n",
    "\n",
    "\"\"\"\n",
    "\n",
    "tobedownloaded=\"\"\"\n",
    "{pandas.core.frame.DataFrame: {'taglines.csv': 'https://file.io/QRJBFlQh4D8V',\n",
    "  'toy_story.csv': 'https://file.io/GlOCxyv3kref'}}\n",
    "\"\"\"\n",
    "prefixToc='1.2'\n",
    "prefix = saveFromFileIO(tobedownloaded, prefixToc=prefixToc, proxy=\"\")\n",
    "\n",
    "#initialisation\n",
    "\n",
    "import pandas as pd\n",
    "toy_story = pd.read_csv(prefix+'toy_story.csv',index_col=0)\n",
    "taglines = pd.read_csv(prefix+'taglines.csv',index_col=0)\n"
   ]
  },
  {
   "cell_type": "markdown",
   "metadata": {},
   "source": [
    "### code"
   ]
  },
  {
   "cell_type": "markdown",
   "metadata": {},
   "source": [
    "> Merge `toy_story` and `taglines` on the `id` column with a **left join**, and save the result as `toystory_tag`."
   ]
  },
  {
   "cell_type": "code",
   "execution_count": 7,
   "metadata": {
    "ExecuteTime": {
     "end_time": "2021-01-11T08:52:02.554388Z",
     "start_time": "2021-01-11T08:52:02.545761Z"
    }
   },
   "outputs": [
    {
     "name": "stdout",
     "output_type": "stream",
     "text": [
      "      id        title  popularity release_date                   tagline\n",
      "0  10193  Toy Story 3   59.995418   2010-06-16  No toy gets left behind.\n",
      "1    863  Toy Story 2   73.575118   1999-10-30        The toys are back!\n",
      "2    862    Toy Story   73.640445   1995-10-30                       NaN\n",
      "(3, 5)\n"
     ]
    }
   ],
   "source": [
    "# Merge the toy_story and taglines tables with a left join\n",
    "toystory_tag = toy_story.merge(taglines, on='id', how='left')\n",
    "\n",
    "# Print the rows and shape of toystory_tag\n",
    "print(toystory_tag)\n",
    "print(toystory_tag.shape)"
   ]
  },
  {
   "cell_type": "markdown",
   "metadata": {},
   "source": [
    "> -   With `toy_story` as the left table, merge to it `taglines` on the `id` column with an **inner join**, and save as `toystory_tag`."
   ]
  },
  {
   "cell_type": "code",
   "execution_count": 8,
   "metadata": {
    "ExecuteTime": {
     "end_time": "2021-01-11T08:52:33.554521Z",
     "start_time": "2021-01-11T08:52:33.548113Z"
    }
   },
   "outputs": [
    {
     "name": "stdout",
     "output_type": "stream",
     "text": [
      "      id        title  popularity release_date                   tagline\n",
      "0  10193  Toy Story 3   59.995418   2010-06-16  No toy gets left behind.\n",
      "1    863  Toy Story 2   73.575118   1999-10-30        The toys are back!\n",
      "(2, 5)\n"
     ]
    }
   ],
   "source": [
    "# Merge the toy_story and taglines tables with a inner join\n",
    "toystory_tag = toy_story.merge(taglines, on='id', how='inner')\n",
    "\n",
    "# Print the rows and shape of toystory_tag\n",
    "print(toystory_tag)\n",
    "print(toystory_tag.shape)"
   ]
  },
  {
   "cell_type": "markdown",
   "metadata": {},
   "source": [
    "[How many rows with a left join? | Python](https://campus.datacamp.com/courses/joining-data-with-pandas/merging-tables-with-different-join-types?ex=4)\n",
    "\n",
    "> ## How many rows with a left join?\n",
    "> \n",
    "> Select the **true** statement about left joins.\n",
    "> \n",
    "> Try running the following code statements in the console.\n",
    "> \n",
    "> -   `left_table.merge(one_to_one, on='id', how='left').shape`\n",
    "> -   `left_table.merge(one_to_many, on='id', how='left').shape`\n",
    "> \n",
    "> Note that the `left_table` starts out with **4** rows."
   ]
  },
  {
   "cell_type": "markdown",
   "metadata": {
    "heading_collapsed": true
   },
   "source": [
    "### init"
   ]
  },
  {
   "cell_type": "code",
   "execution_count": 9,
   "metadata": {
    "ExecuteTime": {
     "end_time": "2021-01-11T08:54:35.449136Z",
     "start_time": "2021-01-11T08:54:32.869544Z"
    },
    "hidden": true
   },
   "outputs": [
    {
     "name": "stdout",
     "output_type": "stream",
     "text": [
      "Téléchargements à lancer\n",
      "{'pandas.core.frame.DataFrame': {'left_table.csv': 'https://file.io/VtIxKrUqOM1X', 'one_to_many.csv': 'https://file.io/ADYv4xdWwVvc', 'one_to_one.csv': 'https://file.io/MlxF2y4g5RTk'}}\n",
      "  % Total    % Received % Xferd  Average Speed   Time    Time     Time  Current\n",
      "                                 Dload  Upload   Total   Spent    Left  Speed\n",
      "100   221    0   221    0     0    422      0 --:--:-- --:--:-- --:--:--   421\n",
      "\n",
      "  % Total    % Received % Xferd  Average Speed   Time    Time     Time  Current\n",
      "                                 Dload  Upload   Total   Spent    Left  Speed\n",
      "100 1700k    0 1700k    0     0  1579k      0 --:--:--  0:00:01 --:--:-- 1579k\n",
      "\n",
      "  % Total    % Received % Xferd  Average Speed   Time    Time     Time  Current\n",
      "                                 Dload  Upload   Total   Spent    Left  Speed\n",
      "100  207k    0  207k    0     0   245k      0 --:--:-- --:--:-- --:--:--  244k\n",
      "\n"
     ]
    }
   ],
   "source": [
    "###################\n",
    "##### Dataframe\n",
    "###################\n",
    "\n",
    "#upload and download\n",
    "\n",
    "from downloadfromFileIO import saveFromFileIO\n",
    "\"\"\" à executer sur datacamp: (apres copie du code uploadfromdatacamp.py)\n",
    "uploadToFileIO(left_table , one_to_one, one_to_many)\n",
    "\n",
    "\"\"\"\n",
    "\n",
    "tobedownloaded=\"\"\"\n",
    "{pandas.core.frame.DataFrame: {'left_table.csv': 'https://file.io/VtIxKrUqOM1X',\n",
    "  'one_to_many.csv': 'https://file.io/ADYv4xdWwVvc',\n",
    "  'one_to_one.csv': 'https://file.io/MlxF2y4g5RTk'}}\n",
    "\"\"\"\n",
    "prefixToc='1.3'\n",
    "prefix = saveFromFileIO(tobedownloaded, prefixToc=prefixToc, proxy=\"\")\n",
    "\n",
    "#initialisation\n",
    "\n",
    "import pandas as pd\n",
    "left_table = pd.read_csv(prefix+'left_table.csv',index_col=0)\n",
    "one_to_one = pd.read_csv(prefix+'one_to_one.csv',index_col=0)\n",
    "one_to_many = pd.read_csv(prefix+'one_to_many.csv',index_col=0)\n"
   ]
  },
  {
   "cell_type": "markdown",
   "metadata": {},
   "source": [
    "### code"
   ]
  },
  {
   "cell_type": "code",
   "execution_count": 10,
   "metadata": {
    "ExecuteTime": {
     "end_time": "2021-01-11T08:54:47.560018Z",
     "start_time": "2021-01-11T08:54:47.552220Z"
    }
   },
   "outputs": [
    {
     "data": {
      "text/plain": [
       "(4, 5)"
      ]
     },
     "execution_count": 10,
     "metadata": {},
     "output_type": "execute_result"
    }
   ],
   "source": [
    "left_table.merge(one_to_one, on='id', how='left').shape"
   ]
  },
  {
   "cell_type": "code",
   "execution_count": 11,
   "metadata": {
    "ExecuteTime": {
     "end_time": "2021-01-11T08:54:54.367903Z",
     "start_time": "2021-01-11T08:54:54.358441Z"
    }
   },
   "outputs": [
    {
     "data": {
      "text/plain": [
       "(232, 6)"
      ]
     },
     "execution_count": 11,
     "metadata": {},
     "output_type": "execute_result"
    }
   ],
   "source": [
    "left_table.merge(one_to_many, on='id', how='left').shape"
   ]
  },
  {
   "cell_type": "code",
   "execution_count": 12,
   "metadata": {
    "ExecuteTime": {
     "end_time": "2021-01-11T08:55:09.347150Z",
     "start_time": "2021-01-11T08:55:09.342200Z"
    }
   },
   "outputs": [
    {
     "data": {
      "text/html": [
       "<div>\n",
       "<style scoped>\n",
       "    .dataframe tbody tr th:only-of-type {\n",
       "        vertical-align: middle;\n",
       "    }\n",
       "\n",
       "    .dataframe tbody tr th {\n",
       "        vertical-align: top;\n",
       "    }\n",
       "\n",
       "    .dataframe thead th {\n",
       "        text-align: right;\n",
       "    }\n",
       "</style>\n",
       "<table border=\"1\" class=\"dataframe\">\n",
       "  <thead>\n",
       "    <tr style=\"text-align: right;\">\n",
       "      <th></th>\n",
       "      <th>id</th>\n",
       "      <th>tagline</th>\n",
       "    </tr>\n",
       "  </thead>\n",
       "  <tbody>\n",
       "    <tr>\n",
       "      <th>0</th>\n",
       "      <td>19995</td>\n",
       "      <td>Enter the World of Pandora.</td>\n",
       "    </tr>\n",
       "    <tr>\n",
       "      <th>1</th>\n",
       "      <td>285</td>\n",
       "      <td>At the end of the world, the adventure begins.</td>\n",
       "    </tr>\n",
       "    <tr>\n",
       "      <th>2</th>\n",
       "      <td>206647</td>\n",
       "      <td>A Plan No One Escapes</td>\n",
       "    </tr>\n",
       "    <tr>\n",
       "      <th>3</th>\n",
       "      <td>49026</td>\n",
       "      <td>The Legend Ends</td>\n",
       "    </tr>\n",
       "    <tr>\n",
       "      <th>4</th>\n",
       "      <td>49529</td>\n",
       "      <td>Lost in our world, found in another.</td>\n",
       "    </tr>\n",
       "  </tbody>\n",
       "</table>\n",
       "</div>"
      ],
      "text/plain": [
       "       id                                         tagline\n",
       "0   19995                     Enter the World of Pandora.\n",
       "1     285  At the end of the world, the adventure begins.\n",
       "2  206647                           A Plan No One Escapes\n",
       "3   49026                                 The Legend Ends\n",
       "4   49529            Lost in our world, found in another."
      ]
     },
     "execution_count": 12,
     "metadata": {},
     "output_type": "execute_result"
    }
   ],
   "source": [
    "one_to_one.head()"
   ]
  },
  {
   "cell_type": "code",
   "execution_count": 13,
   "metadata": {
    "ExecuteTime": {
     "end_time": "2021-01-11T08:55:16.166580Z",
     "start_time": "2021-01-11T08:55:16.158180Z"
    }
   },
   "outputs": [
    {
     "data": {
      "text/html": [
       "<div>\n",
       "<style scoped>\n",
       "    .dataframe tbody tr th:only-of-type {\n",
       "        vertical-align: middle;\n",
       "    }\n",
       "\n",
       "    .dataframe tbody tr th {\n",
       "        vertical-align: top;\n",
       "    }\n",
       "\n",
       "    .dataframe thead th {\n",
       "        text-align: right;\n",
       "    }\n",
       "</style>\n",
       "<table border=\"1\" class=\"dataframe\">\n",
       "  <thead>\n",
       "    <tr style=\"text-align: right;\">\n",
       "      <th></th>\n",
       "      <th>id</th>\n",
       "      <th>job</th>\n",
       "      <th>name</th>\n",
       "    </tr>\n",
       "  </thead>\n",
       "  <tbody>\n",
       "    <tr>\n",
       "      <th>0</th>\n",
       "      <td>19995</td>\n",
       "      <td>Editor</td>\n",
       "      <td>Stephen E. Rivkin</td>\n",
       "    </tr>\n",
       "    <tr>\n",
       "      <th>2</th>\n",
       "      <td>19995</td>\n",
       "      <td>Sound Designer</td>\n",
       "      <td>Christopher Boyes</td>\n",
       "    </tr>\n",
       "    <tr>\n",
       "      <th>4</th>\n",
       "      <td>19995</td>\n",
       "      <td>Casting</td>\n",
       "      <td>Mali Finn</td>\n",
       "    </tr>\n",
       "    <tr>\n",
       "      <th>6</th>\n",
       "      <td>19995</td>\n",
       "      <td>Director</td>\n",
       "      <td>James Cameron</td>\n",
       "    </tr>\n",
       "    <tr>\n",
       "      <th>7</th>\n",
       "      <td>19995</td>\n",
       "      <td>Writer</td>\n",
       "      <td>James Cameron</td>\n",
       "    </tr>\n",
       "  </tbody>\n",
       "</table>\n",
       "</div>"
      ],
      "text/plain": [
       "      id             job               name\n",
       "0  19995          Editor  Stephen E. Rivkin\n",
       "2  19995  Sound Designer  Christopher Boyes\n",
       "4  19995         Casting          Mali Finn\n",
       "6  19995        Director      James Cameron\n",
       "7  19995          Writer      James Cameron"
      ]
     },
     "execution_count": 13,
     "metadata": {},
     "output_type": "execute_result"
    }
   ],
   "source": [
    "one_to_many.head()"
   ]
  },
  {
   "cell_type": "code",
   "execution_count": 14,
   "metadata": {
    "ExecuteTime": {
     "end_time": "2021-01-11T08:55:37.944445Z",
     "start_time": "2021-01-11T08:55:37.937406Z"
    }
   },
   "outputs": [
    {
     "data": {
      "text/html": [
       "<div>\n",
       "<style scoped>\n",
       "    .dataframe tbody tr th:only-of-type {\n",
       "        vertical-align: middle;\n",
       "    }\n",
       "\n",
       "    .dataframe tbody tr th {\n",
       "        vertical-align: top;\n",
       "    }\n",
       "\n",
       "    .dataframe thead th {\n",
       "        text-align: right;\n",
       "    }\n",
       "</style>\n",
       "<table border=\"1\" class=\"dataframe\">\n",
       "  <thead>\n",
       "    <tr style=\"text-align: right;\">\n",
       "      <th></th>\n",
       "      <th>id</th>\n",
       "      <th>title</th>\n",
       "      <th>popularity</th>\n",
       "      <th>release_date</th>\n",
       "    </tr>\n",
       "  </thead>\n",
       "  <tbody>\n",
       "    <tr>\n",
       "      <th>0</th>\n",
       "      <td>329</td>\n",
       "      <td>Jurassic Park</td>\n",
       "      <td>40.413191</td>\n",
       "      <td>1993-06-11</td>\n",
       "    </tr>\n",
       "    <tr>\n",
       "      <th>1</th>\n",
       "      <td>330</td>\n",
       "      <td>The Lost World: Jurassic Park</td>\n",
       "      <td>2.502487</td>\n",
       "      <td>1997-05-23</td>\n",
       "    </tr>\n",
       "    <tr>\n",
       "      <th>2</th>\n",
       "      <td>135397</td>\n",
       "      <td>Jurassic World</td>\n",
       "      <td>418.708552</td>\n",
       "      <td>2015-06-09</td>\n",
       "    </tr>\n",
       "    <tr>\n",
       "      <th>3</th>\n",
       "      <td>331</td>\n",
       "      <td>Jurassic Park III</td>\n",
       "      <td>1.859364</td>\n",
       "      <td>2001-07-18</td>\n",
       "    </tr>\n",
       "  </tbody>\n",
       "</table>\n",
       "</div>"
      ],
      "text/plain": [
       "       id                          title  popularity release_date\n",
       "0     329                  Jurassic Park   40.413191   1993-06-11\n",
       "1     330  The Lost World: Jurassic Park    2.502487   1997-05-23\n",
       "2  135397                 Jurassic World  418.708552   2015-06-09\n",
       "3     331              Jurassic Park III    1.859364   2001-07-18"
      ]
     },
     "execution_count": 14,
     "metadata": {},
     "output_type": "execute_result"
    }
   ],
   "source": [
    "left_table.head()"
   ]
  },
  {
   "attachments": {
    "image.png": {
     "image/png": "[encoded data removed]"
    }
   },
   "cell_type": "markdown",
   "metadata": {},
   "source": [
    "![image.png](attachment:image.png)"
   ]
  },
  {
   "cell_type": "markdown",
   "metadata": {},
   "source": [
    "# Other joins\n",
    "\n",
    "```python\n",
    "\n",
    "# Merge with right join\n",
    "tv_movies = movies.merge(tv_genre, how='right',\n",
    "left_on='id', right_on='movie_id')\n",
    "\n",
    "# Merge with outer join\n",
    "family_comedy = family.merge(comedy, on='movie_id', how='outer',\n",
    "suffixes=('_fam', '_com'))\n",
    "```"
   ]
  },
  {
   "cell_type": "markdown",
   "metadata": {},
   "source": [
    "[Right join to find unique movies | Python](https://campus.datacamp.com/courses/joining-data-with-pandas/merging-tables-with-different-join-types?ex=6)\n",
    "\n",
    "> ## Right join to find unique movies\n",
    "> \n",
    "> Most of the recent big-budget science fiction movies can also be classified as action movies. You are given a table of science fiction movies called `scifi_movies` and another table of action movies called `action_movies`. Your goal is to find which movies are considered only science fiction movies. Once you have this table, you can merge the `movies` table in to see the movie names. Since this exercise is related to science fiction movies, use a right join as your superhero power to solve this problem.\n",
    "> \n",
    "> The `movies`, `scifi_movies`, and `action_movies` tables have been loaded for you."
   ]
  },
  {
   "cell_type": "markdown",
   "metadata": {
    "heading_collapsed": true
   },
   "source": [
    "### init"
   ]
  },
  {
   "cell_type": "code",
   "execution_count": 15,
   "metadata": {
    "ExecuteTime": {
     "end_time": "2021-01-11T09:02:12.549749Z",
     "start_time": "2021-01-11T09:02:10.424594Z"
    },
    "hidden": true
   },
   "outputs": [
    {
     "name": "stdout",
     "output_type": "stream",
     "text": [
      "Téléchargements à lancer\n",
      "{'pandas.core.frame.DataFrame': {'action_movies.csv': 'https://file.io/aqmekUv46CrP', 'movies.csv': 'https://file.io/l29gpSVb4HAj', 'scifi_movies.csv': 'https://file.io/4mcXpohFDl9w'}}\n",
      "  % Total    % Received % Xferd  Average Speed   Time    Time     Time  Current\n",
      "                                 Dload  Upload   Total   Spent    Left  Speed\n",
      "100 20456    0 20456    0     0  35329      0 --:--:-- --:--:-- --:--:-- 35329\n",
      "\n",
      "  % Total    % Received % Xferd  Average Speed   Time    Time     Time  Current\n",
      "                                 Dload  Upload   Total   Spent    Left  Speed\n",
      "100  233k    0  233k    0     0   270k      0 --:--:-- --:--:-- --:--:--  269k\n",
      "\n",
      "  % Total    % Received % Xferd  Average Speed   Time    Time     Time  Current\n",
      "                                 Dload  Upload   Total   Spent    Left  Speed\n",
      "100 14257    0 14257    0     0  23841      0 --:--:-- --:--:-- --:--:-- 23801\n",
      "\n"
     ]
    }
   ],
   "source": [
    "###################\n",
    "##### Dataframe\n",
    "###################\n",
    "\n",
    "#upload and download\n",
    "\n",
    "from downloadfromFileIO import saveFromFileIO\n",
    "\"\"\" à executer sur datacamp: (apres copie du code uploadfromdatacamp.py)\n",
    "uploadToFileIO(movies, scifi_movies,  action_movies)\n",
    "\n",
    "\"\"\"\n",
    "\n",
    "tobedownloaded=\"\"\"\n",
    "{pandas.core.frame.DataFrame: {'action_movies.csv': 'https://file.io/aqmekUv46CrP',\n",
    "  'movies.csv': 'https://file.io/l29gpSVb4HAj',\n",
    "  'scifi_movies.csv': 'https://file.io/4mcXpohFDl9w'}}\n",
    "\"\"\"\n",
    "prefixToc='2.1'\n",
    "prefix = saveFromFileIO(tobedownloaded, prefixToc=prefixToc, proxy=\"\")\n",
    "\n",
    "#initialisation\n",
    "\n",
    "import pandas as pd\n",
    "movies = pd.read_csv(prefix+'movies.csv',index_col=0)\n",
    "scifi_movies = pd.read_csv(prefix+'scifi_movies.csv',index_col=0)\n",
    "action_movies = pd.read_csv(prefix+'action_movies.csv',index_col=0)\n"
   ]
  },
  {
   "cell_type": "markdown",
   "metadata": {},
   "source": [
    "### code"
   ]
  },
  {
   "cell_type": "markdown",
   "metadata": {},
   "source": [
    "> Merge `action_movies` and `scifi_movies` tables with a **right join** on `movie_id`. Save the result as `action_scifi`."
   ]
  },
  {
   "cell_type": "code",
   "execution_count": 19,
   "metadata": {
    "ExecuteTime": {
     "end_time": "2021-01-11T09:04:03.681527Z",
     "start_time": "2021-01-11T09:04:03.673545Z"
    }
   },
   "outputs": [],
   "source": [
    "# Merge action_movies to scifi_movies with right join\n",
    "action_scifi = action_movies.merge(scifi_movies, how='right', on='movie_id')"
   ]
  },
  {
   "cell_type": "markdown",
   "metadata": {},
   "source": [
    "> Update the merge to add suffixes, where `'_act'` and `'_sci'` are suffixes for the left and right tables, respectively."
   ]
  },
  {
   "cell_type": "code",
   "execution_count": 21,
   "metadata": {
    "ExecuteTime": {
     "end_time": "2021-01-11T09:04:57.155624Z",
     "start_time": "2021-01-11T09:04:57.147276Z"
    }
   },
   "outputs": [
    {
     "name": "stdout",
     "output_type": "stream",
     "text": [
      "   movie_id genre_act        genre_sci\n",
      "0        11    Action  Science Fiction\n",
      "1        18    Action  Science Fiction\n",
      "2        19       NaN  Science Fiction\n",
      "3        38       NaN  Science Fiction\n",
      "4        62       NaN  Science Fiction\n"
     ]
    }
   ],
   "source": [
    "# Merge action_movies to scifi_movies with right join\n",
    "action_scifi = action_movies.merge(scifi_movies, on='movie_id', how='right',\n",
    "                                   suffixes=['_act', '_sci'])\n",
    "\n",
    "# Print the first few rows of action_scifi to see the structure\n",
    "print(action_scifi.head())"
   ]
  },
  {
   "cell_type": "markdown",
   "metadata": {},
   "source": [
    "> From `action_scifi`, subset only the rows where the `genre_act` column is null."
   ]
  },
  {
   "cell_type": "code",
   "execution_count": 22,
   "metadata": {
    "ExecuteTime": {
     "end_time": "2021-01-11T09:05:52.584104Z",
     "start_time": "2021-01-11T09:05:52.579516Z"
    }
   },
   "outputs": [],
   "source": [
    "# From action_scifi, select only the rows where the genre_act column is null\n",
    "scifi_only = action_scifi[action_scifi['genre_act'].isna()]"
   ]
  },
  {
   "cell_type": "markdown",
   "metadata": {},
   "source": [
    "> -   Merge `movies` and `scifi_only` using the `id` column in the left table and the `movie_id` column in the right table with an inner join."
   ]
  },
  {
   "cell_type": "code",
   "execution_count": 25,
   "metadata": {
    "ExecuteTime": {
     "end_time": "2021-01-11T09:07:10.581010Z",
     "start_time": "2021-01-11T09:07:10.554786Z"
    }
   },
   "outputs": [
    {
     "name": "stdout",
     "output_type": "stream",
     "text": [
      "      id                         title  popularity release_date  movie_id  \\\n",
      "0  18841  The Lost Skeleton of Cadavra    1.680525   2001-09-12     18841   \n",
      "1  26672     The Thief and the Cobbler    2.439184   1993-09-23     26672   \n",
      "2  15301      Twilight Zone: The Movie   12.902975   1983-06-24     15301   \n",
      "3   8452                   The 6th Day   18.447479   2000-11-17      8452   \n",
      "4   1649    Bill & Ted's Bogus Journey   11.349664   1991-07-19      1649   \n",
      "\n",
      "  genre_act        genre_sci  \n",
      "0       NaN  Science Fiction  \n",
      "1       NaN  Science Fiction  \n",
      "2       NaN  Science Fiction  \n",
      "3       NaN  Science Fiction  \n",
      "4       NaN  Science Fiction  \n",
      "(258, 7)\n"
     ]
    }
   ],
   "source": [
    "# Merge the movies and scifi_only tables with an inner join\n",
    "movies_and_scifi_only = movies.merge(scifi_only, left_on='id', right_on='movie_id')\n",
    "\n",
    "# Print the first few rows and shape of movies_and_scifi_only\n",
    "print(movies_and_scifi_only.head())\n",
    "print(movies_and_scifi_only.shape)"
   ]
  },
  {
   "cell_type": "markdown",
   "metadata": {},
   "source": [
    "[Popular genres with right join | Python](https://campus.datacamp.com/courses/joining-data-with-pandas/merging-tables-with-different-join-types?ex=7)\n",
    "\n",
    "> ## Popular genres with right join\n",
    "> \n",
    "> What are the genres of the most popular movies? To answer this question, you need to merge data from the `movies` and `movie_to_genres` tables. In a table called `pop_movies`, the top 10 most popular movies in the `movies` table have been selected. To ensure that you are analyzing all of the popular movies, merge it with the `movie_to_genres` table using a right join. To complete your analysis, count the number of different genres. Also, the two tables can be merged by the movie ID. However, in `pop_movies` that column is called `id`, and in `movies_to_genres` it's called `movie_id`.\n",
    "> \n",
    "> The `pop_movies` and `movie_to_genres` tables have been loaded for you."
   ]
  },
  {
   "cell_type": "markdown",
   "metadata": {
    "heading_collapsed": true
   },
   "source": [
    "### init"
   ]
  },
  {
   "cell_type": "code",
   "execution_count": 26,
   "metadata": {
    "ExecuteTime": {
     "end_time": "2021-01-11T09:08:45.203209Z",
     "start_time": "2021-01-11T09:08:43.754330Z"
    },
    "hidden": true
   },
   "outputs": [
    {
     "name": "stdout",
     "output_type": "stream",
     "text": [
      "Téléchargements à lancer\n",
      "{'pandas.core.frame.DataFrame': {'movie_to_genres.csv': 'https://file.io/cgjWx1iJkE49', 'pop_movies.csv': 'https://file.io/Oncd7QhBhwX7'}}\n",
      "  % Total    % Received % Xferd  Average Speed   Time    Time     Time  Current\n",
      "                                 Dload  Upload   Total   Spent    Left  Speed\n",
      "100  220k    0  220k    0     0   257k      0 --:--:-- --:--:-- --:--:--  257k\n",
      "\n",
      "  % Total    % Received % Xferd  Average Speed   Time    Time     Time  Current\n",
      "                                 Dload  Upload   Total   Spent    Left  Speed\n",
      "100   622    0   622    0     0   1241      0 --:--:-- --:--:-- --:--:--  1241\n",
      "\n"
     ]
    }
   ],
   "source": [
    "###################\n",
    "##### Dataframe\n",
    "###################\n",
    "\n",
    "#upload and download\n",
    "\n",
    "from downloadfromFileIO import saveFromFileIO\n",
    "\"\"\" à executer sur datacamp: (apres copie du code uploadfromdatacamp.py)\n",
    "uploadToFileIO(pop_movies , movie_to_genres)\n",
    "\n",
    "\"\"\"\n",
    "\n",
    "tobedownloaded=\"\"\"\n",
    "{pandas.core.frame.DataFrame: {'movie_to_genres.csv': 'https://file.io/cgjWx1iJkE49',\n",
    "  'pop_movies.csv': 'https://file.io/Oncd7QhBhwX7'}}\n",
    "\"\"\"\n",
    "prefixToc='2.2'\n",
    "prefix = saveFromFileIO(tobedownloaded, prefixToc=prefixToc, proxy=\"\")\n",
    "\n",
    "#initialisation\n",
    "\n",
    "import pandas as pd\n",
    "pop_movies = pd.read_csv(prefix+'pop_movies.csv',index_col=0)\n",
    "movie_to_genres = pd.read_csv(prefix+'movie_to_genres.csv',index_col=0)\n"
   ]
  },
  {
   "cell_type": "markdown",
   "metadata": {},
   "source": [
    "### code"
   ]
  },
  {
   "cell_type": "markdown",
   "metadata": {},
   "source": [
    "> -   Merge `movie_to_genres` and `pop_movies` using a right join. Save the results as `genres_movies`.\n",
    "> -   Group `genres_movies` by `genre` and count the number of `id` values."
   ]
  },
  {
   "cell_type": "code",
   "execution_count": 28,
   "metadata": {
    "ExecuteTime": {
     "end_time": "2021-01-11T09:10:26.491068Z",
     "start_time": "2021-01-11T09:10:26.484860Z"
    }
   },
   "outputs": [],
   "source": [
    "import matplotlib.pyplot as plt"
   ]
  },
  {
   "cell_type": "code",
   "execution_count": 29,
   "metadata": {
    "ExecuteTime": {
     "end_time": "2021-01-11T09:10:26.850512Z",
     "start_time": "2021-01-11T09:10:26.739775Z"
    }
   },
   "outputs": [
    {
     "data": {
      "image/png": "[encoded data removed]",
      "text/plain": [
       "<Figure size 432x288 with 1 Axes>"
      ]
     },
     "metadata": {
      "needs_background": "light"
     },
     "output_type": "display_data"
    }
   ],
   "source": [
    "# Use right join to merge the movie_to_genres and pop_movies tables\n",
    "genres_movies = movie_to_genres.merge(pop_movies, how='right', \n",
    "                                      left_on='movie_id', \n",
    "                                      right_on='id')\n",
    "\n",
    "# Count the number of genres\n",
    "genre_count = genres_movies.groupby('genre').agg({'id':'count'})\n",
    "\n",
    "# Plot a bar chart of the genre_count\n",
    "genre_count.plot(kind='bar')\n",
    "plt.show()"
   ]
  },
  {
   "attachments": {
    "image.png": {
     "image/png": "[encoded data removed]"
    }
   },
   "cell_type": "markdown",
   "metadata": {},
   "source": [
    "[Using outer join to select actors | Python](https://campus.datacamp.com/courses/joining-data-with-pandas/merging-tables-with-different-join-types?ex=8)\n",
    "\n",
    "> ## Using outer join to select actors\n",
    "> \n",
    "> One cool aspect of using an outer join is that, because it returns all rows from both merged tables and null where they do not match, you can use it to find rows that do not have a match in the other table. To try for yourself, you have been given two tables with a list of actors from two popular movies: _Iron Man 1_ and _Iron Man 2_. Most of the actors played in both movies. Use an outer join to find actors who **_did not_** act in both movies.\n",
    "> \n",
    "> The _Iron Man 1_ table is called `iron_1_actors`, and _Iron Man 2_ table is called `iron_2_actors`. Both tables have been loaded for you and a few rows printed so you can see the structure.\n",
    "![image.png](attachment:image.png)"
   ]
  },
  {
   "cell_type": "markdown",
   "metadata": {
    "heading_collapsed": true
   },
   "source": [
    "### init"
   ]
  },
  {
   "cell_type": "code",
   "execution_count": 30,
   "metadata": {
    "ExecuteTime": {
     "end_time": "2021-01-11T09:12:13.223917Z",
     "start_time": "2021-01-11T09:12:12.030971Z"
    },
    "hidden": true
   },
   "outputs": [
    {
     "name": "stdout",
     "output_type": "stream",
     "text": [
      "Téléchargements à lancer\n",
      "{'pandas.core.frame.DataFrame': {'iron_1_actors.csv': 'https://file.io/SShwYkusjLve', 'iron_2_actors.csv': 'https://file.io/wpAZabxCdjGO'}}\n",
      "  % Total    % Received % Xferd  Average Speed   Time    Time     Time  Current\n",
      "                                 Dload  Upload   Total   Spent    Left  Speed\n",
      "100  3602    0  3602    0     0   6221      0 --:--:-- --:--:-- --:--:--  6210\n",
      "\n",
      "  % Total    % Received % Xferd  Average Speed   Time    Time     Time  Current\n",
      "                                 Dload  Upload   Total   Spent    Left  Speed\n",
      "100  5583    0  5583    0     0  10593      0 --:--:-- --:--:-- --:--:-- 10573\n",
      "\n"
     ]
    }
   ],
   "source": [
    "###################\n",
    "##### Dataframe\n",
    "###################\n",
    "\n",
    "#upload and download\n",
    "\n",
    "from downloadfromFileIO import saveFromFileIO\n",
    "\"\"\" à executer sur datacamp: (apres copie du code uploadfromdatacamp.py)\n",
    "uploadToFileIO(iron_1_actors , iron_2_actors)\n",
    "\n",
    "\"\"\"\n",
    "\n",
    "tobedownloaded=\"\"\"\n",
    "{pandas.core.frame.DataFrame: {'iron_1_actors.csv': 'https://file.io/SShwYkusjLve',\n",
    "  'iron_2_actors.csv': 'https://file.io/wpAZabxCdjGO'}}\n",
    "\"\"\"\n",
    "prefixToc='2.3'\n",
    "prefix = saveFromFileIO(tobedownloaded, prefixToc=prefixToc, proxy=\"\")\n",
    "\n",
    "#initialisation\n",
    "\n",
    "import pandas as pd\n",
    "iron_1_actors = pd.read_csv(prefix+'iron_1_actors.csv',index_col=0)\n",
    "iron_2_actors = pd.read_csv(prefix+'iron_2_actors.csv',index_col=0)\n"
   ]
  },
  {
   "cell_type": "markdown",
   "metadata": {},
   "source": [
    "### code"
   ]
  },
  {
   "cell_type": "markdown",
   "metadata": {},
   "source": [
    "> -   Save to `iron_1_and_2` the merge of `iron_1_actors` (left) with `iron_2_actors` tables with an outer join on the `id` column, and set suffixes to `('_1','_2')`.\n",
    "> -   Create an index that returns `True` if `name_1` or `name_2` are null, and `False` otherwise."
   ]
  },
  {
   "cell_type": "code",
   "execution_count": 32,
   "metadata": {
    "ExecuteTime": {
     "end_time": "2021-01-11T09:15:16.682169Z",
     "start_time": "2021-01-11T09:15:16.672628Z"
    }
   },
   "outputs": [
    {
     "name": "stdout",
     "output_type": "stream",
     "text": [
      "                   character_1      id           name_1 character_2 name_2\n",
      "0                       Yinsen   17857       Shaun Toub         NaN    NaN\n",
      "2  Obadiah Stane / Iron Monger    1229     Jeff Bridges         NaN    NaN\n",
      "3                  War Machine   18288  Terrence Howard         NaN    NaN\n",
      "5                         Raza   57452      Faran Tahir         NaN    NaN\n",
      "8                   Abu Bakaar  173810    Sayed Badreya         NaN    NaN\n"
     ]
    }
   ],
   "source": [
    "# Merge iron_1_actors to iron_2_actors on id with outer join using suffixes\n",
    "iron_1_and_2 = iron_1_actors.merge(iron_2_actors,\n",
    "                                     on='id',\n",
    "                                     how='outer',\n",
    "                                     suffixes=['_1', '_2'])\n",
    "\n",
    "# Create an index that returns true if name_1 or name_2 are null\n",
    "m = ((iron_1_and_2['name_1'].isna()) | \n",
    "     (iron_1_and_2['name_2'].isna()))\n",
    "\n",
    "# Print the first few rows of iron_1_and_2\n",
    "print(iron_1_and_2[m].head())"
   ]
  },
  {
   "cell_type": "markdown",
   "metadata": {},
   "source": [
    "# Merging a table to itself\n",
    "\n",
    "```python\n",
    "\n",
    "# Merging a table to itself\n",
    "original_sequels = sequels.merge(sequels, left_on='sequel', right_on='id',\n",
    "suffixes=('_org','_seq'))\n",
    "\n",
    "```"
   ]
  },
  {
   "cell_type": "markdown",
   "metadata": {},
   "source": [
    "[Self join | Python](https://campus.datacamp.com/courses/joining-data-with-pandas/merging-tables-with-different-join-types?ex=10)\n",
    "\n",
    "> ## Self join\n",
    "> \n",
    "> Merging a table to itself can be useful when you want to compare values in a column to other values in the same column. In this exercise, you will practice this by creating a table that for each movie will list the movie director and a member of the crew on one row. You have been given a table called `crews`, which has columns `id`, `job`, and `name`. First, merge the table to itself using the movie ID. This merge will give you a larger table where for each movie, every job is matched against each other. Then select only those rows with a director in the left table, and avoid having a row where the director's job is listed in both the left and right tables. This filtering will remove job combinations that aren't with the director.\n",
    "> \n",
    "> The `crews` table has been loaded for you."
   ]
  },
  {
   "cell_type": "markdown",
   "metadata": {
    "heading_collapsed": true
   },
   "source": [
    "### init"
   ]
  },
  {
   "cell_type": "code",
   "execution_count": 33,
   "metadata": {
    "ExecuteTime": {
     "end_time": "2021-01-11T09:20:57.074310Z",
     "start_time": "2021-01-11T09:20:55.757735Z"
    },
    "hidden": true
   },
   "outputs": [
    {
     "name": "stdout",
     "output_type": "stream",
     "text": [
      "Téléchargements à lancer\n",
      "{'pandas.core.frame.DataFrame': {'crews.csv': 'https://file.io/80RSaOa3YlhE'}}\n",
      "  % Total    % Received % Xferd  Average Speed   Time    Time     Time  Current\n",
      "                                 Dload  Upload   Total   Spent    Left  Speed\n",
      "100 1700k    0 1700k    0     0  1387k      0 --:--:--  0:00:01 --:--:-- 1387k\n",
      "\n"
     ]
    }
   ],
   "source": [
    "###################\n",
    "##### Dataframe\n",
    "###################\n",
    "\n",
    "#upload and download\n",
    "\n",
    "from downloadfromFileIO import saveFromFileIO\n",
    "\"\"\" à executer sur datacamp: (apres copie du code uploadfromdatacamp.py)\n",
    "uploadToFileIO(crews)\n",
    "\n",
    "\"\"\"\n",
    "\n",
    "tobedownloaded=\"\"\"\n",
    "{pandas.core.frame.DataFrame: {'crews.csv': 'https://file.io/80RSaOa3YlhE'}}\n",
    "\"\"\"\n",
    "prefixToc='3.1'\n",
    "prefix = saveFromFileIO(tobedownloaded, prefixToc=prefixToc, proxy=\"\")\n",
    "\n",
    "#initialisation\n",
    "\n",
    "import pandas as pd\n",
    "crews = pd.read_csv(prefix+'crews.csv',index_col=0)\n"
   ]
  },
  {
   "cell_type": "markdown",
   "metadata": {},
   "source": [
    "### code"
   ]
  },
  {
   "cell_type": "code",
   "execution_count": 34,
   "metadata": {
    "ExecuteTime": {
     "end_time": "2021-01-11T09:21:14.486147Z",
     "start_time": "2021-01-11T09:21:14.480033Z"
    }
   },
   "outputs": [
    {
     "data": {
      "text/html": [
       "<div>\n",
       "<style scoped>\n",
       "    .dataframe tbody tr th:only-of-type {\n",
       "        vertical-align: middle;\n",
       "    }\n",
       "\n",
       "    .dataframe tbody tr th {\n",
       "        vertical-align: top;\n",
       "    }\n",
       "\n",
       "    .dataframe thead th {\n",
       "        text-align: right;\n",
       "    }\n",
       "</style>\n",
       "<table border=\"1\" class=\"dataframe\">\n",
       "  <thead>\n",
       "    <tr style=\"text-align: right;\">\n",
       "      <th></th>\n",
       "      <th>id</th>\n",
       "      <th>job</th>\n",
       "      <th>name</th>\n",
       "    </tr>\n",
       "  </thead>\n",
       "  <tbody>\n",
       "    <tr>\n",
       "      <th>0</th>\n",
       "      <td>19995</td>\n",
       "      <td>Editor</td>\n",
       "      <td>Stephen E. Rivkin</td>\n",
       "    </tr>\n",
       "    <tr>\n",
       "      <th>2</th>\n",
       "      <td>19995</td>\n",
       "      <td>Sound Designer</td>\n",
       "      <td>Christopher Boyes</td>\n",
       "    </tr>\n",
       "    <tr>\n",
       "      <th>4</th>\n",
       "      <td>19995</td>\n",
       "      <td>Casting</td>\n",
       "      <td>Mali Finn</td>\n",
       "    </tr>\n",
       "    <tr>\n",
       "      <th>6</th>\n",
       "      <td>19995</td>\n",
       "      <td>Director</td>\n",
       "      <td>James Cameron</td>\n",
       "    </tr>\n",
       "    <tr>\n",
       "      <th>7</th>\n",
       "      <td>19995</td>\n",
       "      <td>Writer</td>\n",
       "      <td>James Cameron</td>\n",
       "    </tr>\n",
       "  </tbody>\n",
       "</table>\n",
       "</div>"
      ],
      "text/plain": [
       "      id             job               name\n",
       "0  19995          Editor  Stephen E. Rivkin\n",
       "2  19995  Sound Designer  Christopher Boyes\n",
       "4  19995         Casting          Mali Finn\n",
       "6  19995        Director      James Cameron\n",
       "7  19995          Writer      James Cameron"
      ]
     },
     "execution_count": 34,
     "metadata": {},
     "output_type": "execute_result"
    }
   ],
   "source": [
    "crews.head()"
   ]
  },
  {
   "cell_type": "markdown",
   "metadata": {},
   "source": [
    "> To a variable called `crews_self_merged`, merge the `crews` table to itself on the `id` column using an inner join, setting the suffixes to `'_dir'` and `'_crew'` for the left and right tables respectively."
   ]
  },
  {
   "cell_type": "code",
   "execution_count": 35,
   "metadata": {
    "ExecuteTime": {
     "end_time": "2021-01-11T09:22:20.182858Z",
     "start_time": "2021-01-11T09:22:20.142322Z"
    }
   },
   "outputs": [],
   "source": [
    "# Merge the crews table to itself\n",
    "crews_self_merged = crews.merge(crews, on='id', suffixes=['_dir', '_crew'])"
   ]
  },
  {
   "cell_type": "code",
   "execution_count": 36,
   "metadata": {
    "ExecuteTime": {
     "end_time": "2021-01-11T09:22:27.072477Z",
     "start_time": "2021-01-11T09:22:27.054848Z"
    }
   },
   "outputs": [
    {
     "data": {
      "text/html": [
       "<div>\n",
       "<style scoped>\n",
       "    .dataframe tbody tr th:only-of-type {\n",
       "        vertical-align: middle;\n",
       "    }\n",
       "\n",
       "    .dataframe tbody tr th {\n",
       "        vertical-align: top;\n",
       "    }\n",
       "\n",
       "    .dataframe thead th {\n",
       "        text-align: right;\n",
       "    }\n",
       "</style>\n",
       "<table border=\"1\" class=\"dataframe\">\n",
       "  <thead>\n",
       "    <tr style=\"text-align: right;\">\n",
       "      <th></th>\n",
       "      <th>id</th>\n",
       "      <th>job_dir</th>\n",
       "      <th>name_dir</th>\n",
       "      <th>job_crew</th>\n",
       "      <th>name_crew</th>\n",
       "    </tr>\n",
       "  </thead>\n",
       "  <tbody>\n",
       "    <tr>\n",
       "      <th>0</th>\n",
       "      <td>19995</td>\n",
       "      <td>Editor</td>\n",
       "      <td>Stephen E. Rivkin</td>\n",
       "      <td>Editor</td>\n",
       "      <td>Stephen E. Rivkin</td>\n",
       "    </tr>\n",
       "    <tr>\n",
       "      <th>1</th>\n",
       "      <td>19995</td>\n",
       "      <td>Editor</td>\n",
       "      <td>Stephen E. Rivkin</td>\n",
       "      <td>Sound Designer</td>\n",
       "      <td>Christopher Boyes</td>\n",
       "    </tr>\n",
       "    <tr>\n",
       "      <th>2</th>\n",
       "      <td>19995</td>\n",
       "      <td>Editor</td>\n",
       "      <td>Stephen E. Rivkin</td>\n",
       "      <td>Casting</td>\n",
       "      <td>Mali Finn</td>\n",
       "    </tr>\n",
       "    <tr>\n",
       "      <th>3</th>\n",
       "      <td>19995</td>\n",
       "      <td>Editor</td>\n",
       "      <td>Stephen E. Rivkin</td>\n",
       "      <td>Director</td>\n",
       "      <td>James Cameron</td>\n",
       "    </tr>\n",
       "    <tr>\n",
       "      <th>4</th>\n",
       "      <td>19995</td>\n",
       "      <td>Editor</td>\n",
       "      <td>Stephen E. Rivkin</td>\n",
       "      <td>Writer</td>\n",
       "      <td>James Cameron</td>\n",
       "    </tr>\n",
       "  </tbody>\n",
       "</table>\n",
       "</div>"
      ],
      "text/plain": [
       "      id job_dir           name_dir        job_crew          name_crew\n",
       "0  19995  Editor  Stephen E. Rivkin          Editor  Stephen E. Rivkin\n",
       "1  19995  Editor  Stephen E. Rivkin  Sound Designer  Christopher Boyes\n",
       "2  19995  Editor  Stephen E. Rivkin         Casting          Mali Finn\n",
       "3  19995  Editor  Stephen E. Rivkin        Director      James Cameron\n",
       "4  19995  Editor  Stephen E. Rivkin          Writer      James Cameron"
      ]
     },
     "execution_count": 36,
     "metadata": {},
     "output_type": "execute_result"
    }
   ],
   "source": [
    "crews_self_merged.head()"
   ]
  },
  {
   "cell_type": "markdown",
   "metadata": {},
   "source": [
    "> Create a Boolean index, named `boolean_filter`, that selects rows from the left table with the _job_ of `'Director'` and avoids rows with the _job_ of `'Director'` in the right table."
   ]
  },
  {
   "cell_type": "code",
   "execution_count": 37,
   "metadata": {
    "ExecuteTime": {
     "end_time": "2021-01-11T09:23:31.543478Z",
     "start_time": "2021-01-11T09:23:31.447616Z"
    }
   },
   "outputs": [],
   "source": [
    "# Create a Boolean index to select the appropriate\n",
    "boolean_filter = ((crews_self_merged['job_dir'] == 'Director') & \n",
    "     (crews_self_merged['job_crew'] != 'Director'))\n",
    "direct_crews = crews_self_merged[boolean_filter]"
   ]
  },
  {
   "cell_type": "code",
   "execution_count": 38,
   "metadata": {
    "ExecuteTime": {
     "end_time": "2021-01-11T09:23:37.625437Z",
     "start_time": "2021-01-11T09:23:37.605777Z"
    }
   },
   "outputs": [
    {
     "data": {
      "text/html": [
       "<div>\n",
       "<style scoped>\n",
       "    .dataframe tbody tr th:only-of-type {\n",
       "        vertical-align: middle;\n",
       "    }\n",
       "\n",
       "    .dataframe tbody tr th {\n",
       "        vertical-align: top;\n",
       "    }\n",
       "\n",
       "    .dataframe thead th {\n",
       "        text-align: right;\n",
       "    }\n",
       "</style>\n",
       "<table border=\"1\" class=\"dataframe\">\n",
       "  <thead>\n",
       "    <tr style=\"text-align: right;\">\n",
       "      <th></th>\n",
       "      <th>id</th>\n",
       "      <th>job_dir</th>\n",
       "      <th>name_dir</th>\n",
       "      <th>job_crew</th>\n",
       "      <th>name_crew</th>\n",
       "    </tr>\n",
       "  </thead>\n",
       "  <tbody>\n",
       "    <tr>\n",
       "      <th>156</th>\n",
       "      <td>19995</td>\n",
       "      <td>Director</td>\n",
       "      <td>James Cameron</td>\n",
       "      <td>Editor</td>\n",
       "      <td>Stephen E. Rivkin</td>\n",
       "    </tr>\n",
       "    <tr>\n",
       "      <th>157</th>\n",
       "      <td>19995</td>\n",
       "      <td>Director</td>\n",
       "      <td>James Cameron</td>\n",
       "      <td>Sound Designer</td>\n",
       "      <td>Christopher Boyes</td>\n",
       "    </tr>\n",
       "    <tr>\n",
       "      <th>158</th>\n",
       "      <td>19995</td>\n",
       "      <td>Director</td>\n",
       "      <td>James Cameron</td>\n",
       "      <td>Casting</td>\n",
       "      <td>Mali Finn</td>\n",
       "    </tr>\n",
       "    <tr>\n",
       "      <th>160</th>\n",
       "      <td>19995</td>\n",
       "      <td>Director</td>\n",
       "      <td>James Cameron</td>\n",
       "      <td>Writer</td>\n",
       "      <td>James Cameron</td>\n",
       "    </tr>\n",
       "    <tr>\n",
       "      <th>161</th>\n",
       "      <td>19995</td>\n",
       "      <td>Director</td>\n",
       "      <td>James Cameron</td>\n",
       "      <td>Set Designer</td>\n",
       "      <td>Richard F. Mays</td>\n",
       "    </tr>\n",
       "  </tbody>\n",
       "</table>\n",
       "</div>"
      ],
      "text/plain": [
       "        id   job_dir       name_dir        job_crew          name_crew\n",
       "156  19995  Director  James Cameron          Editor  Stephen E. Rivkin\n",
       "157  19995  Director  James Cameron  Sound Designer  Christopher Boyes\n",
       "158  19995  Director  James Cameron         Casting          Mali Finn\n",
       "160  19995  Director  James Cameron          Writer      James Cameron\n",
       "161  19995  Director  James Cameron    Set Designer    Richard F. Mays"
      ]
     },
     "execution_count": 38,
     "metadata": {},
     "output_type": "execute_result"
    }
   ],
   "source": [
    "direct_crews.head()"
   ]
  },
  {
   "cell_type": "markdown",
   "metadata": {},
   "source": [
    "> Use the `.head()` method to print the first few rows of `direct_crews`."
   ]
  },
  {
   "cell_type": "code",
   "execution_count": 39,
   "metadata": {
    "ExecuteTime": {
     "end_time": "2021-01-11T09:24:10.116925Z",
     "start_time": "2021-01-11T09:24:10.111840Z"
    }
   },
   "outputs": [
    {
     "name": "stdout",
     "output_type": "stream",
     "text": [
      "        id   job_dir       name_dir        job_crew          name_crew\n",
      "156  19995  Director  James Cameron          Editor  Stephen E. Rivkin\n",
      "157  19995  Director  James Cameron  Sound Designer  Christopher Boyes\n",
      "158  19995  Director  James Cameron         Casting          Mali Finn\n",
      "160  19995  Director  James Cameron          Writer      James Cameron\n",
      "161  19995  Director  James Cameron    Set Designer    Richard F. Mays\n"
     ]
    }
   ],
   "source": [
    "# Print the first few rows of direct_crews\n",
    "print(direct_crews.head())"
   ]
  },
  {
   "cell_type": "markdown",
   "metadata": {},
   "source": [
    "# Merging on indexes\n",
    "\n",
    "```python\n",
    "\n",
    "# Setting an index\n",
    "movies = pd.read_csv('tmdb_movies.csv', index_col=['id'])\n",
    "\n",
    "# Merging on index\n",
    "movies_taglines = movies.merge(taglines, on='id', how='left')\n",
    "\n",
    "# MultiIndex merge\n",
    "samuel_casts = samuel.merge(casts, on=['movie_id','cast_id'])\n",
    "\n",
    "# Index merge with left_on and right_on\n",
    "movies_genres = movies.merge(movie_to_genres, left_on='id', left_index=True,\n",
    "right_on='movie_id', right_index=True)\n",
    "```"
   ]
  },
  {
   "cell_type": "markdown",
   "metadata": {},
   "source": [
    "[Index merge for movie ratings | Python](https://campus.datacamp.com/courses/joining-data-with-pandas/merging-tables-with-different-join-types?ex=13)\n",
    "\n",
    "> ## Index merge for movie ratings\n",
    "> \n",
    "> To practice merging on indexes, you will merge `movies` and a table called `ratings` that holds info about movie ratings. Make sure your merge returns **all** of the rows from the `movies` table and not all the rows of `ratings` table need to be included in the result.\n",
    "> \n",
    "> The `movies` and `ratings` tables have been loaded for you."
   ]
  },
  {
   "cell_type": "markdown",
   "metadata": {},
   "source": [
    "### init\n"
   ]
  },
  {
   "cell_type": "code",
   "execution_count": 40,
   "metadata": {
    "ExecuteTime": {
     "end_time": "2021-01-11T09:28:26.239867Z",
     "start_time": "2021-01-11T09:28:24.637091Z"
    }
   },
   "outputs": [
    {
     "name": "stdout",
     "output_type": "stream",
     "text": [
      "Téléchargements à lancer\n",
      "{'pandas.core.frame.DataFrame': {'movies.csv': 'https://file.io/wSWt80u8FPmk', 'ratings.csv': 'https://file.io/MO6LpmMIVaLb'}}\n",
      "  % Total    % Received % Xferd  Average Speed   Time    Time     Time  Current\n",
      "                                 Dload  Upload   Total   Spent    Left  Speed\n",
      "100  211k    0  211k    0     0   252k      0 --:--:-- --:--:-- --:--:--  252k\n",
      "\n",
      "  % Total    % Received % Xferd  Average Speed   Time    Time     Time  Current\n",
      "                                 Dload  Upload   Total   Spent    Left  Speed\n",
      "100 74376    0 74376    0     0   101k      0 --:--:-- --:--:-- --:--:--  101k\n",
      "\n"
     ]
    }
   ],
   "source": [
    "###################\n",
    "##### Dataframe\n",
    "###################\n",
    "\n",
    "#upload and download\n",
    "\n",
    "from downloadfromFileIO import saveFromFileIO\n",
    "\"\"\" à executer sur datacamp: (apres copie du code uploadfromdatacamp.py)\n",
    "uploadToFileIO(movies , ratings)\n",
    "\n",
    "\"\"\"\n",
    "\n",
    "tobedownloaded=\"\"\"\n",
    "{pandas.core.frame.DataFrame: {'movies.csv': 'https://file.io/wSWt80u8FPmk',\n",
    "  'ratings.csv': 'https://file.io/MO6LpmMIVaLb'}}\n",
    "\"\"\"\n",
    "prefixToc='4.1'\n",
    "prefix = saveFromFileIO(tobedownloaded, prefixToc=prefixToc, proxy=\"\")\n",
    "\n",
    "#initialisation\n",
    "\n",
    "import pandas as pd\n",
    "movies = pd.read_csv(prefix+'movies.csv',index_col=0)\n",
    "ratings = pd.read_csv(prefix+'ratings.csv',index_col=0)\n"
   ]
  },
  {
   "cell_type": "markdown",
   "metadata": {},
   "source": [
    "### code"
   ]
  },
  {
   "cell_type": "markdown",
   "metadata": {},
   "source": [
    "> Merge `movies` and `ratings` on the index and save to a variable called `movies_ratings`, ensuring that all of the rows from the `movies` table are returned."
   ]
  },
  {
   "cell_type": "code",
   "execution_count": 42,
   "metadata": {
    "ExecuteTime": {
     "end_time": "2021-01-11T09:29:20.112632Z",
     "start_time": "2021-01-11T09:29:20.095227Z"
    }
   },
   "outputs": [
    {
     "name": "stdout",
     "output_type": "stream",
     "text": [
      "                      title  popularity release_date  vote_average  vote_count\n",
      "id                                                                            \n",
      "257            Oliver Twist   20.415572   2005-09-23           6.7       274.0\n",
      "14290  Better Luck Tomorrow    3.877036   2002-01-12           6.5        27.0\n",
      "38365             Grown Ups   38.864027   2010-06-24           6.0      1705.0\n",
      "9672               Infamous    3.680896   2006-11-16           6.4        60.0\n",
      "12819       Alpha and Omega   12.300789   2010-09-17           5.3       124.0\n"
     ]
    }
   ],
   "source": [
    "# Merge to the movies table the ratings table on the index\n",
    "movies_ratings = movies.merge(ratings, on='id')\n",
    "\n",
    "# Print the first few rows of movies_ratings\n",
    "print(movies_ratings.head())"
   ]
  },
  {
   "cell_type": "markdown",
   "metadata": {},
   "source": [
    "[Do sequels earn more? | Python](https://campus.datacamp.com/courses/joining-data-with-pandas/merging-tables-with-different-join-types?ex=14)\n",
    "\n",
    "> ## Do sequels earn more?\n",
    "> \n",
    "> It is time to put together many of the aspects that you have learned in this chapter. In this exercise, you'll find out which movie sequels earned the most compared to the original movie. To answer this question, you will merge a modified version of the `sequels` and `financials` tables where their index is the movie ID. You will need to choose a merge type that will return all of the rows from the `sequels` table and not all the rows of `financials` table need to be included in the result. From there, you will join the resulting table to itself so that you can compare the revenue values of the original movie to the sequel. Next, you will calculate the difference between the two revenues and sort the resulting dataset.\n",
    "> \n",
    "> The `sequels` and `financials` tables have been provided."
   ]
  },
  {
   "cell_type": "markdown",
   "metadata": {
    "heading_collapsed": true
   },
   "source": [
    "### init"
   ]
  },
  {
   "cell_type": "code",
   "execution_count": 43,
   "metadata": {
    "ExecuteTime": {
     "end_time": "2021-01-11T09:30:31.782390Z",
     "start_time": "2021-01-11T09:30:30.013779Z"
    },
    "hidden": true
   },
   "outputs": [
    {
     "name": "stdout",
     "output_type": "stream",
     "text": [
      "Téléchargements à lancer\n",
      "{'pandas.core.frame.DataFrame': {'financials.csv': 'https://file.io/PfTWnRDG6NGD', 'sequels.csv': 'https://file.io/O1FAwt85wa5a'}}\n",
      "  % Total    % Received % Xferd  Average Speed   Time    Time     Time  Current\n",
      "                                 Dload  Upload   Total   Spent    Left  Speed\n",
      "100 82373    0 82373    0     0  90519      0 --:--:-- --:--:-- --:--:-- 90420\n",
      "\n",
      "  % Total    % Received % Xferd  Average Speed   Time    Time     Time  Current\n",
      "                                 Dload  Upload   Total   Spent    Left  Speed\n",
      "100  122k    0  122k    0     0   157k      0 --:--:-- --:--:-- --:--:--  157k\n",
      "\n"
     ]
    }
   ],
   "source": [
    "###################\n",
    "##### Dataframe\n",
    "###################\n",
    "\n",
    "#upload and download\n",
    "\n",
    "from downloadfromFileIO import saveFromFileIO\n",
    "\"\"\" à executer sur datacamp: (apres copie du code uploadfromdatacamp.py)\n",
    "uploadToFileIO(sequels , financials)\n",
    "\n",
    "\"\"\"\n",
    "\n",
    "tobedownloaded=\"\"\"\n",
    "{pandas.core.frame.DataFrame: {'financials.csv': 'https://file.io/PfTWnRDG6NGD',\n",
    "  'sequels.csv': 'https://file.io/O1FAwt85wa5a'}}\n",
    "\"\"\"\n",
    "prefixToc='4.2'\n",
    "prefix = saveFromFileIO(tobedownloaded, prefixToc=prefixToc, proxy=\"\")\n",
    "\n",
    "#initialisation\n",
    "\n",
    "import pandas as pd\n",
    "sequels = pd.read_csv(prefix+'sequels.csv',index_col=0)\n",
    "financials = pd.read_csv(prefix+'financials.csv',index_col=0)\n"
   ]
  },
  {
   "cell_type": "markdown",
   "metadata": {},
   "source": [
    "### code"
   ]
  },
  {
   "cell_type": "markdown",
   "metadata": {},
   "source": [
    "> -   With the `sequels` table on the left, merge to it the `financials` table on index named `id`, ensuring that all the rows from the `sequels` are returned and some rows from the other table may not be returned, Save the results to `sequels_fin`."
   ]
  },
  {
   "cell_type": "code",
   "execution_count": 44,
   "metadata": {
    "ExecuteTime": {
     "end_time": "2021-01-11T09:31:28.232206Z",
     "start_time": "2021-01-11T09:31:28.223420Z"
    }
   },
   "outputs": [
    {
     "data": {
      "text/html": [
       "<div>\n",
       "<style scoped>\n",
       "    .dataframe tbody tr th:only-of-type {\n",
       "        vertical-align: middle;\n",
       "    }\n",
       "\n",
       "    .dataframe tbody tr th {\n",
       "        vertical-align: top;\n",
       "    }\n",
       "\n",
       "    .dataframe thead th {\n",
       "        text-align: right;\n",
       "    }\n",
       "</style>\n",
       "<table border=\"1\" class=\"dataframe\">\n",
       "  <thead>\n",
       "    <tr style=\"text-align: right;\">\n",
       "      <th></th>\n",
       "      <th>title</th>\n",
       "      <th>sequel</th>\n",
       "    </tr>\n",
       "    <tr>\n",
       "      <th>id</th>\n",
       "      <th></th>\n",
       "      <th></th>\n",
       "    </tr>\n",
       "  </thead>\n",
       "  <tbody>\n",
       "    <tr>\n",
       "      <th>19995</th>\n",
       "      <td>Avatar</td>\n",
       "      <td>NaN</td>\n",
       "    </tr>\n",
       "    <tr>\n",
       "      <th>862</th>\n",
       "      <td>Toy Story</td>\n",
       "      <td>863.0</td>\n",
       "    </tr>\n",
       "    <tr>\n",
       "      <th>863</th>\n",
       "      <td>Toy Story 2</td>\n",
       "      <td>10193.0</td>\n",
       "    </tr>\n",
       "    <tr>\n",
       "      <th>597</th>\n",
       "      <td>Titanic</td>\n",
       "      <td>NaN</td>\n",
       "    </tr>\n",
       "    <tr>\n",
       "      <th>24428</th>\n",
       "      <td>The Avengers</td>\n",
       "      <td>NaN</td>\n",
       "    </tr>\n",
       "  </tbody>\n",
       "</table>\n",
       "</div>"
      ],
      "text/plain": [
       "              title   sequel\n",
       "id                          \n",
       "19995        Avatar      NaN\n",
       "862       Toy Story    863.0\n",
       "863     Toy Story 2  10193.0\n",
       "597         Titanic      NaN\n",
       "24428  The Avengers      NaN"
      ]
     },
     "execution_count": 44,
     "metadata": {},
     "output_type": "execute_result"
    }
   ],
   "source": [
    "sequels.head()"
   ]
  },
  {
   "cell_type": "code",
   "execution_count": 45,
   "metadata": {
    "ExecuteTime": {
     "end_time": "2021-01-11T09:31:38.847540Z",
     "start_time": "2021-01-11T09:31:38.839195Z"
    }
   },
   "outputs": [
    {
     "data": {
      "text/html": [
       "<div>\n",
       "<style scoped>\n",
       "    .dataframe tbody tr th:only-of-type {\n",
       "        vertical-align: middle;\n",
       "    }\n",
       "\n",
       "    .dataframe tbody tr th {\n",
       "        vertical-align: top;\n",
       "    }\n",
       "\n",
       "    .dataframe thead th {\n",
       "        text-align: right;\n",
       "    }\n",
       "</style>\n",
       "<table border=\"1\" class=\"dataframe\">\n",
       "  <thead>\n",
       "    <tr style=\"text-align: right;\">\n",
       "      <th></th>\n",
       "      <th>budget</th>\n",
       "      <th>revenue</th>\n",
       "    </tr>\n",
       "    <tr>\n",
       "      <th>id</th>\n",
       "      <th></th>\n",
       "      <th></th>\n",
       "    </tr>\n",
       "  </thead>\n",
       "  <tbody>\n",
       "    <tr>\n",
       "      <th>19995</th>\n",
       "      <td>237000000</td>\n",
       "      <td>2.787965e+09</td>\n",
       "    </tr>\n",
       "    <tr>\n",
       "      <th>285</th>\n",
       "      <td>300000000</td>\n",
       "      <td>9.610000e+08</td>\n",
       "    </tr>\n",
       "    <tr>\n",
       "      <th>206647</th>\n",
       "      <td>245000000</td>\n",
       "      <td>8.806746e+08</td>\n",
       "    </tr>\n",
       "    <tr>\n",
       "      <th>49026</th>\n",
       "      <td>250000000</td>\n",
       "      <td>1.084939e+09</td>\n",
       "    </tr>\n",
       "    <tr>\n",
       "      <th>49529</th>\n",
       "      <td>260000000</td>\n",
       "      <td>2.841391e+08</td>\n",
       "    </tr>\n",
       "  </tbody>\n",
       "</table>\n",
       "</div>"
      ],
      "text/plain": [
       "           budget       revenue\n",
       "id                             \n",
       "19995   237000000  2.787965e+09\n",
       "285     300000000  9.610000e+08\n",
       "206647  245000000  8.806746e+08\n",
       "49026   250000000  1.084939e+09\n",
       "49529   260000000  2.841391e+08"
      ]
     },
     "execution_count": 45,
     "metadata": {},
     "output_type": "execute_result"
    }
   ],
   "source": [
    "financials.head()"
   ]
  },
  {
   "cell_type": "code",
   "execution_count": 47,
   "metadata": {
    "ExecuteTime": {
     "end_time": "2021-01-11T09:32:37.269147Z",
     "start_time": "2021-01-11T09:32:37.262759Z"
    }
   },
   "outputs": [],
   "source": [
    "# Merge sequels and financials on index id\n",
    "sequels_fin = sequels.merge(financials, on='id', how='left')"
   ]
  },
  {
   "cell_type": "code",
   "execution_count": 48,
   "metadata": {
    "ExecuteTime": {
     "end_time": "2021-01-11T09:32:51.799421Z",
     "start_time": "2021-01-11T09:32:51.789532Z"
    }
   },
   "outputs": [
    {
     "data": {
      "text/html": [
       "<div>\n",
       "<style scoped>\n",
       "    .dataframe tbody tr th:only-of-type {\n",
       "        vertical-align: middle;\n",
       "    }\n",
       "\n",
       "    .dataframe tbody tr th {\n",
       "        vertical-align: top;\n",
       "    }\n",
       "\n",
       "    .dataframe thead th {\n",
       "        text-align: right;\n",
       "    }\n",
       "</style>\n",
       "<table border=\"1\" class=\"dataframe\">\n",
       "  <thead>\n",
       "    <tr style=\"text-align: right;\">\n",
       "      <th></th>\n",
       "      <th>title</th>\n",
       "      <th>sequel</th>\n",
       "      <th>budget</th>\n",
       "      <th>revenue</th>\n",
       "    </tr>\n",
       "    <tr>\n",
       "      <th>id</th>\n",
       "      <th></th>\n",
       "      <th></th>\n",
       "      <th></th>\n",
       "      <th></th>\n",
       "    </tr>\n",
       "  </thead>\n",
       "  <tbody>\n",
       "    <tr>\n",
       "      <th>19995</th>\n",
       "      <td>Avatar</td>\n",
       "      <td>NaN</td>\n",
       "      <td>237000000.0</td>\n",
       "      <td>2.787965e+09</td>\n",
       "    </tr>\n",
       "    <tr>\n",
       "      <th>862</th>\n",
       "      <td>Toy Story</td>\n",
       "      <td>863.0</td>\n",
       "      <td>30000000.0</td>\n",
       "      <td>3.735540e+08</td>\n",
       "    </tr>\n",
       "    <tr>\n",
       "      <th>863</th>\n",
       "      <td>Toy Story 2</td>\n",
       "      <td>10193.0</td>\n",
       "      <td>90000000.0</td>\n",
       "      <td>4.973669e+08</td>\n",
       "    </tr>\n",
       "    <tr>\n",
       "      <th>597</th>\n",
       "      <td>Titanic</td>\n",
       "      <td>NaN</td>\n",
       "      <td>200000000.0</td>\n",
       "      <td>1.845034e+09</td>\n",
       "    </tr>\n",
       "    <tr>\n",
       "      <th>24428</th>\n",
       "      <td>The Avengers</td>\n",
       "      <td>NaN</td>\n",
       "      <td>220000000.0</td>\n",
       "      <td>1.519558e+09</td>\n",
       "    </tr>\n",
       "  </tbody>\n",
       "</table>\n",
       "</div>"
      ],
      "text/plain": [
       "              title   sequel       budget       revenue\n",
       "id                                                     \n",
       "19995        Avatar      NaN  237000000.0  2.787965e+09\n",
       "862       Toy Story    863.0   30000000.0  3.735540e+08\n",
       "863     Toy Story 2  10193.0   90000000.0  4.973669e+08\n",
       "597         Titanic      NaN  200000000.0  1.845034e+09\n",
       "24428  The Avengers      NaN  220000000.0  1.519558e+09"
      ]
     },
     "execution_count": 48,
     "metadata": {},
     "output_type": "execute_result"
    }
   ],
   "source": [
    "sequels_fin.head()"
   ]
  },
  {
   "cell_type": "markdown",
   "metadata": {},
   "source": [
    "> Merge the `sequels_fin` table to itself with an inner join, where the left and right tables merge on `sequel` and `id` respectively with suffixes equal to `('_org','_seq')`, saving to `orig_seq`."
   ]
  },
  {
   "cell_type": "code",
   "execution_count": 49,
   "metadata": {
    "ExecuteTime": {
     "end_time": "2021-01-11T09:34:10.422368Z",
     "start_time": "2021-01-11T09:34:10.415799Z"
    }
   },
   "outputs": [],
   "source": [
    "# Self merge with suffixes as inner join with left on sequel and right on id\n",
    "orig_seq = sequels_fin.merge(sequels_fin, how='inner', left_on='sequel', \n",
    "                             right_on='id', right_index=True,\n",
    "                             suffixes=['_org', '_seq'])\n",
    "\n",
    "# Add calculation to subtract revenue_org from revenue_seq \n",
    "orig_seq['diff'] = orig_seq['revenue_seq'] - orig_seq['revenue_org']"
   ]
  },
  {
   "cell_type": "code",
   "execution_count": 50,
   "metadata": {
    "ExecuteTime": {
     "end_time": "2021-01-11T09:34:18.571571Z",
     "start_time": "2021-01-11T09:34:18.562348Z"
    }
   },
   "outputs": [
    {
     "data": {
      "text/html": [
       "<div>\n",
       "<style scoped>\n",
       "    .dataframe tbody tr th:only-of-type {\n",
       "        vertical-align: middle;\n",
       "    }\n",
       "\n",
       "    .dataframe tbody tr th {\n",
       "        vertical-align: top;\n",
       "    }\n",
       "\n",
       "    .dataframe thead th {\n",
       "        text-align: right;\n",
       "    }\n",
       "</style>\n",
       "<table border=\"1\" class=\"dataframe\">\n",
       "  <thead>\n",
       "    <tr style=\"text-align: right;\">\n",
       "      <th></th>\n",
       "      <th>sequel</th>\n",
       "      <th>title_org</th>\n",
       "      <th>sequel_org</th>\n",
       "      <th>budget_org</th>\n",
       "      <th>revenue_org</th>\n",
       "      <th>title_seq</th>\n",
       "      <th>sequel_seq</th>\n",
       "      <th>budget_seq</th>\n",
       "      <th>revenue_seq</th>\n",
       "      <th>diff</th>\n",
       "    </tr>\n",
       "    <tr>\n",
       "      <th>id</th>\n",
       "      <th></th>\n",
       "      <th></th>\n",
       "      <th></th>\n",
       "      <th></th>\n",
       "      <th></th>\n",
       "      <th></th>\n",
       "      <th></th>\n",
       "      <th></th>\n",
       "      <th></th>\n",
       "      <th></th>\n",
       "    </tr>\n",
       "  </thead>\n",
       "  <tbody>\n",
       "    <tr>\n",
       "      <th>862</th>\n",
       "      <td>863.0</td>\n",
       "      <td>Toy Story</td>\n",
       "      <td>863.0</td>\n",
       "      <td>30000000.0</td>\n",
       "      <td>373554033.0</td>\n",
       "      <td>Toy Story 2</td>\n",
       "      <td>10193.0</td>\n",
       "      <td>90000000.0</td>\n",
       "      <td>4.973669e+08</td>\n",
       "      <td>123812836.0</td>\n",
       "    </tr>\n",
       "    <tr>\n",
       "      <th>863</th>\n",
       "      <td>10193.0</td>\n",
       "      <td>Toy Story 2</td>\n",
       "      <td>10193.0</td>\n",
       "      <td>90000000.0</td>\n",
       "      <td>497366869.0</td>\n",
       "      <td>Toy Story 3</td>\n",
       "      <td>NaN</td>\n",
       "      <td>200000000.0</td>\n",
       "      <td>1.066970e+09</td>\n",
       "      <td>569602834.0</td>\n",
       "    </tr>\n",
       "    <tr>\n",
       "      <th>675</th>\n",
       "      <td>767.0</td>\n",
       "      <td>Harry Potter and the Order of the Phoenix</td>\n",
       "      <td>767.0</td>\n",
       "      <td>150000000.0</td>\n",
       "      <td>938212738.0</td>\n",
       "      <td>Harry Potter and the Half-Blood Prince</td>\n",
       "      <td>NaN</td>\n",
       "      <td>250000000.0</td>\n",
       "      <td>9.339592e+08</td>\n",
       "      <td>-4253541.0</td>\n",
       "    </tr>\n",
       "    <tr>\n",
       "      <th>121</th>\n",
       "      <td>122.0</td>\n",
       "      <td>The Lord of the Rings: The Two Towers</td>\n",
       "      <td>122.0</td>\n",
       "      <td>79000000.0</td>\n",
       "      <td>926287400.0</td>\n",
       "      <td>The Lord of the Rings: The Return of the King</td>\n",
       "      <td>NaN</td>\n",
       "      <td>94000000.0</td>\n",
       "      <td>1.118889e+09</td>\n",
       "      <td>192601579.0</td>\n",
       "    </tr>\n",
       "    <tr>\n",
       "      <th>120</th>\n",
       "      <td>121.0</td>\n",
       "      <td>The Lord of the Rings: The Fellowship of the Ring</td>\n",
       "      <td>121.0</td>\n",
       "      <td>93000000.0</td>\n",
       "      <td>871368364.0</td>\n",
       "      <td>The Lord of the Rings: The Two Towers</td>\n",
       "      <td>122.0</td>\n",
       "      <td>79000000.0</td>\n",
       "      <td>9.262874e+08</td>\n",
       "      <td>54919036.0</td>\n",
       "    </tr>\n",
       "  </tbody>\n",
       "</table>\n",
       "</div>"
      ],
      "text/plain": [
       "      sequel                                          title_org  sequel_org  \\\n",
       "id                                                                            \n",
       "862    863.0                                          Toy Story       863.0   \n",
       "863  10193.0                                        Toy Story 2     10193.0   \n",
       "675    767.0          Harry Potter and the Order of the Phoenix       767.0   \n",
       "121    122.0              The Lord of the Rings: The Two Towers       122.0   \n",
       "120    121.0  The Lord of the Rings: The Fellowship of the Ring       121.0   \n",
       "\n",
       "      budget_org  revenue_org                                      title_seq  \\\n",
       "id                                                                             \n",
       "862   30000000.0  373554033.0                                    Toy Story 2   \n",
       "863   90000000.0  497366869.0                                    Toy Story 3   \n",
       "675  150000000.0  938212738.0         Harry Potter and the Half-Blood Prince   \n",
       "121   79000000.0  926287400.0  The Lord of the Rings: The Return of the King   \n",
       "120   93000000.0  871368364.0          The Lord of the Rings: The Two Towers   \n",
       "\n",
       "     sequel_seq   budget_seq   revenue_seq         diff  \n",
       "id                                                       \n",
       "862     10193.0   90000000.0  4.973669e+08  123812836.0  \n",
       "863         NaN  200000000.0  1.066970e+09  569602834.0  \n",
       "675         NaN  250000000.0  9.339592e+08   -4253541.0  \n",
       "121         NaN   94000000.0  1.118889e+09  192601579.0  \n",
       "120       122.0   79000000.0  9.262874e+08   54919036.0  "
      ]
     },
     "execution_count": 50,
     "metadata": {},
     "output_type": "execute_result"
    }
   ],
   "source": [
    "orig_seq.head()"
   ]
  },
  {
   "cell_type": "markdown",
   "metadata": {},
   "source": [
    "> Select the `title_org`, `title_seq`, and `diff` columns of `orig_seq` and save this as `titles_diff`."
   ]
  },
  {
   "cell_type": "code",
   "execution_count": 51,
   "metadata": {
    "ExecuteTime": {
     "end_time": "2021-01-11T09:35:30.910505Z",
     "start_time": "2021-01-11T09:35:30.907421Z"
    }
   },
   "outputs": [],
   "source": [
    "# Select the title_org, title_seq, and diff \n",
    "titles_diff = orig_seq[['title_org', 'title_seq', 'diff']]"
   ]
  },
  {
   "cell_type": "code",
   "execution_count": 52,
   "metadata": {
    "ExecuteTime": {
     "end_time": "2021-01-11T09:35:37.523730Z",
     "start_time": "2021-01-11T09:35:37.516357Z"
    }
   },
   "outputs": [
    {
     "data": {
      "text/html": [
       "<div>\n",
       "<style scoped>\n",
       "    .dataframe tbody tr th:only-of-type {\n",
       "        vertical-align: middle;\n",
       "    }\n",
       "\n",
       "    .dataframe tbody tr th {\n",
       "        vertical-align: top;\n",
       "    }\n",
       "\n",
       "    .dataframe thead th {\n",
       "        text-align: right;\n",
       "    }\n",
       "</style>\n",
       "<table border=\"1\" class=\"dataframe\">\n",
       "  <thead>\n",
       "    <tr style=\"text-align: right;\">\n",
       "      <th></th>\n",
       "      <th>title_org</th>\n",
       "      <th>title_seq</th>\n",
       "      <th>diff</th>\n",
       "    </tr>\n",
       "    <tr>\n",
       "      <th>id</th>\n",
       "      <th></th>\n",
       "      <th></th>\n",
       "      <th></th>\n",
       "    </tr>\n",
       "  </thead>\n",
       "  <tbody>\n",
       "    <tr>\n",
       "      <th>862</th>\n",
       "      <td>Toy Story</td>\n",
       "      <td>Toy Story 2</td>\n",
       "      <td>123812836.0</td>\n",
       "    </tr>\n",
       "    <tr>\n",
       "      <th>863</th>\n",
       "      <td>Toy Story 2</td>\n",
       "      <td>Toy Story 3</td>\n",
       "      <td>569602834.0</td>\n",
       "    </tr>\n",
       "    <tr>\n",
       "      <th>675</th>\n",
       "      <td>Harry Potter and the Order of the Phoenix</td>\n",
       "      <td>Harry Potter and the Half-Blood Prince</td>\n",
       "      <td>-4253541.0</td>\n",
       "    </tr>\n",
       "    <tr>\n",
       "      <th>121</th>\n",
       "      <td>The Lord of the Rings: The Two Towers</td>\n",
       "      <td>The Lord of the Rings: The Return of the King</td>\n",
       "      <td>192601579.0</td>\n",
       "    </tr>\n",
       "    <tr>\n",
       "      <th>120</th>\n",
       "      <td>The Lord of the Rings: The Fellowship of the Ring</td>\n",
       "      <td>The Lord of the Rings: The Two Towers</td>\n",
       "      <td>54919036.0</td>\n",
       "    </tr>\n",
       "  </tbody>\n",
       "</table>\n",
       "</div>"
      ],
      "text/plain": [
       "                                             title_org  \\\n",
       "id                                                       \n",
       "862                                          Toy Story   \n",
       "863                                        Toy Story 2   \n",
       "675          Harry Potter and the Order of the Phoenix   \n",
       "121              The Lord of the Rings: The Two Towers   \n",
       "120  The Lord of the Rings: The Fellowship of the Ring   \n",
       "\n",
       "                                         title_seq         diff  \n",
       "id                                                               \n",
       "862                                    Toy Story 2  123812836.0  \n",
       "863                                    Toy Story 3  569602834.0  \n",
       "675         Harry Potter and the Half-Blood Prince   -4253541.0  \n",
       "121  The Lord of the Rings: The Return of the King  192601579.0  \n",
       "120          The Lord of the Rings: The Two Towers   54919036.0  "
      ]
     },
     "execution_count": 52,
     "metadata": {},
     "output_type": "execute_result"
    }
   ],
   "source": [
    "titles_diff.head()"
   ]
  },
  {
   "cell_type": "markdown",
   "metadata": {},
   "source": [
    "> -   Sort by `titles_diff` by `diff` in descending order and print the first few rows."
   ]
  },
  {
   "cell_type": "code",
   "execution_count": 53,
   "metadata": {
    "ExecuteTime": {
     "end_time": "2021-01-11T09:36:41.239260Z",
     "start_time": "2021-01-11T09:36:41.231469Z"
    }
   },
   "outputs": [
    {
     "name": "stdout",
     "output_type": "stream",
     "text": [
      "               title_org        title_seq          diff\n",
      "id                                                     \n",
      "331    Jurassic Park III   Jurassic World  1.144748e+09\n",
      "272        Batman Begins  The Dark Knight  6.303398e+08\n",
      "10138         Iron Man 2       Iron Man 3  5.915067e+08\n",
      "863          Toy Story 2      Toy Story 3  5.696028e+08\n",
      "10764  Quantum of Solace          Skyfall  5.224703e+08\n"
     ]
    }
   ],
   "source": [
    "# Print the first rows of the sorted titles_diff\n",
    "print(titles_diff.sort_values('diff', ascending=False).head())"
   ]
  },
  {
   "cell_type": "code",
   "execution_count": null,
   "metadata": {},
   "outputs": [],
   "source": []
  }
 ],
 "metadata": {
  "kernelspec": {
   "display_name": "Python [conda env:datacamp] *",
   "language": "python",
   "name": "conda-env-datacamp-py"
  },
  "language_info": {
   "codemirror_mode": {
    "name": "ipython",
    "version": 3
   },
   "file_extension": ".py",
   "mimetype": "text/x-python",
   "name": "python",
   "nbconvert_exporter": "python",
   "pygments_lexer": "ipython3",
   "version": "3.7.9"
  },
  "toc": {
   "base_numbering": 1,
   "nav_menu": {},
   "number_sections": true,
   "sideBar": true,
   "skip_h1_title": false,
   "title_cell": "Table of Contents",
   "title_sidebar": "Contents",
   "toc_cell": false,
   "toc_position": {},
   "toc_section_display": true,
   "toc_window_display": true
  }
 },
 "nbformat": 4,
 "nbformat_minor": 4
}
