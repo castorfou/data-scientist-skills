{
 "cells": [
  {
   "cell_type": "markdown",
   "metadata": {},
   "source": [
    "# Preparing your figures to share with others\n",
    "\n",
    "```python\n",
    "\n",
    "# Choosing a style\n",
    "plt.style.use(\"ggplot\")\n",
    "fig, ax = plt.subplots()\n",
    "ax.plot(seattle_weather[\"MONTH\"], seattle_weather[\"MLY-TAVG-NORMAL\"\n",
    "ax.plot(austin_weather[\"MONTH\"], austin_weather[\"MLY-TAVG-NORMAL\"])\n",
    "ax.set_xlabel(\"Time (months)\")\n",
    "ax.set_ylabel(\"Average temperature (Fahrenheit degrees)\")\n",
    "plt.show()\n",
    "                                                  \n",
    "# Back to the default\n",
    "plt.style.use(\"default\")                                                  \n",
    "```\n",
    "[available styles](https://matplotlib.org/gallery/style_sheets/style_sheets_reference.html)\n",
    "\n",
    "```python\n",
    "# The \"bmh\" style\n",
    "plt.style.use(\"bmh\")\n",
    "fig, ax = plt.subplots()\n",
    "ax.plot(seattle_weather[\"MONTH\"], seattle_weather[\"MLY-TAVG-NORMAL\"\n",
    "ax.plot(austin_weather[\"MONTH\"], austin_weather[\"MLY-TAVG-NORMAL\"])\n",
    "ax.set_xlabel(\"Time (months)\")\n",
    "ax.set_ylabel(\"Average temperature (Fahrenheit degrees)\")\n",
    "plt.show()\n",
    "                                                  \n",
    "# Seaborn styles\n",
    "plt.style.use(\"seaborn-colorblind\")\n",
    "fig, ax = plt.subplots()\n",
    "ax.plot(seattle_weather[\"MONTH\"], seattle_weather[\"MLY-TAVG-NORMAL\"\n",
    "ax.plot(austin_weather[\"MONTH\"], austin_weather[\"MLY-TAVG-NORMAL\"])\n",
    "ax.set_xlabel(\"Time (months)\")\n",
    "ax.set_ylabel(\"Average temperature (Fahrenheit degrees)\")\n",
    "plt.show()                                                  \n",
    "```"
   ]
  },
  {
   "cell_type": "markdown",
   "metadata": {},
   "source": [
    "[Selecting a style for printing | Python](https://campus.datacamp.com/courses/introduction-to-data-visualization-with-matplotlib/sharing-visualizations-with-others?ex=2)\n",
    "\n",
    "> ## Selecting a style for printing\n",
    "> \n",
    "> You are creating a figure that will be included in a leaflet printed on a black-and-white printer. What style should you choose for your figures?\n",
    "> \n",
    "> In the console, we have loaded the medals dataset. Before initializing Axes and Figure objects and plotting them, you can try setting a style to use."
   ]
  },
  {
   "cell_type": "markdown",
   "metadata": {},
   "source": [
    "[Switching between styles | Python](https://campus.datacamp.com/courses/introduction-to-data-visualization-with-matplotlib/sharing-visualizations-with-others?ex=3)\n",
    "\n",
    "> ## Switching between styles\n",
    "> \n",
    "> Selecting a style to use affects all of the visualizations that are created after this style is selected.\n",
    "> \n",
    "> Here, you will practice plotting data in two different styles. The data you will use is the same weather data we used in the first lesson: you will have available to you the DataFrame `seattle_weather` and the DataFrame `austin_weather`, both with records of the average temperature in every month."
   ]
  },
  {
   "cell_type": "markdown",
   "metadata": {},
   "source": [
    "### init"
   ]
  },
  {
   "cell_type": "code",
   "execution_count": 1,
   "metadata": {
    "ExecuteTime": {
     "end_time": "2021-01-14T13:50:59.130303Z",
     "start_time": "2021-01-14T13:50:57.684046Z"
    }
   },
   "outputs": [
    {
     "name": "stdout",
     "output_type": "stream",
     "text": [
      "Téléchargements à lancer\n",
      "{'pandas.core.frame.DataFrame': {'austin_weather.csv': 'https://file.io/7sbKoeGgGfDF', 'seattle_weather.csv': 'https://file.io/PbWuH0NN7xAq'}}\n",
      "  % Total    % Received % Xferd  Average Speed   Time    Time     Time  Current\n",
      "                                 Dload  Upload   Total   Spent    Left  Speed\n",
      "100  4943    0  4943    0     0   9273      0 --:--:-- --:--:-- --:--:--  9256\n",
      "\n",
      "  % Total    % Received % Xferd  Average Speed   Time    Time     Time  Current\n",
      "                                 Dload  Upload   Total   Spent    Left  Speed\n",
      "100  6579    0  6579    0     0  11603      0 --:--:-- --:--:-- --:--:-- 11603\n",
      "\n"
     ]
    }
   ],
   "source": [
    "###################\n",
    "##### Dataframe\n",
    "###################\n",
    "\n",
    "#upload and download\n",
    "\n",
    "from downloadfromFileIO import saveFromFileIO\n",
    "\"\"\" à executer sur datacamp: (apres copie du code uploadfromdatacamp.py)\n",
    "uploadToFileIO(seattle_weather, austin_weather)\n",
    "\"\"\"\n",
    "\n",
    "tobedownloaded=\"\"\"\n",
    "{pandas.core.frame.DataFrame: {'austin_weather.csv': 'https://file.io/7sbKoeGgGfDF',\n",
    "  'seattle_weather.csv': 'https://file.io/PbWuH0NN7xAq'}}\n",
    "\"\"\"\n",
    "prefixToc='1.2'\n",
    "prefix = saveFromFileIO(tobedownloaded, prefixToc=prefixToc, proxy=\"\")\n",
    "\n",
    "#initialisation\n",
    "\n",
    "import pandas as pd\n",
    "seattle_weather = pd.read_csv(prefix+'seattle_weather.csv',index_col=0)\n",
    "austin_weather = pd.read_csv(prefix+'austin_weather.csv',index_col=0)\n"
   ]
  },
  {
   "cell_type": "markdown",
   "metadata": {},
   "source": [
    "### code"
   ]
  },
  {
   "cell_type": "markdown",
   "metadata": {},
   "source": [
    "> Select the `'ggplot'` style, create a new Figure called `fig`, and a new Axes object called `ax` with `plt.subplots`."
   ]
  },
  {
   "cell_type": "code",
   "execution_count": 2,
   "metadata": {
    "ExecuteTime": {
     "end_time": "2021-01-14T13:52:16.657067Z",
     "start_time": "2021-01-14T13:52:16.505885Z"
    }
   },
   "outputs": [],
   "source": [
    "import matplotlib.pyplot as plt"
   ]
  },
  {
   "cell_type": "code",
   "execution_count": 3,
   "metadata": {
    "ExecuteTime": {
     "end_time": "2021-01-14T13:52:31.532609Z",
     "start_time": "2021-01-14T13:52:31.386971Z"
    }
   },
   "outputs": [
    {
     "data": {
      "image/png": "[encoded data removed]",
      "text/plain": [
       "<Figure size 432x288 with 1 Axes>"
      ]
     },
     "metadata": {},
     "output_type": "display_data"
    }
   ],
   "source": [
    "# Use the \"ggplot\" style and create new Figure/Axes\n",
    "plt.style.use('ggplot')\n",
    "fig, ax = plt.subplots()\n",
    "ax.plot(seattle_weather[\"MONTH\"], seattle_weather[\"MLY-TAVG-NORMAL\"])\n",
    "plt.show()"
   ]
  },
  {
   "cell_type": "markdown",
   "metadata": {},
   "source": [
    "> Select the `'Solarize_Light2'` style, create a new Figure called `fig`, and a new Axes object called `ax` with `plt.subplots`."
   ]
  },
  {
   "cell_type": "code",
   "execution_count": 4,
   "metadata": {
    "ExecuteTime": {
     "end_time": "2021-01-14T13:53:05.571440Z",
     "start_time": "2021-01-14T13:53:05.439775Z"
    }
   },
   "outputs": [
    {
     "data": {
      "image/png": "[encoded data removed]",
      "text/plain": [
       "<Figure size 432x288 with 1 Axes>"
      ]
     },
     "metadata": {},
     "output_type": "display_data"
    }
   ],
   "source": [
    "# Use the \"Solarize_Light2\" style and create new Figure/Axes\n",
    "plt.style.use('Solarize_Light2')\n",
    "fig, ax = plt.subplots()\n",
    "ax.plot(austin_weather[\"MONTH\"], austin_weather[\"MLY-TAVG-NORMAL\"])\n",
    "plt.show()"
   ]
  },
  {
   "cell_type": "markdown",
   "metadata": {},
   "source": [
    "# Saving your visualizations\n",
    "\n",
    "```python\n",
    "\n",
    "# Saving the figure to file\n",
    "fig, ax = plt.subplots()\n",
    "ax.bar(medals.index, medals[\"Gold\"])\n",
    "ax.set_xticklabels(medals.index, rotation=90)\n",
    "ax.set_ylabel(\"Number of medals\")\n",
    "fig.savefig(\"gold_medals.png\")\n",
    "\n",
    "# Different file formats\n",
    "fig.savefig(\"gold_medals.jpg\")\n",
    "fig.savefig(\"gold_medals.jpg\", quality=50)\n",
    "fig.savefig(\"gold_medals.svg\")\n",
    "\n",
    "# Resolution\n",
    "fig.savefig(\"gold_medals.png\", dpi=300)\n",
    "\n",
    "# Size\n",
    "fig.set_size_inches([5, 3])\n",
    "\n",
    "# Another aspect ratio\n",
    "fig.set_size_inches([3, 5])\n",
    "```"
   ]
  },
  {
   "cell_type": "markdown",
   "metadata": {},
   "source": [
    "[Saving a file several times | Python](https://campus.datacamp.com/courses/introduction-to-data-visualization-with-matplotlib/sharing-visualizations-with-others?ex=5)\n",
    "\n",
    "> ## Saving a file several times\n",
    "> \n",
    "> If you want to share your visualizations with others, you will need to save them into files. Matplotlib provides as way to do that, through the `savefig` method of the `Figure` object. In this exercise, you will save a figure several times. Each time setting the parameters to something slightly different. We have provided and already created `Figure` object."
   ]
  },
  {
   "cell_type": "markdown",
   "metadata": {},
   "source": [
    "> Examine the figure by calling the `plt.show()` function."
   ]
  },
  {
   "cell_type": "markdown",
   "metadata": {},
   "source": [
    "### init"
   ]
  },
  {
   "cell_type": "code",
   "execution_count": 5,
   "metadata": {
    "ExecuteTime": {
     "end_time": "2021-01-14T13:57:13.579548Z",
     "start_time": "2021-01-14T13:57:12.914482Z"
    }
   },
   "outputs": [
    {
     "name": "stdout",
     "output_type": "stream",
     "text": [
      "Téléchargements à lancer\n",
      "{'pandas.core.frame.DataFrame': {'medals.csv': 'https://file.io/FZDQId8VkVDY'}}\n",
      "  % Total    % Received % Xferd  Average Speed   Time    Time     Time  Current\n",
      "                                 Dload  Upload   Total   Spent    Left  Speed\n",
      "100   193    0   193    0     0    306      0 --:--:-- --:--:-- --:--:--   306\n",
      "\n"
     ]
    }
   ],
   "source": [
    "###################\n",
    "##### Dataframe\n",
    "###################\n",
    "\n",
    "#upload and download\n",
    "\n",
    "from downloadfromFileIO import saveFromFileIO\n",
    "\"\"\" à executer sur datacamp: (apres copie du code uploadfromdatacamp.py)\n",
    "uploadToFileIO(medals)\n",
    "\"\"\"\n",
    "\n",
    "tobedownloaded=\"\"\"\n",
    "{pandas.core.frame.DataFrame: {'medals.csv': 'https://file.io/FZDQId8VkVDY'}}\n",
    "\"\"\"\n",
    "prefixToc='2.1'\n",
    "prefix = saveFromFileIO(tobedownloaded, prefixToc=prefixToc, proxy=\"\")\n",
    "\n",
    "#initialisation\n",
    "\n",
    "import pandas as pd\n",
    "medals = pd.read_csv(prefix+'medals.csv',index_col=0)\n"
   ]
  },
  {
   "cell_type": "markdown",
   "metadata": {},
   "source": [
    "### code"
   ]
  },
  {
   "cell_type": "code",
   "execution_count": 11,
   "metadata": {
    "ExecuteTime": {
     "end_time": "2021-01-14T13:59:32.855537Z",
     "start_time": "2021-01-14T13:59:32.747136Z"
    }
   },
   "outputs": [
    {
     "name": "stderr",
     "output_type": "stream",
     "text": [
      "/home/explore/miniconda3/envs/datacamp/lib/python3.7/site-packages/ipykernel_launcher.py:9: UserWarning: FixedFormatter should only be used together with FixedLocator\n",
      "  if __name__ == '__main__':\n"
     ]
    },
    {
     "data": {
      "image/png": "[encoded data removed]",
      "text/plain": [
       "<Figure size 500x500 with 1 Axes>"
      ]
     },
     "metadata": {},
     "output_type": "display_data"
    }
   ],
   "source": [
    "fig, ax = plt.subplots()\n",
    "fig.set_size_inches([5, 5])\n",
    "plt.style.use(\"default\")  \n",
    "\n",
    "# Plot a bar-chart of gold medals as a function of country\n",
    "ax.bar(medals.index, medals[\"Gold\"])\n",
    "\n",
    "# Set the x-axis tick labels to the country names\n",
    "ax.set_xticklabels(medals.index, rotation=90)\n",
    "\n",
    "# Set the y-axis label\n",
    "ax.set_ylabel('Number of medals')\n",
    "# Show the figure\n",
    "plt.show()"
   ]
  },
  {
   "cell_type": "markdown",
   "metadata": {},
   "source": [
    "> Save the figure into the file `my_figure.png`, using the default resolution."
   ]
  },
  {
   "cell_type": "code",
   "execution_count": 12,
   "metadata": {
    "ExecuteTime": {
     "end_time": "2021-01-14T14:00:24.761240Z",
     "start_time": "2021-01-14T14:00:24.722513Z"
    }
   },
   "outputs": [],
   "source": [
    "# Save as a PNG file\n",
    "fig.savefig('my_figure.png')"
   ]
  },
  {
   "cell_type": "markdown",
   "metadata": {},
   "source": [
    "> Save the figure into the file `my_figure_300dpi.png` and set the resolution to 300 dpi."
   ]
  },
  {
   "cell_type": "code",
   "execution_count": 13,
   "metadata": {
    "ExecuteTime": {
     "end_time": "2021-01-14T14:01:21.926086Z",
     "start_time": "2021-01-14T14:01:21.795106Z"
    }
   },
   "outputs": [],
   "source": [
    "# Save as a PNG file with 300 dpi\n",
    "fig.savefig(\"my_figure_300dpi.png\", dpi=300)\n"
   ]
  },
  {
   "cell_type": "markdown",
   "metadata": {},
   "source": [
    "[Save a figure with different sizes | Python](https://campus.datacamp.com/courses/introduction-to-data-visualization-with-matplotlib/sharing-visualizations-with-others?ex=6)\n",
    "\n",
    "> ## Save a figure with different sizes\n",
    "> \n",
    "> Before saving your visualization, you might want to also set the size that the figure will have on the page. To do so, you can use the `Figure` object's `set_size_inches` method. This method takes a sequence of two values. The first sets the width and the second sets the height of the figure.\n",
    "> \n",
    "> Here, you will again have a `Figure` object called `fig` already provided (you can run `plt.show` if you want to see its contents). Use the `Figure` methods `set_size_inches` and `savefig` to change its size and save two different versions of this figure."
   ]
  },
  {
   "cell_type": "markdown",
   "metadata": {},
   "source": [
    "> Set the figure size as width of 3 inches and height of 5 inches and save it as `'figure_3_5.png'` with default resolution."
   ]
  },
  {
   "cell_type": "code",
   "execution_count": 14,
   "metadata": {
    "ExecuteTime": {
     "end_time": "2021-01-14T14:03:04.988200Z",
     "start_time": "2021-01-14T14:03:04.949940Z"
    }
   },
   "outputs": [],
   "source": [
    "# Set figure dimensions and save as a PNG\n",
    "fig.set_size_inches([3, 5])\n",
    "fig.savefig('figure_3_5.png')"
   ]
  },
  {
   "cell_type": "markdown",
   "metadata": {},
   "source": [
    "> Set the figure size to width of 5 inches and height of 3 inches and save it as `'figure_5_3.png'` with default settings."
   ]
  },
  {
   "cell_type": "code",
   "execution_count": 15,
   "metadata": {
    "ExecuteTime": {
     "end_time": "2021-01-14T14:04:03.520628Z",
     "start_time": "2021-01-14T14:04:03.483030Z"
    }
   },
   "outputs": [],
   "source": [
    "# Set figure dimensions and save as a PNG\n",
    "fig.set_size_inches([5, 3])\n",
    "fig.savefig('figure_5_3.png')"
   ]
  },
  {
   "cell_type": "markdown",
   "metadata": {},
   "source": [
    "# Automating figures from data\n",
    "\n",
    "```python\n",
    "\n",
    "# Getting unique values of a column\n",
    "sports = summer_2016_medals[\"Sport\"].unique()\n",
    "\n",
    "# Bar-chart of heights for all sports\n",
    "fig, ax = plt.subplots()\n",
    "for sport in sports:\n",
    "sport_df = summer_2016_medals[summer_2016_medals[\"Sport\"] == spor\n",
    "ax.bar(sport, sport_df[\"Height\"].mean(),\n",
    "yerr=sport_df[\"Height\"].std())\n",
    "ax.set_ylabel(\"Height (cm)\")\n",
    "ax.set_xticklabels(sports, rotation=90)\n",
    "plt.show()\n",
    "```"
   ]
  },
  {
   "cell_type": "markdown",
   "metadata": {},
   "source": [
    "[Unique values of a column | Python](https://campus.datacamp.com/courses/introduction-to-data-visualization-with-matplotlib/sharing-visualizations-with-others?ex=8)\n",
    "\n",
    "> ## Unique values of a column\n",
    "> \n",
    "> One of the main strengths of Matplotlib is that it can be automated to adapt to the data that it receives as input. For example, if you receive data that has an unknown number of categories, you can still create a bar plot that has bars for each category.\n",
    "> \n",
    "> In this exercise and the next, you will be visualizing the weight of medalis in the 2016 summer Olympic Games again, from a dataset that has some unknown number of branches of sports in it. This will be loaded into memory as a Pandas `DataFrame` object called `summer_2016_medals`, which has a column called `\"Sport\"` that tells you to which branch of sport each row corresponds. There is also a `\"Weight\"` column that tells you the weight of each athlete.\n",
    "> \n",
    "> In this exercise, we will extract the unique values of the `\"Sport\"` column"
   ]
  },
  {
   "cell_type": "markdown",
   "metadata": {},
   "source": [
    "### init"
   ]
  },
  {
   "cell_type": "code",
   "execution_count": 16,
   "metadata": {
    "ExecuteTime": {
     "end_time": "2021-01-14T14:24:45.562912Z",
     "start_time": "2021-01-14T14:24:44.723489Z"
    }
   },
   "outputs": [
    {
     "name": "stdout",
     "output_type": "stream",
     "text": [
      "Téléchargements à lancer\n",
      "{'pandas.core.frame.DataFrame': {'summer_2016_medals.csv': 'https://file.io/z4U7sKkYwZ1y'}}\n",
      "  % Total    % Received % Xferd  Average Speed   Time    Time     Time  Current\n",
      "                                 Dload  Upload   Total   Spent    Left  Speed\n",
      "100  145k    0  145k    0     0   181k      0 --:--:-- --:--:-- --:--:--  180k\n",
      "\n"
     ]
    }
   ],
   "source": [
    "###################\n",
    "##### Dataframe\n",
    "###################\n",
    "\n",
    "#upload and download\n",
    "\n",
    "from downloadfromFileIO import saveFromFileIO\n",
    "\"\"\" à executer sur datacamp: (apres copie du code uploadfromdatacamp.py)\n",
    "uploadToFileIO(summer_2016_medals)\n",
    "\"\"\"\n",
    "\n",
    "tobedownloaded=\"\"\"\n",
    "{pandas.core.frame.DataFrame: {'summer_2016_medals.csv': 'https://file.io/z4U7sKkYwZ1y'}}\n",
    "\"\"\"\n",
    "prefixToc='3.1'\n",
    "prefix = saveFromFileIO(tobedownloaded, prefixToc=prefixToc, proxy=\"\")\n",
    "\n",
    "#initialisation\n",
    "\n",
    "import pandas as pd\n",
    "summer_2016_medals = pd.read_csv(prefix+'summer_2016_medals.csv',index_col=0)\n"
   ]
  },
  {
   "cell_type": "markdown",
   "metadata": {},
   "source": [
    " ### code"
   ]
  },
  {
   "cell_type": "markdown",
   "metadata": {
    "ExecuteTime": {
     "end_time": "2021-01-14T14:25:01.155251Z",
     "start_time": "2021-01-14T14:25:01.152144Z"
    }
   },
   "source": [
    "> -   Create a variable called `sports_column` that holds the data from the `\"Sport\"` column of the `DataFrame` object.\n",
    "> -   Use the `unique` method of this variable to find all the unique different sports that are present in this data, and assign these values into a new variable called `sports`.\n",
    "> -   Print the `sports` variable to the console."
   ]
  },
  {
   "cell_type": "code",
   "execution_count": 18,
   "metadata": {
    "ExecuteTime": {
     "end_time": "2021-01-14T14:25:28.132742Z",
     "start_time": "2021-01-14T14:25:28.113353Z"
    }
   },
   "outputs": [
    {
     "data": {
      "text/html": [
       "<div>\n",
       "<style scoped>\n",
       "    .dataframe tbody tr th:only-of-type {\n",
       "        vertical-align: middle;\n",
       "    }\n",
       "\n",
       "    .dataframe tbody tr th {\n",
       "        vertical-align: top;\n",
       "    }\n",
       "\n",
       "    .dataframe thead th {\n",
       "        text-align: right;\n",
       "    }\n",
       "</style>\n",
       "<table border=\"1\" class=\"dataframe\">\n",
       "  <thead>\n",
       "    <tr style=\"text-align: right;\">\n",
       "      <th></th>\n",
       "      <th>Unnamed: 0</th>\n",
       "      <th>Name</th>\n",
       "      <th>Sex</th>\n",
       "      <th>Age</th>\n",
       "      <th>Height</th>\n",
       "      <th>Weight</th>\n",
       "      <th>Team</th>\n",
       "      <th>NOC</th>\n",
       "      <th>Games</th>\n",
       "      <th>Year</th>\n",
       "      <th>Season</th>\n",
       "      <th>City</th>\n",
       "      <th>Sport</th>\n",
       "      <th>Event</th>\n",
       "      <th>Medal</th>\n",
       "    </tr>\n",
       "    <tr>\n",
       "      <th>ID</th>\n",
       "      <th></th>\n",
       "      <th></th>\n",
       "      <th></th>\n",
       "      <th></th>\n",
       "      <th></th>\n",
       "      <th></th>\n",
       "      <th></th>\n",
       "      <th></th>\n",
       "      <th></th>\n",
       "      <th></th>\n",
       "      <th></th>\n",
       "      <th></th>\n",
       "      <th></th>\n",
       "      <th></th>\n",
       "      <th></th>\n",
       "    </tr>\n",
       "  </thead>\n",
       "  <tbody>\n",
       "    <tr>\n",
       "      <th>62</th>\n",
       "      <td>158</td>\n",
       "      <td>Giovanni Abagnale</td>\n",
       "      <td>M</td>\n",
       "      <td>21.0</td>\n",
       "      <td>198.0</td>\n",
       "      <td>90.0</td>\n",
       "      <td>Italy</td>\n",
       "      <td>ITA</td>\n",
       "      <td>2016 Summer</td>\n",
       "      <td>2016</td>\n",
       "      <td>Summer</td>\n",
       "      <td>Rio de Janeiro</td>\n",
       "      <td>Rowing</td>\n",
       "      <td>Rowing Men's Coxless Pairs</td>\n",
       "      <td>Bronze</td>\n",
       "    </tr>\n",
       "    <tr>\n",
       "      <th>65</th>\n",
       "      <td>161</td>\n",
       "      <td>Patimat Abakarova</td>\n",
       "      <td>F</td>\n",
       "      <td>21.0</td>\n",
       "      <td>165.0</td>\n",
       "      <td>49.0</td>\n",
       "      <td>Azerbaijan</td>\n",
       "      <td>AZE</td>\n",
       "      <td>2016 Summer</td>\n",
       "      <td>2016</td>\n",
       "      <td>Summer</td>\n",
       "      <td>Rio de Janeiro</td>\n",
       "      <td>Taekwondo</td>\n",
       "      <td>Taekwondo Women's Flyweight</td>\n",
       "      <td>Bronze</td>\n",
       "    </tr>\n",
       "    <tr>\n",
       "      <th>73</th>\n",
       "      <td>175</td>\n",
       "      <td>Luc Abalo</td>\n",
       "      <td>M</td>\n",
       "      <td>31.0</td>\n",
       "      <td>182.0</td>\n",
       "      <td>86.0</td>\n",
       "      <td>France</td>\n",
       "      <td>FRA</td>\n",
       "      <td>2016 Summer</td>\n",
       "      <td>2016</td>\n",
       "      <td>Summer</td>\n",
       "      <td>Rio de Janeiro</td>\n",
       "      <td>Handball</td>\n",
       "      <td>Handball Men's Handball</td>\n",
       "      <td>Silver</td>\n",
       "    </tr>\n",
       "    <tr>\n",
       "      <th>250</th>\n",
       "      <td>450</td>\n",
       "      <td>Saeid Morad Abdevali</td>\n",
       "      <td>M</td>\n",
       "      <td>26.0</td>\n",
       "      <td>170.0</td>\n",
       "      <td>80.0</td>\n",
       "      <td>Iran</td>\n",
       "      <td>IRI</td>\n",
       "      <td>2016 Summer</td>\n",
       "      <td>2016</td>\n",
       "      <td>Summer</td>\n",
       "      <td>Rio de Janeiro</td>\n",
       "      <td>Wrestling</td>\n",
       "      <td>Wrestling Men's Middleweight, Greco-Roman</td>\n",
       "      <td>Bronze</td>\n",
       "    </tr>\n",
       "    <tr>\n",
       "      <th>455</th>\n",
       "      <td>794</td>\n",
       "      <td>Denis Mikhaylovich Ablyazin</td>\n",
       "      <td>M</td>\n",
       "      <td>24.0</td>\n",
       "      <td>161.0</td>\n",
       "      <td>62.0</td>\n",
       "      <td>Russia</td>\n",
       "      <td>RUS</td>\n",
       "      <td>2016 Summer</td>\n",
       "      <td>2016</td>\n",
       "      <td>Summer</td>\n",
       "      <td>Rio de Janeiro</td>\n",
       "      <td>Gymnastics</td>\n",
       "      <td>Gymnastics Men's Team All-Around</td>\n",
       "      <td>Silver</td>\n",
       "    </tr>\n",
       "  </tbody>\n",
       "</table>\n",
       "</div>"
      ],
      "text/plain": [
       "     Unnamed: 0                         Name Sex   Age  Height  Weight  \\\n",
       "ID                                                                       \n",
       "62          158            Giovanni Abagnale   M  21.0   198.0    90.0   \n",
       "65          161            Patimat Abakarova   F  21.0   165.0    49.0   \n",
       "73          175                    Luc Abalo   M  31.0   182.0    86.0   \n",
       "250         450         Saeid Morad Abdevali   M  26.0   170.0    80.0   \n",
       "455         794  Denis Mikhaylovich Ablyazin   M  24.0   161.0    62.0   \n",
       "\n",
       "           Team  NOC        Games  Year  Season            City       Sport  \\\n",
       "ID                                                                            \n",
       "62        Italy  ITA  2016 Summer  2016  Summer  Rio de Janeiro      Rowing   \n",
       "65   Azerbaijan  AZE  2016 Summer  2016  Summer  Rio de Janeiro   Taekwondo   \n",
       "73       France  FRA  2016 Summer  2016  Summer  Rio de Janeiro    Handball   \n",
       "250        Iran  IRI  2016 Summer  2016  Summer  Rio de Janeiro   Wrestling   \n",
       "455      Russia  RUS  2016 Summer  2016  Summer  Rio de Janeiro  Gymnastics   \n",
       "\n",
       "                                         Event   Medal  \n",
       "ID                                                      \n",
       "62                  Rowing Men's Coxless Pairs  Bronze  \n",
       "65                 Taekwondo Women's Flyweight  Bronze  \n",
       "73                     Handball Men's Handball  Silver  \n",
       "250  Wrestling Men's Middleweight, Greco-Roman  Bronze  \n",
       "455           Gymnastics Men's Team All-Around  Silver  "
      ]
     },
     "execution_count": 18,
     "metadata": {},
     "output_type": "execute_result"
    }
   ],
   "source": [
    "summer_2016_medals.head()"
   ]
  },
  {
   "cell_type": "code",
   "execution_count": 19,
   "metadata": {
    "ExecuteTime": {
     "end_time": "2021-01-14T14:25:59.521542Z",
     "start_time": "2021-01-14T14:25:59.515580Z"
    }
   },
   "outputs": [
    {
     "name": "stdout",
     "output_type": "stream",
     "text": [
      "['Rowing' 'Taekwondo' 'Handball' 'Wrestling' 'Gymnastics' 'Swimming'\n",
      " 'Basketball' 'Boxing' 'Volleyball' 'Athletics']\n"
     ]
    }
   ],
   "source": [
    "# Extract the \"Sport\" column\n",
    "sports_column = summer_2016_medals['Sport']\n",
    "\n",
    "# Find the unique values of the \"Sport\" column\n",
    "sports = sports_column.unique()\n",
    "\n",
    "# Print out the unique sports values\n",
    "print(sports)"
   ]
  },
  {
   "cell_type": "markdown",
   "metadata": {},
   "source": [
    "[Automate your visualization | Python](https://campus.datacamp.com/courses/introduction-to-data-visualization-with-matplotlib/sharing-visualizations-with-others?ex=9)\n",
    "\n",
    "> ## Automate your visualization\n",
    "> \n",
    "> One of the main strengths of Matplotlib is that it can be automated to adapt to the data that it receives as input. For example, if you receive data that has an unknown number of categories, you can still create a bar plot that has bars for each category.\n",
    "> \n",
    "> This is what you will do in this exercise. You will be visualizing data about medal winners in the 2016 summer Olympic Games again, but this time you will have a dataset that has some unknown number of branches of sports in it. This will be loaded into memory as a Pandas `DataFrame` object called `summer_2016_medals`, which has a column called `\"Sport\"` that tells you to which branch of sport each row corresponds. There is also a `\"Weight\"` column that tells you the weight of each athlete."
   ]
  },
  {
   "cell_type": "markdown",
   "metadata": {},
   "source": [
    "> -   Iterate over the values of `sports` setting `sport` as your loop variable.\n",
    "> -   In each iteration, extract the rows where the `\"Sport\"` column is equal to `sport`.\n",
    "> -   Add a bar to the provided `ax` object, labeled with the sport name, with the mean of the `\"Weight\"` column as its height, and the standard deviation as a y-axis error bar.\n",
    "> -   Save the figure into the file `\"sports_weights.png\"`."
   ]
  },
  {
   "cell_type": "code",
   "execution_count": 24,
   "metadata": {
    "ExecuteTime": {
     "end_time": "2021-01-14T14:34:45.496428Z",
     "start_time": "2021-01-14T14:34:45.323424Z"
    }
   },
   "outputs": [
    {
     "name": "stderr",
     "output_type": "stream",
     "text": [
      "/home/explore/miniconda3/envs/datacamp/lib/python3.7/site-packages/ipykernel_launcher.py:11: UserWarning: FixedFormatter should only be used together with FixedLocator\n",
      "  # This is added back by InteractiveShellApp.init_path()\n"
     ]
    },
    {
     "data": {
      "image/png": "[encoded data removed]",
      "text/plain": [
       "<Figure size 640x480 with 1 Axes>"
      ]
     },
     "metadata": {},
     "output_type": "display_data"
    }
   ],
   "source": [
    "fig, ax = plt.subplots()\n",
    "\n",
    "# Loop over the different sports branches\n",
    "for sport in sports:\n",
    "  # Extract the rows only for this sport\n",
    "  sport_df = summer_2016_medals[summer_2016_medals['Sport']==sport]\n",
    "  # Add a bar for the \"Weight\" mean with std y error bar\n",
    "  ax.bar(sport, sport_df['Weight'].mean(), yerr=sport_df['Weight'].std())\n",
    "\n",
    "ax.set_ylabel(\"Weight\")\n",
    "ax.set_xticklabels(sports, rotation=90)\n",
    "\n",
    "# Save the figure to file\n",
    "fig.savefig(\"sports_weights.png\")"
   ]
  },
  {
   "cell_type": "code",
   "execution_count": null,
   "metadata": {},
   "outputs": [],
   "source": []
  }
 ],
 "metadata": {
  "kernelspec": {
   "display_name": "Python [conda env:datacamp] *",
   "language": "python",
   "name": "conda-env-datacamp-py"
  },
  "language_info": {
   "codemirror_mode": {
    "name": "ipython",
    "version": 3
   },
   "file_extension": ".py",
   "mimetype": "text/x-python",
   "name": "python",
   "nbconvert_exporter": "python",
   "pygments_lexer": "ipython3",
   "version": "3.7.9"
  },
  "toc": {
   "base_numbering": 1,
   "nav_menu": {},
   "number_sections": true,
   "sideBar": true,
   "skip_h1_title": false,
   "title_cell": "Table of Contents",
   "title_sidebar": "Contents",
   "toc_cell": false,
   "toc_position": {
    "height": "calc(100% - 180px)",
    "left": "10px",
    "top": "150px",
    "width": "290.4px"
   },
   "toc_section_display": true,
   "toc_window_display": true
  }
 },
 "nbformat": 4,
 "nbformat_minor": 4
}
