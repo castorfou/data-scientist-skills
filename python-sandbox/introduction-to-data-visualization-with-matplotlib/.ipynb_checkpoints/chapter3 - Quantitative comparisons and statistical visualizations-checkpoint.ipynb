{
 "cells": [
  {
   "cell_type": "markdown",
   "metadata": {},
   "source": [
    "# Quantitative comparisons: bar-charts\n",
    "\n",
    "```python\n",
    "\n",
    "# Olympic medals: visualizing the data\n",
    "medals = pd.read_csv('medals_by_country_2016.csv', index_col=0)\n",
    "fig, ax = plt.subplots()\n",
    "ax.bar(medals.index, medals[\"Gold\"])\n",
    "plt.show()\n",
    "\n",
    "# Interlude: rotate the tick labels\n",
    "fig, ax = plt.subplots()\n",
    "ax.bar(medals.index, medals[\"Gold\"])\n",
    "ax.set_xticklabels(medals.index, rotation=90)\n",
    "ax.set_ylabel(\"Number of medals\")\n",
    "plt.show()\n",
    "\n",
    "# Olympic medals: visualizing the other medals : stacked bar chart\n",
    "fig, ax = plt.subplots\n",
    "ax.bar(medals.index, medals[\"Gold\"])\n",
    "ax.bar(medals.index, medals[\"Silver\"], bottom=medals[\"Gold\"])\n",
    "ax.set_xticklabels(medals.index, rotation=90)\n",
    "ax.set_ylabel(\"Number of medals\")\n",
    "plt.show()\n",
    "\n",
    "# Olympic medals: visualizing all three\n",
    "fig, ax = plt.subplots\n",
    "ax.bar(medals.index, medals[\"Gold\"])\n",
    "ax.bar(medals.index, medals[\"Silver\"], bottom=medals[\"Gold\"])\n",
    "ax.bar(medals.index, medals[\"Bronze\"],\n",
    "bottom=medals[\"Gold\"] + medals[\"Silver\"])\n",
    "ax.set_xticklabels(medals.index, rotation=90)\n",
    "ax.set_ylabel(\"Number of medals\")\n",
    "plt.show()\n",
    "\n",
    "# Adding a legend\n",
    "fig, ax = plt.subplots\n",
    "ax.bar(medals.index, medals[\"Gold\"], label=\"Gold\")\n",
    "ax.bar(medals.index, medals[\"Silver\"], bottom=medals[\"Gold\"],\n",
    "label=\"Silver\")\n",
    "ax.bar(medals.index, medals[\"Bronze\"],\n",
    "bottom=medals[\"Gold\"] + medals[\"Silver\"],\n",
    "label=\"Bronze\")\n",
    "ax.set_xticklabels(medals.index, rotation=90)\n",
    "ax.set_ylabel(\"Number of medals\")\n",
    "ax.legend()\n",
    "plt.show()\n",
    "```"
   ]
  },
  {
   "cell_type": "markdown",
   "metadata": {},
   "source": [
    "[Bar chart | Python](https://campus.datacamp.com/courses/introduction-to-data-visualization-with-matplotlib/quantitative-comparisons-and-statistical-visualizations?ex=2)\n",
    "\n",
    "> ## Bar chart\n",
    "> \n",
    "> Bar charts visualize data that is organized according to categories as a series of bars, where the height of each bar represents the values of the data in this category.\n",
    "> \n",
    "> For example, in this exercise, you will visualize the number of gold medals won by each country in the provided `medals` DataFrame. The DataFrame contains the countries as the index, and a column called `\"Gold\"` that contains the number of gold medals won by each country, according to their rows."
   ]
  },
  {
   "cell_type": "markdown",
   "metadata": {},
   "source": [
    "### init"
   ]
  },
  {
   "cell_type": "code",
   "execution_count": 1,
   "metadata": {
    "ExecuteTime": {
     "end_time": "2021-01-14T07:46:22.719342Z",
     "start_time": "2021-01-14T07:46:21.916776Z"
    }
   },
   "outputs": [
    {
     "name": "stdout",
     "output_type": "stream",
     "text": [
      "Téléchargements à lancer\n",
      "{'pandas.core.frame.DataFrame': {'medals.csv': 'https://file.io/XdYWmqFcnUyM'}}\n",
      "  % Total    % Received % Xferd  Average Speed   Time    Time     Time  Current\n",
      "                                 Dload  Upload   Total   Spent    Left  Speed\n",
      "100   193    0   193    0     0    371      0 --:--:-- --:--:-- --:--:--   371\n",
      "\n"
     ]
    }
   ],
   "source": [
    "###################\n",
    "##### Dataframe\n",
    "###################\n",
    "\n",
    "#upload and download\n",
    "\n",
    "from downloadfromFileIO import saveFromFileIO\n",
    "\"\"\" à executer sur datacamp: (apres copie du code uploadfromdatacamp.py)\n",
    "uploadToFileIO(medals)\n",
    "\"\"\"\n",
    "\n",
    "tobedownloaded=\"\"\"\n",
    "{pandas.core.frame.DataFrame: {'medals.csv': 'https://file.io/XdYWmqFcnUyM'}}\n",
    "\"\"\"\n",
    "prefixToc='1.1'\n",
    "prefix = saveFromFileIO(tobedownloaded, prefixToc=prefixToc, proxy=\"\")\n",
    "\n",
    "#initialisation\n",
    "\n",
    "import pandas as pd\n",
    "medals = pd.read_csv(prefix+'medals.csv',index_col=0)\n"
   ]
  },
  {
   "cell_type": "markdown",
   "metadata": {},
   "source": [
    "### code"
   ]
  },
  {
   "cell_type": "markdown",
   "metadata": {},
   "source": [
    "> -   Call the `ax.bar` method to plot the `\"Gold\"` column as a function of the country.\n",
    "> -   Use the `ax.set_xticklabels` to set the x-axis tick labels to be the country names.\n",
    "> -   In the call to `ax.set_xticklabels` rotate the x-axis tick labels by 90 degrees by using the `rotation` key-word argument.\n",
    "> -   Set the y-axis label to `\"Number of medals\"`."
   ]
  },
  {
   "cell_type": "code",
   "execution_count": 3,
   "metadata": {
    "ExecuteTime": {
     "end_time": "2021-01-14T07:47:21.691612Z",
     "start_time": "2021-01-14T07:47:21.631335Z"
    }
   },
   "outputs": [
    {
     "data": {
      "text/html": [
       "<div>\n",
       "<style scoped>\n",
       "    .dataframe tbody tr th:only-of-type {\n",
       "        vertical-align: middle;\n",
       "    }\n",
       "\n",
       "    .dataframe tbody tr th {\n",
       "        vertical-align: top;\n",
       "    }\n",
       "\n",
       "    .dataframe thead th {\n",
       "        text-align: right;\n",
       "    }\n",
       "</style>\n",
       "<table border=\"1\" class=\"dataframe\">\n",
       "  <thead>\n",
       "    <tr style=\"text-align: right;\">\n",
       "      <th></th>\n",
       "      <th>Bronze</th>\n",
       "      <th>Gold</th>\n",
       "      <th>Silver</th>\n",
       "    </tr>\n",
       "  </thead>\n",
       "  <tbody>\n",
       "    <tr>\n",
       "      <th>United States</th>\n",
       "      <td>67</td>\n",
       "      <td>137</td>\n",
       "      <td>52</td>\n",
       "    </tr>\n",
       "    <tr>\n",
       "      <th>Germany</th>\n",
       "      <td>67</td>\n",
       "      <td>47</td>\n",
       "      <td>43</td>\n",
       "    </tr>\n",
       "    <tr>\n",
       "      <th>Great Britain</th>\n",
       "      <td>26</td>\n",
       "      <td>64</td>\n",
       "      <td>55</td>\n",
       "    </tr>\n",
       "    <tr>\n",
       "      <th>Russia</th>\n",
       "      <td>35</td>\n",
       "      <td>50</td>\n",
       "      <td>28</td>\n",
       "    </tr>\n",
       "    <tr>\n",
       "      <th>China</th>\n",
       "      <td>35</td>\n",
       "      <td>44</td>\n",
       "      <td>30</td>\n",
       "    </tr>\n",
       "  </tbody>\n",
       "</table>\n",
       "</div>"
      ],
      "text/plain": [
       "               Bronze  Gold  Silver\n",
       "United States      67   137      52\n",
       "Germany            67    47      43\n",
       "Great Britain      26    64      55\n",
       "Russia             35    50      28\n",
       "China              35    44      30"
      ]
     },
     "execution_count": 3,
     "metadata": {},
     "output_type": "execute_result"
    }
   ],
   "source": [
    "import matplotlib.pyplot as plt\n",
    "medals.head()"
   ]
  },
  {
   "cell_type": "code",
   "execution_count": 4,
   "metadata": {
    "ExecuteTime": {
     "end_time": "2021-01-14T07:48:51.828552Z",
     "start_time": "2021-01-14T07:48:51.686962Z"
    }
   },
   "outputs": [
    {
     "name": "stderr",
     "output_type": "stream",
     "text": [
      "/home/explore/miniconda3/envs/datacamp/lib/python3.7/site-packages/ipykernel_launcher.py:7: UserWarning: FixedFormatter should only be used together with FixedLocator\n",
      "  import sys\n"
     ]
    },
    {
     "data": {
      "image/png": "[encoded data removed]",
      "text/plain": [
       "<Figure size 432x288 with 1 Axes>"
      ]
     },
     "metadata": {
      "needs_background": "light"
     },
     "output_type": "display_data"
    }
   ],
   "source": [
    "fig, ax = plt.subplots()\n",
    "\n",
    "# Plot a bar-chart of gold medals as a function of country\n",
    "ax.bar(medals.index, medals[\"Gold\"])\n",
    "\n",
    "# Set the x-axis tick labels to the country names\n",
    "ax.set_xticklabels(medals.index, rotation=90)\n",
    "\n",
    "# Set the y-axis label\n",
    "ax.set_ylabel('Number of medals')\n",
    "\n",
    "plt.show()"
   ]
  },
  {
   "cell_type": "markdown",
   "metadata": {},
   "source": [
    "[Stacked bar chart | Python](https://campus.datacamp.com/courses/introduction-to-data-visualization-with-matplotlib/quantitative-comparisons-and-statistical-visualizations?ex=3)\n",
    "\n",
    "> ## Stacked bar chart\n",
    "> \n",
    "> A stacked bar chart contains bars, where the height of each bar represents values. In addition, stacked on top of the first variable may be another variable. The _additional_ height of this bar represents the value of this variable. And you can add more bars on top of that.\n",
    "> \n",
    "> In this exercise, you will have access to a DataFrame called `medals` that contains an index that holds the names of different countries, and three columns: `\"Gold\"`, `\"Silver\"` and `\"Bronze\"`. You will also have a Figure, `fig`, and Axes, `ax`, that you can add data to.\n",
    "> \n",
    "> You will create a stacked bar chart that shows the number of gold, silver, and bronze medals won by each country, and you will add labels and create a legend that indicates which bars represent which medals."
   ]
  },
  {
   "cell_type": "markdown",
   "metadata": {},
   "source": [
    "> -   Call the `ax.bar` method to add the `\"Gold\"` medals. Call it with the `label` set to `\"Gold\"`.\n",
    "> -   Call the `ax.bar` method to stack `\"Silver\"` bars on top of that, using the `bottom` key-word argument so the bottom of the bars will be on top of the gold medal bars, and `label` to add the label `\"Silver\"`.\n",
    "> -   Use `ax.bar` to add `\"Bronze\"` bars on top of that, using the `bottom` key-word and `label` it as `\"Bronze\"`."
   ]
  },
  {
   "cell_type": "code",
   "execution_count": 6,
   "metadata": {
    "ExecuteTime": {
     "end_time": "2021-01-14T07:51:28.759890Z",
     "start_time": "2021-01-14T07:51:28.591634Z"
    }
   },
   "outputs": [
    {
     "data": {
      "image/png": "[encoded data removed]",
      "text/plain": [
       "<Figure size 432x288 with 1 Axes>"
      ]
     },
     "metadata": {
      "needs_background": "light"
     },
     "output_type": "display_data"
    }
   ],
   "source": [
    "fig, ax = plt.subplots()\n",
    "\n",
    "# Add bars for \"Gold\" with the label \"Gold\"\n",
    "ax.bar(medals.index, medals['Gold'], label='Gold')\n",
    "\n",
    "# Stack bars for \"Silver\" on top with label \"Silver\"\n",
    "ax.bar(medals.index, medals['Silver'], bottom=medals['Gold'],label='Silver')\n",
    "\n",
    "# Stack bars for \"Bronze\" on top of that with label \"Bronze\"\n",
    "ax.bar(medals.index, medals['Bronze'], bottom=medals['Gold']+medals['Silver'],label='Bronze')\n",
    "\n",
    "\n",
    "# Display the legend\n",
    "ax.legend()\n",
    "\n",
    "plt.show()"
   ]
  },
  {
   "cell_type": "markdown",
   "metadata": {},
   "source": [
    "# Quantitative comparisons: histograms\n",
    "\n",
    "```python\n",
    "\n",
    "# Introducing histograms\n",
    "fig, ax = plt.subplots()\n",
    "ax.hist(mens_rowing[\"Height\"])\n",
    "ax.hist(mens_gymnastic[\"Height\"])\n",
    "ax.set_xlabel(\"Height (cm)\")\n",
    "ax.set_ylabel(\"# of observations\")\n",
    "plt.show()\n",
    "\n",
    "# Labels are needed\n",
    "ax.hist(mens_rowing[\"Height\"], label=\"Rowing\")\n",
    "ax.hist(mens_gymnastic[\"Height\"], label=\"Gymnastics\")\n",
    "ax.set_xlabel(\"Height (cm)\")\n",
    "ax.set_ylabel(\"# of observations\")\n",
    "ax.legend()\n",
    "plt.show()\n",
    "\n",
    "# Customizing histograms: setting the number of bins\n",
    "ax.hist(mens_rowing[\"Height\"], label=\"Rowing\", bins=5)\n",
    "ax.hist(mens_gymnastic[\"Height\"], label=\"Gymnastics\", bins=5)\n",
    "ax.set_xlabel(\"Height (cm)\")\n",
    "ax.set_ylabel(\"# of observations\")\n",
    "ax.legend()\n",
    "plt.show()\n",
    "\n",
    "# Customizing histograms: setting bin boundaries\n",
    "ax.hist(mens_rowing[\"Height\"], label=\"Rowing\",\n",
    "bins=[150, 160, 170, 180, 190, 200, 210])\n",
    "ax.hist(mens_gymnastic[\"Height\"], label=\"Gymnastics\",\n",
    "bins=[150, 160, 170, 180, 190, 200, 210])\n",
    "ax.set_xlabel(\"Height (cm)\")\n",
    "ax.set_ylabel(\"# of observations\")\n",
    "ax.legend()\n",
    "plt.show()\n",
    "\n",
    "# Customizing histograms: transparency\n",
    "ax.hist(mens_rowing[\"Height\"], label=\"Rowing\",\n",
    "bins=[150, 160, 170, 180, 190, 200, 210],\n",
    "histtype=\"step\")\n",
    "ax.hist(mens_gymnastic[\"Height\"], label=\"Gymnastics\",\n",
    "bins=[150, 160, 170, 180, 190, 200, 210],\n",
    "histtype=\"step\")\n",
    "ax.set_xlabel(\"Height (cm)\")\n",
    "ax.set_ylabel(\"# of observations\")\n",
    "ax.legend()\n",
    "plt.show()\n",
    "```"
   ]
  },
  {
   "cell_type": "markdown",
   "metadata": {},
   "source": [
    "[Creating histograms | Python](https://campus.datacamp.com/courses/introduction-to-data-visualization-with-matplotlib/quantitative-comparisons-and-statistical-visualizations?ex=5)\n",
    "\n",
    "> ## Creating histograms\n",
    "> \n",
    "> Histograms show the full distribution of a variable. In this exercise, we will display the distribution of weights of medalists in gymnastics and in rowing in the 2016 Olympic games for a comparison between them.\n",
    "> \n",
    "> You will have two DataFrames to use. The first is called `mens_rowing` and includes information about the medalists in the men's rowing events. The other is called `mens_gymnastics` and includes information about medalists in all of the Gymnastics events."
   ]
  },
  {
   "cell_type": "markdown",
   "metadata": {},
   "source": [
    "### init"
   ]
  },
  {
   "cell_type": "code",
   "execution_count": 7,
   "metadata": {
    "ExecuteTime": {
     "end_time": "2021-01-14T07:58:17.891853Z",
     "start_time": "2021-01-14T07:58:16.824084Z"
    }
   },
   "outputs": [
    {
     "name": "stdout",
     "output_type": "stream",
     "text": [
      "Téléchargements à lancer\n",
      "{'pandas.core.frame.DataFrame': {'mens_gymnastics.csv': 'https://file.io/aNF7q6wde0YG', 'mens_rowing.csv': 'https://file.io/cQtAjHG8M2IL'}}\n",
      "  % Total    % Received % Xferd  Average Speed   Time    Time     Time  Current\n",
      "                                 Dload  Upload   Total   Spent    Left  Speed\n",
      "100  5763    0  5763    0     0  11147      0 --:--:-- --:--:-- --:--:-- 11125\n",
      "\n",
      "  % Total    % Received % Xferd  Average Speed   Time    Time     Time  Current\n",
      "                                 Dload  Upload   Total   Spent    Left  Speed\n",
      "100 12797    0 12797    0     0  25748      0 --:--:-- --:--:-- --:--:-- 25748\n",
      "\n"
     ]
    }
   ],
   "source": [
    "###################\n",
    "##### Dataframe\n",
    "###################\n",
    "\n",
    "#upload and download\n",
    "\n",
    "from downloadfromFileIO import saveFromFileIO\n",
    "\"\"\" à executer sur datacamp: (apres copie du code uploadfromdatacamp.py)\n",
    "uploadToFileIO(mens_rowing, mens_gymnastics)\n",
    "\"\"\"\n",
    "\n",
    "tobedownloaded=\"\"\"\n",
    "{pandas.core.frame.DataFrame: {'mens_gymnastics.csv': 'https://file.io/aNF7q6wde0YG',\n",
    "  'mens_rowing.csv': 'https://file.io/cQtAjHG8M2IL'}}\n",
    "\"\"\"\n",
    "prefixToc='2.1'\n",
    "prefix = saveFromFileIO(tobedownloaded, prefixToc=prefixToc, proxy=\"\")\n",
    "\n",
    "#initialisation\n",
    "\n",
    "import pandas as pd\n",
    "mens_rowing = pd.read_csv(prefix+'mens_rowing.csv',index_col=0)\n",
    "mens_gymnastics = pd.read_csv(prefix+'mens_gymnastics.csv',index_col=0)\n"
   ]
  },
  {
   "cell_type": "markdown",
   "metadata": {},
   "source": [
    "### code"
   ]
  },
  {
   "cell_type": "markdown",
   "metadata": {},
   "source": [
    "> -   Use the `ax.hist` method to add a histogram of the \"Weight\" column from the `mens_rowing` DataFrame.\n",
    "> -   Use `ax.hist` to add a histogram of \"Weight\" for the `mens_gymnastics` DataFrame.\n",
    "> -   Set the x-axis label to \"Weight (kg)\" and the y-axis label to \"# of observations\"."
   ]
  },
  {
   "cell_type": "code",
   "execution_count": 8,
   "metadata": {
    "ExecuteTime": {
     "end_time": "2021-01-14T07:59:06.812973Z",
     "start_time": "2021-01-14T07:59:06.778577Z"
    }
   },
   "outputs": [
    {
     "data": {
      "text/html": [
       "<div>\n",
       "<style scoped>\n",
       "    .dataframe tbody tr th:only-of-type {\n",
       "        vertical-align: middle;\n",
       "    }\n",
       "\n",
       "    .dataframe tbody tr th {\n",
       "        vertical-align: top;\n",
       "    }\n",
       "\n",
       "    .dataframe thead th {\n",
       "        text-align: right;\n",
       "    }\n",
       "</style>\n",
       "<table border=\"1\" class=\"dataframe\">\n",
       "  <thead>\n",
       "    <tr style=\"text-align: right;\">\n",
       "      <th></th>\n",
       "      <th>Unnamed: 0.1</th>\n",
       "      <th>ID</th>\n",
       "      <th>Name</th>\n",
       "      <th>Sex</th>\n",
       "      <th>Age</th>\n",
       "      <th>Height</th>\n",
       "      <th>Weight</th>\n",
       "      <th>Team</th>\n",
       "      <th>NOC</th>\n",
       "      <th>Games</th>\n",
       "      <th>Year</th>\n",
       "      <th>Season</th>\n",
       "      <th>City</th>\n",
       "      <th>Sport</th>\n",
       "      <th>Event</th>\n",
       "      <th>Medal</th>\n",
       "    </tr>\n",
       "  </thead>\n",
       "  <tbody>\n",
       "    <tr>\n",
       "      <th>58</th>\n",
       "      <td>794</td>\n",
       "      <td>455</td>\n",
       "      <td>Denis Mikhaylovich Ablyazin</td>\n",
       "      <td>M</td>\n",
       "      <td>24.0</td>\n",
       "      <td>161.0</td>\n",
       "      <td>62.0</td>\n",
       "      <td>Russia</td>\n",
       "      <td>RUS</td>\n",
       "      <td>2016 Summer</td>\n",
       "      <td>2016</td>\n",
       "      <td>Summer</td>\n",
       "      <td>Rio de Janeiro</td>\n",
       "      <td>Gymnastics</td>\n",
       "      <td>Gymnastics Men's Team All-Around</td>\n",
       "      <td>Silver</td>\n",
       "    </tr>\n",
       "    <tr>\n",
       "      <th>60</th>\n",
       "      <td>796</td>\n",
       "      <td>455</td>\n",
       "      <td>Denis Mikhaylovich Ablyazin</td>\n",
       "      <td>M</td>\n",
       "      <td>24.0</td>\n",
       "      <td>161.0</td>\n",
       "      <td>62.0</td>\n",
       "      <td>Russia</td>\n",
       "      <td>RUS</td>\n",
       "      <td>2016 Summer</td>\n",
       "      <td>2016</td>\n",
       "      <td>Summer</td>\n",
       "      <td>Rio de Janeiro</td>\n",
       "      <td>Gymnastics</td>\n",
       "      <td>Gymnastics Men's Horse Vault</td>\n",
       "      <td>Silver</td>\n",
       "    </tr>\n",
       "    <tr>\n",
       "      <th>61</th>\n",
       "      <td>797</td>\n",
       "      <td>455</td>\n",
       "      <td>Denis Mikhaylovich Ablyazin</td>\n",
       "      <td>M</td>\n",
       "      <td>24.0</td>\n",
       "      <td>161.0</td>\n",
       "      <td>62.0</td>\n",
       "      <td>Russia</td>\n",
       "      <td>RUS</td>\n",
       "      <td>2016 Summer</td>\n",
       "      <td>2016</td>\n",
       "      <td>Summer</td>\n",
       "      <td>Rio de Janeiro</td>\n",
       "      <td>Gymnastics</td>\n",
       "      <td>Gymnastics Men's Rings</td>\n",
       "      <td>Bronze</td>\n",
       "    </tr>\n",
       "    <tr>\n",
       "      <th>1066</th>\n",
       "      <td>18577</td>\n",
       "      <td>9829</td>\n",
       "      <td>David Sagitovich Belyavsky</td>\n",
       "      <td>M</td>\n",
       "      <td>24.0</td>\n",
       "      <td>165.0</td>\n",
       "      <td>55.0</td>\n",
       "      <td>Russia</td>\n",
       "      <td>RUS</td>\n",
       "      <td>2016 Summer</td>\n",
       "      <td>2016</td>\n",
       "      <td>Summer</td>\n",
       "      <td>Rio de Janeiro</td>\n",
       "      <td>Gymnastics</td>\n",
       "      <td>Gymnastics Men's Team All-Around</td>\n",
       "      <td>Silver</td>\n",
       "    </tr>\n",
       "    <tr>\n",
       "      <th>1068</th>\n",
       "      <td>18579</td>\n",
       "      <td>9829</td>\n",
       "      <td>David Sagitovich Belyavsky</td>\n",
       "      <td>M</td>\n",
       "      <td>24.0</td>\n",
       "      <td>165.0</td>\n",
       "      <td>55.0</td>\n",
       "      <td>Russia</td>\n",
       "      <td>RUS</td>\n",
       "      <td>2016 Summer</td>\n",
       "      <td>2016</td>\n",
       "      <td>Summer</td>\n",
       "      <td>Rio de Janeiro</td>\n",
       "      <td>Gymnastics</td>\n",
       "      <td>Gymnastics Men's Parallel Bars</td>\n",
       "      <td>Bronze</td>\n",
       "    </tr>\n",
       "  </tbody>\n",
       "</table>\n",
       "</div>"
      ],
      "text/plain": [
       "      Unnamed: 0.1    ID                         Name Sex   Age  Height  \\\n",
       "58             794   455  Denis Mikhaylovich Ablyazin   M  24.0   161.0   \n",
       "60             796   455  Denis Mikhaylovich Ablyazin   M  24.0   161.0   \n",
       "61             797   455  Denis Mikhaylovich Ablyazin   M  24.0   161.0   \n",
       "1066         18577  9829   David Sagitovich Belyavsky   M  24.0   165.0   \n",
       "1068         18579  9829   David Sagitovich Belyavsky   M  24.0   165.0   \n",
       "\n",
       "      Weight    Team  NOC        Games  Year  Season            City  \\\n",
       "58      62.0  Russia  RUS  2016 Summer  2016  Summer  Rio de Janeiro   \n",
       "60      62.0  Russia  RUS  2016 Summer  2016  Summer  Rio de Janeiro   \n",
       "61      62.0  Russia  RUS  2016 Summer  2016  Summer  Rio de Janeiro   \n",
       "1066    55.0  Russia  RUS  2016 Summer  2016  Summer  Rio de Janeiro   \n",
       "1068    55.0  Russia  RUS  2016 Summer  2016  Summer  Rio de Janeiro   \n",
       "\n",
       "           Sport                             Event   Medal  \n",
       "58    Gymnastics  Gymnastics Men's Team All-Around  Silver  \n",
       "60    Gymnastics      Gymnastics Men's Horse Vault  Silver  \n",
       "61    Gymnastics            Gymnastics Men's Rings  Bronze  \n",
       "1066  Gymnastics  Gymnastics Men's Team All-Around  Silver  \n",
       "1068  Gymnastics    Gymnastics Men's Parallel Bars  Bronze  "
      ]
     },
     "execution_count": 8,
     "metadata": {},
     "output_type": "execute_result"
    }
   ],
   "source": [
    "mens_gymnastics.head()"
   ]
  },
  {
   "cell_type": "code",
   "execution_count": 9,
   "metadata": {
    "ExecuteTime": {
     "end_time": "2021-01-14T08:00:09.080996Z",
     "start_time": "2021-01-14T08:00:08.955734Z"
    }
   },
   "outputs": [
    {
     "data": {
      "image/png": "[encoded data removed]",
      "text/plain": [
       "<Figure size 432x288 with 1 Axes>"
      ]
     },
     "metadata": {
      "needs_background": "light"
     },
     "output_type": "display_data"
    }
   ],
   "source": [
    "fig, ax = plt.subplots()\n",
    "# Plot a histogram of \"Weight\" for mens_rowing\n",
    "ax.hist(mens_rowing['Weight'])\n",
    "\n",
    "# Compare to histogram of \"Weight\" for mens_gymnastics\n",
    "ax.hist(mens_gymnastics['Weight'])\n",
    "\n",
    "\n",
    "# Set the x-axis label to \"Weight (kg)\"\n",
    "ax.set_xlabel('Weight (kg)')\n",
    "\n",
    "# Set the y-axis label to \"# of observations\"\n",
    "ax.set_ylabel('# of observations')\n",
    "\n",
    "plt.show()"
   ]
  },
  {
   "cell_type": "markdown",
   "metadata": {},
   "source": [
    "[\"Step\" histogram | Python](https://campus.datacamp.com/courses/introduction-to-data-visualization-with-matplotlib/quantitative-comparisons-and-statistical-visualizations?ex=6)\n",
    "\n",
    "> ## \"Step\" histogram\n",
    "> \n",
    "> Histograms allow us to see the distributions of the data in different groups in our data. In this exercise, you will select groups from the Summer 2016 Olympic Games medalist dataset to compare the height of medalist athletes in two different sports.\n",
    "> \n",
    "> The data is stored in a Pandas DataFrame object called `summer_2016_medals` that has a column \"Height\". In addition, you are provided a Pandas GroupBy object that has been grouped by the sport.\n",
    "> \n",
    "> In the exercise below, you will visualize and label the histograms of two sports: \"Gymnastics\" and \"Rowing\" and see the marked difference between medalists in these two sports."
   ]
  },
  {
   "cell_type": "markdown",
   "metadata": {},
   "source": [
    "> -   Use the `hist` method to display a histogram of the `\"Weight\"` column from the `mens_rowing` DataFrame, label this as `\"Rowing\"`.\n",
    "> -   Use `hist` to display a histogram of the `\"Weight\"` column from the `mens_gymnastics` DataFrame, and label this as `\"Gymnastics\"`.\n",
    "> -   For both histograms, use the 'histtype' argument to visualize the data using the `'step'` type and set the number of bins to use to 5.\n",
    "> -   Add a legend to the figure, before it is displayed."
   ]
  },
  {
   "cell_type": "code",
   "execution_count": 13,
   "metadata": {
    "ExecuteTime": {
     "end_time": "2021-01-14T08:03:31.576258Z",
     "start_time": "2021-01-14T08:03:31.455432Z"
    }
   },
   "outputs": [
    {
     "data": {
      "image/png": "[encoded data removed]",
      "text/plain": [
       "<Figure size 432x288 with 1 Axes>"
      ]
     },
     "metadata": {
      "needs_background": "light"
     },
     "output_type": "display_data"
    }
   ],
   "source": [
    "fig, ax = plt.subplots()\n",
    "\n",
    "# Plot a histogram of \"Weight\" for mens_rowing\n",
    "ax.hist(mens_rowing['Weight'], label='Rowing', histtype='step', bins=5)\n",
    "\n",
    "# Compare to histogram of \"Weight\" for mens_gymnastics\n",
    "ax.hist(mens_gymnastics['Weight'], label='Gymnastics', histtype='step', bins=5)\n",
    "\n",
    "ax.set_xlabel(\"Weight (kg)\")\n",
    "ax.set_ylabel(\"# of observations\")\n",
    "\n",
    "# Add the legend and show the Figure\n",
    "ax.legend()\n",
    "plt.show()"
   ]
  },
  {
   "cell_type": "markdown",
   "metadata": {},
   "source": [
    "# Statistical plotting\n",
    "\n",
    "```python\n",
    "# Adding error bars to bar charts\n",
    "fig, ax = plt.subplots()\n",
    "ax.bar(\"Rowing\",mens_rowing[\"Height\"].mean(),\n",
    "yerr=mens_rowing[\"Height\"].std())\n",
    "ax.bar(\"Gymnastics\",mens_gymnastics[\"Height\"].mean(),\n",
    "yerr=mens_gymnastics[\"Height\"].std())\n",
    "ax.set_ylabel(\"Height (cm)\")\n",
    "plt.show()\n",
    "\n",
    "# Adding error bars to plots\n",
    "fig, ax = plt.subplots()\n",
    "ax.errorbar(seattle_weather[\"MONTH\"],\n",
    "seattle_weather[\"MLY-TAVG-NORMAL\"],\n",
    "yerr=seattle_weather[\"MLY-TAVG-STDDEV\"])\n",
    "\n",
    "ax.errorbar(austin_weather[\"MONTH\"],\n",
    "austin_weather[\"MLY-TAVG-NORMAL\"],\n",
    "yerr=austin_weather[\"MLY-TAVG-STDDEV\"])\n",
    "\n",
    "ax.set_ylabel(\"Temperature (Fahrenheit)\")\n",
    "plt.show()\n",
    "\n",
    "# Adding boxplots\n",
    "fig, ax = plt.subplots()\n",
    "ax.boxplot([mens_rowing[\"Height\"],\n",
    "mens_gymnastics[\"Height\"]])\n",
    "ax.set_xticklabels([\"Rowing\", \"Gymnastics\"])\n",
    "ax.set_ylabel(\"Height (cm)\")\n",
    "plt.show()\n",
    "\n",
    "```"
   ]
  },
  {
   "cell_type": "markdown",
   "metadata": {},
   "source": [
    "[Adding error-bars to a bar chart | Python](https://campus.datacamp.com/courses/introduction-to-data-visualization-with-matplotlib/quantitative-comparisons-and-statistical-visualizations?ex=8)\n",
    "\n",
    "> ## Adding error-bars to a bar chart\n",
    "> \n",
    "> Statistical plotting techniques add quantitative information for comparisons into the visualization. For example, in this exercise, we will add error bars that quantify not only the difference in the means of the height of medalists in the 2016 Olympic Games, but also the standard deviation of each of these groups, as a way to assess whether the difference is substantial relative to the variability within each group.\n",
    "> \n",
    "> For the purpose of this exercise, you will have two DataFrames: `mens_rowing` holds data about the medalists in the rowing events and `mens_gymnastics` will hold information about the medalists in the gymnastics events."
   ]
  },
  {
   "cell_type": "markdown",
   "metadata": {},
   "source": [
    "> -   Add a bar with size equal to the mean of the `\"Height\"` column in the `mens_rowing` DataFrame and an error-bar of its standard deviation.\n",
    "> -   Add another bar for the mean of the `\"Height\"` column in `mens_gymnastics` with an error-bar of its standard deviation.\n",
    "> -   Add a label to the the y-axis: `\"Height (cm)\"`."
   ]
  },
  {
   "cell_type": "code",
   "execution_count": 15,
   "metadata": {
    "ExecuteTime": {
     "end_time": "2021-01-14T13:20:52.029386Z",
     "start_time": "2021-01-14T13:20:51.952538Z"
    }
   },
   "outputs": [
    {
     "data": {
      "image/png": "[encoded data removed]",
      "text/plain": [
       "<Figure size 432x288 with 1 Axes>"
      ]
     },
     "metadata": {
      "needs_background": "light"
     },
     "output_type": "display_data"
    }
   ],
   "source": [
    "fig, ax = plt.subplots()\n",
    "\n",
    "# Add a bar for the rowing \"Height\" column mean/std\n",
    "ax.bar(\"Rowing\", mens_rowing[\"Height\"].mean(), yerr=mens_rowing[\"Height\"].std())\n",
    "\n",
    "# Add a bar for the gymnastics \"Height\" column mean/std\n",
    "ax.bar(\"Gymnastics\", mens_gymnastics[\"Height\"].mean(), yerr=mens_gymnastics[\"Height\"].std())\n",
    "\n",
    "\n",
    "# Label the y-axis\n",
    "ax.set_ylabel(\"Height (cm)\")\n",
    "\n",
    "plt.show()"
   ]
  },
  {
   "cell_type": "markdown",
   "metadata": {},
   "source": [
    "[Adding error-bars to a plot | Python](https://campus.datacamp.com/courses/introduction-to-data-visualization-with-matplotlib/quantitative-comparisons-and-statistical-visualizations?ex=9)\n",
    "\n",
    "> ## Adding error-bars to a plot\n",
    "> \n",
    "> Adding error-bars to a plot is done by using the `errorbars` method of the `Axes` object.\n",
    "> \n",
    "> Here, you have two DataFrames loaded: `seattle_weather` has data about the weather in Seattle and `austin_weather` has data about the weather in Austin. Each DataFrame has a column `\"MONTH\"` that has the names of the months, a column `\"MLY-TAVG-NORMAL\"` that has the average temperature in each month and a column `\"MLY-TAVG-STDDEV\"` that has the standard deviation of the temperatures across years.\n",
    "> \n",
    "> In the exercise, you will plot the mean temperature across months and add the standard deviation at each point as y errorbars."
   ]
  },
  {
   "cell_type": "markdown",
   "metadata": {},
   "source": [
    "> -   Use the `ax.errorbar` method to add the Seattle data: the `\"MONTH\"` column as x values, the `\"MLY-TAVG-NORMAL\"` as y values and `\"MLY-TAVG-STDDEV\"` as `yerr` values.\n",
    "> -   Add the Austin data: the `\"MONTH\"` column as x values, the `\"MLY-TAVG-NORMAL\"` as y values and `\"MLY-TAVG-STDDEV\"` as `yerr` values.\n",
    "> -   Set the y-axis label as `\"Temperature (Fahrenheit)\"`"
   ]
  },
  {
   "cell_type": "markdown",
   "metadata": {},
   "source": [
    "### init"
   ]
  },
  {
   "cell_type": "code",
   "execution_count": 17,
   "metadata": {
    "ExecuteTime": {
     "end_time": "2021-01-14T13:24:22.445901Z",
     "start_time": "2021-01-14T13:24:21.268293Z"
    }
   },
   "outputs": [
    {
     "name": "stdout",
     "output_type": "stream",
     "text": [
      "Téléchargements à lancer\n",
      "{'pandas.core.frame.DataFrame': {'austin_weather.csv': 'https://file.io/MrChdAKS9l1S', 'seattle_weather.csv': 'https://file.io/EkKzDhWuP6Hj'}}\n",
      "  % Total    % Received % Xferd  Average Speed   Time    Time     Time  Current\n",
      "                                 Dload  Upload   Total   Spent    Left  Speed\n",
      "100  4943    0  4943    0     0   8717      0 --:--:-- --:--:-- --:--:--  8717\n",
      "\n",
      "  % Total    % Received % Xferd  Average Speed   Time    Time     Time  Current\n",
      "                                 Dload  Upload   Total   Spent    Left  Speed\n",
      "100  6579    0  6579    0     0  12343      0 --:--:-- --:--:-- --:--:-- 12320\n",
      "\n"
     ]
    }
   ],
   "source": [
    "###################\n",
    "##### Dataframe\n",
    "###################\n",
    "\n",
    "#upload and download\n",
    "\n",
    "from downloadfromFileIO import saveFromFileIO\n",
    "\"\"\" à executer sur datacamp: (apres copie du code uploadfromdatacamp.py)\n",
    "uploadToFileIO(seattle_weather, austin_weather)\n",
    "\"\"\"\n",
    "\n",
    "tobedownloaded=\"\"\"\n",
    "{pandas.core.frame.DataFrame: {'austin_weather.csv': 'https://file.io/MrChdAKS9l1S',\n",
    "  'seattle_weather.csv': 'https://file.io/EkKzDhWuP6Hj'}}\n",
    "\"\"\"\n",
    "prefixToc='3.2'\n",
    "prefix = saveFromFileIO(tobedownloaded, prefixToc=prefixToc, proxy=\"\")\n",
    "\n",
    "#initialisation\n",
    "\n",
    "import pandas as pd\n",
    "seattle_weather = pd.read_csv(prefix+'seattle_weather.csv',index_col=0)\n",
    "austin_weather = pd.read_csv(prefix+'austin_weather.csv',index_col=0)\n"
   ]
  },
  {
   "cell_type": "markdown",
   "metadata": {},
   "source": [
    "### code"
   ]
  },
  {
   "cell_type": "code",
   "execution_count": 18,
   "metadata": {
    "ExecuteTime": {
     "end_time": "2021-01-14T13:24:23.970595Z",
     "start_time": "2021-01-14T13:24:23.853258Z"
    }
   },
   "outputs": [
    {
     "data": {
      "image/png": "[encoded data removed]",
      "text/plain": [
       "<Figure size 432x288 with 1 Axes>"
      ]
     },
     "metadata": {
      "needs_background": "light"
     },
     "output_type": "display_data"
    }
   ],
   "source": [
    "fig, ax = plt.subplots()\n",
    "\n",
    "# Add Seattle temperature data in each month with error bars\n",
    "ax.errorbar(seattle_weather[\"MONTH\"],seattle_weather[\"MLY-TAVG-NORMAL\"],yerr=seattle_weather[\"MLY-TAVG-STDDEV\"])\n",
    "\n",
    "# Add Austin temperature data in each month with error bars\n",
    "ax.errorbar(austin_weather[\"MONTH\"],austin_weather[\"MLY-TAVG-NORMAL\"],yerr=austin_weather[\"MLY-TAVG-STDDEV\"]) \n",
    "\n",
    "# Set the y-axis label\n",
    "ax.set_ylabel(\"Temperature (Fahrenheit)\")\n",
    "\n",
    "plt.show()"
   ]
  },
  {
   "cell_type": "markdown",
   "metadata": {},
   "source": [
    "[Creating boxplots | Python](https://campus.datacamp.com/courses/introduction-to-data-visualization-with-matplotlib/quantitative-comparisons-and-statistical-visualizations?ex=10)\n",
    "\n",
    "> ## Creating boxplots\n",
    "> \n",
    "> Boxplots provide additional information about the distribution of the data that they represent. They tell us what the median of the distribution is, what the inter-quartile range is and also what the expected range of approximately 99% of the data should be. Outliers beyond this range are particularly highlighted.\n",
    "> \n",
    "> In this exercise, you will use the data about medalist heights that you previously visualized as histograms, and as bar charts with error bars, and you will visualize it as boxplots.\n",
    "> \n",
    "> Again, you will have the `mens_rowing` and `mens_gymnastics` DataFrames available to you, and both of these DataFrames have columns called `\"Height\"` that you will compare."
   ]
  },
  {
   "cell_type": "markdown",
   "metadata": {},
   "source": [
    "> -   Create a boxplot that contains the `\"Height\"` column for `mens_rowing` on the left and `mens_gymnastics` on the right.\n",
    "> -   Add x-axis tick labels: `\"Rowing\"` and `\"Gymnastics\"`.\n",
    "> -   Add a y-axis label: `\"Height (cm)\"`."
   ]
  },
  {
   "cell_type": "code",
   "execution_count": 19,
   "metadata": {
    "ExecuteTime": {
     "end_time": "2021-01-14T13:25:39.760167Z",
     "start_time": "2021-01-14T13:25:39.685816Z"
    }
   },
   "outputs": [
    {
     "data": {
      "image/png": "[encoded data removed]",
      "text/plain": [
       "<Figure size 432x288 with 1 Axes>"
      ]
     },
     "metadata": {
      "needs_background": "light"
     },
     "output_type": "display_data"
    }
   ],
   "source": [
    "fig, ax = plt.subplots()\n",
    "\n",
    "# Add a boxplot for the \"Height\" column in the DataFrames\n",
    "ax.boxplot([mens_rowing[\"Height\"],\n",
    "mens_gymnastics[\"Height\"]])\n",
    "\n",
    "# Add x-axis tick labels:\n",
    "ax.set_xticklabels([\"Rowing\", \"Gymnastics\"])\n",
    "\n",
    "# Add a y-axis label\n",
    "ax.set_ylabel(\"Height (cm)\")\n",
    "\n",
    "plt.show()"
   ]
  },
  {
   "cell_type": "markdown",
   "metadata": {},
   "source": [
    "# Quantitative comparisons: scatter plots\n",
    "\n",
    "```python\n",
    "\n",
    "# Introducing scatter plots\n",
    "fig, ax = plt.subplots()\n",
    "ax.scatter(climate_change[\"co2\"], climate_change[\"relative_temp\"])\n",
    "ax.set_xlabel(\"CO2 (ppm)\")\n",
    "ax.set_ylabel(\"Relative temperature (Celsius)\")\n",
    "plt.show()\n",
    "\n",
    "# Customizing scatter plots\n",
    "eighties = climate_change[\"1980-01-01\":\"1989-12-31\"]\n",
    "nineties = climate_change[\"1990-01-01\":\"1999-12-31\"]\n",
    "fig, ax = plt.subplots()\n",
    "ax.scatter(eighties[\"co2\"], eighties[\"relative_temp\"],\n",
    "color=\"red\", label=\"eighties\")\n",
    "ax.scatter(nineties[\"co2\"], nineties[\"relative_temp\"],\n",
    "color=\"blue\", label=\"nineties\")\n",
    "ax.legend()\n",
    "ax.set_xlabel(\"CO2 (ppm)\")\n",
    "ax.set_ylabel(\"Relative temperature (Celsius)\")\n",
    "plt.show()\n",
    "\n",
    "# Encoding a third variable by color\n",
    "fig, ax = plt.subplots()\n",
    "ax.scatter(climate_change[\"co2\"], climate_change[\"relative_temp\"],\n",
    "c=climate_change.index)\n",
    "ax.set_xlabel(\"CO2 (ppm)\")\n",
    "ax.set_ylabel(\"Relative temperature (Celsius)\")\n",
    "plt.show()\n",
    "```"
   ]
  },
  {
   "cell_type": "markdown",
   "metadata": {},
   "source": [
    "[Simple scatter plot | Python](https://campus.datacamp.com/courses/introduction-to-data-visualization-with-matplotlib/quantitative-comparisons-and-statistical-visualizations?ex=12)\n",
    "\n",
    "> ## Simple scatter plot\n",
    "> \n",
    "> Scatter are a bi-variate visualization technique. They plot each record in the data as a point. The location of each point is determined by the value of two variables: the first variable determines the distance along the x-axis and the second variable determines the height along the y-axis.\n",
    "> \n",
    "> In this exercise, you will create a scatter plot of the `climate_change` data. This DataFrame, which is already loaded, has a column `\"co2\"` that indicates the measurements of carbon dioxide every month and another column, `\"relative_temp\"` that indicates the temperature measured at the same time."
   ]
  },
  {
   "cell_type": "markdown",
   "metadata": {},
   "source": [
    "### init"
   ]
  },
  {
   "cell_type": "code",
   "execution_count": 26,
   "metadata": {
    "ExecuteTime": {
     "end_time": "2021-01-14T13:39:28.742193Z",
     "start_time": "2021-01-14T13:39:28.733836Z"
    }
   },
   "outputs": [
    {
     "name": "stdout",
     "output_type": "stream",
     "text": [
      "Téléchargements déjà effectués - SKIP\n"
     ]
    }
   ],
   "source": [
    "###################\n",
    "##### Dataframe\n",
    "###################\n",
    "\n",
    "#upload and download\n",
    "\n",
    "from downloadfromFileIO import saveFromFileIO\n",
    "\"\"\" à executer sur datacamp: (apres copie du code uploadfromdatacamp.py)\n",
    "uploadToFileIO(climate_change)\n",
    "\"\"\"\n",
    "\n",
    "tobedownloaded=\"\"\"\n",
    "{pandas.core.frame.DataFrame: {'climate_change.csv': 'https://file.io/e3A7ZcbQanCW'}}\n",
    "\"\"\"\n",
    "prefixToc='4.1'\n",
    "prefix = saveFromFileIO(tobedownloaded, prefixToc=prefixToc, proxy=\"\")\n",
    "\n",
    "#initialisation\n",
    "\n",
    "import pandas as pd\n",
    "climate_change = pd.read_csv(prefix+'climate_change.csv', parse_dates=['date'], index_col='date')\n"
   ]
  },
  {
   "cell_type": "markdown",
   "metadata": {},
   "source": [
    "### code"
   ]
  },
  {
   "cell_type": "markdown",
   "metadata": {},
   "source": [
    "> -   Using the `ax.scatter` method, add the data to the plot: `\"co2\"` on the x-axis and `\"relative_temp\"` on the y-axis.\n",
    "> -   Set the x-axis label to `\"CO2 (ppm)\"`.\n",
    "> -   Set the y-axis label to `\"Relative temperature (C)\"`."
   ]
  },
  {
   "cell_type": "code",
   "execution_count": 21,
   "metadata": {
    "ExecuteTime": {
     "end_time": "2021-01-14T13:34:02.266065Z",
     "start_time": "2021-01-14T13:34:02.166289Z"
    }
   },
   "outputs": [
    {
     "data": {
      "image/png": "[encoded data removed]",
      "text/plain": [
       "<Figure size 432x288 with 1 Axes>"
      ]
     },
     "metadata": {
      "needs_background": "light"
     },
     "output_type": "display_data"
    }
   ],
   "source": [
    "fig, ax = plt.subplots()\n",
    "\n",
    "# Add data: \"co2\" on x-axis, \"relative_temp\" on y-axis\n",
    "ax.scatter(climate_change['co2'], climate_change['relative_temp'])\n",
    "\n",
    "# Set the x-axis label to \"CO2 (ppm)\"\n",
    "ax.set_xlabel('CO2 (ppm)')\n",
    "\n",
    "# Set the y-axis label to \"Relative temperature (C)\"\n",
    "ax.set_ylabel(\"Relative temperature (C)\")\n",
    "\n",
    "plt.show()"
   ]
  },
  {
   "cell_type": "markdown",
   "metadata": {},
   "source": [
    "[Encoding time by color | Python](https://campus.datacamp.com/courses/introduction-to-data-visualization-with-matplotlib/quantitative-comparisons-and-statistical-visualizations?ex=13)\n",
    "\n",
    "> ## Encoding time by color\n",
    "> \n",
    "> The screen only has two dimensions, but we can encode another dimension in the scatter plot using color. Here, we will visualize the `climate_change` dataset, plotting a scatter plot of the `\"co2\"` column, on the x-axis, against the `\"relative_temp\"` column, on the y-axis. We will encode time using the color dimension, with earlier times appearing as darker shades of blue and later times appearing as brighter shades of yellow."
   ]
  },
  {
   "cell_type": "markdown",
   "metadata": {},
   "source": [
    "> -   Using the `ax.scatter` method add a scatter plot of the `\"co2\"` column (x-axis) against the `\"relative_temp\"` column.\n",
    "> -   Use the `c` key-word argument to pass in the index of the DataFrame as input to color each point according to its date.\n",
    "> -   Set the x-axis label to `\"CO2 (ppm)\"` and the y-axis label to `\"Relative temperature (C)\"`."
   ]
  },
  {
   "cell_type": "code",
   "execution_count": 28,
   "metadata": {
    "ExecuteTime": {
     "end_time": "2021-01-14T13:39:38.593218Z",
     "start_time": "2021-01-14T13:39:38.474692Z"
    }
   },
   "outputs": [
    {
     "data": {
      "image/png": "[encoded data removed]",
      "text/plain": [
       "<Figure size 432x288 with 1 Axes>"
      ]
     },
     "metadata": {
      "needs_background": "light"
     },
     "output_type": "display_data"
    }
   ],
   "source": [
    "fig, ax = plt.subplots()\n",
    "\n",
    "# Add data: \"co2\", \"relative_temp\" as x-y, index as color\n",
    "ax.scatter(climate_change['co2'], climate_change['relative_temp'], c=climate_change.index)\n",
    "\n",
    "# Set the x-axis label to \"CO2 (ppm)\"\n",
    "ax.set_xlabel('CO2 (ppm)')\n",
    "\n",
    "# Set the y-axis label to \"Relative temperature (C)\"\n",
    "ax.set_ylabel(\"Relative temperature (C)\")\n",
    "\n",
    "plt.show()"
   ]
  },
  {
   "cell_type": "code",
   "execution_count": null,
   "metadata": {},
   "outputs": [],
   "source": []
  }
 ],
 "metadata": {
  "kernelspec": {
   "display_name": "Python [conda env:datacamp] *",
   "language": "python",
   "name": "conda-env-datacamp-py"
  },
  "language_info": {
   "codemirror_mode": {
    "name": "ipython",
    "version": 3
   },
   "file_extension": ".py",
   "mimetype": "text/x-python",
   "name": "python",
   "nbconvert_exporter": "python",
   "pygments_lexer": "ipython3",
   "version": "3.7.9"
  },
  "toc": {
   "base_numbering": 1,
   "nav_menu": {},
   "number_sections": true,
   "sideBar": true,
   "skip_h1_title": false,
   "title_cell": "Table of Contents",
   "title_sidebar": "Contents",
   "toc_cell": false,
   "toc_position": {},
   "toc_section_display": true,
   "toc_window_display": true
  }
 },
 "nbformat": 4,
 "nbformat_minor": 4
}
