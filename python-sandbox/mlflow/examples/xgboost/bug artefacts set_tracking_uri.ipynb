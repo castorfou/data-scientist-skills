{
 "cells": [
  {
   "cell_type": "markdown",
   "metadata": {},
   "source": [
    "# working case"
   ]
  },
  {
   "cell_type": "code",
   "execution_count": 1,
   "metadata": {},
   "outputs": [
    {
     "name": "stdout",
     "output_type": "stream",
     "text": [
      "[0]\ttrain-mlogloss:0.42073\n",
      "[1]\ttrain-mlogloss:0.22429\n",
      "[2]\ttrain-mlogloss:0.13501\n",
      "[3]\ttrain-mlogloss:0.09029\n",
      "[4]\ttrain-mlogloss:0.06451\n",
      "[5]\ttrain-mlogloss:0.05024\n",
      "[6]\ttrain-mlogloss:0.04099\n",
      "[7]\ttrain-mlogloss:0.03578\n",
      "[8]\ttrain-mlogloss:0.03339\n",
      "[9]\ttrain-mlogloss:0.03100\n"
     ]
    },
    {
     "name": "stderr",
     "output_type": "stream",
     "text": [
      "/home/guillaume/anaconda3/envs/mlflow/lib/python3.6/site-packages/mlflow/utils/autologging_utils.py:60: DeprecationWarning: inspect.getargspec() is deprecated since Python 3.0, use inspect.signature() or inspect.getfullargspec()\n",
      "  all_param_names, _, _, all_default_values = inspect.getargspec(fn)  # pylint: disable=W1505\n",
      "/home/guillaume/anaconda3/envs/mlflow/lib/python3.6/site-packages/mlflow/xgboost.py:285: DeprecationWarning: inspect.getargspec() is deprecated since Python 3.0, use inspect.signature() or inspect.getfullargspec()\n",
      "  all_arg_names = inspect.getargspec(original)[0]  # pylint: disable=W1505\n"
     ]
    }
   ],
   "source": [
    "from sklearn import datasets\n",
    "from sklearn.model_selection import train_test_split\n",
    "from sklearn.metrics import accuracy_score, log_loss\n",
    "import xgboost as xgb\n",
    "import matplotlib as mpl\n",
    "\n",
    "\n",
    "import mlflow\n",
    "import mlflow.xgboost\n",
    "\n",
    "mpl.use('Agg')\n",
    "# prepare train and test data\n",
    "iris = datasets.load_iris()\n",
    "X = iris.data\n",
    "y = iris.target\n",
    "X_train, X_test, y_train, y_test = train_test_split(X, y, test_size=0.2, random_state=42)\n",
    "dtrain = xgb.DMatrix(X_train, label=y_train)\n",
    "dtest = xgb.DMatrix(X_test, label=y_test)\n",
    "\n",
    "# enable auto logging\n",
    "mlflow.xgboost.autolog(importance_types=['weight', 'gain'])\n",
    "\n",
    "with mlflow.start_run():\n",
    "\n",
    "    # train model\n",
    "    params = {\n",
    "        'objective': 'multi:softprob',\n",
    "        'num_class': 3,\n",
    "        'learning_rate': 0.7,\n",
    "        'eval_metric': 'mlogloss',\n",
    "        'colsample_bytree': 1.0,\n",
    "        'subsample': 1,\n",
    "        'seed': 42,\n",
    "    }\n",
    "    model = xgb.train(params, dtrain,10,  evals=[(dtrain, 'train')])\n",
    "\n",
    "    # evaluate model\n",
    "    y_proba = model.predict(dtest)\n",
    "    y_pred = y_proba.argmax(axis=1)\n",
    "    loss = log_loss(y_test, y_proba)\n",
    "    acc = accuracy_score(y_test, y_pred)\n",
    "\n",
    "    # log metrics\n",
    "    mlflow.log_metrics({'log_loss': loss, 'accuracy': acc})"
   ]
  },
  {
   "cell_type": "markdown",
   "metadata": {},
   "source": [
    "# non working case"
   ]
  },
  {
   "cell_type": "code",
   "execution_count": 6,
   "metadata": {},
   "outputs": [
    {
     "name": "stdout",
     "output_type": "stream",
     "text": [
      "[0]\ttrain-mlogloss:0.42073\n",
      "[1]\ttrain-mlogloss:0.22429\n",
      "[2]\ttrain-mlogloss:0.13501\n",
      "[3]\ttrain-mlogloss:0.09029\n",
      "[4]\ttrain-mlogloss:0.06451\n",
      "[5]\ttrain-mlogloss:0.05024\n",
      "[6]\ttrain-mlogloss:0.04099\n",
      "[7]\ttrain-mlogloss:0.03578\n",
      "[8]\ttrain-mlogloss:0.03339\n",
      "[9]\ttrain-mlogloss:0.03100\n"
     ]
    }
   ],
   "source": [
    "from sklearn import datasets\n",
    "from sklearn.model_selection import train_test_split\n",
    "from sklearn.metrics import accuracy_score, log_loss\n",
    "import xgboost as xgb\n",
    "import matplotlib as mpl\n",
    "\n",
    "\n",
    "import mlflow\n",
    "import mlflow.xgboost\n",
    "\n",
    "#mlflow.set_tracking_uri('file:models_mlflow/mlruns')\n",
    "mlflow.set_tracking_uri('file:models_mlflow/mlruns')\n",
    "\n",
    "mpl.use('Agg')\n",
    "# prepare train and test data\n",
    "iris = datasets.load_iris()\n",
    "X = iris.data\n",
    "y = iris.target\n",
    "X_train, X_test, y_train, y_test = train_test_split(X, y, test_size=0.2, random_state=42)\n",
    "dtrain = xgb.DMatrix(X_train, label=y_train)\n",
    "dtest = xgb.DMatrix(X_test, label=y_test)\n",
    "\n",
    "# enable auto logging\n",
    "mlflow.xgboost.autolog(importance_types=['weight', 'gain'])\n",
    "\n",
    "with mlflow.start_run():\n",
    "\n",
    "    # train model\n",
    "    params = {\n",
    "        'objective': 'multi:softprob',\n",
    "        'num_class': 3,\n",
    "        'learning_rate': 0.7,\n",
    "        'eval_metric': 'mlogloss',\n",
    "        'colsample_bytree': 1.0,\n",
    "        'subsample': 1,\n",
    "        'seed': 42,\n",
    "    }\n",
    "    model = xgb.train(params, dtrain,10,  evals=[(dtrain, 'train')])\n",
    "\n",
    "    # evaluate model\n",
    "    y_proba = model.predict(dtest)\n",
    "    y_pred = y_proba.argmax(axis=1)\n",
    "    loss = log_loss(y_test, y_proba)\n",
    "    acc = accuracy_score(y_test, y_pred)\n",
    "\n",
    "    # log metrics\n",
    "    mlflow.log_metrics({'log_loss': loss, 'accuracy': acc})"
   ]
  },
  {
   "cell_type": "code",
   "execution_count": null,
   "metadata": {},
   "outputs": [],
   "source": []
  }
 ],
 "metadata": {
  "kernelspec": {
   "display_name": "Python 3",
   "language": "python",
   "name": "python3"
  },
  "language_info": {
   "codemirror_mode": {
    "name": "ipython",
    "version": 3
   },
   "file_extension": ".py",
   "mimetype": "text/x-python",
   "name": "python",
   "nbconvert_exporter": "python",
   "pygments_lexer": "ipython3",
   "version": "3.6.10"
  }
 },
 "nbformat": 4,
 "nbformat_minor": 4
}
