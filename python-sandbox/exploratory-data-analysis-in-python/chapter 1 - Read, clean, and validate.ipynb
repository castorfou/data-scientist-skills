{
 "cells": [
  {
   "cell_type": "markdown",
   "metadata": {},
   "source": [
    "# DataFrames and Series"
   ]
  },
  {
   "cell_type": "markdown",
   "metadata": {},
   "source": [
    "# Clean and Validate\n",
    "\n",
    "```python\n",
    "pounds.value_counts().sort_index()\n",
    "\n",
    "# Replace\n",
    "pounds = pounds.replace([98, 99], np.nan)\n",
    "```"
   ]
  },
  {
   "cell_type": "markdown",
   "metadata": {},
   "source": [
    "# Filter and visualize\n",
    "\n",
    "```python\n",
    "# Histogram\n",
    "import matplotlib.pyplot as plt\n",
    "plt.hist(birth_weight.dropna(), bins=30)\n",
    "plt.xlabel('Birth weight (lb)')\n",
    "plt.ylabel('Fraction of births')\n",
    "plt.show()\n",
    "\n",
    "# Filtering\n",
    "# Other logical operators:\n",
    "# & for AND (both must be true)\n",
    "# | for OR (either or both can be true)\n",
    "# Example:\n",
    "birth_weight[A & B] # both true\n",
    "birth_weight[A | B] # either or both true\n",
    "```"
   ]
  },
  {
   "cell_type": "code",
   "execution_count": null,
   "metadata": {},
   "outputs": [],
   "source": []
  }
 ],
 "metadata": {
  "kernelspec": {
   "display_name": "Python [conda env:datacamp] *",
   "language": "python",
   "name": "conda-env-datacamp-py"
  },
  "language_info": {
   "codemirror_mode": {
    "name": "ipython",
    "version": 3
   },
   "file_extension": ".py",
   "mimetype": "text/x-python",
   "name": "python",
   "nbconvert_exporter": "python",
   "pygments_lexer": "ipython3",
   "version": "3.7.9"
  },
  "toc": {
   "base_numbering": 1,
   "nav_menu": {},
   "number_sections": true,
   "sideBar": true,
   "skip_h1_title": false,
   "title_cell": "Table of Contents",
   "title_sidebar": "Contents",
   "toc_cell": false,
   "toc_position": {},
   "toc_section_display": true,
   "toc_window_display": true
  }
 },
 "nbformat": 4,
 "nbformat_minor": 4
}
