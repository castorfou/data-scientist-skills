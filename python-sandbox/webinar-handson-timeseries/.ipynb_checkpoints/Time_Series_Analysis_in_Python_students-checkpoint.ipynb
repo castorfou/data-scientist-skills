{
 "cells": [
  {
   "cell_type": "markdown",
   "metadata": {
    "colab_type": "text",
    "id": "6Ijg5wUCTQYG"
   },
   "source": [
    "<p align=\"center\">\n",
    "<img src=\"https://github.com/datacamp/python-live-training-template/blob/master/assets/datacamp.svg?raw=True\" alt = \"DataCamp icon\" width=\"50%\">\n",
    "</p>\n",
    "<br><br>\n",
    "\n",
    "# **Time Series Analysis in Python**\n",
    "\n",
    "\n",
    "Welcome to this hands-on training where we will learn to extract meaningful insights and make predictions based on time series data. \n",
    "\n",
    "In this session, you will learn to:\n",
    "\n",
    "- Identify trends and seasonality in data\n",
    "- Use correlation analysis to uncover patterns in time series\n",
    "- Use models like the moving average model and the autoregressive model to make predictions\n",
    "\n",
    "\n",
    "# **The datasets**\n",
    "\n",
    "Time series data is exceptionally varied, as are time series analysis techniques, and it's important to know more than just one technique, so we'll be using several datasets throughout the training. We will be working with these two datasets:\n",
    "\n",
    "- Monthly US gasoline production, in millions of barrels)\n",
    "- Quarterly unemployment rate in the US\n",
    "\n",
    "Each dataset will only have two columns:\n",
    "- `date`: the end date of the period (month or quarter)\n",
    "- `value`: the value of the quantity\n"
   ]
  },
  {
   "cell_type": "markdown",
   "metadata": {
    "colab_type": "text",
    "id": "BMYfcKeDY85K"
   },
   "source": [
    "# **Getting started**"
   ]
  },
  {
   "cell_type": "code",
   "execution_count": 1,
   "metadata": {
    "ExecuteTime": {
     "end_time": "2020-06-08T08:00:12.528290Z",
     "start_time": "2020-06-08T08:00:11.280368Z"
    },
    "colab": {},
    "colab_type": "code",
    "id": "EMQfyC7GUNhT"
   },
   "outputs": [],
   "source": [
    "# Import libraries\n",
    "import pandas as pd\n",
    "import matplotlib.pyplot as plt\n",
    "import statsmodels as sm\n",
    "\n",
    "# Set plot style\n",
    "plt.style.use('seaborn')\n",
    "\n",
    "# Set plot size\n",
    "plt.rcParams['figure.figsize'] = [8,6]"
   ]
  },
  {
   "cell_type": "markdown",
   "metadata": {
    "colab_type": "text",
    "id": "hDCWFJtzRVAa"
   },
   "source": [
    "# **Preparing the data**\n",
    "\n",
    "For the first part of the training, we'll be using the data containing weekly US gasoline production from `1991-02-03` to `2017-01-15`, in millions of barrels."
   ]
  },
  {
   "cell_type": "markdown",
   "metadata": {
    "colab_type": "text",
    "id": "LMmeTPzgRVAc"
   },
   "source": [
    "##      **Loading the data**"
   ]
  },
  {
   "cell_type": "code",
   "execution_count": 2,
   "metadata": {
    "ExecuteTime": {
     "end_time": "2020-06-08T08:00:37.810680Z",
     "start_time": "2020-06-08T08:00:16.571719Z"
    },
    "colab": {},
    "colab_type": "code",
    "id": "B-zwfj_URVAc"
   },
   "outputs": [
    {
     "ename": "URLError",
     "evalue": "<urlopen error [WinError 10060] Une tentative de connexion a échoué car le parti connecté n’a pas répondu convenablement au-delà d’une certaine durée ou une connexion établie a échoué car l’hôte de connexion n’a pas répondu>",
     "output_type": "error",
     "traceback": [
      "\u001b[1;31m---------------------------------------------------------------------------\u001b[0m",
      "\u001b[1;31mTimeoutError\u001b[0m                              Traceback (most recent call last)",
      "\u001b[1;32m~\\AppData\\Local\\Continuum\\anaconda3\\envs\\datacamp\\lib\\urllib\\request.py\u001b[0m in \u001b[0;36mdo_open\u001b[1;34m(self, http_class, req, **http_conn_args)\u001b[0m\n\u001b[0;32m   1316\u001b[0m                 h.request(req.get_method(), req.selector, req.data, headers,\n\u001b[1;32m-> 1317\u001b[1;33m                           encode_chunked=req.has_header('Transfer-encoding'))\n\u001b[0m\u001b[0;32m   1318\u001b[0m             \u001b[1;32mexcept\u001b[0m \u001b[0mOSError\u001b[0m \u001b[1;32mas\u001b[0m \u001b[0merr\u001b[0m\u001b[1;33m:\u001b[0m \u001b[1;31m# timeout error\u001b[0m\u001b[1;33m\u001b[0m\u001b[1;33m\u001b[0m\u001b[0m\n",
      "\u001b[1;32m~\\AppData\\Local\\Continuum\\anaconda3\\envs\\datacamp\\lib\\http\\client.py\u001b[0m in \u001b[0;36mrequest\u001b[1;34m(self, method, url, body, headers, encode_chunked)\u001b[0m\n\u001b[0;32m   1251\u001b[0m         \u001b[1;34m\"\"\"Send a complete request to the server.\"\"\"\u001b[0m\u001b[1;33m\u001b[0m\u001b[1;33m\u001b[0m\u001b[0m\n\u001b[1;32m-> 1252\u001b[1;33m         \u001b[0mself\u001b[0m\u001b[1;33m.\u001b[0m\u001b[0m_send_request\u001b[0m\u001b[1;33m(\u001b[0m\u001b[0mmethod\u001b[0m\u001b[1;33m,\u001b[0m \u001b[0murl\u001b[0m\u001b[1;33m,\u001b[0m \u001b[0mbody\u001b[0m\u001b[1;33m,\u001b[0m \u001b[0mheaders\u001b[0m\u001b[1;33m,\u001b[0m \u001b[0mencode_chunked\u001b[0m\u001b[1;33m)\u001b[0m\u001b[1;33m\u001b[0m\u001b[1;33m\u001b[0m\u001b[0m\n\u001b[0m\u001b[0;32m   1253\u001b[0m \u001b[1;33m\u001b[0m\u001b[0m\n",
      "\u001b[1;32m~\\AppData\\Local\\Continuum\\anaconda3\\envs\\datacamp\\lib\\http\\client.py\u001b[0m in \u001b[0;36m_send_request\u001b[1;34m(self, method, url, body, headers, encode_chunked)\u001b[0m\n\u001b[0;32m   1297\u001b[0m             \u001b[0mbody\u001b[0m \u001b[1;33m=\u001b[0m \u001b[0m_encode\u001b[0m\u001b[1;33m(\u001b[0m\u001b[0mbody\u001b[0m\u001b[1;33m,\u001b[0m \u001b[1;34m'body'\u001b[0m\u001b[1;33m)\u001b[0m\u001b[1;33m\u001b[0m\u001b[1;33m\u001b[0m\u001b[0m\n\u001b[1;32m-> 1298\u001b[1;33m         \u001b[0mself\u001b[0m\u001b[1;33m.\u001b[0m\u001b[0mendheaders\u001b[0m\u001b[1;33m(\u001b[0m\u001b[0mbody\u001b[0m\u001b[1;33m,\u001b[0m \u001b[0mencode_chunked\u001b[0m\u001b[1;33m=\u001b[0m\u001b[0mencode_chunked\u001b[0m\u001b[1;33m)\u001b[0m\u001b[1;33m\u001b[0m\u001b[1;33m\u001b[0m\u001b[0m\n\u001b[0m\u001b[0;32m   1299\u001b[0m \u001b[1;33m\u001b[0m\u001b[0m\n",
      "\u001b[1;32m~\\AppData\\Local\\Continuum\\anaconda3\\envs\\datacamp\\lib\\http\\client.py\u001b[0m in \u001b[0;36mendheaders\u001b[1;34m(self, message_body, encode_chunked)\u001b[0m\n\u001b[0;32m   1246\u001b[0m             \u001b[1;32mraise\u001b[0m \u001b[0mCannotSendHeader\u001b[0m\u001b[1;33m(\u001b[0m\u001b[1;33m)\u001b[0m\u001b[1;33m\u001b[0m\u001b[1;33m\u001b[0m\u001b[0m\n\u001b[1;32m-> 1247\u001b[1;33m         \u001b[0mself\u001b[0m\u001b[1;33m.\u001b[0m\u001b[0m_send_output\u001b[0m\u001b[1;33m(\u001b[0m\u001b[0mmessage_body\u001b[0m\u001b[1;33m,\u001b[0m \u001b[0mencode_chunked\u001b[0m\u001b[1;33m=\u001b[0m\u001b[0mencode_chunked\u001b[0m\u001b[1;33m)\u001b[0m\u001b[1;33m\u001b[0m\u001b[1;33m\u001b[0m\u001b[0m\n\u001b[0m\u001b[0;32m   1248\u001b[0m \u001b[1;33m\u001b[0m\u001b[0m\n",
      "\u001b[1;32m~\\AppData\\Local\\Continuum\\anaconda3\\envs\\datacamp\\lib\\http\\client.py\u001b[0m in \u001b[0;36m_send_output\u001b[1;34m(self, message_body, encode_chunked)\u001b[0m\n\u001b[0;32m   1025\u001b[0m         \u001b[1;32mdel\u001b[0m \u001b[0mself\u001b[0m\u001b[1;33m.\u001b[0m\u001b[0m_buffer\u001b[0m\u001b[1;33m[\u001b[0m\u001b[1;33m:\u001b[0m\u001b[1;33m]\u001b[0m\u001b[1;33m\u001b[0m\u001b[1;33m\u001b[0m\u001b[0m\n\u001b[1;32m-> 1026\u001b[1;33m         \u001b[0mself\u001b[0m\u001b[1;33m.\u001b[0m\u001b[0msend\u001b[0m\u001b[1;33m(\u001b[0m\u001b[0mmsg\u001b[0m\u001b[1;33m)\u001b[0m\u001b[1;33m\u001b[0m\u001b[1;33m\u001b[0m\u001b[0m\n\u001b[0m\u001b[0;32m   1027\u001b[0m \u001b[1;33m\u001b[0m\u001b[0m\n",
      "\u001b[1;32m~\\AppData\\Local\\Continuum\\anaconda3\\envs\\datacamp\\lib\\http\\client.py\u001b[0m in \u001b[0;36msend\u001b[1;34m(self, data)\u001b[0m\n\u001b[0;32m    965\u001b[0m             \u001b[1;32mif\u001b[0m \u001b[0mself\u001b[0m\u001b[1;33m.\u001b[0m\u001b[0mauto_open\u001b[0m\u001b[1;33m:\u001b[0m\u001b[1;33m\u001b[0m\u001b[1;33m\u001b[0m\u001b[0m\n\u001b[1;32m--> 966\u001b[1;33m                 \u001b[0mself\u001b[0m\u001b[1;33m.\u001b[0m\u001b[0mconnect\u001b[0m\u001b[1;33m(\u001b[0m\u001b[1;33m)\u001b[0m\u001b[1;33m\u001b[0m\u001b[1;33m\u001b[0m\u001b[0m\n\u001b[0m\u001b[0;32m    967\u001b[0m             \u001b[1;32melse\u001b[0m\u001b[1;33m:\u001b[0m\u001b[1;33m\u001b[0m\u001b[1;33m\u001b[0m\u001b[0m\n",
      "\u001b[1;32m~\\AppData\\Local\\Continuum\\anaconda3\\envs\\datacamp\\lib\\http\\client.py\u001b[0m in \u001b[0;36mconnect\u001b[1;34m(self)\u001b[0m\n\u001b[0;32m   1413\u001b[0m \u001b[1;33m\u001b[0m\u001b[0m\n\u001b[1;32m-> 1414\u001b[1;33m             \u001b[0msuper\u001b[0m\u001b[1;33m(\u001b[0m\u001b[1;33m)\u001b[0m\u001b[1;33m.\u001b[0m\u001b[0mconnect\u001b[0m\u001b[1;33m(\u001b[0m\u001b[1;33m)\u001b[0m\u001b[1;33m\u001b[0m\u001b[1;33m\u001b[0m\u001b[0m\n\u001b[0m\u001b[0;32m   1415\u001b[0m \u001b[1;33m\u001b[0m\u001b[0m\n",
      "\u001b[1;32m~\\AppData\\Local\\Continuum\\anaconda3\\envs\\datacamp\\lib\\http\\client.py\u001b[0m in \u001b[0;36mconnect\u001b[1;34m(self)\u001b[0m\n\u001b[0;32m    937\u001b[0m         self.sock = self._create_connection(\n\u001b[1;32m--> 938\u001b[1;33m             (self.host,self.port), self.timeout, self.source_address)\n\u001b[0m\u001b[0;32m    939\u001b[0m         \u001b[0mself\u001b[0m\u001b[1;33m.\u001b[0m\u001b[0msock\u001b[0m\u001b[1;33m.\u001b[0m\u001b[0msetsockopt\u001b[0m\u001b[1;33m(\u001b[0m\u001b[0msocket\u001b[0m\u001b[1;33m.\u001b[0m\u001b[0mIPPROTO_TCP\u001b[0m\u001b[1;33m,\u001b[0m \u001b[0msocket\u001b[0m\u001b[1;33m.\u001b[0m\u001b[0mTCP_NODELAY\u001b[0m\u001b[1;33m,\u001b[0m \u001b[1;36m1\u001b[0m\u001b[1;33m)\u001b[0m\u001b[1;33m\u001b[0m\u001b[1;33m\u001b[0m\u001b[0m\n",
      "\u001b[1;32m~\\AppData\\Local\\Continuum\\anaconda3\\envs\\datacamp\\lib\\socket.py\u001b[0m in \u001b[0;36mcreate_connection\u001b[1;34m(address, timeout, source_address)\u001b[0m\n\u001b[0;32m    726\u001b[0m     \u001b[1;32mif\u001b[0m \u001b[0merr\u001b[0m \u001b[1;32mis\u001b[0m \u001b[1;32mnot\u001b[0m \u001b[1;32mNone\u001b[0m\u001b[1;33m:\u001b[0m\u001b[1;33m\u001b[0m\u001b[1;33m\u001b[0m\u001b[0m\n\u001b[1;32m--> 727\u001b[1;33m         \u001b[1;32mraise\u001b[0m \u001b[0merr\u001b[0m\u001b[1;33m\u001b[0m\u001b[1;33m\u001b[0m\u001b[0m\n\u001b[0m\u001b[0;32m    728\u001b[0m     \u001b[1;32melse\u001b[0m\u001b[1;33m:\u001b[0m\u001b[1;33m\u001b[0m\u001b[1;33m\u001b[0m\u001b[0m\n",
      "\u001b[1;32m~\\AppData\\Local\\Continuum\\anaconda3\\envs\\datacamp\\lib\\socket.py\u001b[0m in \u001b[0;36mcreate_connection\u001b[1;34m(address, timeout, source_address)\u001b[0m\n\u001b[0;32m    715\u001b[0m                 \u001b[0msock\u001b[0m\u001b[1;33m.\u001b[0m\u001b[0mbind\u001b[0m\u001b[1;33m(\u001b[0m\u001b[0msource_address\u001b[0m\u001b[1;33m)\u001b[0m\u001b[1;33m\u001b[0m\u001b[1;33m\u001b[0m\u001b[0m\n\u001b[1;32m--> 716\u001b[1;33m             \u001b[0msock\u001b[0m\u001b[1;33m.\u001b[0m\u001b[0mconnect\u001b[0m\u001b[1;33m(\u001b[0m\u001b[0msa\u001b[0m\u001b[1;33m)\u001b[0m\u001b[1;33m\u001b[0m\u001b[1;33m\u001b[0m\u001b[0m\n\u001b[0m\u001b[0;32m    717\u001b[0m             \u001b[1;31m# Break explicitly a reference cycle\u001b[0m\u001b[1;33m\u001b[0m\u001b[1;33m\u001b[0m\u001b[1;33m\u001b[0m\u001b[0m\n",
      "\u001b[1;31mTimeoutError\u001b[0m: [WinError 10060] Une tentative de connexion a échoué car le parti connecté n’a pas répondu convenablement au-delà d’une certaine durée ou une connexion établie a échoué car l’hôte de connexion n’a pas répondu",
      "\nDuring handling of the above exception, another exception occurred:\n",
      "\u001b[1;31mURLError\u001b[0m                                  Traceback (most recent call last)",
      "\u001b[1;32m<ipython-input-2-4860761446d0>\u001b[0m in \u001b[0;36m<module>\u001b[1;34m\u001b[0m\n\u001b[0;32m      1\u001b[0m \u001b[1;31m# Load the data from a CSV file\u001b[0m\u001b[1;33m\u001b[0m\u001b[1;33m\u001b[0m\u001b[1;33m\u001b[0m\u001b[0m\n\u001b[1;32m----> 2\u001b[1;33m \u001b[0mdata\u001b[0m \u001b[1;33m=\u001b[0m \u001b[0mpd\u001b[0m\u001b[1;33m.\u001b[0m\u001b[0mread_csv\u001b[0m\u001b[1;33m(\u001b[0m\u001b[1;34m\"https://raw.githubusercontent.com/datacamp/time-series-analysis-in-python-live-training/master/data/US_gasoline_production.csv\"\u001b[0m\u001b[1;33m)\u001b[0m\u001b[1;33m\u001b[0m\u001b[1;33m\u001b[0m\u001b[0m\n\u001b[0m\u001b[0;32m      3\u001b[0m \u001b[1;33m\u001b[0m\u001b[0m\n\u001b[0;32m      4\u001b[0m \u001b[1;31m# Print the DataFrame info\u001b[0m\u001b[1;33m\u001b[0m\u001b[1;33m\u001b[0m\u001b[1;33m\u001b[0m\u001b[0m\n\u001b[0;32m      5\u001b[0m \u001b[1;33m\u001b[0m\u001b[0m\n",
      "\u001b[1;32m~\\AppData\\Local\\Continuum\\anaconda3\\envs\\datacamp\\lib\\site-packages\\pandas\\io\\parsers.py\u001b[0m in \u001b[0;36mparser_f\u001b[1;34m(filepath_or_buffer, sep, delimiter, header, names, index_col, usecols, squeeze, prefix, mangle_dupe_cols, dtype, engine, converters, true_values, false_values, skipinitialspace, skiprows, skipfooter, nrows, na_values, keep_default_na, na_filter, verbose, skip_blank_lines, parse_dates, infer_datetime_format, keep_date_col, date_parser, dayfirst, cache_dates, iterator, chunksize, compression, thousands, decimal, lineterminator, quotechar, quoting, doublequote, escapechar, comment, encoding, dialect, error_bad_lines, warn_bad_lines, delim_whitespace, low_memory, memory_map, float_precision)\u001b[0m\n\u001b[0;32m    683\u001b[0m         )\n\u001b[0;32m    684\u001b[0m \u001b[1;33m\u001b[0m\u001b[0m\n\u001b[1;32m--> 685\u001b[1;33m         \u001b[1;32mreturn\u001b[0m \u001b[0m_read\u001b[0m\u001b[1;33m(\u001b[0m\u001b[0mfilepath_or_buffer\u001b[0m\u001b[1;33m,\u001b[0m \u001b[0mkwds\u001b[0m\u001b[1;33m)\u001b[0m\u001b[1;33m\u001b[0m\u001b[1;33m\u001b[0m\u001b[0m\n\u001b[0m\u001b[0;32m    686\u001b[0m \u001b[1;33m\u001b[0m\u001b[0m\n\u001b[0;32m    687\u001b[0m     \u001b[0mparser_f\u001b[0m\u001b[1;33m.\u001b[0m\u001b[0m__name__\u001b[0m \u001b[1;33m=\u001b[0m \u001b[0mname\u001b[0m\u001b[1;33m\u001b[0m\u001b[1;33m\u001b[0m\u001b[0m\n",
      "\u001b[1;32m~\\AppData\\Local\\Continuum\\anaconda3\\envs\\datacamp\\lib\\site-packages\\pandas\\io\\parsers.py\u001b[0m in \u001b[0;36m_read\u001b[1;34m(filepath_or_buffer, kwds)\u001b[0m\n\u001b[0;32m    438\u001b[0m     \u001b[1;31m# See https://github.com/python/mypy/issues/1297\u001b[0m\u001b[1;33m\u001b[0m\u001b[1;33m\u001b[0m\u001b[1;33m\u001b[0m\u001b[0m\n\u001b[0;32m    439\u001b[0m     fp_or_buf, _, compression, should_close = get_filepath_or_buffer(\n\u001b[1;32m--> 440\u001b[1;33m         \u001b[0mfilepath_or_buffer\u001b[0m\u001b[1;33m,\u001b[0m \u001b[0mencoding\u001b[0m\u001b[1;33m,\u001b[0m \u001b[0mcompression\u001b[0m\u001b[1;33m\u001b[0m\u001b[1;33m\u001b[0m\u001b[0m\n\u001b[0m\u001b[0;32m    441\u001b[0m     )\n\u001b[0;32m    442\u001b[0m     \u001b[0mkwds\u001b[0m\u001b[1;33m[\u001b[0m\u001b[1;34m\"compression\"\u001b[0m\u001b[1;33m]\u001b[0m \u001b[1;33m=\u001b[0m \u001b[0mcompression\u001b[0m\u001b[1;33m\u001b[0m\u001b[1;33m\u001b[0m\u001b[0m\n",
      "\u001b[1;32m~\\AppData\\Local\\Continuum\\anaconda3\\envs\\datacamp\\lib\\site-packages\\pandas\\io\\common.py\u001b[0m in \u001b[0;36mget_filepath_or_buffer\u001b[1;34m(filepath_or_buffer, encoding, compression, mode)\u001b[0m\n\u001b[0;32m    194\u001b[0m \u001b[1;33m\u001b[0m\u001b[0m\n\u001b[0;32m    195\u001b[0m     \u001b[1;32mif\u001b[0m \u001b[0m_is_url\u001b[0m\u001b[1;33m(\u001b[0m\u001b[0mfilepath_or_buffer\u001b[0m\u001b[1;33m)\u001b[0m\u001b[1;33m:\u001b[0m\u001b[1;33m\u001b[0m\u001b[1;33m\u001b[0m\u001b[0m\n\u001b[1;32m--> 196\u001b[1;33m         \u001b[0mreq\u001b[0m \u001b[1;33m=\u001b[0m \u001b[0murlopen\u001b[0m\u001b[1;33m(\u001b[0m\u001b[0mfilepath_or_buffer\u001b[0m\u001b[1;33m)\u001b[0m\u001b[1;33m\u001b[0m\u001b[1;33m\u001b[0m\u001b[0m\n\u001b[0m\u001b[0;32m    197\u001b[0m         \u001b[0mcontent_encoding\u001b[0m \u001b[1;33m=\u001b[0m \u001b[0mreq\u001b[0m\u001b[1;33m.\u001b[0m\u001b[0mheaders\u001b[0m\u001b[1;33m.\u001b[0m\u001b[0mget\u001b[0m\u001b[1;33m(\u001b[0m\u001b[1;34m\"Content-Encoding\"\u001b[0m\u001b[1;33m,\u001b[0m \u001b[1;32mNone\u001b[0m\u001b[1;33m)\u001b[0m\u001b[1;33m\u001b[0m\u001b[1;33m\u001b[0m\u001b[0m\n\u001b[0;32m    198\u001b[0m         \u001b[1;32mif\u001b[0m \u001b[0mcontent_encoding\u001b[0m \u001b[1;33m==\u001b[0m \u001b[1;34m\"gzip\"\u001b[0m\u001b[1;33m:\u001b[0m\u001b[1;33m\u001b[0m\u001b[1;33m\u001b[0m\u001b[0m\n",
      "\u001b[1;32m~\\AppData\\Local\\Continuum\\anaconda3\\envs\\datacamp\\lib\\urllib\\request.py\u001b[0m in \u001b[0;36murlopen\u001b[1;34m(url, data, timeout, cafile, capath, cadefault, context)\u001b[0m\n\u001b[0;32m    220\u001b[0m     \u001b[1;32melse\u001b[0m\u001b[1;33m:\u001b[0m\u001b[1;33m\u001b[0m\u001b[1;33m\u001b[0m\u001b[0m\n\u001b[0;32m    221\u001b[0m         \u001b[0mopener\u001b[0m \u001b[1;33m=\u001b[0m \u001b[0m_opener\u001b[0m\u001b[1;33m\u001b[0m\u001b[1;33m\u001b[0m\u001b[0m\n\u001b[1;32m--> 222\u001b[1;33m     \u001b[1;32mreturn\u001b[0m \u001b[0mopener\u001b[0m\u001b[1;33m.\u001b[0m\u001b[0mopen\u001b[0m\u001b[1;33m(\u001b[0m\u001b[0murl\u001b[0m\u001b[1;33m,\u001b[0m \u001b[0mdata\u001b[0m\u001b[1;33m,\u001b[0m \u001b[0mtimeout\u001b[0m\u001b[1;33m)\u001b[0m\u001b[1;33m\u001b[0m\u001b[1;33m\u001b[0m\u001b[0m\n\u001b[0m\u001b[0;32m    223\u001b[0m \u001b[1;33m\u001b[0m\u001b[0m\n\u001b[0;32m    224\u001b[0m \u001b[1;32mdef\u001b[0m \u001b[0minstall_opener\u001b[0m\u001b[1;33m(\u001b[0m\u001b[0mopener\u001b[0m\u001b[1;33m)\u001b[0m\u001b[1;33m:\u001b[0m\u001b[1;33m\u001b[0m\u001b[1;33m\u001b[0m\u001b[0m\n",
      "\u001b[1;32m~\\AppData\\Local\\Continuum\\anaconda3\\envs\\datacamp\\lib\\urllib\\request.py\u001b[0m in \u001b[0;36mopen\u001b[1;34m(self, fullurl, data, timeout)\u001b[0m\n\u001b[0;32m    523\u001b[0m             \u001b[0mreq\u001b[0m \u001b[1;33m=\u001b[0m \u001b[0mmeth\u001b[0m\u001b[1;33m(\u001b[0m\u001b[0mreq\u001b[0m\u001b[1;33m)\u001b[0m\u001b[1;33m\u001b[0m\u001b[1;33m\u001b[0m\u001b[0m\n\u001b[0;32m    524\u001b[0m \u001b[1;33m\u001b[0m\u001b[0m\n\u001b[1;32m--> 525\u001b[1;33m         \u001b[0mresponse\u001b[0m \u001b[1;33m=\u001b[0m \u001b[0mself\u001b[0m\u001b[1;33m.\u001b[0m\u001b[0m_open\u001b[0m\u001b[1;33m(\u001b[0m\u001b[0mreq\u001b[0m\u001b[1;33m,\u001b[0m \u001b[0mdata\u001b[0m\u001b[1;33m)\u001b[0m\u001b[1;33m\u001b[0m\u001b[1;33m\u001b[0m\u001b[0m\n\u001b[0m\u001b[0;32m    526\u001b[0m \u001b[1;33m\u001b[0m\u001b[0m\n\u001b[0;32m    527\u001b[0m         \u001b[1;31m# post-process response\u001b[0m\u001b[1;33m\u001b[0m\u001b[1;33m\u001b[0m\u001b[1;33m\u001b[0m\u001b[0m\n",
      "\u001b[1;32m~\\AppData\\Local\\Continuum\\anaconda3\\envs\\datacamp\\lib\\urllib\\request.py\u001b[0m in \u001b[0;36m_open\u001b[1;34m(self, req, data)\u001b[0m\n\u001b[0;32m    541\u001b[0m         \u001b[0mprotocol\u001b[0m \u001b[1;33m=\u001b[0m \u001b[0mreq\u001b[0m\u001b[1;33m.\u001b[0m\u001b[0mtype\u001b[0m\u001b[1;33m\u001b[0m\u001b[1;33m\u001b[0m\u001b[0m\n\u001b[0;32m    542\u001b[0m         result = self._call_chain(self.handle_open, protocol, protocol +\n\u001b[1;32m--> 543\u001b[1;33m                                   '_open', req)\n\u001b[0m\u001b[0;32m    544\u001b[0m         \u001b[1;32mif\u001b[0m \u001b[0mresult\u001b[0m\u001b[1;33m:\u001b[0m\u001b[1;33m\u001b[0m\u001b[1;33m\u001b[0m\u001b[0m\n\u001b[0;32m    545\u001b[0m             \u001b[1;32mreturn\u001b[0m \u001b[0mresult\u001b[0m\u001b[1;33m\u001b[0m\u001b[1;33m\u001b[0m\u001b[0m\n",
      "\u001b[1;32m~\\AppData\\Local\\Continuum\\anaconda3\\envs\\datacamp\\lib\\urllib\\request.py\u001b[0m in \u001b[0;36m_call_chain\u001b[1;34m(self, chain, kind, meth_name, *args)\u001b[0m\n\u001b[0;32m    501\u001b[0m         \u001b[1;32mfor\u001b[0m \u001b[0mhandler\u001b[0m \u001b[1;32min\u001b[0m \u001b[0mhandlers\u001b[0m\u001b[1;33m:\u001b[0m\u001b[1;33m\u001b[0m\u001b[1;33m\u001b[0m\u001b[0m\n\u001b[0;32m    502\u001b[0m             \u001b[0mfunc\u001b[0m \u001b[1;33m=\u001b[0m \u001b[0mgetattr\u001b[0m\u001b[1;33m(\u001b[0m\u001b[0mhandler\u001b[0m\u001b[1;33m,\u001b[0m \u001b[0mmeth_name\u001b[0m\u001b[1;33m)\u001b[0m\u001b[1;33m\u001b[0m\u001b[1;33m\u001b[0m\u001b[0m\n\u001b[1;32m--> 503\u001b[1;33m             \u001b[0mresult\u001b[0m \u001b[1;33m=\u001b[0m \u001b[0mfunc\u001b[0m\u001b[1;33m(\u001b[0m\u001b[1;33m*\u001b[0m\u001b[0margs\u001b[0m\u001b[1;33m)\u001b[0m\u001b[1;33m\u001b[0m\u001b[1;33m\u001b[0m\u001b[0m\n\u001b[0m\u001b[0;32m    504\u001b[0m             \u001b[1;32mif\u001b[0m \u001b[0mresult\u001b[0m \u001b[1;32mis\u001b[0m \u001b[1;32mnot\u001b[0m \u001b[1;32mNone\u001b[0m\u001b[1;33m:\u001b[0m\u001b[1;33m\u001b[0m\u001b[1;33m\u001b[0m\u001b[0m\n\u001b[0;32m    505\u001b[0m                 \u001b[1;32mreturn\u001b[0m \u001b[0mresult\u001b[0m\u001b[1;33m\u001b[0m\u001b[1;33m\u001b[0m\u001b[0m\n",
      "\u001b[1;32m~\\AppData\\Local\\Continuum\\anaconda3\\envs\\datacamp\\lib\\urllib\\request.py\u001b[0m in \u001b[0;36mhttps_open\u001b[1;34m(self, req)\u001b[0m\n\u001b[0;32m   1358\u001b[0m         \u001b[1;32mdef\u001b[0m \u001b[0mhttps_open\u001b[0m\u001b[1;33m(\u001b[0m\u001b[0mself\u001b[0m\u001b[1;33m,\u001b[0m \u001b[0mreq\u001b[0m\u001b[1;33m)\u001b[0m\u001b[1;33m:\u001b[0m\u001b[1;33m\u001b[0m\u001b[1;33m\u001b[0m\u001b[0m\n\u001b[0;32m   1359\u001b[0m             return self.do_open(http.client.HTTPSConnection, req,\n\u001b[1;32m-> 1360\u001b[1;33m                 context=self._context, check_hostname=self._check_hostname)\n\u001b[0m\u001b[0;32m   1361\u001b[0m \u001b[1;33m\u001b[0m\u001b[0m\n\u001b[0;32m   1362\u001b[0m         \u001b[0mhttps_request\u001b[0m \u001b[1;33m=\u001b[0m \u001b[0mAbstractHTTPHandler\u001b[0m\u001b[1;33m.\u001b[0m\u001b[0mdo_request_\u001b[0m\u001b[1;33m\u001b[0m\u001b[1;33m\u001b[0m\u001b[0m\n",
      "\u001b[1;32m~\\AppData\\Local\\Continuum\\anaconda3\\envs\\datacamp\\lib\\urllib\\request.py\u001b[0m in \u001b[0;36mdo_open\u001b[1;34m(self, http_class, req, **http_conn_args)\u001b[0m\n\u001b[0;32m   1317\u001b[0m                           encode_chunked=req.has_header('Transfer-encoding'))\n\u001b[0;32m   1318\u001b[0m             \u001b[1;32mexcept\u001b[0m \u001b[0mOSError\u001b[0m \u001b[1;32mas\u001b[0m \u001b[0merr\u001b[0m\u001b[1;33m:\u001b[0m \u001b[1;31m# timeout error\u001b[0m\u001b[1;33m\u001b[0m\u001b[1;33m\u001b[0m\u001b[0m\n\u001b[1;32m-> 1319\u001b[1;33m                 \u001b[1;32mraise\u001b[0m \u001b[0mURLError\u001b[0m\u001b[1;33m(\u001b[0m\u001b[0merr\u001b[0m\u001b[1;33m)\u001b[0m\u001b[1;33m\u001b[0m\u001b[1;33m\u001b[0m\u001b[0m\n\u001b[0m\u001b[0;32m   1320\u001b[0m             \u001b[0mr\u001b[0m \u001b[1;33m=\u001b[0m \u001b[0mh\u001b[0m\u001b[1;33m.\u001b[0m\u001b[0mgetresponse\u001b[0m\u001b[1;33m(\u001b[0m\u001b[1;33m)\u001b[0m\u001b[1;33m\u001b[0m\u001b[1;33m\u001b[0m\u001b[0m\n\u001b[0;32m   1321\u001b[0m         \u001b[1;32mexcept\u001b[0m\u001b[1;33m:\u001b[0m\u001b[1;33m\u001b[0m\u001b[1;33m\u001b[0m\u001b[0m\n",
      "\u001b[1;31mURLError\u001b[0m: <urlopen error [WinError 10060] Une tentative de connexion a échoué car le parti connecté n’a pas répondu convenablement au-delà d’une certaine durée ou une connexion établie a échoué car l’hôte de connexion n’a pas répondu>"
     ]
    }
   ],
   "source": [
    "# Load the data from a CSV file\n",
    "data = pd.read_csv(\"https://raw.githubusercontent.com/datacamp/time-series-analysis-in-python-live-training/master/data/US_gasoline_production.csv\")\n",
    "\n",
    "# Print the DataFrame info\n",
    "\n",
    "\n",
    "# Print the DataFrame\n"
   ]
  },
  {
   "cell_type": "markdown",
   "metadata": {
    "colab_type": "text",
    "id": "JrKOuOHtRVAi"
   },
   "source": [
    "## **Creating a datetime index**\n",
    "\n",
    "The data contains dates in the `date` column, but the column is of type `object`, and it isn't the index of the DataFrame! \n",
    "\n",
    "Solutions: \n",
    "\n",
    "- Use arguments `parse_dates=[list_of_column_name]` and `index_col=\"ColumnName\"` in `pd.read_csv()`\n",
    "\n",
    "- Use `pd.to_datetime()` and `.set_index()` after loading the DataFrame \n",
    "\n",
    "We'll use the second one.\n",
    "\n",
    "`pd.to_datetime()` accepts a value or a collection of values and converts them to a `datetime` object.\n",
    "\n",
    "`data.set_index()` accepts the name of the column that should become the index, and retuns a _new_ DataFrame. \n",
    "Specify `inplace=True` to avoid creating a copy."
   ]
  },
  {
   "cell_type": "code",
   "execution_count": 0,
   "metadata": {
    "colab": {},
    "colab_type": "code",
    "id": "IDBhwfw_RVAi"
   },
   "outputs": [],
   "source": [
    "# Convert the date column to datetime\n",
    "\n",
    "\n",
    "# Set the index of the DataFrame to the date column\n",
    "\n",
    "\n",
    "# Print DataFrame summary\n",
    "\n",
    "\n",
    "# Print DataFrame\n"
   ]
  },
  {
   "cell_type": "markdown",
   "metadata": {
    "colab_type": "text",
    "id": "SVyzI6KgRVAm"
   },
   "source": [
    "# **Exploratory analysis**\n",
    "\n",
    "\n",
    "## **Plotting a time series**\n",
    "\n",
    "... is the easiest kind of plotting in Python: just use `df.colum_name.plot()` !"
   ]
  },
  {
   "cell_type": "code",
   "execution_count": 0,
   "metadata": {
    "colab": {},
    "colab_type": "code",
    "id": "PRT4wB32RVAn"
   },
   "outputs": [],
   "source": [
    "# Plot the series\n"
   ]
  },
  {
   "cell_type": "markdown",
   "metadata": {
    "colab_type": "text",
    "id": "vSiFL2n0RVAq"
   },
   "source": [
    "Notice the style of the plot: it looks different from the default `matplotlib` style. The style was set in the very first cell using `plt.style.use('seaborn')`"
   ]
  },
  {
   "cell_type": "markdown",
   "metadata": {
    "colab_type": "text",
    "id": "8hjkdYSnUEp6"
   },
   "source": [
    "The plot looks very noisy. Do we really need _weekly_ data?\n",
    "\n",
    "## **Resampling**\n",
    "\n",
    "\n",
    "Resampling means changing the frequency of data:\n",
    "- **Upsampling** : from lower to higher frequency (daily &rarr; hourly).\n",
    "\n",
    "- **Downsampling** : from higher to lower frequency (daily &rarr; weekly). \n",
    "\n",
    "<br> \n",
    "\n",
    "<a href=\"https://learn.datacamp.com/courses/manipulating-time-series-data-in-python\"><img src = \"https://assets.datacamp.com/production/course_4205/shields/original/shield_image_course_4205_20200406-1-f1geys\" width=\"20%\"></a>   \n",
    "\n",
    "Lower-frequency data is usually aggregated: value for week X is the sum/average/max/min/... of all the daily values in week X.\n",
    "\n",
    "##### Steps of downsampling:\n",
    "\n",
    "1. `.resample(rule='M'|'W'|'D'|..)`...\n",
    "\n",
    "2. aggregate `.mean()`, `.sum()`"
   ]
  },
  {
   "cell_type": "code",
   "execution_count": 0,
   "metadata": {
    "colab": {},
    "colab_type": "code",
    "id": "iJ1vxnodRVAu"
   },
   "outputs": [],
   "source": [
    "# Resample the data to the average monthly values\n",
    "\n",
    "\n",
    "# Print the head of data\n",
    "\n",
    "\n",
    "# Print the head of resampled data\n"
   ]
  },
  {
   "cell_type": "markdown",
   "metadata": {
    "colab_type": "text",
    "id": "2cbyGhhLRVAy"
   },
   "source": [
    "The resampled DataFrame contains the last day of the month for every month, and the corresponding value is the average of values within that month."
   ]
  },
  {
   "cell_type": "code",
   "execution_count": 0,
   "metadata": {
    "colab": {},
    "colab_type": "code",
    "id": "YHp8y10BRVAz"
   },
   "outputs": [],
   "source": [
    "# Plot resampled data\n"
   ]
  },
  {
   "cell_type": "markdown",
   "metadata": {
    "colab_type": "text",
    "id": "F3_Tx6iYRVA2"
   },
   "source": [
    "Looks like some sort of pattern and also a trend, but both are hard to see. \n",
    "\n",
    "Restrict the data to a time range to \"zoom in\" on the plot:"
   ]
  },
  {
   "cell_type": "code",
   "execution_count": 0,
   "metadata": {
    "colab": {},
    "colab_type": "code",
    "id": "mXsP3Pz9RVA2"
   },
   "outputs": [],
   "source": [
    "# Plot the data from 2000 to 2003\n"
   ]
  },
  {
   "cell_type": "markdown",
   "metadata": {
    "colab_type": "text",
    "id": "O8mGbrD4RVA7"
   },
   "source": [
    "The same pattern seems to be repeated every year: January has the lowest value, July &mdash; the highest, and there's an additional dip in September."
   ]
  },
  {
   "cell_type": "markdown",
   "metadata": {
    "colab_type": "text",
    "id": "Fvp-xhCsRVA8"
   },
   "source": [
    "## **Smoothing: rolling windows**\n",
    "\n",
    "Even after resampling, the trends and patterns might be hard to see. \n",
    "\n",
    "> **Rolling aggregation** creates a _new_ time series: the value for each timestamp is an aggregation of a fixed number of previous values.\n",
    "\n",
    "\n",
    "<font color = AAAAAA><i>\n",
    "- Value for today = Average of values since last Tuesday\n",
    "- Value for yesterday = Average of values since last Monday\n",
    "- Value for Sunday = Average of values since Sunday before that\n",
    "- ...\n",
    "</i></font>\n",
    "$U_t = \\frac{1}{7}(Y_t + Y_{t-1} + Y_{t-2} + Y_{t-3} + Y_{t-4} + Y_{t-5}+ Y_{t-6})$\n",
    "\n",
    "\n",
    "|date|original series|rolling window series|\n",
    "|---|---|---|\n",
    "|2020-05-01| 5 |NaN|\n",
    "|2020-05-02| 7 |NaN|\n",
    "|2020-05-03| 9 |NaN|\n",
    "|2020-05-04| 11|NaN|\n",
    "|2020-05-05| 13|NaN|\n",
    "|2020-05-06| 15|NaN|\n",
    "|2020-05-07| 17| (NaN|\n",
    "|2020-05-08| 2 | (5 + 7 + 9 + 11 + 13 + 15 + 17)/7|\n",
    "|2020-05-09| 4 | (7 + 9 + 11 + 13 + 15 + 17 +2)/7|\n",
    "|2020-05-10| 6 | (9 + 11 + 13 + 15 + 17 +2 +4)/7|\n",
    "|2020-05-11| 8 | (11 + 13 + 15 + 17 +2 +4 +6)/7|\n",
    "|2020-05-12| 10 | (13 + 15 + 17 +2 +4 +6 + 8)/7|\n",
    "|2020-05-13| 12 |(15 + 17 +2 +4 +6 + 8 +10)/7|\n",
    "|2020-05-14| 14 |(17 +2 +4 +6 + 8 +10 + 12)/7|\n",
    "\n",
    "<br>\n",
    "\n",
    "<font size = 5> larger window = less detail = more smooth</font>\n",
    "\n",
    "\n",
    "##### **Steps of rolling window smoothing:**\n",
    "\n",
    "1. `.rolling(n_periods)`...\n",
    "\n",
    "2. aggregate `.mean()`, `.sum()`\n",
    "\n"
   ]
  },
  {
   "cell_type": "code",
   "execution_count": 0,
   "metadata": {
    "colab": {},
    "colab_type": "code",
    "id": "QLLblZrDRVA8"
   },
   "outputs": [],
   "source": [
    "# Plot the resampled data with a 6 months rolling average\n",
    "\n",
    "\n",
    "# Plot the resampled data with a 12 months rolling average\n",
    "\n"
   ]
  },
  {
   "cell_type": "markdown",
   "metadata": {
    "colab_type": "text",
    "id": "aWMI87o5RVBA"
   },
   "source": [
    "Looks like there was a general increasing trend until 2007-2008, when the value started decreasing. [What happened in 2008?..](https://en.wikipedia.org/wiki/Great_Recession)"
   ]
  },
  {
   "cell_type": "markdown",
   "metadata": {
    "colab_type": "text",
    "id": "7d3uysqFRVBA"
   },
   "source": [
    "---\n",
    "<img src=\"attachment:image.png\">\n",
    "\n",
    "<font color=\"00AAFF\" size = 5>Homework</font>\n",
    "\n",
    "<font color=00AAFF>_Think you are a `pandas` wizard? Try using a rolling window + weighted average on a column where the weights come from another column_ 😉</font>\n",
    "\n",
    "<font color=00AAFF>_For example:_ \n",
    "\n",
    "|date|series|weights|3 day rolling window|\n",
    "|---|---|---|---|\n",
    "|2020-05-01| 5 |0.3| NaN|\n",
    "|2020-05-02| 7 |0.2| NaN|\n",
    "|2020-05-03| 9 |0.15| NaN|\n",
    "|2020-05-04| 11|0.08| (5 * 0.3) + (7 * 0.2) + (9 * 0.15)|\n",
    "|2020-05-05| 13|0.2| (7 * 0.2) + (9 * 0.15) + (11 * 0.08)|\n",
    "|2020-05-06| 15|-0.3| (9 * 0.15) + (11 * 0.08) + (13 * 0.2)|\n",
    "|...|...|...|...\n",
    "\n",
    "</font>\n",
    "\n",
    "---"
   ]
  },
  {
   "cell_type": "markdown",
   "metadata": {
    "colab_type": "text",
    "id": "dI84jTizRVBB"
   },
   "source": [
    "## **Time series = Trend + Seasonality + Residuals**\n",
    "\n",
    "    \n",
    "- **Trend**: general direction of the series (e.g. increasing)\n",
    "- **Seasonality**: repeating patterns in data (e.g. sales around holidays..)\n",
    "- **Residuals**: the rest\n",
    "\n",
    "`statsmodels.tsa.seasonal.seasonal_decompose()` takes a DataFrame and returns an object with attributes:\n",
    "- `.trend`\n",
    "- `.seasonal`\n",
    "- `.resid`\n",
    "each containing the time series that encodes the corresponding part of the original series, \n",
    "\n",
    "and a method\n",
    "- `.plot()`\n",
    "which makes 4 plots:  original series + 3 its components"
   ]
  },
  {
   "cell_type": "code",
   "execution_count": 0,
   "metadata": {
    "colab": {},
    "colab_type": "code",
    "id": "ibbBqhAZRVBB"
   },
   "outputs": [],
   "source": [
    "# import seasonal_decompose\n",
    "\n",
    "\n",
    "# Plot decomposed series\n"
   ]
  },
  {
   "cell_type": "markdown",
   "metadata": {
    "colab_type": "text",
    "id": "hN0vHlU5RVBF"
   },
   "source": [
    "_Note: plotting functions in `statsmodels` both draw and return the figure, so plotting them from the last line of a cell will result in duplicate plots. Use a semicolon_ `;` _after the plot to prevent that._"
   ]
  },
  {
   "cell_type": "markdown",
   "metadata": {
    "colab_type": "text",
    "id": "J8NQdXjaRVBF"
   },
   "source": [
    "## **Don't just trust your eyes**\n",
    "\n",
    "A series that exhibits a clear visible trend or seasonality probably really does have those features. Just because you cannot detect trends or seasonality, doesn't mean they aren't there!\n",
    "\n",
    "<img src=\"https://github.com/datacamp/time-series-analysis-in-python-live-training/raw/master/assets/sine.png\">\n",
    "\n",
    "This data lies on a perturbed sine curve. Can you tell?\n",
    "\n",
    "_Autocorrelation_ will help us identify hidden patterns in series"
   ]
  },
  {
   "cell_type": "markdown",
   "metadata": {
    "colab_type": "text",
    "id": "E5EQzW62RVBG"
   },
   "source": [
    "---\n",
    "<center><h1> Q&A 1</h1> </center>\n",
    "\n",
    "---\n"
   ]
  },
  {
   "cell_type": "markdown",
   "metadata": {
    "colab_type": "text",
    "id": "AGQbbQSxRVBG"
   },
   "source": [
    "# **Autocorrelation**\n",
    "\n",
    "For prediction, we need to know how future values of time series depend on the past values.\n",
    "\n",
    "Correlation of two _random variables_ is a measure of dependency of one variable on the other. For time series, *auto*correlation, as the name might suggest, will measure self-correlation &mdash; the dependency of time series on itself.\n",
    "\n",
    "\n",
    "## **Lags**\n",
    "\n",
    "Lagged time series is just the same time series shifted by a certain number of days/weeks/month, called the _lag_, into the past:\n",
    "<!--\n",
    "|date|original series|lag-2 series|\n",
    "|---|---|---|\n",
    "|2020-05-01| 5 |NaN|\n",
    "|2020-05-02| 7 |NaN|\n",
    "|2020-05-03| 9 |5|\n",
    "|2020-05-04| 11|7|\n",
    "|2020-05-06| 13|9|\n",
    "|2020-05-07| 15|11|\n",
    "|2020-05-08| 17| 13|\n",
    "|2020-05-08| 2 | 15|\n",
    "|2020-05-10| 4 | 17|\n",
    "|2020-05-11| 6 | 2|\n",
    "|2020-05-12| 8 | 4|\n",
    "|2020-05-13| 10 | 6|\n",
    "|2020-05-14| 12 |8|\n",
    "|2020-05-15| 14 |10|\n",
    "-->\n",
    "<img src = \"https://github.com/datacamp/time-series-analysis-in-python-live-training/raw/master/assets/lag-1.png\" height=400pt> \n",
    "<img src = \"https://github.com/datacamp/time-series-analysis-in-python-live-training/raw/master/assets/lag-2.png\" height=400pt>\n",
    "\n",
    "Notice the `NaN`s! The bigger the lag is, the shorter the lagged series will be.\n",
    "\n",
    "## **Autocorrelation function**\n",
    "Function of the lag $\\mathbf{n}$. \n",
    "\n",
    "$$\\large{Autocorr(\\mathbf{n}) = corr(series, \\,lag\\,\\mathbf{n}\\, series)}$$\n",
    "\n",
    "Measures how much the value of the series now depends on the value $\\mathbf{n}$ days ago.\n",
    "\n",
    "\n",
    "`statsmodels` offers two functions related to autocorrelation:\n",
    "- `statsmodels.tsa.stattools.acf()`  will compute the ACF for a time series passed to it, with 40 lags range by default\n",
    "- `statsmodels.graphics.tsaplots.plot_acf()` will just plot the ACF -- which is usually what we want\n"
   ]
  },
  {
   "cell_type": "code",
   "execution_count": 0,
   "metadata": {
    "colab": {},
    "colab_type": "code",
    "id": "dRyJa3mORVBH"
   },
   "outputs": [],
   "source": [
    "# Import plot_acf\n",
    "\n",
    "\n",
    "# Plot ACF of data_monthly\n",
    "\n"
   ]
  },
  {
   "cell_type": "markdown",
   "metadata": {
    "colab_type": "text",
    "id": "0TNZr7AoRVBL"
   },
   "source": [
    "The lags are on the $x$ axis. Note that lag-0 correlation is always 1.\n",
    "\n",
    "The filled band around the $x$ axis is the _confidence interval_: if the autocorrelation value is outside that range, the dependency is likely \"real\", but if it's inside &mdash; it's likely due to randomness."
   ]
  },
  {
   "cell_type": "markdown",
   "metadata": {
    "colab_type": "text",
    "id": "Npd0Aj1iRVBL"
   },
   "source": [
    "## **A word of warning: misinterpreting autocorrelation**\n",
    "\n",
    "The autocorrelation seems to be very strong: does that mean there's a very strong dependency between past and present values that we can use for modeling? Let's take a look at the data again:"
   ]
  },
  {
   "cell_type": "code",
   "execution_count": 0,
   "metadata": {
    "colab": {},
    "colab_type": "code",
    "id": "YwRjyAu_RVBM"
   },
   "outputs": [],
   "source": [
    "# Plot data_monthly again\n"
   ]
  },
  {
   "cell_type": "markdown",
   "metadata": {
    "colab_type": "text",
    "id": "VpBDTmmTRVBP"
   },
   "source": [
    "The series shows a strong trend, and that's what the autocorrelation plot reflects: if the series was going up last e.g. 6 months, it will probaby continue going up for the next month or two.\n",
    "\n",
    "_Autocorrelation in series with trends reflects the trend rather than intrinsic dependencies in data._\n",
    "\n",
    "For autocorrelation analysis to be meaningful, the time series should be _stationary_."
   ]
  },
  {
   "cell_type": "markdown",
   "metadata": {
    "colab_type": "text",
    "id": "7PV-18LeRVBU"
   },
   "source": [
    "# **Stationarity**\n",
    "\n",
    "Most time series models assume that the time series is _stationary_. In plain language, that means that the features of the series do not depend on the _time_ when they occur (but they might depend on the past _values_). This means, among other things:\n",
    "\n",
    "- Constant mean\n",
    "- Contant variance\n",
    "\n",
    "**Time series that exhibit trend and seasonality are not stationary.**\n",
    "\n",
    "Most time series models assume stationarity of the series they model, so you often need to remove trend and seasonality from the series, build the model, then put it back.\n"
   ]
  },
  {
   "cell_type": "markdown",
   "metadata": {
    "colab_type": "text",
    "id": "TnHbFgSnRVBU"
   },
   "source": [
    "## **Detrending**\n",
    "\n",
    "There are a few ways to get rid of the trend\n",
    "\n",
    "- _Fit the trend curve first_\n",
    "\n",
    "For example, for a linear trend, use linear modeling techniques to find the fit, then subtract it from the series. To learn more, check out this course:\n",
    "\n",
    "<a href = https://learn.datacamp.com/courses/introduction-to-linear-modeling-in-python><img src =\"https://assets.datacamp.com/production/course_5828/shields/original/shield_image_course_5828_20191101-1-6dynnz?1572614527\" height=200pt></a>\n",
    "\n",
    "- _Differencing_\n",
    "\n",
    "Instead of looking at the actual values of the series look at the _differences_ in values:\n",
    "\n",
    "$U_t = Y_{t} - Y_{t-1}$\n",
    "\n",
    "Here's an example:\n",
    "\n",
    "<br>\n",
    "\n",
    "|date|original series|differenced series|\n",
    "|---|---|---|\n",
    "|2020-05-01| 5 |NaN|\n",
    "|2020-05-02| 7 |7-5 = **2**|\n",
    "|2020-05-03| 8 |8-7 = **1**|\n",
    "|2020-05-04| 8|8-8 = **0**|\n",
    "|2020-05-06| 9|9 - 8 = **1**|\n",
    "\n",
    "<br>\n",
    "\n",
    "The original series is growing, but the differences aren't. \n",
    "\n",
    "\n",
    "`pandas` method `.diff()` can be used to difference the series.\n",
    "\n",
    "- _Other transformations_\n",
    "\n",
    "Returns and log-returns, $\\log{\\frac{Y_t - Y_{t-1}}{Y_t}}$, are also commonly used in modeling stock prices. \n",
    "\n",
    "---\n",
    "Let's use differencing to detrend the gasoline production series."
   ]
  },
  {
   "cell_type": "code",
   "execution_count": 0,
   "metadata": {
    "colab": {},
    "colab_type": "code",
    "id": "EeFHHuaiRVBV"
   },
   "outputs": [],
   "source": [
    "# Difference data_monthly\n",
    "\n",
    "\n",
    "# Show differenced values\n"
   ]
  },
  {
   "cell_type": "code",
   "execution_count": 0,
   "metadata": {
    "colab": {},
    "colab_type": "code",
    "id": "peHzFPg4RVBZ"
   },
   "outputs": [],
   "source": [
    "# Plot differenced data\n"
   ]
  },
  {
   "cell_type": "code",
   "execution_count": 0,
   "metadata": {
    "colab": {},
    "colab_type": "code",
    "id": "8E1pQQ1wRVBb"
   },
   "outputs": [],
   "source": [
    "# Plot ACF for differenced data\n"
   ]
  },
  {
   "cell_type": "markdown",
   "metadata": {
    "colab_type": "text",
    "id": "TOecjUKLRVBe"
   },
   "source": [
    "## **Dealing with seasonality**\n",
    "\n",
    "Dealing with seasonality is much more complicated. Many organizations (e.g. US Census Bureau) have developed their own methods for removing seasonality from data.\n",
    "\n",
    "Some things you can do yourself:\n",
    "\n",
    "- _Model within one period_\n",
    "\n",
    "If you're only using data from 14 days in June, does it matter if there's a yearly seasonal spike around winter holidays?..\n",
    "\n",
    "- _Use seasonally-adjusted data_\n",
    "\n",
    "For example, most US government agencies provide seasonally-adjusted data by default.\n",
    "\n",
    "- _Do seasonal adjustment yourself_\n",
    "\n",
    "  - Use higher-order differencing\n",
    "  - Use the residuals from `seasonal_decompose()`, contained in the `.resid` attribute\n",
    "  - Special techniques like [STL](https://www.statsmodels.org/devel/generated/statsmodels.tsa.seasonal.STL.html)\n",
    "\n",
    "- _Use special models like Seasonal ARIMA (SARIMA)_\n",
    "\n",
    "<a href = \"https://learn.datacamp.com/courses/arima-models-in-python\"><img src = \"https://assets.datacamp.com/production/course_17329/shields/original/shield_image_course_17329_20200204-1-j51xkd?1580822917\" height=200pt></a>\n"
   ]
  },
  {
   "cell_type": "code",
   "execution_count": 0,
   "metadata": {
    "colab": {},
    "colab_type": "code",
    "id": "4rsrkShXRVBf"
   },
   "outputs": [],
   "source": [
    "# Plot seasonal decomposition of data_monthly again\n",
    "\n",
    "\n",
    "# Extract residuals and save\n",
    "\n",
    "\n",
    "# Print the head and tail of the residual component\n"
   ]
  },
  {
   "cell_type": "markdown",
   "metadata": {
    "colab_type": "text",
    "id": "mgIVfQ4NSVlN"
   },
   "source": [
    "\n",
    "The residual component of seasonal_decompose will have the first few and last few values missing because statmodels uses rolling average to identify trends and residuals."
   ]
  },
  {
   "cell_type": "code",
   "execution_count": 0,
   "metadata": {
    "colab": {},
    "colab_type": "code",
    "id": "Yn68aFB2RVBh"
   },
   "outputs": [],
   "source": [
    "# Drop NaN values from residuals\n",
    "\n",
    "\n",
    "# Plot ACF of the residual component of data_monthly\n"
   ]
  },
  {
   "cell_type": "markdown",
   "metadata": {
    "colab_type": "text",
    "id": "kf2dRPn2RVBl"
   },
   "source": [
    "\n",
    "---\n",
    "<font color=\"00AAFF\" size = 5>**Homework**</font>\n",
    "\n",
    "\n",
    "1. <font color=00AAFF>Use `df.shift()` and `df.corr()` to implement the autocorrelation function yourself.</font>\n",
    "\n",
    "\n",
    "2. <font color=00AAFF>It's pretty easy to tell when a series is non-stationary if it has trend or seasonality. It's harder to claim that a series that _appears_ stationary truly _is_ stationary. Learn about the [Dickey-Fuller test](https://en.wikipedia.org/wiki/Dickey%E2%80%93Fuller_test) for stationarity and [`statsmodels.tsa.stattools.adfuller()`](https://www.statsmodels.org/dev/generated/statsmodels.tsa.stattools.adfuller.html)</font>\n",
    "\n",
    "---"
   ]
  },
  {
   "cell_type": "markdown",
   "metadata": {
    "colab_type": "text",
    "id": "G-ZFDyQdRVBm"
   },
   "source": [
    "---\n",
    "<center><h1> Q&A 2</h1></center>\n",
    "\n",
    "---"
   ]
  },
  {
   "cell_type": "markdown",
   "metadata": {
    "colab_type": "text",
    "id": "jiGAshG1RVBo"
   },
   "source": [
    "# **Time series models**\n",
    "\n",
    "This section is going to have some math formulas in it, but don't worry: the intuitions are pretty simple! If you don't understand formulas fully, that shouldn't stop you from modeling!\n",
    "\n",
    "\n",
    "## **Two basic models**\n",
    "\n",
    "#### **1. White noise**\n",
    "\n",
    "> The best model for a future value is just a constant mean\n",
    "\n",
    "$$\\large{value\\_today = mean + noise\\_today}$$\n",
    "<br>\n",
    "$$Y_t = \\mu + \\varepsilon_t$$\n",
    "\n",
    "\n",
    "\n",
    "This time series just oscillates around the mean: \n",
    "\n",
    "<img src = \"https://github.com/datacamp/time-series-analysis-in-python-live-training/raw/master/assets/white_noise.png\" >\n",
    "\n",
    "\n",
    "#### **2. Random walk**\n",
    "\n",
    "> The best model for a future value is the previous value\n",
    "\n",
    "$$\\large{value\\_today = value\\_yesterday + noise\\_today}$$\n",
    "<br>\n",
    "$$Y_t = Y_{t-1} + \\varepsilon_t$$\n",
    "\n",
    "\n",
    "This time series drifts randomly:\n",
    "\n",
    "<img src = \"https://github.com/datacamp/time-series-analysis-in-python-live-training/raw/master/assets/random_walk.png\">\n",
    "\n",
    "\n",
    "## **Moving average (MA) model**\n",
    "\n",
    "Shocks/noise/errors from a few days ago can still impact the series today: for example a particularly big market shock can persist for days.  We can improve the white noise model slighly by taking into account the previous errors.\n",
    "\n",
    "<br>\n",
    "\n",
    "$$MA(q): \\large{value\\_today = mean + avg(past \\, \\mathrm{q} \\,noises)}$$\n",
    "\n",
    "$$Y_t = \\mu + \\varepsilon_t + \\phi_1 \\varepsilon_{t-1} + \\phi_2 \\varepsilon_{t-2} +...+ \\phi_q \\varepsilon_{t-q} $$\n",
    "\n",
    "<br>\n",
    "\n",
    "\"Average\" means \"weighted average\", with weights $\\phi_i$ possibly diminishing as we go farther in the future."
   ]
  },
  {
   "cell_type": "markdown",
   "metadata": {
    "colab_type": "text",
    "id": "5N9PsDsSRVBs"
   },
   "source": [
    "### **Detecting MA model order**\n",
    "\n",
    "$MA(q)$ only contains information about the past $q$ time periods, so there should be no significant autocorrelation after $q$ lags.\n",
    "\n",
    "Consequently, $MA(q)$ models are suitable for modeling time series with ACF that \"stops\" at a certain point.\n",
    "\n",
    "For example, this is generated from a true $MA(2)$ process:\n",
    "\n",
    "<img src = \"https://github.com/datacamp/time-series-analysis-in-python-live-training/raw/master/assets/ma.png\">"
   ]
  },
  {
   "cell_type": "code",
   "execution_count": 0,
   "metadata": {
    "colab": {},
    "colab_type": "code",
    "id": "kETXSEoxRVBs"
   },
   "outputs": [],
   "source": [
    "# Plot ACF of residuals again \n"
   ]
  },
  {
   "cell_type": "markdown",
   "metadata": {
    "colab_type": "text",
    "id": "9p118crIRVBu"
   },
   "source": [
    "While the pattern is not as clear as on the idealized example, we could say that after lag 5, autocorrelation is basically non-existent.\n",
    "\n",
    "So we'll fit an $MA(5)$ model."
   ]
  },
  {
   "cell_type": "markdown",
   "metadata": {
    "colab_type": "text",
    "id": "wEvWBVhiRVBv"
   },
   "source": [
    "### **Fitting MA(q) model**\n",
    "\n",
    "`statsmodels.tsa.arima_model.ARMA` is a class representing a general ARMA model \n",
    "(ARMA = AR + MA, where AR is \"autoregressive\". We'll get to it in a sec!)\n",
    "\n",
    "1. **Create the model**\n",
    "\n",
    "`statsmodels.tsa.arima_model.ARMA(series_here, order=(p,q))` will create the model object.\n",
    "\n",
    "To specify an $MA(q)$ model, pass `order = (0,q)`\n",
    "\n",
    "\n",
    "2. **Fit the model**\n",
    "\n",
    "`model.fit()` will fit the model and return the results object.\n"
   ]
  },
  {
   "cell_type": "code",
   "execution_count": 0,
   "metadata": {
    "colab": {},
    "colab_type": "code",
    "id": "gLRRKdntRVBv"
   },
   "outputs": [],
   "source": [
    "# Import ARMA\n",
    "\n",
    "\n",
    "# Fit the model to data_monthly_diff\n"
   ]
  },
  {
   "cell_type": "markdown",
   "metadata": {
    "colab_type": "text",
    "id": "lwQwTVBGRVBx"
   },
   "source": [
    "Use `result.summary()` to view information about the model fit: "
   ]
  },
  {
   "cell_type": "code",
   "execution_count": 0,
   "metadata": {
    "colab": {},
    "colab_type": "code",
    "id": "YRcByK42RVBy"
   },
   "outputs": [],
   "source": [
    "# Print summary of the model\n"
   ]
  },
  {
   "cell_type": "markdown",
   "metadata": {
    "colab_type": "text",
    "id": "mmNgn-4WRVB0"
   },
   "source": [
    "### **Predicting with MA(q) model**\n",
    "\n",
    "- `result.predict(start=..., end=...)`\n",
    "\n",
    "Will return predictions from the `start` date to the `end` date. Can give in-sample and out-sample predictions.\n",
    "\n",
    "For in in-sample dates, one-step-ahead prediction will be made by default, i.e. in-sample  values are used for prediction instead of previous forecasts. \n",
    "\n",
    "\n",
    "- `result.plot_predict(start=..., end=...)`\n",
    "\n",
    "Will plot predictions from the `start` date to the `end` date. For out-of-sample predictions, a confidence interval will be shown as well."
   ]
  },
  {
   "cell_type": "code",
   "execution_count": 0,
   "metadata": {
    "colab": {},
    "colab_type": "code",
    "id": "5v1eSWzKRVB0"
   },
   "outputs": [],
   "source": [
    "# Plot predictions from \"2013-01-31\" to \"2017-01-31\"\n"
   ]
  },
  {
   "cell_type": "markdown",
   "metadata": {
    "colab_type": "text",
    "id": "DlNxNMFSRVB3"
   },
   "source": [
    "It isn't a great forecast, but it also isn't bad, especially for such a simple model: it accurately predicts the direction of the change, but it underestimates the magnitude."
   ]
  },
  {
   "cell_type": "markdown",
   "metadata": {
    "colab_type": "text",
    "id": "12WTkq7SRVB3"
   },
   "source": [
    "---\n",
    "<center><h1>Q&A 3</h1></center>\n",
    "\n",
    "---"
   ]
  },
  {
   "cell_type": "markdown",
   "metadata": {
    "colab_type": "text",
    "id": "YdM0MYeGRVB4"
   },
   "source": [
    "\n",
    "# **New dataset**\n",
    "\n",
    "In this section, we'll work with the `US unemployment` dataset from the US Census Bureau, containing quarterly data on the % of people unemployed in the US. The data has been _seasonally adjusted_ already.\n",
    "\n",
    "Let quickly plot it and de-trend it using differencing.\n",
    "\n"
   ]
  },
  {
   "cell_type": "code",
   "execution_count": 0,
   "metadata": {
    "colab": {
     "base_uri": "https://localhost:8080/",
     "height": 407
    },
    "colab_type": "code",
    "id": "5vnonkMURVB5",
    "outputId": "dfec8bb5-3631-495c-8ccd-d84162079ed6",
    "scrolled": false
   },
   "outputs": [
    {
     "data": {
      "text/plain": [
       "<matplotlib.axes._subplots.AxesSubplot at 0x7f90e095ce10>"
      ]
     },
     "execution_count": 65,
     "metadata": {
      "tags": []
     },
     "output_type": "execute_result"
    },
    {
     "data": {
      "image/png": "[encoded data removed]",
      "text/plain": [
       "<Figure size 576x432 with 1 Axes>"
      ]
     },
     "metadata": {
      "tags": []
     },
     "output_type": "display_data"
    }
   ],
   "source": [
    "# Load the unemployment data and set index\n",
    "unemployment = pd.read_csv(\"https://raw.githubusercontent.com/datacamp/time-series-analysis-in-python-live-training/master/data/US_unemployment.csv\")\n",
    "unemployment[\"date\"] = pd.to_datetime(unemployment[\"date\"])\n",
    "unemployment.set_index(\"date\", inplace=True)\n",
    "\n",
    "# Plot the data\n",
    "unemployment.plot()"
   ]
  },
  {
   "cell_type": "code",
   "execution_count": 0,
   "metadata": {
    "colab": {},
    "colab_type": "code",
    "id": "uMSIykZpRVB7",
    "scrolled": false
   },
   "outputs": [],
   "source": [
    "# Difference the data\n",
    "\n",
    "\n",
    "# Plot the differenced data\n",
    "\n"
   ]
  },
  {
   "cell_type": "markdown",
   "metadata": {
    "colab_type": "text",
    "id": "v1HX22RURVB9"
   },
   "source": [
    "## **Autoregressive model**\n",
    "\n",
    "Model future value not just by a single past value, but by several past values (instead of past _residuals_, like in $MA(q)$ model:\n",
    "\n",
    "<br>\n",
    "$$AR(p): \\large{value\\_today = mean + avg(past \\, \\mathrm{p} \\, values) + noise\\_today}$$\n",
    "\n",
    "$$Y_t = \\mu + \\theta_1 Y_{t-1} + \\theta_2 Y_{t-2} + \\dots + \\theta_p Y_{t-p} + \\varepsilon_t$$ \n",
    "<br>\n",
    "\n",
    "where average is, again, a weighted average. How far in the past the model goes, i.e. the value of $p$, is the _order_ of the model. The model is usually denoted AR(p).\n",
    "\n",
    "Low orders are the most common: $AR(1)$, $AR(2)$,.. \n",
    "\n",
    "\n",
    "$$ \\text{AR(1): }Y_t = \\mu + \\theta Y_{t-1} + \\varepsilon_t $$\n",
    "<br>\n",
    "\n",
    "When $\\theta = 1$, this is a _random walk_ model. When $\\theta \\geq 1$, the process is not stationary: the variance increases.\n",
    "\n"
   ]
  },
  {
   "cell_type": "markdown",
   "metadata": {
    "colab_type": "text",
    "id": "hpFdqJYWRVB-"
   },
   "source": [
    "### **Detecting model order**\n",
    "\n",
    "Unlike in the $MA(q)$ model, in $AR(p)$ models of any order, the current value depends on _all_ the past values:\n",
    "\n",
    "<br>\n",
    "$$\n",
    "\\begin{align}\n",
    "Y_t = \\mu + \\theta \\color{red}{Y_{t-1}} + \\varepsilon_t &= \\mu + \\theta \\color{red}{(\\mu + \\theta {Y_{t-2}} + \\varepsilon_{t-1})} + \\varepsilon_t\\\\\n",
    "\\\\\n",
    "\\mu + \\theta \\color{red}{(\\mu + \\theta \\color{blue}{Y_{t-2}} + \\varepsilon_{t-1})} + \\varepsilon_t &=\\mu + \\theta \\color{red}{(\\mu + \\theta \\color{blue}{(\\mu + \\theta {Y_{t-3}} + \\varepsilon_{t-2})} + \\varepsilon_{t-1})} + \\varepsilon_t = \\\\ \n",
    "\\\\\n",
    "\\mu + \\theta \\color{red}{(\\mu + \\theta \\color{blue}{(\\mu + \\theta \\color{magenta}{{Y_{t-3}}} + \\varepsilon_{t-2})} + \\varepsilon_{t-1})} + \\varepsilon_t &= \\dots\n",
    "\\end{align}\n",
    "$$\n",
    "<br>\n",
    "\n",
    "When $|\\theta_i| < 1$, the dependency will dimish as we go further and further into the past:\n",
    "\n",
    "<br>\n",
    "$$AR(1) : Y_{t} = constant + \\theta Y_{t-1} + \\theta^2 Y_{t-2} + \\theta^3 Y_{t-3}  + \\dots $$\n",
    "<br>\n",
    "\n",
    "So the autocorrelation function does not \"stop\" &mdash; it just decreases to 0. \n",
    "\n",
    "Here's an example from a true $AR(3)$ process:\n",
    "\n",
    "<img src = \"https://github.com/datacamp/time-series-analysis-in-python-live-training/raw/master/assets/ar.png\">\n",
    "\n"
   ]
  },
  {
   "cell_type": "code",
   "execution_count": 0,
   "metadata": {
    "colab": {},
    "colab_type": "code",
    "id": "RZ0L41QGRVB-"
   },
   "outputs": [],
   "source": [
    "# Plot ACF for unemployment_diff\n",
    "\n"
   ]
  },
  {
   "cell_type": "markdown",
   "metadata": {
    "colab_type": "text",
    "id": "A7vmRMD6RVCB"
   },
   "source": [
    "The value of autocorrelation oscillates between negative and positive, but the magnitude is decreasing"
   ]
  },
  {
   "cell_type": "markdown",
   "metadata": {
    "colab_type": "text",
    "id": "6UuYcTudRVCB"
   },
   "source": [
    "#### **Partial autocorrelation function**\n",
    "\n",
    "Partial autocorrelation function is a modified autocorrelation function that takes into account dependencies betweed previous lags, and removes extraneous dependencies shown in the correlation function.\n",
    "\n",
    "- `statsmodels.tsa.stattools.pacf()` will return values of the PACF\n",
    "- `statsmodels.graphics.tsaplots.plot_pacf()` will show the plot of the PACF\n",
    "\n",
    "For time series that behave like an $AR(p)$ process, the PACF \"stops\" at a certain lag. That lag can serve as the model order.\n",
    "\n",
    "Here's a PACF of a true $AR(2)$ model:\n",
    "\n",
    "<img  src = \"https://github.com/datacamp/time-series-analysis-in-python-live-training/raw/master/assets/pacf.png\">"
   ]
  },
  {
   "cell_type": "code",
   "execution_count": 0,
   "metadata": {
    "colab": {
     "base_uri": "https://localhost:8080/",
     "height": 389
    },
    "colab_type": "code",
    "id": "2wPVcnjWRVCC",
    "outputId": "eb06caee-f412-4fda-e25e-425a7aa33eca"
   },
   "outputs": [
    {
     "data": {
      "image/png": "[encoded data removed]",
      "text/plain": [
       "<Figure size 576x432 with 1 Axes>"
      ]
     },
     "metadata": {
      "tags": []
     },
     "output_type": "display_data"
    }
   ],
   "source": [
    "# Import plot_pacf\n",
    "\n",
    "# Plot pacf for unemployment_diff\n",
    "\n"
   ]
  },
  {
   "cell_type": "markdown",
   "metadata": {
    "colab_type": "text",
    "id": "YV7jPc8QRVCE"
   },
   "source": [
    "Unlike with the ACF plot, there's no gradual decrease after lag 1."
   ]
  },
  {
   "cell_type": "markdown",
   "metadata": {
    "colab_type": "text",
    "id": "-OdQRdHBRVCE"
   },
   "source": [
    "### **Fitting AR(p) model**\n",
    "\n",
    "`statsmodels.tsa.arima_model.ARMA` is a class representing a general ARMA model \n",
    "(ARMA = AR + MA, where AR is \"autoregressive\", \"MA\" is \"moving average\")\n",
    "\n",
    "1. **Create the model**\n",
    "\n",
    "`statsmodels.tsa.arima_model.ARMA(series_here, order=(p,q))` will create the model object.\n",
    "\n",
    "_To specify an $AR(p)$ model, pass `order = (p,0)`_\n",
    "\n",
    "\n",
    "2. **Fit the model**\n",
    "\n",
    "`model.fit()` will fit the model and return the results object.\n"
   ]
  },
  {
   "cell_type": "code",
   "execution_count": 0,
   "metadata": {
    "colab": {},
    "colab_type": "code",
    "id": "8ktxMXGZRVCF"
   },
   "outputs": [],
   "source": [
    "# Import ARMA\n",
    "\n",
    "\n",
    "# Fit the model to unemployment_diff\n",
    "\n",
    "\n",
    "# Print the summary\n"
   ]
  },
  {
   "cell_type": "markdown",
   "metadata": {
    "colab_type": "text",
    "id": "E_wKLIR_RVCH"
   },
   "source": [
    "### **Predicting with AR(p) model**\n",
    "\n",
    "Same as for $MA(q)$ model:\n",
    "\n",
    "- `results.predict(start=..., end=...)`\n",
    "\n",
    "Will return predictions from the `start` date to the `end` date. Can give in-sample and out-sample predictions.\n",
    "\n",
    "For in in-sample dates, one-step-ahead prediction will be made by default, i.e. in-sample  values are used for prediction instead of previous forecasts. \n",
    "\n",
    "\n",
    "- `results.plot_prediction(start=..., end=...)`\n",
    "\n",
    "Will plot predictions from the `start` date to the `end` date. For out-of-sample predictions, a confidence interval will be shown as well.\n"
   ]
  },
  {
   "cell_type": "code",
   "execution_count": 0,
   "metadata": {
    "colab": {},
    "colab_type": "code",
    "id": "MrMJtBMYRVCI"
   },
   "outputs": [],
   "source": [
    "# Plot predictions from \"2006-03-31\" to \"2011-03-31\""
   ]
  },
  {
   "cell_type": "markdown",
   "metadata": {
    "colab_type": "text",
    "id": "yV4Gg2HqhOC5"
   },
   "source": [
    "---\n",
    "<center><h1>Q&A 4</h1><center>\n",
    "\n",
    "---"
   ]
  }
 ],
 "metadata": {
  "colab": {
   "name": "Time Series Analysis in Python_students.ipynb",
   "provenance": []
  },
  "kernelspec": {
   "display_name": "Python 3",
   "language": "python",
   "name": "python3"
  },
  "language_info": {
   "codemirror_mode": {
    "name": "ipython",
    "version": 3
   },
   "file_extension": ".py",
   "mimetype": "text/x-python",
   "name": "python",
   "nbconvert_exporter": "python",
   "pygments_lexer": "ipython3",
   "version": "3.7.5"
  },
  "toc": {
   "base_numbering": 1,
   "nav_menu": {},
   "number_sections": true,
   "sideBar": true,
   "skip_h1_title": false,
   "title_cell": "Table of Contents",
   "title_sidebar": "Contents",
   "toc_cell": false,
   "toc_position": {},
   "toc_section_display": true,
   "toc_window_display": true
  },
  "varInspector": {
   "cols": {
    "lenName": 16,
    "lenType": 16,
    "lenVar": 40
   },
   "kernels_config": {
    "python": {
     "delete_cmd_postfix": "",
     "delete_cmd_prefix": "del ",
     "library": "var_list.py",
     "varRefreshCmd": "print(var_dic_list())"
    },
    "r": {
     "delete_cmd_postfix": ") ",
     "delete_cmd_prefix": "rm(",
     "library": "var_list.r",
     "varRefreshCmd": "cat(var_dic_list()) "
    }
   },
   "types_to_exclude": [
    "module",
    "function",
    "builtin_function_or_method",
    "instance",
    "_Feature"
   ],
   "window_display": false
  }
 },
 "nbformat": 4,
 "nbformat_minor": 1
}
