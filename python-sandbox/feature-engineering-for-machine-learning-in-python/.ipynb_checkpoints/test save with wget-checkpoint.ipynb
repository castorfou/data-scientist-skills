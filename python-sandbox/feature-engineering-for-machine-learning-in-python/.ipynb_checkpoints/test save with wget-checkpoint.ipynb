{
 "cells": [
  {
   "cell_type": "code",
   "execution_count": 12,
   "metadata": {
    "ExecuteTime": {
     "end_time": "2019-12-16T10:21:40.367732Z",
     "start_time": "2019-12-16T10:21:40.357708Z"
    }
   },
   "outputs": [],
   "source": [
    "import numpy as np\n",
    "import pandas as pd\n",
    "import inspect\n",
    "import subprocess\n",
    "import json\n",
    "import yaml\n",
    "import pickle\n",
    "\n",
    "def saveFromFileIOv3(dict_urls, prefix='', proxy=''):\n",
    "    #we accept both string and dict\n",
    "    wget_proxy_option=[' -e ', 'use_proxy=off']\n",
    "    if proxy!='':\n",
    "        wget_proxy_option=[ ' -e ', 'use_proxy=on', ' -e ', 'http_proxy='+proxy, ' -e ', 'https_proxy='+proxy]\n",
    "    if (type(dict_urls)==type(str())):\n",
    "        dict_urls = dict_urls.replace(\"'\", '\"')\n",
    "        print(dict_urls)\n",
    "        dict_urls=yaml.load(dict_urls, Loader=yaml.FullLoader)\n",
    "    print(dict_urls)\n",
    "    for python_type, filename_url in dict_urls.items():\n",
    "        for filename, url in filename_url.items():\n",
    "            #print(prefix+filename, url)\n",
    "            command_list=['wget']\n",
    "            command_list.extend(wget_proxy_option)\n",
    "            command_list.extend([' -O ',prefix+filename, url])\n",
    "            sortie_wget = subprocess.run(command_list, capture_output=True)\n",
    "            print(sortie_wget)\n"
   ]
  },
  {
   "cell_type": "code",
   "execution_count": null,
   "metadata": {
    "ExecuteTime": {
     "start_time": "2019-12-16T10:21:40.834Z"
    }
   },
   "outputs": [
    {
     "name": "stdout",
     "output_type": "stream",
     "text": [
      "{pandas.core.frame.DataFrame: {\"addresses.csv\": \"https://people.sc.fsu.edu/~jburkardt/data/csv/addresses.csv\"}}\n",
      "{'pandas.core.frame.DataFrame': {'addresses.csv': 'https://people.sc.fsu.edu/~jburkardt/data/csv/addresses.csv'}}\n"
     ]
    }
   ],
   "source": [
    "tobedownloaded=\"{pandas.core.frame.DataFrame: {'addresses.csv': 'https://people.sc.fsu.edu/~jburkardt/data/csv/addresses.csv'}}\"\n",
    "prefix='data_from_datacamp/Chap3-Exercise1.1_'\n",
    "saveFromFileIOv3(tobedownloaded, prefix=prefix, proxy=\"10.225.92.1:80\")"
   ]
  },
  {
   "cell_type": "code",
   "execution_count": 25,
   "metadata": {
    "ExecuteTime": {
     "end_time": "2019-12-16T09:46:51.183067Z",
     "start_time": "2019-12-16T09:46:49.260358Z"
    }
   },
   "outputs": [
    {
     "name": "stderr",
     "output_type": "stream",
     "text": [
      "--2019-12-16 10:46:49--  https://people.sc.fsu.edu/~jburkardt/data/csv/addresses.csv\n",
      "Connecting to 10.225.92.1:80... connected.\n",
      "Proxy request sent, awaiting response... 200 OK\n",
      "Length: 328 [text/plain]\n",
      "Saving to: 'data_from_datacamp/Chap3-Exercise1.1_addresses.csv'\n",
      "\n",
      "     0K                                                       100% 1,04M=0s\n",
      "\n",
      "2019-12-16 10:46:51 (1,04 MB/s) - 'data_from_datacamp/Chap3-Exercise1.1_addresses.csv' saved [328/328]\n",
      "\n"
     ]
    }
   ],
   "source": [
    "!wget -e use_proxy=on -e http_proxy=10.225.92.1:80 -e https_proxy=10.225.92.1:80 -O data_from_datacamp/Chap3-Exercise1.1_addresses.csv https://people.sc.fsu.edu/~jburkardt/data/csv/addresses.csv"
   ]
  },
  {
   "cell_type": "code",
   "execution_count": null,
   "metadata": {},
   "outputs": [],
   "source": []
  }
 ],
 "metadata": {
  "kernelspec": {
   "display_name": "Python 3",
   "language": "python",
   "name": "python3"
  },
  "language_info": {
   "codemirror_mode": {
    "name": "ipython",
    "version": 3
   },
   "file_extension": ".py",
   "mimetype": "text/x-python",
   "name": "python",
   "nbconvert_exporter": "python",
   "pygments_lexer": "ipython3",
   "version": "3.7.4"
  },
  "toc": {
   "base_numbering": 1,
   "nav_menu": {},
   "number_sections": true,
   "sideBar": true,
   "skip_h1_title": false,
   "title_cell": "Table of Contents",
   "title_sidebar": "Contents",
   "toc_cell": false,
   "toc_position": {},
   "toc_section_display": true,
   "toc_window_display": false
  },
  "varInspector": {
   "cols": {
    "lenName": 16,
    "lenType": 16,
    "lenVar": 40
   },
   "kernels_config": {
    "python": {
     "delete_cmd_postfix": "",
     "delete_cmd_prefix": "del ",
     "library": "var_list.py",
     "varRefreshCmd": "print(var_dic_list())"
    },
    "r": {
     "delete_cmd_postfix": ") ",
     "delete_cmd_prefix": "rm(",
     "library": "var_list.r",
     "varRefreshCmd": "cat(var_dic_list()) "
    }
   },
   "types_to_exclude": [
    "module",
    "function",
    "builtin_function_or_method",
    "instance",
    "_Feature"
   ],
   "window_display": false
  }
 },
 "nbformat": 4,
 "nbformat_minor": 2
}
