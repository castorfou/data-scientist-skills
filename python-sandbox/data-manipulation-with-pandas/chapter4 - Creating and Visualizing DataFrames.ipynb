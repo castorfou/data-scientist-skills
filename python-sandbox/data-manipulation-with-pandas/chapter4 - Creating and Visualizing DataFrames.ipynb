{
 "cells": [
  {
   "cell_type": "markdown",
   "metadata": {},
   "source": [
    "# Visualizing your data\n",
    "\n",
    "```python\n",
    "\n",
    "# Histograms\n",
    "import matplotlib.pyplot as plt\n",
    "dog_pack[\"height_cm\"].hist(bins=20)\n",
    "\n",
    "# Bar plots\n",
    "avg_weight_by_breed = dog_pack.groupby(\"breed\")[\"weight_kg\"].mean()\n",
    "avg_weight_by_breed.plot(kind=\"bar\", title=\"Mean Weight by Dog Breed\")\n",
    "\n",
    "# Line plots\n",
    "sully.head()\n",
    "sully.plot(x=\"date\", y=\"weight_kg\", kind=\"line\")\n",
    "\n",
    "# Rotating axis labels\n",
    "sully.plot(x=\"date\", y=\"weight_kg\", kind=\"line\", rot=45)\n",
    "\n",
    "# Scatter plots\n",
    "dog_pack.plot(x=\"height_cm\", y=\"weight_kg\", kind=\"scatter\")\n",
    "\n",
    "# Layering plots\n",
    "dog_pack[dog_pack[\"sex\"]==\"F\"][\"height_cm\"].hist()\n",
    "dog_pack[dog_pack[\"sex\"]==\"M\"][\"height_cm\"].hist()\n",
    "\n",
    "# Add a legend\n",
    "plt.legend([\"F\", \"M\"])\n",
    "\n",
    "# Transparency\n",
    "dog_pack[dog_pack[\"sex\"]==\"F\"][\"height_cm\"].hist(alpha=0.7)\n",
    "dog_pack[dog_pack[\"sex\"]==\"M\"][\"height_cm\"].hist(alpha=0.7)\n",
    "plt.legend([\"F\", \"M\"])\n",
    "```"
   ]
  },
  {
   "cell_type": "markdown",
   "metadata": {},
   "source": [
    "[Which avocado size is most popular? | Python](https://campus.datacamp.com/courses/data-manipulation-with-pandas/creating-and-visualizing-dataframes?ex=2)\n",
    "\n",
    "> ## Which avocado size is most popular?\n",
    "> \n",
    "> Avocados are increasingly popular and delicious in guacamole and on toast. The Hass Avocado Board keeps track of avocado supply and demand across the USA, including the sales of three different sizes of avocado. In this exercise, you'll use a bar plot to figure out which size is the most popular.\n",
    "> \n",
    "> Bar plots are great for revealing relationships between categorical (size) and numeric (number sold) variables, but you'll often have to manipulate your data first in order to get the numbers you need for plotting.\n",
    "> \n",
    "> `pandas` has been imported as `pd`, and `avocados` is available."
   ]
  },
  {
   "cell_type": "markdown",
   "metadata": {},
   "source": [
    "### init"
   ]
  },
  {
   "cell_type": "code",
   "execution_count": 1,
   "metadata": {
    "ExecuteTime": {
     "end_time": "2021-01-08T12:15:33.163192Z",
     "start_time": "2021-01-08T12:15:32.142045Z"
    }
   },
   "outputs": [
    {
     "name": "stdout",
     "output_type": "stream",
     "text": [
      "Téléchargements à lancer\n",
      "{'pandas.core.frame.DataFrame': {'avocados.csv': 'https://file.io/5TNo5ROfaGwW'}}\n",
      "  % Total    % Received % Xferd  Average Speed   Time    Time     Time  Current\n",
      "                                 Dload  Upload   Total   Spent    Left  Speed\n",
      "100 54270    0 54270    0     0  73238      0 --:--:-- --:--:-- --:--:-- 73337\n",
      "\n"
     ]
    }
   ],
   "source": [
    "###################\n",
    "##### Dataframe\n",
    "###################\n",
    "\n",
    "#upload and download\n",
    "\n",
    "from downloadfromFileIO import saveFromFileIO\n",
    "\"\"\" à executer sur datacamp: (apres copie du code uploadfromdatacamp.py)\n",
    "uploadToFileIO(avocados)\n",
    "\"\"\"\n",
    "\n",
    "tobedownloaded=\"\"\"\n",
    "{pandas.core.frame.DataFrame: {'avocados.csv': 'https://file.io/5TNo5ROfaGwW'}}\n",
    "\"\"\"\n",
    "prefixToc='1.1'\n",
    "prefix = saveFromFileIO(tobedownloaded, prefixToc=prefixToc, proxy=\"\")\n",
    "\n",
    "#initialisation\n",
    "\n",
    "import pandas as pd\n",
    "avocados = pd.read_csv(prefix+'avocados.csv',index_col=0)"
   ]
  },
  {
   "cell_type": "markdown",
   "metadata": {},
   "source": [
    "### code"
   ]
  },
  {
   "cell_type": "markdown",
   "metadata": {},
   "source": [
    "> -   Print the head of the `avocados` dataset. _What columns are available?_\n",
    "> -   For each avocado size group, calculate the total number sold, storing as `nb_sold_by_size`.\n",
    "> -   Create a bar plot of the number of avocados sold by size.\n",
    "> -   Show the plot."
   ]
  },
  {
   "cell_type": "code",
   "execution_count": 5,
   "metadata": {
    "ExecuteTime": {
     "end_time": "2021-01-08T12:18:28.049665Z",
     "start_time": "2021-01-08T12:18:27.963126Z"
    }
   },
   "outputs": [
    {
     "name": "stdout",
     "output_type": "stream",
     "text": [
      "         date          type  year  avg_price   size     nb_sold\n",
      "0  2015-12-27  conventional  2015       0.95  small  9626901.09\n",
      "1  2015-12-20  conventional  2015       0.98  small  8710021.76\n",
      "2  2015-12-13  conventional  2015       0.93  small  9855053.66\n",
      "3  2015-12-06  conventional  2015       0.89  small  9405464.36\n",
      "4  2015-11-29  conventional  2015       0.99  small  8094803.56\n"
     ]
    },
    {
     "data": {
      "image/png": "[encoded data removed]",
      "text/plain": [
       "<Figure size 432x288 with 1 Axes>"
      ]
     },
     "metadata": {
      "needs_background": "light"
     },
     "output_type": "display_data"
    }
   ],
   "source": [
    "# Import matplotlib.pyplot with alias plt\n",
    "import matplotlib.pyplot as plt\n",
    "\n",
    "# Look at the first few rows of data\n",
    "print(avocados.head())\n",
    "\n",
    "# Get the total number of avocados sold of each size\n",
    "nb_sold_by_size = avocados.groupby('size')['nb_sold'].sum()\n",
    "\n",
    "# Create a bar plot of the number of avocados sold by size\n",
    "nb_sold_by_size.plot(kind='bar')\n",
    "\n",
    "# Show the plot\n",
    "plt.show()"
   ]
  },
  {
   "cell_type": "markdown",
   "metadata": {},
   "source": [
    "[Changes in sales over time | Python](https://campus.datacamp.com/courses/data-manipulation-with-pandas/creating-and-visualizing-dataframes?ex=3)\n",
    "\n",
    "> ## Changes in sales over time\n",
    "> \n",
    "> Line plots are designed to visualize the relationship between two numeric variables, where each data values is connected to the next one. They are especially useful for visualizing the change in a number over time since each time point is naturally connected to the next time point. In this exercise, you'll visualize the change in avocado sales over three years.\n",
    "> \n",
    "> `pandas` has been imported as `pd`."
   ]
  },
  {
   "cell_type": "markdown",
   "metadata": {},
   "source": [
    "> -   Get the total number of avocados sold on each date. _The DataFrame has two rows for each date -- one for organic, and one for conventional_. Save this as `nb_sold_by_date`.\n",
    "> -   Create a line plot of the number of avocados sold.\n",
    "> -   Show the plot."
   ]
  },
  {
   "cell_type": "code",
   "execution_count": 7,
   "metadata": {
    "ExecuteTime": {
     "end_time": "2021-01-08T12:20:29.319969Z",
     "start_time": "2021-01-08T12:20:29.202590Z"
    }
   },
   "outputs": [
    {
     "data": {
      "image/png": "[encoded data removed]",
      "text/plain": [
       "<Figure size 432x288 with 1 Axes>"
      ]
     },
     "metadata": {
      "needs_background": "light"
     },
     "output_type": "display_data"
    }
   ],
   "source": [
    "# Import matplotlib.pyplot with alias plt\n",
    "import matplotlib.pyplot as plt\n",
    "\n",
    "# Get the total number of avocados sold on each date\n",
    "nb_sold_by_date = avocados.groupby('date')['nb_sold'].sum()\n",
    "\n",
    "# Create a line plot of the number of avocados sold by date\n",
    "nb_sold_by_date.plot(kind='line')\n",
    "\n",
    "# Show the plot\n",
    "plt.show()"
   ]
  },
  {
   "cell_type": "markdown",
   "metadata": {},
   "source": [
    "[Avocado supply and demand | Python](https://campus.datacamp.com/courses/data-manipulation-with-pandas/creating-and-visualizing-dataframes?ex=4)\n",
    "\n",
    "> ## Avocado supply and demand\n",
    "> \n",
    "> Scatter plots are ideal for visualizing relationships between numerical variables. In this exercise, you'll compare the number of avocados sold to average price and see if they're at all related. If they're related, you may be able to use one number to predict the other.\n",
    "> \n",
    "> `matplotlib.pyplot` has been imported as `plt` and `pandas` has been imported as `pd`."
   ]
  },
  {
   "cell_type": "markdown",
   "metadata": {},
   "source": [
    "> -   Create a scatter plot with `nb_sold` on the x-axis and `avg_price` on the y-axis. Title it `\"Number of avocados sold vs. average price\"`.\n",
    "> -   Show the plot."
   ]
  },
  {
   "cell_type": "code",
   "execution_count": 17,
   "metadata": {
    "ExecuteTime": {
     "end_time": "2021-01-08T12:24:03.888996Z",
     "start_time": "2021-01-08T12:24:03.883815Z"
    }
   },
   "outputs": [],
   "source": [
    "plt.rcParams['figure.figsize'] = [11, 7]\n",
    "plt.style.use('fivethirtyeight')"
   ]
  },
  {
   "cell_type": "code",
   "execution_count": 18,
   "metadata": {
    "ExecuteTime": {
     "end_time": "2021-01-08T12:24:04.253740Z",
     "start_time": "2021-01-08T12:24:04.138289Z"
    }
   },
   "outputs": [
    {
     "data": {
      "image/png": "[encoded data removed]",
      "text/plain": [
       "<Figure size 792x504 with 1 Axes>"
      ]
     },
     "metadata": {},
     "output_type": "display_data"
    }
   ],
   "source": [
    "# Scatter plot of nb_sold vs avg_price with title\n",
    "avocados.plot(kind='scatter', x='nb_sold', y='avg_price', title='Number of avocados sold vs. average price')\n",
    "\n",
    "# Show the plot\n",
    "plt.show()"
   ]
  },
  {
   "cell_type": "markdown",
   "metadata": {},
   "source": [
    "[Price of conventional vs. organic avocados | Python](https://campus.datacamp.com/courses/data-manipulation-with-pandas/creating-and-visualizing-dataframes?ex=5)\n",
    "\n",
    "> ## Price of conventional vs. organic avocados\n",
    "> \n",
    "> Creating multiple plots for different subsets of data allows you to compare groups. In this exercise, you'll create multiple histograms to compare the prices of conventional and organic avocados.\n",
    "> \n",
    "> `matplotlib.pyplot` has been imported as `plt` and `pandas` has been imported as `pd`."
   ]
  },
  {
   "cell_type": "markdown",
   "metadata": {},
   "source": [
    "> -   Subset `avocados` for the conventional type, and the average price column. Create a histogram.\n",
    "> -   Create a histogram of `avg_price` for organic type avocados.\n",
    "> -   Add a legend to your plot, with the names \"conventional\" and \"organic\".\n",
    "> -   Show your plot."
   ]
  },
  {
   "cell_type": "code",
   "execution_count": 25,
   "metadata": {
    "ExecuteTime": {
     "end_time": "2021-01-08T12:28:52.228590Z",
     "start_time": "2021-01-08T12:28:52.098667Z"
    }
   },
   "outputs": [
    {
     "data": {
      "image/png": "[encoded data removed]",
      "text/plain": [
       "<Figure size 792x504 with 1 Axes>"
      ]
     },
     "metadata": {},
     "output_type": "display_data"
    }
   ],
   "source": [
    "# Histogram of conventional avg_price \n",
    "avocados[avocados.type=='conventional']['avg_price'].hist()\n",
    "\n",
    "# Histogram of organic avg_price\n",
    "avocados[avocados.type=='organic']['avg_price'].hist()\n",
    "\n",
    "# Add a legend\n",
    "plt.legend(['conventional', 'organic'])\n",
    "\n",
    "# Show the plot\n",
    "plt.show()"
   ]
  },
  {
   "cell_type": "markdown",
   "metadata": {
    "ExecuteTime": {
     "end_time": "2021-01-08T12:28:11.256440Z",
     "start_time": "2021-01-08T12:28:11.247517Z"
    }
   },
   "source": [
    "> Modify your code to adjust the transparency of both histograms to `0.5` to see how much overlap there is between the two distributions."
   ]
  },
  {
   "cell_type": "code",
   "execution_count": 26,
   "metadata": {
    "ExecuteTime": {
     "end_time": "2021-01-08T12:28:53.315856Z",
     "start_time": "2021-01-08T12:28:53.182958Z"
    }
   },
   "outputs": [
    {
     "data": {
      "image/png": "[encoded data removed]",
      "text/plain": [
       "<Figure size 792x504 with 1 Axes>"
      ]
     },
     "metadata": {},
     "output_type": "display_data"
    }
   ],
   "source": [
    "# Histogram of conventional avg_price \n",
    "avocados[avocados.type=='conventional']['avg_price'].hist(alpha=0.5)\n",
    "\n",
    "# Histogram of organic avg_price\n",
    "avocados[avocados.type=='organic']['avg_price'].hist(alpha=0.5)\n",
    "\n",
    "# Add a legend\n",
    "plt.legend(['conventional', 'organic'])\n",
    "\n",
    "# Show the plot\n",
    "plt.show()"
   ]
  },
  {
   "cell_type": "markdown",
   "metadata": {},
   "source": [
    "> Modify your code to use 20 bins in both histograms."
   ]
  },
  {
   "cell_type": "code",
   "execution_count": 27,
   "metadata": {
    "ExecuteTime": {
     "end_time": "2021-01-08T12:29:32.838261Z",
     "start_time": "2021-01-08T12:29:32.663404Z"
    }
   },
   "outputs": [
    {
     "data": {
      "image/png": "[encoded data removed]",
      "text/plain": [
       "<Figure size 792x504 with 1 Axes>"
      ]
     },
     "metadata": {},
     "output_type": "display_data"
    }
   ],
   "source": [
    "# Histogram of conventional avg_price \n",
    "avocados[avocados.type=='conventional']['avg_price'].hist(bins=20, alpha=0.5)\n",
    "\n",
    "# Histogram of organic avg_price\n",
    "avocados[avocados.type=='organic']['avg_price'].hist(bins=20, alpha=0.5)\n",
    "\n",
    "# Add a legend\n",
    "plt.legend(['conventional', 'organic'])\n",
    "\n",
    "# Show the plot\n",
    "plt.show()"
   ]
  },
  {
   "cell_type": "markdown",
   "metadata": {},
   "source": [
    "# Missing values\n",
    "\n",
    "```python\n",
    "\n",
    "# Detecting missing values\n",
    "dogs.isna()\n",
    "\n",
    "# Detecting any missing values\n",
    "dogs.isna().any()\n",
    "\n",
    "# Counting missing values\n",
    "dogs.isna().sum()\n",
    "\n",
    "# Plotting missing values\n",
    "import matplotlib.pyplot as plt\n",
    "dogs.isna().sum().plot(kind=\"bar\")\n",
    "plt.show()\n",
    "\n",
    "# Removing rows containing missing values\n",
    "dogs.dropna()\n",
    "\n",
    "# Replacing missing values\n",
    "dogs.fillna(0)\n",
    "\n",
    "```"
   ]
  },
  {
   "cell_type": "markdown",
   "metadata": {},
   "source": [
    "[Finding missing values | Python](https://campus.datacamp.com/courses/data-manipulation-with-pandas/creating-and-visualizing-dataframes?ex=7)\n",
    "\n",
    "> ## Finding missing values\n",
    "> \n",
    "> Missing values are everywhere, and you don't want them interfering with your work. Some functions ignore missing data by default, but that's not always the behavior you might want. Some functions can't handle missing values at all, so these values need to be taken care of before you can use them. If you don't know where your missing values are, or if they exist, you could make mistakes in your analysis. In this exercise, you'll determine if there are missing values in the dataset, and if so, how many.\n",
    "> \n",
    "> `pandas` has been imported as `pd` and `avocados_2016`, a subset of `avocados` that contains only sales from 2016, is available."
   ]
  },
  {
   "cell_type": "markdown",
   "metadata": {},
   "source": [
    "### init"
   ]
  },
  {
   "cell_type": "code",
   "execution_count": 37,
   "metadata": {
    "ExecuteTime": {
     "end_time": "2021-01-08T12:35:52.331303Z",
     "start_time": "2021-01-08T12:35:52.319063Z"
    }
   },
   "outputs": [],
   "source": [
    "avocados_2016 = avocados[avocados.year == 2016].reset_index(drop=True)"
   ]
  },
  {
   "cell_type": "code",
   "execution_count": 39,
   "metadata": {
    "ExecuteTime": {
     "end_time": "2021-01-08T12:38:39.833193Z",
     "start_time": "2021-01-08T12:38:39.168175Z"
    }
   },
   "outputs": [
    {
     "name": "stdout",
     "output_type": "stream",
     "text": [
      "Téléchargements à lancer\n",
      "{'pandas.core.frame.DataFrame': {'avocados_2016.csv': 'https://file.io/4PnDNYnECG9L'}}\n",
      "  % Total    % Received % Xferd  Average Speed   Time    Time     Time  Current\n",
      "                                 Dload  Upload   Total   Spent    Left  Speed\n",
      "100  5509    0  5509    0     0   9120      0 --:--:-- --:--:-- --:--:--  9105\n",
      "\n"
     ]
    }
   ],
   "source": [
    "###################\n",
    "##### Dataframe\n",
    "###################\n",
    "\n",
    "#upload and download\n",
    "\n",
    "from downloadfromFileIO import saveFromFileIO\n",
    "\"\"\" à executer sur datacamp: (apres copie du code uploadfromdatacamp.py)\n",
    "uploadToFileIO(avocados_2016)\n",
    "\"\"\"\n",
    "\n",
    "tobedownloaded=\"\"\"\n",
    "{pandas.core.frame.DataFrame: {'avocados_2016.csv': 'https://file.io/4PnDNYnECG9L'}}\n",
    "\"\"\"\n",
    "prefixToc='2.1'\n",
    "prefix = saveFromFileIO(tobedownloaded, prefixToc=prefixToc, proxy=\"\")\n",
    "\n",
    "#initialisation\n",
    "\n",
    "import pandas as pd\n",
    "avocados_2016 = pd.read_csv(prefix+'avocados_2016.csv',index_col=0)"
   ]
  },
  {
   "cell_type": "markdown",
   "metadata": {},
   "source": [
    "> -   Print a DataFrame that shows whether each value in `avocados_2016` is missing or not.\n",
    "> -   Print a summary that shows whether _any_ value in each column is missing or not.\n",
    "> -   Create a bar plot of the total number of missing values in each column."
   ]
  },
  {
   "cell_type": "code",
   "execution_count": 40,
   "metadata": {
    "ExecuteTime": {
     "end_time": "2021-01-08T12:38:42.742525Z",
     "start_time": "2021-01-08T12:38:42.600799Z"
    }
   },
   "outputs": [
    {
     "name": "stdout",
     "output_type": "stream",
     "text": [
      "     date  avg_price  total_sold  small_sold  large_sold  xl_sold  \\\n",
      "0   False      False       False       False       False    False   \n",
      "1   False      False       False       False       False    False   \n",
      "2   False      False       False       False        True    False   \n",
      "3   False      False       False       False       False    False   \n",
      "4   False      False       False       False       False     True   \n",
      "5   False      False       False        True       False    False   \n",
      "6   False      False       False       False       False    False   \n",
      "7   False      False       False       False        True    False   \n",
      "8   False      False       False       False       False    False   \n",
      "9   False      False       False       False       False    False   \n",
      "10  False      False       False       False        True    False   \n",
      "11  False      False       False       False       False    False   \n",
      "12  False      False       False       False       False    False   \n",
      "13  False      False       False       False       False    False   \n",
      "14  False      False       False       False       False    False   \n",
      "15  False      False       False       False        True    False   \n",
      "16  False      False       False       False       False     True   \n",
      "17  False      False       False       False       False    False   \n",
      "18  False      False       False       False       False    False   \n",
      "19  False      False       False       False        True    False   \n",
      "20  False      False       False       False       False    False   \n",
      "21  False      False       False       False       False    False   \n",
      "22  False      False       False       False       False    False   \n",
      "23  False      False       False       False       False    False   \n",
      "24  False      False       False       False       False    False   \n",
      "25  False      False       False       False       False    False   \n",
      "26  False      False       False       False       False    False   \n",
      "27  False      False       False       False       False    False   \n",
      "28  False      False       False       False       False    False   \n",
      "29  False      False       False       False       False    False   \n",
      "30  False      False       False       False       False     True   \n",
      "31  False      False       False       False       False    False   \n",
      "32  False      False       False       False       False     True   \n",
      "33  False      False       False       False       False    False   \n",
      "34  False      False       False       False       False    False   \n",
      "35  False      False       False       False       False    False   \n",
      "36  False      False       False        True       False    False   \n",
      "37  False      False       False       False        True    False   \n",
      "38  False      False       False       False       False    False   \n",
      "39  False      False       False       False       False    False   \n",
      "40  False      False       False        True       False    False   \n",
      "41  False      False       False       False       False    False   \n",
      "42  False      False       False       False       False    False   \n",
      "43  False      False       False       False       False    False   \n",
      "44  False      False       False        True       False    False   \n",
      "45  False      False       False       False       False    False   \n",
      "46  False      False       False       False       False    False   \n",
      "47  False      False       False       False       False    False   \n",
      "48  False      False       False       False       False    False   \n",
      "49  False      False       False       False       False    False   \n",
      "50  False      False       False        True       False    False   \n",
      "51  False      False       False        True       False    False   \n",
      "\n",
      "    total_bags_sold  small_bags_sold  large_bags_sold  xl_bags_sold  \n",
      "0             False            False            False         False  \n",
      "1             False            False            False         False  \n",
      "2             False            False            False         False  \n",
      "3             False            False            False         False  \n",
      "4             False            False            False         False  \n",
      "5             False            False            False         False  \n",
      "6             False            False            False         False  \n",
      "7             False            False            False         False  \n",
      "8             False            False            False         False  \n",
      "9             False            False            False         False  \n",
      "10            False            False            False         False  \n",
      "11            False            False            False         False  \n",
      "12            False            False            False         False  \n",
      "13            False            False            False         False  \n",
      "14            False            False            False         False  \n",
      "15            False            False            False         False  \n",
      "16            False            False            False         False  \n",
      "17            False            False            False         False  \n",
      "18            False            False            False         False  \n",
      "19            False            False            False         False  \n",
      "20            False            False            False         False  \n",
      "21            False            False            False         False  \n",
      "22            False            False            False         False  \n",
      "23            False            False            False         False  \n",
      "24            False            False            False         False  \n",
      "25            False            False            False         False  \n",
      "26            False            False            False         False  \n",
      "27            False            False            False         False  \n",
      "28            False            False            False         False  \n",
      "29            False            False            False         False  \n",
      "30            False            False            False         False  \n",
      "31            False            False            False         False  \n",
      "32            False            False            False         False  \n",
      "33            False            False            False         False  \n",
      "34            False            False            False         False  \n",
      "35            False            False            False         False  \n",
      "36            False            False            False         False  \n",
      "37            False            False            False         False  \n",
      "38            False            False            False         False  \n",
      "39            False            False            False         False  \n",
      "40            False            False            False         False  \n",
      "41            False            False            False         False  \n",
      "42            False            False            False         False  \n",
      "43            False            False            False         False  \n",
      "44            False            False            False         False  \n",
      "45            False            False            False         False  \n",
      "46            False            False            False         False  \n",
      "47            False            False            False         False  \n",
      "48            False            False            False         False  \n",
      "49            False            False            False         False  \n",
      "50            False            False            False         False  \n",
      "51            False            False            False         False  \n",
      "date               False\n",
      "avg_price          False\n",
      "total_sold         False\n",
      "small_sold          True\n",
      "large_sold          True\n",
      "xl_sold             True\n",
      "total_bags_sold    False\n",
      "small_bags_sold    False\n",
      "large_bags_sold    False\n",
      "xl_bags_sold       False\n",
      "dtype: bool\n"
     ]
    },
    {
     "data": {
      "image/png": "[encoded data removed]",
      "text/plain": [
       "<Figure size 792x504 with 1 Axes>"
      ]
     },
     "metadata": {},
     "output_type": "display_data"
    }
   ],
   "source": [
    "# Import matplotlib.pyplot with alias plt\n",
    "import matplotlib.pyplot as plt\n",
    "\n",
    "# Check individual values for missing values\n",
    "print(avocados_2016.isna())\n",
    "\n",
    "# Check each column for missing values\n",
    "print(avocados_2016.isna().any())\n",
    "\n",
    "# Bar plot of missing values by variable\n",
    "avocados_2016.isna().sum().plot(kind=\"bar\")\n",
    "\n",
    "# Show plot\n",
    "plt.show()"
   ]
  },
  {
   "cell_type": "markdown",
   "metadata": {},
   "source": [
    "[Removing missing values | Python](https://campus.datacamp.com/courses/data-manipulation-with-pandas/creating-and-visualizing-dataframes?ex=8)\n",
    "\n",
    "> ## Removing missing values\n",
    "> \n",
    "> Now that you know there are some missing values in your DataFrame, you have a few options to deal with them. One way is to remove them from the dataset completely. In this exercise, you'll remove missing values by removing all rows that contain missing values.\n",
    "> \n",
    "> `pandas` has been imported as `pd` and `avocados_2016` is available."
   ]
  },
  {
   "cell_type": "markdown",
   "metadata": {},
   "source": [
    "> -   Remove the rows of `avocados_2016` that contain missing values and store the remaining rows in `avocados_complete`.\n",
    "> -   Verify that all missing values have been removed from `avocados_complete`. Calculate each column that has NAs and print."
   ]
  },
  {
   "cell_type": "code",
   "execution_count": 41,
   "metadata": {
    "ExecuteTime": {
     "end_time": "2021-01-08T12:40:19.261867Z",
     "start_time": "2021-01-08T12:40:19.255962Z"
    }
   },
   "outputs": [
    {
     "name": "stdout",
     "output_type": "stream",
     "text": [
      "date               False\n",
      "avg_price          False\n",
      "total_sold         False\n",
      "small_sold         False\n",
      "large_sold         False\n",
      "xl_sold            False\n",
      "total_bags_sold    False\n",
      "small_bags_sold    False\n",
      "large_bags_sold    False\n",
      "xl_bags_sold       False\n",
      "dtype: bool\n"
     ]
    }
   ],
   "source": [
    "# Remove rows with missing values\n",
    "avocados_complete = avocados_2016.dropna()\n",
    "\n",
    "# Check if any columns contain missing values\n",
    "print(avocados_complete.isna().any())"
   ]
  },
  {
   "cell_type": "markdown",
   "metadata": {},
   "source": [
    "[Replacing missing values | Python](https://campus.datacamp.com/courses/data-manipulation-with-pandas/creating-and-visualizing-dataframes?ex=9)\n",
    "\n",
    "> ## Replacing missing values\n",
    "> \n",
    "> Another way of handling missing values is to replace them all with the same value. For numerical variables, one option is to replace values with 0— you'll do this here. However, when you replace missing values, you make assumptions about what a missing value means. In this case, you will assume that a missing number sold means that no sales for that avocado type were made that week.\n",
    "> \n",
    "> In this exercise, you'll see how replacing missing values can affect the distribution of a variable using histograms. You can plot histograms for multiple variables at a time as follows:\n",
    "> \n",
    ">     dogs[[\"height_cm\", \"weight_kg\"]].hist()\n",
    ">     \n",
    "> \n",
    "> `pandas` has been imported as `pd` and `matplotlib.pyplot` has been imported as `plt`. The `avocados_2016` dataset is available."
   ]
  },
  {
   "cell_type": "markdown",
   "metadata": {},
   "source": [
    "> -   A list has been created, `cols_with_missing`, containing the names of columns with missing values: `\"small_sold\"`, `\"large_sold\"`, and `\"xl_sold\"`.\n",
    "> -   Create a histogram of those columns.\n",
    "> -   Show the plot."
   ]
  },
  {
   "cell_type": "code",
   "execution_count": 42,
   "metadata": {
    "ExecuteTime": {
     "end_time": "2021-01-08T12:41:14.383924Z",
     "start_time": "2021-01-08T12:41:14.105404Z"
    }
   },
   "outputs": [
    {
     "data": {
      "image/png": "[encoded data removed]",
      "text/plain": [
       "<Figure size 792x504 with 4 Axes>"
      ]
     },
     "metadata": {},
     "output_type": "display_data"
    }
   ],
   "source": [
    "# List the columns with missing values\n",
    "cols_with_missing = [\"small_sold\", \"large_sold\", \"xl_sold\"]\n",
    "\n",
    "# Create histograms showing the distributions cols_with_missing\n",
    "avocados_2016[cols_with_missing].hist()\n",
    "\n",
    "# Show the plot\n",
    "plt.show()"
   ]
  },
  {
   "cell_type": "markdown",
   "metadata": {},
   "source": [
    "> -   Replace the missing values of `avocados_2016` with `0`s and store the result as `avocados_filled`.\n",
    "> -   Create a histogram of the `cols_with_missing` columns of `avocados_filled`."
   ]
  },
  {
   "cell_type": "code",
   "execution_count": 43,
   "metadata": {
    "ExecuteTime": {
     "end_time": "2021-01-08T12:42:17.315528Z",
     "start_time": "2021-01-08T12:42:17.050177Z"
    }
   },
   "outputs": [
    {
     "data": {
      "image/png": "[encoded data removed]",
      "text/plain": [
       "<Figure size 792x504 with 4 Axes>"
      ]
     },
     "metadata": {},
     "output_type": "display_data"
    }
   ],
   "source": [
    "# Fill in missing values with 0\n",
    "avocados_filled = avocados_2016.fillna(0)\n",
    "\n",
    "# Create histograms of the filled columns\n",
    "avocados_filled[cols_with_missing].hist()\n",
    "\n",
    "# Show the plot\n",
    "plt.show()"
   ]
  },
  {
   "cell_type": "markdown",
   "metadata": {},
   "source": [
    "# Creating DataFrames"
   ]
  },
  {
   "attachments": {
    "image.png": {
     "image/png": "[encoded data removed]"
    }
   },
   "cell_type": "markdown",
   "metadata": {},
   "source": [
    "[List of dictionaries | Python](https://campus.datacamp.com/courses/data-manipulation-with-pandas/creating-and-visualizing-dataframes?ex=11)\n",
    "\n",
    "> ## List of dictionaries\n",
    "> \n",
    "> You recently got some new avocado data from 2019 that you'd like to put in a DataFrame using the list of dictionaries method. Remember that with this method, you go through the data row by row.\n",
    "> \n",
    "> ![image.png](attachment:image.png)\n",
    "> \n",
    "> `pandas` as `pd` is imported."
   ]
  },
  {
   "cell_type": "markdown",
   "metadata": {},
   "source": [
    "> -   Create a list of dictionaries with the new data called `avocados_list`.\n",
    "> -   Convert the list into a DataFrame called `avocados_2019`.\n",
    "> -   Print your new DataFrame."
   ]
  },
  {
   "cell_type": "code",
   "execution_count": 44,
   "metadata": {
    "ExecuteTime": {
     "end_time": "2021-01-08T12:50:53.161936Z",
     "start_time": "2021-01-08T12:50:53.147403Z"
    }
   },
   "outputs": [
    {
     "name": "stdout",
     "output_type": "stream",
     "text": [
      "         date  small_sold  large_sold\n",
      "0  2019-11-03    10376832     7835071\n",
      "1  2019-11-10    10717154     8561348\n"
     ]
    }
   ],
   "source": [
    "# Create a list of dictionaries with new data\n",
    "avocados_list = [\n",
    "    {'date': '2019-11-03', 'small_sold': 10376832, 'large_sold': 7835071},\n",
    "    {'date': '2019-11-10', 'small_sold': 10717154, 'large_sold': 8561348},\n",
    "]\n",
    "\n",
    "# Convert list into DataFrame\n",
    "avocados_2019 = pd.DataFrame(avocados_list)\n",
    "\n",
    "# Print the new DataFrame\n",
    "print(avocados_2019)"
   ]
  },
  {
   "attachments": {
    "image.png": {
     "image/png": "[encoded data removed]"
    }
   },
   "cell_type": "markdown",
   "metadata": {},
   "source": [
    "[Dictionary of lists | Python](https://campus.datacamp.com/courses/data-manipulation-with-pandas/creating-and-visualizing-dataframes?ex=12)\n",
    "\n",
    "> ## Dictionary of lists\n",
    "> \n",
    "> Some more data just came in! This time, you'll use the dictionary of lists method, parsing the data column by column.\n",
    "> \n",
    "> ![image.png](attachment:image.png)\n",
    "> \n",
    "> `pandas` as `pd` is imported."
   ]
  },
  {
   "cell_type": "markdown",
   "metadata": {},
   "source": [
    "> -   Create a dictionary of lists with the new data called `avocados_dict`.\n",
    "> -   Convert the dictionary to a DataFrame called `avocados_2019`.\n",
    "> -   Print your new DataFrame."
   ]
  },
  {
   "cell_type": "code",
   "execution_count": 45,
   "metadata": {
    "ExecuteTime": {
     "end_time": "2021-01-08T12:52:58.512891Z",
     "start_time": "2021-01-08T12:52:58.507989Z"
    }
   },
   "outputs": [
    {
     "name": "stdout",
     "output_type": "stream",
     "text": [
      "         date  small_sold  large_sold\n",
      "0  2019-11-17    10859987     7674135\n",
      "1  2019-12-01     9291631     6238096\n"
     ]
    }
   ],
   "source": [
    "# Create a dictionary of lists with new data\n",
    "avocados_dict = {\n",
    "  \"date\": ['2019-11-17', '2019-12-01'],\n",
    "  \"small_sold\": [10859987, 9291631],\n",
    "  \"large_sold\": [7674135, 6238096]\n",
    "}\n",
    "\n",
    "# Convert dictionary into DataFrame\n",
    "avocados_2019 = pd.DataFrame(avocados_dict)\n",
    "\n",
    "# Print the new DataFrame\n",
    "print(avocados_2019)"
   ]
  },
  {
   "cell_type": "markdown",
   "metadata": {},
   "source": [
    "# Reading and writing CSVs\n",
    "\n",
    "```python\n",
    "\n",
    "# CSV to DataFrame\n",
    "import pandas as pd\n",
    "new_dogs = pd.read_csv(\"new_dogs.csv\")\n",
    "\n",
    "# DataFrame to CSV\n",
    "new_dogs.to_csv(\"new_dogs_with_bmi.csv\")\n",
    "```"
   ]
  },
  {
   "cell_type": "markdown",
   "metadata": {},
   "source": [
    "[CSV to DataFrame | Python](https://campus.datacamp.com/courses/data-manipulation-with-pandas/creating-and-visualizing-dataframes?ex=14)\n",
    "\n",
    "> ## CSV to DataFrame\n",
    "> \n",
    "> You work for an airline, and your manager has asked you to do a competitive analysis and see how often passengers flying on other airlines are involuntarily bumped from their flights. You got a CSV file (`airline_bumping.csv`) from the Department of Transportation containing data on passengers that were involuntarily denied boarding in 2016 and 2017, but it doesn't have the exact numbers you want. In order to figure this out, you'll need to get the CSV into a pandas DataFrame and do some manipulation!\n",
    "> \n",
    "> `pandas` is imported for you as `pd`. `\"airline_bumping.csv\"` is in your working directory."
   ]
  },
  {
   "cell_type": "markdown",
   "metadata": {},
   "source": [
    "### init"
   ]
  },
  {
   "cell_type": "code",
   "execution_count": 46,
   "metadata": {
    "ExecuteTime": {
     "end_time": "2021-01-08T12:55:48.837167Z",
     "start_time": "2021-01-08T12:55:48.294532Z"
    }
   },
   "outputs": [
    {
     "name": "stdout",
     "output_type": "stream",
     "text": [
      "Téléchargements à lancer\n",
      "{'numpy.ndarray': {'airline_bumping.csv': 'https://file.io/t5h50W4stebe'}}\n",
      "  % Total    % Received % Xferd  Average Speed   Time    Time     Time  Current\n",
      "                                 Dload  Upload   Total   Spent    Left  Speed\n",
      "100   890    0   890    0     0   1769      0 --:--:-- --:--:-- --:--:--  1765\n",
      "\n"
     ]
    }
   ],
   "source": [
    "###################\n",
    "##### file\n",
    "###################\n",
    "\n",
    "#upload and download\n",
    "\n",
    "from downloadfromFileIO import saveFromFileIO\n",
    "\"\"\" à executer sur datacamp: (apres copie du code uploadfromdatacamp.py)\n",
    "uploadToFileIO_pushto_fileio('airline_bumping.csv')\n",
    "\"\"\"\n",
    "\n",
    "tobedownloaded=\"\"\"\n",
    "{numpy.ndarray: {'airline_bumping.csv': 'https://file.io/t5h50W4stebe'}}\n",
    "\"\"\"\n",
    "prefixToc = '4.1'\n",
    "prefix = saveFromFileIO(tobedownloaded, prefixToc=prefixToc, proxy=\"\")\n"
   ]
  },
  {
   "cell_type": "markdown",
   "metadata": {},
   "source": [
    "### code"
   ]
  },
  {
   "cell_type": "markdown",
   "metadata": {},
   "source": [
    "> -   Read the CSV file `\"airline_bumping.csv\"` and store it as a DataFrame called `airline_bumping`.\n",
    "> -   Print the first few rows of `airline_bumping`."
   ]
  },
  {
   "cell_type": "code",
   "execution_count": 47,
   "metadata": {
    "ExecuteTime": {
     "end_time": "2021-01-08T12:57:00.597097Z",
     "start_time": "2021-01-08T12:57:00.587905Z"
    }
   },
   "outputs": [
    {
     "name": "stdout",
     "output_type": "stream",
     "text": [
      "             airline  year  nb_bumped  total_passengers\n",
      "0    DELTA AIR LINES  2017        679          99796155\n",
      "1     VIRGIN AMERICA  2017        165           6090029\n",
      "2    JETBLUE AIRWAYS  2017       1475          27255038\n",
      "3    UNITED AIRLINES  2017       2067          70030765\n",
      "4  HAWAIIAN AIRLINES  2017         92           8422734\n"
     ]
    }
   ],
   "source": [
    "# Read CSV as DataFrame called airline_bumping\n",
    "airline_bumping = pd.read_csv('airline_bumping.csv')\n",
    "\n",
    "# Take a look at the DataFrame\n",
    "print(airline_bumping.head())"
   ]
  },
  {
   "cell_type": "markdown",
   "metadata": {},
   "source": [
    "> For each airline group, select the `nb_bumped`, and `total_passengers` columns, and calculate the sum (for both years). Store this as `airline_totals`."
   ]
  },
  {
   "cell_type": "code",
   "execution_count": 49,
   "metadata": {
    "ExecuteTime": {
     "end_time": "2021-01-08T12:58:05.719154Z",
     "start_time": "2021-01-08T12:58:05.700834Z"
    }
   },
   "outputs": [
    {
     "data": {
      "text/html": [
       "<div>\n",
       "<style scoped>\n",
       "    .dataframe tbody tr th:only-of-type {\n",
       "        vertical-align: middle;\n",
       "    }\n",
       "\n",
       "    .dataframe tbody tr th {\n",
       "        vertical-align: top;\n",
       "    }\n",
       "\n",
       "    .dataframe thead th {\n",
       "        text-align: right;\n",
       "    }\n",
       "</style>\n",
       "<table border=\"1\" class=\"dataframe\">\n",
       "  <thead>\n",
       "    <tr style=\"text-align: right;\">\n",
       "      <th></th>\n",
       "      <th>nb_bumped</th>\n",
       "      <th>total_passengers</th>\n",
       "    </tr>\n",
       "    <tr>\n",
       "      <th>airline</th>\n",
       "      <th></th>\n",
       "      <th></th>\n",
       "    </tr>\n",
       "  </thead>\n",
       "  <tbody>\n",
       "    <tr>\n",
       "      <th>ALASKA AIRLINES</th>\n",
       "      <td>1392</td>\n",
       "      <td>36543121</td>\n",
       "    </tr>\n",
       "    <tr>\n",
       "      <th>AMERICAN AIRLINES</th>\n",
       "      <td>11115</td>\n",
       "      <td>197365225</td>\n",
       "    </tr>\n",
       "    <tr>\n",
       "      <th>DELTA AIR LINES</th>\n",
       "      <td>1591</td>\n",
       "      <td>197033215</td>\n",
       "    </tr>\n",
       "    <tr>\n",
       "      <th>EXPRESSJET AIRLINES</th>\n",
       "      <td>3326</td>\n",
       "      <td>27858678</td>\n",
       "    </tr>\n",
       "    <tr>\n",
       "      <th>FRONTIER AIRLINES</th>\n",
       "      <td>1228</td>\n",
       "      <td>22954995</td>\n",
       "    </tr>\n",
       "    <tr>\n",
       "      <th>HAWAIIAN AIRLINES</th>\n",
       "      <td>122</td>\n",
       "      <td>16577572</td>\n",
       "    </tr>\n",
       "    <tr>\n",
       "      <th>JETBLUE AIRWAYS</th>\n",
       "      <td>3615</td>\n",
       "      <td>53245866</td>\n",
       "    </tr>\n",
       "    <tr>\n",
       "      <th>SKYWEST AIRLINES</th>\n",
       "      <td>3094</td>\n",
       "      <td>47091737</td>\n",
       "    </tr>\n",
       "    <tr>\n",
       "      <th>SOUTHWEST AIRLINES</th>\n",
       "      <td>18585</td>\n",
       "      <td>228142036</td>\n",
       "    </tr>\n",
       "    <tr>\n",
       "      <th>SPIRIT AIRLINES</th>\n",
       "      <td>2920</td>\n",
       "      <td>32304571</td>\n",
       "    </tr>\n",
       "    <tr>\n",
       "      <th>UNITED AIRLINES</th>\n",
       "      <td>4941</td>\n",
       "      <td>134468897</td>\n",
       "    </tr>\n",
       "    <tr>\n",
       "      <th>VIRGIN AMERICA</th>\n",
       "      <td>242</td>\n",
       "      <td>12017967</td>\n",
       "    </tr>\n",
       "  </tbody>\n",
       "</table>\n",
       "</div>"
      ],
      "text/plain": [
       "                     nb_bumped  total_passengers\n",
       "airline                                         \n",
       "ALASKA AIRLINES           1392          36543121\n",
       "AMERICAN AIRLINES        11115         197365225\n",
       "DELTA AIR LINES           1591         197033215\n",
       "EXPRESSJET AIRLINES       3326          27858678\n",
       "FRONTIER AIRLINES         1228          22954995\n",
       "HAWAIIAN AIRLINES          122          16577572\n",
       "JETBLUE AIRWAYS           3615          53245866\n",
       "SKYWEST AIRLINES          3094          47091737\n",
       "SOUTHWEST AIRLINES       18585         228142036\n",
       "SPIRIT AIRLINES           2920          32304571\n",
       "UNITED AIRLINES           4941         134468897\n",
       "VIRGIN AMERICA             242          12017967"
      ]
     },
     "execution_count": 49,
     "metadata": {},
     "output_type": "execute_result"
    }
   ],
   "source": [
    "# For each airline, select nb_bumped and total_passengers and sum\n",
    "airline_totals = airline_bumping.groupby('airline')[['nb_bumped', 'total_passengers']].sum()\n",
    "airline_totals"
   ]
  },
  {
   "cell_type": "markdown",
   "metadata": {},
   "source": [
    "> Create a new column of `airline_totals` called `bumps_per_10k`, which is the number of passengers bumped per 10,000 passengers in 2016 and 2017."
   ]
  },
  {
   "cell_type": "code",
   "execution_count": 52,
   "metadata": {
    "ExecuteTime": {
     "end_time": "2021-01-08T12:59:28.323400Z",
     "start_time": "2021-01-08T12:59:28.314034Z"
    }
   },
   "outputs": [
    {
     "data": {
      "text/html": [
       "<div>\n",
       "<style scoped>\n",
       "    .dataframe tbody tr th:only-of-type {\n",
       "        vertical-align: middle;\n",
       "    }\n",
       "\n",
       "    .dataframe tbody tr th {\n",
       "        vertical-align: top;\n",
       "    }\n",
       "\n",
       "    .dataframe thead th {\n",
       "        text-align: right;\n",
       "    }\n",
       "</style>\n",
       "<table border=\"1\" class=\"dataframe\">\n",
       "  <thead>\n",
       "    <tr style=\"text-align: right;\">\n",
       "      <th></th>\n",
       "      <th>nb_bumped</th>\n",
       "      <th>total_passengers</th>\n",
       "      <th>bumps_per_10k</th>\n",
       "    </tr>\n",
       "    <tr>\n",
       "      <th>airline</th>\n",
       "      <th></th>\n",
       "      <th></th>\n",
       "      <th></th>\n",
       "    </tr>\n",
       "  </thead>\n",
       "  <tbody>\n",
       "    <tr>\n",
       "      <th>ALASKA AIRLINES</th>\n",
       "      <td>1392</td>\n",
       "      <td>36543121</td>\n",
       "      <td>0.380920</td>\n",
       "    </tr>\n",
       "    <tr>\n",
       "      <th>AMERICAN AIRLINES</th>\n",
       "      <td>11115</td>\n",
       "      <td>197365225</td>\n",
       "      <td>0.563169</td>\n",
       "    </tr>\n",
       "    <tr>\n",
       "      <th>DELTA AIR LINES</th>\n",
       "      <td>1591</td>\n",
       "      <td>197033215</td>\n",
       "      <td>0.080748</td>\n",
       "    </tr>\n",
       "    <tr>\n",
       "      <th>EXPRESSJET AIRLINES</th>\n",
       "      <td>3326</td>\n",
       "      <td>27858678</td>\n",
       "      <td>1.193883</td>\n",
       "    </tr>\n",
       "    <tr>\n",
       "      <th>FRONTIER AIRLINES</th>\n",
       "      <td>1228</td>\n",
       "      <td>22954995</td>\n",
       "      <td>0.534960</td>\n",
       "    </tr>\n",
       "    <tr>\n",
       "      <th>HAWAIIAN AIRLINES</th>\n",
       "      <td>122</td>\n",
       "      <td>16577572</td>\n",
       "      <td>0.073593</td>\n",
       "    </tr>\n",
       "    <tr>\n",
       "      <th>JETBLUE AIRWAYS</th>\n",
       "      <td>3615</td>\n",
       "      <td>53245866</td>\n",
       "      <td>0.678926</td>\n",
       "    </tr>\n",
       "    <tr>\n",
       "      <th>SKYWEST AIRLINES</th>\n",
       "      <td>3094</td>\n",
       "      <td>47091737</td>\n",
       "      <td>0.657015</td>\n",
       "    </tr>\n",
       "    <tr>\n",
       "      <th>SOUTHWEST AIRLINES</th>\n",
       "      <td>18585</td>\n",
       "      <td>228142036</td>\n",
       "      <td>0.814624</td>\n",
       "    </tr>\n",
       "    <tr>\n",
       "      <th>SPIRIT AIRLINES</th>\n",
       "      <td>2920</td>\n",
       "      <td>32304571</td>\n",
       "      <td>0.903897</td>\n",
       "    </tr>\n",
       "    <tr>\n",
       "      <th>UNITED AIRLINES</th>\n",
       "      <td>4941</td>\n",
       "      <td>134468897</td>\n",
       "      <td>0.367446</td>\n",
       "    </tr>\n",
       "    <tr>\n",
       "      <th>VIRGIN AMERICA</th>\n",
       "      <td>242</td>\n",
       "      <td>12017967</td>\n",
       "      <td>0.201365</td>\n",
       "    </tr>\n",
       "  </tbody>\n",
       "</table>\n",
       "</div>"
      ],
      "text/plain": [
       "                     nb_bumped  total_passengers  bumps_per_10k\n",
       "airline                                                        \n",
       "ALASKA AIRLINES           1392          36543121       0.380920\n",
       "AMERICAN AIRLINES        11115         197365225       0.563169\n",
       "DELTA AIR LINES           1591         197033215       0.080748\n",
       "EXPRESSJET AIRLINES       3326          27858678       1.193883\n",
       "FRONTIER AIRLINES         1228          22954995       0.534960\n",
       "HAWAIIAN AIRLINES          122          16577572       0.073593\n",
       "JETBLUE AIRWAYS           3615          53245866       0.678926\n",
       "SKYWEST AIRLINES          3094          47091737       0.657015\n",
       "SOUTHWEST AIRLINES       18585         228142036       0.814624\n",
       "SPIRIT AIRLINES           2920          32304571       0.903897\n",
       "UNITED AIRLINES           4941         134468897       0.367446\n",
       "VIRGIN AMERICA             242          12017967       0.201365"
      ]
     },
     "execution_count": 52,
     "metadata": {},
     "output_type": "execute_result"
    }
   ],
   "source": [
    "# Create new col, bumps_per_10k: no. of bumps per 10k passengers for each airline\n",
    "airline_totals[\"bumps_per_10k\"] = airline_totals['nb_bumped'] / airline_totals['total_passengers'] * 10000\n",
    "airline_totals"
   ]
  },
  {
   "cell_type": "markdown",
   "metadata": {},
   "source": [
    "> Print `airline_totals` to see the results of your manipulations."
   ]
  },
  {
   "cell_type": "code",
   "execution_count": 53,
   "metadata": {
    "ExecuteTime": {
     "end_time": "2021-01-08T12:59:59.493692Z",
     "start_time": "2021-01-08T12:59:59.489906Z"
    }
   },
   "outputs": [
    {
     "name": "stdout",
     "output_type": "stream",
     "text": [
      "                     nb_bumped  total_passengers  bumps_per_10k\n",
      "airline                                                        \n",
      "ALASKA AIRLINES           1392          36543121       0.380920\n",
      "AMERICAN AIRLINES        11115         197365225       0.563169\n",
      "DELTA AIR LINES           1591         197033215       0.080748\n",
      "EXPRESSJET AIRLINES       3326          27858678       1.193883\n",
      "FRONTIER AIRLINES         1228          22954995       0.534960\n",
      "HAWAIIAN AIRLINES          122          16577572       0.073593\n",
      "JETBLUE AIRWAYS           3615          53245866       0.678926\n",
      "SKYWEST AIRLINES          3094          47091737       0.657015\n",
      "SOUTHWEST AIRLINES       18585         228142036       0.814624\n",
      "SPIRIT AIRLINES           2920          32304571       0.903897\n",
      "UNITED AIRLINES           4941         134468897       0.367446\n",
      "VIRGIN AMERICA             242          12017967       0.201365\n"
     ]
    }
   ],
   "source": [
    "# Print airline_totals\n",
    "print(airline_totals)"
   ]
  },
  {
   "cell_type": "markdown",
   "metadata": {},
   "source": [
    "[DataFrame to CSV | Python](https://campus.datacamp.com/courses/data-manipulation-with-pandas/creating-and-visualizing-dataframes?ex=15)\n",
    "\n",
    "> ## DataFrame to CSV\n",
    "> \n",
    "> You're almost there! To make things easier to read, you'll need to sort the data and export it to CSV so that your colleagues can read it.\n",
    "> \n",
    "> `pandas` as `pd` has been imported for you."
   ]
  },
  {
   "cell_type": "markdown",
   "metadata": {},
   "source": [
    "> -   Sort `airline_totals` by the values of `bumps_per_10k` from highest to lowest, storing as `airline_totals_sorted`.\n",
    "> -   Print your sorted DataFrame.\n",
    "> -   Save the sorted DataFrame as a CSV called `\"airline_totals_sorted.csv\"`."
   ]
  },
  {
   "cell_type": "code",
   "execution_count": 54,
   "metadata": {
    "ExecuteTime": {
     "end_time": "2021-01-08T13:01:47.940236Z",
     "start_time": "2021-01-08T13:01:47.923632Z"
    }
   },
   "outputs": [
    {
     "name": "stdout",
     "output_type": "stream",
     "text": [
      "                     nb_bumped  total_passengers  bumps_per_10k\n",
      "airline                                                        \n",
      "EXPRESSJET AIRLINES       3326          27858678       1.193883\n",
      "SPIRIT AIRLINES           2920          32304571       0.903897\n",
      "SOUTHWEST AIRLINES       18585         228142036       0.814624\n",
      "JETBLUE AIRWAYS           3615          53245866       0.678926\n",
      "SKYWEST AIRLINES          3094          47091737       0.657015\n",
      "AMERICAN AIRLINES        11115         197365225       0.563169\n",
      "FRONTIER AIRLINES         1228          22954995       0.534960\n",
      "ALASKA AIRLINES           1392          36543121       0.380920\n",
      "UNITED AIRLINES           4941         134468897       0.367446\n",
      "VIRGIN AMERICA             242          12017967       0.201365\n",
      "DELTA AIR LINES           1591         197033215       0.080748\n",
      "HAWAIIAN AIRLINES          122          16577572       0.073593\n"
     ]
    }
   ],
   "source": [
    "# Create airline_totals_sorted\n",
    "airline_totals_sorted = airline_totals.sort_values('bumps_per_10k', ascending=False)\n",
    "\n",
    "# Print airline_totals_sorted\n",
    "print(airline_totals_sorted)\n",
    "\n",
    "# Save as airline_totals_sorted.csv\n",
    "airline_totals_sorted.to_csv('airline_totals_sorted.csv')"
   ]
  },
  {
   "cell_type": "code",
   "execution_count": null,
   "metadata": {},
   "outputs": [],
   "source": []
  }
 ],
 "metadata": {
  "kernelspec": {
   "display_name": "Python [conda env:datacamp] *",
   "language": "python",
   "name": "conda-env-datacamp-py"
  },
  "language_info": {
   "codemirror_mode": {
    "name": "ipython",
    "version": 3
   },
   "file_extension": ".py",
   "mimetype": "text/x-python",
   "name": "python",
   "nbconvert_exporter": "python",
   "pygments_lexer": "ipython3",
   "version": "3.7.9"
  },
  "toc": {
   "base_numbering": 1,
   "nav_menu": {},
   "number_sections": true,
   "sideBar": true,
   "skip_h1_title": false,
   "title_cell": "Table of Contents",
   "title_sidebar": "Contents",
   "toc_cell": false,
   "toc_position": {},
   "toc_section_display": true,
   "toc_window_display": true
  }
 },
 "nbformat": 4,
 "nbformat_minor": 4
}
