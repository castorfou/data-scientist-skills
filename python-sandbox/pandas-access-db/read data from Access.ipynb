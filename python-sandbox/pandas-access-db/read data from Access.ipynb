{
 "cells": [
  {
   "cell_type": "code",
   "execution_count": 5,
   "metadata": {},
   "outputs": [
    {
     "ename": "Error",
     "evalue": "('HY000', \"[HY000] [Microsoft][Pilote ODBC Microsoft Access] Cannot open database '(Inconnu)'.  It may not be a database that your application recognizes, or the file may be corrupt. (-1028) (SQLDriverConnect); [HY000] [Microsoft][Pilote ODBC Microsoft Access]Avertissement général Impossible d'ouvrir la clé de registre 'Temporary (volatile) Jet DSN for process 0xe24 Thread 0x3aa0 DBC 0xb310064 Jet'. (1); [HY000] [Microsoft][Pilote ODBC Microsoft Access]Avertissement général Impossible d'ouvrir la clé de registre 'Temporary (volatile) Jet DSN for process 0xe24 Thread 0x3aa0 DBC 0xb310064 Jet'. (1); [HY000] [Microsoft][Pilote ODBC Microsoft Access]Avertissement général Impossible d'ouvrir la clé de registre 'Temporary (volatile) Jet DSN for process 0xe24 Thread 0x3aa0 DBC 0xb310064 Jet'. (1); [HY000] [Microsoft][Pilote ODBC Microsoft Access]Avertissement général Impossible d'ouvrir la clé de registre 'Temporary (volatile) Jet DSN for process 0xe24 Thread 0x3aa0 DBC 0xb310064 Jet'. (1); [HY000] [Microsoft][Pilote ODBC Microsoft Access] Cannot open database '(Inconnu)'.  It may not be a database that your application recognizes, or the file may be corrupt. (-1028)\")",
     "output_type": "error",
     "traceback": [
      "\u001b[1;31m---------------------------------------------------------------------------\u001b[0m",
      "\u001b[1;31mError\u001b[0m                                     Traceback (most recent call last)",
      "\u001b[1;32m<ipython-input-5-3afba843a5e0>\u001b[0m in \u001b[0;36m<module>\u001b[1;34m\u001b[0m\n\u001b[0;32m      1\u001b[0m \u001b[1;32mimport\u001b[0m \u001b[0mpyodbc\u001b[0m\u001b[1;33m\u001b[0m\u001b[1;33m\u001b[0m\u001b[0m\n\u001b[0;32m      2\u001b[0m \u001b[1;32mimport\u001b[0m \u001b[0mpandas\u001b[0m \u001b[1;32mas\u001b[0m \u001b[0mpd\u001b[0m \u001b[1;31m# data processing, CSV file I/O (e.g. pd.read_csv)\u001b[0m\u001b[1;33m\u001b[0m\u001b[1;33m\u001b[0m\u001b[0m\n\u001b[1;32m----> 3\u001b[1;33m \u001b[0mcnxn\u001b[0m \u001b[1;33m=\u001b[0m \u001b[0mpyodbc\u001b[0m\u001b[1;33m.\u001b[0m\u001b[0mconnect\u001b[0m\u001b[1;33m(\u001b[0m\u001b[1;34mr'Driver={Microsoft Access Driver (*.mdb)};DBQ=D:\\git\\datacamp-itp\\data-scientist-skills\\python-sandbox\\pandas-access-db\\data\\AccessDB.accdb;'\u001b[0m\u001b[1;33m)\u001b[0m\u001b[1;33m\u001b[0m\u001b[1;33m\u001b[0m\u001b[0m\n\u001b[0m\u001b[0;32m      4\u001b[0m \u001b[1;33m\u001b[0m\u001b[0m\n\u001b[0;32m      5\u001b[0m \u001b[0mquery\u001b[0m \u001b[1;33m=\u001b[0m \u001b[1;34m\"SELECT * FROM Zoe\"\u001b[0m\u001b[1;33m\u001b[0m\u001b[1;33m\u001b[0m\u001b[0m\n",
      "\u001b[1;31mError\u001b[0m: ('HY000', \"[HY000] [Microsoft][Pilote ODBC Microsoft Access] Cannot open database '(Inconnu)'.  It may not be a database that your application recognizes, or the file may be corrupt. (-1028) (SQLDriverConnect); [HY000] [Microsoft][Pilote ODBC Microsoft Access]Avertissement général Impossible d'ouvrir la clé de registre 'Temporary (volatile) Jet DSN for process 0xe24 Thread 0x3aa0 DBC 0xb310064 Jet'. (1); [HY000] [Microsoft][Pilote ODBC Microsoft Access]Avertissement général Impossible d'ouvrir la clé de registre 'Temporary (volatile) Jet DSN for process 0xe24 Thread 0x3aa0 DBC 0xb310064 Jet'. (1); [HY000] [Microsoft][Pilote ODBC Microsoft Access]Avertissement général Impossible d'ouvrir la clé de registre 'Temporary (volatile) Jet DSN for process 0xe24 Thread 0x3aa0 DBC 0xb310064 Jet'. (1); [HY000] [Microsoft][Pilote ODBC Microsoft Access]Avertissement général Impossible d'ouvrir la clé de registre 'Temporary (volatile) Jet DSN for process 0xe24 Thread 0x3aa0 DBC 0xb310064 Jet'. (1); [HY000] [Microsoft][Pilote ODBC Microsoft Access] Cannot open database '(Inconnu)'.  It may not be a database that your application recognizes, or the file may be corrupt. (-1028)\")"
     ]
    }
   ],
   "source": [
    "import pyodbc\n",
    "import pandas as pd # data processing, CSV file I/O (e.g. pd.read_csv)\n",
    "cnxn = pyodbc.connect(r'Driver={Microsoft Access Driver (*.mdb)};DBQ=D:\\git\\datacamp-itp\\data-scientist-skills\\python-sandbox\\pandas-access-db\\data\\AccessDB.accdb;')\n",
    "\n",
    "query = \"SELECT * FROM Zoe\"\n",
    "dataf = pd.read_sql(query, cnxn)\n",
    "cnxn.close()\n",
    "dataf.info()"
   ]
  },
  {
   "cell_type": "code",
   "execution_count": 2,
   "metadata": {},
   "outputs": [
    {
     "data": {
      "text/plain": [
       "['Driver da Microsoft para arquivos texto (*.txt; *.csv)',\n",
       " 'Driver do Microsoft Access (*.mdb)',\n",
       " 'Driver do Microsoft dBase (*.dbf)',\n",
       " 'Driver do Microsoft Excel(*.xls)',\n",
       " 'Driver do Microsoft Paradox (*.db )',\n",
       " 'Microsoft Access Driver (*.mdb)',\n",
       " 'Microsoft Access-Treiber (*.mdb)',\n",
       " 'Microsoft dBase Driver (*.dbf)',\n",
       " 'Microsoft dBase-Treiber (*.dbf)',\n",
       " 'Microsoft Excel Driver (*.xls)',\n",
       " 'Microsoft Excel-Treiber (*.xls)',\n",
       " 'Microsoft ODBC for Oracle',\n",
       " 'Microsoft Paradox Driver (*.db )',\n",
       " 'Microsoft Paradox-Treiber (*.db )',\n",
       " 'Microsoft Text Driver (*.txt; *.csv)',\n",
       " 'Microsoft Text-Treiber (*.txt; *.csv)',\n",
       " 'SQL Server',\n",
       " 'Microsoft Visual FoxPro Driver',\n",
       " 'Microsoft FoxPro VFP Driver (*.dbf)',\n",
       " 'Microsoft dBase VFP Driver (*.dbf)',\n",
       " 'Microsoft Visual FoxPro-Treiber',\n",
       " 'Driver para o Microsoft Visual FoxPro']"
      ]
     },
     "execution_count": 2,
     "metadata": {},
     "output_type": "execute_result"
    }
   ],
   "source": [
    "import pyodbc\n",
    "pyodbc.drivers()"
   ]
  },
  {
   "cell_type": "code",
   "execution_count": null,
   "metadata": {},
   "outputs": [],
   "source": []
  }
 ],
 "metadata": {
  "kernelspec": {
   "display_name": "Python 3",
   "language": "python",
   "name": "python3"
  },
  "language_info": {
   "codemirror_mode": {
    "name": "ipython",
    "version": 3
   },
   "file_extension": ".py",
   "mimetype": "text/x-python",
   "name": "python",
   "nbconvert_exporter": "python",
   "pygments_lexer": "ipython3",
   "version": "3.7.4"
  }
 },
 "nbformat": 4,
 "nbformat_minor": 2
}
