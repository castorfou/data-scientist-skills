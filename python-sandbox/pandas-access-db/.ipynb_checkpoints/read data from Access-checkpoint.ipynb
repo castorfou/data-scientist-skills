{
 "cells": [
  {
   "cell_type": "code",
   "execution_count": 9,
   "metadata": {},
   "outputs": [
    {
     "data": {
      "text/plain": [
       "['Driver da Microsoft para arquivos texto (*.txt; *.csv)',\n",
       " 'Driver do Microsoft Access (*.mdb)',\n",
       " 'Driver do Microsoft dBase (*.dbf)',\n",
       " 'Driver do Microsoft Excel(*.xls)',\n",
       " 'Driver do Microsoft Paradox (*.db )',\n",
       " 'Microsoft Access Driver (*.mdb)',\n",
       " 'Microsoft Access-Treiber (*.mdb)',\n",
       " 'Microsoft dBase Driver (*.dbf)',\n",
       " 'Microsoft dBase-Treiber (*.dbf)',\n",
       " 'Microsoft Excel Driver (*.xls)',\n",
       " 'Microsoft Excel-Treiber (*.xls)',\n",
       " 'Microsoft ODBC for Oracle',\n",
       " 'Microsoft Paradox Driver (*.db )',\n",
       " 'Microsoft Paradox-Treiber (*.db )',\n",
       " 'Microsoft Text Driver (*.txt; *.csv)',\n",
       " 'Microsoft Text-Treiber (*.txt; *.csv)',\n",
       " 'SQL Server',\n",
       " 'Microsoft Visual FoxPro Driver',\n",
       " 'Microsoft FoxPro VFP Driver (*.dbf)',\n",
       " 'Microsoft dBase VFP Driver (*.dbf)',\n",
       " 'Microsoft Visual FoxPro-Treiber',\n",
       " 'Driver para o Microsoft Visual FoxPro',\n",
       " 'Microsoft Access Driver (*.mdb, *.accdb)',\n",
       " 'Microsoft Excel Driver (*.xls, *.xlsx, *.xlsm, *.xlsb)',\n",
       " 'Microsoft Access dBASE Driver (*.dbf, *.ndx, *.mdx)',\n",
       " 'Microsoft Access Text Driver (*.txt, *.csv)']"
      ]
     },
     "execution_count": 9,
     "metadata": {},
     "output_type": "execute_result"
    }
   ],
   "source": [
    "import pyodbc\n",
    "pyodbc.drivers()"
   ]
  },
  {
   "cell_type": "code",
   "execution_count": 8,
   "metadata": {},
   "outputs": [
    {
     "name": "stdout",
     "output_type": "stream",
     "text": [
      "running as 32-bit\n"
     ]
    }
   ],
   "source": [
    "import struct\n",
    "print(\"running as {0}-bit\".format(struct.calcsize(\"P\") * 8))"
   ]
  },
  {
   "cell_type": "code",
   "execution_count": 21,
   "metadata": {},
   "outputs": [
    {
     "name": "stdout",
     "output_type": "stream",
     "text": [
      "3 (1, datetime.datetime(2019, 10, 18, 0, 0), 1250)\n"
     ]
    }
   ],
   "source": [
    "import pyodbc\n",
    "pyodbc.lowercase = False\n",
    "conn = pyodbc.connect(\n",
    "    r\"Driver={Microsoft Access Driver (*.mdb, *.accdb)};\" +\n",
    "    r\"Dbq=D:\\git\\datacamp-itp\\data-scientist-skills\\python-sandbox\\pandas-access-db\\data\\AccessDB.accdb;\")\n",
    "cur = conn.cursor()\n",
    "query=\"SELECT * FROM Zoe\"\n",
    "cur.execute(query);\n",
    "while True:\n",
    "    row = cur.fetchone()\n",
    "    if row is None:\n",
    "        break\n",
    "    print(len(row), row)\n",
    "    #print(u\"Date {1}, kms ({2})\".format(\n",
    "     #   row.get(\"Date roulement\"), row.get(\"Kilomètres\")))\n",
    "        \n",
    "cur.close()\n",
    "conn.close()"
   ]
  },
  {
   "cell_type": "code",
   "execution_count": 22,
   "metadata": {},
   "outputs": [
    {
     "data": {
      "text/html": [
       "<div>\n",
       "<style scoped>\n",
       "    .dataframe tbody tr th:only-of-type {\n",
       "        vertical-align: middle;\n",
       "    }\n",
       "\n",
       "    .dataframe tbody tr th {\n",
       "        vertical-align: top;\n",
       "    }\n",
       "\n",
       "    .dataframe thead th {\n",
       "        text-align: right;\n",
       "    }\n",
       "</style>\n",
       "<table border=\"1\" class=\"dataframe\">\n",
       "  <thead>\n",
       "    <tr style=\"text-align: right;\">\n",
       "      <th></th>\n",
       "      <th>N°</th>\n",
       "      <th>Date roulement</th>\n",
       "      <th>Kilomètres</th>\n",
       "    </tr>\n",
       "  </thead>\n",
       "  <tbody>\n",
       "    <tr>\n",
       "      <td>0</td>\n",
       "      <td>1</td>\n",
       "      <td>2019-10-18</td>\n",
       "      <td>1250</td>\n",
       "    </tr>\n",
       "  </tbody>\n",
       "</table>\n",
       "</div>"
      ],
      "text/plain": [
       "   N° Date roulement  Kilomètres\n",
       "0   1     2019-10-18        1250"
      ]
     },
     "execution_count": 22,
     "metadata": {},
     "output_type": "execute_result"
    }
   ],
   "source": [
    "import pyodbc\n",
    "import pandas as pd\n",
    "pyodbc.lowercase = False\n",
    "conn = pyodbc.connect(\n",
    "    r\"Driver={Microsoft Access Driver (*.mdb, *.accdb)};\" +\n",
    "    r\"Dbq=D:\\git\\datacamp-itp\\data-scientist-skills\\python-sandbox\\pandas-access-db\\data\\AccessDB.accdb;\")\n",
    "query=\"SELECT * FROM Zoe\"\n",
    "dataf = pd.read_sql(query, conn)\n",
    "conn.close()\n",
    "dataf"
   ]
  },
  {
   "cell_type": "code",
   "execution_count": null,
   "metadata": {},
   "outputs": [],
   "source": []
  }
 ],
 "metadata": {
  "kernelspec": {
   "display_name": "Python 3",
   "language": "python",
   "name": "python3"
  },
  "language_info": {
   "codemirror_mode": {
    "name": "ipython",
    "version": 3
   },
   "file_extension": ".py",
   "mimetype": "text/x-python",
   "name": "python",
   "nbconvert_exporter": "python",
   "pygments_lexer": "ipython3",
   "version": "3.7.4"
  }
 },
 "nbformat": 4,
 "nbformat_minor": 2
}
