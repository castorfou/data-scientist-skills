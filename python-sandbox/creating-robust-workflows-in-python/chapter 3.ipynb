{
 "cells": [
  {
   "cell_type": "markdown",
   "metadata": {},
   "source": [
    "# Command-line interfaces\n"
   ]
  },
  {
   "cell_type": "markdown",
   "metadata": {},
   "source": [
    "## Argparse nbuild()\n",
    "We will use the standard library argparse module to make a general command-line interface (CLI) function called argparse_cli() and apply this function to the nbuild() function from the previous chapter.\n",
    "\n",
    "If you do not remember how nbuild() works, call help(nbuild).\n",
    "\n",
    "In short, nbuild() returns a notebook object that contains one cell for each input file it receives.\n",
    "\n",
    "We want argparse_cli() to be able to handle an indeterminate number of shell arguments.\n",
    "\n",
    "To do this with argparse, we need to pass nargs='*' to the add_argument() method of an instance of the ArgumentParser class.\n",
    "\n",
    "We will use our CLI to pass shell arguments to nbuild(), so that we can focus on CLI design and not on how the shell arguments are used."
   ]
  },
  {
   "cell_type": "markdown",
   "metadata": {},
   "source": [
    "### code"
   ]
  },
  {
   "cell_type": "code",
   "execution_count": 5,
   "metadata": {
    "ExecuteTime": {
     "end_time": "2020-04-27T09:39:23.844932Z",
     "start_time": "2020-04-27T09:39:23.764593Z"
    }
   },
   "outputs": [],
   "source": [
    "import argparse \n",
    "from typing import Callable\n",
    "\n",
    "from typing import List\n",
    "from pathlib import Path\n",
    "import nbformat\n",
    "from nbformat.v4 import new_code_cell, new_markdown_cell, new_notebook\n",
    "\n",
    "def nbuild(filenames: List[str]) -> nbformat.notebooknode.NotebookNode:\n",
    "    '''Create a Jupyter notebook from text files and Python scripts'''\n",
    "    # Create a new notebook object\n",
    "    nb = new_notebook()\n",
    "    nb.cells.extend(\n",
    "        # Create new code cells from files that end in .py\n",
    "        new_code_cell(Path(name).read_text())\n",
    "        if name.endswith('.py')\n",
    "        # Create new markdown cells from all other files\n",
    "        else new_markdown_cell(Path(name).read_text()) \n",
    "        for name in filenames\n",
    "    )\n",
    "    return nb"
   ]
  },
  {
   "cell_type": "code",
   "execution_count": 6,
   "metadata": {
    "ExecuteTime": {
     "end_time": "2020-04-27T09:39:23.965092Z",
     "start_time": "2020-04-27T09:39:23.959078Z"
    }
   },
   "outputs": [
    {
     "name": "stderr",
     "output_type": "stream",
     "text": [
      "usage: ipykernel_launcher.py [-h] [in_files [in_files ...]]\n",
      "ipykernel_launcher.py: error: unrecognized arguments: -f\n"
     ]
    },
    {
     "ename": "SystemExit",
     "evalue": "2",
     "output_type": "error",
     "traceback": [
      "An exception has occurred, use %tb to see the full traceback.\n",
      "\u001b[1;31mSystemExit\u001b[0m\u001b[1;31m:\u001b[0m 2\n"
     ]
    },
    {
     "name": "stderr",
     "output_type": "stream",
     "text": [
      "C:\\Users\\F279814\\AppData\\Local\\Continuum\\anaconda3\\envs\\datacamp\\lib\\site-packages\\IPython\\core\\interactiveshell.py:3339: UserWarning: To exit: use 'exit', 'quit', or Ctrl-D.\n",
      "  warn(\"To exit: use 'exit', 'quit', or Ctrl-D.\", stacklevel=1)\n"
     ]
    }
   ],
   "source": [
    "def argparse_cli(func: Callable) -> None:\n",
    "    # Instantiate the parser object\n",
    "    parser = argparse.ArgumentParser()\n",
    "    # Add an argument called in_files to the parser object\n",
    "    parser.add_argument(\"in_files\", nargs=\"*\")\n",
    "    args = parser.parse_args()\n",
    "    print(func(args.in_files))\n",
    "\n",
    "if __name__ == \"__main__\":\n",
    "    argparse_cli(nbuild)"
   ]
  },
  {
   "cell_type": "markdown",
   "metadata": {},
   "source": [
    "## Docopt nbuild()\n",
    "If you love docstrings, you are likely to be a fan of docopt CLIs.\n",
    "\n",
    "The docstring in our docopt_cli.py file is only one line, but it includes all the details we need to pass a list of shell arguments to any function.\n",
    "\n",
    "More specifically, the docstring determines that our IN_FILES variable is\n",
    "\n",
    "optional and\n",
    "represents a list of arguments\n",
    "In docopt docstrings, optional arguments are wrapped in square brackets ([]), while lists of arguments are followed by ellipses (...).\n",
    "\n",
    "We have already imported the docopt() function from the docopt module for use in our docopt_cli() function."
   ]
  },
  {
   "cell_type": "markdown",
   "metadata": {},
   "source": [
    "### code"
   ]
  },
  {
   "cell_type": "code",
   "execution_count": 10,
   "metadata": {
    "ExecuteTime": {
     "end_time": "2020-04-27T09:42:28.532535Z",
     "start_time": "2020-04-27T09:42:28.528501Z"
    }
   },
   "outputs": [],
   "source": [
    "from docopt import docopt"
   ]
  },
  {
   "cell_type": "code",
   "execution_count": 11,
   "metadata": {
    "ExecuteTime": {
     "end_time": "2020-04-27T09:42:28.718493Z",
     "start_time": "2020-04-27T09:42:28.713481Z"
    }
   },
   "outputs": [
    {
     "ename": "DocoptExit",
     "evalue": "Usage: docopt_cli.py [IN_FILES...]",
     "output_type": "error",
     "traceback": [
      "An exception has occurred, use %tb to see the full traceback.\n",
      "\u001b[1;31mDocoptExit\u001b[0m\u001b[1;31m:\u001b[0m Usage: docopt_cli.py [IN_FILES...]\n"
     ]
    }
   ],
   "source": [
    "# Add the section title in the docstring below\n",
    "\"\"\"Usage: docopt_cli.py [IN_FILES...]\"\"\"\n",
    "\n",
    "def docopt_cli(func: Callable) -> None:\n",
    "    # Assign the shell arguments to \"args\"\n",
    "    args = docopt(__doc__)\n",
    "    print(func(args[\"IN_FILES\"]))\n",
    "\n",
    "if __name__ == \"__main__\":\n",
    "    docopt_cli(nbuild)"
   ]
  },
  {
   "cell_type": "markdown",
   "metadata": {},
   "source": [
    "# Git version control\n"
   ]
  },
  {
   "cell_type": "markdown",
   "metadata": {},
   "source": [
    "## Commit added files\n",
    "GitPython gives us building blocks that we can use to build Python scripts that make our use of version control faster, easier, and more efficient.\n",
    "\n",
    "Version controlled projects usually start with initializing or cloning repositories.\n",
    "\n",
    "After a repository is set up, the standard cycle of commands is add and commit changes.\n",
    "\n",
    "In this exercise, we will focus on the first two steps: adding changes to the index and committing them to version control history.\n",
    "\n",
    "The commit message is created by an f-string, which evaluates the code inside curly braces ({}).\n",
    "\n",
    "With GitPython, we can initialize a new repository and instantiate the Repo class in one line of code.\n",
    "\n",
    "We can then check for untracked files, add files to the index, commit changes, and list all of the newly tracked files."
   ]
  },
  {
   "cell_type": "markdown",
   "metadata": {},
   "source": [
    "### code"
   ]
  },
  {
   "cell_type": "code",
   "execution_count": 12,
   "metadata": {
    "ExecuteTime": {
     "end_time": "2020-04-27T09:57:55.938131Z",
     "start_time": "2020-04-27T09:57:55.928073Z"
    }
   },
   "outputs": [
    {
     "ename": "ModuleNotFoundError",
     "evalue": "No module named 'git'",
     "output_type": "error",
     "traceback": [
      "\u001b[1;31m---------------------------------------------------------------------------\u001b[0m",
      "\u001b[1;31mModuleNotFoundError\u001b[0m                       Traceback (most recent call last)",
      "\u001b[1;32m<ipython-input-12-99021728f681>\u001b[0m in \u001b[0;36m<module>\u001b[1;34m\u001b[0m\n\u001b[1;32m----> 1\u001b[1;33m \u001b[1;32mimport\u001b[0m \u001b[0mgit\u001b[0m\u001b[1;33m\u001b[0m\u001b[1;33m\u001b[0m\u001b[0m\n\u001b[0m",
      "\u001b[1;31mModuleNotFoundError\u001b[0m: No module named 'git'"
     ]
    }
   ],
   "source": [
    "import git"
   ]
  },
  {
   "cell_type": "code",
   "execution_count": null,
   "metadata": {},
   "outputs": [],
   "source": [
    "# Initialize a new repo in the current folder\n",
    "repo = git.Repo.init()\n",
    "\n",
    "# Obtain a list of untracked files\n",
    "untracked = repo.untracked_files\n",
    "\n",
    "# Add all untracked files to the index\n",
    "repo.index.add(untracked)\n",
    "\n",
    "# Commit newly added files to version control history\n",
    "repo.index.commit(f\"Added {', '.join(untracked)}\")\n",
    "print(repo.head.commit.message)"
   ]
  },
  {
   "cell_type": "markdown",
   "metadata": {},
   "source": [
    "## Commit modified files\n",
    "Since the previous exercise, we have made some changes and now we want to get a list of the files that have changed.\n",
    "\n",
    "We will include the list of changed files in our next commit message.\n",
    "\n",
    "A major advantage of GitPython is that it allows us to programmatically access information on the status of our repositories.\n",
    "\n",
    "Here, we will use the diff() method to obtain a list of files with changes since the latest commit.\n",
    "\n",
    "Our code should work regardless of how many or which files have been modified.\n",
    "\n",
    "For an example of how GitPython can be applied in the real world, take a look at the Gitone Python package.\n",
    "\n"
   ]
  },
  {
   "cell_type": "markdown",
   "metadata": {},
   "source": [
    "### code"
   ]
  },
  {
   "cell_type": "code",
   "execution_count": null,
   "metadata": {},
   "outputs": [],
   "source": [
    "changed_files = [file.b_path\n",
    "                 # Iterate over items in the diff object\n",
    "                 for file in repo.index.diff(None)\n",
    "                 # Include only modified files\n",
    "                 .iter_change_type(\"M\")]\n",
    "\n",
    "repo.index.add(changed_files)\n",
    "repo.index.commit(f\"Modified {', '.join(changed_files)}\")\n",
    "for number, commit in enumerate(repo.iter_commits()):\n",
    "    print(number, commit.message)"
   ]
  },
  {
   "cell_type": "markdown",
   "metadata": {},
   "source": [
    "# Virtual environments\n"
   ]
  },
  {
   "cell_type": "markdown",
   "metadata": {},
   "source": [
    "## List installed packages\n",
    "In this exercise, we will create a venv virtual environment and then make sure we are using a relatively recent of version pandas.\n",
    "\n",
    "We will use the pip list command to pick out pandas from a list of all the packages available in our virtual environment."
   ]
  },
  {
   "cell_type": "markdown",
   "metadata": {},
   "source": [
    "### code"
   ]
  },
  {
   "cell_type": "code",
   "execution_count": null,
   "metadata": {},
   "outputs": [],
   "source": [
    "# Create an virtual environment\n",
    "venv.create(\".venv\")\n",
    "\n",
    "# Run pip list and obtain a CompletedProcess instance\n",
    "cp = subprocess.run([\".venv/bin/python\", \"-m\", \"pip\", \"list\"], stdout=-1)\n",
    "\n",
    "for line in cp.stdout.decode().split(\"\\n\"):\n",
    "    if \"pandas\" in line:\n",
    "        print(line)"
   ]
  },
  {
   "cell_type": "markdown",
   "metadata": {},
   "source": [
    "## Show package information\n",
    "In this exercise, we will use the pip install command to install a local package called aadvark.\n",
    "\n",
    "The requirements.txt file in the current working directory is already set up to install any local packages that can be found.\n",
    "\n",
    "To confirm that the installation worked, and the pip show command to access information on the aadvark package.\n",
    "\n",
    "The code in this exercise can be used as part of a script to set up a virtual environment and install local packages in any directory."
   ]
  },
  {
   "cell_type": "markdown",
   "metadata": {},
   "source": [
    "###  code"
   ]
  },
  {
   "cell_type": "code",
   "execution_count": null,
   "metadata": {},
   "outputs": [],
   "source": [
    "print(run(\n",
    "    # Install project dependencies\n",
    "    [\".venv/bin/python\", \"-m\", \"pip\", \"install\", \"-r\", \"requirements.txt\"],\n",
    "    stdout=-1\n",
    ").stdout.decode())\n",
    "\n",
    "print(run(\n",
    "    # Show information on the aardvark package\n",
    "    [\".venv/bin/python\", \"-m\", \"pip\", \"show\", \"aardvark\"], stdout=-1\n",
    ").stdout.decode())"
   ]
  },
  {
   "cell_type": "markdown",
   "metadata": {},
   "source": [
    "# Persistence and packaging\n"
   ]
  },
  {
   "cell_type": "markdown",
   "metadata": {},
   "source": [
    "## Pickle dataframes\n",
    "In this exercise, we will\n",
    "\n",
    "- create a Pandas dataframe from the diabetes dataset,\n",
    "- add column names based on the dataset documentation, and then\n",
    "- pickle and unpickle the dataframe using Pandas methods.\n",
    "\n",
    "Finally, we will create a Pandas scatterplot to look at the relationship between a diabetes dataset predictor and the target variable."
   ]
  },
  {
   "cell_type": "markdown",
   "metadata": {},
   "source": [
    "### code"
   ]
  },
  {
   "cell_type": "code",
   "execution_count": 19,
   "metadata": {
    "ExecuteTime": {
     "end_time": "2020-04-27T10:46:33.447313Z",
     "start_time": "2020-04-27T10:46:33.431270Z"
    }
   },
   "outputs": [],
   "source": [
    "import pandas as pd\n",
    "import numpy as np\n",
    "import matplotlib.pyplot as plt\n",
    "from sklearn.datasets import load_diabetes\n",
    "diabetes = load_diabetes()"
   ]
  },
  {
   "cell_type": "code",
   "execution_count": 20,
   "metadata": {
    "ExecuteTime": {
     "end_time": "2020-04-27T10:46:34.127966Z",
     "start_time": "2020-04-27T10:46:33.804871Z"
    }
   },
   "outputs": [
    {
     "data": {
      "image/png": "[encoded data removed]",
      "text/plain": [
       "<Figure size 432x288 with 2 Axes>"
      ]
     },
     "metadata": {
      "needs_background": "light"
     },
     "output_type": "display_data"
    }
   ],
   "source": [
    "pd.DataFrame(\n",
    "    np.c_[(diabetes.data, diabetes.target)],\n",
    "    columns=\"age sex bmi map tc ldl hdl tch ltg glu target\".split()\n",
    "    # Pickle the diabetes dataframe with zip compression\n",
    "    ).to_pickle(\"diabetes.pkl.zip\")\n",
    "                  \n",
    "# Unpickle the diabetes dataframe\n",
    "df = pd.read_pickle(\"diabetes.pkl.zip\")\n",
    "df.plot.scatter(x=\"ltg\", y=\"target\", c=\"age\", colormap=\"viridis\")\n",
    "plt.show()"
   ]
  },
  {
   "cell_type": "markdown",
   "metadata": {},
   "source": [
    "## Pickle models\n",
    "In our final persistence exercise, we will pickle and unpickle a scikit-learn model with joblib.\n",
    "\n",
    "The training and test sets we will need to train the model and make predictions are already loaded.\n",
    "\n",
    "Once we have the predictions, we will plot them against the measured values to assess model fit."
   ]
  },
  {
   "cell_type": "markdown",
   "metadata": {},
   "source": [
    "### init"
   ]
  },
  {
   "cell_type": "code",
   "execution_count": 27,
   "metadata": {
    "ExecuteTime": {
     "end_time": "2020-04-27T10:51:50.826562Z",
     "start_time": "2020-04-27T10:51:45.495561Z"
    }
   },
   "outputs": [
    {
     "name": "stdout",
     "output_type": "stream",
     "text": [
      "Téléchargements à lancer\n",
      "{'numpy.ndarray': {'x_train.csv': 'https://file.io/gFit48qz', 'y_train.csv': 'https://file.io/OYu4Rkm8', 'x_test.csv': 'https://file.io/kliLVJ7u', 'y_test.csv': 'https://file.io/tgWnV75i'}}\n",
      "  % Total    % Received % Xferd  Average Speed   Time    Time     Time  Current\n",
      "                                 Dload  Upload   Total   Spent    Left  Speed\n",
      "100 51695    0 51695    0     0  64699      0 --:--:-- --:--:-- --:--:-- 64618\n",
      "\n",
      "  % Total    % Received % Xferd  Average Speed   Time    Time     Time  Current\n",
      "                                 Dload  Upload   Total   Spent    Left  Speed\n",
      "100  1590    0  1590    0     0   2560      0 --:--:-- --:--:-- --:--:--  2556\n",
      "\n",
      "  % Total    % Received % Xferd  Average Speed   Time    Time     Time  Current\n",
      "                                 Dload  Upload   Total   Spent    Left  Speed\n",
      "100 34556    0 34556    0     0  48061      0 --:--:-- --:--:-- --:--:-- 48061\n",
      "\n",
      "  % Total    % Received % Xferd  Average Speed   Time    Time     Time  Current\n",
      "                                 Dload  Upload   Total   Spent    Left  Speed\n",
      "100  1062    0  1062    0     0   1740      0 --:--:-- --:--:-- --:--:--  1740\n",
      "\n"
     ]
    }
   ],
   "source": [
    "###################\n",
    "##### numpy ndarray float\n",
    "###################\n",
    "\n",
    "#upload and download\n",
    "\n",
    "from downloadfromFileIO import saveFromFileIO\n",
    "\"\"\" à executer sur datacamp: (apres copie du code uploadfromdatacamp.py)\n",
    "uploadToFileIO(x_train, y_train, x_test, y_test)\n",
    "\"\"\"\n",
    "\n",
    "tobedownloaded=\"\"\"\n",
    "{numpy.ndarray: {'x_train.csv': 'https://file.io/gFit48qz',\n",
    "  'y_train.csv': 'https://file.io/OYu4Rkm8',\n",
    "  'x_test.csv': 'https://file.io/kliLVJ7u',\n",
    "  'y_test.csv': 'https://file.io/tgWnV75i'}}\n",
    "\"\"\"\n",
    "prefixToc='4.2'\n",
    "prefix = saveFromFileIO(tobedownloaded, prefixToc=prefixToc)\n",
    "\n",
    "#initialisation\n",
    "\n",
    "from downloadfromFileIO import loadNDArrayFromCsv\n",
    "x_train = loadNDArrayFromCsv(prefix+'x_train.csv')\n",
    "y_train = loadNDArrayFromCsv(prefix+'y_train.csv')\n",
    "x_test = loadNDArrayFromCsv(prefix+'x_test.csv')\n",
    "y_test = loadNDArrayFromCsv(prefix+'y_test.csv')"
   ]
  },
  {
   "cell_type": "markdown",
   "metadata": {},
   "source": [
    "### code"
   ]
  },
  {
   "cell_type": "code",
   "execution_count": 28,
   "metadata": {
    "ExecuteTime": {
     "end_time": "2020-04-27T10:51:53.953649Z",
     "start_time": "2020-04-27T10:51:53.950642Z"
    }
   },
   "outputs": [],
   "source": [
    "import joblib\n",
    "from sklearn.linear_model import LinearRegression"
   ]
  },
  {
   "cell_type": "code",
   "execution_count": 29,
   "metadata": {
    "ExecuteTime": {
     "end_time": "2020-04-27T10:51:54.525848Z",
     "start_time": "2020-04-27T10:51:54.395423Z"
    }
   },
   "outputs": [
    {
     "data": {
      "image/png": "[encoded data removed]",
      "text/plain": [
       "<Figure size 432x288 with 1 Axes>"
      ]
     },
     "metadata": {
      "needs_background": "light"
     },
     "output_type": "display_data"
    }
   ],
   "source": [
    "# Train and pickle a linear model\n",
    "joblib.dump(LinearRegression().fit(x_train, y_train), \"linear.pkl\")\n",
    "\n",
    "# Unpickle the linear model\n",
    "linear = joblib.load(\"linear.pkl\")\n",
    "predictions = linear.predict(x_test)\n",
    "plt.scatter(y_test, predictions, edgecolors=(0, 0, 0))\n",
    "min_max = [y_test.min(), y_test.max()]\n",
    "plt.plot(min_max, min_max, \"--\", lw=3)\n",
    "plt.xlabel(\"Measured\")\n",
    "plt.ylabel(\"Predicted\")\n",
    "plt.show()"
   ]
  },
  {
   "cell_type": "code",
   "execution_count": null,
   "metadata": {},
   "outputs": [],
   "source": []
  }
 ],
 "metadata": {
  "kernelspec": {
   "display_name": "Python [conda env:datacamp] *",
   "language": "python",
   "name": "conda-env-datacamp-py"
  },
  "language_info": {
   "codemirror_mode": {
    "name": "ipython",
    "version": 3
   },
   "file_extension": ".py",
   "mimetype": "text/x-python",
   "name": "python",
   "nbconvert_exporter": "python",
   "pygments_lexer": "ipython3",
   "version": "3.7.5"
  },
  "toc": {
   "base_numbering": 1,
   "nav_menu": {},
   "number_sections": true,
   "sideBar": true,
   "skip_h1_title": false,
   "title_cell": "Table of Contents",
   "title_sidebar": "Contents",
   "toc_cell": false,
   "toc_position": {},
   "toc_section_display": true,
   "toc_window_display": true
  },
  "varInspector": {
   "cols": {
    "lenName": 16,
    "lenType": 16,
    "lenVar": 40
   },
   "kernels_config": {
    "python": {
     "delete_cmd_postfix": "",
     "delete_cmd_prefix": "del ",
     "library": "var_list.py",
     "varRefreshCmd": "print(var_dic_list())"
    },
    "r": {
     "delete_cmd_postfix": ") ",
     "delete_cmd_prefix": "rm(",
     "library": "var_list.r",
     "varRefreshCmd": "cat(var_dic_list()) "
    }
   },
   "types_to_exclude": [
    "module",
    "function",
    "builtin_function_or_method",
    "instance",
    "_Feature"
   ],
   "window_display": false
  }
 },
 "nbformat": 4,
 "nbformat_minor": 4
}
