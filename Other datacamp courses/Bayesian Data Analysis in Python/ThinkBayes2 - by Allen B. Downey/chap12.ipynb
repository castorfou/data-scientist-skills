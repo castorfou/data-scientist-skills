{
 "cells": [
  {
   "cell_type": "markdown",
   "metadata": {},
   "source": [
    "# Classification"
   ]
  },
  {
   "cell_type": "markdown",
   "metadata": {
    "tags": []
   },
   "source": [
    "Think Bayes, Second Edition\n",
    "\n",
    "Copyright 2020 Allen B. Downey\n",
    "\n",
    "License: [Attribution-NonCommercial-ShareAlike 4.0 International (CC BY-NC-SA 4.0)](https://creativecommons.org/licenses/by-nc-sa/4.0/)"
   ]
  },
  {
   "cell_type": "code",
   "execution_count": 1,
   "metadata": {
    "execution": {
     "iopub.execute_input": "2021-04-16T19:37:18.288138Z",
     "iopub.status.busy": "2021-04-16T19:37:18.287692Z",
     "iopub.status.idle": "2021-04-16T19:37:18.289835Z",
     "shell.execute_reply": "2021-04-16T19:37:18.289416Z"
    },
    "tags": []
   },
   "outputs": [],
   "source": [
    "# If we're running on Colab, install empiricaldist\n",
    "# https://pypi.org/project/empiricaldist/\n",
    "\n",
    "import sys\n",
    "IN_COLAB = 'google.colab' in sys.modules\n",
    "\n",
    "if IN_COLAB:\n",
    "    !pip install empiricaldist"
   ]
  },
  {
   "cell_type": "code",
   "execution_count": 2,
   "metadata": {
    "execution": {
     "iopub.execute_input": "2021-04-16T19:37:18.293250Z",
     "iopub.status.busy": "2021-04-16T19:37:18.292789Z",
     "iopub.status.idle": "2021-04-16T19:37:18.294513Z",
     "shell.execute_reply": "2021-04-16T19:37:18.294915Z"
    },
    "tags": []
   },
   "outputs": [],
   "source": [
    "# Get utils.py and create directories\n",
    "\n",
    "import os\n",
    "\n",
    "if not os.path.exists('utils.py'):\n",
    "    !wget https://github.com/AllenDowney/ThinkBayes2/raw/master/soln/utils.py"
   ]
  },
  {
   "cell_type": "code",
   "execution_count": 3,
   "metadata": {
    "execution": {
     "iopub.execute_input": "2021-04-16T19:37:18.297920Z",
     "iopub.status.busy": "2021-04-16T19:37:18.297468Z",
     "iopub.status.idle": "2021-04-16T19:37:18.991445Z",
     "shell.execute_reply": "2021-04-16T19:37:18.990956Z"
    },
    "tags": []
   },
   "outputs": [],
   "source": [
    "from utils import set_pyplot_params\n",
    "\n",
    "set_pyplot_params()"
   ]
  },
  {
   "cell_type": "code",
   "execution_count": 4,
   "metadata": {
    "execution": {
     "iopub.execute_input": "2021-04-16T19:37:18.994654Z",
     "iopub.status.busy": "2021-04-16T19:37:18.994183Z",
     "iopub.status.idle": "2021-04-16T19:37:18.995880Z",
     "shell.execute_reply": "2021-04-16T19:37:18.996227Z"
    },
    "tags": []
   },
   "outputs": [],
   "source": [
    "from utils import Or70, Pu50, Gr30\n",
    "\n",
    "color_list3 = [Or70, Pu50, Gr30]"
   ]
  },
  {
   "cell_type": "code",
   "execution_count": 5,
   "metadata": {
    "execution": {
     "iopub.execute_input": "2021-04-16T19:37:19.000543Z",
     "iopub.status.busy": "2021-04-16T19:37:19.000024Z",
     "iopub.status.idle": "2021-04-16T19:37:19.002391Z",
     "shell.execute_reply": "2021-04-16T19:37:19.001974Z"
    },
    "tags": []
   },
   "outputs": [],
   "source": [
    "import matplotlib.pyplot as plt\n",
    "from cycler import cycler\n",
    "\n",
    "marker_cycle = cycler(marker=['s', 'o', '^'])\n",
    "color_cycle = cycler(color=color_list3)\n",
    "line_cycle = cycler(linestyle=['-', '--', ':'])\n",
    "\n",
    "plt.rcParams['axes.prop_cycle'] = (color_cycle + \n",
    "                                   marker_cycle + \n",
    "                                   line_cycle)"
   ]
  },
  {
   "cell_type": "markdown",
   "metadata": {},
   "source": [
    "Classification might be the most well-known application of Bayesian methods, made famous in the 1990s as the basis of the first generation of [spam filters](https://en.wikipedia.org/wiki/Naive_Bayes_spam_filtering).\n",
    "\n",
    "In this chapter, I'll demonstrate Bayesian classification using data collected and made available by Dr. Kristen Gorman at the Palmer Long-Term Ecological Research Station in Antarctica (see Gorman, Williams, and Fraser, [\"Ecological Sexual Dimorphism and Environmental Variability within a Community of Antarctic Penguins (Genus *Pygoscelis*)\"](https://journals.plos.org/plosone/article?id=10.1371/journal.pone.0090081), March 2014).\n",
    "We'll use this data to classify penguins by species."
   ]
  },
  {
   "cell_type": "markdown",
   "metadata": {
    "tags": []
   },
   "source": [
    "The following cell downloads the raw data."
   ]
  },
  {
   "cell_type": "code",
   "execution_count": 6,
   "metadata": {
    "execution": {
     "iopub.execute_input": "2021-04-16T19:37:19.006217Z",
     "iopub.status.busy": "2021-04-16T19:37:19.005694Z",
     "iopub.status.idle": "2021-04-16T19:37:19.007955Z",
     "shell.execute_reply": "2021-04-16T19:37:19.007562Z"
    },
    "tags": []
   },
   "outputs": [],
   "source": [
    "# Load the data files from \n",
    "# https://github.com/allisonhorst/palmerpenguins\n",
    "# With gratitude to Allison Horst (@allison_horst)\n",
    "\n",
    "import os\n",
    "\n",
    "if not os.path.exists('penguins_raw.csv'):\n",
    "    !wget https://github.com/allisonhorst/palmerpenguins/raw/master/inst/extdata/penguins_raw.csv"
   ]
  },
  {
   "cell_type": "markdown",
   "metadata": {},
   "source": [
    "## Penguin Data\n",
    "\n",
    "I'll use Pandas to load the data into a `DataFrame`."
   ]
  },
  {
   "cell_type": "code",
   "execution_count": 7,
   "metadata": {
    "execution": {
     "iopub.execute_input": "2021-04-16T19:37:19.011281Z",
     "iopub.status.busy": "2021-04-16T19:37:19.010728Z",
     "iopub.status.idle": "2021-04-16T19:37:19.044097Z",
     "shell.execute_reply": "2021-04-16T19:37:19.044463Z"
    }
   },
   "outputs": [],
   "source": [
    "import pandas as pd\n",
    "\n",
    "df = pd.read_csv('penguins_raw.csv')\n",
    "df.shape"
   ]
  },
  {
   "cell_type": "markdown",
   "metadata": {},
   "source": [
    "The dataset contains one row for each penguin and one column for each variable."
   ]
  },
  {
   "cell_type": "code",
   "execution_count": 8,
   "metadata": {
    "execution": {
     "iopub.execute_input": "2021-04-16T19:37:19.048415Z",
     "iopub.status.busy": "2021-04-16T19:37:19.047976Z",
     "iopub.status.idle": "2021-04-16T19:37:19.065696Z",
     "shell.execute_reply": "2021-04-16T19:37:19.066074Z"
    },
    "tags": []
   },
   "outputs": [],
   "source": [
    "df.head()"
   ]
  },
  {
   "cell_type": "markdown",
   "metadata": {
    "tags": []
   },
   "source": [
    "For convenience, I'll create a new column called `Species2` that contains a shorter version of the species names."
   ]
  },
  {
   "cell_type": "code",
   "execution_count": 9,
   "metadata": {
    "execution": {
     "iopub.execute_input": "2021-04-16T19:37:19.070492Z",
     "iopub.status.busy": "2021-04-16T19:37:19.070076Z",
     "iopub.status.idle": "2021-04-16T19:37:19.071826Z",
     "shell.execute_reply": "2021-04-16T19:37:19.072191Z"
    },
    "tags": []
   },
   "outputs": [],
   "source": [
    "def shorten(species):\n",
    "    return species.split()[0]\n",
    "\n",
    "df['Species2'] = df['Species'].apply(shorten)"
   ]
  },
  {
   "cell_type": "markdown",
   "metadata": {},
   "source": [
    "Three species of penguins are represented in the dataset:  Adélie, Chinstrap and Gentoo."
   ]
  },
  {
   "cell_type": "markdown",
   "metadata": {
    "tags": []
   },
   "source": [
    "These species are shown in this illustration (by Allison Horst, available under the [CC-BY](https://creativecommons.org/licenses/by/2.0/) license):\n",
    "\n",
    "<img width=\"400\" src=\"https://github.com/AllenDowney/ThinkBayes2/raw/master/soln/images/EaAWkZ0U4AA1CQf.jpeg\" alt=\"Drawing of three penguin species\">"
   ]
  },
  {
   "cell_type": "markdown",
   "metadata": {},
   "source": [
    "The measurements we'll use are:\n",
    "\n",
    "* Body Mass in grams (g).\n",
    "\n",
    "* Flipper Length in millimeters (mm).\n",
    "\n",
    "* Culmen Length in millimeters.  \n",
    "\n",
    "* Culmen Depth in millimeters.\n",
    "\n",
    "If you are not familiar with the word \"culmen\", it refers to the [top margin of the beak](https://en.wikipedia.org/wiki/Bird_measurement#Culmen)."
   ]
  },
  {
   "cell_type": "markdown",
   "metadata": {
    "tags": []
   },
   "source": [
    "The culmen is shown in the following illustration (also by Allison Horst):\n",
    "\n",
    "<img width=\"300\" src=\"https://github.com/AllenDowney/ThinkBayes2/raw/master/soln/images/EaAXQn8U4AAoKUj.jpeg\">"
   ]
  },
  {
   "cell_type": "markdown",
   "metadata": {},
   "source": [
    "These measurements will be most useful for classification if there are substantial differences between species and small variation within species.  To see whether that is true, and to what degree, I'll plot cumulative distribution functions (CDFs) of each measurement for each species. \n",
    "\n",
    "The following function takes the `DataFrame` and a column name.\n",
    "It returns a dictionary that maps from each species name to a `Cdf` of the values in the column named `colname`."
   ]
  },
  {
   "cell_type": "code",
   "execution_count": 10,
   "metadata": {
    "execution": {
     "iopub.execute_input": "2021-04-16T19:37:19.075960Z",
     "iopub.status.busy": "2021-04-16T19:37:19.075536Z",
     "iopub.status.idle": "2021-04-16T19:37:19.077767Z",
     "shell.execute_reply": "2021-04-16T19:37:19.077267Z"
    }
   },
   "outputs": [],
   "source": [
    "def make_cdf_map(df, colname, by='Species2'):\n",
    "    \"\"\"Make a CDF for each species.\"\"\"\n",
    "    cdf_map = {}\n",
    "    grouped = df.groupby(by)[colname]\n",
    "    for species, group in grouped:\n",
    "        cdf_map[species] = Cdf.from_seq(group, name=species)\n",
    "    return cdf_map"
   ]
  },
  {
   "cell_type": "markdown",
   "metadata": {
    "tags": []
   },
   "source": [
    "The following function plots a `Cdf` of the values in the given column for each species: "
   ]
  },
  {
   "cell_type": "code",
   "execution_count": 11,
   "metadata": {
    "execution": {
     "iopub.execute_input": "2021-04-16T19:37:19.081866Z",
     "iopub.status.busy": "2021-04-16T19:37:19.081358Z",
     "iopub.status.idle": "2021-04-16T19:37:19.082993Z",
     "shell.execute_reply": "2021-04-16T19:37:19.083335Z"
    },
    "tags": []
   },
   "outputs": [],
   "source": [
    "from empiricaldist import Cdf\n",
    "from utils import decorate\n",
    "\n",
    "def plot_cdfs(df, colname, by='Species2'):\n",
    "    \"\"\"Make a CDF for each species.\n",
    "    \n",
    "    df: DataFrame\n",
    "    colname: string column name\n",
    "    by: string column name\n",
    "\n",
    "    returns: dictionary from species name to Cdf\n",
    "    \"\"\"\n",
    "    cdf_map = make_cdf_map(df, colname, by)\n",
    "    \n",
    "    for species, cdf in cdf_map.items():\n",
    "        cdf.plot(label=species, marker='')\n",
    "    \n",
    "    decorate(xlabel=colname,\n",
    "             ylabel='CDF')"
   ]
  },
  {
   "cell_type": "markdown",
   "metadata": {},
   "source": [
    "Here's what the distributions look like for culmen length."
   ]
  },
  {
   "cell_type": "code",
   "execution_count": 12,
   "metadata": {
    "execution": {
     "iopub.execute_input": "2021-04-16T19:37:19.088740Z",
     "iopub.status.busy": "2021-04-16T19:37:19.088145Z",
     "iopub.status.idle": "2021-04-16T19:37:19.303168Z",
     "shell.execute_reply": "2021-04-16T19:37:19.302435Z"
    },
    "tags": []
   },
   "outputs": [],
   "source": [
    "colname = 'Culmen Length (mm)'\n",
    "plot_cdfs(df, colname)"
   ]
  },
  {
   "cell_type": "markdown",
   "metadata": {},
   "source": [
    "It looks like we can use culmen length to identify  Adélie penguins, but the distributions for the other two species almost entirely overlap.\n",
    "\n",
    "Here are the distributions for flipper length."
   ]
  },
  {
   "cell_type": "code",
   "execution_count": 13,
   "metadata": {
    "execution": {
     "iopub.execute_input": "2021-04-16T19:37:19.331398Z",
     "iopub.status.busy": "2021-04-16T19:37:19.308397Z",
     "iopub.status.idle": "2021-04-16T19:37:19.517982Z",
     "shell.execute_reply": "2021-04-16T19:37:19.518346Z"
    },
    "tags": []
   },
   "outputs": [],
   "source": [
    "colname = 'Flipper Length (mm)'\n",
    "plot_cdfs(df, colname)"
   ]
  },
  {
   "cell_type": "markdown",
   "metadata": {},
   "source": [
    "Using flipper length, we can distinguish Gentoo penguins from the other two species.  So with just these two features, it seems like we should be able to classify penguins with some accuracy.\n",
    "\n",
    "All of these CDFs show the sigmoid shape characteristic of the normal distribution;  I will take advantage of that observation in the next section."
   ]
  },
  {
   "cell_type": "markdown",
   "metadata": {
    "tags": []
   },
   "source": [
    "Here are the distributions for culmen depth."
   ]
  },
  {
   "cell_type": "code",
   "execution_count": 14,
   "metadata": {
    "execution": {
     "iopub.execute_input": "2021-04-16T19:37:19.524204Z",
     "iopub.status.busy": "2021-04-16T19:37:19.521721Z",
     "iopub.status.idle": "2021-04-16T19:37:19.703780Z",
     "shell.execute_reply": "2021-04-16T19:37:19.703345Z"
    },
    "tags": []
   },
   "outputs": [],
   "source": [
    "colname = 'Culmen Depth (mm)'\n",
    "plot_cdfs(df, colname)"
   ]
  },
  {
   "cell_type": "markdown",
   "metadata": {
    "tags": []
   },
   "source": [
    "And here are the distributions of body mass."
   ]
  },
  {
   "cell_type": "code",
   "execution_count": 15,
   "metadata": {
    "execution": {
     "iopub.execute_input": "2021-04-16T19:37:19.729774Z",
     "iopub.status.busy": "2021-04-16T19:37:19.707634Z",
     "iopub.status.idle": "2021-04-16T19:37:19.907033Z",
     "shell.execute_reply": "2021-04-16T19:37:19.906567Z"
    },
    "tags": []
   },
   "outputs": [],
   "source": [
    "colname = 'Body Mass (g)'\n",
    "plot_cdfs(df, colname)"
   ]
  },
  {
   "cell_type": "markdown",
   "metadata": {
    "tags": []
   },
   "source": [
    "Culmen depth and body mass distinguish Gentoo penguins from the other two species, but these features might not add a lot of additional information, beyond what we get from flipper length and culmen length."
   ]
  },
  {
   "cell_type": "markdown",
   "metadata": {},
   "source": [
    "## Normal Models\n",
    "\n",
    "Let's use these features to classify penguins. We'll proceed in the usual Bayesian way:\n",
    "\n",
    "1. Define a prior distribution with the three possible species and a prior probability for each,\n",
    "\n",
    "2. Compute the likelihood of the data for each hypothetical species, and then\n",
    "\n",
    "3. Compute the posterior probability of each hypothesis.\n",
    "\n",
    "To compute the likelihood of the data under each hypothesis, I'll use the data to estimate the parameters of a normal distribution for each species.\n",
    "\n",
    "The following function takes a `DataFrame` and a column name; it returns a dictionary that maps from each species name to a `norm` object.\n",
    "\n",
    "`norm` is defined in SciPy; it represents a normal distribution with a given mean and standard deviation."
   ]
  },
  {
   "cell_type": "code",
   "execution_count": 16,
   "metadata": {
    "execution": {
     "iopub.execute_input": "2021-04-16T19:37:19.911218Z",
     "iopub.status.busy": "2021-04-16T19:37:19.910745Z",
     "iopub.status.idle": "2021-04-16T19:37:19.912386Z",
     "shell.execute_reply": "2021-04-16T19:37:19.912766Z"
    }
   },
   "outputs": [],
   "source": [
    "from scipy.stats import norm\n",
    "\n",
    "def make_norm_map(df, colname, by='Species2'):\n",
    "    \"\"\"Make a map from species to norm object.\"\"\"\n",
    "    norm_map = {}\n",
    "    grouped = df.groupby(by)[colname]\n",
    "    for species, group in grouped:\n",
    "        mean = group.mean()\n",
    "        std = group.std()\n",
    "        norm_map[species] = norm(mean, std)\n",
    "    return norm_map"
   ]
  },
  {
   "cell_type": "markdown",
   "metadata": {},
   "source": [
    "For example, here's the dictionary of `norm` objects for flipper length:"
   ]
  },
  {
   "cell_type": "code",
   "execution_count": 17,
   "metadata": {
    "execution": {
     "iopub.execute_input": "2021-04-16T19:37:19.918583Z",
     "iopub.status.busy": "2021-04-16T19:37:19.915902Z",
     "iopub.status.idle": "2021-04-16T19:37:19.922654Z",
     "shell.execute_reply": "2021-04-16T19:37:19.923116Z"
    }
   },
   "outputs": [],
   "source": [
    "flipper_map = make_norm_map(df, 'Flipper Length (mm)')\n",
    "flipper_map.keys()"
   ]
  },
  {
   "cell_type": "markdown",
   "metadata": {},
   "source": [
    "Now suppose we measure a penguin and find that its flipper is 193 cm.  What is the probability of that measurement under each hypothesis?\n",
    "\n",
    "The `norm` object provides `pdf`, which computes the probability density function (PDF) of the normal distribution.  We can use it to compute the likelihood of the observed data in a given distribution."
   ]
  },
  {
   "cell_type": "code",
   "execution_count": 18,
   "metadata": {
    "execution": {
     "iopub.execute_input": "2021-04-16T19:37:19.927490Z",
     "iopub.status.busy": "2021-04-16T19:37:19.926925Z",
     "iopub.status.idle": "2021-04-16T19:37:19.929310Z",
     "shell.execute_reply": "2021-04-16T19:37:19.929816Z"
    }
   },
   "outputs": [],
   "source": [
    "data = 193\n",
    "flipper_map['Adelie'].pdf(data)"
   ]
  },
  {
   "cell_type": "markdown",
   "metadata": {},
   "source": [
    "The result is a probability density, so we can't interpret it as a probability.  But it is proportional to the likelihood of the data, so we can use it to update the prior.\n",
    "\n",
    "Here's how we compute the likelihood of the data in each distribution."
   ]
  },
  {
   "cell_type": "code",
   "execution_count": 19,
   "metadata": {
    "execution": {
     "iopub.execute_input": "2021-04-16T19:37:19.934458Z",
     "iopub.status.busy": "2021-04-16T19:37:19.933961Z",
     "iopub.status.idle": "2021-04-16T19:37:19.936520Z",
     "shell.execute_reply": "2021-04-16T19:37:19.936128Z"
    }
   },
   "outputs": [],
   "source": [
    "hypos = flipper_map.keys()\n",
    "likelihood = [flipper_map[hypo].pdf(data) for hypo in hypos]\n",
    "likelihood"
   ]
  },
  {
   "cell_type": "markdown",
   "metadata": {},
   "source": [
    "Now we're ready to do the update."
   ]
  },
  {
   "cell_type": "markdown",
   "metadata": {},
   "source": [
    "## The Update\n",
    "\n",
    "As usual I'll use a `Pmf` to represent the prior distribution.  For simplicity, let's assume that the three species are equally likely."
   ]
  },
  {
   "cell_type": "code",
   "execution_count": 20,
   "metadata": {
    "execution": {
     "iopub.execute_input": "2021-04-16T19:37:19.944063Z",
     "iopub.status.busy": "2021-04-16T19:37:19.943376Z",
     "iopub.status.idle": "2021-04-16T19:37:19.946269Z",
     "shell.execute_reply": "2021-04-16T19:37:19.946617Z"
    }
   },
   "outputs": [],
   "source": [
    "from empiricaldist import Pmf\n",
    "\n",
    "prior = Pmf(1/3, hypos)\n",
    "prior"
   ]
  },
  {
   "cell_type": "markdown",
   "metadata": {},
   "source": [
    "Now we can do the update in the usual way."
   ]
  },
  {
   "cell_type": "code",
   "execution_count": 21,
   "metadata": {
    "execution": {
     "iopub.execute_input": "2021-04-16T19:37:19.953232Z",
     "iopub.status.busy": "2021-04-16T19:37:19.952744Z",
     "iopub.status.idle": "2021-04-16T19:37:19.955194Z",
     "shell.execute_reply": "2021-04-16T19:37:19.955555Z"
    }
   },
   "outputs": [],
   "source": [
    "posterior = prior * likelihood\n",
    "posterior.normalize()\n",
    "posterior"
   ]
  },
  {
   "cell_type": "markdown",
   "metadata": {},
   "source": [
    "A penguin with a 193 mm flipper is unlikely to be a Gentoo, but might be either an Adélie or Chinstrap (assuming that the three species were equally likely before the measurement). \n",
    "\n",
    "The following function encapsulates the steps we just ran.\n",
    "It takes a `Pmf` representing the prior distribution, the observed data, and a map from each hypothesis to the distribution of the feature."
   ]
  },
  {
   "cell_type": "code",
   "execution_count": 22,
   "metadata": {
    "execution": {
     "iopub.execute_input": "2021-04-16T19:37:19.960404Z",
     "iopub.status.busy": "2021-04-16T19:37:19.959801Z",
     "iopub.status.idle": "2021-04-16T19:37:19.962299Z",
     "shell.execute_reply": "2021-04-16T19:37:19.961720Z"
    }
   },
   "outputs": [],
   "source": [
    "def update_penguin(prior, data, norm_map):\n",
    "    \"\"\"Update hypothetical species.\"\"\"\n",
    "    hypos = prior.qs\n",
    "    likelihood = [norm_map[hypo].pdf(data) for hypo in hypos]\n",
    "    posterior = prior * likelihood\n",
    "    posterior.normalize()\n",
    "    return posterior"
   ]
  },
  {
   "cell_type": "markdown",
   "metadata": {},
   "source": [
    "The return value is the posterior distribution.\n",
    "\n",
    "Here's the previous example again, using `update_penguin`:"
   ]
  },
  {
   "cell_type": "code",
   "execution_count": 23,
   "metadata": {
    "execution": {
     "iopub.execute_input": "2021-04-16T19:37:19.970218Z",
     "iopub.status.busy": "2021-04-16T19:37:19.969685Z",
     "iopub.status.idle": "2021-04-16T19:37:19.971927Z",
     "shell.execute_reply": "2021-04-16T19:37:19.972294Z"
    }
   },
   "outputs": [],
   "source": [
    "posterior1 = update_penguin(prior, 193, flipper_map)\n",
    "posterior1"
   ]
  },
  {
   "cell_type": "markdown",
   "metadata": {},
   "source": [
    "As we saw in the CDFs, flipper length does not distinguish strongly between Adélie and Chinstrap penguins.\n",
    "\n",
    "But culmen length *can* make this distinction, so let's use it to do a second round of classification.\n",
    "First we estimate distributions of culmen length for each species like this:"
   ]
  },
  {
   "cell_type": "code",
   "execution_count": 24,
   "metadata": {
    "execution": {
     "iopub.execute_input": "2021-04-16T19:37:19.977739Z",
     "iopub.status.busy": "2021-04-16T19:37:19.976754Z",
     "iopub.status.idle": "2021-04-16T19:37:19.981002Z",
     "shell.execute_reply": "2021-04-16T19:37:19.980505Z"
    }
   },
   "outputs": [],
   "source": [
    "culmen_map = make_norm_map(df, 'Culmen Length (mm)')"
   ]
  },
  {
   "cell_type": "markdown",
   "metadata": {},
   "source": [
    "Now suppose we see a penguin with culmen length 48 mm.\n",
    "We can use this data to update the prior."
   ]
  },
  {
   "cell_type": "code",
   "execution_count": 25,
   "metadata": {
    "execution": {
     "iopub.execute_input": "2021-04-16T19:37:19.988152Z",
     "iopub.status.busy": "2021-04-16T19:37:19.987625Z",
     "iopub.status.idle": "2021-04-16T19:37:19.990363Z",
     "shell.execute_reply": "2021-04-16T19:37:19.989998Z"
    }
   },
   "outputs": [],
   "source": [
    "posterior2 = update_penguin(prior, 48, culmen_map)\n",
    "posterior2"
   ]
  },
  {
   "cell_type": "markdown",
   "metadata": {},
   "source": [
    "A penguin with culmen length 48 mm is about equally likely to be a Chinstrap or Gentoo.\n",
    "\n",
    "Using one feature at a time, we can often rule out one species or another, but we generally can't identify species with confidence.\n",
    "We can do better using multiple features."
   ]
  },
  {
   "cell_type": "markdown",
   "metadata": {},
   "source": [
    "## Naive Bayesian Classification\n",
    "\n",
    "To make it easier to do multiple updates, I'll use the following function, which takes a prior `Pmf`, a sequence of measurements and a corresponding sequence of dictionaries containing estimated distributions."
   ]
  },
  {
   "cell_type": "code",
   "execution_count": 26,
   "metadata": {
    "execution": {
     "iopub.execute_input": "2021-04-16T19:37:19.994218Z",
     "iopub.status.busy": "2021-04-16T19:37:19.993697Z",
     "iopub.status.idle": "2021-04-16T19:37:19.995829Z",
     "shell.execute_reply": "2021-04-16T19:37:19.995463Z"
    }
   },
   "outputs": [],
   "source": [
    "def update_naive(prior, data_seq, norm_maps):\n",
    "    \"\"\"Naive Bayesian classifier\n",
    "    \n",
    "    prior: Pmf\n",
    "    data_seq: sequence of measurements\n",
    "    norm_maps: sequence of maps from species to distribution\n",
    "    \n",
    "    returns: Pmf representing the posterior distribution\n",
    "    \"\"\"\n",
    "    posterior = prior.copy()\n",
    "    for data, norm_map in zip(data_seq, norm_maps):\n",
    "        posterior = update_penguin(posterior, data, norm_map)\n",
    "    return posterior"
   ]
  },
  {
   "cell_type": "markdown",
   "metadata": {},
   "source": [
    "It performs a series of updates, using one variable at a time, and returns the posterior `Pmf`.\n",
    "\n",
    "To test it, I'll use the same features we looked at in the previous section: culmen length and flipper length."
   ]
  },
  {
   "cell_type": "code",
   "execution_count": 27,
   "metadata": {
    "execution": {
     "iopub.execute_input": "2021-04-16T19:37:19.999103Z",
     "iopub.status.busy": "2021-04-16T19:37:19.998544Z",
     "iopub.status.idle": "2021-04-16T19:37:20.000215Z",
     "shell.execute_reply": "2021-04-16T19:37:20.000576Z"
    }
   },
   "outputs": [],
   "source": [
    "colnames = ['Flipper Length (mm)', 'Culmen Length (mm)']\n",
    "norm_maps = [flipper_map, culmen_map]"
   ]
  },
  {
   "cell_type": "markdown",
   "metadata": {},
   "source": [
    "Now suppose we find a penguin with flipper length 193 mm and culmen length 48.\n",
    "Here's the update:"
   ]
  },
  {
   "cell_type": "code",
   "execution_count": 28,
   "metadata": {
    "execution": {
     "iopub.execute_input": "2021-04-16T19:37:20.009075Z",
     "iopub.status.busy": "2021-04-16T19:37:20.008454Z",
     "iopub.status.idle": "2021-04-16T19:37:20.011330Z",
     "shell.execute_reply": "2021-04-16T19:37:20.011754Z"
    }
   },
   "outputs": [],
   "source": [
    "data_seq = 193, 48\n",
    "posterior = update_naive(prior, data_seq, norm_maps)\n",
    "posterior"
   ]
  },
  {
   "cell_type": "markdown",
   "metadata": {},
   "source": [
    "It is almost certain to be a Chinstrap."
   ]
  },
  {
   "cell_type": "code",
   "execution_count": 29,
   "metadata": {
    "execution": {
     "iopub.execute_input": "2021-04-16T19:37:20.015770Z",
     "iopub.status.busy": "2021-04-16T19:37:20.015173Z",
     "iopub.status.idle": "2021-04-16T19:37:20.017887Z",
     "shell.execute_reply": "2021-04-16T19:37:20.018251Z"
    }
   },
   "outputs": [],
   "source": [
    "posterior.max_prob()"
   ]
  },
  {
   "cell_type": "markdown",
   "metadata": {},
   "source": [
    "We can loop through the dataset and classify each penguin with these two features."
   ]
  },
  {
   "cell_type": "code",
   "execution_count": 30,
   "metadata": {
    "execution": {
     "iopub.execute_input": "2021-04-16T19:37:20.023491Z",
     "iopub.status.busy": "2021-04-16T19:37:20.022789Z",
     "iopub.status.idle": "2021-04-16T19:37:20.981981Z",
     "shell.execute_reply": "2021-04-16T19:37:20.981550Z"
    }
   },
   "outputs": [],
   "source": [
    "import numpy as np\n",
    "\n",
    "df['Classification'] = np.nan\n",
    "\n",
    "for i, row in df.iterrows():\n",
    "    data_seq = row[colnames]\n",
    "    posterior = update_naive(prior, data_seq, norm_maps)\n",
    "    df.loc[i, 'Classification'] = posterior.max_prob()"
   ]
  },
  {
   "cell_type": "markdown",
   "metadata": {},
   "source": [
    "This loop adds a column called `Classification` to the `DataFrame`; it contains the species with the maximum posterior probability for each penguin.\n",
    "\n",
    "So let's see how many we got right."
   ]
  },
  {
   "cell_type": "code",
   "execution_count": 31,
   "metadata": {
    "execution": {
     "iopub.execute_input": "2021-04-16T19:37:20.985633Z",
     "iopub.status.busy": "2021-04-16T19:37:20.984867Z",
     "iopub.status.idle": "2021-04-16T19:37:20.987360Z",
     "shell.execute_reply": "2021-04-16T19:37:20.987711Z"
    },
    "tags": []
   },
   "outputs": [],
   "source": [
    "len(df)"
   ]
  },
  {
   "cell_type": "code",
   "execution_count": 32,
   "metadata": {
    "execution": {
     "iopub.execute_input": "2021-04-16T19:37:20.991610Z",
     "iopub.status.busy": "2021-04-16T19:37:20.991151Z",
     "iopub.status.idle": "2021-04-16T19:37:20.993953Z",
     "shell.execute_reply": "2021-04-16T19:37:20.993589Z"
    }
   },
   "outputs": [],
   "source": [
    "valid = df['Classification'].notna()\n",
    "valid.sum()"
   ]
  },
  {
   "cell_type": "code",
   "execution_count": 33,
   "metadata": {
    "execution": {
     "iopub.execute_input": "2021-04-16T19:37:20.998143Z",
     "iopub.status.busy": "2021-04-16T19:37:20.997582Z",
     "iopub.status.idle": "2021-04-16T19:37:20.999968Z",
     "shell.execute_reply": "2021-04-16T19:37:21.000342Z"
    }
   },
   "outputs": [],
   "source": [
    "same = df['Species2'] == df['Classification']\n",
    "same.sum()"
   ]
  },
  {
   "cell_type": "markdown",
   "metadata": {},
   "source": [
    "There are 344 penguins in the dataset, but two of them are missing measurements, so we have 342 valid cases.\n",
    "Of those, 324 are classified correctly, which is almost 95%."
   ]
  },
  {
   "cell_type": "code",
   "execution_count": 34,
   "metadata": {
    "execution": {
     "iopub.execute_input": "2021-04-16T19:37:21.004190Z",
     "iopub.status.busy": "2021-04-16T19:37:21.003664Z",
     "iopub.status.idle": "2021-04-16T19:37:21.006287Z",
     "shell.execute_reply": "2021-04-16T19:37:21.005922Z"
    }
   },
   "outputs": [],
   "source": [
    "same.sum() / valid.sum()"
   ]
  },
  {
   "cell_type": "markdown",
   "metadata": {},
   "source": [
    "The following function encapsulates these steps."
   ]
  },
  {
   "cell_type": "code",
   "execution_count": 35,
   "metadata": {
    "execution": {
     "iopub.execute_input": "2021-04-16T19:37:21.009603Z",
     "iopub.status.busy": "2021-04-16T19:37:21.009164Z",
     "iopub.status.idle": "2021-04-16T19:37:21.010827Z",
     "shell.execute_reply": "2021-04-16T19:37:21.011182Z"
    }
   },
   "outputs": [],
   "source": [
    "def accuracy(df):\n",
    "    \"\"\"Compute the accuracy of classification.\"\"\"\n",
    "    valid = df['Classification'].notna()\n",
    "    same = df['Species2'] == df['Classification']\n",
    "    return same.sum() / valid.sum()"
   ]
  },
  {
   "cell_type": "markdown",
   "metadata": {},
   "source": [
    "The classifier we used in this section is called \"naive\" because it ignores correlations between the features.  To see why that matters, I'll make a less naive classifier: one that takes into account the joint distribution of the features."
   ]
  },
  {
   "cell_type": "markdown",
   "metadata": {},
   "source": [
    "## Joint Distributions\n",
    "\n",
    "I'll start by making a scatter plot of the data."
   ]
  },
  {
   "cell_type": "code",
   "execution_count": 36,
   "metadata": {
    "execution": {
     "iopub.execute_input": "2021-04-16T19:37:21.015102Z",
     "iopub.status.busy": "2021-04-16T19:37:21.014619Z",
     "iopub.status.idle": "2021-04-16T19:37:21.016514Z",
     "shell.execute_reply": "2021-04-16T19:37:21.016973Z"
    }
   },
   "outputs": [],
   "source": [
    "import matplotlib.pyplot as plt\n",
    "\n",
    "def scatterplot(df, var1, var2):\n",
    "    \"\"\"Make a scatter plot.\"\"\"\n",
    "    grouped = df.groupby('Species2')\n",
    "    for species, group in grouped:\n",
    "        plt.plot(group[var1], group[var2],\n",
    "                 label=species, lw=0, alpha=0.3)\n",
    "    \n",
    "    decorate(xlabel=var1, ylabel=var2)"
   ]
  },
  {
   "cell_type": "markdown",
   "metadata": {},
   "source": [
    "Here's a scatter plot of culmen length and flipper length for the three species."
   ]
  },
  {
   "cell_type": "code",
   "execution_count": 37,
   "metadata": {
    "execution": {
     "iopub.execute_input": "2021-04-16T19:37:21.022398Z",
     "iopub.status.busy": "2021-04-16T19:37:21.021391Z",
     "iopub.status.idle": "2021-04-16T19:37:21.203851Z",
     "shell.execute_reply": "2021-04-16T19:37:21.203425Z"
    }
   },
   "outputs": [],
   "source": [
    "var1 = 'Flipper Length (mm)'\n",
    "var2 = 'Culmen Length (mm)'\n",
    "scatterplot(df, var1, var2)"
   ]
  },
  {
   "cell_type": "markdown",
   "metadata": {},
   "source": [
    "Within each species, the joint distribution of these measurements forms an oval shape, at least roughly.  The orientation of the ovals is along a diagonal, which indicates that there is a correlation between culmen length and flipper length.\n",
    "\n",
    "If we ignore these correlations, we are assuming that the features are independent.  To see what that looks like, I'll make a joint distribution for each species assuming independence.\n",
    "\n",
    "The following function makes a discrete `Pmf` that approximates a normal distribution."
   ]
  },
  {
   "cell_type": "code",
   "execution_count": 38,
   "metadata": {
    "execution": {
     "iopub.execute_input": "2021-04-16T19:37:21.208040Z",
     "iopub.status.busy": "2021-04-16T19:37:21.207520Z",
     "iopub.status.idle": "2021-04-16T19:37:21.209803Z",
     "shell.execute_reply": "2021-04-16T19:37:21.209356Z"
    }
   },
   "outputs": [],
   "source": [
    "def make_pmf_norm(dist, sigmas=3, n=101):\n",
    "    \"\"\"Make a Pmf approximation to a normal distribution.\"\"\"\n",
    "    mean, std = dist.mean(), dist.std()\n",
    "    low = mean - sigmas * std\n",
    "    high = mean + sigmas * std\n",
    "    qs = np.linspace(low, high, n)\n",
    "    ps = dist.pdf(qs)\n",
    "    pmf = Pmf(ps, qs)\n",
    "    pmf.normalize()\n",
    "    return pmf"
   ]
  },
  {
   "cell_type": "markdown",
   "metadata": {},
   "source": [
    "We can use it, along with `make_joint`, to make a joint distribution of culmen length and flipper length for each species."
   ]
  },
  {
   "cell_type": "code",
   "execution_count": 39,
   "metadata": {
    "execution": {
     "iopub.execute_input": "2021-04-16T19:37:21.217204Z",
     "iopub.status.busy": "2021-04-16T19:37:21.216308Z",
     "iopub.status.idle": "2021-04-16T19:37:21.224243Z",
     "shell.execute_reply": "2021-04-16T19:37:21.223791Z"
    }
   },
   "outputs": [],
   "source": [
    "from utils import make_joint\n",
    "\n",
    "joint_map = {}\n",
    "for species in hypos:\n",
    "    pmf1 = make_pmf_norm(flipper_map[species])\n",
    "    pmf2 = make_pmf_norm(culmen_map[species])\n",
    "    joint_map[species] = make_joint(pmf1, pmf2)"
   ]
  },
  {
   "cell_type": "markdown",
   "metadata": {},
   "source": [
    "The following figure compares a scatter plot of the data to the contours of the joint distributions, assuming independence."
   ]
  },
  {
   "cell_type": "code",
   "execution_count": 40,
   "metadata": {
    "execution": {
     "iopub.execute_input": "2021-04-16T19:37:21.242009Z",
     "iopub.status.busy": "2021-04-16T19:37:21.238850Z",
     "iopub.status.idle": "2021-04-16T19:37:21.479441Z",
     "shell.execute_reply": "2021-04-16T19:37:21.479791Z"
    }
   },
   "outputs": [],
   "source": [
    "from utils import plot_contour\n",
    "\n",
    "scatterplot(df, var1, var2)\n",
    "for species in hypos:\n",
    "    plot_contour(joint_map[species], alpha=0.5)"
   ]
  },
  {
   "cell_type": "markdown",
   "metadata": {},
   "source": [
    "The contours of a joint normal distribution form ellipses.\n",
    "In this example, because the features are uncorrelated, the ellipses are aligned with the axes.\n",
    "But they are not well aligned with the data.\n",
    "\n",
    "We can make a better model of the data, and use it to compute better likelihoods, with a multivariate normal distribution."
   ]
  },
  {
   "cell_type": "markdown",
   "metadata": {},
   "source": [
    "## Multivariate Normal Distribution\n",
    "\n",
    "As we have seen, a univariate normal distribution is characterized by its mean and standard deviation.\n",
    "\n",
    "A multivariate normal distribution is characterized by the means of the features and the **covariance matrix**, which contains **variances**, which quantify the spread of the features, and the **covariances**, which quantify the relationships among them.\n",
    "\n",
    "We can use the data to estimate the means and covariance matrix for the population of penguins.\n",
    "First I'll select the columns we want."
   ]
  },
  {
   "cell_type": "code",
   "execution_count": 41,
   "metadata": {
    "execution": {
     "iopub.execute_input": "2021-04-16T19:37:21.483823Z",
     "iopub.status.busy": "2021-04-16T19:37:21.483359Z",
     "iopub.status.idle": "2021-04-16T19:37:21.485585Z",
     "shell.execute_reply": "2021-04-16T19:37:21.485083Z"
    }
   },
   "outputs": [],
   "source": [
    "features = df[[var1, var2]]"
   ]
  },
  {
   "cell_type": "markdown",
   "metadata": {},
   "source": [
    "And compute the means."
   ]
  },
  {
   "cell_type": "code",
   "execution_count": 42,
   "metadata": {
    "execution": {
     "iopub.execute_input": "2021-04-16T19:37:21.490474Z",
     "iopub.status.busy": "2021-04-16T19:37:21.489968Z",
     "iopub.status.idle": "2021-04-16T19:37:21.492332Z",
     "shell.execute_reply": "2021-04-16T19:37:21.492765Z"
    }
   },
   "outputs": [],
   "source": [
    "mean = features.mean()\n",
    "mean"
   ]
  },
  {
   "cell_type": "markdown",
   "metadata": {},
   "source": [
    "We can also compute the covariance matrix:"
   ]
  },
  {
   "cell_type": "code",
   "execution_count": 43,
   "metadata": {
    "execution": {
     "iopub.execute_input": "2021-04-16T19:37:21.500963Z",
     "iopub.status.busy": "2021-04-16T19:37:21.500193Z",
     "iopub.status.idle": "2021-04-16T19:37:21.503087Z",
     "shell.execute_reply": "2021-04-16T19:37:21.503533Z"
    }
   },
   "outputs": [],
   "source": [
    "cov = features.cov()\n",
    "cov"
   ]
  },
  {
   "cell_type": "markdown",
   "metadata": {},
   "source": [
    "The result is a `DataFrame` with one row and one column for each feature.  The elements on the diagonal are the variances; the elements off the diagonal are covariances.\n",
    "\n",
    "By themselves, variances and covariances are hard to interpret.  We can use them to compute standard deviations and correlation coefficients, which are easier to interpret, but the details of that calculation are not important right now.\n",
    "\n",
    "Instead, we'll pass the covariance matrix to `multivariate_normal`, which is a SciPy function that creates an object that represents a multivariate normal distribution.\n",
    "\n",
    "As arguments it takes a sequence of means and a covariance matrix: "
   ]
  },
  {
   "cell_type": "code",
   "execution_count": 44,
   "metadata": {
    "execution": {
     "iopub.execute_input": "2021-04-16T19:37:21.510841Z",
     "iopub.status.busy": "2021-04-16T19:37:21.510344Z",
     "iopub.status.idle": "2021-04-16T19:37:21.512378Z",
     "shell.execute_reply": "2021-04-16T19:37:21.511992Z"
    }
   },
   "outputs": [],
   "source": [
    "from scipy.stats import multivariate_normal\n",
    "\n",
    "multinorm = multivariate_normal(mean, cov)"
   ]
  },
  {
   "cell_type": "markdown",
   "metadata": {},
   "source": [
    "The following function makes a `multivariate_normal` object for each species."
   ]
  },
  {
   "cell_type": "code",
   "execution_count": 45,
   "metadata": {
    "execution": {
     "iopub.execute_input": "2021-04-16T19:37:21.516025Z",
     "iopub.status.busy": "2021-04-16T19:37:21.515613Z",
     "iopub.status.idle": "2021-04-16T19:37:21.517669Z",
     "shell.execute_reply": "2021-04-16T19:37:21.517308Z"
    }
   },
   "outputs": [],
   "source": [
    "def make_multinorm_map(df, colnames):\n",
    "    \"\"\"Make a map from each species to a multivariate normal.\"\"\"\n",
    "    multinorm_map = {}\n",
    "    grouped = df.groupby('Species2')\n",
    "    for species, group in grouped:\n",
    "        features = group[colnames]\n",
    "        mean = features.mean()\n",
    "        cov = features.cov()\n",
    "        multinorm_map[species] = multivariate_normal(mean, cov)\n",
    "    return multinorm_map"
   ]
  },
  {
   "cell_type": "markdown",
   "metadata": {},
   "source": [
    "Here's how we make this map for the first two features, flipper length and culmen length."
   ]
  },
  {
   "cell_type": "code",
   "execution_count": 46,
   "metadata": {
    "execution": {
     "iopub.execute_input": "2021-04-16T19:37:21.520704Z",
     "iopub.status.busy": "2021-04-16T19:37:21.520278Z",
     "iopub.status.idle": "2021-04-16T19:37:21.529601Z",
     "shell.execute_reply": "2021-04-16T19:37:21.530111Z"
    }
   },
   "outputs": [],
   "source": [
    "multinorm_map = make_multinorm_map(df, [var1, var2])"
   ]
  },
  {
   "cell_type": "markdown",
   "metadata": {
    "tags": []
   },
   "source": [
    "## Visualizing a Multivariate Normal Distribution\n",
    "\n",
    "This section uses some NumPy magic to generate contour plots for multivariate normal distributions.  If that's interesting for you, great!  Otherwise, feel free to skip to the results.  In the next section we'll do the actual classification, which turns out to be easier than the visualization.\n",
    "\n",
    "I'll start by making a contour map for the distribution of features among Adélie penguins.  \n",
    "Here are the univariate distributions for the two features we'll use and the multivariate distribution we just computed."
   ]
  },
  {
   "cell_type": "code",
   "execution_count": 47,
   "metadata": {
    "execution": {
     "iopub.execute_input": "2021-04-16T19:37:21.534127Z",
     "iopub.status.busy": "2021-04-16T19:37:21.533630Z",
     "iopub.status.idle": "2021-04-16T19:37:21.535670Z",
     "shell.execute_reply": "2021-04-16T19:37:21.535312Z"
    },
    "tags": []
   },
   "outputs": [],
   "source": [
    "norm1 = flipper_map['Adelie']\n",
    "norm2 = culmen_map['Adelie']\n",
    "multinorm = multinorm_map['Adelie']"
   ]
  },
  {
   "cell_type": "markdown",
   "metadata": {
    "tags": []
   },
   "source": [
    "I'll make a discrete `Pmf` approximation for each of the univariate distributions."
   ]
  },
  {
   "cell_type": "code",
   "execution_count": 48,
   "metadata": {
    "execution": {
     "iopub.execute_input": "2021-04-16T19:37:21.540839Z",
     "iopub.status.busy": "2021-04-16T19:37:21.540411Z",
     "iopub.status.idle": "2021-04-16T19:37:21.542132Z",
     "shell.execute_reply": "2021-04-16T19:37:21.542474Z"
    },
    "tags": []
   },
   "outputs": [],
   "source": [
    "pmf1 = make_pmf_norm(norm1)\n",
    "pmf2 = make_pmf_norm(norm2)"
   ]
  },
  {
   "cell_type": "markdown",
   "metadata": {
    "tags": []
   },
   "source": [
    "And use them to make a mesh grid that contains all pairs of values."
   ]
  },
  {
   "cell_type": "code",
   "execution_count": 49,
   "metadata": {
    "execution": {
     "iopub.execute_input": "2021-04-16T19:37:21.545987Z",
     "iopub.status.busy": "2021-04-16T19:37:21.545244Z",
     "iopub.status.idle": "2021-04-16T19:37:21.548896Z",
     "shell.execute_reply": "2021-04-16T19:37:21.549367Z"
    },
    "tags": []
   },
   "outputs": [],
   "source": [
    "X, Y = np.meshgrid(pmf1.qs, pmf2.qs)\n",
    "X.shape"
   ]
  },
  {
   "cell_type": "markdown",
   "metadata": {
    "tags": []
   },
   "source": [
    "The mesh is represented by two arrays: the first contains the quantities from `pmf1` along the `x` axis; the second contains the quantities from `pmf2` along the `y` axis.\n",
    "\n",
    "In order to evaluate the multivariate distribution for each pair of values, we have to \"stack\" the arrays."
   ]
  },
  {
   "cell_type": "code",
   "execution_count": 50,
   "metadata": {
    "execution": {
     "iopub.execute_input": "2021-04-16T19:37:21.553038Z",
     "iopub.status.busy": "2021-04-16T19:37:21.552338Z",
     "iopub.status.idle": "2021-04-16T19:37:21.556566Z",
     "shell.execute_reply": "2021-04-16T19:37:21.557009Z"
    },
    "tags": []
   },
   "outputs": [],
   "source": [
    "pos = np.dstack((X, Y))\n",
    "pos.shape"
   ]
  },
  {
   "cell_type": "markdown",
   "metadata": {
    "tags": []
   },
   "source": [
    "The result is a 3-D array that you can think of as a 2-D array of pairs.  When we pass this array to `multinorm.pdf`, it evaluates the probability density function of the distribution for each pair of values."
   ]
  },
  {
   "cell_type": "code",
   "execution_count": 51,
   "metadata": {
    "execution": {
     "iopub.execute_input": "2021-04-16T19:37:21.560465Z",
     "iopub.status.busy": "2021-04-16T19:37:21.559912Z",
     "iopub.status.idle": "2021-04-16T19:37:21.566335Z",
     "shell.execute_reply": "2021-04-16T19:37:21.565694Z"
    },
    "tags": []
   },
   "outputs": [],
   "source": [
    "densities = multinorm.pdf(pos)\n",
    "densities.shape"
   ]
  },
  {
   "cell_type": "markdown",
   "metadata": {
    "tags": []
   },
   "source": [
    "The result is an array of probability densities.  If we put them in a `DataFrame` and normalize them, the result is a discrete approximation of the joint distribution of the two features."
   ]
  },
  {
   "cell_type": "code",
   "execution_count": 52,
   "metadata": {
    "execution": {
     "iopub.execute_input": "2021-04-16T19:37:21.571487Z",
     "iopub.status.busy": "2021-04-16T19:37:21.571021Z",
     "iopub.status.idle": "2021-04-16T19:37:21.575812Z",
     "shell.execute_reply": "2021-04-16T19:37:21.575460Z"
    },
    "tags": []
   },
   "outputs": [],
   "source": [
    "from utils import normalize\n",
    "\n",
    "joint = pd.DataFrame(densities, columns=pmf1.qs, index=pmf2.qs)\n",
    "normalize(joint)"
   ]
  },
  {
   "cell_type": "markdown",
   "metadata": {
    "tags": []
   },
   "source": [
    "Here's what the result looks like."
   ]
  },
  {
   "cell_type": "code",
   "execution_count": 53,
   "metadata": {
    "execution": {
     "iopub.execute_input": "2021-04-16T19:37:21.593523Z",
     "iopub.status.busy": "2021-04-16T19:37:21.593043Z",
     "iopub.status.idle": "2021-04-16T19:37:21.720706Z",
     "shell.execute_reply": "2021-04-16T19:37:21.721051Z"
    },
    "tags": []
   },
   "outputs": [],
   "source": [
    "plot_contour(joint)\n",
    "decorate(xlabel=var1,\n",
    "         ylabel=var2)"
   ]
  },
  {
   "cell_type": "markdown",
   "metadata": {
    "tags": []
   },
   "source": [
    "The contours of a multivariate normal distribution are still ellipses, but now that we have taken into account the correlation between the features, the ellipses are no longer aligned with the axes.\n",
    "\n",
    "The following function encapsulate the steps we just did."
   ]
  },
  {
   "cell_type": "code",
   "execution_count": 54,
   "metadata": {
    "execution": {
     "iopub.execute_input": "2021-04-16T19:37:21.725452Z",
     "iopub.status.busy": "2021-04-16T19:37:21.725003Z",
     "iopub.status.idle": "2021-04-16T19:37:21.728131Z",
     "shell.execute_reply": "2021-04-16T19:37:21.727783Z"
    },
    "tags": []
   },
   "outputs": [],
   "source": [
    "def make_joint(norm1, norm2, multinorm):\n",
    "    \"\"\"Make a joint distribution.\n",
    "    \n",
    "    norm1: `norm` object representing the distribution of the first feature\n",
    "    norm2: `norm` object representing the distribution of the second feature\n",
    "    multinorm: `multivariate_normal` object representing the joint distribution\n",
    "    \"\"\"\n",
    "    pmf1 = make_pmf_norm(norm1)\n",
    "    pmf2 = make_pmf_norm(norm2)\n",
    "    X, Y = np.meshgrid(pmf1.qs, pmf2.qs)\n",
    "    pos = np.dstack((X, Y))\n",
    "    densities = multinorm.pdf(pos)\n",
    "    joint = pd.DataFrame(densities, columns=pmf1.qs, index=pmf2.qs)\n",
    "    return joint"
   ]
  },
  {
   "cell_type": "markdown",
   "metadata": {},
   "source": [
    "The following figure shows a scatter plot of the data along with the contours of the multivariate normal distribution for each species."
   ]
  },
  {
   "cell_type": "code",
   "execution_count": 55,
   "metadata": {
    "execution": {
     "iopub.execute_input": "2021-04-16T19:37:21.742236Z",
     "iopub.status.busy": "2021-04-16T19:37:21.741830Z",
     "iopub.status.idle": "2021-04-16T19:37:21.959124Z",
     "shell.execute_reply": "2021-04-16T19:37:21.958746Z"
    },
    "tags": []
   },
   "outputs": [],
   "source": [
    "scatterplot(df, var1, var2)\n",
    "\n",
    "for species in hypos:\n",
    "    norm1 = flipper_map[species]\n",
    "    norm2 = culmen_map[species]\n",
    "    multinorm = multinorm_map[species]\n",
    "    joint = make_joint(norm1, norm2, multinorm)\n",
    "    plot_contour(joint, alpha=0.5)"
   ]
  },
  {
   "cell_type": "markdown",
   "metadata": {},
   "source": [
    "Because the multivariate normal distribution takes into account the correlations between features, it is a better model for the data.  And there is less overlap in the contours of the three distributions, which suggests that they should yield better classifications."
   ]
  },
  {
   "cell_type": "markdown",
   "metadata": {},
   "source": [
    "## A Less Naive Classifier\n",
    "\n",
    "In a previous section we used `update_penguin` to update a prior `Pmf` based on observed data and a collection of `norm` objects that model the distribution of observations under each hypothesis.  Here it is again:"
   ]
  },
  {
   "cell_type": "code",
   "execution_count": 56,
   "metadata": {
    "execution": {
     "iopub.execute_input": "2021-04-16T19:37:21.962781Z",
     "iopub.status.busy": "2021-04-16T19:37:21.962359Z",
     "iopub.status.idle": "2021-04-16T19:37:21.964347Z",
     "shell.execute_reply": "2021-04-16T19:37:21.963983Z"
    }
   },
   "outputs": [],
   "source": [
    "def update_penguin(prior, data, norm_map):\n",
    "    \"\"\"Update hypothetical species.\"\"\"\n",
    "    hypos = prior.qs\n",
    "    likelihood = [norm_map[hypo].pdf(data) for hypo in hypos]\n",
    "    posterior = prior * likelihood\n",
    "    posterior.normalize()\n",
    "    return posterior"
   ]
  },
  {
   "cell_type": "markdown",
   "metadata": {},
   "source": [
    "Last time we used this function, the values in `norm_map` were `norm` objects, but it also works if they are `multivariate_normal` objects.\n",
    "\n",
    "We can use it to classify a penguin with flipper length 193 and culmen length 48:"
   ]
  },
  {
   "cell_type": "code",
   "execution_count": 57,
   "metadata": {
    "execution": {
     "iopub.execute_input": "2021-04-16T19:37:21.970821Z",
     "iopub.status.busy": "2021-04-16T19:37:21.970316Z",
     "iopub.status.idle": "2021-04-16T19:37:21.972638Z",
     "shell.execute_reply": "2021-04-16T19:37:21.972985Z"
    }
   },
   "outputs": [],
   "source": [
    "data = 193, 48\n",
    "update_penguin(prior, data, multinorm_map)"
   ]
  },
  {
   "cell_type": "markdown",
   "metadata": {},
   "source": [
    "A penguin with those measurements is almost certainly a Chinstrap.\n",
    "\n",
    "Now let's see if this classifier does any better than the naive Bayesian classifier.\n",
    "I'll apply it to each penguin in the dataset:"
   ]
  },
  {
   "cell_type": "code",
   "execution_count": 58,
   "metadata": {
    "execution": {
     "iopub.execute_input": "2021-04-16T19:37:21.994890Z",
     "iopub.status.busy": "2021-04-16T19:37:21.976850Z",
     "iopub.status.idle": "2021-04-16T19:37:22.492006Z",
     "shell.execute_reply": "2021-04-16T19:37:22.491490Z"
    }
   },
   "outputs": [],
   "source": [
    "df['Classification'] = np.nan\n",
    "\n",
    "for i, row in df.iterrows():\n",
    "    data = row[colnames]\n",
    "    posterior = update_penguin(prior, data, multinorm_map)\n",
    "    df.loc[i, 'Classification'] = posterior.idxmax()"
   ]
  },
  {
   "cell_type": "markdown",
   "metadata": {},
   "source": [
    "And compute the accuracy:"
   ]
  },
  {
   "cell_type": "code",
   "execution_count": 59,
   "metadata": {
    "execution": {
     "iopub.execute_input": "2021-04-16T19:37:22.496290Z",
     "iopub.status.busy": "2021-04-16T19:37:22.495665Z",
     "iopub.status.idle": "2021-04-16T19:37:22.498009Z",
     "shell.execute_reply": "2021-04-16T19:37:22.498355Z"
    }
   },
   "outputs": [],
   "source": [
    "accuracy(df)"
   ]
  },
  {
   "cell_type": "markdown",
   "metadata": {},
   "source": [
    "It turns out to be only a little better: the accuracy is 95.3%, compared to 94.7% for the naive Bayesian classifier."
   ]
  },
  {
   "cell_type": "markdown",
   "metadata": {},
   "source": [
    "## Summary\n",
    "\n",
    "In this chapter, we implemented a naive Bayesian classifier, which is \"naive\" in the sense that it assumes that the features it uses for classification are independent.\n",
    "\n",
    "To see how bad that assumption is, we also implemented a classifier that uses a multivariate normal distribution to model the joint distribution of the features, which includes their dependencies.\n",
    "\n",
    "In this example, the non-naive classifier is only marginally better.\n",
    "In one way, that's disappointing.  After all that work, it would have been nice to see a bigger improvement.\n",
    "But in another way, it's good news.  In general, a naive Bayesian classifier is easier to implement and requires less computation.  If it works nearly as well as a more complex algorithm, it might be a good choice for practical purposes.\n",
    "\n",
    "Speaking of practical purposes, you might have noticed that this example isn't very useful.  If we want to identify the species of a penguin, there are easier ways than measuring its flippers and beak.\n",
    "\n",
    "But there *are* scientific uses for this type of classification.  One of them is the subject of the research paper we started with: [sexual dimorphism](https://en.wikipedia.org/wiki/Sexual_dimorphism), that is, differences in shape between male and female animals.\n",
    "\n",
    "In some species, like angler fish, males and females look very different.  In other species, like mockingbirds, they are difficult to tell apart.\n",
    "And dimorphism is worth studying because it provides insight into social behavior, sexual selection, and evolution. \n",
    "\n",
    "One way to quantify the degree of sexual dimorphism in a species is to use a classification algorithm like the one in this chapter.  If you can find a set of features that makes it possible to classify individuals by sex with high accuracy, that's evidence of high dimorphism.\n",
    "\n",
    "As an exercise, you can use the dataset from this chapter to classify penguins by sex and see which of the three species is the most dimorphic."
   ]
  },
  {
   "cell_type": "markdown",
   "metadata": {},
   "source": [
    "## Exercises"
   ]
  },
  {
   "cell_type": "markdown",
   "metadata": {},
   "source": [
    "**Exercise:**  In my example I used culmen length and flipper length because they seemed to provide the most power to distinguish the three species.  But maybe we can do better by using more features.\n",
    "\n",
    "Make a naive Bayesian classifier that uses all four measurements in the dataset: culmen length and depth, flipper length, and body mass.\n",
    "Is it more accurate than the model with two features?"
   ]
  },
  {
   "cell_type": "code",
   "execution_count": 60,
   "metadata": {
    "execution": {
     "iopub.execute_input": "2021-04-16T19:37:22.510264Z",
     "iopub.status.busy": "2021-04-16T19:37:22.502240Z",
     "iopub.status.idle": "2021-04-16T19:37:22.511818Z",
     "shell.execute_reply": "2021-04-16T19:37:22.512227Z"
    }
   },
   "outputs": [],
   "source": [
    "# Solution goes here"
   ]
  },
  {
   "cell_type": "code",
   "execution_count": 61,
   "metadata": {
    "execution": {
     "iopub.execute_input": "2021-04-16T19:37:22.515369Z",
     "iopub.status.busy": "2021-04-16T19:37:22.514953Z",
     "iopub.status.idle": "2021-04-16T19:37:22.516745Z",
     "shell.execute_reply": "2021-04-16T19:37:22.517113Z"
    }
   },
   "outputs": [],
   "source": [
    "# Solution goes here"
   ]
  },
  {
   "cell_type": "code",
   "execution_count": 62,
   "metadata": {
    "execution": {
     "iopub.execute_input": "2021-04-16T19:37:22.521294Z",
     "iopub.status.busy": "2021-04-16T19:37:22.520797Z",
     "iopub.status.idle": "2021-04-16T19:37:24.132111Z",
     "shell.execute_reply": "2021-04-16T19:37:24.131589Z"
    }
   },
   "outputs": [],
   "source": [
    "# Solution goes here"
   ]
  },
  {
   "cell_type": "markdown",
   "metadata": {},
   "source": [
    "**Exercise:**  One of the reasons the penguin dataset was collected was to quantify sexual dimorphism in different penguin species, that is, physical differences between male and female penguins.  One way to quantify dimorphism is to use measurements to classify penguins by sex.  If a species is more dimorphic, we expect to be able to classify them more accurately.\n",
    "\n",
    "As an exercise, pick a species and use a Bayesian classifier (naive or not) to classify the penguins by sex.  Which features are most useful?  What accuracy can you achieve?"
   ]
  },
  {
   "cell_type": "markdown",
   "metadata": {
    "tags": []
   },
   "source": [
    "Note: One Gentoo penguin has an invalid value for `Sex`.  I used the following code to select one species and filter out invalid data."
   ]
  },
  {
   "cell_type": "code",
   "execution_count": 63,
   "metadata": {
    "execution": {
     "iopub.execute_input": "2021-04-16T19:37:24.136450Z",
     "iopub.status.busy": "2021-04-16T19:37:24.136012Z",
     "iopub.status.idle": "2021-04-16T19:37:24.138313Z",
     "shell.execute_reply": "2021-04-16T19:37:24.137929Z"
    },
    "tags": []
   },
   "outputs": [],
   "source": [
    "gentoo = (df['Species2'] == 'Gentoo')\n",
    "subset = df[gentoo].copy()"
   ]
  },
  {
   "cell_type": "code",
   "execution_count": 64,
   "metadata": {
    "execution": {
     "iopub.execute_input": "2021-04-16T19:37:24.143347Z",
     "iopub.status.busy": "2021-04-16T19:37:24.142770Z",
     "iopub.status.idle": "2021-04-16T19:37:24.145149Z",
     "shell.execute_reply": "2021-04-16T19:37:24.145516Z"
    },
    "tags": []
   },
   "outputs": [],
   "source": [
    "subset['Sex'].value_counts()"
   ]
  },
  {
   "cell_type": "code",
   "execution_count": 65,
   "metadata": {
    "execution": {
     "iopub.execute_input": "2021-04-16T19:37:24.149670Z",
     "iopub.status.busy": "2021-04-16T19:37:24.149059Z",
     "iopub.status.idle": "2021-04-16T19:37:24.151974Z",
     "shell.execute_reply": "2021-04-16T19:37:24.151609Z"
    },
    "tags": []
   },
   "outputs": [],
   "source": [
    "valid = df['Sex'] != '.'\n",
    "valid.sum()"
   ]
  },
  {
   "cell_type": "code",
   "execution_count": 66,
   "metadata": {
    "execution": {
     "iopub.execute_input": "2021-04-16T19:37:24.155918Z",
     "iopub.status.busy": "2021-04-16T19:37:24.155414Z",
     "iopub.status.idle": "2021-04-16T19:37:24.157757Z",
     "shell.execute_reply": "2021-04-16T19:37:24.157299Z"
    },
    "tags": []
   },
   "outputs": [],
   "source": [
    "subset = df[valid & gentoo].copy()"
   ]
  },
  {
   "cell_type": "markdown",
   "metadata": {
    "tags": []
   },
   "source": [
    "OK, you can finish it off from here."
   ]
  },
  {
   "cell_type": "code",
   "execution_count": 67,
   "metadata": {
    "execution": {
     "iopub.execute_input": "2021-04-16T19:37:24.183443Z",
     "iopub.status.busy": "2021-04-16T19:37:24.162804Z",
     "iopub.status.idle": "2021-04-16T19:37:24.350616Z",
     "shell.execute_reply": "2021-04-16T19:37:24.350965Z"
    }
   },
   "outputs": [],
   "source": [
    "# Solution goes here"
   ]
  },
  {
   "cell_type": "code",
   "execution_count": 68,
   "metadata": {
    "execution": {
     "iopub.execute_input": "2021-04-16T19:37:24.380991Z",
     "iopub.status.busy": "2021-04-16T19:37:24.380355Z",
     "iopub.status.idle": "2021-04-16T19:37:24.513043Z",
     "shell.execute_reply": "2021-04-16T19:37:24.512695Z"
    }
   },
   "outputs": [],
   "source": [
    "# Solution goes here"
   ]
  },
  {
   "cell_type": "code",
   "execution_count": 69,
   "metadata": {
    "execution": {
     "iopub.execute_input": "2021-04-16T19:37:24.616223Z",
     "iopub.status.busy": "2021-04-16T19:37:24.593373Z",
     "iopub.status.idle": "2021-04-16T19:37:24.723355Z",
     "shell.execute_reply": "2021-04-16T19:37:24.723837Z"
    }
   },
   "outputs": [],
   "source": [
    "# Solution goes here"
   ]
  },
  {
   "cell_type": "code",
   "execution_count": 70,
   "metadata": {
    "execution": {
     "iopub.execute_input": "2021-04-16T19:37:24.744233Z",
     "iopub.status.busy": "2021-04-16T19:37:24.743536Z",
     "iopub.status.idle": "2021-04-16T19:37:24.870390Z",
     "shell.execute_reply": "2021-04-16T19:37:24.870886Z"
    }
   },
   "outputs": [],
   "source": [
    "# Solution goes here"
   ]
  },
  {
   "cell_type": "code",
   "execution_count": 71,
   "metadata": {
    "execution": {
     "iopub.execute_input": "2021-04-16T19:37:24.884204Z",
     "iopub.status.busy": "2021-04-16T19:37:24.883682Z",
     "iopub.status.idle": "2021-04-16T19:37:24.886012Z",
     "shell.execute_reply": "2021-04-16T19:37:24.885502Z"
    }
   },
   "outputs": [],
   "source": [
    "# Solution goes here"
   ]
  },
  {
   "cell_type": "code",
   "execution_count": 72,
   "metadata": {
    "execution": {
     "iopub.execute_input": "2021-04-16T19:37:24.889220Z",
     "iopub.status.busy": "2021-04-16T19:37:24.888769Z",
     "iopub.status.idle": "2021-04-16T19:37:24.892007Z",
     "shell.execute_reply": "2021-04-16T19:37:24.891596Z"
    }
   },
   "outputs": [],
   "source": [
    "# Solution goes here"
   ]
  },
  {
   "cell_type": "code",
   "execution_count": 73,
   "metadata": {
    "execution": {
     "iopub.execute_input": "2021-04-16T19:37:24.897922Z",
     "iopub.status.busy": "2021-04-16T19:37:24.897502Z",
     "iopub.status.idle": "2021-04-16T19:37:24.901421Z",
     "shell.execute_reply": "2021-04-16T19:37:24.900935Z"
    }
   },
   "outputs": [],
   "source": [
    "# Solution goes here"
   ]
  },
  {
   "cell_type": "code",
   "execution_count": 74,
   "metadata": {
    "execution": {
     "iopub.execute_input": "2021-04-16T19:37:25.474486Z",
     "iopub.status.busy": "2021-04-16T19:37:25.455002Z",
     "iopub.status.idle": "2021-04-16T19:37:25.476802Z",
     "shell.execute_reply": "2021-04-16T19:37:25.476362Z"
    }
   },
   "outputs": [],
   "source": [
    "# Solution goes here"
   ]
  },
  {
   "cell_type": "code",
   "execution_count": 75,
   "metadata": {
    "execution": {
     "iopub.execute_input": "2021-04-16T19:37:25.480415Z",
     "iopub.status.busy": "2021-04-16T19:37:25.479934Z",
     "iopub.status.idle": "2021-04-16T19:37:25.481560Z",
     "shell.execute_reply": "2021-04-16T19:37:25.481900Z"
    }
   },
   "outputs": [],
   "source": [
    "# Solution goes here"
   ]
  },
  {
   "cell_type": "code",
   "execution_count": 76,
   "metadata": {
    "execution": {
     "iopub.execute_input": "2021-04-16T19:37:25.486192Z",
     "iopub.status.busy": "2021-04-16T19:37:25.485498Z",
     "iopub.status.idle": "2021-04-16T19:37:25.488708Z",
     "shell.execute_reply": "2021-04-16T19:37:25.488247Z"
    }
   },
   "outputs": [],
   "source": [
    "# Solution goes here"
   ]
  },
  {
   "cell_type": "code",
   "execution_count": 77,
   "metadata": {
    "execution": {
     "iopub.execute_input": "2021-04-16T19:37:25.494810Z",
     "iopub.status.busy": "2021-04-16T19:37:25.493982Z",
     "iopub.status.idle": "2021-04-16T19:37:25.495920Z",
     "shell.execute_reply": "2021-04-16T19:37:25.496360Z"
    }
   },
   "outputs": [],
   "source": [
    "# Solution goes here"
   ]
  },
  {
   "cell_type": "code",
   "execution_count": 78,
   "metadata": {
    "execution": {
     "iopub.execute_input": "2021-04-16T19:37:25.542917Z",
     "iopub.status.busy": "2021-04-16T19:37:25.511258Z",
     "iopub.status.idle": "2021-04-16T19:37:26.220359Z",
     "shell.execute_reply": "2021-04-16T19:37:26.220725Z"
    }
   },
   "outputs": [],
   "source": [
    "# Solution goes here"
   ]
  },
  {
   "cell_type": "code",
   "execution_count": 79,
   "metadata": {
    "execution": {
     "iopub.execute_input": "2021-04-16T19:37:26.572075Z",
     "iopub.status.busy": "2021-04-16T19:37:26.571436Z",
     "iopub.status.idle": "2021-04-16T19:37:26.575569Z",
     "shell.execute_reply": "2021-04-16T19:37:26.574618Z"
    }
   },
   "outputs": [],
   "source": [
    "# Solution goes here"
   ]
  },
  {
   "cell_type": "code",
   "execution_count": 80,
   "metadata": {
    "execution": {
     "iopub.execute_input": "2021-04-16T19:37:26.581437Z",
     "iopub.status.busy": "2021-04-16T19:37:26.579982Z",
     "iopub.status.idle": "2021-04-16T19:37:26.586297Z",
     "shell.execute_reply": "2021-04-16T19:37:26.585917Z"
    }
   },
   "outputs": [],
   "source": [
    "# Solution goes here"
   ]
  },
  {
   "cell_type": "code",
   "execution_count": null,
   "metadata": {},
   "outputs": [],
   "source": []
  }
 ],
 "metadata": {
  "celltoolbar": "Tags",
  "kernelspec": {
   "display_name": "Python 3",
   "language": "python",
   "name": "python3"
  },
  "language_info": {
   "codemirror_mode": {
    "name": "ipython",
    "version": 3
   },
   "file_extension": ".py",
   "mimetype": "text/x-python",
   "name": "python",
   "nbconvert_exporter": "python",
   "pygments_lexer": "ipython3",
   "version": "3.8.8"
  }
 },
 "nbformat": 4,
 "nbformat_minor": 4
}
